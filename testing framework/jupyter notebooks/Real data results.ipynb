{
 "cells": [
  {
   "cell_type": "markdown",
   "metadata": {},
   "source": [
    "# See how well it did on real data\n",
    "The spectra are real. We have results from `ssv` files from SpectrumMill. We can load this and see if the sequences we identified matches the sequences SpectrumMill identified, plus the hybrid ones"
   ]
  },
  {
   "cell_type": "markdown",
   "metadata": {},
   "source": [
    "## 1. Load the `ssv` file"
   ]
  },
  {
   "cell_type": "code",
   "execution_count": 1,
   "metadata": {},
   "outputs": [],
   "source": [
    "import pandas as pd\n",
    "\n",
    "specmilresultsfile = '/Users/zacharymcgrath/Downloads/NOD2_E3_results.ssv'\n",
    "specmilresults = pd.read_csv(specmilresultsfile, sep=';')\n"
   ]
  },
  {
   "cell_type": "code",
   "execution_count": 3,
   "metadata": {},
   "outputs": [
    {
     "data": {
      "text/html": [
       "<div>\n",
       "<style scoped>\n",
       "    .dataframe tbody tr th:only-of-type {\n",
       "        vertical-align: middle;\n",
       "    }\n",
       "\n",
       "    .dataframe tbody tr th {\n",
       "        vertical-align: top;\n",
       "    }\n",
       "\n",
       "    .dataframe thead th {\n",
       "        text-align: right;\n",
       "    }\n",
       "</style>\n",
       "<table border=\"1\" class=\"dataframe\">\n",
       "  <thead>\n",
       "    <tr style=\"text-align: right;\">\n",
       "      <th></th>\n",
       "      <th>number</th>\n",
       "      <th>filename</th>\n",
       "      <th>parent_charge</th>\n",
       "      <th>score</th>\n",
       "      <th>deltaForwardReverseScore</th>\n",
       "      <th>deltaRank1Rank2Score</th>\n",
       "      <th>percent_scored_peak_intensity</th>\n",
       "      <th>totalIntensity</th>\n",
       "      <th>previous_aa</th>\n",
       "      <th>sequence</th>\n",
       "      <th>next_aa</th>\n",
       "      <th>retentionTimeMin</th>\n",
       "      <th>chromatographicPeakWidthSec</th>\n",
       "      <th>parent_m_over_z</th>\n",
       "      <th>species</th>\n",
       "      <th>entry_name</th>\n",
       "    </tr>\n",
       "  </thead>\n",
       "  <tbody>\n",
       "    <tr>\n",
       "      <td>1056</td>\n",
       "      <td>1057</td>\n",
       "      <td>NOD2_E3.13697.13697.2</td>\n",
       "      <td>2</td>\n",
       "      <td>10.96</td>\n",
       "      <td>0.66</td>\n",
       "      <td>4.56</td>\n",
       "      <td>81.8</td>\n",
       "      <td>262000.0</td>\n",
       "      <td>(K)</td>\n",
       "      <td>EEILKAFKLF</td>\n",
       "      <td>(D)</td>\n",
       "      <td>49.13</td>\n",
       "      <td>11.0</td>\n",
       "      <td>619.3624</td>\n",
       "      <td>MOUSE</td>\n",
       "      <td>Centrin-2</td>\n",
       "    </tr>\n",
       "  </tbody>\n",
       "</table>\n",
       "</div>"
      ],
      "text/plain": [
       "      number               filename  parent_charge  score  \\\n",
       "1056    1057  NOD2_E3.13697.13697.2              2  10.96   \n",
       "\n",
       "      deltaForwardReverseScore  deltaRank1Rank2Score  \\\n",
       "1056                      0.66                  4.56   \n",
       "\n",
       "      percent_scored_peak_intensity  totalIntensity previous_aa    sequence  \\\n",
       "1056                           81.8        262000.0         (K)  EEILKAFKLF   \n",
       "\n",
       "     next_aa  retentionTimeMin  chromatographicPeakWidthSec  parent_m_over_z  \\\n",
       "1056     (D)             49.13                         11.0         619.3624   \n",
       "\n",
       "     species entry_name  \n",
       "1056   MOUSE  Centrin-2  "
      ]
     },
     "execution_count": 3,
     "metadata": {},
     "output_type": "execute_result"
    }
   ],
   "source": [
    "specmilresults.loc[specmilresults['filename'] == 'NOD2_E3.13697.13697.2']"
   ]
  },
  {
   "cell_type": "markdown",
   "metadata": {},
   "source": [
    "## 2. Load the results from hypedsearch"
   ]
  },
  {
   "cell_type": "code",
   "execution_count": 3,
   "metadata": {},
   "outputs": [],
   "source": [
    "nonhybridresultsfile = '/Users/zacharymcgrath/Desktop/Experiment output/filtered_NOD2_E3/summary.tsv'\n",
    "hybridresultsfile = '/Users/zacharymcgrath/Desktop/Experiment output/filtered_NOD2_E3/hybrid_summary.tsv'\n",
    "\n",
    "nonhybridresults = pd.read_csv(nonhybridresultsfile, sep='\\t')\n",
    "hybridresults = pd.read_csv(hybridresultsfile, sep='\\t')\n"
   ]
  },
  {
   "cell_type": "code",
   "execution_count": 4,
   "metadata": {},
   "outputs": [
    {
     "data": {
      "text/html": [
       "<div>\n",
       "<style scoped>\n",
       "    .dataframe tbody tr th:only-of-type {\n",
       "        vertical-align: middle;\n",
       "    }\n",
       "\n",
       "    .dataframe tbody tr th {\n",
       "        vertical-align: top;\n",
       "    }\n",
       "\n",
       "    .dataframe thead th {\n",
       "        text-align: right;\n",
       "    }\n",
       "</style>\n",
       "<table border=\"1\" class=\"dataframe\">\n",
       "  <thead>\n",
       "    <tr style=\"text-align: right;\">\n",
       "      <th></th>\n",
       "      <th>Unnamed: 0</th>\n",
       "      <th>proteins</th>\n",
       "      <th>sequence</th>\n",
       "      <th>b_score</th>\n",
       "      <th>y_score</th>\n",
       "      <th>total_score</th>\n",
       "      <th>precursor_distance</th>\n",
       "      <th>entry name</th>\n",
       "      <th>id</th>\n",
       "    </tr>\n",
       "  </thead>\n",
       "  <tbody>\n",
       "    <tr>\n",
       "      <td>0</td>\n",
       "      <td>0</td>\n",
       "      <td>['INS2_MOUSE Insulin-2', 'INS1_MOUSE Insulin-1']</td>\n",
       "      <td>DLQTLALEVA</td>\n",
       "      <td>78</td>\n",
       "      <td>33</td>\n",
       "      <td>91</td>\n",
       "      <td>0.797872</td>\n",
       "      <td>/Users/zacharymcgrath/Desktop/nod2 data/filter...</td>\n",
       "      <td>NOD2_E3.18005.18246.2.pkl</td>\n",
       "    </tr>\n",
       "    <tr>\n",
       "      <td>1</td>\n",
       "      <td>1</td>\n",
       "      <td>['INS2_MOUSE Insulin-2', 'INS1_MOUSE Insulin-1']</td>\n",
       "      <td>DLQTLALE</td>\n",
       "      <td>71</td>\n",
       "      <td>42</td>\n",
       "      <td>87</td>\n",
       "      <td>0.745108</td>\n",
       "      <td>/Users/zacharymcgrath/Desktop/nod2 data/filter...</td>\n",
       "      <td>NOD2_E3.13729.13828.2.pkl</td>\n",
       "    </tr>\n",
       "    <tr>\n",
       "      <td>2</td>\n",
       "      <td>2</td>\n",
       "      <td>['INS2_MOUSE Insulin-2', 'INS1_MOUSE Insulin-1']</td>\n",
       "      <td>DLQTLAL</td>\n",
       "      <td>84</td>\n",
       "      <td>50</td>\n",
       "      <td>87</td>\n",
       "      <td>0.223812</td>\n",
       "      <td>/Users/zacharymcgrath/Desktop/nod2 data/filter...</td>\n",
       "      <td>NOD2_E3.15226.15503.2.pkl</td>\n",
       "    </tr>\n",
       "    <tr>\n",
       "      <td>3</td>\n",
       "      <td>3</td>\n",
       "      <td>['CO3_MOUSE Complement C3']</td>\n",
       "      <td>ELTNIELL</td>\n",
       "      <td>85</td>\n",
       "      <td>14</td>\n",
       "      <td>100</td>\n",
       "      <td>0.231417</td>\n",
       "      <td>/Users/zacharymcgrath/Desktop/nod2 data/filter...</td>\n",
       "      <td>NOD2_E3.11427.11516.2.pkl</td>\n",
       "    </tr>\n",
       "    <tr>\n",
       "      <td>4</td>\n",
       "      <td>4</td>\n",
       "      <td>['PRDX6_MOUSE Peroxiredoxin-6']</td>\n",
       "      <td>DEILRVV</td>\n",
       "      <td>66</td>\n",
       "      <td>83</td>\n",
       "      <td>87</td>\n",
       "      <td>0.250360</td>\n",
       "      <td>/Users/zacharymcgrath/Desktop/nod2 data/filter...</td>\n",
       "      <td>NOD2_E3.9519.9560.2.pkl</td>\n",
       "    </tr>\n",
       "    <tr>\n",
       "      <td>5</td>\n",
       "      <td>5</td>\n",
       "      <td>['PRDX6_MOUSE Peroxiredoxin-6']</td>\n",
       "      <td>DSLQLTGTKPVATPV</td>\n",
       "      <td>65</td>\n",
       "      <td>42</td>\n",
       "      <td>83</td>\n",
       "      <td>0.924864</td>\n",
       "      <td>/Users/zacharymcgrath/Desktop/nod2 data/filter...</td>\n",
       "      <td>NOD2_E3.10121.10155.2.pkl</td>\n",
       "    </tr>\n",
       "    <tr>\n",
       "      <td>6</td>\n",
       "      <td>6</td>\n",
       "      <td>['PRDX1_MOUSE Peroxiredoxin-1']</td>\n",
       "      <td>ISLSEYK</td>\n",
       "      <td>50</td>\n",
       "      <td>0</td>\n",
       "      <td>50</td>\n",
       "      <td>0.770911</td>\n",
       "      <td>/Users/zacharymcgrath/Desktop/nod2 data/filter...</td>\n",
       "      <td>NOD2_E3.5978.6049.2.pkl</td>\n",
       "    </tr>\n",
       "    <tr>\n",
       "      <td>7</td>\n",
       "      <td>7</td>\n",
       "      <td>['ANXA5_MOUSE Annexin A5']</td>\n",
       "      <td>FEKLIVA</td>\n",
       "      <td>34</td>\n",
       "      <td>0</td>\n",
       "      <td>34</td>\n",
       "      <td>0.747628</td>\n",
       "      <td>/Users/zacharymcgrath/Desktop/nod2 data/filter...</td>\n",
       "      <td>NOD2_E3.4632.4632.3.pkl</td>\n",
       "    </tr>\n",
       "    <tr>\n",
       "      <td>8</td>\n",
       "      <td>8</td>\n",
       "      <td>['EF1B_MOUSE Elongation factor 1-beta']</td>\n",
       "      <td>DLKTPAGLQVLN</td>\n",
       "      <td>84</td>\n",
       "      <td>63</td>\n",
       "      <td>91</td>\n",
       "      <td>0.864078</td>\n",
       "      <td>/Users/zacharymcgrath/Desktop/nod2 data/filter...</td>\n",
       "      <td>NOD2_E3.11316.11435.2.pkl</td>\n",
       "    </tr>\n",
       "    <tr>\n",
       "      <td>9</td>\n",
       "      <td>9</td>\n",
       "      <td>['EF1B_MOUSE Elongation factor 1-beta']</td>\n",
       "      <td>DMLEEQITAFE</td>\n",
       "      <td>80</td>\n",
       "      <td>50</td>\n",
       "      <td>94</td>\n",
       "      <td>0.300119</td>\n",
       "      <td>/Users/zacharymcgrath/Desktop/nod2 data/filter...</td>\n",
       "      <td>NOD2_E3.17615.17744.2.pkl</td>\n",
       "    </tr>\n",
       "  </tbody>\n",
       "</table>\n",
       "</div>"
      ],
      "text/plain": [
       "   Unnamed: 0                                          proteins  \\\n",
       "0           0  ['INS2_MOUSE Insulin-2', 'INS1_MOUSE Insulin-1']   \n",
       "1           1  ['INS2_MOUSE Insulin-2', 'INS1_MOUSE Insulin-1']   \n",
       "2           2  ['INS2_MOUSE Insulin-2', 'INS1_MOUSE Insulin-1']   \n",
       "3           3                       ['CO3_MOUSE Complement C3']   \n",
       "4           4                   ['PRDX6_MOUSE Peroxiredoxin-6']   \n",
       "5           5                   ['PRDX6_MOUSE Peroxiredoxin-6']   \n",
       "6           6                   ['PRDX1_MOUSE Peroxiredoxin-1']   \n",
       "7           7                        ['ANXA5_MOUSE Annexin A5']   \n",
       "8           8           ['EF1B_MOUSE Elongation factor 1-beta']   \n",
       "9           9           ['EF1B_MOUSE Elongation factor 1-beta']   \n",
       "\n",
       "          sequence  b_score  y_score  total_score  precursor_distance  \\\n",
       "0       DLQTLALEVA       78       33           91            0.797872   \n",
       "1         DLQTLALE       71       42           87            0.745108   \n",
       "2          DLQTLAL       84       50           87            0.223812   \n",
       "3         ELTNIELL       85       14          100            0.231417   \n",
       "4          DEILRVV       66       83           87            0.250360   \n",
       "5  DSLQLTGTKPVATPV       65       42           83            0.924864   \n",
       "6          ISLSEYK       50        0           50            0.770911   \n",
       "7          FEKLIVA       34        0           34            0.747628   \n",
       "8     DLKTPAGLQVLN       84       63           91            0.864078   \n",
       "9      DMLEEQITAFE       80       50           94            0.300119   \n",
       "\n",
       "                                          entry name  \\\n",
       "0  /Users/zacharymcgrath/Desktop/nod2 data/filter...   \n",
       "1  /Users/zacharymcgrath/Desktop/nod2 data/filter...   \n",
       "2  /Users/zacharymcgrath/Desktop/nod2 data/filter...   \n",
       "3  /Users/zacharymcgrath/Desktop/nod2 data/filter...   \n",
       "4  /Users/zacharymcgrath/Desktop/nod2 data/filter...   \n",
       "5  /Users/zacharymcgrath/Desktop/nod2 data/filter...   \n",
       "6  /Users/zacharymcgrath/Desktop/nod2 data/filter...   \n",
       "7  /Users/zacharymcgrath/Desktop/nod2 data/filter...   \n",
       "8  /Users/zacharymcgrath/Desktop/nod2 data/filter...   \n",
       "9  /Users/zacharymcgrath/Desktop/nod2 data/filter...   \n",
       "\n",
       "                          id  \n",
       "0  NOD2_E3.18005.18246.2.pkl  \n",
       "1  NOD2_E3.13729.13828.2.pkl  \n",
       "2  NOD2_E3.15226.15503.2.pkl  \n",
       "3  NOD2_E3.11427.11516.2.pkl  \n",
       "4    NOD2_E3.9519.9560.2.pkl  \n",
       "5  NOD2_E3.10121.10155.2.pkl  \n",
       "6    NOD2_E3.5978.6049.2.pkl  \n",
       "7    NOD2_E3.4632.4632.3.pkl  \n",
       "8  NOD2_E3.11316.11435.2.pkl  \n",
       "9  NOD2_E3.17615.17744.2.pkl  "
      ]
     },
     "execution_count": 4,
     "metadata": {},
     "output_type": "execute_result"
    }
   ],
   "source": [
    "nonhybridresults.head(10)"
   ]
  },
  {
   "cell_type": "code",
   "execution_count": 5,
   "metadata": {},
   "outputs": [
    {
     "data": {
      "text/html": [
       "<div>\n",
       "<style scoped>\n",
       "    .dataframe tbody tr th:only-of-type {\n",
       "        vertical-align: middle;\n",
       "    }\n",
       "\n",
       "    .dataframe tbody tr th {\n",
       "        vertical-align: top;\n",
       "    }\n",
       "\n",
       "    .dataframe thead th {\n",
       "        text-align: right;\n",
       "    }\n",
       "</style>\n",
       "<table border=\"1\" class=\"dataframe\">\n",
       "  <thead>\n",
       "    <tr style=\"text-align: right;\">\n",
       "      <th></th>\n",
       "      <th>Unnamed: 0</th>\n",
       "      <th>left_proteins</th>\n",
       "      <th>right_proteins</th>\n",
       "      <th>sequence</th>\n",
       "      <th>hybrid_sequence</th>\n",
       "      <th>b_score</th>\n",
       "      <th>y_score</th>\n",
       "      <th>total_score</th>\n",
       "      <th>precursor_distance</th>\n",
       "      <th>entry name</th>\n",
       "      <th>id</th>\n",
       "    </tr>\n",
       "  </thead>\n",
       "  <tbody>\n",
       "    <tr>\n",
       "      <td>0</td>\n",
       "      <td>0</td>\n",
       "      <td>['T22D1_MOUSE TSC22 domain family protein 1']</td>\n",
       "      <td>['KAT6A_MOUSE Histone acetyltransferase KAT6A']</td>\n",
       "      <td>QPSVSSYNVS</td>\n",
       "      <td>QPSVSS-YNVS</td>\n",
       "      <td>33</td>\n",
       "      <td>22</td>\n",
       "      <td>55</td>\n",
       "      <td>0.746177</td>\n",
       "      <td>/Users/zacharymcgrath/Desktop/nod2 data/filter...</td>\n",
       "      <td>NOD2_E3.13446.13477.2.pkl</td>\n",
       "    </tr>\n",
       "    <tr>\n",
       "      <td>1</td>\n",
       "      <td>1</td>\n",
       "      <td>['NCPR_MOUSE NADPH--cytochrome P450 reductase']</td>\n",
       "      <td>['TRNK1_MOUSE TPR and ankyrin repeat-containin...</td>\n",
       "      <td>ALTQLIDLN</td>\n",
       "      <td>ALTQL-IDLN</td>\n",
       "      <td>75</td>\n",
       "      <td>0</td>\n",
       "      <td>75</td>\n",
       "      <td>0.787307</td>\n",
       "      <td>/Users/zacharymcgrath/Desktop/nod2 data/filter...</td>\n",
       "      <td>NOD2_E3.21510.21510.2.pkl</td>\n",
       "    </tr>\n",
       "  </tbody>\n",
       "</table>\n",
       "</div>"
      ],
      "text/plain": [
       "   Unnamed: 0                                    left_proteins  \\\n",
       "0           0    ['T22D1_MOUSE TSC22 domain family protein 1']   \n",
       "1           1  ['NCPR_MOUSE NADPH--cytochrome P450 reductase']   \n",
       "\n",
       "                                      right_proteins    sequence  \\\n",
       "0    ['KAT6A_MOUSE Histone acetyltransferase KAT6A']  QPSVSSYNVS   \n",
       "1  ['TRNK1_MOUSE TPR and ankyrin repeat-containin...   ALTQLIDLN   \n",
       "\n",
       "  hybrid_sequence  b_score  y_score  total_score  precursor_distance  \\\n",
       "0     QPSVSS-YNVS       33       22           55            0.746177   \n",
       "1      ALTQL-IDLN       75        0           75            0.787307   \n",
       "\n",
       "                                          entry name  \\\n",
       "0  /Users/zacharymcgrath/Desktop/nod2 data/filter...   \n",
       "1  /Users/zacharymcgrath/Desktop/nod2 data/filter...   \n",
       "\n",
       "                          id  \n",
       "0  NOD2_E3.13446.13477.2.pkl  \n",
       "1  NOD2_E3.21510.21510.2.pkl  "
      ]
     },
     "execution_count": 5,
     "metadata": {},
     "output_type": "execute_result"
    }
   ],
   "source": [
    "hybridresults.head(2)"
   ]
  },
  {
   "cell_type": "code",
   "execution_count": 6,
   "metadata": {},
   "outputs": [],
   "source": [
    "specmillist = list(specmilresults['sequence'])\n",
    "nhlist = list(nonhybridresults['sequence'])\n",
    "hlist = list(hybridresults['sequence'])"
   ]
  },
  {
   "cell_type": "code",
   "execution_count": 7,
   "metadata": {},
   "outputs": [
    {
     "name": "stdout",
     "output_type": "stream",
     "text": [
      "269\n",
      "2\n"
     ]
    }
   ],
   "source": [
    "print(len([x for x in nhlist if x in specmillist]))\n",
    "print(len([x for x in hlist if x in specmillist]))"
   ]
  },
  {
   "cell_type": "code",
   "execution_count": 9,
   "metadata": {},
   "outputs": [
    {
     "name": "stdout",
     "output_type": "stream",
     "text": [
      "140\n"
     ]
    }
   ],
   "source": [
    "missed = [x for x in nhlist if x not in specmillist]\n",
    "print(len(missed))"
   ]
  },
  {
   "cell_type": "code",
   "execution_count": 10,
   "metadata": {},
   "outputs": [
    {
     "name": "stdout",
     "output_type": "stream",
     "text": [
      "['ELTNIELL', 'ISLSEYK', 'FEKLIVA', 'KGGNEESTKTGNA', 'SYTMLFD', 'PQDRTSHL', 'ENCIKAF', 'YCHRQK', 'TTCKAHDVCL', 'ELLQSFQ', 'KQLAQI', 'FKHQLSGNSPAGT', 'HMKKCGWFH', 'SSRIDDLEK', 'YGEKRPVD', 'RERDTSPNG', 'LKDGPLYR', 'YMVEWYT', 'SLHKFSY', 'KEAINTSK', 'KQDFSLSI', 'VEYLVTGTH', 'KAYREK', 'EPIPICSF', 'ILEEGKEILVG', 'LASRRE', 'RSPYLF', 'EKILKEQ', 'HWIMDIPF', 'KDLKDYFSKF', 'VIEKLRE', 'PEFQKS', 'HDLLL', 'YPHITNLTTLGQ', 'TTVTTVQSRPRV', 'DPGFVCSKIG', 'QLESNKIPEV', 'VILSGVVPG', 'APDLGFLRK', 'KYPSKKE', 'ERSGIPI', 'PVDWKKGE', 'DFVMKQALGGA', 'VSSSSSHR', 'WSLGNAY', 'HVQVTEVNSP', 'SALKSALC', 'AADLGLKRG', 'IHQSLAG', 'HAHLTDTEIMT', 'RFVLVHP', 'GIPHTQRLQ', 'DSKSTW', 'IERPIRG', 'NYEALKDF', 'KKALEELATK', 'AKYFLAEL', 'HLGWVRCIA', 'THPIRLG', 'TLRWEPP', 'SAKQFLLAAEA', 'RIMEKADSNKT', 'SEEKALHR', 'SKEQYQQQ', 'KETSSVEFA', 'GFWRK', 'KEIVKY', 'KKISLPGQMTG', 'SLVTSKL', 'NTKPYKHR', 'TDGDRAF', 'SLTVRAK', 'TSVLRVVAQDP', 'NPKTFF', 'HQSHEEREHA', 'INVKW', 'MVWQNTET', 'ENFPLFVTSK', 'SALRSL', 'KVNLFRK', 'EDDKSLSKE', 'GVDCEWVI', 'YSKYIN', 'AAPQVQADGKPDIP', 'KKDESVA', 'STEDINKRLS', 'KDQESSSL', 'NRDGFIDKEDLR', 'GSTGLLMDLA', 'SRLRM', 'TPRQLFHTA', 'YLHTVIP', 'TTKTYFPHFDV', 'EERQEALRQAE', 'LLSFATFSWLTPV', 'DLRLENVQKFPS', 'IPMYSIITP', 'DLVIVDS', 'DLLLRY', 'WALGFYPA', 'IRKDLFAN', 'IGRTMVVH', 'YLKLLS', 'SLNWLQQ', 'KVVEKSEK', 'TFYTALTRL', 'QELDFVSH', 'KKYNPTWH', 'SLMDTRLPH', 'FLTVQVKG', 'KIFAHY', 'TPPREL', 'EQGHMAL', 'AAILKKVI', 'SLAKLQQLT', 'KAAVSCLW', 'QIFVTK', 'TIFAYFSGSK', 'DTVIKYL', 'SVVSTI', 'TVISNWIKYA', 'LMNRFSK', 'EKLFQS', 'VPEPKII', 'LIQGKDLLT', 'KLDPGKP', 'SSWAYWFVPIV', 'HFWEFL', 'LDWNLLK', 'ALKAFQQH', 'RNADDW', 'FMLRD', 'PQNATDSYP', 'PTRPAPP', 'YHLTVDRPV', 'LTLFFMVQ', 'TCHNIIDNCKLV', 'IDDLNEI', 'KSPPSYIT', 'ASLDKFL']\n"
     ]
    }
   ],
   "source": [
    "print(missed)"
   ]
  },
  {
   "cell_type": "code",
   "execution_count": 11,
   "metadata": {},
   "outputs": [
    {
     "data": {
      "text/plain": [
       "True"
      ]
     },
     "execution_count": 11,
     "metadata": {},
     "output_type": "execute_result"
    }
   ],
   "source": [
    "'FEKLIVA' in missed"
   ]
  },
  {
   "cell_type": "code",
   "execution_count": 12,
   "metadata": {},
   "outputs": [
    {
     "name": "stdout",
     "output_type": "stream",
     "text": [
      "1086\n"
     ]
    }
   ],
   "source": [
    "print(len(specmillist))"
   ]
  },
  {
   "cell_type": "code",
   "execution_count": null,
   "metadata": {},
   "outputs": [],
   "source": []
  }
 ],
 "metadata": {
  "kernelspec": {
   "display_name": "Python 3",
   "language": "python",
   "name": "python3"
  },
  "language_info": {
   "codemirror_mode": {
    "name": "ipython",
    "version": 3
   },
   "file_extension": ".py",
   "mimetype": "text/x-python",
   "name": "python",
   "nbconvert_exporter": "python",
   "pygments_lexer": "ipython3",
   "version": "3.7.4"
  }
 },
 "nbformat": 4,
 "nbformat_minor": 4
}

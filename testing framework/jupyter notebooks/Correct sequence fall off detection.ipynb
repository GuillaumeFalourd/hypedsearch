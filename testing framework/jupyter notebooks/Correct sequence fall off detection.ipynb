{
 "cells": [
  {
   "cell_type": "markdown",
   "metadata": {},
   "source": [
    "## Imports"
   ]
  },
  {
   "cell_type": "code",
   "execution_count": 1,
   "metadata": {},
   "outputs": [],
   "source": [
    "import pandas as pd\n",
    "import matplotlib.pyplot as plt\n",
    "import json\n",
    "\n",
    "from collections import defaultdict\n",
    "\n",
    "import os\n",
    "import sys\n",
    "module_path = os.path.abspath(os.path.join('..'))\n",
    "if module_path not in sys.path:\n",
    "    sys.path.append(module_path)\n",
    "module_path = os.path.abspath(os.path.join('../..'))\n",
    "if module_path not in sys.path:\n",
    "    sys.path.append(module_path)\n",
    "    \n",
    "from src import runner"
   ]
  },
  {
   "cell_type": "markdown",
   "metadata": {},
   "source": [
    "# Correct sequence fall off detection\n",
    "We have a property in the program that lets us pass in a \"truth\" set. This truth set we will pull from Delong lab and will primarily be used for debugging our hybrids. The steps we need to take:\n",
    "1. Load in SpectrumMill results and create a \"truth\" set where each entry in this json file has the form:\n",
    "```json\n",
    "{\n",
    "    spectrum_id: {\n",
    "        \"sequence\": str, \n",
    "        \"hybrid\": bool\n",
    "    }\n",
    "}\n",
    "```\n",
    "2. Run hyped search with the \"truth_set\" param set to the file generated in step 1\n",
    "3. Load in the file created (output_dir + 'fall_off.json')\n",
    "4. Run all analysis"
   ]
  },
  {
   "cell_type": "markdown",
   "metadata": {},
   "source": [
    "## Constants"
   ]
  },
  {
   "cell_type": "code",
   "execution_count": 2,
   "metadata": {},
   "outputs": [],
   "source": [
    "spec_file = '/Users/zacharymcgrath/Desktop/nod2 data/filteredSpec/'\n",
    "db_file = '/Users/zacharymcgrath/Desktop/nod2 data/filteredNOD2.fasta'\n",
    "output_dir = '/Users/zacharymcgrath/Desktop/Experiment output/fall_off/'\n",
    "specmil_truth_set = '/Users/zacharymcgrath/Downloads/NOD2_E3_results.ssv'\n",
    "\n",
    "minPep = 3\n",
    "maxPep = 30\n",
    "tolerance = 20\n",
    "relative_abundance_filter = 0.0\n",
    "precursor_tolerance = 3\n",
    "peak_filter = 25\n",
    "verbose = True\n"
   ]
  },
  {
   "cell_type": "markdown",
   "metadata": {},
   "source": [
    "## 1. Load in SpectrumMill and create truth file"
   ]
  },
  {
   "cell_type": "code",
   "execution_count": 3,
   "metadata": {},
   "outputs": [
    {
     "data": {
      "text/html": [
       "<div>\n",
       "<style scoped>\n",
       "    .dataframe tbody tr th:only-of-type {\n",
       "        vertical-align: middle;\n",
       "    }\n",
       "\n",
       "    .dataframe tbody tr th {\n",
       "        vertical-align: top;\n",
       "    }\n",
       "\n",
       "    .dataframe thead th {\n",
       "        text-align: right;\n",
       "    }\n",
       "</style>\n",
       "<table border=\"1\" class=\"dataframe\">\n",
       "  <thead>\n",
       "    <tr style=\"text-align: right;\">\n",
       "      <th></th>\n",
       "      <th>number</th>\n",
       "      <th>filename</th>\n",
       "      <th>parent_charge</th>\n",
       "      <th>score</th>\n",
       "      <th>deltaForwardReverseScore</th>\n",
       "      <th>deltaRank1Rank2Score</th>\n",
       "      <th>percent_scored_peak_intensity</th>\n",
       "      <th>totalIntensity</th>\n",
       "      <th>previous_aa</th>\n",
       "      <th>sequence</th>\n",
       "      <th>next_aa</th>\n",
       "      <th>retentionTimeMin</th>\n",
       "      <th>chromatographicPeakWidthSec</th>\n",
       "      <th>parent_m_over_z</th>\n",
       "      <th>species</th>\n",
       "      <th>entry_name</th>\n",
       "    </tr>\n",
       "  </thead>\n",
       "  <tbody>\n",
       "    <tr>\n",
       "      <td>0</td>\n",
       "      <td>1</td>\n",
       "      <td>NOD2_E3.13446.13477.2</td>\n",
       "      <td>2</td>\n",
       "      <td>10.10</td>\n",
       "      <td>10.10</td>\n",
       "      <td>9.91</td>\n",
       "      <td>84.5</td>\n",
       "      <td>183000.0</td>\n",
       "      <td>(E)</td>\n",
       "      <td>DPQVEQLEL</td>\n",
       "      <td>(-)</td>\n",
       "      <td>48.35</td>\n",
       "      <td>26.0</td>\n",
       "      <td>535.7725</td>\n",
       "      <td>MOUSE</td>\n",
       "      <td>ins1C18</td>\n",
       "    </tr>\n",
       "    <tr>\n",
       "      <td>1</td>\n",
       "      <td>2</td>\n",
       "      <td>NOD2_E3.18005.18246.2</td>\n",
       "      <td>2</td>\n",
       "      <td>12.84</td>\n",
       "      <td>11.07</td>\n",
       "      <td>12.84</td>\n",
       "      <td>97.8</td>\n",
       "      <td>40000000.0</td>\n",
       "      <td>(G)</td>\n",
       "      <td>DLQTLALEVA</td>\n",
       "      <td>(-)</td>\n",
       "      <td>65.78</td>\n",
       "      <td>29.0</td>\n",
       "      <td>536.8007</td>\n",
       "      <td>MOUSE</td>\n",
       "      <td>ins1C3</td>\n",
       "    </tr>\n",
       "    <tr>\n",
       "      <td>2</td>\n",
       "      <td>3</td>\n",
       "      <td>NOD2_E3.13729.13828.2</td>\n",
       "      <td>2</td>\n",
       "      <td>12.43</td>\n",
       "      <td>6.68</td>\n",
       "      <td>7.86</td>\n",
       "      <td>90.7</td>\n",
       "      <td>2200000.0</td>\n",
       "      <td>(G)</td>\n",
       "      <td>DLQTLALE</td>\n",
       "      <td>(-)</td>\n",
       "      <td>49.52</td>\n",
       "      <td>22.0</td>\n",
       "      <td>451.7460</td>\n",
       "      <td>MOUSE</td>\n",
       "      <td>ins1C5</td>\n",
       "    </tr>\n",
       "    <tr>\n",
       "      <td>3</td>\n",
       "      <td>4</td>\n",
       "      <td>NOD2_E3.15226.15503.2</td>\n",
       "      <td>2</td>\n",
       "      <td>11.17</td>\n",
       "      <td>6.21</td>\n",
       "      <td>6.67</td>\n",
       "      <td>89.1</td>\n",
       "      <td>1740000.0</td>\n",
       "      <td>(G)</td>\n",
       "      <td>DLQTLAL</td>\n",
       "      <td>(-)</td>\n",
       "      <td>54.38</td>\n",
       "      <td>169.0</td>\n",
       "      <td>387.2243</td>\n",
       "      <td>MOUSE</td>\n",
       "      <td>ins1C6</td>\n",
       "    </tr>\n",
       "    <tr>\n",
       "      <td>4</td>\n",
       "      <td>5</td>\n",
       "      <td>NOD2_E3.21510.21510.2</td>\n",
       "      <td>2</td>\n",
       "      <td>12.54</td>\n",
       "      <td>12.54</td>\n",
       "      <td>12.54</td>\n",
       "      <td>91.3</td>\n",
       "      <td>91900.0</td>\n",
       "      <td>(G)</td>\n",
       "      <td>DLQTLALLL</td>\n",
       "      <td>(D)</td>\n",
       "      <td>76.92</td>\n",
       "      <td>3.0</td>\n",
       "      <td>500.3081</td>\n",
       "      <td>MOUSE</td>\n",
       "      <td>HYBRID: mouse ins1C PQVEQLELGGSPGDLQTLAL-LLDEG...</td>\n",
       "    </tr>\n",
       "  </tbody>\n",
       "</table>\n",
       "</div>"
      ],
      "text/plain": [
       "   number               filename  parent_charge  score  \\\n",
       "0       1  NOD2_E3.13446.13477.2              2  10.10   \n",
       "1       2  NOD2_E3.18005.18246.2              2  12.84   \n",
       "2       3  NOD2_E3.13729.13828.2              2  12.43   \n",
       "3       4  NOD2_E3.15226.15503.2              2  11.17   \n",
       "4       5  NOD2_E3.21510.21510.2              2  12.54   \n",
       "\n",
       "   deltaForwardReverseScore  deltaRank1Rank2Score  \\\n",
       "0                     10.10                  9.91   \n",
       "1                     11.07                 12.84   \n",
       "2                      6.68                  7.86   \n",
       "3                      6.21                  6.67   \n",
       "4                     12.54                 12.54   \n",
       "\n",
       "   percent_scored_peak_intensity  totalIntensity previous_aa    sequence  \\\n",
       "0                           84.5        183000.0         (E)   DPQVEQLEL   \n",
       "1                           97.8      40000000.0         (G)  DLQTLALEVA   \n",
       "2                           90.7       2200000.0         (G)    DLQTLALE   \n",
       "3                           89.1       1740000.0         (G)     DLQTLAL   \n",
       "4                           91.3         91900.0         (G)   DLQTLALLL   \n",
       "\n",
       "  next_aa  retentionTimeMin  chromatographicPeakWidthSec  parent_m_over_z  \\\n",
       "0     (-)             48.35                         26.0         535.7725   \n",
       "1     (-)             65.78                         29.0         536.8007   \n",
       "2     (-)             49.52                         22.0         451.7460   \n",
       "3     (-)             54.38                        169.0         387.2243   \n",
       "4     (D)             76.92                          3.0         500.3081   \n",
       "\n",
       "  species                                         entry_name  \n",
       "0   MOUSE                                            ins1C18  \n",
       "1   MOUSE                                             ins1C3  \n",
       "2   MOUSE                                             ins1C5  \n",
       "3   MOUSE                                             ins1C6  \n",
       "4   MOUSE  HYBRID: mouse ins1C PQVEQLELGGSPGDLQTLAL-LLDEG...  "
      ]
     },
     "execution_count": 3,
     "metadata": {},
     "output_type": "execute_result"
    }
   ],
   "source": [
    "# first load in the results\n",
    "specmil_results = pd.read_csv(specmil_truth_set, sep=';')\n",
    "specmil_results.head(5)\n"
   ]
  },
  {
   "cell_type": "code",
   "execution_count": 4,
   "metadata": {},
   "outputs": [],
   "source": [
    "# json to store results in\n",
    "json_truth_set = {}\n",
    "\n",
    "# go through every entry in the database, find out if its a hybrid and get the sequence, ided by the filename\n",
    "for idx, row in specmil_results.iterrows():\n",
    "    \n",
    "    # all the ids seem to have .pkl at the end of them so add that\n",
    "    key = row['filename'] + '.pkl'\n",
    "    json_truth_set[key] = {\n",
    "        'hybrid': 'HYBRID' in row['entry_name'], \n",
    "        'sequence': row['sequence']\n",
    "    }\n",
    "    \n",
    "full_truth_path = output_dir + 'specmil_truth_set.json'\n",
    "    \n",
    "json.dump(json_truth_set, open(full_truth_path, 'w'))"
   ]
  },
  {
   "cell_type": "markdown",
   "metadata": {},
   "source": [
    "## 2. Run hypedsearch with the truth set"
   ]
  },
  {
   "cell_type": "code",
   "execution_count": 5,
   "metadata": {},
   "outputs": [
    {
     "name": "stdout",
     "output_type": "stream",
     "text": [
      "\n",
      "DEV set to True. \n",
      "Tracking when correct answer falls off. \n",
      "Results are stored in a json named 'fall_off.json' in the specified output directory\n",
      "File will be of the form\n",
      "\n",
      "    {\n",
      "        spectrum_id: {\n",
      "            hybrid: bool, \n",
      "            truth_sequence: str, \n",
      "            fall_off_operation: str, \n",
      "        }\n",
      "    }\n",
      "            \n",
      "Loading database...\n",
      "Done\n",
      "Loading spectra...\n",
      "Done\n",
      "On batch 1/1\n",
      "On protein 280/280 [100%]\n",
      "Sorting the set of protein masses...\n",
      "Initializing other processors...\n",
      "Done.\n",
      "Creating an alignment for 1085/1086 [100%]\n",
      "Finished search. Writting results to /Users/zacharymcgrath/Desktop/Experiment output/fall_off/...\n",
      "Could not make an alignment for 549/1086 spectra (50%)\n"
     ]
    }
   ],
   "source": [
    "truth_run_params = {\n",
    "    'spectra_folder': spec_file,\n",
    "    'database_file': db_file,\n",
    "    'output_dir': output_dir,\n",
    "    'min_peptide_len': minPep,\n",
    "    'max_peptide_len': maxPep,\n",
    "    'tolerance': tolerance,\n",
    "    'precursor_tolerance': precursor_tolerance,\n",
    "    'peak_filter': peak_filter, \n",
    "    'relative_abundance_filter': relative_abundance_filter,\n",
    "    'digest': 'trypsin', \n",
    "    'missed_cleavages': 2,\n",
    "    'verbose': verbose,\n",
    "    'DEBUG': False,\n",
    "    'truth_set': full_truth_path\n",
    "}\n",
    "\n",
    "runner.run(truth_run_params)"
   ]
  },
  {
   "cell_type": "markdown",
   "metadata": {},
   "source": [
    "## 3. Load in the fall off results"
   ]
  },
  {
   "cell_type": "code",
   "execution_count": 6,
   "metadata": {},
   "outputs": [
    {
     "data": {
      "text/plain": [
       "549"
      ]
     },
     "execution_count": 6,
     "metadata": {},
     "output_type": "execute_result"
    }
   ],
   "source": [
    "fall_off_results = json.load(open(output_dir + 'fall_off.json'))\n",
    "len(fall_off_results)"
   ]
  },
  {
   "cell_type": "markdown",
   "metadata": {},
   "source": [
    "## 4. Run all analysis\n",
    "1. Plot the number of results that fell into each category\n",
    "2. Separate them by hybrid and non hybrd\n",
    "\n",
    "### 4.1"
   ]
  },
  {
   "cell_type": "code",
   "execution_count": 7,
   "metadata": {},
   "outputs": [],
   "source": [
    "# first load them into dictionaries by {type: [seq]}\n",
    "typed_fall_off = defaultdict(list)\n",
    "\n",
    "for _id, entry in fall_off_results.items():\n",
    "    typed_fall_off[entry['fall_off_operation']].append((_id, entry))\n",
    "    "
   ]
  },
  {
   "cell_type": "code",
   "execution_count": 8,
   "metadata": {},
   "outputs": [
    {
     "data": {
      "text/plain": [
       "<BarContainer object of 4 artists>"
      ]
     },
     "execution_count": 8,
     "metadata": {},
     "output_type": "execute_result"
    },
    {
     "data": {
      "image/png": "[encoded data removed]",
      "text/plain": [
       "<Figure size 1080x720 with 1 Axes>"
      ]
     },
     "metadata": {
      "needs_background": "light"
     },
     "output_type": "display_data"
    }
   ],
   "source": [
    "# bar graph it\n",
    "plt.figure(figsize=(15, 10))\n",
    "\n",
    "# get parallel x and y lists\n",
    "x = []\n",
    "y = []\n",
    "xlabels = []\n",
    "\n",
    "for i, (op, entries) in enumerate(typed_fall_off.items()):\n",
    "    x.append(i)\n",
    "    y.append(len(entries))\n",
    "    xlabels.append(op)\n",
    "    \n",
    "plt.bar(x, y, tick_label=xlabels)\n"
   ]
  },
  {
   "cell_type": "markdown",
   "metadata": {},
   "source": [
    "### 4.2 by hybrid "
   ]
  },
  {
   "cell_type": "code",
   "execution_count": 9,
   "metadata": {},
   "outputs": [],
   "source": [
    "hybrid_typed_fall_off = defaultdict(list)\n",
    "nonhybrid_typed_fall_off = defaultdict(list)\n",
    "\n",
    "for _id, entry in fall_off_results.items():\n",
    "    \n",
    "    if entry['hybrid']:\n",
    "        hybrid_typed_fall_off[entry['fall_off_operation']].append((_id, entry))\n",
    "        \n",
    "    else:\n",
    "        nonhybrid_typed_fall_off[entry['fall_off_operation']].append((_id, entry))"
   ]
  },
  {
   "cell_type": "code",
   "execution_count": 10,
   "metadata": {},
   "outputs": [
    {
     "data": {
      "text/plain": [
       "Text(0.5, 1.0, 'Hybrid fall off positions')"
      ]
     },
     "execution_count": 10,
     "metadata": {},
     "output_type": "execute_result"
    },
    {
     "data": {
      "image/png": "[encoded data removed]",
      "text/plain": [
       "<Figure size 1080x720 with 1 Axes>"
      ]
     },
     "metadata": {
      "needs_background": "light"
     },
     "output_type": "display_data"
    }
   ],
   "source": [
    "# bar graph it\n",
    "plt.figure(figsize=(15, 10))\n",
    "\n",
    "# get parallel x and y lists\n",
    "x = []\n",
    "y = []\n",
    "xlabels = []\n",
    "\n",
    "for i, (op, entries) in enumerate(hybrid_typed_fall_off.items()):\n",
    "    x.append(i)\n",
    "    y.append(len(entries))\n",
    "    xlabels.append(op)\n",
    "    \n",
    "plt.bar(x, y, tick_label=xlabels)\n",
    "plt.title('Hybrid fall off positions')"
   ]
  },
  {
   "cell_type": "code",
   "execution_count": 11,
   "metadata": {},
   "outputs": [
    {
     "data": {
      "text/plain": [
       "Text(0.5, 1.0, 'Non hybrid fall off positions')"
      ]
     },
     "execution_count": 11,
     "metadata": {},
     "output_type": "execute_result"
    },
    {
     "data": {
      "image/png": "[encoded data removed]",
      "text/plain": [
       "<Figure size 1080x720 with 1 Axes>"
      ]
     },
     "metadata": {
      "needs_background": "light"
     },
     "output_type": "display_data"
    }
   ],
   "source": [
    "# bar graph it\n",
    "plt.figure(figsize=(15, 10))\n",
    "\n",
    "# get parallel x and y lists\n",
    "x = []\n",
    "y = []\n",
    "xlabels = []\n",
    "\n",
    "for i, (op, entries) in enumerate(nonhybrid_typed_fall_off.items()):\n",
    "    x.append(i)\n",
    "    y.append(len(entries))\n",
    "    xlabels.append(op)\n",
    "    \n",
    "plt.bar(x, y, tick_label=xlabels)\n",
    "plt.title('Non hybrid fall off positions')"
   ]
  },
  {
   "cell_type": "code",
   "execution_count": null,
   "metadata": {},
   "outputs": [],
   "source": []
  }
 ],
 "metadata": {
  "kernelspec": {
   "display_name": "Python 3",
   "language": "python",
   "name": "python3"
  },
  "language_info": {
   "codemirror_mode": {
    "name": "ipython",
    "version": 3
   },
   "file_extension": ".py",
   "mimetype": "text/x-python",
   "name": "python",
   "nbconvert_exporter": "python",
   "pygments_lexer": "ipython3",
   "version": "3.7.4"
  }
 },
 "nbformat": 4,
 "nbformat_minor": 4
}

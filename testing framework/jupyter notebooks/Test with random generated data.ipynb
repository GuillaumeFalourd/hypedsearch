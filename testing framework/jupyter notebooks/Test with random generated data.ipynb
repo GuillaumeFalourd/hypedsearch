{
 "cells": [
  {
   "cell_type": "markdown",
   "metadata": {},
   "source": [
    "# Run a test of hypedsearch with generated data\n",
    "The following steps describe how the test works\n",
    "1. Load a fasta database\n",
    "2. Generate\n",
    "    1. Hybrid proteins\n",
    "    2. Peptides\n",
    "    3. Hybrid peptides from the hybrid proteins\n",
    "3. Generate spectra for all the peptides created\n",
    "4. Run hypedsearch with the .fasta file (no hybrid proteins included) and the spectra files\n",
    "5. Load the summary.json file created\n",
    "6. Determine what number of alignments were correct"
   ]
  },
  {
   "cell_type": "markdown",
   "metadata": {},
   "source": [
    "## 1. Load fasta database"
   ]
  },
  {
   "cell_type": "code",
   "execution_count": 1,
   "metadata": {},
   "outputs": [],
   "source": [
    "import os\n",
    "import sys\n",
    "module_path = os.path.abspath(os.path.join('..'))\n",
    "if module_path not in sys.path:\n",
    "    sys.path.append(module_path)\n",
    "module_path = os.path.abspath(os.path.join('../..'))\n",
    "if module_path not in sys.path:\n",
    "    sys.path.append(module_path)\n",
    "    \n",
    "from src.file_io import fasta\n",
    "\n",
    "fasta_file = '../data/databases/100prots.fasta'\n",
    "database = fasta.read(fasta_file, True)\n",
    "\n",
    "database = {x['name']: x for x in database}"
   ]
  },
  {
   "cell_type": "markdown",
   "metadata": {},
   "source": [
    "## 2.  Generate the peptides, hybrid proteins and peptides"
   ]
  },
  {
   "cell_type": "code",
   "execution_count": 2,
   "metadata": {},
   "outputs": [
    {
     "name": "stdout",
     "output_type": "stream",
     "text": [
      "Generating hybrid protein 0/5[0%]\r",
      "Generating hybrid protein 1/5[20%]\r",
      "Generating hybrid protein 2/5[40%]\r",
      "Generating hybrid protein 3/5[60%]\r",
      "Generating hybrid protein 4/5[80%]\r\n",
      "Finished generating hybrid proteins\n"
     ]
    }
   ],
   "source": [
    "from sequence_generation import proteins, peptides\n",
    "test_directory = '../data/testing_output/'\n",
    "\n",
    "num_hybs = 5\n",
    "min_length= 5\n",
    "max_length = 35\n",
    "num_peptides = 1000\n",
    "min_cont = 3 #min contribution for each side of a hybrid\n",
    "\n",
    "# make hybrid proteins\n",
    "hyb_prots = proteins.generate_hybrids([x for _, x in database.items()], num_hybs, min_contribution=max_length)\n",
    "# create peptides\n",
    "non_hybrid_peps = peptides.gen_peptides([x for _, x in database.items()], num_peptides, min_length=min_length, max_length=max_length, digest='random', dist='beta')\n",
    "# create hybrid peptides\n",
    "hyb_peps = peptides.gen_peptides(hyb_prots, num_hybs, min_length=min_length, max_length=max_length, digest='random', min_contribution=min_cont, hybrid_list=True)\n",
    "\n",
    "all_proteins_raw = [x for _,x in database.items()] + hyb_prots\n",
    "all_peptides_raw = non_hybrid_peps + hyb_peps\n",
    "\n",
    "peptides = {}\n",
    "for i, pep in enumerate(all_peptides_raw):\n",
    "    peptides[i] = pep\n",
    "    peptides[i]['scan_no'] = i"
   ]
  },
  {
   "cell_type": "markdown",
   "metadata": {},
   "source": [
    "## 2.1 Save this info so that I can analyze it later from Neo-Fusion"
   ]
  },
  {
   "cell_type": "code",
   "execution_count": 3,
   "metadata": {},
   "outputs": [],
   "source": [
    "import json\n",
    "experiment_info_file_name = 'experiment_info.json'\n",
    "\n",
    "exp = {'database': fasta_file, 'peptides': peptides}\n",
    "with open(test_directory + experiment_info_file_name, 'w') as o:\n",
    "    json.dump(exp, o)\n"
   ]
  },
  {
   "cell_type": "markdown",
   "metadata": {},
   "source": [
    "## 2.2 Load data if available instead of creating it"
   ]
  },
  {
   "cell_type": "code",
   "execution_count": 4,
   "metadata": {},
   "outputs": [],
   "source": [
    "import json\n",
    "\n",
    "expfile = '../data/testing_output/experiment_info.json'\n",
    "exp = json.load(open(expfile, 'r'))\n",
    "peptides = exp['peptides']"
   ]
  },
  {
   "cell_type": "markdown",
   "metadata": {},
   "source": [
    "## 3. Generate spectra"
   ]
  },
  {
   "cell_type": "code",
   "execution_count": 4,
   "metadata": {},
   "outputs": [
    {
     "name": "stderr",
     "output_type": "stream",
     "text": [
      "Determination of memory status is not supported on this \n",
      " platform, measuring for memoryleaks will never fail\n"
     ]
    },
    {
     "data": {
      "text/plain": [
       "'../data/testing_output/testSpectraFile.mzML'"
      ]
     },
     "execution_count": 4,
     "metadata": {},
     "output_type": "execute_result"
    }
   ],
   "source": [
    "from src.spectra import gen_spectra\n",
    "from src.utils import utils\n",
    "from sequence_generation import write_spectra\n",
    "\n",
    "utils.make_dir(test_directory)\n",
    "\n",
    "spectra = []\n",
    "sorted_keys = [int(c) for c in peptides.keys()]\n",
    "sorted_keys.sort()\n",
    "for k in sorted_keys:\n",
    "    pep = peptides[k]\n",
    "    cont = gen_spectra.gen_spectrum(pep['sequence'])\n",
    "    spec = cont['spectrum']\n",
    "    pm = cont['precursor_mass']\n",
    "    spectra.append({'spectrum': spec, 'precursor_mass': pm})\n",
    "write_spectra.write_mzml('testSpectraFile', spectra, output_dir=test_directory)\n"
   ]
  },
  {
   "cell_type": "markdown",
   "metadata": {},
   "source": [
    "## 4. Run hypedsearch"
   ]
  },
  {
   "cell_type": "code",
   "execution_count": 5,
   "metadata": {},
   "outputs": [
    {
     "name": "stdout",
     "output_type": "stream",
     "text": [
      "Loading database...\n",
      "Done. Indexing database...\n",
      "7487 unique kmers\n",
      "Done.\n",
      "Number of 3-mers found in the database: 7487\n",
      "Analyzing spectra file 0/1[0%]\n",
      "\n",
      "Analyzing spectrum 1244/1245[99%]\n",
      "Total runtime: 1110.4736912250519 seconds\n"
     ]
    }
   ],
   "source": [
    "import os\n",
    "import sys\n",
    "module_path = os.path.abspath(os.path.join('..'))\n",
    "if module_path not in sys.path:\n",
    "    sys.path.append(module_path)\n",
    "module_path = os.path.abspath(os.path.join('../..'))\n",
    "if module_path not in sys.path:\n",
    "    sys.path.append(module_path)\n",
    "\n",
    "from src import runner\n",
    "from time import time\n",
    "\n",
    "test_directory = '../data/testing_output/'\n",
    "fasta_file = '../data/databases/100prots.fasta'\n",
    "\n",
    "args = {\n",
    "    'spectra_folder': test_directory,\n",
    "    'database_file': fasta_file,\n",
    "    'output_dir': test_directory,\n",
    "    'min_peptide_len': 3,\n",
    "    'max_peptide_len': 35,\n",
    "}\n",
    "st = time()\n",
    "runner.run(args)\n",
    "print('\\nTotal runtime: {} seconds'.format(time() - st))"
   ]
  },
  {
   "cell_type": "markdown",
   "metadata": {},
   "source": [
    "## 5. Load the summary json"
   ]
  },
  {
   "cell_type": "code",
   "execution_count": 6,
   "metadata": {},
   "outputs": [
    {
     "name": "stdout",
     "output_type": "stream",
     "text": [
      "../data/testing_output/\n"
     ]
    }
   ],
   "source": [
    "import json\n",
    "test_directory = '../data/testing_output/'\n",
    "\n",
    "summary = json.load(open(test_directory + 'summary.json', 'r'))\n",
    "print(test_directory)"
   ]
  },
  {
   "cell_type": "markdown",
   "metadata": {},
   "source": [
    "#### summary format\n",
    "Each spectra entry has 3 candidates with the form\n",
    "```python\n",
    "{\n",
    "    \"starting_position\": 64,\n",
    "    \"ending_position\": 73,\n",
    "    \"length\": 10,\n",
    "    \"b_score\": 4.0,\n",
    "    \"y_score\": 4.0,\n",
    "    \"confidence\": 100.0,\n",
    "    \"protein_name\": \"insulin\",\n",
    "    \"spectrum\": [],\n",
    "    \"sequence\": \"QVELGGGPGA\"\n",
    "}\n",
    "```"
   ]
  },
  {
   "cell_type": "markdown",
   "metadata": {},
   "source": [
    "## 6. Determine which number of alignments were correct\n",
    "This needs to be broken down into hybrid and non hybrid peptides to get some stats on how well its doing"
   ]
  },
  {
   "cell_type": "code",
   "execution_count": 7,
   "metadata": {},
   "outputs": [],
   "source": [
    "n = 5\n",
    "non_hyb_stats = {i: {\n",
    "        'correct': 0,\n",
    "        'correct_parent': 0,\n",
    "        'correct_length': 0,\n",
    "        'correct_start': 0,\n",
    "        'correct_end': 0\n",
    "    } for i in range(n)}\n",
    "non_hyb_stats['count'] = 0\n",
    "\n",
    "hyb_stats = {\n",
    "    'count': 0,\n",
    "    'left': {\n",
    "        'correct': 0,\n",
    "        'correct_parent': 0,\n",
    "        'correct_length': 0,\n",
    "        'correct_start': 0,\n",
    "        'correct_end': 0\n",
    "    },\n",
    "    'right': {\n",
    "        'correct': 0,\n",
    "        'correct_parent': 0,\n",
    "        'correct_length': 0,\n",
    "        'correct_start': 0,\n",
    "        'correct_end': 0\n",
    "    }\n",
    "}\n"
   ]
  },
  {
   "cell_type": "code",
   "execution_count": 8,
   "metadata": {},
   "outputs": [],
   "source": [
    "def hyb_calc(result, real_pep):\n",
    "    left_corrparent = False\n",
    "    left_corrstart = False\n",
    "    left_corrend = False\n",
    "    left_corrlen = False\n",
    "    right_corrparent = False\n",
    "    right_corrstart = False\n",
    "    right_corrend = False\n",
    "    right_corrlen = False\n",
    "    iterrange = min(n, len(result))\n",
    "    for i in range(iterrange):\n",
    "        if result[i]['protein_name'] == real_pep['left_parent_name']:\n",
    "            left_corrparent = True\n",
    "            left_corrstart = left_corrstart or (result[i]['starting_position'] == real_pep['left_parent_starting_position'])\n",
    "            left_corrend = left_corrend or (result[i]['ending_position'] == real_pep['left_parent_ending_position'])\n",
    "            left_corrlen = left_corrlen or (result[i]['length'] == real_pep['left_parent_ending_position'] - real_pep['left_parent_starting_position'] + 1)\n",
    "        if result[i]['protein_name'] == real_pep['right_parent_name']: \n",
    "            right_corrparent = True\n",
    "            right_corrstart = right_corrstart or(result[i]['starting_position'] == real_pep['right_parent_starting_position'])\n",
    "            right_corrend = right_corrend or (result[i]['ending_position'] == real_pep['right_parent_ending_position'])\n",
    "            right_corrlen = right_corrlen or (result[i]['length'] == real_pep['right_parent_ending_position'] - real_pep['right_parent_starting_position'] + 1)\n",
    "    \n",
    "    hyb_stats['count'] += 1\n",
    "    hyb_stats['left']['correct_parent'] += 1 if left_corrparent else 0\n",
    "    hyb_stats['left']['correct_length'] += 1 if left_corrlen else 0\n",
    "    hyb_stats['left']['correct_start'] += 1 if left_corrstart else 0\n",
    "    hyb_stats['left']['correct_end'] += 1 if left_corrend else 0\n",
    "    hyb_stats['left']['correct'] += 1 if (left_corrparent and left_corrlen and left_corrstart and left_corrend) else 0\n",
    "    hyb_stats['right']['correct_parent'] += 1 if right_corrparent else 0\n",
    "    hyb_stats['right']['correct_length'] += 1 if right_corrlen else 0\n",
    "    hyb_stats['right']['correct_start'] += 1 if right_corrstart else 0\n",
    "    hyb_stats['right']['correct_end'] += 1 if right_corrend else 0\n",
    "    hyb_stats['right']['correct'] += 1 if (right_corrparent and right_corrlen and right_corrstart and right_corrend) else 0\n",
    "    "
   ]
  },
  {
   "cell_type": "code",
   "execution_count": 9,
   "metadata": {},
   "outputs": [],
   "source": [
    "def non_hyb_calc(result, real_pep):\n",
    "    non_hyb_stats['count'] += 1\n",
    "    iterrange = min(n, len(result))\n",
    "    for i in range(iterrange):\n",
    "        if result[i]['protein_name'] != real_pep['parent_name']:\n",
    "            continue\n",
    "        corrlen = len(result[i]['sequence']) == len(real_pep['sequence'])\n",
    "        corrstart = result[i]['starting_position'] == real_pep['starting_position']\n",
    "        corrend = result[i]['ending_position'] == real_pep['ending_position']\n",
    "        \n",
    "        non_hyb_stats[i]['correct_parent'] += 1 \n",
    "        non_hyb_stats[i]['correct_length'] += 1 if corrlen else 0\n",
    "        non_hyb_stats[i]['correct_start'] += 1 if corrstart else 0\n",
    "        non_hyb_stats[i]['correct_end'] += 1 if corrend else 0\n",
    "        non_hyb_stats[i]['correct'] += 1 if (corrend and corrlen and corrstart) else 0\n",
    "        return\n"
   ]
  },
  {
   "cell_type": "code",
   "execution_count": 10,
   "metadata": {},
   "outputs": [],
   "source": [
    "expfile = '../data/testing_output/experiment_info.json'\n",
    "exp = json.load(open(expfile, 'r'))\n",
    "\n",
    "scan_no_keyed_results = {x['scan_no']: x['alignments'] for _, x in summary.items()}\n",
    "sorted_keys = [int(c) for c in exp['peptides'].keys()]\n",
    "\n",
    "for k in sorted_keys:\n",
    "    pep = exp['peptides'][str(k)]\n",
    "    if 'hybrid' in pep['peptide_name'].lower():\n",
    "        hyb_calc(scan_no_keyed_results[k], pep)\n",
    "    else:\n",
    "        non_hyb_calc(scan_no_keyed_results[k], pep)"
   ]
  },
  {
   "cell_type": "code",
   "execution_count": 11,
   "metadata": {},
   "outputs": [
    {
     "name": "stdout",
     "output_type": "stream",
     "text": [
      "NON HYBRID STATS\n",
      "------------------------------------------------------------\n",
      "number of peptides......................................1000\n",
      "Top alignment\n",
      "\n",
      "correct alignment........................................982\n",
      "%.........................................................98\n",
      "correct protein..........................................988\n",
      "%.........................................................98\n",
      "correct starting position................................986\n",
      "%.........................................................98\n",
      "correct ending position..................................982\n",
      "%.........................................................98\n",
      "correct length...........................................988\n",
      "%.........................................................98\n",
      "\n",
      "2nd or 3rd alignment\n",
      "\n",
      "number of peptides......................................1000\n",
      "correct alignment..........................................5\n",
      "%..........................................................0\n",
      "correct protein............................................7\n",
      "%..........................................................0\n",
      "correct starting position..................................6\n",
      "%..........................................................0\n",
      "correct ending position....................................5\n",
      "%..........................................................0\n",
      "correct length.............................................7\n",
      "%..........................................................0\n",
      "\n",
      "============================================================\n",
      "\n",
      "HYBRID STATS (if the top 10 alignments contained either left or right it appears)\n",
      "------------------------------------------------------------\n",
      "number of peptides.......................................245\n",
      "\n",
      "Left \n",
      "\n",
      "correct side alignment...................................230\n",
      "%.........................................................93\n",
      "correct protein..........................................231\n",
      "%.........................................................94\n",
      "correct starting position................................230\n",
      "%.........................................................93\n",
      "correct ending position..................................230\n",
      "%.........................................................93\n",
      "correct length...........................................230\n",
      "%.........................................................93\n",
      "\n",
      "Right \n",
      "\n",
      "correct side alignment...................................222\n",
      "%.........................................................90\n",
      "correct protein..........................................222\n",
      "%.........................................................90\n",
      "correct starting position................................222\n",
      "%.........................................................90\n",
      "correct ending position..................................222\n",
      "%.........................................................90\n",
      "correct length...........................................222\n",
      "%.........................................................90\n",
      "\n"
     ]
    }
   ],
   "source": [
    "percent = lambda a, b: (a* 100 // b)\n",
    "\n",
    "printstat = lambda name, stat: '{}{}\\n'.format(name, str(stat).rjust(60-len(name), '.'))\n",
    "\n",
    "secbreak = ''.join(['=' for _ in range(60)])\n",
    "headbreak = ''.join(['-' for _ in range(60)])\n",
    "nhcount = non_hyb_stats['count']\n",
    "topalign = non_hyb_stats[0]\n",
    "otheralign = {}\n",
    "for i in range(1, n):\n",
    "    for stat in topalign.keys():\n",
    "        if stat not in otheralign:\n",
    "            otheralign[stat] = 0\n",
    "        otheralign[stat] += non_hyb_stats[i][stat]\n",
    "\n",
    "######################## NON HYBRID PRETTY PRINTING ############################\n",
    "\n",
    "nonhybsum = 'NON HYBRID STATS\\n' + headbreak + '\\n'\n",
    "nonhybsum += printstat('number of peptides', nhcount) \n",
    "nonhybsum += 'Top alignment\\n\\n'\n",
    "nonhybsum += printstat('correct alignment', topalign['correct'])\n",
    "nonhybsum += printstat('%', percent(topalign['correct'], nhcount)) \n",
    "nonhybsum += printstat('correct protein', topalign['correct_parent']) \n",
    "nonhybsum += printstat('%', percent(topalign['correct_parent'], nhcount))\n",
    "nonhybsum += printstat('correct starting position', topalign['correct_start'])\n",
    "nonhybsum += printstat('%', percent(topalign['correct_start'], nhcount))\n",
    "nonhybsum += printstat('correct ending position', topalign['correct_end'])\n",
    "nonhybsum += printstat('%', percent(topalign['correct_end'], nhcount))\n",
    "nonhybsum += printstat('correct length', topalign['correct_length'])\n",
    "nonhybsum += printstat('%', percent(topalign['correct_length'], nhcount))\n",
    "\n",
    "nonhybsum += '\\n2nd or 3rd alignment\\n\\n'\n",
    "nonhybsum += printstat('number of peptides', nhcount) \n",
    "nonhybsum += printstat('correct alignment', otheralign['correct'])\n",
    "nonhybsum += printstat('%', percent(otheralign['correct'], nhcount)) \n",
    "nonhybsum += printstat('correct protein', otheralign['correct_parent']) \n",
    "nonhybsum += printstat('%', percent(otheralign['correct_parent'], nhcount))\n",
    "nonhybsum += printstat('correct starting position', otheralign['correct_start'])\n",
    "nonhybsum += printstat('%', percent(otheralign['correct_start'], nhcount))\n",
    "nonhybsum += printstat('correct ending position', otheralign['correct_end'])\n",
    "nonhybsum += printstat('%', percent(otheralign['correct_end'], nhcount))\n",
    "nonhybsum += printstat('correct length', otheralign['correct_length'])\n",
    "nonhybsum += printstat('%', percent(otheralign['correct_length'], nhcount))\n",
    "nonhybsum += '\\n' + secbreak + '\\n\\n'\n",
    "\n",
    "############################ HYBRID PRETYY PRINTING ##############################\n",
    "hcount = hyb_stats['count']\n",
    "lalign = hyb_stats['left']\n",
    "ralign = hyb_stats['right']\n",
    "\n",
    "hybsum = 'HYBRID STATS (if the top {} alignments contained either left or right it appears)\\n'.format(n) + headbreak + '\\n'\n",
    "hybsum += printstat('number of peptides', hcount)\n",
    "hybsum += '\\nLeft \\n\\n'\n",
    "hybsum += printstat('correct side alignment', lalign['correct'])\n",
    "hybsum += printstat('%', percent(lalign['correct'], hcount))\n",
    "hybsum += printstat('correct protein', lalign['correct_parent'])\n",
    "hybsum += printstat('%', percent(lalign['correct_parent'], hcount))\n",
    "hybsum += printstat('correct starting position', lalign['correct_start'])\n",
    "hybsum += printstat('%', percent(lalign['correct_start'], hcount))\n",
    "hybsum += printstat('correct ending position', lalign['correct_end'])\n",
    "hybsum += printstat('%', percent(lalign['correct_end'], hcount))\n",
    "hybsum += printstat('correct length', lalign['correct_length'])\n",
    "hybsum += printstat('%', percent(lalign['correct_length'], hcount))\n",
    "\n",
    "hybsum += '\\nRight \\n\\n'\n",
    "hybsum += printstat('correct side alignment', ralign['correct'])\n",
    "hybsum += printstat('%', percent(ralign['correct'], hcount))\n",
    "hybsum += printstat('correct protein', ralign['correct_parent'])\n",
    "hybsum += printstat('%', percent(ralign['correct_parent'], hcount))\n",
    "hybsum += printstat('correct starting position', ralign['correct_start'])\n",
    "hybsum += printstat('%', percent(ralign['correct_start'], hcount))\n",
    "hybsum += printstat('correct ending position', ralign['correct_end'])\n",
    "hybsum += printstat('%', percent(ralign['correct_end'], hcount))\n",
    "hybsum += printstat('correct length', ralign['correct_length'])\n",
    "hybsum += printstat('%', percent(ralign['correct_length'], hcount))\n",
    "\n",
    "print(nonhybsum + hybsum)"
   ]
  },
  {
   "cell_type": "code",
   "execution_count": 12,
   "metadata": {},
   "outputs": [
    {
     "name": "stdout",
     "output_type": "stream",
     "text": [
      "{'starting_position': 98, 'ending_position': 109, 'length': 12, 'b_score': 1.0, 'y_score': 1.0, 'confidence': 100.0, 'protein_name': 'UCHL3_MOUSE', 'spectrum': [29.518008435000002, 58.028740435, 74.060040285, 86.060040435, 131.573511785, 142.602072435, 147.112804135, 171.112804435, 195.620993285, 211.131528435, 246.650085435, 252.642456785, 262.139747135, 284.196868435, 303.192117435, 309.663920285, 338.710674435, 345.182477285, 390.234710135, 395.73213793499997, 401.724509285, 421.255780435, 437.243066285, 452.75360143499995, 492.292894435, 504.277637135, 505.772522285, 516.801082935, 562.314554285, 574.314554435, 605.376958435, 618.320564135, 618.8565862849999, 638.362035935, 647.3673182849999, 676.414072435, 689.357678135, 790.456999435, 802.441742135, 873.478856135, 904.4999264349999, 1010.537768135, 1032.594889435, 1123.621832135, 1147.621832435, 1236.7058961349999, 1275.716795435, 1293.7273601349998], 'sequence': 'GLIHAIANNKDK'}\n",
      "{'k': 12, 'sequence': 'GLIHAIANNKDK', 'starting_position': 98, 'ending_position': 109, 'b_score': 1.0, 'y_score': 1.0, 'protein_name': 'UCHL3_MOUSE', 'confidence': 50, 'length': 12}\n",
      "{'k': 4, 'sequence': 'GLLH', 'starting_position': 120, 'ending_position': 123, 'b_score': 0.3333333333333333, 'y_score': 0.0, 'protein_name': 'ARMD4_MOUSE', 'confidence': 50, 'length': 4}\n",
      "{'k': 4, 'sequence': 'GLLH', 'starting_position': 557, 'ending_position': 560, 'b_score': 0.3333333333333333, 'y_score': 0.0, 'protein_name': 'CCD73_MOUSE', 'confidence': 50, 'length': 4}\n",
      "{'k': 4, 'sequence': 'GILH', 'starting_position': 258, 'ending_position': 261, 'b_score': 0.3333333333333333, 'y_score': 0.0, 'protein_name': 'UBX10_MOUSE', 'confidence': 50, 'length': 4}\n",
      "{'k': 12, 'sequence': 'GLIHAIANNKDK', 'starting_position': 98, 'ending_position': 109, 'b_score': 1.0, 'y_score': 1.0, 'protein_name': 'UCHL3_MOUSE', 'confidence': 50, 'length': 12}\n",
      "{'k': 4, 'sequence': 'NKDK', 'starting_position': 248, 'ending_position': 251, 'b_score': 0.0, 'y_score': 0.3333333333333333, 'protein_name': 'ADAM8_MOUSE', 'confidence': 50, 'length': 4}\n",
      "{'b_score': 0.0, 'y_score': 0.25, 'k': 3, 'starting_position': 705, 'ending_position': 707, 'protein_name': 'ARMD4_MOUSE', 'sequence': 'KDK', 'confidence': 50, 'length': 3}\n",
      "{'b_score': 0.0, 'y_score': 0.25, 'k': 3, 'starting_position': 515, 'ending_position': 517, 'protein_name': 'CCD73_MOUSE', 'sequence': 'KDK', 'confidence': 50, 'length': 3}\n",
      "{'peptide_name': 'peptide_0010', 'sequence': 'GLIHAIANNKDK', 'parent_name': 'UCHL3_MOUSE', 'parent_sequence': 'MEGQRWLPLEANPEVTNQFLKQLGLHPNWQFVDVYGMEPELLSMVPRPVCAVLLLFPITEKYEVFRTEEEEKIKSQGQDVTSSVYFMKQTISNACGTIGLIHAIANNKDKMHFESGSTLKKFLEESVSMSPEERAKFLENYDAIRVTHETSAHEGQTEAPSIDEKVDLHFIALVHVDGHLYELDGRKPFPINHGKTSDETLLEDAIEVCKKFMERDPDELRFNAIALSAA', 'starting_position': 98, 'ending_position': 109, 'scan_no': 10}\n"
     ]
    }
   ],
   "source": [
    "def printres(x):\n",
    "    for a in x:\n",
    "        print(a)\n",
    "printres(scan_no_keyed_results[10])\n",
    "print(exp['peptides']['10'])"
   ]
  },
  {
   "cell_type": "code",
   "execution_count": 6,
   "metadata": {},
   "outputs": [
    {
     "name": "stdout",
     "output_type": "stream",
     "text": [
      "0.05044028835911905\n"
     ]
    }
   ],
   "source": [
    "times = [0.04854393005371094,\n",
    "0.03188514709472656,\n",
    "0.07952308654785156,\n",
    "0.009988069534301758,\n",
    "0.032685041427612305,\n",
    "0.03956890106201172,\n",
    "0.04300117492675781,\n",
    "0.08851480484008789,\n",
    "0.045289039611816406,\n",
    "0.02736687660217285,\n",
    "0.02323770523071289,\n",
    "0.018954992294311523,\n",
    "0.034613847732543945,\n",
    "0.11969780921936035,\n",
    "0.04238271713256836,\n",
    "0.028224706649780273,\n",
    "0.0736851692199707,\n",
    "0.041391849517822266,\n",
    "0.035143136978149414,\n",
    "0.027536869049072266,\n",
    "0.13624906539916992,\n",
    "0.06007981300354004,\n",
    "0.050293922424316406,\n",
    "0.06956601142883301,\n",
    "0.024131059646606445,\n",
    "0.029160022735595703,\n",
    "0.10336899757385254,\n",
    "0.037492990493774414,\n",
    "0.030508041381835938,\n",
    "0.024775266647338867,\n",
    "0.10678887367248535]\n",
    "\n",
    "import statistics \n",
    "\n",
    "print(statistics.mean(times))"
   ]
  },
  {
   "cell_type": "code",
   "execution_count": null,
   "metadata": {},
   "outputs": [],
   "source": []
  }
 ],
 "metadata": {
  "kernelspec": {
   "display_name": "Python 3",
   "language": "python",
   "name": "python3"
  },
  "language_info": {
   "codemirror_mode": {
    "name": "ipython",
    "version": 3
   },
   "file_extension": ".py",
   "mimetype": "text/x-python",
   "name": "python",
   "nbconvert_exporter": "python",
   "pygments_lexer": "ipython3",
   "version": "3.7.4"
  }
 },
 "nbformat": 4,
 "nbformat_minor": 4
}

{
 "cells": [
  {
   "cell_type": "markdown",
   "metadata": {},
   "source": [
    "# Run a test of hypedsearch with generated data\n",
    "The following steps describe how the test works\n",
    "1. Load a fasta database\n",
    "2. Generate\n",
    "    1. Hybrid proteins\n",
    "    2. Peptides\n",
    "    3. Hybrid peptides from the hybrid proteins\n",
    "3. Generate spectra for all the peptides created\n",
    "4. Run hypedsearch with the .fasta file (no hybrid proteins included) and the spectra files\n",
    "5. Load the summary.json file created\n",
    "6. Determine what number of alignments were correct"
   ]
  },
  {
   "cell_type": "markdown",
   "metadata": {},
   "source": [
    "## 1. Load fasta database"
   ]
  },
  {
   "cell_type": "code",
   "execution_count": 1,
   "metadata": {},
   "outputs": [],
   "source": [
    "import os\n",
    "import sys\n",
    "module_path = os.path.abspath(os.path.join('..'))\n",
    "if module_path not in sys.path:\n",
    "    sys.path.append(module_path)\n",
    "module_path = os.path.abspath(os.path.join('../..'))\n",
    "if module_path not in sys.path:\n",
    "    sys.path.append(module_path)\n",
    "    \n",
    "from src.file_io import fasta\n",
    "\n",
    "fasta_file = '../data/databases/100prots.fasta'\n",
    "database = fasta.read(fasta_file, True)\n",
    "\n",
    "database = {x['name']: x for x in database}"
   ]
  },
  {
   "cell_type": "markdown",
   "metadata": {},
   "source": [
    "## 2.  Generate the peptides, hybrid proteins and peptides"
   ]
  },
  {
   "cell_type": "code",
   "execution_count": 2,
   "metadata": {},
   "outputs": [
    {
     "name": "stdout",
     "output_type": "stream",
     "text": [
      "Generating hybrid protein 0/5[0%]\r",
      "Generating hybrid protein 1/5[20%]\r",
      "Generating hybrid protein 2/5[40%]\r",
      "Generating hybrid protein 3/5[60%]\r",
      "Generating hybrid protein 4/5[80%]\r\n",
      "Finished generating hybrid proteins\n"
     ]
    }
   ],
   "source": [
    "from sequence_generation import proteins, peptides\n",
    "test_directory = '../data/testing_output/'\n",
    "\n",
    "num_hybs = 5\n",
    "min_length= 5\n",
    "max_length = 35\n",
    "num_peptides = 100\n",
    "min_cont = 3 #min contribution for each side of a hybrid\n",
    "\n",
    "# make hybrid proteins\n",
    "hyb_prots = proteins.generate_hybrids([x for _, x in database.items()], num_hybs, min_contribution=max_length)\n",
    "# create peptides\n",
    "non_hybrid_peps = peptides.gen_peptides([x for _, x in database.items()], num_peptides, min_length=min_length, max_length=max_length, digest='random', dist='beta')\n",
    "# create hybrid peptides\n",
    "hyb_peps = peptides.gen_peptides(hyb_prots, num_hybs, min_length=min_length, max_length=max_length, digest='random', min_contribution=min_cont, hybrid_list=True)\n",
    "\n",
    "all_proteins_raw = [x for _,x in database.items()] + hyb_prots\n",
    "all_peptides_raw = non_hybrid_peps + hyb_peps\n",
    "\n",
    "peptides = {}\n",
    "for i, pep in enumerate(all_peptides_raw):\n",
    "    peptides[i] = pep\n",
    "    peptides[i]['scan_no'] = i"
   ]
  },
  {
   "cell_type": "markdown",
   "metadata": {},
   "source": [
    "## 2.1 Save this info so that I can analyze it later from Neo-Fusion"
   ]
  },
  {
   "cell_type": "code",
   "execution_count": 3,
   "metadata": {},
   "outputs": [],
   "source": [
    "import json\n",
    "experiment_info_file_name = 'experiment_info.json'\n",
    "\n",
    "exp = {'database': fasta_file, 'peptides': peptides}\n",
    "with open(test_directory + experiment_info_file_name, 'w') as o:\n",
    "    json.dump(exp, o)\n"
   ]
  },
  {
   "cell_type": "markdown",
   "metadata": {},
   "source": [
    "## 2.2 Load data if available instead of creating it"
   ]
  },
  {
   "cell_type": "code",
   "execution_count": 4,
   "metadata": {},
   "outputs": [],
   "source": [
    "# import json\n",
    "\n",
    "# expfile = '../data/testing_output/experiment_info.json'\n",
    "# exp = json.load(open(expfile, 'r'))\n",
    "# peptides = exp['peptides']"
   ]
  },
  {
   "cell_type": "markdown",
   "metadata": {},
   "source": [
    "## 3. Generate spectra"
   ]
  },
  {
   "cell_type": "code",
   "execution_count": 5,
   "metadata": {},
   "outputs": [
    {
     "name": "stderr",
     "output_type": "stream",
     "text": [
      "Determination of memory status is not supported on this \n",
      " platform, measuring for memoryleaks will never fail\n"
     ]
    },
    {
     "data": {
      "text/plain": [
       "'../data/testing_output/testSpectraFile.mzML'"
      ]
     },
     "execution_count": 5,
     "metadata": {},
     "output_type": "execute_result"
    }
   ],
   "source": [
    "from src.spectra import gen_spectra\n",
    "from src import utils\n",
    "from sequence_generation import write_spectra\n",
    "\n",
    "utils.make_dir(test_directory)\n",
    "\n",
    "spectra = []\n",
    "sorted_keys = [int(c) for c in peptides.keys()]\n",
    "sorted_keys.sort()\n",
    "for k in sorted_keys:\n",
    "    pep = peptides[k]\n",
    "    cont = gen_spectra.gen_spectrum(pep['sequence'])\n",
    "    spec = cont['spectrum']\n",
    "    pm = cont['precursor_mass']\n",
    "    spectra.append({'spectrum': spec, 'precursor_mass': pm})\n",
    "write_spectra.write_mzml('testSpectraFile', spectra, output_dir=test_directory)\n"
   ]
  },
  {
   "cell_type": "markdown",
   "metadata": {},
   "source": [
    "## 4. Run hypedsearch"
   ]
  },
  {
   "cell_type": "code",
   "execution_count": 6,
   "metadata": {},
   "outputs": [
    {
     "name": "stdout",
     "output_type": "stream",
     "text": [
      "Loading database...\n",
      "Adding protein 100/100 to tree\n",
      "Done.\n",
      "Building hashes for kmers...\n",
      "Indexing database for k=35...\n",
      "Done\n",
      "Looking at kmer 55051/55092\n",
      "Done.\n",
      "Analyzing spectra file 1/1[0%]\n",
      "\n",
      "Analyzing spectrum 345/345[99%]\n",
      "Finished search. Writting results to ../data/testing_output/...\n",
      "\n",
      "Total runtime: 243.0017910003662 seconds\n"
     ]
    }
   ],
   "source": [
    "import os\n",
    "import sys\n",
    "module_path = os.path.abspath(os.path.join('..'))\n",
    "if module_path not in sys.path:\n",
    "    sys.path.append(module_path)\n",
    "module_path = os.path.abspath(os.path.join('../..'))\n",
    "if module_path not in sys.path:\n",
    "    sys.path.append(module_path)\n",
    "\n",
    "from src import runner\n",
    "from time import time\n",
    "\n",
    "test_directory = '../data/testing_output/'\n",
    "fasta_file = '../data/databases/100prots.fasta'\n",
    "\n",
    "args = {\n",
    "    'spectra_folder': test_directory,\n",
    "    'database_file': fasta_file,\n",
    "    'output_dir': test_directory,\n",
    "    'min_peptide_len': 3,\n",
    "    'max_peptide_len': 35,\n",
    "}\n",
    "st = time()\n",
    "runner.run(args)\n",
    "print('\\nTotal runtime: {} seconds'.format(time() - st))\n",
    "\n"
   ]
  },
  {
   "cell_type": "markdown",
   "metadata": {},
   "source": [
    "## 5. Load the summary json"
   ]
  },
  {
   "cell_type": "code",
   "execution_count": 7,
   "metadata": {},
   "outputs": [
    {
     "name": "stdout",
     "output_type": "stream",
     "text": [
      "../data/testing_output/\n"
     ]
    }
   ],
   "source": [
    "import json\n",
    "test_directory = '../data/testing_output/'\n",
    "\n",
    "summary = json.load(open(test_directory + 'summary.json', 'r'))\n",
    "print(test_directory)"
   ]
  },
  {
   "cell_type": "markdown",
   "metadata": {},
   "source": [
    "#### summary format\n",
    "Each entry is of the form\n",
    "```python\n",
    "{\n",
    "    '<file-name>_<scan_number>':{\n",
    "        'spectrum': {...},\n",
    "        'alignments': [{...}],\n",
    "        'b_scores': [{...}],\n",
    "        'y_score': [{...}]\n",
    "    }\n",
    "}\n",
    "```\n",
    "The only attribute we're really interested in is the alignments attribute which has the form\n",
    "```python\n",
    "{\n",
    "    'alignments': [{\n",
    "        'b_alignment': {...},\n",
    "        'y_alignment': {...}, \n",
    "        'spectrum': [...],\n",
    "        'protein': str,\n",
    "        'alignment_score': float,\n",
    "        'sequence': str,\n",
    "        'hybrid': bool,\n",
    "        'hybrid_sequence': str\n",
    "    }, ...\n",
    "    ]\n",
    "}\n",
    "```"
   ]
  },
  {
   "cell_type": "markdown",
   "metadata": {},
   "source": [
    "## 6. Determine which number of alignments were correct\n",
    "This needs to be broken down into hybrid and non hybrid peptides to get some stats on how well its doing"
   ]
  },
  {
   "cell_type": "code",
   "execution_count": 8,
   "metadata": {},
   "outputs": [],
   "source": [
    "n = 5\n",
    "non_hyb_stats = {i: {\n",
    "        'correct': 0,\n",
    "        'correct_parent': 0,\n",
    "        'correct_sequence': 0,\n",
    "    } for i in range(n)}\n",
    "non_hyb_stats['count'] = 0\n",
    "\n",
    "hyb_stats ={i: {\n",
    "        'left_correct_parent': 0,\n",
    "        'right_correct_parent': 0, \n",
    "        'correct_sequence': 0,\n",
    "        'correct': 0\n",
    "    } for i in range(n)}\n",
    "hyb_stats['count'] = 0\n",
    "\n",
    "wrong_hybrid_alignemnts = []\n",
    "wrong_nonhybrid_alignments = []"
   ]
  },
  {
   "cell_type": "code",
   "execution_count": 9,
   "metadata": {},
   "outputs": [],
   "source": [
    "def hyb_calc(result, real_pep):\n",
    "    hyb_stats['count'] += 1\n",
    "    is_correct = False\n",
    "    for i in range(min(n, len(result))):\n",
    "        res = result[i]\n",
    "        result_hybrid = 'hybrid_sequence' in res\n",
    "        if not result_hybrid: \n",
    "            continue\n",
    "        \n",
    "        left_corrparent = real_pep['left_parent_name'] in res['left_proteins']\n",
    "        right_corrparent = real_pep['right_parent_name'] in res['right_proteins']\n",
    "        corr_seq = real_pep['sequence'] == res['sequence']\n",
    "        \n",
    "        hyb_stats[i]['left_correct_parent'] += 1 if left_corrparent else 0\n",
    "        hyb_stats[i]['right_correct_parent'] += 1 if right_corrparent else 0\n",
    "        hyb_stats[i]['correct_sequence'] += 1 if corr_seq else 0\n",
    "        hyb_stats[i]['correct'] += 1 if left_corrparent and right_corrparent and corr_seq else 0\n",
    "        \n",
    "        is_correct = corr_seq\n",
    "        \n",
    "        if is_correct:\n",
    "            break\n",
    "            \n",
    "    if not is_correct:\n",
    "        print('appending {} to bad for real pep {}'.format([x['sequence'] for x in result], real_pep['sequence']))\n",
    "        wrong_hybrid_alignemnts.append((result, real_pep))"
   ]
  },
  {
   "cell_type": "code",
   "execution_count": 10,
   "metadata": {},
   "outputs": [],
   "source": [
    "def non_hyb_calc(result, real_pep):\n",
    "    non_hyb_stats['count'] += 1\n",
    "    iterrange = min(n, len(result))\n",
    "    for i in range(iterrange):\n",
    "        if real_pep['parent_name'] not in result[i]['proteins']:\n",
    "            continue\n",
    "\n",
    "        corrseq = result[i]['sequence'] == real_pep['sequence']\n",
    "        corrprotein = real_pep['parent_name'] in result[i]['proteins']\n",
    "        \n",
    "        non_hyb_stats[i]['correct_parent'] += 1 if corrprotein else 0 \n",
    "        non_hyb_stats[i]['correct_sequence'] += 1 if corrseq else 0\n",
    "        non_hyb_stats[i]['correct'] += 1 if (corrseq and corrprotein) else 0\n",
    "        \n",
    "        if i != 0 and not (corrprotein and corrseq):\n",
    "            wrong_nonhybrid_alignments.append((result, real_pep))\n",
    "        return\n"
   ]
  },
  {
   "cell_type": "code",
   "execution_count": 11,
   "metadata": {},
   "outputs": [
    {
     "name": "stdout",
     "output_type": "stream",
     "text": [
      "appending ['RPSQFM', 'RSPQMF', 'RSPFQM'] to bad for real pep RSPQFM\n",
      "appending ['VQVDDDD', 'VVQDDDD', 'VQVDAEED'] to bad for real pep VQVDDD\n",
      "appending ['NVVGADDD', 'NVQVDDDD', 'NVVGADDDD'] to bad for real pep NVQVDDD\n",
      "appending ['RNVQVDDDD', 'RNVQVDAEED', 'RNVQVDEAED'] to bad for real pep RNVQVDDD\n",
      "appending ['SRVNARDDD', 'SRNVQVDDDD', 'SRNVQVDEAED'] to bad for real pep SRNVQVDDD\n",
      "appending ['FSRNVQVDDDD', 'FSRNVQVNRLC', 'FSRNVQVDWGSGSDTLRCL'] to bad for real pep FSRNVQVDDD\n",
      "appending ['VFSRNVQVDDDD', 'VFSRNVQVEVNARDDD', 'VFSRNVQVNARDDD'] to bad for real pep VFSRNVQVDDD\n",
      "appending ['TVFSRNVQVDDDD', 'TVFSRNVQVNARDDD', 'TVFSRNVQVEVNARDDD'] to bad for real pep TVFSRNVQVDDD\n"
     ]
    }
   ],
   "source": [
    "expfile = '../data/testing_output/experiment_info.json'\n",
    "exp = json.load(open(expfile, 'r'))\n",
    "\n",
    "scan_no_keyed_results = {x['spectrum']['scan_number']: x for _, x in summary.items()}\n",
    "sorted_keys = [int(c) for c in exp['peptides'].keys()]\n",
    "\n",
    "for k in sorted_keys:\n",
    "    pep = exp['peptides'][str(k)]\n",
    "    if k not in scan_no_keyed_results:\n",
    "        continue\n",
    "    if 'hybrid' in pep['peptide_name'].lower():\n",
    "        hyb_calc(scan_no_keyed_results[k]['alignments'], pep)\n",
    "    else:\n",
    "        non_hyb_calc(scan_no_keyed_results[k]['alignments'], pep)"
   ]
  },
  {
   "cell_type": "code",
   "execution_count": 12,
   "metadata": {},
   "outputs": [
    {
     "name": "stdout",
     "output_type": "stream",
     "text": [
      "NON HYBRID STATS\n",
      "------------------------------------------------------------\n",
      "number of peptides.......................................100\n",
      "Top alignment\n",
      "\n",
      "correct alignment........................................100\n",
      "%........................................................100\n",
      "correct protein..........................................100\n",
      "%........................................................100\n",
      "correct sequence.........................................100\n",
      "%........................................................100\n",
      "\n",
      "2 to 5 alignment\n",
      "\n",
      "number of peptides.......................................100\n",
      "correct alignment..........................................0\n",
      "%..........................................................0\n",
      "correct protein............................................0\n",
      "%..........................................................0\n",
      "correct sequence...........................................0\n",
      "%..........................................................0\n",
      "\n",
      "============================================================\n",
      "\n",
      "HYBRID STATS\n",
      "------------------------------------------------------------\n",
      "number of peptides.......................................245\n",
      "Top alignment\n",
      "\n",
      "correct alignment........................................222\n",
      "%.........................................................90\n",
      "correct sequence.........................................233\n",
      "%.........................................................95\n",
      "correct left parent......................................233\n",
      "%.........................................................95\n",
      "correct right parent.....................................229\n",
      "%.........................................................93\n",
      "\n",
      "2 to 5 alignment\n",
      "\n",
      "correct alignment..........................................2\n",
      "%..........................................................0\n",
      "correct sequence...........................................4\n",
      "%..........................................................1\n",
      "correct left parent.......................................17\n",
      "%..........................................................6\n",
      "correct right parent.......................................3\n",
      "%..........................................................1\n",
      "\n"
     ]
    }
   ],
   "source": [
    "percent = lambda a, b: (a* 100 // b)\n",
    "\n",
    "printstat = lambda name, stat: '{}{}\\n'.format(name, str(stat).rjust(60-len(name), '.'))\n",
    "\n",
    "secbreak = ''.join(['=' for _ in range(60)])\n",
    "headbreak = ''.join(['-' for _ in range(60)])\n",
    "nhcount = non_hyb_stats['count']\n",
    "topalign = non_hyb_stats[0]\n",
    "otheralign = {}\n",
    "for i in range(1, n):\n",
    "    for stat in topalign.keys():\n",
    "        if stat not in otheralign:\n",
    "            otheralign[stat] = 0\n",
    "        otheralign[stat] += non_hyb_stats[i][stat]\n",
    "\n",
    "######################## NON HYBRID PRETTY PRINTING ############################\n",
    "\n",
    "nonhybsum = 'NON HYBRID STATS\\n' + headbreak + '\\n'\n",
    "nonhybsum += printstat('number of peptides', nhcount) \n",
    "nonhybsum += 'Top alignment\\n\\n'\n",
    "nonhybsum += printstat('correct alignment', topalign['correct'])\n",
    "nonhybsum += printstat('%', percent(topalign['correct'], nhcount)) \n",
    "nonhybsum += printstat('correct protein', topalign['correct_parent']) \n",
    "nonhybsum += printstat('%', percent(topalign['correct_parent'], nhcount))\n",
    "nonhybsum += printstat('correct sequence', topalign['correct_sequence'])\n",
    "nonhybsum += printstat('%', percent(topalign['correct_sequence'], nhcount))\n",
    "\n",
    "nonhybsum += '\\n2 to {} alignment\\n\\n'.format(n)\n",
    "nonhybsum += printstat('number of peptides', nhcount) \n",
    "nonhybsum += printstat('correct alignment', otheralign['correct'])\n",
    "nonhybsum += printstat('%', percent(otheralign['correct'], nhcount)) \n",
    "nonhybsum += printstat('correct protein', otheralign['correct_parent']) \n",
    "nonhybsum += printstat('%', percent(otheralign['correct_parent'], nhcount))\n",
    "nonhybsum += printstat('correct sequence', otheralign['correct_sequence'])\n",
    "nonhybsum += printstat('%', percent(otheralign['correct_sequence'], nhcount))\n",
    "nonhybsum += '\\n' + secbreak + '\\n\\n'\n",
    "\n",
    "############################ HYBRID PRETYY PRINTING ##############################\n",
    "hcount = hyb_stats['count']\n",
    "topalignh = hyb_stats[0]\n",
    "otheralignh = {}\n",
    "for i in range(1, n):\n",
    "    for stat in topalignh.keys():\n",
    "        if stat not in otheralignh:\n",
    "            otheralignh[stat] = 0\n",
    "        otheralignh[stat] += hyb_stats[i][stat]\n",
    "\n",
    "hybsum = 'HYBRID STATS\\n'+ headbreak + '\\n'\n",
    "hybsum += printstat('number of peptides', hcount)\n",
    "hybsum += 'Top alignment\\n\\n'\n",
    "hybsum += printstat('correct alignment', topalignh['correct'])\n",
    "hybsum += printstat('%', percent(topalignh['correct'], hcount))\n",
    "hybsum += printstat('correct sequence', topalignh['correct_sequence'])\n",
    "hybsum += printstat('%', percent(topalignh['correct_sequence'], hcount))\n",
    "hybsum += printstat('correct left parent', topalignh['left_correct_parent'])\n",
    "hybsum += printstat('%', percent(topalignh['left_correct_parent'], hcount))\n",
    "hybsum += printstat('correct right parent', topalignh['right_correct_parent'])\n",
    "hybsum += printstat('%', percent(topalignh['right_correct_parent'], hcount))\n",
    "\n",
    "hybsum += '\\n2 to {} alignment\\n\\n'.format(n)\n",
    "hybsum += printstat('correct alignment', otheralignh['correct'])\n",
    "hybsum += printstat('%', percent(otheralignh['correct'], hcount))\n",
    "hybsum += printstat('correct sequence', otheralignh['correct_sequence'])\n",
    "hybsum += printstat('%', percent(otheralignh['correct_sequence'], hcount))\n",
    "hybsum += printstat('correct left parent', otheralignh['left_correct_parent'])\n",
    "hybsum += printstat('%', percent(otheralignh['left_correct_parent'], hcount))\n",
    "hybsum += printstat('correct right parent', otheralignh['right_correct_parent'])\n",
    "hybsum += printstat('%', percent(otheralignh['right_correct_parent'], hcount))\n",
    "\n",
    "print(nonhybsum + hybsum)"
   ]
  },
  {
   "cell_type": "markdown",
   "metadata": {},
   "source": [
    "## For each of the hybrid missed alignments, see what was chosen instead"
   ]
  },
  {
   "cell_type": "code",
   "execution_count": 14,
   "metadata": {},
   "outputs": [
    {
     "name": "stdout",
     "output_type": "stream",
     "text": [
      "\n",
      "Correct sequence: \t RSPQFM \t RSP-QFM\n",
      "Attempted alignments\n",
      "\tRPSQFM\tRPS-QFM\n",
      "\tRSPQMF\tRSP-QMF\n",
      "\tRSPFQM\tRSP-FQM\n",
      "\n",
      "Correct sequence: \t VQVDDD \t VQV-DDD\n",
      "Attempted alignments\n",
      "\tVQVDDDD\tVQV-DDDD\n",
      "\tVVQDDDD\tVVQ-DDDD\n",
      "\tVQVDAEED\tVQV-DAEED\n",
      "\n",
      "Correct sequence: \t NVQVDDD \t NVQV-DDD\n",
      "Attempted alignments\n",
      "\tNVVGADDD\tNVVGA-DDD\n",
      "\tNVQVDDDD\tNVQV-DDDD\n",
      "\tNVVGADDDD\tNVVGA-DDDD\n",
      "\n",
      "Correct sequence: \t RNVQVDDD \t RNVQV-DDD\n",
      "Attempted alignments\n",
      "\tRNVQVDDDD\tRNVQV-DDDD\n",
      "\tRNVQVDAEED\tRNVQV-DAEED\n",
      "\tRNVQVDEAED\tRNVQV-DEAED\n",
      "\n",
      "Correct sequence: \t SRNVQVDDD \t SRNVQV-DDD\n",
      "Attempted alignments\n",
      "\tSRVNARDDD\tSRV-NARDDD\n",
      "\tSRNVQVDDDD\tSRNVQV-DDDD\n",
      "\tSRNVQVDEAED\tSRNVQV-DEAED\n",
      "\n",
      "Correct sequence: \t FSRNVQVDDD \t FSRNVQV-DDD\n",
      "Attempted alignments\n",
      "\tFSRNVQVDDDD\tFSRNVQV-DDDD\n",
      "\tFSRNVQVNRLC\tFSRNVQV-NRLC\n",
      "\tFSRNVQVDWGSGSDTLRCL\tFSRNVQV-DWGSGSDTLRCL\n",
      "\n",
      "Correct sequence: \t VFSRNVQVDDD \t VFSRNVQV-DDD\n",
      "Attempted alignments\n",
      "\tVFSRNVQVDDDD\tVFSRNVQV-DDDD\n",
      "\tVFSRNVQVEVNARDDD\tVFSRNVQV-EVNARDDD\n",
      "\tVFSRNVQVNARDDD\tVFSRNVQV-NARDDD\n",
      "\n",
      "Correct sequence: \t TVFSRNVQVDDD \t TVFSRNVQV-DDD\n",
      "Attempted alignments\n",
      "\tTVFSRNVQVDDDD\tTVFSRNVQV-DDDD\n",
      "\tTVFSRNVQVNARDDD\tTVFSRNVQV-NARDDD\n",
      "\tTVFSRNVQVEVNARDDD\tTVFSRNVQV-EVNARDDD\n"
     ]
    }
   ],
   "source": [
    "for i, bad in enumerate(wrong_hybrid_alignemnts):\n",
    "    print('\\nCorrect sequence: \\t {} \\t {}'.format(bad[1]['sequence'], bad[1]['hybrid_sequence']))\n",
    "    print('Attempted alignments')\n",
    "    for b in bad[0]:\n",
    "        print('\\t{}\\t{}'.format(b['sequence'], b['hybrid_sequence'] if 'hybrid_sequence' in b else b['sequence']))\n"
   ]
  },
  {
   "cell_type": "code",
   "execution_count": 21,
   "metadata": {},
   "outputs": [
    {
     "name": "stdout",
     "output_type": "stream",
     "text": [
      "119\n"
     ]
    }
   ],
   "source": [
    "print(len(wrong_hybrid_alignemnts))"
   ]
  },
  {
   "cell_type": "code",
   "execution_count": null,
   "metadata": {},
   "outputs": [],
   "source": []
  }
 ],
 "metadata": {
  "kernelspec": {
   "display_name": "Python 3",
   "language": "python",
   "name": "python3"
  },
  "language_info": {
   "codemirror_mode": {
    "name": "ipython",
    "version": 3
   },
   "file_extension": ".py",
   "mimetype": "text/x-python",
   "name": "python",
   "nbconvert_exporter": "python",
   "pygments_lexer": "ipython3",
   "version": "3.7.4"
  }
 },
 "nbformat": 4,
 "nbformat_minor": 4
}

{
 "cells": [
  {
   "cell_type": "markdown",
   "metadata": {},
   "source": [
    "# Run a test of hypedsearch with generated data\n",
    "The following steps describe how the test works\n",
    "1. Load a fasta database\n",
    "2. Generate\n",
    "    1. Hybrid proteins\n",
    "    2. Peptides\n",
    "    3. Hybrid peptides from the hybrid proteins\n",
    "3. Generate spectra for all the peptides created\n",
    "4. Run hypedsearch with the .fasta file (no hybrid proteins included) and the spectra files\n",
    "5. Load the summary.json file created\n",
    "6. Determine what number of alignments were correct"
   ]
  },
  {
   "cell_type": "markdown",
   "metadata": {},
   "source": [
    "## 1. Load fasta database"
   ]
  },
  {
   "cell_type": "code",
   "execution_count": 1,
   "metadata": {},
   "outputs": [],
   "source": [
    "import os\n",
    "import sys\n",
    "module_path = os.path.abspath(os.path.join('..'))\n",
    "if module_path not in sys.path:\n",
    "    sys.path.append(module_path)\n",
    "module_path = os.path.abspath(os.path.join('../..'))\n",
    "if module_path not in sys.path:\n",
    "    sys.path.append(module_path)\n",
    "    \n",
    "from src.file_io import fasta\n",
    "\n",
    "fasta_file = '../data/databases/100prots.fasta'\n",
    "database = fasta.read(fasta_file, True)\n",
    "\n",
    "database = {x['name']: x for x in database}"
   ]
  },
  {
   "cell_type": "markdown",
   "metadata": {},
   "source": [
    "## 2.  Generate the peptides, hybrid proteins and peptides"
   ]
  },
  {
   "cell_type": "code",
   "execution_count": 2,
   "metadata": {},
   "outputs": [
    {
     "name": "stdout",
     "output_type": "stream",
     "text": [
      "Generating hybrid protein 0/5[0%]\r",
      "Generating hybrid protein 1/5[20%]\r",
      "Generating hybrid protein 2/5[40%]\r",
      "Generating hybrid protein 3/5[60%]\r",
      "Generating hybrid protein 4/5[80%]\r\n",
      "Finished generating hybrid proteins\n"
     ]
    }
   ],
   "source": [
    "from sequence_generation import proteins, peptides\n",
    "test_directory = '../data/testing_output/'\n",
    "\n",
    "num_hybs = 5\n",
    "min_length= 5\n",
    "max_length = 35\n",
    "num_peptides = 1000\n",
    "min_cont = 3 #min contribution for each side of a hybrid\n",
    "\n",
    "# make hybrid proteins\n",
    "hyb_prots = proteins.generate_hybrids([x for _, x in database.items()], num_hybs, min_contribution=max_length)\n",
    "# create peptides\n",
    "non_hybrid_peps = peptides.gen_peptides([x for _, x in database.items()], num_peptides, min_length=min_length, max_length=max_length, digest='random', dist='beta')\n",
    "# create hybrid peptides\n",
    "hyb_peps = peptides.gen_peptides(hyb_prots, num_hybs, min_length=min_length, max_length=max_length, digest='random', min_contribution=min_cont, hybrid_list=True)\n",
    "\n",
    "all_proteins_raw = [x for _,x in database.items()] + hyb_prots\n",
    "all_peptides_raw = non_hybrid_peps + hyb_peps\n",
    "\n",
    "peptides = {}\n",
    "for i, pep in enumerate(all_peptides_raw):\n",
    "    peptides[i] = pep\n",
    "    peptides[i]['scan_no'] = i"
   ]
  },
  {
   "cell_type": "markdown",
   "metadata": {},
   "source": [
    "## 2.1 Save this info so that I can analyze it later from Neo-Fusion"
   ]
  },
  {
   "cell_type": "code",
   "execution_count": 3,
   "metadata": {},
   "outputs": [],
   "source": [
    "import json\n",
    "experiment_info_file_name = 'experiment_info.json'\n",
    "\n",
    "exp = {'database': fasta_file, 'peptides': peptides}\n",
    "with open(test_directory + experiment_info_file_name, 'w') as o:\n",
    "    json.dump(exp, o)\n"
   ]
  },
  {
   "cell_type": "markdown",
   "metadata": {},
   "source": [
    "## 2.2 Load data if available instead of creating it"
   ]
  },
  {
   "cell_type": "code",
   "execution_count": 4,
   "metadata": {},
   "outputs": [],
   "source": [
    "# import json\n",
    "\n",
    "# expfile = '../data/testing_output/experiment_info.json'\n",
    "# exp = json.load(open(expfile, 'r'))\n",
    "# peptides = exp['peptides']"
   ]
  },
  {
   "cell_type": "markdown",
   "metadata": {},
   "source": [
    "## 3. Generate spectra"
   ]
  },
  {
   "cell_type": "code",
   "execution_count": 5,
   "metadata": {},
   "outputs": [
    {
     "name": "stderr",
     "output_type": "stream",
     "text": [
      "Determination of memory status is not supported on this \n",
      " platform, measuring for memoryleaks will never fail\n"
     ]
    },
    {
     "data": {
      "text/plain": [
       "'../data/testing_output/testSpectraFile.mzML'"
      ]
     },
     "execution_count": 5,
     "metadata": {},
     "output_type": "execute_result"
    }
   ],
   "source": [
    "from src.spectra import gen_spectra\n",
    "from src.utils import utils\n",
    "from sequence_generation import write_spectra\n",
    "\n",
    "utils.make_dir(test_directory)\n",
    "\n",
    "spectra = []\n",
    "sorted_keys = [int(c) for c in peptides.keys()]\n",
    "sorted_keys.sort()\n",
    "for k in sorted_keys:\n",
    "    pep = peptides[k]\n",
    "    cont = gen_spectra.gen_spectrum(pep['sequence'])\n",
    "    spec = cont['spectrum']\n",
    "    pm = cont['precursor_mass']\n",
    "    spectra.append({'spectrum': spec, 'precursor_mass': pm})\n",
    "write_spectra.write_mzml('testSpectraFile', spectra, output_dir=test_directory)\n"
   ]
  },
  {
   "cell_type": "markdown",
   "metadata": {},
   "source": [
    "## 4. Run hypedsearch"
   ]
  },
  {
   "cell_type": "code",
   "execution_count": 6,
   "metadata": {},
   "outputs": [
    {
     "name": "stdout",
     "output_type": "stream",
     "text": [
      "Loading database...\n",
      "Done. Indexing database...\n",
      "7487 unique kmers\n",
      "Done.\n",
      "Number of 3-mers found in the database: 7487\n",
      "Analyzing spectra file 0/1[0%]\n",
      "\n",
      "Analyzing spectrum 1240/1241[99%]\n",
      "Total runtime: 2090.013411998749 seconds\n"
     ]
    }
   ],
   "source": [
    "import os\n",
    "import sys\n",
    "module_path = os.path.abspath(os.path.join('..'))\n",
    "if module_path not in sys.path:\n",
    "    sys.path.append(module_path)\n",
    "module_path = os.path.abspath(os.path.join('../..'))\n",
    "if module_path not in sys.path:\n",
    "    sys.path.append(module_path)\n",
    "\n",
    "from src import runner\n",
    "from time import time\n",
    "\n",
    "test_directory = '../data/testing_output/'\n",
    "fasta_file = '../data/databases/100prots.fasta'\n",
    "\n",
    "args = {\n",
    "    'spectra_folder': test_directory,\n",
    "    'database_file': fasta_file,\n",
    "    'output_dir': test_directory,\n",
    "    'min_peptide_len': 3,\n",
    "    'max_peptide_len': 35,\n",
    "}\n",
    "st = time()\n",
    "runner.run(args)\n",
    "print('\\nTotal runtime: {} seconds'.format(time() - st))"
   ]
  },
  {
   "cell_type": "markdown",
   "metadata": {},
   "source": [
    "## 5. Load the summary json"
   ]
  },
  {
   "cell_type": "code",
   "execution_count": 7,
   "metadata": {},
   "outputs": [
    {
     "name": "stdout",
     "output_type": "stream",
     "text": [
      "../data/testing_output/\n"
     ]
    }
   ],
   "source": [
    "import json\n",
    "test_directory = '../data/testing_output/'\n",
    "\n",
    "summary = json.load(open(test_directory + 'summary.json', 'r'))\n",
    "print(test_directory)"
   ]
  },
  {
   "cell_type": "markdown",
   "metadata": {},
   "source": [
    "#### summary format\n",
    "Each entry is of the form\n",
    "```python\n",
    "{\n",
    "    '<file-name>_<scan_number>':{\n",
    "        'spectrum': {...},\n",
    "        'alignments': [{...}],\n",
    "        'b_scores': [{...}],\n",
    "        'y_score': [{...}]\n",
    "    }\n",
    "}\n",
    "```\n",
    "The only attribute we're really interested in is the alignments attribute which has the form\n",
    "```python\n",
    "{\n",
    "    'alignments': [{\n",
    "        'b_alignment': {...},\n",
    "        'y_alignment': {...}, \n",
    "        'spectrum': [...],\n",
    "        'protein': str,\n",
    "        'alignment_score': float,\n",
    "        'sequence': str,\n",
    "        'hybrid': bool,\n",
    "        'hybrid_sequence': str\n",
    "    }, ...\n",
    "    ]\n",
    "}\n",
    "```"
   ]
  },
  {
   "cell_type": "markdown",
   "metadata": {},
   "source": [
    "## 6. Determine which number of alignments were correct\n",
    "This needs to be broken down into hybrid and non hybrid peptides to get some stats on how well its doing"
   ]
  },
  {
   "cell_type": "code",
   "execution_count": 8,
   "metadata": {},
   "outputs": [],
   "source": [
    "n = 5\n",
    "non_hyb_stats = {i: {\n",
    "        'correct': 0,\n",
    "        'correct_parent': 0,\n",
    "        'correct_length': 0,\n",
    "        'correct_start': 0,\n",
    "        'correct_end': 0\n",
    "    } for i in range(n)}\n",
    "non_hyb_stats['count'] = 0\n",
    "\n",
    "hyb_stats ={i: {\n",
    "        'left_correct_parent': 0,\n",
    "        'right_correct_parent': 0, \n",
    "        'correct_start': 0,\n",
    "        'correct_end': 0,\n",
    "        'correct_length': 0,\n",
    "        'correct': 0\n",
    "    } for i in range(n)}\n",
    "hyb_stats['count'] = 0\n"
   ]
  },
  {
   "cell_type": "code",
   "execution_count": 9,
   "metadata": {},
   "outputs": [],
   "source": [
    "def hyb_calc(result, real_pep):\n",
    "    hyb_stats['count'] += 1\n",
    "    for i in range(min(n, len(result))):\n",
    "        res = result[i]\n",
    "        result_hybrid = bool(res['hybrid'])\n",
    "        if not result_hybrid: \n",
    "            continue\n",
    "        \n",
    "        left_corrparent = real_pep['left_parent_name'] == res['protein'].split('~')[0]\n",
    "        right_corrparent = real_pep['right_parent_name'] == res['protein'].split('~')[1]\n",
    "        corr_start = real_pep['left_parent_starting_position'] == res['b_alignment']['kmer']['start_position']\n",
    "        corr_end = real_pep['right_parent_ending_position'] == res['y_alignment']['kmer']['end_position']\n",
    "        corr_len = len(real_pep['sequence']) == len(res['sequence'])\n",
    "        \n",
    "        if not left_corrparent or not right_corrparent:\n",
    "            continue\n",
    "        \n",
    "        hyb_stats[i]['left_correct_parent'] += 1 if left_corrparent else 0\n",
    "        hyb_stats[i]['right_correct_parent'] += 1 if right_corrparent else 0\n",
    "        hyb_stats[i]['correct_start'] += 1 if corr_start else 0\n",
    "        hyb_stats[i]['correct_end'] += 1 if corr_end else 0\n",
    "        hyb_stats[i]['correct_length'] += 1 if corr_len else 0\n",
    "        hyb_stats[i]['correct'] += 1 if left_corrparent and right_corrparent and corr_start and corr_end and corr_len else 0\n",
    "        "
   ]
  },
  {
   "cell_type": "code",
   "execution_count": 10,
   "metadata": {},
   "outputs": [],
   "source": [
    "def non_hyb_calc(result, real_pep):\n",
    "    non_hyb_stats['count'] += 1\n",
    "    iterrange = min(n, len(result))\n",
    "    for i in range(iterrange):\n",
    "        if result[i]['protein'] != real_pep['parent_name']:\n",
    "            continue\n",
    "        corrlen = len(result[i]['sequence']) == len(real_pep['sequence'])\n",
    "        resstartpos = min(result[i]['b_alignment']['kmer']['start_position'], result[i]['y_alignment']['kmer']['start_position'])\n",
    "        resendpos = min(result[i]['b_alignment']['kmer']['end_position'], result[i]['y_alignment']['kmer']['end_position'])\n",
    "        corrstart = resstartpos == real_pep['starting_position']\n",
    "        corrend = resendpos == real_pep['ending_position']\n",
    "        \n",
    "        non_hyb_stats[i]['correct_parent'] += 1 \n",
    "        non_hyb_stats[i]['correct_length'] += 1 if corrlen else 0\n",
    "        non_hyb_stats[i]['correct_start'] += 1 if corrstart else 0\n",
    "        non_hyb_stats[i]['correct_end'] += 1 if corrend else 0\n",
    "        non_hyb_stats[i]['correct'] += 1 if (corrend and corrlen and corrstart) else 0\n",
    "        return\n"
   ]
  },
  {
   "cell_type": "code",
   "execution_count": 11,
   "metadata": {},
   "outputs": [],
   "source": [
    "expfile = '../data/testing_output/experiment_info.json'\n",
    "exp = json.load(open(expfile, 'r'))\n",
    "\n",
    "scan_no_keyed_results = {x['spectrum']['scan_number']: x for _, x in summary.items()}\n",
    "sorted_keys = [int(c) for c in exp['peptides'].keys()]\n",
    "\n",
    "for k in sorted_keys:\n",
    "    pep = exp['peptides'][str(k)]\n",
    "    if k not in scan_no_keyed_results:\n",
    "        continue\n",
    "    if 'hybrid' in pep['peptide_name'].lower():\n",
    "        hyb_calc(scan_no_keyed_results[k]['alignments'], pep)\n",
    "    else:\n",
    "        non_hyb_calc(scan_no_keyed_results[k]['alignments'], pep)"
   ]
  },
  {
   "cell_type": "code",
   "execution_count": 12,
   "metadata": {},
   "outputs": [
    {
     "name": "stdout",
     "output_type": "stream",
     "text": [
      "NON HYBRID STATS\n",
      "------------------------------------------------------------\n",
      "number of peptides.......................................996\n",
      "Top alignment\n",
      "\n",
      "correct alignment........................................979\n",
      "%.........................................................98\n",
      "correct protein..........................................982\n",
      "%.........................................................98\n",
      "correct starting position................................980\n",
      "%.........................................................98\n",
      "correct ending position..................................979\n",
      "%.........................................................98\n",
      "correct length...........................................982\n",
      "%.........................................................98\n",
      "\n",
      "2 to 5 alignment\n",
      "\n",
      "number of peptides.......................................996\n",
      "correct alignment..........................................4\n",
      "%..........................................................0\n",
      "correct protein............................................6\n",
      "%..........................................................0\n",
      "correct starting position..................................6\n",
      "%..........................................................0\n",
      "correct ending position....................................4\n",
      "%..........................................................0\n",
      "correct length.............................................6\n",
      "%..........................................................0\n",
      "\n",
      "============================================================\n",
      "\n",
      "HYBRID STATS\n",
      "------------------------------------------------------------\n",
      "number of peptides.......................................245\n",
      "Top alignment\n",
      "\n",
      "correct alignment........................................164\n",
      "%.........................................................66\n",
      "correct left parent......................................164\n",
      "%.........................................................66\n",
      "correct right parent.....................................164\n",
      "%.........................................................66\n",
      "correct starting position................................164\n",
      "%.........................................................66\n",
      "correct ending position..................................164\n",
      "%.........................................................66\n",
      "correct length...........................................982\n",
      "%.........................................................66\n",
      "\n",
      "2 to 5 alignment\n",
      "\n",
      "correct alignment.........................................32\n",
      "%.........................................................13\n",
      "correct left parent.......................................34\n",
      "%.........................................................13\n",
      "correct right parent......................................34\n",
      "%.........................................................13\n",
      "correct starting position.................................34\n",
      "%.........................................................13\n",
      "correct ending position...................................32\n",
      "%.........................................................13\n",
      "correct length.............................................6\n",
      "%.........................................................13\n",
      "\n"
     ]
    }
   ],
   "source": [
    "percent = lambda a, b: (a* 100 // b)\n",
    "\n",
    "printstat = lambda name, stat: '{}{}\\n'.format(name, str(stat).rjust(60-len(name), '.'))\n",
    "\n",
    "secbreak = ''.join(['=' for _ in range(60)])\n",
    "headbreak = ''.join(['-' for _ in range(60)])\n",
    "nhcount = non_hyb_stats['count']\n",
    "topalign = non_hyb_stats[0]\n",
    "otheralign = {}\n",
    "for i in range(1, n):\n",
    "    for stat in topalign.keys():\n",
    "        if stat not in otheralign:\n",
    "            otheralign[stat] = 0\n",
    "        otheralign[stat] += non_hyb_stats[i][stat]\n",
    "\n",
    "######################## NON HYBRID PRETTY PRINTING ############################\n",
    "\n",
    "nonhybsum = 'NON HYBRID STATS\\n' + headbreak + '\\n'\n",
    "nonhybsum += printstat('number of peptides', nhcount) \n",
    "nonhybsum += 'Top alignment\\n\\n'\n",
    "nonhybsum += printstat('correct alignment', topalign['correct'])\n",
    "nonhybsum += printstat('%', percent(topalign['correct'], nhcount)) \n",
    "nonhybsum += printstat('correct protein', topalign['correct_parent']) \n",
    "nonhybsum += printstat('%', percent(topalign['correct_parent'], nhcount))\n",
    "nonhybsum += printstat('correct starting position', topalign['correct_start'])\n",
    "nonhybsum += printstat('%', percent(topalign['correct_start'], nhcount))\n",
    "nonhybsum += printstat('correct ending position', topalign['correct_end'])\n",
    "nonhybsum += printstat('%', percent(topalign['correct_end'], nhcount))\n",
    "nonhybsum += printstat('correct length', topalign['correct_length'])\n",
    "nonhybsum += printstat('%', percent(topalign['correct_length'], nhcount))\n",
    "\n",
    "nonhybsum += '\\n2 to {} alignment\\n\\n'.format(n)\n",
    "nonhybsum += printstat('number of peptides', nhcount) \n",
    "nonhybsum += printstat('correct alignment', otheralign['correct'])\n",
    "nonhybsum += printstat('%', percent(otheralign['correct'], nhcount)) \n",
    "nonhybsum += printstat('correct protein', otheralign['correct_parent']) \n",
    "nonhybsum += printstat('%', percent(otheralign['correct_parent'], nhcount))\n",
    "nonhybsum += printstat('correct starting position', otheralign['correct_start'])\n",
    "nonhybsum += printstat('%', percent(otheralign['correct_start'], nhcount))\n",
    "nonhybsum += printstat('correct ending position', otheralign['correct_end'])\n",
    "nonhybsum += printstat('%', percent(otheralign['correct_end'], nhcount))\n",
    "nonhybsum += printstat('correct length', otheralign['correct_length'])\n",
    "nonhybsum += printstat('%', percent(otheralign['correct_length'], nhcount))\n",
    "nonhybsum += '\\n' + secbreak + '\\n\\n'\n",
    "\n",
    "############################ HYBRID PRETYY PRINTING ##############################\n",
    "hcount = hyb_stats['count']\n",
    "topalignh = hyb_stats[0]\n",
    "otheralignh = {}\n",
    "for i in range(1, n):\n",
    "    for stat in topalignh.keys():\n",
    "        if stat not in otheralignh:\n",
    "            otheralignh[stat] = 0\n",
    "        otheralignh[stat] += hyb_stats[i][stat]\n",
    "\n",
    "hybsum = 'HYBRID STATS\\n'+ headbreak + '\\n'\n",
    "hybsum += printstat('number of peptides', hcount)\n",
    "hybsum += 'Top alignment\\n\\n'\n",
    "hybsum += printstat('correct alignment', topalignh['correct'])\n",
    "hybsum += printstat('%', percent(topalignh['correct'], hcount))\n",
    "hybsum += printstat('correct left parent', topalignh['left_correct_parent'])\n",
    "hybsum += printstat('%', percent(topalignh['left_correct_parent'], hcount))\n",
    "hybsum += printstat('correct right parent', topalignh['right_correct_parent'])\n",
    "hybsum += printstat('%', percent(topalignh['right_correct_parent'], hcount))\n",
    "hybsum += printstat('correct starting position', topalignh['correct_start'])\n",
    "hybsum += printstat('%', percent(topalignh['correct_start'], hcount))\n",
    "hybsum += printstat('correct ending position', topalignh['correct_end'])\n",
    "hybsum += printstat('%', percent(topalignh['correct_end'], hcount))\n",
    "hybsum += printstat('correct length', topalign['correct_length'])\n",
    "hybsum += printstat('%', percent(topalignh['correct_length'], hcount))\n",
    "\n",
    "hybsum += '\\n2 to {} alignment\\n\\n'.format(n)\n",
    "hybsum += printstat('correct alignment', otheralignh['correct'])\n",
    "hybsum += printstat('%', percent(otheralignh['correct'], hcount))\n",
    "hybsum += printstat('correct left parent', otheralignh['left_correct_parent'])\n",
    "hybsum += printstat('%', percent(otheralignh['left_correct_parent'], hcount))\n",
    "hybsum += printstat('correct right parent', otheralignh['right_correct_parent'])\n",
    "hybsum += printstat('%', percent(otheralignh['right_correct_parent'], hcount))\n",
    "hybsum += printstat('correct starting position', otheralignh['correct_start'])\n",
    "hybsum += printstat('%', percent(otheralignh['correct_start'], hcount))\n",
    "hybsum += printstat('correct ending position', otheralignh['correct_end'])\n",
    "hybsum += printstat('%', percent(otheralignh['correct_end'], hcount))\n",
    "hybsum += printstat('correct length', otheralign['correct_length'])\n",
    "hybsum += printstat('%', percent(otheralignh['correct_length'], hcount))\n",
    "print(nonhybsum + hybsum)"
   ]
  },
  {
   "cell_type": "code",
   "execution_count": 13,
   "metadata": {},
   "outputs": [
    {
     "name": "stdout",
     "output_type": "stream",
     "text": [
      "spectrum\n",
      "alignments\n",
      "b_scores\n",
      "y_scores\n",
      "{'peptide_name': 'peptide_0010', 'sequence': 'MKQTISNACGTI', 'parent_name': 'UCHL3_MOUSE', 'parent_sequence': 'MEGQRWLPLEANPEVTNQFLKQLGLHPNWQFVDVYGMEPELLSMVPRPVCAVLLLFPITEKYEVFRTEEEEKIKSQGQDVTSSVYFMKQTISNACGTIGLIHAIANNKDKMHFESGSTLKKFLEESVSMSPEERAKFLENYDAIRVTHETSAHEGQTEAPSIDEKVDLHFIALVHVDGHLYELDGRKPFPINHGKTSDETLLEDAIEVCKKFMERDPDELRFNAIALSAA', 'starting_position': 86, 'ending_position': 97, 'scan_no': 10}\n"
     ]
    }
   ],
   "source": [
    "def printres(x):\n",
    "    for a in x:\n",
    "        print(a)\n",
    "printres(scan_no_keyed_results[10])\n",
    "print(exp['peptides']['10'])"
   ]
  },
  {
   "cell_type": "code",
   "execution_count": null,
   "metadata": {},
   "outputs": [],
   "source": []
  }
 ],
 "metadata": {
  "kernelspec": {
   "display_name": "Python 3",
   "language": "python",
   "name": "python3"
  },
  "language_info": {
   "codemirror_mode": {
    "name": "ipython",
    "version": 3
   },
   "file_extension": ".py",
   "mimetype": "text/x-python",
   "name": "python",
   "nbconvert_exporter": "python",
   "pygments_lexer": "ipython3",
   "version": "3.7.4"
  }
 },
 "nbformat": 4,
 "nbformat_minor": 4
}

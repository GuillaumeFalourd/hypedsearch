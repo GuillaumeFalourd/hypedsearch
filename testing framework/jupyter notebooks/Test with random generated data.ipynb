{
 "cells": [
  {
   "cell_type": "markdown",
   "metadata": {},
   "source": [
    "# Run a test of hypedsearch with generated data\n",
    "The following steps describe how the test works\n",
    "1. Load a fasta database\n",
    "2. Generate\n",
    "    1. Hybrid proteins\n",
    "    2. Peptides\n",
    "    3. Hybrid peptides from the hybrid proteins\n",
    "3. Generate spectra for all the peptides created\n",
    "4. Run hypedsearch with the .fasta file (no hybrid proteins included) and the spectra files\n",
    "5. Load the summary.json file created\n",
    "6. Determine what number of alignments were correct"
   ]
  },
  {
   "cell_type": "markdown",
   "metadata": {},
   "source": [
    "## 1. Load fasta database"
   ]
  },
  {
   "cell_type": "code",
   "execution_count": 1,
   "metadata": {},
   "outputs": [],
   "source": [
    "import os\n",
    "import sys\n",
    "module_path = os.path.abspath(os.path.join('..'))\n",
    "if module_path not in sys.path:\n",
    "    sys.path.append(module_path)\n",
    "module_path = os.path.abspath(os.path.join('../..'))\n",
    "if module_path not in sys.path:\n",
    "    sys.path.append(module_path)\n",
    "    \n",
    "from src.file_io import fasta\n",
    "\n",
    "fasta_file = '../data/databases/4prots.fasta'\n",
    "database = fasta.read(fasta_file, True)\n",
    "\n",
    "database = {x['name']: x for x in database}"
   ]
  },
  {
   "cell_type": "markdown",
   "metadata": {},
   "source": [
    "## 2.  Generate the peptides, hybrid proteins and peptides"
   ]
  },
  {
   "cell_type": "code",
   "execution_count": 2,
   "metadata": {},
   "outputs": [
    {
     "name": "stdout",
     "output_type": "stream",
     "text": [
      "Generating hybrid protein 0/5[0%]\r",
      "Generating hybrid protein 1/5[20%]\r",
      "Generating hybrid protein 2/5[40%]\r",
      "Generating hybrid protein 3/5[60%]\r",
      "Generating hybrid protein 4/5[80%]\r\n",
      "Finished generating hybrid proteins\n"
     ]
    }
   ],
   "source": [
    "from sequence_generation import proteins, peptides\n",
    "test_directory = '../data/testing_output/'\n",
    "\n",
    "num_hybs = 5\n",
    "min_length= 5\n",
    "max_length = 35\n",
    "num_peptides = 100\n",
    "min_cont = 3 #min contribution for each side of a hybrid\n",
    "\n",
    "# make hybrid proteins\n",
    "hyb_prots = proteins.generate_hybrids([x for _, x in database.items()], num_hybs, min_contribution=max_length)\n",
    "# create peptides\n",
    "non_hybrid_peps = peptides.gen_peptides([x for _, x in database.items()], num_peptides, min_length=min_length, max_length=max_length, digest='random', dist='beta')\n",
    "# create hybrid peptides\n",
    "hyb_peps = peptides.gen_peptides(hyb_prots, num_hybs, min_length=min_length, max_length=max_length, digest='random', min_contribution=min_cont, hybrid_list=True)\n",
    "\n",
    "all_proteins_raw = [x for _,x in database.items()] + hyb_prots\n",
    "all_peptides_raw = non_hybrid_peps + hyb_peps\n",
    "\n",
    "peptides = {}\n",
    "for i, pep in enumerate(all_peptides_raw):\n",
    "    peptides[i] = pep\n",
    "    peptides[i]['scan_no'] = i"
   ]
  },
  {
   "cell_type": "markdown",
   "metadata": {},
   "source": [
    "## 2.1 Save this info so that I can analyze it later from Neo-Fusion"
   ]
  },
  {
   "cell_type": "code",
   "execution_count": 3,
   "metadata": {},
   "outputs": [],
   "source": [
    "import json\n",
    "experiment_info_file_name = 'experiment_info.json'\n",
    "\n",
    "exp = {'database': fasta_file, 'peptides': peptides}\n",
    "with open(test_directory + experiment_info_file_name, 'w') as o:\n",
    "    json.dump(exp, o)\n"
   ]
  },
  {
   "cell_type": "markdown",
   "metadata": {},
   "source": [
    "## 2.2 Load data if available instead of creating it"
   ]
  },
  {
   "cell_type": "code",
   "execution_count": 4,
   "metadata": {},
   "outputs": [],
   "source": [
    "# import json\n",
    "\n",
    "# expfile = '../data/testing_output/experiment_info.json'\n",
    "# exp = json.load(open(expfile, 'r'))\n",
    "# peptides = exp['peptides']"
   ]
  },
  {
   "cell_type": "markdown",
   "metadata": {},
   "source": [
    "## 3. Generate spectra"
   ]
  },
  {
   "cell_type": "code",
   "execution_count": 5,
   "metadata": {},
   "outputs": [
    {
     "name": "stderr",
     "output_type": "stream",
     "text": [
      "Determination of memory status is not supported on this \n",
      " platform, measuring for memoryleaks will never fail\n"
     ]
    },
    {
     "data": {
      "text/plain": [
       "'../data/testing_output/testSpectraFile.mzML'"
      ]
     },
     "execution_count": 5,
     "metadata": {},
     "output_type": "execute_result"
    }
   ],
   "source": [
    "from src.spectra import gen_spectra\n",
    "from src.utils import utils\n",
    "from sequence_generation import write_spectra\n",
    "\n",
    "utils.make_dir(test_directory)\n",
    "\n",
    "spectra = []\n",
    "sorted_keys = [int(c) for c in peptides.keys()]\n",
    "sorted_keys.sort()\n",
    "for k in sorted_keys:\n",
    "    pep = peptides[k]\n",
    "    cont = gen_spectra.gen_spectrum(pep['sequence'])\n",
    "    spec = cont['spectrum']\n",
    "    pm = cont['precursor_mass']\n",
    "    spectra.append({'spectrum': spec, 'precursor_mass': pm})\n",
    "write_spectra.write_mzml('testSpectraFile', spectra, output_dir=test_directory)\n"
   ]
  },
  {
   "cell_type": "markdown",
   "metadata": {},
   "source": [
    "## 4. Run hypedsearch"
   ]
  },
  {
   "cell_type": "code",
   "execution_count": 6,
   "metadata": {},
   "outputs": [
    {
     "name": "stdout",
     "output_type": "stream",
     "text": [
      "Loading database...\n",
      "Done. Indexing database...\n",
      "1426 unique kmers\n",
      "Done.\n",
      "Number of 3-mers found in the database: 1426\n",
      "Analyzing spectra file 0/1[0%]\n",
      "\n",
      "Analyzing spectrum 344/345[99%]\n",
      "Total runtime: 16.389214992523193 seconds\n"
     ]
    }
   ],
   "source": [
    "import os\n",
    "import sys\n",
    "module_path = os.path.abspath(os.path.join('..'))\n",
    "if module_path not in sys.path:\n",
    "    sys.path.append(module_path)\n",
    "module_path = os.path.abspath(os.path.join('../..'))\n",
    "if module_path not in sys.path:\n",
    "    sys.path.append(module_path)\n",
    "\n",
    "from src import runner\n",
    "from time import time\n",
    "\n",
    "test_directory = '../data/testing_output/'\n",
    "fasta_file = '../data/databases/4prots.fasta'\n",
    "\n",
    "args = {\n",
    "    'spectra_folder': test_directory,\n",
    "    'database_file': fasta_file,\n",
    "    'output_dir': test_directory,\n",
    "    'min_peptide_len': 3,\n",
    "    'max_peptide_len': 35,\n",
    "}\n",
    "st = time()\n",
    "runner.run(args)\n",
    "print('\\nTotal runtime: {} seconds'.format(time() - st))"
   ]
  },
  {
   "cell_type": "markdown",
   "metadata": {},
   "source": [
    "## 5. Load the summary json"
   ]
  },
  {
   "cell_type": "code",
   "execution_count": 7,
   "metadata": {},
   "outputs": [
    {
     "name": "stdout",
     "output_type": "stream",
     "text": [
      "../data/testing_output/\n"
     ]
    }
   ],
   "source": [
    "import json\n",
    "test_directory = '../data/testing_output/'\n",
    "\n",
    "summary = json.load(open(test_directory + 'summary.json', 'r'))\n",
    "print(test_directory)"
   ]
  },
  {
   "cell_type": "markdown",
   "metadata": {},
   "source": [
    "#### summary format\n",
    "Each entry is of the form\n",
    "```python\n",
    "{\n",
    "    '<file-name>_<scan_number>':{\n",
    "        'spectrum': {...},\n",
    "        'alignments': [{...}],\n",
    "        'b_scores': [{...}],\n",
    "        'y_score': [{...}]\n",
    "    }\n",
    "}\n",
    "```\n",
    "The only attribute we're really interested in is the alignments attribute which has the form\n",
    "```python\n",
    "{\n",
    "    'alignments': [{\n",
    "        'b_alignment': {...},\n",
    "        'y_alignment': {...}, \n",
    "        'spectrum': [...],\n",
    "        'protein': str,\n",
    "        'alignment_score': float,\n",
    "        'sequence': str,\n",
    "        'hybrid': bool,\n",
    "        'hybrid_sequence': str\n",
    "    }, ...\n",
    "    ]\n",
    "}\n",
    "```"
   ]
  },
  {
   "cell_type": "markdown",
   "metadata": {},
   "source": [
    "## 6. Determine which number of alignments were correct\n",
    "This needs to be broken down into hybrid and non hybrid peptides to get some stats on how well its doing"
   ]
  },
  {
   "cell_type": "code",
   "execution_count": 9,
   "metadata": {},
   "outputs": [],
   "source": [
    "n = 5\n",
    "non_hyb_stats = {i: {\n",
    "        'correct': 0,\n",
    "        'correct_parent': 0,\n",
    "        'correct_length': 0,\n",
    "        'correct_start': 0,\n",
    "        'correct_end': 0\n",
    "    } for i in range(n)}\n",
    "non_hyb_stats['count'] = 0\n",
    "\n",
    "hyb_stats ={i: {\n",
    "        'left_correct_parent': 0,\n",
    "        'right_correct_parent': 0, \n",
    "        'correct_start': 0,\n",
    "        'correct_end': 0,\n",
    "        'correct_length': 0,\n",
    "        'correct': 0\n",
    "    } for i in range(n)}\n",
    "hyb_stats['count'] = 0\n"
   ]
  },
  {
   "cell_type": "code",
   "execution_count": 28,
   "metadata": {},
   "outputs": [],
   "source": [
    "def hyb_calc(result, real_pep):\n",
    "    hyb_stats['count'] += 1\n",
    "    for i in range(min(n, len(result))):\n",
    "        res = result[i]\n",
    "        result_hybrid = 'hybrid' in res['protein_name']\n",
    "        if not result_hybrid: \n",
    "            continue\n",
    "        \n",
    "        left_corrparent = real_pep['left_parent_name'] == res['protein'].split('-')[0]\n",
    "        right_corrparent = real_pep['right_parent_name'] == res['protein'].split('-')[1]\n",
    "        corr_start = real_pep['left_parent_starting_position'] == res['b_alignment']['kmer']['start_position']\n",
    "        corr_end = real_pep['right_parent_ending_position'] == res['y_alignment']['kmer']['end_position']\n",
    "        corr_len = len(real_pep['sequence']) == res['length']\n",
    "        \n",
    "        if not left_corrparent or not right_corrparent:\n",
    "            continue\n",
    "        \n",
    "        hyb_stats[i]['left_correct_parent'] += 1 if left_corrparent else 0\n",
    "        hyb_stats[i]['right_correct_parent'] += 1 if right_corrparent else 0\n",
    "        hyb_stats[i]['correct_start'] += 1 if corr_start else 0\n",
    "        hyb_stats[i]['correct_end'] += 1 if corr_end else 0\n",
    "        hyb_stats[i]['correct_length'] += 1 if corr_len else 0\n",
    "        hyb_stats[i]['correct'] += 1 if left_corrparent and right_corrparent and corr_start and corr_end and corr_len else 0\n",
    "        "
   ]
  },
  {
   "cell_type": "code",
   "execution_count": 29,
   "metadata": {},
   "outputs": [],
   "source": [
    "def non_hyb_calc(result, real_pep):\n",
    "    non_hyb_stats['count'] += 1\n",
    "    iterrange = min(n, len(result))\n",
    "    for i in range(iterrange):\n",
    "        if result[i]['protein'] != real_pep['parent_name']:\n",
    "            continue\n",
    "        corrlen = len(result[i]['sequence']) == len(real_pep['sequence'])\n",
    "        resstartpos = min(result[i]['b_alignment']['kmer']['start_position'], result[i]['y_alignment']['kmer']['start_position'])\n",
    "        resendpos = min(result[i]['b_alignment']['kmer']['end_position'], result[i]['y_alignment']['kmer']['end_position'])\n",
    "        corrstart = resstartpos == real_pep['starting_position']\n",
    "        corrend = resendpos == real_pep['ending_position']\n",
    "        \n",
    "        non_hyb_stats[i]['correct_parent'] += 1 \n",
    "        non_hyb_stats[i]['correct_length'] += 1 if corrlen else 0\n",
    "        non_hyb_stats[i]['correct_start'] += 1 if corrstart else 0\n",
    "        non_hyb_stats[i]['correct_end'] += 1 if corrend else 0\n",
    "        non_hyb_stats[i]['correct'] += 1 if (corrend and corrlen and corrstart) else 0\n",
    "        return\n"
   ]
  },
  {
   "cell_type": "code",
   "execution_count": 30,
   "metadata": {},
   "outputs": [
    {
     "ename": "KeyError",
     "evalue": "'protein_name'",
     "output_type": "error",
     "traceback": [
      "\u001b[0;31m---------------------------------------------------------------------------\u001b[0m",
      "\u001b[0;31mKeyError\u001b[0m                                  Traceback (most recent call last)",
      "\u001b[0;32m<ipython-input-30-c28f0a513fc9>\u001b[0m in \u001b[0;36m<module>\u001b[0;34m\u001b[0m\n\u001b[1;32m      8\u001b[0m     \u001b[0mpep\u001b[0m \u001b[0;34m=\u001b[0m \u001b[0mexp\u001b[0m\u001b[0;34m[\u001b[0m\u001b[0;34m'peptides'\u001b[0m\u001b[0;34m]\u001b[0m\u001b[0;34m[\u001b[0m\u001b[0mstr\u001b[0m\u001b[0;34m(\u001b[0m\u001b[0mk\u001b[0m\u001b[0;34m)\u001b[0m\u001b[0;34m]\u001b[0m\u001b[0;34m\u001b[0m\u001b[0;34m\u001b[0m\u001b[0m\n\u001b[1;32m      9\u001b[0m     \u001b[0;32mif\u001b[0m \u001b[0;34m'hybrid'\u001b[0m \u001b[0;32min\u001b[0m \u001b[0mpep\u001b[0m\u001b[0;34m[\u001b[0m\u001b[0;34m'peptide_name'\u001b[0m\u001b[0;34m]\u001b[0m\u001b[0;34m.\u001b[0m\u001b[0mlower\u001b[0m\u001b[0;34m(\u001b[0m\u001b[0;34m)\u001b[0m\u001b[0;34m:\u001b[0m\u001b[0;34m\u001b[0m\u001b[0;34m\u001b[0m\u001b[0m\n\u001b[0;32m---> 10\u001b[0;31m         \u001b[0mhyb_calc\u001b[0m\u001b[0;34m(\u001b[0m\u001b[0mscan_no_keyed_results\u001b[0m\u001b[0;34m[\u001b[0m\u001b[0mk\u001b[0m\u001b[0;34m]\u001b[0m\u001b[0;34m[\u001b[0m\u001b[0;34m'alignments'\u001b[0m\u001b[0;34m]\u001b[0m\u001b[0;34m,\u001b[0m \u001b[0mpep\u001b[0m\u001b[0;34m)\u001b[0m\u001b[0;34m\u001b[0m\u001b[0;34m\u001b[0m\u001b[0m\n\u001b[0m\u001b[1;32m     11\u001b[0m     \u001b[0;32melse\u001b[0m\u001b[0;34m:\u001b[0m\u001b[0;34m\u001b[0m\u001b[0;34m\u001b[0m\u001b[0m\n\u001b[1;32m     12\u001b[0m         \u001b[0mnon_hyb_calc\u001b[0m\u001b[0;34m(\u001b[0m\u001b[0mscan_no_keyed_results\u001b[0m\u001b[0;34m[\u001b[0m\u001b[0mk\u001b[0m\u001b[0;34m]\u001b[0m\u001b[0;34m[\u001b[0m\u001b[0;34m'alignments'\u001b[0m\u001b[0;34m]\u001b[0m\u001b[0;34m,\u001b[0m \u001b[0mpep\u001b[0m\u001b[0;34m)\u001b[0m\u001b[0;34m\u001b[0m\u001b[0;34m\u001b[0m\u001b[0m\n",
      "\u001b[0;32m<ipython-input-28-d441af782d8b>\u001b[0m in \u001b[0;36mhyb_calc\u001b[0;34m(result, real_pep)\u001b[0m\n\u001b[1;32m      3\u001b[0m     \u001b[0;32mfor\u001b[0m \u001b[0mi\u001b[0m \u001b[0;32min\u001b[0m \u001b[0mrange\u001b[0m\u001b[0;34m(\u001b[0m\u001b[0mmin\u001b[0m\u001b[0;34m(\u001b[0m\u001b[0mn\u001b[0m\u001b[0;34m,\u001b[0m \u001b[0mlen\u001b[0m\u001b[0;34m(\u001b[0m\u001b[0mresult\u001b[0m\u001b[0;34m)\u001b[0m\u001b[0;34m)\u001b[0m\u001b[0;34m)\u001b[0m\u001b[0;34m:\u001b[0m\u001b[0;34m\u001b[0m\u001b[0;34m\u001b[0m\u001b[0m\n\u001b[1;32m      4\u001b[0m         \u001b[0mres\u001b[0m \u001b[0;34m=\u001b[0m \u001b[0mresult\u001b[0m\u001b[0;34m[\u001b[0m\u001b[0mi\u001b[0m\u001b[0;34m]\u001b[0m\u001b[0;34m\u001b[0m\u001b[0;34m\u001b[0m\u001b[0m\n\u001b[0;32m----> 5\u001b[0;31m         \u001b[0mresult_hybrid\u001b[0m \u001b[0;34m=\u001b[0m \u001b[0;34m'hybrid'\u001b[0m \u001b[0;32min\u001b[0m \u001b[0mres\u001b[0m\u001b[0;34m[\u001b[0m\u001b[0;34m'protein_name'\u001b[0m\u001b[0;34m]\u001b[0m\u001b[0;34m\u001b[0m\u001b[0;34m\u001b[0m\u001b[0m\n\u001b[0m\u001b[1;32m      6\u001b[0m         \u001b[0;32mif\u001b[0m \u001b[0;32mnot\u001b[0m \u001b[0mresult_hybrid\u001b[0m\u001b[0;34m:\u001b[0m\u001b[0;34m\u001b[0m\u001b[0;34m\u001b[0m\u001b[0m\n\u001b[1;32m      7\u001b[0m             \u001b[0;32mcontinue\u001b[0m\u001b[0;34m\u001b[0m\u001b[0;34m\u001b[0m\u001b[0m\n",
      "\u001b[0;31mKeyError\u001b[0m: 'protein_name'"
     ]
    }
   ],
   "source": [
    "expfile = '../data/testing_output/experiment_info.json'\n",
    "exp = json.load(open(expfile, 'r'))\n",
    "\n",
    "scan_no_keyed_results = {x['spectrum']['scan_number']: x for _, x in summary.items()}\n",
    "sorted_keys = [int(c) for c in exp['peptides'].keys()]\n",
    "\n",
    "for k in sorted_keys:\n",
    "    pep = exp['peptides'][str(k)]\n",
    "    if 'hybrid' in pep['peptide_name'].lower():\n",
    "        hyb_calc(scan_no_keyed_results[k]['alignments'], pep)\n",
    "    else:\n",
    "        non_hyb_calc(scan_no_keyed_results[k]['alignments'], pep)"
   ]
  },
  {
   "cell_type": "code",
   "execution_count": 31,
   "metadata": {},
   "outputs": [
    {
     "name": "stdout",
     "output_type": "stream",
     "text": [
      "NON HYBRID STATS\n",
      "------------------------------------------------------------\n",
      "number of peptides.......................................700\n",
      "Top alignment\n",
      "\n",
      "correct alignment..........................................0\n",
      "%..........................................................0\n",
      "correct protein..........................................266\n",
      "%.........................................................38\n",
      "correct starting position................................245\n",
      "%.........................................................35\n",
      "correct ending position....................................0\n",
      "%..........................................................0\n",
      "correct length............................................21\n",
      "%..........................................................3\n",
      "\n",
      "2 to 5 alignment\n",
      "\n",
      "number of peptides.......................................700\n",
      "correct alignment..........................................0\n",
      "%..........................................................0\n",
      "correct protein............................................0\n",
      "%..........................................................0\n",
      "correct starting position..................................0\n",
      "%..........................................................0\n",
      "correct ending position....................................0\n",
      "%..........................................................0\n",
      "correct length.............................................0\n",
      "%..........................................................0\n",
      "\n",
      "============================================================\n",
      "\n",
      "HYBRID STATS (if the top 5 alignments contained either left or right it appears)\n",
      "------------------------------------------------------------\n",
      "number of peptides.........................................7\n",
      "Top alignment\n",
      "\n",
      "correct alignment..........................................0\n",
      "%..........................................................0\n",
      "correct left parent........................................0\n",
      "%..........................................................0\n",
      "correct right parent.......................................0\n",
      "%..........................................................0\n",
      "correct starting position..................................0\n",
      "%..........................................................0\n",
      "correct ending position....................................0\n",
      "%..........................................................0\n",
      "correct length............................................21\n",
      "%..........................................................0\n",
      "\n",
      "2 to 5 alignment\n",
      "\n",
      "correct alignment..........................................0\n",
      "%..........................................................0\n",
      "correct left parent........................................0\n",
      "%..........................................................0\n",
      "correct right parent.......................................0\n",
      "%..........................................................0\n",
      "correct starting position..................................0\n",
      "%..........................................................0\n",
      "correct ending position....................................0\n",
      "%..........................................................0\n",
      "correct length.............................................0\n",
      "%..........................................................0\n",
      "\n"
     ]
    }
   ],
   "source": [
    "percent = lambda a, b: (a* 100 // b)\n",
    "\n",
    "printstat = lambda name, stat: '{}{}\\n'.format(name, str(stat).rjust(60-len(name), '.'))\n",
    "\n",
    "secbreak = ''.join(['=' for _ in range(60)])\n",
    "headbreak = ''.join(['-' for _ in range(60)])\n",
    "nhcount = non_hyb_stats['count']\n",
    "topalign = non_hyb_stats[0]\n",
    "otheralign = {}\n",
    "for i in range(1, n):\n",
    "    for stat in topalign.keys():\n",
    "        if stat not in otheralign:\n",
    "            otheralign[stat] = 0\n",
    "        otheralign[stat] += non_hyb_stats[i][stat]\n",
    "\n",
    "######################## NON HYBRID PRETTY PRINTING ############################\n",
    "\n",
    "nonhybsum = 'NON HYBRID STATS\\n' + headbreak + '\\n'\n",
    "nonhybsum += printstat('number of peptides', nhcount) \n",
    "nonhybsum += 'Top alignment\\n\\n'\n",
    "nonhybsum += printstat('correct alignment', topalign['correct'])\n",
    "nonhybsum += printstat('%', percent(topalign['correct'], nhcount)) \n",
    "nonhybsum += printstat('correct protein', topalign['correct_parent']) \n",
    "nonhybsum += printstat('%', percent(topalign['correct_parent'], nhcount))\n",
    "nonhybsum += printstat('correct starting position', topalign['correct_start'])\n",
    "nonhybsum += printstat('%', percent(topalign['correct_start'], nhcount))\n",
    "nonhybsum += printstat('correct ending position', topalign['correct_end'])\n",
    "nonhybsum += printstat('%', percent(topalign['correct_end'], nhcount))\n",
    "nonhybsum += printstat('correct length', topalign['correct_length'])\n",
    "nonhybsum += printstat('%', percent(topalign['correct_length'], nhcount))\n",
    "\n",
    "nonhybsum += '\\n2 to {} alignment\\n\\n'.format(n)\n",
    "nonhybsum += printstat('number of peptides', nhcount) \n",
    "nonhybsum += printstat('correct alignment', otheralign['correct'])\n",
    "nonhybsum += printstat('%', percent(otheralign['correct'], nhcount)) \n",
    "nonhybsum += printstat('correct protein', otheralign['correct_parent']) \n",
    "nonhybsum += printstat('%', percent(otheralign['correct_parent'], nhcount))\n",
    "nonhybsum += printstat('correct starting position', otheralign['correct_start'])\n",
    "nonhybsum += printstat('%', percent(otheralign['correct_start'], nhcount))\n",
    "nonhybsum += printstat('correct ending position', otheralign['correct_end'])\n",
    "nonhybsum += printstat('%', percent(otheralign['correct_end'], nhcount))\n",
    "nonhybsum += printstat('correct length', otheralign['correct_length'])\n",
    "nonhybsum += printstat('%', percent(otheralign['correct_length'], nhcount))\n",
    "nonhybsum += '\\n' + secbreak + '\\n\\n'\n",
    "\n",
    "############################ HYBRID PRETYY PRINTING ##############################\n",
    "hcount = hyb_stats['count']\n",
    "topalignh = hyb_stats[0]\n",
    "otheralignh = {}\n",
    "for i in range(1, n):\n",
    "    for stat in topalignh.keys():\n",
    "        if stat not in otheralignh:\n",
    "            otheralignh[stat] = 0\n",
    "        otheralignh[stat] += hyb_stats[i][stat]\n",
    "\n",
    "hybsum = 'HYBRID STATS (if the top {} alignments contained either left or right it appears)\\n'.format(n) + headbreak + '\\n'\n",
    "hybsum += printstat('number of peptides', hcount)\n",
    "hybsum += 'Top alignment\\n\\n'\n",
    "hybsum += printstat('correct alignment', topalignh['correct'])\n",
    "hybsum += printstat('%', percent(topalignh['correct'], hcount))\n",
    "hybsum += printstat('correct left parent', topalignh['left_correct_parent'])\n",
    "hybsum += printstat('%', percent(topalignh['left_correct_parent'], hcount))\n",
    "hybsum += printstat('correct right parent', topalignh['right_correct_parent'])\n",
    "hybsum += printstat('%', percent(topalignh['right_correct_parent'], hcount))\n",
    "hybsum += printstat('correct starting position', topalignh['correct_start'])\n",
    "hybsum += printstat('%', percent(topalignh['correct_start'], hcount))\n",
    "hybsum += printstat('correct ending position', topalignh['correct_end'])\n",
    "hybsum += printstat('%', percent(topalignh['correct_end'], hcount))\n",
    "hybsum += printstat('correct length', topalign['correct_length'])\n",
    "hybsum += printstat('%', percent(topalignh['correct_length'], hcount))\n",
    "\n",
    "hybsum += '\\n2 to {} alignment\\n\\n'.format(n)\n",
    "hybsum += printstat('correct alignment', otheralignh['correct'])\n",
    "hybsum += printstat('%', percent(otheralignh['correct'], hcount))\n",
    "hybsum += printstat('correct left parent', otheralignh['left_correct_parent'])\n",
    "hybsum += printstat('%', percent(otheralignh['left_correct_parent'], hcount))\n",
    "hybsum += printstat('correct right parent', otheralignh['right_correct_parent'])\n",
    "hybsum += printstat('%', percent(otheralignh['right_correct_parent'], hcount))\n",
    "hybsum += printstat('correct starting position', otheralignh['correct_start'])\n",
    "hybsum += printstat('%', percent(otheralignh['correct_start'], hcount))\n",
    "hybsum += printstat('correct ending position', otheralignh['correct_end'])\n",
    "hybsum += printstat('%', percent(otheralignh['correct_end'], hcount))\n",
    "hybsum += printstat('correct length', otheralign['correct_length'])\n",
    "hybsum += printstat('%', percent(otheralignh['correct_length'], hcount))\n",
    "print(nonhybsum + hybsum)"
   ]
  },
  {
   "cell_type": "code",
   "execution_count": 12,
   "metadata": {},
   "outputs": [
    {
     "name": "stdout",
     "output_type": "stream",
     "text": [
      "[0, 1, 2, 3, 4, 5, 6, 7, 8, 9, 10, 11, 12, 13, 14, 15, 16, 17, 18, 19, 20, 21, 22, 23, 24, 25, 26, 27, 28, 29, 30, 31, 32, 33, 34, 35, 36, 37, 38, 39, 40, 41, 42, 43, 44, 45, 46, 47, 48, 49, 50, 51, 52, 53, 54, 55, 56, 57, 58, 59, 60, 61, 62, 63, 64, 65, 66, 67, 68, 69, 70, 71, 72, 73, 74, 75, 76, 77, 78, 79, 80, 81, 82, 83, 84, 85, 86, 87, 88, 89, 90, 91, 92, 93, 94, 95, 96, 97, 98, 99, 100, 101, 102, 103, 104, 105, 106, 107, 108, 109, 110, 111, 112, 113, 114, 115, 116, 117, 118, 119, 120, 121, 122, 123, 124, 125, 126, 127, 128, 129, 130, 131, 132, 133, 134, 135, 136, 137, 138, 139, 140, 141, 142, 143, 144, 145, 146, 147, 148, 149, 150, 151, 152, 153, 154, 155, 156, 157, 158, 159, 160, 161, 162, 163, 164, 165, 166, 167, 168, 169, 170, 171, 172, 173, 174, 175, 176, 177, 178, 179, 180, 181, 182, 183, 184, 185, 186, 187, 188, 189, 190, 191, 192, 193, 194, 195, 196, 197, 198, 199, 200, 201, 202, 203, 204, 205, 206, 207, 208, 209, 210, 211, 212, 213, 214, 215, 216, 217, 218, 219, 220, 221, 222, 223, 224, 225, 226, 227, 228, 229, 230, 231, 232, 233, 234, 235, 236, 237, 238, 239, 240, 241, 242, 243, 244, 245, 246, 247, 248, 249, 250, 251, 252, 253, 254, 255, 256, 257, 258, 259, 260, 261, 262, 263, 264, 265, 266, 267, 268, 269, 270, 271, 272, 273, 274, 275, 276, 277, 278, 279, 280, 281, 282, 283, 284, 285, 286, 287, 288, 289, 290, 291, 292, 293, 294, 295, 296, 297, 298, 299, 300, 301, 302, 303, 304, 305, 306, 307, 308, 309, 310, 311, 312, 313, 314, 315, 316, 317, 318, 319, 320, 321, 322, 323, 324, 325, 326, 327, 328, 329, 330, 331, 332, 333, 334, 335, 336, 337, 338, 339, 340, 341, 342, 343, 344]\n"
     ]
    }
   ],
   "source": [
    "print(sorted_keys)"
   ]
  },
  {
   "cell_type": "code",
   "execution_count": 11,
   "metadata": {},
   "outputs": [
    {
     "name": "stdout",
     "output_type": "stream",
     "text": [
      "{'starting_position': 451, 'ending_position': 465, 'length': 30, 'sequence': 'SHATEQRPQKEPIDQSHATEQRPQKEPIDQ', 'b_score': 0.9, 'y_score': 0.8666666666666667, 'confidence': 1.7666666666666666, 'protein_name': 'caprin-1', 'spectrum': [44.523290435, 74.041847785, 88.03930443499999, 113.05274643499999, 131.555319285, 147.076419135, 148.571303435, 188.097351285, 199.095142935, 225.09821643499998, 236.62373328500001, 262.103362135, 263.616439435, 296.135330435, 301.145029785, 327.645728435, 365.192511285, 375.187426135, 397.18300943500003, 405.696283935, 429.22180028500003, 454.222665935, 472.24019013500003, 477.74818228500004, 518.251954935, 526.225602435, 555.7987377850001, 582.299436435, 601.282783135, 619.828026785, 646.820732935, 654.284180435, 684.3493232850001, 695.347114935, 729.377746135, 734.8731627850001, 751.889146935, 770.3917197850001, 809.402618435, 810.385291435, 838.9211757850001, 857.4363241350001, 873.4319074350001, 882.4371897850001, 907.438055435, 954.4890881350001, 1035.4966334350001, 1110.5901991350001, 1163.5915964350002, 1238.6487771350003, 1292.6341894350003, 1367.6913701350004, 1389.6869534350003, 1468.7390491350004, 1502.7710174350002, 1539.7761631350004, 1617.7979604350003, 1676.8350751350004, 1745.8565384350004, 1763.8671031350004], 'hybrid': False}\n",
      "{'starting_position': 451, 'ending_position': 344, 'length': 18, 'sequence': 'SHATEQRPQKEPIDQLDQ', 'b_score': 0.8833333333333333, 'y_score': 0.16666666666666666, 'confidence': 1.05, 'protein_name': 'caprin-1-dixin-hybrid', 'spectrum': [44.523290435, 74.041847785, 88.03930443499999, 113.05274643499999, 131.555319285, 147.076419135, 148.571303435, 188.097351285, 199.095142935, 225.09821643499998, 236.62373328500001, 262.103362135, 263.616439435, 296.135330435, 301.145029785, 327.645728435, 365.192511285, 375.187426135, 397.18300943500003, 405.696283935, 429.22180028500003, 454.222665935, 472.24019013500003, 477.74818228500004, 518.251954935, 526.225602435, 555.7987377850001, 582.299436435, 601.282783135, 619.828026785, 646.820732935, 654.284180435, 684.3493232850001, 695.347114935, 729.377746135, 734.8731627850001, 751.889146935, 770.3917197850001, 809.402618435, 810.385291435, 838.9211757850001, 857.4363241350001, 873.4319074350001, 882.4371897850001, 907.438055435, 954.4890881350001, 1035.4966334350001, 1110.5901991350001, 1163.5915964350002, 1238.6487771350003, 1292.6341894350003, 1367.6913701350004, 1389.6869534350003, 1468.7390491350004, 1502.7710174350002, 1539.7761631350004, 1617.7979604350003, 1676.8350751350004, 1745.8565384350004, 1763.8671031350004], 'hybrid': True}\n",
      "{'starting_position': 451, 'ending_position': 74, 'length': 18, 'sequence': 'SHATEQRPQKEPIDQEDQ', 'b_score': 0.8833333333333333, 'y_score': 0.11666666666666667, 'confidence': 1.0, 'protein_name': 'caprin-1-brain-derived-neurotrophic-factor-hybrid', 'spectrum': [44.523290435, 74.041847785, 88.03930443499999, 113.05274643499999, 131.555319285, 147.076419135, 148.571303435, 188.097351285, 199.095142935, 225.09821643499998, 236.62373328500001, 262.103362135, 263.616439435, 296.135330435, 301.145029785, 327.645728435, 365.192511285, 375.187426135, 397.18300943500003, 405.696283935, 429.22180028500003, 454.222665935, 472.24019013500003, 477.74818228500004, 518.251954935, 526.225602435, 555.7987377850001, 582.299436435, 601.282783135, 619.828026785, 646.820732935, 654.284180435, 684.3493232850001, 695.347114935, 729.377746135, 734.8731627850001, 751.889146935, 770.3917197850001, 809.402618435, 810.385291435, 838.9211757850001, 857.4363241350001, 873.4319074350001, 882.4371897850001, 907.438055435, 954.4890881350001, 1035.4966334350001, 1110.5901991350001, 1163.5915964350002, 1238.6487771350003, 1292.6341894350003, 1367.6913701350004, 1389.6869534350003, 1468.7390491350004, 1502.7710174350002, 1539.7761631350004, 1617.7979604350003, 1676.8350751350004, 1745.8565384350004, 1763.8671031350004], 'hybrid': True}\n",
      "{'peptide_name': 'peptide_010', 'sequence': 'QRVQDL', 'parent_name': 'caprin-1', 'parent_sequence': 'MPSATSHSGSGSKSSGPPPPSGSSGSEAAAGAGAAAPASQHPATGTGAVQTEAMKQILGVIDKKLRNLEKKKGKLDDYQERMNKGERLNQDQLDAVSKYQEVTNNLEFAKELQRSFMALSQDIQKTIKKTARREQLMREEAEQKRLKTVLELQYVLDKLGDDEVRTDLKQGLNGVPILSEEELSLLDEFYKLVDPERDMSLRLNEQYEHASIHLWDLLEGKEKPVCGTTYKVLKEIVERVFQSNYFDSTHNHQNGLCEEEEAASAPAVEDQVPEAEPEPAEEYTEQSEVESTEYVNRQFMAETQFTSGEKEQVDEWTVETVEVVNSLQQQPQAASPSVPEPHSLTPVAQADPLVRRQRVQDLMAQMQGPYNFIQDSMLDFENQTLDPAIVSAQPMNPTQNMDMPQLVCPPVHSESRLAQPNQVPVQPEATQVPLVSSTSEGYTASQPLYQPSHATEQRPQKEPIDQIQATISLNTDQTTASSSLPAASQPQVFQAGTSKPLHSSGINVNAAPFQSMQTVFNMNAPVPPVNEPETLKQQNQYQASYNQSFSSQPHQVEQTELQQEQLQTVVGTYHGSPDQSHQVTGNHQQPPQQNTGFPRSNQPYYNSRGVSRGGSRGARGLMNGYRGPANGFRGGYDGYRPSFSNTPNSGYTQSQFSAPRDYSGYQRDGYQQNFKRGSGQSGPRGAPRGRGGPPRPNRGMPQMNTQQVN', 'starting_position': 356, 'ending_position': 361, 'scan_no': 10}\n"
     ]
    }
   ],
   "source": [
    "def printres(x):\n",
    "    for a in x:\n",
    "        print(a)\n",
    "printres(scan_no_keyed_results[10])\n",
    "print(exp['peptides']['10'])"
   ]
  },
  {
   "cell_type": "code",
   "execution_count": 6,
   "metadata": {},
   "outputs": [
    {
     "name": "stdout",
     "output_type": "stream",
     "text": [
      "0.05044028835911905\n"
     ]
    }
   ],
   "source": [
    "times = [0.04854393005371094,\n",
    "0.03188514709472656,\n",
    "0.07952308654785156,\n",
    "0.009988069534301758,\n",
    "0.032685041427612305,\n",
    "0.03956890106201172,\n",
    "0.04300117492675781,\n",
    "0.08851480484008789,\n",
    "0.045289039611816406,\n",
    "0.02736687660217285,\n",
    "0.02323770523071289,\n",
    "0.018954992294311523,\n",
    "0.034613847732543945,\n",
    "0.11969780921936035,\n",
    "0.04238271713256836,\n",
    "0.028224706649780273,\n",
    "0.0736851692199707,\n",
    "0.041391849517822266,\n",
    "0.035143136978149414,\n",
    "0.027536869049072266,\n",
    "0.13624906539916992,\n",
    "0.06007981300354004,\n",
    "0.050293922424316406,\n",
    "0.06956601142883301,\n",
    "0.024131059646606445,\n",
    "0.029160022735595703,\n",
    "0.10336899757385254,\n",
    "0.037492990493774414,\n",
    "0.030508041381835938,\n",
    "0.024775266647338867,\n",
    "0.10678887367248535]\n",
    "\n",
    "import statistics \n",
    "\n",
    "print(statistics.mean(times))"
   ]
  },
  {
   "cell_type": "code",
   "execution_count": null,
   "metadata": {},
   "outputs": [],
   "source": []
  }
 ],
 "metadata": {
  "kernelspec": {
   "display_name": "Python 3",
   "language": "python",
   "name": "python3"
  },
  "language_info": {
   "codemirror_mode": {
    "name": "ipython",
    "version": 3
   },
   "file_extension": ".py",
   "mimetype": "text/x-python",
   "name": "python",
   "nbconvert_exporter": "python",
   "pygments_lexer": "ipython3",
   "version": "3.7.4"
  }
 },
 "nbformat": 4,
 "nbformat_minor": 4
}

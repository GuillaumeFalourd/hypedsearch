{
 "cells": [
  {
   "cell_type": "markdown",
   "metadata": {},
   "source": [
    "## Imports"
   ]
  },
  {
   "cell_type": "code",
   "execution_count": 1,
   "metadata": {},
   "outputs": [],
   "source": [
    "import pandas as pd\n",
    "import json"
   ]
  },
  {
   "cell_type": "markdown",
   "metadata": {},
   "source": [
    "# 1. Hacky False Positive Calculation\n",
    "For the sake of making it easier, we are going to do the FP in a bit of a weird way. We have a dataset with 280 proteins we know to be the acutal source. We will run hypedsearch with both this set and a set of 300 prots that are NOT in this set. Then we will compare results. \n",
    "1. Load in the truth set\n",
    "2. Create another set of proteins that are exclusive of the truth set\n",
    "3. Run hypedsearch on both sets\n",
    "4. Count the number of results that the non truth set had over the truth set"
   ]
  },
  {
   "cell_type": "markdown",
   "metadata": {},
   "source": [
    "## Constants"
   ]
  },
  {
   "cell_type": "code",
   "execution_count": 2,
   "metadata": {},
   "outputs": [],
   "source": [
    "results_dir = '/Users/zacharymcgrath/Desktop/Experiment output/FP/'\n",
    "truth_results_json = results_dir + 'truth/summary.json'\n",
    "non_truth_results_json = results_dir + 'not_truth/summary.json'\n",
    "\n",
    "truth_results = json.load(open(truth_results_json, 'r'))\n",
    "non_truth_results = json.load(open(non_truth_results_json, 'r'))\n",
    "\n",
    "# save them in a dictionary by their id so that we can compare\n",
    "ided_truth = {v['spectrum']['id'].replace('.pkl', ''): v for _, v in truth_results.items()}\n",
    "ided_non_truth = {v['spectrum']['id'].replace('.pkl', ''): v for _, v in non_truth_results.items()}\n"
   ]
  },
  {
   "cell_type": "markdown",
   "metadata": {},
   "source": [
    "## Compare and count"
   ]
  },
  {
   "cell_type": "code",
   "execution_count": 11,
   "metadata": {},
   "outputs": [],
   "source": [
    "truth_greater = {}\n",
    "non_truth_greater = {}\n",
    "\n",
    "for k, v in ided_truth.items():\n",
    "    \n",
    "    if k not in ided_non_truth:\n",
    "        truth_greater[k] = v\n",
    "        \n",
    "    else:\n",
    "        nt_v = ided_non_truth[k]\n",
    "        \n",
    "        # see if we have anything in our alignments\n",
    "        if len(v['alignments']) == 0 and len(nt_v['alignments']) == 0:\n",
    "            continue\n",
    "            \n",
    "        elif len(v['alignments']) == 0 and len(nt_v['alignments']) > 0:\n",
    "            non_truth_greater[k] = v\n",
    "            continue\n",
    "            \n",
    "        elif len(v['alignments']) >0 and len(nt_v['alignments']) == 0:\n",
    "            truth_greater[k] = v \n",
    "            continue\n",
    "\n",
    "        # see which score was greater\n",
    "        best_truth = sorted(v['alignments'], key=lambda x: x['total_score'], reverse=True)[0]['total_score']\n",
    "        best_non_truth = sorted(nt_v['alignments'], key=lambda x: x['total_score'], reverse=True)[0]['total_score']\n",
    "        \n",
    "        # get all sequences with this score\n",
    "        best_truth_seqs = [x['sequence'] for x in v['alignments'] if x['total_score'] >= best_truth]\n",
    "        best_non_truth_seqs = [x['sequence'] for x in nt_v['alignments'] if x['total_score'] >= best_non_truth]\n",
    "        \n",
    "        entry = (v, nt_v)\n",
    "        \n",
    "        if best_truth > best_non_truth:\n",
    "            truth_greater[k] = entry\n",
    "            \n",
    "        elif any([x == y for x in best_truth_seqs for y in best_non_truth_seqs]):\n",
    "            truth_greater[k] = entry\n",
    "            \n",
    "        else:\n",
    "            non_truth_greater[k] = entry\n",
    "            \n",
    "for k, v in ided_non_truth.items():\n",
    "    if k not in ided_truth and k not in truth_greater and k not in non_truth_greater:\n",
    "        non_truth_greater[k] = v"
   ]
  },
  {
   "cell_type": "code",
   "execution_count": 12,
   "metadata": {},
   "outputs": [
    {
     "name": "stdout",
     "output_type": "stream",
     "text": [
      "751\n",
      "323\n"
     ]
    }
   ],
   "source": [
    "print(len(truth_greater))\n",
    "print(len(non_truth_greater))"
   ]
  },
  {
   "cell_type": "markdown",
   "metadata": {},
   "source": [
    "# 2. Get overlap with SpectrumMill results"
   ]
  },
  {
   "cell_type": "markdown",
   "metadata": {},
   "source": [
    "## 1. Load the `ssv` file"
   ]
  },
  {
   "cell_type": "code",
   "execution_count": 1,
   "metadata": {},
   "outputs": [],
   "source": [
    "\n",
    "specmilresultsfile = '/Users/zacharymcgrath/Downloads/NOD2_E3_results.ssv'\n",
    "specmilresults = pd.read_csv(specmilresultsfile, sep=';')\n"
   ]
  },
  {
   "cell_type": "code",
   "execution_count": 2,
   "metadata": {},
   "outputs": [
    {
     "data": {
      "text/html": [
       "<div>\n",
       "<style scoped>\n",
       "    .dataframe tbody tr th:only-of-type {\n",
       "        vertical-align: middle;\n",
       "    }\n",
       "\n",
       "    .dataframe tbody tr th {\n",
       "        vertical-align: top;\n",
       "    }\n",
       "\n",
       "    .dataframe thead th {\n",
       "        text-align: right;\n",
       "    }\n",
       "</style>\n",
       "<table border=\"1\" class=\"dataframe\">\n",
       "  <thead>\n",
       "    <tr style=\"text-align: right;\">\n",
       "      <th></th>\n",
       "      <th>number</th>\n",
       "      <th>filename</th>\n",
       "      <th>parent_charge</th>\n",
       "      <th>score</th>\n",
       "      <th>deltaForwardReverseScore</th>\n",
       "      <th>deltaRank1Rank2Score</th>\n",
       "      <th>percent_scored_peak_intensity</th>\n",
       "      <th>totalIntensity</th>\n",
       "      <th>previous_aa</th>\n",
       "      <th>sequence</th>\n",
       "      <th>next_aa</th>\n",
       "      <th>retentionTimeMin</th>\n",
       "      <th>chromatographicPeakWidthSec</th>\n",
       "      <th>parent_m_over_z</th>\n",
       "      <th>species</th>\n",
       "      <th>entry_name</th>\n",
       "    </tr>\n",
       "  </thead>\n",
       "  <tbody>\n",
       "    <tr>\n",
       "      <td>6</td>\n",
       "      <td>7</td>\n",
       "      <td>NOD2_E3.7065.7065.2</td>\n",
       "      <td>2</td>\n",
       "      <td>12.55</td>\n",
       "      <td>6.28</td>\n",
       "      <td>7.14</td>\n",
       "      <td>81.3</td>\n",
       "      <td>282000.0</td>\n",
       "      <td>(G)</td>\n",
       "      <td>DLPVNSPMTKG</td>\n",
       "      <td>(D)</td>\n",
       "      <td>26.08</td>\n",
       "      <td>15.0</td>\n",
       "      <td>579.7953</td>\n",
       "      <td>MOUSE</td>\n",
       "      <td>HYBRID: mouse ins2C EVEDPQVAQLELGGGPGAGD-LPVNS...</td>\n",
       "    </tr>\n",
       "  </tbody>\n",
       "</table>\n",
       "</div>"
      ],
      "text/plain": [
       "   number             filename  parent_charge  score  \\\n",
       "6       7  NOD2_E3.7065.7065.2              2  12.55   \n",
       "\n",
       "   deltaForwardReverseScore  deltaRank1Rank2Score  \\\n",
       "6                      6.28                  7.14   \n",
       "\n",
       "   percent_scored_peak_intensity  totalIntensity previous_aa     sequence  \\\n",
       "6                           81.3        282000.0         (G)  DLPVNSPMTKG   \n",
       "\n",
       "  next_aa  retentionTimeMin  chromatographicPeakWidthSec  parent_m_over_z  \\\n",
       "6     (D)             26.08                         15.0         579.7953   \n",
       "\n",
       "  species                                         entry_name  \n",
       "6   MOUSE  HYBRID: mouse ins2C EVEDPQVAQLELGGGPGAGD-LPVNS...  "
      ]
     },
     "execution_count": 2,
     "metadata": {},
     "output_type": "execute_result"
    }
   ],
   "source": [
    "specmilresults.loc[specmilresults['filename'] == 'NOD2_E3.7065.7065.2']"
   ]
  },
  {
   "cell_type": "markdown",
   "metadata": {},
   "source": [
    "### 1.a Get the hybrids out of the dataframe"
   ]
  },
  {
   "cell_type": "code",
   "execution_count": 3,
   "metadata": {},
   "outputs": [],
   "source": [
    "specmilhybs = specmilresults.loc[specmilresults['entry_name'].str.contains('HYBRID')]\n",
    "filenameindexedhybs = {row['filename']: row['sequence'] for _, row in specmilhybs.iterrows()}"
   ]
  },
  {
   "cell_type": "markdown",
   "metadata": {},
   "source": [
    "### 1.b Get the non hybrids out of the dataframe"
   ]
  },
  {
   "cell_type": "code",
   "execution_count": 4,
   "metadata": {},
   "outputs": [],
   "source": [
    "specmilnonhybs = specmilresults.loc[~specmilresults['entry_name'].str.contains('HYBRID')]\n",
    "filenameindexednonhybs = {row['filename']: row['sequence'] for _, row in specmilnonhybs.iterrows()}"
   ]
  },
  {
   "cell_type": "markdown",
   "metadata": {},
   "source": [
    "## 2. Check to see the overlap in results"
   ]
  },
  {
   "cell_type": "code",
   "execution_count": 6,
   "metadata": {},
   "outputs": [
    {
     "name": "stdout",
     "output_type": "stream",
     "text": [
      "Found 5/8 hybrids\n",
      "Found 528/1078 non hybrids\n"
     ]
    }
   ],
   "source": [
    "missed = {}\n",
    "found = {}\n",
    "hyb_hits = {}\n",
    "nonhyb_hits = {}\n",
    "\n",
    "for k, v in truth_results_json.items():\n",
    "    _id = v['spectrum']['id'].replace('.pkl', '')\n",
    "    if _id in filenameindexedhybs:\n",
    "        \n",
    "        f = False\n",
    "        # go through each of the sequences and see if we have a match\n",
    "        for a in v['alignments']:\n",
    "            \n",
    "            # replace all Is and Ls with Bs to allow for slight misses in the hybrid case\n",
    "            hyped_res = a['sequence'].replace('I', 'B').replace('L', 'B')\n",
    "            spec_mil_res = filenameindexedhybs[_id].replace('I', 'B').replace('L', 'B')\n",
    "            \n",
    "            if hyped_res == spec_mil_res:\n",
    "                hyb_hits[_id] = v\n",
    "                f = True\n",
    "                found[_id] = v\n",
    "                continue\n",
    "                \n",
    "        if not f: \n",
    "            missed[_id] = v\n",
    "            \n",
    "    else: \n",
    "        \n",
    "        f = False\n",
    "        # go through each of the sequences and see if we have a match\n",
    "        for a in v['alignments']:\n",
    "            if a['sequence'] == filenameindexednonhybs[_id]:\n",
    "                nonhyb_hits[_id] = v\n",
    "                f = True\n",
    "                found[_id] = v\n",
    "                \n",
    "        if not f: \n",
    "            missed[_id] = v\n",
    "            \n",
    "print(f'Found {len(hyb_hits)}/{len(filenameindexedhybs)} hybrids')\n",
    "print(f'Found {len(nonhyb_hits)}/{len(filenameindexednonhybs)} non hybrids')\n",
    "    "
   ]
  },
  {
   "cell_type": "markdown",
   "metadata": {},
   "source": [
    "# 3. Calculate the results overlapped between the FP and the hybrid "
   ]
  },
  {
   "cell_type": "code",
   "execution_count": null,
   "metadata": {},
   "outputs": [],
   "source": []
  }
 ],
 "metadata": {
  "kernelspec": {
   "display_name": "Python 3",
   "language": "python",
   "name": "python3"
  },
  "language_info": {
   "codemirror_mode": {
    "name": "ipython",
    "version": 3
   },
   "file_extension": ".py",
   "mimetype": "text/x-python",
   "name": "python",
   "nbconvert_exporter": "python",
   "pygments_lexer": "ipython3",
   "version": "3.7.4"
  }
 },
 "nbformat": 4,
 "nbformat_minor": 4
}

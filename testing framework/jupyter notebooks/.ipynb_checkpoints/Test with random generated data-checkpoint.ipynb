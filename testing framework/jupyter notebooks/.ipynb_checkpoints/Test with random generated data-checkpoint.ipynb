{
 "cells": [
  {
   "cell_type": "markdown",
   "metadata": {},
   "source": [
    "# Run a test of hypedsearch with generated data\n",
    "The following steps describe how the test works\n",
    "1. Load a fasta database\n",
    "2. Generate\n",
    "    1. Hybrid proteins\n",
    "    2. Peptides\n",
    "    3. Hybrid peptides from the hybrid proteins\n",
    "3. Generate spectra for all the peptides created\n",
    "4. Run hypedsearch with the .fasta file (no hybrid proteins included) and the spectra files\n",
    "5. Load the summary.json file created\n",
    "6. Determine what number of alignments were correct"
   ]
  },
  {
   "cell_type": "markdown",
   "metadata": {},
   "source": [
    "## 1. Load fasta database"
   ]
  },
  {
   "cell_type": "code",
   "execution_count": 1,
   "metadata": {},
   "outputs": [],
   "source": [
    "import os\n",
    "import sys\n",
    "module_path = os.path.abspath(os.path.join('..'))\n",
    "if module_path not in sys.path:\n",
    "    sys.path.append(module_path)\n",
    "module_path = os.path.abspath(os.path.join('../..'))\n",
    "if module_path not in sys.path:\n",
    "    sys.path.append(module_path)\n",
    "    \n",
    "from src.file_io import fasta\n",
    "\n",
    "fasta_file = '../data/databases/6000prots.fasta'\n",
    "database = fasta.read(fasta_file, True)\n",
    "\n",
    "database = {x['name']: x for x in database}"
   ]
  },
  {
   "cell_type": "markdown",
   "metadata": {},
   "source": [
    "## 2.  Generate the peptides, hybrid proteins and peptides"
   ]
  },
  {
   "cell_type": "code",
   "execution_count": 2,
   "metadata": {},
   "outputs": [
    {
     "name": "stdout",
     "output_type": "stream",
     "text": [
      "Generating hybrid protein 0/5[0%]\r",
      "Generating hybrid protein 1/5[20%]\r",
      "Generating hybrid protein 2/5[40%]\r",
      "Generating hybrid protein 3/5[60%]\r",
      "Generating hybrid protein 4/5[80%]\r\n",
      "Finished generating hybrid proteins\n"
     ]
    }
   ],
   "source": [
    "from sequence_generation import proteins, peptides\n",
    "\n",
    "num_hybs = 5\n",
    "min_length= 5\n",
    "max_length = 35\n",
    "num_peptides = 6000\n",
    "min_cont = 3 #min contribution for each side of a hybrid\n",
    "\n",
    "# make hybrid proteins\n",
    "hyb_prots = proteins.generate_hybrids([x for _, x in database.items()], num_hybs, min_contribution=max_length)\n",
    "# create peptides\n",
    "non_hybrid_peps = peptides.gen_peptides([x for _, x in database.items()], num_peptides, min_length=min_length, max_length=max_length, digest='random', dist='beta')\n",
    "# create hybrid peptides\n",
    "hyb_peps = peptides.gen_peptides(hyb_prots, num_hybs, min_length=min_length, max_length=max_length, digest='random', min_contribution=min_cont, hybrid_list=True)\n",
    "\n",
    "all_proteins_raw = [x for _,x in database.items()] + hyb_prots\n",
    "all_peptides_raw = non_hybrid_peps + hyb_peps\n",
    "\n",
    "peptides = {}\n",
    "for i, pep in enumerate(all_peptides_raw):\n",
    "    peptides[i] = pep\n",
    "    peptides[i]['scan_no'] = i"
   ]
  },
  {
   "cell_type": "markdown",
   "metadata": {},
   "source": [
    "## 2.1 Save this info so that I can analyze it later from Neo-Fusion"
   ]
  },
  {
   "cell_type": "code",
   "execution_count": 3,
   "metadata": {},
   "outputs": [],
   "source": [
    "import json\n",
    "experiment_info_file_name = 'experiment_info'\n",
    "\n",
    "exp = {'database': fasta_file, 'peptides': peptides}\n"
   ]
  },
  {
   "cell_type": "markdown",
   "metadata": {},
   "source": [
    "## 3. Generate spectra"
   ]
  },
  {
   "cell_type": "code",
   "execution_count": 4,
   "metadata": {},
   "outputs": [
    {
     "name": "stderr",
     "output_type": "stream",
     "text": [
      "Determination of memory status is not supported on this \n",
      " platform, measuring for memoryleaks will never fail\n"
     ]
    },
    {
     "data": {
      "text/plain": [
       "'../data/testing_output/testSpectraFile.mzML'"
      ]
     },
     "execution_count": 4,
     "metadata": {},
     "output_type": "execute_result"
    }
   ],
   "source": [
    "from src.spectra import gen_spectra\n",
    "from src.utils import utils\n",
    "from sequence_generation import write_spectra\n",
    "\n",
    "test_directory = '../data/testing_output/'\n",
    "utils.make_dir(test_directory)\n",
    "\n",
    "spectra = []\n",
    "sorted_keys = [int(c) for c in peptides.keys()]\n",
    "sorted_keys.sort()\n",
    "for k in sorted_keys:\n",
    "    pep = peptides[k]\n",
    "    cont = gen_spectra.gen_spectrum(pep['sequence'])\n",
    "    spec = cont['spectrum']\n",
    "    pm = cont['precursor_mass']\n",
    "    spectra.append({'spectrum': spec, 'precursor_mass': pm})\n",
    "write_spectra.write_mzml('testSpectraFile', spectra, output_dir=test_directory)\n"
   ]
  },
  {
   "cell_type": "markdown",
   "metadata": {},
   "source": [
    "## 4. Run hypedsearch"
   ]
  },
  {
   "cell_type": "code",
   "execution_count": 5,
   "metadata": {},
   "outputs": [
    {
     "name": "stdout",
     "output_type": "stream",
     "text": [
      "Loading database...\n",
      "Done. Indexing database...\n",
      "8477 unique kmers\n",
      "Done.\n",
      "Analyzing spectra file 0/1[0%]\n",
      "\n",
      "looking through 26673 interesting b spots\n"
     ]
    },
    {
     "ename": "KeyboardInterrupt",
     "evalue": "",
     "output_type": "error",
     "traceback": [
      "\u001b[0;31m---------------------------------------------------------------------------\u001b[0m",
      "\u001b[0;31mKeyboardInterrupt\u001b[0m                         Traceback (most recent call last)",
      "\u001b[0;32m<ipython-input-5-48814f42ebef>\u001b[0m in \u001b[0;36m<module>\u001b[0;34m\u001b[0m\n\u001b[1;32m      8\u001b[0m }\n\u001b[1;32m      9\u001b[0m \u001b[0mst\u001b[0m \u001b[0;34m=\u001b[0m \u001b[0mtime\u001b[0m\u001b[0;34m(\u001b[0m\u001b[0;34m)\u001b[0m\u001b[0;34m\u001b[0m\u001b[0;34m\u001b[0m\u001b[0m\n\u001b[0;32m---> 10\u001b[0;31m \u001b[0mrunner\u001b[0m\u001b[0;34m.\u001b[0m\u001b[0mrun\u001b[0m\u001b[0;34m(\u001b[0m\u001b[0margs\u001b[0m\u001b[0;34m)\u001b[0m\u001b[0;34m\u001b[0m\u001b[0;34m\u001b[0m\u001b[0m\n\u001b[0m\u001b[1;32m     11\u001b[0m \u001b[0mprint\u001b[0m\u001b[0;34m(\u001b[0m\u001b[0;34m'\\nTotal runtime: {} seconds'\u001b[0m\u001b[0;34m.\u001b[0m\u001b[0mformat\u001b[0m\u001b[0;34m(\u001b[0m\u001b[0mtime\u001b[0m\u001b[0;34m(\u001b[0m\u001b[0;34m)\u001b[0m \u001b[0;34m-\u001b[0m \u001b[0mst\u001b[0m\u001b[0;34m)\u001b[0m\u001b[0;34m)\u001b[0m\u001b[0;34m\u001b[0m\u001b[0;34m\u001b[0m\u001b[0m\n",
      "\u001b[0;32m~/Documents/Layer_Research/hypedsearch/src/runner.py\u001b[0m in \u001b[0;36mrun\u001b[0;34m(args)\u001b[0m\n\u001b[1;32m     33\u001b[0m         \u001b[0;32mbreak\u001b[0m\u001b[0;34m\u001b[0m\u001b[0;34m\u001b[0m\u001b[0m\n\u001b[1;32m     34\u001b[0m \u001b[0;34m\u001b[0m\u001b[0m\n\u001b[0;32m---> 35\u001b[0;31m     \u001b[0mmatched_spectra\u001b[0m \u001b[0;34m=\u001b[0m \u001b[0mid_spectra\u001b[0m\u001b[0;34m.\u001b[0m\u001b[0mid_spectra\u001b[0m\u001b[0;34m(\u001b[0m\u001b[0mspectra_files\u001b[0m\u001b[0;34m,\u001b[0m \u001b[0margs\u001b[0m\u001b[0;34m[\u001b[0m\u001b[0;34m'database_file'\u001b[0m\u001b[0;34m]\u001b[0m\u001b[0;34m)\u001b[0m\u001b[0;34m\u001b[0m\u001b[0;34m\u001b[0m\u001b[0m\n\u001b[0m\u001b[1;32m     36\u001b[0m     \u001b[0msummary\u001b[0m\u001b[0;34m.\u001b[0m\u001b[0mgenerate\u001b[0m\u001b[0;34m(\u001b[0m\u001b[0mmatched_spectra\u001b[0m\u001b[0;34m,\u001b[0m \u001b[0margs\u001b[0m\u001b[0;34m[\u001b[0m\u001b[0;34m'output_dir'\u001b[0m\u001b[0;34m]\u001b[0m\u001b[0;34m)\u001b[0m\u001b[0;34m\u001b[0m\u001b[0;34m\u001b[0m\u001b[0m\n\u001b[1;32m     37\u001b[0m \u001b[0;34m\u001b[0m\u001b[0m\n",
      "\u001b[0;32m~/Documents/Layer_Research/hypedsearch/src/identfication/id_spectra.py\u001b[0m in \u001b[0;36mid_spectra\u001b[0;34m(spectra_files, database_file, verbose)\u001b[0m\n\u001b[1;32m     90\u001b[0m         \u001b[0;32mfor\u001b[0m \u001b[0mj\u001b[0m\u001b[0;34m,\u001b[0m \u001b[0mspectrum\u001b[0m \u001b[0;32min\u001b[0m \u001b[0menumerate\u001b[0m\u001b[0;34m(\u001b[0m\u001b[0mspectra\u001b[0m\u001b[0;34m)\u001b[0m\u001b[0;34m:\u001b[0m\u001b[0;34m\u001b[0m\u001b[0;34m\u001b[0m\u001b[0m\n\u001b[1;32m     91\u001b[0m             \u001b[0mprint\u001b[0m\u001b[0;34m(\u001b[0m\u001b[0;34m'Analyzing spectrum {}/{}[{}%]\\r'\u001b[0m\u001b[0;34m.\u001b[0m\u001b[0mformat\u001b[0m\u001b[0;34m(\u001b[0m\u001b[0mj\u001b[0m\u001b[0;34m,\u001b[0m \u001b[0mlen\u001b[0m\u001b[0;34m(\u001b[0m\u001b[0mspectra\u001b[0m\u001b[0;34m)\u001b[0m\u001b[0;34m,\u001b[0m \u001b[0mint\u001b[0m\u001b[0;34m(\u001b[0m\u001b[0mfloat\u001b[0m\u001b[0;34m(\u001b[0m\u001b[0mj\u001b[0m\u001b[0;34m)\u001b[0m\u001b[0;34m/\u001b[0m\u001b[0mfloat\u001b[0m\u001b[0;34m(\u001b[0m\u001b[0mlen\u001b[0m\u001b[0;34m(\u001b[0m\u001b[0mspectra\u001b[0m\u001b[0;34m)\u001b[0m\u001b[0;34m)\u001b[0m \u001b[0;34m*\u001b[0m \u001b[0;36m100\u001b[0m\u001b[0;34m)\u001b[0m\u001b[0;34m)\u001b[0m\u001b[0;34m,\u001b[0m \u001b[0mend\u001b[0m\u001b[0;34m=\u001b[0m\u001b[0;34m''\u001b[0m\u001b[0;34m)\u001b[0m\u001b[0;34m\u001b[0m\u001b[0;34m\u001b[0m\u001b[0m\n\u001b[0;32m---> 92\u001b[0;31m             \u001b[0mentry\u001b[0m \u001b[0;34m=\u001b[0m \u001b[0mid_spectrum\u001b[0m\u001b[0;34m(\u001b[0m\u001b[0mspectrum\u001b[0m\u001b[0;34m,\u001b[0m \u001b[0mdatabase\u001b[0m\u001b[0;34m)\u001b[0m\u001b[0;34m\u001b[0m\u001b[0;34m\u001b[0m\u001b[0m\n\u001b[0m\u001b[1;32m     93\u001b[0m             \u001b[0mentry_name\u001b[0m \u001b[0;34m=\u001b[0m \u001b[0;34m'{}_{}'\u001b[0m\u001b[0;34m.\u001b[0m\u001b[0mformat\u001b[0m\u001b[0;34m(\u001b[0m\u001b[0mspectrum_file\u001b[0m\u001b[0;34m,\u001b[0m \u001b[0mspectrum\u001b[0m\u001b[0;34m[\u001b[0m\u001b[0;34m'scan_no'\u001b[0m\u001b[0;34m]\u001b[0m\u001b[0;34m)\u001b[0m\u001b[0;34m\u001b[0m\u001b[0;34m\u001b[0m\u001b[0m\n\u001b[1;32m     94\u001b[0m             \u001b[0mresults\u001b[0m\u001b[0;34m[\u001b[0m\u001b[0mentry_name\u001b[0m\u001b[0;34m]\u001b[0m \u001b[0;34m=\u001b[0m \u001b[0mentry\u001b[0m\u001b[0;34m\u001b[0m\u001b[0;34m\u001b[0m\u001b[0m\n",
      "\u001b[0;32m~/Documents/Layer_Research/hypedsearch/src/identfication/id_spectra.py\u001b[0m in \u001b[0;36mid_spectrum\u001b[0;34m(spectrum, database, n)\u001b[0m\n\u001b[1;32m     37\u001b[0m     '''\n\u001b[1;32m     38\u001b[0m     \u001b[0;31m# get the top b and top y scores from the database\u001b[0m\u001b[0;34m\u001b[0m\u001b[0;34m\u001b[0m\u001b[0;34m\u001b[0m\u001b[0m\n\u001b[0;32m---> 39\u001b[0;31m     \u001b[0mtop_b\u001b[0m\u001b[0;34m,\u001b[0m \u001b[0mtop_y\u001b[0m \u001b[0;34m=\u001b[0m \u001b[0msearch\u001b[0m\u001b[0;34m.\u001b[0m\u001b[0msearch_database\u001b[0m\u001b[0;34m(\u001b[0m\u001b[0mspectrum\u001b[0m\u001b[0;34m,\u001b[0m \u001b[0mdatabase\u001b[0m\u001b[0;34m,\u001b[0m \u001b[0mTOP_N\u001b[0m\u001b[0;34m)\u001b[0m\u001b[0;34m\u001b[0m\u001b[0;34m\u001b[0m\u001b[0m\n\u001b[0m\u001b[1;32m     40\u001b[0m     \u001b[0;31m# try and find some alignment from these scores\u001b[0m\u001b[0;34m\u001b[0m\u001b[0;34m\u001b[0m\u001b[0;34m\u001b[0m\u001b[0m\n\u001b[1;32m     41\u001b[0m     \u001b[0malignments\u001b[0m \u001b[0;34m=\u001b[0m \u001b[0maligners\u001b[0m\u001b[0;34m.\u001b[0m\u001b[0malign_spectrum_by_protein_ions\u001b[0m\u001b[0;34m(\u001b[0m\u001b[0mspectrum\u001b[0m\u001b[0;34m[\u001b[0m\u001b[0;34m'spectrum'\u001b[0m\u001b[0;34m]\u001b[0m\u001b[0;34m,\u001b[0m \u001b[0mtop_b\u001b[0m\u001b[0;34m,\u001b[0m \u001b[0mtop_y\u001b[0m\u001b[0;34m)\u001b[0m\u001b[0;34m\u001b[0m\u001b[0;34m\u001b[0m\u001b[0m\n",
      "\u001b[0;32m~/Documents/Layer_Research/hypedsearch/src/alignment/search.py\u001b[0m in \u001b[0;36msearch_database\u001b[0;34m(spectrum, database, n)\u001b[0m\n\u001b[1;32m    165\u001b[0m     \u001b[0;31m# try and extend these as much as possible\u001b[0m\u001b[0;34m\u001b[0m\u001b[0;34m\u001b[0m\u001b[0;34m\u001b[0m\u001b[0m\n\u001b[1;32m    166\u001b[0m     \u001b[0mbest_b\u001b[0m \u001b[0;34m=\u001b[0m \u001b[0mget_best_spots_of_interest\u001b[0m\u001b[0;34m(\u001b[0m\u001b[0mspectrum\u001b[0m\u001b[0;34m[\u001b[0m\u001b[0;34m'spectrum'\u001b[0m\u001b[0;34m]\u001b[0m \u001b[0;34m,\u001b[0m\u001b[0mdatabase\u001b[0m\u001b[0;34m,\u001b[0m \u001b[0mb_spots_of_interest\u001b[0m\u001b[0;34m,\u001b[0m \u001b[0;34m'b'\u001b[0m\u001b[0;34m,\u001b[0m \u001b[0mn\u001b[0m\u001b[0;34m)\u001b[0m\u001b[0;34m\u001b[0m\u001b[0;34m\u001b[0m\u001b[0m\n\u001b[0;32m--> 167\u001b[0;31m     \u001b[0mbest_y\u001b[0m \u001b[0;34m=\u001b[0m \u001b[0mget_best_spots_of_interest\u001b[0m\u001b[0;34m(\u001b[0m\u001b[0mspectrum\u001b[0m\u001b[0;34m[\u001b[0m\u001b[0;34m'spectrum'\u001b[0m\u001b[0;34m]\u001b[0m\u001b[0;34m,\u001b[0m \u001b[0mdatabase\u001b[0m\u001b[0;34m,\u001b[0m \u001b[0my_spots_of_interest\u001b[0m\u001b[0;34m,\u001b[0m \u001b[0;34m'y'\u001b[0m\u001b[0;34m,\u001b[0m \u001b[0mn\u001b[0m\u001b[0;34m)\u001b[0m\u001b[0;34m\u001b[0m\u001b[0;34m\u001b[0m\u001b[0m\n\u001b[0m\u001b[1;32m    168\u001b[0m \u001b[0;34m\u001b[0m\u001b[0m\n\u001b[1;32m    169\u001b[0m     \u001b[0mindexed_b\u001b[0m \u001b[0;34m=\u001b[0m \u001b[0;34m{\u001b[0m\u001b[0mi\u001b[0m\u001b[0;34m:\u001b[0m \u001b[0mbest_b\u001b[0m\u001b[0;34m[\u001b[0m\u001b[0mi\u001b[0m\u001b[0;34m]\u001b[0m \u001b[0;32mfor\u001b[0m \u001b[0mi\u001b[0m \u001b[0;32min\u001b[0m \u001b[0mrange\u001b[0m\u001b[0;34m(\u001b[0m\u001b[0mn\u001b[0m\u001b[0;34m)\u001b[0m\u001b[0;34m}\u001b[0m\u001b[0;34m\u001b[0m\u001b[0;34m\u001b[0m\u001b[0m\n",
      "\u001b[0;32m~/Documents/Layer_Research/hypedsearch/src/alignment/search.py\u001b[0m in \u001b[0;36mget_best_spots_of_interest\u001b[0;34m(specturm, database, spots_of_interest, ion_type, n)\u001b[0m\n\u001b[1;32m    121\u001b[0m             \u001b[0;34m'ending_position'\u001b[0m\u001b[0;34m:\u001b[0m \u001b[0msoi\u001b[0m\u001b[0;34m[\u001b[0m\u001b[0;36m2\u001b[0m\u001b[0;34m]\u001b[0m\u001b[0;34m\u001b[0m\u001b[0;34m\u001b[0m\u001b[0m\n\u001b[1;32m    122\u001b[0m         }\n\u001b[0;32m--> 123\u001b[0;31m         \u001b[0mextended_kmer\u001b[0m \u001b[0;34m=\u001b[0m \u001b[0mkmer_extension\u001b[0m\u001b[0;34m.\u001b[0m\u001b[0mextend_kmer\u001b[0m\u001b[0;34m(\u001b[0m\u001b[0mspecturm\u001b[0m\u001b[0;34m,\u001b[0m \u001b[0msequence\u001b[0m\u001b[0;34m,\u001b[0m \u001b[0mkmer\u001b[0m\u001b[0;34m,\u001b[0m \u001b[0mion_type\u001b[0m\u001b[0;34m,\u001b[0m \u001b[0mSTALL_LENGTH\u001b[0m\u001b[0;34m)\u001b[0m\u001b[0;34m\u001b[0m\u001b[0;34m\u001b[0m\u001b[0m\n\u001b[0m\u001b[1;32m    124\u001b[0m         \u001b[0mextended_kmer\u001b[0m\u001b[0;34m[\u001b[0m\u001b[0;34m'protein_name'\u001b[0m\u001b[0;34m]\u001b[0m \u001b[0;34m=\u001b[0m \u001b[0msoi\u001b[0m\u001b[0;34m[\u001b[0m\u001b[0;36m0\u001b[0m\u001b[0;34m]\u001b[0m\u001b[0;34m\u001b[0m\u001b[0;34m\u001b[0m\u001b[0m\n\u001b[1;32m    125\u001b[0m         \u001b[0mextended\u001b[0m\u001b[0;34m.\u001b[0m\u001b[0mappend\u001b[0m\u001b[0;34m(\u001b[0m\u001b[0mextended_kmer\u001b[0m\u001b[0;34m)\u001b[0m\u001b[0;34m\u001b[0m\u001b[0;34m\u001b[0m\u001b[0m\n",
      "\u001b[0;32m~/Documents/Layer_Research/hypedsearch/src/alignment/kmer_extension.py\u001b[0m in \u001b[0;36mextend_kmer\u001b[0;34m(spectrum, sequence, kmer, ion, stall_length)\u001b[0m\n\u001b[1;32m     73\u001b[0m     \u001b[0;31m# keep going until we run out of extension\u001b[0m\u001b[0;34m\u001b[0m\u001b[0;34m\u001b[0m\u001b[0;34m\u001b[0m\u001b[0m\n\u001b[1;32m     74\u001b[0m     \u001b[0;32mwhile\u001b[0m \u001b[0mstall_length\u001b[0m \u001b[0;34m>\u001b[0m \u001b[0;36m0\u001b[0m\u001b[0;34m:\u001b[0m\u001b[0;34m\u001b[0m\u001b[0;34m\u001b[0m\u001b[0m\n\u001b[0;32m---> 75\u001b[0;31m         \u001b[0mupdated\u001b[0m \u001b[0;34m=\u001b[0m \u001b[0mnew_entry\u001b[0m\u001b[0;34m(\u001b[0m\u001b[0mkmer\u001b[0m\u001b[0;34m,\u001b[0m \u001b[0msequence\u001b[0m\u001b[0;34m,\u001b[0m \u001b[0mspectrum\u001b[0m\u001b[0;34m,\u001b[0m \u001b[0mion\u001b[0m\u001b[0;34m=\u001b[0m\u001b[0mion\u001b[0m\u001b[0;34m)\u001b[0m\u001b[0;34m\u001b[0m\u001b[0;34m\u001b[0m\u001b[0m\n\u001b[0m\u001b[1;32m     76\u001b[0m         \u001b[0;32mif\u001b[0m \u001b[0mupdated\u001b[0m\u001b[0;34m[\u001b[0m\u001b[0mscore_key\u001b[0m\u001b[0;34m]\u001b[0m \u001b[0;34m>=\u001b[0m \u001b[0mkmer\u001b[0m\u001b[0;34m[\u001b[0m\u001b[0mscore_key\u001b[0m\u001b[0;34m]\u001b[0m \u001b[0;32mand\u001b[0m \u001b[0mupdated\u001b[0m\u001b[0;34m[\u001b[0m\u001b[0mscore_key\u001b[0m\u001b[0;34m]\u001b[0m \u001b[0;34m>\u001b[0m \u001b[0;36m0\u001b[0m \u001b[0;32mand\u001b[0m \u001b[0mupdated\u001b[0m\u001b[0;34m[\u001b[0m\u001b[0;34m'k'\u001b[0m\u001b[0;34m]\u001b[0m \u001b[0;34m!=\u001b[0m \u001b[0mkmer\u001b[0m\u001b[0;34m[\u001b[0m\u001b[0;34m'k'\u001b[0m\u001b[0;34m]\u001b[0m\u001b[0;34m:\u001b[0m\u001b[0;34m\u001b[0m\u001b[0;34m\u001b[0m\u001b[0m\n\u001b[1;32m     77\u001b[0m             \u001b[0mlast_maintenance\u001b[0m \u001b[0;34m=\u001b[0m \u001b[0mupdated\u001b[0m\u001b[0;34m\u001b[0m\u001b[0;34m\u001b[0m\u001b[0m\n",
      "\u001b[0;32m~/Documents/Layer_Research/hypedsearch/src/alignment/kmer_extension.py\u001b[0m in \u001b[0;36mnew_entry\u001b[0;34m(old_entry, prot, spectrum, ion)\u001b[0m\n\u001b[1;32m     33\u001b[0m         \u001b[0;34m'starting_position'\u001b[0m\u001b[0;34m:\u001b[0m \u001b[0mstarting_pos\u001b[0m\u001b[0;34m,\u001b[0m\u001b[0;34m\u001b[0m\u001b[0;34m\u001b[0m\u001b[0m\n\u001b[1;32m     34\u001b[0m         \u001b[0;34m'ending_position'\u001b[0m\u001b[0;34m:\u001b[0m \u001b[0mending_pos\u001b[0m\u001b[0;34m,\u001b[0m\u001b[0;34m\u001b[0m\u001b[0;34m\u001b[0m\u001b[0m\n\u001b[0;32m---> 35\u001b[0;31m         \u001b[0;34m'b_score'\u001b[0m\u001b[0;34m:\u001b[0m \u001b[0mmass_comparisons\u001b[0m\u001b[0;34m.\u001b[0m\u001b[0mcompare_masses\u001b[0m\u001b[0;34m(\u001b[0m\u001b[0mspectrum\u001b[0m\u001b[0;34m,\u001b[0m \u001b[0mmer_spec_b\u001b[0m\u001b[0;34m)\u001b[0m\u001b[0;34m,\u001b[0m\u001b[0;34m\u001b[0m\u001b[0;34m\u001b[0m\u001b[0m\n\u001b[0m\u001b[1;32m     36\u001b[0m         \u001b[0;34m'y_score'\u001b[0m\u001b[0;34m:\u001b[0m \u001b[0mmass_comparisons\u001b[0m\u001b[0;34m.\u001b[0m\u001b[0mcompare_masses\u001b[0m\u001b[0;34m(\u001b[0m\u001b[0mspectrum\u001b[0m\u001b[0;34m,\u001b[0m \u001b[0mmer_spec_y\u001b[0m\u001b[0;34m)\u001b[0m\u001b[0;34m\u001b[0m\u001b[0;34m\u001b[0m\u001b[0m\n\u001b[1;32m     37\u001b[0m     }\n",
      "\u001b[0;32m~/Documents/Layer_Research/hypedsearch/src/scoring/mass_comparisons.py\u001b[0m in \u001b[0;36mcompare_masses\u001b[0;34m(spectrum, reference)\u001b[0m\n\u001b[1;32m     95\u001b[0m     \u001b[0;32mfor\u001b[0m \u001b[0mrefmass\u001b[0m \u001b[0;32min\u001b[0m \u001b[0mreference\u001b[0m\u001b[0;34m:\u001b[0m\u001b[0;34m\u001b[0m\u001b[0;34m\u001b[0m\u001b[0m\n\u001b[1;32m     96\u001b[0m \u001b[0;34m\u001b[0m\u001b[0m\n\u001b[0;32m---> 97\u001b[0;31m         \u001b[0;32mif\u001b[0m \u001b[0mrefmass\u001b[0m \u001b[0;32min\u001b[0m \u001b[0mspectrum\u001b[0m\u001b[0;34m:\u001b[0m\u001b[0;34m\u001b[0m\u001b[0;34m\u001b[0m\u001b[0m\n\u001b[0m\u001b[1;32m     98\u001b[0m             \u001b[0;32mif\u001b[0m \u001b[0mlast\u001b[0m \u001b[0;34m==\u001b[0m \u001b[0;32mTrue\u001b[0m\u001b[0;34m:\u001b[0m\u001b[0;34m\u001b[0m\u001b[0;34m\u001b[0m\u001b[0m\n\u001b[1;32m     99\u001b[0m                 \u001b[0mstreak\u001b[0m \u001b[0;34m+=\u001b[0m \u001b[0;36m1\u001b[0m\u001b[0;34m\u001b[0m\u001b[0;34m\u001b[0m\u001b[0m\n",
      "\u001b[0;31mKeyboardInterrupt\u001b[0m: "
     ]
    }
   ],
   "source": [
    "from src import runner\n",
    "from time import time\n",
    "\n",
    "args = {\n",
    "    'spectra_folder': test_directory,\n",
    "    'database_file': fasta_file,\n",
    "    'output_dir': test_directory\n",
    "}\n",
    "st = time()\n",
    "runner.run(args)\n",
    "print('\\nTotal runtime: {} seconds'.format(time() - st))"
   ]
  },
  {
   "cell_type": "markdown",
   "metadata": {},
   "source": [
    "## 5. Load the summary json"
   ]
  },
  {
   "cell_type": "code",
   "execution_count": 6,
   "metadata": {},
   "outputs": [],
   "source": [
    "import json\n",
    "\n",
    "summary = json.load(open(test_directory + 'summary.json', 'r'))"
   ]
  },
  {
   "cell_type": "code",
   "execution_count": 7,
   "metadata": {},
   "outputs": [
    {
     "name": "stdout",
     "output_type": "stream",
     "text": [
      "{'sequence': 'ELQQVE', 'left_parent_starting_position': 559, 'left_parent_ending_position': 561, 'right_parent_starting_position': 64, 'right_parent_ending_position': 66, 'left_parent_name': 'caprin-1', 'right_parent_name': 'insulin', 'peptide_name': 'HYBRID_PEPTIDE000', 'scan_no': 50}\n",
      "{'peptide_name': 'peptide_00', 'sequence': 'EQCCTSICS', 'parent_name': 'insulin', 'parent_sequence': 'MALWMRLLPLLALLALWGPDPAAAFVNQHLCGSHLVEALYLVCGERGFFYTPKTRREAEDLQVGQVELGGGPGAGSLQPLALEGSLQKRGIVEQCCTSICSLYQLENYCN', 'starting_position': 92, 'ending_position': 100, 'scan_no': 0}\n"
     ]
    }
   ],
   "source": [
    "print(hyb_peps[0])\n",
    "print(non_hybrid_peps[0])"
   ]
  },
  {
   "cell_type": "markdown",
   "metadata": {},
   "source": [
    "#### summary format\n",
    "Each spectra entry has 3 candidates with the form\n",
    "```python\n",
    "{\n",
    "    \"starting_position\": 64,\n",
    "    \"ending_position\": 73,\n",
    "    \"length\": 10,\n",
    "    \"b_score\": 4.0,\n",
    "    \"y_score\": 4.0,\n",
    "    \"confidence\": 100.0,\n",
    "    \"protein_name\": \"insulin\",\n",
    "    \"spectrum\": [],\n",
    "    \"sequence\": \"QVELGGGPGA\"\n",
    "}\n",
    "```"
   ]
  },
  {
   "cell_type": "markdown",
   "metadata": {},
   "source": [
    "## 6. Determine which number of alignments were correct\n",
    "This needs to be broken down into hybrid and non hybrid peptides to get some stats on how well its doing"
   ]
  },
  {
   "cell_type": "code",
   "execution_count": 8,
   "metadata": {},
   "outputs": [],
   "source": [
    "n = 10\n",
    "non_hyb_stats = {i: {\n",
    "        'correct': 0,\n",
    "        'correct_parent': 0,\n",
    "        'correct_length': 0,\n",
    "        'correct_start': 0,\n",
    "        'correct_end': 0\n",
    "    } for i in range(n)}\n",
    "non_hyb_stats['count'] = 0\n",
    "\n",
    "hyb_stats = {\n",
    "    'count': 0,\n",
    "    'left': {\n",
    "        'correct': 0,\n",
    "        'correct_parent': 0,\n",
    "        'correct_length': 0,\n",
    "        'correct_start': 0,\n",
    "        'correct_end': 0\n",
    "    },\n",
    "    'right': {\n",
    "        'correct': 0,\n",
    "        'correct_parent': 0,\n",
    "        'correct_length': 0,\n",
    "        'correct_start': 0,\n",
    "        'correct_end': 0\n",
    "    }\n",
    "}\n"
   ]
  },
  {
   "cell_type": "code",
   "execution_count": 9,
   "metadata": {},
   "outputs": [],
   "source": [
    "def hyb_calc(result, real_pep):\n",
    "    left_corrparent = False\n",
    "    left_corrstart = False\n",
    "    left_corrend = False\n",
    "    left_corrlen = False\n",
    "    right_corrparent = False\n",
    "    right_corrstart = False\n",
    "    right_corrend = False\n",
    "    right_corrlen = False\n",
    "    for i in range(n):\n",
    "        if result[i]['protein_name'] == real_pep['left_parent_name']:\n",
    "            left_corrparent = True\n",
    "            left_corrstart = left_corrstart or (result[i]['starting_position'] == real_pep['left_parent_starting_position'])\n",
    "            left_corrend = left_corrend or (result[i]['ending_position'] == real_pep['left_parent_ending_position'])\n",
    "            left_corrlen = left_corrlen or (result[i]['length'] == real_pep['left_parent_ending_position'] - real_pep['left_parent_starting_position'] + 1)\n",
    "        if result[i]['protein_name'] == real_pep['right_parent_name']: \n",
    "            right_corrparent = True\n",
    "            right_corrstart = right_corrstart or(result[i]['starting_position'] == real_pep['right_parent_starting_position'])\n",
    "            right_corrend = right_corrend or (result[i]['ending_position'] == real_pep['right_parent_ending_position'])\n",
    "            right_corrlen = right_corrlen or (result[i]['length'] == real_pep['right_parent_ending_position'] - real_pep['right_parent_starting_position'] + 1)\n",
    "    \n",
    "    hyb_stats['count'] += 1\n",
    "    hyb_stats['left']['correct_parent'] += 1 if left_corrparent else 0\n",
    "    hyb_stats['left']['correct_length'] += 1 if left_corrlen else 0\n",
    "    hyb_stats['left']['correct_start'] += 1 if left_corrstart else 0\n",
    "    hyb_stats['left']['correct_end'] += 1 if left_corrend else 0\n",
    "    hyb_stats['left']['correct'] += 1 if (left_corrparent and left_corrlen and left_corrstart and left_corrend) else 0\n",
    "    hyb_stats['right']['correct_parent'] += 1 if right_corrparent else 0\n",
    "    hyb_stats['right']['correct_length'] += 1 if right_corrlen else 0\n",
    "    hyb_stats['right']['correct_start'] += 1 if right_corrstart else 0\n",
    "    hyb_stats['right']['correct_end'] += 1 if right_corrend else 0\n",
    "    hyb_stats['right']['correct'] += 1 if (right_corrparent and right_corrlen and right_corrstart and right_corrend) else 0\n",
    "    "
   ]
  },
  {
   "cell_type": "code",
   "execution_count": 10,
   "metadata": {},
   "outputs": [],
   "source": [
    "def non_hyb_calc(result, real_pep):\n",
    "    non_hyb_stats['count'] += 1\n",
    "    for i in range(n):\n",
    "        if result[i]['protein_name'] != real_pep['parent_name']:\n",
    "            continue\n",
    "        corrlen = len(result[i]['sequence']) == len(real_pep['sequence'])\n",
    "        corrstart = result[i]['starting_position'] == real_pep['starting_position']\n",
    "        corrend = result[i]['ending_position'] == real_pep['ending_position']\n",
    "        \n",
    "        non_hyb_stats[i]['correct_parent'] += 1 \n",
    "        non_hyb_stats[i]['correct_length'] += 1 if corrlen else 0\n",
    "        non_hyb_stats[i]['correct_start'] += 1 if corrstart else 0\n",
    "        non_hyb_stats[i]['correct_end'] += 1 if corrend else 0\n",
    "        non_hyb_stats[i]['correct'] += 1 if (corrend and corrlen and corrstart) else 0\n",
    "        return\n"
   ]
  },
  {
   "cell_type": "code",
   "execution_count": 11,
   "metadata": {},
   "outputs": [],
   "source": [
    "scan_no_keyed_results = {x['scan_no']: x['alignments'] for _, x in summary.items()}\n",
    "for k in sorted_keys:\n",
    "    pep = peptides[k]\n",
    "    if 'hybrid' in pep['peptide_name'].lower():\n",
    "        hyb_calc(scan_no_keyed_results[k], pep)\n",
    "    else:\n",
    "        non_hyb_calc(scan_no_keyed_results[k], pep)"
   ]
  },
  {
   "cell_type": "code",
   "execution_count": 12,
   "metadata": {},
   "outputs": [
    {
     "name": "stdout",
     "output_type": "stream",
     "text": [
      "NON HYBRID STATS\n",
      "------------------------------------------------------------\n",
      "number of peptides........................................50\n",
      "Top alignment\n",
      "\n",
      "correct alignment.........................................49\n",
      "%.........................................................98\n",
      "correct protein...........................................50\n",
      "%........................................................100\n",
      "correct starting position.................................50\n",
      "%........................................................100\n",
      "correct ending position...................................49\n",
      "%.........................................................98\n",
      "correct length............................................50\n",
      "%........................................................100\n",
      "\n",
      "2nd or 3rd alignment\n",
      "\n",
      "number of peptides........................................50\n",
      "correct alignment..........................................0\n",
      "%..........................................................0\n",
      "correct protein............................................0\n",
      "%..........................................................0\n",
      "correct starting position..................................0\n",
      "%..........................................................0\n",
      "correct ending position....................................0\n",
      "%..........................................................0\n",
      "correct length.............................................0\n",
      "%..........................................................0\n",
      "\n",
      "============================================================\n",
      "\n",
      "HYBRID STATS (if the top 3 alignments contained either left or right it appears)\n",
      "------------------------------------------------------------\n",
      "number of peptides.......................................147\n",
      "\n",
      "Left \n",
      "\n",
      "correct side alignment....................................89\n",
      "%.........................................................60\n",
      "correct protein..........................................124\n",
      "%.........................................................84\n",
      "correct starting position................................108\n",
      "%.........................................................73\n",
      "correct ending position...................................89\n",
      "%.........................................................60\n",
      "correct length............................................96\n",
      "%.........................................................65\n",
      "\n",
      "Right \n",
      "\n",
      "correct side alignment...................................133\n",
      "%.........................................................90\n",
      "correct protein..........................................141\n",
      "%.........................................................95\n",
      "correct starting position................................133\n",
      "%.........................................................90\n",
      "correct ending position..................................136\n",
      "%.........................................................92\n",
      "correct length...........................................135\n",
      "%.........................................................91\n",
      "\n"
     ]
    }
   ],
   "source": [
    "percent = lambda a, b: (a* 100 // b)\n",
    "\n",
    "printstat = lambda name, stat: '{}{}\\n'.format(name, str(stat).rjust(60-len(name), '.'))\n",
    "\n",
    "secbreak = ''.join(['=' for _ in range(60)])\n",
    "headbreak = ''.join(['-' for _ in range(60)])\n",
    "nhcount = non_hyb_stats['count']\n",
    "topalign = non_hyb_stats[0]\n",
    "otheralign = {stat: non_hyb_stats[1][stat] + non_hyb_stats[2][stat] for stat in topalign.keys()}\n",
    "\n",
    "######################## NON HYBRID PRETTY PRINTING ############################\n",
    "\n",
    "nonhybsum = 'NON HYBRID STATS\\n' + headbreak + '\\n'\n",
    "nonhybsum += printstat('number of peptides', nhcount) \n",
    "nonhybsum += 'Top alignment\\n\\n'\n",
    "nonhybsum += printstat('correct alignment', topalign['correct'])\n",
    "nonhybsum += printstat('%', percent(topalign['correct'], nhcount)) \n",
    "nonhybsum += printstat('correct protein', topalign['correct_parent']) \n",
    "nonhybsum += printstat('%', percent(topalign['correct_parent'], nhcount))\n",
    "nonhybsum += printstat('correct starting position', topalign['correct_start'])\n",
    "nonhybsum += printstat('%', percent(topalign['correct_start'], nhcount))\n",
    "nonhybsum += printstat('correct ending position', topalign['correct_end'])\n",
    "nonhybsum += printstat('%', percent(topalign['correct_end'], nhcount))\n",
    "nonhybsum += printstat('correct length', topalign['correct_length'])\n",
    "nonhybsum += printstat('%', percent(topalign['correct_length'], nhcount))\n",
    "\n",
    "nonhybsum += '\\n2nd or 3rd alignment\\n\\n'\n",
    "nonhybsum += printstat('number of peptides', nhcount) \n",
    "nonhybsum += printstat('correct alignment', otheralign['correct'])\n",
    "nonhybsum += printstat('%', percent(otheralign['correct'], nhcount)) \n",
    "nonhybsum += printstat('correct protein', otheralign['correct_parent']) \n",
    "nonhybsum += printstat('%', percent(otheralign['correct_parent'], nhcount))\n",
    "nonhybsum += printstat('correct starting position', otheralign['correct_start'])\n",
    "nonhybsum += printstat('%', percent(otheralign['correct_start'], nhcount))\n",
    "nonhybsum += printstat('correct ending position', otheralign['correct_end'])\n",
    "nonhybsum += printstat('%', percent(otheralign['correct_end'], nhcount))\n",
    "nonhybsum += printstat('correct length', otheralign['correct_length'])\n",
    "nonhybsum += printstat('%', percent(otheralign['correct_length'], nhcount))\n",
    "nonhybsum += '\\n' + secbreak + '\\n\\n'\n",
    "\n",
    "############################ HYBRID PRETYY PRINTING ##############################\n",
    "hcount = hyb_stats['count']\n",
    "lalign = hyb_stats['left']\n",
    "ralign = hyb_stats['right']\n",
    "\n",
    "hybsum = 'HYBRID STATS (if the top {} alignments contained either left or right it appears)\\n'.format(n) + headbreak + '\\n'\n",
    "hybsum += printstat('number of peptides', hcount)\n",
    "hybsum += '\\nLeft \\n\\n'\n",
    "hybsum += printstat('correct side alignment', lalign['correct'])\n",
    "hybsum += printstat('%', percent(lalign['correct'], hcount))\n",
    "hybsum += printstat('correct protein', lalign['correct_parent'])\n",
    "hybsum += printstat('%', percent(lalign['correct_parent'], hcount))\n",
    "hybsum += printstat('correct starting position', lalign['correct_start'])\n",
    "hybsum += printstat('%', percent(lalign['correct_start'], hcount))\n",
    "hybsum += printstat('correct ending position', lalign['correct_end'])\n",
    "hybsum += printstat('%', percent(lalign['correct_end'], hcount))\n",
    "hybsum += printstat('correct length', lalign['correct_length'])\n",
    "hybsum += printstat('%', percent(lalign['correct_length'], hcount))\n",
    "\n",
    "hybsum += '\\nRight \\n\\n'\n",
    "hybsum += printstat('correct side alignment', ralign['correct'])\n",
    "hybsum += printstat('%', percent(ralign['correct'], hcount))\n",
    "hybsum += printstat('correct protein', ralign['correct_parent'])\n",
    "hybsum += printstat('%', percent(ralign['correct_parent'], hcount))\n",
    "hybsum += printstat('correct starting position', ralign['correct_start'])\n",
    "hybsum += printstat('%', percent(ralign['correct_start'], hcount))\n",
    "hybsum += printstat('correct ending position', ralign['correct_end'])\n",
    "hybsum += printstat('%', percent(ralign['correct_end'], hcount))\n",
    "hybsum += printstat('correct length', ralign['correct_length'])\n",
    "hybsum += printstat('%', percent(ralign['correct_length'], hcount))\n",
    "\n",
    "print(nonhybsum + hybsum)"
   ]
  },
  {
   "cell_type": "code",
   "execution_count": 14,
   "metadata": {},
   "outputs": [
    {
     "name": "stdout",
     "output_type": "stream",
     "text": [
      "{'sequence': 'CGSHLVEALVNIPKRLE', 'left_parent_starting_position': 30, 'left_parent_ending_position': 38, 'right_parent_starting_position': 615, 'right_parent_ending_position': 622, 'left_parent_name': 'insulin', 'right_parent_name': 'dixin', 'peptide_name': 'HYBRID_PEPTIDE123'}\n"
     ]
    }
   ],
   "source": [
    "print(peptides[173])"
   ]
  },
  {
   "cell_type": "code",
   "execution_count": 6,
   "metadata": {},
   "outputs": [
    {
     "name": "stdout",
     "output_type": "stream",
     "text": [
      "0.05044028835911905\n"
     ]
    }
   ],
   "source": [
    "times = [0.04854393005371094,\n",
    "0.03188514709472656,\n",
    "0.07952308654785156,\n",
    "0.009988069534301758,\n",
    "0.032685041427612305,\n",
    "0.03956890106201172,\n",
    "0.04300117492675781,\n",
    "0.08851480484008789,\n",
    "0.045289039611816406,\n",
    "0.02736687660217285,\n",
    "0.02323770523071289,\n",
    "0.018954992294311523,\n",
    "0.034613847732543945,\n",
    "0.11969780921936035,\n",
    "0.04238271713256836,\n",
    "0.028224706649780273,\n",
    "0.0736851692199707,\n",
    "0.041391849517822266,\n",
    "0.035143136978149414,\n",
    "0.027536869049072266,\n",
    "0.13624906539916992,\n",
    "0.06007981300354004,\n",
    "0.050293922424316406,\n",
    "0.06956601142883301,\n",
    "0.024131059646606445,\n",
    "0.029160022735595703,\n",
    "0.10336899757385254,\n",
    "0.037492990493774414,\n",
    "0.030508041381835938,\n",
    "0.024775266647338867,\n",
    "0.10678887367248535]\n",
    "\n",
    "import statistics \n",
    "\n",
    "print(statistics.mean(times))"
   ]
  },
  {
   "cell_type": "code",
   "execution_count": null,
   "metadata": {},
   "outputs": [],
   "source": []
  }
 ],
 "metadata": {
  "kernelspec": {
   "display_name": "Python 3",
   "language": "python",
   "name": "python3"
  },
  "language_info": {
   "codemirror_mode": {
    "name": "ipython",
    "version": 3
   },
   "file_extension": ".py",
   "mimetype": "text/x-python",
   "name": "python",
   "nbconvert_exporter": "python",
   "pygments_lexer": "ipython3",
   "version": "3.7.4"
  }
 },
 "nbformat": 4,
 "nbformat_minor": 4
}

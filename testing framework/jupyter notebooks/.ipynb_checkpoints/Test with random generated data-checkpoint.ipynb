{
 "cells": [
  {
   "cell_type": "markdown",
   "metadata": {},
   "source": [
    "# Run a test of hypedsearch with generated data\n",
    "The following steps describe how the test works\n",
    "1. Load a fasta database\n",
    "2. Generate\n",
    "    1. Hybrid proteins\n",
    "    2. Peptides\n",
    "    3. Hybrid peptides from the hybrid proteins\n",
    "3. Generate spectra for all the peptides created\n",
    "4. Run hypedsearch with the .fasta file (no hybrid proteins included) and the spectra files\n",
    "5. Load the summary.json file created\n",
    "6. Determine what number of alignments were correct"
   ]
  },
  {
   "cell_type": "markdown",
   "metadata": {},
   "source": [
    "## 1. Load fasta database"
   ]
  },
  {
   "cell_type": "code",
   "execution_count": 1,
   "metadata": {},
   "outputs": [],
   "source": [
    "import os\n",
    "import sys\n",
    "module_path = os.path.abspath(os.path.join('..'))\n",
    "if module_path not in sys.path:\n",
    "    sys.path.append(module_path)\n",
    "module_path = os.path.abspath(os.path.join('../..'))\n",
    "if module_path not in sys.path:\n",
    "    sys.path.append(module_path)\n",
    "    \n",
    "from src.file_io import fasta\n",
    "\n",
    "fasta_file = '../data/databases/4prots.fasta'\n",
    "database = fasta.read(fasta_file)\n",
    "database = {x['name']: x for x in database}"
   ]
  },
  {
   "cell_type": "markdown",
   "metadata": {},
   "source": [
    "## 2.  Generate the peptides, hybrid proteins and peptides"
   ]
  },
  {
   "cell_type": "code",
   "execution_count": 2,
   "metadata": {},
   "outputs": [
    {
     "name": "stdout",
     "output_type": "stream",
     "text": [
      "Generating hybrid protein 0/5[0%]\r",
      "Generating hybrid protein 1/5[20%]\r",
      "Generating hybrid protein 2/5[40%]\r",
      "Generating hybrid protein 3/5[60%]\r",
      "Generating hybrid protein 4/5[80%]\r\n",
      "Finished generating hybrid proteins\n"
     ]
    }
   ],
   "source": [
    "from sequence_generation import proteins, peptides\n",
    "\n",
    "num_hybs = 5\n",
    "min_length=5\n",
    "max_length = 35\n",
    "num_peptides = 50\n",
    "min_cont = 3 #min contribution for each side of a hybrid\n",
    "\n",
    "# make hybrid proteins\n",
    "hyb_prots = proteins.generate_hybrids([x for _, x in database.items()], num_hybs, min_contribution=max_length)\n",
    "# create peptides\n",
    "non_hybrid_peps = peptides.gen_peptides([x for _, x in database.items()], num_peptides, min_length=min_length, max_length=max_length, digest='random', dist='beta')\n",
    "# create hybrid peptides\n",
    "hyb_peps = peptides.gen_peptides(hyb_prots, num_hybs, min_length=min_length, max_length=max_length, digest='random', min_contribution=min_cont, hybrid_list=True)\n",
    "\n",
    "all_proteins_raw = [x for _,x in database.items()] + hyb_prots\n",
    "all_peptides_raw = non_hybrid_peps + hyb_peps\n",
    "\n",
    "peptides = {}\n",
    "for i, pep in enumerate(all_peptides_raw):\n",
    "    peptides[i] = pep"
   ]
  },
  {
   "cell_type": "markdown",
   "metadata": {},
   "source": [
    "## 3. Generate spectra"
   ]
  },
  {
   "cell_type": "code",
   "execution_count": 3,
   "metadata": {},
   "outputs": [
    {
     "name": "stderr",
     "output_type": "stream",
     "text": [
      "Determination of memory status is not supported on this \n",
      " platform, measuring for memoryleaks will never fail\n"
     ]
    },
    {
     "data": {
      "text/plain": [
       "'../data/testing_output/testSpectraFile.mzML'"
      ]
     },
     "execution_count": 3,
     "metadata": {},
     "output_type": "execute_result"
    }
   ],
   "source": [
    "from src.spectra import gen_spectra\n",
    "from src.utils import utils\n",
    "from sequence_generation import write_spectra\n",
    "\n",
    "test_directory = '../data/testing_output/'\n",
    "utils.make_dir(test_directory)\n",
    "\n",
    "spectra = []\n",
    "sorted_keys = [int(c) for c in peptides.keys()]\n",
    "sorted_keys.sort()\n",
    "for k in sorted_keys:\n",
    "    pep = peptides[k]\n",
    "    cont = gen_spectra.gen_spectrum(pep['sequence'])\n",
    "    spec = cont['spectrum']\n",
    "    pm = cont['precursor_mass']\n",
    "    spectra.append({'spectrum': spec, 'precursor_mass': pm})\n",
    "write_spectra.write_mzml('testSpectraFile', spectra, output_dir=test_directory)\n"
   ]
  },
  {
   "cell_type": "markdown",
   "metadata": {},
   "source": [
    "## 4. Run hypedsearch"
   ]
  },
  {
   "cell_type": "code",
   "execution_count": 4,
   "metadata": {},
   "outputs": [
    {
     "name": "stdout",
     "output_type": "stream",
     "text": [
      "Analyzing spectrum 294/295[99%]\n",
      "Total runtime: 39.797826051712036 seconds\n"
     ]
    }
   ],
   "source": [
    "from src import runner\n",
    "from time import time\n",
    "\n",
    "args = {\n",
    "    'spectra_folder': test_directory,\n",
    "    'database_file': fasta_file,\n",
    "    'output_dir': test_directory\n",
    "}\n",
    "st = time()\n",
    "runner.run(args)\n",
    "print('\\nTotal runtime: {} seconds'.format(time() - st))"
   ]
  },
  {
   "cell_type": "markdown",
   "metadata": {},
   "source": [
    "## 5. Load the summary json"
   ]
  },
  {
   "cell_type": "code",
   "execution_count": 5,
   "metadata": {},
   "outputs": [],
   "source": [
    "import json\n",
    "\n",
    "summary = json.load(open(test_directory + 'summary.json', 'r'))"
   ]
  },
  {
   "cell_type": "code",
   "execution_count": 6,
   "metadata": {},
   "outputs": [
    {
     "name": "stdout",
     "output_type": "stream",
     "text": [
      "{'sequence': 'MAEHLC', 'left_parent_starting_position': 299, 'left_parent_ending_position': 301, 'right_parent_starting_position': 28, 'right_parent_ending_position': 30, 'left_parent_name': 'caprin-1', 'right_parent_name': 'insulin', 'peptide_name': 'HYBRID_PEPTIDE000'}\n",
      "{'peptide_name': 'peptide_00', 'sequence': 'EALYLVCGERGFFYTPK', 'parent_name': 'insulin', 'parent_sequence': 'MALWMRLLPLLALLALWGPDPAAAFVNQHLCGSHLVEALYLVCGERGFFYTPKTRREAEDLQVGQVELGGGPGAGSLQPLALEGSLQKRGIVEQCCTSICSLYQLENYCN', 'starting_position': 36, 'ending_position': 52}\n"
     ]
    }
   ],
   "source": [
    "print(hyb_peps[0])\n",
    "print(non_hybrid_peps[0])"
   ]
  },
  {
   "cell_type": "markdown",
   "metadata": {},
   "source": [
    "#### summary format\n",
    "Each spectra entry has 3 candidates with the form\n",
    "```python\n",
    "{\n",
    "    \"starting_position\": 64,\n",
    "    \"ending_position\": 73,\n",
    "    \"length\": 10,\n",
    "    \"b_score\": 4.0,\n",
    "    \"y_score\": 4.0,\n",
    "    \"confidence\": 100.0,\n",
    "    \"protein_name\": \"insulin\",\n",
    "    \"spectrum\": [],\n",
    "    \"sequence\": \"QVELGGGPGA\"\n",
    "}\n",
    "```"
   ]
  },
  {
   "cell_type": "markdown",
   "metadata": {},
   "source": [
    "## 6. Determine which number of alignments were correct\n",
    "This needs to be broken down into hybrid and non hybrid peptides to get some stats on how well its doing"
   ]
  },
  {
   "cell_type": "code",
   "execution_count": 7,
   "metadata": {},
   "outputs": [],
   "source": [
    "n = 3\n",
    "non_hyb_stats = {i: {\n",
    "        'correct': 0,\n",
    "        'correct_parent': 0,\n",
    "        'correct_length': 0,\n",
    "        'correct_start': 0,\n",
    "        'correct_end': 0\n",
    "    } for i in range(n)}\n",
    "non_hyb_stats['count'] = 0\n",
    "\n",
    "hyb_stats = {\n",
    "    'count': 0,\n",
    "    'left': {\n",
    "        'correct': 0,\n",
    "        'correct_parent': 0,\n",
    "        'correct_length': 0,\n",
    "        'correct_start': 0,\n",
    "        'correct_end': 0\n",
    "    },\n",
    "    'right': {\n",
    "        'correct': 0,\n",
    "        'correct_parent': 0,\n",
    "        'correct_length': 0,\n",
    "        'correct_start': 0,\n",
    "        'correct_end': 0\n",
    "    }\n",
    "}\n"
   ]
  },
  {
   "cell_type": "code",
   "execution_count": 8,
   "metadata": {},
   "outputs": [],
   "source": [
    "def hyb_calc(result, real_pep):\n",
    "    left_corrparent = False\n",
    "    left_corrstart = False\n",
    "    left_corrend = False\n",
    "    left_corrlen = False\n",
    "    right_corrparent = False\n",
    "    right_corrstart = False\n",
    "    right_corrend = False\n",
    "    right_corrlen = False\n",
    "    for i in range(n):\n",
    "        if result[i]['protein_name'] == real_pep['left_parent_name']:\n",
    "            left_corrparent = True\n",
    "            left_corrstart = left_corrstart or (result[i]['starting_position'] == real_pep['left_parent_starting_position'])\n",
    "            left_corrend = left_corrend or (result[i]['ending_position'] == real_pep['left_parent_ending_position'])\n",
    "            left_corrlen = left_corrlen or (result[i]['length'] == real_pep['left_parent_ending_position'] - real_pep['left_parent_starting_position'] + 1)\n",
    "        if result[i]['protein_name'] == real_pep['right_parent_name']: \n",
    "            right_corrparent = True\n",
    "            right_corrstart = right_corrstart or(result[i]['starting_position'] == real_pep['right_parent_starting_position'])\n",
    "            right_corrend = right_corrend or (result[i]['ending_position'] == real_pep['right_parent_ending_position'])\n",
    "            right_corrlen = right_corrlen or (result[i]['length'] == real_pep['right_parent_ending_position'] - real_pep['right_parent_starting_position'] + 1)\n",
    "    \n",
    "    hyb_stats['count'] += 1\n",
    "    hyb_stats['left']['correct_parent'] += 1 if left_corrparent else 0\n",
    "    hyb_stats['left']['correct_length'] += 1 if left_corrlen else 0\n",
    "    hyb_stats['left']['correct_start'] += 1 if left_corrstart else 0\n",
    "    hyb_stats['left']['correct_end'] += 1 if left_corrend else 0\n",
    "    hyb_stats['left']['correct'] += 1 if (left_corrparent and left_corrlen and left_corrstart and left_corrend) else 0\n",
    "    hyb_stats['right']['correct_parent'] += 1 if right_corrparent else 0\n",
    "    hyb_stats['right']['correct_length'] += 1 if right_corrlen else 0\n",
    "    hyb_stats['right']['correct_start'] += 1 if right_corrstart else 0\n",
    "    hyb_stats['right']['correct_end'] += 1 if right_corrend else 0\n",
    "    hyb_stats['right']['correct'] += 1 if (right_corrparent and right_corrlen and right_corrstart and right_corrend) else 0\n",
    "    "
   ]
  },
  {
   "cell_type": "code",
   "execution_count": 9,
   "metadata": {},
   "outputs": [],
   "source": [
    "def non_hyb_calc(result, real_pep):\n",
    "    non_hyb_stats['count'] += 1\n",
    "    for i in range(n):\n",
    "        if result[i]['protein_name'] != real_pep['parent_name']:\n",
    "            continue\n",
    "        corrlen = len(result[i]['sequence']) == len(real_pep['sequence'])\n",
    "        corrstart = result[i]['starting_position'] == real_pep['starting_position']\n",
    "        corrend = result[i]['ending_position'] == real_pep['ending_position']\n",
    "        \n",
    "        non_hyb_stats[i]['correct_parent'] += 1 \n",
    "        non_hyb_stats[i]['correct_length'] += 1 if corrlen else 0\n",
    "        non_hyb_stats[i]['correct_start'] += 1 if corrstart else 0\n",
    "        non_hyb_stats[i]['correct_end'] += 1 if corrend else 0\n",
    "        non_hyb_stats[i]['correct'] += 1 if (corrend and corrlen and corrstart) else 0\n",
    "        return\n"
   ]
  },
  {
   "cell_type": "code",
   "execution_count": 10,
   "metadata": {},
   "outputs": [],
   "source": [
    "scan_no_keyed_results = {x['scan_no']: x['alignments'] for _, x in summary.items()}\n",
    "for k in sorted_keys:\n",
    "    pep = peptides[k]\n",
    "    if 'hybrid' in pep['peptide_name'].lower():\n",
    "        hyb_calc(scan_no_keyed_results[k], pep)\n",
    "    else:\n",
    "        non_hyb_calc(scan_no_keyed_results[k], pep)"
   ]
  },
  {
   "cell_type": "code",
   "execution_count": 11,
   "metadata": {},
   "outputs": [
    {
     "name": "stdout",
     "output_type": "stream",
     "text": [
      "NON HYBRID STATS\n",
      "------------------------------------------------------------\n",
      "number of peptides........................................50\n",
      "Top alignment\n",
      "\n",
      "correct alignment.........................................50\n",
      "%........................................................100\n",
      "correct protein...........................................50\n",
      "%........................................................100\n",
      "correct starting position.................................50\n",
      "%........................................................100\n",
      "correct ending position...................................50\n",
      "%........................................................100\n",
      "correct length............................................50\n",
      "%........................................................100\n",
      "\n",
      "2nd or 3rd alignment\n",
      "\n",
      "number of peptides........................................50\n",
      "correct alignment..........................................0\n",
      "%..........................................................0\n",
      "correct protein............................................0\n",
      "%..........................................................0\n",
      "correct starting position..................................0\n",
      "%..........................................................0\n",
      "correct ending position....................................0\n",
      "%..........................................................0\n",
      "correct length.............................................0\n",
      "%..........................................................0\n",
      "\n",
      "============================================================\n",
      "\n",
      "HYBRID STATS (if the top 3 alignments contained either left or right it appears)\n",
      "------------------------------------------------------------\n",
      "number of peptides.......................................245\n",
      "\n",
      "Left \n",
      "\n",
      "correct side alignment...................................191\n",
      "%.........................................................77\n",
      "correct protein..........................................245\n",
      "%........................................................100\n",
      "correct starting position................................199\n",
      "%.........................................................81\n",
      "correct ending position..................................191\n",
      "%.........................................................77\n",
      "correct length...........................................204\n",
      "%.........................................................83\n",
      "\n",
      "Right \n",
      "\n",
      "correct side alignment...................................231\n",
      "%.........................................................94\n",
      "correct protein..........................................232\n",
      "%.........................................................94\n",
      "correct starting position................................231\n",
      "%.........................................................94\n",
      "correct ending position..................................231\n",
      "%.........................................................94\n",
      "correct length...........................................231\n",
      "%.........................................................94\n",
      "\n"
     ]
    }
   ],
   "source": [
    "percent = lambda a, b: (a* 100 // b)\n",
    "\n",
    "printstat = lambda name, stat: '{}{}\\n'.format(name, str(stat).rjust(60-len(name), '.'))\n",
    "\n",
    "secbreak = ''.join(['=' for _ in range(60)])\n",
    "headbreak = ''.join(['-' for _ in range(60)])\n",
    "nhcount = non_hyb_stats['count']\n",
    "topalign = non_hyb_stats[0]\n",
    "otheralign = {stat: non_hyb_stats[1][stat] + non_hyb_stats[2][stat] for stat in topalign.keys()}\n",
    "\n",
    "######################## NON HYBRID PRETTY PRINTING ############################\n",
    "\n",
    "nonhybsum = 'NON HYBRID STATS\\n' + headbreak + '\\n'\n",
    "nonhybsum += printstat('number of peptides', nhcount) \n",
    "nonhybsum += 'Top alignment\\n\\n'\n",
    "nonhybsum += printstat('correct alignment', topalign['correct'])\n",
    "nonhybsum += printstat('%', percent(topalign['correct'], nhcount)) \n",
    "nonhybsum += printstat('correct protein', topalign['correct_parent']) \n",
    "nonhybsum += printstat('%', percent(topalign['correct_parent'], nhcount))\n",
    "nonhybsum += printstat('correct starting position', topalign['correct_start'])\n",
    "nonhybsum += printstat('%', percent(topalign['correct_start'], nhcount))\n",
    "nonhybsum += printstat('correct ending position', topalign['correct_end'])\n",
    "nonhybsum += printstat('%', percent(topalign['correct_end'], nhcount))\n",
    "nonhybsum += printstat('correct length', topalign['correct_length'])\n",
    "nonhybsum += printstat('%', percent(topalign['correct_length'], nhcount))\n",
    "\n",
    "nonhybsum += '\\n2nd or 3rd alignment\\n\\n'\n",
    "nonhybsum += printstat('number of peptides', nhcount) \n",
    "nonhybsum += printstat('correct alignment', otheralign['correct'])\n",
    "nonhybsum += printstat('%', percent(otheralign['correct'], nhcount)) \n",
    "nonhybsum += printstat('correct protein', otheralign['correct_parent']) \n",
    "nonhybsum += printstat('%', percent(otheralign['correct_parent'], nhcount))\n",
    "nonhybsum += printstat('correct starting position', otheralign['correct_start'])\n",
    "nonhybsum += printstat('%', percent(otheralign['correct_start'], nhcount))\n",
    "nonhybsum += printstat('correct ending position', otheralign['correct_end'])\n",
    "nonhybsum += printstat('%', percent(otheralign['correct_end'], nhcount))\n",
    "nonhybsum += printstat('correct length', otheralign['correct_length'])\n",
    "nonhybsum += printstat('%', percent(otheralign['correct_length'], nhcount))\n",
    "nonhybsum += '\\n' + secbreak + '\\n\\n'\n",
    "\n",
    "############################ HYBRID PRETYY PRINTING ##############################\n",
    "hcount = hyb_stats['count']\n",
    "lalign = hyb_stats['left']\n",
    "ralign = hyb_stats['right']\n",
    "\n",
    "hybsum = 'HYBRID STATS (if the top {} alignments contained either left or right it appears)\\n'.format(n) + headbreak + '\\n'\n",
    "hybsum += printstat('number of peptides', hcount)\n",
    "hybsum += '\\nLeft \\n\\n'\n",
    "hybsum += printstat('correct side alignment', lalign['correct'])\n",
    "hybsum += printstat('%', percent(lalign['correct'], hcount))\n",
    "hybsum += printstat('correct protein', lalign['correct_parent'])\n",
    "hybsum += printstat('%', percent(lalign['correct_parent'], hcount))\n",
    "hybsum += printstat('correct starting position', lalign['correct_start'])\n",
    "hybsum += printstat('%', percent(lalign['correct_start'], hcount))\n",
    "hybsum += printstat('correct ending position', lalign['correct_end'])\n",
    "hybsum += printstat('%', percent(lalign['correct_end'], hcount))\n",
    "hybsum += printstat('correct length', lalign['correct_length'])\n",
    "hybsum += printstat('%', percent(lalign['correct_length'], hcount))\n",
    "\n",
    "hybsum += '\\nRight \\n\\n'\n",
    "hybsum += printstat('correct side alignment', ralign['correct'])\n",
    "hybsum += printstat('%', percent(ralign['correct'], hcount))\n",
    "hybsum += printstat('correct protein', ralign['correct_parent'])\n",
    "hybsum += printstat('%', percent(ralign['correct_parent'], hcount))\n",
    "hybsum += printstat('correct starting position', ralign['correct_start'])\n",
    "hybsum += printstat('%', percent(ralign['correct_start'], hcount))\n",
    "hybsum += printstat('correct ending position', ralign['correct_end'])\n",
    "hybsum += printstat('%', percent(ralign['correct_end'], hcount))\n",
    "hybsum += printstat('correct length', ralign['correct_length'])\n",
    "hybsum += printstat('%', percent(ralign['correct_length'], hcount))\n",
    "\n",
    "print(nonhybsum + hybsum)"
   ]
  },
  {
   "cell_type": "code",
   "execution_count": 14,
   "metadata": {},
   "outputs": [
    {
     "name": "stdout",
     "output_type": "stream",
     "text": [
      "{'sequence': 'CGSHLVEALVNIPKRLE', 'left_parent_starting_position': 30, 'left_parent_ending_position': 38, 'right_parent_starting_position': 615, 'right_parent_ending_position': 622, 'left_parent_name': 'insulin', 'right_parent_name': 'dixin', 'peptide_name': 'HYBRID_PEPTIDE123'}\n"
     ]
    }
   ],
   "source": [
    "print(peptides[173])"
   ]
  },
  {
   "cell_type": "code",
   "execution_count": null,
   "metadata": {},
   "outputs": [],
   "source": []
  }
 ],
 "metadata": {
  "kernelspec": {
   "display_name": "Python 3",
   "language": "python",
   "name": "python3"
  },
  "language_info": {
   "codemirror_mode": {
    "name": "ipython",
    "version": 3
   },
   "file_extension": ".py",
   "mimetype": "text/x-python",
   "name": "python",
   "nbconvert_exporter": "python",
   "pygments_lexer": "ipython3",
   "version": "3.7.4"
  }
 },
 "nbformat": 4,
 "nbformat_minor": 4
}

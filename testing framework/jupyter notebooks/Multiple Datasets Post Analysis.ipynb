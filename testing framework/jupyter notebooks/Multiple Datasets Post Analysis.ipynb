{
 "cells": [
  {
   "cell_type": "markdown",
   "metadata": {},
   "source": [
    "## Imports "
   ]
  },
  {
   "cell_type": "code",
   "execution_count": 2,
   "metadata": {},
   "outputs": [],
   "source": [
    "import pandas as pd\n",
    "import matplotlib.pyplot as plt\n",
    "import numpy as np\n",
    "import json\n",
    "import copy\n",
    "import math\n",
    "\n",
    "from pyteomics import fasta\n",
    "from collections import defaultdict\n",
    "\n",
    "import os\n",
    "import sys\n",
    "module_path = os.path.abspath(os.path.join('..'))\n",
    "if module_path not in sys.path:\n",
    "    sys.path.append(module_path)\n",
    "module_path = os.path.abspath(os.path.join('../..'))\n",
    "if module_path not in sys.path:\n",
    "    sys.path.append(module_path)\n",
    "    \n",
    "from src import runner\n",
    "from src import gen_spectra\n",
    "from src.postprocessing import review\n",
    "from src import utils"
   ]
  },
  {
   "cell_type": "markdown",
   "metadata": {},
   "source": [
    "# Multiple datasets post analysis\n",
    "Run multiple data sets and do some post processing to see how well we do overall"
   ]
  },
  {
   "cell_type": "markdown",
   "metadata": {},
   "source": [
    "### Define the data"
   ]
  },
  {
   "cell_type": "code",
   "execution_count": 3,
   "metadata": {},
   "outputs": [],
   "source": [
    "# define the list of datasets\n",
    "# make it a list of tuples of (mzml, spectrum mill *sv, database, prefix dir)\n",
    "raw_prefix = '/Users/zacharymcgrath/Desktop/raw inputs/'\n",
    "NOD2_data = (\n",
    "    raw_prefix + 'NOD2_E3/NOD2_E3.mzML', \n",
    "    raw_prefix + 'NOD2_E3/NOD2_E3_results.ssv', \n",
    "    raw_prefix + 'mouse_database.fasta',\n",
    "    raw_prefix + 'NOD2_E3/'\n",
    ")\n",
    "\n",
    "BALB3_data = (\n",
    "    raw_prefix + 'BALB3_E3/BALB3_E3.mzML', \n",
    "    raw_prefix + 'BALB3_E3/BALB3_E3.ssv', \n",
    "    raw_prefix + 'mouse_database.fasta',\n",
    "    raw_prefix + 'BALB3_E3/'\n",
    ")\n",
    "\n",
    "datasets = [NOD2_data, BALB3_data]\n"
   ]
  },
  {
   "cell_type": "markdown",
   "metadata": {},
   "source": [
    "### Filter the data\n",
    "We don't care about the spectra that don't get matches in spectrumMill because we need something to compare to. Additionally, create a filtered database for just the proteins that are found in the results"
   ]
  },
  {
   "cell_type": "code",
   "execution_count": 4,
   "metadata": {},
   "outputs": [],
   "source": [
    "def db_filter(db_file: str, results_file: str, output_fasta: str) -> None:\n",
    "    '''\n",
    "    Create the subset of proteins needed for the database search\n",
    "    \n",
    "    Inputs:\n",
    "        db_file:        (str)  the original fasta file\n",
    "        results_file:   (str)  the results ssv file from spectrumMill\n",
    "        output_fasta:   (str)  the fasta file to write to\n",
    "    '''\n",
    "    \n",
    "    # load all protiens into a dictionary\n",
    "    db = {}\n",
    "    for entry in fasta.read(db_file):\n",
    "        name = entry.description.split('|')[2]\n",
    "        name = name[:name.index('OS=')-1]\n",
    "        name = ' '.join(name.split(' ')[1:])\n",
    "        db[name.lower()] = entry\n",
    "\n",
    "    # load the results ssv into a dataframe \n",
    "    res_df = pd.read_csv(results_file, sep=';')\n",
    "        \n",
    "    print(f'Number of results: {len(res_df.index)}')\n",
    "\n",
    "    # keep track of those we want\n",
    "    filtered = []\n",
    "    for idx, row in res_df.iterrows():\n",
    "        key = row['entry_name'].lower()\n",
    "        \n",
    "        if key not in db:\n",
    "            continue\n",
    "            \n",
    "        filtered.append(db[key])\n",
    "\n",
    "    filtered = list(set(filtered))\n",
    "    \n",
    "    print(f'Number of proteins in database was reduced from {len(db)} to {len(filtered)}')\n",
    "    \n",
    "    fasta.write(filtered, output_fasta, file_mode='w')"
   ]
  },
  {
   "cell_type": "code",
   "execution_count": 5,
   "metadata": {},
   "outputs": [
    {
     "name": "stdout",
     "output_type": "stream",
     "text": [
      "Number of results: 1086\n",
      "Number of proteins in database was reduced from 17028 to 279\n",
      "Number of results: 971\n",
      "Number of proteins in database was reduced from 17028 to 228\n"
     ]
    }
   ],
   "source": [
    "updated_datasets = []\n",
    "\n",
    "for dataset in datasets:\n",
    "        \n",
    "    # make a file name for the output\n",
    "    output_fasta = dataset[-1] + 'filtered_' + os.path.basename(dataset[1])\n",
    "    \n",
    "    db_filter(dataset[2], dataset[1], output_fasta)\n",
    "    \n",
    "    updated_datasets.append((*dataset, output_fasta))\n",
    "\n",
    "datasets = updated_datasets"
   ]
  },
  {
   "cell_type": "code",
   "execution_count": 6,
   "metadata": {},
   "outputs": [
    {
     "data": {
      "text/html": [
       "<div>\n",
       "<style scoped>\n",
       "    .dataframe tbody tr th:only-of-type {\n",
       "        vertical-align: middle;\n",
       "    }\n",
       "\n",
       "    .dataframe tbody tr th {\n",
       "        vertical-align: top;\n",
       "    }\n",
       "\n",
       "    .dataframe thead th {\n",
       "        text-align: right;\n",
       "    }\n",
       "</style>\n",
       "<table border=\"1\" class=\"dataframe\">\n",
       "  <thead>\n",
       "    <tr style=\"text-align: right;\">\n",
       "      <th></th>\n",
       "      <th>number</th>\n",
       "      <th>filename</th>\n",
       "      <th>parent_charge</th>\n",
       "      <th>score</th>\n",
       "      <th>deltaRank1Rank2Score</th>\n",
       "      <th>percent_scored_peak_intensity</th>\n",
       "      <th>num_unused_ions</th>\n",
       "      <th>totalIntensity</th>\n",
       "      <th>previous_aa</th>\n",
       "      <th>sequence</th>\n",
       "      <th>next_aa</th>\n",
       "      <th>sequenceMap</th>\n",
       "      <th>modifications</th>\n",
       "      <th>retentionTimeMin</th>\n",
       "      <th>chromatographicPeakWidthSec</th>\n",
       "      <th>parent_m_over_z</th>\n",
       "      <th>entry_name</th>\n",
       "    </tr>\n",
       "  </thead>\n",
       "  <tbody>\n",
       "    <tr>\n",
       "      <td>9</td>\n",
       "      <td>10</td>\n",
       "      <td>BALB3_E3.14182.14222.2</td>\n",
       "      <td>2</td>\n",
       "      <td>14.28</td>\n",
       "      <td>11.12</td>\n",
       "      <td>89.1</td>\n",
       "      <td>6 / 25</td>\n",
       "      <td>263000.0</td>\n",
       "      <td>(G)</td>\n",
       "      <td>DLQTLALEVARA</td>\n",
       "      <td>(D)</td>\n",
       "      <td>(G)D L|Q|T|L|A/L/E V A R A(D)</td>\n",
       "      <td>NaN</td>\n",
       "      <td>51.35</td>\n",
       "      <td>28.0</td>\n",
       "      <td>650.3670</td>\n",
       "      <td>HYBRID: mouse ins1C QLELGGSPGDLQTLALEVAR-ADEFP...</td>\n",
       "    </tr>\n",
       "    <tr>\n",
       "      <td>83</td>\n",
       "      <td>84</td>\n",
       "      <td>BALB3_E3.13152.13328.2</td>\n",
       "      <td>2</td>\n",
       "      <td>20.20</td>\n",
       "      <td>16.99</td>\n",
       "      <td>100.0</td>\n",
       "      <td>0 / 25</td>\n",
       "      <td>27300000.0</td>\n",
       "      <td>(E)</td>\n",
       "      <td>DPQVAQLELGGGPGAGD</td>\n",
       "      <td>(L)</td>\n",
       "      <td>(E)D P Q V\\A\\Q\\L\\E|L|G|G|G|P G|A G D(L)</td>\n",
       "      <td>NaN</td>\n",
       "      <td>48.13</td>\n",
       "      <td>41.0</td>\n",
       "      <td>790.8827</td>\n",
       "      <td>Insulin-2</td>\n",
       "    </tr>\n",
       "    <tr>\n",
       "      <td>340</td>\n",
       "      <td>341</td>\n",
       "      <td>BALB3_E3.15132.15175.3</td>\n",
       "      <td>3</td>\n",
       "      <td>13.15</td>\n",
       "      <td>4.51</td>\n",
       "      <td>89.3</td>\n",
       "      <td>5 / 25</td>\n",
       "      <td>912000.0</td>\n",
       "      <td>(-)</td>\n",
       "      <td>MLIKVKTLTGKEIEIDIEPT</td>\n",
       "      <td>(D)</td>\n",
       "      <td>(-)M L|I K V K T L T G K E I E\\I D\\I|E|P/T(D)</td>\n",
       "      <td>NaN</td>\n",
       "      <td>54.87</td>\n",
       "      <td>31.0</td>\n",
       "      <td>757.7679</td>\n",
       "      <td>NEDD8</td>\n",
       "    </tr>\n",
       "    <tr>\n",
       "      <td>350</td>\n",
       "      <td>351</td>\n",
       "      <td>BALB3_E3.19192.19232.3</td>\n",
       "      <td>3</td>\n",
       "      <td>11.52</td>\n",
       "      <td>2.71</td>\n",
       "      <td>80.9</td>\n",
       "      <td>8 / 25</td>\n",
       "      <td>483000.0</td>\n",
       "      <td>(K)</td>\n",
       "      <td>DISLSEYKGKYVVFFFYPL</td>\n",
       "      <td>(D)</td>\n",
       "      <td>(K)D I|S\\L S E Y K G K Y V V F F F/Y|P L(D)</td>\n",
       "      <td>NaN</td>\n",
       "      <td>69.32</td>\n",
       "      <td>10.0</td>\n",
       "      <td>772.4052</td>\n",
       "      <td>Peroxiredoxin-1</td>\n",
       "    </tr>\n",
       "    <tr>\n",
       "      <td>615</td>\n",
       "      <td>616</td>\n",
       "      <td>BALB3_E3.13192.13265.3</td>\n",
       "      <td>3</td>\n",
       "      <td>16.94</td>\n",
       "      <td>7.56</td>\n",
       "      <td>94.4</td>\n",
       "      <td>3 / 25</td>\n",
       "      <td>1020000.0</td>\n",
       "      <td>(-)</td>\n",
       "      <td>MRYVASYLLAALGGNSSPSAK</td>\n",
       "      <td>(D)</td>\n",
       "      <td>(-)M R Y V A S Y\\L\\L\\A|A|L/G/G N S/S/P S A K(D)</td>\n",
       "      <td>NaN</td>\n",
       "      <td>48.10</td>\n",
       "      <td>22.0</td>\n",
       "      <td>719.3777</td>\n",
       "      <td>60S acidic ribosomal protein P2</td>\n",
       "    </tr>\n",
       "    <tr>\n",
       "      <td>646</td>\n",
       "      <td>647</td>\n",
       "      <td>BALB3_E3.10112.10147.4</td>\n",
       "      <td>4</td>\n",
       "      <td>12.23</td>\n",
       "      <td>3.11</td>\n",
       "      <td>81.7</td>\n",
       "      <td>5 / 25</td>\n",
       "      <td>3370000.0</td>\n",
       "      <td>(Q)</td>\n",
       "      <td>DKALMRLPYGPGKSRANQIPKVAWIP</td>\n",
       "      <td>(D)</td>\n",
       "      <td>(Q)D/K\\A L M R L P Y G P G K S R A N Q I\\P K V...</td>\n",
       "      <td>NaN</td>\n",
       "      <td>37.60</td>\n",
       "      <td>17.0</td>\n",
       "      <td>727.4114</td>\n",
       "      <td>Secretogranin-2</td>\n",
       "    </tr>\n",
       "    <tr>\n",
       "      <td>694</td>\n",
       "      <td>695</td>\n",
       "      <td>BALB3_E3.12182.12328.2</td>\n",
       "      <td>2</td>\n",
       "      <td>14.06</td>\n",
       "      <td>8.62</td>\n",
       "      <td>83.5</td>\n",
       "      <td>4 / 25</td>\n",
       "      <td>4320000.0</td>\n",
       "      <td>(E)</td>\n",
       "      <td>EQYTPQSLATL</td>\n",
       "      <td>(E)</td>\n",
       "      <td>(E)E Q|Y\\T|P Q S\\L/A|T/L(E)</td>\n",
       "      <td>NaN</td>\n",
       "      <td>44.87</td>\n",
       "      <td>25.0</td>\n",
       "      <td>625.8175</td>\n",
       "      <td>Secretogranin-2</td>\n",
       "    </tr>\n",
       "    <tr>\n",
       "      <td>879</td>\n",
       "      <td>880</td>\n",
       "      <td>BALB3_E3.10172.10212.3</td>\n",
       "      <td>3</td>\n",
       "      <td>13.02</td>\n",
       "      <td>6.95</td>\n",
       "      <td>81.6</td>\n",
       "      <td>10 / 25</td>\n",
       "      <td>754000.0</td>\n",
       "      <td>(I)</td>\n",
       "      <td>DWAYYRANVAKPGLV</td>\n",
       "      <td>(D)</td>\n",
       "      <td>(I)D W|A|Y/Y/R A N V A K/P G L V(D)</td>\n",
       "      <td>NaN</td>\n",
       "      <td>37.77</td>\n",
       "      <td>15.0</td>\n",
       "      <td>574.9705</td>\n",
       "      <td>ATP synthase subunit d, mitochondrial</td>\n",
       "    </tr>\n",
       "  </tbody>\n",
       "</table>\n",
       "</div>"
      ],
      "text/plain": [
       "     number                filename  parent_charge  score  \\\n",
       "9        10  BALB3_E3.14182.14222.2              2  14.28   \n",
       "83       84  BALB3_E3.13152.13328.2              2  20.20   \n",
       "340     341  BALB3_E3.15132.15175.3              3  13.15   \n",
       "350     351  BALB3_E3.19192.19232.3              3  11.52   \n",
       "615     616  BALB3_E3.13192.13265.3              3  16.94   \n",
       "646     647  BALB3_E3.10112.10147.4              4  12.23   \n",
       "694     695  BALB3_E3.12182.12328.2              2  14.06   \n",
       "879     880  BALB3_E3.10172.10212.3              3  13.02   \n",
       "\n",
       "     deltaRank1Rank2Score  percent_scored_peak_intensity num_unused_ions  \\\n",
       "9                   11.12                           89.1          6 / 25   \n",
       "83                  16.99                          100.0          0 / 25   \n",
       "340                  4.51                           89.3          5 / 25   \n",
       "350                  2.71                           80.9          8 / 25   \n",
       "615                  7.56                           94.4          3 / 25   \n",
       "646                  3.11                           81.7          5 / 25   \n",
       "694                  8.62                           83.5          4 / 25   \n",
       "879                  6.95                           81.6         10 / 25   \n",
       "\n",
       "     totalIntensity previous_aa                    sequence next_aa  \\\n",
       "9          263000.0         (G)                DLQTLALEVARA     (D)   \n",
       "83       27300000.0         (E)           DPQVAQLELGGGPGAGD     (L)   \n",
       "340        912000.0         (-)        MLIKVKTLTGKEIEIDIEPT     (D)   \n",
       "350        483000.0         (K)         DISLSEYKGKYVVFFFYPL     (D)   \n",
       "615       1020000.0         (-)       MRYVASYLLAALGGNSSPSAK     (D)   \n",
       "646       3370000.0         (Q)  DKALMRLPYGPGKSRANQIPKVAWIP     (D)   \n",
       "694       4320000.0         (E)                 EQYTPQSLATL     (E)   \n",
       "879        754000.0         (I)             DWAYYRANVAKPGLV     (D)   \n",
       "\n",
       "                                           sequenceMap  modifications  \\\n",
       "9                        (G)D L|Q|T|L|A/L/E V A R A(D)            NaN   \n",
       "83             (E)D P Q V\\A\\Q\\L\\E|L|G|G|G|P G|A G D(L)            NaN   \n",
       "340      (-)M L|I K V K T L T G K E I E\\I D\\I|E|P/T(D)            NaN   \n",
       "350        (K)D I|S\\L S E Y K G K Y V V F F F/Y|P L(D)            NaN   \n",
       "615    (-)M R Y V A S Y\\L\\L\\A|A|L/G/G N S/S/P S A K(D)            NaN   \n",
       "646  (Q)D/K\\A L M R L P Y G P G K S R A N Q I\\P K V...            NaN   \n",
       "694                        (E)E Q|Y\\T|P Q S\\L/A|T/L(E)            NaN   \n",
       "879                (I)D W|A|Y/Y/R A N V A K/P G L V(D)            NaN   \n",
       "\n",
       "     retentionTimeMin  chromatographicPeakWidthSec  parent_m_over_z  \\\n",
       "9               51.35                         28.0         650.3670   \n",
       "83              48.13                         41.0         790.8827   \n",
       "340             54.87                         31.0         757.7679   \n",
       "350             69.32                         10.0         772.4052   \n",
       "615             48.10                         22.0         719.3777   \n",
       "646             37.60                         17.0         727.4114   \n",
       "694             44.87                         25.0         625.8175   \n",
       "879             37.77                         15.0         574.9705   \n",
       "\n",
       "                                            entry_name  \n",
       "9    HYBRID: mouse ins1C QLELGGSPGDLQTLALEVAR-ADEFP...  \n",
       "83                                           Insulin-2  \n",
       "340                                              NEDD8  \n",
       "350                                    Peroxiredoxin-1  \n",
       "615                    60S acidic ribosomal protein P2  \n",
       "646                                    Secretogranin-2  \n",
       "694                                    Secretogranin-2  \n",
       "879              ATP synthase subunit d, mitochondrial  "
      ]
     },
     "execution_count": 6,
     "metadata": {},
     "output_type": "execute_result"
    }
   ],
   "source": [
    "d = pd.read_csv('/Users/zacharymcgrath/Desktop/raw inputs/BALB3_E3/BALB3_E3.ssv', sep=';')\n",
    "d.loc[d['filename'].str.contains('BALB3_E3.1.1.2')]"
   ]
  },
  {
   "cell_type": "markdown",
   "metadata": {},
   "source": [
    "### Now run hyped search"
   ]
  },
  {
   "cell_type": "code",
   "execution_count": 5,
   "metadata": {},
   "outputs": [
    {
     "name": "stdout",
     "output_type": "stream",
     "text": [
      "Loading database...\n",
      "Done\n",
      "Loading spectra...\n",
      "Done\n",
      "On batch 1/1\n",
      "On protein 279/279 [100%]\n",
      "Sorting the set of protein masses...\n",
      "Done\n",
      "Initializing other processors...\n",
      "Done.\n",
      "Creating an alignment for 1085/1086 [100%]\n",
      "Finished search. Writting results to /Users/zacharymcgrath/Desktop/raw inputs/NOD2_E3/output/...\n",
      "Could not make an alignment for 1/1086 spectra (0%)\n",
      "\n",
      "Loading database...\n",
      "Done\n",
      "Loading spectra...\n",
      "Done\n",
      "On batch 1/1\n",
      "On protein 228/228 [100%]\n",
      "Sorting the set of protein masses...\n",
      "Done\n",
      "Initializing other processors...\n",
      "Done.\n",
      "Creating an alignment for 12165/12166 [100%]\n",
      "Finished search. Writting results to /Users/zacharymcgrath/Desktop/raw inputs/BALB3_E3/output/...\n",
      "Could not make an alignment for 1091/12166 spectra (8%)\n",
      "\n"
     ]
    }
   ],
   "source": [
    "min_pep = 3\n",
    "max_pep = 30\n",
    "tolerance = 20\n",
    "precursor_tolerance = 10\n",
    "peak_filter = 25\n",
    "relative_abundance_filter = 0\n",
    "\n",
    "for dataset in datasets:\n",
    "        \n",
    "    run_params = {\n",
    "        'spectra_folder': dataset[3],\n",
    "        'database_file': dataset[-1],\n",
    "        'output_dir': dataset[3] + 'output/',\n",
    "        'min_peptide_len': min_pep,\n",
    "        'max_peptide_len': max_pep,\n",
    "        'tolerance': tolerance,\n",
    "        'precursor_tolerance': precursor_tolerance,\n",
    "        'peak_filter': peak_filter, \n",
    "        'relative_abundance_filter': relative_abundance_filter,\n",
    "        'digest': '', \n",
    "        'missed_cleavages': 0,\n",
    "        'verbose': True,\n",
    "        'DEBUG': False,\n",
    "        'cores': 16,\n",
    "        'truth_set': '', \n",
    "        'n': 5\n",
    "    }\n",
    "\n",
    "    runner.run(run_params)\n",
    "    \n",
    "    print()"
   ]
  },
  {
   "cell_type": "markdown",
   "metadata": {},
   "source": [
    "### Keep track of the output data location"
   ]
  },
  {
   "cell_type": "code",
   "execution_count": 7,
   "metadata": {},
   "outputs": [],
   "source": [
    "output_data = [\n",
    "    x[3] + 'output/summary.json' for x in datasets\n",
    "]\n"
   ]
  },
  {
   "cell_type": "markdown",
   "metadata": {},
   "source": [
    "### For each of the datasets, find out where the correct answer fell (no ties)"
   ]
  },
  {
   "cell_type": "code",
   "execution_count": 8,
   "metadata": {},
   "outputs": [],
   "source": [
    "def dictify_table(df: pd.DataFrame, key: str, key_prepend: str = '') -> dict:\n",
    "    '''\n",
    "    Turn a pandas dataframe into a dictionary where the indices are the key specified\n",
    "    '''\n",
    "    ret_dict = {}\n",
    "    \n",
    "    prep = lambda k: key_prepend + str(k)\n",
    "    \n",
    "    for idx, row in df.iterrows():\n",
    "        ret_dict[prep(row[key])] = dict(row)\n",
    "    \n",
    "    return ret_dict"
   ]
  },
  {
   "cell_type": "code",
   "execution_count": 9,
   "metadata": {},
   "outputs": [
    {
     "name": "stdout",
     "output_type": "stream",
     "text": [
      "Ids not found for /Users/zacharymcgrath/Desktop/raw inputs/NOD2_E3/NOD2_E3.mzML:\n",
      "[]\n",
      "Ids with no alignment for /Users/zacharymcgrath/Desktop/raw inputs/NOD2_E3/NOD2_E3.mzML:\n",
      "['NOD2_E3.10614.10681.2', 'NOD2_E3.10635.10674.3', 'NOD2_E3.11427.11516.2', 'NOD2_E3.3808.3850.4', 'NOD2_E3.17254.17254.4', 'NOD2_E3.7258.7258.5', 'NOD2_E3.14634.14696.4', 'NOD2_E3.18378.18378.5', 'NOD2_E3.18332.18332.3', 'NOD2_E3.9614.9614.4', 'NOD2_E3.7367.7406.4', 'NOD2_E3.3412.3412.5', 'NOD2_E3.3312.3312.4', 'NOD2_E3.8231.8275.4', 'NOD2_E3.18830.18830.5', 'NOD2_E3.11416.11416.4', 'NOD2_E3.8864.8908.6', 'NOD2_E3.10043.10079.6', 'NOD2_E3.10374.10374.5', 'NOD2_E3.8934.9014.6', 'NOD2_E3.10962.10962.5', 'NOD2_E3.13479.13479.3', 'NOD2_E3.17300.17361.5', 'NOD2_E3.15807.16302.5', 'NOD2_E3.14319.14467.4', 'NOD2_E3.12565.12565.4', 'NOD2_E3.14190.14190.4', 'NOD2_E3.4705.4743.4', 'NOD2_E3.3698.3698.4', 'NOD2_E3.16734.16734.3', 'NOD2_E3.10642.10642.6', 'NOD2_E3.17925.17925.5', 'NOD2_E3.9548.9548.4', 'NOD2_E3.9537.9607.5', 'NOD2_E3.14627.14669.3', 'NOD2_E3.3586.3586.5', 'NOD2_E3.7746.7746.5', 'NOD2_E3.12586.12586.5', 'NOD2_E3.6723.6723.4', 'NOD2_E3.10309.10352.4', 'NOD2_E3.11735.12023.4', 'NOD2_E3.5377.5377.4', 'NOD2_E3.9310.9393.4', 'NOD2_E3.14003.14337.5', 'NOD2_E3.8978.8978.5', 'NOD2_E3.6206.6292.4', 'NOD2_E3.3344.3344.4', 'NOD2_E3.4497.4497.5', 'NOD2_E3.9336.9336.5', 'NOD2_E3.3328.3328.3', 'NOD2_E3.15458.15458.3', 'NOD2_E3.15436.15498.4', 'NOD2_E3.3805.3805.4', 'NOD2_E3.10519.10519.6', 'NOD2_E3.11929.11929.3', 'NOD2_E3.5143.5183.5', 'NOD2_E3.8705.8734.3', 'NOD2_E3.14548.14548.3', 'NOD2_E3.13489.13489.3', 'NOD2_E3.12542.12542.5', 'NOD2_E3.9143.9185.5', 'NOD2_E3.14678.14707.2', 'NOD2_E3.16187.16187.5', 'NOD2_E3.16703.16703.4', 'NOD2_E3.14935.14935.5', 'NOD2_E3.19614.19780.4', 'NOD2_E3.12062.12062.4', 'NOD2_E3.6083.6083.2', 'NOD2_E3.12658.12658.5', 'NOD2_E3.20425.20425.2', 'NOD2_E3.16330.16330.4', 'NOD2_E3.18238.18285.6', 'NOD2_E3.17686.17686.4', 'NOD2_E3.11449.11449.5', 'NOD2_E3.18090.18090.5']\n",
      "Ids not found for /Users/zacharymcgrath/Desktop/raw inputs/BALB3_E3/BALB3_E3.mzML:\n",
      "[]\n",
      "Ids with no alignment for /Users/zacharymcgrath/Desktop/raw inputs/BALB3_E3/BALB3_E3.mzML:\n",
      "['scan=1', 'scan=2', 'scan=3', 'scan=4', 'scan=5', 'scan=6', 'scan=7', 'scan=8', 'scan=9', 'scan=10', 'scan=11', 'scan=12', 'scan=13', 'scan=14', 'scan=15', 'scan=16', 'scan=17', 'scan=18', 'scan=19', 'scan=20', 'scan=21', 'scan=22', 'scan=23', 'scan=24', 'scan=25', 'scan=26', 'scan=27', 'scan=28', 'scan=29', 'scan=30', 'scan=31', 'scan=32', 'scan=33', 'scan=34', 'scan=35', 'scan=36', 'scan=37', 'scan=38', 'scan=39', 'scan=40', 'scan=41', 'scan=42', 'scan=43', 'scan=44', 'scan=45', 'scan=46', 'scan=47', 'scan=48', 'scan=49', 'scan=50', 'scan=51', 'scan=52', 'scan=53', 'scan=54', 'scan=55', 'scan=56', 'scan=57', 'scan=58', 'scan=59', 'scan=60', 'scan=61', 'scan=62', 'scan=63', 'scan=64', 'scan=65', 'scan=66', 'scan=67', 'scan=68', 'scan=69', 'scan=70', 'scan=71', 'scan=72', 'scan=73', 'scan=74', 'scan=75', 'scan=76', 'scan=77', 'scan=78', 'scan=79', 'scan=80', 'scan=81', 'scan=82', 'scan=83', 'scan=84', 'scan=85', 'scan=86', 'scan=87', 'scan=88', 'scan=89', 'scan=90', 'scan=91', 'scan=92', 'scan=93', 'scan=94', 'scan=95', 'scan=96', 'scan=97', 'scan=98', 'scan=99', 'scan=100', 'scan=101', 'scan=102', 'scan=103', 'scan=104', 'scan=105', 'scan=106', 'scan=107', 'scan=108', 'scan=109', 'scan=110', 'scan=111', 'scan=112', 'scan=113', 'scan=114', 'scan=115', 'scan=116', 'scan=117', 'scan=118', 'scan=119', 'scan=120', 'scan=121', 'scan=122', 'scan=123', 'scan=124', 'scan=125', 'scan=126', 'scan=127', 'scan=128', 'scan=129', 'scan=130', 'scan=131', 'scan=132', 'scan=133', 'scan=134', 'scan=135', 'scan=136', 'scan=137', 'scan=138', 'scan=139', 'scan=140', 'scan=141', 'scan=142', 'scan=143', 'scan=144', 'scan=145', 'scan=146', 'scan=147', 'scan=148', 'scan=149', 'scan=150', 'scan=151', 'scan=152', 'scan=153', 'scan=154', 'scan=155', 'scan=156', 'scan=157', 'scan=158', 'scan=159', 'scan=160', 'scan=161', 'scan=162', 'scan=163', 'scan=164', 'scan=165', 'scan=166', 'scan=167', 'scan=168', 'scan=169', 'scan=170', 'scan=171', 'scan=172', 'scan=173', 'scan=174', 'scan=175', 'scan=176', 'scan=177', 'scan=178', 'scan=179', 'scan=180', 'scan=181', 'scan=182', 'scan=183', 'scan=184', 'scan=185', 'scan=186', 'scan=187', 'scan=188', 'scan=189', 'scan=190', 'scan=191', 'scan=192', 'scan=193', 'scan=194', 'scan=195', 'scan=196', 'scan=197', 'scan=198', 'scan=199', 'scan=200', 'scan=201', 'scan=202', 'scan=203', 'scan=204', 'scan=205', 'scan=206', 'scan=207', 'scan=208', 'scan=209', 'scan=210', 'scan=211', 'scan=212', 'scan=213', 'scan=214', 'scan=215', 'scan=216', 'scan=217', 'scan=218', 'scan=219', 'scan=220', 'scan=221', 'scan=222', 'scan=223', 'scan=224', 'scan=225', 'scan=226', 'scan=227', 'scan=228', 'scan=229', 'scan=230', 'scan=231', 'scan=232', 'scan=233', 'scan=234', 'scan=235', 'scan=236', 'scan=237', 'scan=238', 'scan=239', 'scan=240', 'scan=241', 'scan=242', 'scan=243', 'scan=244', 'scan=245', 'scan=246', 'scan=247', 'scan=248', 'scan=249', 'scan=250', 'scan=251', 'scan=252', 'scan=253', 'scan=254', 'scan=255', 'scan=256', 'scan=257', 'scan=258', 'scan=259', 'scan=260', 'scan=261', 'scan=262', 'scan=263', 'scan=264', 'scan=265', 'scan=266', 'scan=267', 'scan=268', 'scan=269', 'scan=270', 'scan=271', 'scan=272', 'scan=273', 'scan=274', 'scan=275', 'scan=276', 'scan=277', 'scan=278', 'scan=279', 'scan=280', 'scan=281', 'scan=282', 'scan=283', 'scan=284', 'scan=285', 'scan=286', 'scan=287', 'scan=288', 'scan=289', 'scan=290', 'scan=291', 'scan=292', 'scan=293', 'scan=294', 'scan=295', 'scan=296', 'scan=297', 'scan=298', 'scan=299', 'scan=300', 'scan=301', 'scan=302', 'scan=303', 'scan=304', 'scan=305', 'scan=306', 'scan=307', 'scan=308', 'scan=309', 'scan=310', 'scan=311', 'scan=312', 'scan=313', 'scan=314', 'scan=315', 'scan=316', 'scan=317', 'scan=318', 'scan=319', 'scan=320', 'scan=321', 'scan=322', 'scan=323', 'scan=324', 'scan=325', 'scan=326', 'scan=327', 'scan=328', 'scan=329', 'scan=330', 'scan=331', 'scan=332', 'scan=333', 'scan=334', 'scan=335', 'scan=336', 'scan=337', 'scan=338', 'scan=339', 'scan=340', 'scan=341', 'scan=342', 'scan=343', 'scan=344', 'scan=345', 'scan=346', 'scan=347', 'scan=348', 'scan=349', 'scan=350', 'scan=351', 'scan=352', 'scan=353', 'scan=354', 'scan=355', 'scan=356', 'scan=357', 'scan=358', 'scan=359', 'scan=360', 'scan=361', 'scan=362', 'scan=363', 'scan=364', 'scan=365', 'scan=366', 'scan=367', 'scan=368', 'scan=369', 'scan=370', 'scan=371', 'scan=372', 'scan=373', 'scan=374', 'scan=375', 'scan=376', 'scan=377', 'scan=378', 'scan=379', 'scan=380', 'scan=381', 'scan=382', 'scan=383', 'scan=384', 'scan=385', 'scan=386', 'scan=387', 'scan=388', 'scan=389', 'scan=390', 'scan=391', 'scan=392', 'scan=393', 'scan=394', 'scan=395', 'scan=396', 'scan=397', 'scan=398', 'scan=399', 'scan=400', 'scan=401', 'scan=402', 'scan=403', 'scan=404', 'scan=405', 'scan=406', 'scan=407', 'scan=408', 'scan=409', 'scan=410', 'scan=411', 'scan=412', 'scan=413', 'scan=414', 'scan=415', 'scan=416', 'scan=417', 'scan=418', 'scan=419', 'scan=420', 'scan=421', 'scan=422', 'scan=423', 'scan=424', 'scan=425', 'scan=426', 'scan=427', 'scan=428', 'scan=429', 'scan=430', 'scan=431', 'scan=432', 'scan=433', 'scan=434', 'scan=435', 'scan=436', 'scan=437', 'scan=438', 'scan=439', 'scan=440', 'scan=441', 'scan=442', 'scan=443', 'scan=444', 'scan=445', 'scan=446', 'scan=447', 'scan=448', 'scan=449', 'scan=450', 'scan=451', 'scan=452', 'scan=453', 'scan=454', 'scan=455', 'scan=456', 'scan=457', 'scan=458', 'scan=459', 'scan=460', 'scan=461', 'scan=462', 'scan=463', 'scan=464', 'scan=465', 'scan=466', 'scan=467', 'scan=468', 'scan=469', 'scan=470', 'scan=471', 'scan=472', 'scan=473', 'scan=474', 'scan=475', 'scan=476', 'scan=477', 'scan=478', 'scan=479', 'scan=480', 'scan=481', 'scan=482', 'scan=483', 'scan=484', 'scan=485', 'scan=486', 'scan=487', 'scan=488', 'scan=489', 'scan=490', 'scan=491', 'scan=492', 'scan=493', 'scan=494', 'scan=495', 'scan=496', 'scan=497', 'scan=498', 'scan=499', 'scan=500', 'scan=501', 'scan=502', 'scan=503', 'scan=504', 'scan=505', 'scan=506', 'scan=507', 'scan=508', 'scan=509', 'scan=510', 'scan=511', 'scan=512', 'scan=513', 'scan=514', 'scan=515', 'scan=516', 'scan=517', 'scan=518', 'scan=519', 'scan=520', 'scan=521', 'scan=522', 'scan=523', 'scan=524', 'scan=525', 'scan=526', 'scan=527', 'scan=528', 'scan=529', 'scan=530', 'scan=531', 'scan=532', 'scan=533', 'scan=534', 'scan=535', 'scan=536', 'scan=537', 'scan=538', 'scan=539', 'scan=540', 'scan=541', 'scan=542', 'scan=543', 'scan=544', 'scan=545', 'scan=546', 'scan=547', 'scan=548', 'scan=549', 'scan=550', 'scan=551', 'scan=552', 'scan=553', 'scan=554', 'scan=555', 'scan=556', 'scan=557', 'scan=558', 'scan=559', 'scan=560', 'scan=561', 'scan=562', 'scan=563', 'scan=564', 'scan=565', 'scan=566', 'scan=567', 'scan=568', 'scan=569', 'scan=570', 'scan=571', 'scan=572', 'scan=573', 'scan=574', 'scan=575', 'scan=576', 'scan=577', 'scan=578', 'scan=579', 'scan=580', 'scan=581', 'scan=582', 'scan=583', 'scan=584', 'scan=585', 'scan=586', 'scan=587', 'scan=588', 'scan=589', 'scan=590', 'scan=591', 'scan=592', 'scan=593', 'scan=594', 'scan=595', 'scan=596', 'scan=597', 'scan=598', 'scan=599', 'scan=600', 'scan=601', 'scan=602', 'scan=603', 'scan=604', 'scan=605', 'scan=606', 'scan=607', 'scan=608', 'scan=609', 'scan=610', 'scan=611', 'scan=612', 'scan=613', 'scan=614', 'scan=615', 'scan=616', 'scan=617', 'scan=618', 'scan=619', 'scan=620', 'scan=621', 'scan=622', 'scan=623', 'scan=624', 'scan=625', 'scan=626', 'scan=627', 'scan=628', 'scan=629', 'scan=630', 'scan=631', 'scan=632', 'scan=633', 'scan=634', 'scan=635', 'scan=636', 'scan=637', 'scan=638', 'scan=639', 'scan=640', 'scan=641', 'scan=642', 'scan=643', 'scan=644', 'scan=645', 'scan=646', 'scan=647', 'scan=648', 'scan=649', 'scan=650', 'scan=651', 'scan=652', 'scan=653', 'scan=654', 'scan=655', 'scan=656', 'scan=657', 'scan=658', 'scan=659', 'scan=660', 'scan=661', 'scan=662', 'scan=663', 'scan=664', 'scan=665', 'scan=666', 'scan=667', 'scan=668', 'scan=669', 'scan=670', 'scan=671', 'scan=672', 'scan=673', 'scan=674', 'scan=675', 'scan=676', 'scan=677', 'scan=678', 'scan=679', 'scan=680', 'scan=681', 'scan=682', 'scan=683', 'scan=684', 'scan=685', 'scan=686', 'scan=687', 'scan=688', 'scan=689', 'scan=690', 'scan=691', 'scan=692', 'scan=693', 'scan=694', 'scan=695', 'scan=696', 'scan=697', 'scan=698', 'scan=699', 'scan=700', 'scan=701', 'scan=702', 'scan=703', 'scan=704', 'scan=705', 'scan=706', 'scan=707', 'scan=708', 'scan=709', 'scan=710', 'scan=711', 'scan=712', 'scan=713', 'scan=714', 'scan=715', 'scan=716', 'scan=717', 'scan=718', 'scan=719', 'scan=720', 'scan=721', 'scan=722', 'scan=723', 'scan=724', 'scan=725', 'scan=726', 'scan=727', 'scan=728', 'scan=729', 'scan=730', 'scan=731', 'scan=732', 'scan=733', 'scan=734', 'scan=735', 'scan=736', 'scan=737', 'scan=738', 'scan=739', 'scan=740', 'scan=741', 'scan=742', 'scan=743', 'scan=744', 'scan=745', 'scan=746', 'scan=747', 'scan=748', 'scan=749', 'scan=750', 'scan=751', 'scan=752', 'scan=753', 'scan=754', 'scan=755', 'scan=756', 'scan=757', 'scan=758', 'scan=759', 'scan=760', 'scan=761', 'scan=762', 'scan=763', 'scan=764', 'scan=765', 'scan=766', 'scan=767', 'scan=768', 'scan=769', 'scan=770', 'scan=771', 'scan=772', 'scan=773', 'scan=774', 'scan=775', 'scan=776', 'scan=777', 'scan=778', 'scan=779', 'scan=780', 'scan=781', 'scan=782', 'scan=783', 'scan=784', 'scan=785', 'scan=786', 'scan=787', 'scan=788', 'scan=789', 'scan=790', 'scan=791', 'scan=792', 'scan=793', 'scan=794', 'scan=795', 'scan=796', 'scan=797', 'scan=798', 'scan=799', 'scan=800', 'scan=801', 'scan=802', 'scan=803', 'scan=804', 'scan=805', 'scan=806', 'scan=807', 'scan=808', 'scan=809', 'scan=810', 'scan=811', 'scan=812', 'scan=813', 'scan=814', 'scan=815', 'scan=816', 'scan=817', 'scan=818', 'scan=819', 'scan=820', 'scan=821', 'scan=822', 'scan=823', 'scan=824', 'scan=825', 'scan=826', 'scan=827', 'scan=828', 'scan=829', 'scan=830', 'scan=831', 'scan=832', 'scan=833', 'scan=834', 'scan=835', 'scan=836', 'scan=837', 'scan=838', 'scan=839', 'scan=840', 'scan=841', 'scan=842', 'scan=843', 'scan=844', 'scan=845', 'scan=846', 'scan=847', 'scan=848', 'scan=849', 'scan=850', 'scan=851', 'scan=852', 'scan=853', 'scan=854', 'scan=855', 'scan=856', 'scan=857', 'scan=858', 'scan=859', 'scan=860', 'scan=861', 'scan=862', 'scan=863', 'scan=864', 'scan=865', 'scan=866', 'scan=867', 'scan=868', 'scan=869', 'scan=870', 'scan=871', 'scan=872', 'scan=873', 'scan=874', 'scan=875', 'scan=876', 'scan=877', 'scan=878', 'scan=879', 'scan=880', 'scan=881', 'scan=882', 'scan=883', 'scan=884', 'scan=885', 'scan=886', 'scan=887', 'scan=888', 'scan=889', 'scan=890', 'scan=891', 'scan=892', 'scan=893', 'scan=894', 'scan=895', 'scan=896', 'scan=897', 'scan=898', 'scan=899', 'scan=900', 'scan=901', 'scan=902', 'scan=903', 'scan=904', 'scan=905', 'scan=906', 'scan=907', 'scan=908', 'scan=909', 'scan=910', 'scan=911', 'scan=912', 'scan=913', 'scan=914', 'scan=915', 'scan=916', 'scan=917', 'scan=918', 'scan=919', 'scan=920', 'scan=921', 'scan=922', 'scan=923', 'scan=924', 'scan=925', 'scan=926', 'scan=927', 'scan=928', 'scan=929', 'scan=930', 'scan=931', 'scan=932', 'scan=933', 'scan=934', 'scan=935', 'scan=936', 'scan=937', 'scan=938', 'scan=939', 'scan=940', 'scan=941', 'scan=942', 'scan=943', 'scan=944', 'scan=945', 'scan=946', 'scan=947', 'scan=948', 'scan=949', 'scan=950', 'scan=951', 'scan=952', 'scan=953', 'scan=954', 'scan=955', 'scan=956', 'scan=957', 'scan=958', 'scan=959', 'scan=960', 'scan=961', 'scan=962', 'scan=963', 'scan=964', 'scan=965', 'scan=966', 'scan=967', 'scan=968', 'scan=969', 'scan=970', 'scan=971']\n"
     ]
    }
   ],
   "source": [
    "results = defaultdict(lambda: 0)\n",
    "\n",
    "individual_results = [defaultdict(lambda: 0) for _ in range(len(datasets))]\n",
    "\n",
    "nf_key = 'not found'\n",
    "na_key = 'no alignment'\n",
    "\n",
    "for j, (dataset, output) in enumerate(zip(datasets, output_data)):\n",
    "    \n",
    "    nf = []\n",
    "    na = []\n",
    "    \n",
    "    # first we need to index the spectrumMill results by id\n",
    "    # BALB3_E3 wants scan=i\n",
    "    specMill_results = None\n",
    "    if 'BALB3_E3' in dataset[1]:\n",
    "        specMill_results = dictify_table(pd.read_csv(dataset[1], sep=';'), 'number', 'scan=')\n",
    "    else:\n",
    "        specMill_results = dictify_table(pd.read_csv(dataset[1], sep=';'), 'filename')\n",
    "    \n",
    "    # now we need to load the output data\n",
    "    hypedSearch_results = json.load(open(output, 'r'))\n",
    "        \n",
    "    # index hypedSearch_results by the id value in key, value value['spectrum']\n",
    "    hypedSearch_results = {value['spectrum']['id'].replace('.pkl', ''): value for _, value in hypedSearch_results.items()}\n",
    "    \n",
    "    \n",
    "    # now go through every result in specMill, find the corresponding one in hypedSearch, and add to results\n",
    "    for key, value in specMill_results.items():\n",
    "        \n",
    "        hybrid = False\n",
    "        \n",
    "        if 'hybrid' in value['entry_name'].lower():\n",
    "            hybrid = True\n",
    "        \n",
    "        correct_sequence = value['sequence']\n",
    "        \n",
    "        # if hybrid, replace L and I with B\n",
    "        if hybrid:\n",
    "            correct_sequence = correct_sequence.replace('L', 'B').replace('I', 'B')\n",
    "        \n",
    "        # look for it in the hypedSearch results\n",
    "        if key not in hypedSearch_results:\n",
    "            nf.append(key)\n",
    "            results[nf_key] += 1\n",
    "            individual_results[j][nf_key] += 1\n",
    "            continue \n",
    "            \n",
    "        found = False\n",
    "                    \n",
    "        for i, alignment in enumerate(hypedSearch_results[key]['alignments']):\n",
    "            \n",
    "            comp_sequence = alignment['sequence']\n",
    "            \n",
    "            # if hybrid, replace L and I with B\n",
    "            if hybrid:\n",
    "                comp_sequence = comp_sequence.replace('L', 'B').replace('I', 'B')\n",
    "            \n",
    "            if comp_sequence == correct_sequence:\n",
    "                results[str(i)] += 1\n",
    "                individual_results[j][str(i)] += 1\n",
    "                found = True\n",
    "                \n",
    "        if not found:\n",
    "            na.append(key)\n",
    "            results[na_key] += 1\n",
    "            individual_results[j][na_key] += 1\n",
    "            \n",
    "    print(f'Ids not found for {dataset[0]}:\\n{nf}')\n",
    "    print(f'Ids with no alignment for {dataset[0]}:\\n{na}')\n",
    "    "
   ]
  },
  {
   "cell_type": "markdown",
   "metadata": {},
   "source": [
    "### Plot it by all results"
   ]
  },
  {
   "cell_type": "code",
   "execution_count": 10,
   "metadata": {},
   "outputs": [],
   "source": [
    "sorted_int_keys = sorted([x for x in list(results.keys()) if x.isdigit()], key=lambda x: int(x))\n",
    "non_int_keys = [x for x in list(results.keys()) if not x.isdigit()]"
   ]
  },
  {
   "cell_type": "code",
   "execution_count": 11,
   "metadata": {},
   "outputs": [
    {
     "data": {
      "text/plain": [
       "Text(0.5, 1.0, 'Number of results with a ranking for all datasets')"
      ]
     },
     "execution_count": 11,
     "metadata": {},
     "output_type": "execute_result"
    },
    {
     "data": {
      "image/png": "[encoded data removed]",
      "text/plain": [
       "<Figure size 1440x864 with 1 Axes>"
      ]
     },
     "metadata": {
      "needs_background": "light"
     },
     "output_type": "display_data"
    }
   ],
   "source": [
    "plt.figure(figsize=(20, 12))\n",
    "\n",
    "plt.bar(non_int_keys + sorted_int_keys, [results[k] for k in non_int_keys] + [results[k] for k in sorted_int_keys])\n",
    "plt.xlabel('Ranking of correct answer (no ties)')\n",
    "plt.ylabel('Count')\n",
    "plt.title('Number of results with a ranking for all datasets')"
   ]
  },
  {
   "cell_type": "markdown",
   "metadata": {},
   "source": [
    "### Plot it by the dataset"
   ]
  },
  {
   "cell_type": "code",
   "execution_count": 12,
   "metadata": {},
   "outputs": [
    {
     "data": {
      "image/png": "[encoded data removed]",
      "text/plain": [
       "<Figure size 1440x2160 with 2 Axes>"
      ]
     },
     "metadata": {
      "needs_background": "light"
     },
     "output_type": "display_data"
    }
   ],
   "source": [
    "fig, axes = plt.subplots(len(individual_results), 1, figsize=(20, 15*len(individual_results)))\n",
    "\n",
    "for i, ir in enumerate(individual_results):\n",
    "    \n",
    "    # first get the title\n",
    "    title = datasets[i][0].split('/')[-1].split('.')[0]\n",
    "    title = f'Number of {title} results with ranking'\n",
    "    \n",
    "    # get the keys\n",
    "    ir_sik = sorted([x for x in list(ir.keys()) if x.isdigit()], key=lambda x: int(x))\n",
    "    ir_nik = [x for x in list(results.keys()) if not x.isdigit()]\n",
    "    \n",
    "    axes[i].bar(ir_nik + ir_sik, [ir[k] for k in ir_nik] + [results[k] for k in ir_sik])\n",
    "    \n",
    "    axes[i].set_title(title)\n",
    "    axes[i].set_xlabel('Ranking of correct answer (no ties)')\n",
    "    axes[i].set_ylabel('Count')"
   ]
  },
  {
   "cell_type": "markdown",
   "metadata": {},
   "source": [
    "### For each of the datasets, find out where the correct answer fell (with ties)"
   ]
  },
  {
   "cell_type": "code",
   "execution_count": 13,
   "metadata": {},
   "outputs": [
    {
     "name": "stdout",
     "output_type": "stream",
     "text": [
      "Ids not found for /Users/zacharymcgrath/Desktop/raw inputs/NOD2_E3/NOD2_E3.mzML:\n",
      "[]\n",
      "Ids with no alignment for /Users/zacharymcgrath/Desktop/raw inputs/NOD2_E3/NOD2_E3.mzML:\n",
      "['NOD2_E3.10614.10681.2', 'NOD2_E3.10635.10674.3', 'NOD2_E3.11427.11516.2', 'NOD2_E3.3808.3850.4', 'NOD2_E3.17254.17254.4', 'NOD2_E3.7258.7258.5', 'NOD2_E3.14634.14696.4', 'NOD2_E3.18378.18378.5', 'NOD2_E3.18332.18332.3', 'NOD2_E3.9614.9614.4', 'NOD2_E3.7367.7406.4', 'NOD2_E3.3412.3412.5', 'NOD2_E3.3312.3312.4', 'NOD2_E3.8231.8275.4', 'NOD2_E3.18830.18830.5', 'NOD2_E3.11416.11416.4', 'NOD2_E3.8864.8908.6', 'NOD2_E3.10043.10079.6', 'NOD2_E3.10374.10374.5', 'NOD2_E3.8934.9014.6', 'NOD2_E3.10962.10962.5', 'NOD2_E3.13479.13479.3', 'NOD2_E3.17300.17361.5', 'NOD2_E3.15807.16302.5', 'NOD2_E3.14319.14467.4', 'NOD2_E3.12565.12565.4', 'NOD2_E3.14190.14190.4', 'NOD2_E3.4705.4743.4', 'NOD2_E3.3698.3698.4', 'NOD2_E3.16734.16734.3', 'NOD2_E3.10642.10642.6', 'NOD2_E3.17925.17925.5', 'NOD2_E3.9548.9548.4', 'NOD2_E3.9537.9607.5', 'NOD2_E3.14627.14669.3', 'NOD2_E3.3586.3586.5', 'NOD2_E3.7746.7746.5', 'NOD2_E3.12586.12586.5', 'NOD2_E3.6723.6723.4', 'NOD2_E3.10309.10352.4', 'NOD2_E3.11735.12023.4', 'NOD2_E3.5377.5377.4', 'NOD2_E3.9310.9393.4', 'NOD2_E3.14003.14337.5', 'NOD2_E3.8978.8978.5', 'NOD2_E3.6206.6292.4', 'NOD2_E3.3344.3344.4', 'NOD2_E3.4497.4497.5', 'NOD2_E3.9336.9336.5', 'NOD2_E3.3328.3328.3', 'NOD2_E3.15458.15458.3', 'NOD2_E3.15436.15498.4', 'NOD2_E3.3805.3805.4', 'NOD2_E3.10519.10519.6', 'NOD2_E3.11929.11929.3', 'NOD2_E3.5143.5183.5', 'NOD2_E3.8705.8734.3', 'NOD2_E3.14548.14548.3', 'NOD2_E3.13489.13489.3', 'NOD2_E3.12542.12542.5', 'NOD2_E3.9143.9185.5', 'NOD2_E3.14678.14707.2', 'NOD2_E3.16187.16187.5', 'NOD2_E3.16703.16703.4', 'NOD2_E3.14935.14935.5', 'NOD2_E3.19614.19780.4', 'NOD2_E3.12062.12062.4', 'NOD2_E3.6083.6083.2', 'NOD2_E3.12658.12658.5', 'NOD2_E3.20425.20425.2', 'NOD2_E3.16330.16330.4', 'NOD2_E3.18238.18285.6', 'NOD2_E3.17686.17686.4', 'NOD2_E3.11449.11449.5', 'NOD2_E3.18090.18090.5']\n",
      "Ids not found for /Users/zacharymcgrath/Desktop/raw inputs/BALB3_E3/BALB3_E3.mzML:\n",
      "['BALB3_E3.12095.12179.2', 'BALB3_E3.13218.13376.2', 'BALB3_E3.18200.18541.2', 'BALB3_E3.17740.17917.2', 'BALB3_E3.13515.13696.2', 'BALB3_E3.15726.16105.2', 'BALB3_E3.13576.13772.2', 'BALB3_E3.7713.7844.2', 'BALB3_E3.21631.21631.2', 'BALB3_E3.14182.14222.2', 'BALB3_E3.8959.8959.2', 'BALB3_E3.7277.7370.2', 'BALB3_E3.3654.3867.2', 'BALB3_E3.12485.12737.3', 'BALB3_E3.14003.14043.2', 'BALB3_E3.16291.16358.2', 'BALB3_E3.4930.4962.2', 'BALB3_E3.11209.11317.2', 'BALB3_E3.14209.14241.2', 'BALB3_E3.3371.3618.4', 'BALB3_E3.16942.17339.2', 'BALB3_E3.6304.6430.2', 'BALB3_E3.6734.6768.3', 'BALB3_E3.11154.11304.2', 'BALB3_E3.9358.9389.2', 'BALB3_E3.21693.21693.2', 'BALB3_E3.9941.9941.2', 'BALB3_E3.10832.10863.3', 'BALB3_E3.11324.11404.4', 'BALB3_E3.12788.12834.3', 'BALB3_E3.3582.3582.5', 'BALB3_E3.3750.3750.4', 'BALB3_E3.3915.3915.5', 'BALB3_E3.17247.17281.4', 'BALB3_E3.13914.13914.2', 'BALB3_E3.12114.12158.3', 'BALB3_E3.11477.11477.2', 'BALB3_E3.9229.9229.2', 'BALB3_E3.7699.7699.2', 'BALB3_E3.5012.5012.3', 'BALB3_E3.13344.13378.2', 'BALB3_E3.12706.12706.3', 'BALB3_E3.11879.11919.2', 'BALB3_E3.11699.11768.2', 'BALB3_E3.12427.12465.2', 'BALB3_E3.12203.12759.2', 'BALB3_E3.12492.12728.2', 'BALB3_E3.15573.15668.2', 'BALB3_E3.14467.14845.2', 'BALB3_E3.15031.15031.2', 'BALB3_E3.18521.18569.2', 'BALB3_E3.21387.21387.2', 'BALB3_E3.12679.12679.2', 'BALB3_E3.11456.11642.2', 'BALB3_E3.6658.6724.2', 'BALB3_E3.5258.5532.3', 'BALB3_E3.3823.3823.4', 'BALB3_E3.17272.17272.3', 'BALB3_E3.18787.18787.3', 'BALB3_E3.10831.11363.2', 'BALB3_E3.13473.13473.2', 'BALB3_E3.8082.8179.2', 'BALB3_E3.8102.8102.2', 'BALB3_E3.12681.12681.2', 'BALB3_E3.11703.11703.2', 'BALB3_E3.11734.11918.2', 'BALB3_E3.12414.12414.2', 'BALB3_E3.14857.14857.2', 'BALB3_E3.8499.8595.2', 'BALB3_E3.9173.9205.2', 'BALB3_E3.4366.4439.3', 'BALB3_E3.7670.7744.2', 'BALB3_E3.17929.17929.2', 'BALB3_E3.18452.18891.2', 'BALB3_E3.11571.11571.3', 'BALB3_E3.14008.14212.3', 'BALB3_E3.12445.12514.2', 'BALB3_E3.12223.12303.2', 'BALB3_E3.12087.12128.2', 'BALB3_E3.13185.13340.2', 'BALB3_E3.12438.12513.2', 'BALB3_E3.12790.12790.2', 'BALB3_E3.12444.13031.2', 'BALB3_E3.13152.13328.2', 'BALB3_E3.15155.15274.2', 'BALB3_E3.15333.15419.2', 'BALB3_E3.18713.18757.2', 'BALB3_E3.18780.18780.2', 'BALB3_E3.21344.21408.3', 'BALB3_E3.21589.21589.3', 'BALB3_E3.12850.12971.2', 'BALB3_E3.12126.12126.2', 'BALB3_E3.7201.7201.2', 'BALB3_E3.7878.7878.2', 'BALB3_E3.12350.12435.2', 'BALB3_E3.16900.17084.2', 'BALB3_E3.10421.10688.2', 'BALB3_E3.6353.6506.4', 'BALB3_E3.1329.1358.2', 'BALB3_E3.13042.13042.2', 'BALB3_E3.17482.17482.3', 'BALB3_E3.17510.17510.3', 'BALB3_E3.20003.20003.3', 'BALB3_E3.6779.6937.2', 'BALB3_E3.7459.7459.2', 'BALB3_E3.11064.11064.2', 'BALB3_E3.10488.11018.2', 'BALB3_E3.11092.11126.2', 'BALB3_E3.9629.9629.2', 'BALB3_E3.10094.10094.2', 'BALB3_E3.8454.8631.2', 'BALB3_E3.8290.8370.2', 'BALB3_E3.13053.13156.2', 'BALB3_E3.12108.12108.2', 'BALB3_E3.12832.12832.2', 'BALB3_E3.12193.12193.2', 'BALB3_E3.12213.12480.2', 'BALB3_E3.12818.12818.2', 'BALB3_E3.16315.16315.2', 'BALB3_E3.9975.10015.2', 'BALB3_E3.7515.7547.2', 'BALB3_E3.9634.9697.2', 'BALB3_E3.10453.10453.3', 'BALB3_E3.12063.12063.3', 'BALB3_E3.19022.19022.3', 'BALB3_E3.7197.7245.4', 'BALB3_E3.9742.9775.5', 'BALB3_E3.8227.8227.2', 'BALB3_E3.8874.8914.2', 'BALB3_E3.11269.11312.3', 'BALB3_E3.13002.13044.4', 'BALB3_E3.10911.10939.4', 'BALB3_E3.9852.9852.5', 'BALB3_E3.10381.10381.3', 'BALB3_E3.3709.3709.4', 'BALB3_E3.7178.7250.3', 'BALB3_E3.9454.9486.2', 'BALB3_E3.5988.5988.3', 'BALB3_E3.11451.11583.5', 'BALB3_E3.9081.9167.2', 'BALB3_E3.3939.3939.2', 'BALB3_E3.10587.10587.2', 'BALB3_E3.6736.6736.4', 'BALB3_E3.8214.8214.5', 'BALB3_E3.6743.6810.5', 'BALB3_E3.10161.10203.4', 'BALB3_E3.9380.9420.4', 'BALB3_E3.6763.6763.4', 'BALB3_E3.14839.14839.2', 'BALB3_E3.7836.7836.3', 'BALB3_E3.5193.5236.3', 'BALB3_E3.9586.9586.4', 'BALB3_E3.14644.14726.3', 'BALB3_E3.13706.13796.3', 'BALB3_E3.15226.15226.3', 'BALB3_E3.14538.14538.3', 'BALB3_E3.13654.13654.4', 'BALB3_E3.8694.8694.2', 'BALB3_E3.3801.3801.3', 'BALB3_E3.10004.10085.2', 'BALB3_E3.7693.7756.2', 'BALB3_E3.10674.10740.2', 'BALB3_E3.10947.10987.2', 'BALB3_E3.11066.11105.2', 'BALB3_E3.11077.11077.2', 'BALB3_E3.15025.15025.2', 'BALB3_E3.9478.9511.2', 'BALB3_E3.5550.5592.4', 'BALB3_E3.14120.14190.2', 'BALB3_E3.5168.5253.3', 'BALB3_E3.21541.21541.2', 'BALB3_E3.9168.9168.3', 'BALB3_E3.11709.11752.3', 'BALB3_E3.13296.13374.2', 'BALB3_E3.14430.14496.3', 'BALB3_E3.12217.12481.2', 'BALB3_E3.12669.12721.2', 'BALB3_E3.16556.16618.2', 'BALB3_E3.17007.17082.2', 'BALB3_E3.18948.18948.2', 'BALB3_E3.13046.13046.2', 'BALB3_E3.9261.9305.2', 'BALB3_E3.9228.9301.3', 'BALB3_E3.4943.4943.2', 'BALB3_E3.4563.4603.3', 'BALB3_E3.3876.3876.3', 'BALB3_E3.4010.4010.3', 'BALB3_E3.15584.15616.4', 'BALB3_E3.15640.15640.4', 'BALB3_E3.18375.18375.4', 'BALB3_E3.1697.1771.2', 'BALB3_E3.9623.9623.3', 'BALB3_E3.11719.11917.2', 'BALB3_E3.11479.11479.2', 'BALB3_E3.12968.13009.2', 'BALB3_E3.9260.9349.2', 'BALB3_E3.16141.16141.4', 'BALB3_E3.8400.8430.3', 'BALB3_E3.8975.9016.2', 'BALB3_E3.9235.9235.2', 'BALB3_E3.11241.11241.4', 'BALB3_E3.4690.4731.3', 'BALB3_E3.13620.13620.3', 'BALB3_E3.5536.5567.3', 'BALB3_E3.6016.6061.3', 'BALB3_E3.9078.9145.2', 'BALB3_E3.8951.8951.3', 'BALB3_E3.9070.9104.3', 'BALB3_E3.10719.10719.3', 'BALB3_E3.8237.8270.2', 'BALB3_E3.4415.4415.4', 'BALB3_E3.6719.6822.2', 'BALB3_E3.6297.6297.3', 'BALB3_E3.3418.3551.4', 'BALB3_E3.3765.3765.4', 'BALB3_E3.3983.3983.4', 'BALB3_E3.3577.3577.5', 'BALB3_E3.5743.5743.2', 'BALB3_E3.3617.3789.4', 'BALB3_E3.3838.3838.2', 'BALB3_E3.9007.9046.3', 'BALB3_E3.11660.11732.2', 'BALB3_E3.10656.10764.2', 'BALB3_E3.18492.18537.2', 'BALB3_E3.13438.13438.3', 'BALB3_E3.9721.9784.2', 'BALB3_E3.17205.17278.2', 'BALB3_E3.4294.4294.4', 'BALB3_E3.9204.9336.4', 'BALB3_E3.11079.11079.5', 'BALB3_E3.16093.16093.2', 'BALB3_E3.9821.9821.4', 'BALB3_E3.15304.15304.4', 'BALB3_E3.11129.11161.2', 'BALB3_E3.21292.21322.2', 'BALB3_E3.15036.15036.2', 'BALB3_E3.15191.15191.2', 'BALB3_E3.19227.19351.2', 'BALB3_E3.8843.8928.2', 'BALB3_E3.9838.9871.3', 'BALB3_E3.15856.15889.4', 'BALB3_E3.8947.9060.3', 'BALB3_E3.11140.11140.2', 'BALB3_E3.5727.5766.2', 'BALB3_E3.15474.15474.4', 'BALB3_E3.15549.15650.3', 'BALB3_E3.6183.6540.3', 'BALB3_E3.7932.7998.2', 'BALB3_E3.21421.21421.3', 'BALB3_E3.9214.9370.2', 'BALB3_E3.4016.4060.3', 'BALB3_E3.3851.3851.3', 'BALB3_E3.4098.4098.3', 'BALB3_E3.9741.9741.4', 'BALB3_E3.6072.6105.2', 'BALB3_E3.6627.6656.2', 'BALB3_E3.8742.8742.3', 'BALB3_E3.13795.13879.2', 'BALB3_E3.10841.10841.3', 'BALB3_E3.8760.8794.3', 'BALB3_E3.9102.9102.3', 'BALB3_E3.9699.9699.4', 'BALB3_E3.16326.16356.2', 'BALB3_E3.4821.4821.4', 'BALB3_E3.17050.17050.2', 'BALB3_E3.12159.12159.2', 'BALB3_E3.7369.7392.4', 'BALB3_E3.3966.3966.4', 'BALB3_E3.5735.5770.3', 'BALB3_E3.6683.6683.3', 'BALB3_E3.8542.8586.2', 'BALB3_E3.6187.6187.2', 'BALB3_E3.13838.13838.2', 'BALB3_E3.19559.19559.2', 'BALB3_E3.19686.19686.3', 'BALB3_E3.17514.17514.3', 'BALB3_E3.20307.20373.3', 'BALB3_E3.20124.20199.3', 'BALB3_E3.20593.20593.3', 'BALB3_E3.21473.21510.3', 'BALB3_E3.20204.20204.4', 'BALB3_E3.18684.18684.5', 'BALB3_E3.4192.4225.3', 'BALB3_E3.8268.8322.3', 'BALB3_E3.5514.5546.4', 'BALB3_E3.5928.6096.4', 'BALB3_E3.4489.4489.4', 'BALB3_E3.6313.6358.5', 'BALB3_E3.14672.14672.2', 'BALB3_E3.12400.12400.4', 'BALB3_E3.4913.4913.4', 'BALB3_E3.3896.3896.3', 'BALB3_E3.4534.4534.3', 'BALB3_E3.6704.6733.3', 'BALB3_E3.4979.4979.4', 'BALB3_E3.20791.20791.2', 'BALB3_E3.20393.20393.2', 'BALB3_E3.18417.18417.3', 'BALB3_E3.20835.20903.3', 'BALB3_E3.20599.20726.3', 'BALB3_E3.21031.21132.3', 'BALB3_E3.21506.21539.3', 'BALB3_E3.20551.20596.4', 'BALB3_E3.18872.18913.5', 'BALB3_E3.6419.6458.2', 'BALB3_E3.6933.7063.2', 'BALB3_E3.4268.4348.4', 'BALB3_E3.4240.4240.3', 'BALB3_E3.20478.20478.3', 'BALB3_E3.21498.21498.3', 'BALB3_E3.6240.6240.4', 'BALB3_E3.4025.4025.2', 'BALB3_E3.4086.4086.3', 'BALB3_E3.19305.19305.3', 'BALB3_E3.17342.17342.3', 'BALB3_E3.17057.17093.3', 'BALB3_E3.20056.20134.3', 'BALB3_E3.7823.7855.3', 'BALB3_E3.5788.5819.4', 'BALB3_E3.5491.5523.3', 'BALB3_E3.5056.5097.3', 'BALB3_E3.8981.9024.3', 'BALB3_E3.6945.7008.4', 'BALB3_E3.4810.4873.2', 'BALB3_E3.6606.6606.2', 'BALB3_E3.8003.8058.2', 'BALB3_E3.4326.4326.4', 'BALB3_E3.12744.12784.3', 'BALB3_E3.16874.16948.3', 'BALB3_E3.12125.12208.2', 'BALB3_E3.13563.13682.3', 'BALB3_E3.11613.11648.2', 'BALB3_E3.13360.13360.4', 'BALB3_E3.9445.9445.2', 'BALB3_E3.9876.9876.6', 'BALB3_E3.11814.11814.2', 'BALB3_E3.10386.10386.6', 'BALB3_E3.15113.15156.3', 'BALB3_E3.5938.6067.6', 'BALB3_E3.16831.16831.4', 'BALB3_E3.15132.15175.3', 'BALB3_E3.14535.14568.3', 'BALB3_E3.2582.3122.3', 'BALB3_E3.5350.5456.2', 'BALB3_E3.5731.5775.5', 'BALB3_E3.11321.11321.5', 'BALB3_E3.11046.11086.5', 'BALB3_E3.19751.19970.2', 'BALB3_E3.19646.19981.2', 'BALB3_E3.19450.19607.2', 'BALB3_E3.19192.19232.3', 'BALB3_E3.6099.6185.2', 'BALB3_E3.13164.13522.2', 'BALB3_E3.19032.19075.3', 'BALB3_E3.6302.6302.4', 'BALB3_E3.6550.6550.2', 'BALB3_E3.6000.6000.2', 'BALB3_E3.3719.3752.4', 'BALB3_E3.8486.8554.2', 'BALB3_E3.6514.6547.2', 'BALB3_E3.5933.5933.2', 'BALB3_E3.7739.7739.4', 'BALB3_E3.4054.4054.2', 'BALB3_E3.14649.14649.3', 'BALB3_E3.12976.12976.3', 'BALB3_E3.10639.10639.4', 'BALB3_E3.8941.8941.4', 'BALB3_E3.8952.8952.5', 'BALB3_E3.10194.10234.5', 'BALB3_E3.5045.5045.2', 'BALB3_E3.4523.4554.2', 'BALB3_E3.8477.8508.2', 'BALB3_E3.8775.8817.2', 'BALB3_E3.9270.9345.2', 'BALB3_E3.9607.9607.2', 'BALB3_E3.5947.5947.2', 'BALB3_E3.6578.6603.2', 'BALB3_E3.6847.6847.2', 'BALB3_E3.6682.6711.2', 'BALB3_E3.3883.3883.4', 'BALB3_E3.7789.7789.2', 'BALB3_E3.8480.8520.2', 'BALB3_E3.6108.6108.2', 'BALB3_E3.5994.5994.2', 'BALB3_E3.11242.11242.3', 'BALB3_E3.11260.11260.3', 'BALB3_E3.10548.10589.2', 'BALB3_E3.16357.16357.4', 'BALB3_E3.5160.5204.3', 'BALB3_E3.5185.5185.2', 'BALB3_E3.9393.9431.3', 'BALB3_E3.11542.11577.3', 'BALB3_E3.5380.5473.3', 'BALB3_E3.6639.6639.4', 'BALB3_E3.5394.5434.2', 'BALB3_E3.11725.11765.2', 'BALB3_E3.21579.21579.2', 'BALB3_E3.21595.21595.2', 'BALB3_E3.17735.17830.2', 'BALB3_E3.19698.19917.2', 'BALB3_E3.21364.21584.2', 'BALB3_E3.14390.14544.2', 'BALB3_E3.19958.19958.2', 'BALB3_E3.19621.19845.2', 'BALB3_E3.15545.15618.2', 'BALB3_E3.12952.13056.3', 'BALB3_E3.11371.11371.4', 'BALB3_E3.11297.11740.4', 'BALB3_E3.11464.11464.4', 'BALB3_E3.13119.13297.4', 'BALB3_E3.21553.21553.2', 'BALB3_E3.10592.10631.4', 'BALB3_E3.11171.11171.4', 'BALB3_E3.6499.6574.5', 'BALB3_E3.5287.5287.2', 'BALB3_E3.5149.5225.2', 'BALB3_E3.5361.5390.2', 'BALB3_E3.5748.5748.2', 'BALB3_E3.4302.4403.3', 'BALB3_E3.4531.4666.3', 'BALB3_E3.4940.4940.3', 'BALB3_E3.4944.5126.3', 'BALB3_E3.5116.5116.3', 'BALB3_E3.5326.5358.3', 'BALB3_E3.6870.6943.3', 'BALB3_E3.6573.6573.3', 'BALB3_E3.6631.6908.3', 'BALB3_E3.10558.10591.2', 'BALB3_E3.11471.11471.2', 'BALB3_E3.8030.8125.2', 'BALB3_E3.8764.8798.2', 'BALB3_E3.13223.13295.2', 'BALB3_E3.21488.21488.3', 'BALB3_E3.20539.20587.3', 'BALB3_E3.21121.21121.3', 'BALB3_E3.18979.19065.4', 'BALB3_E3.18906.18906.3', 'BALB3_E3.17255.17255.4', 'BALB3_E3.15336.15546.6', 'BALB3_E3.3900.3900.3', 'BALB3_E3.4282.4282.3', 'BALB3_E3.13300.13335.2', 'BALB3_E3.10482.10577.3', 'BALB3_E3.10277.10350.3', 'BALB3_E3.6123.6687.4', 'BALB3_E3.13403.13441.3', 'BALB3_E3.12453.12453.4', 'BALB3_E3.15352.15483.4', 'BALB3_E3.3696.3696.3', 'BALB3_E3.4004.4095.3', 'BALB3_E3.4249.4249.3', 'BALB3_E3.5528.5559.3', 'BALB3_E3.5667.5699.3', 'BALB3_E3.4732.4764.4', 'BALB3_E3.3944.3944.2', 'BALB3_E3.10975.11041.2', 'BALB3_E3.9083.9114.4', 'BALB3_E3.15359.15407.4', 'BALB3_E3.4537.4537.4', 'BALB3_E3.4931.4931.4', 'BALB3_E3.4015.4059.2', 'BALB3_E3.1548.1612.4', 'BALB3_E3.20149.20187.2', 'BALB3_E3.10175.10175.5', 'BALB3_E3.4751.4751.3', 'BALB3_E3.4920.4951.3', 'BALB3_E3.5370.5436.3', 'BALB3_E3.20193.20280.2', 'BALB3_E3.11322.11445.3', 'BALB3_E3.3630.3630.3', 'BALB3_E3.4084.4084.3', 'BALB3_E3.4752.4752.3', 'BALB3_E3.4976.4976.3', 'BALB3_E3.8525.8525.4', 'BALB3_E3.3723.3934.2', 'BALB3_E3.3898.3898.2', 'BALB3_E3.4222.4504.2', 'BALB3_E3.6441.6545.2', 'BALB3_E3.6351.6351.2', 'BALB3_E3.6503.6569.2', 'BALB3_E3.15395.15487.5', 'BALB3_E3.15364.15458.4', 'BALB3_E3.4388.4388.2', 'BALB3_E3.3917.3951.3', 'BALB3_E3.4295.4295.3', 'BALB3_E3.4550.4550.3', 'BALB3_E3.6525.6557.2', 'BALB3_E3.7621.7657.2', 'BALB3_E3.21576.21576.2', 'BALB3_E3.5729.5729.3', 'BALB3_E3.6324.6324.4', 'BALB3_E3.6378.6461.4', 'BALB3_E3.7434.7506.2', 'BALB3_E3.10607.10607.2', 'BALB3_E3.8434.8434.3', 'BALB3_E3.7256.7256.2', 'BALB3_E3.9794.9794.4', 'BALB3_E3.14093.14093.6', 'BALB3_E3.8551.8732.2', 'BALB3_E3.7012.7041.4', 'BALB3_E3.5429.5638.2', 'BALB3_E3.9371.9543.4', 'BALB3_E3.10188.10188.5', 'BALB3_E3.9940.10164.2', 'BALB3_E3.18464.18464.3', 'BALB3_E3.6820.6964.2', 'BALB3_E3.11516.11649.2', 'BALB3_E3.4425.4468.2', 'BALB3_E3.1700.1725.3', 'BALB3_E3.3615.3688.3', 'BALB3_E3.15232.15232.2', 'BALB3_E3.4284.4284.3', 'BALB3_E3.11032.11061.4', 'BALB3_E3.9837.9837.3', 'BALB3_E3.10104.10104.2', 'BALB3_E3.5385.5426.3', 'BALB3_E3.13734.13769.5', 'BALB3_E3.10608.10676.3', 'BALB3_E3.15887.15887.2', 'BALB3_E3.7737.7769.3', 'BALB3_E3.15661.15723.4', 'BALB3_E3.9778.9778.5', 'BALB3_E3.21773.21818.3', 'BALB3_E3.13253.13332.3', 'BALB3_E3.12659.12659.5', 'BALB3_E3.11744.11744.5', 'BALB3_E3.17214.17214.4', 'BALB3_E3.11246.11281.2', 'BALB3_E3.8205.8235.6', 'BALB3_E3.13293.13329.2', 'BALB3_E3.16489.16531.3', 'BALB3_E3.7469.7505.2', 'BALB3_E3.4711.4744.2', 'BALB3_E3.10739.10739.2', 'BALB3_E3.16691.16691.4', 'BALB3_E3.9404.9404.3', 'BALB3_E3.16214.16279.2', 'BALB3_E3.14253.14253.2', 'BALB3_E3.16537.16537.2', 'BALB3_E3.9089.9089.4', 'BALB3_E3.7614.7614.5', 'BALB3_E3.15562.15562.4', 'BALB3_E3.20870.21147.2', 'BALB3_E3.5787.5820.4', 'BALB3_E3.9192.9192.3', 'BALB3_E3.14662.14662.3', 'BALB3_E3.19907.19907.3', 'BALB3_E3.7692.7724.3', 'BALB3_E3.9023.9059.3', 'BALB3_E3.9949.10025.2', 'BALB3_E3.3835.3872.4', 'BALB3_E3.10611.10675.2', 'BALB3_E3.10423.10457.2', 'BALB3_E3.17427.17489.2', 'BALB3_E3.4383.4423.4', 'BALB3_E3.14164.14230.2', 'BALB3_E3.10971.11009.4', 'BALB3_E3.8854.8854.4', 'BALB3_E3.4868.4907.2', 'BALB3_E3.19465.19552.2', 'BALB3_E3.14888.14920.2', 'BALB3_E3.6862.6862.5', 'BALB3_E3.14389.14603.3', 'BALB3_E3.4421.4421.3', 'BALB3_E3.14292.14292.4', 'BALB3_E3.13599.13599.5', 'BALB3_E3.12120.12120.6', 'BALB3_E3.14125.14125.2', 'BALB3_E3.11338.11338.4', 'BALB3_E3.9808.9841.4', 'BALB3_E3.8751.8783.5', 'BALB3_E3.1600.1650.4', 'BALB3_E3.1645.1645.4', 'BALB3_E3.18525.18525.2', 'BALB3_E3.7132.7195.2', 'BALB3_E3.7090.7090.2', 'BALB3_E3.16878.16999.2', 'BALB3_E3.16790.16860.2', 'BALB3_E3.5605.5634.3', 'BALB3_E3.7685.7685.4', 'BALB3_E3.5490.5490.2', 'BALB3_E3.21550.21550.2', 'BALB3_E3.10337.10400.2', 'BALB3_E3.10940.11016.3', 'BALB3_E3.13673.13757.3', 'BALB3_E3.4147.4338.3', 'BALB3_E3.18870.18954.2', 'BALB3_E3.13701.13817.2', 'BALB3_E3.13872.13911.3', 'BALB3_E3.13550.13583.3', 'BALB3_E3.7549.7626.3', 'BALB3_E3.4322.4322.2', 'BALB3_E3.5008.5008.3', 'BALB3_E3.4811.4811.2', 'BALB3_E3.6944.6976.3', 'BALB3_E3.14145.14208.4', 'BALB3_E3.4918.4983.2', 'BALB3_E3.9903.9903.2', 'BALB3_E3.13521.13521.2', 'BALB3_E3.10557.10590.3', 'BALB3_E3.6824.6855.3', 'BALB3_E3.3735.3735.5', 'BALB3_E3.4702.4702.5', 'BALB3_E3.15285.15285.3', 'BALB3_E3.8710.8710.3', 'BALB3_E3.7095.7263.2', 'BALB3_E3.10137.10271.2', 'BALB3_E3.4125.4125.4', 'BALB3_E3.10448.10448.3', 'BALB3_E3.10017.10149.2', 'BALB3_E3.6083.6083.4', 'BALB3_E3.13738.13905.2', 'BALB3_E3.8684.8684.2', 'BALB3_E3.18437.18437.3', 'BALB3_E3.14742.14742.4', 'BALB3_E3.13192.13265.3', 'BALB3_E3.3777.3807.2', 'BALB3_E3.11941.11974.3', 'BALB3_E3.13338.13338.4', 'BALB3_E3.11835.11877.4', 'BALB3_E3.14633.14633.2', 'BALB3_E3.10294.10323.3', 'BALB3_E3.14081.14081.4', 'BALB3_E3.10670.10670.2', 'BALB3_E3.6650.6650.4', 'BALB3_E3.10127.10158.2', 'BALB3_E3.10784.10818.2', 'BALB3_E3.11651.11733.2', 'BALB3_E3.13317.13317.2', 'BALB3_E3.4712.4807.3', 'BALB3_E3.10977.10977.2', 'BALB3_E3.5570.5632.2', 'BALB3_E3.10139.10315.2', 'BALB3_E3.5509.5509.4', 'BALB3_E3.14017.14060.5', 'BALB3_E3.11208.11208.2', 'BALB3_E3.13400.13400.2', 'BALB3_E3.16368.16466.2', 'BALB3_E3.16449.16449.2', 'BALB3_E3.19074.19074.4', 'BALB3_E3.21202.21269.2', 'BALB3_E3.20288.20331.2', 'BALB3_E3.21564.21564.2', 'BALB3_E3.16633.16633.3', 'BALB3_E3.19393.19430.3', 'BALB3_E3.19108.19141.3', 'BALB3_E3.10112.10147.4', 'BALB3_E3.11258.11258.5', 'BALB3_E3.11165.11165.4', 'BALB3_E3.10717.10717.5', 'BALB3_E3.11245.11245.5', 'BALB3_E3.13841.13881.2', 'BALB3_E3.10865.10865.3', 'BALB3_E3.14024.14101.3', 'BALB3_E3.11091.11162.3', 'BALB3_E3.10873.10942.4', 'BALB3_E3.13126.13199.4', 'BALB3_E3.13755.13958.6', 'BALB3_E3.13932.14184.6', 'BALB3_E3.6104.6140.4', 'BALB3_E3.11524.11569.4', 'BALB3_E3.13495.13564.2', 'BALB3_E3.15740.15782.2', 'BALB3_E3.21265.21332.2', 'BALB3_E3.20300.20300.2', 'BALB3_E3.20779.20863.2', 'BALB3_E3.20871.21067.2', 'BALB3_E3.16678.16719.4', 'BALB3_E3.16371.16402.4', 'BALB3_E3.8543.8585.2', 'BALB3_E3.12685.12772.2', 'BALB3_E3.16666.16757.3', 'BALB3_E3.16753.16794.3', 'BALB3_E3.18603.18647.3', 'BALB3_E3.19999.20091.3', 'BALB3_E3.19660.19660.3', 'BALB3_E3.19451.19483.3', 'BALB3_E3.19264.19306.3', 'BALB3_E3.20132.20132.3', 'BALB3_E3.19918.20309.3', 'BALB3_E3.4568.4734.2', 'BALB3_E3.6107.6107.2', 'BALB3_E3.13509.13509.3', 'BALB3_E3.11176.11176.2', 'BALB3_E3.10876.10906.3', 'BALB3_E3.21858.21858.2', 'BALB3_E3.3996.3996.4', 'BALB3_E3.5348.5381.4', 'BALB3_E3.7176.7212.4', 'BALB3_E3.8809.8850.5', 'BALB3_E3.19331.19331.2', 'BALB3_E3.4427.4427.2', 'BALB3_E3.4404.4594.2', 'BALB3_E3.10470.10470.3', 'BALB3_E3.12182.12328.2', 'BALB3_E3.14313.14313.2', 'BALB3_E3.18965.18998.2', 'BALB3_E3.21352.21385.3', 'BALB3_E3.14028.14028.2', 'BALB3_E3.13789.13900.2', 'BALB3_E3.4916.4916.3', 'BALB3_E3.4824.4862.3', 'BALB3_E3.10029.10029.2', 'BALB3_E3.4349.4544.2', 'BALB3_E3.4572.4572.5', 'BALB3_E3.9578.9578.2', 'BALB3_E3.10217.10258.2', 'BALB3_E3.11852.11852.2', 'BALB3_E3.9221.9256.3', 'BALB3_E3.11259.11259.2', 'BALB3_E3.13427.13427.2', 'BALB3_E3.11231.11231.2', 'BALB3_E3.7900.7965.2', 'BALB3_E3.12983.12983.3', 'BALB3_E3.7792.7792.2', 'BALB3_E3.4416.4457.2', 'BALB3_E3.4602.4602.2', 'BALB3_E3.7940.7940.5', 'BALB3_E3.8379.8379.4', 'BALB3_E3.8343.8343.2', 'BALB3_E3.20325.20325.3', 'BALB3_E3.11435.11468.2', 'BALB3_E3.15003.15085.2', 'BALB3_E3.14740.14740.2', 'BALB3_E3.16441.16441.3', 'BALB3_E3.20351.20384.3', 'BALB3_E3.20210.20210.2', 'BALB3_E3.21462.21462.3', 'BALB3_E3.14277.14277.5', 'BALB3_E3.9672.9706.5', 'BALB3_E3.8869.8869.4', 'BALB3_E3.7298.7298.2', 'BALB3_E3.21006.21112.2', 'BALB3_E3.13181.13181.2', 'BALB3_E3.21038.21038.3', 'BALB3_E3.21181.21181.3', 'BALB3_E3.5020.5053.2', 'BALB3_E3.4414.4414.4', 'BALB3_E3.10255.10296.4', 'BALB3_E3.9891.9891.5', 'BALB3_E3.10691.10732.4', 'BALB3_E3.8098.8098.3', 'BALB3_E3.5217.5217.3', 'BALB3_E3.9709.9709.3', 'BALB3_E3.13085.13085.2', 'BALB3_E3.4847.4847.3', 'BALB3_E3.8987.8987.4', 'BALB3_E3.13483.13483.2', 'BALB3_E3.9668.9668.3', 'BALB3_E3.15270.15305.2', 'BALB3_E3.7426.7458.3', 'BALB3_E3.14309.14309.2', 'BALB3_E3.10123.10160.2', 'BALB3_E3.9226.9226.2', 'BALB3_E3.17800.17800.2', 'BALB3_E3.3821.3975.3', 'BALB3_E3.4223.4223.3', 'BALB3_E3.3908.3908.4', 'BALB3_E3.13399.13429.4', 'BALB3_E3.16284.16284.3', 'BALB3_E3.8731.8841.2', 'BALB3_E3.11119.11237.3', 'BALB3_E3.12202.12674.2', 'BALB3_E3.9577.9618.6', 'BALB3_E3.6989.6989.5', 'BALB3_E3.19372.19473.2', 'BALB3_E3.14737.14737.5', 'BALB3_E3.12384.12422.2', 'BALB3_E3.20462.20462.2', 'BALB3_E3.3901.3901.4', 'BALB3_E3.7628.7722.2', 'BALB3_E3.9760.9760.3', 'BALB3_E3.10624.10697.2', 'BALB3_E3.13869.13869.2', 'BALB3_E3.3991.3991.4', 'BALB3_E3.5905.6098.2', 'BALB3_E3.8645.8645.2', 'BALB3_E3.15609.15648.3', 'BALB3_E3.4097.4137.2', 'BALB3_E3.14334.14367.2', 'BALB3_E3.10801.10801.2', 'BALB3_E3.6939.6939.2', 'BALB3_E3.4506.4636.5', 'BALB3_E3.3570.3570.4', 'BALB3_E3.4605.4605.5', 'BALB3_E3.11308.11308.2', 'BALB3_E3.5032.5032.5', 'BALB3_E3.6747.6783.2', 'BALB3_E3.9942.10027.2', 'BALB3_E3.12255.12255.2', 'BALB3_E3.7423.7449.3', 'BALB3_E3.16862.16926.2', 'BALB3_E3.19230.19309.2', 'BALB3_E3.21291.21291.2', 'BALB3_E3.9774.9805.3', 'BALB3_E3.21119.21119.3', 'BALB3_E3.7255.7282.2', 'BALB3_E3.13026.13026.2', 'BALB3_E3.7472.7537.3', 'BALB3_E3.14148.14191.2', 'BALB3_E3.4988.4988.4', 'BALB3_E3.9664.9664.4', 'BALB3_E3.14435.14435.3', 'BALB3_E3.5725.6068.4', 'BALB3_E3.7630.7630.2', 'BALB3_E3.10320.10320.2', 'BALB3_E3.15606.15652.2', 'BALB3_E3.10833.10864.3', 'BALB3_E3.6628.6628.2', 'BALB3_E3.5129.5192.2', 'BALB3_E3.4923.4923.2', 'BALB3_E3.7446.7446.3', 'BALB3_E3.5284.5284.2', 'BALB3_E3.11503.11503.2', 'BALB3_E3.8181.8212.3', 'BALB3_E3.8587.8628.3', 'BALB3_E3.6239.6282.4', 'BALB3_E3.15893.15924.2', 'BALB3_E3.14402.14402.3', 'BALB3_E3.20011.20100.3', 'BALB3_E3.8176.8176.2', 'BALB3_E3.7644.7644.5', 'BALB3_E3.5569.5601.3', 'BALB3_E3.9239.9239.4', 'BALB3_E3.12816.12816.3', 'BALB3_E3.18475.18475.3', 'BALB3_E3.21445.21445.2', 'BALB3_E3.5141.5141.2', 'BALB3_E3.8984.8984.2', 'BALB3_E3.12185.12185.2', 'BALB3_E3.9770.9770.4', 'BALB3_E3.16598.16598.2', 'BALB3_E3.7287.7287.4', 'BALB3_E3.7072.7108.3', 'BALB3_E3.6529.6560.2', 'BALB3_E3.7937.7937.3', 'BALB3_E3.6217.6314.2', 'BALB3_E3.9160.9258.2', 'BALB3_E3.6317.6348.2', 'BALB3_E3.21078.21078.2', 'BALB3_E3.18813.18813.2', 'BALB3_E3.7149.7149.3', 'BALB3_E3.9012.9012.3', 'BALB3_E3.21759.21759.2', 'BALB3_E3.12218.12259.3', 'BALB3_E3.13675.13675.4', 'BALB3_E3.20735.20735.2', 'BALB3_E3.7888.7921.5', 'BALB3_E3.4000.4037.4', 'BALB3_E3.7529.7529.4', 'BALB3_E3.5668.5668.2', 'BALB3_E3.13714.13714.3', 'BALB3_E3.6041.6074.5', 'BALB3_E3.5974.6053.2', 'BALB3_E3.4460.4502.3', 'BALB3_E3.7372.7372.2', 'BALB3_E3.10648.10687.2', 'BALB3_E3.10724.10724.4', 'BALB3_E3.7321.7321.4', 'BALB3_E3.21562.21562.2', 'BALB3_E3.7248.7284.3', 'BALB3_E3.14676.14676.4', 'BALB3_E3.8001.8096.3', 'BALB3_E3.7377.7403.2', 'BALB3_E3.5221.5221.2', 'BALB3_E3.20962.20962.3', 'BALB3_E3.10273.10273.3', 'BALB3_E3.19814.19862.4', 'BALB3_E3.13500.13500.3', 'BALB3_E3.14652.14694.4', 'BALB3_E3.3922.3961.3', 'BALB3_E3.9616.9651.2', 'BALB3_E3.21340.21376.3', 'BALB3_E3.8414.8414.2', 'BALB3_E3.5604.5636.2', 'BALB3_E3.9030.9030.3', 'BALB3_E3.12905.12905.3', 'BALB3_E3.17802.17877.2', 'BALB3_E3.7375.7375.2', 'BALB3_E3.10172.10212.3', 'BALB3_E3.10285.10285.3', 'BALB3_E3.14165.14232.2', 'BALB3_E3.6450.6450.2', 'BALB3_E3.9369.9369.2', 'BALB3_E3.9319.9356.2', 'BALB3_E3.9825.9825.4', 'BALB3_E3.13311.13350.4', 'BALB3_E3.12979.12979.3', 'BALB3_E3.15881.15881.3', 'BALB3_E3.15117.15117.4', 'BALB3_E3.15424.15468.5', 'BALB3_E3.14138.14138.5', 'BALB3_E3.14640.14640.6', 'BALB3_E3.13608.13774.2', 'BALB3_E3.13362.13430.2', 'BALB3_E3.12715.12800.2', 'BALB3_E3.8491.8491.2', 'BALB3_E3.12161.12415.2', 'BALB3_E3.9237.9347.2', 'BALB3_E3.14244.14244.2', 'BALB3_E3.20036.20637.2', 'BALB3_E3.20918.21055.2', 'BALB3_E3.20771.21244.2', 'BALB3_E3.21255.21255.3', 'BALB3_E3.10354.10390.2', 'BALB3_E3.9477.9544.2', 'BALB3_E3.20525.20697.2', 'BALB3_E3.20966.21002.2', 'BALB3_E3.20809.20847.2', 'BALB3_E3.15091.15131.3', 'BALB3_E3.10910.10910.2', 'BALB3_E3.10141.10141.2', 'BALB3_E3.7373.7373.2', 'BALB3_E3.16453.16519.2', 'BALB3_E3.16906.16906.2', 'BALB3_E3.16892.16892.2', 'BALB3_E3.3795.3829.2', 'BALB3_E3.13544.13544.3', 'BALB3_E3.6819.6856.3', 'BALB3_E3.14611.14611.2', 'BALB3_E3.13027.13064.4', 'BALB3_E3.6594.6594.2', 'BALB3_E3.4153.4153.4', 'BALB3_E3.3778.3808.4', 'BALB3_E3.14504.14556.2', 'BALB3_E3.8238.8269.2', 'BALB3_E3.19198.19240.3', 'BALB3_E3.14119.14119.2', 'BALB3_E3.9682.9682.3', 'BALB3_E3.8404.8404.3', 'BALB3_E3.13497.13531.2', 'BALB3_E3.15747.15818.2', 'BALB3_E3.13783.13783.3', 'BALB3_E3.8303.8303.2', 'BALB3_E3.6676.6676.2', 'BALB3_E3.15795.15795.4', 'BALB3_E3.20431.20685.2', 'BALB3_E3.21594.21594.2', 'BALB3_E3.19234.19321.2', 'BALB3_E3.21176.21243.3', 'BALB3_E3.13565.13638.3', 'BALB3_E3.19931.19967.3', 'BALB3_E3.17075.17208.4', 'BALB3_E3.9864.9864.3', 'BALB3_E3.13984.14058.4', 'BALB3_E3.18127.18155.5', 'BALB3_E3.10186.10371.3', 'BALB3_E3.13349.13383.2', 'BALB3_E3.5240.5240.3', 'BALB3_E3.11004.11072.2', 'BALB3_E3.8300.8335.5', 'BALB3_E3.4008.4052.4', 'BALB3_E3.17889.17889.2', 'BALB3_E3.9279.9313.3', 'BALB3_E3.15651.15651.4', 'BALB3_E3.6247.6288.4', 'BALB3_E3.5880.5919.2', 'BALB3_E3.14247.14247.4', 'BALB3_E3.16660.16660.2', 'BALB3_E3.13551.13551.3', 'BALB3_E3.15513.15513.3', 'BALB3_E3.6440.6440.3', 'BALB3_E3.14869.14869.4', 'BALB3_E3.9280.9280.2', 'BALB3_E3.9724.9724.4', 'BALB3_E3.7271.7307.4', 'BALB3_E3.10757.10797.4', 'BALB3_E3.8950.9037.2', 'BALB3_E3.9490.9490.2', 'BALB3_E3.5654.5687.3', 'BALB3_E3.9625.9625.2']\n",
      "Ids with no alignment for /Users/zacharymcgrath/Desktop/raw inputs/BALB3_E3/BALB3_E3.mzML:\n",
      "[]\n"
     ]
    }
   ],
   "source": [
    "results = defaultdict(lambda: 0)\n",
    "\n",
    "individual_results = [defaultdict(lambda: 0) for _ in range(len(datasets))]\n",
    "\n",
    "nf_key = 'not found'\n",
    "na_key = 'no alignment'\n",
    "\n",
    "for j, (dataset, output) in enumerate(zip(datasets, output_data)):\n",
    "    \n",
    "    nf = []\n",
    "    na = []\n",
    "    \n",
    "    # first we need to index the spectrumMill results by id\n",
    "    specMill_results = dictify_table(pd.read_csv(dataset[1], sep=';'), 'filename')\n",
    "    \n",
    "    # now we need to load the output data\n",
    "    hypedSearch_results = json.load(open(output, 'r'))\n",
    "        \n",
    "    # index hypedSearch_results by the id value in key, value value['spectrum']\n",
    "    hypedSearch_results = {value['spectrum']['id'].replace('.pkl', ''): value for _, value in hypedSearch_results.items()}\n",
    "    \n",
    "    \n",
    "    # now go through every result in specMill, find the corresponding one in hypedSearch, and add to results\n",
    "    for key, value in specMill_results.items():\n",
    "        \n",
    "        hybrid = False\n",
    "        \n",
    "        if 'hybrid' in value['entry_name'].lower():\n",
    "            hybrid = True\n",
    "        \n",
    "        correct_sequence = value['sequence']\n",
    "        \n",
    "        # if hybrid, replace L and I with B\n",
    "        if hybrid:\n",
    "            correct_sequence = correct_sequence.replace('L', 'B').replace('I', 'B')\n",
    "        \n",
    "        # look for it in the hypedSearch results\n",
    "        if key not in hypedSearch_results:\n",
    "            nf.append(key)\n",
    "            results[nf_key] += 1\n",
    "            individual_results[j][nf_key] += 1\n",
    "            continue \n",
    "            \n",
    "        found = False\n",
    "        \n",
    "        # since we can allow for ties, we need to bin by the scores\n",
    "        scores = defaultdict(list)\n",
    "                    \n",
    "        for i, alignment in enumerate(hypedSearch_results[key]['alignments']):\n",
    "            \n",
    "            comp_sequence = alignment['sequence']\n",
    "            \n",
    "            # bin it \n",
    "            scores[alignment['total_score']].append(alignment)\n",
    "            \n",
    "            # if hybrid, replace L and I with B\n",
    "            if hybrid:\n",
    "                comp_sequence = comp_sequence.replace('L', 'B').replace('I', 'B')\n",
    "            \n",
    "            if comp_sequence == correct_sequence:\n",
    "                # the correct result rank is the len(scores) - 1\n",
    "                rank = str(len(scores) - 1)\n",
    "                \n",
    "                results[rank] += 1\n",
    "                individual_results[j][rank] += 1\n",
    "                found = True\n",
    "                \n",
    "        if not found:\n",
    "            na.append(key)\n",
    "            results[na_key] += 1\n",
    "            individual_results[j][na_key] += 1\n",
    "            \n",
    "    print(f'Ids not found for {dataset[0]}:\\n{nf}')\n",
    "    print(f'Ids with no alignment for {dataset[0]}:\\n{na}')\n",
    "    "
   ]
  },
  {
   "cell_type": "markdown",
   "metadata": {},
   "source": [
    "### Plot it by all results"
   ]
  },
  {
   "cell_type": "code",
   "execution_count": 14,
   "metadata": {},
   "outputs": [],
   "source": [
    "sorted_int_keys = sorted([x for x in list(results.keys()) if x.isdigit()], key=lambda x: int(x))\n",
    "non_int_keys = [x for x in list(results.keys()) if not x.isdigit()]"
   ]
  },
  {
   "cell_type": "code",
   "execution_count": 15,
   "metadata": {},
   "outputs": [
    {
     "data": {
      "text/plain": [
       "Text(0.5, 1.0, 'Number of results with a ranking for all datasets')"
      ]
     },
     "execution_count": 15,
     "metadata": {},
     "output_type": "execute_result"
    },
    {
     "data": {
      "image/png": "[encoded data removed]",
      "text/plain": [
       "<Figure size 1440x864 with 1 Axes>"
      ]
     },
     "metadata": {
      "needs_background": "light"
     },
     "output_type": "display_data"
    }
   ],
   "source": [
    "plt.figure(figsize=(20, 12))\n",
    "\n",
    "plt.bar(non_int_keys + sorted_int_keys, [results[k] for k in non_int_keys] + [results[k] for k in sorted_int_keys])\n",
    "plt.xlabel('Ranking of correct answer (no ties)')\n",
    "plt.ylabel('Count')\n",
    "plt.title('Number of results with a ranking for all datasets')"
   ]
  },
  {
   "cell_type": "markdown",
   "metadata": {},
   "source": [
    "### Plot it by the dataset"
   ]
  },
  {
   "cell_type": "code",
   "execution_count": 16,
   "metadata": {},
   "outputs": [
    {
     "data": {
      "image/png": "[encoded data removed]",
      "text/plain": [
       "<Figure size 1440x2160 with 2 Axes>"
      ]
     },
     "metadata": {
      "needs_background": "light"
     },
     "output_type": "display_data"
    }
   ],
   "source": [
    "fig, axes = plt.subplots(len(individual_results), 1, figsize=(20, 15*len(individual_results)))\n",
    "\n",
    "for i, ir in enumerate(individual_results):\n",
    "    \n",
    "    # first get the title\n",
    "    title = datasets[i][0].split('/')[-1].split('.')[0]\n",
    "    title = f'Number of {title} results with ranking'\n",
    "    \n",
    "    # get the keys\n",
    "    ir_sik = sorted([x for x in list(ir.keys()) if x.isdigit()], key=lambda x: int(x))\n",
    "    ir_nik = [x for x in list(results.keys()) if not x.isdigit()]\n",
    "    \n",
    "    axes[i].bar(ir_nik + ir_sik, [ir[k] for k in ir_nik] + [results[k] for k in ir_sik])\n",
    "    \n",
    "    axes[i].set_title(title)\n",
    "    axes[i].set_xlabel('Ranking of correct answer (no ties)')\n",
    "    axes[i].set_ylabel('Count')"
   ]
  },
  {
   "cell_type": "code",
   "execution_count": null,
   "metadata": {},
   "outputs": [],
   "source": []
  }
 ],
 "metadata": {
  "kernelspec": {
   "display_name": "Python 3",
   "language": "python",
   "name": "python3"
  },
  "language_info": {
   "codemirror_mode": {
    "name": "ipython",
    "version": 3
   },
   "file_extension": ".py",
   "mimetype": "text/x-python",
   "name": "python",
   "nbconvert_exporter": "python",
   "pygments_lexer": "ipython3",
   "version": "3.7.4"
  }
 },
 "nbformat": 4,
 "nbformat_minor": 4
}

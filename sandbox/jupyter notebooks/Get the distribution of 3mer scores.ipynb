{
 "cells": [
  {
   "cell_type": "markdown",
   "metadata": {},
   "source": [
    "# Get distribution of 3mer scores\n",
    "We want to see how well the 3mers score against some distribution of spectra.\n",
    "\n",
    "We will probably see a long tailed distribution, and we want to just get the most interesting ones to reduce computation. We would ideally like to do this without some hard cutoff value, so if we can use a property of the distribution that would be extra jazzy"
   ]
  },
  {
   "cell_type": "markdown",
   "metadata": {},
   "source": [
    "## 1. Load fasta database"
   ]
  },
  {
   "cell_type": "code",
   "execution_count": 1,
   "metadata": {},
   "outputs": [],
   "source": [
    "import os\n",
    "import sys\n",
    "module_path = os.path.abspath(os.path.join('..'))\n",
    "if module_path not in sys.path:\n",
    "    sys.path.append(module_path)\n",
    "module_path = os.path.abspath(os.path.join('../..'))\n",
    "if module_path not in sys.path:\n",
    "    sys.path.append(module_path)\n",
    "    \n",
    "from src.file_io import fasta\n",
    "\n",
    "fasta_file = '../../testing framework/data/databases/6000prots.fasta'\n",
    "database = fasta.read(fasta_file, True)\n",
    "\n",
    "database = {x['name']: x for x in database}\n"
   ]
  },
  {
   "cell_type": "markdown",
   "metadata": {},
   "source": [
    "## 2.  Generate the peptides, hybrid proteins and peptides"
   ]
  },
  {
   "cell_type": "code",
   "execution_count": 2,
   "metadata": {},
   "outputs": [
    {
     "name": "stdout",
     "output_type": "stream",
     "text": [
      "Generating hybrid protein 0/5[0%]\r",
      "Generating hybrid protein 1/5[20%]\r",
      "Generating hybrid protein 2/5[40%]\r",
      "Generating hybrid protein 3/5[60%]\r",
      "Generating hybrid protein 4/5[80%]\r\n",
      "Finished generating hybrid proteins\n"
     ]
    }
   ],
   "source": [
    "import modules\n",
    "from modules.sequence_generation import proteins, peptides\n",
    "\n",
    "num_hybs = 5\n",
    "min_length= 5\n",
    "max_length = 35\n",
    "num_peptides = 6000\n",
    "min_cont = 3 #min contribution for each side of a hybrid\n",
    "\n",
    "# make hybrid proteins\n",
    "hyb_prots = proteins.generate_hybrids([x for _, x in database.items()], num_hybs, min_contribution=max_length)\n",
    "# create peptides\n",
    "non_hybrid_peps = peptides.gen_peptides([x for _, x in database.items()], num_peptides, min_length=min_length, max_length=max_length, digest='random', dist='beta')\n",
    "# create hybrid peptides\n",
    "hyb_peps = peptides.gen_peptides(hyb_prots, num_hybs, min_length=min_length, max_length=max_length, digest='random', min_contribution=min_cont, hybrid_list=True)\n",
    "\n",
    "all_proteins_raw = [x for _,x in database.items()] + hyb_prots\n",
    "all_peptides_raw = non_hybrid_peps + hyb_peps\n",
    "\n",
    "peptides = {}\n",
    "for i, pep in enumerate(all_peptides_raw):\n",
    "    peptides[i] = pep\n",
    "    peptides[i]['scan_no'] = i"
   ]
  },
  {
   "cell_type": "markdown",
   "metadata": {},
   "source": [
    "## 3. Generate spectra"
   ]
  },
  {
   "cell_type": "code",
   "execution_count": 3,
   "metadata": {},
   "outputs": [],
   "source": [
    "from src.spectra import gen_spectra\n",
    "\n",
    "spectra = []\n",
    "sorted_keys = [int(c) for c in peptides.keys()]\n",
    "sorted_keys.sort()\n",
    "for k in sorted_keys:\n",
    "    pep = peptides[k]\n",
    "    cont = gen_spectra.gen_spectrum(pep['sequence'])\n",
    "    spec = cont['spectrum']\n",
    "    pm = cont['precursor_mass']\n",
    "    spectra.append({'spectrum': spec, 'precursor_mass': pm})\n"
   ]
  },
  {
   "cell_type": "markdown",
   "metadata": {},
   "source": [
    "## 4. Run the scoring algorithm for all kmers"
   ]
  },
  {
   "cell_type": "code",
   "execution_count": 4,
   "metadata": {},
   "outputs": [
    {
     "name": "stdout",
     "output_type": "stream",
     "text": [
      "452 unique kmers\n"
     ]
    }
   ],
   "source": [
    "# creata and index a database\n",
    "from src.database.database import Database\n",
    "\n",
    "#self, fasta_file_name: str, is_uniprot=False, kmer_size=3\n",
    "db = Database(fasta_file, True, 2)\n",
    "db.index()\n",
    "kmerdict = db.metadata"
   ]
  },
  {
   "cell_type": "code",
   "execution_count": 5,
   "metadata": {},
   "outputs": [],
   "source": [
    "# import the scoring algorithm\n",
    "from src.scoring.scoring import score_subsequence\n",
    "import numpy as np\n",
    "\n",
    "# scoring the subsequence is spectrum (list) and subseq (str)\n",
    "bscores = np.zeros((len(kmerdict), len(spectra)))\n",
    "yscores = np.zeros((len(kmerdict), len(spectra)))"
   ]
  },
  {
   "cell_type": "code",
   "execution_count": 6,
   "metadata": {},
   "outputs": [
    {
     "name": "stdout",
     "output_type": "stream",
     "text": [
      "on spectrum 6244/6245\r"
     ]
    }
   ],
   "source": [
    "for i, spec in enumerate(spectra):\n",
    "    print('on spectrum {}/{}\\r'.format(i, len(spectra)), end='')\n",
    "    # get the score for all \n",
    "    thesebscores = []\n",
    "    theseyscores = []\n",
    "    for kmer in kmerdict.keys():\n",
    "        b, y = score_subsequence(spec['spectrum'], kmer)\n",
    "        thesebscores.append(b)\n",
    "        theseyscores.append(y)\n",
    "    # sort them\n",
    "    thesebscores.sort(reverse=True)\n",
    "    theseyscores.sort(reverse=True)\n",
    "    bscores[:,i] = thesebscores\n",
    "    yscores[:,i] = theseyscores"
   ]
  },
  {
   "cell_type": "markdown",
   "metadata": {},
   "source": [
    "## 5. plot it"
   ]
  },
  {
   "cell_type": "code",
   "execution_count": 7,
   "metadata": {},
   "outputs": [],
   "source": [
    "import matplotlib.pyplot as plt\n",
    "\n",
    "# find the mean, standard deviation, and extremes\n",
    "meanscores = lambda l: [np.mean(x) for x in l]\n",
    "stddevscores = lambda l: [np.std(x) for x in l]\n",
    "minscores = lambda l: [min(x) for x in l]\n",
    "maxscores = lambda l: [max(x) for x in l]\n",
    "totalmeanscores = lambda l: np.mean(l)\n",
    "totalstandardscores = lambda l: np.std(l)\n",
    "scoresabovex = lambda x, l: [y for y in l if y >= x]"
   ]
  },
  {
   "cell_type": "code",
   "execution_count": 8,
   "metadata": {},
   "outputs": [],
   "source": [
    "# b plot\n",
    "bmean = meanscores(bscores)\n",
    "bstd = stddevscores(bscores)\n",
    "bmin = minscores(bscores)\n",
    "bmax = maxscores(bscores)\n",
    "btotalmean = totalmeanscores(bscores) \n",
    "meanmean = [btotalmean for _ in range(len(kmerdict.keys()))]\n",
    "btotalstd = totalstandardscores(bscores)\n",
    "stdstd = [btotalstd for _ in range(len(kmerdict.keys()))]\n",
    "btopscores = scoresabovex(btotalstd*4, [item for sublist in bscores for item in sublist])\n"
   ]
  },
  {
   "cell_type": "code",
   "execution_count": 9,
   "metadata": {},
   "outputs": [],
   "source": [
    "stdabove = [bmean[i] + bstd[i] for i in range(len(kmerdict.keys()))]\n",
    "stdbelow = [bmean[i] - bstd[i] for i in range(len(kmerdict.keys()))]"
   ]
  },
  {
   "cell_type": "code",
   "execution_count": 10,
   "metadata": {},
   "outputs": [
    {
     "name": "stdout",
     "output_type": "stream",
     "text": [
      "39946\n"
     ]
    },
    {
     "data": {
      "text/plain": [
       "Text(0.5, 1.0, 'ranked score values as a function of position')"
      ]
     },
     "execution_count": 10,
     "metadata": {},
     "output_type": "execute_result"
    },
    {
     "data": {
      "image/png": "[encoded data removed]",
      "text/plain": [
       "<Figure size 576x360 with 1 Axes>"
      ]
     },
     "metadata": {
      "needs_background": "light"
     },
     "output_type": "display_data"
    }
   ],
   "source": [
    "print(len(btopscores))\n",
    "# plot it\n",
    "maxrange = 1000\n",
    "x = range(len(bmean))\n",
    "plt.figure(figsize=(8, 5))\n",
    "plt.plot(x[:maxrange], bmean[:maxrange], label='mean scores')\n",
    "plt.plot(x[:maxrange], stdabove[:maxrange], 'y', label='+ 1standard deviation')\n",
    "plt.plot(x[:maxrange], stdbelow[:maxrange], 'r', label='- 1standard deviation')\n",
    "plt.plot(x[:maxrange], stdstd[:maxrange], 'r--', label='standard deviation of all scores')\n",
    "plt.plot(x[:maxrange], [x * 4 for x in stdstd][:maxrange], 'g--', label='4 standard deviations')\n",
    "plt.legend()\n",
    "plt.title('ranked score values as a function of position')\n",
    "\n",
    "\n",
    "\n",
    "\n"
   ]
  },
  {
   "cell_type": "code",
   "execution_count": null,
   "metadata": {},
   "outputs": [],
   "source": []
  }
 ],
 "metadata": {
  "kernelspec": {
   "display_name": "Python 3",
   "language": "python",
   "name": "python3"
  },
  "language_info": {
   "codemirror_mode": {
    "name": "ipython",
    "version": 3
   },
   "file_extension": ".py",
   "mimetype": "text/x-python",
   "name": "python",
   "nbconvert_exporter": "python",
   "pygments_lexer": "ipython3",
   "version": "3.7.4"
  }
 },
 "nbformat": 4,
 "nbformat_minor": 4
}

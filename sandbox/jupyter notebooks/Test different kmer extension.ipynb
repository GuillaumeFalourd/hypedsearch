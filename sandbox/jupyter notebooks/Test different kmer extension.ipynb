{
 "cells": [
  {
   "cell_type": "markdown",
   "metadata": {},
   "source": [
    "# test new kmer extension\n",
    "While the last one was sort of fast, lets make it faster if we can\n",
    "Instead of looking at all points of interest and try and just brute force it with a tree beam search kind of thing\n",
    "\n",
    "### lets first see how big these things get"
   ]
  },
  {
   "cell_type": "code",
   "execution_count": 4,
   "metadata": {},
   "outputs": [
    {
     "name": "stdout",
     "output_type": "stream",
     "text": [
      "8477 unique kmers\n",
      "for k=3, size=0.295016MB, len=8477\n",
      "160741 unique kmers\n",
      "for k=4, size=5.242984MB, len=160741\n",
      "1500255 unique kmers\n",
      "for k=5, size=83.886184MB, len=1500255\n",
      "2959049 unique kmers\n",
      "for k=6, size=167.772272MB, len=2959049\n",
      "3247644 unique kmers\n",
      "for k=7, size=167.772272MB, len=3247644\n",
      "3297372 unique kmers\n",
      "for k=8, size=167.772272MB, len=3297372\n",
      "3318015 unique kmers\n",
      "for k=9, size=167.772272MB, len=3318015\n",
      "3331682 unique kmers\n",
      "for k=10, size=167.772272MB, len=3331682\n",
      "3342199 unique kmers\n",
      "for k=11, size=167.772272MB, len=3342199\n",
      "3350562 unique kmers\n",
      "for k=12, size=167.772272MB, len=3350562\n",
      "3357366 unique kmers\n",
      "for k=13, size=167.772272MB, len=3357366\n",
      "3363128 unique kmers\n",
      "for k=14, size=167.772272MB, len=3363128\n",
      "3367957 unique kmers\n",
      "for k=15, size=167.772272MB, len=3367957\n",
      "3372100 unique kmers\n",
      "for k=16, size=167.772272MB, len=3372100\n",
      "3375734 unique kmers\n",
      "for k=17, size=167.772272MB, len=3375734\n",
      "3378948 unique kmers\n",
      "for k=18, size=167.772272MB, len=3378948\n",
      "3381738 unique kmers\n",
      "for k=19, size=167.772272MB, len=3381738\n",
      "3384214 unique kmers\n",
      "for k=20, size=167.772272MB, len=3384214\n",
      "3386423 unique kmers\n",
      "for k=21, size=167.772272MB, len=3386423\n",
      "3388422 unique kmers\n",
      "for k=22, size=167.772272MB, len=3388422\n",
      "3390222 unique kmers\n",
      "for k=23, size=167.772272MB, len=3390222\n",
      "3391864 unique kmers\n",
      "for k=24, size=167.772272MB, len=3391864\n",
      "3393360 unique kmers\n",
      "for k=25, size=167.772272MB, len=3393360\n",
      "3394731 unique kmers\n",
      "for k=26, size=167.772272MB, len=3394731\n"
     ]
    },
    {
     "ename": "KeyboardInterrupt",
     "evalue": "",
     "output_type": "error",
     "traceback": [
      "\u001b[0;31m---------------------------------------------------------------------------\u001b[0m",
      "\u001b[0;31mKeyboardInterrupt\u001b[0m                         Traceback (most recent call last)",
      "\u001b[0;32m<ipython-input-4-2a5dc25a79b0>\u001b[0m in \u001b[0;36m<module>\u001b[0;34m\u001b[0m\n\u001b[1;32m     14\u001b[0m \u001b[0;32mfor\u001b[0m \u001b[0mkmer\u001b[0m \u001b[0;32min\u001b[0m \u001b[0mkmers\u001b[0m\u001b[0;34m:\u001b[0m\u001b[0;34m\u001b[0m\u001b[0;34m\u001b[0m\u001b[0m\n\u001b[1;32m     15\u001b[0m     \u001b[0mdb\u001b[0m\u001b[0;34m.\u001b[0m\u001b[0mkmer_size\u001b[0m \u001b[0;34m=\u001b[0m \u001b[0mkmer\u001b[0m\u001b[0;34m\u001b[0m\u001b[0;34m\u001b[0m\u001b[0m\n\u001b[0;32m---> 16\u001b[0;31m     \u001b[0mdb\u001b[0m\u001b[0;34m.\u001b[0m\u001b[0mindex\u001b[0m\u001b[0;34m(\u001b[0m\u001b[0;34m)\u001b[0m\u001b[0;34m\u001b[0m\u001b[0;34m\u001b[0m\u001b[0m\n\u001b[0m\u001b[1;32m     17\u001b[0m     \u001b[0mdictsize\u001b[0m \u001b[0;34m=\u001b[0m \u001b[0msys\u001b[0m\u001b[0;34m.\u001b[0m\u001b[0mgetsizeof\u001b[0m\u001b[0;34m(\u001b[0m\u001b[0mdb\u001b[0m\u001b[0;34m.\u001b[0m\u001b[0mmetadata\u001b[0m\u001b[0;34m)\u001b[0m \u001b[0;34m/\u001b[0m \u001b[0;36m1000000\u001b[0m\u001b[0;34m\u001b[0m\u001b[0;34m\u001b[0m\u001b[0m\n\u001b[1;32m     18\u001b[0m     \u001b[0mnumkmers\u001b[0m \u001b[0;34m=\u001b[0m \u001b[0mlen\u001b[0m\u001b[0;34m(\u001b[0m\u001b[0mdb\u001b[0m\u001b[0;34m.\u001b[0m\u001b[0mmetadata\u001b[0m\u001b[0;34m)\u001b[0m\u001b[0;34m\u001b[0m\u001b[0;34m\u001b[0m\u001b[0m\n",
      "\u001b[0;32m~/Documents/Layer_Research/hypedsearch/src/database/database.py\u001b[0m in \u001b[0;36mindex\u001b[0;34m(self)\u001b[0m\n\u001b[1;32m     91\u001b[0m             \u001b[0mmers\u001b[0m \u001b[0;34m=\u001b[0m \u001b[0me\u001b[0m\u001b[0;34m.\u001b[0m\u001b[0mindex\u001b[0m\u001b[0;34m(\u001b[0m\u001b[0;34m)\u001b[0m\u001b[0;34m\u001b[0m\u001b[0;34m\u001b[0m\u001b[0m\n\u001b[1;32m     92\u001b[0m             \u001b[0;32mfor\u001b[0m \u001b[0mi\u001b[0m \u001b[0;32min\u001b[0m \u001b[0mrange\u001b[0m\u001b[0;34m(\u001b[0m\u001b[0mlen\u001b[0m\u001b[0;34m(\u001b[0m\u001b[0mmers\u001b[0m\u001b[0;34m)\u001b[0m\u001b[0;34m)\u001b[0m\u001b[0;34m:\u001b[0m\u001b[0;34m\u001b[0m\u001b[0;34m\u001b[0m\u001b[0m\n\u001b[0;32m---> 93\u001b[0;31m                 \u001b[0mmer\u001b[0m\u001b[0;34m,\u001b[0m \u001b[0mstart_pos\u001b[0m\u001b[0;34m,\u001b[0m \u001b[0mend_pos\u001b[0m \u001b[0;34m=\u001b[0m \u001b[0mmers\u001b[0m\u001b[0;34m[\u001b[0m\u001b[0mi\u001b[0m\u001b[0;34m]\u001b[0m\u001b[0;34m\u001b[0m\u001b[0;34m\u001b[0m\u001b[0m\n\u001b[0m\u001b[1;32m     94\u001b[0m                 \u001b[0;32mif\u001b[0m \u001b[0mmer\u001b[0m \u001b[0;32mnot\u001b[0m \u001b[0;32min\u001b[0m \u001b[0mkmers\u001b[0m\u001b[0;34m:\u001b[0m\u001b[0;34m\u001b[0m\u001b[0;34m\u001b[0m\u001b[0m\n\u001b[1;32m     95\u001b[0m                     \u001b[0mkmers\u001b[0m\u001b[0;34m[\u001b[0m\u001b[0mmer\u001b[0m\u001b[0;34m]\u001b[0m \u001b[0;34m=\u001b[0m \u001b[0;34m[\u001b[0m\u001b[0;34m]\u001b[0m\u001b[0;34m\u001b[0m\u001b[0;34m\u001b[0m\u001b[0m\n",
      "\u001b[0;31mKeyboardInterrupt\u001b[0m: "
     ]
    }
   ],
   "source": [
    "import os\n",
    "import sys\n",
    "module_path = os.path.abspath(os.path.join('..'))\n",
    "if module_path not in sys.path:\n",
    "    sys.path.append(module_path)\n",
    "module_path = os.path.abspath(os.path.join('../..'))\n",
    "if module_path not in sys.path:\n",
    "    sys.path.append(module_path)\n",
    "    \n",
    "from src.database.database import Database\n",
    "fasta_file = '../../testing framework/data/databases/6000prots.fasta'\n",
    "db = Database(fasta_file, True, 1)\n",
    "kmers = [i for i in range(3, 36)]\n",
    "for kmer in kmers:\n",
    "    db.kmer_size = kmer\n",
    "    db.index()\n",
    "    dictsize = sys.getsizeof(db.metadata) / 1000000\n",
    "    numkmers = len(db.metadata)\n",
    "    print('for k={}, size={}MB, len={}'.format(kmer, dictsize, numkmers))"
   ]
  },
  {
   "cell_type": "markdown",
   "metadata": {},
   "source": [
    "## make a hash tree"
   ]
  },
  {
   "cell_type": "code",
   "execution_count": null,
   "metadata": {},
   "outputs": [],
   "source": [
    "class HashTreeNode:\n",
    "    def __init__(self, character):\n",
    "        self.c \n",
    "        self.ppp = []\n",
    "        \n",
    "    def __eq__(self, other):\n",
    "        return self.c == other.c \n",
    "\n",
    "    def __hash__(self):\n",
    "        hash(self.c)\n",
    "    \n",
    "    def add_ppp(self, protein, position):\n",
    "        self.ppp.append((protein, position))\n",
    "\n",
    "class HashTree:\n",
    "    def __init__(self, min_size=5, max_size=None):\n",
    "        self.root = {}\n",
    "        self.min_size = min_size\n",
    "        self.max_size = max_size\n",
    "        \n",
    "    def add(self, sequence, parent):\n",
    "        for i in range(max)\n",
    "        current_node = self.root\n",
    "        for i, c in enumerate(sequence):\n",
    "            if c not in current_node:\n",
    "                htn = HashTreeNode(c)\n",
    "                current_node[c] = HashTreeNode(c)\n",
    "            current_node[c].add_ppp(parent, i)"
   ]
  }
 ],
 "metadata": {
  "kernelspec": {
   "display_name": "Python 3",
   "language": "python",
   "name": "python3"
  },
  "language_info": {
   "codemirror_mode": {
    "name": "ipython",
    "version": 3
   },
   "file_extension": ".py",
   "mimetype": "text/x-python",
   "name": "python",
   "nbconvert_exporter": "python",
   "pygments_lexer": "ipython3",
   "version": "3.7.4"
  }
 },
 "nbformat": 4,
 "nbformat_minor": 4
}

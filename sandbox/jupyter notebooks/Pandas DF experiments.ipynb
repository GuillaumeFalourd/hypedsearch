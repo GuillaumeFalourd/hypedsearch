{
 "cells": [
  {
   "cell_type": "markdown",
   "metadata": {},
   "source": [
    "# Experiment with pandas dataframe usage\n",
    "1. Put the fasta file into a df and see if building kmers is faster this way than my for loop\n",
    "2. Use the dataframe the way we used the sqlite database and see how fast queries are"
   ]
  },
  {
   "cell_type": "code",
   "execution_count": 1,
   "metadata": {},
   "outputs": [],
   "source": [
    "import os\n",
    "import sys\n",
    "module_path = os.path.abspath(os.path.join('..'))\n",
    "if module_path not in sys.path:\n",
    "    sys.path.append(module_path)\n",
    "module_path = os.path.abspath(os.path.join('../..'))\n",
    "if module_path not in sys.path:\n",
    "    sys.path.append(module_path)\n",
    "    \n",
    "from src.sequence.gen_spectra import gen_spectrum, max_mass\n",
    "from pyteomics import fasta\n",
    "import pandas as pd"
   ]
  },
  {
   "cell_type": "markdown",
   "metadata": {},
   "source": [
    "## 1. Make all kmers via loading a fasta into a df"
   ]
  },
  {
   "cell_type": "code",
   "execution_count": 2,
   "metadata": {},
   "outputs": [],
   "source": [
    "fasta_file = '/Users/zacharymcgrath/Desktop/nod2 data/filteredNOD2.fasta'\n",
    "entries = []\n",
    "for entry in fasta.read(fasta_file):\n",
    "    get_name = lambda name: name[:name.index('OS=')-1] if 'OS=' in name else name\n",
    "\n",
    "    # take the description without the 'sp' value\n",
    "    desc = entry.description.split('|')[1:] if '|' in entry.description else entry.description\n",
    "\n",
    "    # if the id is in the description, take it\n",
    "    if len(desc) > 1:\n",
    "        id_ = desc[0]\n",
    "        name = get_name(desc[1])\n",
    "\n",
    "    # make the id just the number\n",
    "    else:\n",
    "        id_ = i\n",
    "        name = get_name(desc[0])\n",
    "\n",
    "    # get the sequence\n",
    "    seq = entry.sequence\n",
    "\n",
    "    # make the entry and add it to prots\n",
    "    entries.append({'name': name, 'id': id_, 'sequence': seq})"
   ]
  },
  {
   "cell_type": "code",
   "execution_count": 3,
   "metadata": {},
   "outputs": [],
   "source": [
    "proteins = pd.DataFrame(entries)"
   ]
  },
  {
   "cell_type": "code",
   "execution_count": 4,
   "metadata": {},
   "outputs": [
    {
     "data": {
      "text/html": [
       "<div>\n",
       "<style scoped>\n",
       "    .dataframe tbody tr th:only-of-type {\n",
       "        vertical-align: middle;\n",
       "    }\n",
       "\n",
       "    .dataframe tbody tr th {\n",
       "        vertical-align: top;\n",
       "    }\n",
       "\n",
       "    .dataframe thead th {\n",
       "        text-align: right;\n",
       "    }\n",
       "</style>\n",
       "<table border=\"1\" class=\"dataframe\">\n",
       "  <thead>\n",
       "    <tr style=\"text-align: right;\">\n",
       "      <th></th>\n",
       "      <th>name</th>\n",
       "      <th>id</th>\n",
       "      <th>sequence</th>\n",
       "    </tr>\n",
       "  </thead>\n",
       "  <tbody>\n",
       "    <tr>\n",
       "      <td>0</td>\n",
       "      <td>LEG1_MOUSE Galectin-1</td>\n",
       "      <td>P16045</td>\n",
       "      <td>MACGLVASNLNLKPGECLKVRGEVASDAKSFVLNLGKDSNNLCLHF...</td>\n",
       "    </tr>\n",
       "    <tr>\n",
       "      <td>1</td>\n",
       "      <td>ERP44_MOUSE Endoplasmic reticulum resident pro...</td>\n",
       "      <td>Q9D1Q6</td>\n",
       "      <td>MNPAVFLSLADLRCSLLLLVTSIFTPITAEIASLDSENIDEILNNA...</td>\n",
       "    </tr>\n",
       "    <tr>\n",
       "      <td>2</td>\n",
       "      <td>ACPM_MOUSE Acyl carrier protein, mitochondrial</td>\n",
       "      <td>Q9CR21</td>\n",
       "      <td>MASRVLCACVRRLPAAFAPLPRLPTLALARPLSTTLCPEGIRRRPG...</td>\n",
       "    </tr>\n",
       "    <tr>\n",
       "      <td>3</td>\n",
       "      <td>HPS3_MOUSE Hermansky-Pudlak syndrome 3 protein...</td>\n",
       "      <td>Q91VB4</td>\n",
       "      <td>MVRLYNLHPFGSQQVVPCQWEPEQVCCGGSDALFVAAGCKVEAFAV...</td>\n",
       "    </tr>\n",
       "    <tr>\n",
       "      <td>4</td>\n",
       "      <td>PPIA_MOUSE Peptidyl-prolyl cis-trans isomerase A</td>\n",
       "      <td>P17742</td>\n",
       "      <td>MVNPTVFFDITADDEPLGRVSFELFADKVPKTAENFRALSTGEKGF...</td>\n",
       "    </tr>\n",
       "  </tbody>\n",
       "</table>\n",
       "</div>"
      ],
      "text/plain": [
       "                                                name      id  \\\n",
       "0                              LEG1_MOUSE Galectin-1  P16045   \n",
       "1  ERP44_MOUSE Endoplasmic reticulum resident pro...  Q9D1Q6   \n",
       "2     ACPM_MOUSE Acyl carrier protein, mitochondrial  Q9CR21   \n",
       "3  HPS3_MOUSE Hermansky-Pudlak syndrome 3 protein...  Q91VB4   \n",
       "4   PPIA_MOUSE Peptidyl-prolyl cis-trans isomerase A  P17742   \n",
       "\n",
       "                                            sequence  \n",
       "0  MACGLVASNLNLKPGECLKVRGEVASDAKSFVLNLGKDSNNLCLHF...  \n",
       "1  MNPAVFLSLADLRCSLLLLVTSIFTPITAEIASLDSENIDEILNNA...  \n",
       "2  MASRVLCACVRRLPAAFAPLPRLPTLALARPLSTTLCPEGIRRRPG...  \n",
       "3  MVRLYNLHPFGSQQVVPCQWEPEQVCCGGSDALFVAAGCKVEAFAV...  \n",
       "4  MVNPTVFFDITADDEPLGRVSFELFADKVPKTAENFRALSTGEKGF...  "
      ]
     },
     "execution_count": 4,
     "metadata": {},
     "output_type": "execute_result"
    }
   ],
   "source": [
    "proteins.head()"
   ]
  },
  {
   "cell_type": "code",
   "execution_count": 5,
   "metadata": {},
   "outputs": [
    {
     "data": {
      "text/html": [
       "<div>\n",
       "<style scoped>\n",
       "    .dataframe tbody tr th:only-of-type {\n",
       "        vertical-align: middle;\n",
       "    }\n",
       "\n",
       "    .dataframe tbody tr th {\n",
       "        vertical-align: top;\n",
       "    }\n",
       "\n",
       "    .dataframe thead th {\n",
       "        text-align: right;\n",
       "    }\n",
       "</style>\n",
       "<table border=\"1\" class=\"dataframe\">\n",
       "  <thead>\n",
       "    <tr style=\"text-align: right;\">\n",
       "      <th></th>\n",
       "      <th>sequence</th>\n",
       "    </tr>\n",
       "  </thead>\n",
       "  <tbody>\n",
       "    <tr>\n",
       "      <td>0</td>\n",
       "      <td>[MAC, MACG, MACGL, MACGLV, MACGLVA, MACGLVAS, ...</td>\n",
       "    </tr>\n",
       "    <tr>\n",
       "      <td>1</td>\n",
       "      <td>[MNP, MNPA, MNPAV, MNPAVF, MNPAVFL, MNPAVFLS, ...</td>\n",
       "    </tr>\n",
       "    <tr>\n",
       "      <td>2</td>\n",
       "      <td>[MAS, MASR, MASRV, MASRVL, MASRVLC, MASRVLCA, ...</td>\n",
       "    </tr>\n",
       "    <tr>\n",
       "      <td>3</td>\n",
       "      <td>[MVR, MVRL, MVRLY, MVRLYN, MVRLYNL, MVRLYNLH, ...</td>\n",
       "    </tr>\n",
       "    <tr>\n",
       "      <td>4</td>\n",
       "      <td>[MVN, MVNP, MVNPT, MVNPTV, MVNPTVF, MVNPTVFF, ...</td>\n",
       "    </tr>\n",
       "  </tbody>\n",
       "</table>\n",
       "</div>"
      ],
      "text/plain": [
       "                                            sequence\n",
       "0  [MAC, MACG, MACGL, MACGLV, MACGLVA, MACGLVAS, ...\n",
       "1  [MNP, MNPA, MNPAV, MNPAVF, MNPAVFL, MNPAVFLS, ...\n",
       "2  [MAS, MASR, MASRV, MASRVL, MASRVLC, MASRVLCA, ...\n",
       "3  [MVR, MVRL, MVRLY, MVRLYN, MVRLYNL, MVRLYNLH, ...\n",
       "4  [MVN, MVNP, MVNPT, MVNPTV, MVNPTVF, MVNPTVFF, ..."
      ]
     },
     "execution_count": 5,
     "metadata": {},
     "output_type": "execute_result"
    }
   ],
   "source": [
    "def breakdown(s):\n",
    "    kmers = []\n",
    "    for j in range(len(s) - 2):\n",
    "\n",
    "        # make a kmer sequence. Do the max (to generate the kmer spec once) then \n",
    "        # just iterate through it\n",
    "        kmer_len = 30 if j + 30 <= len(s) \\\n",
    "            else len(s) - j\n",
    "\n",
    "        for k in range(3, kmer_len):\n",
    "            kmers.append(s[j:j+k])\n",
    "        \n",
    "    return kmers\n",
    "    \n",
    "a = proteins['sequence'].apply(breakdown).to_frame()\n",
    "a.head()"
   ]
  },
  {
   "cell_type": "code",
   "execution_count": 6,
   "metadata": {},
   "outputs": [
    {
     "data": {
      "text/html": [
       "<div>\n",
       "<style scoped>\n",
       "    .dataframe tbody tr th:only-of-type {\n",
       "        vertical-align: middle;\n",
       "    }\n",
       "\n",
       "    .dataframe tbody tr th {\n",
       "        vertical-align: top;\n",
       "    }\n",
       "\n",
       "    .dataframe thead th {\n",
       "        text-align: right;\n",
       "    }\n",
       "</style>\n",
       "<table border=\"1\" class=\"dataframe\">\n",
       "  <thead>\n",
       "    <tr style=\"text-align: right;\">\n",
       "      <th></th>\n",
       "      <th>sequence</th>\n",
       "    </tr>\n",
       "  </thead>\n",
       "  <tbody>\n",
       "    <tr>\n",
       "      <td>0</td>\n",
       "      <td>MAC</td>\n",
       "    </tr>\n",
       "    <tr>\n",
       "      <td>0</td>\n",
       "      <td>MACG</td>\n",
       "    </tr>\n",
       "    <tr>\n",
       "      <td>0</td>\n",
       "      <td>MACGL</td>\n",
       "    </tr>\n",
       "    <tr>\n",
       "      <td>0</td>\n",
       "      <td>MACGLV</td>\n",
       "    </tr>\n",
       "    <tr>\n",
       "      <td>0</td>\n",
       "      <td>MACGLVA</td>\n",
       "    </tr>\n",
       "    <tr>\n",
       "      <td>...</td>\n",
       "      <td>...</td>\n",
       "    </tr>\n",
       "    <tr>\n",
       "      <td>278</td>\n",
       "      <td>NGPYM</td>\n",
       "    </tr>\n",
       "    <tr>\n",
       "      <td>278</td>\n",
       "      <td>NGPYMR</td>\n",
       "    </tr>\n",
       "    <tr>\n",
       "      <td>278</td>\n",
       "      <td>GPYM</td>\n",
       "    </tr>\n",
       "    <tr>\n",
       "      <td>278</td>\n",
       "      <td>GPYMR</td>\n",
       "    </tr>\n",
       "    <tr>\n",
       "      <td>278</td>\n",
       "      <td>PYMR</td>\n",
       "    </tr>\n",
       "  </tbody>\n",
       "</table>\n",
       "<p>2495259 rows × 1 columns</p>\n",
       "</div>"
      ],
      "text/plain": [
       "    sequence\n",
       "0        MAC\n",
       "0       MACG\n",
       "0      MACGL\n",
       "0     MACGLV\n",
       "0    MACGLVA\n",
       "..       ...\n",
       "278    NGPYM\n",
       "278   NGPYMR\n",
       "278     GPYM\n",
       "278    GPYMR\n",
       "278     PYMR\n",
       "\n",
       "[2495259 rows x 1 columns]"
      ]
     },
     "execution_count": 6,
     "metadata": {},
     "output_type": "execute_result"
    }
   ],
   "source": [
    "b = a.explode('sequence').drop_duplicates('sequence')\n",
    "b"
   ]
  },
  {
   "cell_type": "code",
   "execution_count": 7,
   "metadata": {},
   "outputs": [],
   "source": [
    "def spectrify(a):\n",
    "    f = {}\n",
    "    f['bs'] = max_mass(a, 'b', 1)\n",
    "    f['bd'] = max_mass(a, 'b', 2)\n",
    "    f['ys'] = max_mass(a, 'y', 1)\n",
    "    f['yd'] = max_mass(a, 'y', 2)\n",
    "    f['sequence'] = a\n",
    "    return f\n",
    "\n",
    "c = pd.DataFrame(list(b['sequence'].apply(spectrify)))"
   ]
  },
  {
   "cell_type": "code",
   "execution_count": 8,
   "metadata": {},
   "outputs": [
    {
     "data": {
      "text/plain": [
       "0    {'bs': 306.09406043499996, 'bd': 153.550668434...\n",
       "0    {'bs': 363.11552443499994, 'bd': 182.061400434...\n",
       "0    {'bs': 476.19958843499995, 'bd': 238.603432434...\n",
       "0    {'bs': 575.268002435, 'bd': 288.137639435, 'ys...\n",
       "0    {'bs': 646.305116435, 'bd': 323.65619643499997...\n",
       "Name: sequence, dtype: object"
      ]
     },
     "execution_count": 8,
     "metadata": {},
     "output_type": "execute_result"
    }
   ],
   "source": [
    "c.head()"
   ]
  },
  {
   "cell_type": "code",
   "execution_count": 9,
   "metadata": {},
   "outputs": [
    {
     "data": {
      "text/plain": [
       "278    {'bs': 563.228236435, 'bd': 282.117756435, 'ys...\n",
       "278    {'bs': 719.329347435, 'bd': 360.168311935, 'ys...\n",
       "278    {'bs': 449.185309435, 'bd': 225.096292935, 'ys...\n",
       "278    {'bs': 605.2864204350001, 'bd': 303.1468484350...\n",
       "278    {'bs': 548.2649564349999, 'bd': 274.6361164349...\n",
       "Name: sequence, dtype: object"
      ]
     },
     "execution_count": 9,
     "metadata": {},
     "output_type": "execute_result"
    }
   ],
   "source": [
    "c.tail()"
   ]
  },
  {
   "cell_type": "markdown",
   "metadata": {},
   "source": [
    "## 2. Try fast queries"
   ]
  },
  {
   "cell_type": "code",
   "execution_count": 10,
   "metadata": {},
   "outputs": [
    {
     "data": {
      "text/plain": [
       "86.53947243500001"
      ]
     },
     "execution_count": 10,
     "metadata": {},
     "output_type": "execute_result"
    }
   ],
   "source": [
    "gen_spectrum('GGG', ion='b', charge=2)['spectrum'][-1]"
   ]
  },
  {
   "cell_type": "code",
   "execution_count": 11,
   "metadata": {},
   "outputs": [
    {
     "ename": "KeyError",
     "evalue": "'bd'",
     "output_type": "error",
     "traceback": [
      "\u001b[0;31m---------------------------------------------------------------------------\u001b[0m",
      "\u001b[0;31mKeyError\u001b[0m                                  Traceback (most recent call last)",
      "\u001b[0;32m<ipython-input-11-2155aaaee0d0>\u001b[0m in \u001b[0;36m<module>\u001b[0;34m\u001b[0m\n\u001b[0;32m----> 1\u001b[0;31m \u001b[0mc\u001b[0m\u001b[0;34m[\u001b[0m\u001b[0mc\u001b[0m\u001b[0;34m[\u001b[0m\u001b[0;34m'bd'\u001b[0m\u001b[0;34m]\u001b[0m\u001b[0;34m.\u001b[0m\u001b[0mbetween\u001b[0m\u001b[0;34m(\u001b[0m\u001b[0;36m86.539\u001b[0m\u001b[0;34m,\u001b[0m \u001b[0;36m86.54\u001b[0m\u001b[0;34m)\u001b[0m\u001b[0;34m]\u001b[0m\u001b[0;34m\u001b[0m\u001b[0;34m\u001b[0m\u001b[0m\n\u001b[0m",
      "\u001b[0;32m/Library/Frameworks/Python.framework/Versions/3.7/lib/python3.7/site-packages/pandas/core/series.py\u001b[0m in \u001b[0;36m__getitem__\u001b[0;34m(self, key)\u001b[0m\n\u001b[1;32m   1066\u001b[0m         \u001b[0mkey\u001b[0m \u001b[0;34m=\u001b[0m \u001b[0mcom\u001b[0m\u001b[0;34m.\u001b[0m\u001b[0mapply_if_callable\u001b[0m\u001b[0;34m(\u001b[0m\u001b[0mkey\u001b[0m\u001b[0;34m,\u001b[0m \u001b[0mself\u001b[0m\u001b[0;34m)\u001b[0m\u001b[0;34m\u001b[0m\u001b[0;34m\u001b[0m\u001b[0m\n\u001b[1;32m   1067\u001b[0m         \u001b[0;32mtry\u001b[0m\u001b[0;34m:\u001b[0m\u001b[0;34m\u001b[0m\u001b[0;34m\u001b[0m\u001b[0m\n\u001b[0;32m-> 1068\u001b[0;31m             \u001b[0mresult\u001b[0m \u001b[0;34m=\u001b[0m \u001b[0mself\u001b[0m\u001b[0;34m.\u001b[0m\u001b[0mindex\u001b[0m\u001b[0;34m.\u001b[0m\u001b[0mget_value\u001b[0m\u001b[0;34m(\u001b[0m\u001b[0mself\u001b[0m\u001b[0;34m,\u001b[0m \u001b[0mkey\u001b[0m\u001b[0;34m)\u001b[0m\u001b[0;34m\u001b[0m\u001b[0;34m\u001b[0m\u001b[0m\n\u001b[0m\u001b[1;32m   1069\u001b[0m \u001b[0;34m\u001b[0m\u001b[0m\n\u001b[1;32m   1070\u001b[0m             \u001b[0;32mif\u001b[0m \u001b[0;32mnot\u001b[0m \u001b[0mis_scalar\u001b[0m\u001b[0;34m(\u001b[0m\u001b[0mresult\u001b[0m\u001b[0;34m)\u001b[0m\u001b[0;34m:\u001b[0m\u001b[0;34m\u001b[0m\u001b[0;34m\u001b[0m\u001b[0m\n",
      "\u001b[0;32m/Library/Frameworks/Python.framework/Versions/3.7/lib/python3.7/site-packages/pandas/core/indexes/base.py\u001b[0m in \u001b[0;36mget_value\u001b[0;34m(self, series, key)\u001b[0m\n\u001b[1;32m   4728\u001b[0m         \u001b[0mk\u001b[0m \u001b[0;34m=\u001b[0m \u001b[0mself\u001b[0m\u001b[0;34m.\u001b[0m\u001b[0m_convert_scalar_indexer\u001b[0m\u001b[0;34m(\u001b[0m\u001b[0mk\u001b[0m\u001b[0;34m,\u001b[0m \u001b[0mkind\u001b[0m\u001b[0;34m=\u001b[0m\u001b[0;34m\"getitem\"\u001b[0m\u001b[0;34m)\u001b[0m\u001b[0;34m\u001b[0m\u001b[0;34m\u001b[0m\u001b[0m\n\u001b[1;32m   4729\u001b[0m         \u001b[0;32mtry\u001b[0m\u001b[0;34m:\u001b[0m\u001b[0;34m\u001b[0m\u001b[0;34m\u001b[0m\u001b[0m\n\u001b[0;32m-> 4730\u001b[0;31m             \u001b[0;32mreturn\u001b[0m \u001b[0mself\u001b[0m\u001b[0;34m.\u001b[0m\u001b[0m_engine\u001b[0m\u001b[0;34m.\u001b[0m\u001b[0mget_value\u001b[0m\u001b[0;34m(\u001b[0m\u001b[0ms\u001b[0m\u001b[0;34m,\u001b[0m \u001b[0mk\u001b[0m\u001b[0;34m,\u001b[0m \u001b[0mtz\u001b[0m\u001b[0;34m=\u001b[0m\u001b[0mgetattr\u001b[0m\u001b[0;34m(\u001b[0m\u001b[0mseries\u001b[0m\u001b[0;34m.\u001b[0m\u001b[0mdtype\u001b[0m\u001b[0;34m,\u001b[0m \u001b[0;34m\"tz\"\u001b[0m\u001b[0;34m,\u001b[0m \u001b[0;32mNone\u001b[0m\u001b[0;34m)\u001b[0m\u001b[0;34m)\u001b[0m\u001b[0;34m\u001b[0m\u001b[0;34m\u001b[0m\u001b[0m\n\u001b[0m\u001b[1;32m   4731\u001b[0m         \u001b[0;32mexcept\u001b[0m \u001b[0mKeyError\u001b[0m \u001b[0;32mas\u001b[0m \u001b[0me1\u001b[0m\u001b[0;34m:\u001b[0m\u001b[0;34m\u001b[0m\u001b[0;34m\u001b[0m\u001b[0m\n\u001b[1;32m   4732\u001b[0m             \u001b[0;32mif\u001b[0m \u001b[0mlen\u001b[0m\u001b[0;34m(\u001b[0m\u001b[0mself\u001b[0m\u001b[0;34m)\u001b[0m \u001b[0;34m>\u001b[0m \u001b[0;36m0\u001b[0m \u001b[0;32mand\u001b[0m \u001b[0;34m(\u001b[0m\u001b[0mself\u001b[0m\u001b[0;34m.\u001b[0m\u001b[0mholds_integer\u001b[0m\u001b[0;34m(\u001b[0m\u001b[0;34m)\u001b[0m \u001b[0;32mor\u001b[0m \u001b[0mself\u001b[0m\u001b[0;34m.\u001b[0m\u001b[0mis_boolean\u001b[0m\u001b[0;34m(\u001b[0m\u001b[0;34m)\u001b[0m\u001b[0;34m)\u001b[0m\u001b[0;34m:\u001b[0m\u001b[0;34m\u001b[0m\u001b[0;34m\u001b[0m\u001b[0m\n",
      "\u001b[0;32mpandas/_libs/index.pyx\u001b[0m in \u001b[0;36mpandas._libs.index.IndexEngine.get_value\u001b[0;34m()\u001b[0m\n",
      "\u001b[0;32mpandas/_libs/index.pyx\u001b[0m in \u001b[0;36mpandas._libs.index.IndexEngine.get_value\u001b[0;34m()\u001b[0m\n",
      "\u001b[0;32mpandas/_libs/index.pyx\u001b[0m in \u001b[0;36mpandas._libs.index.IndexEngine.get_loc\u001b[0;34m()\u001b[0m\n",
      "\u001b[0;32mpandas/_libs/index.pyx\u001b[0m in \u001b[0;36mpandas._libs.index.IndexEngine._get_loc_duplicates\u001b[0;34m()\u001b[0m\n",
      "\u001b[0;31mKeyError\u001b[0m: 'bd'"
     ]
    }
   ],
   "source": [
    "c[c['bd'].between(86.539, 86.54)]"
   ]
  },
  {
   "cell_type": "markdown",
   "metadata": {},
   "source": [
    "## 3. Search for substrings"
   ]
  },
  {
   "cell_type": "code",
   "execution_count": null,
   "metadata": {},
   "outputs": [],
   "source": [
    "proteins[proteins['sequence'].str.contains('GGG')]"
   ]
  },
  {
   "cell_type": "code",
   "execution_count": null,
   "metadata": {},
   "outputs": [],
   "source": [
    "proteins[proteins['id'] == 'Q78JW9']"
   ]
  },
  {
   "cell_type": "code",
   "execution_count": null,
   "metadata": {},
   "outputs": [],
   "source": [
    "'MLKRGRGRPGKRRRRVSIETSTCFRPACVKLGAGAGANLRQLASSRRPLRSWWVLYTIIMAAAGAPDGMEEPGMDTEAEAVATEAPARPLNCVEAEAAVGAAAEDSCDARGNLQPAPAQPPGDPAAQASVSNGEDAGGGVGKELVDLKIIWNKTKHDVKVPLDSTGSELKQKIHSITGLPPAMQKVMYKGLVPEDKTLREIKVTSGAKIMVVGSTINDVLAVNTPKDAAQQDAKAEENKKEPLCRQKQHRKVLDKGKPEDVMPSVKGAQERLPTVPLSGMYNKSGGKVRLTFKLEQDQLWIGTKERTEKLPMGSIKNVVSEPIEGHEDYHMMAFQLGPTEASYYWVYWVPTQYVDAIKDTVLGKWQYF'.index('GGG')\n"
   ]
  },
  {
   "cell_type": "code",
   "execution_count": null,
   "metadata": {},
   "outputs": [],
   "source": [
    "'MLKRGRGRPGKRRRRVSIETSTCFRPACVKLGAGAGANLRQLASSRRPLRSWWVLYTIIMAAAGAPDGMEEPGMDTEAEAVATEAPARPLNCVEAEAAVGAAAEDSCDARGNLQPAPAQPPGDPAAQASVSNGEDAGGGVGKELVDLKIIWNKTKHDVKVPLDSTGSELKQKIHSITGLPPAMQKVMYKGLVPEDKTLREIKVTSGAKIMVVGSTINDVLAVNTPKDAAQQDAKAEENKKEPLCRQKQHRKVLDKGKPEDVMPSVKGAQERLPTVPLSGMYNKSGGKVRLTFKLEQDQLWIGTKERTEKLPMGSIKNVVSEPIEGHEDYHMMAFQLGPTEASYYWVYWVPTQYVDAIKDTVLGKWQYF'[136:]"
   ]
  },
  {
   "cell_type": "code",
   "execution_count": null,
   "metadata": {},
   "outputs": [],
   "source": []
  }
 ],
 "metadata": {
  "kernelspec": {
   "display_name": "Python 3",
   "language": "python",
   "name": "python3"
  },
  "language_info": {
   "codemirror_mode": {
    "name": "ipython",
    "version": 3
   },
   "file_extension": ".py",
   "mimetype": "text/x-python",
   "name": "python",
   "nbconvert_exporter": "python",
   "pygments_lexer": "ipython3",
   "version": "3.7.4"
  }
 },
 "nbformat": 4,
 "nbformat_minor": 4
}

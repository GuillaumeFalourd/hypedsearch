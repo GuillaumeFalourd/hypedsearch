{
 "cells": [
  {
   "cell_type": "markdown",
   "metadata": {},
   "source": [
    "# Experiment with pandas dataframe usage\n",
    "1. Put the fasta file into a df and see if building kmers is faster this way than my for loop\n",
    "2. Use the dataframe the way we used the sqlite database and see how fast queries are"
   ]
  },
  {
   "cell_type": "code",
   "execution_count": 1,
   "metadata": {},
   "outputs": [],
   "source": [
    "import os\n",
    "import sys\n",
    "module_path = os.path.abspath(os.path.join('..'))\n",
    "if module_path not in sys.path:\n",
    "    sys.path.append(module_path)\n",
    "module_path = os.path.abspath(os.path.join('../..'))\n",
    "if module_path not in sys.path:\n",
    "    sys.path.append(module_path)\n",
    "    \n",
    "from src.sequence.gen_spectra import gen_spectrum, max_mass\n",
    "from pyteomics import fasta\n",
    "import pandas as pd\n",
    "from collections import defaultdict\n",
    "import swifter\n",
    "import dask.dataframe as dd\n",
    "from more_itertools import flatten"
   ]
  },
  {
   "cell_type": "markdown",
   "metadata": {},
   "source": [
    "## 1. Make all kmers via loading a fasta into a df"
   ]
  },
  {
   "cell_type": "code",
   "execution_count": 2,
   "metadata": {},
   "outputs": [],
   "source": [
    "fasta_file = '/Users/zacharymcgrath/Desktop/nod2 data/NOD2_mouse_database.fasta'\n",
    "fasta_file = '/Users/zacharymcgrath/Desktop/nod2 data/filteredNOD2.fasta'\n",
    "entries = []\n",
    "for entry in fasta.read(fasta_file):\n",
    "    get_name = lambda name: name[:name.index('OS=')-1] if 'OS=' in name else name\n",
    "\n",
    "    # take the description without the 'sp' value\n",
    "    desc = entry.description.split('|')[1:] if '|' in entry.description else entry.description\n",
    "\n",
    "    # if the id is in the description, take it\n",
    "    if len(desc) > 1:\n",
    "        id_ = desc[0]\n",
    "        name = get_name(desc[1])\n",
    "\n",
    "    # make the id just the number\n",
    "    else:\n",
    "        id_ = i\n",
    "        name = get_name(desc[0])\n",
    "\n",
    "    # get the sequence\n",
    "    seq = entry.sequence\n",
    "\n",
    "    # make the entry and add it to prots\n",
    "    entries.append({'name': name, 'id': id_, 'sequence': seq})"
   ]
  },
  {
   "cell_type": "code",
   "execution_count": 3,
   "metadata": {},
   "outputs": [],
   "source": [
    "proteins = pd.DataFrame(entries)"
   ]
  },
  {
   "cell_type": "code",
   "execution_count": 4,
   "metadata": {},
   "outputs": [
    {
     "data": {
      "application/vnd.jupyter.widget-view+json": {
       "model_id": "ed66f73cbfe94aa8b84d958ec422adcb",
       "version_major": 2,
       "version_minor": 0
      },
      "text/plain": [
       "HBox(children=(FloatProgress(value=0.0, description='Pandas Apply', max=279.0, style=ProgressStyle(description…"
      ]
     },
     "metadata": {},
     "output_type": "display_data"
    },
    {
     "name": "stdout",
     "output_type": "stream",
     "text": [
      "\n",
      "CPU times: user 1.96 s, sys: 186 ms, total: 2.14 s\n",
      "Wall time: 2.21 s\n"
     ]
    },
    {
     "data": {
      "text/html": [
       "<div>\n",
       "<style scoped>\n",
       "    .dataframe tbody tr th:only-of-type {\n",
       "        vertical-align: middle;\n",
       "    }\n",
       "\n",
       "    .dataframe tbody tr th {\n",
       "        vertical-align: top;\n",
       "    }\n",
       "\n",
       "    .dataframe thead th {\n",
       "        text-align: right;\n",
       "    }\n",
       "</style>\n",
       "<table border=\"1\" class=\"dataframe\">\n",
       "  <thead>\n",
       "    <tr style=\"text-align: right;\">\n",
       "      <th></th>\n",
       "      <th>sequence</th>\n",
       "    </tr>\n",
       "  </thead>\n",
       "  <tbody>\n",
       "    <tr>\n",
       "      <td>0</td>\n",
       "      <td>DWCRFSQMLHPIFEEASDVIKEE</td>\n",
       "    </tr>\n",
       "    <tr>\n",
       "      <td>1</td>\n",
       "      <td>VALY</td>\n",
       "    </tr>\n",
       "    <tr>\n",
       "      <td>2</td>\n",
       "      <td>SGSLTPQPSPQLPTPKTLGGPVQSS</td>\n",
       "    </tr>\n",
       "    <tr>\n",
       "      <td>3</td>\n",
       "      <td>SDGLNLVAEKVVILVTDAND</td>\n",
       "    </tr>\n",
       "    <tr>\n",
       "      <td>4</td>\n",
       "      <td>LTDENFESRV</td>\n",
       "    </tr>\n",
       "  </tbody>\n",
       "</table>\n",
       "</div>"
      ],
      "text/plain": [
       "                    sequence\n",
       "0    DWCRFSQMLHPIFEEASDVIKEE\n",
       "1                       VALY\n",
       "2  SGSLTPQPSPQLPTPKTLGGPVQSS\n",
       "3       SDGLNLVAEKVVILVTDAND\n",
       "4                 LTDENFESRV"
      ]
     },
     "execution_count": 4,
     "metadata": {},
     "output_type": "execute_result"
    }
   ],
   "source": [
    "%%time\n",
    "def breakdown(s):\n",
    "    kmers = []\n",
    "    for j in range(len(s) - 2):\n",
    "\n",
    "        # make a kmer sequence. Do the max (to generate the kmer spec once) then \n",
    "        # just iterate through it\n",
    "        kmer_len = 30 if j + 30 <= len(s) \\\n",
    "            else len(s) - j\n",
    "\n",
    "        kmers += [s[j:j+k] for k in range(3, kmer_len)]\n",
    "        \n",
    "    return kmers\n",
    "        \n",
    "    \n",
    "kmers = pd.DataFrame(list(set(flatten(proteins['sequence'].swifter.apply(breakdown)))), columns =['sequence'])\n",
    "\n",
    "kmers.head()"
   ]
  },
  {
   "cell_type": "code",
   "execution_count": 5,
   "metadata": {},
   "outputs": [
    {
     "data": {
      "application/vnd.jupyter.widget-view+json": {
       "model_id": "1f6a6936340b4defb7c48cec92599608",
       "version_major": 2,
       "version_minor": 0
      },
      "text/plain": [
       "HBox(children=(FloatProgress(value=0.0, description='Pandas Apply', max=2495259.0, style=ProgressStyle(descrip…"
      ]
     },
     "metadata": {},
     "output_type": "display_data"
    },
    {
     "name": "stdout",
     "output_type": "stream",
     "text": [
      "\n",
      "CPU times: user 37.7 s, sys: 1.48 s, total: 39.1 s\n",
      "Wall time: 40.6 s\n"
     ]
    },
    {
     "data": {
      "text/html": [
       "<div>\n",
       "<style scoped>\n",
       "    .dataframe tbody tr th:only-of-type {\n",
       "        vertical-align: middle;\n",
       "    }\n",
       "\n",
       "    .dataframe tbody tr th {\n",
       "        vertical-align: top;\n",
       "    }\n",
       "\n",
       "    .dataframe thead th {\n",
       "        text-align: right;\n",
       "    }\n",
       "</style>\n",
       "<table border=\"1\" class=\"dataframe\">\n",
       "  <thead>\n",
       "    <tr style=\"text-align: right;\">\n",
       "      <th></th>\n",
       "      <th>bd</th>\n",
       "      <th>yd</th>\n",
       "      <th>bs</th>\n",
       "      <th>ys</th>\n",
       "      <th>sequences</th>\n",
       "    </tr>\n",
       "  </thead>\n",
       "  <tbody>\n",
       "    <tr>\n",
       "      <td>0</td>\n",
       "      <td>1396.146362</td>\n",
       "      <td>1405.151611</td>\n",
       "      <td>2791.285400</td>\n",
       "      <td>2809.295898</td>\n",
       "      <td>[DWCRFSQMLHPIFEEASDVIKEE]</td>\n",
       "    </tr>\n",
       "    <tr>\n",
       "      <td>1</td>\n",
       "      <td>224.133728</td>\n",
       "      <td>233.139008</td>\n",
       "      <td>447.260193</td>\n",
       "      <td>465.270752</td>\n",
       "      <td>[VALY, AVLY, GLLY, VAYI, LGYL, LGLY, VIAY, GIL...</td>\n",
       "    </tr>\n",
       "    <tr>\n",
       "      <td>2</td>\n",
       "      <td>1222.145020</td>\n",
       "      <td>1231.150269</td>\n",
       "      <td>2443.282715</td>\n",
       "      <td>2461.293213</td>\n",
       "      <td>[SGSLTPQPSPQLPTPKTLGGPVQSS]</td>\n",
       "    </tr>\n",
       "    <tr>\n",
       "      <td>3</td>\n",
       "      <td>1034.052002</td>\n",
       "      <td>1043.057373</td>\n",
       "      <td>2067.096924</td>\n",
       "      <td>2085.107422</td>\n",
       "      <td>[SDGLNLVAEKVVILVTDAND]</td>\n",
       "    </tr>\n",
       "    <tr>\n",
       "      <td>4</td>\n",
       "      <td>596.285645</td>\n",
       "      <td>605.290955</td>\n",
       "      <td>1191.564087</td>\n",
       "      <td>1209.574585</td>\n",
       "      <td>[LTDENFESRV, FESSSLGQQLN, ADRFSEEEVK, DPSTRSVF...</td>\n",
       "    </tr>\n",
       "    <tr>\n",
       "      <td>...</td>\n",
       "      <td>...</td>\n",
       "      <td>...</td>\n",
       "      <td>...</td>\n",
       "      <td>...</td>\n",
       "      <td>...</td>\n",
       "    </tr>\n",
       "    <tr>\n",
       "      <td>1860549</td>\n",
       "      <td>1465.234253</td>\n",
       "      <td>1474.239502</td>\n",
       "      <td>2929.461182</td>\n",
       "      <td>2947.471680</td>\n",
       "      <td>[SKLNYKPPPQKSLKELQEMDKDDES]</td>\n",
       "    </tr>\n",
       "    <tr>\n",
       "      <td>1860550</td>\n",
       "      <td>718.851501</td>\n",
       "      <td>727.856750</td>\n",
       "      <td>1436.695679</td>\n",
       "      <td>1454.706299</td>\n",
       "      <td>[WGKVHYSIYGTGS]</td>\n",
       "    </tr>\n",
       "    <tr>\n",
       "      <td>1860551</td>\n",
       "      <td>1318.257080</td>\n",
       "      <td>1327.262329</td>\n",
       "      <td>2635.506836</td>\n",
       "      <td>2653.517578</td>\n",
       "      <td>[KFLEKLPEATGLSPLSVEPKTQKL]</td>\n",
       "    </tr>\n",
       "    <tr>\n",
       "      <td>1860552</td>\n",
       "      <td>1042.555420</td>\n",
       "      <td>1051.560669</td>\n",
       "      <td>2084.103516</td>\n",
       "      <td>2102.114258</td>\n",
       "      <td>[ATGLFKHQLSGNSPAGTLFR]</td>\n",
       "    </tr>\n",
       "    <tr>\n",
       "      <td>1860553</td>\n",
       "      <td>968.507202</td>\n",
       "      <td>977.512451</td>\n",
       "      <td>1936.007080</td>\n",
       "      <td>1954.017578</td>\n",
       "      <td>[HVGYLYMVVKSVELMSV]</td>\n",
       "    </tr>\n",
       "  </tbody>\n",
       "</table>\n",
       "<p>1860554 rows × 5 columns</p>\n",
       "</div>"
      ],
      "text/plain": [
       "                  bd           yd           bs           ys  \\\n",
       "0        1396.146362  1405.151611  2791.285400  2809.295898   \n",
       "1         224.133728   233.139008   447.260193   465.270752   \n",
       "2        1222.145020  1231.150269  2443.282715  2461.293213   \n",
       "3        1034.052002  1043.057373  2067.096924  2085.107422   \n",
       "4         596.285645   605.290955  1191.564087  1209.574585   \n",
       "...              ...          ...          ...          ...   \n",
       "1860549  1465.234253  1474.239502  2929.461182  2947.471680   \n",
       "1860550   718.851501   727.856750  1436.695679  1454.706299   \n",
       "1860551  1318.257080  1327.262329  2635.506836  2653.517578   \n",
       "1860552  1042.555420  1051.560669  2084.103516  2102.114258   \n",
       "1860553   968.507202   977.512451  1936.007080  1954.017578   \n",
       "\n",
       "                                                 sequences  \n",
       "0                                [DWCRFSQMLHPIFEEASDVIKEE]  \n",
       "1        [VALY, AVLY, GLLY, VAYI, LGYL, LGLY, VIAY, GIL...  \n",
       "2                              [SGSLTPQPSPQLPTPKTLGGPVQSS]  \n",
       "3                                   [SDGLNLVAEKVVILVTDAND]  \n",
       "4        [LTDENFESRV, FESSSLGQQLN, ADRFSEEEVK, DPSTRSVF...  \n",
       "...                                                    ...  \n",
       "1860549                        [SKLNYKPPPQKSLKELQEMDKDDES]  \n",
       "1860550                                    [WGKVHYSIYGTGS]  \n",
       "1860551                         [KFLEKLPEATGLSPLSVEPKTQKL]  \n",
       "1860552                             [ATGLFKHQLSGNSPAGTLFR]  \n",
       "1860553                                [HVGYLYMVVKSVELMSV]  \n",
       "\n",
       "[1860554 rows x 5 columns]"
      ]
     },
     "execution_count": 5,
     "metadata": {},
     "output_type": "execute_result"
    }
   ],
   "source": [
    "%%time\n",
    "def spectrify(a):\n",
    "    f = {}\n",
    "    f['bs'] = max_mass(a, 'b', 1)\n",
    "    f['bd'] = max_mass(a, 'b', 2)\n",
    "    f['ys'] = max_mass(a, 'y', 1)\n",
    "    f['yd'] = max_mass(a, 'y', 2)\n",
    "    f['sequence'] = a\n",
    "    return f\n",
    "\n",
    "mass_list = list(kmers['sequence'].swifter.apply(spectrify))\n",
    "del kmers\n",
    "mass_dict = {}\n",
    "for ml in mass_list:\n",
    "    if ml['bd'] not in mass_dict:\n",
    "        mass_dict[ml['bd']] = {'bd': ml['bd'], 'yd': ml['yd'], 'bs': ml['bs'], 'ys': ml['ys'], 'sequences': []}\n",
    "    mass_dict[ml['bd']]['sequences'].append(ml['sequence'])\n",
    "    \n",
    "mass_sequences = pd.DataFrame([value for _, value in mass_dict.items()])\n",
    "\n",
    "mass_sequences.astype({'bs': 'float32', 'bd': 'float32', 'ys': 'float32', 'yd': 'float32'})"
   ]
  },
  {
   "cell_type": "code",
   "execution_count": 6,
   "metadata": {},
   "outputs": [
    {
     "data": {
      "text/html": [
       "<div>\n",
       "<style scoped>\n",
       "    .dataframe tbody tr th:only-of-type {\n",
       "        vertical-align: middle;\n",
       "    }\n",
       "\n",
       "    .dataframe tbody tr th {\n",
       "        vertical-align: top;\n",
       "    }\n",
       "\n",
       "    .dataframe thead th {\n",
       "        text-align: right;\n",
       "    }\n",
       "</style>\n",
       "<table border=\"1\" class=\"dataframe\">\n",
       "  <thead>\n",
       "    <tr style=\"text-align: right;\">\n",
       "      <th></th>\n",
       "      <th>bd</th>\n",
       "      <th>yd</th>\n",
       "      <th>bs</th>\n",
       "      <th>ys</th>\n",
       "      <th>sequences</th>\n",
       "    </tr>\n",
       "  </thead>\n",
       "  <tbody>\n",
       "    <tr>\n",
       "      <td>196194</td>\n",
       "      <td>152.551722</td>\n",
       "      <td>161.557005</td>\n",
       "      <td>304.096168</td>\n",
       "      <td>322.106733</td>\n",
       "      <td>[CEA, ACE, AEC, DMG, DGM, EAC, CAE, GDM, MDG, ...</td>\n",
       "    </tr>\n",
       "  </tbody>\n",
       "</table>\n",
       "</div>"
      ],
      "text/plain": [
       "                bd          yd          bs          ys  \\\n",
       "196194  152.551722  161.557005  304.096168  322.106733   \n",
       "\n",
       "                                                sequences  \n",
       "196194  [CEA, ACE, AEC, DMG, DGM, EAC, CAE, GDM, MDG, ...  "
      ]
     },
     "execution_count": 6,
     "metadata": {},
     "output_type": "execute_result"
    }
   ],
   "source": [
    "mass_sequences[mass_sequences['bs'] == 304.096168435]"
   ]
  },
  {
   "cell_type": "markdown",
   "metadata": {},
   "source": [
    "## 2. Try fast queries"
   ]
  },
  {
   "cell_type": "code",
   "execution_count": 7,
   "metadata": {},
   "outputs": [
    {
     "data": {
      "text/plain": [
       "86.53947243500001"
      ]
     },
     "execution_count": 7,
     "metadata": {},
     "output_type": "execute_result"
    }
   ],
   "source": [
    "gen_spectrum('GGG', ion='b', charge=2)['spectrum'][-1]"
   ]
  },
  {
   "cell_type": "code",
   "execution_count": 8,
   "metadata": {},
   "outputs": [
    {
     "ename": "NameError",
     "evalue": "name 'kmers' is not defined",
     "output_type": "error",
     "traceback": [
      "\u001b[0;31m---------------------------------------------------------------------------\u001b[0m",
      "\u001b[0;31mNameError\u001b[0m                                 Traceback (most recent call last)",
      "\u001b[0;32m<timed eval>\u001b[0m in \u001b[0;36m<module>\u001b[0;34m\u001b[0m\n",
      "\u001b[0;31mNameError\u001b[0m: name 'kmers' is not defined"
     ]
    }
   ],
   "source": [
    "%%time\n",
    "kmers[kmers['bd'].between(86.539, 86.54)]"
   ]
  },
  {
   "cell_type": "markdown",
   "metadata": {},
   "source": [
    "## 3. Search for substrings"
   ]
  },
  {
   "cell_type": "code",
   "execution_count": 9,
   "metadata": {},
   "outputs": [
    {
     "name": "stdout",
     "output_type": "stream",
     "text": [
      "CPU times: user 1.2 ms, sys: 73 µs, total: 1.27 ms\n",
      "Wall time: 1.22 ms\n"
     ]
    },
    {
     "data": {
      "text/plain": [
       "['UBFD1_MOUSE Ubiquitin domain-containing protein UBFD1',\n",
       " 'CIRBP_MOUSE Cold-inducible RNA-binding protein',\n",
       " 'MAP4_MOUSE Microtubule-associated protein 4',\n",
       " 'PA1B2_MOUSE Platelet-activating factor acetylhydrolase IB subunit beta',\n",
       " 'HNRPD_MOUSE Heterogeneous nuclear ribonucleoprotein D0',\n",
       " 'JUPI1_MOUSE Jupiter microtubule associated homolog 1',\n",
       " 'HNRH1_MOUSE Heterogeneous nuclear ribonucleoprotein H',\n",
       " 'TBB3_MOUSE Tubulin beta-3 chain',\n",
       " 'CDHR1_MOUSE Cadherin-related family member 1',\n",
       " 'PGRC1_MOUSE Membrane-associated progesterone receptor component 1',\n",
       " 'GORS2_MOUSE Golgi reassembly-stacking protein 2',\n",
       " 'HNRDL_MOUSE Heterogeneous nuclear ribonucleoprotein D-like',\n",
       " 'CHM4B_MOUSE Charged multivesicular body protein 4b',\n",
       " 'MESD_MOUSE LRP chaperone MESD',\n",
       " 'KV5A7_MOUSE Ig kappa chain V-V region MOPC 41',\n",
       " 'CO3_MOUSE Complement C3',\n",
       " 'NFH_MOUSE Neurofilament heavy polypeptide',\n",
       " 'NSF1C_MOUSE NSFL1 cofactor p47',\n",
       " 'BIP_MOUSE Endoplasmic reticulum chaperone BiP',\n",
       " 'KV5A2_MOUSE Ig kappa chain V-V region MOPC 21',\n",
       " 'CALR_MOUSE Calreticulin',\n",
       " 'CDK16_MOUSE Cyclin-dependent kinase 16',\n",
       " 'PDIA6_MOUSE Protein disulfide-isomerase A6',\n",
       " 'CLAT_MOUSE Choline O-acetyltransferase',\n",
       " 'CNBP_MOUSE Cellular nucleic acid-binding protein',\n",
       " 'LASP1_MOUSE LIM and SH3 domain protein 1',\n",
       " 'GLRX5_MOUSE Glutaredoxin-related protein 5, mitochondrial',\n",
       " 'PAIRB_MOUSE Plasminogen activator inhibitor 1 RNA-binding protein',\n",
       " 'INS2_MOUSE Insulin-2',\n",
       " 'COX5B_MOUSE Cytochrome c oxidase subunit 5B, mitochondrial',\n",
       " 'LYST_MOUSE Lysosomal-trafficking regulator',\n",
       " 'T22D1_MOUSE TSC22 domain family protein 1',\n",
       " 'CH60_MOUSE 60 kDa heat shock protein, mitochondrial',\n",
       " 'RBM3_MOUSE RNA-binding protein 3',\n",
       " 'ROA2_MOUSE Heterogeneous nuclear ribonucleoproteins A2/B1',\n",
       " 'SCG1_MOUSE Secretogranin-1',\n",
       " 'KCNQ5_MOUSE Potassium voltage-gated channel subfamily KQT member 5',\n",
       " 'CELR3_MOUSE Cadherin EGF LAG seven-pass G-type receptor 3',\n",
       " 'ISCA2_MOUSE Iron-sulfur cluster assembly 2 homolog, mitochondrial',\n",
       " 'BMP1_MOUSE Bone morphogenetic protein 1']"
      ]
     },
     "execution_count": 9,
     "metadata": {},
     "output_type": "execute_result"
    }
   ],
   "source": [
    "%%time\n",
    "list(proteins[proteins['sequence'].apply(lambda x: 'GGG' in x)]['name'])"
   ]
  },
  {
   "cell_type": "code",
   "execution_count": null,
   "metadata": {},
   "outputs": [],
   "source": []
  },
  {
   "cell_type": "code",
   "execution_count": null,
   "metadata": {},
   "outputs": [],
   "source": []
  }
 ],
 "metadata": {
  "kernelspec": {
   "display_name": "Python 3",
   "language": "python",
   "name": "python3"
  },
  "language_info": {
   "codemirror_mode": {
    "name": "ipython",
    "version": 3
   },
   "file_extension": ".py",
   "mimetype": "text/x-python",
   "name": "python",
   "nbconvert_exporter": "python",
   "pygments_lexer": "ipython3",
   "version": "3.7.4"
  }
 },
 "nbformat": 4,
 "nbformat_minor": 4
}

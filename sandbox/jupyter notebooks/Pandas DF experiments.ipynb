{
 "cells": [
  {
   "cell_type": "markdown",
   "metadata": {},
   "source": [
    "# Experiment with pandas dataframe usage\n",
    "1. Put the fasta file into a df and see if building kmers is faster this way than my for loop\n",
    "2. Use the dataframe the way we used the sqlite database and see how fast queries are"
   ]
  },
  {
   "cell_type": "code",
   "execution_count": 1,
   "metadata": {},
   "outputs": [],
   "source": [
    "import os\n",
    "import sys\n",
    "module_path = os.path.abspath(os.path.join('..'))\n",
    "if module_path not in sys.path:\n",
    "    sys.path.append(module_path)\n",
    "module_path = os.path.abspath(os.path.join('../..'))\n",
    "if module_path not in sys.path:\n",
    "    sys.path.append(module_path)\n",
    "    \n",
    "from src.sequence.gen_spectra import gen_spectrum, max_mass\n",
    "from pyteomics import fasta\n",
    "import pandas as pd\n",
    "from collections import defaultdict\n",
    "import swifter\n",
    "import dask.dataframe as dd\n",
    "from more_itertools import flatten"
   ]
  },
  {
   "cell_type": "markdown",
   "metadata": {},
   "source": [
    "## 1. Make all kmers via loading a fasta into a df"
   ]
  },
  {
   "cell_type": "code",
   "execution_count": 2,
   "metadata": {},
   "outputs": [],
   "source": [
    "fasta_file = '/Users/zacharymcgrath/Desktop/nod2 data/NOD2_mouse_database.fasta'\n",
    "#fasta_file = '/Users/zacharymcgrath/Desktop/nod2 data/filteredNOD2.fasta'\n",
    "entries = []\n",
    "for entry in fasta.read(fasta_file):\n",
    "    get_name = lambda name: name[:name.index('OS=')-1] if 'OS=' in name else name\n",
    "\n",
    "    # take the description without the 'sp' value\n",
    "    desc = entry.description.split('|')[1:] if '|' in entry.description else entry.description\n",
    "\n",
    "    # if the id is in the description, take it\n",
    "    if len(desc) > 1:\n",
    "        id_ = desc[0]\n",
    "        name = get_name(desc[1])\n",
    "\n",
    "    # make the id just the number\n",
    "    else:\n",
    "        id_ = i\n",
    "        name = get_name(desc[0])\n",
    "\n",
    "    # get the sequence\n",
    "    seq = entry.sequence\n",
    "\n",
    "    # make the entry and add it to prots\n",
    "    entries.append({'name': name, 'id': id_, 'sequence': seq})"
   ]
  },
  {
   "cell_type": "code",
   "execution_count": 3,
   "metadata": {},
   "outputs": [],
   "source": [
    "proteins = pd.DataFrame(entries)"
   ]
  },
  {
   "cell_type": "code",
   "execution_count": 4,
   "metadata": {},
   "outputs": [
    {
     "name": "stdout",
     "output_type": "stream",
     "text": [
      "17039\n"
     ]
    },
    {
     "data": {
      "text/html": [
       "<div>\n",
       "<style scoped>\n",
       "    .dataframe tbody tr th:only-of-type {\n",
       "        vertical-align: middle;\n",
       "    }\n",
       "\n",
       "    .dataframe tbody tr th {\n",
       "        vertical-align: top;\n",
       "    }\n",
       "\n",
       "    .dataframe thead th {\n",
       "        text-align: right;\n",
       "    }\n",
       "</style>\n",
       "<table border=\"1\" class=\"dataframe\">\n",
       "  <thead>\n",
       "    <tr style=\"text-align: right;\">\n",
       "      <th></th>\n",
       "      <th>name</th>\n",
       "      <th>id</th>\n",
       "      <th>sequence</th>\n",
       "    </tr>\n",
       "  </thead>\n",
       "  <tbody>\n",
       "    <tr>\n",
       "      <td>0</td>\n",
       "      <td>5HT6R_MOUSE 5-hydroxytryptamine receptor 6</td>\n",
       "      <td>Q9R1C8</td>\n",
       "      <td>MVPEPGPVNSSTPAWGPGPPPAPGGSGWVAAALCVVIVLTAAANSL...</td>\n",
       "    </tr>\n",
       "    <tr>\n",
       "      <td>1</td>\n",
       "      <td>ACL7A_MOUSE Actin-like protein 7A</td>\n",
       "      <td>Q9QY84</td>\n",
       "      <td>MSLDGVWAPQTANIGDGPAKKASDQASMQTQVLQTASLKDGPAKRA...</td>\n",
       "    </tr>\n",
       "    <tr>\n",
       "      <td>2</td>\n",
       "      <td>ACO12_MOUSE Acetyl-coenzyme A thioesterase</td>\n",
       "      <td>Q9DBK0</td>\n",
       "      <td>MESMVAPGEVLMSQAIQPAHADSRGELSAGQLLKWMDTTACLAAEK...</td>\n",
       "    </tr>\n",
       "    <tr>\n",
       "      <td>3</td>\n",
       "      <td>5NTD_MOUSE 5'-nucleotidase</td>\n",
       "      <td>Q61503</td>\n",
       "      <td>MRPAAAKVPKWLLLALSALLPQWPAASAWELTILHTNDVHSRLEQT...</td>\n",
       "    </tr>\n",
       "    <tr>\n",
       "      <td>4</td>\n",
       "      <td>ALOX8_MOUSE Arachidonate 8S-lipoxygenase</td>\n",
       "      <td>O35936</td>\n",
       "      <td>MAKCRVRVSTGEACGAGTWDKVSVSIVGTHGESPLVPLDHLGKEFS...</td>\n",
       "    </tr>\n",
       "  </tbody>\n",
       "</table>\n",
       "</div>"
      ],
      "text/plain": [
       "                                         name      id  \\\n",
       "0  5HT6R_MOUSE 5-hydroxytryptamine receptor 6  Q9R1C8   \n",
       "1           ACL7A_MOUSE Actin-like protein 7A  Q9QY84   \n",
       "2  ACO12_MOUSE Acetyl-coenzyme A thioesterase  Q9DBK0   \n",
       "3                  5NTD_MOUSE 5'-nucleotidase  Q61503   \n",
       "4    ALOX8_MOUSE Arachidonate 8S-lipoxygenase  O35936   \n",
       "\n",
       "                                            sequence  \n",
       "0  MVPEPGPVNSSTPAWGPGPPPAPGGSGWVAAALCVVIVLTAAANSL...  \n",
       "1  MSLDGVWAPQTANIGDGPAKKASDQASMQTQVLQTASLKDGPAKRA...  \n",
       "2  MESMVAPGEVLMSQAIQPAHADSRGELSAGQLLKWMDTTACLAAEK...  \n",
       "3  MRPAAAKVPKWLLLALSALLPQWPAASAWELTILHTNDVHSRLEQT...  \n",
       "4  MAKCRVRVSTGEACGAGTWDKVSVSIVGTHGESPLVPLDHLGKEFS...  "
      ]
     },
     "execution_count": 4,
     "metadata": {},
     "output_type": "execute_result"
    }
   ],
   "source": [
    "ps = dd.from_pandas(proteins, npartitions=2)\n",
    "print(len(ps))\n",
    "ps.head()"
   ]
  },
  {
   "cell_type": "code",
   "execution_count": null,
   "metadata": {},
   "outputs": [
    {
     "data": {
      "application/vnd.jupyter.widget-view+json": {
       "model_id": "820115b296714352b92355c0940869b4",
       "version_major": 2,
       "version_minor": 0
      },
      "text/plain": [
       "HBox(children=(FloatProgress(value=0.0, description='Pandas Apply', max=17039.0, style=ProgressStyle(descripti…"
      ]
     },
     "metadata": {},
     "output_type": "display_data"
    }
   ],
   "source": [
    "%%time\n",
    "def breakdown(s):\n",
    "    kmers = []\n",
    "    for j in range(len(s) - 2):\n",
    "\n",
    "        # make a kmer sequence. Do the max (to generate the kmer spec once) then \n",
    "        # just iterate through it\n",
    "        kmer_len = 30 if j + 30 <= len(s) \\\n",
    "            else len(s) - j\n",
    "\n",
    "        kmers += [s[j:j+k] for k in range(3, kmer_len)]\n",
    "        \n",
    "    return kmers\n",
    "        \n",
    "    \n",
    "kmers = pd.DataFrame(list(set(flatten(proteins['sequence'].swifter.apply(breakdown)))), columns =['sequence'])\n",
    "\n",
    "kmers.head()"
   ]
  },
  {
   "cell_type": "code",
   "execution_count": null,
   "metadata": {},
   "outputs": [],
   "source": [
    "%%time\n",
    "def spectrify(a):\n",
    "    f = {}\n",
    "    f['bs'] = max_mass(a, 'b', 1)\n",
    "    f['bd'] = max_mass(a, 'b', 2)\n",
    "    f['ys'] = max_mass(a, 'y', 1)\n",
    "    f['yd'] = max_mass(a, 'y', 2)\n",
    "    f['sequence'] = a\n",
    "    return f\n",
    "\n",
    "mass_sequences = pd.DataFrame(list(kmers['sequence'].swifter.apply(spectrify)))\n",
    "del kmers\n",
    "mass_sequences.astype({'bs': 'float32', 'bd': 'float32', 'ys': 'float32', 'yd': 'float32'})"
   ]
  },
  {
   "cell_type": "markdown",
   "metadata": {},
   "source": [
    "## 2. Try fast queries"
   ]
  },
  {
   "cell_type": "code",
   "execution_count": null,
   "metadata": {},
   "outputs": [],
   "source": [
    "gen_spectrum('GGG', ion='b', charge=2)['spectrum'][-1]"
   ]
  },
  {
   "cell_type": "code",
   "execution_count": null,
   "metadata": {},
   "outputs": [],
   "source": [
    "%%time\n",
    "kmers[kmers['bd'].between(86.539, 86.54)]"
   ]
  },
  {
   "cell_type": "markdown",
   "metadata": {},
   "source": [
    "## 3. Search for substrings"
   ]
  },
  {
   "cell_type": "code",
   "execution_count": null,
   "metadata": {},
   "outputs": [],
   "source": [
    "%%time\n",
    "list(proteins[proteins['sequence'].apply(lambda x: 'GGG' in x)]['name'])"
   ]
  },
  {
   "cell_type": "code",
   "execution_count": null,
   "metadata": {},
   "outputs": [],
   "source": []
  }
 ],
 "metadata": {
  "kernelspec": {
   "display_name": "Python 3",
   "language": "python",
   "name": "python3"
  },
  "language_info": {
   "codemirror_mode": {
    "name": "ipython",
    "version": 3
   },
   "file_extension": ".py",
   "mimetype": "text/x-python",
   "name": "python",
   "nbconvert_exporter": "python",
   "pygments_lexer": "ipython3",
   "version": "3.7.4"
  }
 },
 "nbformat": 4,
 "nbformat_minor": 4
}

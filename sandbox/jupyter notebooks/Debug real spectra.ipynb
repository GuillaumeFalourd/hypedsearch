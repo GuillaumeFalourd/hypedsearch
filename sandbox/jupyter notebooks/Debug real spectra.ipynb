{
 "cells": [
  {
   "cell_type": "markdown",
   "metadata": {},
   "source": [
    "# Debug the real spectra\n",
    "\n",
    "So it doesn't work well with real data, so having taken out one example of real data, the sequence is \n",
    "``` \n",
    "DPQVEQLEL\n",
    "```\n",
    "\n",
    "Hybrid 1: \n",
    "```\n",
    "DLQTLALWSRM\n",
    "```\n",
    "\n",
    "Non hybrid:\n",
    "```\n",
    "DLTEYLSRFGEVV\n",
    "```\n",
    "\n",
    "Hybrid 2:\n",
    "```\n",
    "DLQTLEVE\n",
    "```\n",
    "\n",
    "so toy with the tool until we find out whats wrong"
   ]
  },
  {
   "cell_type": "markdown",
   "metadata": {},
   "source": [
    "## Load params and run"
   ]
  },
  {
   "cell_type": "code",
   "execution_count": 1,
   "metadata": {},
   "outputs": [],
   "source": [
    "import os\n",
    "import sys\n",
    "module_path = os.path.abspath(os.path.join('..'))\n",
    "if module_path not in sys.path:\n",
    "    sys.path.append(module_path)\n",
    "module_path = os.path.abspath(os.path.join('../..'))\n",
    "if module_path not in sys.path:\n",
    "    sys.path.append(module_path)\n",
    "    \n",
    "from src import runner\n",
    "    "
   ]
  },
  {
   "cell_type": "code",
   "execution_count": 2,
   "metadata": {},
   "outputs": [],
   "source": [
    "specPath = '/Users/zacharymcgrath/Desktop/nod2 data/single/'\n",
    "fastaPath = '/Users/zacharymcgrath/Desktop/nod2 data/filteredNOD2.fasta'\n",
    "outputDir = '/Users/zacharymcgrath/Desktop/Experiment output/singleReal/'\n",
    "minPep = 3\n",
    "maxPep = 14\n",
    "tolerance = 20\n",
    "verbose = True\n",
    "scoringAlg = 'ibb'"
   ]
  },
  {
   "cell_type": "code",
   "execution_count": 3,
   "metadata": {},
   "outputs": [],
   "source": [
    "params = {\n",
    "    'spectra_folder': specPath,\n",
    "    'database_file': fastaPath,\n",
    "    'output_dir': outputDir,\n",
    "    'min_peptide_len': minPep,\n",
    "    'max_peptide_len': maxPep,\n",
    "    'tolerance': tolerance,\n",
    "    'verbose': verbose, \n",
    "    'scoring_alg': scoringAlg\n",
    "}"
   ]
  },
  {
   "cell_type": "code",
   "execution_count": 4,
   "metadata": {},
   "outputs": [
    {
     "name": "stdout",
     "output_type": "stream",
     "text": [
      "Loading database...\n",
      "Adding protein 279/279 to tree\n",
      "Done.\n",
      "Building hashes for kmers...\n",
      "Indexing database for k=14...\n",
      "101665 unique kmers\n",
      "Done\n",
      "Looking at kmer 101665/101665\n",
      "Done.\n",
      "Analyzing spectra file 1/1[0%]\n",
      "\n",
      "b results before filtering\n",
      "[('DPQVEQLE', 15.0), ('DPEVQQI', 8.0), ('TVFSDFL', 8.0), ('HSLMPMLE', 8.0), ('PAGDQKDV', 6.0), ('TTP', 6.0), ('HTDTNKIE', 6.0), ('REENAPKN', 6.0), ('TTS', 6.0), ('KKE', 6.0), ('QPDV', 5.0), ('HCQQLSI', 5.0), ('SHANTWL', 5.0), ('IYEGYAL', 5.0), ('HLTDTEI', 5.0), ('IQEYYNK', 5.0), ('AGPQPAQTGA', 4.0), ('NPEEVLQ', 4.0), ('NEPQSVR', 4.0), ('PGGEEVLREQAGGD', 4.0), ('PQDHPRSQPQ', 4.0), ('ANATNPE', 4.0), ('TQAGVE', 4.0), ('TGAAGRNS', 4.0), ('AGGATVEPAG', 4.0), ('KPEGRPGT', 4.0), ('QPSVSS', 4.0), ('PSSAPELQ', 4.0), ('INPDEAVA', 4.0), ('DPRAEEI', 4.0), ('TQRPCRH', 4.0), ('KYFDSGDYNMAKAK', 4.0), ('TMVQTHL', 4.0), ('TFYDIVAE', 4.0), ('TPPPAGEAAF', 4.0), ('FSLHDP', 4.0), ('TLSFSSIS', 4.0), ('KRCPTCHNIIDN', 4.0), ('IEPPDTGLYYDE', 4.0), ('IEKNTDGVNFYNIL', 4.0), ('KGG', 3.0), ('KGD', 3.0), ('TAN', 3.0), ('TAA', 3.0), ('KPG', 3.0), ('KGP', 3.0), ('PQV', 3.0), ('KDP', 3.0), ('TVP', 3.0), ('KEG', 3.0), ('TNV', 3.0), ('TPG', 3.0), ('TSP', 3.0), ('KSH', 3.0), ('EIG', 3.0), ('IEN', 3.0), ('ELD', 3.0), ('TGE', 3.0), ('QPA', 3.0), ('LED', 3.0), ('KEA', 3.0), ('ELL', 3.0), ('TEQ', 3.0), ('ELQ', 3.0), ('TDA', 3.0), ('KEE', 3.0), ('ELE', 3.0), ('KNH', 3.0), ('THN', 3.0), ('YAL', 3.0), ('TEL', 3.0), ('TAP', 3.0), ('SFS', 3.0), ('TAL', 3.0), ('EIL', 3.0), ('PQE', 3.0), ('TYL', 3.0), ('KMY', 3.0), ('ELT', 3.0), ('KHG', 3.0), ('TVT', 3.0), ('TDG', 3.0), ('KPM', 3.0), ('TPR', 3.0), ('TQP', 3.0), ('FST', 3.0), ('TAI', 3.0), ('SFL', 3.0), ('AYL', 3.0), ('TLF', 3.0), ('TFS', 3.0), ('ELA', 3.0), ('FSA', 3.0), ('YAA', 3.0), ('FSS', 3.0), ('FSY', 3.0), ('TYG', 3.0), ('LEE', 3.0), ('IEE', 3.0), ('FSH', 3.0), ('IEL', 3.0), ('TDS', 3.0), ('IET', 3.0), ('TQE', 3.0), ('ELC', 3.0), ('TYE', 3.0), ('TNR', 3.0), ('AYQ', 3.0), ('KDL', 3.0), ('LES', 3.0), ('TDV', 3.0), ('KPS', 3.0), ('TIS', 3.0), ('KYH', 3.0), ('APGSGIWSDGKD', 2.0), ('PGAD', 2.0), ('GPASQQ', 2.0), ('GAPVED', 2.0), ('GDPAAQAS', 2.0), ('ENPV', 2.0), ('DQPSHEASVVS', 2.0), ('PENV', 2.0), ('QDPQ', 2.0), ('EPNQ', 2.0), ('PDAGAPTS', 2.0), ('PDQQ', 2.0), ('GADPV', 2.0), ('GEGPEV', 2.0), ('PNEGA', 2.0), ('PGDAV', 2.0), ('DKNDI', 2.0), ('VNGSRPPC', 2.0), ('AQASVSNG', 2.0), ('PYPID', 2.0), ('GSNVVE', 2.0), ('NKDQEVNFQEY', 2.0), ('DNKDL', 2.0), ('QAGPGASQ', 2.0), ('GGVGSLD', 2.0), ('VGSLDNVGH', 2.0), ('PSVTNSVHG', 2.0), ('PAAAEE', 2.0), ('PNSVHYL', 2.0), ('PGKELCS', 2.0), ('GKEPPTAE', 2.0), ('VPQSSS', 2.0), ('NPLSPEKG', 2.0), ('AAPAEE', 2.0), ('PNIDE', 2.0), ('NSPISS', 2.0), ('VTPNEYTAACS', 2.0), ('SPINSS', 2.0), ('ASSPPE', 2.0), ('APEAAE', 2.0), ('LYYAMKGAGTD', 2.0), ('YYLE', 2.0), ('IYYE', 2.0), ('YYIFQ', 2.0), ('PSPSEAQ', 2.0), ('NDLPE', 2.0), ('VPENE', 2.0), ('EPVNVFDIDAHTG', 2.0), ('SSAPPAVSN', 2.0), ('IDNPE', 2.0), ('QVDPE', 2.0), ('DNLPQF', 2.0), ('YYEIQ', 2.0), ('LNCHTQ', 2.0), ('EDPQVEQL', 2.0), ('PGREEE', 2.0), ('EDNLPQ', 2.0), ('YDPPLE', 2.0), ('GLEFNHL', 2.0), ('QSLQETAHQEQD', 2.0), ('HVYWEKAEQ', 2.0), ('GQPADDI', 2.0), ('GTYFEV', 2.0), ('SLSGEHSI', 2.0), ('GHTDLSSL', 2.0), ('GSGPPSGTGL', 2.0), ('SDEHKTDLNP', 2.0), ('SGRYYAL', 2.0), ('EYYNKL', 2.0), ('YRAGYSL', 2.0), ('GWLEPDL', 2.0), ('SSDTPLPDTEK', 2.0), ('FYSNSVL', 2.0), ('YRGSFSYRPG', 2.0), ('GQLGLPDEE', 2.0), ('VFFGPDF', 2.0), ('LTHNWGTE', 2.0), ('GVIDQPEAE', 2.0), ('SLGEYLFE', 2.0), ('GVELNPEAE', 2.0), ('LNHSAGMVE', 2.0), ('VDANRTGPAG', 2.0), ('EFCRKFRLDCP', 2.0), ('SVDHRGTWNGPW', 2.0), ('AFVKSYENLAFYW', 2.0), ('NQPEGVSIN', 2.0), ('QGWLEPDL', 2.0), ('STFIGNSTA', 2.0), ('QNPEFV', 2.0), ('HISFDP', 2.0), ('QVWADP', 2.0), ('YPIFSSK', 2.0), ('MLIYSSK', 2.0), ('HKGESQRCPN', 2.0), ('GDEPGPQRSVEGW', 2.0), ('HGFHVHQYGDNT', 2.0), ('RHSQWKNSF', 2.0), ('REAFDLFDADGTG', 2.0), ('DVNDNAPQFVASH', 2.0), ('EQISQFLQAAERYG', 1.0), ('NLCLHFNPRFNAHG', 1.0), ('LHAYDQHLNMILGD', 1.0), ('FMQHHRDLSGLLVS', 1.0), ('QEMNLVDYSRPSAK', 1.0), ('FNNLSQSNMTQKVE', 1.0), ('AFNNRPPSTWLTAY', 1.0), ('PTEQQQPQPHHIPT', 1.0), ('VSLDENFHPLNELI', 1.0)]\n",
      "y results before filtering\n",
      "[('LDSFSEI', 10.0), ('FVDLTMPYSV', 9.0), ('LESYGLE', 8.0), ('LFSHVDFSGDGKS', 8.0), ('EISSIDEF', 8.0), ('EIPHSELD', 8.0), ('PEL', 6.0), ('LGEGSYGK', 6.0), ('PEI', 6.0), ('LEL', 6.0), ('VEL', 6.0), ('TEI', 6.0), ('TCI', 6.0), ('FCL', 6.0), ('EEL', 6.0), ('AEL', 6.0), ('MEL', 6.0), ('LESDPIH', 5.0), ('IVETDSF', 5.0), ('LLDSFSE', 5.0), ('LCAPNRH', 5.0), ('LFFPEGT', 5.0), ('LEMSALF', 5.0), ('LLFTDDS', 5.0), ('IVESDFT', 5.0), ('LDLADYT', 5.0), ('LLMAASIYFHDQNP', 4.0), ('LQCYSEAIKLDPQN', 4.0), ('LEDVQAH', 4.0), ('EYFTGATFCV', 4.0), ('QLHLNAED', 4.0), ('QIAQNDPGP', 4.0), ('ESEDLFSL', 4.0), ('EVLETDPH', 4.0), ('EIEGEIKRDFMAAL', 4.0), ('DPS', 3.0), ('YYL', 3.0), ('NNL', 3.0), ('PSP', 3.0), ('AIC', 3.0), ('GYL', 3.0), ('VPS', 3.0), ('EDL', 3.0), ('ADI', 3.0), ('SGL', 3.0), ('SSP', 3.0), ('EIE', 3.0), ('RHL', 3.0), ('MFL', 3.0), ('ELL', 3.0), ('LDL', 3.0), ('EDI', 3.0), ('HPS', 3.0), ('LTL', 3.0), ('DLE', 3.0), ('PYL', 3.0), ('TLC', 3.0), ('TML', 3.0), ('LHL', 3.0), ('HLL', 3.0), ('FNL', 3.0), ('FQI', 3.0), ('HHL', 3.0), ('ELE', 3.0), ('ISP', 3.0), ('YAL', 3.0), ('LGL', 3.0), ('SLE', 3.0), ('NLE', 3.0), ('KDL', 3.0), ('NTL', 3.0), ('EAL', 3.0), ('EYL', 3.0), ('EFL', 3.0), ('SHL', 3.0), ('FLL', 3.0), ('DTL', 3.0), ('VDI', 3.0), ('APL', 3.0), ('ALE', 3.0), ('QTL', 3.0), ('LSL', 3.0), ('NEWAAEIPGGQ', 2.0), ('SSFFV', 2.0), ('SSPAPQ', 2.0), ('QLYSTQA', 2.0), ('AGHGQEV', 2.0), ('GPRSGRFC', 2.0), ('QLHNGE', 2.0), ('QISKDYG', 2.0), ('DLAGHGQ', 2.0), ('QEQAEQGREHLA', 2.0), ('QGLHEN', 2.0), ('QFSTQS', 2.0), ('ESHPTQ', 2.0), ('ETMIKTYGQT', 2.0), ('GGAFGGRGRSYS', 2.0), ('QMGPHQ', 2.0), ('QCRSGF', 2.0), ('EAVAYY', 2.0), ('GNPSYKYFYVSA', 2.0), ('EFYEK', 2.0), ('EQYIY', 2.0), ('ADEKMKPHSE', 2.0), ('VEISFC', 2.0), ('VEWYT', 2.0), ('DLFLSC', 2.0), ('ATGFISC', 2.0), ('EEKEDVKSCA', 2.0), ('IMYRTQ', 2.0), ('EHPFSV', 2.0), ('LPDSSHVG', 2.0), ('IYFSPAN', 2.0), ('FPPDVCGNLDYR', 2.0), ('TQATFM', 2.0), ('IKMYAW', 2.0), ('LHGRAEE', 2.0), ('LATYLQC', 2.0), ('LQFKMDAS', 2.0), ('ICGRIFC', 2.0), ('LQEHRE', 2.0), ('ETYKEAQA', 2.0), ('HFDADGSGYLEGK', 2.0), ('EKCSSTLAT', 2.0), ('EAVSGPPPAD', 2.0), ('EEITEYR', 2.0), ('ETCKMTLN', 2.0), ('EGMKFDRG', 2.0), ('EFKSDNTV', 2.0), ('DNPKFMDTVA', 2.0), ('QYEKERS', 2.0), ('AGSTALYWA', 2.0), ('FNVTVTM', 2.0), ('QTDVPDHK', 2.0), ('QEEAKHPT', 2.0), ('GAVNADKHQ', 2.0), ('QVVDINDH', 2.0), ('WFDKFKYDDAER', 2.0), ('SSISASSKG', 2.0), ('FLRAWNYTVDTPH', 2.0), ('IMEPESRFY', 2.0), ('KLPFAEGLYHFYH', 2.0), ('PCTNTTAPSNYLN', 2.0), ('PPKQQQQQQQQQQ', 2.0), ('SNGWYNYRHQA', 2.0), ('SHTCHNGKADPTK', 2.0), ('RVSLYYESLCGACR', 1.0), ('DGYIDYAEFAKSLQ', 1.0), ('EGDTQLNWNIVSFP', 1.0), ('DNAPVFPAEEFEVR', 1.0), ('ILAMIDEGETDWKV', 1.0), ('LIQPDGVTLEYNPY', 1.0)]\n",
      "b results after filtering\n",
      "[('DPQVEQLE', 15.0)]\n",
      "y results after filtering\n",
      "[('LDSFSEI', 10.0)]\n",
      "b results before filtering]\n",
      "[('DLQTLA', 7.0), ('LDQT', 5.0), ('DLGAT', 5.0), ('VEQT', 5.0), ('IYYLA', 5.0), ('NPVEI', 5.0), ('IDNPL', 5.0), ('PNVEL', 5.0), ('PNDLI', 5.0), ('QLDCALDLMRRLP', 4.0), ('DQLTEEQIAE', 4.0), ('LNETVT', 4.0), ('IDQALT', 4.0), ('NELTLA', 4.0), ('EVQNEI', 4.0), ('HCKALA', 4.0), ('INPDLA', 4.0), ('NPDLAL', 4.0), ('LDGFKVCI', 4.0), ('EAEKSLEQ', 4.0), ('SLADAINTE', 4.0), ('ESLQLAGKWDLGNL', 4.0), ('VTEQGAELS', 4.0), ('LSQELDFVSHNVR', 4.0), ('LSAIYSQL', 4.0), ('ISSAPPA', 4.0), ('GFMTRVAL', 4.0), ('FKDSTIKRE', 4.0), ('SLTPQPSPQLPT', 4.0), ('LDLDGP', 4.0), ('DIVNEEDKDVLI', 4.0), ('VTSPEKAEEAKL', 4.0), ('SLSIGGSAAPH', 4.0), ('LSSIEQ', 4.0), ('ISLSEQ', 4.0), ('TVVTEAG', 4.0), ('LSLGYAASL', 4.0), ('ISKVSSKCGSK', 4.0), ('LYNITTGLYPF', 4.0), ('TDVYKGVLKDYT', 4.0), ('EVTLSAYIT', 4.0), ('FYPKDINVK', 4.0), ('DYWKALVTK', 4.0), ('LDVESHAII', 4.0), ('TVISNWIKY', 4.0), ('YHRYPELREALV', 4.0), ('LDDLNRTKKY', 4.0), ('VEDILNVLGMENVV', 4.0), ('VEVERDNLAEDI', 4.0), ('SLPQANSS', 4.0), ('VEG', 3.0), ('LDA', 3.0), ('EVA', 3.0), ('DLA', 3.0), ('EVG', 3.0), ('LDP', 3.0), ('LDN', 3.0), ('NPE', 3.0), ('DLN', 3.0), ('EVN', 3.0), ('PNI', 3.0), ('SIE', 3.0), ('EVS', 3.0), ('SLQ', 3.0), ('ISG', 3.0), ('SIQ', 3.0), ('TVQ', 3.0), ('LSE', 3.0), ('SLE', 3.0), ('LSG', 3.0), ('TVE', 3.0), ('LDT', 3.0), ('ISA', 3.0), ('DIT', 3.0), ('VEA', 3.0), ('LSD', 3.0), ('DLT', 3.0), ('DIP', 3.0), ('LSP', 3.0), ('VEL', 3.0), ('IDL', 3.0), ('TVY', 3.0), ('SIY', 3.0), ('SLC', 3.0), ('SLY', 3.0), ('VTY', 3.0), ('LSY', 3.0), ('IDE', 3.0), ('IDD', 3.0), ('TVP', 3.0), ('DLE', 3.0), ('NPK', 3.0), ('VER', 3.0), ('SLG', 3.0), ('LSK', 3.0), ('LDK', 3.0), ('EVV', 3.0), ('VEK', 3.0), ('EVR', 3.0), ('VTV', 3.0), ('TVL', 3.0), ('EVK', 3.0), ('VTT', 3.0), ('DLD', 3.0), ('ISV', 3.0), ('TVS', 3.0), ('EVI', 3.0), ('PNP', 3.0), ('DLF', 3.0), ('DLK', 3.0), ('VEF', 3.0), ('EVE', 3.0), ('DLL', 3.0), ('SLR', 3.0), ('DLP', 3.0), ('IDF', 3.0), ('SLL', 3.0), ('LSV', 3.0), ('TVT', 3.0), ('VTL', 3.0), ('LSI', 3.0), ('VTI', 3.0), ('LDH', 3.0), ('NPP', 3.0), ('VEH', 3.0), ('DLH', 3.0), ('LDE', 3.0), ('DID', 3.0), ('DIL', 3.0), ('LDI', 3.0), ('DLI', 3.0), ('VEE', 3.0), ('EVD', 3.0), ('EVL', 3.0), ('LSC', 3.0), ('DIS', 3.0), ('TVR', 3.0), ('DLR', 3.0), ('TVD', 3.0), ('VES', 3.0), ('LDS', 3.0), ('GPGNP', 2.0), ('GGPDI', 2.0), ('PGGSNVV', 2.0), ('HPAS', 2.0), ('APHGGSGLHT', 2.0), ('PHAS', 2.0), ('ENIFFPSKWQHL', 2.0), ('ADVAT', 2.0), ('IQDFIF', 2.0), ('QVEGIP', 2.0), ('EQVNEL', 2.0), ('INET', 2.0), ('ENLT', 2.0), ('RCPLEEG', 2.0), ('TASPPTRIRTTT', 2.0), ('GGETLLS', 2.0), ('QEVT', 2.0), ('LQDAELD', 2.0), ('GLGET', 2.0), ('ELNLTA', 2.0), ('EINETSGAI', 2.0), ('NEIWPKMIKGRSS', 2.0), ('VQEQQAT', 2.0), ('LENATI', 2.0), ('TGPTT', 2.0), ('EGLGVIACIGEKL', 2.0), ('IEGKFGML', 2.0), ('NLEDDVV', 2.0), ('QDLT', 2.0), ('DGLAEDLA', 2.0), ('TTPGT', 2.0), ('ATSPSTL', 2.0), ('SPATT', 2.0), ('TPTGAAPPA', 2.0), ('APTTSGGLNKKPM', 2.0), ('PTSALDFLKHH', 2.0), ('DQIQNAQYLLQ', 2.0), ('LGEGT', 2.0), ('STAPGPL', 2.0), ('RPCVP', 2.0), ('DGALT', 2.0), ('QDIPV', 2.0), ('IGADT', 2.0), ('ADGVLVSGADNGT', 2.0), ('NIET', 2.0), ('PATST', 2.0), ('EGGLGPL', 2.0), ('GVAET', 2.0), ('LAGDMGELALEG', 2.0), ('DAALSAL', 2.0), ('AAVDT', 2.0), ('ATPST', 2.0), ('AVDAFEIHVHK', 2.0), ('ADAVDKVMKELD', 2.0), ('GEGIT', 2.0), ('SPTAT', 2.0), ('ELGGT', 2.0), ('EGIGT', 2.0), ('GTPTSSTPRPSIT', 2.0), ('AGLVQHLEEYAAT', 2.0), ('GDIAT', 2.0), ('GVEAT', 2.0), ('PTGSPL', 2.0), ('VCRALGY', 2.0), ('CGRLFATLLPQD', 2.0), ('CRIGFGPSP', 2.0), ('YLYL', 2.0), ('NIDPL', 2.0), ('GPVDAL', 2.0), ('LYYDEYLKQV', 2.0), ('YIYL', 2.0), ('PSSAPAL', 2.0), ('VDQPL', 2.0), ('VPENI', 2.0), ('PDNLKEFKDDL', 2.0), ('ENPVL', 2.0), ('SAPLPSA', 2.0), ('QDPVL', 2.0), ('NLDPL', 2.0), ('TGSPPATT', 2.0), ('PVQDPKTCSGGS', 2.0), ('DPLNL', 2.0), ('DPGPQLRRG', 2.0), ('GDPGLGVREP', 2.0), ('PTPGSAPR', 2.0), ('PENVL', 2.0), ('LPNDL', 2.0), ('KEAELS', 2.0), ('VDDKWDTLPIAE', 2.0), ('TAEGVLS', 2.0), ('EKEAAL', 2.0), ('QLTDAL', 2.0), ('WDRAI', 2.0), ('LQESAL', 2.0), ('TLNEYHTRAKT', 2.0), ('AEIGSLS', 2.0), ('DWRNVN', 2.0), ('TNLESL', 2.0), ('SQELDFVSHN', 2.0), ('TGAEVSEQI', 2.0), ('SEQISL', 2.0), ('EEKAAL', 2.0), ('TEVQLS', 2.0), ('TNIESL', 2.0), ('KEEGHQGLV', 2.0), ('AEASVSL', 2.0), ('TLDSQIQE', 2.0), ('TDQLAL', 2.0), ('VSSLTEEISRRG', 2.0), ('ATEGVAI', 2.0), ('PSVSSLA', 2.0), ('VVDPAAA', 2.0), ('KHMELFQKWSVI', 2.0), ('KEPPTA', 2.0), ('TEPPKGPG', 2.0), ('VDVFRQNLFQ', 2.0), ('PTEKPKDSTAEAK', 2.0), ('PPEKTTEDKATKG', 2.0), ('VQIDPLAGMASLS', 2.0), ('LLYYGC', 2.0), ('MKHRA', 2.0), ('PPLSASA', 2.0), ('IYLYNP', 2.0), ('AAHANNI', 2.0), ('YCKPSKGGKR', 2.0), ('YKTAFKSLQEQNS', 2.0), ('STKDFL', 2.0), ('DSTKFI', 2.0), ('YSLGSAL', 2.0), ('YQRML', 2.0), ('DGKMFI', 2.0), ('NTSYII', 2.0), ('DKYTAL', 2.0), ('STMMKI', 2.0), ('SQIPNASS', 2.0), ('GLNHLDSLKGTF', 2.0), ('TDYKAL', 2.0), ('MGSFRI', 2.0), ('YEALKDFFRLFP', 2.0), ('LYGMNL', 2.0), ('YGMNLI', 2.0), ('QLPGEVMDASE', 2.0), ('ITTPPNKEP', 2.0), ('QPGSITEVC', 2.0), ('GQVLPEMEIHL', 2.0), ('NLAEVPKEP', 2.0), ('FMVLTANGLSA', 2.0), ('DKPTSRTENQ', 2.0), ('TAHASRPGAK', 2.0), ('QASIRHLGNQ', 2.0), ('LVSTGPS', 2.0), ('DEKVKYL', 2.0), ('NKALSAGNIDDAL', 2.0), ('VSRHDPA', 2.0), ('LLQDHDVRQ', 2.0), ('DDVALKNFAKYFL', 2.0), ('EQTLAVQAH', 2.0), ('IIDDKG', 2.0), ('SSLLEQ', 2.0), ('IPTRACEGQENAI', 2.0), ('IGGFGYPA', 2.0), ('AKGHYTEGA', 2.0), ('VNKCYRGR', 2.0), ('LLDATSGADA', 2.0), ('VDELGK', 2.0), ('EEGKVVVQGIEQS', 2.0), ('KLSSPEREVERDV', 2.0), ('NWVGKG', 2.0), ('RSTSPINSSPPRC', 2.0), ('LKEWTLMLHGTQS', 2.0), ('ALSGGLMVFT', 2.0), ('PEAFRGVHRYLSN', 2.0), ('TDWVRQE', 2.0), ('QSKWQEQ', 2.0), ('KSLSQNYGV', 2.0), ('PLKDGFTEVQLS', 2.0), ('VMWLQGGPGGSS', 2.0), ('GLLYVLCNT', 2.0), ('MEQRLEQ', 2.0), ('DARALMLQGVDL', 2.0), ('YLVNTTA', 2.0), ('YTLIGASG', 2.0), ('PRHTEAA', 2.0), ('MSLRFGA', 2.0), ('FGIVTSSA', 2.0), ('VFRSMA', 2.0), ('TSTTTTVA', 2.0), ('LNYMAVA', 2.0), ('CLPKSYIA', 2.0), ('VWRSYA', 2.0), ('VITSQY', 2.0), ('SMYVPGKL', 2.0), ('SQRLFMI', 2.0), ('MKLENFEAAVHL', 2.0), ('RIMNTF', 2.0), ('ITYLNTG', 2.0), ('FVHELHL', 2.0), ('HVFNKHDGALK', 2.0), ('TYLQEKL', 2.0), ('FTHLYTL', 2.0), ('TEKKEFL', 2.0), ('LGNTYTLL', 2.0), ('ASRREYL', 2.0), ('ITACLFGGI', 2.0), ('TACLFGGII', 2.0), ('EFIKASSI', 2.0), ('KFMELNL', 2.0), ('FLAAKECL', 2.0), ('CPSAYKLL', 2.0), ('YSNSVLVL', 2.0), ('LYKEMVD', 2.0), ('YTIIMAA', 2.0), ('QYYLVPD', 2.0), ('QLFDFID', 2.0), ('MNRFSKD', 2.0), ('DYLMKILT', 2.0), ('VVASYPFD', 2.0), ('WQHALQD', 2.0), ('DGVQLPPGD', 2.0), ('NNLHWVTEY', 2.0), ('RGIWHND', 2.0), ('FSTNMALNIL', 2.0), ('DHLRELLT', 2.0), ('HVLNKDGLT', 2.0), ('SDRLLYKDGFST', 2.0), ('KDKQDEEQRLKE', 2.0), ('TKESLVFAQT', 2.0), ('VMFIVSAGA', 2.0), ('MRHQILPKDQ', 2.0), ('ELKEYESII', 2.0), ('WLKFVSDGSIN', 2.0), ('KMIREYRQ', 2.0), ('SKTTSASSVKRN', 2.0), ('KRTYEEGLK', 2.0), ('GLKHEANNLQ', 2.0), ('GSILASLSTFQ', 2.0), ('TTYLQEKLGA', 2.0), ('HLRAQLEEQ', 2.0), ('FHGIPATPGVGA', 2.0), ('PFIKEYQAK', 2.0), ('DNTVSKKGFK', 2.0), ('KGATKEQSFK', 2.0), ('LIDDHFLFDKPVS', 2.0), ('NQISAAPKPAAPT', 2.0), ('MIRALEYIEK', 2.0), ('VLTSDQSSP', 2.0), ('RFVLDCKDK', 2.0), ('HVEGVNLATLA', 2.0), ('DVELTVEE', 2.0), ('HRYEDTL', 2.0), ('DDILKELQDNAQ', 2.0), ('EDVIAQG', 2.0), ('YRHPG', 2.0), ('DVLELTDE', 2.0), ('LVEDMENKIRS', 2.0), ('VDLEPG', 2.0), ('VIEDGVGD', 2.0), ('RPIEDNEKSKDVN', 2.0), ('TITHSAHM', 2.0), ('DPELRQGIKDY', 2.0), ('PSEPLSHM', 2.0), ('AANPKESS', 2.0), ('TPEEKQTT', 2.0), ('SYVYLSMA', 2.0), ('ERQDALREFVA', 2.0), ('ANNVLSGGTT', 2.0), ('GKDFHQTQFLI', 2.0), ('PRSTSSPLQSKN', 2.0), ('ALVDQEEKED', 2.0), ('KSSRAEVRTHYDP', 2.0), ('VAPDEHPILLTE', 2.0), ('ACPDPAPVQLI', 2.0), ('DSYMVIVAVLGV', 2.0), ('DENFLLFFRLET', 2.0), ('EAYYIFQEL', 2.0), ('SQHQMDVAFLEKL', 2.0), ('RIDEANQRATKML', 2.0), ('LGGEEEKDPDAQKK', 1.0), ('ADISARKMAHPAMF', 1.0), ('PSATAHQQQLYGRS', 1.0), ('CPRGALGAAVRLCD', 1.0), ('PGHTSQLKSQTSFK', 1.0), ('ELTRASLGHYGDIN', 1.0), ('SPLPSASTISVTNQ', 1.0), ('YGRSPPAVAMQAGP', 1.0), ('LYVDDPNWPGIGVV', 1.0), ('EIDVNGILRVTAED', 1.0), ('YRPGACVPALELTR', 1.0), ('RQYSDAPPLTLDGI', 1.0), ('NTDQLALSQAQLEI', 1.0), ('TTFQISLNISYIGS', 1.0), ('GPLQGSGQDMVSIL', 1.0), ('SVRSGAFGHLFRPD', 1.0), ('APKGMLARGTYHNK', 1.0), ('IAKSPPSYITQPED', 1.0), ('LFLTGESYAGIYIP', 1.0), ('EWLLTRDGVPSEAA', 1.0)]\n",
      "y results before filtering\n",
      "[('WSRM', 5.0), ('LEFGLGG', 4.0), ('QSLSGLSISS', 4.0), ('SVSDYDGKLSS', 4.0), ('KTTIFTDAKESSTV', 4.0), ('AVESSSL', 4.0), ('PSATSPGP', 4.0), ('KERHFMKIYLY', 4.0), ('AADLSDQVP', 4.0), ('SLPDVQ', 4.0), ('GIAVPDVYSACKRF', 4.0), ('VGRTGSGKSSLG', 4.0), ('ALGQIFD', 4.0), ('GNVRENILFGE', 4.0), ('PRVEYPAHQAMNL', 4.0), ('PLKDFWPKVPDSP', 4.0), ('NQNSVPDIRGVETP', 4.0), ('KTGNSESKK', 4.0), ('ICMLGLNL', 4.0), ('TIVQSSFPV', 4.0), ('GRTGLIPSNYVA', 4.0), ('LVPGTYNL', 4.0), ('NEKINAEKSSK', 4.0), ('LSANKSKE', 4.0), ('TLITTVESN', 4.0), ('CPSAYKLLLGTEKC', 4.0), ('DATLSGKRM', 4.0), ('KTDTLVQSTI', 4.0), ('KTFFILHDIN', 4.0), ('QTAVKTNSSFIQGF', 4.0), ('DNL', 3.0), ('PQV', 3.0), ('DNI', 3.0), ('PVQ', 3.0), ('PLN', 3.0), ('CMR', 3.0), ('DLN', 3.0), ('SNL', 3.0), ('HQV', 3.0), ('FQV', 3.0), ('DRM', 3.0), ('ALN', 3.0), ('VNI', 3.0), ('VVQ', 3.0), ('LLN', 3.0), ('SNI', 3.0), ('AMR', 3.0), ('ENL', 3.0), ('GNL', 3.0), ('VNL', 3.0), ('DPVAG', 2.0), ('DPGLG', 2.0), ('GDFKAGVA', 2.0), ('AGDFKAGV', 2.0), ('SDVPEKPREIGG', 2.0), ('ALGGGGGGL', 2.0), ('SVTS', 2.0), ('SSSI', 2.0), ('STVS', 2.0), ('SSIS', 2.0), ('SVST', 2.0), ('SSLS', 2.0), ('AEEVRFPISVT', 2.0), ('IPGGPPS', 2.0), ('TSPPG', 2.0), ('VAPPSPG', 2.0), ('TPSGP', 2.0), ('TGSPP', 2.0), ('EGISSS', 2.0), ('WRSM', 2.0), ('AQRKRMS', 2.0), ('VLELDREMSR', 2.0), ('NTMVTTSTTTT', 2.0), ('SGKLHREFHH', 2.0), ('LANLTQGEDKYYL', 2.0), ('TVINPD', 2.0), ('AIGIDPG', 2.0), ('SNKWEVP', 2.0), ('TVNDLP', 2.0), ('SLSPPGT', 2.0), ('SISSAPP', 2.0), ('SIDNPL', 2.0), ('TTTVTINVE', 2.0), ('TVRYNLDP', 2.0), ('IFQVDA', 2.0), ('LTSSTPS', 2.0), ('SNFNLPAP', 2.0), ('ALGPSTP', 2.0), ('ASYVNLP', 2.0), ('CSLNEHLENV', 2.0), ('ADSLLSSA', 2.0), ('TSVVSVTAVD', 2.0), ('VFSDFLTYKSGVY', 2.0), ('AVSGPPP', 2.0), ('AKYKD', 2.0), ('GPSLNNTYGFKVS', 2.0), ('ADKYK', 2.0), ('AYDKK', 2.0), ('AKFTSA', 2.0), ('LCNFLRDLFLHH', 2.0), ('RATVVESSEK', 2.0), ('WNLTCKD', 2.0), ('IEKSES', 2.0), ('ELRQVFEG', 2.0), ('LGWMVS', 2.0), ('LAVENF', 2.0), ('IPSNYV', 2.0), ('LITSSDG', 2.0), ('QATKTMEA', 2.0), ('LFENIG', 2.0), ('ILISMETDLA', 2.0), ('SRRAQDFV', 2.0), ('SREEIKKSE', 2.0), ('SFSEQGINEF', 2.0), ('LVQEFIQ', 2.0), ('LEINFG', 2.0), ('DPVQRRALETM', 2.0), ('TLKGDVSSAT', 2.0), ('VLQEHREGQLTSM', 2.0), ('LLAFDN', 2.0), ('ITFTNP', 2.0), ('GRSGSNKSS', 2.0), ('TEDLKTLSA', 2.0), ('KGAQVDF', 2.0), ('WQLVAPTQY', 2.0), ('LSERST', 2.0), ('LVPGTYNLT', 2.0), ('VFTNHFLVE', 2.0), ('ISTNLKNS', 2.0), ('LIQPDGVTLEY', 2.0), ('TWTLKITD', 2.0), ('AGLQVLNDYL', 2.0), ('PTGVSFKKD', 2.0), ('LAQYLCSEYLL', 2.0), ('FQRLDFKSKD', 2.0), ('LQENFLL', 2.0), ('DQQQLFT', 2.0), ('ELREHLSQSKVAE', 2.0), ('IASIGQQANIPTA', 2.0), ('PQPPPQQQAAPQP', 2.0), ('GGRELNDFISYL', 2.0), ('WLTAEERDQLIPG', 2.0), ('CAARQLRSSSHRR', 2.0), ('CTRRCPTPVVSP', 2.0), ('IRVGVQLEASPD', 2.0), ('LFLDPSGK', 2.0), ('AYKAASDIAMTEL', 2.0), ('HVPGGGNVQIQ', 2.0), ('DAAAEVPSR', 2.0), ('FDWIYPAYLPV', 2.0), ('RYYTYLV', 2.0), ('QNREKQPEE', 2.0), ('YRDNTPLV', 2.0), ('SYVNLPTIA', 2.0), ('AAAAAFEI', 2.0), ('NTFSVVP', 2.0), ('ASSLDAISPVQID', 2.0), ('LNTSSLLE', 2.0), ('AFPFQPG', 2.0), ('RNHGKLDTKQS', 2.0), ('KIPNFWVTT', 2.0), ('EKRATVVESS', 2.0), ('ALKSALCGN', 2.0), ('ADASSLTV', 2.0), ('FLASTQRKEFG', 2.0), ('DELFSDIYKIRE', 2.0), ('DQEVEFL', 2.0), ('ASSLDAIS', 2.0), ('GRSIRGFCLP', 2.0), ('AVGGVFDV', 2.0), ('AAWPTFA', 2.0), ('DIILTKEKNSS', 2.0), ('VVTETISET', 2.0), ('WRLSERRC', 2.0), ('RDAMLAKVDS', 2.0), ('ITLVPYGN', 2.0), ('IDKASETL', 2.0), ('EELEEIKKET', 2.0), ('IVQFLEQ', 2.0), ('LHHKRGE', 2.0), ('LGHHLGKD', 2.0), ('VGSVLNWFSP', 2.0), ('INGILYSP', 2.0), ('IPNFWVT', 2.0), ('SKSTEIKW', 2.0), ('IVAMMKPS', 2.0), ('LMVDKASL', 2.0), ('DRRGRPGDRY', 2.0), ('KSHLMSLY', 2.0), ('LQKDLNSLPYG', 2.0), ('SKTDTLVQS', 2.0), ('LLVPGTYN', 2.0), ('LMNTKRN', 2.0), ('VVTNRFDQ', 2.0), ('LSGKKQES', 2.0), ('LEITKAAM', 2.0), ('LVDAYPAK', 2.0), ('ASVPPTDKVCLW', 2.0), ('LLISCLQS', 2.0), ('LENLTHGEIIYPE', 2.0), ('LKTLLEGC', 2.0), ('LMRLCIQ', 2.0), ('VAEALQDLLFE', 2.0), ('IGRSGTGKT', 2.0), ('TNIRTPSTTGSL', 2.0), ('LWWGTIT', 2.0), ('LPLDYKQ', 2.0), ('LTYLNPVG', 2.0), ('HKVTSTSGTITSP', 2.0), ('VRKTEMSQ', 2.0), ('DIINEEF', 2.0), ('KAASNLRDNYRFA', 2.0), ('DHGVQGPVA', 2.0), ('PERTRQVYQA', 2.0), ('DMELLTGT', 2.0), ('DNVGHLPAG', 2.0), ('NVPAMYVAI', 2.0), ('DDEPPPLP', 2.0), ('YKEVNRLSFQ', 2.0), ('DGYAAIAQA', 2.0), ('DQQLYNV', 2.0), ('HPEAQAKVDVFRE', 2.0), ('DLINRLQAY', 2.0), ('TLEEFLRA', 2.0), ('DKLPYED', 2.0), ('DLVGHVHC', 2.0), ('LLISCLQSAAS', 2.0), ('DVKFGADAR', 2.0), ('DGVTPFMI', 2.0), ('ASAPQKPIYM', 2.0), ('TKLEECVR', 2.0), ('FFVNGLTLGGQKC', 2.0), ('TAAQVARVLGMM', 2.0), ('TDKVCLWL', 2.0), ('ENLTHGEIIYPEI', 2.0), ('LIGKTSEMAR', 2.0), ('HCAKKRSLCRN', 2.0), ('TEKTELTGV', 2.0), ('KGPEVKEYR', 2.0), ('AGKSGSRSMKP', 2.0), ('KALELFRND', 2.0), ('NRVTLLYGSPGA', 2.0), ('SRENTKDK', 2.0), ('KQNTVSKGPF', 2.0), ('VADHSLHLS', 2.0), ('PAPAAGAAPAGGA', 2.0), ('PAAGAAPAGGAAP', 2.0), ('SHLGPPEAAHATK', 2.0), ('VASDMMVLL', 2.0), ('ETKESKKE', 2.0), ('VSNADRLGF', 2.0), ('VFDGRDAKA', 2.0), ('YRHFWA', 2.0), ('CSIVDVEFLPVY', 2.0), ('EDGDESIHKLKEK', 2.0), ('GPHKEIYPYVI', 2.0), ('LSFSSISASSKGL', 2.0), ('MVADKVEVYSRS', 2.0), ('KTSEMARLFGIQF', 2.0), ('PTKMSKFGFAIG', 2.0), ('DGTVPFWAHAG', 2.0), ('LLFVSSGPTNA', 2.0), ('VKNYPEGHQAAAV', 2.0), ('ILYPATTGRN', 2.0), ('FMSQQSETSL', 2.0), ('ILTEEKMEL', 2.0), ('LLGTEKCVWG', 2.0), ('LIQWITTQC', 2.0), ('GQLGLPDEENRR', 2.0), ('LEDLQYVFM', 2.0), ('AAGPLFQQRPY', 2.0), ('LILHDDEVTVTE', 2.0), ('IIGKDTWVEHW', 2.0), ('VRLFTEEELARY', 2.0), ('RRRRRVPAMWDPR', 2.0), ('IVVEWTNNTLPLE', 2.0), ('FPLFTFRVLSDW', 2.0), ('TTTGPRAQIGSGAV', 1.0), ('EESLKLAAQGPPSG', 1.0), ('RVDKATFMVGSYGP', 1.0), ('AELTPNHQSVSELT', 1.0), ('ETFLRKMHHVLLEV', 1.0), ('AAAAADISARKMAH', 1.0), ('TKDRWRSMTVVPYL', 1.0), ('VRLTYSTGESNTVV', 1.0), ('SGFISAAELCNFLR', 1.0), ('YIGDVHPSDLKPKG', 1.0), ('YLLDDPLSAVDAHV', 1.0), ('ASKPSVNEQNQVQP', 1.0), ('NLGLITESQAHTLE', 1.0), ('QSLNLLSQAQLQGQ', 1.0), ('SGIIGNLRHMALDM', 1.0), ('LITASQFFEIWLHF', 1.0)]\n",
      "b results after filtering\n",
      "[('DLQTLA', 7.0)]\n",
      "y results after filtering\n",
      "[('WSRM', 5.0)]\n"
     ]
    },
    {
     "name": "stdout",
     "output_type": "stream",
     "text": [
      "b results before filtering]\n",
      "[('DLTEYLSRFGE', 8.0), ('EVTESI', 7.0), ('LSEEELKQL', 6.0), ('TVEELHEPIPSLF', 6.0), ('SLEE', 5.0), ('ISEE', 5.0), ('VETE', 5.0), ('SIEE', 5.0), ('LDTE', 5.0), ('VTEE', 5.0), ('EISELS', 4.0), ('ELSVGLGHL', 4.0), ('IDTLLVATDQ', 4.0), ('IESRGIHETTFNSI', 4.0), ('SELEDRHQADI', 4.0), ('ITDEDELT', 4.0), ('DTIEIITDRQSGKK', 4.0), ('VEDLTKETLHKQY', 4.0), ('ELDTLSEE', 4.0), ('VEETVT', 4.0), ('LSSLPEIDKS', 4.0), ('LSTVEE', 4.0), ('LDALHGSVL', 4.0), ('SLGAYISTL', 4.0), ('VEHRLSAL', 4.0), ('ADPEPLGL', 4.0), ('DILLGSTDYSTQ', 4.0), ('SLSIGGSAAPH', 4.0), ('DLIDLVPSLC', 4.0), ('ELVDSVLDVVRKEC', 4.0), ('VTSYATSVSLSNT', 4.0), ('EGGEFSVDRPIIER', 4.0), ('LDP', 3.0), ('DLD', 3.0), ('SLH', 3.0), ('EVP', 3.0), ('IDD', 3.0), ('LDD', 3.0), ('EVD', 3.0), ('DIP', 3.0), ('LDE', 3.0), ('DLE', 3.0), ('DLR', 3.0), ('SLT', 3.0), ('SLP', 3.0), ('SLF', 3.0), ('LSP', 3.0), ('SLY', 3.0), ('LSA', 3.0), ('VTF', 3.0), ('SLI', 3.0), ('LSC', 3.0), ('VTL', 3.0), ('LSL', 3.0), ('SIR', 3.0), ('ISV', 3.0), ('TVD', 3.0), ('ADA', 3.0), ('SIL', 3.0), ('LDV', 3.0), ('EVL', 3.0), ('LDS', 3.0), ('DLV', 3.0), ('LDL', 3.0), ('EVR', 3.0), ('TVL', 3.0), ('VEL', 3.0), ('LSV', 3.0), ('TVR', 3.0), ('VEN', 3.0), ('EGK', 3.0), ('ADH', 3.0), ('ISY', 3.0), ('DAV', 3.0), ('EVS', 3.0), ('LDI', 3.0), ('ISL', 3.0), ('DAA', 3.0), ('GEE', 3.0), ('ADE', 3.0), ('DAE', 3.0), ('EGA', 3.0), ('GEG', 3.0), ('ISS', 3.0), ('SLL', 3.0), ('VTT', 3.0), ('SII', 3.0), ('VTI', 3.0), ('IST', 3.0), ('DID', 3.0), ('DLA', 3.0), ('VEY', 3.0), ('DLS', 3.0), ('LSQ', 3.0), ('DIS', 3.0), ('VDPE', 2.0), ('DPVE', 2.0), ('PDVE', 2.0), ('PVDVDP', 2.0), ('DVPYTA', 2.0), ('TEVCIT', 2.0), ('ESLE', 2.0), ('TLDE', 2.0), ('LESFSERKEEEK', 2.0), ('DTLE', 2.0), ('SEIDYVISGEAE', 2.0), ('TDLALILSAGD', 2.0), ('ESIE', 2.0), ('LTDE', 2.0), ('ETVE', 2.0), ('TIDE', 2.0), ('EFGALE', 2.0), ('GFESTSKESLLD', 2.0), ('FADELDDSKPPP', 2.0), ('FEGLAE', 2.0), ('AFDEAI', 2.0), ('FGEESLAF', 2.0), ('PDDGPNAHI', 2.0), ('EELGAFTESMVV', 2.0), ('ELESLS', 2.0), ('LTEDLS', 2.0), ('TLEDLEQLK', 2.0), ('NLCQSL', 2.0), ('DVFREDLCSKT', 2.0), ('FWAQNFS', 2.0), ('VNGVNY', 2.0), ('AGDFKAGVAFFEA', 2.0), ('KLNCTS', 2.0), ('KESTNSMETRF', 2.0), ('LHSLAAEAL', 2.0), ('LQIPPEDL', 2.0), ('QIPPEDLI', 2.0), ('EHAGVISVL', 2.0), ('PLEAERPL', 2.0), ('APGPLELDL', 2.0), ('LGYVSSSVL', 2.0), ('HRDDRLL', 2.0), ('CPLPATIPI', 2.0), ('DRARFFL', 2.0), ('NIVTLHDI', 2.0), ('AEDIVHKI', 2.0), ('KKNVHGEI', 2.0), ('VHINITDAN', 2.0), ('MELYKKL', 2.0), ('SVVYSSIG', 2.0), ('RHIPCVSL', 2.0), ('SVYSSVILG', 2.0), ('HGNKEIVKY', 2.0), ('REAFRVFDKDGNG', 2.0), ('VGWSTQEE', 2.0), ('ALHAAAWKGY', 2.0), ('KEIRLEHEEGAPC', 2.0), ('EDIVHKIA', 2.0), ('RRQPPRDY', 2.0), ('LCRQRCAFSTLGR', 2.0), ('SFASTAVVSQEW', 2.0), ('NISYIGSRSDSN', 2.0), ('WKDTHPRGYGN', 2.0), ('KNHIDRVDAWVGT', 2.0), ('NKHDGALKN', 2.0), ('YGSLSGREKMMA', 2.0), ('NDRFANYIDKVR', 2.0), ('LVSTGPSSRSP', 2.0), ('RGASQAGMTGYGR', 2.0), ('LEVDVLEGTL', 2.0), ('GDAELLGQATL', 2.0), ('HPYIMTVGAVAGD', 2.0), ('QDQLWIGTKERTE', 2.0), ('DVLEGRTISV', 2.0), ('NTKEELIELKEEE', 2.0), ('YSEAHEISKEH', 2.0), ('EAWHTANAVFSP', 2.0), ('AMKGAGTDDHTLI', 2.0), ('AAQW', 2.0), ('EQDQLWIGTKERT', 2.0), ('NEEFRQVVNGYR', 2.0), ('RMLEE', 2.0), ('RPFEE', 2.0), ('ITVSSQSASSSEE', 2.0), ('AGCKVEA', 2.0), ('GKMLGGDEE', 2.0), ('EHWGLEE', 2.0), ('SNNVHAPFPSDK', 2.0), ('SQQAAHYM', 2.0), ('SNSQLMYGLPDS', 2.0), ('EKNRMPLPCHS', 2.0), ('RMDKAGQYTDK', 2.0), ('NMAKDVQNTFY', 2.0), ('RCQAAEPQIITGSH', 1.0), ('GGGVPTDEEQATGL', 1.0), ('AGAAGGPEEEAEKP', 1.0), ('LWEVVVQICSVSNQ', 1.0), ('MRIVQKHPHTGDGK', 1.0), ('VQEKSSGRTAHYKL', 1.0)]\n",
      "y results before filtering\n",
      "[('YLSRFGEVV', 9.0), ('LVV', 6.0), ('EDPV', 5.0), ('EPDV', 5.0), ('MDVPSV', 4.0), ('ILLYNGDV', 4.0), ('LASFIEQV', 4.0), ('LDNGLLYV', 4.0), ('YLYNVLER', 4.0), ('YSNVVFLEV', 4.0), ('YEKTCTLLV', 4.0), ('LEVAIQCLETAFGV', 4.0), ('EDV', 3.0), ('CHV', 3.0), ('PEV', 3.0), ('EPV', 3.0), ('HTV', 3.0), ('TCV', 3.0), ('MDV', 3.0), ('FNV', 3.0), ('QLV', 3.0), ('HSV', 3.0), ('LSV', 3.0), ('KGV', 3.0), ('TAV', 3.0), ('SSV', 3.0), ('DFV', 3.0), ('CTV', 3.0), ('VTV', 3.0), ('KDV', 3.0), ('ELV', 3.0), ('PIV', 3.0), ('SPV', 3.0), ('YNV', 3.0), ('SLV', 3.0), ('FEV', 3.0), ('PAV', 3.0), ('EFV', 3.0), ('GEV', 3.0), ('EVDP', 2.0), ('EPIWLTDVP', 2.0), ('EVPD', 2.0), ('HWEPEIPAPMS', 2.0), ('ETNLGMAKDMSP', 2.0), ('VVDNGSG', 2.0), ('SLSLHC', 2.0), ('KPFFHSLC', 2.0), ('ISHVTC', 2.0), ('SLDEVP', 2.0), ('LDHKTLYYDVEP', 2.0), ('TLASHHPADFTP', 2.0), ('LALIYNEA', 2.0), ('GMAEYLFDKHT', 2.0), ('GQTKTFAPE', 2.0), ('VGEYTPLRDED', 2.0), ('IGAVVAFVM', 2.0), ('VKSPGEAKSPA', 2.0), ('YGGSRDYYASR', 2.0), ('EEAKSPGEA', 2.0), ('SFSEQGIN', 2.0), ('EAITFCISSFHG', 2.0), ('PNRPPCRKNDD', 2.0), ('PARVVDERE', 2.0), ('EEFGALES', 2.0), ('LRDTFAAL', 2.0), ('LRVFDKE', 2.0), ('EEIELAYEQVA', 2.0), ('AGGPAPAAGAAPA', 2.0), ('LFRALTEG', 2.0), ('LEEFIKGA', 2.0), ('IGPEYKS', 2.0), ('IDIRNYI', 2.0), ('NAQNYQKL', 2.0), ('IRGEAFTL', 2.0), ('IITICKDT', 2.0), ('ITICKDTL', 2.0), ('LEPKYKE', 2.0), ('LYKAVQQG', 2.0), ('NCTSWIKFAEL', 2.0), ('LFWALAW', 2.0), ('LVDDLFKG', 2.0), ('LGVAEALHP', 2.0), ('PGDYSTTPGGTLF', 2.0), ('LDPGKLYT', 2.0), ('INLASFIE', 2.0), ('LMKWKNS', 2.0), ('LTKEKNSS', 2.0), ('LVSAFKNQ', 2.0), ('LFNGAKIGS', 2.0), ('LSNALSKSS', 2.0), ('LSGVFPSSL', 2.0), ('GIIDTLFQ', 2.0), ('NGEVIVEIPT', 2.0), ('QARESQLF', 2.0), ('EGISQRKFLDGNE', 2.0), ('RYMKMHL', 2.0), ('WEDKRWSRM', 2.0), ('SMDSKTDTLVQS', 2.0), ('GSITEVCITFDQ', 2.0), ('RYPRYHS', 2.0), ('DQTERIVEPPE', 2.0), ('SPLLGHFLEG', 2.0), ('ERHLMHLELDIS', 2.0), ('HGVRDYAAYNVLD', 2.0), ('AEETLP', 2.0), ('EALTEP', 2.0), ('EAELTP', 2.0), ('TEEQIAEFKEA', 2.0), ('PSADATEAYQEL', 2.0), ('GSNLYHVYEVN', 2.0), ('EEDVLYN', 2.0), ('EEGKSPSPS', 2.0), ('EEVSKDNP', 2.0), ('EPPMQASQSQLP', 2.0), ('RVTGEADVEFAT', 2.0), ('GQVITIGNERFRC', 2.0), ('LGNKTYEHFNA', 2.0), ('EKIVNPKGEEKPSM', 1.0), ('AKMDSTANEVEAVK', 1.0), ('ISPYFINTSKGQKC', 1.0), ('KAGDGSKKIKGCWD', 1.0)]\n",
      "b results after filtering\n",
      "[('DLTEYLSRFGE', 8.0), ('EVTESI', 7.0), ('LSEEELKQL', 6.0), ('TVEELHEPIPSLF', 6.0)]\n",
      "y results after filtering\n",
      "[('YLSRFGEVV', 9.0)]\n",
      "b results before filtering]\n",
      "[('ELDVEE', 9.0), ('TINEIE', 9.0), ('ELTNIE', 9.0), ('EEVV', 8.0), ('EVEV', 8.0), ('EIDV', 8.0), ('LDQTEQ', 7.0), ('ELNLT', 7.0), ('DLQTL', 7.0), ('EVQNEI', 7.0), ('TTPGT', 7.0), ('ELGGT', 7.0), ('LDEVKD', 7.0), ('PNDLIE', 7.0), ('EIQSL', 7.0), ('EKEALE', 7.0), ('EEAKL', 7.0), ('TLNEI', 7.0), ('TDIAGLE', 7.0), ('EEKAL', 7.0), ('TVEQI', 7.0), ('TLQEV', 7.0), ('EITNI', 7.0), ('EKVDVE', 7.0), ('EELLSQ', 7.0), ('EINETSGAI', 6.0), ('EVA', 6.0), ('EVG', 6.0), ('LEDVMDRIIQAD', 6.0), ('ELS', 6.0), ('TLE', 6.0), ('TIQ', 6.0), ('TTA', 6.0), ('SLADAINTE', 6.0), ('ESVAAKNLQEAEE', 6.0), ('VTEQGAELS', 6.0), ('ELA', 6.0), ('TIE', 6.0), ('TLD', 6.0), ('ELQ', 6.0), ('EVT', 6.0), ('EIV', 6.0), ('ELL', 6.0), ('ELE', 6.0), ('EIA', 6.0), ('EEI', 6.0), ('TLL', 6.0), ('EVV', 6.0), ('TLA', 6.0), ('TVL', 6.0), ('EVL', 6.0), ('EIL', 6.0), ('TTF', 6.0), ('EVI', 6.0), ('TVD', 6.0), ('EES', 6.0), ('TVT', 6.0), ('TIT', 6.0), ('TTL', 6.0), ('TLT', 6.0), ('TTI', 6.0), ('EVD', 6.0), ('EIE', 6.0), ('EII', 6.0), ('TFPFLHTPSLSNG', 6.0), ('EEG', 6.0), ('EEE', 6.0), ('EIP', 6.0), ('ELKEYESII', 6.0), ('EED', 6.0), ('TVR', 6.0), ('EVR', 6.0), ('EEF', 6.0), ('ENILT', 5.0), ('ENLT', 5.0), ('LENLT', 5.0), ('TGPTT', 5.0), ('DLGAT', 5.0), ('EGLGT', 5.0), ('VEQT', 5.0), ('NELTL', 5.0), ('QDITL', 5.0), ('NIETI', 5.0), ('EGIGT', 5.0), ('IDEV', 5.0), ('DLEV', 5.0), ('EDLV', 5.0), ('EDIV', 5.0), ('VEEV', 5.0), ('IEDV', 5.0), ('NPVEI', 5.0), ('VPENI', 5.0), ('ENPVL', 5.0), ('IDNPL', 5.0), ('PNVEL', 5.0), ('EKAEL', 5.0), ('TELNL', 5.0), ('TQLEV', 5.0), ('TENIL', 5.0), ('SIQEI', 5.0), ('LTENI', 5.0), ('EAEKI', 5.0), ('EQISL', 5.0), ('TQDLL', 5.0), ('SLEQL', 5.0), ('ESLQL', 5.0), ('TEVQL', 5.0), ('TNIEL', 5.0), ('LDTQL', 5.0), ('ISQEI', 5.0), ('LSQEL', 5.0), ('IEQSI', 5.0), ('TDQLL', 5.0), ('DIDKV', 5.0), ('IDWRE', 5.0), ('EQVNEL', 4.0), ('TASPEPV', 4.0), ('GGETLLSVRPM', 4.0), ('DQLTNDKARV', 4.0), ('GLGETL', 4.0), ('LNETEQ', 4.0), ('DGLTALE', 4.0), ('SPATTL', 4.0), ('TGTPIT', 4.0), ('GEGITI', 4.0), ('TGSPPATT', 4.0), ('TPRCNK', 4.0), ('TAEAVV', 4.0), ('SLQEEI', 4.0), ('ISGVDLD', 4.0), ('TGAEVSEQI', 4.0), ('SEIAGIE', 4.0), ('SDAALLRDT', 4.0), ('EGTAVI', 4.0), ('LSAGEL', 4.0), ('ISAEDARKHPFF', 4.0), ('TEGVAI', 4.0), ('LDKDDESLRKY', 4.0), ('EDKNDIPKDKSE', 4.0), ('LTAEGV', 4.0), ('LSPSSEV', 4.0), ('DLDKDDKI', 4.0), ('EDVIAQG', 4.0), ('IKDDVE', 4.0), ('LDSVGIEADDDRL', 4.0), ('TEQLTQEI', 4.0), ('TQELEN', 4.0), ('TAVAEEV', 4.0), ('IDKVDE', 4.0), ('TGEAIV', 4.0), ('LDDLPGA', 4.0), ('ISVDGID', 4.0), ('ITEQLD', 4.0), ('VELNPE', 4.0), ('QILESEKD', 4.0), ('DLLQTE', 4.0), ('TGLLADAALLSD', 4.0), ('EKIEAE', 4.0), ('EFFYLPEFLVN', 4.0), ('LSVREAREEAEE', 4.0), ('TSQLPGEVM', 4.0), ('TPEEKQTT', 4.0), ('TRDGVPSEAAEHL', 4.0), ('EKNVNQSLLD', 4.0), ('EDNKDLIQGK', 4.0), ('VEG', 3.0), ('EAG', 3.0), ('LDA', 3.0), ('TPT', 3.0), ('LEG', 3.0), ('TSP', 3.0), ('DLA', 3.0), ('DIA', 3.0), ('TPS', 3.0), ('EGG', 3.0), ('TPG', 3.0), ('EAV', 3.0), ('TSA', 3.0), ('EGV', 3.0), ('VPG', 3.0), ('LDN', 3.0), ('LDG', 3.0), ('NPE', 3.0), ('DLN', 3.0), ('PVQ', 3.0), ('EAA', 3.0), ('LEQ', 3.0), ('TDL', 3.0), ('LET', 3.0), ('ETV', 3.0), ('EAK', 3.0), ('IES', 3.0), ('LTQ', 3.0), ('LSE', 3.0), ('EQL', 3.0), ('TNL', 3.0), ('VTG', 3.0), ('TGV', 3.0), ('ETA', 3.0), ('TAG', 3.0), ('EQS', 3.0), ('LSG', 3.0), ('LTN', 3.0), ('LTG', 3.0), ('LES', 3.0), ('TQI', 3.0), ('EAS', 3.0), ('ETI', 3.0), ('ETL', 3.0), ('VEA', 3.0), ('LSD', 3.0), ('TDA', 3.0), ('TCR', 3.0), ('DLT', 3.0), ('LSS', 3.0), ('ISS', 3.0), ('EAL', 3.0), ('VTD', 3.0), ('DLK', 3.0), ('VEK', 3.0), ('SLP', 3.0), ('IDD', 3.0), ('VPS', 3.0), ('TEA', 3.0), ('DIV', 3.0), ('ISD', 3.0), ('VED', 3.0), ('TEP', 3.0), ('VPD', 3.0), ('EKP', 3.0), ('EPP', 3.0), ('IDL', 3.0), ('LEK', 3.0), ('LEE', 3.0), ('SLL', 3.0), ('VER', 3.0), ('ITI', 3.0), ('EKL', 3.0), ('SII', 3.0), ('TAL', 3.0), ('EKG', 3.0), ('IEI', 3.0), ('NPH', 3.0), ('VPV', 3.0), ('LEP', 3.0), ('TWQ', 3.0), ('TPP', 3.0), ('LTL', 3.0), ('ESE', 3.0), ('VEV', 3.0), ('VPP', 3.0), ('PVP', 3.0), ('PVA', 3.0), ('VPA', 3.0), ('VTS', 3.0), ('VTV', 3.0), ('SLS', 3.0), ('ISI', 3.0), ('LTV', 3.0), ('LSI', 3.0), ('SLV', 3.0), ('SLI', 3.0), ('LSL', 3.0), ('LST', 3.0), ('TSV', 3.0), ('NPP', 3.0), ('PNP', 3.0), ('LTT', 3.0), ('LEV', 3.0), ('LDV', 3.0), ('IEE', 3.0), ('LEL', 3.0), ('EHL', 3.0), ('ESS', 3.0), ('EKD', 3.0), ('TSK', 3.0), ('ERA', 3.0), ('TKE', 3.0), ('EYF', 3.0), ('EQG', 3.0), ('EQE', 3.0), ('LTS', 3.0), ('TGF', 3.0), ('TYE', 3.0), ('SIG', 3.0), ('TQR', 3.0), ('ERL', 3.0), ('PVS', 3.0), ('TGI', 3.0), ('TAA', 3.0), ('LER', 3.0), ('LTW', 3.0), ('NPA', 3.0), ('DLF', 3.0), ('ERI', 3.0), ('EKQ', 3.0), ('ERH', 3.0), ('TFD', 3.0), ('LSK', 3.0), ('TKD', 3.0), ('LSN', 3.0), ('TNS', 3.0), ('EPR', 3.0), ('ISR', 3.0), ('GPGNP', 2.0), ('GGPDI', 2.0), ('PGGLEV', 2.0), ('ADVAT', 2.0), ('IQDT', 2.0), ('INET', 2.0), ('QLDQEV', 2.0), ('QEVT', 2.0), ('LQDAEIARLM', 2.0), ('NEIDKD', 2.0), ('NLEKETDWVRQ', 2.0), ('QDLT', 2.0), ('PTSAPV', 2.0), ('LGEGT', 2.0), ('GADLLT', 2.0), ('DGALT', 2.0), ('IGADT', 2.0), ('LGGTEEL', 2.0), ('PATST', 2.0), ('GVAET', 2.0), ('VAGLTEE', 2.0), ('LGDTAL', 2.0), ('QIDDGW', 2.0), ('AAVDT', 2.0), ('ATPST', 2.0), ('AVDAT', 2.0), ('ALGNHSADL', 2.0), ('ALDGGRSLEEL', 2.0), ('SPTAT', 2.0), ('AEVLARVDWTEE', 2.0), ('ADIGCTPG', 2.0), ('GLDPVAE', 2.0), ('AVEALSSLDG', 2.0), ('GDIAT', 2.0), ('GVEAT', 2.0), ('DEIV', 2.0), ('DELV', 2.0), ('YLYL', 2.0), ('NIDPL', 2.0), ('HCKAL', 2.0), ('GPVDAL', 2.0), ('LYYAQFE', 2.0), ('IYYL', 2.0), ('YIYL', 2.0), ('PSSISWDGL', 2.0), ('INPDDRVFEQGGA', 2.0), ('VDQPL', 2.0), ('IGPPTTAIQEP', 2.0), ('PDNLL', 2.0), ('QDPVL', 2.0), ('NLDPL', 2.0), ('LNPSDVSMV', 2.0), ('PPGLREKAEY', 2.0), ('PTGSPL', 2.0), ('DPLNL', 2.0), ('PENVL', 2.0), ('LPNDL', 2.0), ('KEAEL', 2.0), ('SQLEI', 2.0), ('ASDLAL', 2.0), ('NITEL', 2.0), ('DDKIEN', 2.0), ('QELTDQ', 2.0), ('QLTEPSG', 2.0), ('AEEKL', 2.0), ('LQESL', 2.0), ('AEIGSL', 2.0), ('SQELI', 2.0), ('VDKDL', 2.0), ('VSAEAL', 2.0), ('GATELQD', 2.0), ('QDTLQE', 2.0), ('NLTEL', 2.0), ('DKVEV', 2.0), ('DKDVL', 2.0), ('SAGELL', 2.0), ('VSDGVI', 2.0), ('SADALL', 2.0), ('AEAVVTE', 2.0), ('DTALGI', 2.0), ('AEKEEL', 2.0), ('SGVVDL', 2.0), ('SVAEAL', 2.0), ('SSSLPDI', 2.0), ('ATEAVLISRAE', 2.0), ('PSVSSL', 2.0), ('GSLEAEQ', 2.0), ('AAESLV', 2.0), ('WREEQKKR', 2.0), ('KEDLLEERKEE', 2.0), ('VGSLDNVGH', 2.0), ('REWV', 2.0), ('SAIEAELEKVA', 2.0), ('SAEVLAE', 2.0), ('KEVDV', 2.0), ('VVGDTV', 2.0), ('VGDSIV', 2.0), ('DDLKSELTGKFE', 2.0), ('SDGVLDEQELEAL', 2.0), ('VVADSV', 2.0), ('DVGTVV', 2.0), ('VLSPSSE', 2.0), ('LVDEKD', 2.0), ('VDEKDQ', 2.0), ('SMPREV', 2.0), ('SVDQDLGPEVPPE', 2.0), ('DKLDV', 2.0), ('GDSVLV', 2.0), ('VSTPSV', 2.0), ('KAICHF', 2.0), ('QPGSITEVC', 2.0), ('PKEPTE', 2.0), ('LVPENE', 2.0), ('VIDQPE', 2.0), ('PTETNLGMA', 2.0), ('PLSSAPE', 2.0), ('SPLPSASTISVT', 2.0), ('LPGPST', 2.0), ('NGRGAPE', 2.0), ('AVGLDPE', 2.0), ('DVLELTDE', 2.0), ('VLTSDQSSP', 2.0), ('SALLGEE', 2.0), ('DTGLLADAALLS', 2.0), ('YGPRPE', 2.0), ('APVPVDC', 2.0), ('YRHPGA', 2.0), ('RFHCVGGSV', 2.0), ('KHYDRAKEL', 2.0), ('RNIDNSDK', 2.0), ('LRQGNMTAA', 2.0), ('VAPPMEEEIVPGN', 2.0), ('IMRLDLAGRD', 2.0), ('MRLDLAGRDL', 2.0), ('QFFEIWLHFD', 2.0), ('DGHLYE', 2.0), ('GVHYISVSAAR', 2.0), ('HVEGVNLATLA', 2.0), ('HGEIIYPEICML', 2.0), ('DVELTVEE', 2.0), ('HRYSVRDAR', 2.0), ('NRWEE', 2.0), ('LLEETPEEKQTT', 2.0), ('AGKDGVANVSIE', 2.0), ('SYVYLSMA', 2.0), ('ANNVLSGGTT', 2.0), ('RSAQEEITEYR', 2.0), ('GQAQTAVSTVPT', 2.0), ('FENKPPTE', 2.0), ('KGGVEDEVT', 2.0), ('DSLNVADLS', 2.0), ('FDLCHVLLSL', 2.0), ('ACPDPAPVQLI', 2.0), ('FSTNMALNIL', 2.0), ('DTEAALAKDIEEI', 2.0), ('SSHELFITLL', 2.0), ('RQVVAEECVAFM', 2.0), ('FDGVQDPRIL', 2.0), ('NALKSWNETFHA', 2.0), ('CRIGFGPSPFSLT', 2.0), ('MEQRLEQGQAID', 2.0), ('RSVSLVEGDTP', 2.0), ('NTNIQWSAIL', 2.0), ('PTNASAPQKPIYM', 2.0), ('MQLDVNAKIQEE', 2.0), ('ASADLSRSKTTSAS', 1.0), ('RMPSESAAQSLAVA', 1.0), ('GVNISDEQLGSIAD', 1.0), ('AETPGAVSPNQPHL', 1.0), ('DESGKGKGIAGRQD', 1.0)]\n",
      "y results before filtering\n",
      "[('INPDL', 7.0), ('INPVE', 7.0), ('LPNDL', 7.0), ('NVE', 6.0), ('EDL', 6.0), ('LDL', 6.0), ('DDI', 6.0), ('IDL', 6.0), ('LVE', 6.0), ('IYYL', 5.0), ('SHYYI', 5.0), ('LENPV', 5.0), ('IDNPL', 5.0), ('LDQVP', 5.0), ('INPEV', 5.0), ('IPVNE', 5.0), ('VDQPL', 5.0), ('VPENI', 5.0), ('SSLPAMGPPS', 4.0), ('LPTGSP', 4.0), ('PSATSPGP', 4.0), ('WGLPGPS', 4.0), ('QGKEVGETLLYY', 4.0), ('KLTMIPQDPV', 4.0), ('LVPGGE', 4.0), ('EVLQDP', 4.0), ('GIIDSPDNL', 4.0), ('VELNPE', 4.0), ('AATLEPPSSA', 4.0), ('NENEPL', 4.0), ('PTTGSPENL', 4.0), ('SAERPLNE', 4.0), ('SEALAGAPLD', 4.0), ('IMPCKYGQPVID', 4.0), ('PMNPATTLPSL', 4.0), ('QLENVLDDLDPE', 4.0), ('AEWHSHL', 4.0), ('ILTEEKMEL', 4.0), ('ILFNNVDGHL', 4.0), ('LLAAASAAVPEE', 4.0), ('PSP', 3.0), ('DPL', 3.0), ('APE', 3.0), ('PAE', 3.0), ('ASP', 3.0), ('EVP', 3.0), ('VPE', 3.0), ('TPS', 3.0), ('NLD', 3.0), ('PNL', 3.0), ('LGE', 3.0), ('VQE', 3.0), ('PEI', 3.0), ('IPE', 3.0), ('PEL', 3.0), ('EPV', 3.0), ('QEV', 3.0), ('DQL', 3.0), ('LPE', 3.0), ('KAL', 3.0), ('LPS', 3.0), ('IPV', 3.0), ('NLL', 3.0), ('LPV', 3.0), ('GPI', 3.0), ('PVL', 3.0), ('SPL', 3.0), ('PTE', 3.0), ('GSL', 3.0), ('SAE', 3.0), ('KSP', 3.0), ('QME', 3.0), ('EVL', 3.0), ('VAE', 3.0), ('LIE', 3.0), ('SPV', 3.0), ('TPL', 3.0), ('VPS', 3.0), ('ATL', 3.0), ('TSL', 3.0), ('TPV', 3.0), ('TVP', 3.0), ('SLL', 3.0), ('PLL', 3.0), ('LSP', 3.0), ('IPS', 3.0), ('PSI', 3.0), ('ISP', 3.0), ('LHL', 3.0), ('HLL', 3.0), ('SHI', 3.0), ('VFE', 3.0), ('EPE', 3.0), ('KLD', 3.0), ('SKE', 3.0), ('PRE', 3.0), ('PKE', 3.0), ('KEE', 3.0), ('TEE', 3.0), ('EKE', 3.0), ('DVP', 3.0), ('SSE', 3.0), ('VLL', 3.0), ('EAL', 3.0), ('NLE', 3.0), ('ESE', 3.0), ('TEV', 3.0), ('SFL', 3.0), ('SNE', 3.0), ('IYI', 3.0), ('EEV', 3.0), ('ADE', 3.0), ('SPE', 3.0), ('LRE', 3.0), ('DID', 3.0), ('ELL', 3.0), ('HSL', 3.0), ('FGE', 3.0), ('FSP', 3.0), ('VLE', 3.0), ('FEE', 3.0), ('KAE', 3.0), ('LTL', 3.0), ('PGE', 3.0), ('LLD', 3.0), ('TLL', 3.0), ('PPE', 3.0), ('SRE', 3.0), ('QNI', 3.0), ('INI', 3.0), ('AVP', 3.0), ('GLL', 3.0), ('AGL', 3.0), ('ASE', 3.0), ('EEL', 3.0), ('SDE', 3.0), ('ISE', 3.0), ('DTL', 3.0), ('TSPPG', 2.0), ('TPSGP', 2.0), ('TGSPP', 2.0), ('IYLY', 2.0), ('VQIDP', 2.0), ('EQYIY', 2.0), ('DEIKPSSAP', 2.0), ('IVAELTGDNIP', 2.0), ('VIDQP', 2.0), ('IKHAC', 2.0), ('IGIDPG', 2.0), ('IEIGPDG', 2.0), ('LLNDP', 2.0), ('LNDLP', 2.0), ('LVPEN', 2.0), ('VDYSITRAEPVN', 2.0), ('LSPPGT', 2.0), ('ISSAPP', 2.0), ('LQVPD', 2.0), ('PTSWQLDP', 2.0), ('VELNP', 2.0), ('VSAVEDPVQ', 2.0), ('LPDVQ', 2.0), ('LEQVDP', 2.0), ('EDIPLN', 2.0), ('LPGPST', 2.0), ('LGPSTP', 2.0), ('LEDNLP', 2.0), ('SPMRQVEP', 2.0), ('VETRLPND', 2.0), ('LDDLPGA', 2.0), ('IDIENP', 2.0), ('NVTELNEP', 2.0), ('VDVPAA', 2.0), ('VPDIQ', 2.0), ('VDIPQ', 2.0), ('DQRCPP', 2.0), ('VCRPP', 2.0), ('PYFDPLQ', 2.0), ('VPCPR', 2.0), ('EAATPPP', 2.0), ('NFSVAYKD', 2.0), ('STKAF', 2.0), ('EKKYD', 2.0), ('EFCRK', 2.0), ('FCRKF', 2.0), ('EPEKPT', 2.0), ('ESQPPEKT', 2.0), ('NFPVSHKDFIGC', 2.0), ('GYGGGRF', 2.0), ('LCRQYSDAPPLT', 2.0), ('PDSPGIPPWQQAA', 2.0), ('NFFPYGDASKFA', 2.0), ('YRHFWA', 2.0), ('DAQGDIPVT', 2.0), ('VVPYLEDLHG', 2.0), ('NNLCLH', 2.0), ('GRGGHIAKDCK', 2.0), ('SLLNCHTQ', 2.0), ('SLYANNHP', 2.0), ('LSAEIMDH', 2.0), ('LLFVSSGPTNA', 2.0), ('ILISMETDLA', 2.0), ('ILYPATTGRN', 2.0), ('EEFEKNKGKGFS', 2.0), ('LLISCLQSAAS', 2.0), ('LLGTEKCVWG', 2.0), ('LIQWITTQC', 2.0), ('LIGKTSEMAR', 2.0), ('IIKGFTFTNT', 2.0), ('LLFLWESHP', 2.0), ('ILAFHYLHAG', 2.0), ('VVISFYEER', 2.0), ('EEKGPEVKEYR', 2.0), ('YMYLSPLQQAVS', 2.0), ('EEREHAEKLMK', 2.0), ('EEEFKKFISDK', 2.0), ('AGGWLLTAEAQEPG', 1.0), ('GIGTVGISNFAQEA', 1.0)]\n",
      "b results after filtering\n",
      "[('ELDVEE', 9.0), ('TINEIE', 9.0), ('ELTNIE', 9.0), ('EEVV', 8.0), ('EVEV', 8.0), ('EIDV', 8.0)]\n",
      "y results after filtering\n",
      "[('INPDL', 7.0), ('INPVE', 7.0), ('LPNDL', 7.0)]\n"
     ]
    },
    {
     "name": "stdout",
     "output_type": "stream",
     "text": [
      "\n",
      "Finished search. Writting results to /Users/zacharymcgrath/Desktop/Experiment output/singleReal/...\n",
      "Could not make an alignment for 0/4 spectra (0%)\n"
     ]
    }
   ],
   "source": [
    "import time\n",
    "st = time.time()\n",
    "runner.run(params)\n",
    "ttime = time.time() - st"
   ]
  },
  {
   "cell_type": "code",
   "execution_count": 5,
   "metadata": {},
   "outputs": [
    {
     "name": "stdout",
     "output_type": "stream",
     "text": [
      "TIME: 46.83019709587097s\n"
     ]
    }
   ],
   "source": [
    "print(f'TIME: {ttime}s')"
   ]
  },
  {
   "cell_type": "markdown",
   "metadata": {},
   "source": [
    "## Load and read results"
   ]
  },
  {
   "cell_type": "code",
   "execution_count": 6,
   "metadata": {},
   "outputs": [],
   "source": [
    "import pandas as pd\n",
    "\n",
    "outputFile = '/Users/zacharymcgrath/Desktop/Experiment output/singleReal/summary.tsv'\n",
    "hybridOutputFile = '/Users/zacharymcgrath/Desktop/Experiment output/singleReal/hybrid_summary.tsv'"
   ]
  },
  {
   "cell_type": "code",
   "execution_count": 7,
   "metadata": {},
   "outputs": [],
   "source": [
    "df = pd.read_csv(outputFile, sep='\\t')\n",
    "hdf = pd.read_csv(hybridOutputFile, sep='\\t')"
   ]
  },
  {
   "cell_type": "code",
   "execution_count": 8,
   "metadata": {},
   "outputs": [
    {
     "data": {
      "text/html": [
       "<div>\n",
       "<style scoped>\n",
       "    .dataframe tbody tr th:only-of-type {\n",
       "        vertical-align: middle;\n",
       "    }\n",
       "\n",
       "    .dataframe tbody tr th {\n",
       "        vertical-align: top;\n",
       "    }\n",
       "\n",
       "    .dataframe thead th {\n",
       "        text-align: right;\n",
       "    }\n",
       "</style>\n",
       "<table border=\"1\" class=\"dataframe\">\n",
       "  <thead>\n",
       "    <tr style=\"text-align: right;\">\n",
       "      <th></th>\n",
       "      <th>Unnamed: 0</th>\n",
       "      <th>left_proteins</th>\n",
       "      <th>right_proteins</th>\n",
       "      <th>sequence</th>\n",
       "      <th>hybrid_sequence</th>\n",
       "      <th>b_score</th>\n",
       "      <th>y_score</th>\n",
       "      <th>total_score</th>\n",
       "      <th>precursor_distance</th>\n",
       "      <th>entry name</th>\n",
       "      <th>id</th>\n",
       "    </tr>\n",
       "  </thead>\n",
       "  <tbody>\n",
       "    <tr>\n",
       "      <td>0</td>\n",
       "      <td>0</td>\n",
       "      <td>['INS2_MOUSE Insulin-2', 'INS1_MOUSE Insulin-1']</td>\n",
       "      <td>['CMGA_MOUSE Chromogranin-A', 'ANKS6_MOUSE Ank...</td>\n",
       "      <td>DLQTLALWSRM</td>\n",
       "      <td>DLQTLAL-WSRM</td>\n",
       "      <td>1.60</td>\n",
       "      <td>3.20</td>\n",
       "      <td>7.2</td>\n",
       "      <td>0.350280</td>\n",
       "      <td>/Users/zacharymcgrath/Desktop/nod2 data/single...</td>\n",
       "      <td>scan=10130</td>\n",
       "    </tr>\n",
       "    <tr>\n",
       "      <td>1</td>\n",
       "      <td>1</td>\n",
       "      <td>['CO3_MOUSE Complement C3']</td>\n",
       "      <td>['PERI_MOUSE Peripherin', 'KV5A2_MOUSE Ig kapp...</td>\n",
       "      <td>ELTNIEDL</td>\n",
       "      <td>ELTNI(E)DL</td>\n",
       "      <td>2.84</td>\n",
       "      <td>1.12</td>\n",
       "      <td>4.4</td>\n",
       "      <td>0.740022</td>\n",
       "      <td>/Users/zacharymcgrath/Desktop/nod2 data/single...</td>\n",
       "      <td>NOD2_E3.11427.11516.2.pkl</td>\n",
       "    </tr>\n",
       "  </tbody>\n",
       "</table>\n",
       "</div>"
      ],
      "text/plain": [
       "   Unnamed: 0                                     left_proteins  \\\n",
       "0           0  ['INS2_MOUSE Insulin-2', 'INS1_MOUSE Insulin-1']   \n",
       "1           1                       ['CO3_MOUSE Complement C3']   \n",
       "\n",
       "                                      right_proteins     sequence  \\\n",
       "0  ['CMGA_MOUSE Chromogranin-A', 'ANKS6_MOUSE Ank...  DLQTLALWSRM   \n",
       "1  ['PERI_MOUSE Peripherin', 'KV5A2_MOUSE Ig kapp...     ELTNIEDL   \n",
       "\n",
       "  hybrid_sequence  b_score  y_score  total_score  precursor_distance  \\\n",
       "0    DLQTLAL-WSRM     1.60     3.20          7.2            0.350280   \n",
       "1      ELTNI(E)DL     2.84     1.12          4.4            0.740022   \n",
       "\n",
       "                                          entry name  \\\n",
       "0  /Users/zacharymcgrath/Desktop/nod2 data/single...   \n",
       "1  /Users/zacharymcgrath/Desktop/nod2 data/single...   \n",
       "\n",
       "                          id  \n",
       "0                 scan=10130  \n",
       "1  NOD2_E3.11427.11516.2.pkl  "
      ]
     },
     "execution_count": 8,
     "metadata": {},
     "output_type": "execute_result"
    }
   ],
   "source": [
    "hdf.head(2)"
   ]
  },
  {
   "cell_type": "code",
   "execution_count": 9,
   "metadata": {},
   "outputs": [
    {
     "data": {
      "text/html": [
       "<div>\n",
       "<style scoped>\n",
       "    .dataframe tbody tr th:only-of-type {\n",
       "        vertical-align: middle;\n",
       "    }\n",
       "\n",
       "    .dataframe tbody tr th {\n",
       "        vertical-align: top;\n",
       "    }\n",
       "\n",
       "    .dataframe thead th {\n",
       "        text-align: right;\n",
       "    }\n",
       "</style>\n",
       "<table border=\"1\" class=\"dataframe\">\n",
       "  <thead>\n",
       "    <tr style=\"text-align: right;\">\n",
       "      <th></th>\n",
       "      <th>Unnamed: 0</th>\n",
       "      <th>proteins</th>\n",
       "      <th>sequence</th>\n",
       "      <th>b_score</th>\n",
       "      <th>y_score</th>\n",
       "      <th>total_score</th>\n",
       "      <th>precursor_distance</th>\n",
       "      <th>entry name</th>\n",
       "      <th>id</th>\n",
       "    </tr>\n",
       "  </thead>\n",
       "  <tbody>\n",
       "    <tr>\n",
       "      <td>0</td>\n",
       "      <td>0</td>\n",
       "      <td>['INS1_MOUSE Insulin-1']</td>\n",
       "      <td>DPQVEQLEL</td>\n",
       "      <td>4.00</td>\n",
       "      <td>1.00</td>\n",
       "      <td>6.00</td>\n",
       "      <td>0.771854</td>\n",
       "      <td>/Users/zacharymcgrath/Desktop/nod2 data/single...</td>\n",
       "      <td>NOD2_E3.13446.13477.2.pkl</td>\n",
       "    </tr>\n",
       "    <tr>\n",
       "      <td>1</td>\n",
       "      <td>1</td>\n",
       "      <td>['HNRDL_MOUSE Heterogeneous nuclear ribonucleo...</td>\n",
       "      <td>DLTEYLSRFGEVV</td>\n",
       "      <td>1.64</td>\n",
       "      <td>1.64</td>\n",
       "      <td>4.64</td>\n",
       "      <td>0.388109</td>\n",
       "      <td>/Users/zacharymcgrath/Desktop/nod2 data/single...</td>\n",
       "      <td>scan=11410</td>\n",
       "    </tr>\n",
       "  </tbody>\n",
       "</table>\n",
       "</div>"
      ],
      "text/plain": [
       "   Unnamed: 0                                           proteins  \\\n",
       "0           0                           ['INS1_MOUSE Insulin-1']   \n",
       "1           1  ['HNRDL_MOUSE Heterogeneous nuclear ribonucleo...   \n",
       "\n",
       "        sequence  b_score  y_score  total_score  precursor_distance  \\\n",
       "0      DPQVEQLEL     4.00     1.00         6.00            0.771854   \n",
       "1  DLTEYLSRFGEVV     1.64     1.64         4.64            0.388109   \n",
       "\n",
       "                                          entry name  \\\n",
       "0  /Users/zacharymcgrath/Desktop/nod2 data/single...   \n",
       "1  /Users/zacharymcgrath/Desktop/nod2 data/single...   \n",
       "\n",
       "                          id  \n",
       "0  NOD2_E3.13446.13477.2.pkl  \n",
       "1                 scan=11410  "
      ]
     },
     "execution_count": 9,
     "metadata": {},
     "output_type": "execute_result"
    }
   ],
   "source": [
    "df.head(2)"
   ]
  },
  {
   "cell_type": "code",
   "execution_count": 9,
   "metadata": {},
   "outputs": [],
   "source": [
    "import json\n",
    "\n",
    "s = json.load(open('/Users/zacharymcgrath/Desktop/Experiment output/singleReal/summary.json', 'r'))"
   ]
  },
  {
   "cell_type": "code",
   "execution_count": 10,
   "metadata": {},
   "outputs": [
    {
     "name": "stdout",
     "output_type": "stream",
     "text": [
      "DLQTLALWSRM\n",
      "DLQTLALEFGLGG\n",
      "DLQTLALGQIFD\n",
      "DLTEYLSRFGEVV\n",
      "DLTEYLSRFGEVV\n",
      "DLTEYLSRFGEVV\n",
      "TINEIEDL\n",
      "ELTNIEDI\n",
      "TINEIEDI\n"
     ]
    }
   ],
   "source": [
    "for k, v in s.items():\n",
    "    for a in v['alignments']:\n",
    "        print(a['sequence'])\n"
   ]
  },
  {
   "cell_type": "code",
   "execution_count": null,
   "metadata": {},
   "outputs": [],
   "source": []
  }
 ],
 "metadata": {
  "kernelspec": {
   "display_name": "Python 3",
   "language": "python",
   "name": "python3"
  },
  "language_info": {
   "codemirror_mode": {
    "name": "ipython",
    "version": 3
   },
   "file_extension": ".py",
   "mimetype": "text/x-python",
   "name": "python",
   "nbconvert_exporter": "python",
   "pygments_lexer": "ipython3",
   "version": "3.7.4"
  }
 },
 "nbformat": 4,
 "nbformat_minor": 4
}

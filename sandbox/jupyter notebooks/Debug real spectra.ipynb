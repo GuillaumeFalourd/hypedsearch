{
 "cells": [
  {
   "cell_type": "markdown",
   "metadata": {},
   "source": [
    "# Debug the real spectra\n",
    "\n",
    "So it doesn't work well with real data, so having taken out one example of real data, the sequence is\n",
    "\n",
    "Non hybrid:\n",
    "```\n",
    "DLPVNSPMTKG\n",
    "```\n",
    "\n",
    "Non hybrid: \n",
    "```\n",
    "DAAIVGYK\n",
    "```\n",
    "\n",
    "Non hybrid:\n",
    "```\n",
    "DEAPNFEANTTIGRIRFH\n",
    "```\n",
    "\n",
    "Non hybrid:\n",
    "``` \n",
    "DPQVEQLEL\n",
    "```\n",
    "\n",
    "Hybrid 1: \n",
    "```\n",
    "DLQTLALWSRM\n",
    "```\n",
    "\n",
    "Non hybrid:\n",
    "```\n",
    "DLTEYLSRFGEVV\n",
    "```\n",
    "\n",
    "Hybrid 2:\n",
    "```\n",
    "DLQTLEVE\n",
    "```\n",
    "\n",
    "Non Hybrid:\n",
    "```\n",
    "DLSSASAIMGNAKVKAHGKKVITAFN\n",
    "```\n",
    "\n",
    "Non hybrid:\n",
    "```\n",
    "EEILKAFKLF\n",
    "```\n",
    "\n",
    "so toy with the tool until we find out whats wrong"
   ]
  },
  {
   "cell_type": "markdown",
   "metadata": {},
   "source": [
    "## Load params and run"
   ]
  },
  {
   "cell_type": "code",
   "execution_count": 1,
   "metadata": {},
   "outputs": [],
   "source": [
    "import os\n",
    "import sys\n",
    "module_path = os.path.abspath(os.path.join('..'))\n",
    "if module_path not in sys.path:\n",
    "    sys.path.append(module_path)\n",
    "module_path = os.path.abspath(os.path.join('../..'))\n",
    "if module_path not in sys.path:\n",
    "    sys.path.append(module_path)\n",
    "    \n",
    "from src import runner\n",
    "    "
   ]
  },
  {
   "cell_type": "code",
   "execution_count": 2,
   "metadata": {},
   "outputs": [],
   "source": [
    "specPath = '/Users/zacharymcgrath/Desktop/nod2 data/single/'\n",
    "fastaPath = '/Users/zacharymcgrath/Desktop/nod2 data/filteredNOD2.fasta'\n",
    "outputDir = '/Users/zacharymcgrath/Desktop/Experiment output/singleReal/'\n",
    "minPep = 3\n",
    "maxPep = 30\n",
    "tolerance = 20\n",
    "relative_abundance_filter = 0.0\n",
    "precursor_tolerance = 3\n",
    "peak_filter = 25\n",
    "verbose = True\n",
    "scoringAlg = 'ion'"
   ]
  },
  {
   "cell_type": "code",
   "execution_count": 3,
   "metadata": {},
   "outputs": [],
   "source": [
    "params = {\n",
    "    'spectra_folder': specPath,\n",
    "    'database_file': fastaPath,\n",
    "    'output_dir': outputDir,\n",
    "    'min_peptide_len': minPep,\n",
    "    'max_peptide_len': maxPep,\n",
    "    'tolerance': tolerance,\n",
    "    'precursor_tolerance': precursor_tolerance,\n",
    "    'peak_filter': peak_filter, \n",
    "    'relative_abundance_filter': relative_abundance_filter,\n",
    "    'verbose': verbose, \n",
    "    'scoring_alg': scoringAlg, \n",
    "    'DEBUG': True\n",
    "}"
   ]
  },
  {
   "cell_type": "code",
   "execution_count": 4,
   "metadata": {},
   "outputs": [
    {
     "name": "stdout",
     "output_type": "stream",
     "text": [
      "Loading database...\n",
      "Adding protein 279/279 to tree\n",
      "Done.\n",
      "Building hashes for kmers...\n",
      "Looking at protein 279/279\n",
      "Done.\n",
      "Analyzing spectra file 1/1[0%]\n",
      "\n",
      "B results before filtering:\n",
      "[('EVDICTVGL', 5), ('HRYVEVF', 4), ('EVVEEAENGRDAPA', 4), ('KAAGWSELS', 4), ('KKLDLNCD', 4), ('LSEGLTTLD', 4), ('KTFSHELS', 4), ('LSISADIET', 4), ('KKDRESGE', 4), ('LPDDINVY', 3), ('VPENIPAGSSI', 3), ('LDPVEKDDNNMPV', 3), ('LDEV', 3), ('NWRENEYLTLQVPAF', 3), ('DDLINY', 3), ('EDLVSQGFTEFTI', 3), ('DILD', 3), ('YHRFTLDEKNY', 3), ('EDVLYN', 3), ('EVEV', 3), ('WRNVNGVNYASVTRNQ', 3), ('VELD', 3), ('LDVE', 3), ('DLVE', 3), ('IDLD', 3), ('HSLGAYIST', 3), ('KHAEGQ', 3), ('VTHQDIRSQ', 3), ('KSSDNRSR', 3), ('KEFQLSAQ', 3), ('KQFHFKD', 3), ('QQLYGRSP', 3), ('KGPEVKEY', 3), ('EGVGHFFR', 3), ('ADVSGKQFP', 3), ('GEEGGAAGLWVRSGAA', 3), ('GLGMEVFPV', 3), ('ELHQEPVP', 3), ('PIYMVMVP', 3), ('KMAEMLVQ', 3), ('KNMACVQR', 3), ('GLATAASYPV', 3), ('KSGSLSIEE', 3), ('DICKEIVE', 3), ('MLLNELLC', 3), ('LLENMTEV', 3), ('KRSSQTQN', 3), ('MRLFVGEP', 3), ('DLADLSCLV', 3), ('SISADIETI', 3), ('VETDLVSW', 3), ('ITEKETVE', 3), ('EDQPIYLA', 3), ('KSHLMYAV', 3), ('FVRDLQGN', 3), ('LVQSNALTCHVCEA', 3), ('LDSTGSELK', 3), ('VESRQAPY', 3), ('AEEFANRLSKDAH', 3), ('RIMEKADS', 3), ('PVFEQAQYRETLREN', 3), ('IQTESPQEGIVTWKTY', 3), ('DAVAKASKDTHVMDYRA', 3), ('GRSRDY', 2), ('GSRNGKTSKKITISDCGQ', 2), ('SRGIPNMLLNDEE', 2), ('PVE', 2), ('DPISYHIS', 2), ('DIP', 2), ('PEVQQIMS', 2), ('PIDAPSPLENLEQKETP', 2), ('ELVD', 2), ('LLDD', 2), ('RGQDVGRY', 2), ('LDLEEALE', 2), ('DVLE', 2), ('EEVV', 2), ('LEVD', 2), ('LVED', 2), ('IEDV', 2), ('LEDV', 2), ('AAQW', 2), ('VDLE', 2), ('VLED', 2), ('VLDE', 2), ('LVDSSEVTV', 2), ('DEIV', 2), ('IEVD', 2), ('GVYH', 2), ('GNEKKIEM', 2), ('NREGFDFGVRQNGERV', 2), ('GAGKGTQCAR', 2), ('GRQDILDD', 2), ('ARDHGSPPL', 2), ('ASLGPIEDF', 2), ('SHIQSKCGSKDNIKHVP', 2), ('EHAKGAG', 2), ('TQHVSPMRQ', 2), ('ASGIGGMSRL', 2), ('SYSHIQSK', 2), ('TLHYKTDA', 2), ('IQHPGSAGVYETTQ', 2), ('LSQDFMILWLRGENGT', 2), ('SLTV', 2), ('LAHVFESF', 2), ('SSVSRGTAPS', 2), ('GNIISDAMK', 2), ('RAAQGRAYG', 2), ('FSNALEPDFKALSIAVTG', 2), ('ADKHQSLGGQYGVQ', 2), ('NVVEYIPD', 2), ('FQEKVQSLAYLRHSSS', 2), ('FLTQSPKE', 2), ('LQFGAEIGN', 2), ('PNAHIMYQIVEGN', 2), ('LFGSPEEGI', 2), ('FKNKDFAVDIIKSTHD', 2), ('GVTLTEKNS', 2), ('AYEPVWAI', 2), ('ELASSSRLS', 2), ('FEITPEGR', 2), ('NTEVLKNM', 2), ('YGKLFSAY', 2), ('AEYPFKPP', 2), ('LSDTHRALQLLHGGGCSL', 2), ('ENKPYALN', 2), ('NSSVVTETI', 2), ('AGLVFVSEAG', 2), ('PEFSKIQT', 2), ('YVSSLTEEISRRGAGTPG', 2), ('VKESKEET', 2), ('TLVMLDEQ', 2), ('RMIKCC', 2), ('LYSRMEASCLELA', 2), ('AGFRQKDQ', 2), ('ACKVLAQES', 2), ('YDKPVQTV', 2), ('TTAFSGIGGLSSQLPGGLGTG', 2), ('AFKFWNH', 2), ('STKESLER', 2), ('LPETFDAR', 2), ('TSRSQQEL', 2), ('ENVQKFPS', 2), ('TLDMLDLGA', 2), ('FVDNIFPP', 2), ('SNPAAIPHAA', 2), ('IFVSTHSGT', 2), ('AQAYDKPR', 2), ('SRTGRSRE', 2), ('AFQEALAAAG', 2), ('CRLQCALAA', 2), ('SAMNKVAEV', 2), ('ANAVFSPSR', 2), ('SALNLCQSL', 2), ('RSSQTQNK', 2), ('EKGKQLMD', 2), ('NETRTVTQ', 2), ('AAAFLAQQE', 2), ('DVPLLNDY', 2), ('TAALQTAMAA', 2), ('LEECVRSI', 2), ('MLARGTYH', 2), ('SPSSSARLGS', 2), ('AFTDRPEL', 2), ('ALLTSIDSE', 2), ('QQPAVFGTT', 2), ('EKVNCLDK', 2), ('MAASVDLEL', 2), ('KDKAASESI', 2), ('RELAMLLC', 2), ('PYEWIIQ', 2), ('SLGNVNFTV', 2), ('ILSGMGNGTV', 2), ('TISVTNQVS', 2), ('VKSHLMYA', 2), ('SGSPSSSARL', 2), ('RTNDVKES', 2), ('MTGAAEQIK', 2), ('EEGYPILQ', 2), ('LQAPLDYE', 2), ('PAEYPFKP', 2), ('DKRRCEAA', 2), ('RSTSPINSS', 2), ('GPNSFNKGK', 2), ('AETMTQRL', 2), ('LEHKSAHAG', 2), ('EHLYVAFA', 2), ('SSGKEGSVAK', 2), ('SVIDKASET', 2), ('TSPSTLVSTG', 2), ('ETRDVTTK', 2), ('PLCNTVRF', 2), ('VITAFNDGL', 2), ('FDFLHLTG', 2), ('ATVVESSEK', 2), ('SVLNWFSP', 2), ('TIFLEPET', 2), ('LQQMMSVL', 2), ('TSVTGSREI', 2), ('RGTVTDFPG', 2), ('ELQLHYF', 2), ('LITSSDGRT', 2), ('GGFRNAKEA', 2), ('TTFPNKEL', 2), ('NELPKYW', 2), ('SSPDLRGFA', 2), ('GQQELLYV', 2), ('VQSVDIAAF', 2), ('LVNREGFD', 2), ('FIQERAW', 2), ('SNKRSEASA', 2), ('AMVKRICE', 2), ('EQDQLWI', 2), ('EAGDYLVAI', 2), ('NEELDWNLLKPD', 2), ('DQESLRPS', 2), ('QDEPQSQWDKVK', 2), ('EGAVQVNFTLVRSSADAN', 2), ('ADAVAVTMGP', 2), ('LRMAYSEAGDYLV', 2), ('IRMLDQPFMTDIIEAS', 2), ('TLSVAE', 2), ('TVIS', 2), ('VTVT', 2), ('LSVT', 2), ('VTLPTVPGDYTAKVAGEGC', 2), ('IVTSTYKGGTG', 2), ('ISVT', 2), ('SLIS', 2), ('TVSI', 2), ('VRFPMMLPQELFELQ', 2), ('LRHGGLSCDAQESL', 2), ('IPVPED', 2), ('SQWKAAGFLFCVM', 2), ('DIALNHNSSL', 2), ('LWTEAGAQYELENALGI', 2), ('LVCLDGPGTG', 2), ('HVHNLVTM', 2), ('SFPTPLEHRSWE', 2), ('EEELKRFEEELAARE', 2), ('QQMKANDPSLQEV', 2), ('LDKACEPGV', 2), ('VEARDHGSPPLSASASVTV', 2), ('KDGFTEVQLSSVSPPSLS', 2), ('KSLPVSSCE', 2), ('RLLESSMDQLYVRRN', 2), ('LDTHPAMVTV', 2), ('VPSDQGEMALKMMKLVT', 2), ('ESNKKHPFPCPTT', 2), ('WAALGQRAPGGSPGSAGLVQ', 2), ('LWDWRTGYNFQRVH', 2), ('RGS', 1), ('PLD', 1), ('EIVHEPAH', 1), ('IDD', 1), ('EGR', 1), ('DLD', 1), ('DID', 1), ('LDD', 1), ('VED', 1), ('RGDKDFPP', 1), ('EVL', 1), ('DRNCSSITLQNITRGSI', 1), ('RDNLAQQS', 1), ('QLHHQNVSVPSNNVHAP', 1), ('HLQEYIE', 1), ('TLGSVPSPAC', 1), ('SLQ', 1), ('HSILAFHYLHAGLCGLQ', 1), ('SLA', 1), ('ALNQEFLATRSNEKQE', 1), ('TCKTV', 1), ('PHLCDFLETHYL', 1), ('MSSTFIGNSTAIQE', 1), ('YNASVSVPDSSGPERILS', 1), ('SGYLEGK', 1), ('GSGLENATIS', 1), ('AQPPATQNGSL', 1), ('KTM', 1), ('KLF', 1), ('FDVTSGK', 1), ('TGYQRQ', 1), ('FADLNHSK', 1), ('TNGEFGK', 1), ('DEDFVK', 1), ('LSS', 1), ('EEAEAPTGK', 1), ('LDF', 1), ('SVVDVT', 1), ('QEWESTSPPKPTV', 1), ('TTGLYPFEGDNIYKLF', 1), ('SIY', 1), ('TCMKAVT', 1), ('EVT', 1), ('FSTIPEHT', 1), ('IDG', 1), ('KSD', 1), ('KPH', 1), ('ASPEELSRYYASL', 1), ('PVP', 1), ('SLV', 1), ('TVK', 1), ('WNKAEQGV', 1), ('TGSLGINSVT', 1), ('DREREDEIEAII', 1), ('TVV', 1), ('KSE', 1), ('SLS', 1), ('EEN', 1), ('DAA', 1), ('EGG', 1), ('GEA', 1), ('EGD', 1), ('VPP', 1), ('VTS', 1), ('ISS', 1), ('MIR', 1), ('SVTYSL', 1), ('LSL', 1), ('RVF', 1), ('FRV', 1), ('VPL', 1), ('DLL', 1), ('VATLLDHDLS', 1), ('KET', 1), ('CKPSKG', 1), ('KEL', 1), ('NKAEQGVW', 1), ('EALSSL', 1), ('GLTESL', 1), ('ELSASL', 1), ('AQMEEKPV', 1), ('GTRENNADQVTPVS', 1), ('KTA', 1), ('CLLGVARFNVARDSDIE', 1), ('DVSVIS', 1), ('ALGFYPADITLTWQLNG', 1), ('KCY', 1), ('HEEEEGSIKVETV', 1), ('HFNVSQVT', 1), ('SEYRYTL', 1), ('READNVKDKLCSKRTD', 1), ('NVAEAWEL', 1), ('VGSGRSQSGP', 1), ('VEY', 1), ('CTASPEPVK', 1), ('GEK', 1), ('LREHTEF', 1), ('EIIAFSDH', 1), ('DKDFPPAAA', 1), ('DSPSVWAAV', 1), ('SGLDHKFQ', 1), ('NLGNTHYL', 1), ('LTSEYYR', 1), ('ADL', 1), ('VTE', 1), ('SREEKWP', 1), ('SNASHSSSRESHLS', 1), ('MLPLDSQGA', 1), ('PAPEFTAAQ', 1), ('GLQAIWED', 1), ('DSSPWIRA', 1), ('SDGSPNAGTVEQTPK', 1), ('EIKNYVQG', 1), ('VTG', 1), ('LSA', 1), ('QEIKTLEEDEEELFK', 1), ('EGK', 1), ('EVY', 1), ('LGQRAPGGSPGS', 1), ('FSLAATRSNDPVALAFAE', 1), ('FRNLMEGVEQNLSVKN', 1), ('ATMSILDIS', 1), ('SFSALAPRGAGAGAAGPWFS', 1), ('DTAQSIMKG', 1), ('KDS', 1), ('DIF', 1), ('INTTDIFQTVDLWEGK', 1), ('DAY', 1), ('DLS', 1), ('TRSYFPETWIW', 1), ('KEY', 1), ('TVY', 1), ('KVG', 1), ('IVPQSSSNEVMFLTVQV', 1), ('KQQ', 1)]\n",
      "Y results before filtering:\n",
      "[('PVNSPMTKG', 5), ('RAAQGRAYGNLGNTHYL', 4), ('TYSIGRSF', 3), ('GDAEAVKGKG', 3), ('FHLPSRSS', 3), ('ANNVQRVM', 3), ('RWETAEGVLQEALDKD', 3), ('AAPDKTEVT', 3), ('DLTPKDIE', 3), ('SSMAYPNLVAMASQ', 3), ('PVGGGSFPTI', 3), ('DTLPGSEVL', 3), ('ECGHLRAQLEEQG', 3), ('CATTFIKF', 3), ('ESLRPSNQ', 3), ('EGEESRISLPLPTFSSL', 3), ('QHLCGSHLVEALY', 3), ('SNQPEGVSI', 3), ('SDLGTKLQDPRVMTTLS', 3), ('SSQSRRLDDQRASVGSL', 3), ('MLHG', 2), ('HPGF', 2), ('IVYCTPVH', 2), ('YQPPPPFTAPMEGKGSR', 2), ('RKRNPEAGVATTDLYGN', 2), ('WNKAEQGV', 2), ('FGEKYNHQRYQ', 2), ('QGRAYG', 2), ('NTHYLLGN', 2), ('SQAGQKASAAF', 2), ('SLPGQMTGTPITPLKDGF', 2), ('VTAGKDGVAN', 2), ('LGNVTAGKDG', 2), ('ANFSGR', 2), ('HFNPRFN', 2), ('QGPVYKGVCKCFCRSKG', 2), ('SDPRGFG', 2), ('MQKDPQAL', 2), ('VCGLGTW', 2), ('DNRAGSRR', 2), ('RDSRPASAA', 2), ('HAYINRAS', 2), ('HVYWEKA', 2), ('NSATGWV', 2), ('AVQSLDKNG', 2), ('VVYAHSKE', 2), ('LNWLQQE', 2), ('LPPDFEGR', 2), ('IDEDELLGKLSEEELK', 2), ('KQRLEEE', 2), ('DLALEEKN', 2), ('EEQRLKE', 2), ('ILWEEEI', 2), ('ELVEALEQ', 2), ('LDDTATV', 2), ('LSAPEALTE', 2), ('AFLTLTDGDL', 2), ('TVPGDYTAKVAGEGC', 2), ('QDIKEDIA', 2), ('DTNSSKTPSLFPCA', 2), ('ETLRDQLG', 2), ('SDTVRPTNAALPTDAAYP', 2), ('IKDDVERG', 2), ('ERLQEKE', 2), ('AQDPGHLPP', 2), ('GVVRYEHA', 2), ('ELERKQE', 2), ('FAIDSLTGEI', 2), ('EELKGQEV', 2), ('RRIADENG', 2), ('ALRQAENE', 2), ('NRRESKDQLSEDASKV', 2), ('PVDALS', 2), ('KNQIGDKE', 2), ('PGILSMANAG', 2), ('KGFGYKGSS', 2), ('KMASNIFGTP', 2), ('ELAEQLQT', 2), ('SSVPTITPE', 2), ('SLVAQREE', 2), ('NVRDREAA', 2), ('ELAPYPKN', 2), ('KPEAELSAS', 2), ('LDLEEALE', 2), ('PVDQKFQSIVIGCALED', 2), ('PPSGTSATSK', 2), ('DLRSNLQVSNEPGNRY', 2), ('KGRGHSTST', 2), ('LLERCPEA', 2), ('SHSEMKLV', 2), ('KTESCLHL', 2), ('LLAAEAIDD', 2), ('LGWGVENGV', 2), ('AEAVGASLVD', 2), ('GYYVEKTA', 2), ('YFMKQTI', 2), ('ADGVNKGRGG', 2), ('LENVLDDL', 2), ('ATEVVLPSD', 2), ('HFHAGYKA', 2), ('RFCHVATP', 2), ('KSVPHFSE', 2), ('LEEALENL', 2), ('EVDGVLDAL', 2), ('NAQNRLGAS', 2), ('YGDLNHLV', 2), ('REKLQEE', 2), ('DLADLSSLP', 2), ('IAPPTETMA', 2), ('RRDEQVQ', 2), ('VEPGTV', 2), ('LTGIIDSPD', 2), ('EVAIAEELG', 2), ('PDILLGSTD', 2), ('RAVGWNEV', 2), ('DPEAFPALA', 2), ('GNEVAGREV', 2), ('KEALQDVE', 2), ('PFRPEGLD', 2), ('AEKRLEGE', 2), ('SLVEGDTPL', 2), ('DLGKEIEQ', 2), ('QLTEEQIA', 2), ('NQPHLPQP', 2), ('VIIAEDVDG', 2), ('NMDVPNIK', 2), ('KSLAGSSGPGA', 2), ('QERARAEA', 2), ('RSGFVLHD', 2), ('ILSSPDGEL', 2), ('FKHQLSGN', 2), ('ALRENDTL', 2), ('VGSGRSQSGP', 2), ('SLLEQLND', 2), ('AARLTSDPT', 2), ('LCPGGQLPF', 2), ('EQNREKQ', 2), ('TAGKDGVANV', 2), ('KAAVGVTGND', 2), ('TVQTEEKP', 2), ('KVEGSEPSV', 2), ('KEDEVQAI', 2), ('EEAVAREK', 2), ('TLQGDERI', 2), ('DAALLRDTG', 2), ('LDALENLSG', 2), ('QQELDTVV', 2), ('HDVLSFLT', 2), ('EEREGLAK', 2), ('RVVSLDEN', 2), ('TIGRLQDE', 2), ('IPTALDTNS', 2), ('LLQEDSLN', 2), ('LSLNPSDVS', 2), ('VEQLELGGS', 2), ('ANKENREA', 2), ('LNSAAARGDG', 2), ('QLSAEEVR', 2), ('IDDKGRDL', 2), ('DRERERA', 2), ('RTGEAIVDA', 2), ('IQSDGLWL', 2), ('DREISALQ', 2), ('LDDAIQTGV', 2), ('LAVTKNDGN', 2), ('EEALASLAQ', 2), ('SANGVSRGSP', 2), ('GLFDGPKPT', 2), ('VGVVSSQQQ', 2), ('EDQKIGIE', 2), ('AQVATISANG', 2), ('SVPKEPSST', 2), ('DSHSKKMV', 2), ('NSAAARGDGL', 2), ('QYPLVPQS', 2), ('EKPDDIKS', 2), ('PSIKAAGNSS', 2), ('QTCVVERP', 2), ('FLETVNQLHHQNVSVP', 2), ('MLSAPEALT', 2), ('CPLPAT', 2), ('NATASSVVSP', 2), ('AQMEEKPV', 2), ('SFPLVPEGS', 2), ('SPGAWAPLD', 2), ('NTPNSRQP', 2), ('LEGEESRISLPLPTFSS', 2), ('ETLATMLACL', 2), ('FDIKDEF', 2), ('LVYRADTQTYQPYNK', 2), ('YFVSSGSVTVNADSSVQL', 2), ('ATEAYQELCRQR', 2), ('SQPTGFLAQPMKQAWAT', 2), ('VEALYEAASL', 2), ('KKECTWAIS', 2), ('HTRLQEYEQCIDTLL', 2), ('LRMMVGVNISDEQLGSI', 2), ('IDLFGS', 1), ('SRGF', 1), ('FKG', 1), ('KDQEVNFQEYVA', 1), ('IEPNFHSLYSNF', 1), ('PVGFGG', 1), ('SNMAIADVKMVSGF', 1), ('YQAKENDFDRLA', 1), ('GEALEAAAAAG', 1), ('DAAMAARPHSIDGR', 1), ('LSLPDCKVMVHDPHSLA', 1), ('DLSNHLSQ', 1), ('GRSVD', 1), ('VPNIPPGTPSS', 1), ('KELGDHVHNLVTMGAPAA', 1), ('KDRD', 1), ('ISWGA', 1), ('KKVRNNNADAEDKSDR', 1), ('MRIN', 1), ('RLMN', 1), ('RSGRGGNFGFGDSR', 1), ('ISRVPDDKIENRFAAE', 1), ('PAPEFTAAQ', 1), ('KTEASEA', 1), ('KTETQE', 1), ('SRNSRD', 1), ('KVVLDDKDYFLFRDS', 1), ('DANIYAYDSFAVLGLDL', 1), ('NNPKFD', 1), ('KGAGDAES', 1), ('KQESNE', 1), ('DAVISTE', 1), ('KEVVEEAE', 1), ('VPTPTS', 1), ('ESL', 1), ('IDSLTGE', 1), ('LTLTDGD', 1), ('SIYERALDV', 1), ('KEVWEEL', 1), ('LSTPNQTTA', 1), ('RSGSGLVGQQLEEFLNQ', 1), ('VDELMQ', 1), ('KPTSRTEN', 1), ('GESGHLAKD', 1), ('KRQYDGVAE', 1), ('ISVTQQSPA', 1), ('VEEEKT', 1), ('KRTDEAAFQ', 1), ('GDEAQSK', 1), ('VPCMLTA', 1), ('KTLEED', 1), ('RLSYMAYWKSVILEC', 1), ('DILRCD', 1), ('YAEAAAAPAP', 1), ('KWTEGGG', 1), ('DSL', 1), ('KWEMAA', 1), ('EIVDYIADK', 1), ('VEYIPD', 1), ('LDPLGS', 1), ('KIGQQEVE', 1), ('VEKASDS', 1), ('ADRNDHAPVFEQA', 1), ('DINFNL', 1), ('KEATQLWG', 1), ('ADLSRSKTTS', 1), ('KATESPAAGVRKTEMSQA', 1), ('VEEKF', 1), ('KETMKAQVAEKEAALQS', 1), ('SGK', 1), ('KPAIVKVYDYYEKDE', 1), ('KPDSAFA', 1), ('VEKDANKE', 1), ('LPDTEKTE', 1), ('KVNAEGTVD', 1), ('KNGPVEGAFTVFSD', 1), ('KAVTEQGAE', 1), ('PVVS', 1), ('VADLLASFNDQSTS', 1), ('EGKELQNL', 1), ('MNPATTLPS', 1), ('KVYREDETATEE', 1), ('DAGTIAGLNV', 1), ('DATVNQVLA', 1), ('ESI', 1), ('GEGQSGLAVL', 1), ('EVKIDNSQ', 1), ('IVTSTYKGGTGDSYNLAI', 1), ('KKAIPPGCGDEPEE', 1), ('PVSV', 1), ('NPELACTLA', 1), ('DAISPV', 1), ('VPVS', 1), ('QACDVLVPS', 1), ('DIFSGELTAL', 1), ('KGDVSSATAP', 1), ('EGVLSP', 1), ('KEPDL', 1), ('KEMPP', 1), ('EVPEDWDKQPVK', 1), ('TVNADSSVQLLAEEAVTL', 1), ('EVPKE', 1), ('DIPFGITSNSGVFSKYQ', 1), ('PTV', 1), ('DPLSAV', 1), ('KKSNFEEAL', 1), ('LSDDLINYI', 1), ('SRGGFAG', 1), ('KDLFE', 1), ('LSDFGL', 1), ('VLS', 1), ('KDQWTKYEEDK', 1), ('TVSVSEQSKT', 1), ('DPIHGESVDHHPQ', 1), ('KDGNGYISAAELRHVMT', 1), ('TGVPDRFTGSGSATD', 1), ('SGRDERPP', 1), ('LSELPEPE', 1), ('KATSSSRSEL', 1), ('VPENPPSMVFKQMEQV', 1), ('QLS', 1), ('VNEWAAEI', 1), ('LVCLDGPGTG', 1), ('APEFTAAQP', 1), ('LGK', 1), ('GVHYISVSA', 1), ('TVSGNPTEK', 1), ('KELEALDD', 1), ('DLTEIGER', 1), ('EVAAGDDKK', 1), ('KEIEERE', 1), ('PVETAEVNNDKMKTASK', 1), ('RSL', 1), ('EGAIDDSLI', 1), ('KAAGNSSALGG', 1), ('APPTAYIDFA', 1), ('WAKSAGSKSSG', 1), ('KEAMRMLEKSPRRTE', 1), ('SLTISSLESE', 1), ('SLS', 1), ('LDPADLTHDTTGLT', 1), ('GIS', 1), ('PPGIPDTGSASRPDT', 1), ('PVPGAVSGGSGEVDEL', 1), ('KYPPASQLRQEWENN', 1), ('ISAAELCNFLRDLFLH', 1), ('SLAYLRHSSSGGQAFPSP', 1), ('IKICRNCTGSFDRHIP', 1), ('KVTHAVVTVPAYFNDAQ', 1), ('EGQIRLTDSCVQRLLE', 1), ('VPGAVSGGSGEVDELFDVK', 1), ('KKWGARVVYGDTDSMF', 1), ('LKQNDFSVTLSGSVDYS', 1), ('KFLIDGFPRNQDNLQG', 1), ('KEAEDNIREMLMARR', 1)]\n",
      "\n",
      "Filtering time took 0.3972048759460449 resulting in 1 b sequences and 2 y sequences\n",
      "First alignment round took 0.0003859996795654297 time resulting in 5 alignments\n",
      "Getting rid of ambiguous time took 0.0009522438049316406\n",
      "Filling in precursor took 0.002020120620727539 for 5 sequences\n",
      "Time to make into objects took 0.001013040542602539\n",
      "B results before filtering:\n",
      "[('SSPENIL', 4), ('QELAKY', 3), ('EQLQNK', 3), ('GELALEGA', 3), ('DPVPLPN', 3), ('SILASFN', 3), ('ASHVPTLQVLRP', 3), ('ADA', 2), ('EGA', 2), ('DAA', 2), ('GEA', 2), ('APPTV', 2), ('TAPPV', 2), ('PAPTGII', 2), ('QEI', 2), ('LQELDAA', 2), ('EAVADVR', 2), ('LEQQNK', 2), ('ELQEQL', 2), ('IQEIQE', 2), ('LGAELQE', 2), ('EALGVDR', 2), ('PTTAIQE', 2), ('GLAEDLAA', 2), ('SVSRMELK', 2), ('SAL', 2), ('PTLGPI', 2), ('LTPGPGK', 2), ('PLPATVA', 2), ('PPLSAI', 2), ('ASPGLPK', 2), ('TPGLPL', 2), ('SAP', 2), ('PALQGAL', 2), ('GNVVP', 2), ('ITGLPPA', 2), ('LTGIPPA', 2), ('FRKFA', 2), ('KPPAQK', 2), ('SHLGSMK', 2), ('QVLRPGLVVVHT', 2), ('KKH', 2), ('AQALGIP', 2), ('GAAAED', 2), ('GVNVTVY', 2), ('VGNNLKD', 2), ('SAT', 2), ('EDGAAA', 2), ('ENEAA', 2), ('EEGGAA', 2), ('GGEEVLR', 2), ('DEAQALL', 2), ('KKQ', 2), ('YVTVRKDA', 2), ('LRWYN', 2), ('LASLYAN', 2), ('KNKKATSRKD', 2), ('ASFPTTK', 2), ('SSK', 2), ('LEFVMIVV', 2), ('SNKPADK', 2), ('KTKEPVK', 2), ('RIDIRNYIL', 2), ('RKYGVVLDEIK', 2), ('STVVSKHRRLH', 2), ('AAD', 1), ('EAG', 1), ('AEG', 1), ('AGE', 1), ('GAE', 1), ('EIQ', 1), ('AEAYLGK', 1), ('SVP', 1), ('SPV', 1), ('SPS', 1), ('LAPPS', 1), ('PSAYKLLLGTEK', 1), ('AVIVLNEGIKVY', 1), ('LLAPPS', 1), ('ALPCPGPP', 1), ('QAA', 1), ('RNLSLVK', 1), ('KAK', 1), ('FIVYK', 1), ('PPINTK', 1), ('LSQVLAAK', 1), ('KYV', 1), ('AAQ', 1), ('SKL', 1), ('GASGDPKK', 1), ('ASS', 1), ('TGS', 1), ('ASG', 1), ('GED', 1), ('GEE', 1), ('PDP', 1), ('EQA', 1), ('AVDKGVFVLNKK', 1), ('GQENAIK', 1), ('EQE', 1), ('EQQ', 1), ('EQG', 1), ('KTE', 1), ('SFK', 1), ('SPL', 1), ('TVTMTAK', 1), ('SYL', 1), ('KEY', 1), ('VKEYREK', 1), ('SLT', 1), ('VGIDIFTGK', 1), ('EITFK', 1), ('LLHYRK', 1), ('ETLFK', 1), ('KAL', 1), ('KVL', 1), ('EQR', 1), ('KEF', 1), ('KLG', 1), ('KMV', 1), ('KPF', 1), ('VFREIIADVKK', 1), ('VLGVHNLLNNPK', 1), ('GTE', 1), ('VLELLDK', 1), ('DVAFLEKLIK', 1), ('TKEPVKK', 1), ('VTVQDFLK', 1), ('KLA', 1), ('ELIQKAK', 1), ('KTL', 1), ('TLVQQLK', 1), ('KLD', 1), ('KRA', 1), ('KPG', 1), ('LGLILLNEKY', 1), ('SKK', 1), ('IKDYREK', 1), ('DPA', 1), ('KFS', 1), ('FLKDMGLK', 1), ('ITAVPTLLKYG', 1), ('LDFRRKVNK', 1), ('KLL', 1), ('VKSLLLEAYVKG', 1)]\n",
      "Y results before filtering:\n",
      "[('AIVGYK', 6), ('ALTFAK', 4), ('VGKY', 3), ('LMMKK', 3), ('LAAFTK', 3), ('NQDTKK', 3), ('NFDIPK', 3), ('GPPP', 2), ('VYKG', 2), ('VPPGP', 2), ('VLVNHPSPA', 2), ('ITKAF', 2), ('LGKYV', 2), ('LAFKT', 2), ('KNYVK', 2), ('LAPHIT', 2), ('AFTLKA', 2), ('GELFQVLK', 2), ('AATKFI', 2), ('QELDTVVK', 2), ('VPSPVAPAPV', 2), ('LYK', 2), ('PSPVAPAPVP', 2), ('PGQKPFKRSL', 2), ('KFEVK', 2), ('KIFDK', 2), ('QEESLK', 2), ('IIGYFE', 2), ('LIETHE', 2), ('KESQK', 2), ('SDLNELLK', 2), ('NLPNLY', 2), ('NIPKDF', 2), ('KAADSK', 2), ('ASGEKK', 2), ('LQARTTEL', 2), ('NGPLAYV', 2), ('PIRLGLALNFSV', 2), ('NLVTTW', 2), ('NIMVKE', 2), ('NLDFKP', 2), ('SNALSK', 2), ('IKLVNDTKKWG', 2), ('RCGRK', 2), ('SSLAAPASLFPLK', 2), ('KAGSDGAK', 2), ('KEAEEK', 2), ('SGANKEK', 2), ('ILGVLALNTML', 2), ('VVDSLQLTG', 2), ('KAAEKQMK', 2), ('ADNILRLKSK', 2), ('LLSRLIDSGAL', 2), ('LILGVLALNTM', 2), ('LIRVVVSRSE', 2), ('LLAVLCLGTALA', 2), ('RLVRLLNTTDV', 2), ('LLEKFLIPNA', 2), ('LIRSGITGLEV', 2), ('QEIAEKALKK', 2), ('SVTRQVPSRK', 2), ('KYG', 1), ('KGY', 1), ('TGPP', 1), ('SPAP', 1), ('SAPP', 1), ('KYGVL', 1), ('KIK', 1), ('QKY', 1), ('KKRGY', 1), ('KLSRF', 1), ('LIK', 1), ('KYLLN', 1), ('KDK', 1), ('SVFGKL', 1), ('SFKRL', 1), ('SFRKL', 1), ('GETVVEKAV', 1), ('LAK', 1), ('KFVLSG', 1), ('SLSERLAR', 1), ('FLK', 1), ('SVVAVYHAKLKS', 1), ('PDKLF', 1), ('KSEKETVI', 1), ('KKVVENGALLS', 1), ('SPN', 1), ('SNIILLGDS', 1), ('SCLLAL', 1), ('ASRYPLGPLLA', 1), ('TGKRGT', 1), ('GTVSSSPV', 1), ('ARK', 1), ('KESKQ', 1), ('KNTRT', 1), ('TQSPTSL', 1), ('SNK', 1), ('KIEQELTA', 1), ('KPNFEV', 1), ('SKINAS', 1), ('SDIQVKEL', 1), ('SKNALS', 1), ('SKGLTESLP', 1), ('KNGIST', 1), ('SQSKVA', 1), ('DAKGIET', 1), ('NRPLVASMLVTV', 1), ('KEPVF', 1), ('SKEKQ', 1), ('KAEGSEI', 1), ('SSDPKSI', 1), ('STLDKEKL', 1), ('GEK', 1), ('SDKERV', 1), ('KGILDKEE', 1), ('DDK', 1), ('AMK', 1), ('DQK', 1), ('SRKELGLE', 1), ('EQLSSGL', 1), ('ASQKGRS', 1), ('SIALDGGSVL', 1), ('SWSQLL', 1), ('VKVEKQVQSI', 1), ('SRVSVAD', 1), ('AVAEASVS', 1), ('KIKAALEAVGGT', 1), ('KSGVLDTLT', 1), ('KKQESAQL', 1), ('KEAEKE', 1), ('KWTDLA', 1), ('STTPGGTL', 1), ('SDPKSIS', 1), ('KEEKEA', 1), ('NGVTLTE', 1), ('RCGRKN', 1), ('DTK', 1), ('SWQHAL', 1), ('DPNLVPS', 1), ('AGQPIGQA', 1), ('PAK', 1), ('KMHLVAI', 1), ('KTKEQLAALR', 1), ('KVETELRG', 1), ('SGIISPKTE', 1), ('IAK', 1), ('KKTDGKGIS', 1), ('PSK', 1), ('ASLGERVSL', 1), ('LRK', 1), ('AAQAAFQKV', 1), ('KAK', 1), ('QAAFREPRLLV', 1), ('KLQREKDKL', 1), ('KAAVLASEKLQ', 1), ('DAMKKVGRKGVI', 1), ('KFDLRVSIRPA', 1), ('KPDRVVECIKI', 1), ('RDK', 1)]\n",
      "\n",
      "Filtering time took 0.14450716972351074 resulting in 1 b sequences and 7 y sequences\n",
      "First alignment round took 0.0006420612335205078 time resulting in 15 alignments\n",
      "Getting rid of ambiguous time took 0.004637956619262695\n",
      "Filling in precursor took 0.004987001419067383 for 15 sequences\n",
      "Time to make into objects took 0.0019550323486328125\n"
     ]
    },
    {
     "name": "stdout",
     "output_type": "stream",
     "text": [
      "Analyzing spectrum 3/9[22%]\r",
      "B results before filtering:\n",
      "[('SIQRSAPGGGGKRY', 4), ('TTALLKIDITDTE', 4), ('TTDDPSMLARVVK', 4), ('TVAGLSTHALCHTRL', 4), ('SLTVDVTSPASKV', 4), ('TDKQEKKEVPKC', 4), ('SSPNGILLFREA', 4), ('SSARLGSFRAPRAG', 4), ('TVPPAAPAGEGGPPAPPPN', 4), ('TTWLQWASLLFVDN', 4), ('EDAGEE', 3), ('DEAVLERKEL', 3), ('TTFHK', 3), ('SLSEAISQTKALSQCK', 3), ('DVLLTTMLRNGA', 3), ('TLPTVPGDYTAKVA', 3), ('SSKRPS', 3), ('GRKTKIIEMMPEF', 3), ('TIRNPQQEESLKH', 3), ('TRSDIVSRALDLFS', 3), ('TLSVLLGVDLGSM', 3), ('ISSIEQKTDTSDKK', 3), ('LSSLNKHAEAVAYYK', 3), ('LSISADIETIGE', 3), ('TDSSTTTTRRPTKK', 3), ('SESRVQDVVTK', 3), ('KANKTVDDTKLAE', 3), ('TSGGLNKKPMSLA', 3), ('TIKEVRGWPFA', 3), ('SITDESGLNKLK', 3), ('SKCPLMVKVLDA', 3), ('SPRLSATTMVAVTV', 3), ('DLVDDLKSELTGKF', 3), ('SAVGTSTVLLAERE', 3), ('STPRSKILEMSALF', 3), ('SDKEGHKYVTVVANF', 3), ('QTERMQKRAERFN', 3), ('GPGNP', 2), ('GGPQAISIG', 2), ('GEEGEE', 2), ('EADEGE', 2), ('EGEESRISVPV', 2), ('SAAYAK', 2), ('KYSNVVF', 2), ('SLF', 2), ('TVE', 2), ('MLKNQLDQEVEFLS', 2), ('AGKEPANIG', 2), ('VSNKWEVPSVYSSVI', 2), ('AQSNLTKDRSL', 2), ('TAADMAAQITRRK', 2), ('ATGEKRATVVES', 2), ('LNSPEKACSLAKTAF', 2), ('SLL', 2), ('SLE', 2), ('IMRVD', 2), ('SIN', 2), ('VLTCTLQLREEFK', 2), ('HFTKTPKFFKPAM', 2), ('GRGREPGAHSALDTR', 2), ('SLD', 2), ('SIV', 2), ('NPFQK', 2), ('STAPQVLNTSSP', 2), ('KTQVQSVIDKASE', 2), ('TVD', 2), ('SSG', 2), ('VAQSTRIIYGGSVTGA', 2), ('SEE', 2), ('IISSIE', 2), ('CRLAIHSRYE', 2), ('SEL', 2), ('RLPEGDLG', 2), ('LTETVVCALGLSV', 2), ('SLA', 2), ('MRLEL', 2), ('LVMWLQGGPGGS', 2), ('LKRTAARCSQVA', 2), ('TLTPSPSP', 2), ('MRINK', 2), ('CDLVLVMENGKVI', 2), ('SRSPSK', 2), ('LMGRTLTVEVSVE', 2), ('ISTPEELGLDK', 2), ('EKKVEAKKEESE', 2), ('VQTPLPGAPPQQLQYG', 2), ('SSL', 2), ('SSS', 2), ('AGQTPRPAERGPPV', 2), ('LKCLSYAKEF', 2), ('HYGLVNPWVHVL', 2), ('LNVLPEDG', 2), ('TTT', 2), ('VPKEPTEG', 2), ('GGAVAVSAAPG', 2), ('GAVAVSAAPGSAAPAAGSAP', 2), ('SPTLTPSP', 2), ('VCDIPPRG', 2), ('PLYRLNTKAASAE', 2), ('KMMVKYG', 2), ('SVSHSDLLQYRK', 2), ('TPQHPSFLFK', 2), ('RLTDSCVQRLLE', 2), ('PMVPKDLG', 2), ('GGGPQAISIG', 2), ('SED', 2), ('TSPAIAPPTETMAPPV', 2), ('SEK', 2), ('LRMVRMDRR', 2), ('RMLQLVEESK', 2), ('LLSSEATVRSLQ', 2), ('SVTSRGKLEQK', 2), ('LMRLCIQARE', 2), ('RLMVMEIRNA', 2), ('SSI', 2), ('SII', 2), ('SLV', 2), ('IVTSPYQIHFTK', 2), ('SLI', 2), ('TVV', 2), ('TVL', 2), ('TVS', 2), ('SDTKPMVNLDK', 2), ('STENIKHQPGGGRAK', 2), ('EEAGVRGLLASLFAF', 2), ('VELYKAVQQGTIKCN', 2), ('SLG', 2), ('SPSEAKSPAEAK', 2), ('QDITRHRPPLA', 2), ('GKSSLISALLGQMQ', 2), ('PGLARLFSIGSSVE', 2), ('GLVGCIQGVWIGFTPF', 2), ('PLLHIQKTPADCP', 2), ('AKLGVAGQWRFA', 2), ('ARRYPRYHSNLF', 2), ('EFLLLKGADINA', 2), ('LLWVFCAPGARA', 2), ('HIKSYEKEKASL', 2), ('EAGVRGLLASLFA', 2), ('ELKLADFGLARA', 2), ('VVDRSIKIAMTTCEQ', 2), ('TADTKIQRMPS', 2), ('DRMQKEIVTLA', 2), ('GNIQLFEAKLDKG', 2), ('KVRFLEQQNAA', 2), ('RLGEKRSHHLA', 2), ('PFCVIDTIVLIA', 2), ('GPHSLRYFVTAVS', 2), ('ENKPYALNLEKNF', 2), ('SLQ', 2), ('VLELDREMSRSV', 2), ('RDGKALEQFLQE', 2), ('VINRPNGTDVYKG', 2), ('SKRPPSGTSATSK', 2), ('GMGTLLISKVREE', 2), ('ESITDESGLNKLK', 2), ('LPYSVVRNEQVE', 2), ('KFSYKLEYLLQFD', 2), ('SIK', 2), ('GRCGRKNRKTQE', 2), ('FQNEVARQLISE', 2), ('KLAMSKKQELEE', 2), ('INPNNHAWLIIQ', 2), ('TVQ', 2), ('KRSLRGSDAVSETSS', 2), ('MHHVLLEVDVLE', 2), ('QNLSVFRRDVAE', 2), ('ALLSWKLGCSLNQ', 2), ('GEARKQVDVFRQ', 2), ('NAKRFQILWEE', 2), ('LLVSWAFTDRPE', 2), ('VIQLVDVLYNEE', 2), ('FSLHIDGKIFQE', 2), ('KRTIVGWSTQEE', 2), ('KDIGNIISDAMKK', 2), ('GFIRRVTNDARE', 2), ('ALTLASFQIPPFE', 2), ('FKLNQEIIAASAQ', 2), ('EACLLDKLEKEAAF', 2), ('RENEYLTLQVPAF', 2), ('SALQLAAAGGHEPLV', 2), ('QHHRDLSGLLVSAF', 2), ('VIMVGPGTGVAPFMGF', 2), ('YRAGYSLLHLLQPY', 2), ('PLTLRWEPPPSTVSN', 2), ('HAEGQLSFIQHSLIN', 2), ('GQHELMEPEVKLIGN', 2), ('PGG', 1), ('EEG', 1), ('FLTKQMEKIQPA', 1), ('KGTQCARIVEK', 1), ('AAAYSK', 1), ('PKGRPPSASSLDAISP', 1), ('GDYKK', 1), ('FASALRTASPQQR', 1), ('TKA', 1), ('YLAFSAK', 1), ('IFFPS', 1), ('STK', 1), ('PRPGSP', 1), ('NLGMAK', 1), ('ERTQK', 1), ('DSANVK', 1), ('SRQ', 1), ('EERLAQYESKKAK', 1), ('LQESISDVTTCLVASK', 1), ('DTE', 1), ('ALKNGDLDEVK', 1), ('FIQACMTFLK', 1), ('MAINGK', 1), ('SRE', 1), ('ESL', 1), ('IQNMK', 1), ('TID', 1), ('TRD', 1), ('PKSACK', 1), ('SRD', 1), ('TPC', 1), ('DET', 1), ('LALAHYTALNMKS', 1), ('SQG', 1), ('RSEMLEIVQAIYK', 1), ('EDK', 1), ('RVLSENPMACK', 1), ('ESR', 1), ('ESE', 1), ('LVDTHSK', 1), ('TEL', 1), ('AGDDKK', 1), ('SQK', 1), ('VTK', 1), ('AAGTEGK', 1), ('TGG', 1), ('NEKINAEKSSK', 1), ('SAR', 1), ('LSE', 1), ('TAN', 1), ('SQA', 1), ('LST', 1), ('ISG', 1), ('VNRRCISVAPS', 1), ('GLDSNK', 1), ('DGSINK', 1), ('MLEENSRILK', 1), ('GATERK', 1), ('LQAMAK', 1), ('EVVVKLFDSDP', 1), ('GKQNSK', 1), ('SNV', 1), ('TQR', 1), ('TLV', 1), ('VDSRAESIDKK', 1), ('STL', 1), ('LKISEEEELDTK', 1), ('SDI', 1), ('TLN', 1), ('TKI', 1), ('SRR', 1), ('AEKDISEKEKEK', 1), ('HVLSSPS', 1), ('PSRDTMEKRK', 1), ('SFR', 1), ('LELREASVTPS', 1), ('LGDVVYCSLPEVGTK', 1), ('DER', 1), ('YFQTIK', 1), ('DVVLPSP', 1), ('VDHIKILVEDELSSP', 1), ('SPQ', 1), ('LPALAIYESVDDK', 1), ('PSLKSHM', 1), ('SQV', 1), ('IWPKMIKGRSSYN', 1), ('NPP', 1), ('PSNEKPK', 1), ('VRLWSTWDLK', 1), ('PTLTPSPS', 1), ('GQLVAVFWDKSSP', 1), ('SVI', 1), ('SVH', 1), ('VTH', 1), ('PSTQVTPSVIQQGAPPS', 1), ('LSK', 1), ('KEREKEEGKIYPMG', 1), ('VFSWYQELPRIQK', 1), ('EALLGAHASANGVSRGSP', 1), ('TGL', 1), ('DAIYKEFSFK', 1), ('LSA', 1), ('LRADLAEEYSKDRK', 1), ('VTS', 1), ('ISL', 1), ('TIS', 1), ('SVL', 1), ('VLSAMTEEAAVAIK', 1), ('LSL', 1), ('VTI', 1), ('AVDMASEKKVVK', 1), ('DES', 1), ('EST', 1), ('TED', 1), ('EDE', 1), ('DEE', 1), ('EGGPNNHLLKNLK', 1), ('YAKHQCWKVAAK', 1), ('DGAMPSARLRK', 1), ('TEG', 1), ('LDPEDLKRPDPASLK', 1), ('DTK', 1), ('VVPTLSEEEAK', 1), ('GTDLLEEEITK', 1), ('TIV', 1), ('TAV', 1), ('VDQLITCIQSK', 1), ('GKGQMTSDKKSREK', 1), ('TKE', 1), ('SGS', 1), ('SKK', 1), ('SRL', 1), ('TLK', 1), ('AAFTMFSRFLNK', 1), ('TMS', 1), ('DPVALAFAEMLK', 1), ('VTG', 1), ('SKL', 1), ('LYREAPIDKK', 1), ('NFLDTLKNPEFNK', 1), ('VPPGTKHVDMDLSAL', 1), ('TKF', 1), ('SKA', 1), ('SQT', 1), ('SGK', 1), ('DEL', 1), ('SKV', 1), ('ENIQEKIAFIFNN', 1), ('EKRWGTDEVK', 1), ('PEKTTEDKATK', 1), ('TGV', 1), ('KKEEKEAEEK', 1), ('TNI', 1), ('ICKDTLPNYEEKIK', 1), ('VTE', 1), ('LLQKLDFPAMK', 1), ('SKE', 1), ('LVERSAAETVTK', 1), ('SNT', 1), ('SWE', 1), ('EKEEKEEKKK', 1), ('PAEPKSPATVKSPGEAK', 1), ('LAPEYEAAATRLK', 1), ('KDGPLYRLNTK', 1), ('SFV', 1), ('FGLFLVKPDNPW', 1), ('FLVGFPRPVQSW', 1), ('ESK', 1), ('EKVAQLCDFNPKSSK', 1), ('INRPNGTDVYKGV', 1), ('IAEVTVEKVRGFCE', 1), ('TPT', 1), ('TSW', 1)]\n",
      "Y results before filtering:\n",
      "[('NFEANTTIGRIRFH', 5), ('FSLHIDGKIFQEK', 4), ('FQNEVARQLISEK', 4), ('ASALRTASPQQR', 3), ('FKERVRMASPRGQ', 3), ('APVPSPVAPAPVPS', 3), ('GKGKSGEIEPVSV', 3), ('LAHEKIWFDK', 3), ('GHKCIPPS', 3), ('AKATESPAAGVRK', 3), ('EATDNQAIKALLQ', 3), ('GQFKDISLSEYK', 3), ('KGLELQVMQLQQ', 3), ('EWLDGKHVVFGK', 3), ('EKKGPGKNDNAEK', 3), ('EQVNELKEKGNK', 3), ('FSDVVKTMEIHKK', 3), ('LENAPLGHSVIH', 2), ('KYNVSCIMIL', 2), ('IEMLKAGEKPN', 2), ('ILEQMQKDPQ', 2), ('EEISRRGAGTPG', 2), ('EKAQAKVGSLDNVG', 2), ('SKFLDDLGNAKSHLM', 2), ('EYIEKLRQQAH', 2), ('MQKRAERFNVPVS', 2), ('EATTFHKERLAI', 2), ('NIGQLEHQLILSVDP', 2), ('ELPAIT', 2), ('FASALRTASPQQRE', 2), ('VIQLVDVLYNEEK', 2), ('HKVQGTGVTPPPTP', 2), ('SSLQEFK', 2), ('AVGARSAGRWLAA', 2), ('AGNSALQLAAAGGHEPLV', 2), ('IVDARPAMAATSFVL', 2), ('HINTINLFLCV', 2), ('SKQCTRRCPTPVVS', 2), ('GEASPALPP', 2), ('GVANVEHI', 2), ('GVITAYTN', 2), ('IPEFFYLPEFL', 2), ('GERKAFM', 2), ('NHVLIYLDKVSN', 2), ('LSDYRGK', 2), ('YEPLLLEILVEVMD', 2), ('EDLKKHGCTVLTA', 2), ('TGQRQVSGPLAT', 2), ('TPVTKSAENVSP', 2), ('TLEEGLQLPSP', 2), ('SLENHYLFKHK', 2), ('EIYSLFCLYQQIR', 2), ('AAAITKNNDLVR', 2), ('EFGQLILFEPQGGLQ', 2), ('VTRLTLVCSTAPGP', 2), ('AQQQARKAKQE', 2), ('NPNSLKFIPGK', 2), ('ENAIKSLEHVQF', 2), ('IFWAPENAPLK', 2), ('AAVGARSAGRWLA', 2), ('ANILCIVMAALGP', 2), ('ALPVNSSPAVIFA', 2), ('ALYNIGNVYHAKGKQ', 2), ('AAALLRWGRSAGG', 2), ('AKEANVKCPQVV', 2), ('SLQLAGKWDLGNL', 2), ('QLAKTQEERAQL', 2), ('ALPAHVPPQKNGG', 2), ('GKKISLPGQMTGTP', 2), ('SNSHKMVEDKKI', 2), ('GKVKSSDFYITLG', 2), ('NAIKSLEHVQFE', 2), ('GEVIVEIPTRAC', 2), ('FPASEMARIGKLIE', 2), ('TMASSAQRKRMSPKP', 2), ('SLQVQAKDRGSP', 2), ('ELNARAQRLSQE', 2), ('ELRVEALRDAATA', 2), ('ELQKKAQALQEE', 2), ('EVQLQKEANIRS', 2), ('ELQKQKEDLQR', 2), ('EVLIYLAQYLCS', 2), ('ELEERLVEWIV', 2), ('EPREAAFRLAPAS', 2), ('EIEFLKKLHEE', 2), ('ENAPLGHSVIHIQ', 2), ('EEFTKKYGEKR', 2), ('TQRLQGQMPVK', 2), ('EPRLGPRPRSHN', 2), ('EEGVDNLKALIQS', 2), ('EQLKGQGKSRLGD', 2), ('EIIASRTPEELSA', 2), ('EEQKKRLQELD', 2), ('EEQRKEAERKL', 2), ('KEANVKCPQVVIS', 2), ('PEKTTEDKATKGEK', 2), ('QPCEGSLTRPKKA', 2), ('ESRISVPVHSFAS', 2), ('FAGPIVLVIVMNGTM', 2), ('EAAGTSVLRVVAQD', 2), ('ENEAAGTSVLRVVA', 2), ('FLIQTKDNPMKAVG', 2), ('FGLFLVKPDNPWE', 2), ('SGKEGDKHTLSKK', 2), ('FNREVIQSDGLWLV', 2), ('FKLNQEIIAASAQE', 2), ('EDKKNIILEEGK', 2), ('TEKLPFPIIDDK', 2), ('NIMIQKHDGITVAVH', 2), ('NREIVSGMKYIQHT', 2), ('NGKRINTLQAIWMM', 2), ('NHFDNVLQAFVKML', 2), ('NAQRQEIAQEFKTL', 2), ('ISSIEQKTERNEK', 2), ('NAACASLLKKKQQGTD', 2), ('GGQKCSVIRDSLLQDG', 2), ('NAKRFQILWEEEI', 2), ('NIETIGPNPLHALMR', 2), ('NRPNGTDVYKGVLKD', 2), ('SMKNI', 1), ('GGPPAPP', 1), ('DEEPVKKLLES', 1), ('TLDML', 1), ('SMVS', 1), ('TVLEM', 1), ('STARTG', 1), ('TAEFKEAFQL', 1), ('TAWKS', 1), ('LAK', 1), ('LSIAVTGSGSCRHLQF', 1), ('DAK', 1), ('SMKGLG', 1), ('SSVSRG', 1), ('MTK', 1), ('SNK', 1), ('TRVSEAGTTVPGQI', 1), ('TFGPPP', 1), ('VTISQATPSSVSRGTA', 1), ('STCL', 1), ('THLSTG', 1), ('PEK', 1), ('SNPALN', 1), ('TKQMEKIQPAL', 1), ('DWKKGESVMVVPTLS', 1), ('PVTRGQDVGRYQVS', 1), ('NPQGLS', 1), ('TRAPGN', 1), ('SIAKEGFEKISKGANP', 1), ('DSETRIILQGSPV', 1), ('DQK', 1), ('YPK', 1), ('ISTIKEVRGWP', 1), ('TINNIMVKEGPA', 1), ('MDWVLKHTGP', 1), ('NPEKQ', 1), ('ESSSLIETDKKPEV', 1), ('TQPAGAA', 1), ('SNIPNA', 1), ('TDIPVV', 1), ('TQNPR', 1), ('SHSSVV', 1), ('SVVPSPKVSDTV', 1), ('SKYPTL', 1), ('TLPLEA', 1), ('LPS', 1), ('TERIVEPPEN', 1), ('TPRQLFHTAHASRPG', 1), ('TEFELRKHAR', 1), ('SLPLVD', 1), ('SPRNLG', 1), ('SSRLLGSGSPSSSARL', 1), ('SDLGTKLQDPR', 1), ('SPLRGN', 1), ('STLQSFR', 1), ('TDAKKGTITIQDTGI', 1), ('SSILASFN', 1), ('ESGRLF', 1), ('TEKKEF', 1), ('TLK', 1), ('SFASTAVV', 1), ('TIKEAF', 1), ('VTNLRKMGAPEA', 1), ('SEFLRG', 1), ('GPGPPLGN', 1), ('LSSQLPGGLGTGSL', 1), ('SPDQLQVPDFLVG', 1), ('YQK', 1), ('FSK', 1), ('DEKVKY', 1), ('SFPTTKT', 1), ('SLAQTVY', 1), ('TPS', 1), ('TFSSLNL', 1), ('ISKDYGV', 1), ('TPGSAPRESRTA', 1), ('ISK', 1), ('SLGYAASL', 1), ('LSLGYAAS', 1), ('SAIYSQL', 1), ('TGGVGSLDIAGLLN', 1), ('SLNLLSQAQLQ', 1), ('TDVYKGV', 1), ('SEKRYV', 1), ('NPDGSPASKVLV', 1), ('SKEAQSILLEP', 1), ('LSTGEKGF', 1), ('NIHLNLD', 1), ('ISAGQLYS', 1), ('TYSLQNL', 1), ('SPPSLSPPG', 1), ('TEGRYLFLNA', 1), ('ESK', 1), ('REK', 1), ('VTATNAYKKTS', 1), ('SALSDLHAHKLRVD', 1), ('TDYKALQ', 1), ('SIQNLQEAKAL', 1), ('SPS', 1), ('EFVKVLEKVDVEQ', 1), ('TARRPSIKAAGNSS', 1), ('SVPV', 1), ('TALP', 1), ('SVVP', 1), ('SVRGFQSQPVLPT', 1), ('TPIA', 1), ('SSAPPAVSNVLST', 1), ('SDPD', 1), ('TLRWEPPPST', 1), ('SSFFADIKVLG', 1), ('TAPGPLELDLTG', 1), ('ESPLRKPENN', 1), ('TTLRIEGNQGARV', 1), ('SKKDLTEYLS', 1), ('SSLPEIDKSLVV', 1), ('ISPWTPSPRLHAEA', 1), ('SNNHVLIYLDKV', 1), ('TPGPGKSLSPAAT', 1), ('SGLKHEDKRGG', 1), ('ITSLEVENQNLR', 1), ('TKIYHPNIDEKG', 1), ('TMRTLDLLAVEPG', 1), ('SVGLLDTPRTR', 1), ('TAFSGIGGLSSQLPGGL', 1), ('QASKEAKIYHSEER', 1), ('SVAIVVRDNLE', 1), ('RSP', 1), ('TAMAAGSLGLLLP', 1), ('VAVPFSPAVGVDFELE', 1), ('KLAMSKKQELEEEL', 1), ('EAK', 1), ('TELVPTREDLTAA', 1), ('KTK', 1), ('TLNPTIPLFQA', 1), ('GEETRRQEKP', 1), ('EPS', 1), ('SDEVGGEALGRLLV', 1), ('SRLLESLDQLEL', 1), ('LSSWDQRKTQLLS', 1), ('ILTCPSNLGTGLRA', 1), ('SNSTVVALPEGR', 1), ('LDK', 1), ('SLVAELQKQGDV', 1), ('AISPWTPSPRLHAE', 1), ('TKEEVSKSQIALQT', 1), ('TGGSGDELLGITALMAAV', 1), ('SEELVRQRGVL', 1), ('LDWLSEKPEL', 1), ('TGDDKKRIIDSARS', 1), ('LLGMLDPVEKD', 1), ('TVFHSVLAGLVCGL', 1), ('SQPETKAIIEN', 1), ('LSRNSRDAIAAL', 1), ('DEQLSAPKKDV', 1), ('TKGADPRSVSLVEG', 1), ('EKK', 1), ('SRWPSLVDRN', 1), ('SFRCALKEYI', 1), ('SSNLEKIVNPKG', 1), ('TATASALGPSTPR', 1), ('TKIYHPNIDE', 1), ('SLNNTYGFKVS', 1), ('THKTSTSPIVKS', 1), ('TVFLTMFGEKL', 1), ('GGK', 1), ('KAK', 1), ('VTPFMIFFKDGL', 1), ('PNSRNSSRVLR', 1), ('PNANLRYRFVGSPA', 1), ('TDTARRLLEPGAD', 1), ('ADCILVLEAALR', 1), ('SLSGLSISSAPPAV', 1), ('TDEDELTGILKKLS', 1), ('TDITAEGSPTKVQKS', 1), ('SALREIRAQLE', 1), ('AKK', 1), ('SHKEICKKDKSL', 1), ('EDAAVGTSVVSVTAVDR', 1), ('ERK', 1), ('RLK', 1), ('EDLAALKQRLE', 1), ('TPVSIQVTVQDV', 1), ('TTGPRAQIGSGAVA', 1), ('LWK', 1), ('LSEERRPSPKES', 1), ('TLVAGLTSNKPAD', 1), ('SLEKIADPTLAE', 1), ('SPTQNVGLLKTE', 1), ('NPMKAVGVLAGVM', 1), ('SLYSNFLDTLKN', 1), ('TEKPKDSTAEAKKE', 1), ('SIKELGDHVHNLVT', 1), ('VMDRIIQADIL', 1), ('TQLATAWVNLAV', 1), ('TPGGTLFSTTPGGTRII', 1), ('SNLNLKPGECLKV', 1), ('DTDTARRLLEPGA', 1), ('STGALETRSLKDH', 1), ('TTNIQIRLADGGR', 1), ('TALMQATYHGNKEIV', 1), ('EVK', 1), ('SEELVRQRGVLE', 1), ('LTNGRTLLLAFDNN', 1), ('TEEGLPFLILFH', 1), ('TTKKVTQLDLDGP', 1), ('TLIGASGQREVVAD', 1), ('SLSRKAGPGGTRSAA', 1), ('SNTKEELIELKEE', 1), ('THVDSLRTQLAPHS', 1), ('SNKKHPFPCPTTYR', 1), ('CDLVLVMENGKVIE', 1), ('IRMMSTGSKKSLLSH', 1), ('TVNNNQQSLFQRL', 1), ('IQVSEGFHVGLTFQ', 1), ('TALTRLLMVDLGEDE', 1)]\n",
      "\n",
      "Filtering time took 0.3908710479736328 resulting in 10 b sequences and 3 y sequences\n",
      "First alignment round took 0.004127025604248047 time resulting in 43 alignments\n",
      "Getting rid of ambiguous time took 0.05368995666503906\n",
      "Filling in precursor took 0.005591869354248047 for 43 sequences\n",
      "Time to make into objects took 0.005462169647216797\n"
     ]
    },
    {
     "name": "stdout",
     "output_type": "stream",
     "text": [
      "Analyzing spectrum 4/9[33%]\r",
      "B results before filtering:\n",
      "[('DPQVEQLE', 7), ('PAGDQKDV', 4), ('PDAGAPTSASGLSGHTTL', 4), ('TQAGVEELDPENKIP', 4), ('DPEVQQI', 4), ('TVFSDFL', 4), ('HSLMPMLE', 4), ('GTYFEVKIPSDTFYDN', 4), ('AGPQPAQTGA', 3), ('NPEEVLQ', 3), ('NEPQSVR', 3), ('QPDV', 3), ('PGGEEVLREQAGGD', 3), ('PQDHPRSQPQ', 3), ('QAGPGASQ', 3), ('ANATNPE', 3), ('TGAAGRNS', 3), ('AGGATVEPAG', 3), ('KPEGRPGT', 3), ('KEGGPNN', 3), ('QPSVSS', 3), ('PSSAPELQ', 3), ('INPDEAVA', 3), ('PSPSEAQ', 3), ('YYEIQ', 3), ('LNCHTQ', 3), ('HCQQLSI', 3), ('QPARED', 3), ('EDNLPQ', 3), ('DPRAEEI', 3), ('TQRPCRH', 3), ('HTDTNKIE', 3), ('GQPADDI', 3), ('KNHTSE', 3), ('SHANTWL', 3), ('YALYDA', 3), ('IYEGYAL', 3), ('HLTDTEI', 3), ('KYFDSGDYNMAKAK', 3), ('TMVQTHL', 3), ('TFYDIVAE', 3), ('TPPPAGEAAF', 3), ('FSLHDP', 3), ('TLSFSSIS', 3), ('PQQPQPPPQQQAAPQ', 3), ('KRCPTCHNIIDN', 3), ('GDEPGPQRSVEGWIL', 3), ('TDMTKLEECVRSIQADG', 3), ('IEKNTDGVNFYNIL', 3), ('APGSGIWSDGKD', 2), ('GPAPQ', 2), ('GAPPQ', 2), ('ENPQ', 2), ('PENV', 2), ('EPNQ', 2), ('PDQQ', 2), ('PNEGA', 2), ('PGDAV', 2), ('DKNDI', 2), ('VNGSRPPC', 2), ('AQASVSNG', 2), ('PYPID', 2), ('GSNVVE', 2), ('NKDQEVNFQEY', 2), ('DNKDL', 2), ('GAAGTQAELPHRRFE', 2), ('GATQALASCQRDFRN', 2), ('GGVGSLD', 2), ('AASAGEPLSSLPAMGPPS', 2), ('SAAPESPG', 2), ('GAGAVPVGVDDPEDGG', 2), ('VGSLDNVGH', 2), ('PSVTNSVHG', 2), ('PAAAEE', 2), ('PNSVHYL', 2), ('PGKNDNA', 2), ('GKEPPTAE', 2), ('GISFEY', 2), ('NPLSPEKG', 2), ('AAPAEE', 2), ('PEGRQE', 2), ('TNVVQDSTSTHQP', 2), ('VTPNEYTAACS', 2), ('ISGFQIEETIDRETSGN', 2), ('SPINSS', 2), ('ASSSLHN', 2), ('APEAAE', 2), ('YYLE', 2), ('IYYE', 2), ('NPDDRV', 2), ('NDLPE', 2), ('VPENE', 2), ('EPVNVFDIDAHTG', 2), ('SSAPPAVSN', 2), ('IDNPE', 2), ('PVDNRD', 2), ('QVDPE', 2), ('TTP', 2), ('CHTIQN', 2), ('EDPQVEQL', 2), ('TGEPPS', 2), ('DKTHSSFSSTVKDKA', 2), ('PGREEE', 2), ('REDAGAP', 2), ('DLQENP', 2), ('YDPPLE', 2), ('LEDNLPQ', 2), ('ELLE', 2), ('GLEFNHL', 2), ('ELQQNPL', 2), ('DTLHET', 2), ('QSLQETAHQEQD', 2), ('HVYWEKAEQ', 2), ('TEAGNL', 2), ('GLAPDEN', 2), ('NENEPL', 2), ('SASGLSGH', 2), ('ADINAPD', 2), ('EAVAYY', 2), ('EAPSPTGG', 2), ('QSSHKE', 2), ('NAPGGSNV', 2), ('EEPNNL', 2), ('EPQPASS', 2), ('EGQPRE', 2), ('VGTYFE', 2), ('DAQGDIP', 2), ('ISHTEE', 2), ('PAQRDE', 2), ('EMLWH', 2), ('YEGYAL', 2), ('YKEEF', 2), ('RPEANE', 2), ('ADLGPGDA', 2), ('NHSAGMV', 2), ('SKEQSH', 2), ('FYEKE', 2), ('PEMEPL', 2), ('EQYIY', 2), ('YEEFK', 2), ('SLSGEHSI', 2), ('SFSERKEEEKEEL', 2), ('GHTDLSSL', 2), ('LEGEECRIGFGPSPF', 2), ('GSGPPSGTGL', 2), ('SDEHKTDLNP', 2), ('SGRYYAL', 2), ('SGPGASSGPGGDHSEL', 2), ('EYYNKL', 2), ('YRAGYSL', 2), ('GWLEPDL', 2), ('SSDTPLPDTEK', 2), ('FYSNSVL', 2), ('YRGSFSYRPG', 2), ('GQLGLPDEE', 2), ('VFFGPDF', 2), ('LTHNWGTE', 2), ('GVIDQPEAE', 2), ('SLGEYLFE', 2), ('GVELNPEAE', 2), ('LNHSAGMVE', 2), ('ELTLHSE', 2), ('TTS', 2), ('SARYWFAMERLEIHS', 2), ('VDANRTGPAG', 2), ('EFCRKFRLDCP', 2), ('NLCLHFNPRFNAHG', 2), ('HEKDAGVVCSNDTTGLHI', 2), ('AFVKSYENLAFYW', 2), ('LEPEWAAAA', 2), ('NQPEGVSIN', 2), ('STFIGNSTA', 2), ('TLFQDTMAMGGEL', 2), ('TFSHEL', 2), ('LHAYDQHLNMILGD', 2), ('QNPEFV', 2), ('QENPEATLTMSLAQTVY', 2), ('FSSPAPQ', 2), ('FSYNGK', 2), ('HISFDP', 2), ('LQGWNKTMDGKADVSFV', 2), ('QVWADP', 2), ('MLIYSSK', 2), ('HKGESQRCPN', 2), ('FMQHHRDLSGLLVS', 2), ('GMNIVEAMERFGSRNGK', 2), ('KKE', 2), ('IETEEL', 2), ('HGFHVHQYGDNT', 2), ('QEMNLVDYSRPSAK', 2), ('GGGSASALNAAGTGV', 2), ('TYEHAL', 2), ('KDSTNRDSLDMIERCI', 2), ('TDKIFRQMDTNNDGKL', 2), ('RHSQWKNSF', 2), ('REAFDLFDADGTG', 2), ('DSYVGDEAQSKRGIL', 2), ('NLYCKASVPPTDKVC', 2), ('GSCTSCPSSIITLKSGIQN', 2), ('FNNLSQSNMTQKVE', 2), ('QVSALLGEEDEEALH', 2), ('AFNNRPPSTWLTAY', 2), ('PTEQQQPQPHHIPT', 2), ('DVNDNAPQFVASH', 2), ('KPSPMPVSPECLE', 2), ('VSLDENFHPLNELI', 2), ('SYAGGRGSYGDLGGPII', 2), ('KRKACKNCTCGLAEELE', 2), ('KYHIQVCTTTPCML', 2), ('ELGCVKYPFENELP', 2), ('ADQVTPVSHIGCPNTTQQ', 2), ('PGA', 1), ('DQP', 1), ('EGGTTNPHVFP', 1), ('QDP', 1), ('GPDGL', 1), ('GVSPDEL', 1), ('VSNDGI', 1), ('KGG', 1), ('NVSTPS', 1), ('DGGRSLE', 1), ('KGD', 1), ('AAGWSEL', 1), ('AATGIQPSP', 1), ('TAN', 1), ('NVGHL', 1), ('SAQTHMCSQLKQYL', 1), ('VGGVFDVSNADRLGFS', 1), ('TAA', 1), ('KPG', 1), ('NPTEKETEEI', 1), ('KAD', 1), ('KGP', 1), ('AKDSPS', 1), ('SVGIEADDDRL', 1), ('EGKSPS', 1), ('PTGSP', 1), ('PQV', 1), ('NLPS', 1), ('LGSGSPS', 1), ('GSPGL', 1), ('PQS', 1), ('LNPS', 1), ('LGGSP', 1), ('KDP', 1), ('TVP', 1), ('GVASP', 1), ('PTAMNSI', 1), ('PNIMLSIDRMEHPS', 1), ('SPGKELC', 1), ('PGSGI', 1), ('SQPHGERF', 1), ('TPG', 1), ('GAVSP', 1), ('VAGPS', 1), ('PGTPS', 1), ('QVPS', 1), ('SIGGSAAPHT', 1), ('NIDCGGGYVKLFPSGL', 1), ('NDPEL', 1), ('LYY', 1), ('YYI', 1), ('VDPLTTVREHCEQL', 1), ('VDQYSEVCVQML', 1), ('TSP', 1), ('PPSSKEEGHQGLVGCI', 1), ('GIPRAPSSDEECFFDLL', 1), ('DNPL', 1), ('LDNNRPL', 1), ('PSAPS', 1), ('KSH', 1), ('DTTRHVL', 1), ('EIG', 1), ('SHKEIC', 1), ('IEN', 1), ('VEDEL', 1), ('ELD', 1), ('LHTLASEKGDPHLCDFL', 1), ('GPQPA', 1), ('EQVLDAVNKGFYKE', 1), ('PDTEAAL', 1), ('PDSSGPERI', 1), ('VDHMNLL', 1), ('EDLDL', 1), ('AAENSL', 1), ('GVNHI', 1), ('EDVEL', 1), ('EAETPGAVSP', 1), ('AKSDPS', 1), ('EHRSWEAVESSP', 1), ('REYILTC', 1), ('ENSAAI', 1), ('LSEEEVTSVKDMSPS', 1), ('EDEGHL', 1), ('DQKYQKQCEEL', 1), ('DLIEFEGDFSLE', 1), ('KEA', 1), ('TEQ', 1), ('EEDVL', 1), ('IDDLE', 1), ('DKDNL', 1), ('LDDLE', 1), ('MNRPS', 1), ('LAEDLEEMDYILSP', 1), ('GANVMLE', 1), ('SVSQSP', 1), ('TDA', 1), ('DALASAAGHLDD', 1), ('KEE', 1), ('ELE', 1), ('THN', 1), ('TEL', 1), ('PDGGFIQ', 1), ('TAP', 1), ('YSNVVFL', 1), ('ADPPLGYP', 1), ('GSSPQQSDLASL', 1), ('PDENAPPGRRRTNSESL', 1), ('AHEI', 1), ('YGGLSSSSSL', 1), ('TAL', 1), ('EKPDDI', 1), ('QQAAHYMFFPSVVL', 1), ('FQKVMSNLDSNRDNEV', 1), ('LDLYAYA', 1), ('IMESVLCVQYTDEPRI', 1), ('EIL', 1), ('PQE', 1), ('TYL', 1), ('YVSWYQQKPEQSP', 1), ('KMY', 1), ('GESKCPL', 1), ('LSFETTEESL', 1), ('IGNSYFKE', 1), ('YSGQQSTYGKA', 1), ('RVQENSP', 1), ('KHG', 1), ('ALEANPNL', 1), ('TVT', 1), ('TDG', 1), ('KPM', 1), ('EATGTIQEDYLREL', 1), ('LFSDNAPPP', 1), ('TPR', 1), ('FTSL', 1), ('QEYYNKL', 1), ('LFDLESAY', 1), ('TQP', 1), ('SSTVNTEVYPKNSTL', 1), ('HSSPGKELC', 1), ('FST', 1), ('TAI', 1), ('SFL', 1), ('AYL', 1), ('ELA', 1), ('QQPQPPPQQQAAPQP', 1), ('VVDEREQMAI', 1), ('EALENLCERI', 1), ('HAEL', 1), ('AHIE', 1), ('FSA', 1), ('YAA', 1), ('ENAPG', 1), ('ETHT', 1), ('AENATASSVVSPPAPLE', 1), ('SYFSPGKAFEG', 1), ('TYG', 1), ('LEE', 1), ('IEE', 1), ('FSH', 1), ('IEL', 1), ('IIEKNTDGVNFYNI', 1), ('ALGNHSADL', 1), ('WQGL', 1), ('LMYL', 1), ('YIFQELADKCSP', 1), ('KAY', 1), ('MAEYGTLL', 1), ('LCWHPEI', 1), ('TDS', 1), ('EHPFSV', 1), ('PEWAAAA', 1), ('ISPFHD', 1), ('ESRELYVME', 1), ('TQE', 1), ('QLEQLC', 1), ('SRNEDL', 1), ('EQNMVL', 1), ('LQDFDNMTWEI', 1), ('PLQQTLATYLQCMQ', 1), ('ASGCLEGQMFL', 1), ('DSELSIHNGPS', 1), ('TAE', 1), ('SDRNLE', 1), ('ELC', 1), ('LCQQEL', 1), ('TNR', 1), ('PSKPDGQL', 1), ('ERAQQPL', 1), ('FKEAFSL', 1), ('LAGYCQACDVL', 1), ('IEP', 1), ('SSVVYSSI', 1), ('VAEPIPIC', 1), ('YVAVMSDL', 1), ('TLA', 1), ('CIGEYSLI', 1), ('TIT', 1), ('FQLALKDCEECI', 1), ('AYQ', 1), ('SSLPAMGPPSDP', 1), ('CSLNQNSVPDI', 1), ('FDKADREEGKDRRHH', 1), ('KDL', 1), ('YGTEVHTDTNKIEEFL', 1), ('SATFPMQCSAL', 1), ('LES', 1), ('LPAMGPPSDPVMTT', 1), ('LNGGPGCSSLDGL', 1), ('GENDPEPRYL', 1), ('TDV', 1), ('TIS', 1), ('RSSQNICKTGDSTDALSL', 1), ('MQHRYVELFLNST', 1), ('EKNTDGVNFYNI', 1), ('QKQEYHQAVQHLE', 1), ('KNQ', 1), ('FLLYGTEVHTDTNK', 1), ('KSS', 1), ('EPLSEDTVAGLSTHAL', 1), ('GGSDLGEAPTRIAPGEL', 1), ('IHETTYNSIMKCDIDI', 1), ('SFD', 1), ('ESQTPNCFVTSLKSP', 1), ('EQACRDGSSIQIAFEEI', 1), ('SLEKYQPIFEEQE', 1)]\n",
      "Y results before filtering:\n",
      "[('LDSFSEI', 5), ('LESYGLE', 4), ('FVDLTMPYSV', 4), ('EISSIDEF', 4), ('SSNWVGKGFFAVYEAIC', 4), ('EIPHSELD', 4), ('LLMAASIYFHDQNP', 3), ('LQCYSEAIKLDPQN', 3), ('AGHGQEV', 3), ('QLHNGE', 3), ('DLAGHGQ', 3), ('QGLHEN', 3), ('QFSTQS', 3), ('LEDVQAH', 3), ('QMGPHQ', 3), ('QCRSGF', 3), ('IVETDSF', 3), ('LESDPIH', 3), ('EYFTGATFCV', 3), ('VEISFC', 3), ('LLDSFSE', 3), ('LCAPNRH', 3), ('LFFPEGT', 3), ('LEMSALF', 3), ('VEWYT', 3), ('LGEGSYGK', 3), ('LFSHVDFSGDGKS', 3), ('LLFTDDS', 3), ('IVESDFT', 3), ('DLFLSC', 3), ('LDLADYT', 3), ('SEEGYL', 3), ('PENPEI', 3), ('QLHLNAED', 3), ('QIAQNDPGP', 3), ('ESEDLFSL', 3), ('EVLETDPH', 3), ('EIEGEIKRDFMAAL', 3), ('AKDLDTVASDMMVLL', 3), ('TEEKMEL', 3), ('QQQPPKQQQQQQQQQ', 3), ('SGGGGSAAGGTEGGSAEAEGAKI', 3), ('RVSLYYESLCGACR', 2), ('NEWAAEIPGGQ', 2), ('EGGGSEALPCPGPPAG', 2), ('VNPTVFF', 2), ('SCDARGNLQPAPAQPP', 2), ('PATTQPQGTTQPPAQP', 2), ('SSFFV', 2), ('PPATTQPQGTTQPPAQ', 2), ('SSPAPQ', 2), ('QLYSTQA', 2), ('GPRSGRFC', 2), ('QISKDYG', 2), ('QEQAEQGREHLA', 2), ('GGAFGGRGRSYS', 2), ('EAVAYY', 2), ('LLSYWPALGECEAAP', 2), ('EEYKE', 2), ('GAFEGPRCEVAARSFPPS', 2), ('GNPSYKYFYVSA', 2), ('PEL', 2), ('EFYEK', 2), ('EQYIY', 2), ('KFFTPSP', 2), ('VCITFD', 2), ('DMVYLG', 2), ('LTMFGE', 2), ('HEAGVGQ', 2), ('YSNRSA', 2), ('PTANAHS', 2), ('DVTSFE', 2), ('SEDLFS', 2), ('SFSEVE', 2), ('MYIVDG', 2), ('YVASEE', 2), ('WELSY', 2), ('SDYVDV', 2), ('LVEFSC', 2), ('DVSMVF', 2), ('SYLDEA', 2), ('EESAYV', 2), ('SNRYTG', 2), ('EYGLTD', 2), ('GGSAAPHT', 2), ('LEDSSF', 2), ('TSTPYE', 2), ('APGHTSQ', 2), ('EEVYSA', 2), ('LGETYD', 2), ('TYDLGE', 2), ('KEEYE', 2), ('FSESVE', 2), ('ATGFISC', 2), ('LDLHEAGG', 2), ('IMYRTQ', 2), ('EHPFSV', 2), ('LPDSSHVG', 2), ('IYFSPAN', 2), ('LEPEDL', 2), ('TQATFM', 2), ('LHGRAEE', 2), ('AGINHNITTGRFGDF', 2), ('FSHYSGL', 2), ('LATYLQC', 2), ('LQFKMDAS', 2), ('TPRATAPQTQHVSPM', 2), ('ICGRIFC', 2), ('LQEHRE', 2), ('HFDADGSGYLEGK', 2), ('LEL', 2), ('VEL', 2), ('TEI', 2), ('ELASMFL', 2), ('EGMKFDRG', 2), ('EFKSDNTV', 2), ('QYEKERS', 2), ('AGSTALYWA', 2), ('QEEAKHPT', 2), ('GAVNADKHQ', 2), ('QVVDINDH', 2), ('EEQKEMEDKVTSPEKA', 2), ('EGDTQLNWNIVSFP', 2), ('TCI', 2), ('TAEGLGTRGEDVDQLITC', 2), ('TCLL', 2), ('SSISASSKG', 2), ('TSYTML', 2), ('FLRAWNYTVDTPH', 2), ('FSQAMDLVQEFIQHQG', 2), ('FCL', 2), ('IMEPESRFY', 2), ('FHDISP', 2), ('YEGYAL', 2), ('EEL', 2), ('SFITNLE', 2), ('AEL', 2), ('FSNKNTL', 2), ('KLPFAEGLYHFYH', 2), ('EEGIGTVGISNFAQEA', 2), ('LIDDAWREDKLPYED', 2), ('RTGPAATTLSDTAAAES', 2), ('GGGSEALPCPGPPAGE', 2), ('FSSYRLPGHTQDTL', 2), ('LETVQAVQSLTQEESSE', 2), ('SNGWYNYRHQA', 2), ('ETHTGTSASAPL', 2), ('EEEEGSIKVETVDGIDE', 2), ('ILAMIDEGETDWKV', 2), ('IEGEIKRDFMAALE', 2), ('TFPNKELADENQTL', 2), ('DEI', 2), ('EEEGSIKVETVDGIDEE', 2), ('TMDFPTPAAAFRSPL', 2), ('APGN', 1), ('REDAGAP', 1), ('AYLAETLYYAMKGAG', 1), ('REENAP', 1), ('PAGN', 1), ('APGGG', 1), ('ELGGGPG', 1), ('FSGSIVSN', 1), ('TSAGPH', 1), ('KDYGS', 1), ('ASSSLHN', 1), ('TSQFS', 1), ('TTFNS', 1), ('DPS', 1), ('ELEPASFS', 1), ('APGGVDA', 1), ('PQNHVLYSNRSAAY', 1), ('YYLQ', 1), ('YAGIY', 1), ('KSTGG', 1), ('KEYF', 1), ('YYL', 1), ('NNL', 1), ('QPNVE', 1), ('GAPLDN', 1), ('KMGNH', 1), ('DNLPQ', 1), ('SFGLY', 1), ('KNCSET', 1), ('FYEKE', 1), ('KSVSDY', 1), ('LEEHPGGEEVLREQ', 1), ('PAGEEPV', 1), ('TVQDVNDNAPV', 1), ('QVWADP', 1), ('TYSLGSA', 1), ('VPS', 1), ('KSTW', 1), ('ADI', 1), ('NHPPHP', 1), ('LEEIPD', 1), ('ELLDPE', 1), ('SSP', 1), ('TNNPAQA', 1), ('EIE', 1), ('RHL', 1), ('KTNYQLG', 1), ('TFIGNSTA', 1), ('TRSVSSSS', 1), ('VAL', 1), ('TFEEVSV', 1), ('TASQPCSIVDVEF', 1), ('KYLEEE', 1), ('ELL', 1), ('TPPPAGEAA', 1), ('LDL', 1), ('KGGYP', 1), ('TNPHVFP', 1), ('NPDDRV', 1), ('TVPAYFN', 1), ('EDI', 1), ('TTSTTTTV', 1), ('KEMGYLA', 1), ('QPEHMKQPRVYTSYN', 1), ('KVTSDWYYARSPF', 1), ('FSSDSLR', 1), ('KDNGHIQ', 1), ('HPS', 1), ('PYPYPRYTD', 1), ('KKGIVDQSQQAYQE', 1), ('VQL', 1), ('PEWAAAA', 1), ('LTL', 1), ('TEKAEKSS', 1), ('FSGDPNWFPKKSKENP', 1), ('IVRGDQPGASGD', 1), ('AYKDEWK', 1), ('KRMS', 1), ('KDGDYWR', 1), ('TDPRADHQ', 1), ('DLE', 1), ('TMVV', 1), ('FSPV', 1), ('TSNK', 1), ('YHEGLP', 1), ('PYL', 1), ('TLC', 1), ('PGI', 1), ('FPS', 1), ('TKNS', 1), ('KCMVQSK', 1), ('VEHPFS', 1), ('FVTHVSDWGSLATIS', 1), ('TSIM', 1), ('ELALDSTM', 1), ('HPDLAY', 1), ('LHL', 1), ('HLL', 1), ('KGMVS', 1), ('AGPTSGLPSPSYRFQG', 1), ('FNL', 1), ('KFEEHVQSVDIAAF', 1), ('YYEIQNAPEQACHLAK', 1), ('FQI', 1), ('QNDPKN', 1), ('EIIAFSDHAEDF', 1), ('KEAFEIS', 1), ('HHL', 1), ('KNHTSE', 1), ('ELE', 1), ('TMVVHE', 1), ('SASGLSGH', 1), ('YFKEE', 1), ('RYFET', 1), ('HATKDSG', 1), ('IMPEPE', 1), ('GTYFEV', 1), ('VGTYFE', 1), ('FSLHDP', 1), ('FSYNGK', 1), ('YKEEF', 1), ('QAGPGASQ', 1), ('HNPLGTPGS', 1), ('NRSMAH', 1), ('QPARED', 1), ('LGL', 1), ('LEAFKES', 1), ('SLE', 1), ('TVNGDVFQ', 1), ('TGCVFLLA', 1), ('KDNPKFM', 1), ('AAYSKLGN', 1), ('SFGRGSTAP', 1), ('AYQEAFDISK', 1), ('KDL', 1), ('TPNQTTAF', 1), ('EAL', 1), ('TLFSTTPG', 1), ('EYL', 1), ('EFL', 1), ('TANDGFVR', 1), ('SHL', 1), ('FLL', 1), ('FSDGHSEFLKAAS', 1), ('KTQLSTSD', 1), ('KKSLDSDESE', 1), ('TEEFFDLIAS', 1), ('LEKYKNIDEDE', 1), ('VDI', 1), ('TNMALNILNDMTATV', 1), ('QPTLLLYVDAGAETM', 1), ('TNTSHVMQYG', 1), ('TEDLSQPNSTEKGRDNS', 1), ('TDTAELGIQVCALTAEKD', 1), ('TYFPHFDVSHGS', 1), ('ELSEVFENQSPD', 1), ('TMVEHHLGQQKQGE', 1), ('TMKEYHLRLNEDA', 1), ('QPPGDPAAQASVSNG', 1), ('QPDGVTLEYNPY', 1), ('KMGNFQLVKEIADE', 1), ('VKL', 1), ('FAVANDTGFVDIPQQ', 1), ('FSCTMLYLFAEA', 1), ('DQL', 1), ('LSL', 1), ('IETELRDICNDVLS', 1), ('KSLVVFCMATYGEGD', 1), ('KKRKEEEEAEDKEDD', 1), ('SPI', 1)]\n",
      "\n",
      "Filtering time took 0.32790303230285645 resulting in 1 b sequences and 6 y sequences\n",
      "First alignment round took 0.0006940364837646484 time resulting in 13 alignments\n",
      "Getting rid of ambiguous time took 0.0017390251159667969\n",
      "Filling in precursor took 0.0027740001678466797 for 13 sequences\n",
      "Time to make into objects took 0.003092050552368164\n"
     ]
    },
    {
     "name": "stdout",
     "output_type": "stream",
     "text": [
      "Analyzing spectrum 5/9[44%]\r",
      "B results before filtering:\n",
      "[('DLQTLA', 4), ('ESLQLAGKWDLGNLLL', 4), ('LSSLEKSSPTPRATAPQ', 4), ('TVVTEAGNLLKDNAT', 4), ('PGGGDVKIESQKLNFKEK', 3), ('LDQVP', 3), ('QLDCALDLMRRLP', 3), ('DQLTEEQIAE', 3), ('GLGETLQEKLLERQEKT', 3), ('LNETVT', 3), ('IDQALT', 3), ('EGLGVIACIGEKLDE', 3), ('QDLTNNITLEDLEQLKS', 3), ('NELTLA', 3), ('NIDPLTALHYLRKLDSC', 3), ('HCKALA', 3), ('IYYLA', 3), ('INPDLA', 3), ('NPDLAL', 3), ('IDNPL', 3), ('EAEKSLEQ', 3), ('SLADAINTE', 3), ('VTEQGAELS', 3), ('LSQELDFVSHNVR', 3), ('ISSAPPA', 3), ('GFMTRVAL', 3), ('FKDSTIKRE', 3), ('SLTPQPSPQLPT', 3), ('DIVNEEDKDVLI', 3), ('VTSPEKAEEAKL', 3), ('VTTVTTVQSRPRVDGKLD', 3), ('ISKVSSKCGSK', 3), ('LYNITTGLYPF', 3), ('TDVYKGVLKDYT', 3), ('EVTLSAYIT', 3), ('FYPKDINVK', 3), ('DYWKALVTK', 3), ('LDVESHAII', 3), ('TVISNWIKY', 3), ('YHRYPELREALV', 3), ('VEVERDNLAEDI', 3), ('SLPQANSS', 3), ('PHAS', 2), ('ADVAT', 2), ('QVEGIP', 2), ('INET', 2), ('ENLEQV', 2), ('TASPPTRIRTTT', 2), ('VEGPG', 2), ('NEIFPETKLDK', 2), ('LDAFLKEPALNEANLSNL', 2), ('LENPV', 2), ('TGPTT', 2), ('VEQ', 2), ('IEGKFGML', 2), ('NLEDDVV', 2), ('EVQ', 2), ('DGLAEDLA', 2), ('TTPGT', 2), ('ATSPSTL', 2), ('TPTGAAPPA', 2), ('APTTSGGLNKKPM', 2), ('DQIQNAQYLLQ', 2), ('STAPGPL', 2), ('EVAG', 2), ('DGALT', 2), ('IGADT', 2), ('ADGVLVSGADNGT', 2), ('NIET', 2), ('LGGEEEKDPDAQKK', 2), ('EGGLGPL', 2), ('LAGDMGELALEG', 2), ('DAALSAL', 2), ('AAVDT', 2), ('ATPST', 2), ('GEGIT', 2), ('SPTAT', 2), ('ADISARKMAHPAMF', 2), ('GTPTSSTPRPSIT', 2), ('AGLVQHLEEYAAT', 2), ('GDIAT', 2), ('GVEAT', 2), ('EVGA', 2), ('CPRGALGAAVRLCD', 2), ('PGHTSQLKSQTSFK', 2), ('VCRALGY', 2), ('CGRLFATLLPQD', 2), ('RAAVEEGIVLGGGCA', 2), ('CRIGFGPSP', 2), ('LYYDEYLKQV', 2), ('PSSAPAL', 2), ('PSPFSLTEGLPKIPSIS', 2), ('VPENI', 2), ('SAPLPSA', 2), ('LDNP', 2), ('NPEV', 2), ('DLNP', 2), ('EVNP', 2), ('LPNDL', 2), ('KEAELS', 2), ('NITELNLPQLEMLKN', 2), ('VDDKWDTLPIAE', 2), ('TAEGVLS', 2), ('QLTDAL', 2), ('WDRAI', 2), ('LQESIS', 2), ('TLNEYHTRAKT', 2), ('AEIGSLS', 2), ('DWRNVN', 2), ('TNLESL', 2), ('SQELDFVSHN', 2), ('TGAEVSEQI', 2), ('SEQISL', 2), ('EEKAAL', 2), ('TNIESL', 2), ('ELTRASLGHYGDIN', 2), ('AADPPLGYPIFSSKPLP', 2), ('LQSKNGSFTPRTAHIL', 2), ('AEASVSL', 2), ('TLDSQIQE', 2), ('TDQLAL', 2), ('VSSLTEEISRRG', 2), ('ATEGVAI', 2), ('VVDPAAA', 2), ('DIPLN', 2), ('KEPPTA', 2), ('TEPPKGPG', 2), ('VDVFRQNLFQ', 2), ('PPEKTTEDKATKG', 2), ('VQIDPLAGMASLS', 2), ('ASVPPTDKVCLWLGANV', 2), ('SPLPSASTISVTNQ', 2), ('MKHRA', 2), ('PPLSASA', 2), ('AAHANNI', 2), ('YCKPSKGGKR', 2), ('YKTAFKSLQEQNS', 2), ('SIYIF', 2), ('STKDFL', 2), ('DSTKFI', 2), ('DGKMFI', 2), ('NTSYII', 2), ('VSNNHVLIYLDKVSNQM', 2), ('SLYFL', 2), ('DKYTAL', 2), ('STMMKI', 2), ('GLNHLDSLKGTF', 2), ('TDYKAL', 2), ('MGSFRI', 2), ('YEALKDFFRLFP', 2), ('LYGMNL', 2), ('QPGSITEVC', 2), ('SSHAAVAGPSIPGGPP', 2), ('LDLIGKTSEMAR', 2), ('LSYLF', 2), ('LISGAEAASFQRNQLLQK', 2), ('QASIRHLGNQ', 2), ('DEKVKYL', 2), ('VSRHDPA', 2), ('LLQDHDVRQ', 2), ('KAKETMKAQVAEKEAALQ', 2), ('DDVALKNFAKYFL', 2), ('EQTLAVQAH', 2), ('IIDDKG', 2), ('SSLLEQ', 2), ('NPKTFFILHDINS', 2), ('IPTRACEGQENAI', 2), ('DELGKVLTPTQVMNRPSS', 2), ('IGGFGYPA', 2), ('AKGHYTEGA', 2), ('VNKCYRGR', 2), ('VDELGK', 2), ('KLSSPEREVERDV', 2), ('TVLHLMSVDVST', 2), ('NWVGKG', 2), ('RSTSPINSSPPRC', 2), ('LKEWTLMLHGTQS', 2), ('PEAFRGVHRYLSN', 2), ('TDWVRQE', 2), ('QSKWQEQ', 2), ('KSLSQNYGV', 2), ('KIETELRDICNDVLSLL', 2), ('PLKDGFTEVQLS', 2), ('VMWLQGGPGGSS', 2), ('LWTEKKQHRKTTTTLC', 2), ('GLLYVLCNT', 2), ('ISVT', 2), ('DARALMLQGVDL', 2), ('AVTLDMLDLGAARANLEKA', 2), ('EVIVEIPTRACEGQ', 2), ('YGRSPPAVAMQAGP', 2), ('MSLRFGA', 2), ('YTAAALSGGLMVFTAA', 2), ('VFRSMA', 2), ('TSTTTTVA', 2), ('LNYMAVA', 2), ('VWRSYA', 2), ('VITSQY', 2), ('SMYVPGKL', 2), ('SQRLFMI', 2), ('MKLENFEAAVHL', 2), ('RIMNTF', 2), ('ITYLNTG', 2), ('FVHELHL', 2), ('HVFNKHDGALK', 2), ('TYLQEKL', 2), ('FTHLYTL', 2), ('DLFLHH', 2), ('TEKKEFL', 2), ('ERRAYSNLGNAHIFLGR', 2), ('ASRREYL', 2), ('ITACLFGGI', 2), ('EFIKASSI', 2), ('KFMELNL', 2), ('FLAAKECL', 2), ('DLKDKY', 2), ('CPSAYKLL', 2), ('YSNSVLVL', 2), ('LYKEMVD', 2), ('YTIIMAA', 2), ('QLFDFID', 2), ('MNRFSKD', 2), ('DYLMKILT', 2), ('VVASYPFD', 2), ('WQHALQD', 2), ('DGVQLPPGD', 2), ('NNLHWVTEY', 2), ('RGIWHND', 2), ('DHLRELLT', 2), ('HVLNKDGLT', 2), ('SDRLLYKDGFST', 2), ('KDKQDEEQRLKE', 2), ('VMFIVSAGA', 2), ('NTVLNCDLVLVMENGKVI', 2), ('MRHQILPKDQ', 2), ('ELKEYESII', 2), ('WLKFVSDGSIN', 2), ('KMIREYRQ', 2), ('KRTYEEGLK', 2), ('GSILASLSTFQ', 2), ('LTTYLQEKLGASPLHV', 2), ('TTYLQEKLGA', 2), ('HLRAQLEEQ', 2), ('LYVDDPNWPGIGVV', 2), ('FHGIPATPGVGA', 2), ('PFIKEYQAK', 2), ('DNTVSKKGFK', 2), ('KGATKEQSFK', 2), ('LIDDHFLFDKPVS', 2), ('NQISAAPKPAAPT', 2), ('WPKVPDSPATKYPIYPL', 2), ('MIRALEYIEK', 2), ('VLTSDQSSP', 2), ('MRLPDPFTPNLKVDMLS', 2), ('RLMLQARTYAEAAAAPAPA', 2), ('LSVT', 2), ('LSIS', 2), ('LSTV', 2), ('VTILEYLTYLHHKRGE', 2), ('ISTV', 2), ('RFVLDCKDK', 2), ('HVEGVNLATLA', 2), ('DVELTVEE', 2), ('DILMDRILPDSGG', 2), ('HRYEDTL', 2), ('DDILKELQDNAQ', 2), ('EDVIAQG', 2), ('DVLELTDE', 2), ('DLIGKTSEMARL', 2), ('LVEDMENKIRS', 2), ('VDLEPG', 2), ('VIEDGVGD', 2), ('EIDVNGILRVTAED', 2), ('EVLIYLAQYLCSE', 2), ('KPGGGDVKIESQKLNFKE', 2), ('QGPVAGTGDFGPLKEA', 2), ('YRPGACVPALELTR', 2), ('RPIEDNEKSKDVN', 2), ('TITHSAHM', 2), ('DPELRQGIKDY', 2), ('PSEPLSHM', 2), ('AANPKESS', 2), ('TPEEKQTT', 2), ('SYVYLSMA', 2), ('NLQVSNEPGNRYNLQLI', 2), ('ERQDALREFVA', 2), ('ANNVLSGGTT', 2), ('GKDFHQTQFLI', 2), ('PRSTSSPLQSKN', 2), ('ALVDQEEKED', 2), ('QRLKEEEEDKKRKEE', 2), ('NPAYIATQ', 2), ('KSSRAEVRTHYDP', 2), ('DSYMVIVAVLGV', 2), ('DENFLLFFRLET', 2), ('RQYSDAPPLTLDGI', 2), ('KQGQDGLLSVKETEKKW', 2), ('NTDQLALSQAQLEI', 2), ('EAYYIFQEL', 2), ('IALCNTDSPLRYVDIAIP', 2), ('LLAEEAVTLDMLDLGAARA', 2), ('TTFQISLNISYIGS', 2), ('GPLQGSGQDMVSIL', 2), ('SQHQMDVAFLEKL', 2), ('VMDTYRYEVPPGALLHL', 2), ('SISSGHIGIGICLCLA', 2), ('SVRSGAFGHLFRPD', 2), ('TILEYLTYLHHKRGET', 2), ('APKGMLARGTYHNK', 2), ('IAKSPPSYITQPED', 2), ('LQKADIEEIRSGRLSQE', 2), ('TTSGGLNKKPMSLASGSVPAA', 2), ('LFLTGESYAGIYIP', 2), ('METYHVTLTLPPTQLEV', 2), ('EWLLTRDGVPSEAA', 2), ('GEDAGGGVGKELVDLKII', 2), ('RAKDREISALQEQLL', 2), ('DWCFVRGPPKGKRRGGR', 2), ('EYFDGNLKRYLKSEPI', 2), ('GPG', 1), ('GGP', 1), ('HPA', 1), ('APH', 1), ('ENI', 1), ('IQD', 1), ('EQV', 1), ('RCP', 1), ('QEV', 1), ('LQD', 1), ('ELN', 1), ('EIN', 1), ('EAGV', 1), ('VQE', 1), ('AIGIDPG', 1), ('DLG', 1), ('RPC', 1), ('GADPV', 1), ('QDI', 1), ('DLA', 1), ('TPSGP', 1), ('AIDNPL', 1), ('ALGPSTP', 1), ('EAVG', 1), ('EGAV', 1), ('TSATNNVNI', 1), ('VGEGP', 1), ('AVEALSS', 1), ('EGVA', 1), ('SHAAVAGPSIPGGPPS', 1), ('CGLYELLS', 1), ('MARPAP', 1), ('ASSPP', 1), ('YLY', 1), ('AAAPE', 1), ('YIY', 1), ('IPDN', 1), ('KHARM', 1), ('NPV', 1), ('GIDPG', 1), ('PAAAE', 1), ('PGSPT', 1), ('NEVP', 1), ('VPGGE', 1), ('EPVN', 1), ('VQDP', 1), ('SPPGT', 1), ('SSAPP', 1), ('GIPDG', 1), ('NVPE', 1), ('LDP', 1), ('DNPL', 1), ('PNV', 1), ('PLDN', 1), ('DQVP', 1), ('QVPD', 1), ('PPGTS', 1), ('LDG', 1), ('PVEN', 1), ('PVNE', 1), ('PDVQ', 1), ('QVDP', 1), ('VNPE', 1), ('SSPAP', 1), ('APPSS', 1), ('TGSPP', 1), ('PGPST', 1), ('DNLP', 1), ('NVEP', 1), ('EAAPA', 1), ('PNI', 1), ('HCAK', 1), ('GPAVD', 1), ('PND', 1), ('SIE', 1), ('TELN', 1), ('EVS', 1), ('LEQDQLWIGTKERTEK', 1), ('QELDIN', 1), ('SLQ', 1), ('ISG', 1), ('EEARQV', 1), ('ETVQ', 1), ('EAKALHEIQNL', 1), ('SIQ', 1), ('TVQ', 1), ('VATVFRGRMS', 1), ('LSE', 1), ('TQDFTVPGQVLE', 1), ('GVSRQEEAKAAVG', 1), ('SLE', 1), ('ETAGV', 1), ('TAGKPEPNAVTKAAGSIAS', 1), ('INTSNIPNAASIS', 1), ('LSG', 1), ('TVE', 1), ('LDT', 1), ('ISQ', 1), ('LTGVASDTPFVIN', 1), ('LSA', 1), ('IQTKDNPMKAVG', 1), ('ISA', 1), ('ETIN', 1), ('DIT', 1), ('ETLN', 1), ('SSSLGQQLN', 1), ('VEA', 1), ('KDVPPS', 1), ('LSD', 1), ('DLT', 1), ('ALEAAAAAGPPG', 1), ('IKHAC', 1), ('RKMAH', 1), ('IGIDPG', 1), ('LLNDP', 1), ('VEI', 1), ('LSP', 1), ('EKPSLS', 1), ('VEL', 1), ('IPVNE', 1), ('LPDVQ', 1), ('IDL', 1), ('LPGPST', 1), ('GETGHVAIN', 1), ('TVY', 1), ('AYGRM', 1), ('SSTTTT', 1), ('SLC', 1), ('PPPGVMPKGRPPSASSLDAI', 1), ('THAWK', 1), ('QLGLPD', 1), ('KETAPP', 1), ('EGQVLP', 1), ('VTY', 1), ('ILPNGE', 1), ('PGEQVL', 1), ('LTPQPS', 1), ('SPQLPT', 1), ('AVPDIQ', 1), ('LHNMK', 1), ('ADQVLP', 1), ('FISYL', 1), ('KAGHMV', 1), ('LYSFI', 1), ('RNPRDAKLYSN', 1), ('PQEGIV', 1), ('PGQVLE', 1), ('VHRKC', 1), ('MKQVH', 1), ('TIYFV', 1), ('IYSLF', 1), ('ANPVEI', 1), ('VLENAP', 1), ('GNIPEL', 1), ('PKVPDS', 1), ('VLSDNI', 1), ('AAEKHNL', 1), ('AELQDMIN', 1), ('KLEQDQLWIGTKERTE', 1), ('IDE', 1), ('KALTQDDGVAKLSINTPNS', 1), ('EIAKDKALKDLYVHTVM', 1), ('IDD', 1), ('TVP', 1), ('DLE', 1), ('VER', 1), ('TGLEVTY', 1), ('GSRELFVRSSTY', 1), ('KNKGKGFSVVADTPELQR', 1), ('SLG', 1), ('SLS', 1), ('LSK', 1), ('LDK', 1), ('KERFGIVTSS', 1), ('EVV', 1), ('GELECRLN', 1), ('VEK', 1), ('AKASGNL', 1), ('VKETEKKWASQ', 1), ('EKRQQCLREEQV', 1), ('EVR', 1), ('LRKAMKGLGTDEDSILNL', 1), ('ARGSYNIKS', 1), ('KTQGNI', 1), ('VTV', 1), ('GEIKNIHLNLD', 1), ('ETKHFIYFYLGQ', 1), ('GTGSDLFLIHPSTG', 1), ('LLSS', 1), ('GSVPSPACALLLLFPLTA', 1), ('ISL', 1), ('EVK', 1), ('DEVGGEALGRLLVVYPWT', 1), ('SYGGKMAAGISVELYKAVQ', 1), ('TDTLVQ', 1), ('DLD', 1), ('LTALHYLRKLDSCGVSPV', 1), ('WSAGVTLYNI', 1), ('ANKSKE', 1), ('TVS', 1), ('PRHHHGRSGSNKSS', 1), ('FLKMEVQ', 1), ('VAYTEK', 1), ('PNP', 1), ('LSL', 1), ('KFVEGVYRVELDTKS', 1), ('TRAFRM', 1), ('YSVWIGG', 1), ('LGNAKSHLMSLY', 1), ('KTKIYHPNIDEKGQV', 1), ('DGFPRNQDNL', 1), ('RLCYVQ', 1), ('PHSVTLDAVG', 1), ('SVVCFLN', 1), ('HANGRVQ', 1), ('VALTNYT', 1), ('VEF', 1), ('SAYIKNS', 1), ('IAAGLFNTMVQT', 1), ('EVE', 1), ('NIPPGTPS', 1), ('ENFLQQFFMVV', 1), ('DLL', 1), ('EYLTYLHHKRGE', 1), ('GEEGLNL', 1), ('TYEITPLMR', 1), ('GILASHVPT', 1), ('QKFEKKS', 1), ('SLR', 1), ('DLP', 1), ('ELVKYKD', 1), ('PVVGSVLNWFSP', 1), ('FILSTSQV', 1), ('NLVPPQNI', 1), ('PETKAIIENLIQKQDFS', 1), ('TSRPVKFPSISRSPASPAS', 1), ('VVLWLNGGPGCSSL', 1), ('IDF', 1), ('LDY', 1), ('FTLTISSVQ', 1), ('NLIRSTEELNL', 1), ('VGVQLEASPDFLATP', 1), ('MATGRPLFPGSTV', 1), ('LPSNIHVSE', 1), ('GGRPNRGSRTDKSSA', 1), ('PRESRTAPGRMRSRGLF', 1), ('EPAGPEAVRA', 1), ('YPHITNLTTLGQSV', 1), ('KTAHETDKSEGGKR', 1), ('YGSPLLPEGPLLEKSSRE', 1), ('QEHDLKLN', 1), ('RPAEPSLGGL', 1), ('DESTPVQTRQRLN', 1), ('SLL', 1), ('TVT', 1), ('VTL', 1), ('VSLVLQAKPQVDDFDNLA', 1), ('ILSS', 1), ('IVTS', 1), ('SIL', 1), ('ITSV', 1), ('LDH', 1), ('NPP', 1), ('PGNRYNLQLIN', 1), ('VEH', 1), ('DLH', 1), ('LDE', 1), ('DID', 1), ('LDD', 1), ('VED', 1), ('YRH', 1), ('LDI', 1), ('VEE', 1), ('EVD', 1), ('FVLNLGKDSNNL', 1), ('QIPVVGSVLNWFSPVQ', 1), ('QGILHEIGGAGTFVF', 1), ('NPT', 1), ('LSC', 1), ('PEEHPTLLTEAP', 1), ('ANAGTAAVG', 1), ('REAELN', 1), ('TSKKDLTEYLSRFGEVV', 1), ('QQLVGEKSWVQ', 1), ('SQATVKKLQSCLQALELN', 1), ('EKNGISTKVMNI', 1), ('PECRQV', 1), ('EVP', 1), ('QPLTEASYVNLPTI', 1), ('YLHLSVSRMELKPGDNL', 1), ('DIS', 1), ('LEERLVEWIVVQCGP', 1), ('HEFKFPNRLN', 1), ('SNNICGVGVA', 1), ('DADLTKMTPKQRIDLLN', 1), ('TVR', 1), ('REEQVNNSTV', 1), ('LPVGSPSRPMSRRQVC', 1), ('DLR', 1), ('TVD', 1), ('PVAFQRNARRS', 1), ('GSSVSSSVST', 1), ('YEEIYKSTKRNI', 1), ('TQPAKTSTSKAKTQPTSLP', 1), ('VES', 1), ('LDS', 1), ('GGGGGGLRESRRGKQGARMS', 1), ('QRQATKDAGTIAGLN', 1), ('QQRSQMR', 1), ('FEVKEYVLP', 1), ('EIEKFDKSK', 1), ('YDLSKMRDFIN', 1), ('FLTGESYAGIYI', 1), ('QLKQCVRQAIERAVQ', 1), ('QAVRAETTSQDK', 1), ('LSR', 1), ('KGQVCLPVISAENW', 1), ('IGMTQEELVSNL', 1), ('KNPEFNKMVLN', 1), ('EDKNDIPKDKSEK', 1), ('SKKKPCLDTSQV', 1), ('IKDDIWPNPLQYYLVP', 1), ('TKAITYLNTGYQRQL', 1), ('SGDKVRLDPPCTN', 1), ('EWAALVQAADTLN', 1), ('SVPDSSGPERILSIS', 1), ('ISR', 1), ('ETQRSRGFGFITF', 1), ('DIE', 1), ('VLHPLLYTFASGSPDNIK', 1), ('VRDDVYQSILTNNLPNL', 1)]\n",
      "Y results before filtering:\n",
      "[('LEFGLGG', 3), ('YSKKIMSPLKNSTDGVTS', 3), ('SVSDYDGKLSS', 3), ('SVTPAQISASISS', 3), ('KTTIFTDAKESSTV', 3), ('AVESSSL', 3), ('PSATSPGP', 3), ('WSRM', 3), ('KERHFMKIYLY', 3), ('AADLSDQVP', 3), ('SLPDVQ', 3), ('GIAVPDVYSACKRF', 3), ('VGRTGSGKSSLG', 3), ('ALGQIFD', 3), ('GNVRENILFGE', 3), ('ILVFPNDDLHVKDLN', 3), ('PRVEYPAHQAMNL', 3), ('GGQIASIGQQANIPTA', 3), ('AAAAAAADISARKMAH', 3), ('PLKDFWPKVPDSP', 3), ('NQNSVPDIRGVETP', 3), ('KTGNSESKK', 3), ('ICMLGLNL', 3), ('TIVQSSFPV', 3), ('GRTGLIPSNYVA', 3), ('LVPGTYNL', 3), ('NEKINAEKSSK', 3), ('LSANKSKE', 3), ('TLITTVESN', 3), ('CPSAYKLLLGTEKC', 3), ('DATLSGKRM', 3), ('KTDTLVQSTI', 3), ('KTFFILHDIN', 3), ('QTAVKTNSSFIQGF', 3), ('LLNLGLITESQAHTLE', 3), ('IIAASAQECIVEPVVPI', 3), ('IIAFGDRIEEFKSIN', 3), ('GFLLLLFQGTRCDIQMT', 3), ('LAVLVMQDPSMNLQGLAVG', 2), ('DPVAG', 2), ('TTTGPRAQIGSGAV', 2), ('DPGLG', 2), ('DPGVA', 2), ('ALGGGGGGL', 2), ('DAVAADILNRLDIEAQIGG', 2), ('DAAVGTSVVSVT', 2), ('INTSNIPNAASISGGPGVTSV', 2), ('TSPPG', 2), ('EESLKLAAQGPPSG', 2), ('VAPPSPG', 2), ('TPSGP', 2), ('TGSPP', 2), ('WRSM', 2), ('AQRKRMS', 2), ('FPLAQTESLLMKMRS', 2), ('TVINPD', 2), ('AIGIDPG', 2), ('TVNDLP', 2), ('PDNL', 2), ('SISSAPP', 2), ('SLSPPGT', 2), ('TVRYNLDP', 2), ('NGRVEIIANDQGNRITPS', 2), ('PDNI', 2), ('YLVNTTAPVQ', 2), ('DPLN', 2), ('ALGPSTP', 2), ('VFSDFLTYKSGVY', 2), ('AKYKD', 2), ('GPSLNNTYGFKVS', 2), ('ADKYK', 2), ('AKFTSA', 2), ('AYDKK', 2), ('LCNFLRDLFLHH', 2), ('RVDKATFMVGSYGP', 2), ('EKPKKEEMPAAPEKKDT', 2), ('RATVVESSEK', 2), ('WNLTCKD', 2), ('IEKSES', 2), ('LGWMVS', 2), ('LAVENF', 2), ('IPSNYV', 2), ('LITSSDG', 2), ('QATKTMEA', 2), ('LFENIG', 2), ('SRRAQDFV', 2), ('SREEIKKSE', 2), ('SFSEQGINEF', 2), ('DPVQRRALETM', 2), ('LLAFDN', 2), ('VLQEHREGQLTSM', 2), ('TLKGDVSSAT', 2), ('ITFTNP', 2), ('GRSGSNKSS', 2), ('AKEPSKPTETEKPKKEE', 2), ('KGAQVDF', 2), ('WQLVAPTQY', 2), ('LSERST', 2), ('LVPGTYNLT', 2), ('VFTNHFLVE', 2), ('ISTNLKNS', 2), ('LIQPDGVTLEY', 2), ('KPYIQVDIGGGQTKTF', 2), ('AGLQVLNDYL', 2), ('PTGVSFKKD', 2), ('LAQYLCSEYLL', 2), ('FQRLDFKSKD', 2), ('PSPQHGAKLVLYLSEL', 2), ('LQENFLL', 2), ('DQQQLFT', 2), ('TVPTVSGSLTPQP', 2), ('LLLLPPPNAYAADTPGE', 2), ('CTRRCPTPVVSP', 2), ('KHARM', 2), ('EAAEQIRRRRPTPAT', 2), ('VPIKDKGTVQTEEKPRE', 2), ('IRVGVQLEASPD', 2), ('HVPGGGNVQIQ', 2), ('AYKAASDIAMTEL', 2), ('DAAAEVPSR', 2), ('YLQTSLKYSVLPREKE', 2), ('FDWIYPAYLPV', 2), ('RYYTYLV', 2), ('YRDNTPLV', 2), ('SYVNLPTIA', 2), ('VLSLYASGRTTGIVLDS', 2), ('NTFSVVP', 2), ('ASSLDAISPVQID', 2), ('IDLYEEMGKVKKIDA', 2), ('AFPFQPG', 2), ('RNHGKLDTKQS', 2), ('TKDRWRSMTVVPYL', 2), ('EKRATVVESS', 2), ('EIVQAIYKMVSSVMKMP', 2), ('ALKSALCGN', 2), ('ADASSLTV', 2), ('FLASTQRKEFG', 2), ('FFVNGLTLGGQKCSVIRD', 2), ('DELFSDIYKIRE', 2), ('ASSLDAIS', 2), ('AVGGVFDV', 2), ('GRSIRGFCLP', 2), ('DIILTKEKNSS', 2), ('VVTETISET', 2), ('TKLEECVR', 2), ('RDAMLAKVDS', 2), ('ITLVPYGN', 2), ('SDVMSKLGFLSERSTSPI', 2), ('IDKASETL', 2), ('EELEEIKKET', 2), ('LHHKRGE', 2), ('IVQFLEQ', 2), ('LGHHLGKD', 2), ('VGSVLNWFSP', 2), ('INGILYSP', 2), ('SKSTEIKW', 2), ('IPNFWVT', 2), ('LGVLLASSLAYCLRHNSH', 2), ('LSAGLPSLPNLPSLSNFNL', 2), ('LMVDKASL', 2), ('DRRGRPGDRY', 2), ('KSHLMSLY', 2), ('LQKDLNSLPYG', 2), ('LLVPGTYN', 2), ('LMNTKRN', 2), ('LEITKAAM', 2), ('LSGKKQES', 2), ('LVDAYPAK', 2), ('ASVPPTDKVCLW', 2), ('LKTLLEGC', 2), ('LENLTHGEIIYPE', 2), ('IGRSGTGKT', 2), ('LMRLCIQ', 2), ('LWWGTIT', 2), ('LTYLNPVG', 2), ('LPLDYKQ', 2), ('HKVTSTSGTITSP', 2), ('HVGYLYMVVKSVELMSV', 2), ('DIINEEF', 2), ('KAASNLRDNYRFA', 2), ('DHGVQGPVA', 2), ('SGFISAAELCNFLR', 2), ('PERTRQVYQA', 2), ('DMELLTGT', 2), ('NVPAMYVAI', 2), ('DDEPPPLP', 2), ('YKEVNRLSFQ', 2), ('DGYAAIAQA', 2), ('DQQLYNV', 2), ('HPEAQAKVDVFRE', 2), ('DLINRLQAY', 2), ('TLEEFLRA', 2), ('DKLPYED', 2), ('IDVNQLCNAVVQ', 2), ('DLVGHVHC', 2), ('DGVTPFMI', 2), ('LYLVNTTAPVQLYKE', 2), ('ASAPQKPIYM', 2), ('PAIAPPTETMAPPVRDPVP', 2), ('FFVNGLTLGGQKC', 2), ('TAAQVARVLGMM', 2), ('TDKVCLWL', 2), ('ENLTHGEIIYPEI', 2), ('LIGKTSEMAR', 2), ('HCAKKRSLCRN', 2), ('KGPEVKEYR', 2), ('AGKSGSRSMKP', 2), ('GLDIFAKFSAYIKNSNPA', 2), ('KALELFRND', 2), ('FLRYFYSRRIEVSMS', 2), ('SRENTKDK', 2), ('RIIYGGSVTGATCKELASQ', 2), ('KQNTVSKGPF', 2), ('VADHSLHLS', 2), ('FIKHNQLPLVIEFTEQ', 2), ('PAAGAAPAGGAAP', 2), ('PAPAAGAAPAGGA', 2), ('YIGDVHPSDLKPKG', 2), ('SQKYERGLVFYINHSL', 2), ('SHLGPPEAAHATK', 2), ('VASDMMVLL', 2), ('VFDGRDAKA', 2), ('QVEPRNVDRGAMR', 2), ('VPLQATMSAATGIQPSPVSV', 2), ('YRHFWA', 2), ('CSIVDVEFLPVY', 2), ('GPHKEIYPYVI', 2), ('LSFSSISASSKGL', 2), ('MVADKVEVYSRS', 2), ('PTTGSPENL', 2), ('KTSEMARLFGIQF', 2), ('ASKPSVNEQNQVQP', 2), ('DGTVPFWAHAG', 2), ('VKNYPEGHQAAAV', 2), ('LLFVSSGPTNA', 2), ('ILYPATTGRN', 2), ('ILTEEKMEL', 2), ('FMSQQSETSL', 2), ('LLGTEKCVWG', 2), ('LIQWITTQC', 2), ('GQLGLPDEENRR', 2), ('VPYARSEAHLTELLEEV', 2), ('VKEGAKSPAEAKSPE', 2), ('AAGPLFQQRPY', 2), ('LILHDDEVTVTE', 2), ('IIGKDTWVEHW', 2), ('VRLFTEEELARY', 2), ('SGIIGNLRHMALDM', 2), ('RRRRRVPAMWDPR', 2), ('AQGARPKRTQRLSAETW', 2), ('DINNITTYKKNIMALSD', 2), ('CVLKGDGPVQGTIHFEQK', 2), ('QVLKLVLSCLNFDFL', 2), ('FPLFTFRVLSDW', 2), ('DLTEIGERGVNL', 2), ('VTAAQVARVLGMMARTHSG', 2), ('DPGVATTTGPRAQIGS', 2), ('ARSIYERALDVDYRNI', 2), ('TENLLGSYFPKKISELD', 2), ('SLPANSQPPRRGRCGR', 2), ('LICTLNAANVPAGTEVVCAP', 2), ('LITASQFFEIWLHF', 2), ('ILLRHCDVNKDGKIQ', 2), ('IQNAQYLLQNSVKQYSG', 2), ('MAVSVPWYLGLSFRTRA', 2), ('AGV', 1), ('SSI', 1), ('TVS', 1), ('SIS', 1), ('VST', 1), ('SLS', 1), ('PTGSP', 1), ('SIPGGPP', 1), ('SAPSP', 1), ('VVGTFGPS', 1), ('EFQDAYVLLSEKKISSV', 1), ('TVSS', 1), ('MSR', 1), ('IDRALNVALGNPSST', 1), ('VTSS', 1), ('FHH', 1), ('HCKA', 1), ('APEAA', 1), ('AAAPE', 1), ('YYL', 1), ('AAPAE', 1), ('VDPQ', 1), ('NPDL', 1), ('GPDGL', 1), ('GLDGP', 1), ('VDQP', 1), ('PSPTG', 1), ('PAAAE', 1), ('VPGGE', 1), ('VQDP', 1), ('SAPLPSA', 1), ('NVPE', 1), ('DLGGP', 1), ('PQV', 1), ('PNVE', 1), ('PVDQ', 1), ('QVPD', 1), ('VGEGP', 1), ('PPGTS', 1), ('NPEV', 1), ('DLNP', 1), ('PNLD', 1), ('LGPGD', 1), ('VNPE', 1), ('QVDP', 1), ('PSSPA', 1), ('PVQD', 1), ('NVEP', 1), ('GDPGL', 1), ('EAAPA', 1), ('PNID', 1), ('PNDL', 1), ('IVSTIAIVSTFTCHIF', 1), ('TVCKE', 1), ('LSGLSC', 1), ('EQVFG', 1), ('TVMTQ', 1), ('LSKCE', 1), ('TDTLVQSTIK', 1), ('STFIGNSTAIQELF', 1), ('LSESSG', 1), ('INPDLA', 1), ('TVNGDVFQ', 1), ('IPQLDG', 1), ('VQEGF', 1), ('CMR', 1), ('LSCEK', 1), ('AMRAM', 1), ('LSSDSA', 1), ('FFMVV', 1), ('LLYTFASGSPDNIK', 1), ('LRTEEEFKKFISDKDA', 1), ('VEVLAKYKGLNLTEDTY', 1), ('SNL', 1), ('MKHRA', 1), ('ISSAPPA', 1), ('VVDPAAA', 1), ('SLCEDLLS', 1), ('ISYLE', 1), ('YLYLS', 1), ('LQDSQDRPLLM', 1), ('VTLTCKASENVVTY', 1), ('HCKALA', 1), ('QLPGEV', 1), ('THAWK', 1), ('EVPRAA', 1), ('DLEEALEP', 1), ('QLGLPD', 1), ('IDESHI', 1), ('IYYLA', 1), ('PSSAPAL', 1), ('QVEGIP', 1), ('NPDLAL', 1), ('PNIVAE', 1), ('ACHLAK', 1), ('PPTAEK', 1), ('TEVQLSSVSPPSLSP', 1), ('ENWQRAWVRA', 1), ('ILPNGE', 1), ('SPQLPT', 1), ('LTPQPS', 1), ('GNIPEL', 1), ('KAGHMV', 1), ('DIQQLFI', 1), ('DQLIPG', 1), ('LYSFI', 1), ('SHRRS', 1), ('FMVVF', 1), ('PQEGIV', 1), ('VPIAQD', 1), ('GVPQIE', 1), ('PGQVLE', 1), ('GVPEQI', 1), ('PPTAKE', 1), ('ISSCGRTGPLRRGSLPLDA', 1), ('DGIPLQ', 1), ('PNVLAE', 1), ('ANPVEI', 1), ('VAIENP', 1), ('PPLSASA', 1), ('YIVFT', 1), ('FYVLT', 1), ('LDVKSPEAQTPV', 1), ('NPLVSE', 1), ('DLQGNPIANATISVD', 1), ('SLGPIEDFKEL', 1), ('LDGPKE', 1), ('HRYIEIF', 1), ('TGMRVDKAT', 1), ('QFVVGRDGT', 1), ('IESQKLNF', 1), ('ENLSVP', 1), ('LDQVPS', 1), ('SISADIETIGEI', 1), ('GPVDALS', 1), ('EVQSPV', 1), ('NEIYFGKTKDIVNGLRS', 1), ('GPGAKSAA', 1), ('LNDPSI', 1), ('HQV', 1), ('EVEPGK', 1), ('EEEREGLAKICRLAIHS', 1), ('VTDPRA', 1), ('FQASCLLGVARFNVARDS', 1), ('FRPACV', 1), ('TVTEDK', 1), ('VEKDTT', 1), ('ISNHSEV', 1), ('SGITGLEVT', 1), ('TLEGGRKPLHYAAD', 1), ('FYVLTQNDVKG', 1), ('SLEESK', 1), ('FQV', 1), ('LSSHVLNKDGLTED', 1), ('DRM', 1), ('DINFNLKNK', 1), ('ALN', 1), ('DIRAMS', 1), ('TVDTKRRTE', 1), ('SIGRGAGF', 1), ('VNI', 1), ('VFRPPNPWTMA', 1), ('DLSSASAI', 1), ('EQSLSGLSISSAPPAVSNVL', 1), ('NITELNLPQLE', 1), ('VTGSGLENATISV', 1), ('ELDVRLPFHAENFLQQ', 1), ('TVSFETVLQIF', 1), ('DLTEYLSRFGEVV', 1), ('YLYNPAMVKRICELLQ', 1), ('IIGATDSS', 1), ('VTEVNSPGSPAAQATV', 1), ('DIQQLF', 1), ('VTSVVNSSILS', 1), ('NSSLQKS', 1), ('FRVLSDWFDNKT', 1), ('VDSKDLS', 1), ('SLCGLRAVDQSV', 1), ('IDKSELLSHDRQS', 1), ('SLEHVQF', 1), ('LDSGVPKRFS', 1), ('PNKELADE', 1), ('SLIVEKILQSSSEVGY', 1), ('LDDPELRQGIK', 1), ('YLVNTTAPV', 1), ('VEFAEAV', 1), ('EVQAGQQRKFISH', 1), ('SLSVGPSLHKQQASS', 1), ('LSLADLRCS', 1), ('LGCRGTLSDEHAGVI', 1), ('VEKVRGFCEGFL', 1), ('LSQHLGKPPE', 1), ('VERDVF', 1), ('LSWDTTKK', 1), ('QQEVEVKAAVF', 1), ('LLN', 1), ('DNTVSKKGFKAHFFSDK', 1), ('IDCCNHITKLR', 1), ('SLGSK', 1), ('SLSEAISQTKAL', 1), ('LSAEEVRFPIS', 1), ('NPRFNAHGDANTIV', 1), ('SLPAFPTYLP', 1), ('PNITRLY', 1), ('PGGTRIIY', 1), ('DAHVGKHVFEECIKKTL', 1), ('QEVIFGLA', 1), ('DLRLLGCS', 1), ('LGQNPTNAEVLK', 1), ('EASGLPDP', 1), ('IDFARQKLD', 1), ('SELSLQSL', 1), ('LDPELEEA', 1), ('SIKSRQAS', 1), ('SLADLRCSL', 1), ('IDKASETLT', 1), ('LDLLAVEPGTVNGET', 1), ('DLVSWLSPHDPNFVVTK', 1), ('AEPEAIPERRES', 1), ('IDHHSKEI', 1), ('LSYTSSQ', 1), ('EAGVGQSGERPPSDLISRV', 1), ('RNL', 1), ('LSTTCVQIL', 1), ('SIIQEYKP', 1), ('EGKFGMLVP', 1), ('GQPVTQNPTSE', 1), ('SNI', 1), ('EVKELASSSR', 1), ('TNI', 1), ('STAPVGGGSF', 1), ('ISVGYVDNKEFVR', 1), ('SQLEPAEKAELLEA', 1), ('EVEVTFRV', 1), ('EGGLKQLSF', 1), ('DKDVLIEF', 1), ('NPFVHELHL', 1), ('EVEVKAAVFN', 1), ('SICTTVLEL', 1), ('KALSAGNIDDALQ', 1), ('EQVKQLFS', 1), ('SLPPVTHLD', 1), ('SSCGRTGPLRRGSLPLDAL', 1), ('NLEEDFI', 1), ('HPSTGL', 1), ('TYLQEKLGASPLHVDLAT', 1), ('SLASMPPMNPATTLP', 1), ('VEELDPENKIPT', 1), ('TVAYTEKKMTSG', 1), ('TVLISTATFWRNKKS', 1), ('YKMSGLS', 1), ('YNVAMVETLKES', 1), ('LPAKALETMAEQTTDVVH', 1), ('YYLQAGA', 1), ('LYRWKMVDH', 1), ('QFFIG', 1), ('ISTGHMILAY', 1), ('AGVEHV', 1), ('VELHN', 1), ('SLQNLHSSKFS', 1), ('FVRSSTY', 1), ('EVIHN', 1), ('VTGTHP', 1), ('LSSYAA', 1), ('EASRVSVADHS', 1), ('EVVVKLFDSDP', 1), ('HALDAHQRSIPAVLEIPS', 1), ('PNISEPE', 1), ('SLSLMY', 1), ('DLVLAKEANMKCPQIVIA', 1), ('KVPDSPATKY', 1), ('DINNITTYKKNIMAL', 1), ('FQFTDK', 1), ('LNEPLSNE', 1), ('PHASMDK', 1), ('LYANNHPS', 1), ('EVGRENR', 1), ('LCGVIGLCAARPELVEALE', 1), ('PLSSEPTQG', 1), ('RPCRHVCEGLREA', 1), ('LSQLMNGP', 1), ('TAPSDNRV', 1), ('ELGDRAAQ', 1), ('LSWNIPELVNM', 1), ('LSRYYAS', 1), ('LSSHVLNKDGLT', 1), ('DDKVNFHFIL', 1), ('NGRTRGRFQR', 1), ('LDGPKELSRREREEIE', 1), ('LSQVRCSS', 1), ('TQLDLDGPKELS', 1), ('SLLNCHTQ', 1), ('DLQYVFM', 1), ('FVRHPEM', 1), ('ELNEPLSN', 1), ('PNLRAVGWNEVE', 1), ('VEIPGGGTEG', 1), ('VSSSPVANSVLNAA', 1), ('EGKFGMLVPNR', 1), ('TGGGRGRGMRSR', 1), ('TVPEMEPL', 1), ('VSRALDLFSDNAPPPELL', 1), ('LDSLSRISNSR', 1), ('TVSNMATVAVL', 1), ('VESQNDPKNSPVVL', 1), ('HNSSLALSVVPTLTEFLAG', 1), ('TYIIGELHPDDRSKIAK', 1), ('KMIREYRQMVETELK', 1), ('FNYIEFTRIL', 1), ('EQVNKAINDAISQSARVL', 1), ('PCKAAAFLGDI', 1), ('LDLDGPKELSRRE', 1), ('EINRKSDPPKAQIQK', 1), ('DLHCGACRALV', 1), ('IDHDVTSAKDG', 1), ('PAPEFTAAQPE', 1), ('SQLEQENNLLK', 1), ('LSSSYPEDFEKLL', 1), ('CKDSLLQALKE', 1), ('GLNQPTFQQSK', 1), ('GNL', 1), ('AAENKKKEAGGGGV', 1), ('LSISADIETIGE', 1), ('LSQARGQEPARA', 1), ('LSHHENLVSFLET', 1), ('VERSAAETVTKG', 1), ('LDKGKPEDVMPS', 1), ('GLNYMAVAFAMQLV', 1), ('ENLKSKVGGAKPAGGD', 1), ('VEPKRAVAREE', 1), ('ANEERLLEEGVLR', 1), ('NELTLADCNLLP', 1), ('LSLQSLFEKYVFIGFY', 1), ('VPDIQGDSEAVSVRKLAGD', 1), ('AQEAEAARVELQKKAQAL', 1), ('AEIGSLSLHCTIDEKRLA', 1), ('DLKPQNLLINERGEL', 1), ('YPHLGQKPGGSDFLRKR', 1), ('EVQ', 1), ('ENI', 1), ('SGLTDGIPLQSISAPGSGIW', 1)]\n",
      "\n",
      "Filtering time took 0.7554528713226318 resulting in 4 b sequences and 38 y sequences\n",
      "First alignment round took 0.01986980438232422 time resulting in 194 alignments\n"
     ]
    },
    {
     "name": "stdout",
     "output_type": "stream",
     "text": [
      "Getting rid of ambiguous time took 1.439115047454834\n",
      "Filling in precursor took 0.027184247970581055 for 194 sequences\n",
      "Time to make into objects took 0.01964592933654785\n",
      "B results before filtering:\n",
      "[('DLTEYLSRFGE', 5), ('EVTESI', 4), ('SLEELTRLAFELFAEEQAEGSDR', 4), ('LSEEELKQL', 4), ('VETELRGVCDTVLGL', 4), ('TVEELHEPIPSLF', 4), ('ISEE', 3), ('EISELS', 3), ('LESEDFVICLKPMELIGEKCEQS', 3), ('ELSERDAIYKEFSFKNFNQAFG', 3), ('IDTLLVATDQ', 3), ('IESRGIHETTFNSI', 3), ('LDTLNEDSYKD', 3), ('SELEEDIIPEEDIISRS', 3), ('VTEVDGVLDALHGSV', 3), ('ITDEDELT', 3), ('DTIEIITDRQSGKK', 3), ('DAFRCANCPYLGMPAFKPGEQVLL', 3), ('ELDTLSEE', 3), ('SLGAYISTL', 3), ('VEHRLSAL', 3), ('ADPEPLGL', 3), ('DILLGSTDYSTQ', 3), ('SILASFNSSALSSVQ', 3), ('DLIDLVPSLC', 3), ('ELVDSVLDVVRKEC', 3), ('EGGEFSVDRPIIER', 3), ('VDPE', 2), ('PVDVDP', 2), ('DVPE', 2), ('TEVDGVLDALHGS', 2), ('TLDE', 2), ('SEIDYVISGEAE', 2), ('SIE', 2), ('TDLALILSAGD', 2), ('LTDE', 2), ('TIDE', 2), ('EFGALE', 2), ('GFESTSKESLLD', 2), ('FEGLAE', 2), ('AFDEAI', 2), ('LDPD', 2), ('DLDP', 2), ('SLHC', 2), ('EVPD', 2), ('IDDP', 2), ('LDDP', 2), ('EVDP', 2), ('DIPD', 2), ('EELGAFTESMVV', 2), ('ESEVTLGKDVVILPETKVAE', 2), ('ELESLS', 2), ('LTEDLS', 2), ('TLEDGKKEAAASGLPLMV', 2), ('EIESFFEGEDFSETLTRAKFEE', 2), ('LDEV', 2), ('QQMAREYREKIETELRDICND', 2), ('RCQAAEPQIITGSH', 2), ('NLCQSL', 2), ('DLEV', 2), ('SLTV', 2), ('LSSSSSLTQNSCV', 2), ('AKNDESSAEIPVAQETVVS', 2), ('NGFVSAAELRHVMTKLG', 2), ('DVFREDLCSKT', 2), ('VFREDLCSKTENLLGSY', 2), ('FWAQNFS', 2), ('YLSPADLPKNWDWRNV', 2), ('AGDFKAGVAFFEA', 2), ('SLYENLDEELS', 2), ('KLNCTS', 2), ('KESTNSMETRF', 2), ('LSTLKSEDVP', 2), ('GNSGHPSCLKFSPELTVRVK', 2), ('LHSLAAEAL', 2), ('LQIPPEDL', 2), ('QIPPEDLI', 2), ('PLEAERPL', 2), ('VIPEAAPDAGAPTSASG', 2), ('APGPLELDL', 2), ('HRDDRLL', 2), ('LSAVDAHV', 2), ('DRARFFL', 2), ('NIVTLHDI', 2), ('AEDIVHKI', 2), ('KKNVHGEI', 2), ('VHINITDAN', 2), ('VTFLERTDEDS', 2), ('MELYKKL', 2), ('MFTRKETTLIQKSIFDLS', 2), ('RHIPCVSL', 2), ('PAEQPVRKNKMASNIF', 2), ('HGNKEIVKY', 2), ('REAFRVFDKDGNG', 2), ('VGWSTQEE', 2), ('LSCPHGRLTEEA', 2), ('ALHAAAWKGY', 2), ('KEIRLEHEEGAPC', 2), ('SIRCY', 2), ('PGASQLVPVGNRLGVASDNQENWTM', 2), ('RRQPPRDY', 2), ('LCRQRCAFSTLGR', 2), ('SFASTAVVSQEW', 2), ('AEPAGPEAVRAAEAGAPVPVD', 2), ('NISYIGSRSDSN', 2), ('WKDTHPRGYGN', 2), ('VQSAAMAESGRRKWYAY', 2), ('KNHIDRVDAWVGT', 2), ('REQHRRDHVLGLARS', 2), ('NKHDGALKN', 2), ('WVSLVLQAKPQVDDFDNLA', 2), ('YGSLSGREKMMA', 2), ('DFIGCMRDLHIDGRRMDMAAFVA', 2), ('VAGLTEEQLQEPITGWRKT', 2), ('IAQPPATQNGSLVQS', 2), ('NDRFANYIDKVR', 2), ('AGAAGGPEEEAEKP', 2), ('PYQGVSVPLQLKENGEES', 2), ('RGASQAGMTGYGR', 2), ('LEVDVLEGTL', 2), ('KRPSTQENKTENTGEASP', 2), ('GDAELLGQATL', 2), ('PDGFIQVALQLAYYRLYQ', 2), ('EKQLLEQEATSLTWQLQL', 2), ('LDSCGVSPVLV', 2), ('QDQLWIGTKERTE', 2), ('DVLEGRTISV', 2), ('LWEVVVQICSVSNQ', 2), ('LDLCYQTSQLAG', 2), ('DTKNKDGVLVDEFGLPQIPA', 2), ('KIPVPEDKYTALVDQEE', 2), ('RGKPLLTSSEERTGPTTGS', 2), ('SRETAGELLLGKCGMYFV', 2), ('VNEKKDRVTDALNATR', 2), ('YSEAHEISKEH', 2), ('ADHQPLTEASYV', 2), ('QASSTLASNDGKAMSYQCSLCKFLS', 2), ('EAWHTANAVFSP', 2), ('DAVKDSGRDYVS', 2), ('HRLSEVDDPVYKEVNRLS', 2), ('AMKGAGTDDHTLI', 2), ('TAMAYKEKMKELSMLSL', 2), ('EGQAGAAEATAAPSV', 2), ('VGGGSFPTITPREPWDGKDGELPVE', 2), ('EQDQLWIGTKERT', 2), ('NEEFRQVVNGYR', 2), ('LRMQQLAKTQEERAQ', 2), ('IRMLDGIVTDAIEAS', 2), ('ISSFTPSSDSRE', 2), ('FRPIEDNEKSKDVNGPE', 2), ('RMLEE', 2), ('MRIVQKHPHTGDGK', 2), ('MRLPDPFTPNLKVDMLS', 2), ('LSIEEFMRLPELQQNPLV', 2), ('IVTISQATPSSVSRGTAPSD', 2), ('VVTTVTTVQSRPRVDGKLDS', 2), ('VTIGIMDDGIDY', 2), ('ISTV', 2), ('ITVSSQSASSSEE', 2), ('EVEV', 2), ('GKMLGGDEE', 2), ('EHWGLEE', 2), ('SNNVHAPFPSDK', 2), ('SQQAAHYM', 2), ('SNSQLMYGLPDS', 2), ('VQEKSSGRTAHYKL', 2), ('EKNRMPLPCHS', 2), ('RMDKAGQYTDK', 2), ('SKLEARLSSLEKSSPTPRAT', 2), ('VMASPQSLCGLRAVDQSVL', 2), ('VSNKGLNSYKDPDNPGRIAL', 2), ('VTPNEYTAACSR', 2), ('LSQASSEGTTTCK', 2), ('LDFKGDMDQIM', 2), ('DAPETMLQDHR', 2), ('AFNAEFKNKDFAVDIIKST', 2), ('SQLESEDFVICLKPMELIGEKCE', 2), ('HEAVVRLLMEWGADPNH', 2), ('LSGDQDTGDLVLLDVCPLT', 2), ('VPSWNLTCKDSLLQALKEI', 2), ('LMASSSLHNRVFNKIVRSP', 2), ('DVCPLTLGIETVGGVMTKLIP', 2), ('FRILGTPTEETWPGIL', 2), ('AALRDIRAQYENIAAKNLQ', 2), ('WLDGKHVVFGKVKEGMNIV', 2), ('IWDKLGETYKDHENIIIA', 2), ('EFHTVPVEVLAKYKGLNLT', 2), ('KKSPSAKLSIPYESFYEAL', 2), ('LGRLTSPAAAEKPDLAGYEAQ', 2), ('VRAVVLHPLLYTFASGSPDN', 2), ('QRPFSSKEAQSILLEPSQL', 2), ('GVPVAPPPAVPSSGLPASVMTNI', 2), ('DPV', 1), ('PDV', 1), ('VPD', 1), ('ESL', 1), ('DTL', 1), ('ESI', 1), ('ETV', 1), ('FAD', 1), ('FGE', 1), ('SCLH', 1), ('DDIP', 1), ('PEDV', 1), ('DDLP', 1), ('LSH', 1), ('DPEV', 1), ('EPDV', 1), ('HSLC', 1), ('DPLD', 1), ('LPDD', 1), ('DEPV', 1), ('VED', 1), ('EDVP', 1), ('DDPL', 1), ('DEVP', 1), ('PVED', 1), ('VDEP', 1), ('EDPV', 1), ('DPID', 1), ('CLSH', 1), ('DPDI', 1), ('DVEP', 1), ('DELV', 1), ('SHHENLVSFLE', 1), ('LEDV', 1), ('EESKFEEMKR', 1), ('ETEV', 1), ('EEVV', 1), ('EEIPHSELDLETV', 1), ('IEDV', 1), ('EETV', 1), ('VEE', 1), ('LGGGGDQDWDPGVATTTGPRAQIGSGAV', 1), ('EIDV', 1), ('LQCALAALCIVLALGGVTGAPSD', 1), ('KEEGHQGLV', 1), ('DLR', 1), ('REDFV', 1), ('EATSLTWQLQLLETQLGQV', 1), ('SLP', 1), ('KNMACV', 1), ('QNKASRKRQHEE', 1), ('SMSSTLTLTKDE', 1), ('PDTANDGFV', 1), ('QGSPVVQMAEDAV', 1), ('SLF', 1), ('LSP', 1), ('SSLSASCKEVVDS', 1), ('VNG', 1), ('EFAEAV', 1), ('FPDRQYEPYP', 1), ('LSD', 1), ('QLYGRSPPAV', 1), ('YVQHTYRTGMRV', 1), ('ENFVRYLEHVQAV', 1), ('SDTPFV', 1), ('SKTGALEGPEV', 1), ('EHSREDREVR', 1), ('GKPEPNAV', 1), ('LDA', 1), ('ADG', 1), ('LKEIVADSDV', 1), ('LHKDGEEEARQ', 1), ('GAGTPGQPGQVSQQ', 1), ('HKGQSTVPPCTAS', 1), ('AGRFGSRDALDLGAPREW', 1), ('SLI', 1), ('SEAELTPNHQSV', 1), ('VIGFFKDV', 1), ('LSK', 1), ('SSAEIPVAQETVVSETEVV', 1), ('VHKVQGTGV', 1), ('LRVYSTSV', 1), ('LLGSTDYSTQID', 1), ('VTL', 1), ('LSL', 1), ('LAKTTFDEAMAD', 1), ('KNLTDLGKFCGLCV', 1), ('GPGASQLVPV', 1), ('SYLSQGLRYEEDKKELVV', 1), ('AAPASEAAEEEDVPKQKERTHFTV', 1), ('DRKFLMECRN', 1), ('ISV', 1), ('SKYRWFHNAC', 1), ('TVD', 1), ('ADA', 1), ('ERHVLPASETAC', 1), ('EIPAYSAFV', 1), ('DSYMVIVAV', 1), ('EPAEKAELLEAFKE', 1), ('DTVRPTNAALPTDAAYPAVNV', 1), ('SNFKKTTMASSAQRKRMSP', 1), ('LADAALLSDTV', 1), ('QEHLHKMASSSG', 1), ('RLAGYCQACDVL', 1), ('REYILTCV', 1), ('PDPSPRAEDSEI', 1), ('SLS', 1), ('GDLKTPAGLQVLNDY', 1), ('RATDGDAPPNANL', 1), ('LTQEMNLVDYS', 1), ('SAIEAELEKV', 1), ('GSPGAWAPLDPTSG', 1), ('PGEASRVSVADHS', 1), ('LNLQFSGSESSGS', 1), ('LNVLGMENVV', 1), ('ARAPQLDLKRQYDGVAELD', 1), ('TVQ', 1), ('APPAGMTSTRV', 1), ('EKKYDEELEE', 1), ('GVEQVVLGLYIVRGDNV', 1), ('ILVDLEPGTM', 1), ('LVDISQDNAL', 1), ('DLL', 1), ('VVEASDQGQEPGP', 1), ('RLDKACEPGV', 1), ('LDV', 1), ('VTS', 1), ('MAPPVPGAVSGGSGE', 1), ('EAITFCISSFHG', 1), ('AGLTEEQLQEPITGWRKTV', 1), ('DKELHITACLFGGIIEKGLV', 1), ('GSAPSGQVSAKV', 1), ('DGVFQEDGPVIH', 1), ('ELAKTYLECNE', 1), ('TGLPPAMQKVMYKGLVP', 1), ('SHKESSFDVILSGVV', 1), ('PPEGTSSSNIVPQ', 1), ('GYGVLDAGAMVKMAK', 1), ('EVL', 1), ('DKINSHLEKLASSSKGLSEI', 1), ('REREKYDNMA', 1), ('EEENGKKPVSEDIPGPLQGSGQDMV', 1), ('HLDNSLSDDSPI', 1), ('SLA', 1), ('NASHSSSRESHL', 1), ('DLV', 1), ('EKTYKGSEEEL', 1), ('PLPKQEVLGQCFRNLMEGV', 1), ('TQAQVDEVVDIMRVNVDKV', 1), ('LPAMGPPSDPVMT', 1), ('SGEARKQVDV', 1), ('IPISQYYWWG', 1), ('EEDKKELVV', 1), ('EVR', 1), ('LENVLTPCTV', 1), ('NYLIKNCSETQ', 1), ('SALLGQMQLQ', 1), ('TVL', 1), ('LDK', 1), ('DKRRCEAACGGF', 1), ('GAREDDPMPPVQ', 1), ('TAAPPEGTSSSNIV', 1), ('LRATDGDAPPNAN', 1), ('SDIAMTELPPTH', 1), ('GLTISWVFSSDPKSISFSVV', 1), ('LGNAHIFLGRFDVAAEHYK', 1), ('VEL', 1), ('LSV', 1), ('AENNYEALKDFFRLFP', 1), ('TVR', 1), ('VEN', 1), ('PPRCWSPTDPR', 1), ('AEKESMLFKGPNVYNTKTV', 1), ('AKTTFDEAMADL', 1), ('VQRMLFRTVLHLMSV', 1), ('EGK', 1), ('FEKRGNPDDSF', 1), ('GDSELSIHNGPSV', 1), ('GFFKDVESDSAK', 1), ('EPPMQASQSQLP', 1), ('MQLKPMEINPE', 1), ('GNLDYRNLCYV', 1), ('ISY', 1), ('PEENPPSWAKSA', 1), ('EVS', 1), ('QVLEFGLGGSSMS', 1), ('DGEFTMDLRTK', 1), ('LEQEELDKNLLEISGPETV', 1), ('GSITEVCITFDQ', 1), ('GSQANSEDRHLV', 1), ('LDI', 1), ('ISL', 1), ('FSELRASLINSQPLPKQEV', 1), ('NGV', 1), ('AAQ', 1), ('AQA', 1), ('DQE', 1), ('DAA', 1), ('GEE', 1), ('ADE', 1), ('DAE', 1), ('EGA', 1), ('GEG', 1), ('EGE', 1), ('TLSV', 1), ('SLL', 1), ('VTT', 1), ('TVI', 1), ('VTV', 1), ('STLV', 1), ('ISI', 1), ('SII', 1), ('RPF', 1), ('TVV', 1), ('DID', 1), ('VEV', 1), ('DIV', 1), ('DEIV', 1), ('VNWRSKRSDNSRV', 1), ('MAKPCGVRLSGEARKQV', 1), ('LCKSFLNLLFPRHFHQR', 1), ('AHRLSAEERDQ', 1), ('DLA', 1), ('EGL', 1), ('REHPQVCSLNE', 1), ('GASGNHV', 1), ('QQQPMVPAQIAPGHGQPVTQNPTSE', 1), ('AHSMELEEKTH', 1), ('GYTSRRQTEDV', 1), ('TASSSMAYPNLVA', 1), ('PNRPPCRKNDD', 1), ('SATFPMQCSALR', 1), ('TGEESSIRQYELV', 1), ('RAACASV', 1), ('ATGLAAQWGRHARNLHKTAV', 1), ('GNMKEV', 1), ('TSGGASVV', 1), ('SKENSQMFQGR', 1), ('DMAEIEKFDKS', 1), ('DEHGEV', 1), ('LTFVEMDIESQ', 1), ('ESHKRKMAIKLRNEYGPV', 1), ('EHEEGAPCTAIR', 1), ('NMHGNEVV', 1), ('GET', 1), ('VEY', 1), ('ASQPCSIVDVEFLPV', 1), ('ESKFFEHFIE', 1), ('DSNMAIADV', 1), ('DSENIDEILNNADVALVNFYADW', 1), ('DTTAAGPLFQQRPYPSPGA', 1), ('PGHKGQGERSATS', 1), ('DLS', 1), ('NAPVFPAEEFEVRV', 1), ('EIHSNGSVAHFN', 1), ('PWCGHCKALAPE', 1), ('GFLYRHFWAD', 1), ('SDKEQKAVYDE', 1), ('GSSAFSTWWLGI', 1), ('EMATAASSSSLEK', 1), ('EKPDRSHEKAD', 1), ('VGISDYGDKLNM', 1), ('AREREKYDNM', 1), ('DPNRPPCRKND', 1), ('SGCRVLYDACPK', 1), ('EAELTPNHQSVS', 1), ('SPQVDKCPHTLS', 1), ('PQVDKCPHTLSS', 1), ('TERDMELFRD', 1), ('DVALVNFYADW', 1), ('QSTEEGVHLNQA', 1), ('MGQSSLDHGVQGP', 1), ('DLH', 1), ('QIMESVLCVQY', 1), ('FQKGDYPQAMK', 1), ('FPSDKERMCTV', 1), ('GVTLEYNPYAW', 1), ('EMDWVLKHTGP', 1), ('LNSTANATSTMTT', 1), ('DKTEVTGDHIPT', 1), ('WKTVEMSPAYT', 1), ('GLAFRADDTFEA', 1), ('DIS', 1), ('TLQQCFMNTKV', 1), ('LQQCFMNTKVT', 1), ('AASSSLERSYEL', 1), ('ELGMPLPEDSPQ', 1), ('EALSCPHGRLTE', 1), ('ALSCPHGRLTEE', 1), ('FGLGNKTYEHF', 1), ('ADL', 1), ('PYEQNLVQAHN', 1), ('QITAVDPDDGPNA', 1), ('ADS', 1), ('GEL', 1), ('VHELDEAEYQEIRLMV', 1), ('EGV', 1), ('VTA', 1), ('DDNNMPVTARVV', 1), ('NAAQDPGHLPPDV', 1), ('AAVQAGVLSGDQDTGDLVLLDV', 1), ('QTKVIADNVKDWSKVV', 1), ('NITPSGDYSWSLQVQAKDRGSPSF', 1), ('GHISIRSKSAPLPSATAH', 1), ('SKINASKNQQDDGKMFIGGLSWDT', 1), ('SIV', 1), ('FSPGIWMGLLTTLFMLF', 1), ('RLHGVRDYAAYNVLDDP', 1), ('FAKEYRGSFSYR', 1), ('DTQEKEGILPEKAEEAKLK', 1), ('SVDSQFTHLAWINTPRRQ', 1), ('PSNFNREVIQSDGLWLV', 1), ('VVFRFFQELPASDSAFKAV', 1), ('LKGSFEALSCPHGRLTEE', 1), ('LDQ', 1), ('NGNATLLRTDSPKAHVTHHS', 1), ('KNSQLEQENNLLKTLASPE', 1), ('KVLEDSDLKKSDIDEIVLV', 1), ('EGP', 1), ('VFVLGGPGAGKGTQCARIV', 1), ('INLLDPDTGQRQVSGPLATY', 1), ('LVPQCGLTVIDLEVDGTCV', 1), ('SNIILLGDSQGDLRMADGV', 1), ('QRLEQLGAQRIFELGLGDD', 1), ('EYLTLQVPAFLFQNNPYV', 1), ('EPKPIELPVKEEEPPEKAV', 1), ('ESRISVPVHSFASLSLKTTV', 1)]\n",
      "Y results before filtering:\n",
      "[('YLSRFGEVV', 5), ('LADPRTWRNVPEKKECVV', 4), ('EDPV', 3), ('VFDYEEDIPSV', 3), ('TVEELHEPIPSLFRALTEG', 3), ('ILLYNGDV', 3), ('LASFIEQV', 3), ('LDNGLLYV', 3), ('YLYNVLER', 3), ('YSNVVFLEV', 3), ('YEKTCTLLV', 3), ('FEGKDLVV', 3), ('SATFPMQCSALRKNGFVV', 3), ('EELGAFTESMVV', 3), ('LEVAIQCLETAFGV', 3), ('QEAEAARVELQKKAQALQE', 3), ('EVDP', 2), ('PDV', 2), ('EDVP', 2), ('EKIVNPKGEEKPSM', 2), ('ETNLGMAKDMSP', 2), ('VVDNGSG', 2), ('TCHV', 2), ('SLSLHC', 2), ('DPEV', 2), ('DEPV', 2), ('ISHVTC', 2), ('SLDEVP', 2), ('CHTV', 2), ('LDHKTLYYDVEP', 2), ('LNPPGGKTSDIFGSPVTATAPL', 2), ('PAMAATSFVLMTTFPNKE', 2), ('TLASHHPADFTP', 2), ('VTTFVNHPQVSALLGEED', 2), ('HEPIPSLFRALTEGDTQLN', 2), ('SLRVVAYSLRTALTFCSPR', 2), ('AFYNLGKWNEA', 2), ('GMAEYLFDKHT', 2), ('VGEYTPLRDED', 2), ('EEGKSPSPS', 2), ('IGAVVAFVM', 2), ('YGGSRDYYASR', 2), ('SFSEQGIN', 2), ('EEAKSPGEA', 2), ('EAITFCISSFHG', 2), ('FLKAASNLRDNYRFAHTN', 2), ('QLCNAV', 2), ('PNRPPCRKNDD', 2), ('ARDRGSTLPRRQPPRDYP', 2), ('LEQEELDKNLLEISGPE', 2), ('EEFGALES', 2), ('LSKAAEVESVKEQLPAKALE', 2), ('LRVFDKE', 2), ('EEIELAYEQVA', 2), ('LEEFIKGA', 2), ('IGPEYKS', 2), ('NAQNYQKL', 2), ('IDIRNYI', 2), ('IRGEAFTL', 2), ('IITICKDT', 2), ('LYKAVQQG', 2), ('LDHHPEWFNV', 2), ('LFWALAW', 2), ('LVDDLFKG', 2), ('LGVAEALHP', 2), ('ISLTFSCDGHHLYTANSEGTVIAW', 2), ('PGDYSTTPGGTLF', 2), ('LDPGKLYT', 2), ('LMKWKNS', 2), ('LFNGAKIGS', 2), ('LVSAFKNQ', 2), ('LTKEKNSS', 2), ('LSNALSKSS', 2), ('LSGVFPSSL', 2), ('AKMDSTANEVEAVK', 2), ('DALGGAQGPSKDKVAVLSV', 2), ('QARESQLF', 2), ('SDLKAATDSTPRGEQSDKGSSKEVE', 2), ('EGISQRKFLDGNE', 2), ('EMMPEFQKSSV', 2), ('RYMKMHL', 2), ('WEDKRWSRM', 2), ('VSKFLDDLGNAKSHLMSLY', 2), ('SMDSKTDTLVQS', 2), ('GSITEVCITFDQ', 2), ('KPVETRKEEKVTLDPELE', 2), ('ISPYFINTSKGQKC', 2), ('LDFSMAEALNQEFLATR', 2), ('NSWNLDWGDNGFFKILRGENHC', 2), ('DQRKTQLLSRLIDSGALPE', 2), ('DEPVTV', 2), ('DQTERIVEPPE', 2), ('LSGHTNAVATV', 2), ('SPEDVKRRAMADPEVQQ', 2), ('SPLLGHFLEG', 2), ('LSWNIPELV', 2), ('PFDGIVLVQCTEHLLK', 2), ('AENKKKEAGGGGVGGPGAKSAAQA', 2), ('GEAQRLQNEVVDLQAKLQV', 2), ('ERHLMHLELDIS', 2), ('QSKPVTTPEEIAQVATI', 2), ('SPTQVFFDSANV', 2), ('VSRIVGKSGLNIYNLYAPCA', 2), ('ARAYSSFNPVMSDPNRPPCRKND', 2), ('WRSYAADEKSV', 2), ('SILSGMGNGTVSSSPV', 2), ('GYSVVDVTSFEGSKAPIPTAL', 2), ('EALTEP', 2), ('EAELTP', 2), ('EGAFTV', 2), ('TEEQIAEFKEA', 2), ('GSNLYHVYEVN', 2), ('AVTGTEEDRARFFLESAG', 2), ('EEDVLYN', 2), ('SARSGRAQDQDSQRGRSYLRDNV', 2), ('EEVSKDNP', 2), ('LENAPDTAEFSREFQLDQHLFD', 2), ('EPPMQASQSQLP', 2), ('HKVTSTSGTITSPNWPDK', 2), ('EVISDSLSKPSPMPV', 2), ('RDVKEKLCYVALDFEQ', 2), ('EGKEPETEEFV', 2), ('RVTGEADVEFAT', 2), ('GQVITIGNERFRC', 2), ('LGNKTYEHFNA', 2), ('LDYEDQV', 2), ('KAGDGSKKIKGCWD', 2), ('AQNSGCLTRSASANI', 2), ('HKPLEGRYEWQEVER', 2), ('QPCSIVDVEFLPVYQPSLEESKD', 2), ('IDIFDTDGNGEV', 2), ('LSSSSSLTQNSCV', 2), ('AAPHSTFFDPIVLLPCDL', 2), ('HIRGMYKVDLSASRHW', 2), ('VALGNHSADLGPGDAV', 2), ('LLLLFPLTAQHENFR', 2), ('QELDKKKEEFQKGHPD', 2), ('RGDLHVTLTSAVGTSTVLLAE', 2), ('TPVKEGAKSPAEAKSPEKAKS', 2), ('LLMRRDKTLKICANH', 2), ('ILNLASGVVDLLQFYF', 2), ('IQVVDINDHAPIFVSTPFQ', 2), ('KVTQLDLDGPKELSRRER', 2), ('DGRILDLIDDAWREDKLP', 2), ('SGLTDGIPLQSISAPGSGIW', 2), ('ALGPAPQLLRAREDPASGPSH', 2), ('VPD', 1), ('PMS', 1), ('SDNRSRGYRGGS', 1), ('EDPQVAQLELGGG', 1), ('DLYANTVLSGGTT', 1), ('LNRSFPDQFST', 1), ('PGHKGQGERSATS', 1), ('HKGQSTVPPCTAS', 1), ('WKTVEMSPAYT', 1), ('SCLH', 1), ('VPED', 1), ('DDIP', 1), ('EDV', 1), ('LDPD', 1), ('PDVE', 1), ('VDPE', 1), ('CHLS', 1), ('EKNRMPLPCHS', 1), ('DDPL', 1), ('DPVE', 1), ('PVED', 1), ('PEVD', 1), ('PDLD', 1), ('DLPD', 1), ('CLSH', 1), ('TCV', 1), ('DVPE', 1), ('MDV', 1), ('GTPGQPGQVSQQE', 1), ('TVATVFRGRMSMKEVDE', 1), ('TDLSKGNTKHKVEE', 1), ('VTQQSP', 1), ('GVGGPGAKSAAQAAAQTNSNAAG', 1), ('ADGKAGE', 1), ('CNQLGL', 1), ('ADGNGTI', 1), ('DQEQK', 1), ('ADDTFEAL', 1), ('EVERD', 1), ('ISQDNA', 1), ('DRKFLMECRN', 1), ('AWLQVAGLTEEQLQ', 1), ('ISEAELEEYTSTMMKIFDKNKD', 1), ('SMSSTLTLTKDE', 1), ('RIDDQRCPPPD', 1), ('LSSHVLNKDG', 1), ('ELDVRLPFHAENFLQQ', 1), ('REV', 1), ('NLQFSGSE', 1), ('LVSTGPSSRSPATTLPKRPTS', 1), ('IDEDR', 1), ('AAQSLAVALPSQTRVDAN', 1), ('GEGQSGL', 1), ('RLAGYCQACDVL', 1), ('CHAYQIIHRNG', 1), ('NIYQQKI', 1), ('TVSIFPPSSEQLTS', 1), ('LDYRNL', 1), ('LDICLHSARACQQK', 1), ('AATTLHAELCQPG', 1), ('EVLCKNLALDINELKP', 1), ('NADVALVNFYAD', 1), ('DLNNHPPTFYGESGPQNKFELSM', 1), ('VEGAFT', 1), ('LSEVDDPVYKE', 1), ('DIDLFGSD', 1), ('CGACKALK', 1), ('AFDEAIAEL', 1), ('DAGLLSFA', 1), ('QLV', 1), ('LSSLNKHAEA', 1), ('EGQLSFI', 1), ('FEGRNRISAED', 1), ('KGFDPNCNKTNG', 1), ('HSV', 1), ('ISPSAFTA', 1), ('DAIFQSL', 1), ('SLLAGFGE', 1), ('YEGGRELNDFI', 1), ('ADEKALF', 1), ('VTLLYGSPGATAVLFVFG', 1), ('LSGVFPSS', 1), ('DIQMTQSPSSLS', 1), ('DGPSLNNTYGFK', 1), ('AGEAAFSSDSLRT', 1), ('LWQGSLFNANY', 1), ('ESLIAVFQ', 1), ('DIRNYIL', 1), ('ADLTHDTTGLTAKEL', 1), ('VTLLYGSPG', 1), ('KGV', 1), ('EVFGEVVK', 1), ('QGV', 1), ('TAV', 1), ('PADLTHDTTGLTA', 1), ('MMFVTVSGNPTE', 1), ('VTQFHFLS', 1), ('MTYNKEQGVRS', 1), ('EGKENFVR', 1), ('GPRAEEYEFLT', 1), ('DIRKDLF', 1), ('DIVMNHHL', 1), ('NEASSHKYVPRAILVDLEP', 1), ('RPQAFPEPNQE', 1), ('SGV', 1), ('VNCLAYDEAIMA', 1), ('RKAFMSQQSET', 1), ('GEDSKSDLK', 1), ('SIGGSAAP', 1), ('GGTSRHPGPL', 1), ('TVSKATSPST', 1), ('KAAEQMSTL', 1), ('SLLHAGTPEKGCLLF', 1), ('SLYENLDEELS', 1), ('SIEQKTSAD', 1), ('RGASQAGMTGYGR', 1), ('DLRHSLMPMLETLKTQVQ', 1), ('SGGSTMYPGIADR', 1), ('ADTVREVYERAIA', 1), ('IDHHSKEI', 1), ('LFQDTMAMGGEL', 1), ('SLCESE', 1), ('DATMSILDI', 1), ('VFHAHSGQEGDK', 1), ('VEFKSDNTVSKKGF', 1), ('TYNKEQGVRSM', 1), ('DFV', 1), ('HSDAGADELGEVI', 1), ('PGNSGHWFPWK', 1), ('TSAKDGDYWRL', 1), ('CTV', 1), ('PDPSPRAEDSEI', 1), ('DTLITTVES', 1), ('GTTMYPGIADRM', 1), ('NRASGHTVH', 1), ('NDALEPEDLPQA', 1), ('NASHSSSRESHL', 1), ('PPRCWSPTDPR', 1), ('EVVLPSDPIT', 1), ('EKV', 1), ('LSEERRPSP', 1), ('EGKGFVKADFIKEKLMTQA', 1), ('EGKLETKAGH', 1), ('GCRVLYDACPKS', 1), ('TVAVPNIPPGTPSSHQPI', 1), ('TEV', 1), ('HFNPRFNAHGD', 1), ('EAELTPNHQSVS', 1), ('LDQFRKTY', 1), ('DVFREDLCSKT', 1), ('PQVDKCPHTLSS', 1), ('LNV', 1), ('QEV', 1), ('KDV', 1), ('IREAFDLFDAD', 1), ('FLV', 1), ('SLTGHISTVR', 1), ('SILINEAEPTTNIQIR', 1), ('HVQVTEVNSPGSPAA', 1), ('GEKEQQEAIEHIDEVQNEIDRL', 1), ('ADKTVKGPDGLTALEA', 1), ('NNNFSKMAEEK', 1), ('THV', 1), ('IQCVWRSYAAD', 1), ('FPLSSEPTQGSYKVVIRTE', 1), ('TEVDGVLDALHGS', 1), ('RDV', 1), ('ATSLYSMIKG', 1), ('LSSVSPPSLSP', 1), ('QITAVDPDDGPNA', 1), ('ISESYEQHIRLEGHRRQ', 1), ('SEIGFGKLETYIKLDKLGE', 1), ('PIV', 1), ('VEAERSGIPI', 1), ('NTATETATFQTQ', 1), ('LIDDHFLFDKPVSPLLLAS', 1), ('ADDDDESLLGHLMIVGKK', 1), ('VESQQVQQVEVEATVKPEL', 1), ('EVLQDPTLR', 1), ('PHMTEDNKDLI', 1), ('EQHCLPNTLSVA', 1), ('RGGGDRGYGGGRF', 1), ('MFLAQDMELLT', 1), ('ELSHHENLVSF', 1), ('LDNYLIKNCSE', 1), ('GAGTPGQPGQVSQQ', 1), ('MARKMKDTDSE', 1), ('ANCPYLGMPAFK', 1), ('YSMSLLDNQGLA', 1), ('REHPQVCSLNE', 1), ('QVLEFGLGGSSMS', 1), ('QLFDFIDDLAD', 1), ('FVCPTEIIAFGD', 1), ('PGEASRVSVADHS', 1), ('YEAGEKRWGTD', 1), ('FHEFIVGTSQF', 1), ('QPPAQPASQGSGST', 1), ('GSSAFSTWWLGI', 1), ('KSMSMSVGERVT', 1), ('FVVGRDGTCGVVC', 1), ('EKKYDEELEE', 1), ('SEIDYVISGEAE', 1), ('DLCYQTSQLAGI', 1), ('REREKYDNMA', 1), ('AREREKYDNM', 1), ('SATFPMQCSALR', 1), ('DAAMAARPHSIDG', 1), ('NTFSNKRSEASA', 1), ('HEVNPSSLCGVIG', 1), ('CPQIVIAFYEE', 1), ('VWRSYAADEKS', 1), ('GSFSYRPGACVPA', 1), ('SPQVDKCPHTLS', 1), ('TERDMELFRD', 1), ('EALSCPHGRLTE', 1), ('VEVYSRSAAPES', 1), ('AKTTFDEAMADL', 1), ('YNV', 1), ('AFV', 1), ('SLQEF', 1), ('LVDELEWEIARVDPK', 1), ('RNHRRVHNSDKPYRCSL', 1), ('TVTMTA', 1), ('LDFKGDMDQIM', 1), ('GLAFRADDTFEA', 1), ('AASSSLERSYEL', 1), ('DLHSGTELIVDN', 1), ('EELSHHENLVS', 1), ('SLV', 1), ('IDDMSS', 1), ('DIFQT', 1), ('LSATTM', 1), ('FEV', 1), ('AGAAGGPEEEAEKP', 1), ('DVVHSPSTDTTPG', 1), ('VEV', 1), ('SCNGVNHIIELN', 1), ('HSAHMDIFQNL', 1), ('ESSFDVILSGVVPGS', 1), ('FGLGNKTYEHF', 1), ('EESLAFCEKFSQQLDGRGCFSQL', 1), ('LDNQGL', 1), ('EGLQHLGPFGNIPN', 1), ('LDDPLS', 1), ('DEV', 1), ('SLPYGDLTEIGE', 1), ('PAV', 1), ('SLSGLSISSAPPAVSNVLSTGVP', 1), ('DLNINMTSPMGT', 1), ('ALSCPHGRLTEE', 1), ('LWE', 1), ('SIAVTGSGSC', 1), ('AQITAVDPDDGPN', 1), ('IDLFGSDD', 1), ('LDLRAFYAELYHIISSNL', 1), ('EPAGPEAVRAAEAGAP', 1), ('INCSKTSE', 1), ('VYTHSATC', 1), ('LSTTGSSDGG', 1), ('QLPGQPTAVQTQPAG', 1), ('EISFCVGY', 1), ('VEDVDSFMKQP', 1), ('ELSKAAEVESVKEQLPAKAL', 1), ('LSEPNQTE', 1), ('CERHVLPASETA', 1), ('FPLSSEPTQGSY', 1), ('ADLAEEYSKDRKKFCKNAEEFT', 1), ('EAV', 1), ('TVDLYEGKDMAA', 1), ('KMV', 1), ('DPVMTTAKADASS', 1), ('LDMATNAACASLL', 1), ('SISRKSEDDEK', 1), ('LSDYVGSGPPSGTG', 1), ('LSGSAQNSGCLTR', 1), ('DILLGSTDYSTQ', 1), ('VEAFAVQGEELC', 1), ('PLELWDEPSVEVTFLKKQCETM', 1), ('VVEASDQGQEPGP', 1), ('LSCPHGRLTEEA', 1), ('AAAPEAAGVFALALEAN', 1), ('LSKSPFEETAEG', 1), ('VEPFLFYVLTQNDVK', 1), ('LDVDYRNITLWLKY', 1), ('GFESTSKESLLD', 1), ('EKTYKGSEEEL', 1), ('FQKGDYPQAMK', 1), ('SNNVHAPFPSDK', 1), ('GFDPQSPLCVHI', 1), ('SNV', 1), ('GVTLEYNPYAW', 1), ('PLTTVREHCEQ', 1), ('SEESALNHLQGAG', 1), ('TEKMTTVLSESS', 1), ('HEEGAPCTAIRE', 1), ('AVSGLYSSSDDVI', 1), ('EYSPMIAAGLFN', 1), ('FFEAAVQVGTED', 1), ('FPHHLQEYIE', 1), ('HTEDQGRRQGE', 1), ('CYVGDEAQSKRG', 1), ('YLDFFHEKVD', 1), ('ISSFTPSSDSRE', 1), ('SFETTEESLRN', 1), ('VTTIEIDEETY', 1), ('STKSTETGATKDS', 1), ('LDLNVAEAWELGY', 1), ('HRLSEVDDPVYKEVNR', 1), ('KEEYPDKNQVVFARVDCDQHSD', 1), ('VELSSCEETQALAL', 1), ('AKV', 1), ('LEQPCEGSLTRPKK', 1), ('VEVPYARSEAHLTELLE', 1), ('PRV', 1), ('KLWEMDNMLIQIKTQVEASEES', 1), ('LDTFSGFKVDIWSAGVTL', 1), ('VRLDKACEPGVDYVYKT', 1), ('LDKKKEEFQKGHPDL', 1), ('MLRNGAPFPRLPSDKL', 1), ('EVRGWPFADIISISDGPP', 1), ('LDVKPWDDETDMTKLEECVRSI', 1), ('LSKPSPMPVSPECLETLQ', 1), ('ASATFPMQCSALRKNGFVVL', 1), ('LTV', 1), ('VEWIVVQCGPDVGRPDRGR', 1), ('SIIGRTMVVHEKQDDLGKGG', 1), ('EGSQDKSLHNRELSAER', 1), ('PVDFIYRPWKHAEGQL', 1), ('EEV', 1), ('PTV', 1), ('AEV', 1), ('EVKHMELFQKWSVIPVLG', 1), ('RLMNRFSKDMDELDVRL', 1), ('EVLQDPTLRLNATYYITK', 1), ('IQV', 1), ('DLTIKLPDGHEFKFPNRL', 1)]\n",
      "\n",
      "Filtering time took 0.5654118061065674 resulting in 6 b sequences and 2 y sequences\n",
      "First alignment round took 0.0021820068359375 time resulting in 20 alignments\n",
      "Getting rid of ambiguous time took 0.01211404800415039\n",
      "Filling in precursor took 0.0032150745391845703 for 20 sequences\n",
      "Time to make into objects took 0.005934715270996094\n"
     ]
    },
    {
     "name": "stdout",
     "output_type": "stream",
     "text": [
      "Analyzing spectrum 7/9[66%]\r",
      "B results before filtering:\n",
      "[('ELDVEE', 5), ('TINEIE', 5), ('ELTNIE', 5), ('LDQTEQ', 4), ('EINETSGAI', 4), ('DLQTL', 4), ('EVQNEI', 4), ('TTPGT', 4), ('ELGGT', 4), ('LDEVKD', 4), ('LEDVMDRIIQAD', 4), ('EEVDEL', 4), ('PNDLIE', 4), ('EIQSL', 4), ('EKEALE', 4), ('EEAKL', 4), ('TDIAGLE', 4), ('EEKAL', 4), ('SLADAINTE', 4), ('ESVAAKNLQEAEE', 4), ('VTEQGAELS', 4), ('TVEQI', 4), ('TLQEV', 4), ('EITNI', 4), ('EKVDVE', 4), ('TFPFLHTPSLSNG', 4), ('ELKEYESII', 4), ('EQVNEL', 3), ('TASPEPV', 3), ('GGETLLSVRPM', 3), ('DQLTNDKARV', 3), ('GLGETL', 3), ('LNETEQ', 3), ('ELN', 3), ('LENPV', 3), ('TGPTT', 3), ('DLGGPI', 3), ('VEQLSSGLE', 3), ('NELTL', 3), ('DGLTALE', 3), ('SPATTL', 3), ('QDITL', 3), ('NIETI', 3), ('TGTPIT', 3), ('GEGITI', 3), ('EGIGT', 3), ('DLEV', 3), ('EVE', 3), ('EDIPLN', 3), ('VEEV', 3), ('EID', 3), ('VPENI', 3), ('ENPVL', 3), ('IDNPL', 3), ('EKAEL', 3), ('TPRCNK', 3), ('TELNL', 3), ('TAEGVL', 3), ('SLQEEI', 3), ('ISGVDLD', 3), ('TQLDL', 3), ('SIQEI', 3), ('LTENI', 3), ('TLEEAEEL', 3), ('TIQE', 3), ('EAEKI', 3), ('TGAEVSEQI', 3), ('EQISL', 3), ('SLEQL', 3), ('ESLQL', 3), ('TEVQL', 3), ('SEIAGIE', 3), ('SDAALLRDT', 3), ('TNIEL', 3), ('LDTQL', 3), ('ISQEI', 3), ('EGTAVI', 3), ('LSQEL', 3), ('IEQSI', 3), ('LSAGEL', 3), ('TLDSQIQE', 3), ('TDQLL', 3), ('TEGVAI', 3), ('LDKDDESLRKY', 3), ('LTAEGV', 3), ('IKDDVE', 3), ('TEQLDI', 3), ('IDKVDE', 3), ('LDDLPGA', 3), ('ISVDGID', 3), ('ITEQLD', 3), ('EIVPN', 3), ('VELNPE', 3), ('ELLE', 3), ('QILESEKD', 3), ('EIANGLD', 3), ('DLLQTE', 3), ('TGLLADAALLSD', 3), ('EKIEAE', 3), ('IDWRE', 3), ('EVVE', 3), ('EVLQDP', 3), ('EILE', 3), ('EVIQSDGLWL', 3), ('EESLQL', 3), ('EFFYLPEFLVN', 3), ('LSVREAREEAEE', 3), ('TTLI', 3), ('EVDI', 3), ('EIEL', 3), ('EIIE', 3), ('TPEEKQTT', 3), ('TRDGVPSEAAEHL', 3), ('EEGKSPS', 3), ('EVREMRGAVL', 3), ('EEFARNVP', 3), ('GGPDI', 2), ('ENI', 2), ('ADVAT', 2), ('IQDT', 2), ('ENL', 2), ('QLDQEV', 2), ('VEGPG', 2), ('LQDMINEV', 2), ('EAGRCVP', 2), ('NLEDPL', 2), ('PTSAPV', 2), ('LGEGT', 2), ('EVA', 2), ('IGADT', 2), ('TPSGP', 2), ('LGGTEEL', 2), ('PATST', 2), ('EGGL', 2), ('VAGLTEE', 2), ('LGDTAL', 2), ('AAVDT', 2), ('AVDAT', 2), ('TPGVGAPGNKPE', 2), ('ALGNHSADL', 2), ('ALDGGRSLEEL', 2), ('SPTAT', 2), ('AEVLARVDWTEE', 2), ('GLDPVAE', 2), ('TSATNNVNI', 2), ('EVG', 2), ('IDE', 2), ('EDL', 2), ('IED', 2), ('YLYL', 2), ('NIDPL', 2), ('HCKAL', 2), ('GPVDAL', 2), ('LYYAQFE', 2), ('IYYL', 2), ('YIYL', 2), ('PSSAPEL', 2), ('INPDL', 2), ('VDQPL', 2), ('VPGGE', 2), ('PDNLL', 2), ('QDPVL', 2), ('NLDPL', 2), ('LDNP', 2), ('LDGPG', 2), ('DLNP', 2), ('PTGSPL', 2), ('TGSPP', 2), ('PVQID', 2), ('DPLNL', 2), ('PENVL', 2), ('LPNDL', 2), ('KEAEL', 2), ('ASDLAL', 2), ('NITEL', 2), ('LEQVDP', 2), ('LETVCNDVLALLD', 2), ('ELS', 2), ('AEEKL', 2), ('TLN', 2), ('TTA', 2), ('LTQE', 2), ('TNLE', 2), ('SQELI', 2), ('VDKDL', 2), ('ETAEGVL', 2), ('TAGVE', 2), ('QDTLQE', 2), ('NLTEL', 2), ('DKDIDL', 2), ('SAGELL', 2), ('VSDGVI', 2), ('SADALL', 2), ('AEAVVTE', 2), ('ELA', 2), ('TIE', 2), ('ELQ', 2), ('DTALGI', 2), ('SGVVDL', 2), ('SVAEAL', 2), ('SSSLPDI', 2), ('ATEAVLISRAE', 2), ('PSVSSL', 2), ('VEALPDG', 2), ('LSDGEWQLVL', 2), ('TCREPL', 2), ('GSLEAEQ', 2), ('DLTARQTE', 2), ('WRENE', 2), ('KEDLLEERKEE', 2), ('EDVMDRIIQADI', 2), ('SAEVLAE', 2), ('VEKGILDKEE', 2), ('KEVDV', 2), ('VVGDTV', 2), ('SDGVLDEQELEAL', 2), ('DIVE', 2), ('VVADSV', 2), ('ISDEQLGSI', 2), ('VLSPSSE', 2), ('TGEPPSL', 2), ('EVT', 2), ('SMPREV', 2), ('SVDQDLGPEVPPE', 2), ('PKEPTE', 2), ('VPDIQ', 2), ('VIDQPE', 2), ('EKPPT', 2), ('PLSSAPE', 2), ('EPPTK', 2), ('IDLNP', 2), ('LPGPST', 2), ('NGRGAPE', 2), ('AVGLDPE', 2), ('DVLELTDE', 2), ('VLTSDQSSP', 2), ('SLLAFICEEV', 2), ('ELE', 2), ('EKLDEREAGI', 2), ('SALLGEE', 2), ('DTGLLADAALLS', 2), ('EEI', 2), ('YGPRPE', 2), ('TLL', 2), ('TLA', 2), ('SIIQE', 2), ('TVL', 2), ('IEIGPDG', 2), ('APVPVDC', 2), ('NPHLGY', 2), ('YRHPGA', 2), ('LEPPSSA', 2), ('RFHCVGGSV', 2), ('EEL', 2), ('KHYDRAKEL', 2), ('TTF', 2), ('TVD', 2), ('ESEIAGI', 2), ('RNIDNSDK', 2), ('VEVE', 2), ('VPPV', 2), ('VAPPMEEEIVPGN', 2), ('PVPV', 2), ('PVAGPEAGAE', 2), ('IMRLDLAGRD', 2), ('MRLDLAGRDL', 2), ('TVT', 2), ('SLIETDKKPE', 2), ('LSLLQDSGE', 2), ('TSVL', 2), ('QFFEIWLHFD', 2), ('DGHLYE', 2), ('NPPSEPKE', 2), ('PNPVDDAGL', 2), ('HGEIIYPEICML', 2), ('TIT', 2), ('TLT', 2), ('TTI', 2), ('DVELTVEE', 2), ('HRYEDTL', 2), ('NRWEE', 2), ('LDVE', 2), ('LELE', 2), ('AGKDGVANVSIE', 2), ('SYVYLSMA', 2), ('ANNVLSGGTT', 2), ('TSKESLLDHMKE', 2), ('RSAQEEITEYR', 2), ('ERAVQE', 2), ('AETPGAVSPNQPHL', 2), ('FENKPPTE', 2), ('EEE', 2), ('EYFDGNLKRYL', 2), ('DSLNVADLS', 2), ('EDNKDL', 2), ('EQGVWETL', 2), ('FDLCHVLLSL', 2), ('LTSSMYVP', 2), ('TGFMVLTANGL', 2), ('EIP', 2), ('ACPDPAPVQLI', 2), ('EED', 2), ('FSTNMALNIL', 2), ('ERLPSKCE', 2), ('DTEAALAKDIEEI', 2), ('SSHELFITLL', 2), ('RQVVAEECVAFM', 2), ('FDGVQDPRIL', 2), ('MEQRLEQGQAID', 2), ('RSVSLVEGDTP', 2), ('NTNIQWSAIL', 2), ('TVR', 2), ('LTWEWNL', 2), ('NPAVFLSLADL', 2), ('EKQDTQEKEGIL', 2), ('DESGKGKGIAGRQD', 2), ('PTNASAPQKPIYM', 2), ('TFDVSLLTID', 2), ('LSKLDVEDQL', 2), ('MQLDVNAKIQEE', 2), ('TNSDFQACQRVL', 2), ('ISRAELEGRE', 2), ('GPG', 1), ('PGG', 1), ('INE', 1), ('QEV', 1), ('GAVE', 1), ('NEI', 1), ('LDA', 1), ('EGL', 1), ('QDL', 1), ('TPT', 1), ('LEG', 1), ('TSP', 1), ('DLA', 1), ('DIA', 1), ('AGVE', 1), ('QID', 1), ('DALWWGTI', 1), ('PGTPS', 1), ('ADAINTE', 1), ('GDAL', 1), ('EAV', 1), ('PSAPS', 1), ('LADDHDVL', 1), ('GIAVPD', 1), ('SATAPDLG', 1), ('VGEGP', 1), ('AGDL', 1), ('GGLE', 1), ('EGV', 1), ('DEI', 1), ('DEL', 1), ('ASSPP', 1), ('AAAPE', 1), ('AAPAE', 1), ('APEAA', 1), ('VDPQ', 1), ('IPDN', 1), ('NPV', 1), ('GIDPG', 1), ('PGSPT', 1), ('LNDLP', 1), ('GIPDG', 1), ('PNV', 1), ('DQVP', 1), ('NPE', 1), ('LGPSTP', 1), ('INDLP', 1), ('SSPAP', 1), ('DNLP', 1), ('EAA', 1), ('GPAVD', 1), ('QLEASPDFLATPE', 1), ('AASDI', 1), ('KAEE', 1), ('TDL', 1), ('AGTVE', 1), ('QLSE', 1), ('ETV', 1), ('EAK', 1), ('GLTAKELEALD', 1), ('TEN', 1), ('IES', 1), ('SEVVVVKDRE', 1), ('RPCVP', 1), ('LQTE', 1), ('VATGE', 1), ('LSE', 1), ('AGSLE', 1), ('EQL', 1), ('VTG', 1), ('TGV', 1), ('TQD', 1), ('GATVE', 1), ('ASLGE', 1), ('SSVSP', 1), ('EQS', 1), ('LSG', 1), ('LTN', 1), ('LTG', 1), ('IQTE', 1), ('DVKE', 1), ('AADTL', 1), ('LQSE', 1), ('ISA', 1), ('LES', 1), ('RCPETL', 1), ('TQI', 1), ('DVDNASL', 1), ('EAS', 1), ('ETI', 1), ('ETL', 1), ('VSSSP', 1), ('TDA', 1), ('ALEKE', 1), ('VVDPAA', 1), ('DKID', 1), ('LSS', 1), ('EDK', 1), ('LSP', 1), ('ISS', 1), ('AGITE', 1), ('EAL', 1), ('DLD', 1), ('VTD', 1), ('REW', 1), ('DLK', 1), ('LDS', 1), ('SLP', 1), ('TQE', 1), ('IDD', 1), ('DID', 1), ('VPS', 1), ('TAV', 1), ('VAVFHGRNFL', 1), ('KVDVE', 1), ('DASKSVDEVFGEV', 1), ('TEA', 1), ('SEAAI', 1), ('RSPWFSHITSSI', 1), ('VLDE', 1), ('KIDSNLDE', 1), ('ATGLE', 1), ('VED', 1), ('LAESSRDAL', 1), ('SPISEAP', 1), ('NLLDP', 1), ('YLLY', 1), ('PGLAVD', 1), ('TEP', 1), ('LLNDP', 1), ('PASLPS', 1), ('GVGLPE', 1), ('GLPAVD', 1), ('PAEVGV', 1), ('PPEKT', 1), ('LPTGSP', 1), ('PLPSAS', 1), ('PPLSAS', 1), ('VLQDP', 1), ('LKEAE', 1), ('GLSLAE', 1), ('LEK', 1), ('LGTAVE', 1), ('LEE', 1), ('GGRTVKEFCQQE', 1), ('VER', 1), ('ITI', 1), ('ATTLPS', 1), ('AALEAEP', 1), ('AVLASE', 1), ('IIEE', 1), ('RGSPSFSTTAL', 1), ('TAL', 1), ('VLPEDGA', 1), ('EKG', 1), ('QSKGGSH', 1), ('PMEINP', 1), ('GRDAPAN', 1), ('QANRDP', 1), ('KEGPATE', 1), ('RGNAPEG', 1), ('VFYYEIQ', 1), ('QARYY', 1), ('VPV', 1), ('TWQ', 1), ('RDWEL', 1), ('TPP', 1), ('LTL', 1), ('VSQLANLTQGE', 1), ('PAMVKRICEL', 1), ('VPA', 1), ('VTS', 1), ('STVL', 1), ('VTV', 1), ('SLS', 1), ('ISI', 1), ('LTV', 1), ('LSI', 1), ('SLV', 1), ('LST', 1), ('HPSQSVRSVNSPS', 1), ('FGAVEAISDRTCI', 1), ('SHPSQSVRSVNSP', 1), ('LTT', 1), ('LEV', 1), ('DVIE', 1), ('IEE', 1), ('RAASSGGQAE', 1), ('GDRDKLQSQL', 1), ('QHQARIEIE', 1), ('GAHEGLQHL', 1), ('FTPSPDGRKARGE', 1), ('ANEERL', 1), ('KSPSPSE', 1), ('TSQ', 1), ('EHL', 1), ('ESS', 1), ('EKD', 1), ('KDSPRE', 1), ('PKSELAVSSEL', 1), ('QEARDI', 1), ('DARFYALSAKFE', 1), ('GTEYCVLL', 1), ('PSESKPS', 1), ('KGESVMVVPTL', 1), ('SPEEVQSVQEHL', 1), ('QERCPV', 1), ('GQAIDDL', 1), ('AQKSAESNPKTQE', 1), ('EKN', 1), ('TKE', 1), ('QQVEVE', 1), ('LRGSDAVSE', 1), ('FLHQSHE', 1), ('ASTLNPE', 1), ('PRSTSSP', 1), ('GQEREL', 1), ('GGSDFLMKRL', 1), ('QEEAKE', 1), ('DGNSLLD', 1), ('EQE', 1), ('RGMLEYE', 1), ('QSVEYRHIWSL', 1), ('GSSVVATNNI', 1), ('TYE', 1), ('MAEYGTLL', 1), ('GETLQEKLLE', 1), ('SIG', 1), ('TQR', 1), ('SSRPGQHE', 1), ('YNKLCQE', 1), ('RKSSTPEE', 1), ('LLCWHPE', 1), ('AFTVFSDF', 1), ('QAMDLVQE', 1), ('KWKEDVE', 1), ('PVS', 1), ('SPGEAKSPAEPKSP', 1), ('DNDTLKDL', 1), ('GDYFRYL', 1), ('CRIGFGPSP', 1), ('GLQFKDPE', 1), ('VLANLCEAPYPID', 1), ('TGI', 1), ('KDEWKDL', 1), ('RVEPTETFYYI', 1), ('FSSPAPQSI', 1), ('REQEAGQGPGYLL', 1), ('TAA', 1), ('SSELDLQGI', 1), ('REDENVEKSYL', 1), ('ADCGQLEIL', 1), ('LER', 1), ('DLF', 1), ('ERI', 1), ('GQDAEICLL', 1), ('RAEPVNVFDI', 1), ('VAKMSLDPADL', 1), ('ERH', 1), ('AHVRQRLDE', 1), ('WSAGVTLYNI', 1), ('GSILASLSTFQ', 1), ('REVCRSFVK', 1), ('YERGLVFYI', 1), ('AARLTSDPTDI', 1), ('TKD', 1), ('LQALMDILNE', 1), ('QFVNEWAAEIPGG', 1), ('GRPLFPGSTVE', 1), ('LSN', 1), ('ALSVREAREE', 1), ('RELAEEKRE', 1), ('EPR', 1), ('FGVLATVPCPR', 1), ('PGEVMDASELEKL', 1), ('FHSFSTNMALNI', 1), ('RGYSFTTTAERE', 1)]\n",
      "Y results before filtering:\n",
      "[('INPDL', 4), ('LPNDL', 4), ('LPTGSP', 3), ('PSATSPGP', 3), ('WGLPGPS', 3), ('QGKEVGETLLYY', 3), ('IYYL', 3), ('EVLQDP', 3), ('LENPV', 3), ('PNVE', 3), ('IDNPL', 3), ('LDQVP', 3), ('VELNPE', 3), ('AATLEPPSSA', 3), ('PTTGSPENL', 3), ('VDQPL', 3), ('VPENI', 3), ('SEALAGAPLD', 3), ('AEWHSHL', 3), ('ELLDPEDL', 3), ('PVEDDIDL', 3), ('ILFNNVDGHL', 3), ('AQIGSGAVALCPESP', 3), ('TSPPG', 2), ('SAPSP', 2), ('TPSGP', 2), ('TGSPP', 2), ('VQIDP', 2), ('IYLY', 2), ('EEELVDPL', 2), ('EQYIY', 2), ('DEIKPSSAP', 2), ('YYI', 2), ('IKHAC', 2), ('PVE', 2), ('IGIDPG', 2), ('LLNDP', 2), ('ISSAPP', 2), ('LSPPGT', 2), ('TLVGYDLVPE', 2), ('LQVPD', 2), ('PTSWQLDP', 2), ('PGTPS', 2), ('PNLD', 2), ('LEQVDP', 2), ('LPDVQ', 2), ('EDIPLN', 2), ('LGPSTP', 2), ('SPMRQVEP', 2), ('LEDNLP', 2), ('LPGPST', 2), ('VETRLPND', 2), ('TVPEMEPL', 2), ('LDDLPGA', 2), ('PVQE', 2), ('IDIENP', 2), ('NPEI', 2), ('VPDIQ', 2), ('VEIPGG', 2), ('VDIPQ', 2), ('PSSAPEL', 2), ('DQRCPP', 2), ('VCRPP', 2), ('TASPEPV', 2), ('PYFDPLQ', 2), ('VPCPR', 2), ('EAATPPP', 2), ('STKAF', 2), ('EKKYD', 2), ('FCRKF', 2), ('EFCRK', 2), ('HCKAL', 2), ('QDIPV', 2), ('EPEKPT', 2), ('PDNLL', 2), ('DLGGPI', 2), ('ESQPPEKT', 2), ('ENPVL', 2), ('PTGSPL', 2), ('PKEPTE', 2), ('TEEITSLWQGSL', 2), ('TYSKSP', 2), ('TQSLAQAIGSQME', 2), ('NFPVSHKDFIGC', 2), ('GLDPVAE', 2), ('TGEPPSL', 2), ('AVGLDPE', 2), ('PNDLIE', 2), ('NFFPYGDASKFA', 2), ('VTPL', 2), ('RDAAAEVPS', 2), ('LQDYCGRLFATL', 2), ('YRHFWA', 2), ('DAQGDIPVT', 2), ('EKLPEATGLSP', 2), ('EGMKFDRGYISP', 2), ('VVPYLEDLHG', 2), ('NNLCLH', 2), ('NPFVHELHL', 2), ('IDESHI', 2), ('GRGGHIAKDCK', 2), ('EVEVLEPE', 2), ('IDFARQKLD', 2), ('ETQEKNPLPSKE', 2), ('ISHDEL', 2), ('LDL', 2), ('SLLNCHTQ', 2), ('DDI', 2), ('ISHTEE', 2), ('SLYANNHP', 2), ('LSAEIMDH', 2), ('TTQEPIWLTDVP', 2), ('LLFVSSGPTNA', 2), ('ILYPATTGRN', 2), ('EEFEKNKGKGFS', 2), ('ETIDRETSGNLE', 2), ('LLGTEKCVWG', 2), ('LIQWITTQC', 2), ('LIGKTSEMAR', 2), ('TISETTEV', 2), ('TVFQQLEQL', 2), ('LNEPLSNE', 2), ('ESYAGIYI', 2), ('PNKELADE', 2), ('IIKGFTFTNT', 2), ('LLFLWESHP', 2), ('ILAFHYLHAG', 2), ('EEDAPELL', 2), ('TAISKPVGFGE', 2), ('LVE', 2), ('EEKGPEVKEYR', 2), ('EKIEKMKAE', 2), ('YMYLSPLQQAVS', 2), ('QSIESKLDCLLD', 2), ('ELARDLCKEPPE', 2), ('TGRSRSSQNI', 2), ('EEREHAEKLMK', 2), ('EAVTTPGTVAVP', 2), ('TPEEAGVRGLL', 2), ('NPGWKKNGAGL', 2), ('EEEFKKFISDK', 2), ('TDHKAAVLASE', 2), ('LRMMVGVNISDE', 2), ('PPS', 1), ('PTPGS', 1), ('TLVPENEAA', 1), ('AAPEA', 1), ('APE', 1), ('PAE', 1), ('ENIP', 1), ('GPVDALSSPT', 1), ('PPSGT', 1), ('ASP', 1), ('DPVAG', 1), ('DPV', 1), ('EVP', 1), ('GGE', 1), ('EPVN', 1), ('DNL', 1), ('PQVD', 1), ('DLGGP', 1), ('LDPN', 1), ('PEV', 1), ('PNL', 1), ('VNE', 1), ('PSSPA', 1), ('APPSS', 1), ('PVQD', 1), ('EVALTNYTFENV', 1), ('EAAPA', 1), ('RLDPPC', 1), ('LGE', 1), ('EINP', 1), ('CDIPPR', 1), ('EEVEVLEP', 1), ('ESLHSIISNTEAV', 1), ('LNE', 1), ('PEVLQD', 1), ('EVQP', 1), ('TMRAPPQD', 1), ('EKPPT', 1), ('VPEQ', 1), ('VPAAD', 1), ('IPE', 1), ('TSPPA', 1), ('VPEAVAD', 1), ('LPEGDLG', 1), ('QEV', 1), ('VEPAG', 1), ('DQL', 1), ('LPE', 1), ('SLDSGVPKRF', 1), ('TEPPK', 1), ('TGQREAKKTS', 1), ('NVTFGYTAA', 1), ('SLHH', 1), ('TKAFS', 1), ('EITFKDY', 1), ('PKEPT', 1), ('PDVLQ', 1), ('EIVPN', 1), ('LPS', 1), ('LPV', 1), ('TVLP', 1), ('VID', 1), ('TGSPLP', 1), ('SPPLSA', 1), ('SFRQY', 1), ('ISTGHMILAY', 1), ('NPPGGKSSLS', 1), ('TVFSDF', 1), ('PVGFGGKDC', 1), ('NPHLGY', 1), ('TPNQTTAF', 1), ('NRQDPA', 1), ('TYLEST', 1), ('SAE', 1), ('TYNLTA', 1), ('QSKGGSH', 1), ('VTDKYG', 1), ('VPHQMA', 1), ('STAPVGGGSF', 1), ('EFYEK', 1), ('GRDAPAN', 1), ('PNGDRAA', 1), ('EVL', 1), ('KSQNSH', 1), ('RDAPANG', 1), ('APLDPTS', 1), ('TVVESSEKAYSEA', 1), ('LHCQLS', 1), ('PEAVADV', 1), ('SYFQR', 1), ('HMPTSK', 1), ('WEKHT', 1), ('SPV', 1), ('VPSV', 1), ('VPVS', 1), ('TALP', 1), ('VPIT', 1), ('IENPADVSV', 1), ('TLAP', 1), ('PVVS', 1), ('TSL', 1), ('TPV', 1), ('SLCEDLLS', 1), ('PLL', 1), ('TVP', 1), ('SLL', 1), ('IPS', 1), ('PSI', 1), ('ELTLHSEILS', 1), ('SLLP', 1), ('HLL', 1), ('SRGRGGFTSDRGF', 1), ('DLQYVFM', 1), ('VFE', 1), ('THAVQSA', 1), ('ESLLDH', 1), ('TYHVTLTLPP', 1), ('TQGHLAS', 1), ('SLSLMY', 1), ('PRE', 1), ('PKE', 1), ('ELLSHD', 1), ('KEE', 1), ('EPQPASS', 1), ('EMLWH', 1), ('NPDEAVA', 1), ('EKE', 1), ('ENKQTTVSNSQQ', 1), ('LEEEMTK', 1), ('SSE', 1), ('TDFQANLA', 1), ('TVNGDVFQ', 1), ('VLL', 1), ('EAL', 1), ('VTFGYTAAN', 1), ('ELGDRAAQGRAYG', 1), ('MEL', 1), ('TTIFTDAKESSTV', 1), ('TMSAATGIQ', 1), ('IENRFAAER', 1), ('ESE', 1), ('SFL', 1), ('PEE', 1), ('PGIPPWQQAASPD', 1), ('TVEHPFSV', 1), ('EEV', 1), ('SPE', 1), ('LRE', 1), ('DID', 1), ('SLQGELEPA', 1), ('PVMSDPNR', 1), ('TITSPNWP', 1), ('HSL', 1), ('GPDGLTALEA', 1), ('EFDKKYN', 1), ('FSP', 1), ('VLE', 1), ('FEE', 1), ('TAVQTQPAGA', 1), ('DLGAPREW', 1), ('TAADMAALITK', 1), ('SVSSSSSHRQSKS', 1), ('LTL', 1), ('TVMLWLQTN', 1), ('PGE', 1), ('EMTLDEWKAIQ', 1), ('TLL', 1), ('EIQNAPEQACLLA', 1), ('EMLMARRAQ', 1), ('LDEESHKRK', 1), ('SRE', 1), ('EGDLELLAVF', 1), ('INI', 1), ('INPDLALEEK', 1), ('LDPEAAEQIR', 1), ('IDSHVLCGAVK', 1), ('EAKSPAEVKSPGEA', 1), ('ITSISSGHIGIG', 1), ('ELRPTLNELG', 1), ('EDSPQRDSPKVAA', 1), ('AVDHPLPPAQP', 1), ('QKPPFDAKNP', 1), ('EEL', 1), ('ISE', 1), ('EVLTHYNVTSNS', 1), ('DTL', 1)]\n",
      "\n",
      "Filtering time took 0.34778809547424316 resulting in 3 b sequences and 2 y sequences\n",
      "First alignment round took 0.0009510517120361328 time resulting in 11 alignments\n",
      "Getting rid of ambiguous time took 0.004705190658569336\n",
      "Filling in precursor took 0.003313779830932617 for 11 sequences\n",
      "Time to make into objects took 0.015139102935791016\n",
      "Analyzing spectrum 8/9[77%]\r",
      "B results before filtering:\n",
      "[('SSSSLAAPASLFPLK', 5), ('SSL', 3), ('SSI', 3), ('SLPLPMRSRKYQ', 3), ('SKNKRTQN', 2), ('TVLPVKLYSDARN', 2), ('TSVLQIS', 2), ('RVFGATP', 2), ('RVKSGGERSHLHL', 2), ('SII', 2), ('DIKSGKLSQ', 2), ('LLSSEATVR', 2), ('TVKDGKTLN', 2), ('SLS', 2), ('SLV', 2), ('SLI', 2), ('DVLELLDKYLILNATQA', 2), ('AFRELSLLLDGLELNKT', 2), ('ISE', 1), ('PFSRLQ', 1), ('SRA', 1), ('SVL', 1), ('LSI', 1), ('VTL', 1), ('TLMRIN', 1), ('STV', 1), ('LSK', 1), ('LSA', 1), ('TVV', 1), ('RIM', 1), ('KKLCGTVLGG', 1), ('NSKNKRTQ', 1), ('LDV', 1), ('KVLLPEYGG', 1), ('GLLVSWAFTDRPELSLK', 1), ('QRIPELAINPLGDRIIN', 1), ('LDL', 1), ('VTS', 1), ('ISS', 1), ('SVT', 1), ('LSS', 1), ('IVST', 1), ('LVST', 1), ('SVI', 1), ('IVTS', 1), ('IST', 1), ('IDD', 1), ('DLD', 1), ('DID', 1), ('LDD', 1), ('VED', 1), ('VLDRMMKKLDLN', 1), ('KKEEIPEFSKIQ', 1), ('ALAQAQAQAQVPAKAPLAGQ', 1), ('FLAAVTTNRKLNQ', 1), ('KERAQQPLKQQQPPKQ', 1), ('LLEGKLQALQTDYKALQ', 1)]\n",
      "Y results before filtering:\n",
      "[('GVREPVFMRLRVGRQN', 3), ('RLATTVSAPDLKSV', 2), ('VSRLATTVSAPDLK', 2), ('EVAGGIEAIV', 2), ('EVGELLGQI', 2), ('SLQALPT', 2), ('SLSRAAAALLRWGRSAGGGG', 2), ('IDPRSGLIS', 2), ('SLFVKLHN', 2), ('ITSRLESVAIVVRDNLE', 2), ('SDAG', 2), ('PHKRPAAATATARPSTLPA', 2), ('LSKPER', 1), ('LRQ', 1), ('EVAAAVLG', 1), ('RGG', 1), ('VAQ', 1), ('TTQ', 1), ('LEQ', 1), ('SVLPREKE', 1), ('LDQAIGL', 1), ('LLQ', 1), ('SSQVVLP', 1), ('AGQ', 1), ('LSAASAPL', 1), ('SHKYVPRA', 1), ('SRKPEEKPKMEAKVKE', 1), ('EVVVLSRNSRDAI', 1), ('AKN', 1), ('SVGLLDTPR', 1), ('ATS', 1), ('SPRLHAEAGPGRPL', 1), ('SPPEGKLETKAGHPPAVKA', 1)]\n",
      "\n",
      "Filtering time took 0.06140398979187012 resulting in 4 b sequences and 1 y sequences\n",
      "First alignment round took 0.002145051956176758 time resulting in 9 alignments\n",
      "Getting rid of ambiguous time took 0.001965761184692383\n"
     ]
    },
    {
     "name": "stdout",
     "output_type": "stream",
     "text": [
      "Filling in precursor took 0.266726016998291 for 9 sequences\n",
      "Time to make into objects took 1.0049018859863281\n",
      "B results before filtering:\n",
      "[('LEELFFKLIS', 4), ('KLEN', 4), ('EEILKAFKLF', 4), ('KLDQ', 4), ('SLNGLVYVAQR', 4), ('SVLNA', 4), ('SVVAQ', 4), ('KIEN', 4), ('KKLLYEKMKG', 4), ('KLIAALGAYTAQ', 4), ('LKEN', 3), ('NLEKVDRN', 3), ('EIKN', 3), ('DKLQSQLGV', 3), ('VAKGEDVNR', 3), ('VSGIQ', 3), ('ELNK', 3), ('SGLNI', 3), ('IEKN', 3), ('KVEQ', 3), ('KNIE', 3), ('DKQISIKKL', 3), ('KADIG', 3), ('IEIE', 3), ('LGQSVEYR', 3), ('KNEL', 3), ('KVQE', 3), ('KELN', 3), ('KAVEG', 3), ('SIING', 3), ('GIEGKFGML', 3), ('SLGRVVWKFQ', 3), ('KDGAL', 3), ('GNISIYER', 3), ('EIIE', 3), ('KLKSSDAYKKA', 3), ('IKKFIQDSIF', 3), ('SIACILGVLLA', 3), ('SSSILI', 3), ('KIVNPKGEEKP', 3), ('KGLIDGLTKFF', 3), ('SALTLA', 3), ('KKISSVQSIVPA', 3), ('KLLEHAKGAGSK', 3), ('KKKGQHAAEIQ', 3), ('KSIDLKDKYK', 3), ('SQSIYQLI', 3), ('KKTKPYIQVD', 3), ('KTSVLTLRSSF', 3), ('CLHL', 2), ('LCHVLLSLLEK', 2), ('CIHL', 2), ('HCLL', 2), ('HICL', 2), ('HCII', 2), ('LVASN', 2), ('VASNL', 2), ('TASPK', 2), ('QLDK', 2), ('QVISG', 2), ('TALGAA', 2), ('EVKQ', 2), ('RRGD', 2), ('LLGSN', 2), ('ALASAA', 2), ('VGGASL', 2), ('LVSQG', 2), ('NKIE', 2), ('VTVNA', 2), ('AAGVSV', 2), ('VEQK', 2), ('LGNVT', 2), ('PAKTS', 2), ('IQKD', 2), ('GKGEL', 2), ('LLEE', 2), ('ASVNI', 2), ('EQVK', 2), ('VQEK', 2), ('NLKE', 2), ('ENLK', 2), ('ATGLAA', 2), ('IDKQ', 2), ('KLA', 2), ('GGLSAV', 2), ('ARAW', 2), ('DGKAL', 2), ('GAAVVS', 2), ('VNGLT', 2), ('ASGVAV', 2), ('LQKD', 2), ('LSNGL', 2), ('TGTKP', 2), ('AGVLSG', 2), ('VGAVAS', 2), ('DLKQ', 2), ('VQVGT', 2), ('LAGKD', 2), ('PSATK', 2), ('GQLVS', 2), ('EKVQ', 2), ('ANSVL', 2), ('GASVVA', 2), ('QLATA', 2), ('NGVTL', 2), ('EAVKG', 2), ('EKQV', 2), ('LGSGLG', 2), ('IISGN', 2), ('DGRR', 2), ('LNGSI', 2), ('VEGKA', 2), ('KVTCKKFDLR', 2), ('LFITLLKDE', 2), ('RKFRFRKET', 2), ('VSTVLT', 2), ('SLRFP', 2), ('SRTKQ', 2), ('KQKCI', 2), ('STLVTV', 2), ('AVLTPQFLHVI', 2), ('KALKPKFAEST', 2), ('SVP', 2), ('LKRPD', 2), ('KKQ', 2), ('SSK', 2), ('IPPKSSVAVPYV', 2), ('GRPLSVSARARS', 2), ('SLAGLAP', 2), ('ALPLETKVATVP', 2), ('KKA', 2), ('IGIPHTQRLQG', 2), ('TLPLEAERPLV', 2), ('LAVNMVPFPRL', 2), ('SLPPLLSQLALS', 2), ('VNQVLASRYGI', 2), ('LRCIPALDS', 2), ('CRLAI', 2), ('VTATAPLAHPNK', 2), ('RCIPALDSL', 2), ('TGLTILQSGIRP', 2), ('CLRWTPVI', 2), ('ICRLA', 2), ('TATVLA', 2), ('SSV', 2), ('QTCQFV', 2), ('KIL', 2), ('KIK', 2), ('SVK', 2), ('KAKMKNKQLPA', 2), ('TVDLKRKPADL', 2), ('LDSLKGTFA', 2), ('SLLKNLGHWLG', 2), ('SRIVPTPTSPAI', 2), ('KLV', 2), ('ISIRSKSAPLPS', 2), ('NFSDRSLL', 2), ('IKRFSFKSKP', 2), ('LEAMVKEAP', 2), ('VGRSVDEIIRL', 2), ('IEHTKVILRE', 2), ('QQAISKLEARL', 2), ('LKLIANVTFGY', 2), ('VAIRTAKGEKF', 2), ('YITKQILPPLA', 2), ('FQKRSELIAK', 2), ('GSDFLRKRLQ', 2), ('LPHLLEVDRK', 2), ('LFLLRTESLQ', 2), ('RKRDFEKIF', 2), ('PAERGPPVRLF', 2), ('TPPKQPAQPKQ', 2), ('VSLLKDLKHAN', 2), ('CHL', 1), ('ELL', 1), ('EEL', 1), ('IEE', 1), ('KVA', 1), ('QKLIAALGAYTA', 1), ('KDL', 1), ('LEK', 1), ('KDQ', 1), ('RAATLGHRAVPA', 1), ('ELE', 1), ('KAT', 1), ('LKG', 1), ('TAAAAARGLLHPA', 1), ('AALGPTV', 1), ('LDKHLIPAAN', 1), ('KSP', 1), ('SGI', 1), ('SQL', 1), ('KEN', 1), ('KDA', 1), ('KGD', 1), ('LEL', 1), ('SKP', 1), ('SLK', 1), ('KHL', 1), ('SAI', 1), ('VLYDIILKNF', 1), ('LVVLLQANRDP', 1), ('KRR', 1), ('LKA', 1), ('VLVKEYAEVIG', 1), ('LKK', 1), ('FLLRRGASVNS', 1), ('SCL', 1), ('RPVFT', 1), ('KPE', 1), ('KPV', 1), ('PSLKTMIPVRP', 1), ('MTVLR', 1), ('DLLTKLLQFE', 1), ('IRISM', 1), ('LRPEVLQDLR', 1), ('VRFTP', 1), ('AKAMKA', 1), ('ALTITT', 1), ('AYLRP', 1), ('KVL', 1), ('IPSFR', 1), ('TRVLM', 1), ('RFPIS', 1), ('LTISSV', 1), ('KPL', 1), ('SLV', 1), ('RTLVM', 1), ('RIPAY', 1), ('LSRML', 1), ('KEP', 1), ('PGALQSALALAQV', 1), ('KNK', 1), ('ELA', 1), ('APKQKG', 1), ('VSV', 1), ('PRLLIQQWKG', 1), ('KVV', 1), ('AKLAPE', 1), ('VPEKPREIGGR', 1), ('SIV', 1), ('VRGPLS', 1), ('PATETIKNILPA', 1), ('SLQ', 1), ('KDR', 1), ('LPPIGLLTSDGR', 1), ('PQAPTHFLVIP', 1), ('PKQPAP', 1), ('VKFDINFNLK', 1), ('TGHISTVRGVIV', 1), ('RISYPELTLK', 1), ('LRVSIRPAPET', 1), ('HTVIPA', 1), ('PPKQPA', 1), ('LAHSLTRVVIE', 1), ('KNS', 1), ('SQP', 1), ('QQIVGPPRKKS', 1), ('GIAYRGLFIID', 1), ('FIPVAP', 1), ('KQL', 1), ('ELP', 1), ('IRFVRSISEL', 1), ('SPR', 1), ('PALEIANAHRK', 1), ('STA', 1), ('TLTPGLWLGLPA', 1), ('SLT', 1), ('ISAAPKPAAPTTL', 1), ('SCA', 1), ('MASFGALALLLL', 1), ('ILKPLMSPPSR', 1), ('IKI', 1), ('IKD', 1), ('DKVLELKEHK', 1), ('TEK', 1), ('KDS', 1), ('TKDRSLRKSF', 1), ('KVI', 1), ('LKS', 1), ('SIR', 1), ('MRLPDIPLRQ', 1), ('SIK', 1), ('LRRIPNGEANV', 1), ('LKI', 1), ('RIVGKSGLNIY', 1), ('ISGGFIRRVTN', 1), ('KSL', 1), ('IVSIILNKDHS', 1), ('SID', 1), ('ALLGISFFALPA', 1), ('RRPLWWGLPG', 1), ('ASAPGYLAITKK', 1), ('RPRVEYPA', 1), ('SLS', 1), ('FDAKNPFL', 1), ('ELF', 1), ('SNY', 1), ('SAP', 1), ('STK', 1), ('IADVKKFLQGT', 1), ('QPPPPFTAP', 1), ('TVLTIAHRLNT', 1), ('VTLPLEAERPL', 1), ('RLPPIGLLTSDG', 1), ('KGV', 1), ('GELRPRRRAQ', 1), ('SAR', 1), ('PFVKSAEPHLL', 1), ('EVLLLKLESDP', 1), ('HVLCGAVKWLI', 1), ('GNAKIGYPAP', 1), ('QVLAKPLNLQD', 1), ('LRAPLDIPIPD', 1), ('LED', 1), ('FLEKLIKDDV', 1), ('AAETVELHKLK', 1), ('KAN', 1), ('SEP', 1), ('VKNLDFIVYK', 1), ('TRASSLPQQ', 1), ('AWLELISHRI', 1), ('RRVVNGKVEY', 1), ('LDLMRRLPPQ', 1), ('LPKWLRFI', 1), ('RVVWKFQRT', 1), ('VLEKTAFEVAL', 1), ('KRA', 1), ('TLLYQLDIL', 1), ('LLFILAAYGAW', 1), ('GYIPRILFL', 1), ('KSY', 1), ('LPLEAERPLVT', 1), ('LKV', 1), ('DNRKRLAYAI', 1), ('AIRTAKGEKFV', 1), ('IPIVSVFRSMA', 1), ('TKAIMKWIQT', 1), ('PAIVSALLKEPT', 1), ('EVPVVPERGKK', 1), ('IRKEFRKNF', 1), ('AGRVDFILHPL', 1), ('GRGLQTVLRAPA', 1), ('LVFGYKQKGKA', 1), ('LEQ', 1), ('AARARLYFRSG', 1)]\n",
      "Y results before filtering:\n",
      "[('HLPHLPQQ', 3), ('QGIAP', 3), ('NINLPLAQQIP', 3), ('LQGAP', 3), ('EEILKAFKLF', 3), ('LLEPHLDP', 3), ('QKLIAALGAYTA', 2), ('LTFS', 2), ('IFTS', 2), ('IKKFIQDSIF', 2), ('SLITKPNFIST', 2), ('IPAAN', 2), ('VVGGPG', 2), ('AALNP', 2), ('LPAGGA', 2), ('QQPL', 2), ('PAGQL', 2), ('QPLQ', 2), ('PQLQ', 2), ('QLPQ', 2), ('IGIPHTQRLQG', 2), ('QPGLA', 2), ('IQQP', 2), ('LAPGQ', 2), ('QQLP', 2), ('SVPA', 2), ('PVAQA', 2), ('GAIPQ', 2), ('AAPQV', 2), ('ALEIANAHRKP', 2), ('TKDRSLRKSF', 2), ('KGDALEKEKLA', 2), ('PQAPTHFLVIP', 2), ('KYSNVVFL', 2), ('QQLPLVLLM', 2), ('YFVAGLLIMLV', 2), ('FILVIMAAVFP', 2), ('QNDKQISIKK', 2), ('VLQLAAQRR', 2), ('TGTLLYQLDIL', 2), ('LSRMLNARQL', 2), ('ASSSILINE', 2), ('GETLLSVRPMV', 2), ('ALGPTV', 2), ('LDLMRRLPPQ', 2), ('PALEIANAHRK', 2), ('LAPEK', 2), ('KGRVFIPKE', 2), ('KIVNPKGEEKP', 2), ('SLPLDALSPG', 2), ('AIPGVT', 2), ('LLAKSGTED', 2), ('ILYSPVQN', 2), ('LLDGTTASR', 2), ('LRAPLDIPIPD', 2), ('LLASGMARD', 2), ('KPYWKDP', 2), ('SIASAQKPPA', 2), ('LRVSIRPAPET', 2), ('RLPPIGLLTSDG', 2), ('ALLALVKPEVW', 2), ('PSLKTMIPVRP', 2), ('FLMIRRHKT', 2), ('SPDVPLTILKR', 2), ('FLKRQVLTSE', 2), ('QALRMLVSRQ', 2), ('QRVLTAEEKK', 2), ('FNKKTKGLIDG', 2), ('FST', 1), ('STF', 1), ('ATY', 1), ('TAY', 1), ('SFT', 1), ('YAT', 1), ('KRTAL', 1), ('SPLIAT', 1), ('KRTIA', 1), ('LVKGIRHDVTT', 1), ('LRCEQTLA', 1), ('APA', 1), ('KLTGIKHELQA', 1), ('SVPAAPHKRPAA', 1), ('RAP', 1), ('IGPLDTQLKPR', 1), ('KRFS', 1), ('KRHWKRY', 1), ('SVKALA', 1), ('KIFQEKVQSL', 1), ('KILQS', 1), ('KLISQ', 1), ('KLKAE', 1), ('LKEKA', 1), ('SEMLKKLSSKV', 1), ('KEALK', 1), ('SRNGKTSKKIT', 1), ('KKKGQ', 1), ('SQLKL', 1), ('SILQK', 1), ('KVTLQ', 1), ('KVVSR', 1), ('SQLLP', 1), ('LTLSGLVEIKE', 1), ('LIKFFIDQSK', 1), ('KNTLI', 1), ('KEADVSLTA', 1), ('LKKDTFVLKE', 1), ('KLKSSDAYKKA', 1), ('KAEGSEIRLAK', 1), ('KIATR', 1), ('KDVVK', 1), ('KRLAT', 1), ('KIAKE', 1), ('VLNTVFAPFVL', 1), ('KASLLG', 1), ('KQKGK', 1), ('KAVSLA', 1), ('SKALGL', 1), ('LEAKK', 1), ('SKQLL', 1), ('TRSKQ', 1), ('KIAEK', 1), ('LFLLRTESLQ', 1), ('KQILS', 1), ('MVSVLMFGIIK', 1), ('MRLPDIPLRQ', 1), ('KPPAQKSIQEI', 1), ('SLGP', 1), ('ELLGITALMAAV', 1), ('SKPNR', 1), ('RAARTPPRELA', 1), ('KHDLL', 1), ('VPRTGIPRAPSS', 1), ('SLSVPV', 1), ('EEGVLRQIPVV', 1), ('SDTGSAGL', 1), ('AALNGLEKNIPV', 1), ('SFLVYLVE', 1), ('SNTKEELI', 1), ('IEILN', 1), ('KNSRP', 1), ('KLGASPLHVDLA', 1), ('TNQLKRVPSPV', 1), ('ALTITT', 1), ('KRDIDSLAQR', 1), ('VALSTLIFENL', 1), ('VPEKPREIGGR', 1), ('RKKMTRTTPT', 1), ('LRARLDPAALAA', 1), ('KKHGTKNKRAA', 1), ('GELRPRRRAQ', 1), ('SFRAPRAGALR', 1), ('STLVTV', 1), ('TEAVLISRAEL', 1), ('LELVAG', 1), ('VLCLPKSYIAL', 1), ('ILKPLMSPPSR', 1), ('EFKDDLIKVL', 1), ('EIVHI', 1), ('SGLP', 1), ('LGMALLEAGLLH', 1), ('LKPEFVDII', 1), ('RNSSRVLRPPG', 1), ('IEGLPP', 1), ('FIF', 1), ('KLDLH', 1), ('VLVKEYAEVIG', 1), ('KNHVL', 1), ('VSTVLT', 1), ('MTVLR', 1), ('QRTSK', 1), ('PFSRL', 1), ('KAMKAA', 1), ('STQRK', 1), ('RFPIS', 1), ('FRPSL', 1), ('RMSLL', 1), ('RFLSP', 1), ('LKEHV', 1), ('LKRTWEKL', 1), ('KLPEA', 1), ('VSVAHL', 1), ('SGPL', 1), ('SGPI', 1), ('MNIVTFVVALL', 1), ('DPA', 1), ('TNHKKSVRAVV', 1), ('PDP', 1), ('SRGERRAIEK', 1), ('ILMNIVTFVVA', 1), ('KEP', 1), ('LRQLRASHLGS', 1), ('ALPLETKVATVP', 1), ('KIIFVVGGPGS', 1), ('SAVP', 1), ('KMKNKQLPS', 1), ('ATGLTILQSGI', 1), ('SIGP', 1), ('TEISEE', 1), ('SEEP', 1), ('APRAGALRLPSE', 1), ('TDP', 1), ('IVELAHVLPTE', 1), ('SFQTPQ', 1), ('SFRTRATKGIL', 1), ('SLPPLLSQLALS', 1), ('GALQSALALAQVP', 1), ('SQLPL', 1), ('ELVETIAVTAR', 1), ('ETDKRQIAIK', 1), ('KVDVP', 1), ('KLAPE', 1), ('SRIVPTPTSPAI', 1), ('IEQLQNKP', 1), ('WLIYLVGTVVG', 1), ('VIEKSVHKIVS', 1), ('TLPLEAERPLV', 1), ('VTMPIRAAELT', 1), ('NLEKNSTK', 1), ('YPFKPPKITF', 1), ('KVYNPQNA', 1), ('TRNKAQAKVFG', 1), ('TEDLTE', 1), ('STDQKE', 1), ('NKNTLIIYLE', 1), ('KLASSSKGLSEI', 1), ('SNTKEE', 1), ('DKVLELKEHK', 1), ('KPLKLYVYNT', 1), ('IPIVSVFRSMA', 1), ('KVVSRAENLSV', 1), ('AAP', 1), ('SGQGATERK', 1), ('ETRKRED', 1), ('KKETGFSH', 1), ('KIRSTLNEI', 1), ('LARMLVKYPE', 1), ('KLPGRVAFGE', 1), ('IRFVRSISEL', 1), ('IEQSIKSE', 1), ('QIF', 1), ('ELKQECLA', 1), ('KGRGTLSVVAVY', 1), ('SLLKNLGHWLG', 1), ('SREKITAE', 1), ('SPINLEFRLL', 1), ('DFRQKLKITA', 1), ('QVLAKPLNLQD', 1), ('SEEKALHR', 1), ('EIPQLPPRASI', 1), ('KKRKGRGFGSE', 1), ('HILKPLMSPPS', 1), ('LLLLPTNASAPQ', 1), ('LKALHTCSP', 1), ('EINPRHTLIK', 1), ('KLKYFDKL', 1), ('SIIPPLFTVS', 1), ('KKISLEDIQ', 1), ('LLSVAYKNVVGG', 1), ('EQVKSIKEL', 1), ('KKLNCQVIGA', 1), ('VVWKFQRTR', 1), ('KASGNLGNTLKV', 1), ('DKAHIEKRIQ', 1), ('ALLETVVVSAVH', 1), ('LKIRACLEK', 1), ('IEVLSNALSK', 1), ('DRRGGTWKLL', 1), ('KLVLTASDRA', 1), ('KLRYVANLFP', 1), ('LLF', 1), ('KKPRTPRPVP', 1), ('LSGKRMQSLSL', 1), ('VKFDINFNLK', 1), ('PPRAPALPPPPK', 1), ('LALVLTVYEAK', 1), ('STPEEVKKRK', 1), ('SLSKEPSKPKT', 1), ('KEELQKSLNI', 1), ('RWLKGQGVYL', 1), ('LRNGAPFPRLP', 1), ('FQKRSELIAK', 1), ('YPAYLPVLQR', 1), ('LELTRKMLAY', 1), ('RHSVPPKRRS', 1), ('SVIRGEAFTLK', 1), ('LPA', 1), ('LEKVAHQLQAL', 1), ('KSIDLKDKYK', 1), ('PPLAALLATLEE', 1), ('KCLANKVDLVF', 1)]\n",
      "\n",
      "Filtering time took 0.2753419876098633 resulting in 10 b sequences and 6 y sequences\n",
      "First alignment round took 0.007138729095458984 time resulting in 74 alignments\n",
      "Getting rid of ambiguous time took 0.10714221000671387\n",
      "Filling in precursor took 0.027682065963745117 for 74 sequences\n"
     ]
    },
    {
     "name": "stdout",
     "output_type": "stream",
     "text": [
      "Time to make into objects took 0.07857203483581543\n",
      "\n",
      "Finished search. Writting results to /Users/zacharymcgrath/Desktop/Experiment output/singleReal/...\n",
      "Could not make an alignment for 0/9 spectra (0%)\n"
     ]
    }
   ],
   "source": [
    "import time\n",
    "st = time.time()\n",
    "runner.run(params)\n",
    "ttime = time.time() - st"
   ]
  },
  {
   "cell_type": "code",
   "execution_count": 5,
   "metadata": {},
   "outputs": [
    {
     "name": "stdout",
     "output_type": "stream",
     "text": [
      "TIME: 77.92532420158386s\n"
     ]
    }
   ],
   "source": [
    "print(f'TIME: {ttime}s')"
   ]
  },
  {
   "cell_type": "markdown",
   "metadata": {},
   "source": [
    "## Load and read results"
   ]
  },
  {
   "cell_type": "code",
   "execution_count": 6,
   "metadata": {},
   "outputs": [],
   "source": [
    "import pandas as pd\n",
    "\n",
    "outputFile = '/Users/zacharymcgrath/Desktop/Experiment output/singleReal/summary.tsv'\n",
    "hybridOutputFile = '/Users/zacharymcgrath/Desktop/Experiment output/singleReal/hybrid_summary.tsv'"
   ]
  },
  {
   "cell_type": "code",
   "execution_count": 7,
   "metadata": {},
   "outputs": [],
   "source": [
    "df = pd.read_csv(outputFile, sep='\\t')\n",
    "hdf = pd.read_csv(hybridOutputFile, sep='\\t')"
   ]
  },
  {
   "cell_type": "code",
   "execution_count": 8,
   "metadata": {},
   "outputs": [
    {
     "data": {
      "text/html": [
       "<div>\n",
       "<style scoped>\n",
       "    .dataframe tbody tr th:only-of-type {\n",
       "        vertical-align: middle;\n",
       "    }\n",
       "\n",
       "    .dataframe tbody tr th {\n",
       "        vertical-align: top;\n",
       "    }\n",
       "\n",
       "    .dataframe thead th {\n",
       "        text-align: right;\n",
       "    }\n",
       "</style>\n",
       "<table border=\"1\" class=\"dataframe\">\n",
       "  <thead>\n",
       "    <tr style=\"text-align: right;\">\n",
       "      <th></th>\n",
       "      <th>Unnamed: 0</th>\n",
       "      <th>left_proteins</th>\n",
       "      <th>right_proteins</th>\n",
       "      <th>sequence</th>\n",
       "      <th>hybrid_sequence</th>\n",
       "      <th>b_score</th>\n",
       "      <th>y_score</th>\n",
       "      <th>total_score</th>\n",
       "      <th>precursor_distance</th>\n",
       "      <th>entry name</th>\n",
       "      <th>id</th>\n",
       "    </tr>\n",
       "  </thead>\n",
       "  <tbody>\n",
       "    <tr>\n",
       "      <td>0</td>\n",
       "      <td>0</td>\n",
       "      <td>['INS1_MOUSE Insulin-1', 'INS2_MOUSE Insulin-2']</td>\n",
       "      <td>['CMGA_MOUSE Chromogranin-A', 'ANKS6_MOUSE Ank...</td>\n",
       "      <td>DLQTLALWSRM</td>\n",
       "      <td>DLQTLAL-WSRM</td>\n",
       "      <td>4</td>\n",
       "      <td>8</td>\n",
       "      <td>13</td>\n",
       "      <td>0.000192</td>\n",
       "      <td>/Users/zacharymcgrath/Desktop/nod2 data/single...</td>\n",
       "      <td>scan=10130</td>\n",
       "    </tr>\n",
       "    <tr>\n",
       "      <td>1</td>\n",
       "      <td>1</td>\n",
       "      <td>['KAT6A_MOUSE Histone acetyltransferase KAT6A']</td>\n",
       "      <td>['CELR3_MOUSE Cadherin EGF LAG seven-pass G-ty...</td>\n",
       "      <td>SSLIETLGVREPVFMRLRVGRQN</td>\n",
       "      <td>SSLIET-LGVREPVFMRLRVGRQN</td>\n",
       "      <td>3</td>\n",
       "      <td>3</td>\n",
       "      <td>7</td>\n",
       "      <td>2.000724</td>\n",
       "      <td>/Users/zacharymcgrath/Desktop/nod2 data/single...</td>\n",
       "      <td>NOD2_E3.7258.7258.5.pkl</td>\n",
       "    </tr>\n",
       "  </tbody>\n",
       "</table>\n",
       "</div>"
      ],
      "text/plain": [
       "   Unnamed: 0                                     left_proteins  \\\n",
       "0           0  ['INS1_MOUSE Insulin-1', 'INS2_MOUSE Insulin-2']   \n",
       "1           1   ['KAT6A_MOUSE Histone acetyltransferase KAT6A']   \n",
       "\n",
       "                                      right_proteins                 sequence  \\\n",
       "0  ['CMGA_MOUSE Chromogranin-A', 'ANKS6_MOUSE Ank...              DLQTLALWSRM   \n",
       "1  ['CELR3_MOUSE Cadherin EGF LAG seven-pass G-ty...  SSLIETLGVREPVFMRLRVGRQN   \n",
       "\n",
       "            hybrid_sequence  b_score  y_score  total_score  \\\n",
       "0              DLQTLAL-WSRM        4        8           13   \n",
       "1  SSLIET-LGVREPVFMRLRVGRQN        3        3            7   \n",
       "\n",
       "   precursor_distance                                         entry name  \\\n",
       "0            0.000192  /Users/zacharymcgrath/Desktop/nod2 data/single...   \n",
       "1            2.000724  /Users/zacharymcgrath/Desktop/nod2 data/single...   \n",
       "\n",
       "                        id  \n",
       "0               scan=10130  \n",
       "1  NOD2_E3.7258.7258.5.pkl  "
      ]
     },
     "execution_count": 8,
     "metadata": {},
     "output_type": "execute_result"
    }
   ],
   "source": [
    "hdf.head(5)"
   ]
  },
  {
   "cell_type": "code",
   "execution_count": 9,
   "metadata": {},
   "outputs": [
    {
     "data": {
      "text/html": [
       "<div>\n",
       "<style scoped>\n",
       "    .dataframe tbody tr th:only-of-type {\n",
       "        vertical-align: middle;\n",
       "    }\n",
       "\n",
       "    .dataframe tbody tr th {\n",
       "        vertical-align: top;\n",
       "    }\n",
       "\n",
       "    .dataframe thead th {\n",
       "        text-align: right;\n",
       "    }\n",
       "</style>\n",
       "<table border=\"1\" class=\"dataframe\">\n",
       "  <thead>\n",
       "    <tr style=\"text-align: right;\">\n",
       "      <th></th>\n",
       "      <th>Unnamed: 0</th>\n",
       "      <th>proteins</th>\n",
       "      <th>sequence</th>\n",
       "      <th>b_score</th>\n",
       "      <th>y_score</th>\n",
       "      <th>total_score</th>\n",
       "      <th>precursor_distance</th>\n",
       "      <th>entry name</th>\n",
       "      <th>id</th>\n",
       "    </tr>\n",
       "  </thead>\n",
       "  <tbody>\n",
       "    <tr>\n",
       "      <td>0</td>\n",
       "      <td>0</td>\n",
       "      <td>['CMGA_MOUSE Chromogranin-A']</td>\n",
       "      <td>LPVNSPMTKGD</td>\n",
       "      <td>0</td>\n",
       "      <td>0</td>\n",
       "      <td>0</td>\n",
       "      <td>0.000452</td>\n",
       "      <td>/Users/zacharymcgrath/Desktop/nod2 data/single...</td>\n",
       "      <td>NOD2_E3.7065.7065.2.pkl</td>\n",
       "    </tr>\n",
       "    <tr>\n",
       "      <td>1</td>\n",
       "      <td>1</td>\n",
       "      <td>['PROF1_MOUSE Profilin-1']</td>\n",
       "      <td>DAAIVGYK</td>\n",
       "      <td>3</td>\n",
       "      <td>6</td>\n",
       "      <td>9</td>\n",
       "      <td>0.001222</td>\n",
       "      <td>/Users/zacharymcgrath/Desktop/nod2 data/single...</td>\n",
       "      <td>scan=2470</td>\n",
       "    </tr>\n",
       "    <tr>\n",
       "      <td>2</td>\n",
       "      <td>2</td>\n",
       "      <td>['PRDX6_MOUSE Peroxiredoxin-6']</td>\n",
       "      <td>DEAPNFEANTTIGRIRFH</td>\n",
       "      <td>2</td>\n",
       "      <td>5</td>\n",
       "      <td>7</td>\n",
       "      <td>1.010352</td>\n",
       "      <td>/Users/zacharymcgrath/Desktop/nod2 data/single...</td>\n",
       "      <td>NOD2_E3.9670.9702.4.pkl</td>\n",
       "    </tr>\n",
       "    <tr>\n",
       "      <td>3</td>\n",
       "      <td>3</td>\n",
       "      <td>['INS1_MOUSE Insulin-1']</td>\n",
       "      <td>DPQVEQLEL</td>\n",
       "      <td>6</td>\n",
       "      <td>2</td>\n",
       "      <td>9</td>\n",
       "      <td>0.000673</td>\n",
       "      <td>/Users/zacharymcgrath/Desktop/nod2 data/single...</td>\n",
       "      <td>NOD2_E3.13446.13477.2.pkl</td>\n",
       "    </tr>\n",
       "    <tr>\n",
       "      <td>4</td>\n",
       "      <td>4</td>\n",
       "      <td>['HNRDL_MOUSE Heterogeneous nuclear ribonucleo...</td>\n",
       "      <td>DLTEYLSRFGEVV</td>\n",
       "      <td>5</td>\n",
       "      <td>5</td>\n",
       "      <td>10</td>\n",
       "      <td>0.000568</td>\n",
       "      <td>/Users/zacharymcgrath/Desktop/nod2 data/single...</td>\n",
       "      <td>scan=11410</td>\n",
       "    </tr>\n",
       "    <tr>\n",
       "      <td>5</td>\n",
       "      <td>5</td>\n",
       "      <td>['CO3_MOUSE Complement C3']</td>\n",
       "      <td>ELTNIELL</td>\n",
       "      <td>5</td>\n",
       "      <td>1</td>\n",
       "      <td>6</td>\n",
       "      <td>0.971732</td>\n",
       "      <td>/Users/zacharymcgrath/Desktop/nod2 data/single...</td>\n",
       "      <td>NOD2_E3.11427.11516.2.pkl</td>\n",
       "    </tr>\n",
       "  </tbody>\n",
       "</table>\n",
       "</div>"
      ],
      "text/plain": [
       "   Unnamed: 0                                           proteins  \\\n",
       "0           0                      ['CMGA_MOUSE Chromogranin-A']   \n",
       "1           1                         ['PROF1_MOUSE Profilin-1']   \n",
       "2           2                    ['PRDX6_MOUSE Peroxiredoxin-6']   \n",
       "3           3                           ['INS1_MOUSE Insulin-1']   \n",
       "4           4  ['HNRDL_MOUSE Heterogeneous nuclear ribonucleo...   \n",
       "5           5                        ['CO3_MOUSE Complement C3']   \n",
       "\n",
       "             sequence  b_score  y_score  total_score  precursor_distance  \\\n",
       "0         LPVNSPMTKGD        0        0            0            0.000452   \n",
       "1            DAAIVGYK        3        6            9            0.001222   \n",
       "2  DEAPNFEANTTIGRIRFH        2        5            7            1.010352   \n",
       "3           DPQVEQLEL        6        2            9            0.000673   \n",
       "4       DLTEYLSRFGEVV        5        5           10            0.000568   \n",
       "5            ELTNIELL        5        1            6            0.971732   \n",
       "\n",
       "                                          entry name  \\\n",
       "0  /Users/zacharymcgrath/Desktop/nod2 data/single...   \n",
       "1  /Users/zacharymcgrath/Desktop/nod2 data/single...   \n",
       "2  /Users/zacharymcgrath/Desktop/nod2 data/single...   \n",
       "3  /Users/zacharymcgrath/Desktop/nod2 data/single...   \n",
       "4  /Users/zacharymcgrath/Desktop/nod2 data/single...   \n",
       "5  /Users/zacharymcgrath/Desktop/nod2 data/single...   \n",
       "\n",
       "                          id  \n",
       "0    NOD2_E3.7065.7065.2.pkl  \n",
       "1                  scan=2470  \n",
       "2    NOD2_E3.9670.9702.4.pkl  \n",
       "3  NOD2_E3.13446.13477.2.pkl  \n",
       "4                 scan=11410  \n",
       "5  NOD2_E3.11427.11516.2.pkl  "
      ]
     },
     "execution_count": 9,
     "metadata": {},
     "output_type": "execute_result"
    }
   ],
   "source": [
    "df.head(6)"
   ]
  },
  {
   "cell_type": "code",
   "execution_count": 10,
   "metadata": {},
   "outputs": [],
   "source": [
    "import json\n",
    "\n",
    "s = json.load(open('/Users/zacharymcgrath/Desktop/Experiment output/singleReal/summary.json', 'r'))"
   ]
  },
  {
   "cell_type": "code",
   "execution_count": 11,
   "metadata": {},
   "outputs": [
    {
     "name": "stdout",
     "output_type": "stream",
     "text": [
      "LPVNSPMTKGD: 0, 0, 0\n",
      "DAAIVGYK: 9, 3, 6\n",
      "LMMKKTS: 0, 0, 0\n",
      "AAIVGYKD: 0, 0, 0\n",
      "DEAPNFEANTTIGRIRFH: 7, 2, 5\n",
      "TNFYFSLHIDGKIFQEK: 5, 1, 4\n",
      "EAPNFEANTTIGRIRFHD: 0, 0, 0\n",
      "DPQVEQLEL: 9, 6, 2\n",
      "EEIPHSELD: 4, 0, 3\n",
      "EQLESYGLE: 4, 0, 3\n",
      "DLQTLALWSRM: 13, 4, 8\n",
      "DLQTLALEFGLGG: 12, 4, 7\n",
      "DLQTLALGQIFD: 11, 4, 6\n",
      "DLTEYLSRFGEVV: 10, 5, 5\n",
      "EVTESIYLSRFGE: 4, 4, 0\n",
      "LTEYLSRFGEVVD: 0, 0, 0\n",
      "ELTNIELL: 6, 5, 1\n",
      "ELDVEELP: 6, 5, 0\n",
      "ELTNIEND: 5, 5, 0\n",
      "SSLIETLGVREPVFMRLRVGRQN: 7, 3, 3\n",
      "SSLIETDGVREPVFMRLRVGRQN: 7, 3, 3\n",
      "SSIITLKGVREPVFMRLRVGRQN: 7, 3, 3\n",
      "EEILKAFKLF: 7, 2, 2\n",
      "SVLNAAAQQGIAP: 7, 3, 2\n",
      "KLDQNINLPLA: 6, 3, 0\n"
     ]
    }
   ],
   "source": [
    "for k, v in s.items():\n",
    "    for a in v['alignments']:\n",
    "        print(f'{a[\"sequence\"]}: {a[\"total_score\"]}, {a[\"b_score\"]}, {a[\"y_score\"]}')\n"
   ]
  },
  {
   "cell_type": "code",
   "execution_count": null,
   "metadata": {},
   "outputs": [],
   "source": []
  }
 ],
 "metadata": {
  "kernelspec": {
   "display_name": "Python 3",
   "language": "python",
   "name": "python3"
  },
  "language_info": {
   "codemirror_mode": {
    "name": "ipython",
    "version": 3
   },
   "file_extension": ".py",
   "mimetype": "text/x-python",
   "name": "python",
   "nbconvert_exporter": "python",
   "pygments_lexer": "ipython3",
   "version": "3.7.4"
  }
 },
 "nbformat": 4,
 "nbformat_minor": 4
}

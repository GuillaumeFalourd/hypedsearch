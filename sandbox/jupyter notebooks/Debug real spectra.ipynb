{
 "cells": [
  {
   "cell_type": "markdown",
   "metadata": {},
   "source": [
    "# Debug the real spectra\n",
    "\n",
    "So it doesn't work well with real data, so having taken out one example of real data, the sequence is \n",
    "\n",
    "Hybrid: \n",
    "```\n",
    "DLQTLALWSRM\n",
    "```\n",
    "\n",
    "Non hybrid:\n",
    "```\n",
    "DLTEYLSRFGEVV\n",
    "```\n",
    "\n",
    "so toy with the tool until we find out whats wrong"
   ]
  },
  {
   "cell_type": "markdown",
   "metadata": {},
   "source": [
    "## Load params and run"
   ]
  },
  {
   "cell_type": "code",
   "execution_count": 1,
   "metadata": {},
   "outputs": [],
   "source": [
    "import os\n",
    "import sys\n",
    "module_path = os.path.abspath(os.path.join('..'))\n",
    "if module_path not in sys.path:\n",
    "    sys.path.append(module_path)\n",
    "module_path = os.path.abspath(os.path.join('../..'))\n",
    "if module_path not in sys.path:\n",
    "    sys.path.append(module_path)\n",
    "    \n",
    "from src import runner\n",
    "    "
   ]
  },
  {
   "cell_type": "code",
   "execution_count": 2,
   "metadata": {},
   "outputs": [],
   "source": [
    "specPath = '/Users/zacharymcgrath/Desktop/nod2 data/single/'\n",
    "fastaPath = '/Users/zacharymcgrath/Desktop/nod2 data/filteredNOD2.fasta'\n",
    "outputDir = '/Users/zacharymcgrath/Desktop/Experiment output/singleReal/'\n",
    "minPep = 3\n",
    "maxPep = 14\n",
    "tolerance = 20\n",
    "verbose = True\n",
    "scoringAlg = 'ibb'"
   ]
  },
  {
   "cell_type": "code",
   "execution_count": 3,
   "metadata": {},
   "outputs": [],
   "source": [
    "params = {\n",
    "    'spectra_folder': specPath,\n",
    "    'database_file': fastaPath,\n",
    "    'output_dir': outputDir,\n",
    "    'min_peptide_len': minPep,\n",
    "    'max_peptide_len': maxPep,\n",
    "    'tolerance': tolerance,\n",
    "    'verbose': verbose, \n",
    "    'scoring_alg': scoringAlg\n",
    "}"
   ]
  },
  {
   "cell_type": "code",
   "execution_count": 4,
   "metadata": {},
   "outputs": [
    {
     "name": "stdout",
     "output_type": "stream",
     "text": [
      "Loading database...\n",
      "Adding protein 279/279 to tree\n",
      "Done.\n",
      "Building hashes for kmers...\n",
      "Indexing database for k=14...\n",
      "101665 unique kmers\n",
      "Done\n",
      "Looking at kmer 101665/101665\n",
      "Done.\n",
      "Analyzing spectra file 1/1[0%]\n",
      "\n",
      "[1.5, 1, 1.5, 1.5, 1.5, 3.0, 2.5, 1.5, 2.5, 1.5, 1.5, 1.5, 1.5, 2.5, 1.5, 1, 1, 1.5, 1, 2.5, 5.5, 1, 1, 7.5, 1.0, 1, 1.5, 1, 1, 2.5, 3.0, 1, 1, 2.5, 1.5, 1, 1.0, 1, 1.5, 1.5, 5.5, 1.0, 2.5, 1.5, 1.5, 1, 1.5, 5.5, 1.5, 2.5, 1.5, 1.5, 1.5, 2.5, 1.5, 1.5, 1, 1, 3.0, 1.5, 1, 1, 1, 1, 1, 1.5, 1, 1.5, 1, 1, 1, 1.5, 1.5, 3, 1, 1, 1, 1, 1, 1, 1, 1, 1, 1, 1, 1, 1, 1, 1, 1, 1.5, 1, 1, 1.0, 3, 1, 1, 1, 1, 1, 1, 1, 1, 1, 3, 1, 1, 3, 1, 1, 1, 1, 1, 1, 1, 1, 1, 1, 1.5, 1, 1, 1, 1, 7.5, 1, 3, 1, 1, 1, 1.5, 1, 1, 1.5, 1, 1, 1, 1.5, 1, 1, 1, 1, 1, 1.5, 1, 1, 1, 1, 1, 1.5, 1, 3, 1, 1.5, 1, 1.5, 1, 1, 1.5, 1, 1, 1, 1, 1, 1, 1, 1, 3, 1, 1, 1, 1, 1, 1, 1, 3.0, 1.5, 1, 1, 1, 1, 1, 1, 3, 1, 3, 1, 1, 1, 1, 1, 1, 1, 1, 1, 1, 1, 1, 1, 1, 1, 1, 1, 1.5, 1, 1, 3.0, 1.5, 1.5, 1, 1, 1, 1, 1, 1, 1, 1, 1, 1, 1, 1, 1, 3, 1, 1, 1, 1, 3, 1, 1, 1, 1, 1, 1, 1, 1, 1, 1, 1, 1, 1, 1, 1, 1, 1, 1, 1, 1, 1, 1, 1, 1, 1, 1, 1, 1]\n",
      "[1.0, 6, 1.5, 1.5, 1.5, 3.0, 1.5, 1, 1.0, 1.5, 2.5, 1.5, 1, 1, 1.5, 1, 1, 2.5, 1, 1, 3.0, 1.5, 1, 2.5, 1.5, 1.0, 1.5, 1, 1.5, 1.5, 1, 4.5, 1, 4.5, 1.5, 1.5, 1, 1, 1, 1.5, 1, 1, 1.5, 1, 1, 3, 1, 3.0, 1, 1, 1.5, 1.5, 1.5, 1.5, 1, 3, 4.0, 1, 1, 1, 1.5, 1, 1.0, 1.0, 1, 1, 1, 1, 1, 1, 1.5, 1.5, 3, 3, 1, 1, 1.5, 1, 1.5, 1, 1, 1, 1, 3, 1, 1, 1, 1, 1.5, 1, 1, 1, 1, 1, 10, 1.5, 1, 1, 1, 1, 1, 1, 1, 1, 1, 1, 1, 1, 1, 1, 1, 1, 1.5, 1, 1, 1, 1, 1, 1, 1, 1, 1, 1, 1, 1, 1, 1.5, 1, 1, 1, 1, 1, 1, 1, 1.5, 1.5, 1, 1, 1, 1, 1, 1, 1, 1.5, 1, 1, 1.5, 1, 1, 1, 1, 1, 1, 1, 1, 1, 1, 1, 1.5, 1.5, 1, 1, 1, 1, 1, 1, 1, 1, 1, 1.5, 1, 1, 1.5, 1, 1.5, 1, 1, 1, 1, 1, 1, 3, 1, 1, 1, 1, 1, 3, 1, 1, 1, 1, 1, 1, 1, 1, 1, 1, 1, 1, 1, 1, 1.5, 1, 1, 1, 1, 1, 1, 1, 1, 1, 1, 1, 1, 1, 1, 1, 1, 1, 1, 1, 1, 1, 1, 1, 1, 1, 1, 1, 1]\n",
      "[HybridSequenceAlignment(left_proteins=['INS2_MOUSE Insulin-2', 'INS1_MOUSE Insulin-1'], right_proteins=['CMGA_MOUSE Chromogranin-A', 'ANKS6_MOUSE Ankyrin repeat and SAM domain-containing protein 6'], sequence='DLQTLALWSRM', hybrid_sequence='DLQTLAL-WSRM', b_score=40, y_score=80, total_score=4.2, precursor_distance=0.35028025000008256), HybridSequenceAlignment(left_proteins=['INS2_MOUSE Insulin-2', 'INS1_MOUSE Insulin-1'], right_proteins=['CMGA_MOUSE Chromogranin-A', 'ANKS6_MOUSE Ankyrin repeat and SAM domain-containing protein 6'], sequence='DLQTLALWSRM', hybrid_sequence='DLQTLAL-WSRM', b_score=40, y_score=80, total_score=4.2, precursor_distance=0.35028025000008256), HybridSequenceAlignment(left_proteins=['INS2_MOUSE Insulin-2', 'INS1_MOUSE Insulin-1'], right_proteins=['TRNK1_MOUSE TPR and ankyrin repeat-containing protein 1'], sequence='DLQTLALWIFD', hybrid_sequence='DLQTLA-LWIFD', b_score=40, y_score=70, total_score=3.8, precursor_distance=0.8531787500000974), HybridSequenceAlignment(left_proteins=['INS2_MOUSE Insulin-2', 'INS1_MOUSE Insulin-1'], right_proteins=['PPGB_MOUSE Lysosomal protective protein'], sequence='DLQTLALWFVE', hybrid_sequence='DLQTLAL-WFVE', b_score=40, y_score=70, total_score=3.8, precursor_distance=0.853178750000211), HybridSequenceAlignment(left_proteins=['INS2_MOUSE Insulin-2', 'INS1_MOUSE Insulin-1'], right_proteins=['TRNK1_MOUSE TPR and ankyrin repeat-containing protein 1'], sequence='DLQTLALWIFD', hybrid_sequence='DLQTLA-LWIFD', b_score=40, y_score=70, total_score=3.8, precursor_distance=0.8531787500000974), HybridSequenceAlignment(left_proteins=['INS2_MOUSE Insulin-2', 'INS1_MOUSE Insulin-1'], right_proteins=['STK11_MOUSE Serine/threonine-protein kinase STK11'], sequence='DLQTLALWRSM', hybrid_sequence='DLQTLAL-WRSM', b_score=40, y_score=70, total_score=3.8, precursor_distance=0.35028025000008256), HybridSequenceAlignment(left_proteins=['INS2_MOUSE Insulin-2', 'INS1_MOUSE Insulin-1'], right_proteins=['TRNK1_MOUSE TPR and ankyrin repeat-containing protein 1'], sequence='DLQTLALWIFD', hybrid_sequence='DLQTLA-LWIFD', b_score=40, y_score=70, total_score=3.8, precursor_distance=0.8531787500000974), HybridSequenceAlignment(left_proteins=['INS2_MOUSE Insulin-2', 'INS1_MOUSE Insulin-1'], right_proteins=['RBP17_MOUSE Ran-binding protein 17'], sequence='DLQTLALWFEV', hybrid_sequence='DLQTLAL-WFEV', b_score=40, y_score=70, total_score=3.8, precursor_distance=0.8531787500000974), HybridSequenceAlignment(left_proteins=['INS2_MOUSE Insulin-2', 'INS1_MOUSE Insulin-1'], right_proteins=['RBP17_MOUSE Ran-binding protein 17'], sequence='DLQTLALWFLD', hybrid_sequence='DLQTLA-LWFLD', b_score=40, y_score=70, total_score=3.8, precursor_distance=0.8531787500000974), HybridSequenceAlignment(left_proteins=['INS2_MOUSE Insulin-2', 'INS1_MOUSE Insulin-1'], right_proteins=['RBP17_MOUSE Ran-binding protein 17'], sequence='DLQTLALWFLD', hybrid_sequence='DLQTLA-LWFLD', b_score=40, y_score=70, total_score=3.8, precursor_distance=0.8531787500000974)]\n",
      "[3, 1.5, 1.5, 1, 1, 1, 1.5, 3.0, 1.5, 1.5, 2.5, 1, 1, 1, 1, 1, 1.0, 3.0, 1, 1.5, 3.0, 1.5, 1.5, 1, 1.0, 3.0, 1.5, 1.5, 1.5, 1.5, 1.5, 1, 1, 3, 1, 1.5, 1, 1, 1.5, 1, 1, 1.5, 1, 3, 1, 1, 1, 1, 1, 1, 1.5, 1, 1, 1, 1, 1, 1, 1, 1, 1, 1, 1, 1, 1, 1, 1, 1, 1, 1, 1, 1, 1, 3, 1, 1, 1, 1, 1, 1, 1, 1, 1, 1, 1, 1, 1, 1, 1, 1, 1, 1, 1, 1, 1, 1, 1, 1, 1, 1.5, 1, 1, 1, 1, 1, 1, 1, 1, 1, 1.5, 1.5, 1.5, 1.5, 1, 1, 1, 3, 1.5, 3, 1, 1, 1, 1, 1, 1, 1, 1, 1, 1, 1, 1, 1, 1, 1, 1, 1, 1, 1, 1, 1, 1, 1, 1, 1, 3, 3, 1, 1, 1, 1, 1, 1, 1, 1, 1, 1, 1, 1, 1, 1, 1, 1, 1, 1, 1, 1, 1]\n",
      "[1.5, 1, 1.5, 1.0, 1.5, 1, 1.5, 1, 1, 1, 1, 1, 1, 1.5, 1, 1, 1.5, 1, 1, 1, 1, 1, 1, 1, 1, 1, 1, 1, 1, 1, 1.0, 1, 10, 1, 1, 1, 1, 1, 1, 1, 1, 1.5, 1, 1, 1, 1, 1, 1, 1, 1, 1, 1, 1, 1, 1, 1, 1, 1.5, 1.5, 1, 3.0, 1, 1, 1, 1, 1, 1, 1, 1, 1, 1, 1, 1.5, 1, 1, 1, 1.5, 1, 1, 1, 1, 1.5, 1.5, 1, 1, 3, 1, 1, 1, 1, 1, 1, 1, 1, 1, 1, 1, 1, 1, 1, 1, 1, 1, 1, 1, 1, 1, 1, 1, 1, 1, 1, 1]\n",
      "[HybridSequenceAlignment(left_proteins=['1433E_MOUSE 14-3-3 protein epsilon', '1433S_MOUSE 14-3-3 protein sigma', 'TRNK1_MOUSE TPR and ankyrin repeat-containing protein 1'], right_proteins=['HNRDL_MOUSE Heterogeneous nuclear ribonucleoprotein D-like'], sequence='VETEYLSRFGEVV', hybrid_sequence='VETE-YLSRFGEVV', b_score=41, y_score=58, total_score=3.5999999999999996, precursor_distance=0.38810925000018415), HybridSequenceAlignment(left_proteins=['1433E_MOUSE 14-3-3 protein epsilon', '1433S_MOUSE 14-3-3 protein sigma', 'TRNK1_MOUSE TPR and ankyrin repeat-containing protein 1'], right_proteins=['HNRDL_MOUSE Heterogeneous nuclear ribonucleoprotein D-like'], sequence='VETEYLSRFGEVV', hybrid_sequence='VETE-YLSRFGEVV', b_score=41, y_score=58, total_score=3.5999999999999996, precursor_distance=0.38810925000018415), HybridSequenceAlignment(left_proteins=['NFH_MOUSE Neurofilament heavy polypeptide', 'PAIRB_MOUSE Plasminogen activator inhibitor 1 RNA-binding protein', 'NFU1_MOUSE NFU1 iron-sulfur cluster scaffold homolog, mitochondrial'], right_proteins=['HNRDL_MOUSE Heterogeneous nuclear ribonucleoprotein D-like'], sequence='VTEEYLSRFGEVV', hybrid_sequence='VTEE-YLSRFGEVV', b_score=41, y_score=58, total_score=3.5999999999999996, precursor_distance=0.38810925000018415), HybridSequenceAlignment(left_proteins=['1433E_MOUSE 14-3-3 protein epsilon', '1433S_MOUSE 14-3-3 protein sigma', 'TRNK1_MOUSE TPR and ankyrin repeat-containing protein 1'], right_proteins=['HNRDL_MOUSE Heterogeneous nuclear ribonucleoprotein D-like'], sequence='VETEYLSRFGEVV', hybrid_sequence='VETE-YLSRFGEVV', b_score=41, y_score=58, total_score=3.5999999999999996, precursor_distance=0.38810925000018415), HybridSequenceAlignment(left_proteins=['NFH_MOUSE Neurofilament heavy polypeptide', 'PAIRB_MOUSE Plasminogen activator inhibitor 1 RNA-binding protein', 'NFU1_MOUSE NFU1 iron-sulfur cluster scaffold homolog, mitochondrial'], right_proteins=['HNRDL_MOUSE Heterogeneous nuclear ribonucleoprotein D-like'], sequence='VTEEYLSRFGEVV', hybrid_sequence='VTEE-YLSRFGEVV', b_score=41, y_score=58, total_score=3.5999999999999996, precursor_distance=0.38810925000018415), HybridSequenceAlignment(left_proteins=['NFH_MOUSE Neurofilament heavy polypeptide', 'PAIRB_MOUSE Plasminogen activator inhibitor 1 RNA-binding protein', 'NFU1_MOUSE NFU1 iron-sulfur cluster scaffold homolog, mitochondrial'], right_proteins=['HNRDL_MOUSE Heterogeneous nuclear ribonucleoprotein D-like'], sequence='VTEEYLSRFGEVV', hybrid_sequence='VTEE-YLSRFGEVV', b_score=41, y_score=58, total_score=3.5999999999999996, precursor_distance=0.38810925000018415), SequenceAlignment(proteins=['HNRDL_MOUSE Heterogeneous nuclear ribonucleoprotein D-like'], sequence='DLTEYLSRFGEVV', b_score=41, y_score=50, total_score=3.4000000000000004, precursor_distance=0.38810925000018415), SequenceAlignment(proteins=['HNRDL_MOUSE Heterogeneous nuclear ribonucleoprotein D-like'], sequence='DLTEYLSRFGEVV', b_score=41, y_score=50, total_score=3.4000000000000004, precursor_distance=0.38810925000018415), HybridSequenceAlignment(left_proteins=['PRDX6_MOUSE Peroxiredoxin-6', 'TMOD2_MOUSE Tropomodulin-2', 'LYST_MOUSE Lysosomal-trafficking regulator', 'MAP4_MOUSE Microtubule-associated protein 4', 'NUCB2_MOUSE Nucleobindin-2', 'SCG1_MOUSE Secretogranin-1', '1433Z_MOUSE 14-3-3 protein zeta/delta'], right_proteins=['HNRDL_MOUSE Heterogeneous nuclear ribonucleoprotein D-like'], sequence='LSEEYLSRFGEVV', hybrid_sequence='LSEE-YLSRFGEVV', b_score=41, y_score=50, total_score=3.4000000000000004, precursor_distance=0.3881087500000149), HybridSequenceAlignment(left_proteins=[\"5NT3A_MOUSE Cytosolic 5'-nucleotidase 3A\", 'TWSG1_MOUSE Twisted gastrulation protein homolog 1', 'C2C2L_MOUSE Phospholipid transfer protein C2CD2L', 'MYCBP_MOUSE c-Myc-binding protein', 'LSM3_MOUSE U6 snRNA-associated Sm-like protein LSm3', 'CDK16_MOUSE Cyclin-dependent kinase 16', '1433E_MOUSE 14-3-3 protein epsilon', 'FYCO1_MOUSE FYVE and coiled-coil domain-containing protein 1'], right_proteins=['HNRDL_MOUSE Heterogeneous nuclear ribonucleoprotein D-like'], sequence='TVEEYLSRFGEVV', hybrid_sequence='TVEE-YLSRFGEVV', b_score=41, y_score=50, total_score=3.4000000000000004, precursor_distance=0.38810925000018415)]\n",
      "\n",
      "Finished search. Writting results to /Users/zacharymcgrath/Desktop/Experiment output/singleReal/...\n",
      "Could not make an alignment for 0/2 spectra (0%)\n"
     ]
    }
   ],
   "source": [
    "runner.run(params)"
   ]
  },
  {
   "cell_type": "markdown",
   "metadata": {},
   "source": [
    "## Load and read results"
   ]
  },
  {
   "cell_type": "code",
   "execution_count": 5,
   "metadata": {},
   "outputs": [],
   "source": [
    "import pandas as pd\n",
    "\n",
    "outputFile = '/Users/zacharymcgrath/Desktop/Experiment output/singleReal/summary.tsv'\n",
    "hybridOutputFile = '/Users/zacharymcgrath/Desktop/Experiment output/singleReal/hybrid_summary.tsv'"
   ]
  },
  {
   "cell_type": "code",
   "execution_count": 6,
   "metadata": {},
   "outputs": [],
   "source": [
    "df = pd.read_csv(outputFile, sep='\\t')\n",
    "hdf = pd.read_csv(hybridOutputFile, sep='\\t')"
   ]
  },
  {
   "cell_type": "code",
   "execution_count": 7,
   "metadata": {},
   "outputs": [
    {
     "data": {
      "text/html": [
       "<div>\n",
       "<style scoped>\n",
       "    .dataframe tbody tr th:only-of-type {\n",
       "        vertical-align: middle;\n",
       "    }\n",
       "\n",
       "    .dataframe tbody tr th {\n",
       "        vertical-align: top;\n",
       "    }\n",
       "\n",
       "    .dataframe thead th {\n",
       "        text-align: right;\n",
       "    }\n",
       "</style>\n",
       "<table border=\"1\" class=\"dataframe\">\n",
       "  <thead>\n",
       "    <tr style=\"text-align: right;\">\n",
       "      <th></th>\n",
       "      <th>Unnamed: 0</th>\n",
       "      <th>left_proteins</th>\n",
       "      <th>right_proteins</th>\n",
       "      <th>sequence</th>\n",
       "      <th>hybrid_sequence</th>\n",
       "      <th>b_score</th>\n",
       "      <th>y_score</th>\n",
       "      <th>total_score</th>\n",
       "      <th>precursor_distance</th>\n",
       "      <th>entry name</th>\n",
       "    </tr>\n",
       "  </thead>\n",
       "  <tbody>\n",
       "    <tr>\n",
       "      <td>0</td>\n",
       "      <td>0</td>\n",
       "      <td>['INS2_MOUSE Insulin-2', 'INS1_MOUSE Insulin-1']</td>\n",
       "      <td>['CMGA_MOUSE Chromogranin-A', 'ANKS6_MOUSE Ank...</td>\n",
       "      <td>DLQTLALWSRM</td>\n",
       "      <td>DLQTLAL-WSRM</td>\n",
       "      <td>40</td>\n",
       "      <td>80</td>\n",
       "      <td>4.2</td>\n",
       "      <td>0.350280</td>\n",
       "      <td>/Users/zacharymcgrath/Desktop/nod2 data/single...</td>\n",
       "    </tr>\n",
       "    <tr>\n",
       "      <td>1</td>\n",
       "      <td>1</td>\n",
       "      <td>['1433E_MOUSE 14-3-3 protein epsilon', '1433S_...</td>\n",
       "      <td>['HNRDL_MOUSE Heterogeneous nuclear ribonucleo...</td>\n",
       "      <td>VETEYLSRFGEVV</td>\n",
       "      <td>VETE-YLSRFGEVV</td>\n",
       "      <td>41</td>\n",
       "      <td>58</td>\n",
       "      <td>3.6</td>\n",
       "      <td>0.388109</td>\n",
       "      <td>/Users/zacharymcgrath/Desktop/nod2 data/single...</td>\n",
       "    </tr>\n",
       "  </tbody>\n",
       "</table>\n",
       "</div>"
      ],
      "text/plain": [
       "   Unnamed: 0                                      left_proteins  \\\n",
       "0           0   ['INS2_MOUSE Insulin-2', 'INS1_MOUSE Insulin-1']   \n",
       "1           1  ['1433E_MOUSE 14-3-3 protein epsilon', '1433S_...   \n",
       "\n",
       "                                      right_proteins       sequence  \\\n",
       "0  ['CMGA_MOUSE Chromogranin-A', 'ANKS6_MOUSE Ank...    DLQTLALWSRM   \n",
       "1  ['HNRDL_MOUSE Heterogeneous nuclear ribonucleo...  VETEYLSRFGEVV   \n",
       "\n",
       "  hybrid_sequence  b_score  y_score  total_score  precursor_distance  \\\n",
       "0    DLQTLAL-WSRM       40       80          4.2            0.350280   \n",
       "1  VETE-YLSRFGEVV       41       58          3.6            0.388109   \n",
       "\n",
       "                                          entry name  \n",
       "0  /Users/zacharymcgrath/Desktop/nod2 data/single...  \n",
       "1  /Users/zacharymcgrath/Desktop/nod2 data/single...  "
      ]
     },
     "execution_count": 7,
     "metadata": {},
     "output_type": "execute_result"
    }
   ],
   "source": [
    "hdf.head(2)"
   ]
  },
  {
   "cell_type": "code",
   "execution_count": 8,
   "metadata": {},
   "outputs": [
    {
     "data": {
      "text/html": [
       "<div>\n",
       "<style scoped>\n",
       "    .dataframe tbody tr th:only-of-type {\n",
       "        vertical-align: middle;\n",
       "    }\n",
       "\n",
       "    .dataframe tbody tr th {\n",
       "        vertical-align: top;\n",
       "    }\n",
       "\n",
       "    .dataframe thead th {\n",
       "        text-align: right;\n",
       "    }\n",
       "</style>\n",
       "<table border=\"1\" class=\"dataframe\">\n",
       "  <thead>\n",
       "    <tr style=\"text-align: right;\">\n",
       "      <th></th>\n",
       "      <th>Unnamed: 0</th>\n",
       "    </tr>\n",
       "  </thead>\n",
       "  <tbody>\n",
       "  </tbody>\n",
       "</table>\n",
       "</div>"
      ],
      "text/plain": [
       "Empty DataFrame\n",
       "Columns: [Unnamed: 0]\n",
       "Index: []"
      ]
     },
     "execution_count": 8,
     "metadata": {},
     "output_type": "execute_result"
    }
   ],
   "source": [
    "df.head(1)"
   ]
  },
  {
   "cell_type": "code",
   "execution_count": 8,
   "metadata": {},
   "outputs": [],
   "source": [
    "import json\n",
    "\n",
    "s = json.load(open('/Users/zacharymcgrath/Desktop/Experiment output/singleReal/summary.json', 'r'))"
   ]
  },
  {
   "cell_type": "code",
   "execution_count": 9,
   "metadata": {},
   "outputs": [
    {
     "name": "stdout",
     "output_type": "stream",
     "text": [
      "DLQTLALWSRM\n",
      "DLQTLALWSRM\n",
      "DLQTLALWFLD\n",
      "VETEYLSRFGEVV\n",
      "VTEEYLSRFGEVV\n",
      "VETEYLSRFGEVV\n"
     ]
    }
   ],
   "source": [
    "for k, v in s.items():\n",
    "    for a in v['alignments']:\n",
    "        print(a['sequence'])\n"
   ]
  },
  {
   "cell_type": "code",
   "execution_count": null,
   "metadata": {},
   "outputs": [],
   "source": [
    "from src.spectra.gen_spectra import gen_spectrum\n",
    "\n",
    "print(gen_spectrum('DLQTLAWSRM'))"
   ]
  },
  {
   "cell_type": "code",
   "execution_count": null,
   "metadata": {},
   "outputs": [],
   "source": [
    "from pyteomics import mzml\n",
    "for x in mzml.read('/Users/zacharymcgrath/Desktop/nod2 data/single/singleRealSpectrum.mzml'):\n",
    "    print(x)"
   ]
  },
  {
   "cell_type": "code",
   "execution_count": null,
   "metadata": {},
   "outputs": [],
   "source": [
    "667.35008 - 610.8082"
   ]
  },
  {
   "cell_type": "code",
   "execution_count": null,
   "metadata": {},
   "outputs": [],
   "source": [
    "57.021464 / 2"
   ]
  },
  {
   "cell_type": "code",
   "execution_count": 5,
   "metadata": {},
   "outputs": [],
   "source": [
    "score_list = [[1.5, 1, 1.5, 1.5, 1.5, 3.0, 2.5, 1.5, 2.5, 1.5, 1.5, 1.5, 1.5, 2.5, 1.5, 1, 1, 1.5, 1, 2.5, 5.5, 1, 1, 7.5, 1.0, 1, 1.5, 1, 1, 2.5, 3.0, 1, 1, 2.5, 1.5, 1, 1.0, 1, 1.5, 1.5, 5.5, 1.0, 2.5, 1.5, 1.5, 1, 1.5, 5.5, 1.5, 2.5, 1.5, 1.5, 1.5, 2.5, 1.5, 1.5, 1, 1, 3.0, 1.5, 1, 1, 1, 1, 1, 1.5, 1, 1.5, 1, 1, 1, 1.5, 1.5, 3, 1, 1, 1, 1, 1, 1, 1, 1, 1, 1, 1, 1, 1, 1, 1, 1, 1.5, 1, 1, 1.0, 3, 1, 1, 1, 1, 1, 1, 1, 1, 1, 3, 1, 1, 3, 1, 1, 1, 1, 1, 1, 1, 1, 1, 1, 1.5, 1, 1, 1, 1, 7.5, 1, 3, 1, 1, 1, 1.5, 1, 1, 1.5, 1, 1, 1, 1.5, 1, 1, 1, 1, 1, 1.5, 1, 1, 1, 1, 1, 1.5, 1, 3, 1, 1.5, 1, 1.5, 1, 1, 1.5, 1, 1, 1, 1, 1, 1, 1, 1, 3, 1, 1, 1, 1, 1, 1, 1, 3.0, 1.5, 1, 1, 1, 1, 1, 1, 3, 1, 3, 1, 1, 1, 1, 1, 1, 1, 1, 1, 1, 1, 1, 1, 1, 1, 1, 1, 1.5, 1, 1, 3.0, 1.5, 1.5, 1, 1, 1, 1, 1, 1, 1, 1, 1, 1, 1, 1, 1, 3, 1, 1, 1, 1, 3, 1, 1, 1, 1, 1, 1, 1, 1, 1, 1, 1, 1, 1, 1, 1, 1, 1, 1, 1, 1, 1, 1, 1, 1, 1, 1, 1, 1], \n",
    "[1.0, 6, 1.5, 1.5, 1.5, 3.0, 1.5, 1, 1.0, 1.5, 2.5, 1.5, 1, 1, 1.5, 1, 1, 2.5, 1, 1, 3.0, 1.5, 1, 2.5, 1.5, 1.0, 1.5, 1, 1.5, 1.5, 1, 4.5, 1, 4.5, 1.5, 1.5, 1, 1, 1, 1.5, 1, 1, 1.5, 1, 1, 3, 1, 3.0, 1, 1, 1.5, 1.5, 1.5, 1.5, 1, 3, 4.0, 1, 1, 1, 1.5, 1, 1.0, 1.0, 1, 1, 1, 1, 1, 1, 1.5, 1.5, 3, 3, 1, 1, 1.5, 1, 1.5, 1, 1, 1, 1, 3, 1, 1, 1, 1, 1.5, 1, 1, 1, 1, 1, 10, 1.5, 1, 1, 1, 1, 1, 1, 1, 1, 1, 1, 1, 1, 1, 1, 1, 1, 1.5, 1, 1, 1, 1, 1, 1, 1, 1, 1, 1, 1, 1, 1, 1.5, 1, 1, 1, 1, 1, 1, 1, 1.5, 1.5, 1, 1, 1, 1, 1, 1, 1, 1.5, 1, 1, 1.5, 1, 1, 1, 1, 1, 1, 1, 1, 1, 1, 1, 1.5, 1.5, 1, 1, 1, 1, 1, 1, 1, 1, 1, 1.5, 1, 1, 1.5, 1, 1.5, 1, 1, 1, 1, 1, 1, 3, 1, 1, 1, 1, 1, 3, 1, 1, 1, 1, 1, 1, 1, 1, 1, 1, 1, 1, 1, 1, 1.5, 1, 1, 1, 1, 1, 1, 1, 1, 1, 1, 1, 1, 1, 1, 1, 1, 1, 1, 1, 1, 1, 1, 1, 1, 1, 1, 1, 1],\n",
    "[3, 1.5, 1.5, 1, 1, 1, 1.5, 3.0, 1.5, 1.5, 2.5, 1, 1, 1, 1, 1, 1.0, 3.0, 1, 1.5, 3.0, 1.5, 1.5, 1, 1.0, 3.0, 1.5, 1.5, 1.5, 1.5, 1.5, 1, 1, 3, 1, 1.5, 1, 1, 1.5, 1, 1, 1.5, 1, 3, 1, 1, 1, 1, 1, 1, 1.5, 1, 1, 1, 1, 1, 1, 1, 1, 1, 1, 1, 1, 1, 1, 1, 1, 1, 1, 1, 1, 1, 3, 1, 1, 1, 1, 1, 1, 1, 1, 1, 1, 1, 1, 1, 1, 1, 1, 1, 1, 1, 1, 1, 1, 1, 1, 1, 1.5, 1, 1, 1, 1, 1, 1, 1, 1, 1, 1.5, 1.5, 1.5, 1.5, 1, 1, 1, 3, 1.5, 3, 1, 1, 1, 1, 1, 1, 1, 1, 1, 1, 1, 1, 1, 1, 1, 1, 1, 1, 1, 1, 1, 1, 1, 1, 1, 3, 3, 1, 1, 1, 1, 1, 1, 1, 1, 1, 1, 1, 1, 1, 1, 1, 1, 1, 1, 1, 1, 1],\n",
    "[1.5, 1, 1.5, 1.0, 1.5, 1, 1.5, 1, 1, 1, 1, 1, 1, 1.5, 1, 1, 1.5, 1, 1, 1, 1, 1, 1, 1, 1, 1, 1, 1, 1, 1, 1.0, 1, 10, 1, 1, 1, 1, 1, 1, 1, 1, 1.5, 1, 1, 1, 1, 1, 1, 1, 1, 1, 1, 1, 1, 1, 1, 1, 1.5, 1.5, 1, 3.0, 1, 1, 1, 1, 1, 1, 1, 1, 1, 1, 1, 1.5, 1, 1, 1, 1.5, 1, 1, 1, 1, 1.5, 1.5, 1, 1, 3, 1, 1, 1, 1, 1, 1, 1, 1, 1, 1, 1, 1, 1, 1, 1, 1, 1, 1, 1, 1, 1, 1, 1, 1, 1, 1, 1]]\n"
   ]
  },
  {
   "cell_type": "code",
   "execution_count": 9,
   "metadata": {},
   "outputs": [
    {
     "data": {
      "text/plain": [
       "[<matplotlib.lines.Line2D at 0x7fc29f9270d0>]"
      ]
     },
     "execution_count": 9,
     "metadata": {},
     "output_type": "execute_result"
    },
    {
     "data": {
      "image/png": "[encoded data removed]",
      "text/plain": [
       "<Figure size 1008x720 with 1 Axes>"
      ]
     },
     "metadata": {
      "needs_background": "light"
     },
     "output_type": "display_data"
    }
   ],
   "source": [
    "import matplotlib.pyplot as plt\n",
    "import numpy as np\n",
    "\n",
    "plt.figure(figsize=(14, 10))\n",
    "\n",
    "for i, l in enumerate(score_list):\n",
    "    score_list[i] = sorted(l, reverse=True)\n",
    "\n",
    "plt.plot(score_list[0][:50])\n",
    "plt.plot(score_list[1][:50], 'r')\n",
    "plt.plot(score_list[2][:50], 'g')\n",
    "plt.plot(score_list[3][:50], 'c')\n",
    "\n",
    "maxlen = max(map(len, score_list))\n",
    "for i in range(4):\n",
    "    score_list[i] += [0 for _ in range(maxlen - len(score_list[i]))]\n",
    "    \n",
    "a = np.mean(score_list, axis=0)\n",
    "plt.plot(a[:50], 'k')"
   ]
  },
  {
   "cell_type": "code",
   "execution_count": 32,
   "metadata": {},
   "outputs": [
    {
     "name": "stdout",
     "output_type": "stream",
     "text": [
      "[ 4.48942512e+01 -2.75713389e-01  5.88926194e-04 -4.23539329e-07]\n"
     ]
    },
    {
     "data": {
      "text/plain": [
       "[<matplotlib.lines.Line2D at 0x7fcfb67cac50>]"
      ]
     },
     "execution_count": 32,
     "metadata": {},
     "output_type": "execute_result"
    },
    {
     "data": {
      "image/png": "[encoded data removed]",
      "text/plain": [
       "<Figure size 432x288 with 1 Axes>"
      ]
     },
     "metadata": {
      "needs_background": "light"
     },
     "output_type": "display_data"
    }
   ],
   "source": [
    "import numpy.polynomial.polynomial as poly\n",
    "\n",
    "coefs = poly.polyfit([i for i in range(len(a))], a, 3)\n",
    "print(coefs)\n",
    "ffit = poly.Polynomial(coefs)    # instead of np.poly1d\n",
    "plt.plot(\n",
    "    np.linspace(0, len(a), num=len(a)), \n",
    "    ffit(np.linspace(0, len(a), num=len(a)))\n",
    ")"
   ]
  },
  {
   "cell_type": "code",
   "execution_count": null,
   "metadata": {},
   "outputs": [],
   "source": []
  }
 ],
 "metadata": {
  "kernelspec": {
   "display_name": "Python 3",
   "language": "python",
   "name": "python3"
  },
  "language_info": {
   "codemirror_mode": {
    "name": "ipython",
    "version": 3
   },
   "file_extension": ".py",
   "mimetype": "text/x-python",
   "name": "python",
   "nbconvert_exporter": "python",
   "pygments_lexer": "ipython3",
   "version": "3.7.4"
  }
 },
 "nbformat": 4,
 "nbformat_minor": 4
}

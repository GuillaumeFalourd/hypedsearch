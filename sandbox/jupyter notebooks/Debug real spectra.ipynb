{
 "cells": [
  {
   "cell_type": "markdown",
   "metadata": {},
   "source": [
    "# Debug the real spectra\n",
    "\n",
    "So it doesn't work well with real data, so having taken out one example of real data, the sequence is\n",
    "\n",
    "Non hybrid:\n",
    "```\n",
    "DLPVNSPMTKG\n",
    "```\n",
    "\n",
    "Non hybrid: \n",
    "```\n",
    "DAAIVGYK\n",
    "```\n",
    "\n",
    "Non hybrid:\n",
    "```\n",
    "DEAPNFEANTTIGRIRFH\n",
    "```\n",
    "\n",
    "Non hybrid:\n",
    "``` \n",
    "DPQVEQLEL\n",
    "```\n",
    "\n",
    "Hybrid 1: \n",
    "```\n",
    "DLQTLALWSRM\n",
    "```\n",
    "\n",
    "Non hybrid:\n",
    "```\n",
    "DLTEYLSRFGEVV\n",
    "```\n",
    "\n",
    "Hybrid 2:\n",
    "```\n",
    "DLQTLEVE\n",
    "```\n",
    "\n",
    "Non Hybrid:\n",
    "```\n",
    "DLSSASAIMGNAKVKAHGKKVITAFN\n",
    "```\n",
    "\n",
    "Non hybrid:\n",
    "```\n",
    "EEILKAFKLF\n",
    "```\n",
    "\n",
    "so toy with the tool until we find out whats wrong"
   ]
  },
  {
   "cell_type": "markdown",
   "metadata": {},
   "source": [
    "## Load params and run"
   ]
  },
  {
   "cell_type": "code",
   "execution_count": 1,
   "metadata": {},
   "outputs": [],
   "source": [
    "import os\n",
    "import sys\n",
    "module_path = os.path.abspath(os.path.join('..'))\n",
    "if module_path not in sys.path:\n",
    "    sys.path.append(module_path)\n",
    "module_path = os.path.abspath(os.path.join('../..'))\n",
    "if module_path not in sys.path:\n",
    "    sys.path.append(module_path)\n",
    "    \n",
    "from src import runner\n",
    "    "
   ]
  },
  {
   "cell_type": "code",
   "execution_count": 2,
   "metadata": {},
   "outputs": [],
   "source": [
    "specPath = '/Users/zacharymcgrath/Desktop/nod2 data/single/'\n",
    "fastaPath = '/Users/zacharymcgrath/Desktop/nod2 data/filteredNOD2.fasta'\n",
    "outputDir = '/Users/zacharymcgrath/Desktop/Experiment output/singleReal/'\n",
    "minPep = 2\n",
    "maxPep = 30\n",
    "tolerance = 20\n",
    "relative_abundance_filter = 0.0\n",
    "precursor_tolerance = 3\n",
    "peak_filter = 25\n",
    "verbose = True\n",
    "scoringAlg = 'ion'"
   ]
  },
  {
   "cell_type": "code",
   "execution_count": 3,
   "metadata": {},
   "outputs": [],
   "source": [
    "params = {\n",
    "    'spectra_folder': specPath,\n",
    "    'database_file': fastaPath,\n",
    "    'output_dir': outputDir,\n",
    "    'min_peptide_len': minPep,\n",
    "    'max_peptide_len': maxPep,\n",
    "    'tolerance': tolerance,\n",
    "    'precursor_tolerance': precursor_tolerance,\n",
    "    'peak_filter': peak_filter, \n",
    "    'relative_abundance_filter': relative_abundance_filter,\n",
    "    'verbose': verbose, \n",
    "    'scoring_alg': scoringAlg, \n",
    "    'DEBUG': True\n",
    "}"
   ]
  },
  {
   "cell_type": "code",
   "execution_count": null,
   "metadata": {},
   "outputs": [
    {
     "name": "stdout",
     "output_type": "stream",
     "text": [
      "Loading database...\n",
      "Loading fasta file into memory...\n",
      "Done\n",
      "\n",
      "Done.\n",
      "Analyzing spectra file 1/1[0%]\n",
      "\n",
      "Analyzing spectrum 1/9[0%]\n",
      "Filtering time took 0.40651798248291016 resulting in 5 b sequences and 2 y sequences\n",
      "First alignment round took 0.014722108840942383 time resulting in 17 alignments\n",
      "Getting rid of ambiguous time took 0.06762504577636719\n",
      "Filling in precursor took 0.01280069351196289 for 17 sequences\n",
      "Time to make into objects took 0.0034711360931396484\n",
      "Analyzing spectrum 2/9[11%]\n",
      "Filtering time took 0.21976709365844727 resulting in 1 b sequences and 4 y sequences\n",
      "First alignment round took 0.007128000259399414 time resulting in 9 alignments\n",
      "Getting rid of ambiguous time took 0.0316319465637207\n",
      "Filling in precursor took 0.0174558162689209 for 9 sequences\n",
      "Time to make into objects took 0.007447242736816406\n",
      "Analyzing spectrum 3/9[22%]\n",
      "Filtering time took 0.40980005264282227 resulting in 17 b sequences and 2 y sequences\n",
      "First alignment round took 0.04386115074157715 time resulting in 53 alignments\n",
      "Getting rid of ambiguous time took 0.4779958724975586\n",
      "Filling in precursor took 0.03463006019592285 for 53 sequences\n",
      "Time to make into objects took 0.013170957565307617\n",
      "Analyzing spectrum 4/9[33%]\n",
      "Filtering time took 0.37993693351745605 resulting in 1 b sequences and 6 y sequences\n",
      "First alignment round took 0.007300853729248047 time resulting in 13 alignments\n",
      "Getting rid of ambiguous time took 0.03520774841308594\n",
      "Filling in precursor took 0.010250091552734375 for 13 sequences\n",
      "Time to make into objects took 0.006963014602661133\n",
      "Analyzing spectrum 5/9[44%]\n",
      "Filtering time took 0.6141459941864014 resulting in 4 b sequences and 84 y sequences\n",
      "First alignment round took 0.28661680221557617 time resulting in 424 alignments\n"
     ]
    }
   ],
   "source": [
    "import time\n",
    "st = time.time()\n",
    "runner.run(params)\n",
    "ttime = time.time() - st"
   ]
  },
  {
   "cell_type": "code",
   "execution_count": null,
   "metadata": {},
   "outputs": [],
   "source": [
    "print(f'TIME: {ttime}s')"
   ]
  },
  {
   "cell_type": "markdown",
   "metadata": {},
   "source": [
    "## Load and read results"
   ]
  },
  {
   "cell_type": "code",
   "execution_count": null,
   "metadata": {},
   "outputs": [],
   "source": [
    "import pandas as pd\n",
    "\n",
    "outputFile = '/Users/zacharymcgrath/Desktop/Experiment output/singleReal/summary.tsv'\n",
    "hybridOutputFile = '/Users/zacharymcgrath/Desktop/Experiment output/singleReal/hybrid_summary.tsv'"
   ]
  },
  {
   "cell_type": "code",
   "execution_count": null,
   "metadata": {},
   "outputs": [],
   "source": [
    "df = pd.read_csv(outputFile, sep='\\t')\n",
    "hdf = pd.read_csv(hybridOutputFile, sep='\\t')"
   ]
  },
  {
   "cell_type": "code",
   "execution_count": null,
   "metadata": {},
   "outputs": [],
   "source": [
    "hdf.head(10)"
   ]
  },
  {
   "cell_type": "code",
   "execution_count": null,
   "metadata": {},
   "outputs": [],
   "source": [
    "df.head(10)"
   ]
  },
  {
   "cell_type": "code",
   "execution_count": null,
   "metadata": {},
   "outputs": [],
   "source": [
    "import json\n",
    "\n",
    "s = json.load(open('/Users/zacharymcgrath/Desktop/Experiment output/singleReal/summary.json', 'r'))"
   ]
  },
  {
   "cell_type": "code",
   "execution_count": null,
   "metadata": {},
   "outputs": [],
   "source": [
    "for k, v in s.items():\n",
    "    for a in v['alignments']:\n",
    "        print(f'{a[\"sequence\"]}: {a[\"total_score\"]}, {a[\"b_score\"]}, {a[\"y_score\"]}')\n"
   ]
  },
  {
   "cell_type": "code",
   "execution_count": null,
   "metadata": {},
   "outputs": [],
   "source": []
  },
  {
   "cell_type": "code",
   "execution_count": null,
   "metadata": {},
   "outputs": [],
   "source": []
  }
 ],
 "metadata": {
  "kernelspec": {
   "display_name": "Python 3",
   "language": "python",
   "name": "python3"
  },
  "language_info": {
   "codemirror_mode": {
    "name": "ipython",
    "version": 3
   },
   "file_extension": ".py",
   "mimetype": "text/x-python",
   "name": "python",
   "nbconvert_exporter": "python",
   "pygments_lexer": "ipython3",
   "version": "3.7.4"
  }
 },
 "nbformat": 4,
 "nbformat_minor": 4
}

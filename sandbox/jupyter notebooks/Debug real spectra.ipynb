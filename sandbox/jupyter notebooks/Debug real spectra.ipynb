{
 "cells": [
  {
   "cell_type": "markdown",
   "metadata": {},
   "source": [
    "# Debug the real spectra\n",
    "\n",
    "So it doesn't work well with real data, so having taken out one example of real data, the sequence is\n",
    "\n",
    "Non hybrid:\n",
    "```\n",
    "DEAPNFEANTTIGRIRFH\n",
    "```\n",
    "\n",
    "Non hybrid:\n",
    "``` \n",
    "DPQVEQLEL\n",
    "```\n",
    "\n",
    "Hybrid 1: \n",
    "```\n",
    "DLQTLALWSRM\n",
    "```\n",
    "\n",
    "Non hybrid:\n",
    "```\n",
    "DLTEYLSRFGEVV\n",
    "```\n",
    "\n",
    "Hybrid 2:\n",
    "```\n",
    "DLQTLEVE\n",
    "```\n",
    "\n",
    "so toy with the tool until we find out whats wrong"
   ]
  },
  {
   "cell_type": "markdown",
   "metadata": {},
   "source": [
    "## Load params and run"
   ]
  },
  {
   "cell_type": "code",
   "execution_count": 1,
   "metadata": {},
   "outputs": [],
   "source": [
    "import os\n",
    "import sys\n",
    "module_path = os.path.abspath(os.path.join('..'))\n",
    "if module_path not in sys.path:\n",
    "    sys.path.append(module_path)\n",
    "module_path = os.path.abspath(os.path.join('../..'))\n",
    "if module_path not in sys.path:\n",
    "    sys.path.append(module_path)\n",
    "    \n",
    "from src import runner\n",
    "    "
   ]
  },
  {
   "cell_type": "code",
   "execution_count": 2,
   "metadata": {},
   "outputs": [],
   "source": [
    "specPath = '/Users/zacharymcgrath/Desktop/nod2 data/single/'\n",
    "fastaPath = '/Users/zacharymcgrath/Desktop/nod2 data/filteredNOD2.fasta'\n",
    "outputDir = '/Users/zacharymcgrath/Desktop/Experiment output/singleReal/'\n",
    "minPep = 3\n",
    "maxPep = 20\n",
    "tolerance = 20\n",
    "verbose = True\n",
    "scoringAlg = 'iibb'"
   ]
  },
  {
   "cell_type": "code",
   "execution_count": 3,
   "metadata": {},
   "outputs": [],
   "source": [
    "params = {\n",
    "    'spectra_folder': specPath,\n",
    "    'database_file': fastaPath,\n",
    "    'output_dir': outputDir,\n",
    "    'min_peptide_len': minPep,\n",
    "    'max_peptide_len': maxPep,\n",
    "    'tolerance': tolerance,\n",
    "    'verbose': verbose, \n",
    "    'scoring_alg': scoringAlg\n",
    "}"
   ]
  },
  {
   "cell_type": "code",
   "execution_count": 4,
   "metadata": {},
   "outputs": [
    {
     "name": "stdout",
     "output_type": "stream",
     "text": [
      "Loading database...\n",
      "Adding protein 279/279 to tree\n",
      "Done.\n",
      "Building hashes for kmers...\n",
      "Indexing database for k=20...\n",
      "102138 unique kmers\n",
      "Done\n",
      "Looking at kmer 102138/102138\n",
      "Done.\n",
      "Analyzing spectra file 1/1[0%]\n",
      "\n",
      "Analyzing spectrum 1/5[0%]\n",
      "Filtering time took 0.8681559562683105 resulting in 5 b sequences and 7 y sequences\n",
      "First alignment round took 0.00031280517578125 time resulting in 47 alignments\n",
      "Getting rid of ambiguous time took 0.0021288394927978516\n",
      "Filling in precursor took 0.028356075286865234 for 47 sequences\n",
      "Time to make into objects took 0.004228830337524414\n",
      "Analyzing spectrum 2/5[20%]\n",
      "Filtering time took 0.6878740787506104 resulting in 5 b sequences and 12 y sequences\n",
      "First alignment round took 0.0003910064697265625 time resulting in 77 alignments\n",
      "Getting rid of ambiguous time took 0.0011818408966064453\n",
      "Filling in precursor took 0.005365133285522461 for 77 sequences\n",
      "Time to make into objects took 0.002942323684692383\n",
      "Analyzing spectrum 3/5[40%]\n",
      "Filtering time took 1.6361229419708252 resulting in 3 b sequences and 22 y sequences\n",
      "First alignment round took 0.0009632110595703125 time resulting in 91 alignments\n",
      "Getting rid of ambiguous time took 0.018188953399658203\n",
      "Filling in precursor took 0.008893966674804688 for 91 sequences\n",
      "Time to make into objects took 0.0043070316314697266\n",
      "Analyzing spectrum 4/5[60%]\n",
      "Filtering time took 1.145669937133789 resulting in 2 b sequences and 7 y sequences\n",
      "First alignment round took 0.0003311634063720703 time resulting in 23 alignments\n",
      "Getting rid of ambiguous time took 0.0012180805206298828\n",
      "Filling in precursor took 0.00286102294921875 for 23 sequences\n",
      "Time to make into objects took 0.0027780532836914062\n",
      "Analyzing spectrum 5/5[80%]\n",
      "Filtering time took 0.5788321495056152 resulting in 4 b sequences and 37 y sequences\n",
      "First alignment round took 0.0015270709991455078 time resulting in 189 alignments\n",
      "Getting rid of ambiguous time took 0.0020880699157714844\n",
      "Filling in precursor took 0.010740995407104492 for 189 sequences\n",
      "Time to make into objects took 0.008002042770385742\n",
      "\n",
      "Finished search. Writting results to /Users/zacharymcgrath/Desktop/Experiment output/singleReal/...\n",
      "Could not make an alignment for 0/5 spectra (0%)\n"
     ]
    }
   ],
   "source": [
    "import time\n",
    "st = time.time()\n",
    "runner.run(params)\n",
    "ttime = time.time() - st"
   ]
  },
  {
   "cell_type": "code",
   "execution_count": 5,
   "metadata": {},
   "outputs": [
    {
     "name": "stdout",
     "output_type": "stream",
     "text": [
      "TIME: 51.054299116134644s\n"
     ]
    }
   ],
   "source": [
    "print(f'TIME: {ttime}s')"
   ]
  },
  {
   "cell_type": "markdown",
   "metadata": {},
   "source": [
    "## Load and read results"
   ]
  },
  {
   "cell_type": "code",
   "execution_count": 10,
   "metadata": {},
   "outputs": [],
   "source": [
    "import pandas as pd\n",
    "\n",
    "outputFile = '/Users/zacharymcgrath/Desktop/Experiment output/singleReal/summary.tsv'\n",
    "hybridOutputFile = '/Users/zacharymcgrath/Desktop/Experiment output/singleReal/hybrid_summary.tsv'"
   ]
  },
  {
   "cell_type": "code",
   "execution_count": 11,
   "metadata": {},
   "outputs": [],
   "source": [
    "df = pd.read_csv(outputFile, sep='\\t')\n",
    "hdf = pd.read_csv(hybridOutputFile, sep='\\t')"
   ]
  },
  {
   "cell_type": "code",
   "execution_count": 12,
   "metadata": {},
   "outputs": [
    {
     "data": {
      "text/html": [
       "<div>\n",
       "<style scoped>\n",
       "    .dataframe tbody tr th:only-of-type {\n",
       "        vertical-align: middle;\n",
       "    }\n",
       "\n",
       "    .dataframe tbody tr th {\n",
       "        vertical-align: top;\n",
       "    }\n",
       "\n",
       "    .dataframe thead th {\n",
       "        text-align: right;\n",
       "    }\n",
       "</style>\n",
       "<table border=\"1\" class=\"dataframe\">\n",
       "  <thead>\n",
       "    <tr style=\"text-align: right;\">\n",
       "      <th></th>\n",
       "      <th>Unnamed: 0</th>\n",
       "    </tr>\n",
       "  </thead>\n",
       "  <tbody>\n",
       "  </tbody>\n",
       "</table>\n",
       "</div>"
      ],
      "text/plain": [
       "Empty DataFrame\n",
       "Columns: [Unnamed: 0]\n",
       "Index: []"
      ]
     },
     "execution_count": 12,
     "metadata": {},
     "output_type": "execute_result"
    }
   ],
   "source": [
    "hdf.head(4)"
   ]
  },
  {
   "cell_type": "code",
   "execution_count": 13,
   "metadata": {},
   "outputs": [
    {
     "data": {
      "text/html": [
       "<div>\n",
       "<style scoped>\n",
       "    .dataframe tbody tr th:only-of-type {\n",
       "        vertical-align: middle;\n",
       "    }\n",
       "\n",
       "    .dataframe tbody tr th {\n",
       "        vertical-align: top;\n",
       "    }\n",
       "\n",
       "    .dataframe thead th {\n",
       "        text-align: right;\n",
       "    }\n",
       "</style>\n",
       "<table border=\"1\" class=\"dataframe\">\n",
       "  <thead>\n",
       "    <tr style=\"text-align: right;\">\n",
       "      <th></th>\n",
       "      <th>Unnamed: 0</th>\n",
       "      <th>proteins</th>\n",
       "      <th>sequence</th>\n",
       "      <th>b_score</th>\n",
       "      <th>y_score</th>\n",
       "      <th>total_score</th>\n",
       "      <th>precursor_distance</th>\n",
       "      <th>entry name</th>\n",
       "      <th>id</th>\n",
       "    </tr>\n",
       "  </thead>\n",
       "  <tbody>\n",
       "    <tr>\n",
       "      <td>0</td>\n",
       "      <td>0</td>\n",
       "      <td>['PRDX6_MOUSE Peroxiredoxin-6']</td>\n",
       "      <td>DEAPNFEANTTIGRIRFH</td>\n",
       "      <td>0.288454</td>\n",
       "      <td>0.688877</td>\n",
       "      <td>1.64</td>\n",
       "      <td>1.010352</td>\n",
       "      <td>/Users/zacharymcgrath/Desktop/nod2 data/single...</td>\n",
       "      <td>NOD2_E3.9670.9702.4.pkl</td>\n",
       "    </tr>\n",
       "    <tr>\n",
       "      <td>1</td>\n",
       "      <td>1</td>\n",
       "      <td>['INS1_MOUSE Insulin-1']</td>\n",
       "      <td>DPQVEQLEL</td>\n",
       "      <td>1.149896</td>\n",
       "      <td>0.175820</td>\n",
       "      <td>6.00</td>\n",
       "      <td>0.000673</td>\n",
       "      <td>/Users/zacharymcgrath/Desktop/nod2 data/single...</td>\n",
       "      <td>NOD2_E3.13446.13477.2.pkl</td>\n",
       "    </tr>\n",
       "    <tr>\n",
       "      <td>2</td>\n",
       "      <td>2</td>\n",
       "      <td>['LYST_MOUSE Lysosomal-trafficking regulator']</td>\n",
       "      <td>LQLAGKWDLGNL</td>\n",
       "      <td>0.000000</td>\n",
       "      <td>0.026723</td>\n",
       "      <td>0.36</td>\n",
       "      <td>2.978018</td>\n",
       "      <td>/Users/zacharymcgrath/Desktop/nod2 data/single...</td>\n",
       "      <td>scan=10130</td>\n",
       "    </tr>\n",
       "    <tr>\n",
       "      <td>3</td>\n",
       "      <td>3</td>\n",
       "      <td>['HNRDL_MOUSE Heterogeneous nuclear ribonucleo...</td>\n",
       "      <td>DLTEYLSRFGEVV</td>\n",
       "      <td>0.998542</td>\n",
       "      <td>0.800915</td>\n",
       "      <td>4.64</td>\n",
       "      <td>0.000568</td>\n",
       "      <td>/Users/zacharymcgrath/Desktop/nod2 data/single...</td>\n",
       "      <td>scan=11410</td>\n",
       "    </tr>\n",
       "    <tr>\n",
       "      <td>4</td>\n",
       "      <td>4</td>\n",
       "      <td>['SCG2_MOUSE Secretogranin-2']</td>\n",
       "      <td>GEKPNGLVE</td>\n",
       "      <td>0.000000</td>\n",
       "      <td>0.586848</td>\n",
       "      <td>1.00</td>\n",
       "      <td>1.992133</td>\n",
       "      <td>/Users/zacharymcgrath/Desktop/nod2 data/single...</td>\n",
       "      <td>NOD2_E3.11427.11516.2.pkl</td>\n",
       "    </tr>\n",
       "  </tbody>\n",
       "</table>\n",
       "</div>"
      ],
      "text/plain": [
       "   Unnamed: 0                                           proteins  \\\n",
       "0           0                    ['PRDX6_MOUSE Peroxiredoxin-6']   \n",
       "1           1                           ['INS1_MOUSE Insulin-1']   \n",
       "2           2     ['LYST_MOUSE Lysosomal-trafficking regulator']   \n",
       "3           3  ['HNRDL_MOUSE Heterogeneous nuclear ribonucleo...   \n",
       "4           4                     ['SCG2_MOUSE Secretogranin-2']   \n",
       "\n",
       "             sequence   b_score   y_score  total_score  precursor_distance  \\\n",
       "0  DEAPNFEANTTIGRIRFH  0.288454  0.688877         1.64            1.010352   \n",
       "1           DPQVEQLEL  1.149896  0.175820         6.00            0.000673   \n",
       "2        LQLAGKWDLGNL  0.000000  0.026723         0.36            2.978018   \n",
       "3       DLTEYLSRFGEVV  0.998542  0.800915         4.64            0.000568   \n",
       "4           GEKPNGLVE  0.000000  0.586848         1.00            1.992133   \n",
       "\n",
       "                                          entry name  \\\n",
       "0  /Users/zacharymcgrath/Desktop/nod2 data/single...   \n",
       "1  /Users/zacharymcgrath/Desktop/nod2 data/single...   \n",
       "2  /Users/zacharymcgrath/Desktop/nod2 data/single...   \n",
       "3  /Users/zacharymcgrath/Desktop/nod2 data/single...   \n",
       "4  /Users/zacharymcgrath/Desktop/nod2 data/single...   \n",
       "\n",
       "                          id  \n",
       "0    NOD2_E3.9670.9702.4.pkl  \n",
       "1  NOD2_E3.13446.13477.2.pkl  \n",
       "2                 scan=10130  \n",
       "3                 scan=11410  \n",
       "4  NOD2_E3.11427.11516.2.pkl  "
      ]
     },
     "execution_count": 13,
     "metadata": {},
     "output_type": "execute_result"
    }
   ],
   "source": [
    "df.head(5)"
   ]
  },
  {
   "cell_type": "code",
   "execution_count": 14,
   "metadata": {},
   "outputs": [],
   "source": [
    "import json\n",
    "\n",
    "s = json.load(open('/Users/zacharymcgrath/Desktop/Experiment output/singleReal/summary.json', 'r'))"
   ]
  },
  {
   "cell_type": "code",
   "execution_count": 15,
   "metadata": {},
   "outputs": [
    {
     "name": "stdout",
     "output_type": "stream",
     "text": [
      "DEAPNFEANTTIGRIRFH: 1.64, 0.2884541563643132, 0.6888765009310909\n",
      "TNFYFSLHIDGKIFQEK: 1.24, 0.08164205091169122, 0.3159003922731055\n",
      "EAPNFEANTTIGRIRFHD: 0.0, 0.0, 0.0\n",
      "DPQVEQLEL: 6.0, 1.1498959362166845, 0.1758203192476391\n",
      "TTSPNLGTRE: 0.88, 0.556578051353493, 0.0\n",
      "FVDLTMPYS: 0.0, 0.0, 0.0\n",
      "LQLAGKWDLGNL: 0.36, 0.0, 0.02672335260186833\n",
      "QLAGKWDLGNLL: 0.0, 0.0, 0.0\n",
      "IAASAQECIVEPV: 0.0, 0.0, 0.0\n",
      "DLTEYLSRFGEVV: 4.640000000000001, 0.9985419166868768, 0.8009149451365484\n",
      "DLTEYLSRFGEVV: 4.640000000000001, 0.9985419166868768, 0.8009149451365484\n",
      "DLTEYLSRFGEVV: 4.640000000000001, 0.9985419166868768, 0.8009149451365484\n",
      "GEKPNGLVE: 1.0, 0.0, 0.5868484431646215\n",
      "GKDGELPVE: 1.0, 0.0, 0.5868484431646215\n",
      "PSEPKEFL: 0.56, 0.0, 0.014112730775343448\n"
     ]
    }
   ],
   "source": [
    "for k, v in s.items():\n",
    "    for a in v['alignments']:\n",
    "        print(f'{a[\"sequence\"]}: {a[\"total_score\"]}, {a[\"b_score\"]}, {a[\"y_score\"]}')\n"
   ]
  },
  {
   "cell_type": "code",
   "execution_count": null,
   "metadata": {},
   "outputs": [],
   "source": []
  }
 ],
 "metadata": {
  "kernelspec": {
   "display_name": "Python 3",
   "language": "python",
   "name": "python3"
  },
  "language_info": {
   "codemirror_mode": {
    "name": "ipython",
    "version": 3
   },
   "file_extension": ".py",
   "mimetype": "text/x-python",
   "name": "python",
   "nbconvert_exporter": "python",
   "pygments_lexer": "ipython3",
   "version": "3.7.4"
  }
 },
 "nbformat": 4,
 "nbformat_minor": 4
}

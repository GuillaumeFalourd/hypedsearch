{
 "cells": [
  {
   "cell_type": "markdown",
   "metadata": {},
   "source": [
    "# Debug the real spectra\n",
    "\n",
    "So it doesn't work well with real data, so having taken out one example of real data, the sequence is\n",
    "\n",
    "Non hybrid:\n",
    "```\n",
    "DEAPNFEANTTIGRIRFH\n",
    "```\n",
    "\n",
    "Non hybrid:\n",
    "``` \n",
    "DPQVEQLEL\n",
    "```\n",
    "\n",
    "Hybrid 1: \n",
    "```\n",
    "DLQTLALWSRM\n",
    "```\n",
    "\n",
    "Non hybrid:\n",
    "```\n",
    "DLTEYLSRFGEVV\n",
    "```\n",
    "\n",
    "Hybrid 2:\n",
    "```\n",
    "DLQTLEVE\n",
    "```\n",
    "\n",
    "Non Hybrid:\n",
    "```\n",
    "DLSSASAIMGNAKVKAHGKKVITAFN\n",
    "```\n",
    "\n",
    "so toy with the tool until we find out whats wrong"
   ]
  },
  {
   "cell_type": "markdown",
   "metadata": {},
   "source": [
    "## Load params and run"
   ]
  },
  {
   "cell_type": "code",
   "execution_count": 1,
   "metadata": {},
   "outputs": [],
   "source": [
    "import os\n",
    "import sys\n",
    "module_path = os.path.abspath(os.path.join('..'))\n",
    "if module_path not in sys.path:\n",
    "    sys.path.append(module_path)\n",
    "module_path = os.path.abspath(os.path.join('../..'))\n",
    "if module_path not in sys.path:\n",
    "    sys.path.append(module_path)\n",
    "    \n",
    "from src import runner\n",
    "    "
   ]
  },
  {
   "cell_type": "code",
   "execution_count": 2,
   "metadata": {},
   "outputs": [],
   "source": [
    "specPath = '/Users/zacharymcgrath/Desktop/nod2 data/single/'\n",
    "fastaPath = '/Users/zacharymcgrath/Desktop/nod2 data/filteredNOD2.fasta'\n",
    "outputDir = '/Users/zacharymcgrath/Desktop/Experiment output/singleReal/'\n",
    "minPep = 3\n",
    "maxPep = 30\n",
    "tolerance = 20\n",
    "verbose = True\n",
    "scoringAlg = 'ion'"
   ]
  },
  {
   "cell_type": "code",
   "execution_count": 3,
   "metadata": {},
   "outputs": [],
   "source": [
    "params = {\n",
    "    'spectra_folder': specPath,\n",
    "    'database_file': fastaPath,\n",
    "    'output_dir': outputDir,\n",
    "    'min_peptide_len': minPep,\n",
    "    'max_peptide_len': maxPep,\n",
    "    'tolerance': tolerance,\n",
    "    'verbose': verbose, \n",
    "    'scoring_alg': scoringAlg, \n",
    "    'DEBUG': True\n",
    "}"
   ]
  },
  {
   "cell_type": "code",
   "execution_count": 4,
   "metadata": {},
   "outputs": [
    {
     "name": "stdout",
     "output_type": "stream",
     "text": [
      "Loading database...\n",
      "Adding protein 279/279 to tree\n",
      "Done.\n",
      "Building hashes for kmers...\n",
      "Looking at protein 279/279\n",
      "Done.\n",
      "Analyzing spectra file 1/1[0%]\n",
      "\n",
      "Analyzing spectrum 1/6[0%]\n",
      "Filtering time took 0.09571409225463867 resulting in 5 b sequences and 8 y sequences\n",
      "First alignment round took 0.0008523464202880859 time resulting in 53 alignments\n",
      "Getting rid of ambiguous time took 0.0012290477752685547\n",
      "Filling in precursor took 0.013159036636352539 for 53 sequences\n",
      "Time to make into objects took 0.009246826171875\n",
      "Analyzing spectrum 2/6[16%]\n",
      "Filtering time took 0.12000298500061035 resulting in 1 b sequences and 3 y sequences\n",
      "First alignment round took 0.0001919269561767578 time resulting in 7 alignments\n",
      "Getting rid of ambiguous time took 4.696846008300781e-05\n",
      "Filling in precursor took 0.00121307373046875 for 7 sequences\n",
      "Time to make into objects took 0.0024378299713134766\n",
      "Analyzing spectrum 3/6[33%]\n",
      "Filtering time took 0.1876661777496338 resulting in 4 b sequences and 30 y sequences\n",
      "First alignment round took 0.0022699832916259766 time resulting in 154 alignments\n",
      "Getting rid of ambiguous time took 0.017173051834106445\n",
      "Filling in precursor took 0.034722089767456055 for 154 sequences\n",
      "Time to make into objects took 0.01783013343811035\n",
      "Analyzing spectrum 4/6[50%]\n",
      "Filtering time took 0.13011717796325684 resulting in 6 b sequences and 4 y sequences\n",
      "First alignment round took 0.0005879402160644531 time resulting in 33 alignments\n",
      "Getting rid of ambiguous time took 0.0019249916076660156\n",
      "Filling in precursor took 0.0064792633056640625 for 33 sequences\n",
      "Time to make into objects took 0.0066721439361572266\n",
      "Analyzing spectrum 5/6[66%]\n",
      "Filtering time took 0.0993192195892334 resulting in 3 b sequences and 4 y sequences\n",
      "First alignment round took 0.000286102294921875 time resulting in 19 alignments\n",
      "Getting rid of ambiguous time took 0.00026988983154296875\n",
      "Filling in precursor took 0.0067501068115234375 for 19 sequences\n",
      "Time to make into objects took 0.016169071197509766\n",
      "Analyzing spectrum 6/6[83%]\n",
      "Filtering time took 0.02000117301940918 resulting in 3 b sequences and 13 y sequences\n",
      "First alignment round took 0.013509035110473633 time resulting in 64 alignments\n",
      "Getting rid of ambiguous time took 0.0003330707550048828\n",
      "Filling in precursor took 0.0011410713195800781 for 64 sequences\n",
      "Time to make into objects took 0.0006937980651855469\n",
      "\n",
      "Finished search. Writting results to /Users/zacharymcgrath/Desktop/Experiment output/singleReal/...\n",
      "Could not make an alignment for 1/6 spectra (16%)\n"
     ]
    }
   ],
   "source": [
    "import time\n",
    "st = time.time()\n",
    "runner.run(params)\n",
    "ttime = time.time() - st"
   ]
  },
  {
   "cell_type": "code",
   "execution_count": 5,
   "metadata": {},
   "outputs": [
    {
     "name": "stdout",
     "output_type": "stream",
     "text": [
      "TIME: 45.62890315055847s\n"
     ]
    }
   ],
   "source": [
    "print(f'TIME: {ttime}s')"
   ]
  },
  {
   "cell_type": "markdown",
   "metadata": {},
   "source": [
    "## Load and read results"
   ]
  },
  {
   "cell_type": "code",
   "execution_count": 6,
   "metadata": {},
   "outputs": [],
   "source": [
    "import pandas as pd\n",
    "\n",
    "outputFile = '/Users/zacharymcgrath/Desktop/Experiment output/singleReal/summary.tsv'\n",
    "hybridOutputFile = '/Users/zacharymcgrath/Desktop/Experiment output/singleReal/hybrid_summary.tsv'"
   ]
  },
  {
   "cell_type": "code",
   "execution_count": 7,
   "metadata": {},
   "outputs": [],
   "source": [
    "df = pd.read_csv(outputFile, sep='\\t')\n",
    "hdf = pd.read_csv(hybridOutputFile, sep='\\t')"
   ]
  },
  {
   "cell_type": "code",
   "execution_count": 8,
   "metadata": {},
   "outputs": [
    {
     "data": {
      "text/html": [
       "<div>\n",
       "<style scoped>\n",
       "    .dataframe tbody tr th:only-of-type {\n",
       "        vertical-align: middle;\n",
       "    }\n",
       "\n",
       "    .dataframe tbody tr th {\n",
       "        vertical-align: top;\n",
       "    }\n",
       "\n",
       "    .dataframe thead th {\n",
       "        text-align: right;\n",
       "    }\n",
       "</style>\n",
       "<table border=\"1\" class=\"dataframe\">\n",
       "  <thead>\n",
       "    <tr style=\"text-align: right;\">\n",
       "      <th></th>\n",
       "      <th>Unnamed: 0</th>\n",
       "      <th>left_proteins</th>\n",
       "      <th>right_proteins</th>\n",
       "      <th>sequence</th>\n",
       "      <th>hybrid_sequence</th>\n",
       "      <th>b_score</th>\n",
       "      <th>y_score</th>\n",
       "      <th>total_score</th>\n",
       "      <th>precursor_distance</th>\n",
       "      <th>entry name</th>\n",
       "      <th>id</th>\n",
       "    </tr>\n",
       "  </thead>\n",
       "  <tbody>\n",
       "    <tr>\n",
       "      <td>0</td>\n",
       "      <td>0</td>\n",
       "      <td>['INS2_MOUSE Insulin-2', 'INS1_MOUSE Insulin-1']</td>\n",
       "      <td>['CMGA_MOUSE Chromogranin-A', 'ANKS6_MOUSE Ank...</td>\n",
       "      <td>DLQTLALWSRM</td>\n",
       "      <td>DLQTLAL-WSRM</td>\n",
       "      <td>4</td>\n",
       "      <td>8</td>\n",
       "      <td>13</td>\n",
       "      <td>0.000192</td>\n",
       "      <td>/Users/zacharymcgrath/Desktop/nod2 data/single...</td>\n",
       "      <td>scan=10130</td>\n",
       "    </tr>\n",
       "    <tr>\n",
       "      <td>1</td>\n",
       "      <td>1</td>\n",
       "      <td>['CDHR1_MOUSE Cadherin-related family member 1...</td>\n",
       "      <td>['REV3L_MOUSE DNA polymerase zeta catalytic su...</td>\n",
       "      <td>EIEVLQDP</td>\n",
       "      <td>EI(E)VLQDP</td>\n",
       "      <td>2</td>\n",
       "      <td>3</td>\n",
       "      <td>5</td>\n",
       "      <td>1.997750</td>\n",
       "      <td>/Users/zacharymcgrath/Desktop/nod2 data/single...</td>\n",
       "      <td>NOD2_E3.11427.11516.2.pkl</td>\n",
       "    </tr>\n",
       "  </tbody>\n",
       "</table>\n",
       "</div>"
      ],
      "text/plain": [
       "   Unnamed: 0                                      left_proteins  \\\n",
       "0           0   ['INS2_MOUSE Insulin-2', 'INS1_MOUSE Insulin-1']   \n",
       "1           1  ['CDHR1_MOUSE Cadherin-related family member 1...   \n",
       "\n",
       "                                      right_proteins     sequence  \\\n",
       "0  ['CMGA_MOUSE Chromogranin-A', 'ANKS6_MOUSE Ank...  DLQTLALWSRM   \n",
       "1  ['REV3L_MOUSE DNA polymerase zeta catalytic su...     EIEVLQDP   \n",
       "\n",
       "  hybrid_sequence  b_score  y_score  total_score  precursor_distance  \\\n",
       "0    DLQTLAL-WSRM        4        8           13            0.000192   \n",
       "1      EI(E)VLQDP        2        3            5            1.997750   \n",
       "\n",
       "                                          entry name  \\\n",
       "0  /Users/zacharymcgrath/Desktop/nod2 data/single...   \n",
       "1  /Users/zacharymcgrath/Desktop/nod2 data/single...   \n",
       "\n",
       "                          id  \n",
       "0                 scan=10130  \n",
       "1  NOD2_E3.11427.11516.2.pkl  "
      ]
     },
     "execution_count": 8,
     "metadata": {},
     "output_type": "execute_result"
    }
   ],
   "source": [
    "hdf.head(5)"
   ]
  },
  {
   "cell_type": "code",
   "execution_count": 9,
   "metadata": {},
   "outputs": [
    {
     "data": {
      "text/html": [
       "<div>\n",
       "<style scoped>\n",
       "    .dataframe tbody tr th:only-of-type {\n",
       "        vertical-align: middle;\n",
       "    }\n",
       "\n",
       "    .dataframe tbody tr th {\n",
       "        vertical-align: top;\n",
       "    }\n",
       "\n",
       "    .dataframe thead th {\n",
       "        text-align: right;\n",
       "    }\n",
       "</style>\n",
       "<table border=\"1\" class=\"dataframe\">\n",
       "  <thead>\n",
       "    <tr style=\"text-align: right;\">\n",
       "      <th></th>\n",
       "      <th>Unnamed: 0</th>\n",
       "      <th>proteins</th>\n",
       "      <th>sequence</th>\n",
       "      <th>b_score</th>\n",
       "      <th>y_score</th>\n",
       "      <th>total_score</th>\n",
       "      <th>precursor_distance</th>\n",
       "      <th>entry name</th>\n",
       "      <th>id</th>\n",
       "    </tr>\n",
       "  </thead>\n",
       "  <tbody>\n",
       "    <tr>\n",
       "      <td>0</td>\n",
       "      <td>0</td>\n",
       "      <td>['PRDX6_MOUSE Peroxiredoxin-6']</td>\n",
       "      <td>DEAPNFEANTTIGRIRFH</td>\n",
       "      <td>2</td>\n",
       "      <td>5</td>\n",
       "      <td>7</td>\n",
       "      <td>1.010352</td>\n",
       "      <td>/Users/zacharymcgrath/Desktop/nod2 data/single...</td>\n",
       "      <td>NOD2_E3.9670.9702.4.pkl</td>\n",
       "    </tr>\n",
       "    <tr>\n",
       "      <td>1</td>\n",
       "      <td>1</td>\n",
       "      <td>['INS1_MOUSE Insulin-1']</td>\n",
       "      <td>DPQVEQLEL</td>\n",
       "      <td>6</td>\n",
       "      <td>2</td>\n",
       "      <td>9</td>\n",
       "      <td>0.000673</td>\n",
       "      <td>/Users/zacharymcgrath/Desktop/nod2 data/single...</td>\n",
       "      <td>NOD2_E3.13446.13477.2.pkl</td>\n",
       "    </tr>\n",
       "    <tr>\n",
       "      <td>2</td>\n",
       "      <td>2</td>\n",
       "      <td>['HNRDL_MOUSE Heterogeneous nuclear ribonucleo...</td>\n",
       "      <td>DLTEYLSRFGEVV</td>\n",
       "      <td>5</td>\n",
       "      <td>5</td>\n",
       "      <td>10</td>\n",
       "      <td>0.000568</td>\n",
       "      <td>/Users/zacharymcgrath/Desktop/nod2 data/single...</td>\n",
       "      <td>scan=11410</td>\n",
       "    </tr>\n",
       "  </tbody>\n",
       "</table>\n",
       "</div>"
      ],
      "text/plain": [
       "   Unnamed: 0                                           proteins  \\\n",
       "0           0                    ['PRDX6_MOUSE Peroxiredoxin-6']   \n",
       "1           1                           ['INS1_MOUSE Insulin-1']   \n",
       "2           2  ['HNRDL_MOUSE Heterogeneous nuclear ribonucleo...   \n",
       "\n",
       "             sequence  b_score  y_score  total_score  precursor_distance  \\\n",
       "0  DEAPNFEANTTIGRIRFH        2        5            7            1.010352   \n",
       "1           DPQVEQLEL        6        2            9            0.000673   \n",
       "2       DLTEYLSRFGEVV        5        5           10            0.000568   \n",
       "\n",
       "                                          entry name  \\\n",
       "0  /Users/zacharymcgrath/Desktop/nod2 data/single...   \n",
       "1  /Users/zacharymcgrath/Desktop/nod2 data/single...   \n",
       "2  /Users/zacharymcgrath/Desktop/nod2 data/single...   \n",
       "\n",
       "                          id  \n",
       "0    NOD2_E3.9670.9702.4.pkl  \n",
       "1  NOD2_E3.13446.13477.2.pkl  \n",
       "2                 scan=11410  "
      ]
     },
     "execution_count": 9,
     "metadata": {},
     "output_type": "execute_result"
    }
   ],
   "source": [
    "df.head(5)"
   ]
  },
  {
   "cell_type": "code",
   "execution_count": 10,
   "metadata": {},
   "outputs": [],
   "source": [
    "import json\n",
    "\n",
    "s = json.load(open('/Users/zacharymcgrath/Desktop/Experiment output/singleReal/summary.json', 'r'))"
   ]
  },
  {
   "cell_type": "code",
   "execution_count": 11,
   "metadata": {},
   "outputs": [
    {
     "name": "stdout",
     "output_type": "stream",
     "text": [
      "DEAPNFEANTTIGRIRFH: 7, 2, 5\n",
      "TNFYFSLHIDGKIFQEK: 5, 1, 4\n",
      "DVLLTTMLRNGASALRTASP: 4, 3, 1\n",
      "DPQVEQLEL: 9, 6, 2\n",
      "EEIPHSELD: 4, 0, 3\n",
      "FVDLTMPYS: 0, 0, 0\n",
      "DLQTLALWSRM: 13, 4, 8\n",
      "DLQTLALEFGLGG: 12, 4, 7\n",
      "DLQTLALGQIFD: 11, 4, 6\n",
      "DLTEYLSRFGEVV: 10, 5, 5\n",
      "EVTESIYLSRFGE: 4, 4, 0\n",
      "EIEVLQDP: 5, 2, 3\n",
      "AATLEPPSSA: 3, 0, 2\n",
      "GKEVGETLL: 1, 0, 1\n"
     ]
    }
   ],
   "source": [
    "for k, v in s.items():\n",
    "    for a in v['alignments']:\n",
    "        print(f'{a[\"sequence\"]}: {a[\"total_score\"]}, {a[\"b_score\"]}, {a[\"y_score\"]}')\n"
   ]
  },
  {
   "cell_type": "code",
   "execution_count": null,
   "metadata": {},
   "outputs": [],
   "source": []
  },
  {
   "cell_type": "code",
   "execution_count": null,
   "metadata": {},
   "outputs": [],
   "source": []
  }
 ],
 "metadata": {
  "kernelspec": {
   "display_name": "Python 3",
   "language": "python",
   "name": "python3"
  },
  "language_info": {
   "codemirror_mode": {
    "name": "ipython",
    "version": 3
   },
   "file_extension": ".py",
   "mimetype": "text/x-python",
   "name": "python",
   "nbconvert_exporter": "python",
   "pygments_lexer": "ipython3",
   "version": "3.7.4"
  }
 },
 "nbformat": 4,
 "nbformat_minor": 4
}

{
 "cells": [
  {
   "cell_type": "markdown",
   "metadata": {},
   "source": [
    "# try insort"
   ]
  },
  {
   "cell_type": "code",
   "execution_count": 56,
   "metadata": {},
   "outputs": [],
   "source": [
    "import os\n",
    "import sys\n",
    "module_path = os.path.abspath(os.path.join('..'))\n",
    "if module_path not in sys.path:\n",
    "    sys.path.append(module_path)\n",
    "module_path = os.path.abspath(os.path.join('../..'))\n",
    "if module_path not in sys.path:\n",
    "    sys.path.append(module_path)\n",
    "    \n",
    "from src.types.database import Database\n",
    "from bloom_filter import BloomFilter\n",
    "import time\n",
    "from collections import defaultdict, deque, namedtuple\n",
    "from typing import Iterable, Any\n",
    "from operator import itemgetter, attrgetter\n",
    "import bisect\n",
    "from random import randint\n",
    "from math import floor \n"
   ]
  },
  {
   "cell_type": "code",
   "execution_count": 140,
   "metadata": {},
   "outputs": [],
   "source": [
    "def binary_search_by_key(value: Any, a: Iterable, key: str) -> int:\n",
    "    '''\n",
    "    index of insertion\n",
    "    '''\n",
    "    if len(a) == 0:\n",
    "        return 0\n",
    "    elif len(a) == 1:\n",
    "        return 1 if getattr(a[0], key) <= getattr(value, key) else 0\n",
    "    \n",
    "    mid = floor(len(a)/2)\n",
    "    if getattr(a[mid-1], key) <= getattr(value, key) <= getattr(a[mid], key):\n",
    "        return mid\n",
    "    elif getattr(a[mid], key) > getattr(value, key):\n",
    "        return mid - bianry_search_by_key(value, a[:mid], key)\n",
    "    else:\n",
    "        return mid + binary_search_by_key(value, a[mid:], key)"
   ]
  },
  {
   "cell_type": "code",
   "execution_count": 167,
   "metadata": {},
   "outputs": [],
   "source": [
    "def binary_search_by_index(value: Any, a: Iterable, index: int) -> int:\n",
    "    '''\n",
    "    index of insertion\n",
    "    '''\n",
    "    if value[index] == 11:\n",
    "        print(f'len of a: {len(a)}')\n",
    "    if len(a) == 0:\n",
    "        return 0\n",
    "    elif len(a) == 1:\n",
    "        return 1 if a[0][index] <= value[index] else 0\n",
    "    \n",
    "    mid = floor(len(a)/2)\n",
    "    value[index] == 11 and print(f'mid: {mid} \\t list: {a}')\n",
    "    if a[mid-1][index] <= value[index] <= a[mid][index]:\n",
    "        return mid\n",
    "    elif a[mid][index] > value[index]:\n",
    "        return mid - binary_search_by_index(value, a[:mid], index)\n",
    "    else:\n",
    "        return mid + binary_search_by_index(value, a[mid:], index)"
   ]
  },
  {
   "cell_type": "code",
   "execution_count": 175,
   "metadata": {},
   "outputs": [],
   "source": [
    "def insort_by_index(value: Any, a: Iterable, index: int) -> Iterable:\n",
    "    '''\n",
    "    '''\n",
    "    i = binary_search_by_index(value, a, index)\n",
    "    a.insert(i, value)\n",
    "    return a"
   ]
  },
  {
   "cell_type": "code",
   "execution_count": 154,
   "metadata": {},
   "outputs": [],
   "source": [
    "def insort_by_key(value: Any, a: Iterable, key: str) -> Iterable:\n",
    "    '''\n",
    "    '''\n",
    "    index = binary_search_by_index(value, a, key)\n",
    "    a.insert(index, value)\n",
    "    return a"
   ]
  },
  {
   "cell_type": "code",
   "execution_count": 155,
   "metadata": {},
   "outputs": [],
   "source": [
    "# insort by the bisect library\n",
    "def bisect_insort(value: Any, a: Iterable, key: str) -> Iterable:\n",
    "    '''\n",
    "    '''\n",
    "    avals = [getattr(x, key) for x in a]\n",
    "    insert_index = bisect.bisect(avals, getattr(value, key))\n",
    "    return a[:insert_index] + [value] + a[insert_index:]"
   ]
  },
  {
   "cell_type": "code",
   "execution_count": 156,
   "metadata": {},
   "outputs": [],
   "source": [
    "testtup = namedtuple('testtup', ['label', 'key'])\n",
    "abcs = 'ABCDEFGHIJKLMNOPQRSTUVWXYZabcdefghijklmnopqrstuvwxyz'\n",
    "unsorted = []\n",
    "for letter in abcs:\n",
    "    unsorted.append(testtup(letter, randint(0, 100)))\n",
    "    "
   ]
  },
  {
   "cell_type": "code",
   "execution_count": 176,
   "metadata": {},
   "outputs": [
    {
     "name": "stdout",
     "output_type": "stream",
     "text": [
      "len of a: 7\n",
      "mid: 3 \t list: [testtup(label='A', key=5), testtup(label='D', key=15), testtup(label='F', key=40), testtup(label='E', key=46), testtup(label='B', key=47), testtup(label='G', key=50), testtup(label='C', key=65)]\n",
      "len of a: 3\n",
      "mid: 1 \t list: [testtup(label='A', key=5), testtup(label='D', key=15), testtup(label='F', key=40)]\n",
      "Total time: 0.0013377666473388672s\n",
      "Result: [testtup(label='A', key=5), testtup(label='s', key=17), testtup(label='k', key=26), testtup(label='y', key=37), testtup(label='a', key=25), testtup(label='Z', key=36), testtup(label='O', key=37), testtup(label='Y', key=34), testtup(label='W', key=25), testtup(label='V', key=16), testtup(label='D', key=15), testtup(label='U', key=29), testtup(label='i', key=17), testtup(label='c', key=7), testtup(label='f', key=3), testtup(label='m', key=12), testtup(label='o', key=15), testtup(label='z', key=7), testtup(label='r', key=6), testtup(label='H', key=11), testtup(label='J', key=10), testtup(label='N', key=2), testtup(label='L', key=5), testtup(label='b', key=8), testtup(label='F', key=40), testtup(label='R', key=42), testtup(label='M', key=44), testtup(label='h', key=46), testtup(label='E', key=46), testtup(label='d', key=30), testtup(label='B', key=47), testtup(label='K', key=48), testtup(label='S', key=49), testtup(label='G', key=50), testtup(label='v', key=46), testtup(label='p', key=54), testtup(label='q', key=54), testtup(label='e', key=56), testtup(label='l', key=59), testtup(label='j', key=57), testtup(label='I', key=61), testtup(label='C', key=65), testtup(label='P', key=67), testtup(label='X', key=69), testtup(label='g', key=83), testtup(label='u', key=76), testtup(label='n', key=93), testtup(label='Q', key=94), testtup(label='t', key=97), testtup(label='x', key=97), testtup(label='T', key=99), testtup(label='w', key=100)]\n"
     ]
    }
   ],
   "source": [
    "# test mine\n",
    "mst = time.time()\n",
    "\n",
    "a = []\n",
    "for unsort in unsorted:\n",
    "    a = insort_by_index(unsort, a, 1)\n",
    "print(f'Total time: {time.time() - mst}s\\nResult: {a}')"
   ]
  },
  {
   "cell_type": "code",
   "execution_count": 90,
   "metadata": {},
   "outputs": [
    {
     "name": "stdout",
     "output_type": "stream",
     "text": [
      "Total time: 3.0782127380371094s\n",
      "Result: [testtup(label='P', key=0), testtup(label='Q', key=0), testtup(label='r', key=3), testtup(label='F', key=4), testtup(label='W', key=4), testtup(label='C', key=5), testtup(label='V', key=7), testtup(label='f', key=12), testtup(label='k', key=14), testtup(label='E', key=17), testtup(label='I', key=17), testtup(label='Y', key=19), testtup(label='J', key=20), testtup(label='g', key=22), testtup(label='v', key=22), testtup(label='q', key=27), testtup(label='b', key=30), testtup(label='y', key=35), testtup(label='m', key=39), testtup(label='c', key=42), testtup(label='a', key=43), testtup(label='O', key=44), testtup(label='A', key=46), testtup(label='K', key=46), testtup(label='w', key=48), testtup(label='t', key=52), testtup(label='M', key=53), testtup(label='u', key=53), testtup(label='H', key=57), testtup(label='x', key=57), testtup(label='i', key=58), testtup(label='o', key=58), testtup(label='R', key=60), testtup(label='N', key=66), testtup(label='j', key=66), testtup(label='Z', key=68), testtup(label='l', key=71), testtup(label='U', key=74), testtup(label='X', key=74), testtup(label='T', key=77), testtup(label='z', key=77), testtup(label='G', key=78), testtup(label='L', key=81), testtup(label='n', key=86), testtup(label='D', key=88), testtup(label='p', key=88), testtup(label='B', key=89), testtup(label='e', key=89), testtup(label='d', key=91), testtup(label='s', key=91), testtup(label='h', key=92), testtup(label='S', key=99)]\n"
     ]
    }
   ],
   "source": [
    "# test bisect insort\n",
    "bist = time.time()\n",
    "for i in range(10000):\n",
    "    b = []\n",
    "    for unsort in unsorted:\n",
    "        b = bisect_insort(unsort, b, 'key')\n",
    "print(f'Total time: {time.time() - bist}s\\nResult: {b}')"
   ]
  },
  {
   "cell_type": "code",
   "execution_count": 77,
   "metadata": {},
   "outputs": [
    {
     "name": "stdout",
     "output_type": "stream",
     "text": [
      "off at 17\n",
      "off at 18\n",
      "off at 24\n",
      "off at 25\n",
      "[testtup(label='E', key=77), testtup(label='Y', key=82), testtup(label='A', key=82)]\n",
      "[testtup(label='E', key=77), testtup(label='A', key=82), testtup(label='Y', key=82)]\n"
     ]
    }
   ],
   "source": [
    "for i in range(len(a)):\n",
    "    if a[i] != b[i]:\n",
    "        print('off at {}'.format(i))\n",
    "        \n",
    "print(a[16:19])\n",
    "print(b[16:19])"
   ]
  },
  {
   "cell_type": "code",
   "execution_count": 132,
   "metadata": {},
   "outputs": [
    {
     "name": "stdout",
     "output_type": "stream",
     "text": [
      "80\n",
      "70\n",
      "72\n",
      "72\n",
      "80\n",
      "96\n",
      "80\n",
      "96\n"
     ]
    }
   ],
   "source": [
    "print(sys.getsizeof(1100.7789) + sys.getsizeof('ABCDEFG'))\n",
    "print(sys.getsizeof('1100.7789-ABCDEFGHIJK'))\n",
    "print(sys.getsizeof((110340.7789, 'ABCDEFGHIJKLMNOPQRSTUVWXYZabcdefghi')))\n",
    "cow = namedtuple('cow', ['first', 'second'])\n",
    "print(sys.getsizeof(cow(110340.7789, 'ABCDEFGHIJKLMNOPQRSTUVWXYZabcdefghi')))\n",
    "print(sys.getsizeof(((((100.46, 6000, 768))))))\n",
    "print(sys.getsizeof([(200.123, 'ABC'), (200.123, 'DEF'), (200.123, 'GHI')]))\n",
    "print(sys.getsizeof([(200.123, ['ABC', 'DEF', 'GHI'])]))\n",
    "print(sys.getsizeof([(200.123, ['ABC']), (200.123, ['DEF']), (200.123, ['GHI'])]))\n"
   ]
  },
  {
   "cell_type": "code",
   "execution_count": 106,
   "metadata": {},
   "outputs": [
    {
     "name": "stdout",
     "output_type": "stream",
     "text": [
      "b'1100.7789-ABCDEFGHIJKLMNOPQRSTUV'\n"
     ]
    }
   ],
   "source": [
    "print('1100.7789-ABCDEFGHIJKLMNOPQRSTUV'.encode('latin-1'))"
   ]
  },
  {
   "cell_type": "code",
   "execution_count": 177,
   "metadata": {},
   "outputs": [
    {
     "name": "stdout",
     "output_type": "stream",
     "text": [
      "256\n",
      "248\n"
     ]
    }
   ],
   "source": [
    "k = defaultdict(list)\n",
    "k[123].append((123.456, 'ABC'))\n",
    "print(sys.getsizeof(k))\n",
    "print(sys.getsizeof({123: [(123.456, 'ABC')]}))"
   ]
  },
  {
   "cell_type": "code",
   "execution_count": null,
   "metadata": {},
   "outputs": [],
   "source": []
  }
 ],
 "metadata": {
  "kernelspec": {
   "display_name": "Python 3",
   "language": "python",
   "name": "python3"
  },
  "language_info": {
   "codemirror_mode": {
    "name": "ipython",
    "version": 3
   },
   "file_extension": ".py",
   "mimetype": "text/x-python",
   "name": "python",
   "nbconvert_exporter": "python",
   "pygments_lexer": "ipython3",
   "version": "3.7.4"
  }
 },
 "nbformat": 4,
 "nbformat_minor": 4
}

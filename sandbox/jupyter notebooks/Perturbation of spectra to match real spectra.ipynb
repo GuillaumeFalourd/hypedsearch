{
 "cells": [
  {
   "cell_type": "markdown",
   "metadata": {},
   "source": [
    "# Mass accuracy distribution\n",
    "All peaks are off by some amount. We want to be able to catch it even when the mass is off slightly. In order to test it accurately, we must first find how much they are off\n",
    "\n",
    "We have both (1) the results of a search and (2) the raw spectrum. We can calculate all of the theoretical spectra that we know we should have, then iterate through our spectra and find out the perturbations"
   ]
  },
  {
   "cell_type": "markdown",
   "metadata": {},
   "source": [
    "## imports"
   ]
  },
  {
   "cell_type": "code",
   "execution_count": 21,
   "metadata": {},
   "outputs": [],
   "source": [
    "from pyteomics.mzxml import read as mzxmlread\n",
    "import pandas as pd\n",
    "import matplotlib.pyplot as plt\n",
    "import numpy as np\n",
    "import os\n",
    "import sys\n",
    "module_path = os.path.abspath(os.path.join('..'))\n",
    "if module_path not in sys.path:\n",
    "    sys.path.append(module_path)\n",
    "module_path = os.path.abspath(os.path.join('../..'))\n",
    "if module_path not in sys.path:\n",
    "    sys.path.append(module_path)\n",
    "    \n",
    "from src.spectra import gen_spectra\n"
   ]
  },
  {
   "cell_type": "code",
   "execution_count": 52,
   "metadata": {},
   "outputs": [
    {
     "data": {
      "text/html": [
       "<div>\n",
       "<style scoped>\n",
       "    .dataframe tbody tr th:only-of-type {\n",
       "        vertical-align: middle;\n",
       "    }\n",
       "\n",
       "    .dataframe tbody tr th {\n",
       "        vertical-align: top;\n",
       "    }\n",
       "\n",
       "    .dataframe thead th {\n",
       "        text-align: right;\n",
       "    }\n",
       "</style>\n",
       "<table border=\"1\" class=\"dataframe\">\n",
       "  <thead>\n",
       "    <tr style=\"text-align: right;\">\n",
       "      <th></th>\n",
       "      <th>number</th>\n",
       "      <th>filename</th>\n",
       "      <th>parent_charge</th>\n",
       "      <th>score</th>\n",
       "      <th>deltaForwardReverseScore</th>\n",
       "      <th>deltaRank1Rank2Score</th>\n",
       "      <th>percent_scored_peak_intensity</th>\n",
       "      <th>totalIntensity</th>\n",
       "      <th>previous_aa</th>\n",
       "      <th>sequence</th>\n",
       "      <th>next_aa</th>\n",
       "      <th>retentionTimeMin</th>\n",
       "      <th>chromatographicPeakWidthSec</th>\n",
       "      <th>parent_m_over_z</th>\n",
       "      <th>species</th>\n",
       "      <th>entry_name</th>\n",
       "    </tr>\n",
       "  </thead>\n",
       "  <tbody>\n",
       "    <tr>\n",
       "      <td>0</td>\n",
       "      <td>1</td>\n",
       "      <td>HeLa1.6011.6074.2</td>\n",
       "      <td>2</td>\n",
       "      <td>10.24</td>\n",
       "      <td>NaN</td>\n",
       "      <td>1.95</td>\n",
       "      <td>78.2</td>\n",
       "      <td>2110000.0</td>\n",
       "      <td>(R)</td>\n",
       "      <td>AILGSVER</td>\n",
       "      <td>(M)</td>\n",
       "      <td>20.70</td>\n",
       "      <td>29.0</td>\n",
       "      <td>422.7481</td>\n",
       "      <td>HUMAN</td>\n",
       "      <td>Probable threonyl-tRNA synthetase 2, cytoplasmic</td>\n",
       "    </tr>\n",
       "    <tr>\n",
       "      <td>1</td>\n",
       "      <td>2</td>\n",
       "      <td>HeLa1.14552.14552.2</td>\n",
       "      <td>2</td>\n",
       "      <td>16.03</td>\n",
       "      <td>NaN</td>\n",
       "      <td>16.03</td>\n",
       "      <td>76.6</td>\n",
       "      <td>206000.0</td>\n",
       "      <td>(K)</td>\n",
       "      <td>DASDDLDDLNFFNQK</td>\n",
       "      <td>(K)</td>\n",
       "      <td>41.85</td>\n",
       "      <td>4.0</td>\n",
       "      <td>878.8885</td>\n",
       "      <td>HUMAN</td>\n",
       "      <td>Eukaryotic translation initiation factor 2 sub...</td>\n",
       "    </tr>\n",
       "  </tbody>\n",
       "</table>\n",
       "</div>"
      ],
      "text/plain": [
       "   number             filename  parent_charge  score  \\\n",
       "0       1    HeLa1.6011.6074.2              2  10.24   \n",
       "1       2  HeLa1.14552.14552.2              2  16.03   \n",
       "\n",
       "   deltaForwardReverseScore  deltaRank1Rank2Score  \\\n",
       "0                       NaN                  1.95   \n",
       "1                       NaN                 16.03   \n",
       "\n",
       "   percent_scored_peak_intensity  totalIntensity previous_aa         sequence  \\\n",
       "0                           78.2       2110000.0         (R)         AILGSVER   \n",
       "1                           76.6        206000.0         (K)  DASDDLDDLNFFNQK   \n",
       "\n",
       "  next_aa  retentionTimeMin  chromatographicPeakWidthSec  parent_m_over_z  \\\n",
       "0     (M)             20.70                         29.0         422.7481   \n",
       "1     (K)             41.85                          4.0         878.8885   \n",
       "\n",
       "  species                                         entry_name  \n",
       "0   HUMAN   Probable threonyl-tRNA synthetase 2, cytoplasmic  \n",
       "1   HUMAN  Eukaryotic translation initiation factor 2 sub...  "
      ]
     },
     "execution_count": 52,
     "metadata": {},
     "output_type": "execute_result"
    }
   ],
   "source": [
    "# LOAD THE RESULTS FILE\n",
    "resfile = '/Users/zacharymcgrath/Downloads/HeLa1_results.ssv'\n",
    "df = pd.read_csv(resfile, sep=';')\n",
    "df.head(2)\n"
   ]
  },
  {
   "cell_type": "markdown",
   "metadata": {},
   "source": [
    "## load the mzxml\n",
    "We can quickly identify which spectrum was given which sequence via the `filename` column. Each value in the mzxml file has a key value pair that looks like\n",
    "\n",
    "`'parentFileName': 'NOD2_E3.0645.0737.2.pkl'`\n",
    "\n",
    "So if wer remove the `.pkl` value, we can quickly match these up to find the the mass error tolerances\n"
   ]
  },
  {
   "cell_type": "code",
   "execution_count": 53,
   "metadata": {},
   "outputs": [],
   "source": [
    "mzxmlfile = '/Users/zacharymcgrath/Downloads/HeLa1.mzXML'\n",
    "d = mzxmlread(mzxmlfile)\n",
    "filenameindexed = {}\n",
    "for item in d:\n",
    "    newindex = item['scanOrigin'][0]['parentFileName'].replace('.pkl', '')\n",
    "    filenameindexed[newindex] = item"
   ]
  },
  {
   "cell_type": "markdown",
   "metadata": {},
   "source": [
    "## For each sequence/spectrum match, find the peaks that are the closest match"
   ]
  },
  {
   "cell_type": "code",
   "execution_count": 54,
   "metadata": {},
   "outputs": [],
   "source": [
    "def peak_distances(observed, reference):\n",
    "    distances = []\n",
    "    for mass in observed:\n",
    "        distances.append(min([abs(mass - p) for p in reference]))\n",
    "    return distances\n",
    "\n",
    "def filter_by_intensity(masses, intensities, n):\n",
    "    pos_intensities = [(i, intens) for i, intens in enumerate(intensities)]\n",
    "    pos_intensities.sort(key=lambda x: x[1], reverse=True)\n",
    "    pos_intensities = pos_intensities[:n]\n",
    "    return [masses[i[0]] for i in pos_intensities]"
   ]
  },
  {
   "cell_type": "code",
   "execution_count": 55,
   "metadata": {},
   "outputs": [],
   "source": [
    "distances = []\n",
    "for idx, row in df.iterrows():\n",
    "    fname = row['filename']\n",
    "    reference_spectrum  = gen_spectra.gen_spectrum(row['sequence'] + 'X')['spectrum']\n",
    "    observed_spectrum = filter_by_intensity(list(filenameindexed[fname]['m/z array']), list(filenameindexed[fname]['intensity array']), 20)\n",
    "    distances += peak_distances(observed_spectrum, reference_spectrum)"
   ]
  },
  {
   "cell_type": "code",
   "execution_count": 56,
   "metadata": {},
   "outputs": [
    {
     "data": {
      "text/plain": [
       "Text(0.5, 1.0, 'mass error distribution for top 20 ion peaks')"
      ]
     },
     "execution_count": 56,
     "metadata": {},
     "output_type": "execute_result"
    },
    {
     "data": {
      "image/png": "[encoded data removed]",
      "text/plain": [
       "<Figure size 432x288 with 1 Axes>"
      ]
     },
     "metadata": {
      "needs_background": "light"
     },
     "output_type": "display_data"
    }
   ],
   "source": [
    "plt.hist(distances, bins=100)\n",
    "plt.xlabel('mass error (Da)')\n",
    "plt.ylabel('count')\n",
    "plt.title('mass error distribution for top 20 ion peaks')"
   ]
  },
  {
   "cell_type": "code",
   "execution_count": 57,
   "metadata": {},
   "outputs": [
    {
     "data": {
      "text/plain": [
       "Text(0.5, 1.0, 'mass error distribution for top 20 ion peaks')"
      ]
     },
     "execution_count": 57,
     "metadata": {},
     "output_type": "execute_result"
    },
    {
     "data": {
      "image/png": "[encoded data removed]",
      "text/plain": [
       "<Figure size 432x288 with 1 Axes>"
      ]
     },
     "metadata": {
      "needs_background": "light"
     },
     "output_type": "display_data"
    }
   ],
   "source": [
    "plt.hist(distances, bins=100, range=(0, 10))\n",
    "plt.xlabel('mass error (Da)')\n",
    "plt.ylabel('count')\n",
    "plt.title('mass error distribution for top 20 ion peaks')"
   ]
  },
  {
   "cell_type": "code",
   "execution_count": 58,
   "metadata": {},
   "outputs": [
    {
     "data": {
      "text/plain": [
       "Text(0.5, 1.0, 'mass error distribution for top 20 ion peaks')"
      ]
     },
     "execution_count": 58,
     "metadata": {},
     "output_type": "execute_result"
    },
    {
     "data": {
      "image/png": "[encoded data removed]",
      "text/plain": [
       "<Figure size 432x288 with 1 Axes>"
      ]
     },
     "metadata": {
      "needs_background": "light"
     },
     "output_type": "display_data"
    }
   ],
   "source": [
    "plt.hist(distances, bins=100, range=(0, 2))\n",
    "plt.xlabel('mass error (Da)')\n",
    "plt.ylabel('count')\n",
    "plt.title('mass error distribution for top 20 ion peaks')"
   ]
  },
  {
   "cell_type": "code",
   "execution_count": 59,
   "metadata": {},
   "outputs": [
    {
     "data": {
      "text/plain": [
       "Text(0.5, 1.0, 'mass error distribution for top 20 ion peaks')"
      ]
     },
     "execution_count": 59,
     "metadata": {},
     "output_type": "execute_result"
    },
    {
     "data": {
      "image/png": "[encoded data removed]",
      "text/plain": [
       "<Figure size 432x288 with 1 Axes>"
      ]
     },
     "metadata": {
      "needs_background": "light"
     },
     "output_type": "display_data"
    }
   ],
   "source": [
    "plt.hist(distances, bins=100, range=(0, 1))\n",
    "plt.xlabel('mass error (Da)')\n",
    "plt.ylabel('count')\n",
    "plt.title('mass error distribution for top 20 ion peaks')"
   ]
  },
  {
   "cell_type": "code",
   "execution_count": 60,
   "metadata": {},
   "outputs": [
    {
     "data": {
      "text/plain": [
       "Text(0.5, 1.0, 'mass error distribution for top 20 ion peaks')"
      ]
     },
     "execution_count": 60,
     "metadata": {},
     "output_type": "execute_result"
    },
    {
     "data": {
      "image/png": "[encoded data removed]",
      "text/plain": [
       "<Figure size 432x288 with 1 Axes>"
      ]
     },
     "metadata": {
      "needs_background": "light"
     },
     "output_type": "display_data"
    }
   ],
   "source": [
    "plt.hist(distances, bins=100, range=(0, 0.2))\n",
    "plt.xlabel('mass error (Da)')\n",
    "plt.ylabel('count')\n",
    "plt.title('mass error distribution for top 20 ion peaks')"
   ]
  },
  {
   "cell_type": "code",
   "execution_count": 61,
   "metadata": {},
   "outputs": [
    {
     "data": {
      "text/plain": [
       "Text(0.5, 1.0, 'mass error distribution for top 20 ion peaks')"
      ]
     },
     "execution_count": 61,
     "metadata": {},
     "output_type": "execute_result"
    },
    {
     "data": {
      "image/png": "[encoded data removed]",
      "text/plain": [
       "<Figure size 432x288 with 1 Axes>"
      ]
     },
     "metadata": {
      "needs_background": "light"
     },
     "output_type": "display_data"
    }
   ],
   "source": [
    "plt.hist(distances, bins=100, range=(0, 0.075))\n",
    "plt.xlabel('mass error (Da)')\n",
    "plt.ylabel('count')\n",
    "plt.title('mass error distribution for top 20 ion peaks')"
   ]
  },
  {
   "cell_type": "markdown",
   "metadata": {},
   "source": [
    "## Try and make a distribution that looks like this"
   ]
  },
  {
   "cell_type": "code",
   "execution_count": 62,
   "metadata": {},
   "outputs": [
    {
     "data": {
      "text/plain": [
       "(array([250., 134.,  80.,  76.,  67.,  48.,  49.,  47.,  32.,  32.,  22.,\n",
       "         24.,  31.,  18.,  21.,  15.,  18.,  24.,   9.,  16.,  13.,   8.,\n",
       "         13.,   7.,  13.,  13.,  10.,   2.,   7.,   4.,  11.,   7.,   4.,\n",
       "          4.,   4.,   6.,   3.,   4.,   2.,   6.,   6.,   4.,   1.,   1.,\n",
       "          4.,   3.,   1.,   1.,   3.,   3.,   0.,   0.,   2.,   2.,   0.,\n",
       "          1.,   1.,   0.,   0.,   1.,   0.,   1.,   0.,   1.,   0.,   1.,\n",
       "          1.,   1.,   1.,   0.,   1.,   1.,   0.,   1.,   0.,   0.,   0.,\n",
       "          0.,   2.,   0.,   0.,   0.,   0.,   0.,   0.,   0.,   0.,   0.,\n",
       "          0.,   0.,   0.,   0.,   0.,   0.,   0.,   0.,   0.,   0.,   0.,\n",
       "          1.]),\n",
       " array([2.63960803e-07, 4.51353833e-04, 9.02443704e-04, 1.35353358e-03,\n",
       "        1.80462345e-03, 2.25571332e-03, 2.70680319e-03, 3.15789306e-03,\n",
       "        3.60898293e-03, 4.06007281e-03, 4.51116268e-03, 4.96225255e-03,\n",
       "        5.41334242e-03, 5.86443229e-03, 6.31552217e-03, 6.76661204e-03,\n",
       "        7.21770191e-03, 7.66879178e-03, 8.11988165e-03, 8.57097152e-03,\n",
       "        9.02206140e-03, 9.47315127e-03, 9.92424114e-03, 1.03753310e-02,\n",
       "        1.08264209e-02, 1.12775108e-02, 1.17286006e-02, 1.21796905e-02,\n",
       "        1.26307804e-02, 1.30818702e-02, 1.35329601e-02, 1.39840500e-02,\n",
       "        1.44351399e-02, 1.48862297e-02, 1.53373196e-02, 1.57884095e-02,\n",
       "        1.62394993e-02, 1.66905892e-02, 1.71416791e-02, 1.75927690e-02,\n",
       "        1.80438588e-02, 1.84949487e-02, 1.89460386e-02, 1.93971284e-02,\n",
       "        1.98482183e-02, 2.02993082e-02, 2.07503981e-02, 2.12014879e-02,\n",
       "        2.16525778e-02, 2.21036677e-02, 2.25547575e-02, 2.30058474e-02,\n",
       "        2.34569373e-02, 2.39080272e-02, 2.43591170e-02, 2.48102069e-02,\n",
       "        2.52612968e-02, 2.57123867e-02, 2.61634765e-02, 2.66145664e-02,\n",
       "        2.70656563e-02, 2.75167461e-02, 2.79678360e-02, 2.84189259e-02,\n",
       "        2.88700158e-02, 2.93211056e-02, 2.97721955e-02, 3.02232854e-02,\n",
       "        3.06743752e-02, 3.11254651e-02, 3.15765550e-02, 3.20276449e-02,\n",
       "        3.24787347e-02, 3.29298246e-02, 3.33809145e-02, 3.38320043e-02,\n",
       "        3.42830942e-02, 3.47341841e-02, 3.51852740e-02, 3.56363638e-02,\n",
       "        3.60874537e-02, 3.65385436e-02, 3.69896334e-02, 3.74407233e-02,\n",
       "        3.78918132e-02, 3.83429031e-02, 3.87939929e-02, 3.92450828e-02,\n",
       "        3.96961727e-02, 4.01472625e-02, 4.05983524e-02, 4.10494423e-02,\n",
       "        4.15005322e-02, 4.19516220e-02, 4.24027119e-02, 4.28538018e-02,\n",
       "        4.33048917e-02, 4.37559815e-02, 4.42070714e-02, 4.46581613e-02,\n",
       "        4.51092511e-02]),\n",
       " <a list of 100 Patch objects>)"
      ]
     },
     "execution_count": 62,
     "metadata": {},
     "output_type": "execute_result"
    },
    {
     "data": {
      "image/png": "[encoded data removed]",
      "text/plain": [
       "<Figure size 432x288 with 1 Axes>"
      ]
     },
     "metadata": {
      "needs_background": "light"
     },
     "output_type": "display_data"
    }
   ],
   "source": [
    "points = np.random.gamma(0.6, scale=0.0075,size=1200)\n",
    "plt.hist(points, bins=100)"
   ]
  },
  {
   "cell_type": "markdown",
   "metadata": {},
   "source": [
    "# Find the missing peaks\n",
    "We will allow for at most a .05 Da m/z error. After this, we will consider a peak missing. \n",
    "The things we want to know here are:\n",
    "1. The number of missing b and y ion peaks in each spectrum\n",
    "2. The ration of b:y ion peaks that we find\n",
    "\n",
    "This will help us understand how to better align our fake spectra to real spectra"
   ]
  },
  {
   "cell_type": "code",
   "execution_count": 63,
   "metadata": {},
   "outputs": [],
   "source": [
    "def find_missing_ions(observed, reference, tolerance):\n",
    "    missing = 0\n",
    "    for mass in reference:\n",
    "        closest = min([abs(mass - p) for p in observed])\n",
    "        if closest > tolerance:\n",
    "            missing += 1\n",
    "    return missing"
   ]
  },
  {
   "cell_type": "code",
   "execution_count": 67,
   "metadata": {},
   "outputs": [
    {
     "name": "stdout",
     "output_type": "stream",
     "text": [
      "looking for missing ions in spectrum 3073/3074\r"
     ]
    }
   ],
   "source": [
    "bd, yd, bs, ys = 0, 0, 0, 0\n",
    "missing_bs, missing_ys, missing_bd, missing_yd = 0, 0, 0, 0\n",
    "bys_ratios = []\n",
    "byd_ratios = []\n",
    "Da_tol = 0.05\n",
    "for idx, row in df.iterrows():\n",
    "    print('looking for missing ions in spectrum {}/{}\\r'.format(idx, len(df)), end='')\n",
    "    fname = row['filename']\n",
    "    reference_spectrum_bs = gen_spectra.gen_spectrum(row['sequence'] + 'X', ion='b', charge=1)['spectrum']\n",
    "    bs += len(reference_spectrum_bs)\n",
    "    reference_spectrum_bd = gen_spectra.gen_spectrum(row['sequence'] + 'X', ion='b', charge=2)['spectrum']\n",
    "    bd += len(reference_spectrum_bd)\n",
    "    reference_spectrum_ys = gen_spectra.gen_spectrum(row['sequence'] + 'X', ion='y', charge=1)['spectrum']\n",
    "    ys += len(reference_spectrum_ys)\n",
    "    reference_spectrum_yd = gen_spectra.gen_spectrum(row['sequence'] + 'X', ion='y', charge=2)['spectrum']\n",
    "    yd += len(reference_spectrum_yd)\n",
    "    \n",
    "    observed_spectrum = filter_by_intensity(list(filenameindexed[fname]['m/z array']), list(filenameindexed[fname]['intensity array']), 50)\n",
    "    \n",
    "    missing_bs += find_missing_ions(observed_spectrum, reference_spectrum_bs, Da_tol)\n",
    "    missing_bd += find_missing_ions(observed_spectrum, reference_spectrum_bd, Da_tol)\n",
    "    missing_ys += find_missing_ions(observed_spectrum, reference_spectrum_ys, Da_tol)\n",
    "    missing_yd += find_missing_ions(observed_spectrum, reference_spectrum_yd, Da_tol)\n",
    "\n",
    "    bys_ratios.append((bs-missing_bs, ys-missing_ys))\n",
    "    byd_ratios.append((bd-missing_bd, yd-missing_yd))"
   ]
  },
  {
   "cell_type": "code",
   "execution_count": 68,
   "metadata": {},
   "outputs": [
    {
     "data": {
      "text/plain": [
       "Text(0.5, 1.0, 'missing ion percentage by ion type of top 50 peaks HeLa')"
      ]
     },
     "execution_count": 68,
     "metadata": {},
     "output_type": "execute_result"
    },
    {
     "data": {
      "image/png": "[encoded data removed]",
      "text/plain": [
       "<Figure size 432x288 with 1 Axes>"
      ]
     },
     "metadata": {
      "needs_background": "light"
     },
     "output_type": "display_data"
    }
   ],
   "source": [
    "missing_bs_percent = 100 * missing_bs / bs \n",
    "missing_bd_percent = 100 * missing_bd / bd\n",
    "missing_ys_percent = 100 * missing_ys / ys\n",
    "missing_yd_percent = 100 * missing_yd / yd\n",
    "total_ratio = 100 * (missing_bs + missing_bd + missing_ys + missing_yd) / (bs + bd + ys + yd)\n",
    "\n",
    "plt.bar(0, missing_bs_percent, color='red', label='missing')\n",
    "plt.bar(0, 100-missing_bs_percent, color='blue', bottom=missing_bs_percent, label='total')\n",
    "plt.bar(1, missing_bd_percent, color='red')\n",
    "plt.bar(1, 100-missing_bd_percent, color='blue', bottom=missing_bd_percent)\n",
    "plt.bar(2, missing_ys_percent, color='red')\n",
    "plt.bar(2, 100-missing_ys_percent, color='blue', bottom=missing_ys_percent)\n",
    "plt.bar(3, missing_yd_percent, color='red')\n",
    "plt.bar(3, 100-missing_yd_percent, color='blue', bottom=missing_yd_percent)\n",
    "plt.bar(5, total_ratio, color='red')\n",
    "plt.bar(5, 100-total_ratio, color='blue', bottom=total_ratio)\n",
    "plt.bar(7, 0)\n",
    "\n",
    "for threshold in [20, 40, 60, 80]:\n",
    "    plt.axhline(y=threshold, linewidth=2, color='black', ls='--')\n",
    "\n",
    "plt.ylabel('percent')\n",
    "plt.xticks([0, 1, 2, 3, 5], ['b +', 'b ++', 'y +', 'y ++', 'total ratio'])\n",
    "plt.legend()\n",
    "plt.title('missing ion percentage by ion type of top 50 peaks HeLa')"
   ]
  },
  {
   "cell_type": "code",
   "execution_count": null,
   "metadata": {},
   "outputs": [],
   "source": []
  }
 ],
 "metadata": {
  "kernelspec": {
   "display_name": "Python 3",
   "language": "python",
   "name": "python3"
  },
  "language_info": {
   "codemirror_mode": {
    "name": "ipython",
    "version": 3
   },
   "file_extension": ".py",
   "mimetype": "text/x-python",
   "name": "python",
   "nbconvert_exporter": "python",
   "pygments_lexer": "ipython3",
   "version": "3.7.4"
  }
 },
 "nbformat": 4,
 "nbformat_minor": 4
}

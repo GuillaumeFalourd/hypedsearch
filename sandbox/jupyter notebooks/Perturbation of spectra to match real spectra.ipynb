{
 "cells": [
  {
   "cell_type": "markdown",
   "metadata": {},
   "source": [
    "# Mass accuracy distribution\n",
    "All peaks are off by some amount. We want to be able to catch it even when the mass is off slightly. In order to test it accurately, we must first find how much they are off\n",
    "\n",
    "We have both (1) the results of a search and (2) the raw spectrum. We can calculate all of the theoretical spectra that we know we should have, then iterate through our spectra and find out the perturbations"
   ]
  },
  {
   "cell_type": "markdown",
   "metadata": {},
   "source": [
    "## imports"
   ]
  },
  {
   "cell_type": "code",
   "execution_count": 51,
   "metadata": {},
   "outputs": [],
   "source": [
    "from pyteomics.mzxml import read as mzxmlread\n",
    "import pandas as pd\n",
    "import matplotlib.pyplot as plt\n",
    "import numpy as np\n",
    "import os\n",
    "import sys\n",
    "module_path = os.path.abspath(os.path.join('..'))\n",
    "if module_path not in sys.path:\n",
    "    sys.path.append(module_path)\n",
    "module_path = os.path.abspath(os.path.join('../..'))\n",
    "if module_path not in sys.path:\n",
    "    sys.path.append(module_path)\n",
    "    \n",
    "from src.spectra import gen_spectra\n"
   ]
  },
  {
   "cell_type": "code",
   "execution_count": 52,
   "metadata": {},
   "outputs": [
    {
     "data": {
      "text/html": [
       "<div>\n",
       "<style scoped>\n",
       "    .dataframe tbody tr th:only-of-type {\n",
       "        vertical-align: middle;\n",
       "    }\n",
       "\n",
       "    .dataframe tbody tr th {\n",
       "        vertical-align: top;\n",
       "    }\n",
       "\n",
       "    .dataframe thead th {\n",
       "        text-align: right;\n",
       "    }\n",
       "</style>\n",
       "<table border=\"1\" class=\"dataframe\">\n",
       "  <thead>\n",
       "    <tr style=\"text-align: right;\">\n",
       "      <th></th>\n",
       "      <th>number</th>\n",
       "      <th>filename</th>\n",
       "      <th>parent_charge</th>\n",
       "      <th>score</th>\n",
       "      <th>deltaForwardReverseScore</th>\n",
       "      <th>deltaRank1Rank2Score</th>\n",
       "      <th>percent_scored_peak_intensity</th>\n",
       "      <th>totalIntensity</th>\n",
       "      <th>previous_aa</th>\n",
       "      <th>sequence</th>\n",
       "      <th>next_aa</th>\n",
       "      <th>retentionTimeMin</th>\n",
       "      <th>chromatographicPeakWidthSec</th>\n",
       "      <th>parent_m_over_z</th>\n",
       "      <th>species</th>\n",
       "      <th>entry_name</th>\n",
       "    </tr>\n",
       "  </thead>\n",
       "  <tbody>\n",
       "    <tr>\n",
       "      <td>0</td>\n",
       "      <td>1</td>\n",
       "      <td>HeLa1.6011.6074.2</td>\n",
       "      <td>2</td>\n",
       "      <td>10.24</td>\n",
       "      <td>NaN</td>\n",
       "      <td>1.95</td>\n",
       "      <td>78.2</td>\n",
       "      <td>2110000.0</td>\n",
       "      <td>(R)</td>\n",
       "      <td>AILGSVER</td>\n",
       "      <td>(M)</td>\n",
       "      <td>20.70</td>\n",
       "      <td>29.0</td>\n",
       "      <td>422.7481</td>\n",
       "      <td>HUMAN</td>\n",
       "      <td>Probable threonyl-tRNA synthetase 2, cytoplasmic</td>\n",
       "    </tr>\n",
       "    <tr>\n",
       "      <td>1</td>\n",
       "      <td>2</td>\n",
       "      <td>HeLa1.14552.14552.2</td>\n",
       "      <td>2</td>\n",
       "      <td>16.03</td>\n",
       "      <td>NaN</td>\n",
       "      <td>16.03</td>\n",
       "      <td>76.6</td>\n",
       "      <td>206000.0</td>\n",
       "      <td>(K)</td>\n",
       "      <td>DASDDLDDLNFFNQK</td>\n",
       "      <td>(K)</td>\n",
       "      <td>41.85</td>\n",
       "      <td>4.0</td>\n",
       "      <td>878.8885</td>\n",
       "      <td>HUMAN</td>\n",
       "      <td>Eukaryotic translation initiation factor 2 sub...</td>\n",
       "    </tr>\n",
       "  </tbody>\n",
       "</table>\n",
       "</div>"
      ],
      "text/plain": [
       "   number             filename  parent_charge  score  \\\n",
       "0       1    HeLa1.6011.6074.2              2  10.24   \n",
       "1       2  HeLa1.14552.14552.2              2  16.03   \n",
       "\n",
       "   deltaForwardReverseScore  deltaRank1Rank2Score  \\\n",
       "0                       NaN                  1.95   \n",
       "1                       NaN                 16.03   \n",
       "\n",
       "   percent_scored_peak_intensity  totalIntensity previous_aa         sequence  \\\n",
       "0                           78.2       2110000.0         (R)         AILGSVER   \n",
       "1                           76.6        206000.0         (K)  DASDDLDDLNFFNQK   \n",
       "\n",
       "  next_aa  retentionTimeMin  chromatographicPeakWidthSec  parent_m_over_z  \\\n",
       "0     (M)             20.70                         29.0         422.7481   \n",
       "1     (K)             41.85                          4.0         878.8885   \n",
       "\n",
       "  species                                         entry_name  \n",
       "0   HUMAN   Probable threonyl-tRNA synthetase 2, cytoplasmic  \n",
       "1   HUMAN  Eukaryotic translation initiation factor 2 sub...  "
      ]
     },
     "execution_count": 52,
     "metadata": {},
     "output_type": "execute_result"
    }
   ],
   "source": [
    "# LOAD THE RESULTS FILE\n",
    "resfile = '/Users/zacharymcgrath/Downloads/HeLa1_results.ssv'\n",
    "df = pd.read_csv(resfile, sep=';')\n",
    "df.head(2)\n"
   ]
  },
  {
   "cell_type": "markdown",
   "metadata": {},
   "source": [
    "## load the mzxml\n",
    "We can quickly identify which spectrum was given which sequence via the `filename` column. Each value in the mzxml file has a key value pair that looks like\n",
    "\n",
    "`'parentFileName': 'NOD2_E3.0645.0737.2.pkl'`\n",
    "\n",
    "So if wer remove the `.pkl` value, we can quickly match these up to find the the mass error tolerances\n"
   ]
  },
  {
   "cell_type": "code",
   "execution_count": 53,
   "metadata": {},
   "outputs": [],
   "source": [
    "mzxmlfile = '/Users/zacharymcgrath/Downloads/HeLa1.mzXML'\n",
    "d = mzxmlread(mzxmlfile)\n",
    "filenameindexed = {}\n",
    "for item in d:\n",
    "    newindex = item['scanOrigin'][0]['parentFileName'].replace('.pkl', '')\n",
    "    filenameindexed[newindex] = item"
   ]
  },
  {
   "cell_type": "markdown",
   "metadata": {},
   "source": [
    "## For each sequence/spectrum match, find the peaks that are the closest match"
   ]
  },
  {
   "cell_type": "code",
   "execution_count": 54,
   "metadata": {},
   "outputs": [],
   "source": [
    "def peak_distances(observed, reference):\n",
    "    distances = []\n",
    "    for mass in observed:\n",
    "        distances.append(min([abs(mass - p) for p in reference]))\n",
    "    return distances\n",
    "\n",
    "def filter_by_intensity(masses, intensities, n):\n",
    "    pos_intensities = [(i, intens) for i, intens in enumerate(intensities)]\n",
    "    pos_intensities.sort(key=lambda x: x[1], reverse=True)\n",
    "    pos_intensities = pos_intensities[:n]\n",
    "    return [masses[i[0]] for i in pos_intensities]"
   ]
  },
  {
   "cell_type": "code",
   "execution_count": 55,
   "metadata": {},
   "outputs": [],
   "source": [
    "distances = []\n",
    "for idx, row in df.iterrows():\n",
    "    fname = row['filename']\n",
    "    reference_spectrum  = gen_spectra.gen_spectrum(row['sequence'] + 'X')['spectrum']\n",
    "    observed_spectrum = filter_by_intensity(list(filenameindexed[fname]['m/z array']), list(filenameindexed[fname]['intensity array']), 20)\n",
    "    distances += peak_distances(observed_spectrum, reference_spectrum)"
   ]
  },
  {
   "cell_type": "code",
   "execution_count": 56,
   "metadata": {},
   "outputs": [
    {
     "data": {
      "text/plain": [
       "Text(0.5, 1.0, 'mass error distribution for top 20 ion peaks')"
      ]
     },
     "execution_count": 56,
     "metadata": {},
     "output_type": "execute_result"
    },
    {
     "data": {
      "image/png": "[encoded data removed]",
      "text/plain": [
       "<Figure size 432x288 with 1 Axes>"
      ]
     },
     "metadata": {
      "needs_background": "light"
     },
     "output_type": "display_data"
    }
   ],
   "source": [
    "plt.hist(distances, bins=100)\n",
    "plt.xlabel('mass error (Da)')\n",
    "plt.ylabel('count')\n",
    "plt.title('mass error distribution for top 20 ion peaks')"
   ]
  },
  {
   "cell_type": "code",
   "execution_count": 57,
   "metadata": {},
   "outputs": [
    {
     "data": {
      "text/plain": [
       "Text(0.5, 1.0, 'mass error distribution for top 20 ion peaks')"
      ]
     },
     "execution_count": 57,
     "metadata": {},
     "output_type": "execute_result"
    },
    {
     "data": {
      "image/png": "[encoded data removed]",
      "text/plain": [
       "<Figure size 432x288 with 1 Axes>"
      ]
     },
     "metadata": {
      "needs_background": "light"
     },
     "output_type": "display_data"
    }
   ],
   "source": [
    "plt.hist(distances, bins=100, range=(0, 10))\n",
    "plt.xlabel('mass error (Da)')\n",
    "plt.ylabel('count')\n",
    "plt.title('mass error distribution for top 20 ion peaks')"
   ]
  },
  {
   "cell_type": "code",
   "execution_count": 58,
   "metadata": {},
   "outputs": [
    {
     "data": {
      "text/plain": [
       "Text(0.5, 1.0, 'mass error distribution for top 20 ion peaks')"
      ]
     },
     "execution_count": 58,
     "metadata": {},
     "output_type": "execute_result"
    },
    {
     "data": {
      "image/png": "[encoded data removed]",
      "text/plain": [
       "<Figure size 432x288 with 1 Axes>"
      ]
     },
     "metadata": {
      "needs_background": "light"
     },
     "output_type": "display_data"
    }
   ],
   "source": [
    "plt.hist(distances, bins=100, range=(0, 2))\n",
    "plt.xlabel('mass error (Da)')\n",
    "plt.ylabel('count')\n",
    "plt.title('mass error distribution for top 20 ion peaks')"
   ]
  },
  {
   "cell_type": "code",
   "execution_count": 59,
   "metadata": {},
   "outputs": [
    {
     "data": {
      "text/plain": [
       "Text(0.5, 1.0, 'mass error distribution for top 20 ion peaks')"
      ]
     },
     "execution_count": 59,
     "metadata": {},
     "output_type": "execute_result"
    },
    {
     "data": {
      "image/png": "[encoded data removed]",
      "text/plain": [
       "<Figure size 432x288 with 1 Axes>"
      ]
     },
     "metadata": {
      "needs_background": "light"
     },
     "output_type": "display_data"
    }
   ],
   "source": [
    "plt.hist(distances, bins=100, range=(0, 1))\n",
    "plt.xlabel('mass error (Da)')\n",
    "plt.ylabel('count')\n",
    "plt.title('mass error distribution for top 20 ion peaks')"
   ]
  },
  {
   "cell_type": "code",
   "execution_count": 60,
   "metadata": {},
   "outputs": [
    {
     "data": {
      "text/plain": [
       "Text(0.5, 1.0, 'mass error distribution for top 20 ion peaks')"
      ]
     },
     "execution_count": 60,
     "metadata": {},
     "output_type": "execute_result"
    },
    {
     "data": {
      "image/png": "[encoded data removed]",
      "text/plain": [
       "<Figure size 432x288 with 1 Axes>"
      ]
     },
     "metadata": {
      "needs_background": "light"
     },
     "output_type": "display_data"
    }
   ],
   "source": [
    "plt.hist(distances, bins=100, range=(0, 0.2))\n",
    "plt.xlabel('mass error (Da)')\n",
    "plt.ylabel('count')\n",
    "plt.title('mass error distribution for top 20 ion peaks')"
   ]
  },
  {
   "cell_type": "code",
   "execution_count": 61,
   "metadata": {},
   "outputs": [
    {
     "data": {
      "text/plain": [
       "Text(0.5, 1.0, 'mass error distribution for top 20 ion peaks')"
      ]
     },
     "execution_count": 61,
     "metadata": {},
     "output_type": "execute_result"
    },
    {
     "data": {
      "image/png": "[encoded data removed]",
      "text/plain": [
       "<Figure size 432x288 with 1 Axes>"
      ]
     },
     "metadata": {
      "needs_background": "light"
     },
     "output_type": "display_data"
    }
   ],
   "source": [
    "plt.hist(distances, bins=100, range=(0, 0.075))\n",
    "plt.xlabel('mass error (Da)')\n",
    "plt.ylabel('count')\n",
    "plt.title('mass error distribution for top 20 ion peaks')"
   ]
  },
  {
   "cell_type": "markdown",
   "metadata": {},
   "source": [
    "## Try and make a distribution that looks like this"
   ]
  },
  {
   "cell_type": "code",
   "execution_count": 62,
   "metadata": {},
   "outputs": [
    {
     "data": {
      "text/plain": [
       "(array([281., 146., 112.,  94.,  71.,  69.,  40.,  40.,  33.,  27.,  25.,\n",
       "         25.,  24.,  14.,  24.,  16.,  17.,  11.,   7.,   8.,   8.,  13.,\n",
       "          2.,   8.,   9.,  12.,   5.,   2.,   5.,   0.,   5.,   4.,   3.,\n",
       "          0.,   2.,   3.,   7.,   1.,   0.,   2.,   3.,   4.,   2.,   2.,\n",
       "          2.,   1.,   0.,   3.,   0.,   1.,   0.,   0.,   1.,   0.,   0.,\n",
       "          0.,   0.,   0.,   0.,   1.,   0.,   0.,   0.,   0.,   0.,   0.,\n",
       "          0.,   1.,   0.,   0.,   0.,   0.,   1.,   0.,   1.,   0.,   0.,\n",
       "          0.,   0.,   0.,   0.,   0.,   0.,   1.,   0.,   0.,   0.,   0.,\n",
       "          0.,   0.,   0.,   0.,   0.,   0.,   0.,   0.,   0.,   0.,   0.,\n",
       "          1.]),\n",
       " array([3.92302422e-07, 6.00390906e-04, 1.20038951e-03, 1.80038811e-03,\n",
       "        2.40038672e-03, 3.00038532e-03, 3.60038392e-03, 4.20038253e-03,\n",
       "        4.80038113e-03, 5.40037973e-03, 6.00037834e-03, 6.60037694e-03,\n",
       "        7.20037555e-03, 7.80037415e-03, 8.40037275e-03, 9.00037136e-03,\n",
       "        9.60036996e-03, 1.02003686e-02, 1.08003672e-02, 1.14003658e-02,\n",
       "        1.20003644e-02, 1.26003630e-02, 1.32003616e-02, 1.38003602e-02,\n",
       "        1.44003588e-02, 1.50003574e-02, 1.56003560e-02, 1.62003546e-02,\n",
       "        1.68003532e-02, 1.74003518e-02, 1.80003504e-02, 1.86003490e-02,\n",
       "        1.92003476e-02, 1.98003462e-02, 2.04003448e-02, 2.10003434e-02,\n",
       "        2.16003420e-02, 2.22003406e-02, 2.28003392e-02, 2.34003378e-02,\n",
       "        2.40003364e-02, 2.46003350e-02, 2.52003337e-02, 2.58003323e-02,\n",
       "        2.64003309e-02, 2.70003295e-02, 2.76003281e-02, 2.82003267e-02,\n",
       "        2.88003253e-02, 2.94003239e-02, 3.00003225e-02, 3.06003211e-02,\n",
       "        3.12003197e-02, 3.18003183e-02, 3.24003169e-02, 3.30003155e-02,\n",
       "        3.36003141e-02, 3.42003127e-02, 3.48003113e-02, 3.54003099e-02,\n",
       "        3.60003085e-02, 3.66003071e-02, 3.72003057e-02, 3.78003043e-02,\n",
       "        3.84003029e-02, 3.90003015e-02, 3.96003001e-02, 4.02002987e-02,\n",
       "        4.08002973e-02, 4.14002959e-02, 4.20002946e-02, 4.26002932e-02,\n",
       "        4.32002918e-02, 4.38002904e-02, 4.44002890e-02, 4.50002876e-02,\n",
       "        4.56002862e-02, 4.62002848e-02, 4.68002834e-02, 4.74002820e-02,\n",
       "        4.80002806e-02, 4.86002792e-02, 4.92002778e-02, 4.98002764e-02,\n",
       "        5.04002750e-02, 5.10002736e-02, 5.16002722e-02, 5.22002708e-02,\n",
       "        5.28002694e-02, 5.34002680e-02, 5.40002666e-02, 5.46002652e-02,\n",
       "        5.52002638e-02, 5.58002624e-02, 5.64002610e-02, 5.70002596e-02,\n",
       "        5.76002582e-02, 5.82002568e-02, 5.88002555e-02, 5.94002541e-02,\n",
       "        6.00002527e-02]),\n",
       " <a list of 100 Patch objects>)"
      ]
     },
     "execution_count": 62,
     "metadata": {},
     "output_type": "execute_result"
    },
    {
     "data": {
      "image/png": "[encoded data removed]",
      "text/plain": [
       "<Figure size 432x288 with 1 Axes>"
      ]
     },
     "metadata": {
      "needs_background": "light"
     },
     "output_type": "display_data"
    }
   ],
   "source": [
    "points = np.random.gamma(0.6, scale=0.0075,size=1200)\n",
    "plt.hist(points, bins=100)"
   ]
  },
  {
   "cell_type": "markdown",
   "metadata": {},
   "source": [
    "# Find the missing peaks\n",
    "We will allow for at most a .05 Da m/z error. After this, we will consider a peak missing. \n",
    "The things we want to know here are:\n",
    "1. The number of missing b and y ion peaks in each spectrum\n",
    "2. The ration of b:y ion peaks that we find\n",
    "\n",
    "This will help us understand how to better align our fake spectra to real spectra"
   ]
  },
  {
   "cell_type": "code",
   "execution_count": 63,
   "metadata": {},
   "outputs": [],
   "source": [
    "def find_missing_ions(observed, reference, tolerance):\n",
    "    missing = 0\n",
    "    for mass in reference:\n",
    "        closest = min([abs(mass - p) for p in observed])\n",
    "        if closest > tolerance:\n",
    "            missing += 1\n",
    "    return missing"
   ]
  },
  {
   "cell_type": "code",
   "execution_count": 64,
   "metadata": {},
   "outputs": [
    {
     "name": "stdout",
     "output_type": "stream",
     "text": [
      "looking for missing ions in spectrum 3073/3074\r"
     ]
    }
   ],
   "source": [
    "bd, yd, bs, ys = 0, 0, 0, 0\n",
    "missing_bs, missing_ys, missing_bd, missing_yd = 0, 0, 0, 0\n",
    "bys_ratios = []\n",
    "byd_ratios = []\n",
    "Da_tol = 0.05\n",
    "for idx, row in df.iterrows():\n",
    "    print('looking for missing ions in spectrum {}/{}\\r'.format(idx, len(df)), end='')\n",
    "    fname = row['filename']\n",
    "    reference_spectrum_bs = gen_spectra.gen_spectrum(row['sequence'] + 'X', ion='b', charge=1)['spectrum']\n",
    "    bs += len(reference_spectrum_bs)\n",
    "    reference_spectrum_bd = gen_spectra.gen_spectrum(row['sequence'] + 'X', ion='b', charge=2)['spectrum']\n",
    "    bd += len(reference_spectrum_bd)\n",
    "    reference_spectrum_ys = gen_spectra.gen_spectrum(row['sequence'] + 'X', ion='y', charge=1)['spectrum']\n",
    "    ys += len(reference_spectrum_ys)\n",
    "    reference_spectrum_yd = gen_spectra.gen_spectrum(row['sequence'] + 'X', ion='y', charge=2)['spectrum']\n",
    "    yd += len(reference_spectrum_yd)\n",
    "    \n",
    "#     observed_spectrum = filter_by_intensity(list(filenameindexed[fname]['m/z array']), list(filenameindexed[fname]['intensity array']), 50)\n",
    "    observed_spectrum = list(filenameindexed[fname]['m/z array'])\n",
    "    \n",
    "    missing_bs += find_missing_ions(observed_spectrum, reference_spectrum_bs, Da_tol)\n",
    "    missing_bd += find_missing_ions(observed_spectrum, reference_spectrum_bd, Da_tol)\n",
    "    missing_ys += find_missing_ions(observed_spectrum, reference_spectrum_ys, Da_tol)\n",
    "    missing_yd += find_missing_ions(observed_spectrum, reference_spectrum_yd, Da_tol)\n",
    "\n",
    "    bys_ratios.append((bs-missing_bs, ys-missing_ys))\n",
    "    byd_ratios.append((bd-missing_bd, yd-missing_yd))"
   ]
  },
  {
   "cell_type": "code",
   "execution_count": 65,
   "metadata": {},
   "outputs": [
    {
     "data": {
      "text/plain": [
       "<matplotlib.legend.Legend at 0x11dd31290>"
      ]
     },
     "execution_count": 65,
     "metadata": {},
     "output_type": "execute_result"
    },
    {
     "data": {
      "image/png": "[encoded data removed]",
      "text/plain": [
       "<Figure size 432x288 with 1 Axes>"
      ]
     },
     "metadata": {
      "needs_background": "light"
     },
     "output_type": "display_data"
    }
   ],
   "source": [
    "missing_bs_percent = 100 * missing_bs / bs \n",
    "missing_bd_percent = 100 * missing_bd / bd\n",
    "missing_ys_percent = 100 * missing_ys / ys\n",
    "missing_yd_percent = 100 * missing_yd / yd\n",
    "\n",
    "plt.bar(0, missing_bs_percent, color='red', label='missing')\n",
    "plt.bar(0, 100-missing_bs_percent, color='blue', bottom=missing_bs_percent, label='total')\n",
    "plt.bar(1, missing_bd_percent, color='red')\n",
    "plt.bar(1, 100-missing_bd_percent, color='blue', bottom=missing_bd_percent)\n",
    "plt.bar(2, missing_ys_percent, color='red')\n",
    "plt.bar(2, 100-missing_ys_percent, color='blue', bottom=missing_ys_percent)\n",
    "plt.bar(3, missing_yd_percent, color='red')\n",
    "plt.bar(3, 100-missing_yd_percent, color='blue', bottom=missing_yd_percent)\n",
    "plt.bar(5, 0)\n",
    "plt.ylabel('percent')\n",
    "plt.xticks([0, 1, 2, 3], ['singly b', 'doubly b', 'singly y', 'doubly y'])\n",
    "plt.legend()"
   ]
  },
  {
   "cell_type": "code",
   "execution_count": 80,
   "metadata": {},
   "outputs": [
    {
     "name": "stdout",
     "output_type": "stream",
     "text": [
      "looking for missing ions in spectrum 0/3074\r",
      "AILGSVER\n"
     ]
    }
   ],
   "source": [
    "observed = None\n",
    "reference = None\n",
    "for idx, row in df.iterrows():\n",
    "    fname = row['filename']\n",
    "    reference_spectrum_bs = gen_spectra.gen_spectrum(row['sequence'] + 'X', ion='b', charge=1)['spectrum']\n",
    "    bs += len(reference_spectrum_bs)\n",
    "    reference_spectrum_bd = gen_spectra.gen_spectrum(row['sequence'] + 'X', ion='b', charge=2)['spectrum']\n",
    "    bd += len(reference_spectrum_bd)\n",
    "    reference_spectrum_ys = gen_spectra.gen_spectrum(row['sequence'] + 'X', ion='y', charge=1)['spectrum']\n",
    "    ys += len(reference_spectrum_ys)\n",
    "    reference_spectrum_yd = gen_spectra.gen_spectrum(row['sequence'] + 'X', ion='y', charge=2)['spectrum']\n",
    "    yd += len(reference_spectrum_yd)\n",
    "    \n",
    "#   observed_spectrum = filter_by_intensity(list(filenameindexed[fname]['m/z array']), list(filenameindexed[fname]['intensity array']), 50)\n",
    "    observed = (list(filenameindexed[fname]['m/z array']), list(filenameindexed[fname]['intensity array']))\n",
    "    reference = gen_spectra.gen_spectrum(row['sequence'])['spectrum']\n",
    "    print(row['sequence'])\n",
    "    break\n",
    "    "
   ]
  },
  {
   "cell_type": "code",
   "execution_count": 97,
   "metadata": {},
   "outputs": [
    {
     "data": {
      "text/plain": [
       "<BarContainer object of 28 artists>"
      ]
     },
     "execution_count": 97,
     "metadata": {},
     "output_type": "execute_result"
    },
    {
     "data": {
      "image/png": "[encoded data removed]",
      "text/plain": [
       "<Figure size 432x288 with 1 Axes>"
      ]
     },
     "metadata": {
      "needs_background": "light"
     },
     "output_type": "display_data"
    }
   ],
   "source": [
    "plt.bar(observed[0], [x/500000  for x in observed[1]], color='red', label='observed spectrum', width=5)\n",
    "plt.bar(reference, [0.02 for _ in range(len(reference))], color='blue', label='theoretical', width=5)"
   ]
  },
  {
   "cell_type": "code",
   "execution_count": 71,
   "metadata": {},
   "outputs": [
    {
     "name": "stdout",
     "output_type": "stream",
     "text": [
      "9\n"
     ]
    }
   ],
   "source": [
    "print(np.argmax(observed[1]))"
   ]
  },
  {
   "cell_type": "code",
   "execution_count": 79,
   "metadata": {},
   "outputs": [
    {
     "data": {
      "text/plain": [
       "[60.04375,\n",
       " 70.02783,\n",
       " 70.064865,\n",
       " 72.08075,\n",
       " 73.08501,\n",
       " 74.06028,\n",
       " 83.06042,\n",
       " 84.04428,\n",
       " 84.08029,\n",
       " 86.09644,\n",
       " 86.15644,\n",
       " 87.09922,\n",
       " 97.07643,\n",
       " 99.42729,\n",
       " 100.038445,\n",
       " 101.069466,\n",
       " 102.05449,\n",
       " 104.05283,\n",
       " 104.74212,\n",
       " 105.06535,\n",
       " 110.071625,\n",
       " 112.086464,\n",
       " 114.088036,\n",
       " 115.08356,\n",
       " 116.01459,\n",
       " 116.06856,\n",
       " 120.08067,\n",
       " 126.052826,\n",
       " 127.08543,\n",
       " 128.0519,\n",
       " 129.06602,\n",
       " 129.10266,\n",
       " 130.04674,\n",
       " 130.08362,\n",
       " 130.08864,\n",
       " 133.04256,\n",
       " 133.09492,\n",
       " 136.07584,\n",
       " 141.10155,\n",
       " 144.07729,\n",
       " 147.11255,\n",
       " 151.08675,\n",
       " 154.04927,\n",
       " 154.15851,\n",
       " 156.07362,\n",
       " 157.09552,\n",
       " 157.10744,\n",
       " 157.13329,\n",
       " 157.17894,\n",
       " 157.21397,\n",
       " 158.00705,\n",
       " 158.0768,\n",
       " 158.09097,\n",
       " 158.09557,\n",
       " 158.13635,\n",
       " 159.11029,\n",
       " 159.1153,\n",
       " 168.07669,\n",
       " 168.1222,\n",
       " 169.0944,\n",
       " 169.13382,\n",
       " 171.11214,\n",
       " 171.15005,\n",
       " 172.11739,\n",
       " 173.08852,\n",
       " 173.09335,\n",
       " 173.13045,\n",
       " 175.11911,\n",
       " 176.12152,\n",
       " 179.04839,\n",
       " 180.10622,\n",
       " 183.11281,\n",
       " 185.09082,\n",
       " 185.12834,\n",
       " 185.1784,\n",
       " 185.20206,\n",
       " 186.1311,\n",
       " 188.13956,\n",
       " 195.11063,\n",
       " 196.1419,\n",
       " 197.0704,\n",
       " 197.12994,\n",
       " 199.1462,\n",
       " 199.18047,\n",
       " 199.62839,\n",
       " 200.04878,\n",
       " 200.09776,\n",
       " 200.13933,\n",
       " 200.18388,\n",
       " 201.08504,\n",
       " 201.12346,\n",
       " 202.12717,\n",
       " 206.09418,\n",
       " 207.11284,\n",
       " 210.14732,\n",
       " 211.00813,\n",
       " 211.11005,\n",
       " 211.14218,\n",
       " 213.03076,\n",
       " 213.08026,\n",
       " 213.1563,\n",
       " 215.13696,\n",
       " 216.1399,\n",
       " 218.14523,\n",
       " 221.09663,\n",
       " 221.1294,\n",
       " 223.10515,\n",
       " 224.14131,\n",
       " 224.15642,\n",
       " 225.19524,\n",
       " 225.64566,\n",
       " 226.08034,\n",
       " 226.12361,\n",
       " 226.15259,\n",
       " 227.13142,\n",
       " 227.17543,\n",
       " 228.13174,\n",
       " 228.18182,\n",
       " 229.1295,\n",
       " 233.62997,\n",
       " 235.11632,\n",
       " 236.6331,\n",
       " 237.13058,\n",
       " 240.13663,\n",
       " 242.14857,\n",
       " 243.13127,\n",
       " 244.09138,\n",
       " 244.13396,\n",
       " 244.16498,\n",
       " 245.17259,\n",
       " 245.63258,\n",
       " 248.06984,\n",
       " 248.15596,\n",
       " 253.19185,\n",
       " 254.1484,\n",
       " 254.19897,\n",
       " 255.10857,\n",
       " 255.1662,\n",
       " 258.1435,\n",
       " 261.1558,\n",
       " 262.14572,\n",
       " 263.1326,\n",
       " 264.09686,\n",
       " 266.124,\n",
       " 269.12683,\n",
       " 270.14542,\n",
       " 270.1944,\n",
       " 274.18964,\n",
       " 275.17517,\n",
       " 276.10092,\n",
       " 276.1745,\n",
       " 280.12894,\n",
       " 283.65262,\n",
       " 286.1413,\n",
       " 287.10144,\n",
       " 287.1356,\n",
       " 287.17252,\n",
       " 288.1609,\n",
       " 288.61826,\n",
       " 294.1152,\n",
       " 298.20782,\n",
       " 298.6223,\n",
       " 300.6606,\n",
       " 308.15918,\n",
       " 308.20636,\n",
       " 308.66486,\n",
       " 310.69147,\n",
       " 311.20554,\n",
       " 312.1941,\n",
       " 313.1862,\n",
       " 314.1432,\n",
       " 314.16727,\n",
       " 316.1492,\n",
       " 317.1797,\n",
       " 318.69998,\n",
       " 319.6889,\n",
       " 321.6801,\n",
       " 322.18976,\n",
       " 324.85547,\n",
       " 327.23438,\n",
       " 327.65695,\n",
       " 328.2097,\n",
       " 328.70618,\n",
       " 329.21875,\n",
       " 330.63748,\n",
       " 330.6899,\n",
       " 331.13452,\n",
       " 331.1865,\n",
       " 336.21277,\n",
       " 336.66635,\n",
       " 336.69025,\n",
       " 337.18384,\n",
       " 337.66818,\n",
       " 338.67682,\n",
       " 339.2069,\n",
       " 340.13837,\n",
       " 340.16003,\n",
       " 341.1061,\n",
       " 343.14188,\n",
       " 344.1981,\n",
       " 345.16974,\n",
       " 345.6576,\n",
       " 346.71667,\n",
       " 348.17853,\n",
       " 348.2083,\n",
       " 349.16385,\n",
       " 349.72418,\n",
       " 350.14307,\n",
       " 351.19803,\n",
       " 354.17044,\n",
       " 356.2032,\n",
       " 357.1755,\n",
       " 357.2077,\n",
       " 360.1319,\n",
       " 361.14685,\n",
       " 362.20947,\n",
       " 363.18463,\n",
       " 365.17346,\n",
       " 365.5203,\n",
       " 369.1401,\n",
       " 371.17126,\n",
       " 371.21793,\n",
       " 372.1859,\n",
       " 373.17374,\n",
       " 374.2284,\n",
       " 375.20718,\n",
       " 378.7366,\n",
       " 380.7027,\n",
       " 381.2357,\n",
       " 384.1483,\n",
       " 385.25146,\n",
       " 386.21106,\n",
       " 387.21567,\n",
       " 387.23166,\n",
       " 387.7308,\n",
       " 389.1408,\n",
       " 390.1988,\n",
       " 390.73944,\n",
       " 391.21426,\n",
       " 391.2365,\n",
       " 392.72162,\n",
       " 395.72403,\n",
       " 397.73907,\n",
       " 398.237,\n",
       " 398.24716,\n",
       " 400.24872,\n",
       " 401.2821,\n",
       " 401.69257,\n",
       " 402.22214,\n",
       " 402.69464,\n",
       " 402.8956,\n",
       " 403.2304,\n",
       " 403.53232,\n",
       " 403.69626,\n",
       " 404.2347,\n",
       " 404.248,\n",
       " 404.70352,\n",
       " 405.21463,\n",
       " 410.21027,\n",
       " 410.55298,\n",
       " 413.24734,\n",
       " 413.75098,\n",
       " 414.22302,\n",
       " 417.71466,\n",
       " 422.1704,\n",
       " 422.2139,\n",
       " 422.2399,\n",
       " 422.25116,\n",
       " 422.67407,\n",
       " 422.74106,\n",
       " 422.77225,\n",
       " 422.88873,\n",
       " 423.1715,\n",
       " 423.22598,\n",
       " 423.2581,\n",
       " 424.28412,\n",
       " 425.2383,\n",
       " 425.7592,\n",
       " 426.22382,\n",
       " 432.1892,\n",
       " 437.5639,\n",
       " 440.24936,\n",
       " 445.2328,\n",
       " 452.17728,\n",
       " 452.23297,\n",
       " 453.23062,\n",
       " 453.25134,\n",
       " 454.24164,\n",
       " 454.72604,\n",
       " 457.26245,\n",
       " 457.7682,\n",
       " 458.17758,\n",
       " 458.27106,\n",
       " 458.73074,\n",
       " 460.23294,\n",
       " 462.7649,\n",
       " 463.25833,\n",
       " 466.23343,\n",
       " 470.24487,\n",
       " 471.18494,\n",
       " 471.22653,\n",
       " 472.2898,\n",
       " 472.34094,\n",
       " 475.24063,\n",
       " 477.24457,\n",
       " 480.27585,\n",
       " 480.78073,\n",
       " 483.74768,\n",
       " 485.30594,\n",
       " 486.31717,\n",
       " 488.21338,\n",
       " 488.29523,\n",
       " 490.26242,\n",
       " 491.26285,\n",
       " 491.75668,\n",
       " 493.22552,\n",
       " 494.76794,\n",
       " 494.946,\n",
       " 495.27805,\n",
       " 497.24872,\n",
       " 497.26224,\n",
       " 497.30576,\n",
       " 497.80228,\n",
       " 499.74573,\n",
       " 504.2421,\n",
       " 504.27133,\n",
       " 506.25702,\n",
       " 506.71188,\n",
       " 509.21835,\n",
       " 512.2299,\n",
       " 513.2715,\n",
       " 515.77026,\n",
       " 518.2515,\n",
       " 523.7653,\n",
       " 524.2571,\n",
       " 529.2663,\n",
       " 529.3434,\n",
       " 530.2549,\n",
       " 530.27966,\n",
       " 530.70404,\n",
       " 531.0316,\n",
       " 532.26917,\n",
       " 532.73535,\n",
       " 537.78394,\n",
       " 541.275,\n",
       " 541.7429,\n",
       " 541.77966,\n",
       " 542.283,\n",
       " 544.3033,\n",
       " 546.7932,\n",
       " 547.2271,\n",
       " 547.28357,\n",
       " 547.3733,\n",
       " 548.2844,\n",
       " 550.27124,\n",
       " 551.2779,\n",
       " 551.3239,\n",
       " 551.8058,\n",
       " 552.2354,\n",
       " 552.32153,\n",
       " 554.2743,\n",
       " 556.27765,\n",
       " 564.25714,\n",
       " 566.7726,\n",
       " 567.3622,\n",
       " 568.16016,\n",
       " 572.9208,\n",
       " 576.3088,\n",
       " 579.2907,\n",
       " 582.2827,\n",
       " 582.335,\n",
       " 583.3164,\n",
       " 587.2727,\n",
       " 590.3241,\n",
       " 595.2852,\n",
       " 596.3649,\n",
       " 598.3902,\n",
       " 599.3134,\n",
       " 600.29407,\n",
       " 600.329,\n",
       " 601.3176,\n",
       " 602.348,\n",
       " 602.7743,\n",
       " 603.3407,\n",
       " 604.3449,\n",
       " 610.289,\n",
       " 615.3074,\n",
       " 615.8404,\n",
       " 616.3157,\n",
       " 616.34625,\n",
       " 617.32806,\n",
       " 618.3251,\n",
       " 619.3295,\n",
       " 633.3218,\n",
       " 642.3568,\n",
       " 643.345,\n",
       " 645.3547,\n",
       " 649.31714,\n",
       " 650.38226,\n",
       " 650.4029,\n",
       " 652.8187,\n",
       " 659.4159,\n",
       " 660.36743,\n",
       " 661.36816,\n",
       " 662.36896,\n",
       " 674.3295,\n",
       " 684.34607,\n",
       " 701.396,\n",
       " 706.391,\n",
       " 715.3426,\n",
       " 726.4128,\n",
       " 730.3636,\n",
       " 730.411,\n",
       " 731.3834,\n",
       " 732.3816,\n",
       " 732.41595,\n",
       " 742.3393,\n",
       " 743.35547,\n",
       " 744.08185,\n",
       " 756.4005,\n",
       " 758.4536,\n",
       " 774.38403,\n",
       " 794.4526,\n",
       " 795.44666,\n",
       " 809.4422,\n",
       " 848.45447,\n",
       " 953.98126]"
      ]
     },
     "execution_count": 79,
     "metadata": {},
     "output_type": "execute_result"
    }
   ],
   "source": [
    "observed[0]"
   ]
  },
  {
   "cell_type": "code",
   "execution_count": 78,
   "metadata": {},
   "outputs": [
    {
     "data": {
      "text/plain": [
       "[36.525833435,\n",
       " 72.044390435,\n",
       " 74.533855285,\n",
       " 93.067865435,\n",
       " 124.068062285,\n",
       " 148.060434135,\n",
       " 149.609897435,\n",
       " 167.58407628499998,\n",
       " 178.12062943499998,\n",
       " 185.12845443499998,\n",
       " 196.09480828499997,\n",
       " 221.636643435,\n",
       " 247.128848135,\n",
       " 252.63684028499998,\n",
       " 271.170850435,\n",
       " 298.212518435,\n",
       " 309.17887228499995,\n",
       " 334.16087613499997,\n",
       " 335.692146935,\n",
       " 344.69742928499994,\n",
       " 355.233982435,\n",
       " 391.18234013499995,\n",
       " 442.266010435,\n",
       " 504.26640413499996,\n",
       " 541.334424435,\n",
       " 617.3504681349999,\n",
       " 670.377017435,\n",
       " 688.3875821349999]"
      ]
     },
     "execution_count": 78,
     "metadata": {},
     "output_type": "execute_result"
    }
   ],
   "source": [
    "reference"
   ]
  },
  {
   "cell_type": "code",
   "execution_count": null,
   "metadata": {},
   "outputs": [],
   "source": []
  }
 ],
 "metadata": {
  "kernelspec": {
   "display_name": "Python 3",
   "language": "python",
   "name": "python3"
  },
  "language_info": {
   "codemirror_mode": {
    "name": "ipython",
    "version": 3
   },
   "file_extension": ".py",
   "mimetype": "text/x-python",
   "name": "python",
   "nbconvert_exporter": "python",
   "pygments_lexer": "ipython3",
   "version": "3.7.4"
  }
 },
 "nbformat": 4,
 "nbformat_minor": 4
}

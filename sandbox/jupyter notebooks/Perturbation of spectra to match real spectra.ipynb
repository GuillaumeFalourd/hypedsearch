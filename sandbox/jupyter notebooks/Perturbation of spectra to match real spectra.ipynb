{
 "cells": [
  {
   "cell_type": "markdown",
   "metadata": {},
   "source": [
    "# Mass accuracy distribution\n",
    "All peaks are off by some amount. We want to be able to catch it even when the mass is off slightly. In order to test it accurately, we must first find how much they are off\n",
    "\n",
    "We have both (1) the results of a search and (2) the raw spectrum. We can calculate all of the theoretical spectra that we know we should have, then iterate through our spectra and find out the perturbations"
   ]
  },
  {
   "cell_type": "markdown",
   "metadata": {},
   "source": [
    "## imports"
   ]
  },
  {
   "cell_type": "code",
   "execution_count": 21,
   "metadata": {},
   "outputs": [],
   "source": [
    "from pyteomics.mzxml import read as mzxmlread\n",
    "import pandas as pd\n",
    "import matplotlib.pyplot as plt\n",
    "import numpy as np\n",
    "import os\n",
    "import sys\n",
    "module_path = os.path.abspath(os.path.join('..'))\n",
    "if module_path not in sys.path:\n",
    "    sys.path.append(module_path)\n",
    "module_path = os.path.abspath(os.path.join('../..'))\n",
    "if module_path not in sys.path:\n",
    "    sys.path.append(module_path)\n",
    "    \n",
    "from src.spectra import gen_spectra\n"
   ]
  },
  {
   "cell_type": "code",
   "execution_count": 22,
   "metadata": {},
   "outputs": [
    {
     "data": {
      "text/html": [
       "<div>\n",
       "<style scoped>\n",
       "    .dataframe tbody tr th:only-of-type {\n",
       "        vertical-align: middle;\n",
       "    }\n",
       "\n",
       "    .dataframe tbody tr th {\n",
       "        vertical-align: top;\n",
       "    }\n",
       "\n",
       "    .dataframe thead th {\n",
       "        text-align: right;\n",
       "    }\n",
       "</style>\n",
       "<table border=\"1\" class=\"dataframe\">\n",
       "  <thead>\n",
       "    <tr style=\"text-align: right;\">\n",
       "      <th></th>\n",
       "      <th>number</th>\n",
       "      <th>filename</th>\n",
       "      <th>parent_charge</th>\n",
       "      <th>score</th>\n",
       "      <th>deltaForwardReverseScore</th>\n",
       "      <th>deltaRank1Rank2Score</th>\n",
       "      <th>percent_scored_peak_intensity</th>\n",
       "      <th>totalIntensity</th>\n",
       "      <th>previous_aa</th>\n",
       "      <th>sequence</th>\n",
       "      <th>next_aa</th>\n",
       "      <th>retentionTimeMin</th>\n",
       "      <th>chromatographicPeakWidthSec</th>\n",
       "      <th>parent_m_over_z</th>\n",
       "      <th>species</th>\n",
       "      <th>entry_name</th>\n",
       "    </tr>\n",
       "  </thead>\n",
       "  <tbody>\n",
       "    <tr>\n",
       "      <td>0</td>\n",
       "      <td>1</td>\n",
       "      <td>NOD2_E3.13446.13477.2</td>\n",
       "      <td>2</td>\n",
       "      <td>10.10</td>\n",
       "      <td>10.10</td>\n",
       "      <td>9.91</td>\n",
       "      <td>84.5</td>\n",
       "      <td>183000.0</td>\n",
       "      <td>(E)</td>\n",
       "      <td>DPQVEQLEL</td>\n",
       "      <td>(-)</td>\n",
       "      <td>48.35</td>\n",
       "      <td>26.0</td>\n",
       "      <td>535.7725</td>\n",
       "      <td>MOUSE</td>\n",
       "      <td>ins1C18</td>\n",
       "    </tr>\n",
       "    <tr>\n",
       "      <td>1</td>\n",
       "      <td>2</td>\n",
       "      <td>NOD2_E3.18005.18246.2</td>\n",
       "      <td>2</td>\n",
       "      <td>12.84</td>\n",
       "      <td>11.07</td>\n",
       "      <td>12.84</td>\n",
       "      <td>97.8</td>\n",
       "      <td>40000000.0</td>\n",
       "      <td>(G)</td>\n",
       "      <td>DLQTLALEVA</td>\n",
       "      <td>(-)</td>\n",
       "      <td>65.78</td>\n",
       "      <td>29.0</td>\n",
       "      <td>536.8007</td>\n",
       "      <td>MOUSE</td>\n",
       "      <td>ins1C3</td>\n",
       "    </tr>\n",
       "  </tbody>\n",
       "</table>\n",
       "</div>"
      ],
      "text/plain": [
       "   number               filename  parent_charge  score  \\\n",
       "0       1  NOD2_E3.13446.13477.2              2  10.10   \n",
       "1       2  NOD2_E3.18005.18246.2              2  12.84   \n",
       "\n",
       "   deltaForwardReverseScore  deltaRank1Rank2Score  \\\n",
       "0                     10.10                  9.91   \n",
       "1                     11.07                 12.84   \n",
       "\n",
       "   percent_scored_peak_intensity  totalIntensity previous_aa    sequence  \\\n",
       "0                           84.5        183000.0         (E)   DPQVEQLEL   \n",
       "1                           97.8      40000000.0         (G)  DLQTLALEVA   \n",
       "\n",
       "  next_aa  retentionTimeMin  chromatographicPeakWidthSec  parent_m_over_z  \\\n",
       "0     (-)             48.35                         26.0         535.7725   \n",
       "1     (-)             65.78                         29.0         536.8007   \n",
       "\n",
       "  species entry_name  \n",
       "0   MOUSE    ins1C18  \n",
       "1   MOUSE     ins1C3  "
      ]
     },
     "execution_count": 22,
     "metadata": {},
     "output_type": "execute_result"
    }
   ],
   "source": [
    "# LOAD THE RESULTS FILE\n",
    "resfile = '/Users/zacharymcgrath/Downloads/NOD2_E3_results.ssv'\n",
    "df = pd.read_csv(resfile, sep=';')\n",
    "df.head(2)\n"
   ]
  },
  {
   "cell_type": "markdown",
   "metadata": {},
   "source": [
    "## load the mzxml\n",
    "We can quickly identify which spectrum was given which sequence via the `filename` column. Each value in the mzxml file has a key value pair that looks like\n",
    "\n",
    "`'parentFileName': 'NOD2_E3.0645.0737.2.pkl'`\n",
    "\n",
    "So if wer remove the `.pkl` value, we can quickly match these up to find the the mass error tolerances\n"
   ]
  },
  {
   "cell_type": "code",
   "execution_count": 23,
   "metadata": {},
   "outputs": [],
   "source": [
    "mzxmlfile = '/Users/zacharymcgrath/Downloads/NOD2_E3.mzXML'\n",
    "d = mzxmlread(mzxmlfile)\n",
    "filenameindexed = {}\n",
    "for item in d:\n",
    "    newindex = item['scanOrigin'][0]['parentFileName'].replace('.pkl', '')\n",
    "    filenameindexed[newindex] = item"
   ]
  },
  {
   "cell_type": "markdown",
   "metadata": {},
   "source": [
    "## For each sequence/spectrum match, find the peaks that are the closest match"
   ]
  },
  {
   "cell_type": "code",
   "execution_count": 24,
   "metadata": {},
   "outputs": [],
   "source": [
    "def peak_distances(observed, reference):\n",
    "    distances = []\n",
    "    for mass in observed:\n",
    "        distances.append(min([abs(mass - p) for p in reference]))\n",
    "    return distances\n",
    "\n",
    "def filter_by_intensity(masses, intensities, n):\n",
    "    pos_intensities = [(i, intens) for i, intens in enumerate(intensities)]\n",
    "    pos_intensities.sort(key=lambda x: x[1], reverse=True)\n",
    "    pos_intensities = pos_intensities[:n]\n",
    "    return [masses[i[0]] for i in pos_intensities]"
   ]
  },
  {
   "cell_type": "code",
   "execution_count": 25,
   "metadata": {},
   "outputs": [],
   "source": [
    "distances = []\n",
    "for idx, row in df.iterrows():\n",
    "    fname = row['filename']\n",
    "    reference_spectrum  = gen_spectra.gen_spectrum(row['sequence'] + 'X')['spectrum']\n",
    "    observed_spectrum = filter_by_intensity(list(filenameindexed[fname]['m/z array']), list(filenameindexed[fname]['intensity array']), 20)\n",
    "    distances += peak_distances(observed_spectrum, reference_spectrum)"
   ]
  },
  {
   "cell_type": "code",
   "execution_count": 26,
   "metadata": {},
   "outputs": [
    {
     "data": {
      "text/plain": [
       "Text(0.5, 1.0, 'mass error distribution for top 20 ion peaks')"
      ]
     },
     "execution_count": 26,
     "metadata": {},
     "output_type": "execute_result"
    },
    {
     "data": {
      "image/png": "[encoded data removed]",
      "text/plain": [
       "<Figure size 432x288 with 1 Axes>"
      ]
     },
     "metadata": {
      "needs_background": "light"
     },
     "output_type": "display_data"
    }
   ],
   "source": [
    "plt.hist(distances, bins=100)\n",
    "plt.xlabel('mass error (Da)')\n",
    "plt.ylabel('count')\n",
    "plt.title('mass error distribution for top 20 ion peaks')"
   ]
  },
  {
   "cell_type": "code",
   "execution_count": 27,
   "metadata": {},
   "outputs": [
    {
     "data": {
      "text/plain": [
       "Text(0.5, 1.0, 'mass error distribution for top 20 ion peaks')"
      ]
     },
     "execution_count": 27,
     "metadata": {},
     "output_type": "execute_result"
    },
    {
     "data": {
      "image/png": "[encoded data removed]",
      "text/plain": [
       "<Figure size 432x288 with 1 Axes>"
      ]
     },
     "metadata": {
      "needs_background": "light"
     },
     "output_type": "display_data"
    }
   ],
   "source": [
    "plt.hist(distances, bins=100, range=(0, 10))\n",
    "plt.xlabel('mass error (Da)')\n",
    "plt.ylabel('count')\n",
    "plt.title('mass error distribution for top 20 ion peaks')"
   ]
  },
  {
   "cell_type": "code",
   "execution_count": 28,
   "metadata": {},
   "outputs": [
    {
     "data": {
      "text/plain": [
       "Text(0.5, 1.0, 'mass error distribution for top 20 ion peaks')"
      ]
     },
     "execution_count": 28,
     "metadata": {},
     "output_type": "execute_result"
    },
    {
     "data": {
      "image/png": "[encoded data removed]",
      "text/plain": [
       "<Figure size 432x288 with 1 Axes>"
      ]
     },
     "metadata": {
      "needs_background": "light"
     },
     "output_type": "display_data"
    }
   ],
   "source": [
    "plt.hist(distances, bins=100, range=(0, 2))\n",
    "plt.xlabel('mass error (Da)')\n",
    "plt.ylabel('count')\n",
    "plt.title('mass error distribution for top 20 ion peaks')"
   ]
  },
  {
   "cell_type": "code",
   "execution_count": 29,
   "metadata": {},
   "outputs": [
    {
     "data": {
      "text/plain": [
       "Text(0.5, 1.0, 'mass error distribution for top 20 ion peaks')"
      ]
     },
     "execution_count": 29,
     "metadata": {},
     "output_type": "execute_result"
    },
    {
     "data": {
      "image/png": "[encoded data removed]",
      "text/plain": [
       "<Figure size 432x288 with 1 Axes>"
      ]
     },
     "metadata": {
      "needs_background": "light"
     },
     "output_type": "display_data"
    }
   ],
   "source": [
    "plt.hist(distances, bins=100, range=(0, 1))\n",
    "plt.xlabel('mass error (Da)')\n",
    "plt.ylabel('count')\n",
    "plt.title('mass error distribution for top 20 ion peaks')"
   ]
  },
  {
   "cell_type": "code",
   "execution_count": 30,
   "metadata": {},
   "outputs": [
    {
     "data": {
      "text/plain": [
       "Text(0.5, 1.0, 'mass error distribution for top 20 ion peaks')"
      ]
     },
     "execution_count": 30,
     "metadata": {},
     "output_type": "execute_result"
    },
    {
     "data": {
      "image/png": "[encoded data removed]",
      "text/plain": [
       "<Figure size 432x288 with 1 Axes>"
      ]
     },
     "metadata": {
      "needs_background": "light"
     },
     "output_type": "display_data"
    }
   ],
   "source": [
    "plt.hist(distances, bins=100, range=(0, 0.2))\n",
    "plt.xlabel('mass error (Da)')\n",
    "plt.ylabel('count')\n",
    "plt.title('mass error distribution for top 20 ion peaks')"
   ]
  },
  {
   "cell_type": "code",
   "execution_count": 31,
   "metadata": {},
   "outputs": [
    {
     "data": {
      "text/plain": [
       "Text(0.5, 1.0, 'mass error distribution for top 20 ion peaks')"
      ]
     },
     "execution_count": 31,
     "metadata": {},
     "output_type": "execute_result"
    },
    {
     "data": {
      "image/png": "[encoded data removed]",
      "text/plain": [
       "<Figure size 432x288 with 1 Axes>"
      ]
     },
     "metadata": {
      "needs_background": "light"
     },
     "output_type": "display_data"
    }
   ],
   "source": [
    "plt.hist(distances, bins=100, range=(0, 0.075))\n",
    "plt.xlabel('mass error (Da)')\n",
    "plt.ylabel('count')\n",
    "plt.title('mass error distribution for top 20 ion peaks')"
   ]
  },
  {
   "cell_type": "markdown",
   "metadata": {},
   "source": [
    "## Try and make a distribution that looks like this"
   ]
  },
  {
   "cell_type": "code",
   "execution_count": 32,
   "metadata": {},
   "outputs": [
    {
     "data": {
      "text/plain": [
       "(array([224., 124.,  88.,  72.,  55.,  51.,  40.,  43.,  31.,  30.,  30.,\n",
       "         26.,  28.,  23.,  16.,  15.,  13.,  27.,  19.,  16.,  16.,  19.,\n",
       "         14.,   6.,   7.,  10.,   6.,   9.,   7.,   7.,   8.,   5.,   5.,\n",
       "          7.,   6.,   6.,   6.,   5.,   5.,   7.,   0.,   3.,   2.,   3.,\n",
       "          7.,   2.,   2.,   1.,   3.,   2.,   1.,   3.,   4.,   0.,   2.,\n",
       "          1.,   1.,   0.,   2.,   3.,   2.,   0.,   0.,   3.,   0.,   2.,\n",
       "          4.,   1.,   2.,   2.,   0.,   1.,   2.,   1.,   0.,   0.,   1.,\n",
       "          0.,   1.,   0.,   0.,   1.,   0.,   0.,   0.,   0.,   0.,   1.,\n",
       "          0.,   0.,   0.,   0.,   0.,   1.,   0.,   0.,   0.,   0.,   0.,\n",
       "          1.]),\n",
       " array([5.25903154e-09, 3.68467729e-04, 7.36930199e-04, 1.10539267e-03,\n",
       "        1.47385514e-03, 1.84231761e-03, 2.21078008e-03, 2.57924255e-03,\n",
       "        2.94770502e-03, 3.31616749e-03, 3.68462996e-03, 4.05309243e-03,\n",
       "        4.42155490e-03, 4.79001737e-03, 5.15847984e-03, 5.52694231e-03,\n",
       "        5.89540478e-03, 6.26386725e-03, 6.63232972e-03, 7.00079219e-03,\n",
       "        7.36925466e-03, 7.73771713e-03, 8.10617960e-03, 8.47464207e-03,\n",
       "        8.84310454e-03, 9.21156701e-03, 9.58002948e-03, 9.94849195e-03,\n",
       "        1.03169544e-02, 1.06854169e-02, 1.10538794e-02, 1.14223418e-02,\n",
       "        1.17908043e-02, 1.21592668e-02, 1.25277292e-02, 1.28961917e-02,\n",
       "        1.32646542e-02, 1.36331166e-02, 1.40015791e-02, 1.43700416e-02,\n",
       "        1.47385041e-02, 1.51069665e-02, 1.54754290e-02, 1.58438915e-02,\n",
       "        1.62123539e-02, 1.65808164e-02, 1.69492789e-02, 1.73177413e-02,\n",
       "        1.76862038e-02, 1.80546663e-02, 1.84231288e-02, 1.87915912e-02,\n",
       "        1.91600537e-02, 1.95285162e-02, 1.98969786e-02, 2.02654411e-02,\n",
       "        2.06339036e-02, 2.10023660e-02, 2.13708285e-02, 2.17392910e-02,\n",
       "        2.21077535e-02, 2.24762159e-02, 2.28446784e-02, 2.32131409e-02,\n",
       "        2.35816033e-02, 2.39500658e-02, 2.43185283e-02, 2.46869907e-02,\n",
       "        2.50554532e-02, 2.54239157e-02, 2.57923782e-02, 2.61608406e-02,\n",
       "        2.65293031e-02, 2.68977656e-02, 2.72662280e-02, 2.76346905e-02,\n",
       "        2.80031530e-02, 2.83716154e-02, 2.87400779e-02, 2.91085404e-02,\n",
       "        2.94770029e-02, 2.98454653e-02, 3.02139278e-02, 3.05823903e-02,\n",
       "        3.09508527e-02, 3.13193152e-02, 3.16877777e-02, 3.20562401e-02,\n",
       "        3.24247026e-02, 3.27931651e-02, 3.31616276e-02, 3.35300900e-02,\n",
       "        3.38985525e-02, 3.42670150e-02, 3.46354774e-02, 3.50039399e-02,\n",
       "        3.53724024e-02, 3.57408648e-02, 3.61093273e-02, 3.64777898e-02,\n",
       "        3.68462523e-02]),\n",
       " <a list of 100 Patch objects>)"
      ]
     },
     "execution_count": 32,
     "metadata": {},
     "output_type": "execute_result"
    },
    {
     "data": {
      "image/png": "[encoded data removed]",
      "text/plain": [
       "<Figure size 432x288 with 1 Axes>"
      ]
     },
     "metadata": {
      "needs_background": "light"
     },
     "output_type": "display_data"
    }
   ],
   "source": [
    "points = np.random.gamma(0.6, scale=0.0075,size=1200)\n",
    "plt.hist(points, bins=100)"
   ]
  },
  {
   "cell_type": "markdown",
   "metadata": {},
   "source": [
    "# Find the missing peaks\n",
    "We will allow for at most a .05 Da m/z error. After this, we will consider a peak missing. \n",
    "The things we want to know here are:\n",
    "1. The number of missing b and y ion peaks in each spectrum\n",
    "2. The ration of b:y ion peaks that we find\n",
    "\n",
    "This will help us understand how to better align our fake spectra to real spectra"
   ]
  },
  {
   "cell_type": "code",
   "execution_count": 33,
   "metadata": {},
   "outputs": [],
   "source": [
    "def find_missing_ions(observed, reference, tolerance):\n",
    "    missing = 0\n",
    "    for mass in reference:\n",
    "        closest = min([abs(mass - p) for p in observed])\n",
    "        if closest > tolerance:\n",
    "            missing += 1\n",
    "    return missing"
   ]
  },
  {
   "cell_type": "code",
   "execution_count": 38,
   "metadata": {},
   "outputs": [
    {
     "name": "stdout",
     "output_type": "stream",
     "text": [
      "looking for missing ions in spectrum 1085/1086\r"
     ]
    }
   ],
   "source": [
    "bd, yd, bs, ys = 0, 0, 0, 0\n",
    "missing_bs, missing_ys, missing_bd, missing_yd = 0, 0, 0, 0\n",
    "bys_ratios = []\n",
    "byd_ratios = []\n",
    "Da_tol = 0.05\n",
    "for idx, row in df.iterrows():\n",
    "    print('looking for missing ions in spectrum {}/{}\\r'.format(idx, len(df)), end='')\n",
    "    fname = row['filename']\n",
    "    reference_spectrum_bs = gen_spectra.gen_spectrum(row['sequence'] + 'X', ion='b', charge=1)['spectrum']\n",
    "    bs += len(reference_spectrum_bs)\n",
    "    reference_spectrum_bd = gen_spectra.gen_spectrum(row['sequence'] + 'X', ion='b', charge=2)['spectrum']\n",
    "    bd += len(reference_spectrum_bd)\n",
    "    reference_spectrum_ys = gen_spectra.gen_spectrum(row['sequence'] + 'X', ion='y', charge=1)['spectrum']\n",
    "    ys += len(reference_spectrum_ys)\n",
    "    reference_spectrum_yd = gen_spectra.gen_spectrum(row['sequence'] + 'X', ion='y', charge=2)['spectrum']\n",
    "    yd += len(reference_spectrum_yd)\n",
    "    \n",
    "    observed_spectrum = filter_by_intensity(list(filenameindexed[fname]['m/z array']), list(filenameindexed[fname]['intensity array']), 50)\n",
    "    \n",
    "    missing_bs += find_missing_ions(observed_spectrum, reference_spectrum_bs, Da_tol)\n",
    "    missing_bd += find_missing_ions(observed_spectrum, reference_spectrum_bd, Da_tol)\n",
    "    missing_ys += find_missing_ions(observed_spectrum, reference_spectrum_ys, Da_tol)\n",
    "    missing_yd += find_missing_ions(observed_spectrum, reference_spectrum_yd, Da_tol)\n",
    "\n",
    "    bys_ratios.append((bs-missing_bs, ys-missing_ys))\n",
    "    byd_ratios.append((bd-missing_bd, yd-missing_yd))"
   ]
  },
  {
   "cell_type": "code",
   "execution_count": 49,
   "metadata": {},
   "outputs": [
    {
     "data": {
      "text/plain": [
       "Text(0.5, 1.0, 'missing ion percentage by ion type of top 50 peaks NOD2_E3')"
      ]
     },
     "execution_count": 49,
     "metadata": {},
     "output_type": "execute_result"
    },
    {
     "data": {
      "image/png": "[encoded data removed]",
      "text/plain": [
       "<Figure size 432x288 with 1 Axes>"
      ]
     },
     "metadata": {
      "needs_background": "light"
     },
     "output_type": "display_data"
    }
   ],
   "source": [
    "missing_bs_percent = 100 * missing_bs / bs \n",
    "missing_bd_percent = 100 * missing_bd / bd\n",
    "missing_ys_percent = 100 * missing_ys / ys\n",
    "missing_yd_percent = 100 * missing_yd / yd\n",
    "total_ratio = 100 * (missing_bs + missing_bd + missing_ys + missing_yd) / (bs + bd + ys + yd)\n",
    "\n",
    "plt.bar(0, missing_bs_percent, color='red', label='missing')\n",
    "plt.bar(0, 100-missing_bs_percent, color='blue', bottom=missing_bs_percent, label='total')\n",
    "plt.bar(1, missing_bd_percent, color='red')\n",
    "plt.bar(1, 100-missing_bd_percent, color='blue', bottom=missing_bd_percent)\n",
    "plt.bar(2, missing_ys_percent, color='red')\n",
    "plt.bar(2, 100-missing_ys_percent, color='blue', bottom=missing_ys_percent)\n",
    "plt.bar(3, missing_yd_percent, color='red')\n",
    "plt.bar(3, 100-missing_yd_percent, color='blue', bottom=missing_yd_percent)\n",
    "plt.bar(5, total_ratio, color='red')\n",
    "plt.bar(5, 100-total_ratio, color='blue', bottom=total_ratio)\n",
    "plt.bar(7, 0)\n",
    "\n",
    "for threshold in [20, 40, 60, 80]:\n",
    "    plt.axhline(y=threshold, linewidth=2, color='black', ls='--')\n",
    "\n",
    "plt.ylabel('percent')\n",
    "plt.xticks([0, 1, 2, 3, 5], ['b +', 'b ++', 'y +', 'y ++', 'total ratio'])\n",
    "plt.legend()\n",
    "plt.title('missing ion percentage by ion type of top 50 peaks NOD2_E3')"
   ]
  },
  {
   "cell_type": "code",
   "execution_count": null,
   "metadata": {},
   "outputs": [],
   "source": []
  }
 ],
 "metadata": {
  "kernelspec": {
   "display_name": "Python 3",
   "language": "python",
   "name": "python3"
  },
  "language_info": {
   "codemirror_mode": {
    "name": "ipython",
    "version": 3
   },
   "file_extension": ".py",
   "mimetype": "text/x-python",
   "name": "python",
   "nbconvert_exporter": "python",
   "pygments_lexer": "ipython3",
   "version": "3.7.4"
  }
 },
 "nbformat": 4,
 "nbformat_minor": 4
}

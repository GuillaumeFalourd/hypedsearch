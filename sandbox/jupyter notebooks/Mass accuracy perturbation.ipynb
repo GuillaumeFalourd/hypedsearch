{
 "cells": [
  {
   "cell_type": "markdown",
   "metadata": {},
   "source": [
    "# Mass accuracy distribution\n",
    "All peaks are off by some amount. We want to be able to catch it even when the mass is off slightly. In order to test it accurately, we must first find how much they are off\n",
    "\n",
    "We have both (1) the results of a search and (2) the raw spectrum. We can calculate all of the theoretical spectra that we know we should have, then iterate through our spectra and find out the perturbations"
   ]
  },
  {
   "cell_type": "code",
   "execution_count": 1,
   "metadata": {},
   "outputs": [],
   "source": [
    "import pandas as pd\n",
    "# LOAD THE RESULTS FILE\n",
    "resfile = '/Users/zacharymcgrath/Downloads/NOD2_E3_results.ssv'\n",
    "df = pd.read_csv(resfile, sep=';')\n",
    "\n"
   ]
  },
  {
   "cell_type": "code",
   "execution_count": 2,
   "metadata": {},
   "outputs": [],
   "source": [
    "import os\n",
    "import sys\n",
    "module_path = os.path.abspath(os.path.join('..'))\n",
    "if module_path not in sys.path:\n",
    "    sys.path.append(module_path)\n",
    "module_path = os.path.abspath(os.path.join('../..'))\n",
    "if module_path not in sys.path:\n",
    "    sys.path.append(module_path)\n",
    "    \n",
    "from src.spectra import gen_spectra\n",
    "\n"
   ]
  },
  {
   "cell_type": "code",
   "execution_count": 3,
   "metadata": {},
   "outputs": [],
   "source": [
    "# create all the theoretical spectra\n",
    "theoretical_spectra_doubly = []\n",
    "theoretical_spectra_singly = []\n",
    "\n",
    "for idx, row in df.iterrows():\n",
    "    seq = row['sequence']\n",
    "    theoretical_spectra_doubly.append(gen_spectra.gen_spectrum(seq, charge=2)['spectrum'])\n",
    "    theoretical_spectra_singly.append(gen_spectra.gen_spectrum(seq, charge=1)['spectrum'])\n",
    "    \n",
    "    "
   ]
  },
  {
   "cell_type": "markdown",
   "metadata": {},
   "source": [
    "## match them up or try to \n",
    "Here's the method:\n",
    "1. for all real spectra\n",
    "    1. take some top x peaks from a real spectrum\n",
    "    2. calculate a distance that spectra is from all theoretical spectra\n",
    "    3. Use the mininum distance theoretical spectrum as what we believe to be the theoretical spectra for that entry\n",
    "    4. Find the minimum number of real peaks that explain most of the theoretical peaks\n",
    "    5. For this number of these matched peaks, find how off they are from the theoretical peaks"
   ]
  },
  {
   "cell_type": "code",
   "execution_count": 4,
   "metadata": {},
   "outputs": [],
   "source": [
    "def distance(spec1, spec2):\n",
    "    dist = 0\n",
    "    for spec in spec1:\n",
    "        # find the min peak distance\n",
    "        dist += min([abs(spec - s2) for s2 in spec2])\n",
    "    return dist\n"
   ]
  },
  {
   "cell_type": "code",
   "execution_count": 5,
   "metadata": {},
   "outputs": [],
   "source": [
    "def closest_peak(peak, spec):\n",
    "    return min([abs(peak - p) for p in spec])"
   ]
  },
  {
   "cell_type": "code",
   "execution_count": 6,
   "metadata": {},
   "outputs": [],
   "source": [
    "def filter_spectra(spec, x):\n",
    "    labeled_abundance = [(i, a) for i, a in enumerate(spec['abundance'])]\n",
    "    labeled_abundance.sort(key=lambda x: float(x[1]), reverse=True)\n",
    "    labeled_abundance = labeled_abundance[:x]\n",
    "    labeled_abundance.sort(key=lambda a: a[0])\n",
    "    return [spec['spectrum'][x[0]] for x in labeled_abundance]\n",
    "    "
   ]
  },
  {
   "cell_type": "code",
   "execution_count": 7,
   "metadata": {},
   "outputs": [
    {
     "name": "stderr",
     "output_type": "stream",
     "text": [
      "Determination of memory status is not supported on this \n",
      " platform, measuring for memoryleaks will never fail\n"
     ]
    }
   ],
   "source": [
    "# load the spectra file\n",
    "from src.file_io import mzML\n",
    "specfile = '/Users/zacharymcgrath/Downloads/NOD2_E3.mzML'\n",
    "spectra = mzML.read(specfile)\n"
   ]
  },
  {
   "cell_type": "code",
   "execution_count": 8,
   "metadata": {},
   "outputs": [
    {
     "name": "stdout",
     "output_type": "stream",
     "text": [
      "on spec 4/12752\r"
     ]
    }
   ],
   "source": [
    "top_peaks = 20\n",
    "distdoubly = []\n",
    "distsingly = []\n",
    "limit = 5\n",
    "for i, spec in enumerate(spectra):\n",
    "    if i == limit:\n",
    "        break\n",
    "    print('on spec {}/{}\\r'.format(i, len(spectra)), end='')\n",
    "    # filter the spectra\n",
    "    fsr = filter_spectra(spec, top_peaks)\n",
    "    # find the closest spectra to this \n",
    "    closesttheoryd = None\n",
    "    closesttheorys = None\n",
    "    for theoryspecd in theoretical_spectra_doubly:\n",
    "        if closesttheoryd is None:\n",
    "            closesttheoryd = theoryspecd\n",
    "        else:\n",
    "            closesttheoryd = theoryspecd if distance(fsr, theoryspecd) < distance(fsr, closesttheoryd) else closesttheoryd\n",
    "    for theoryspecs in theoretical_spectra_singly:\n",
    "        if closesttheorys is None:\n",
    "            closesttheorys = theoryspecs\n",
    "        else:\n",
    "            closesttheorys = theoryspecs if distance(fsr, theoryspecs) < distance(fsr, closesttheorys) else closesttheorys\n",
    "            \n",
    "    # ok now we have the closest spectra to each. Find the smallest distance for each peak\n",
    "    for p in fsr:\n",
    "        singlyd = closest_peak(p, closesttheorys)\n",
    "        doublyd = closest_peak(p, closesttheoryd)\n",
    "        if singlyd < doublyd:\n",
    "            distsingly.append(singlyd)\n",
    "        else:\n",
    "            distdoubly.append(doublyd)    \n",
    "\n",
    "            "
   ]
  },
  {
   "cell_type": "code",
   "execution_count": 9,
   "metadata": {},
   "outputs": [],
   "source": [
    "import matplotlib.pyplot as plt\n",
    "import numpy as np\n"
   ]
  },
  {
   "cell_type": "code",
   "execution_count": 10,
   "metadata": {},
   "outputs": [
    {
     "data": {
      "text/plain": [
       "Text(0, 0.5, 'count')"
      ]
     },
     "execution_count": 10,
     "metadata": {},
     "output_type": "execute_result"
    },
    {
     "data": {
      "image/png": "[encoded data removed]",
      "text/plain": [
       "<Figure size 432x288 with 1 Axes>"
      ]
     },
     "metadata": {
      "needs_background": "light"
     },
     "output_type": "display_data"
    }
   ],
   "source": [
    "plt.hist(distsingly, bins=100)\n",
    "plt.title('distribution of mass error of singly charged ions')\n",
    "plt.xlabel('mass error (Da)')\n",
    "plt.ylabel('count')\n"
   ]
  },
  {
   "cell_type": "code",
   "execution_count": 11,
   "metadata": {},
   "outputs": [
    {
     "data": {
      "text/plain": [
       "Text(0, 0.5, 'count')"
      ]
     },
     "execution_count": 11,
     "metadata": {},
     "output_type": "execute_result"
    },
    {
     "data": {
      "image/png": "[encoded data removed]",
      "text/plain": [
       "<Figure size 432x288 with 1 Axes>"
      ]
     },
     "metadata": {
      "needs_background": "light"
     },
     "output_type": "display_data"
    }
   ],
   "source": [
    "plt.hist(distdoubly, bins=100)\n",
    "plt.title('distribution of mass error of doubly charged ions')\n",
    "plt.xlabel('mass error (Da)')\n",
    "plt.ylabel('count')\n"
   ]
  },
  {
   "cell_type": "code",
   "execution_count": 12,
   "metadata": {},
   "outputs": [
    {
     "data": {
      "text/plain": [
       "Text(0, 0.5, 'count')"
      ]
     },
     "execution_count": 12,
     "metadata": {},
     "output_type": "execute_result"
    },
    {
     "data": {
      "image/png": "[encoded data removed]",
      "text/plain": [
       "<Figure size 432x288 with 1 Axes>"
      ]
     },
     "metadata": {
      "needs_background": "light"
     },
     "output_type": "display_data"
    }
   ],
   "source": [
    "plt.hist(distdoubly + distsingly, bins=100)\n",
    "plt.title('distribution of mass error of all ions')\n",
    "plt.xlabel('mass error (Da)')\n",
    "plt.ylabel('count')"
   ]
  },
  {
   "cell_type": "code",
   "execution_count": 13,
   "metadata": {},
   "outputs": [
    {
     "data": {
      "text/plain": [
       "Text(0, 0.5, 'count')"
      ]
     },
     "execution_count": 13,
     "metadata": {},
     "output_type": "execute_result"
    },
    {
     "data": {
      "image/png": "[encoded data removed]",
      "text/plain": [
       "<Figure size 432x288 with 1 Axes>"
      ]
     },
     "metadata": {
      "needs_background": "light"
     },
     "output_type": "display_data"
    }
   ],
   "source": [
    "plt.hist(distdoubly + distsingly, bins=100, range=(0, 10))\n",
    "plt.title('distribution of mass error of all ions')\n",
    "plt.xlabel('mass error (Da)')\n",
    "plt.ylabel('count')"
   ]
  },
  {
   "cell_type": "markdown",
   "metadata": {},
   "source": [
    "## do individual ones"
   ]
  },
  {
   "cell_type": "code",
   "execution_count": 9,
   "metadata": {},
   "outputs": [
    {
     "data": {
      "image/png": "[encoded data removed]",
      "text/plain": [
       "<Figure size 432x288 with 1 Axes>"
      ]
     },
     "metadata": {
      "needs_background": "light"
     },
     "output_type": "display_data"
    }
   ],
   "source": [
    "import matplotlib.pyplot as plt\n",
    "import numpy as np\n",
    "def plot_one(dist, label):\n",
    "    plt.hist(dist, bins=100)\n",
    "    plt.xlabel('mass error (Da)')\n",
    "    plt.ylabel('count')\n",
    "    plt.title(label)\n",
    "    \n",
    "for i in range(limit):\n",
    "    start_range = i *25\n",
    "    end_range = (i + 1) * 25\n",
    "    plot_one(distsingly[start_range:end_range] + distdoubly[start_range:end_range], '')\n",
    "    "
   ]
  },
  {
   "cell_type": "code",
   "execution_count": null,
   "metadata": {},
   "outputs": [],
   "source": []
  }
 ],
 "metadata": {
  "kernelspec": {
   "display_name": "Python 3",
   "language": "python",
   "name": "python3"
  },
  "language_info": {
   "codemirror_mode": {
    "name": "ipython",
    "version": 3
   },
   "file_extension": ".py",
   "mimetype": "text/x-python",
   "name": "python",
   "nbconvert_exporter": "python",
   "pygments_lexer": "ipython3",
   "version": "3.7.4"
  }
 },
 "nbformat": 4,
 "nbformat_minor": 4
}

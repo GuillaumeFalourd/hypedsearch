{
 "cells": [
  {
   "cell_type": "code",
   "execution_count": 8,
   "metadata": {},
   "outputs": [
    {
     "name": "stdout",
     "output_type": "stream",
     "text": [
      "ABCDEF\n",
      "yah\n",
      "yah\n"
     ]
    }
   ],
   "source": [
    "import regex as re\n",
    "\n",
    "s1 = 'ABCDEF'\n",
    "s2 = 'ABCD(E)F'\n",
    "s3 = 'ABCD-EF'\n",
    "\n",
    "hyb_alignment_pattern = re.compile(r'[-\\(\\)]')\n",
    "\n",
    "if hyb_alignment_pattern.findall(s1):\n",
    "    print('oops')\n",
    "if hyb_alignment_pattern.findall(s2):\n",
    "    print(re.sub(hyb_alignment_pattern, '', s2))\n",
    "    print('yah')\n",
    "if hyb_alignment_pattern.findall(s3):\n",
    "    print('yah')"
   ]
  },
  {
   "cell_type": "code",
   "execution_count": 22,
   "metadata": {},
   "outputs": [],
   "source": [
    "s1 = 'LLLL'\n",
    "s2 = 'LMNOP'\n",
    "s3 = 'MNIP'\n",
    "s4 = ''"
   ]
  },
  {
   "cell_type": "code",
   "execution_count": 73,
   "metadata": {},
   "outputs": [],
   "source": [
    "from itertools import product\n",
    "\n",
    "def make_patterns(s):\n",
    "\n",
    "    keyletters = 'LI'\n",
    "\n",
    "    # Convert input string into a list so we can easily substitute letters\n",
    "    seq = list(s)\n",
    "\n",
    "    # Find indices of key letters in seq\n",
    "    indices = [ i for i, c in enumerate(seq) if c in keyletters ]\n",
    "\n",
    "    # Generate key letter combinations & place them into the list\n",
    "    for t in product(keyletters, repeat=len(indices)):\n",
    "        for i, c in zip(indices, t):\n",
    "            seq[i] = c\n",
    "        print(''.join(seq))"
   ]
  },
  {
   "cell_type": "code",
   "execution_count": 74,
   "metadata": {},
   "outputs": [
    {
     "name": "stdout",
     "output_type": "stream",
     "text": [
      "LLLL\n",
      "LLLI\n",
      "LLIL\n",
      "LLII\n",
      "LILL\n",
      "LILI\n",
      "LIIL\n",
      "LIII\n",
      "ILLL\n",
      "ILLI\n",
      "ILIL\n",
      "ILII\n",
      "IILL\n",
      "IILI\n",
      "IIIL\n",
      "IIII\n"
     ]
    }
   ],
   "source": [
    "make_patterns(s1)"
   ]
  },
  {
   "cell_type": "code",
   "execution_count": 75,
   "metadata": {},
   "outputs": [
    {
     "name": "stdout",
     "output_type": "stream",
     "text": [
      "LMNOP\n",
      "IMNOP\n"
     ]
    }
   ],
   "source": [
    "make_patterns(s2)"
   ]
  },
  {
   "cell_type": "code",
   "execution_count": 77,
   "metadata": {},
   "outputs": [
    {
     "name": "stdout",
     "output_type": "stream",
     "text": [
      "MNLP\n",
      "MNIP\n"
     ]
    }
   ],
   "source": [
    "make_patterns(s3)"
   ]
  },
  {
   "cell_type": "code",
   "execution_count": null,
   "metadata": {},
   "outputs": [],
   "source": []
  }
 ],
 "metadata": {
  "kernelspec": {
   "display_name": "Python 3",
   "language": "python",
   "name": "python3"
  },
  "language_info": {
   "codemirror_mode": {
    "name": "ipython",
    "version": 3
   },
   "file_extension": ".py",
   "mimetype": "text/x-python",
   "name": "python",
   "nbconvert_exporter": "python",
   "pygments_lexer": "ipython3",
   "version": "3.7.4"
  }
 },
 "nbformat": 4,
 "nbformat_minor": 4
}

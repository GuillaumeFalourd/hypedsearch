{
 "cells": [
  {
   "cell_type": "code",
   "execution_count": 8,
   "metadata": {},
   "outputs": [
    {
     "name": "stdout",
     "output_type": "stream",
     "text": [
      "ABCDEF\n",
      "yah\n",
      "yah\n"
     ]
    }
   ],
   "source": [
    "import regex as re\n",
    "\n",
    "s1 = 'ABCDEF'\n",
    "s2 = 'ABCD(E)F'\n",
    "s3 = 'ABCD-EF'\n",
    "\n",
    "hyb_alignment_pattern = re.compile(r'[-\\(\\)]')\n",
    "\n",
    "if hyb_alignment_pattern.findall(s1):\n",
    "    print('oops')\n",
    "if hyb_alignment_pattern.findall(s2):\n",
    "    print(re.sub(hyb_alignment_pattern, '', s2))\n",
    "    print('yah')\n",
    "if hyb_alignment_pattern.findall(s3):\n",
    "    print('yah')"
   ]
  },
  {
   "cell_type": "code",
   "execution_count": null,
   "metadata": {},
   "outputs": [],
   "source": []
  }
 ],
 "metadata": {
  "kernelspec": {
   "display_name": "Python 3",
   "language": "python",
   "name": "python3"
  },
  "language_info": {
   "codemirror_mode": {
    "name": "ipython",
    "version": 3
   },
   "file_extension": ".py",
   "mimetype": "text/x-python",
   "name": "python",
   "nbconvert_exporter": "python",
   "pygments_lexer": "ipython3",
   "version": "3.7.4"
  }
 },
 "nbformat": 4,
 "nbformat_minor": 4
}

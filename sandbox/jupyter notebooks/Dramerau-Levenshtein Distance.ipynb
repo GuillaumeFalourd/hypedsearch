{
 "cells": [
  {
   "cell_type": "markdown",
   "metadata": {},
   "source": [
    "function LevenshteinDistance(char s[1..m], char t[1..n]):\n",
    "\n",
    "  // for all i and j, d[i,j] will hold the Levenshtein distance between\n",
    "  // the first i characters of s and the first j characters of t\n",
    "  declare int d[0..m, 0..n]\n",
    " \n",
    "  set each element in d to zero\n",
    " \n",
    "  // source prefixes can be transformed into empty string by\n",
    "  // dropping all characters\n",
    "  for i from 1 to m:\n",
    "      d[i, 0] := i\n",
    " \n",
    "  // target prefixes can be reached from empty source prefix\n",
    "  // by inserting every character\n",
    "  for j from 1 to n:\n",
    "      d[0, j] := j\n",
    " \n",
    "  for j from 1 to n:\n",
    "      for i from 1 to m:\n",
    "          if s[i] = t[j]:\n",
    "            substitutionCost := 0\n",
    "          else:\n",
    "            substitutionCost := 1\n",
    "\n",
    "          d[i, j] := minimum(d[i-1, j] + 1,                   // deletion\n",
    "                             d[i, j-1] + 1,                   // insertion\n",
    "                             d[i-1, j-1] + substitutionCost)  // substitution\n",
    " \n",
    "  return d[m, n]"
   ]
  },
  {
   "cell_type": "markdown",
   "metadata": {},
   "source": [
    "if s[i] = t[j] then \n",
    "  d[i, j] := d[i-1, j-1]\n",
    "else if i > 0 and j > 0 and s[i] = t[j - 1] and s[i - 1] = t[j] then\n",
    "  d[i, j] := minimum\n",
    "             (\n",
    "               d[i-2, j-2] + 1 // transpose\n",
    "               d[i-1, j] + 1,  // deletion\n",
    "               d[i, j-1] + 1,  // insertion\n",
    "               d[i-1, j-1] + 1 // substitution\n",
    "             )\n",
    "else\n",
    "  d[i, j] := minimum\n",
    "             (\n",
    "               d[i-1, j] + 1,  // deletion\n",
    "               d[i, j-1] + 1,  // insertion\n",
    "               d[i-1, j-1] + 1 // substitution\n",
    "             )"
   ]
  },
  {
   "cell_type": "code",
   "execution_count": 3,
   "metadata": {},
   "outputs": [],
   "source": [
    "def LD_swaps(s: str, t: str) -> int:\n",
    "    '''\n",
    "    '''\n",
    "    \n",
    "    d = [[0 for _ in range(len(t))] for _ in range(len(s))]\n",
    "    \n",
    "    for i in range(len(s)):\n",
    "        d[i][0] = i\n",
    "        \n",
    "    for j in range(len(t)):\n",
    "        d[0][1] = j\n",
    "        \n",
    "    for i in range(len(s)):\n",
    "        for j in range(len(t)):\n",
    "            \n",
    "            if s[i] == t[j]:\n",
    "                d[i][j] = d[i-1][j-1]\n",
    "                \n",
    "            elif i >0 and j >0 and s[i] == t[j-1] and s[i-1] == t[j]:\n",
    "                d[i][j] = min([\n",
    "                    d[i-2][j-2] + 1, # swap\n",
    "                    d[i-1][j] + 1,   # deletion\n",
    "                    d[i][j-1] + 1,   # substitution\n",
    "                ])\n",
    "            else:\n",
    "                d[i][j] = min([\n",
    "                    d[i-1][j] + 1,  # deletion\n",
    "                    d[i][j-1] + 1,  # insertion\n",
    "                    d[i-1][j-1] + 1,# substitution\n",
    "                ])\n",
    "    \n",
    "    return d[len(s)-1][len(t)-1]"
   ]
  },
  {
   "cell_type": "code",
   "execution_count": 8,
   "metadata": {},
   "outputs": [
    {
     "data": {
      "text/plain": [
       "2"
      ]
     },
     "execution_count": 8,
     "metadata": {},
     "output_type": "execute_result"
    }
   ],
   "source": [
    "LD_swaps('ABCDEF', 'ABDCE')"
   ]
  },
  {
   "cell_type": "code",
   "execution_count": 49,
   "metadata": {},
   "outputs": [],
   "source": [
    "def is_swap_up_to_dist(a: str, b: str, i: int, j: int, dist: int, d: list) -> list:\n",
    "    '''\n",
    "    Helper function to edit distance long swaps. Helps identify potential swaps\n",
    "    and if two chars could be swapped then the entry to d is returned\n",
    "    '''\n",
    "    \n",
    "    # first index not worth looking at\n",
    "    if i == 0 or j == 0:\n",
    "        return []\n",
    "    \n",
    "    # iterate up to our current index or the max swap distance\n",
    "    iter_len = min([i, j, dist])\n",
    "    \n",
    "    # keep track of swaps we find\n",
    "    swaps = []\n",
    "    \n",
    "    for k in range(1, iter_len + 1):\n",
    "        \n",
    "        # if it is a swap then keep track of it\n",
    "        if a[i] == b[j - k] and a[i - k] == b[j]:\n",
    "            swaps.append((i-k, j-k))\n",
    "        \n",
    "    return swaps\n",
    "\n",
    "def edit_distance_long_swaps(a: str, b: str, dist: int = 0) -> int:\n",
    "    '''\n",
    "    Find the edit distance between two strings allowing for swaps up to a distance dist. \n",
    "    \n",
    "    Example:\n",
    "        a: 'ABCDE', b: 'ADCBE'\n",
    "        \n",
    "        edit distance with swap dist of 0: 2 (substitution of B for D and D for B)\n",
    "        edit distance with swap dist of 1: 1 (swap of B and D)\n",
    "        \n",
    "    Limitations: if a position has 2 swaps, it will not be picked up. Example:\n",
    "        a: 'CBEDA', b: 'ABCDE'\n",
    "        \n",
    "        A has been swapped with C then with E, but the final output will be edit distance of 3\n",
    "        for all of the swaps\n",
    "        \n",
    "    Inputs:\n",
    "        a:   (str) the first string\n",
    "        b:   (str) the second string\n",
    "        dist:(int) the swapping distance allowed. Default=0\n",
    "        \n",
    "    Outputs:\n",
    "        (int) the minimum edit distance\n",
    "    '''\n",
    "    \n",
    "    d = [[0 for _ in range(len(b))] for _ in range(len(a))]\n",
    "    \n",
    "    for i in range(len(a)):\n",
    "        d[i][0] = i\n",
    "        \n",
    "    for j in range(len(b)):\n",
    "        d[0][1] = j\n",
    "        \n",
    "    for i in range(len(a)):\n",
    "        for j in range(len(b)):\n",
    "            \n",
    "            # look for swaps\n",
    "            swaps = is_swap_up_to_dist(a, b, i, j, dist, d)\n",
    "            \n",
    "            if a[i] == b[j]:\n",
    "                d[i][j] = d[i-1][j-1]\n",
    "                \n",
    "            elif len(swaps):\n",
    "                \n",
    "                # get all swaps possible \n",
    "                swap_values = [d[x][y] for x, y in swaps]\n",
    "                                \n",
    "                d[i][j] = min(swap_values + [\n",
    "                    d[i-1][j] + 1,   # deletion\n",
    "                    d[i][j-1] + 1,   # substitution\n",
    "                ])\n",
    "                \n",
    "            else:\n",
    "                d[i][j] = min([\n",
    "                    d[i-1][j] + 1,  # deletion\n",
    "                    d[i][j-1] + 1,  # insertion\n",
    "                    d[i-1][j-1] + 1,# substitution\n",
    "                ])\n",
    "    \n",
    "    return d[len(a)-1][len(b)-1]"
   ]
  },
  {
   "cell_type": "code",
   "execution_count": 50,
   "metadata": {},
   "outputs": [
    {
     "data": {
      "text/plain": [
       "2"
      ]
     },
     "execution_count": 50,
     "metadata": {},
     "output_type": "execute_result"
    }
   ],
   "source": [
    "edit_distance_long_swaps('ABCDEF', 'CBAFED', 2)"
   ]
  },
  {
   "cell_type": "code",
   "execution_count": null,
   "metadata": {},
   "outputs": [],
   "source": []
  }
 ],
 "metadata": {
  "kernelspec": {
   "display_name": "Python 3",
   "language": "python",
   "name": "python3"
  },
  "language_info": {
   "codemirror_mode": {
    "name": "ipython",
    "version": 3
   },
   "file_extension": ".py",
   "mimetype": "text/x-python",
   "name": "python",
   "nbconvert_exporter": "python",
   "pygments_lexer": "ipython3",
   "version": "3.7.4"
  }
 },
 "nbformat": 4,
 "nbformat_minor": 4
}

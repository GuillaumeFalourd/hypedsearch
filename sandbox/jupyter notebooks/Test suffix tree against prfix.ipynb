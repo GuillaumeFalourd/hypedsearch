{
 "cells": [
  {
   "cell_type": "markdown",
   "metadata": {},
   "source": [
    "# Test the prefix tree and suffix tree for time and memory usage"
   ]
  },
  {
   "cell_type": "code",
   "execution_count": 1,
   "metadata": {},
   "outputs": [],
   "source": [
    "from suffix_tree import Tree\n",
    "from datrie import Trie, BaseTrie\n",
    "import string\n"
   ]
  },
  {
   "cell_type": "code",
   "execution_count": 2,
   "metadata": {},
   "outputs": [],
   "source": [
    "# load a protein database\n",
    "import os\n",
    "import sys\n",
    "module_path = os.path.abspath(os.path.join('..'))\n",
    "if module_path not in sys.path:\n",
    "    sys.path.append(module_path)\n",
    "module_path = os.path.abspath(os.path.join('../..'))\n",
    "if module_path not in sys.path:\n",
    "    sys.path.append(module_path)\n",
    "    \n",
    "from src.file_io import fasta\n",
    "import time\n",
    "\n",
    "fasta_file = '/Users/zacharymcgrath/Desktop/nod2 data/filteredNOD2.fasta'\n",
    "database = fasta.read(fasta_file, True)\n",
    "\n",
    "database = {x['name']: x for x in database}\n",
    "dblen = len(database)"
   ]
  },
  {
   "cell_type": "code",
   "execution_count": 3,
   "metadata": {},
   "outputs": [
    {
     "name": "stdout",
     "output_type": "stream",
     "text": [
      "Done. Time to build suffix tree: 34.500792026519775\n",
      "space used: 64B\n"
     ]
    }
   ],
   "source": [
    "# test the speed of building and the resulting size of the suffix tree\n",
    "st = time.time()\n",
    "su_t = Tree()\n",
    "i = 0\n",
    "for key, value in database.items():\n",
    "    i += 1\n",
    "    print(f'{i}/{dblen}\\r', end='')\n",
    "    su_t.add(key, value['sequence'])\n",
    "print(f'Done. Time to build suffix tree: {time.time() - st}')\n",
    "print(f'space used: {sys.getsizeof(su_t)}B')\n"
   ]
  },
  {
   "cell_type": "code",
   "execution_count": 4,
   "metadata": {},
   "outputs": [
    {
     "name": "stdout",
     "output_type": "stream",
     "text": [
      "Done. Time to build prefix tree: 5.182687044143677\n",
      "space used: 80B\n"
     ]
    }
   ],
   "source": [
    "# test speed of building and resulting size of the prefix tree\n",
    "min_len = 3\n",
    "max_len = 35\n",
    "st = time.time()\n",
    "pt = Trie(string.ascii_uppercase)\n",
    "i = 0\n",
    "for key, value in database.items():\n",
    "    i += 1\n",
    "    print(f'{i}/{dblen}\\r', end='')\n",
    "    for j in range(len(value['sequence'])-min_len):\n",
    "        subseqlen = max_len if j + max_len < len(value['sequence']) -1 else len(value['sequence']) - j\n",
    "        pt[value['sequence'][j:j+subseqlen]] = key\n",
    "print(f'Done. Time to build prefix tree: {time.time() - st}')\n",
    "print(f'space used: {sys.getsizeof(pt)}B')\n"
   ]
  },
  {
   "cell_type": "code",
   "execution_count": 5,
   "metadata": {},
   "outputs": [
    {
     "name": "stdout",
     "output_type": "stream",
     "text": [
      "Done. Time to build prefix tree: 0.03750896453857422\n",
      "space used: 72B for trie and 9328B for protein dict\n"
     ]
    }
   ],
   "source": [
    "# test speed of building and resulting size of the base prefix tree\n",
    "st = time.time()\n",
    "bpt = BaseTrie(string.ascii_uppercase)\n",
    "savep = {}\n",
    "i = 0\n",
    "for key, value in database.items():\n",
    "    i += 1 \n",
    "    print(f'{i}/{dblen}\\r', end='')\n",
    "    bpt[value['sequence']] = i\n",
    "    savep[i] = key\n",
    "print(f'Done. Time to build prefix tree: {time.time() - st}')\n",
    "print(f'space used: {sys.getsizeof(bpt)}B for trie and {sys.getsizeof(savep)}B for protein dict')\n"
   ]
  },
  {
   "cell_type": "markdown",
   "metadata": {},
   "source": [
    "## Make sure that we get the same results"
   ]
  },
  {
   "cell_type": "code",
   "execution_count": 7,
   "metadata": {},
   "outputs": [
    {
     "name": "stdout",
     "output_type": "stream",
     "text": [
      "[('LEG1_MOUSE', <suffix_tree.util.Path object at 0x7fdc0fcbf950>)]\n",
      "True\n",
      "['LEG1_MOUSE']\n",
      "{'name': 'LEG1_MOUSE', 'sequence': 'MACGLVASNLNLKPGECLKVRGEVASDAKSFVLNLGKDSNNLCLHFNPRFNAHGDANTIVCNTKEDGTWGTEHREPAFPFQPGSITEVCITFDQADLTIKLPDGHEFKFPNRLNMEAINYMAADGDFKIKCVAFE', 'identifier': 'P16045', 'human_readable_name': 'Galectin-1'}\n"
     ]
    }
   ],
   "source": [
    "print(su_t.find_all('VAFE'))\n",
    "print(pt.has_keys_with_prefix('VAFE'))\n",
    "print(pt.values('VAFE'))\n",
    "print(database[list(database.keys())[0]])\n"
   ]
  },
  {
   "cell_type": "markdown",
   "metadata": {},
   "source": [
    "## Results\n",
    "Don't use the base trie. Trash for trying to save proteins since we have to keep the dictionary\n"
   ]
  },
  {
   "cell_type": "code",
   "execution_count": null,
   "metadata": {},
   "outputs": [],
   "source": []
  }
 ],
 "metadata": {
  "kernelspec": {
   "display_name": "Python 3",
   "language": "python",
   "name": "python3"
  },
  "language_info": {
   "codemirror_mode": {
    "name": "ipython",
    "version": 3
   },
   "file_extension": ".py",
   "mimetype": "text/x-python",
   "name": "python",
   "nbconvert_exporter": "python",
   "pygments_lexer": "ipython3",
   "version": "3.7.4"
  }
 },
 "nbformat": 4,
 "nbformat_minor": 4
}

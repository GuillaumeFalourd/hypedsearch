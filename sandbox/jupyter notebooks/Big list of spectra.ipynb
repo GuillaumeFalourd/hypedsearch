{
 "cells": [
  {
   "cell_type": "markdown",
   "metadata": {},
   "source": [
    "# Pre-processing spectra to make easier to search\n",
    "\n",
    "Idea: make one big spectrum that we will then tag masses with amino acid sequences\n",
    "\n",
    "Flow: \n",
    "1. Load all spectra\n",
    "2. Make a single large spectrum called `S`\n",
    "3. Find the `max_length` peptide from the maximum mass\n",
    "4. Load the database\n",
    "5. For each protein `P` of the database\n",
    "    1. For each kmer `k` of length `max_length`\n",
    "        1. Calculate each individual spectrum for `(b+, b++, y+, y++)` (we call `ts`)\n",
    "        2. For each `ts`:\n",
    "            1. For each mass `m` of this `ts`:\n",
    "                1. Binary search `S` for `m` plus/minus tolerance\n",
    "                2. If the mass is found, add the `k(m)` to a dictionary to keep for later split by ion type\n",
    "6. Build a MassDawg for both `b` and `y` kmers taken from the search\n",
    "7. For each input spectrum:\n",
    "    1. Search both the `b` and `y` MassDawgs for sequences \n",
    "    2. Make an alignment\n",
    "                "
   ]
  },
  {
   "cell_type": "code",
   "execution_count": 1,
   "metadata": {},
   "outputs": [],
   "source": [
    "import os\n",
    "import sys\n",
    "module_path = os.path.abspath(os.path.join('..'))\n",
    "if module_path not in sys.path:\n",
    "    sys.path.append(module_path)\n",
    "module_path = os.path.abspath(os.path.join('../..'))\n",
    "if module_path not in sys.path:\n",
    "    sys.path.append(module_path)\n",
    "    \n",
    "from pyteomics import fasta\n",
    "from collections import defaultdict\n",
    "from src.sequence.gen_spectra import gen_spectrum, gen_min_ordering\n",
    "from src.file_io import mzML\n",
    "from src.objects import Spectrum, Database\n",
    "from src.utils import ppm_to_da\n",
    "from src.scoring import scoring, mass_comparisons\n",
    "from src.tree import Tree\n",
    "from src.identfication import alignment\n",
    "from src.database import extract_protein_name\n",
    "\n",
    "import bisect\n",
    "\n",
    "from mass_dawg import PyMassDawg\n",
    "from math import ceil\n",
    "\n",
    "import numpy as np\n",
    "\n",
    "ppm_tol = 20"
   ]
  },
  {
   "cell_type": "code",
   "execution_count": 2,
   "metadata": {},
   "outputs": [],
   "source": [
    "def longest_array(window, length):\n",
    "    return int(np.ceil(1/window * length * 186.079313))\n",
    "\n",
    "def sparse_it(spectrum, window, length):\n",
    "    sparse = np.zeros(longest_array(window, length))\n",
    "    for mz in spectrum:\n",
    "        mz_direct = int(mz/window)\n",
    "        sparse[mz_direct] = 1\n",
    "#         sparse[mz_direct-1] = .5\n",
    "#         sparse[mz_direct+1] = .5\n",
    "    \n",
    "    return sparse\n",
    "\n",
    "def to_percent(index, total):\n",
    "    return int(100 * (index + 1)/total)"
   ]
  },
  {
   "cell_type": "markdown",
   "metadata": {},
   "source": [
    "## 1. Load all spectra"
   ]
  },
  {
   "cell_type": "code",
   "execution_count": 3,
   "metadata": {},
   "outputs": [],
   "source": [
    "spectra_file = '/Users/zacharymcgrath/Desktop/nod2 data/single/singleRealSpectrum.mzml'\n",
    "fasta_file = '/Users/zacharymcgrath/Desktop/nod2 data/filteredNOD2.fasta'"
   ]
  },
  {
   "cell_type": "code",
   "execution_count": 4,
   "metadata": {},
   "outputs": [
    {
     "name": "stdout",
     "output_type": "stream",
     "text": [
      "Average length of spectra: 30.0\n"
     ]
    }
   ],
   "source": [
    "spectra = mzML.read(spectra_file, peak_filter=30)\n",
    "print(f'Average length of spectra: {np.mean(list(map(len, [spectrum.spectrum for spectrum in spectra])))}')"
   ]
  },
  {
   "cell_type": "markdown",
   "metadata": {},
   "source": [
    "## 2. Make the single large spectrum"
   ]
  },
  {
   "cell_type": "code",
   "execution_count": 5,
   "metadata": {},
   "outputs": [],
   "source": [
    "all_spectra = sorted([x for spectrum in spectra for x in spectrum.spectrum])"
   ]
  },
  {
   "cell_type": "markdown",
   "metadata": {},
   "source": [
    "## 3. Find the max length possible peptide"
   ]
  },
  {
   "cell_type": "code",
   "execution_count": 6,
   "metadata": {},
   "outputs": [],
   "source": [
    "max_len = int(np.ceil(all_spectra[-1]/ 57.021464))"
   ]
  },
  {
   "cell_type": "markdown",
   "metadata": {},
   "source": [
    "## 4. Load the database into RAM"
   ]
  },
  {
   "cell_type": "code",
   "execution_count": 7,
   "metadata": {},
   "outputs": [],
   "source": [
    "prots = {}\n",
    "for i, entry in enumerate(fasta.read(fasta_file)):\n",
    "    name = extract_protein_name(entry)\n",
    "    prots[name] = entry"
   ]
  },
  {
   "cell_type": "markdown",
   "metadata": {},
   "source": [
    "## 5. The search"
   ]
  },
  {
   "cell_type": "code",
   "execution_count": 8,
   "metadata": {},
   "outputs": [
    {
     "name": "stdout",
     "output_type": "stream",
     "text": [
      "On protein 279/279 [100%]CPU times: user 14.1 s, sys: 117 ms, total: 14.2 s\n",
      "Wall time: 14.2 s\n"
     ]
    }
   ],
   "source": [
    "%%time\n",
    "def find_kmer_hits(kmer: str, prot_name: str) -> None:\n",
    "    for ion in 'by':\n",
    "        for charge in [1, 2]:\n",
    "            spec = gen_spectrum(kmer, ion=ion, charge=charge)['spectrum']\n",
    "\n",
    "            for c, mass in enumerate(spec):\n",
    "\n",
    "                da_tol = ppm_to_da(mass, ppm_tol)\n",
    "                lb = mass - da_tol\n",
    "                ub = mass + da_tol\n",
    "\n",
    "                beginning_entry = bisect.bisect_left(all_spectra, lb)\n",
    "\n",
    "                # see if the NEXT value is in the range. If so, keep the kmer\n",
    "                if beginning_entry + 1 < len(all_spectra) and all_spectra[beginning_entry] <= ub:\n",
    "                    \n",
    "                    if ion == 'b':\n",
    "                        b_hits[kmer[:c+1]] = None\n",
    "                        t.insert(prot_name, kmer[:c+1])\n",
    "                    else:\n",
    "                        y_hits[kmer[-c-1:]] = None\n",
    "                        t.insert(prot_name, kmer[-c-1:])\n",
    "\n",
    "b_hits = {}\n",
    "y_hits = {}\n",
    "plen = len(prots)\n",
    "\n",
    "t = Tree()\n",
    "\n",
    "for i, (name, prot_entry) in enumerate(prots.items()):\n",
    "    \n",
    "    \n",
    "    print(f'\\rOn protein {i+1}/{plen} [{int((i+1) * 100 / plen)}%]', end='')\n",
    "    \n",
    "    for j in range(1, max_len):\n",
    "        kmer = prot_entry.sequence[:j]\n",
    "        find_kmer_hits(kmer, name)\n",
    "    \n",
    "    for j in range(len(prot_entry.sequence) - max_len):\n",
    "        kmer = prot_entry.sequence[j:j+max_len]\n",
    "        find_kmer_hits(kmer, name)     \n",
    "        \n",
    "    for j in range(len(prot_entry.sequence) - max_len, len(prot_entry.sequence)):\n",
    "        kmer = prot_entry.sequence[j:]\n",
    "        find_kmer_hits(kmer, name)\n",
    "                    "
   ]
  },
  {
   "cell_type": "markdown",
   "metadata": {},
   "source": [
    "## 6. Score all of the remaining sequnces against each spectrum"
   ]
  },
  {
   "cell_type": "code",
   "execution_count": 9,
   "metadata": {},
   "outputs": [],
   "source": [
    "# %%time\n",
    "\n",
    "# bt = MassTree(ppm_tol)\n",
    "# yt = MassTree(ppm_tol)\n",
    "\n",
    "# for i, b_hit in enumerate(b_hits):\n",
    "#     print(f'\\rOn b-ion kmer {i+1}/{len(b_hits)} [{to_percent(i, len(b_hits))}%]', end='')\n",
    "    \n",
    "#     bs = gen_spectrum(b_hit, ion='b', charge=1)['spectrum']\n",
    "#     bd = gen_spectrum(b_hit, ion='b', charge=2)['spectrum']\n",
    "#     bt.add_sequence(b_hit, bs, bd)\n",
    "        \n",
    "# print()\n",
    "# for i, y_hit in enumerate(y_hits):\n",
    "#     print(f'\\rOn y-ion kmer {i+1}/{len(y_hits)} [{to_percent(i, len(y_hits))}%]', end='')\n",
    "    \n",
    "#     ys = gen_spectrum(y_hit, ion='y', charge=1)['spectrum']\n",
    "#     yd = gen_spectrum(y_hit, ion='y', charge=2)['spectrum']\n",
    "#     yt.add_sequence(y_hit[::-1], ys, yd)\n",
    "    "
   ]
  },
  {
   "cell_type": "code",
   "execution_count": 10,
   "metadata": {},
   "outputs": [],
   "source": [
    "# x = 10\n",
    "# for i in range(len(spectra)):\n",
    "#     b_results[i].sort(key=lambda x: x[1], reverse=True)\n",
    "#     y_results[i].sort(key=lambda x: x[1], reverse=True)\n",
    "#     print(f'============================ spectrum {i}')\n",
    "#     print(f'b results: \\n{b_results[i][:x]}')\n",
    "#     print(f'y results: \\n{y_results[i][:x]}')\n",
    "    "
   ]
  },
  {
   "cell_type": "code",
   "execution_count": 11,
   "metadata": {},
   "outputs": [],
   "source": [
    "# # do it the np dot product way\n",
    "# window = 1\n",
    "# sparse_spectra = np.zeros((len(spectra), longest_array(window, max_len)))\n",
    "\n",
    "# for i, spectrum in enumerate(spectra):\n",
    "#     sparse_spectra[i] = sparse_it(spectrum.spectrum, window, max_len)"
   ]
  },
  {
   "cell_type": "code",
   "execution_count": 12,
   "metadata": {},
   "outputs": [
    {
     "name": "stdout",
     "output_type": "stream",
     "text": [
      "Scoring b_hit 33352/33352 [100%]\n",
      "Scoring y_hit 31324/31324 [100%]"
     ]
    }
   ],
   "source": [
    "# go through all of the b and y hits and add them to the hits\n",
    "scored_b_hits = defaultdict(list)\n",
    "scored_y_hits = defaultdict(list)\n",
    "\n",
    "def add_hit(results, kmer, r_d):\n",
    "    for i, value in enumerate(results):\n",
    "        r_d[i].append((kmer, value))\n",
    "        \n",
    "for i, b_hit in enumerate(b_hits):\n",
    "    print(f'\\rScoring b_hit {i+1}/{len(b_hits)} [{to_percent(i, len(b_hits))}%]', end='')\n",
    "#     sparse_b = sparse_it(gen_spectrum(b_hit, ion='b')['spectrum'], window, max_len)\n",
    "    results = [scoring.intensity_ion_backbone_score(spectrum, b_hit, 'b', ppm_tol) for spectrum in spectra]\n",
    "    add_hit(results, b_hit, scored_b_hits)\n",
    "\n",
    "print()\n",
    "for i, y_hit in enumerate(y_hits):\n",
    "    print(f'\\rScoring y_hit {i+1}/{len(y_hits)} [{to_percent(i, len(y_hits))}%]', end='')\n",
    "    #sparse_y = sparse_it(gen_spectrum(b_hit, ion='y')['spectrum'], window, max_len)\n",
    "    results = [scoring.intensity_ion_backbone_score(spectrum, y_hit, 'y', ppm_tol) for spectrum in spectra]\n",
    "    add_hit(results, y_hit, scored_y_hits)"
   ]
  },
  {
   "cell_type": "code",
   "execution_count": 13,
   "metadata": {},
   "outputs": [],
   "source": [
    "db = Database(fasta_file, prots, t)"
   ]
  },
  {
   "cell_type": "markdown",
   "metadata": {},
   "source": [
    "## 7. For each spectrum, search the graphs and build an alignment"
   ]
  },
  {
   "cell_type": "code",
   "execution_count": 14,
   "metadata": {},
   "outputs": [
    {
     "name": "stdout",
     "output_type": "stream",
     "text": [
      "Creating an alignment for spectrum 9/9 [100%]\r"
     ]
    }
   ],
   "source": [
    "alignments = {}\n",
    "\n",
    "satisfied_percent = .2\n",
    "max_gap = 2\n",
    "TOP_X = 10\n",
    "\n",
    "for i, spectrum in enumerate(spectra):\n",
    "    print(f'Creating an alignment for spectrum {i+1}/{len(spectra)} [{to_percent(i, len(spectra))}%]\\r', end='')\n",
    "    \n",
    "# TREE/GRAPH SITUATION\n",
    "#     max_len = int(ceil(spectrum.spectrum[-1]/ 57.021464))\n",
    "#     b_satisfied, y_satisfied, satisfied = False, False, False\n",
    "#     b_hits, y_hits = [], []\n",
    "#     gap = 2\n",
    "    \n",
    "\n",
    "#     while gap <= max_gap and not satisfied:\n",
    "#         print('\\nIN THE WHILE LOOP')\n",
    "#         print(f'Current gap is {gap}')\n",
    "        \n",
    "#         if not b_satisfied:\n",
    "#             b_hits = bt.fuzzy_search(spectrum.spectrum, gap)\n",
    "#             b_satisfied = (len(b_hits) > 0 and max(list(map(len, b_hits))) >= max_len * satisfied_percent) or gap >= max_len\n",
    "            \n",
    "#         if not y_satisfied:\n",
    "#             y_hits = yt.fuzzy_search(spectrum.spectrum, gap)\n",
    "#             y_satisfied = (len(y_hits) > 0 and max(list(map(len, y_hits))) >= max_len * satisfied_percent) or gap >= max_len\n",
    "            \n",
    "#         satisfied = b_satisfied and y_satisfied\n",
    "        \n",
    "#         gap += 1\n",
    "        \n",
    "#     scored_b_hits[i].sort(key=lambda x: x[1], reverse=True)\n",
    "#     scored_y_hits[i].sort(key=lambda x: x[1], reverse=True)\n",
    "    \n",
    "    this_b_dawg = PyMassDawg()\n",
    "    this_y_dawg = PyMassDawg()\n",
    "    \n",
    "    for b_hit, score in scored_b_hits[i]:\n",
    "        if score > 0:\n",
    "            bs = gen_spectrum(b_hit, ion='b', charge=1)['spectrum']\n",
    "            bd = gen_spectrum(b_hit, ion='b', charge=2)['spectrum']\n",
    "            this_b_dawg.insert(bs, bd, b_hit)\n",
    "    this_b_dawg.finish()\n",
    "    \n",
    "    for y_hit, score in scored_y_hits[i]:\n",
    "        if score > 0:\n",
    "            ys = gen_spectrum(y_hit, ion='y', charge=1)['spectrum']\n",
    "            yd = gen_spectrum(y_hit, ion='y', charge=2)['spectrum']\n",
    "            this_y_dawg.insert(ys, yd, y_hit[::-1])\n",
    "    this_y_dawg.finish()\n",
    "    \n",
    "    b_hits = this_b_dawg.fuzzy_search(spectrum.spectrum, 2, ppm_tol)\n",
    "    y_hits = this_y_dawg.fuzzy_search(spectrum.spectrum, 2, ppm_tol)\n",
    "    \n",
    "    b_hits.sort(key=len, reverse=True)\n",
    "    y_hits.sort(key=len, reverse=True)\n",
    "    \n",
    "\n",
    "#     refined_b_hits = sorted(\n",
    "#         [(x, mass_comparisons.optimized_compare_masses(spectrum.spectrum, gen_spectrum(x, ion='b')['spectrum'])) for x in b_hits], \n",
    "#         key=lambda x: x[1], \n",
    "#         reverse=True\n",
    "#     )[:TOP_X]\n",
    "\n",
    "#     refined_y_hits = sorted(\n",
    "#         [(x, mass_comparisons.optimized_compare_masses(spectrum.spectrum, gen_spectrum(x, ion='y')['spectrum'])) for x in y_hits], \n",
    "#         key=lambda x: x[1], \n",
    "#         reverse=True\n",
    "#     )[:TOP_X]\n",
    "    \n",
    "    alignments[i] = alignment.attempt_alignment(\n",
    "        spectrum, \n",
    "        db, \n",
    "#         [x[0] for x in scored_b_hits[i][:TOP_X] if x[1] > 0], \n",
    "#         [x[0] for x in scored_y_hits[i][:TOP_X] if x[1] > 0], \n",
    "        b_hits[:TOP_X],\n",
    "        y_hits[:TOP_X],\n",
    "        ppm_tolerance=ppm_tol, \n",
    "        n=3, \n",
    "        scoring_alg='ion'\n",
    "    )\n",
    "    \n"
   ]
  },
  {
   "cell_type": "code",
   "execution_count": 15,
   "metadata": {},
   "outputs": [
    {
     "name": "stdout",
     "output_type": "stream",
     "text": [
      "Sequence \t | \t scores \t | \t precursor distance\n",
      "Alignments for sequence 0\n",
      "Alignments for sequence 1\n",
      "SILASFNS \t | \t b: 3, y: 1 \t | \t 0.9908572499999764\n",
      "SKVFPVSA \t | \t b: 1, y: 2 \t | \t 0.9884067499999674\n",
      "ILASFNSS \t | \t b: 1, y: 1 \t | \t 0.9908572499999764\n",
      "Alignments for sequence 2\n",
      "Alignments for sequence 3\n",
      "AGGATVEPAGGAL \t | \t b: 4, y: 1 \t | \t 0.00494475000004968\n",
      "TVTDGLHSGAL \t | \t b: 3, y: 1 \t | \t 0.004944249999994099\n",
      "GSGPPSGTGLGAL \t | \t b: 3, y: 1 \t | \t 0.004944250000107786\n",
      "Alignments for sequence 4\n",
      "Alignments for sequence 5\n",
      "Alignments for sequence 6\n",
      "Alignments for sequence 7\n",
      "Alignments for sequence 8\n",
      "STGEKGFGTGSPL \t | \t b: 2, y: 1 \t | \t 0.055824250000000575\n",
      "SAAFSSVGSATVGP \t | \t b: 2, y: 1 \t | \t 0.055824750000056156\n",
      "SAAFSSVGSALPSG \t | \t b: 2, y: 1 \t | \t 0.05582525000011174\n"
     ]
    }
   ],
   "source": [
    "print('Sequence \\t | \\t scores \\t | \\t precursor distance')\n",
    "for i, als in alignments.items():\n",
    "    print(f'Alignments for sequence {i}')\n",
    "    for a in als.alignments:\n",
    "        print(f'{a.sequence} \\t | \\t b: {a.b_score}, y: {a.y_score} \\t | \\t {a.precursor_distance}')"
   ]
  },
  {
   "cell_type": "code",
   "execution_count": null,
   "metadata": {},
   "outputs": [],
   "source": []
  },
  {
   "cell_type": "code",
   "execution_count": null,
   "metadata": {},
   "outputs": [],
   "source": []
  }
 ],
 "metadata": {
  "kernelspec": {
   "display_name": "Python 3",
   "language": "python",
   "name": "python3"
  },
  "language_info": {
   "codemirror_mode": {
    "name": "ipython",
    "version": 3
   },
   "file_extension": ".py",
   "mimetype": "text/x-python",
   "name": "python",
   "nbconvert_exporter": "python",
   "pygments_lexer": "ipython3",
   "version": "3.7.4"
  }
 },
 "nbformat": 4,
 "nbformat_minor": 4
}

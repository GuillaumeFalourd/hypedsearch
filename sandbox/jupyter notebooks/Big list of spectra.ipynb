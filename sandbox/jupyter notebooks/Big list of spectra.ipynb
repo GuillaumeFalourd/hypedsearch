{
 "cells": [
  {
   "cell_type": "markdown",
   "metadata": {},
   "source": [
    "# Pre-processing spectra to make easier to search\n",
    "\n",
    "Idea: make one big spectrum that we will then tag masses with amino acid sequences\n",
    "\n",
    "Flow: \n",
    "1. Load all spectra\n",
    "2. Make a single large spectrum called `S`\n",
    "3. Find the `max_length` peptide from the maximum mass\n",
    "4. Load the database\n",
    "5. For each protein `P` of the database\n",
    "    1. For each kmer `k` of length `max_length`\n",
    "        1. Calculate each individual spectrum for `(b+, b++, y+, y++)` (we call `ts`)\n",
    "        2. For each `ts`:\n",
    "            1. For each mass `m` of this `ts`:\n",
    "                1. Binary search `S` for `m` plus/minus tolerance\n",
    "                2. If the mass is found, add the `k(m)` to a dictionary to keep for later split by ion type\n",
    "6. Build a MassDawg for both `b` and `y` kmers taken from the search\n",
    "7. For each input spectrum:\n",
    "    1. Search both the `b` and `y` MassDawgs for sequences \n",
    "    2. Make an alignment\n",
    "                "
   ]
  },
  {
   "cell_type": "code",
   "execution_count": 1,
   "metadata": {},
   "outputs": [],
   "source": [
    "import os\n",
    "import sys\n",
    "module_path = os.path.abspath(os.path.join('..'))\n",
    "if module_path not in sys.path:\n",
    "    sys.path.append(module_path)\n",
    "module_path = os.path.abspath(os.path.join('../..'))\n",
    "if module_path not in sys.path:\n",
    "    sys.path.append(module_path)\n",
    "    \n",
    "from pyteomics import fasta\n",
    "from collections import defaultdict\n",
    "from src.sequence.gen_spectra import gen_spectrum, gen_min_ordering\n",
    "from src.file_io import mzML\n",
    "from src.objects import Spectrum\n",
    "from src.utils import ppm_to_da\n",
    "from src.scoring import scoring\n",
    "\n",
    "import bisect\n",
    "\n",
    "from mass_dawg import PyMassDawg\n",
    "\n",
    "import numpy as np\n",
    "\n",
    "ppm_tol = 20"
   ]
  },
  {
   "cell_type": "code",
   "execution_count": 2,
   "metadata": {},
   "outputs": [],
   "source": [
    "def longest_array(window, length):\n",
    "    return int(np.ceil(1/window * length * 186.079313))\n",
    "\n",
    "def sparse_it(spectrum, window, length):\n",
    "    sparse = np.zeros(longest_array(window, length))\n",
    "    for mz in spectrum:\n",
    "        mz_direct = int(mz/window)\n",
    "        sparse[mz_direct] = 1\n",
    "    \n",
    "    return sparse"
   ]
  },
  {
   "cell_type": "markdown",
   "metadata": {},
   "source": [
    "## 1. Load all spectra"
   ]
  },
  {
   "cell_type": "code",
   "execution_count": 3,
   "metadata": {},
   "outputs": [],
   "source": [
    "spectra_file = '/Users/zacharymcgrath/Desktop/nod2 data/single/singleRealSpectrum.mzml'\n",
    "fasta_file = '/Users/zacharymcgrath/Desktop/nod2 data/filteredNOD2.fasta'"
   ]
  },
  {
   "cell_type": "code",
   "execution_count": 4,
   "metadata": {},
   "outputs": [],
   "source": [
    "spectra = mzML.read(spectra_file, peak_filter=25)"
   ]
  },
  {
   "cell_type": "markdown",
   "metadata": {},
   "source": [
    "## 2. Make the single large spectrum"
   ]
  },
  {
   "cell_type": "code",
   "execution_count": 5,
   "metadata": {},
   "outputs": [],
   "source": [
    "all_spectra = sorted([x for spectrum in spectra for x in spectrum.spectrum])"
   ]
  },
  {
   "cell_type": "markdown",
   "metadata": {},
   "source": [
    "## 3. Find the max length possible peptide"
   ]
  },
  {
   "cell_type": "code",
   "execution_count": 6,
   "metadata": {},
   "outputs": [],
   "source": [
    "max_len = int(np.ceil(all_spectra[-1]/ 57.021464))"
   ]
  },
  {
   "cell_type": "markdown",
   "metadata": {},
   "source": [
    "## 4. Load the database into RAM"
   ]
  },
  {
   "cell_type": "code",
   "execution_count": 7,
   "metadata": {},
   "outputs": [],
   "source": [
    "prots = {}\n",
    "for i, entry in enumerate(fasta.read(fasta_file)):\n",
    "    prots[i] = entry"
   ]
  },
  {
   "cell_type": "markdown",
   "metadata": {},
   "source": [
    "## 5. The search"
   ]
  },
  {
   "cell_type": "code",
   "execution_count": 8,
   "metadata": {},
   "outputs": [
    {
     "name": "stdout",
     "output_type": "stream",
     "text": [
      "On protein 279/279 [100%]"
     ]
    }
   ],
   "source": [
    "b_hits = {}\n",
    "y_hits = {}\n",
    "plen = len(prots)\n",
    "\n",
    "for i, prot_entry in prots.items():\n",
    "    \n",
    "    print(f'\\rOn protein {i+1}/{plen} [{int((i+1) * 100 / plen)}%]', end='')\n",
    "    \n",
    "    for j in range(len(prot_entry.sequence) - max_len):\n",
    "        kmer = prot_entry.sequence[j:j+max_len]\n",
    "        \n",
    "        for ion in 'by':\n",
    "            for charge in [1, 2]:\n",
    "                spec = gen_spectrum(kmer, ion=ion, charge=charge)['spectrum']\n",
    "            \n",
    "                for c, mass in enumerate(spec):\n",
    "\n",
    "                    da_tol = ppm_to_da(mass, ppm_tol)\n",
    "                    lb = mass - da_tol\n",
    "                    ub = mass + da_tol\n",
    "                    \n",
    "                    beginning_entry = bisect.bisect_left(all_spectra, lb)\n",
    "                    \n",
    "                    # see if the NEXT value is in the range. If so, keep the kmer\n",
    "                    if beginning_entry + 1 < len(all_spectra) and all_spectra[beginning_entry] <= ub:\n",
    "                        if ion == 'b':\n",
    "                            b_hits[kmer[:c+1]] = None\n",
    "                        else:\n",
    "                            y_hits[kmer[-c-1:]] = None                     \n",
    "                    "
   ]
  },
  {
   "cell_type": "markdown",
   "metadata": {},
   "source": [
    "## 6. Build the MassDawgs for the different ions"
   ]
  },
  {
   "cell_type": "code",
   "execution_count": 9,
   "metadata": {},
   "outputs": [],
   "source": [
    "b_dog = PyMassDawg()\n",
    "y_dog = PyMassDawg()"
   ]
  },
  {
   "cell_type": "code",
   "execution_count": 10,
   "metadata": {},
   "outputs": [],
   "source": [
    "for kmer in sorted(b_hits.keys(), key=gen_min_ordering):\n",
    "    bs = gen_spectrum(kmer, ion='b', charge=1)['spectrum']\n",
    "    bd = gen_spectrum(kmer, ion='b', charge=2)['spectrum']\n",
    "    b_dog.insert(bs, bd, kmer)\n",
    "b_dog.finish()"
   ]
  },
  {
   "cell_type": "code",
   "execution_count": 11,
   "metadata": {},
   "outputs": [],
   "source": [
    "for kmer in sorted(y_hits.keys(), key=lambda x: gen_min_ordering(x[::-1])):\n",
    "    ys = gen_spectrum(kmer, ion='y', charge=1)['spectrum']\n",
    "    yd = gen_spectrum(kmer, ion='y', charge=2)['spectrum']\n",
    "    y_dog.insert(ys, yd, kmer[::-1])\n",
    "\n",
    "y_dog.finish()"
   ]
  },
  {
   "cell_type": "markdown",
   "metadata": {},
   "source": [
    "## 7. For each spectrum, search the graphs and build an alignment"
   ]
  },
  {
   "cell_type": "code",
   "execution_count": 20,
   "metadata": {},
   "outputs": [
    {
     "name": "stdout",
     "output_type": "stream",
     "text": [
      "[('SAGT', 3), ('SATG', 3), ('GEAD', 3), ('EGAD', 3), ('ADAD', 3), ('ADAL', 3), ('GEAI', 3), ('SSAA', 3), ('DAAL', 3), ('EGAL', 3), ('SAAS', 3), ('SSVP', 3), ('GEAL', 3), ('DAAI', 3), ('SASA', 3), ('ADAI', 3), ('EGAI', 3), ('DAAD', 3), ('SSPV', 3)]\n"
     ]
    }
   ],
   "source": [
    "b_search_results = b_dog.fuzzy_search(spectra[1].spectrum, 1, ppm_tol)\n",
    "sorted_b_results = sorted([(kmer, scoring.score_subsequence(spectra[1].spectrum, kmer, ppm_tol)[0]) for kmer in b_search_results], key=lambda x: x[1], reverse=True)\n",
    "max_score = sorted_b_results[0][1]\n",
    "filtered_b_results = [x for x in sorted_b_results if x[1] == max_score]\n",
    "print(filtered_b_results)"
   ]
  },
  {
   "cell_type": "code",
   "execution_count": 21,
   "metadata": {},
   "outputs": [
    {
     "name": "stdout",
     "output_type": "stream",
     "text": [
      "[('AIVGYK', 6)]\n"
     ]
    }
   ],
   "source": [
    "y_search_results = [x[::-1] for x in y_dog.fuzzy_search(spectra[1].spectrum, 1, ppm_tol)]\n",
    "sorted_y_results = sorted([(kmer, scoring.score_subsequence(spectra[1].spectrum, kmer, ppm_tol)[1]) for kmer in y_search_results], key=lambda x: x[1], reverse=True)\n",
    "max_score = sorted_y_results[0][1]\n",
    "filtered_y_results = [x for x in sorted_y_results if x[1] == max_score]\n",
    "print(filtered_y_results)"
   ]
  },
  {
   "cell_type": "code",
   "execution_count": null,
   "metadata": {},
   "outputs": [],
   "source": []
  }
 ],
 "metadata": {
  "kernelspec": {
   "display_name": "Python 3",
   "language": "python",
   "name": "python3"
  },
  "language_info": {
   "codemirror_mode": {
    "name": "ipython",
    "version": 3
   },
   "file_extension": ".py",
   "mimetype": "text/x-python",
   "name": "python",
   "nbconvert_exporter": "python",
   "pygments_lexer": "ipython3",
   "version": "3.7.4"
  }
 },
 "nbformat": 4,
 "nbformat_minor": 4
}

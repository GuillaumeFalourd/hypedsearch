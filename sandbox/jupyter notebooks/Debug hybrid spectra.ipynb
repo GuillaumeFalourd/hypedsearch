{
 "cells": [
  {
   "cell_type": "markdown",
   "metadata": {},
   "source": [
    "# Debug the real spectra\n",
    "\n",
    "So it doesn't work well with real data, so having taken out one example of real data, the sequence is\n",
    "\n",
    "__NOTE__: These are ALL hybrids\n",
    "\n",
    "\n",
    "1. `DLQTLALLL`\n",
    "2. `DPQVAQLELGGEVEDPQVAQLELGGGPGAG`\n",
    "3. `DLPVNSPMTKG`\n",
    "4. `DLQTLALWSRM`\n",
    "5. `DLQTLALNAAR`\n",
    "6. `DLQTLALNAAR`\n",
    "7. `DLQTLEVE`\n",
    "8. `DLQTLALEVE`\n",
    "\n",
    "so toy with the tool until we find out whats wrong"
   ]
  },
  {
   "cell_type": "markdown",
   "metadata": {},
   "source": [
    "## Load params and run"
   ]
  },
  {
   "cell_type": "code",
   "execution_count": 1,
   "metadata": {},
   "outputs": [],
   "source": [
    "import os\n",
    "import sys\n",
    "module_path = os.path.abspath(os.path.join('..'))\n",
    "if module_path not in sys.path:\n",
    "    sys.path.append(module_path)\n",
    "module_path = os.path.abspath(os.path.join('../..'))\n",
    "if module_path not in sys.path:\n",
    "    sys.path.append(module_path)\n",
    "    \n",
    "from src import runner\n",
    "    "
   ]
  },
  {
   "cell_type": "code",
   "execution_count": 2,
   "metadata": {},
   "outputs": [],
   "source": [
    "specPath = '/Users/zacharymcgrath/Desktop/nod2 data/hybridSpec/'\n",
    "fastaPath = '/Users/zacharymcgrath/Desktop/nod2 data/filteredNOD2.fasta'\n",
    "outputDir = '/Users/zacharymcgrath/Desktop/Experiment output/hybridReal/'\n",
    "minPep = 3\n",
    "maxPep = 30\n",
    "tolerance = 20\n",
    "relative_abundance_filter = 0.0\n",
    "precursor_tolerance = 1\n",
    "peak_filter = 30\n",
    "verbose = True\n",
    "scoringAlg = 'ion'"
   ]
  },
  {
   "cell_type": "code",
   "execution_count": 3,
   "metadata": {},
   "outputs": [],
   "source": [
    "params = {\n",
    "    'spectra_folder': specPath,\n",
    "    'database_file': fastaPath,\n",
    "    'output_dir': outputDir,\n",
    "    'min_peptide_len': minPep,\n",
    "    'max_peptide_len': maxPep,\n",
    "    'tolerance': tolerance,\n",
    "    'precursor_tolerance': precursor_tolerance,\n",
    "    'peak_filter': peak_filter, \n",
    "    'relative_abundance_filter': relative_abundance_filter,\n",
    "    'verbose': verbose, \n",
    "    'scoring_alg': scoringAlg, \n",
    "    'DEBUG': True\n",
    "}"
   ]
  },
  {
   "cell_type": "code",
   "execution_count": 4,
   "metadata": {},
   "outputs": [
    {
     "name": "stdout",
     "output_type": "stream",
     "text": [
      "Loading database...\n",
      "Done\n",
      "Loading spectra...\n",
      "Done\n",
      "Making the protein mass set...\n",
      "On protein 279/279 [100%]\n",
      "Sorting the set of protein masses...\n",
      "Done. Length of the list: 6385846\n",
      "Time to build: 39.0007 seconds\n",
      "Time to do merge: 2.2599 seconds\n",
      "Creating an alignment for 8/8 [100%]\n",
      "Finished search. Writting results to /Users/zacharymcgrath/Desktop/Experiment output/hybridReal/...\n",
      "Could not make an alignment for 1/8 spectra (12%)\n",
      "CPU times: user 47.2 s, sys: 1.17 s, total: 48.4 s\n",
      "Wall time: 48.4 s\n"
     ]
    }
   ],
   "source": [
    "%%time\n",
    "runner.run(params)"
   ]
  },
  {
   "cell_type": "markdown",
   "metadata": {},
   "source": [
    "## Load and read results"
   ]
  },
  {
   "cell_type": "code",
   "execution_count": 5,
   "metadata": {},
   "outputs": [],
   "source": [
    "import pandas as pd\n",
    "\n",
    "outputFile = outputDir + 'summary.tsv'\n",
    "hybridOutputFile = outputDir + 'hybrid_summary.tsv'"
   ]
  },
  {
   "cell_type": "code",
   "execution_count": 6,
   "metadata": {},
   "outputs": [],
   "source": [
    "df = pd.read_csv(outputFile, sep='\\t')\n",
    "hdf = pd.read_csv(hybridOutputFile, sep='\\t')"
   ]
  },
  {
   "cell_type": "code",
   "execution_count": 7,
   "metadata": {},
   "outputs": [
    {
     "data": {
      "text/html": [
       "<div>\n",
       "<style scoped>\n",
       "    .dataframe tbody tr th:only-of-type {\n",
       "        vertical-align: middle;\n",
       "    }\n",
       "\n",
       "    .dataframe tbody tr th {\n",
       "        vertical-align: top;\n",
       "    }\n",
       "\n",
       "    .dataframe thead th {\n",
       "        text-align: right;\n",
       "    }\n",
       "</style>\n",
       "<table border=\"1\" class=\"dataframe\">\n",
       "  <thead>\n",
       "    <tr style=\"text-align: right;\">\n",
       "      <th></th>\n",
       "      <th>Unnamed: 0</th>\n",
       "      <th>left_proteins</th>\n",
       "      <th>right_proteins</th>\n",
       "      <th>sequence</th>\n",
       "      <th>hybrid_sequence</th>\n",
       "      <th>b_score</th>\n",
       "      <th>y_score</th>\n",
       "      <th>total_score</th>\n",
       "      <th>precursor_distance</th>\n",
       "      <th>entry name</th>\n",
       "      <th>id</th>\n",
       "    </tr>\n",
       "  </thead>\n",
       "  <tbody>\n",
       "    <tr>\n",
       "      <td>0</td>\n",
       "      <td>0</td>\n",
       "      <td>['sp|P01325|INS1_MOUSE Insulin-1 OS=Mus muscul...</td>\n",
       "      <td>['sp|Q62186|SSRD_MOUSE Translocon-associated p...</td>\n",
       "      <td>DLQTLALLL</td>\n",
       "      <td>DLQT-LALLL</td>\n",
       "      <td>6</td>\n",
       "      <td>2</td>\n",
       "      <td>8</td>\n",
       "      <td>0.000194</td>\n",
       "      <td>0</td>\n",
       "      <td>NOD2_E3.21510.21510.2.pkl</td>\n",
       "    </tr>\n",
       "    <tr>\n",
       "      <td>1</td>\n",
       "      <td>1</td>\n",
       "      <td>['sp|P01325|INS1_MOUSE Insulin-1 OS=Mus muscul...</td>\n",
       "      <td>['sp|P26339|CMGA_MOUSE Chromogranin-A OS=Mus m...</td>\n",
       "      <td>DLQTLALWSRM</td>\n",
       "      <td>DLQTLAL-WSRM</td>\n",
       "      <td>5</td>\n",
       "      <td>8</td>\n",
       "      <td>13</td>\n",
       "      <td>0.000192</td>\n",
       "      <td>3</td>\n",
       "      <td>NOD2_E3.16373.16401.2.pkl</td>\n",
       "    </tr>\n",
       "    <tr>\n",
       "      <td>2</td>\n",
       "      <td>2</td>\n",
       "      <td>['sp|P63154|CRNL1_MOUSE Crooked neck-like prot...</td>\n",
       "      <td>['sp|Q02819|NUCB1_MOUSE Nucleobindin-1 OS=Mus ...</td>\n",
       "      <td>EVQITALNARA</td>\n",
       "      <td>EVQITA-LNARA</td>\n",
       "      <td>4</td>\n",
       "      <td>8</td>\n",
       "      <td>12</td>\n",
       "      <td>0.504749</td>\n",
       "      <td>5</td>\n",
       "      <td>NOD2_E3.10635.10674.3.pkl</td>\n",
       "    </tr>\n",
       "    <tr>\n",
       "      <td>3</td>\n",
       "      <td>3</td>\n",
       "      <td>['sp|Q3UVY5|PCX4_MOUSE Pecanex-like protein 4 ...</td>\n",
       "      <td>['sp|Q9WTX5|SKP1_MOUSE S-phase kinase-associat...</td>\n",
       "      <td>ELTNLEDL</td>\n",
       "      <td>ELTN-LEDL</td>\n",
       "      <td>6</td>\n",
       "      <td>2</td>\n",
       "      <td>8</td>\n",
       "      <td>0.000293</td>\n",
       "      <td>6</td>\n",
       "      <td>NOD2_E3.11427.11516.2.pkl</td>\n",
       "    </tr>\n",
       "  </tbody>\n",
       "</table>\n",
       "</div>"
      ],
      "text/plain": [
       "   Unnamed: 0                                      left_proteins  \\\n",
       "0           0  ['sp|P01325|INS1_MOUSE Insulin-1 OS=Mus muscul...   \n",
       "1           1  ['sp|P01325|INS1_MOUSE Insulin-1 OS=Mus muscul...   \n",
       "2           2  ['sp|P63154|CRNL1_MOUSE Crooked neck-like prot...   \n",
       "3           3  ['sp|Q3UVY5|PCX4_MOUSE Pecanex-like protein 4 ...   \n",
       "\n",
       "                                      right_proteins     sequence  \\\n",
       "0  ['sp|Q62186|SSRD_MOUSE Translocon-associated p...    DLQTLALLL   \n",
       "1  ['sp|P26339|CMGA_MOUSE Chromogranin-A OS=Mus m...  DLQTLALWSRM   \n",
       "2  ['sp|Q02819|NUCB1_MOUSE Nucleobindin-1 OS=Mus ...  EVQITALNARA   \n",
       "3  ['sp|Q9WTX5|SKP1_MOUSE S-phase kinase-associat...     ELTNLEDL   \n",
       "\n",
       "  hybrid_sequence  b_score  y_score  total_score  precursor_distance  \\\n",
       "0      DLQT-LALLL        6        2            8            0.000194   \n",
       "1    DLQTLAL-WSRM        5        8           13            0.000192   \n",
       "2    EVQITA-LNARA        4        8           12            0.504749   \n",
       "3       ELTN-LEDL        6        2            8            0.000293   \n",
       "\n",
       "   entry name                         id  \n",
       "0           0  NOD2_E3.21510.21510.2.pkl  \n",
       "1           3  NOD2_E3.16373.16401.2.pkl  \n",
       "2           5  NOD2_E3.10635.10674.3.pkl  \n",
       "3           6  NOD2_E3.11427.11516.2.pkl  "
      ]
     },
     "execution_count": 7,
     "metadata": {},
     "output_type": "execute_result"
    }
   ],
   "source": [
    "hdf.head(10)"
   ]
  },
  {
   "cell_type": "code",
   "execution_count": 8,
   "metadata": {},
   "outputs": [
    {
     "data": {
      "text/html": [
       "<div>\n",
       "<style scoped>\n",
       "    .dataframe tbody tr th:only-of-type {\n",
       "        vertical-align: middle;\n",
       "    }\n",
       "\n",
       "    .dataframe tbody tr th {\n",
       "        vertical-align: top;\n",
       "    }\n",
       "\n",
       "    .dataframe thead th {\n",
       "        text-align: right;\n",
       "    }\n",
       "</style>\n",
       "<table border=\"1\" class=\"dataframe\">\n",
       "  <thead>\n",
       "    <tr style=\"text-align: right;\">\n",
       "      <th></th>\n",
       "      <th>Unnamed: 0</th>\n",
       "      <th>proteins</th>\n",
       "      <th>sequence</th>\n",
       "      <th>b_score</th>\n",
       "      <th>y_score</th>\n",
       "      <th>total_score</th>\n",
       "      <th>precursor_distance</th>\n",
       "      <th>entry name</th>\n",
       "      <th>id</th>\n",
       "    </tr>\n",
       "  </thead>\n",
       "  <tbody>\n",
       "    <tr>\n",
       "      <td>0</td>\n",
       "      <td>0</td>\n",
       "      <td>['sp|P17751|TPIS_MOUSE Triosephosphate isomera...</td>\n",
       "      <td>DLQRLEPGTM</td>\n",
       "      <td>1</td>\n",
       "      <td>3</td>\n",
       "      <td>4</td>\n",
       "      <td>0.497173</td>\n",
       "      <td>2</td>\n",
       "      <td>NOD2_E3.7065.7065.2.pkl</td>\n",
       "    </tr>\n",
       "    <tr>\n",
       "      <td>1</td>\n",
       "      <td>1</td>\n",
       "      <td>['sp|Q920A5|RISC_MOUSE Retinoid-inducible seri...</td>\n",
       "      <td>LDTQLKPRNT</td>\n",
       "      <td>3</td>\n",
       "      <td>4</td>\n",
       "      <td>7</td>\n",
       "      <td>0.000812</td>\n",
       "      <td>4</td>\n",
       "      <td>NOD2_E3.10614.10681.2.pkl</td>\n",
       "    </tr>\n",
       "    <tr>\n",
       "      <td>2</td>\n",
       "      <td>2</td>\n",
       "      <td>[]</td>\n",
       "      <td>DLQTLALEVE</td>\n",
       "      <td>7</td>\n",
       "      <td>4</td>\n",
       "      <td>11</td>\n",
       "      <td>0.004477</td>\n",
       "      <td>7</td>\n",
       "      <td>NOD2_E3.16920.17393.2.pkl</td>\n",
       "    </tr>\n",
       "  </tbody>\n",
       "</table>\n",
       "</div>"
      ],
      "text/plain": [
       "   Unnamed: 0                                           proteins    sequence  \\\n",
       "0           0  ['sp|P17751|TPIS_MOUSE Triosephosphate isomera...  DLQRLEPGTM   \n",
       "1           1  ['sp|Q920A5|RISC_MOUSE Retinoid-inducible seri...  LDTQLKPRNT   \n",
       "2           2                                                 []  DLQTLALEVE   \n",
       "\n",
       "   b_score  y_score  total_score  precursor_distance  entry name  \\\n",
       "0        1        3            4            0.497173           2   \n",
       "1        3        4            7            0.000812           4   \n",
       "2        7        4           11            0.004477           7   \n",
       "\n",
       "                          id  \n",
       "0    NOD2_E3.7065.7065.2.pkl  \n",
       "1  NOD2_E3.10614.10681.2.pkl  \n",
       "2  NOD2_E3.16920.17393.2.pkl  "
      ]
     },
     "execution_count": 8,
     "metadata": {},
     "output_type": "execute_result"
    }
   ],
   "source": [
    "df.head(10)"
   ]
  },
  {
   "cell_type": "code",
   "execution_count": 9,
   "metadata": {},
   "outputs": [],
   "source": [
    "import json\n",
    "\n",
    "s = json.load(open('/Users/zacharymcgrath/Desktop/Experiment output/singleReal/summary.json', 'r'))"
   ]
  },
  {
   "cell_type": "code",
   "execution_count": 10,
   "metadata": {},
   "outputs": [
    {
     "name": "stdout",
     "output_type": "stream",
     "text": [
      "DLQTLALLL: 10, 6, 2\n",
      "DLQTLALGGL: 9, 6, 1\n",
      "DLQTLALEV: 9, 6, 0\n",
      "LDTQLKPRNT: 4, 2, 3\n"
     ]
    }
   ],
   "source": [
    "for k, v in s.items():\n",
    "    for a in v['alignments']:\n",
    "        print(f'{a[\"sequence\"]}: {a[\"total_score\"]}, {a[\"b_score\"]}, {a[\"y_score\"]}')\n"
   ]
  },
  {
   "cell_type": "code",
   "execution_count": null,
   "metadata": {},
   "outputs": [],
   "source": []
  },
  {
   "cell_type": "code",
   "execution_count": null,
   "metadata": {},
   "outputs": [],
   "source": []
  }
 ],
 "metadata": {
  "kernelspec": {
   "display_name": "Python 3",
   "language": "python",
   "name": "python3"
  },
  "language_info": {
   "codemirror_mode": {
    "name": "ipython",
    "version": 3
   },
   "file_extension": ".py",
   "mimetype": "text/x-python",
   "name": "python",
   "nbconvert_exporter": "python",
   "pygments_lexer": "ipython3",
   "version": "3.7.4"
  }
 },
 "nbformat": 4,
 "nbformat_minor": 4
}

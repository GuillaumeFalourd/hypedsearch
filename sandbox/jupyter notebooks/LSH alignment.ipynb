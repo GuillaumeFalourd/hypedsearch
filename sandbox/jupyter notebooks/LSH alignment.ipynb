{
 "cells": [
  {
   "cell_type": "code",
   "execution_count": 1,
   "metadata": {},
   "outputs": [],
   "source": [
    "import os\n",
    "import sys\n",
    "module_path = os.path.abspath(os.path.join('..'))\n",
    "if module_path not in sys.path:\n",
    "    sys.path.append(module_path)\n",
    "module_path = os.path.abspath(os.path.join('../..'))\n",
    "if module_path not in sys.path:\n",
    "    sys.path.append(module_path)\n",
    "    \n",
    "import numpy as np\n",
    "\n",
    "from src.spectra.gen_spectra import gen_spectrum\n",
    "from src.file_io import mzML\n",
    "from src.utils import insort_by_index\n",
    "from pyteomics import fasta\n",
    "from nearpy import Engine\n",
    "from nearpy.hashes import RandomBinaryProjections\n",
    "\n",
    "# # Dimension of our vector space\n",
    "# dimension = 500\n",
    "\n",
    "# # Create a random binary hash with 10 bits\n",
    "# rbp = RandomBinaryProjections('rbp', 10)\n",
    "\n",
    "# # Create engine with pipeline configuration\n",
    "# engine = Engine(dimension, lshashes=[rbp])\n",
    "\n",
    "# # Index 1000000 random vectors (set their data to a unique string)\n",
    "# for index in range(100000):\n",
    "#     v = numpy.random.randn(dimension)\n",
    "#     engine.store_vector(v, 'data_%d' % index)\n",
    "\n",
    "# # Create random query vector\n",
    "# query = numpy.random.randn(dimension)\n",
    "\n",
    "# # Get nearest neighbours\n",
    "# N = engine.neighbours(query)"
   ]
  },
  {
   "cell_type": "code",
   "execution_count": 2,
   "metadata": {},
   "outputs": [],
   "source": [
    "spectra_file = '../data/testing_output/cis_spliced/realisticCisSplicedSpectra.mzML'\n",
    "fasta_file = '../../testing framework/data/databases/100prots.fasta'\n",
    "\n",
    "prot_iterator = fasta.read(fasta_file)\n",
    "spectra_iterator = mzML.read(spectra_file)"
   ]
  },
  {
   "cell_type": "code",
   "execution_count": 3,
   "metadata": {},
   "outputs": [
    {
     "name": "stdout",
     "output_type": "stream",
     "text": [
      "[132.04776143499998, 260.142724435, 397.20163643499995, 560.2649564349999, 689.3075494349999, 788.3759634349999, 917.4185564349999, 1030.502620435, 66.52751893499999, 130.575000435, 199.10445643499997, 280.63611643499996, 345.15741293499997, 394.69161993499995, 459.21291643499995, 515.754948435, 0, 0, 0, 0, 0, 0, 0, 0, 0, 0, 0, 0, 0, 0, 0, 0, 0, 0, 0, 0, 0, 0, 0, 0, 0, 0, 0, 0, 0, 0, 0, 0, 0, 0]\n",
      "[132.101905135, 261.14449813500005, 360.21291213500007, 489.2555051350001, 652.3188251350001, 789.3777371350001, 917.4727001350001, 1048.5131851350002, 66.554590785, 131.07588728500002, 180.61009428500003, 245.13139078500004, 326.66305078500005, 395.19250678500003, 459.23998828500004, 524.760230785, 0, 0, 0, 0, 0, 0, 0, 0, 0, 0, 0, 0, 0, 0, 0, 0, 0, 0, 0, 0, 0, 0, 0, 0, 0, 0, 0, 0, 0, 0, 0, 0, 0, 0]\n",
      "on protein 99/100\r"
     ]
    }
   ],
   "source": [
    "dimension = 50\n",
    "rbp = RandomBinaryProjections('rbp', 10)\n",
    "engine = Engine(dimension, lshashes=[rbp])\n",
    "\n",
    "prot_tracker = {}\n",
    "\n",
    "# run all of our kmer b and y spectra through\n",
    "for i, p in enumerate(prot_iterator):\n",
    "    \n",
    "    print(f'on protein {i}/100\\r', end = '')\n",
    "    \n",
    "    prot_tracker[i] = p\n",
    "    \n",
    "    for j in range(len(p.sequence) - 3):\n",
    "        for k in range(3, 25):\n",
    "            kmer_len = k if j + k < len(p.sequence) else len(p.sequence) - (k + j)\n",
    "            kmer = p.sequence[j:j+kmer_len]\n",
    "\n",
    "            spec_b = gen_spectrum(kmer, ion='b')['spectrum'] \n",
    "            spec_b += [0 for _ in range(dimension - len(spec_b))]\n",
    "\n",
    "            spec_y = gen_spectrum(kmer, ion='y')['spectrum'] \n",
    "            spec_y += [0 for _ in range(dimension - len(spec_y))]\n",
    "\n",
    "            engine.store_vector(spec_b, f'{kmer}?p_{i}')\n",
    "            engine.store_vector(spec_y, f'{kmer}?p_{i}')\n",
    "\n",
    "            if kmer == 'MKHYEVEI':\n",
    "                print(spec_b)\n",
    "                print(spec_y)\n"
   ]
  },
  {
   "cell_type": "code",
   "execution_count": 4,
   "metadata": {},
   "outputs": [
    {
     "name": "stdout",
     "output_type": "stream",
     "text": [
      "Protein(description='sp|Q9CY27|TECR_MOUSE Very-long-chain enoyl-CoA reductase OS=Mus musculus OX=10090 GN=Tecr PE=1 SV=1', sequence='MKHYEVEIRDAKTREKLCFLDKVEPQATISEIKTLFTKTHPQWYPARQSLRLDPKGKSLKDEDVLQKLPVGTTATLYFRDLGAQISWVTVFLTEYAGPLFIYLLFYFRVPFIYGRKYDFTSSRHTVVHLACMCHSFHYIKRLLETLFVHRFSHGTMPLRNIFKNCTYYWGFAAWMAYYINHPLYTPPTYGVQQVKLALAVFVICQLGNFSIHMALRDLRPAGSKTRKIPYPTKNPFTWLFLLVSCPNYTYEVGSWIGFAILTQCVPVALFSLVGFTQMTIWAKGKHRSYLKEFRDYPPLRMPIIPFLL')\n"
     ]
    }
   ],
   "source": [
    "print(prot_tracker[0])"
   ]
  },
  {
   "cell_type": "code",
   "execution_count": 5,
   "metadata": {},
   "outputs": [
    {
     "name": "stdout",
     "output_type": "stream",
     "text": [
      "[]\n"
     ]
    }
   ],
   "source": [
    "testspec = gen_spectrum('MKHYEVEI')['spectrum']\n",
    "testspec += [0 for _ in range(dimension - len(testspec))]\n",
    "\n",
    "print(engine.neighbours(testspec))"
   ]
  },
  {
   "cell_type": "code",
   "execution_count": null,
   "metadata": {},
   "outputs": [],
   "source": []
  }
 ],
 "metadata": {
  "kernelspec": {
   "display_name": "Python 3",
   "language": "python",
   "name": "python3"
  },
  "language_info": {
   "codemirror_mode": {
    "name": "ipython",
    "version": 3
   },
   "file_extension": ".py",
   "mimetype": "text/x-python",
   "name": "python",
   "nbconvert_exporter": "python",
   "pygments_lexer": "ipython3",
   "version": "3.7.4"
  }
 },
 "nbformat": 4,
 "nbformat_minor": 4
}

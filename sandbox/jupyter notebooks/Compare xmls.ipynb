{
 "cells": [
  {
   "cell_type": "markdown",
   "metadata": {},
   "source": [
    "# Compare the generated xml file with a real one"
   ]
  },
  {
   "cell_type": "code",
   "execution_count": 9,
   "metadata": {},
   "outputs": [],
   "source": [
    "generated = '../data/testing_output/cis_spliced/testSpectraFileFixed.mzML'\n",
    "real = '/Users/zacharymcgrath/Downloads/NOD2_E3.mzml'"
   ]
  },
  {
   "cell_type": "code",
   "execution_count": 10,
   "metadata": {},
   "outputs": [
    {
     "name": "stdout",
     "output_type": "stream",
     "text": [
      "['{http://psi.hupo.org/ms/mzml}selectedIon', '{http://psi.hupo.org/ms/mzml}dataProcessing', '{http://psi.hupo.org/ms/mzml}indexListOffset', '{http://psi.hupo.org/ms/mzml}indexedmzML', '{http://psi.hupo.org/ms/mzml}run', '{http://psi.hupo.org/ms/mzml}offset', '{http://psi.hupo.org/ms/mzml}analyzer', '{http://psi.hupo.org/ms/mzml}sourceFile', '{http://psi.hupo.org/ms/mzml}instrumentConfiguration', '{http://psi.hupo.org/ms/mzml}selectedIonList', '{http://psi.hupo.org/ms/mzml}indexList', '{http://psi.hupo.org/ms/mzml}dataProcessingList', '{http://psi.hupo.org/ms/mzml}scanList', '{http://psi.hupo.org/ms/mzml}binary', '{http://psi.hupo.org/ms/mzml}instrumentConfigurationList', '{http://psi.hupo.org/ms/mzml}precursor', '{http://psi.hupo.org/ms/mzml}software', '{http://psi.hupo.org/ms/mzml}softwareList', '{http://psi.hupo.org/ms/mzml}index', '{http://psi.hupo.org/ms/mzml}detector', '{http://psi.hupo.org/ms/mzml}source', '{http://psi.hupo.org/ms/mzml}spectrum', '{http://psi.hupo.org/ms/mzml}mzML', '{http://psi.hupo.org/ms/mzml}isolationWindow', '{http://psi.hupo.org/ms/mzml}activation', '{http://psi.hupo.org/ms/mzml}cvParam', '{http://psi.hupo.org/ms/mzml}fileDescription', '{http://psi.hupo.org/ms/mzml}cv', '{http://psi.hupo.org/ms/mzml}fileChecksum', '{http://psi.hupo.org/ms/mzml}cvList', '{http://psi.hupo.org/ms/mzml}sourceFileList', '{http://psi.hupo.org/ms/mzml}precursorList', '{http://psi.hupo.org/ms/mzml}scan', '{http://psi.hupo.org/ms/mzml}userParam', '{http://psi.hupo.org/ms/mzml}binaryDataArray', '{http://psi.hupo.org/ms/mzml}componentList', '{http://psi.hupo.org/ms/mzml}softwareRef', '{http://psi.hupo.org/ms/mzml}binaryDataArrayList', '{http://psi.hupo.org/ms/mzml}fileContent', '{http://psi.hupo.org/ms/mzml}spectrumList', '{http://psi.hupo.org/ms/mzml}processingMethod']\n"
     ]
    }
   ],
   "source": [
    "import xml.etree.ElementTree as ET\n",
    "# load and parse the file\n",
    "xmlTree = ET.parse(real)\n",
    "\n",
    "elemList = []\n",
    "\n",
    "for elem in xmlTree.iter():\n",
    "    elemList.append(elem.tag)\n",
    "\n",
    "# now I remove duplicities - by convertion to set and back to list\n",
    "elemList = list(set(elemList))\n",
    "\n",
    "# Just printing out the result\n",
    "print(elemList)"
   ]
  },
  {
   "cell_type": "code",
   "execution_count": 11,
   "metadata": {},
   "outputs": [
    {
     "name": "stdout",
     "output_type": "stream",
     "text": [
      "['{http://psi.hupo.org/ms/mzml}selectedIon', '{http://psi.hupo.org/ms/mzml}dataProcessing', '{http://psi.hupo.org/ms/mzml}indexListOffset', '{http://psi.hupo.org/ms/mzml}indexedmzML', '{http://psi.hupo.org/ms/mzml}run', '{http://psi.hupo.org/ms/mzml}offset', '{http://psi.hupo.org/ms/mzml}sampleList', '{http://psi.hupo.org/ms/mzml}analyzer', '{http://psi.hupo.org/ms/mzml}sourceFile', '{http://psi.hupo.org/ms/mzml}instrumentConfiguration', '{http://psi.hupo.org/ms/mzml}sample', '{http://psi.hupo.org/ms/mzml}selectedIonList', '{http://psi.hupo.org/ms/mzml}indexList', '{http://psi.hupo.org/ms/mzml}dataProcessingList', '{http://psi.hupo.org/ms/mzml}scanList', '{http://psi.hupo.org/ms/mzml}binary', '{http://psi.hupo.org/ms/mzml}instrumentConfigurationList', '{http://psi.hupo.org/ms/mzml}precursor', '{http://psi.hupo.org/ms/mzml}software', '{http://psi.hupo.org/ms/mzml}softwareList', '{http://psi.hupo.org/ms/mzml}index', '{http://psi.hupo.org/ms/mzml}detector', '{http://psi.hupo.org/ms/mzml}source', '{http://psi.hupo.org/ms/mzml}spectrum', '{http://psi.hupo.org/ms/mzml}mzML', '{http://psi.hupo.org/ms/mzml}isolationWindow', '{http://psi.hupo.org/ms/mzml}activation', '{http://psi.hupo.org/ms/mzml}cvParam', '{http://psi.hupo.org/ms/mzml}fileDescription', '{http://psi.hupo.org/ms/mzml}cv', '{http://psi.hupo.org/ms/mzml}fileChecksum', '{http://psi.hupo.org/ms/mzml}cvList', '{http://psi.hupo.org/ms/mzml}sourceFileList', '{http://psi.hupo.org/ms/mzml}precursorList', '{http://psi.hupo.org/ms/mzml}scan', '{http://psi.hupo.org/ms/mzml}userParam', '{http://psi.hupo.org/ms/mzml}binaryDataArray', '{http://psi.hupo.org/ms/mzml}componentList', '{http://psi.hupo.org/ms/mzml}softwareRef', '{http://psi.hupo.org/ms/mzml}binaryDataArrayList', '{http://psi.hupo.org/ms/mzml}fileContent', '{http://psi.hupo.org/ms/mzml}spectrumList', '{http://psi.hupo.org/ms/mzml}processingMethod']\n"
     ]
    }
   ],
   "source": [
    "import xml.etree.ElementTree as ET\n",
    "# load and parse the file\n",
    "xmlTree = ET.parse(generated)\n",
    "\n",
    "genElems = []\n",
    "\n",
    "for elem in xmlTree.iter():\n",
    "    genElems.append(elem.tag)\n",
    "\n",
    "# now I remove duplicities - by convertion to set and back to list\n",
    "genElems = list(set(genElems))\n",
    "\n",
    "# Just printing out the result\n",
    "print(genElems)"
   ]
  },
  {
   "cell_type": "code",
   "execution_count": 12,
   "metadata": {},
   "outputs": [],
   "source": [
    "for tag in elemList:\n",
    "    if tag not in genElems:\n",
    "        print(tag)"
   ]
  },
  {
   "cell_type": "code",
   "execution_count": null,
   "metadata": {},
   "outputs": [],
   "source": []
  }
 ],
 "metadata": {
  "kernelspec": {
   "display_name": "Python 3",
   "language": "python",
   "name": "python3"
  },
  "language_info": {
   "codemirror_mode": {
    "name": "ipython",
    "version": 3
   },
   "file_extension": ".py",
   "mimetype": "text/x-python",
   "name": "python",
   "nbconvert_exporter": "python",
   "pygments_lexer": "ipython3",
   "version": "3.7.4"
  }
 },
 "nbformat": 4,
 "nbformat_minor": 4
}

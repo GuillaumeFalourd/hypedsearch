{
 "cells": [
  {
   "cell_type": "markdown",
   "metadata": {},
   "source": [
    "# Optimizing the scoring algorithm\n",
    "Since the bulk of the program's time is being spent on kmer extension and scoring, any improvements to the scoring algorithm will translate well to the reduction of total time.\n",
    "\n",
    "__NOTE__: these optimizations are taking into account the mass error tolerances since that will be a major component of the algorithm"
   ]
  },
  {
   "cell_type": "markdown",
   "metadata": {},
   "source": [
    "## Current iteration (plus mass tolerance)"
   ]
  },
  {
   "cell_type": "code",
   "execution_count": 1,
   "metadata": {},
   "outputs": [],
   "source": [
    "def ppm(observed: float, actual: float) -> float:\n",
    "    '''\n",
    "    Calculate the ppm difference between the observed and actual\n",
    "    '''\n",
    "    return abs(((observed - actual)/actual) * 1000000)\n",
    "\n",
    "def compare_masses(spectrum: list, reference: list, ppm_tolerance: float) -> float:\n",
    "    '''\n",
    "    CREATED APRIL 27 2020\n",
    "    Score two spectra against eachother. Simple additive scoring with bonuses for streaks\n",
    "    Divides by the length of the reference to make it length biased for the reference\n",
    "\n",
    "    Note:   the difference between this one and the other April one is this one divides \n",
    "            by the length of the spectrum. This is because all extended kmers will \n",
    "            be getting longer, so we want the score to increase with the length, not stay the same\n",
    "\n",
    "    Inputs:\n",
    "        spectrum:       list of floats (from mass spectra)\n",
    "        reference:      list of floats (calculated from protein sequence)\n",
    "        ppm_tolerance:  float of the mass error tolerance allowed\n",
    "    Outputs:\n",
    "        score:      float score \n",
    "    '''\n",
    "    if len(spectrum) == 0 or len(reference) == 0:\n",
    "        return 0.0\n",
    "    streak = 0\n",
    "    last = True\n",
    "    score = 0\n",
    "    max_streak = 0\n",
    "    for refmass in reference:\n",
    "        found = False\n",
    "        # see if an observed is in the spectrum +/- the ppm\n",
    "        for observedmass in spectrum:\n",
    "            if ppm(observedmass, refmass) < ppm_tolerance:\n",
    "                found = True\n",
    "                break\n",
    "    \n",
    "        if found:\n",
    "            if last == True:\n",
    "                streak += 1\n",
    "                max_streak = max([streak, max_streak])\n",
    "            score += 1\n",
    "            last = True \n",
    "\n",
    "        else:\n",
    "            streak = 0\n",
    "            last = False\n",
    "    \n",
    "    score += max_streak\n",
    "    score /= float(len(spectrum))\n",
    "    return score "
   ]
  },
  {
   "cell_type": "markdown",
   "metadata": {},
   "source": [
    "## Testing optimization iteration"
   ]
  },
  {
   "cell_type": "code",
   "execution_count": 2,
   "metadata": {},
   "outputs": [
    {
     "name": "stdout",
     "output_type": "stream",
     "text": [
      "1.5\n",
      "1.5\n"
     ]
    }
   ],
   "source": [
    "from bisect import bisect\n",
    "\n",
    "def ppm_opt(reference: float, ppm_tolerance: float) -> float:\n",
    "    '''\n",
    "    Calculate the ppm difference between the observed and actual\n",
    "    '''\n",
    "    return abs((ppm_tolerance / 1000000)*reference)\n",
    "\n",
    "def optimized_compare_masses(observed: list, reference: list, ppm_tolerance: float) -> float:\n",
    "    '''\n",
    "    CREATED MAY 19 2020\n",
    "    Score two spectra against eachother. Simple additive scoring with bonuses for streaks\n",
    "    Divides by the length of the reference to make it length biased for the reference\n",
    "\n",
    "    Note:   the difference between this one and the April 27 one is this one attempts\n",
    "            to be more optimized in terms of search complexity\n",
    "\n",
    "    Inputs:\n",
    "        observed:       list of floats (from mass spectra)\n",
    "        reference:      list of floats (calculated from protein sequence)\n",
    "        ppm_tolerance:  float of the mass error tolerance allowed\n",
    "    Outputs:\n",
    "        score:      float score \n",
    "    '''\n",
    "    if len(observed) == 0 or len(reference) == 0:\n",
    "        return 0.0\n",
    "    observed.sort()\n",
    "    def boundaries(mass):\n",
    "        tol = ppm_opt(mass, ppm_tolerance)\n",
    "        return [mass - tol, mass + tol]\n",
    "                \n",
    "    # calculate the boundaries for each of the reference masses for binary search\n",
    "    observed_boundaries = []\n",
    "    for obs in observed:\n",
    "        observed_boundaries += boundaries(obs)\n",
    "        \n",
    "    # local variables for score\n",
    "    streak = 0\n",
    "    last = True\n",
    "    score = 0\n",
    "    max_streak = 0\n",
    "    \n",
    "    for ref in reference:\n",
    "        # see if an observed is in the spectrum +/- the ppm by binary searchy\n",
    "        found = bisect(observed_boundaries, ref) % 2\n",
    "    \n",
    "        # increment score if found\n",
    "        if found:\n",
    "            if last == True:\n",
    "                streak += 1\n",
    "                max_streak = max([streak, max_streak])\n",
    "            score += 1\n",
    "            last = True \n",
    "\n",
    "        else:\n",
    "            streak = 0\n",
    "            last = False\n",
    "    \n",
    "    score += max_streak\n",
    "    score /= float(len(observed))\n",
    "    return score \n",
    "    \n",
    "print(optimized_compare_masses([100, 200, 300, 350], [100, 200, 300, 400], 20))\n",
    "print(compare_masses([100, 200, 300, 350], [100, 200, 300, 400], 20))"
   ]
  },
  {
   "cell_type": "markdown",
   "metadata": {},
   "source": [
    "## Create some data to run through it\n",
    "### 1. Load the database"
   ]
  },
  {
   "cell_type": "code",
   "execution_count": 3,
   "metadata": {},
   "outputs": [],
   "source": [
    "import os\n",
    "import sys\n",
    "module_path = os.path.abspath(os.path.join('..'))\n",
    "if module_path not in sys.path:\n",
    "    sys.path.append(module_path)\n",
    "module_path = os.path.abspath(os.path.join('../..'))\n",
    "if module_path not in sys.path:\n",
    "    sys.path.append(module_path)\n",
    "    \n",
    "from src.file_io import fasta\n",
    "\n",
    "fasta_file = '../../testing framework/data/databases/4prots.fasta'\n",
    "database = fasta.read(fasta_file, True)\n",
    "\n",
    "database = {x['name']: x for x in database}"
   ]
  },
  {
   "cell_type": "markdown",
   "metadata": {},
   "source": [
    "### 2.  Generate the peptides, hybrid proteins and peptides"
   ]
  },
  {
   "cell_type": "code",
   "execution_count": 4,
   "metadata": {
    "scrolled": false
   },
   "outputs": [
    {
     "name": "stdout",
     "output_type": "stream",
     "text": [
      "Generating hybrid protein 0/5[0%]\r",
      "Generating hybrid protein 1/5[20%]\r",
      "Generating hybrid protein 2/5[40%]\r",
      "Generating hybrid protein 3/5[60%]\r",
      "Generating hybrid protein 4/5[80%]\r\n",
      "Finished generating hybrid proteins\n"
     ]
    }
   ],
   "source": [
    "import modules\n",
    "from modules.sequence_generation import proteins, peptides\n",
    "\n",
    "num_hybs = 5\n",
    "min_length= 5\n",
    "max_length = 35\n",
    "num_peptides = 500\n",
    "min_cont = 3 #min contribution for each side of a hybrid\n",
    "\n",
    "# make hybrid proteins\n",
    "hyb_prots = proteins.generate_hybrids([x for _, x in database.items()], num_hybs, min_contribution=max_length)\n",
    "# create peptides\n",
    "non_hybrid_peps = peptides.gen_peptides([x for _, x in database.items()], num_peptides, min_length=min_length, max_length=max_length, digest='random', dist='beta')\n",
    "# create hybrid peptides\n",
    "hyb_peps = peptides.gen_peptides(hyb_prots, num_hybs, min_length=min_length, max_length=max_length, digest='random', min_contribution=min_cont, hybrid_list=True)\n",
    "\n",
    "all_proteins_raw = [x for _,x in database.items()] + hyb_prots\n",
    "all_peptides_raw = non_hybrid_peps + hyb_peps\n",
    "\n",
    "peptides = {}\n",
    "for i, pep in enumerate(all_peptides_raw):\n",
    "    peptides[i] = pep\n",
    "    peptides[i]['scan_no'] = i"
   ]
  },
  {
   "cell_type": "markdown",
   "metadata": {},
   "source": [
    "### 3. Generate spectra"
   ]
  },
  {
   "cell_type": "code",
   "execution_count": 5,
   "metadata": {},
   "outputs": [],
   "source": [
    "from src.spectra import gen_spectra\n",
    "from src.utils import utils\n",
    "\n",
    "spectra = []\n",
    "sorted_keys = [int(c) for c in peptides.keys()]\n",
    "sorted_keys.sort()\n",
    "for k in sorted_keys:\n",
    "    pep = peptides[k]\n",
    "    cont = gen_spectra.gen_spectrum(pep['sequence'])\n",
    "    spec = cont['spectrum']\n",
    "    pm = cont['precursor_mass']\n",
    "    spectra.append({'spectrum': spec, 'precursor_mass': pm})\n"
   ]
  },
  {
   "cell_type": "markdown",
   "metadata": {},
   "source": [
    "## Run data through old one and time it"
   ]
  },
  {
   "cell_type": "code",
   "execution_count": 6,
   "metadata": {},
   "outputs": [
    {
     "name": "stdout",
     "output_type": "stream",
     "text": [
      "Time taken for old version: 170.37341785430908\n"
     ]
    }
   ],
   "source": [
    "# iterate through all the spectra and all the 3-mers of the database\n",
    "from src.file_io import fasta\n",
    "import time\n",
    "\n",
    "db = fasta.read(fasta_file)\n",
    "make_mers = lambda x, k: [x[i:i+k] for i in range(len(x)-k+1)]\n",
    "kmers = []\n",
    "for prot in db:\n",
    "    kmers += make_mers(prot['sequence'], 3)\n",
    "\n",
    "old_scored = []\n",
    "st = time.time()\n",
    "speclen = len(spectra)\n",
    "for i, spec in enumerate(spectra):\n",
    "    print('On spectrum {}/{}\\r'.format(i, speclen), end='')\n",
    "    for kmer in kmers:\n",
    "        old_scored.append(((kmer, compare_masses(spec['spectrum'], gen_spectra.gen_spectrum(kmer)['spectrum'], 10))))\n",
    "print('Time taken for old version: {}'.format(time.time() - st))"
   ]
  },
  {
   "cell_type": "markdown",
   "metadata": {},
   "source": [
    "## Run data through new one and time it"
   ]
  },
  {
   "cell_type": "code",
   "execution_count": 7,
   "metadata": {},
   "outputs": [
    {
     "name": "stdout",
     "output_type": "stream",
     "text": [
      "Time taken for new version: 38.86096000671387\n"
     ]
    }
   ],
   "source": [
    "# iterate through all the spectra and all the 3-mers of the database\n",
    "from src.file_io import fasta\n",
    "import time\n",
    "\n",
    "db = fasta.read(fasta_file)\n",
    "make_mers = lambda x, k: [x[i:i+k] for i in range(len(x)-k+1)]\n",
    "kmers = []\n",
    "for prot in db:\n",
    "    kmers += make_mers(prot['sequence'], 3)\n",
    "\n",
    "new_scored = []    \n",
    "    \n",
    "st = time.time()\n",
    "speclen = len(spectra)\n",
    "for i, spec in enumerate(spectra):\n",
    "    print('On spectrum {}/{}\\r'.format(i, speclen), end='')\n",
    "    for kmer in kmers:\n",
    "        new_scored.append((kmer, optimized_compare_masses(spec['spectrum'], gen_spectra.gen_spectrum(kmer)['spectrum'], 10)))\n",
    "print('Time taken for new version: {}'.format(time.time() - st))"
   ]
  },
  {
   "cell_type": "markdown",
   "metadata": {},
   "source": [
    "## Make sure the results are the same"
   ]
  },
  {
   "cell_type": "code",
   "execution_count": 8,
   "metadata": {},
   "outputs": [],
   "source": [
    "not_in = []\n",
    "yes_in = []\n",
    "for i in range(len(new_scored)):\n",
    "    if new_scored[i] != old_scored[i]:\n",
    "        not_in.append(i)\n",
    "    else:\n",
    "        yes_in.append(i)"
   ]
  },
  {
   "cell_type": "code",
   "execution_count": 9,
   "metadata": {},
   "outputs": [
    {
     "name": "stdout",
     "output_type": "stream",
     "text": [
      "1297045\n",
      "0\n"
     ]
    }
   ],
   "source": [
    "print(len(yes_in))\n",
    "print(len(not_in))"
   ]
  },
  {
   "cell_type": "code",
   "execution_count": 13,
   "metadata": {},
   "outputs": [
    {
     "name": "stdout",
     "output_type": "stream",
     "text": [
      "('LLD', 0.038461538461538464)\n",
      "('LLD', 0.07692307692307693)\n"
     ]
    }
   ],
   "source": [
    "print(new_scored[not_in[500]])\n",
    "print(old_scored[not_in[500]])"
   ]
  },
  {
   "cell_type": "code",
   "execution_count": 35,
   "metadata": {},
   "outputs": [
    {
     "name": "stdout",
     "output_type": "stream",
     "text": [
      "spectrum:\n",
      "[57.549308435, 66.554590785, 114.09134043499999, 114.091340435, 123.096622785, 132.101905135, 227.175404435, 245.185969135]\n",
      "ppm for 57.549308435 compared to reference 57.549308435: 0.0\n",
      "hit for 57.549308435\n",
      "ppm for 57.549308435 compared to reference 60.536398285000004: 49343.69956958869\n",
      "ppm for 66.554590785 compared to reference 60.536398285000004: 99414.4460274442\n",
      "ppm for 114.09134043499999 compared to reference 60.536398285000004: 884673.4141312481\n",
      "ppm for 114.091340435 compared to reference 60.536398285000004: 884673.4141312484\n",
      "ppm for 123.096622785 compared to reference 60.536398285000004: 1033431.559728281\n",
      "ppm for 132.101905135 compared to reference 60.536398285000004: 1182189.705325314\n",
      "ppm for 227.175404435 compared to reference 60.536398285000004: 2752707.641532922\n",
      "ppm for 245.185969135 compared to reference 60.536398285000004: 3050223.9327269876\n",
      "ppm for 57.549308435 compared to reference 110.070605285: 477160.06207115314\n",
      "ppm for 66.554590785 compared to reference 110.070605285: 395346.372333706\n",
      "ppm for 114.09134043499999 compared to reference 110.070605285: 36528.69119406871\n",
      "ppm for 114.091340435 compared to reference 110.070605285: 36528.691194068844\n",
      "ppm for 123.096622785 compared to reference 110.070605285: 118342.38093151587\n",
      "ppm for 132.101905135 compared to reference 110.070605285: 200156.07066896316\n",
      "ppm for 227.175404435 compared to reference 110.070605285: 1063906.1977245125\n",
      "ppm for 245.185969135 compared to reference 110.070605285: 1227533.577199407\n",
      "ppm for 57.549308435 compared to reference 114.09134043499999: 495585.6578108403\n",
      "ppm for 66.554590785 compared to reference 114.09134043499999: 416655.19459018525\n",
      "ppm for 114.09134043499999 compared to reference 114.09134043499999: 0.0\n",
      "hit for 114.09134043499999\n",
      "ppm for 57.549308435 compared to reference 120.065520135: 520684.13670892053\n",
      "ppm for 66.554590785 compared to reference 120.065520135: 445681.06888499757\n",
      "ppm for 114.09134043499999 compared to reference 120.065520135: 49757.66309330708\n",
      "ppm for 114.091340435 compared to reference 120.065520135: 49757.66309330696\n",
      "ppm for 123.096622785 compared to reference 120.065520135: 25245.404730615952\n",
      "ppm for 132.101905135 compared to reference 120.065520135: 100248.4725545391\n",
      "ppm for 227.175404435 compared to reference 120.065520135: 892095.28413792\n",
      "ppm for 245.185969135 compared to reference 120.065520135: 1042101.419785766\n",
      "ppm for 57.549308435 compared to reference 121.578597435: 526649.3474250862\n",
      "ppm for 66.554590785 compared to reference 121.578597435: 452579.71230847336\n",
      "ppm for 114.09134043499999 compared to reference 121.578597435: 61583.67638681596\n",
      "ppm for 114.091340435 compared to reference 121.578597435: 61583.676386815845\n",
      "ppm for 123.096622785 compared to reference 121.578597435: 12485.958729796788\n",
      "ppm for 132.101905135 compared to reference 121.578597435: 86555.59384640967\n",
      "ppm for 227.175404435 compared to reference 121.578597435: 868547.6656897245\n",
      "ppm for 245.185969135 compared to reference 121.578597435: 1016686.93592295\n",
      "ppm for 57.549308435 compared to reference 171.11280443500002: 663676.2010591612\n",
      "ppm for 66.554590785 compared to reference 171.11280443500002: 611048.4483919387\n",
      "ppm for 114.09134043499999 compared to reference 171.11280443500002: 333239.02432830824\n",
      "ppm for 114.091340435 compared to reference 171.11280443500002: 333239.0243283082\n",
      "ppm for 123.096622785 compared to reference 171.11280443500002: 280611.2716610857\n",
      "ppm for 132.101905135 compared to reference 171.11280443500002: 227983.51899386308\n",
      "ppm for 227.175404435 compared to reference 171.11280443500002: 327635.3291333979\n",
      "ppm for 245.185969135 compared to reference 171.11280443500002: 432890.834467843\n",
      "ppm for 57.549308435 compared to reference 174.099894285: 669446.6204511746\n",
      "ppm for 66.554590785 compared to reference 174.099894285: 617721.819658025\n",
      "ppm for 114.09134043499999 compared to reference 174.099894285: 344678.86437522207\n",
      "ppm for 114.091340435 compared to reference 174.099894285: 344678.86437522195\n",
      "ppm for 123.096622785 compared to reference 174.099894285: 292954.0635820726\n",
      "ppm for 132.101905135 compared to reference 174.099894285: 241229.26278892308\n",
      "ppm for 227.175404435 compared to reference 174.099894285: 304856.647776683\n",
      "ppm for 245.185969135 compared to reference 174.099894285: 408306.2493629818\n",
      "ppm for 57.549308435 compared to reference 219.133934135: 737378.3815721299\n",
      "ppm for 66.554590785 compared to reference 219.133934135: 696283.5032934777\n",
      "ppm for 114.09134043499999 compared to reference 219.133934135: 479353.3877563997\n",
      "ppm for 114.091340435 compared to reference 219.133934135: 479353.38775639964\n",
      "ppm for 123.096622785 compared to reference 219.133934135: 438258.5094777476\n",
      "ppm for 132.101905135 compared to reference 219.133934135: 397163.63119909534\n",
      "ppm for 227.175404435 compared to reference 219.133934135: 36696.59987506063\n",
      "ppm for 245.185969135 compared to reference 219.133934135: 118886.35643236492\n",
      "ppm for 57.549308435 compared to reference 221.63664393500002: 740343.8916360886\n",
      "ppm for 66.554590785 compared to reference 221.63664393500002: 699713.0546493989\n",
      "ppm for 114.09134043499999 compared to reference 221.63664393500002: 485232.503031133\n",
      "ppm for 114.091340435 compared to reference 221.63664393500002: 485232.50303113286\n",
      "ppm for 123.096622785 compared to reference 221.63664393500002: 444601.66604444315\n",
      "ppm for 132.101905135 compared to reference 221.63664393500002: 403970.8290577532\n",
      "ppm for 227.175404435 compared to reference 221.63664393500002: 24990.274178778553\n",
      "ppm for 245.185969135 compared to reference 221.63664393500002: 106251.9481521582\n",
      "ppm for 57.549308435 compared to reference 230.641926285: 750482.0161626323\n",
      "ppm for 66.554590785 compared to reference 230.641926285: 711437.587012\n",
      "ppm for 114.09134043499999 compared to reference 230.641926285: 505331.3060955821\n",
      "ppm for 114.091340435 compared to reference 230.641926285: 505331.30609558197\n",
      "ppm for 123.096622785 compared to reference 230.641926285: 466286.87694494997\n",
      "ppm for 132.101905135 compared to reference 230.641926285: 427242.44779431773\n",
      "ppm for 227.175404435 compared to reference 230.641926285: 15029.885961481708\n",
      "ppm for 245.185969135 compared to reference 230.641926285: 63058.97233978255\n",
      "ppm for 57.549308435 compared to reference 242.14991843500002: 762340.17006102\n",
      "ppm for 66.554590785 compared to reference 242.14991843500002: 725151.2979432815\n",
      "ppm for 114.09134043499999 compared to reference 242.14991843500002: 528840.0625019191\n",
      "ppm for 114.091340435 compared to reference 242.14991843500002: 528840.0625019191\n",
      "ppm for 123.096622785 compared to reference 242.14991843500002: 491651.1903841807\n",
      "ppm for 132.101905135 compared to reference 242.14991843500002: 454462.3182664422\n",
      "ppm for 227.175404435 compared to reference 242.14991843500002: 61839.847383717446\n",
      "ppm for 245.185969135 compared to reference 242.14991843500002: 12537.896851759373\n",
      "ppm for 57.549308435 compared to reference 341.21833243500004: 831341.6866429274\n",
      "ppm for 66.554590785 compared to reference 341.21833243500004: 804950.1317527298\n",
      "ppm for 114.09134043499999 compared to reference 341.21833243500004: 665635.3730445192\n",
      "ppm for 114.091340435 compared to reference 341.21833243500004: 665635.3730445192\n",
      "ppm for 123.096622785 compared to reference 341.21833243500004: 639243.8181543216\n",
      "ppm for 132.101905135 compared to reference 341.21833243500004: 612852.263264124\n",
      "ppm for 227.175404435 compared to reference 341.21833243500004: 334222.745847703\n",
      "ppm for 245.185969135 compared to reference 341.21833243500004: 281439.6360673078\n",
      "ppm for 57.549308435 compared to reference 347.192512135: 834243.8087702107\n",
      "ppm for 66.554590785 compared to reference 347.192512135: 808306.3762644703\n",
      "ppm for 114.09134043499999 compared to reference 347.192512135: 671388.8219149222\n",
      "ppm for 114.091340435 compared to reference 347.192512135: 671388.8219149222\n",
      "ppm for 123.096622785 compared to reference 347.192512135: 645451.3894091819\n",
      "ppm for 132.101905135 compared to reference 347.192512135: 619513.9569034416\n",
      "ppm for 227.175404435 compared to reference 347.192512135: 345678.8482043454\n",
      "ppm for 245.185969135 compared to reference 347.192512135: 293803.9831928647\n",
      "ppm for 57.549308435 compared to reference 442.26601143500005: 869876.2578470084\n",
      "ppm for 66.554590785 compared to reference 442.26601143500005: 849514.5702717389\n",
      "ppm for 114.09134043499999 compared to reference 442.26601143500005: 742030.0509532416\n",
      "ppm for 114.091340435 compared to reference 442.26601143500005: 742030.0509532416\n",
      "ppm for 123.096622785 compared to reference 442.26601143500005: 721668.3633779724\n",
      "ppm for 132.101905135 compared to reference 442.26601143500005: 701306.6758027029\n",
      "ppm for 227.175404435 compared to reference 442.26601143500005: 486337.63716570835\n",
      "ppm for 245.185969135 compared to reference 442.26601143500005: 445614.2620151695\n",
      "ppm for 57.549308435 compared to reference 460.276576135: 874967.9835583884\n",
      "ppm for 66.554590785 compared to reference 460.276576135: 855403.0462643412\n",
      "ppm for 114.09134043499999 compared to reference 460.276576135: 752124.3827069384\n",
      "ppm for 114.091340435 compared to reference 460.276576135: 752124.3827069384\n",
      "ppm for 123.096622785 compared to reference 460.276576135: 732559.4454128912\n",
      "ppm for 132.101905135 compared to reference 460.276576135: 712994.508118844\n",
      "ppm for 227.175404435 compared to reference 460.276576135: 506437.1810040383\n",
      "ppm for 245.185969135 compared to reference 460.276576135: 467307.30641594395\n",
      "0.375\n",
      "spectrum: \n",
      "[57.549308435, 66.554590785, 114.09134043499999, 114.091340435, 123.096622785, 132.101905135, 227.175404435, 245.185969135]\n",
      "hit for 57.549308435\n",
      "hit for 114.09134043499999\n",
      "hit for 114.091340435\n",
      "0.5\n"
     ]
    }
   ],
   "source": [
    "testseq = 'LL'\n",
    "testprot = 'LQVT'\n",
    "\n",
    "testseqspec = gen_spectra.gen_spectrum(testseq)['spectrum']\n",
    "testprotspec = gen_spectra.gen_spectrum(testprot)['spectrum']\n",
    "print(compare_masses(testseqspec, testprotspec, 20))\n",
    "print(optimized_compare_masses(testseqspec, testprotspec, 20))"
   ]
  },
  {
   "cell_type": "code",
   "execution_count": null,
   "metadata": {},
   "outputs": [],
   "source": []
  }
 ],
 "metadata": {
  "kernelspec": {
   "display_name": "Python 3",
   "language": "python",
   "name": "python3"
  },
  "language_info": {
   "codemirror_mode": {
    "name": "ipython",
    "version": 3
   },
   "file_extension": ".py",
   "mimetype": "text/x-python",
   "name": "python",
   "nbconvert_exporter": "python",
   "pygments_lexer": "ipython3",
   "version": "3.7.4"
  }
 },
 "nbformat": 4,
 "nbformat_minor": 4
}

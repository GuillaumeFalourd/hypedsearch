{
 "cells": [
  {
   "cell_type": "markdown",
   "metadata": {},
   "source": [
    "# Create cis spliced peptides\n",
    "Since neo-fusion can only run with cis spliced peptides, we need to compare our results to theirs on those terms"
   ]
  },
  {
   "cell_type": "markdown",
   "metadata": {},
   "source": [
    "## 1. Load fasta file"
   ]
  },
  {
   "cell_type": "code",
   "execution_count": 35,
   "metadata": {},
   "outputs": [],
   "source": [
    "import os\n",
    "import sys\n",
    "module_path = os.path.abspath(os.path.join('..'))\n",
    "if module_path not in sys.path:\n",
    "    sys.path.append(module_path)\n",
    "module_path = os.path.abspath(os.path.join('../..'))\n",
    "if module_path not in sys.path:\n",
    "    sys.path.append(module_path)\n",
    "    \n",
    "from src.file_io import fasta\n",
    "\n",
    "fasta_file = '../../testing framework/data/databases/100prots.fasta'\n",
    "database = fasta.read(fasta_file, True)\n",
    "\n",
    "database = {x['name']: x for x in database}"
   ]
  },
  {
   "cell_type": "markdown",
   "metadata": {},
   "source": [
    "## 2.  Generate the peptides, hybrid proteins and peptides"
   ]
  },
  {
   "cell_type": "code",
   "execution_count": 36,
   "metadata": {},
   "outputs": [],
   "source": [
    "from collections import namedtuple\n",
    "from random import randint\n",
    "hybridprotein = namedtuple('hybridprotein', ['protein', 'section_removed', 'start_index_removed', 'end_index_removed', 'sequence', 'name'])\n",
    "hybridpeptide = namedtuple('hybridpeptide', ['protein', 'sequence', 'start_index'])\n",
    "maxlen = 25\n",
    "maxpeplen = 26\n",
    "minpeplen = 6\n",
    "\n",
    "def create_cis_spliced_hybrid_proteins(protdict, n):\n",
    "    protdictkeys = list(protdict.keys())\n",
    "    lenprotdict = len(protdictkeys)\n",
    "    hybrids = []\n",
    "    for i in range(n):\n",
    "        prot = protdict[protdictkeys[randint(0, lenprotdict-1)]]\n",
    "        start_pos = randint(maxpeplen, len(prot['sequence']) - maxlen)\n",
    "        length = randint(minpeplen, maxlen)\n",
    "        hp = hybridprotein(prot['name'], prot['sequence'][start_pos: start_pos+length], start_pos, start_pos+length-1, prot['sequence'][:start_pos] + prot['sequence'][start_pos+length:], 'hybrid-{}-protein'.format(i))\n",
    "        hybrids.append(hp)\n",
    "    return hybrids\n",
    "        \n",
    "def create_cis_spliced_hybrid_peptides(listhybridprots, n):\n",
    "    hybridpeps = []\n",
    "    for i in range(n):\n",
    "        a = randint(0, len(listhybridprots)-1)\n",
    "        hybprot = listhybridprots[a]\n",
    "        peplen = randint(minpeplen, maxpeplen)\n",
    "        half = round(peplen/2)\n",
    "        hp = hybridpeptide(hybprot.name, hybprot.sequence[hybprot.start_index_removed - half - 1: hybprot.start_index_removed + half], hybprot.start_index_removed - half - 1)\n",
    "        hybridpeps.append(hp)\n",
    "    return hybridpeps\n",
    "                                                                                                                            "
   ]
  },
  {
   "cell_type": "code",
   "execution_count": 37,
   "metadata": {},
   "outputs": [],
   "source": [
    "from modules.sequence_generation import proteins, peptides\n",
    "test_directory = '../../testing framework/data/testing_output/'\n",
    "\n",
    "num_hybs = 5\n",
    "min_length= 5\n",
    "max_length = 35\n",
    "num_peptides = 1000\n",
    "min_cont = 3 #min contribution for each side of a hybrid\n",
    "\n",
    "# create peptides\n",
    "non_hybrid_peps = peptides.gen_peptides([x for _, x in database.items()], num_peptides, min_length=min_length, max_length=max_length, digest='random', dist='beta')\n",
    "\n",
    "hybridprots = create_cis_spliced_hybrid_proteins(database, num_hybs)\n",
    "hybridpeps = create_cis_spliced_hybrid_peptides(hybridprots, num_hybs**2)\n",
    "\n",
    "all_proteins_raw = [x for _,x in database.items()] + [dict(x._asdict()) for x in hybridprots]\n",
    "all_peptides_raw = non_hybrid_peps + [dict(x._asdict()) for x in hybridpeps]\n",
    "\n",
    "peptides = {}\n",
    "for i, pep in enumerate(all_peptides_raw):\n",
    "    peptides[i] = pep\n",
    "    peptides[i]['scan_no'] = i"
   ]
  },
  {
   "cell_type": "markdown",
   "metadata": {},
   "source": [
    "## 2.1 Save this info so that I can analyze it later from Neo-Fusion"
   ]
  },
  {
   "cell_type": "code",
   "execution_count": 38,
   "metadata": {},
   "outputs": [],
   "source": [
    "import json\n",
    "experiment_info_file_name = 'experiment_info.json'\n",
    "\n",
    "exp = {'database': fasta_file, 'peptides': peptides}\n",
    "with open(test_directory + experiment_info_file_name, 'w') as o:\n",
    "    json.dump(exp, o)\n"
   ]
  },
  {
   "cell_type": "markdown",
   "metadata": {},
   "source": [
    "## 3. Generate spectra"
   ]
  },
  {
   "cell_type": "code",
   "execution_count": 39,
   "metadata": {},
   "outputs": [
    {
     "data": {
      "text/plain": [
       "'../../testing framework/data/testing_output/testSpectraFile.mzML'"
      ]
     },
     "execution_count": 39,
     "metadata": {},
     "output_type": "execute_result"
    }
   ],
   "source": [
    "from src.spectra import gen_spectra\n",
    "from src.utils import utils\n",
    "from modules.sequence_generation import write_spectra\n",
    "\n",
    "utils.make_dir(test_directory)\n",
    "\n",
    "spectra = []\n",
    "sorted_keys = [int(c) for c in peptides.keys()]\n",
    "sorted_keys.sort()\n",
    "for k in sorted_keys:\n",
    "    pep = peptides[k]\n",
    "    cont = gen_spectra.gen_spectrum(pep['sequence'])\n",
    "    spec = cont['spectrum']\n",
    "    if len(spec) < 2:\n",
    "        print(k)\n",
    "        print(pep)\n",
    "    pm = cont['precursor_mass']\n",
    "    spectra.append({'spectrum': spec, 'precursor_mass': pm})\n",
    "write_spectra.write_mzml('testSpectraFile', spectra, output_dir=test_directory)\n"
   ]
  },
  {
   "cell_type": "markdown",
   "metadata": {},
   "source": [
    "## test and fix any mess ups"
   ]
  },
  {
   "cell_type": "code",
   "execution_count": 50,
   "metadata": {},
   "outputs": [
    {
     "name": "stdout",
     "output_type": "stream",
     "text": [
      "1025\n"
     ]
    }
   ],
   "source": [
    "import xml.etree.ElementTree as ET\n",
    "ET.register_namespace('', \"http://psi.hupo.org/ms/mzml\")\n",
    "tree = ET.parse('../../testing framework/data/testing_output/testSpectraFile.mzML')\n",
    "mzml = tree.find('{http://psi.hupo.org/ms/mzml}mzML')\n",
    "# add an id to the mzml\n",
    "mzml.set('id', 'testSpectraFileFixed')\n",
    "mzml.set('xmlns', \"http://psi.hupo.org/ms/mzml\")\n",
    "mzml.set('xmlns:xsi', 'http://www.w3.org/2001/XMLSchema-instance')\n",
    "# remove some info from the mzml header [accession, version]\n",
    "toDelMzml = ['accession']\n",
    "for todel in toDelMzml:\n",
    "    del mzml.attrib[todel]\n",
    "    \n",
    "# add file description stuff to the fileDescription tag\n",
    "fileDescription = mzml.fin('{http://psi.hupo.org/ms/mzml}fileDescription')\n",
    "# sourceFile id=\"NOD2_E3.mzXML\" name=\"NOD2_E3.mzXML\" location=\"file:///C:\\Users\\zachmcgrath\\Downloads\">\n",
    "sourceFileElement = ET.Element('sourceFile', attrib={'id': 'testSpectraFileFixed', 'name': 'testSpectraFileFixed'})\n",
    "\n",
    "run = mzml.find('{http://psi.hupo.org/ms/mzml}run')\n",
    "spectrumList = run.find('{http://psi.hupo.org/ms/mzml}spectrumList')\n",
    "print(len(spectrumList))\n",
    "for spectrumElement in spectrumList:\n",
    "    # need to add this\n",
    "    # <cvParam cvRef=\"MS\" accession=\"MS:1000127\" name=\"centroid spectrum\" value=\"\"/>\n",
    "    centroidElement = ET.Element('{http://psi.hupo.org/ms/mzml}cvParam', attrib={'name': 'centroid spectrum', 'accession':'MS:1000127', 'value': ''})\n",
    "    pl = spectrumElement.find('{http://psi.hupo.org/ms/mzml}precursorList')\n",
    "    bdal = spectrumElement.find('{http://psi.hupo.org/ms/mzml}binaryDataArrayList')\n",
    "    if bdal is None or pl is None:\n",
    "        print(spectrumElement)\n",
    "        spectrumList.remove(spectrumElement)\n",
    "    spectrumElement.append(centroidElement)\n",
    "\n",
    "tree.write('../../testing framework/data/testing_output/testSpectraFileFixed.mzML', encoding='utf-8', xml_declaration=True)\n",
    "    "
   ]
  },
  {
   "cell_type": "code",
   "execution_count": 44,
   "metadata": {},
   "outputs": [
    {
     "ename": "AttributeError",
     "evalue": "'ElementTree' object has no attribute 'tostring'",
     "output_type": "error",
     "traceback": [
      "\u001b[0;31m---------------------------------------------------------------------------\u001b[0m",
      "\u001b[0;31mAttributeError\u001b[0m                            Traceback (most recent call last)",
      "\u001b[0;32m<ipython-input-44-ce4fa83d07fd>\u001b[0m in \u001b[0;36m<module>\u001b[0;34m\u001b[0m\n\u001b[0;32m----> 1\u001b[0;31m \u001b[0mprint\u001b[0m\u001b[0;34m(\u001b[0m\u001b[0mtree\u001b[0m\u001b[0;34m.\u001b[0m\u001b[0mtostring\u001b[0m\u001b[0;34m(\u001b[0m\u001b[0;34m)\u001b[0m\u001b[0;34m)\u001b[0m\u001b[0;34m\u001b[0m\u001b[0;34m\u001b[0m\u001b[0m\n\u001b[0m",
      "\u001b[0;31mAttributeError\u001b[0m: 'ElementTree' object has no attribute 'tostring'"
     ]
    }
   ],
   "source": []
  },
  {
   "cell_type": "code",
   "execution_count": null,
   "metadata": {},
   "outputs": [],
   "source": [
    "<mzML xmlns=\"http://psi.hupo.org/ms/mzml\" xmlns:xsi=\"http://www.w3.org/2001/XMLSchema-instance\" xsi:schemaLocation=\"http://psi.hupo.org/ms/mzml http://psidev.info/files/ms/mzML/xsd/mzML1.1.0.xsd\" id=\"NOD2_E3\" version=\"1.1.0\">\n",
    "<mzML xmlns=\"http://psi.hupo.org/ms/mzml\" xmlns:xsi=\"http://www.w3.org/2001/XMLSchema-instance\" xsi:schemaLocation=\"http://psi.hupo.org/ms/mzml http://psidev.info/files/ms/mzML/xsd/mzML1.1.0.xsd\" id=\"testSpectraFileFixed\" version=\"1.1.0\">"
   ]
  }
 ],
 "metadata": {
  "kernelspec": {
   "display_name": "Python 3",
   "language": "python",
   "name": "python3"
  },
  "language_info": {
   "codemirror_mode": {
    "name": "ipython",
    "version": 3
   },
   "file_extension": ".py",
   "mimetype": "text/x-python",
   "name": "python",
   "nbconvert_exporter": "python",
   "pygments_lexer": "ipython3",
   "version": "3.7.4"
  }
 },
 "nbformat": 4,
 "nbformat_minor": 4
}

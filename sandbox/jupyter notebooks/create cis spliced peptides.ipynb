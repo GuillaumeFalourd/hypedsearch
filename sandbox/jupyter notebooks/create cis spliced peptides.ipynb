{
 "cells": [
  {
   "cell_type": "markdown",
   "metadata": {},
   "source": [
    "# Create cis spliced peptides\n",
    "Since neo-fusion can only run with cis spliced peptides, we need to compare our results to theirs on those terms"
   ]
  },
  {
   "cell_type": "markdown",
   "metadata": {},
   "source": [
    "## 1. Load fasta file"
   ]
  },
  {
   "cell_type": "code",
   "execution_count": 1,
   "metadata": {},
   "outputs": [],
   "source": [
    "import os\n",
    "import sys\n",
    "module_path = os.path.abspath(os.path.join('..'))\n",
    "if module_path not in sys.path:\n",
    "    sys.path.append(module_path)\n",
    "module_path = os.path.abspath(os.path.join('../..'))\n",
    "if module_path not in sys.path:\n",
    "    sys.path.append(module_path)\n",
    "    \n",
    "from src.file_io import fasta\n",
    "\n",
    "fasta_file = '../../testing framework/data/databases/100prots.fasta'\n",
    "database = fasta.read(fasta_file, True)\n",
    "\n",
    "database = {x['name']: x for x in database}"
   ]
  },
  {
   "cell_type": "markdown",
   "metadata": {},
   "source": [
    "## 2.  Generate the peptides, hybrid proteins and peptides"
   ]
  },
  {
   "cell_type": "code",
   "execution_count": 2,
   "metadata": {},
   "outputs": [],
   "source": [
    "from collections import namedtuple\n",
    "from random import randint\n",
    "hybridprotein = namedtuple('hybridprotein', ['protein', 'section_removed', 'start_index_removed', 'end_index_removed', 'sequence', 'name'])\n",
    "hybridpeptide = namedtuple('hybridpeptide', ['protein', 'sequence', 'start_index'])\n",
    "maxlen = 25\n",
    "maxpeplen = 26\n",
    "minpeplen = 6\n",
    "\n",
    "def create_cis_spliced_hybrid_proteins(protdict, n):\n",
    "    protdictkeys = list(protdict.keys())\n",
    "    lenprotdict = len(protdictkeys)\n",
    "    hybrids = []\n",
    "    for i in range(n):\n",
    "        prot = protdict[protdictkeys[randint(0, lenprotdict-1)]]\n",
    "        start_pos = randint(maxpeplen, len(prot['sequence']) - maxlen)\n",
    "        length = randint(minpeplen, maxlen)\n",
    "        hp = hybridprotein(prot['name'], prot['sequence'][start_pos: start_pos+length], start_pos, start_pos+length-1, prot['sequence'][:start_pos] + prot['sequence'][start_pos+length:], 'hybrid-{}-protein'.format(i))\n",
    "        hybrids.append(hp)\n",
    "    return hybrids\n",
    "        \n",
    "def create_cis_spliced_hybrid_peptides(listhybridprots, n):\n",
    "    hybridpeps = []\n",
    "    for i in range(n):\n",
    "        a = randint(0, len(listhybridprots)-1)\n",
    "        hybprot = listhybridprots[a]\n",
    "        peplen = randint(minpeplen, maxpeplen)\n",
    "        half = round(peplen/2)\n",
    "        hp = hybridpeptide(hybprot.name, hybprot.sequence[hybprot.start_index_removed - half - 1: hybprot.start_index_removed + half], hybprot.start_index_removed - half - 1)\n",
    "        hybridpeps.append(hp)\n",
    "    return hybridpeps\n",
    "                                                                                                                            "
   ]
  },
  {
   "cell_type": "code",
   "execution_count": 3,
   "metadata": {},
   "outputs": [],
   "source": [
    "from modules.sequence_generation import proteins, peptides\n",
    "test_directory = '../data/testing_output/cis_spliced/'\n",
    "\n",
    "num_hybs = 5\n",
    "min_length= 5\n",
    "max_length = 35\n",
    "num_peptides = 1000\n",
    "min_cont = 3 #min contribution for each side of a hybrid\n",
    "\n",
    "# create peptides\n",
    "non_hybrid_peps = peptides.gen_peptides([x for _, x in database.items()], num_peptides, min_length=min_length, max_length=max_length, digest='random', dist='beta')\n",
    "\n",
    "hybridprots = create_cis_spliced_hybrid_proteins(database, num_hybs)\n",
    "hybridpeps = create_cis_spliced_hybrid_peptides(hybridprots, num_hybs**2)\n",
    "\n",
    "all_proteins_raw = [x for _,x in database.items()] + [dict(x._asdict()) for x in hybridprots]\n",
    "all_peptides_raw = non_hybrid_peps + [dict(x._asdict()) for x in hybridpeps]\n",
    "\n",
    "peps = {}\n",
    "for i, pep in enumerate(all_peptides_raw):\n",
    "    peps[i] = pep\n",
    "    peps[i]['scan_no'] = i\n",
    "    "
   ]
  },
  {
   "cell_type": "markdown",
   "metadata": {},
   "source": [
    "## 2.1 Save this info so that I can analyze it later from Neo-Fusion"
   ]
  },
  {
   "cell_type": "code",
   "execution_count": 4,
   "metadata": {},
   "outputs": [],
   "source": [
    "import json\n",
    "experiment_info_file_name = 'experiment_info.json'\n",
    "\n",
    "exp = {'database': fasta_file, 'peptides': peps}\n",
    "with open(test_directory + experiment_info_file_name, 'w') as o:\n",
    "    json.dump(exp, o)\n"
   ]
  },
  {
   "cell_type": "markdown",
   "metadata": {},
   "source": [
    "## 3. Generate spectra"
   ]
  },
  {
   "cell_type": "code",
   "execution_count": 5,
   "metadata": {},
   "outputs": [
    {
     "name": "stderr",
     "output_type": "stream",
     "text": [
      "Determination of memory status is not supported on this \n",
      " platform, measuring for memoryleaks will never fail\n"
     ]
    },
    {
     "data": {
      "text/plain": [
       "'../data/testing_output/cis_spliced/testSpectraFile.mzML'"
      ]
     },
     "execution_count": 5,
     "metadata": {},
     "output_type": "execute_result"
    }
   ],
   "source": [
    "from src.spectra import gen_spectra\n",
    "from src.utils import utils\n",
    "from modules.sequence_generation import write_spectra, realistic_spectra\n",
    "\n",
    "utils.make_dir(test_directory)\n",
    "\n",
    "spectra = [x._asdict() for x in realistic_spectra.gen_realistic_spectra([pep['sequence'] for _, pep in peps.items()])]\n",
    "\n",
    "write_spectra.write_mzml('testSpectraFile', spectra, output_dir=test_directory)\n"
   ]
  },
  {
   "cell_type": "markdown",
   "metadata": {},
   "source": [
    "## test and fix any mess ups"
   ]
  },
  {
   "cell_type": "code",
   "execution_count": 6,
   "metadata": {},
   "outputs": [
    {
     "name": "stdout",
     "output_type": "stream",
     "text": [
      "1025\n"
     ]
    }
   ],
   "source": [
    "import xml.etree.ElementTree as ET\n",
    "ET.register_namespace('', \"http://psi.hupo.org/ms/mzml\")\n",
    "tree = ET.parse(test_directory + 'testSpectraFile.mzML')\n",
    "mzml = tree.find('{http://psi.hupo.org/ms/mzml}mzML')\n",
    "# add an id to the mzml\n",
    "mzml.set('id', 'testSpectraFileFixed')\n",
    "mzml.set('xmlns', \"http://psi.hupo.org/ms/mzml\")\n",
    "mzml.set('xmlns:xsi', 'http://www.w3.org/2001/XMLSchema-instance')\n",
    "# remove some info from the mzml header [accession, version]\n",
    "toDelMzml = ['accession']\n",
    "for todel in toDelMzml:\n",
    "    del mzml.attrib[todel]\n",
    "    \n",
    "# add file description stuff to the fileDescription tag\n",
    "fileDescription = mzml.find('{http://psi.hupo.org/ms/mzml}fileDescription')\n",
    "\n",
    "\n",
    "sourceFileElement = ET.fromstring('<sourceFileList count=\"1\"> <sourceFile id=\"NOD2_E3.mzXML\" name=\"NOD2_E3.mzXML\" location=\"file:///C:/Users/zachmcgrath/Downloads\"> <cvParam cvRef=\"MS\" accession=\"MS:1000776\" name=\"scan number only nativeID format\" value=\"\"/> <cvParam cvRef=\"MS\" accession=\"MS:1000566\" name=\"ISB mzXML format\" value=\"\"/> <cvParam cvRef=\"MS\" accession=\"MS:1000569\" name=\"SHA-1\" value=\"89ecb0dd31ca3a2fdf5ef2c4f5341f6e5e9f06f0\"/> </sourceFile> </sourceFileList>')\n",
    "fileDescription.append(sourceFileElement)\n",
    "\n",
    "instrumentConfigurationList = mzml.find('{http://psi.hupo.org/ms/mzml}instrumentConfigurationList')\n",
    "\n",
    "instrumentConfiguration = ET.fromstring(' <instrumentConfiguration id=\"IC1\"> <componentList count=\"3\"> <source order=\"1\"> <userParam name=\"msIonisation\" value=\"HPLC-Chip/MS\"/>  </source> <analyzer order=\"1\"> <userParam name=\"msMassAnalyzer\" value=\"Q-TOF\"/>  </analyzer> <detector order=\"1\"> <userParam name=\"msDetector\" value=\"ADC\"/> </detector> </componentList> </instrumentConfiguration>')\n",
    "for child in instrumentConfigurationList:\n",
    "    del child\n",
    "\n",
    "instrumentConfigurationList.append(instrumentConfiguration)\n",
    "\n",
    "run = mzml.find('{http://psi.hupo.org/ms/mzml}run')\n",
    "spectrumList = run.find('{http://psi.hupo.org/ms/mzml}spectrumList')\n",
    "print(len(spectrumList))\n",
    "for spectrumElement in spectrumList:\n",
    "    # need to add this\n",
    "    # <cvParam cvRef=\"MS\" accession=\"MS:1000127\" name=\"centroid spectrum\" value=\"\"/>\n",
    "    centroidElement = ET.Element('{http://psi.hupo.org/ms/mzml}cvParam', attrib={'name': 'centroid spectrum', 'accession':'MS:1000127', 'value': ''})\n",
    "    pl = spectrumElement.find('{http://psi.hupo.org/ms/mzml}precursorList')\n",
    "    bdal = spectrumElement.find('{http://psi.hupo.org/ms/mzml}binaryDataArrayList')\n",
    "    if bdal is None or pl is None:\n",
    "        print(spectrumElement)\n",
    "        spectrumList.remove(spectrumElement)\n",
    "        \n",
    "    # add the range \n",
    "    scanListEl = spectrumElement.find('{http://psi.hupo.org/ms/mzml}scanList')\n",
    "    scanEl = scanListEl.find('{http://psi.hupo.org/ms/mzml}scan')[0]\n",
    "    scanWindowListElement = ET.fromstring('<scanWindowList count=\"1\"> <scanWindow> <cvParam cvRef=\"MS\" accession=\"MS:1000501\" value=\"0\" name=\"scan window lower limit\" unitAccession=\"MS:1000040\" unitName=\"m/z\" unitCvRef=\"MS\" /> <cvParam cvRef=\"MS\" accession=\"MS:1000500\" value=\"10000\" name=\"scan window upper limit\" unitAccession=\"MS:1000040\" unitName=\"m/z\" unitCvRef=\"MS\" /> </scanWindow></scanWindowList>')\n",
    "    scanEl.append(scanWindowListElement)\n",
    "    \n",
    "    spectrumElement.append(centroidElement)\n",
    "\n",
    "tree.write(test_directory + 'testSpectraFileFixed.mzML', encoding='utf-8', xml_declaration=True)\n",
    "    "
   ]
  },
  {
   "cell_type": "code",
   "execution_count": 7,
   "metadata": {},
   "outputs": [
    {
     "ename": "SyntaxError",
     "evalue": "(unicode error) 'unicodeescape' codec can't decode bytes in position 568-569: truncated \\UXXXXXXXX escape (<ipython-input-7-a5b7a281105d>, line 23)",
     "output_type": "error",
     "traceback": [
      "\u001b[0;36m  File \u001b[0;32m\"<ipython-input-7-a5b7a281105d>\"\u001b[0;36m, line \u001b[0;32m23\u001b[0m\n\u001b[0;31m    '''\u001b[0m\n\u001b[0m      ^\u001b[0m\n\u001b[0;31mSyntaxError\u001b[0m\u001b[0;31m:\u001b[0m (unicode error) 'unicodeescape' codec can't decode bytes in position 568-569: truncated \\UXXXXXXXX escape\n"
     ]
    }
   ],
   "source": [
    "'''\n",
    "inside <instrumentConfiguration>\n",
    "<componentList count=\"3\">\n",
    "          <source order=\"1\">\n",
    "            <userParam name=\"msIonisation\" value=\"HPLC-Chip/MS\"/>\n",
    "          </source>\n",
    "          <analyzer order=\"1\">\n",
    "            <userParam name=\"msMassAnalyzer\" value=\"Q-TOF\"/>\n",
    "          </analyzer>\n",
    "          <detector order=\"1\">\n",
    "            <userParam name=\"msDetector\" value=\"ADC\"/>\n",
    "          </detector>\n",
    "        </componentList>\n",
    "        \n",
    "inside <fileDescription>     \n",
    "<sourceFileList count=\"2\">\n",
    "        <sourceFile id=\"NOD2_E3.mzXML\" name=\"NOD2_E3.mzXML\" location=\"file:///C:\\Users\\zachmcgrath\\Downloads\">\n",
    "          <cvParam cvRef=\"MS\" accession=\"MS:1000776\" name=\"scan number only nativeID format\" value=\"\"/>\n",
    "          <cvParam cvRef=\"MS\" accession=\"MS:1000566\" name=\"ISB mzXML format\" value=\"\"/>\n",
    "          <cvParam cvRef=\"MS\" accession=\"MS:1000569\" name=\"SHA-1\" value=\"89ecb0dd31ca3a2fdf5ef2c4f5341f6e5e9f06f0\"/>\n",
    "        </sourceFile>\n",
    "      </sourceFileList>\n",
    "      \n",
    "inside run -> spectrumList -> spectrum -> scanList -> scan\n",
    "<scanWindowList count=\"1\">\n",
    "                <scanWindow>\n",
    "                  <cvParam cvRef=\"MS\" accession=\"MS:1000501\" value=\"0\" name=\"scan window lower limit\" unitAccession=\"MS:1000040\" unitName=\"m/z\" unitCvRef=\"MS\" />\n",
    "                  <cvParam cvRef=\"MS\" accession=\"MS:1000500\" value=\"4000\" name=\"scan window upper limit\" unitAccession=\"MS:1000040\" unitName=\"m/z\" unitCvRef=\"MS\" />\n",
    "                </scanWindow>\n",
    "              </scanWindowList>\n",
    "'''"
   ]
  },
  {
   "cell_type": "code",
   "execution_count": null,
   "metadata": {},
   "outputs": [],
   "source": []
  }
 ],
 "metadata": {
  "kernelspec": {
   "display_name": "Python 3",
   "language": "python",
   "name": "python3"
  },
  "language_info": {
   "codemirror_mode": {
    "name": "ipython",
    "version": 3
   },
   "file_extension": ".py",
   "mimetype": "text/x-python",
   "name": "python",
   "nbconvert_exporter": "python",
   "pygments_lexer": "ipython3",
   "version": "3.7.4"
  }
 },
 "nbformat": 4,
 "nbformat_minor": 4
}

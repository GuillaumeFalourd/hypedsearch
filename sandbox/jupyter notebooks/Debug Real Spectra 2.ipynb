{
 "cells": [
  {
   "cell_type": "markdown",
   "metadata": {},
   "source": [
    "# Debug the real spectra 2\n",
    "\n",
    "So it doesn't work well with real data, so having taken out one example of real data, the sequence is\n",
    "\n",
    "Hybrid\n",
    "```\n",
    "DLQTLALLL\n",
    "```\n",
    "\n",
    "Hybrid:\n",
    "```\n",
    "DLQTLALNAAR\n",
    "```\n",
    "\n",
    "Non-Hybrid: \n",
    "```\n",
    "QVEQLELGGSPG\n",
    "```\n",
    "\n",
    "so toy with the tool until we find out whats wrong"
   ]
  },
  {
   "cell_type": "markdown",
   "metadata": {},
   "source": [
    "## Load params and run"
   ]
  },
  {
   "cell_type": "code",
   "execution_count": 1,
   "metadata": {},
   "outputs": [],
   "source": [
    "import os\n",
    "import sys\n",
    "module_path = os.path.abspath(os.path.join('..'))\n",
    "if module_path not in sys.path:\n",
    "    sys.path.append(module_path)\n",
    "module_path = os.path.abspath(os.path.join('../..'))\n",
    "if module_path not in sys.path:\n",
    "    sys.path.append(module_path)\n",
    "    \n",
    "from src import runner\n",
    "    "
   ]
  },
  {
   "cell_type": "code",
   "execution_count": 2,
   "metadata": {},
   "outputs": [],
   "source": [
    "specPath = '/Users/zacharymcgrath/Desktop/nod2 data/single2/'\n",
    "fastaPath = '/Users/zacharymcgrath/Desktop/nod2 data/filteredNOD2.fasta'\n",
    "outputDir = '/Users/zacharymcgrath/Desktop/Experiment output/singleReal/'\n",
    "minPep = 3\n",
    "maxPep = 30\n",
    "tolerance = 20\n",
    "relative_abundance_filter = 0.0\n",
    "precursor_tolerance = 3\n",
    "peak_filter = 25\n",
    "verbose = True\n",
    "scoringAlg = 'ion'"
   ]
  },
  {
   "cell_type": "code",
   "execution_count": 3,
   "metadata": {},
   "outputs": [],
   "source": [
    "params = {\n",
    "    'spectra_folder': specPath,\n",
    "    'database_file': fastaPath,\n",
    "    'output_dir': outputDir,\n",
    "    'min_peptide_len': minPep,\n",
    "    'max_peptide_len': maxPep,\n",
    "    'tolerance': tolerance,\n",
    "    'precursor_tolerance': precursor_tolerance,\n",
    "    'peak_filter': peak_filter, \n",
    "    'relative_abundance_filter': relative_abundance_filter,\n",
    "    'verbose': verbose, \n",
    "    'scoring_alg': scoringAlg, \n",
    "    'DEBUG': True\n",
    "}"
   ]
  },
  {
   "cell_type": "code",
   "execution_count": 4,
   "metadata": {},
   "outputs": [
    {
     "name": "stdout",
     "output_type": "stream",
     "text": [
      "Loading database...\n",
      "Done\n",
      "Loading spectra...\n",
      "Done\n",
      "Making the protein mass set...\n",
      "On protein 280/280 [100%]\n",
      "Sorting the set of protein masses...\n",
      "Done. Length of the list: 3923257\n",
      "Time to build: 25.1937 seconds\n",
      "Time to do merge: 0.8254 seconds\n",
      "Creating an alignment for 1/3 [33%]\n",
      "Spectrum: [86.0962, 87.0995, 101.0702, 132.1012, 185.1271, 199.1803, 201.1239, 212.1021, 215.141, 227.1742, 229.1161, 245.1857, 286.1752, 357.1767, 399.2629, 425.2384, 440.2126, 458.2256, 527.3228, 553.2963, 571.3082, 624.3322, 642.3451, 737.4177, 755.4277]\n",
      "Abundance: [27327.09765625, 1976.5467529296875, 1414.1640625, 8025.5380859375, 612.0140991210938, 855.3250122070312, 4002.779052734375, 572.3911743164062, 606.1412963867188, 670.3060302734375, 827.6177978515625, 2575.84619140625, 934.2576904296875, 1107.2940673828125, 546.85595703125, 540.0253295898438, 928.4806518554688, 760.0152587890625, 523.9761962890625, 1501.77880859375, 572.0018310546875, 1440.9600830078125, 3004.942138671875, 647.4628295898438, 1706.5208740234375]\n",
      "Creating an alignment for 2/3 [66%]\n",
      "Spectrum: [70.065, 86.0961, 101.071, 175.1168, 201.1232, 212.1038, 229.1189, 230.1172, 246.1463, 357.1764, 431.2357, 440.2117, 458.2231, 470.2731, 479.2778, 544.3193, 553.2965, 584.3253, 584.827, 615.3563, 616.3596, 728.4412, 829.4874, 830.4883, 957.5464]\n",
      "Abundance: [2194.1630859375, 3785.5087890625, 4043.5068359375, 1037.396240234375, 7790.625, 1440.4486083984375, 2277.4423828125, 1428.55078125, 1574.6885986328125, 2890.53515625, 2586.9248046875, 2554.440185546875, 3419.47900390625, 2216.432373046875, 1334.929443359375, 3863.48681640625, 1910.195556640625, 2240.908935546875, 1291.46044921875, 8252.1484375, 1877.7099609375, 2851.61328125, 5283.8427734375, 1370.1195068359375, 1093.30078125]\n",
      "Creating an alignment for 3/3 [100%]\n",
      "Spectrum: [60.0447, 70.0651, 86.0965, 101.0698, 102.0538, 173.0924, 174.0956, 183.1134, 217.0838, 242.1116, 245.0766, 260.1254, 356.1567, 357.1767, 374.1648, 485.2353, 487.2527, 581.2889, 598.3188, 599.3077, 727.358, 840.4416, 1023.5087, 1041.5181, 1042.5206]\n",
      "Abundance: [1027.2015380859375, 9365.3369140625, 1470.1898193359375, 776.88623046875, 741.0293579101562, 44054.7421875, 2604.0361328125, 677.152099609375, 710.7832641601562, 1189.364013671875, 778.0321655273438, 1528.4857177734375, 1360.0640869140625, 916.4444580078125, 765.5012817382812, 871.406982421875, 832.4862060546875, 1639.310791015625, 1039.46142578125, 788.3070068359375, 1508.51123046875, 828.6149291992188, 985.61181640625, 1500.90771484375, 983.1142578125]\n",
      "\n",
      "Finished search. Writting results to /Users/zacharymcgrath/Desktop/Experiment output/singleReal/...\n",
      "Could not make an alignment for 0/3 spectra (0%)\n",
      "CPU times: user 30.3 s, sys: 688 ms, total: 31 s\n",
      "Wall time: 31 s\n"
     ]
    }
   ],
   "source": [
    "%%time\n",
    "runner.run(params)"
   ]
  },
  {
   "cell_type": "markdown",
   "metadata": {},
   "source": [
    "## Load and read results"
   ]
  },
  {
   "cell_type": "code",
   "execution_count": 5,
   "metadata": {},
   "outputs": [],
   "source": [
    "import pandas as pd\n",
    "\n",
    "outputFile = '/Users/zacharymcgrath/Desktop/Experiment output/singleReal/summary.tsv'\n",
    "hybridOutputFile = '/Users/zacharymcgrath/Desktop/Experiment output/singleReal/hybrid_summary.tsv'"
   ]
  },
  {
   "cell_type": "code",
   "execution_count": 6,
   "metadata": {},
   "outputs": [],
   "source": [
    "df = pd.read_csv(outputFile, sep='\\t')\n",
    "hdf = pd.read_csv(hybridOutputFile, sep='\\t')"
   ]
  },
  {
   "cell_type": "code",
   "execution_count": 7,
   "metadata": {},
   "outputs": [
    {
     "data": {
      "text/html": [
       "<div>\n",
       "<style scoped>\n",
       "    .dataframe tbody tr th:only-of-type {\n",
       "        vertical-align: middle;\n",
       "    }\n",
       "\n",
       "    .dataframe tbody tr th {\n",
       "        vertical-align: top;\n",
       "    }\n",
       "\n",
       "    .dataframe thead th {\n",
       "        text-align: right;\n",
       "    }\n",
       "</style>\n",
       "<table border=\"1\" class=\"dataframe\">\n",
       "  <thead>\n",
       "    <tr style=\"text-align: right;\">\n",
       "      <th></th>\n",
       "      <th>Unnamed: 0</th>\n",
       "      <th>left_proteins</th>\n",
       "      <th>right_proteins</th>\n",
       "      <th>sequence</th>\n",
       "      <th>hybrid_sequence</th>\n",
       "      <th>b_score</th>\n",
       "      <th>y_score</th>\n",
       "      <th>total_score</th>\n",
       "      <th>precursor_distance</th>\n",
       "      <th>entry name</th>\n",
       "      <th>id</th>\n",
       "    </tr>\n",
       "  </thead>\n",
       "  <tbody>\n",
       "    <tr>\n",
       "      <td>0</td>\n",
       "      <td>0</td>\n",
       "      <td>['sp|Q91ZI0|CELR3_MOUSE Cadherin EGF LAG seven...</td>\n",
       "      <td>['sp|P62500|T22D1_MOUSE TSC22 domain family pr...</td>\n",
       "      <td>TLAITASPLI</td>\n",
       "      <td>TLAITA-SPLI</td>\n",
       "      <td>5</td>\n",
       "      <td>3</td>\n",
       "      <td>8</td>\n",
       "      <td>0.000194</td>\n",
       "      <td>0</td>\n",
       "      <td>NOD2_E3.21510.21510.2.pkl</td>\n",
       "    </tr>\n",
       "  </tbody>\n",
       "</table>\n",
       "</div>"
      ],
      "text/plain": [
       "   Unnamed: 0                                      left_proteins  \\\n",
       "0           0  ['sp|Q91ZI0|CELR3_MOUSE Cadherin EGF LAG seven...   \n",
       "\n",
       "                                      right_proteins    sequence  \\\n",
       "0  ['sp|P62500|T22D1_MOUSE TSC22 domain family pr...  TLAITASPLI   \n",
       "\n",
       "  hybrid_sequence  b_score  y_score  total_score  precursor_distance  \\\n",
       "0     TLAITA-SPLI        5        3            8            0.000194   \n",
       "\n",
       "   entry name                         id  \n",
       "0           0  NOD2_E3.21510.21510.2.pkl  "
      ]
     },
     "execution_count": 7,
     "metadata": {},
     "output_type": "execute_result"
    }
   ],
   "source": [
    "hdf.head(10)"
   ]
  },
  {
   "cell_type": "code",
   "execution_count": 8,
   "metadata": {},
   "outputs": [
    {
     "data": {
      "text/html": [
       "<div>\n",
       "<style scoped>\n",
       "    .dataframe tbody tr th:only-of-type {\n",
       "        vertical-align: middle;\n",
       "    }\n",
       "\n",
       "    .dataframe tbody tr th {\n",
       "        vertical-align: top;\n",
       "    }\n",
       "\n",
       "    .dataframe thead th {\n",
       "        text-align: right;\n",
       "    }\n",
       "</style>\n",
       "<table border=\"1\" class=\"dataframe\">\n",
       "  <thead>\n",
       "    <tr style=\"text-align: right;\">\n",
       "      <th></th>\n",
       "      <th>Unnamed: 0</th>\n",
       "      <th>proteins</th>\n",
       "      <th>sequence</th>\n",
       "      <th>b_score</th>\n",
       "      <th>y_score</th>\n",
       "      <th>total_score</th>\n",
       "      <th>precursor_distance</th>\n",
       "      <th>entry name</th>\n",
       "      <th>id</th>\n",
       "    </tr>\n",
       "  </thead>\n",
       "  <tbody>\n",
       "    <tr>\n",
       "      <td>0</td>\n",
       "      <td>0</td>\n",
       "      <td>[]</td>\n",
       "      <td>DLQTLALQQR</td>\n",
       "      <td>4</td>\n",
       "      <td>8</td>\n",
       "      <td>12</td>\n",
       "      <td>0.000812</td>\n",
       "      <td>1</td>\n",
       "      <td>NOD2_E3.10614.10681.2.pkl</td>\n",
       "    </tr>\n",
       "    <tr>\n",
       "      <td>1</td>\n",
       "      <td>1</td>\n",
       "      <td>[]</td>\n",
       "      <td>TASPQLELGGSPG</td>\n",
       "      <td>9</td>\n",
       "      <td>5</td>\n",
       "      <td>14</td>\n",
       "      <td>0.000287</td>\n",
       "      <td>2</td>\n",
       "      <td>NOD2_E3.9045.9108.2.pkl</td>\n",
       "    </tr>\n",
       "  </tbody>\n",
       "</table>\n",
       "</div>"
      ],
      "text/plain": [
       "   Unnamed: 0 proteins       sequence  b_score  y_score  total_score  \\\n",
       "0           0       []     DLQTLALQQR        4        8           12   \n",
       "1           1       []  TASPQLELGGSPG        9        5           14   \n",
       "\n",
       "   precursor_distance  entry name                         id  \n",
       "0            0.000812           1  NOD2_E3.10614.10681.2.pkl  \n",
       "1            0.000287           2    NOD2_E3.9045.9108.2.pkl  "
      ]
     },
     "execution_count": 8,
     "metadata": {},
     "output_type": "execute_result"
    }
   ],
   "source": [
    "df.head(10)"
   ]
  },
  {
   "cell_type": "code",
   "execution_count": 9,
   "metadata": {},
   "outputs": [],
   "source": [
    "import json\n",
    "\n",
    "s = json.load(open('/Users/zacharymcgrath/Desktop/Experiment output/singleReal/summary.json', 'r'))"
   ]
  },
  {
   "cell_type": "code",
   "execution_count": 10,
   "metadata": {},
   "outputs": [
    {
     "name": "stdout",
     "output_type": "stream",
     "text": [
      "TLAITASPLI: 8, 5, 3\n",
      "DLQTLALIL: 8, 6, 2\n",
      "TLAITAPSII: 8, 5, 3\n",
      "TLAITAPSIL: 8, 5, 3\n",
      "TLAITASPLL: 8, 5, 3\n",
      "TLAITASPIL: 8, 5, 3\n",
      "DLQTLALII: 8, 6, 2\n",
      "ALTLATSPLL: 8, 5, 3\n",
      "TLAITAPSLL: 8, 5, 3\n",
      "TLALATSPLL: 8, 5, 3\n",
      "DLQTLALQQR: 12, 4, 8\n",
      "DLQTLALGAQR: 12, 4, 8\n",
      "DLQTLAIQQR: 12, 4, 8\n",
      "DLQTLALRQQ: 11, 4, 7\n",
      "DLQTLALGQRA: 11, 4, 7\n",
      "DLQTLAALGQR: 11, 4, 7\n",
      "DLQTLAAQVAR: 11, 4, 7\n",
      "DLQTLAAINAR: 11, 4, 7\n",
      "DLQTLAARANL: 11, 4, 7\n",
      "DLQTLAIFHK: 11, 4, 7\n",
      "TASPQLELGGSPG: 14, 9, 5\n",
      "TTGPQLELGGSPG: 13, 9, 4\n",
      "TASQPLELGGSPG: 13, 8, 5\n",
      "TASAPGLELGGSPG: 13, 8, 5\n",
      "TASALGPELGGSPG: 13, 7, 6\n",
      "TAPSQLELGGSPG: 13, 8, 5\n",
      "ATSPQLELGGSPG: 13, 8, 5\n",
      "TATARPELGGSPG: 13, 7, 6\n",
      "TGTPQLELGGSPG: 12, 8, 4\n",
      "TTPGQLELGGSPG: 12, 8, 4\n"
     ]
    }
   ],
   "source": [
    "for k, v in s.items():\n",
    "    for a in v['alignments']:\n",
    "        print(f'{a[\"sequence\"]}: {a[\"total_score\"]}, {a[\"b_score\"]}, {a[\"y_score\"]}')\n"
   ]
  },
  {
   "cell_type": "code",
   "execution_count": null,
   "metadata": {},
   "outputs": [],
   "source": []
  },
  {
   "cell_type": "code",
   "execution_count": null,
   "metadata": {},
   "outputs": [],
   "source": []
  }
 ],
 "metadata": {
  "kernelspec": {
   "display_name": "Python 3",
   "language": "python",
   "name": "python3"
  },
  "language_info": {
   "codemirror_mode": {
    "name": "ipython",
    "version": 3
   },
   "file_extension": ".py",
   "mimetype": "text/x-python",
   "name": "python",
   "nbconvert_exporter": "python",
   "pygments_lexer": "ipython3",
   "version": "3.7.4"
  }
 },
 "nbformat": 4,
 "nbformat_minor": 4
}

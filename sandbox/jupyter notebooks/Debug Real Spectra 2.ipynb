{
 "cells": [
  {
   "cell_type": "markdown",
   "metadata": {},
   "source": [
    "# Debug the real spectra 2\n",
    "\n",
    "So it doesn't work well with real data, so having taken out one example of real data, the sequence is\n",
    "\n",
    "Hybrid\n",
    "```\n",
    "DLQTLALLL\n",
    "```\n",
    "\n",
    "Hybrid:\n",
    "```\n",
    "DLQTLALNAAR\n",
    "```\n",
    "\n",
    "so toy with the tool until we find out whats wrong"
   ]
  },
  {
   "cell_type": "markdown",
   "metadata": {},
   "source": [
    "## Load params and run"
   ]
  },
  {
   "cell_type": "code",
   "execution_count": 1,
   "metadata": {},
   "outputs": [],
   "source": [
    "import os\n",
    "import sys\n",
    "module_path = os.path.abspath(os.path.join('..'))\n",
    "if module_path not in sys.path:\n",
    "    sys.path.append(module_path)\n",
    "module_path = os.path.abspath(os.path.join('../..'))\n",
    "if module_path not in sys.path:\n",
    "    sys.path.append(module_path)\n",
    "    \n",
    "from src import runner\n",
    "    "
   ]
  },
  {
   "cell_type": "code",
   "execution_count": 2,
   "metadata": {},
   "outputs": [],
   "source": [
    "specPath = '/Users/zacharymcgrath/Desktop/nod2 data/single2/'\n",
    "fastaPath = '/Users/zacharymcgrath/Desktop/nod2 data/filteredNOD2.fasta'\n",
    "outputDir = '/Users/zacharymcgrath/Desktop/Experiment output/singleReal/'\n",
    "minPep = 3\n",
    "maxPep = 30\n",
    "tolerance = 20\n",
    "relative_abundance_filter = 0.0\n",
    "precursor_tolerance = 3\n",
    "peak_filter = 25\n",
    "verbose = True\n",
    "scoringAlg = 'ion'"
   ]
  },
  {
   "cell_type": "code",
   "execution_count": 3,
   "metadata": {},
   "outputs": [],
   "source": [
    "params = {\n",
    "    'spectra_folder': specPath,\n",
    "    'database_file': fastaPath,\n",
    "    'output_dir': outputDir,\n",
    "    'min_peptide_len': minPep,\n",
    "    'max_peptide_len': maxPep,\n",
    "    'tolerance': tolerance,\n",
    "    'precursor_tolerance': precursor_tolerance,\n",
    "    'peak_filter': peak_filter, \n",
    "    'relative_abundance_filter': relative_abundance_filter,\n",
    "    'verbose': verbose, \n",
    "    'scoring_alg': scoringAlg, \n",
    "    'DEBUG': True\n",
    "}"
   ]
  },
  {
   "cell_type": "code",
   "execution_count": 4,
   "metadata": {},
   "outputs": [
    {
     "name": "stdout",
     "output_type": "stream",
     "text": [
      "Loading database...\n",
      "Loading saved database...\n",
      "Done\n",
      "Done.\n",
      "Analyzing spectra file 1/1[0%]\n",
      "\n",
      "Analyzing spectrum 1/2[0%]\n",
      "Filtering time took 0.40711402893066406 resulting in 1 b sequences and 7 y sequences\n",
      "First alignment round took 0.00742793083190918 time resulting in 15 alignments\n",
      "Filling in precursor took 0.014714241027832031 for 15 sequences\n",
      "Getting rid of ambiguous time took 0.17077088356018066\n",
      "Time to make into objects took 0.025772809982299805\n",
      "Scores for AAR are: [('ESKKAARAAR', 3), ('AAR', 1), ('AARAAR', 2), ('RAALAAR', 2)]\n",
      "\n",
      "Filtering time took 0.4944570064544678 resulting in 2 b sequences and 4 y sequences\n",
      "First alignment round took 0.008526086807250977 time resulting in 14 alignments\n",
      "Filling in precursor took 0.009041070938110352 for 14 sequences\n",
      "Getting rid of ambiguous time took 2.86102294921875e-06\n",
      "Time to make into objects took 0.0015649795532226562\n",
      "\n",
      "Finished search. Writting results to /Users/zacharymcgrath/Desktop/Experiment output/singleReal/...\n",
      "Could not make an alignment for 0/2 spectra (0%)\n",
      "CPU times: user 4.87 s, sys: 433 ms, total: 5.31 s\n",
      "Wall time: 5.38 s\n"
     ]
    }
   ],
   "source": [
    "%%time\n",
    "runner.run(params)"
   ]
  },
  {
   "cell_type": "markdown",
   "metadata": {},
   "source": [
    "## Load and read results"
   ]
  },
  {
   "cell_type": "code",
   "execution_count": 5,
   "metadata": {},
   "outputs": [],
   "source": [
    "import pandas as pd\n",
    "\n",
    "outputFile = '/Users/zacharymcgrath/Desktop/Experiment output/singleReal/summary.tsv'\n",
    "hybridOutputFile = '/Users/zacharymcgrath/Desktop/Experiment output/singleReal/hybrid_summary.tsv'"
   ]
  },
  {
   "cell_type": "code",
   "execution_count": 6,
   "metadata": {},
   "outputs": [],
   "source": [
    "df = pd.read_csv(outputFile, sep='\\t')\n",
    "hdf = pd.read_csv(hybridOutputFile, sep='\\t')"
   ]
  },
  {
   "cell_type": "code",
   "execution_count": 7,
   "metadata": {},
   "outputs": [
    {
     "data": {
      "text/html": [
       "<div>\n",
       "<style scoped>\n",
       "    .dataframe tbody tr th:only-of-type {\n",
       "        vertical-align: middle;\n",
       "    }\n",
       "\n",
       "    .dataframe tbody tr th {\n",
       "        vertical-align: top;\n",
       "    }\n",
       "\n",
       "    .dataframe thead th {\n",
       "        text-align: right;\n",
       "    }\n",
       "</style>\n",
       "<table border=\"1\" class=\"dataframe\">\n",
       "  <thead>\n",
       "    <tr style=\"text-align: right;\">\n",
       "      <th></th>\n",
       "      <th>Unnamed: 0</th>\n",
       "      <th>left_proteins</th>\n",
       "      <th>right_proteins</th>\n",
       "      <th>sequence</th>\n",
       "      <th>hybrid_sequence</th>\n",
       "      <th>b_score</th>\n",
       "      <th>y_score</th>\n",
       "      <th>total_score</th>\n",
       "      <th>precursor_distance</th>\n",
       "      <th>entry name</th>\n",
       "      <th>id</th>\n",
       "    </tr>\n",
       "  </thead>\n",
       "  <tbody>\n",
       "    <tr>\n",
       "      <td>0</td>\n",
       "      <td>0</td>\n",
       "      <td>['INS1_MOUSE Insulin-1', 'INS2_MOUSE Insulin-2']</td>\n",
       "      <td>['SSRD_MOUSE Translocon-associated protein sub...</td>\n",
       "      <td>DLQTLALLL</td>\n",
       "      <td>DLQT-LALLL</td>\n",
       "      <td>6</td>\n",
       "      <td>2</td>\n",
       "      <td>10</td>\n",
       "      <td>0.000194</td>\n",
       "      <td>/Users/zacharymcgrath/Desktop/nod2 data/single...</td>\n",
       "      <td>NOD2_E3.21510.21510.2.pkl</td>\n",
       "    </tr>\n",
       "  </tbody>\n",
       "</table>\n",
       "</div>"
      ],
      "text/plain": [
       "   Unnamed: 0                                     left_proteins  \\\n",
       "0           0  ['INS1_MOUSE Insulin-1', 'INS2_MOUSE Insulin-2']   \n",
       "\n",
       "                                      right_proteins   sequence  \\\n",
       "0  ['SSRD_MOUSE Translocon-associated protein sub...  DLQTLALLL   \n",
       "\n",
       "  hybrid_sequence  b_score  y_score  total_score  precursor_distance  \\\n",
       "0      DLQT-LALLL        6        2           10            0.000194   \n",
       "\n",
       "                                          entry name  \\\n",
       "0  /Users/zacharymcgrath/Desktop/nod2 data/single...   \n",
       "\n",
       "                          id  \n",
       "0  NOD2_E3.21510.21510.2.pkl  "
      ]
     },
     "execution_count": 7,
     "metadata": {},
     "output_type": "execute_result"
    }
   ],
   "source": [
    "hdf.head(10)"
   ]
  },
  {
   "cell_type": "code",
   "execution_count": 8,
   "metadata": {},
   "outputs": [
    {
     "data": {
      "text/html": [
       "<div>\n",
       "<style scoped>\n",
       "    .dataframe tbody tr th:only-of-type {\n",
       "        vertical-align: middle;\n",
       "    }\n",
       "\n",
       "    .dataframe tbody tr th {\n",
       "        vertical-align: top;\n",
       "    }\n",
       "\n",
       "    .dataframe thead th {\n",
       "        text-align: right;\n",
       "    }\n",
       "</style>\n",
       "<table border=\"1\" class=\"dataframe\">\n",
       "  <thead>\n",
       "    <tr style=\"text-align: right;\">\n",
       "      <th></th>\n",
       "      <th>Unnamed: 0</th>\n",
       "      <th>proteins</th>\n",
       "      <th>sequence</th>\n",
       "      <th>b_score</th>\n",
       "      <th>y_score</th>\n",
       "      <th>total_score</th>\n",
       "      <th>precursor_distance</th>\n",
       "      <th>entry name</th>\n",
       "      <th>id</th>\n",
       "    </tr>\n",
       "  </thead>\n",
       "  <tbody>\n",
       "    <tr>\n",
       "      <td>0</td>\n",
       "      <td>0</td>\n",
       "      <td>['RISC_MOUSE Retinoid-inducible serine carboxy...</td>\n",
       "      <td>LDTQLKPRNT</td>\n",
       "      <td>2</td>\n",
       "      <td>3</td>\n",
       "      <td>4</td>\n",
       "      <td>0.000812</td>\n",
       "      <td>/Users/zacharymcgrath/Desktop/nod2 data/single...</td>\n",
       "      <td>NOD2_E3.10614.10681.2.pkl</td>\n",
       "    </tr>\n",
       "  </tbody>\n",
       "</table>\n",
       "</div>"
      ],
      "text/plain": [
       "   Unnamed: 0                                           proteins    sequence  \\\n",
       "0           0  ['RISC_MOUSE Retinoid-inducible serine carboxy...  LDTQLKPRNT   \n",
       "\n",
       "   b_score  y_score  total_score  precursor_distance  \\\n",
       "0        2        3            4            0.000812   \n",
       "\n",
       "                                          entry name  \\\n",
       "0  /Users/zacharymcgrath/Desktop/nod2 data/single...   \n",
       "\n",
       "                          id  \n",
       "0  NOD2_E3.10614.10681.2.pkl  "
      ]
     },
     "execution_count": 8,
     "metadata": {},
     "output_type": "execute_result"
    }
   ],
   "source": [
    "df.head(10)"
   ]
  },
  {
   "cell_type": "code",
   "execution_count": 9,
   "metadata": {},
   "outputs": [],
   "source": [
    "import json\n",
    "\n",
    "s = json.load(open('/Users/zacharymcgrath/Desktop/Experiment output/singleReal/summary.json', 'r'))"
   ]
  },
  {
   "cell_type": "code",
   "execution_count": 10,
   "metadata": {},
   "outputs": [
    {
     "name": "stdout",
     "output_type": "stream",
     "text": [
      "DLQTLALLL: 10, 6, 2\n",
      "DLQTLALGGL: 9, 6, 1\n",
      "DLQTLALEV: 9, 6, 0\n",
      "LDTQLKPRNT: 4, 2, 3\n"
     ]
    }
   ],
   "source": [
    "for k, v in s.items():\n",
    "    for a in v['alignments']:\n",
    "        print(f'{a[\"sequence\"]}: {a[\"total_score\"]}, {a[\"b_score\"]}, {a[\"y_score\"]}')\n"
   ]
  },
  {
   "cell_type": "code",
   "execution_count": null,
   "metadata": {},
   "outputs": [],
   "source": []
  },
  {
   "cell_type": "code",
   "execution_count": null,
   "metadata": {},
   "outputs": [],
   "source": []
  }
 ],
 "metadata": {
  "kernelspec": {
   "display_name": "Python 3",
   "language": "python",
   "name": "python3"
  },
  "language_info": {
   "codemirror_mode": {
    "name": "ipython",
    "version": 3
   },
   "file_extension": ".py",
   "mimetype": "text/x-python",
   "name": "python",
   "nbconvert_exporter": "python",
   "pygments_lexer": "ipython3",
   "version": "3.7.4"
  }
 },
 "nbformat": 4,
 "nbformat_minor": 4
}

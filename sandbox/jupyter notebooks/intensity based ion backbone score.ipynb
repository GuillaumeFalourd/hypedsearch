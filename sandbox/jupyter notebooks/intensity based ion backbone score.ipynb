{
 "cells": [
  {
   "cell_type": "markdown",
   "metadata": {},
   "source": [
    "# intensity ion backbone score\n",
    "The ion backbone score, but also taking into account the relative intensity that is being made up by identified peaks"
   ]
  },
  {
   "cell_type": "code",
   "execution_count": 1,
   "metadata": {},
   "outputs": [],
   "source": [
    "import os\n",
    "import sys\n",
    "module_path = os.path.abspath(os.path.join('..'))\n",
    "if module_path not in sys.path:\n",
    "    sys.path.append(module_path)\n",
    "module_path = os.path.abspath(os.path.join('../..'))\n",
    "if module_path not in sys.path:\n",
    "    sys.path.append(module_path)\n",
    "    \n",
    "from src.objects import Spectrum\n",
    "from src.spectra.gen_spectra import gen_spectrum\n",
    "from src.utils import ppm_to_da"
   ]
  },
  {
   "cell_type": "code",
   "execution_count": 2,
   "metadata": {},
   "outputs": [
    {
     "ename": "NameError",
     "evalue": "name 'jcount' is not defined",
     "output_type": "error",
     "traceback": [
      "\u001b[0;31m---------------------------------------------------------------------------\u001b[0m",
      "\u001b[0;31mNameError\u001b[0m                                 Traceback (most recent call last)",
      "\u001b[0;32m<ipython-input-2-dcea11151bc5>\u001b[0m in \u001b[0;36m<module>\u001b[0;34m\u001b[0m\n\u001b[0;32m----> 1\u001b[0;31m \u001b[0msum\u001b[0m\u001b[0;34m(\u001b[0m\u001b[0;34m[\u001b[0m\u001b[0;36m1\u001b[0m \u001b[0;32mif\u001b[0m \u001b[0mjc\u001b[0m \u001b[0;34m==\u001b[0m \u001b[0;36m0\u001b[0m \u001b[0;32melse\u001b[0m \u001b[0;36m0\u001b[0m \u001b[0;32mfor\u001b[0m \u001b[0mjc\u001b[0m \u001b[0;32min\u001b[0m \u001b[0mjcount\u001b[0m\u001b[0;34m]\u001b[0m\u001b[0;34m)\u001b[0m\u001b[0;34m\u001b[0m\u001b[0;34m\u001b[0m\u001b[0m\n\u001b[0m",
      "\u001b[0;31mNameError\u001b[0m: name 'jcount' is not defined"
     ]
    }
   ],
   "source": [
    "sum([1 if jc == 0 else 0 for jc in jcount])"
   ]
  },
  {
   "cell_type": "code",
   "execution_count": 3,
   "metadata": {},
   "outputs": [],
   "source": [
    "def intensity_ion_backbone_score(observed: Spectrum, reference: str, ion: str, ppm_tolerance: int) -> float:\n",
    "    '''\n",
    "    Scoring algorithm that factors in how much of the backbone is identified along with the abundance each peak \n",
    "    contributes to the total score. The formula is:\n",
    "\n",
    "        count(# backbone cleavages found) + 1 for every additional hit of an already identifed cleavage * total percentage\n",
    "        of intensity covered by identfied peaks\n",
    "\n",
    "    Example:\n",
    "        reference:   ABCDE, 4 junctions to describe\n",
    "        observed:    ions: b1+, y1++, y2+, b4+, with relative intensities of (100, 200, 100, 50) of a total 600\n",
    "        \n",
    "        ions for A, E, DE, ABCD found. Coverage = A**DE with DE described by both E and ABCD\n",
    "        \n",
    "        Score = %(3/4) + 1 = 75 + 1 = 76 *(100 + 200 + 100 + 50)/600 = 57 \n",
    "\n",
    "    Inputs:\n",
    "        observed:       (Spectrum) spectrum being scored against\n",
    "        reference:      (str) reference amino acid sequence being scored against the spectrum\n",
    "        ion:            (str) the ion type to focus on. Options are 'b' or 'y'\n",
    "        ppm_tolerance:  (int) tolerance to allow in ppm for each peak\n",
    "    Outputs:\n",
    "        (float) score according to the formula \n",
    "    '''\n",
    "    # check to see if observed is nothing\n",
    "    if len(observed.spectrum) == 0:\n",
    "        return 0\n",
    "\n",
    "    # keep track of the junction (bond) sites found\n",
    "    jcount = [0 for _ in range(len(reference)-1)]\n",
    "\n",
    "    # keep track of the abundances that contribute to our score\n",
    "    ided_abundances = 0\n",
    "    \n",
    "    for charge in [1, 2]:\n",
    "\n",
    "        # take off the trailing or leading amino acid from the reference according to ion type\n",
    "        singled_seq = reference[:-1] if ion == 'b' else reference[1:]\n",
    "\n",
    "        # get the m/z peaks\n",
    "        peaks = gen_spectrum(singled_seq, charge=charge, ion=ion)['spectrum']\n",
    "        \n",
    "        # go through each peak and try and match it to an observed one\n",
    "        for i in range(len(peaks)):\n",
    "\n",
    "            # take tolerance into account \n",
    "            da_tol = ppm_to_da(peaks[i], ppm_tolerance)\n",
    "\n",
    "            # get hits\n",
    "            peak_hits = list(map(lambda idx_x: idx_x[0] if peaks[i] - da_tol <= idx_x[1] <= peaks[i] + da_tol else None, enumerate(observed.spectrum)))\n",
    "\n",
    "            # remove None from peak hits\n",
    "            peak_hits = [idx for idx in peak_hits if idx is not None]\n",
    "\n",
    "            # if the len > 1, increment\n",
    "            if len(peak_hits) > 0:\n",
    "                jcount[i] += 1\n",
    "                ided_abundances += sum([observed.abundance[idx] for idx in peak_hits])\n",
    "\n",
    "    # if any entry has at least 1, that bond has been identified at least once\n",
    "    jcoverage = sum([1 if jc > 0 else 0 for jc in jcount])\n",
    "\n",
    "    # if an entry has more than 1, we give it extra points\n",
    "    extrapoints = sum([jc - 1 if jc > 1 else 0 for jc in jcount]) // 3\n",
    "    \n",
    "    return (jcoverage + extrapoints) * (ided_abundances / observed.total_intensity)"
   ]
  },
  {
   "cell_type": "code",
   "execution_count": 4,
   "metadata": {},
   "outputs": [],
   "source": [
    "def intensity_ion_backbone_score2(observed: Spectrum, reference: str, ion: str, ppm_tolerance: int) -> float:\n",
    "    '''\n",
    "    Scoring algorithm that factors in how much of the backbone is identified along with the abundance each peak \n",
    "    contributes to the total score. The formula is:\n",
    "\n",
    "        count(# backbone cleavages found) + 1 for every additional hit of an already identifed cleavage * total percentage\n",
    "        of intensity covered by identfied peaks\n",
    "\n",
    "    Example:\n",
    "        reference:   ABCDE, 4 junctions to describe\n",
    "        observed:    ions: b1+, y1++, y2+, b4+, with relative intensities of (100, 200, 100, 50) of a total 600\n",
    "        \n",
    "        ions for A, E, DE, ABCD found. Coverage = A**DE with DE described by both E and ABCD\n",
    "        \n",
    "        Score = %(3/4) + 1 = 75 + 1 = 76 *(100 + 200 + 100 + 50)/600 = 57 \n",
    "\n",
    "    Inputs:\n",
    "        observed:       (Spectrum) spectrum being scored against\n",
    "        reference:      (str) reference amino acid sequence being scored against the spectrum\n",
    "        ion:            (str) the ion type to focus on. Options are 'b' or 'y'\n",
    "        ppm_tolerance:  (int) tolerance to allow in ppm for each peak\n",
    "    Outputs:\n",
    "        (float) score according to the formula \n",
    "    '''\n",
    "    # check to see if observed is nothing\n",
    "    if len(observed.spectrum) == 0:\n",
    "        return 0\n",
    "\n",
    "    # keep track of the junction (bond) sites found\n",
    "    jcount = [0 for _ in range(len(reference)-1)]\n",
    "\n",
    "    # keep track of the abundances that contribute to our score\n",
    "    ided_abundances = 0\n",
    "    \n",
    "    for charge in [1, 2]:\n",
    "\n",
    "        # take off the trailing or leading amino acid from the reference according to ion type\n",
    "        singled_seq = reference[:-1] if ion == 'b' else reference[1:]\n",
    "\n",
    "        # get the m/z peaks\n",
    "        peaks = gen_spectrum(singled_seq, charge=charge, ion=ion)['spectrum']\n",
    "        \n",
    "        # go through each peak and try and match it to an observed one\n",
    "        for i in range(len(peaks)):\n",
    "\n",
    "            # take tolerance into account \n",
    "            da_tol = ppm_to_da(peaks[i], ppm_tolerance)\n",
    "\n",
    "            # get hits\n",
    "            peak_hits = list(map(lambda idx_x: idx_x[0] if peaks[i] - da_tol <= idx_x[1] <= peaks[i] + da_tol else None, enumerate(observed.spectrum)))\n",
    "\n",
    "            # remove None from peak hits\n",
    "            peak_hits = [idx for idx in peak_hits if idx is not None]\n",
    "\n",
    "            # if the len > 1, increment\n",
    "            if len(peak_hits) > 0:\n",
    "                jcount[i] += 1\n",
    "                ided_abundances += sum([observed.abundance[idx] for idx in peak_hits])\n",
    "\n",
    "    # if any entry has at least 1, that bond has been identified at least once\n",
    "    jcoverage = sum([1 if jc > 0 else 0 for jc in jcount])\n",
    "    \n",
    "    # subtract points for every missing bond \n",
    "    missing_bonds = sum([1 if jc == 0 else 0 for jc in jcount])\n",
    "    print(f'Missing {missing_bonds}/{len(jcount)} bonds')\n",
    "    jcoverage -= missing_bonds\n",
    "\n",
    "    # if an entry has more than 1, we give it extra points\n",
    "    extrapoints = sum([jc - 1 if jc > 1 else 0 for jc in jcount]) // 3\n",
    "    \n",
    "    return (jcoverage + extrapoints) * (ided_abundances / observed.total_intensity)"
   ]
  },
  {
   "cell_type": "code",
   "execution_count": 5,
   "metadata": {},
   "outputs": [],
   "source": [
    "seq1 = 'MALWARM'\n",
    "seq2 = 'MALW'\n",
    "seq3 = 'WARM'\n",
    "seq4 = 'QQQPS'\n",
    "\n",
    "observed_spec = gen_spectrum(seq1)['spectrum']\n",
    "abundances = [1 for _ in range(len(observed_spec))]\n",
    "observed = Spectrum(observed_spec, abundances, sum(abundances))\n"
   ]
  },
  {
   "cell_type": "code",
   "execution_count": 6,
   "metadata": {},
   "outputs": [
    {
     "name": "stdout",
     "output_type": "stream",
     "text": [
      "0.8571428571428571\n",
      "Missing 0/3 bonds\n",
      "0.8571428571428571\n"
     ]
    }
   ],
   "source": [
    "print(intensity_ion_backbone_score(observed, seq2, 'b', 20))\n",
    "print(intensity_ion_backbone_score2(observed, seq2, 'b', 20))"
   ]
  },
  {
   "cell_type": "code",
   "execution_count": 8,
   "metadata": {},
   "outputs": [
    {
     "name": "stdout",
     "output_type": "stream",
     "text": [
      "0.8571428571428571\n",
      "Missing 0/3 bonds\n",
      "0.8571428571428571\n"
     ]
    }
   ],
   "source": [
    "print(intensity_ion_backbone_score(observed, seq3, 'y', 20))\n",
    "print(intensity_ion_backbone_score2(observed, seq3, 'y', 20))"
   ]
  },
  {
   "cell_type": "code",
   "execution_count": 9,
   "metadata": {},
   "outputs": [
    {
     "name": "stdout",
     "output_type": "stream",
     "text": [
      "0.0\n",
      "Missing 3/3 bonds\n",
      "-0.0\n"
     ]
    }
   ],
   "source": [
    "print(intensity_ion_backbone_score(observed, seq2, 'y', 20))\n",
    "print(intensity_ion_backbone_score2(observed, seq2, 'y', 20))"
   ]
  },
  {
   "cell_type": "code",
   "execution_count": 7,
   "metadata": {},
   "outputs": [
    {
     "name": "stdout",
     "output_type": "stream",
     "text": [
      "j coverage: 0\n",
      "extra points: 0\n",
      "observed / total 0/28 [0%]\n"
     ]
    },
    {
     "data": {
      "text/plain": [
       "0.0"
      ]
     },
     "execution_count": 7,
     "metadata": {},
     "output_type": "execute_result"
    }
   ],
   "source": [
    "intensity_ion_backbone_score(observed, seq3, 'b', 20)"
   ]
  },
  {
   "cell_type": "code",
   "execution_count": 8,
   "metadata": {},
   "outputs": [
    {
     "name": "stdout",
     "output_type": "stream",
     "text": [
      "j coverage: 0\n",
      "extra points: 0\n",
      "observed / total 0/28 [0%]\n"
     ]
    },
    {
     "data": {
      "text/plain": [
       "0.0"
      ]
     },
     "execution_count": 8,
     "metadata": {},
     "output_type": "execute_result"
    }
   ],
   "source": [
    "intensity_ion_backbone_score(observed, seq4, 'b', 20)"
   ]
  },
  {
   "cell_type": "code",
   "execution_count": 9,
   "metadata": {},
   "outputs": [
    {
     "name": "stdout",
     "output_type": "stream",
     "text": [
      "j coverage: 0\n",
      "extra points: 0\n",
      "observed / total 0/28 [0%]\n"
     ]
    },
    {
     "data": {
      "text/plain": [
       "0.0"
      ]
     },
     "execution_count": 9,
     "metadata": {},
     "output_type": "execute_result"
    }
   ],
   "source": [
    "intensity_ion_backbone_score(observed, seq4, 'y', 20)"
   ]
  },
  {
   "cell_type": "code",
   "execution_count": 10,
   "metadata": {},
   "outputs": [
    {
     "name": "stdout",
     "output_type": "stream",
     "text": [
      "Spectrum(spectrum=[70.06517028808594, 74.06005859375, 84.04444122314453, 87.05548095703125, 88.03839111328125, 102.05506896972656, 120.08072662353516, 129.10128784179688, 156.0776824951172, 169.09774780273438, 181.06008911132812, 184.10662841796875, 199.0702667236328, 201.12315368652344, 212.1022186279297, 213.10667419433594, 217.08192443847656, 218.07821655273438, 245.07611083984375, 246.07858276367188, 277.1161193847656, 283.1413879394531, 316.1118469238281, 331.17498779296875, 402.1655578613281, 439.4844665527344, 449.7722473144531, 527.2117309570312, 550.8241577148438, 585.966796875, 591.6425170898438, 591.9791870117188, 592.3104248046875, 607.8389282226562, 608.3428955078125, 615.3208618164062, 615.6561279296875, 615.9962158203125, 634.8439331054688, 643.3582763671875, 643.8055419921875, 643.8550415039062, 644.3562622070312, 674.2733764648438, 707.87841796875, 708.3804931640625, 708.8803100585938, 781.4142456054688, 838.4376220703125, 838.9308471679688], abundance=[2547.683349609375, 730.1649169921875, 1565.4937744140625, 958.437744140625, 917.452392578125, 3846.709716796875, 2452.79736328125, 623.0447998046875, 374.056640625, 632.144775390625, 623.37158203125, 337.14154052734375, 561.9810180664062, 987.6354370117188, 1954.6824951171875, 456.2611999511719, 3886.33349609375, 393.4381103515625, 6083.39990234375, 526.4193115234375, 354.7475891113281, 585.8143920898438, 712.1141357421875, 413.27362060546875, 312.9204406738281, 337.615234375, 436.9898376464844, 381.63482666015625, 586.9285888671875, 843.4388427734375, 3621.18359375, 3374.97021484375, 1484.1064453125, 1291.126953125, 386.21539306640625, 968.104248046875, 1789.317138671875, 697.100341796875, 327.84130859375, 2742.34521484375, 326.2732238769531, 1139.092041015625, 439.9466552734375, 563.0538330078125, 950.854736328125, 762.1254272460938, 301.59503173828125, 748.9049072265625, 758.2952880859375, 683.1497192382812], total_intensity=58779.7287902832, ms_level=2, scan_number=17, precursor_mass=522, file_name='/Users/zacharymcgrath/Desktop/nod2 data/single/singleRealSpectrum.mzml', id='NOD2_E3.9670.9702.4.pkl')\n"
     ]
    }
   ],
   "source": [
    "from src.file_io.mzML import read\n",
    "\n",
    "mzmlfile = '/Users/zacharymcgrath/Desktop/nod2 data/single/singleRealSpectrum.mzml'\n",
    "\n",
    "spec = None\n",
    "for e in read(mzmlfile):\n",
    "    spec = e\n",
    "    break\n",
    "    \n",
    "print(spec)"
   ]
  },
  {
   "cell_type": "code",
   "execution_count": 15,
   "metadata": {},
   "outputs": [
    {
     "name": "stdout",
     "output_type": "stream",
     "text": [
      "j coverage: 53\n",
      "extra points: 0\n",
      "observed / total 7131.206878662109/58779.7287902832 [12%]\n"
     ]
    },
    {
     "data": {
      "text/plain": [
       "45.0"
      ]
     },
     "execution_count": 15,
     "metadata": {},
     "output_type": "execute_result"
    }
   ],
   "source": [
    "intensity_ion_backbone_score(spec, 'NFEANTTIGRIRFH', 'y', 20) * len('NFEANTTIGRIRFH') // 2"
   ]
  },
  {
   "cell_type": "code",
   "execution_count": 16,
   "metadata": {},
   "outputs": [
    {
     "name": "stdout",
     "output_type": "stream",
     "text": [
      "j coverage: 50\n",
      "extra points: 0\n",
      "observed / total 3846.709716796875/58779.7287902832 [6%]\n"
     ]
    },
    {
     "data": {
      "text/plain": [
       "4.0"
      ]
     },
     "execution_count": 16,
     "metadata": {},
     "output_type": "execute_result"
    }
   ],
   "source": [
    "intensity_ion_backbone_score(spec, 'LPS', 'y', 20) * len('LPS') // 2"
   ]
  },
  {
   "cell_type": "code",
   "execution_count": 13,
   "metadata": {},
   "outputs": [
    {
     "name": "stdout",
     "output_type": "stream",
     "text": [
      "j coverage: 100\n",
      "extra points: 0\n",
      "observed / total 7733.043212890625/58779.7287902832 [13%]\n"
     ]
    },
    {
     "data": {
      "text/plain": [
       "13.1559695358257"
      ]
     },
     "execution_count": 13,
     "metadata": {},
     "output_type": "execute_result"
    }
   ],
   "source": [
    "intensity_ion_backbone_score(spec, 'TDS', 'b', 20)"
   ]
  },
  {
   "cell_type": "code",
   "execution_count": 14,
   "metadata": {},
   "outputs": [
    {
     "name": "stdout",
     "output_type": "stream",
     "text": [
      "j coverage: 50\n",
      "extra points: 0\n",
      "observed / total 6083.39990234375/58779.7287902832 [10%]\n"
     ]
    },
    {
     "data": {
      "text/plain": [
       "5.174743085365672"
      ]
     },
     "execution_count": 14,
     "metadata": {},
     "output_type": "execute_result"
    }
   ],
   "source": [
    "intensity_ion_backbone_score(spec, 'DEA', 'b', 20)"
   ]
  },
  {
   "cell_type": "code",
   "execution_count": 20,
   "metadata": {},
   "outputs": [
    {
     "data": {
      "text/plain": [
       "{'spectrum': [65.528572935,\n",
       "  101.047129935,\n",
       "  149.573511935,\n",
       "  206.594975435,\n",
       "  280.129182435,\n",
       "  344.650478935,\n",
       "  380.169035935,\n",
       "  437.190499435,\n",
       "  487.714338935,\n",
       "  538.238178435,\n",
       "  594.780210435,\n",
       "  623.2909424349999,\n",
       "  701.3414979349999,\n",
       "  757.8835299349998,\n",
       "  835.9340854349998,\n",
       "  909.4682924349999,\n",
       "  977.9977484349998,\n",
       "  1035.5112199349999,\n",
       "  67.526030285,\n",
       "  136.055486285,\n",
       "  209.589693285,\n",
       "  287.64024878500004,\n",
       "  344.18228078500005,\n",
       "  422.2328362850001,\n",
       "  450.7435682850001,\n",
       "  507.2856002850001,\n",
       "  557.8094397850001,\n",
       "  608.3332792850001,\n",
       "  665.3547427850001,\n",
       "  700.8732997850001,\n",
       "  765.394596285,\n",
       "  838.9288032850001,\n",
       "  895.950266785,\n",
       "  944.4766487850001,\n",
       "  979.995205785,\n",
       "  1044.5165022850001],\n",
       " 'precursor_mass': 1044.5165022499998}"
      ]
     },
     "execution_count": 20,
     "metadata": {},
     "output_type": "execute_result"
    }
   ],
   "source": [
    "gen_spectrum('EAPNFEANTTIGRIRFHD', charge=2)"
   ]
  },
  {
   "cell_type": "code",
   "execution_count": 21,
   "metadata": {},
   "outputs": [
    {
     "data": {
      "text/plain": [
       "{'spectrum': [58.520747935,\n",
       "  123.04204443500001,\n",
       "  158.56060143500002,\n",
       "  207.08698343500004,\n",
       "  264.108446935,\n",
       "  337.642653935,\n",
       "  402.163950435,\n",
       "  437.682507435,\n",
       "  494.703970935,\n",
       "  545.2278104349999,\n",
       "  595.7516499349999,\n",
       "  652.2936819349999,\n",
       "  680.8044139349998,\n",
       "  758.8549694349998,\n",
       "  815.3970014349998,\n",
       "  893.4475569349997,\n",
       "  966.9817639349998,\n",
       "  1035.5112199349999,\n",
       "  78.54201478499999,\n",
       "  152.07622178499997,\n",
       "  230.12677728499997,\n",
       "  286.66880928499995,\n",
       "  364.7193647849999,\n",
       "  393.23009678499994,\n",
       "  449.77212878499995,\n",
       "  500.29596828499996,\n",
       "  550.819807785,\n",
       "  607.841271285,\n",
       "  643.3598282849999,\n",
       "  707.8811247849999,\n",
       "  781.4153317849999,\n",
       "  838.4367952849999,\n",
       "  886.9631772849999,\n",
       "  922.4817342849999,\n",
       "  987.003030785,\n",
       "  1044.516502285],\n",
       " 'precursor_mass': 1044.5165022499998}"
      ]
     },
     "execution_count": 21,
     "metadata": {},
     "output_type": "execute_result"
    }
   ],
   "source": [
    "gen_spectrum('DEAPNFEANTTIGRIRFH', charge=2)"
   ]
  },
  {
   "cell_type": "code",
   "execution_count": null,
   "metadata": {},
   "outputs": [],
   "source": []
  }
 ],
 "metadata": {
  "kernelspec": {
   "display_name": "Python 3",
   "language": "python",
   "name": "python3"
  },
  "language_info": {
   "codemirror_mode": {
    "name": "ipython",
    "version": 3
   },
   "file_extension": ".py",
   "mimetype": "text/x-python",
   "name": "python",
   "nbconvert_exporter": "python",
   "pygments_lexer": "ipython3",
   "version": "3.7.4"
  }
 },
 "nbformat": 4,
 "nbformat_minor": 4
}

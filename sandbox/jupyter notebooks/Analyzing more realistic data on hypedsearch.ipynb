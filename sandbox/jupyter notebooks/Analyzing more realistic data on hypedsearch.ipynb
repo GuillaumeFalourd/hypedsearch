{
 "cells": [
  {
   "cell_type": "markdown",
   "metadata": {},
   "source": [
    "# Looking at a single realistic spectrum in hypedsearch\n",
    "We want to see how changes to the input spectrum affects the results of hypedsearch and see what is causing issues"
   ]
  },
  {
   "cell_type": "markdown",
   "metadata": {},
   "source": [
    "## 1. Make some data"
   ]
  },
  {
   "cell_type": "code",
   "execution_count": 1,
   "metadata": {},
   "outputs": [],
   "source": [
    "import os\n",
    "import sys\n",
    "module_path = os.path.abspath(os.path.join('..'))\n",
    "if module_path not in sys.path:\n",
    "    sys.path.append(module_path)\n",
    "module_path = os.path.abspath(os.path.join('../..'))\n",
    "if module_path not in sys.path:\n",
    "    sys.path.append(module_path)\n",
    "    \n",
    "from src.file_io import fasta\n",
    "from src.spectra.gen_spectra import gen_spectrum\n",
    "from modules.sequence_generation import realistic_spectra\n",
    "import matplotlib.pyplot as plt\n",
    "import numpy as np\n",
    "\n",
    "\n",
    "fastafile = '../../testing framework/data/databases/4prots.fasta'\n",
    "\n",
    "database = fasta.read(fastafile, True)\n",
    "\n",
    "database = {x['name']: x for x in database}\n"
   ]
  },
  {
   "cell_type": "code",
   "execution_count": 2,
   "metadata": {},
   "outputs": [
    {
     "name": "stdout",
     "output_type": "stream",
     "text": [
      "ADTFEHVIEELLD\n"
     ]
    }
   ],
   "source": [
    "import random\n",
    "peptideprotein = list(database.keys())[random.randint(0, len(database)-1)]\n",
    "peptidelen = random.randint(6, 15)\n",
    "peptidestart = random.randint(0, len(database[peptideprotein]['sequence']) - peptidelen)\n",
    "peptideseq = database[peptideprotein]['sequence'][peptidestart:peptidestart+peptidelen]\n",
    "\n",
    "print(peptideseq)"
   ]
  },
  {
   "cell_type": "code",
   "execution_count": 3,
   "metadata": {},
   "outputs": [
    {
     "name": "stdout",
     "output_type": "stream",
     "text": [
      "Dropout rate: 76\n",
      "Number of peaks remaining: 19/52\n",
      "Count of remaining ions by type:\n",
      "b+: 3 \t b++: 7 \t y+: 6 \t y++: 3\n",
      "Remaing ion types by position:\n",
      "b+: [0, 5, 8]\n",
      "b++: [0, 1, 4, 6, 9, 11, 12]\n",
      "y+: [0, 5, 6, 7, 9, 10]\n",
      "y++: [5, 8, 9]\n"
     ]
    }
   ],
   "source": [
    "peptidetheoreticalspectrum = gen_spectrum(peptideseq)\n",
    "peptiderealisticspectrum = realistic_spectra.gen_realistic_spectra([peptideseq], DEBUG=True)[0]\n"
   ]
  },
  {
   "cell_type": "code",
   "execution_count": 4,
   "metadata": {},
   "outputs": [],
   "source": [
    "\n",
    "heights = np.mean(peptiderealisticspectrum.abundance)\n",
    "filterheight = sorted(peptiderealisticspectrum.abundance, reverse=True)[24]\n",
    "filteredindices = [i for i in range(len(peptiderealisticspectrum.abundance)) if peptiderealisticspectrum.abundance[i] >= filterheight]\n",
    "filteredspectra = [peptiderealisticspectrum.spectrum[i] for i in filteredindices]\n",
    "filteredabundances = [peptiderealisticspectrum.abundance[i] for i in filteredindices]\n"
   ]
  },
  {
   "cell_type": "code",
   "execution_count": 5,
   "metadata": {},
   "outputs": [],
   "source": [
    "# plt.figure(figsize=(18, 8))\n",
    "# bs = gen_spectrum(peptideseq, ion='b', charge=1)['spectrum']\n",
    "# overlappedbs = []\n",
    "# bremove = []\n",
    "# fremove = []\n",
    "# for b in bs:\n",
    "#     for f in filteredspectra:\n",
    "#         if b - .005 <= f <= b + .005:\n",
    "#             overlappedbs.append(b)\n",
    "#             bremove.append(b)\n",
    "#             fremove.append(f)\n",
    "            \n",
    "# bs = [x for x in bs if x not in bremove]\n",
    "# filtered = [x for x in filteredspectra if x not in fremove]\n",
    "\n",
    "# print(f'overlapped b+ ions: {len(overlappedbs)}')\n",
    "\n",
    "# plt.bar(bs, [heights for _ in range(len(bs))], width=4)\n",
    "# plt.bar(filtered, [heights for _ in range(len(filtered))], color='r', width=4)\n",
    "# plt.bar(overlappedbs, [heights for _ in range(len(overlappedbs))], color='g', width=4)"
   ]
  },
  {
   "cell_type": "code",
   "execution_count": 6,
   "metadata": {},
   "outputs": [],
   "source": [
    "# plt.figure(figsize=(18, 8))\n",
    "# bd = gen_spectrum(peptideseq, ion='b', charge=2)['spectrum']\n",
    "# overlappedbd = []\n",
    "# bremove = []\n",
    "# fremove = []\n",
    "# for b in bd:\n",
    "#     for f in filteredspectra:\n",
    "#         if b - .005 <= f <= b + .005:\n",
    "#             overlappedbd.append(b)\n",
    "#             bremove.append(b)\n",
    "#             fremove.append(f)\n",
    "            \n",
    "# bd = [x for x in bd if x not in bremove]\n",
    "# filtered = [x for x in filteredspectra if x not in fremove]\n",
    "\n",
    "# print(f'overlapped b++ ions: {len(overlappedbd)}')\n",
    "\n",
    "# plt.bar(bd, [heights for _ in range(len(bd))], width=4)\n",
    "# plt.bar(filtered, [heights for _ in range(len(filtered))], color='r', width=4)\n",
    "# plt.bar(overlappedbd, [heights for _ in range(len(overlappedbd))], color='g', width=4)"
   ]
  },
  {
   "cell_type": "code",
   "execution_count": 7,
   "metadata": {},
   "outputs": [],
   "source": [
    "# plt.figure(figsize=(18, 8))\n",
    "# ys = gen_spectrum(peptideseq, ion='y', charge=1)['spectrum']\n",
    "# overlappedys = []\n",
    "# yremove = []\n",
    "# fremove = []\n",
    "# for y in ys:\n",
    "#     for f in filteredspectra:\n",
    "#         if y - .005 <= f <= y + .005:\n",
    "#             overlappedys.append(y)\n",
    "#             yremove.append(y)\n",
    "#             fremove.append(f)\n",
    "            \n",
    "# ys = [x for x in ys if x not in yremove]\n",
    "# filtered = [x for x in filteredspectra if x not in fremove]\n",
    "\n",
    "# print(f'overlapped y+ ions: {len(overlappedys)}')\n",
    "\n",
    "# plt.bar(ys, [heights for _ in range(len(ys))], width=4)\n",
    "# plt.bar(filtered, [heights for _ in range(len(filtered))], color='r', width=4)\n",
    "# plt.bar(overlappedys, [heights for _ in range(len(overlappedys))], color='g', width=4)"
   ]
  },
  {
   "cell_type": "code",
   "execution_count": 8,
   "metadata": {},
   "outputs": [],
   "source": [
    "# plt.figure(figsize=(18, 8))\n",
    "# yd = gen_spectrum(peptideseq, ion='y', charge=2)['spectrum']\n",
    "# overlappedyd = []\n",
    "# yremove = []\n",
    "# fremove = []\n",
    "# for y in yd:\n",
    "#     for f in filteredspectra:\n",
    "#         if y - .005 <= f <= y + .005:\n",
    "#             overlappedyd.append(y)\n",
    "#             yremove.append(y)\n",
    "#             fremove.append(f)\n",
    "            \n",
    "# yd = [x for x in yd if x not in yremove]\n",
    "# filtered = [x for x in filteredspectra if x not in fremove]\n",
    "\n",
    "# print(f'overlapped y++ ions: {len(overlappedyd)}')\n",
    "\n",
    "# plt.bar(yd, [heights for _ in range(len(yd))], width=4)\n",
    "# plt.bar(filtered, [heights for _ in range(len(filtered))], color='r', width=4)\n",
    "# plt.bar(overlappedyd, [heights for _ in range(len(overlappedyd))], color='g', width=4)"
   ]
  },
  {
   "cell_type": "markdown",
   "metadata": {},
   "source": [
    "## Generate an mzml file"
   ]
  },
  {
   "cell_type": "code",
   "execution_count": 9,
   "metadata": {},
   "outputs": [
    {
     "name": "stderr",
     "output_type": "stream",
     "text": [
      "Determination of memory status is not supported on this \n",
      " platform, measuring for memoryleaks will never fail\n"
     ]
    },
    {
     "name": "stdout",
     "output_type": "stream",
     "text": [
      "1\n"
     ]
    },
    {
     "data": {
      "text/plain": [
       "'./../data/spectra/singleSpectraAnalysis.mzML'"
      ]
     },
     "execution_count": 9,
     "metadata": {},
     "output_type": "execute_result"
    }
   ],
   "source": [
    "from modules.sequence_generation import write_spectra\n",
    "\n",
    "write_spectra.write_mzml('../data/spectra/singleSpectraAnalysis', [dict(peptiderealisticspectrum._asdict())])"
   ]
  },
  {
   "cell_type": "markdown",
   "metadata": {},
   "source": [
    "## Run hypedsearch"
   ]
  },
  {
   "cell_type": "code",
   "execution_count": 10,
   "metadata": {},
   "outputs": [
    {
     "name": "stdout",
     "output_type": "stream",
     "text": [
      "Loading database...\n",
      "Adding protein 1/4 to tree\n",
      "Done.\n",
      "Building hashes for kmers...\n",
      "Indexing database for k=16...\n",
      "1748 unique kmers\n",
      "Done\n",
      "Looking at kmer 1748/1748\n",
      "Done.\n",
      "Analyzing spectra file 1/1[0%]\n",
      "\n",
      "Analyzing spectrum 1/1[0%]\n",
      "Finished search. Writting results to ../data/testing_output/singleSpectraAnalysis/...\n"
     ]
    }
   ],
   "source": [
    "from src import runner\n",
    "\n",
    "runner.run({\n",
    "    'spectra_folder': '../data/spectra/',\n",
    "    'database_file': fastafile, \n",
    "    'output_dir': '../data/testing_output/singleSpectraAnalysis/', \n",
    "    'min_peptide_len': 1, \n",
    "    'max_peptide_len': 16,\n",
    "    'verbose': True\n",
    "})"
   ]
  },
  {
   "cell_type": "markdown",
   "metadata": {},
   "source": [
    "## Load the summary json"
   ]
  },
  {
   "cell_type": "code",
   "execution_count": 13,
   "metadata": {},
   "outputs": [
    {
     "name": "stdout",
     "output_type": "stream",
     "text": [
      "{'../data/spectra/singleSpectraAnalysis.mzML_0': {'spectrum': {'spectrum': [15.886632872006444, 16.23639204788584, 19.453084590002558, 29.856061209480036, 33.86341595851735, 36.53137895481262, 72.04006140486453, 90.80004505675907, 94.03512790418299, 105.94154063820359, 134.04538402908895, 140.32041630502974, 160.87112735278225, 164.17201353434965, 171.51557064151996, 186.5389906365378, 190.7146832237549, 200.01878567863326, 242.48405601993827, 251.2178768577833, 269.1036246210805, 271.9980015285035, 279.7629506790956, 282.6175560516119, 285.6748958977916, 305.7105822206752, 352.3919718816437, 366.1931764301051, 380.77604074198496, 386.8957274148725, 391.841782821657, 400.67810676228754, 408.7436509807204, 454.8011164066068, 465.9857838343182, 490.5413799216976, 496.759520300429, 510.9372027732763, 532.7737641294797, 544.2186715521628, 548.7765155342721, 586.2667617267181, 614.8285342755448, 615.3766002562344, 622.3142311551458, 633.68938590504, 635.4935765732547, 661.9693669694699, 667.9157270510585, 675.5786066689767, 699.3461514285872, 701.2882270905535, 709.2176053209348, 731.3813929311434, 749.8562729898763, 750.8355256060541, 756.8648738854699, 790.9444002422266, 791.9149131080623, 792.0102367149967, 792.867373501444, 802.8332475083827, 809.1450996304558, 814.0669204636014, 818.3886696095132, 825.1832238246826, 827.4530108675931, 830.4497346432707, 847.2453085997549, 877.6775303090137, 887.8701214826394, 896.0391368679943, 904.0878780495129, 931.2944988385789, 951.8939724976085, 958.6633556067325, 967.5073667831713, 993.01008041943, 1025.3234275189916, 1042.4786821804812, 1049.8049185097725, 1080.0959312320629, 1106.9174259980357, 1132.4741576718066, 1145.7264567347897, 1158.188299466957, 1176.3342924306305, 1193.3127431485875, 1209.5552900139398, 1243.6217575934782, 1245.897066607933, 1254.3437750953171, 1267.0571935374946, 1293.841510087282, 1331.3599612110988, 1335.6127455554647, 1344.66928858066, 1353.6691966649578, 1380.4361287202707, 1419.820387990333], 'abundance': [17993.126953125, 633.944580078125, 1574.5428466796875, 2625.500732421875, 1787.111083984375, 200.05429077148438, 34701.1875, 6245.25927734375, 535.7051391601562, 9500.9521484375, 17597.47265625, 2251.67724609375, 2553.678466796875, 2016.798583984375, 762.3512573242188, 2045.981689453125, 3569.087890625, 737.7955932617188, 860.6515502929688, 8359.4736328125, 1542.5411376953125, 47.519588470458984, 143.32699584960938, 42535.87109375, 2374.0400390625, 8375.828125, 6838.4140625, 534.3775024414062, 661.5270385742188, 834.0525512695312, 21328.673828125, 531.2960815429688, 181.73297119140625, 405.87274169921875, 22542.78515625, 24778.955078125, 2740.656982421875, 639.1837158203125, 1056.6881103515625, 6527.46044921875, 379.3198547363281, 3463.13330078125, 4634.5634765625, 980.7894897460938, 2296.704345703125, 1879.7490234375, 3454.6962890625, 6783.97412109375, 2589.9140625, 2058.111328125, 1068.8631591796875, 19674.416015625, 5293.27783203125, 108.21934509277344, 263820.0625, 1381.982177734375, 950.4412231445312, 4862.64599609375, 2189.6298828125, 2167.27783203125, 1012.544921875, 434.0441589355469, 7155.72509765625, 2473.87451171875, 2700.242919921875, 932.8797607421875, 25.224843978881836, 2389.74169921875, 51956.66015625, 1068.5936279296875, 232.28663635253906, 1049.160400390625, 3901.8740234375, 2249.494140625, 456541.46875, 66.1243896484375, 176.1209716796875, 3027.82666015625, 1503.595947265625, 3768.655029296875, 78173.171875, 3991.37646484375, 21173.296875, 1525.755859375, 349.81494140625, 821.6587524414062, 2977.43115234375, 151.43307495117188, 267.4562072753906, 10826.7314453125, 1884.2509765625, 4623.63720703125, 36056.6953125, 4243.28271484375, 3217.687744140625, 52538.140625, 3765.822021484375, 1746.398681640625, 764.149169921875, 21844.572265625], 'ms_level': 2, 'scan_number': 0, 'precursor_mass': 1419, 'file_name': '../data/spectra/singleSpectraAnalysis.mzML'}, 'alignments': []}}\n"
     ]
    }
   ],
   "source": [
    "import json\n",
    "\n",
    "summ = json.load(open('../data/testing_output/singleSpectraAnalysis/summary.json', 'r'))\n",
    "print(summ)"
   ]
  },
  {
   "cell_type": "code",
   "execution_count": 12,
   "metadata": {},
   "outputs": [
    {
     "ename": "IndexError",
     "evalue": "list index out of range",
     "output_type": "error",
     "traceback": [
      "\u001b[0;31m---------------------------------------------------------------------------\u001b[0m",
      "\u001b[0;31mIndexError\u001b[0m                                Traceback (most recent call last)",
      "\u001b[0;32m<ipython-input-12-786619886410>\u001b[0m in \u001b[0;36m<module>\u001b[0;34m\u001b[0m\n\u001b[0;32m----> 1\u001b[0;31m \u001b[0mprint\u001b[0m\u001b[0;34m(\u001b[0m\u001b[0msumm\u001b[0m\u001b[0;34m[\u001b[0m\u001b[0;34m'../data/spectra/singleSpectraAnalysis.mzML_0'\u001b[0m\u001b[0;34m]\u001b[0m\u001b[0;34m[\u001b[0m\u001b[0;34m'alignments'\u001b[0m\u001b[0;34m]\u001b[0m\u001b[0;34m[\u001b[0m\u001b[0;36m0\u001b[0m\u001b[0;34m]\u001b[0m\u001b[0;34m[\u001b[0m\u001b[0;34m'sequence'\u001b[0m\u001b[0;34m]\u001b[0m \u001b[0;34m==\u001b[0m \u001b[0mpeptideseq\u001b[0m\u001b[0;34m)\u001b[0m\u001b[0;34m\u001b[0m\u001b[0;34m\u001b[0m\u001b[0m\n\u001b[0m",
      "\u001b[0;31mIndexError\u001b[0m: list index out of range"
     ]
    }
   ],
   "source": [
    "print(summ['../data/spectra/singleSpectraAnalysis.mzML_0']['alignments'][0]['sequence'] == peptideseq)"
   ]
  },
  {
   "cell_type": "code",
   "execution_count": null,
   "metadata": {},
   "outputs": [],
   "source": []
  }
 ],
 "metadata": {
  "kernelspec": {
   "display_name": "Python 3",
   "language": "python",
   "name": "python3"
  },
  "language_info": {
   "codemirror_mode": {
    "name": "ipython",
    "version": 3
   },
   "file_extension": ".py",
   "mimetype": "text/x-python",
   "name": "python",
   "nbconvert_exporter": "python",
   "pygments_lexer": "ipython3",
   "version": "3.7.4"
  }
 },
 "nbformat": 4,
 "nbformat_minor": 4
}

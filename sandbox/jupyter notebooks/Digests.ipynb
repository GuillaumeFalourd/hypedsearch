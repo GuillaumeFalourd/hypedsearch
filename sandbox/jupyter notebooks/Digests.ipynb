{
 "cells": [
  {
   "cell_type": "code",
   "execution_count": 18,
   "metadata": {},
   "outputs": [],
   "source": [
    "def tryptic(protein: str, missed_cleavages: int) -> list:\n",
    "    '''\n",
    "    Take a protien sequence and the number of allowed missed cleavages \n",
    "    and return all possible digests of the protein by the missed_cleavages\n",
    "\n",
    "    Inputs:\n",
    "        protein:            (str) the protein sequence itself\n",
    "        missed_cleavages:   (int) the number of missed cleavage sites allowed\n",
    "    Ouputs:\n",
    "        (list) all possible digests of the protein at the missed_cleavages\n",
    "    '''\n",
    "    # get all the KR indices\n",
    "    KR_indices = [i for i, aa in enumerate(protein) if aa == 'K' or aa == 'R']\n",
    "\n",
    "    # if the number of KR indices is less than missed cleavages, then return the protein\n",
    "    if len(KR_indices) <= missed_cleavages:\n",
    "        return [protein]\n",
    "\n",
    "    cleavages = []\n",
    "    # otherwise go through and take the protein from [startindex+1:end_index+1] to avoid the KR at the start\n",
    "    # but include it at the end\n",
    "    for i, idx in enumerate(KR_indices[:-1]):\n",
    "        end_idx = KR_indices[i + 1 + missed_cleavages] if i + 1 + missed_cleavages < len(KR_indices) else KR_indices[-1]\n",
    "        cleavages.append(protein[idx+1:end_idx+1])\n",
    "        \n",
    "    # take the beginning and end of the protein as well\n",
    "    start_cleavage = protein[0:KR_indices[missed_cleavages]]\n",
    "    end_cleavage = protein[KR_indices[-missed_cleavages - 1]:]\n",
    "    \n",
    "    return cleavages + [start_cleavage, end_cleavage]\n",
    "    "
   ]
  },
  {
   "cell_type": "code",
   "execution_count": 19,
   "metadata": {},
   "outputs": [],
   "source": [
    "p = 'MATPEASGSGEKVEGSEPSVTYYRLEEVAKRNSAEETWMVIHGRVYDITRFLSEHPGGEEVLLEQAGADATESFEDVGHSPDAREMLKQYYIGDVHPSDLKPKGDDKDPSKNNSCQSSWAYWFVPIVGAILIGFLYRHFWADSKSS'\n"
   ]
  },
  {
   "cell_type": "code",
   "execution_count": 20,
   "metadata": {},
   "outputs": [
    {
     "name": "stdout",
     "output_type": "stream",
     "text": [
      "[11, 23, 29, 30, 43, 49, 83, 87, 100, 102, 106, 110, 136, 143]\n"
     ]
    }
   ],
   "source": [
    "print([i for i, aa in enumerate(p) if aa == 'K' or aa == 'R'])"
   ]
  },
  {
   "cell_type": "code",
   "execution_count": 28,
   "metadata": {},
   "outputs": [
    {
     "data": {
      "text/plain": [
       "['MATPEASGSGEKVEGSEPSVTYYRLEEVAKRNSAEETWMVIHGRVYDITRFLSEHPGGEEVLLEQAGADATESFEDVGHSPDAREMLKQYYIGDVHPSDLKPKGDDKDPSKNNSCQSSWAYWFVPIVGAILIGFLYRHFWADSKSS']"
      ]
     },
     "execution_count": 28,
     "metadata": {},
     "output_type": "execute_result"
    }
   ],
   "source": [
    "tryptic(p, 15)"
   ]
  },
  {
   "cell_type": "code",
   "execution_count": null,
   "metadata": {},
   "outputs": [],
   "source": []
  }
 ],
 "metadata": {
  "kernelspec": {
   "display_name": "Python 3",
   "language": "python",
   "name": "python3"
  },
  "language_info": {
   "codemirror_mode": {
    "name": "ipython",
    "version": 3
   },
   "file_extension": ".py",
   "mimetype": "text/x-python",
   "name": "python",
   "nbconvert_exporter": "python",
   "pygments_lexer": "ipython3",
   "version": "3.7.4"
  }
 },
 "nbformat": 4,
 "nbformat_minor": 4
}

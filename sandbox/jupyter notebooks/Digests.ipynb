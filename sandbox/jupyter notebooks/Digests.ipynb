{
 "cells": [
  {
   "cell_type": "code",
   "execution_count": 1,
   "metadata": {},
   "outputs": [],
   "source": [
    "digests = {\n",
    "    \"trypsin\": {\n",
    "        \"start\" : [\n",
    "            {\n",
    "                \"amino_acid\": \"D\", \n",
    "                \"cut_position\": \"left\"\n",
    "            }\n",
    "        ], \n",
    "        \"end\" : [\n",
    "            {\n",
    "                \"amino_acid\": \"R\", \n",
    "                \"cut_position\": \"right\"\n",
    "            }, {\n",
    "                \"amino_acid\": \"K\", \n",
    "                \"cut_position\": \"right\"\n",
    "            }\n",
    "        ]\n",
    "    }\n",
    "}"
   ]
  },
  {
   "cell_type": "code",
   "execution_count": 6,
   "metadata": {},
   "outputs": [],
   "source": [
    "from collections import namedtuple\n",
    "\n",
    "Database = namedtuple(\n",
    "    'Database', \n",
    "    ['fasta_file', 'proteins', 'kmers', 'b_hits', 'y_hits'], \n",
    "    defaults=['', {}, {}, [], []]\n",
    ")\n",
    "\n",
    "prot_entry = namedtuple(\n",
    "    'prot_entry', \n",
    "    ['sequence']\n",
    ")"
   ]
  },
  {
   "cell_type": "code",
   "execution_count": 50,
   "metadata": {},
   "outputs": [],
   "source": [
    "def digest(db: Database, digest_type: str, missed_cleavages: int) -> Database:\n",
    "    '''\n",
    "    Digest each protein in the database. If no digest is done, then \n",
    "    the original database is returned. \n",
    "    NOTE: \n",
    "    The entires in the database after digestion are the names of the form\n",
    "    <protein_name>_<start_position>_<end_position>\n",
    "\n",
    "    Inputs:\n",
    "        db:                 (Database) the input source\n",
    "        digest_type:        (str) the digestion to perform\n",
    "        missed_cleavages:   (int) the number of missed cleavages allowed\n",
    "    Outputs:\n",
    "        (Database) updated protein entries\n",
    "    '''\n",
    "    if digest_type not in digests:\n",
    "        return db\n",
    "    \n",
    "    digest_rules = digests[digest_type]\n",
    "    starts = {s['amino_acid']: s['cut_position'] for s in digest_rules['start']}\n",
    "    ends = {s['amino_acid']: s['cut_position'] for s in digest_rules['end']}\n",
    "    \n",
    "    new_prots = {}\n",
    "    \n",
    "    for p_name, entry in db.proteins.items():\n",
    "        \n",
    "        # keep track of what gets digested\n",
    "        digested = []\n",
    "        \n",
    "        for pos, aa in enumerate(entry.sequence):\n",
    "            \n",
    "            if aa in starts:\n",
    "                \n",
    "                # get the starting position for this cut based on rule\n",
    "                s = pos if starts[aa] == 'left' else pos + 1\n",
    "                \n",
    "                allowed_misses = missed_cleavages\n",
    "                \n",
    "                # find all of the next ends. we will keep track of them for up to missed_cleavages\n",
    "                for j in range(pos, len(entry.sequence)):\n",
    "                    \n",
    "                    # if we're out of missed cleavages, break\n",
    "                    if allowed_misses < 0:\n",
    "                        break\n",
    "                    \n",
    "                    # check if we're at the end\n",
    "                    if j == len(entry.sequence) - 1:\n",
    "                        \n",
    "                        # get the cut sequence\n",
    "                        digested.append((entry.sequence[s:], s, len(entry.sequence)))\n",
    "                        break\n",
    "                    \n",
    "                    # check of this aa is an end\n",
    "                    if entry.sequence[j] in ends:\n",
    "                        \n",
    "                        # first reduce allowed\n",
    "                        allowed_misses -= 1\n",
    "                        \n",
    "                        # determine if we do j or j+1 based on the rule\n",
    "                        e = j if ends[entry.sequence[j]] == 'left' else j + 1\n",
    "                        \n",
    "                        digested.append((entry.sequence[s:e], s, e))\n",
    "                        \n",
    "        for d in digested:\n",
    "            new_prots[f'{p_name}_{d[1]}_{d[2]}'] = prot_entry(d[0])\n",
    "            \n",
    "    db = db._replace(proteins=new_prots)\n",
    "    return db"
   ]
  },
  {
   "cell_type": "code",
   "execution_count": 51,
   "metadata": {},
   "outputs": [],
   "source": [
    "p = 'MATPEASGSGEKVEGSEPSVTYYRLEEVAKRNSAEETWMVIHGRVYDITRFLSEHPGGEEVLLEQAGADATESFEDVGHSPDAREMLKQYYIGDVHPSDLKPKGDDKDPSKNNSCQSSWAYWFVPIVGAILIGFLYRHFWADSKSS'\n",
    "db = Database('', {'prot_1': prot_entry(p)})"
   ]
  },
  {
   "cell_type": "code",
   "execution_count": 52,
   "metadata": {},
   "outputs": [
    {
     "name": "stdout",
     "output_type": "stream",
     "text": [
      "[11, 23, 29, 30, 43, 49, 83, 87, 100, 102, 106, 110, 136, 143]\n"
     ]
    }
   ],
   "source": [
    "print([i for i, aa in enumerate(p) if aa == 'K' or aa == 'R'])"
   ]
  },
  {
   "cell_type": "code",
   "execution_count": 53,
   "metadata": {},
   "outputs": [
    {
     "name": "stdout",
     "output_type": "stream",
     "text": [
      "new prots: \n",
      "{'prot_1_46_50': prot_entry(sequence='DITR'), 'prot_1_46_84': prot_entry(sequence='DITRFLSEHPGGEEVLLEQAGADATESFEDVGHSPDAR'), 'prot_1_68_84': prot_entry(sequence='DATESFEDVGHSPDAR'), 'prot_1_68_88': prot_entry(sequence='DATESFEDVGHSPDAREMLK'), 'prot_1_75_84': prot_entry(sequence='DVGHSPDAR'), 'prot_1_75_88': prot_entry(sequence='DVGHSPDAREMLK'), 'prot_1_81_84': prot_entry(sequence='DAR'), 'prot_1_81_88': prot_entry(sequence='DAREMLK'), 'prot_1_93_101': prot_entry(sequence='DVHPSDLK'), 'prot_1_93_103': prot_entry(sequence='DVHPSDLKPK'), 'prot_1_98_101': prot_entry(sequence='DLK'), 'prot_1_98_103': prot_entry(sequence='DLKPK'), 'prot_1_104_107': prot_entry(sequence='DDK'), 'prot_1_104_111': prot_entry(sequence='DDKDPSK'), 'prot_1_105_107': prot_entry(sequence='DK'), 'prot_1_105_111': prot_entry(sequence='DKDPSK'), 'prot_1_107_111': prot_entry(sequence='DPSK'), 'prot_1_107_137': prot_entry(sequence='DPSKNNSCQSSWAYWFVPIVGAILIGFLYR'), 'prot_1_141_144': prot_entry(sequence='DSK'), 'prot_1_141_146': prot_entry(sequence='DSKSS')}\n",
      "prots in updated db\n",
      "{'prot_1_46_50': prot_entry(sequence='DITR'), 'prot_1_46_84': prot_entry(sequence='DITRFLSEHPGGEEVLLEQAGADATESFEDVGHSPDAR'), 'prot_1_68_84': prot_entry(sequence='DATESFEDVGHSPDAR'), 'prot_1_68_88': prot_entry(sequence='DATESFEDVGHSPDAREMLK'), 'prot_1_75_84': prot_entry(sequence='DVGHSPDAR'), 'prot_1_75_88': prot_entry(sequence='DVGHSPDAREMLK'), 'prot_1_81_84': prot_entry(sequence='DAR'), 'prot_1_81_88': prot_entry(sequence='DAREMLK'), 'prot_1_93_101': prot_entry(sequence='DVHPSDLK'), 'prot_1_93_103': prot_entry(sequence='DVHPSDLKPK'), 'prot_1_98_101': prot_entry(sequence='DLK'), 'prot_1_98_103': prot_entry(sequence='DLKPK'), 'prot_1_104_107': prot_entry(sequence='DDK'), 'prot_1_104_111': prot_entry(sequence='DDKDPSK'), 'prot_1_105_107': prot_entry(sequence='DK'), 'prot_1_105_111': prot_entry(sequence='DKDPSK'), 'prot_1_107_111': prot_entry(sequence='DPSK'), 'prot_1_107_137': prot_entry(sequence='DPSKNNSCQSSWAYWFVPIVGAILIGFLYR'), 'prot_1_141_144': prot_entry(sequence='DSK'), 'prot_1_141_146': prot_entry(sequence='DSKSS')}\n"
     ]
    }
   ],
   "source": [
    "db2 = digest(db, 'trypsin', 1)"
   ]
  },
  {
   "cell_type": "code",
   "execution_count": 54,
   "metadata": {},
   "outputs": [
    {
     "data": {
      "text/plain": [
       "{'prot_1_46_50': prot_entry(sequence='DITR'),\n",
       " 'prot_1_46_84': prot_entry(sequence='DITRFLSEHPGGEEVLLEQAGADATESFEDVGHSPDAR'),\n",
       " 'prot_1_68_84': prot_entry(sequence='DATESFEDVGHSPDAR'),\n",
       " 'prot_1_68_88': prot_entry(sequence='DATESFEDVGHSPDAREMLK'),\n",
       " 'prot_1_75_84': prot_entry(sequence='DVGHSPDAR'),\n",
       " 'prot_1_75_88': prot_entry(sequence='DVGHSPDAREMLK'),\n",
       " 'prot_1_81_84': prot_entry(sequence='DAR'),\n",
       " 'prot_1_81_88': prot_entry(sequence='DAREMLK'),\n",
       " 'prot_1_93_101': prot_entry(sequence='DVHPSDLK'),\n",
       " 'prot_1_93_103': prot_entry(sequence='DVHPSDLKPK'),\n",
       " 'prot_1_98_101': prot_entry(sequence='DLK'),\n",
       " 'prot_1_98_103': prot_entry(sequence='DLKPK'),\n",
       " 'prot_1_104_107': prot_entry(sequence='DDK'),\n",
       " 'prot_1_104_111': prot_entry(sequence='DDKDPSK'),\n",
       " 'prot_1_105_107': prot_entry(sequence='DK'),\n",
       " 'prot_1_105_111': prot_entry(sequence='DKDPSK'),\n",
       " 'prot_1_107_111': prot_entry(sequence='DPSK'),\n",
       " 'prot_1_107_137': prot_entry(sequence='DPSKNNSCQSSWAYWFVPIVGAILIGFLYR'),\n",
       " 'prot_1_141_144': prot_entry(sequence='DSK'),\n",
       " 'prot_1_141_146': prot_entry(sequence='DSKSS')}"
      ]
     },
     "execution_count": 54,
     "metadata": {},
     "output_type": "execute_result"
    }
   ],
   "source": [
    "db2.proteins"
   ]
  },
  {
   "cell_type": "code",
   "execution_count": 55,
   "metadata": {},
   "outputs": [
    {
     "data": {
      "text/plain": [
       "{'prot_1': prot_entry(sequence='MATPEASGSGEKVEGSEPSVTYYRLEEVAKRNSAEETWMVIHGRVYDITRFLSEHPGGEEVLLEQAGADATESFEDVGHSPDAREMLKQYYIGDVHPSDLKPKGDDKDPSKNNSCQSSWAYWFVPIVGAILIGFLYRHFWADSKSS')}"
      ]
     },
     "execution_count": 55,
     "metadata": {},
     "output_type": "execute_result"
    }
   ],
   "source": [
    "db.proteins"
   ]
  },
  {
   "cell_type": "code",
   "execution_count": null,
   "metadata": {},
   "outputs": [],
   "source": []
  }
 ],
 "metadata": {
  "kernelspec": {
   "display_name": "Python 3",
   "language": "python",
   "name": "python3"
  },
  "language_info": {
   "codemirror_mode": {
    "name": "ipython",
    "version": 3
   },
   "file_extension": ".py",
   "mimetype": "text/x-python",
   "name": "python",
   "nbconvert_exporter": "python",
   "pygments_lexer": "ipython3",
   "version": "3.7.4"
  }
 },
 "nbformat": 4,
 "nbformat_minor": 4
}

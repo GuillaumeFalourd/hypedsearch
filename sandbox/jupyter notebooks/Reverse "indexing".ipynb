{
 "cells": [
  {
   "cell_type": "markdown",
   "metadata": {},
   "source": [
    "# Reverse \"indexing\"\n",
    "Instead of trying to index all of the k-mers in a database and store it in RAM, lets pre-process the spectra and do 1 sweep through the database, finding the best scoring k-mers in the database for each spectrum\n",
    "\n",
    "### Steps\n",
    "1. Load spectra into memory\n",
    "2. Turn each spectra into a sparse 1s and 0s matrix \n",
    "3. Load the database into RAM\n",
    "4. For each protein\n",
    "    1. For each MAX_LENGTH-mer\n",
    "        1. Generate the spectrum for this k-mer\n",
    "        2. Sparsify the spectrum\n",
    "        3. Calculate the dot product of this sparse k-mer against the input\n",
    "        4. For each spectrum\n",
    "            1. Keep track of the top X scoring peptides by (protein, position)\n",
    "    2. Do for both b and y ions (seperately)"
   ]
  },
  {
   "cell_type": "code",
   "execution_count": 1,
   "metadata": {},
   "outputs": [],
   "source": [
    "import os\n",
    "import sys\n",
    "module_path = os.path.abspath(os.path.join('..'))\n",
    "if module_path not in sys.path:\n",
    "    sys.path.append(module_path)\n",
    "module_path = os.path.abspath(os.path.join('../..'))\n",
    "if module_path not in sys.path:\n",
    "    sys.path.append(module_path)\n",
    "    \n",
    "from pyteomics import fasta\n",
    "from collections import defaultdict\n",
    "from src.sequence.gen_spectra import gen_spectrum\n",
    "from src.file_io import mzML\n",
    "from src.objects import Spectrum\n",
    "\n",
    "import ms_deisotope\n",
    "from ms_deisotope.test.common import datafile\n",
    "\n",
    "import numpy as np"
   ]
  },
  {
   "cell_type": "code",
   "execution_count": 2,
   "metadata": {},
   "outputs": [],
   "source": [
    "def longest_array(window, length):\n",
    "    return int(np.ceil(1/window * length * 186.079313))"
   ]
  },
  {
   "cell_type": "code",
   "execution_count": 3,
   "metadata": {},
   "outputs": [],
   "source": [
    "def longest_peptide(max_mass):\n",
    "    return int(np.ceil(max_mass / 57.021464))"
   ]
  },
  {
   "cell_type": "code",
   "execution_count": 4,
   "metadata": {},
   "outputs": [],
   "source": [
    "def sparse_it(spectrum, window, length):\n",
    "    sparse = np.zeros(longest_array(window, length), dtype=np.int8)\n",
    "    for mz in spectrum:\n",
    "        mz_direct = int(mz/window)\n",
    "        sparse[mz_direct] = np.int8(1)\n",
    "    \n",
    "    return sparse"
   ]
  },
  {
   "cell_type": "code",
   "execution_count": 5,
   "metadata": {},
   "outputs": [],
   "source": [
    "fasta_file = '/Users/zacharymcgrath/Desktop/nod2 data/filteredNOD2.fasta'\n",
    "spectra_file = '/Users/zacharymcgrath/Desktop/nod2 data/single/singleRealSpectrum.mzml'\n",
    "window_size = .01"
   ]
  },
  {
   "cell_type": "markdown",
   "metadata": {},
   "source": [
    "## 1. Load spectra into memory"
   ]
  },
  {
   "cell_type": "code",
   "execution_count": 6,
   "metadata": {},
   "outputs": [],
   "source": [
    "spectra = mzML.read(spectra_file, peak_filter=20)"
   ]
  },
  {
   "cell_type": "code",
   "execution_count": 7,
   "metadata": {},
   "outputs": [
    {
     "name": "stdout",
     "output_type": "stream",
     "text": [
      "Max mass: 1311.6202392578125\n",
      "Max peptide length: 24\n",
      "Average mass: 368.8827159881592\n",
      "Average peptide length: 7\n"
     ]
    }
   ],
   "source": [
    "max_mass = max([x for spec in spectra for x in spec.spectrum])\n",
    "print(f'Max mass: {max_mass}')\n",
    "print(f'Max peptide length: {longest_peptide(max_mass)}')\n",
    "max_length = longest_peptide(max_mass)\n",
    "avg_mass = np.mean([x for spec in spectra for x in spec.spectrum])\n",
    "avg_len = longest_peptide(avg_mass)\n",
    "print(f'Average mass: {avg_mass}')\n",
    "print(f'Average peptide length: {avg_len}')"
   ]
  },
  {
   "cell_type": "markdown",
   "metadata": {},
   "source": [
    "## 2. Sparsify the spectra"
   ]
  },
  {
   "cell_type": "code",
   "execution_count": 8,
   "metadata": {},
   "outputs": [],
   "source": [
    "sparsified_spectra = np.zeros((len(spectra), longest_array(window_size, max_length)), dtype=np.int8)"
   ]
  },
  {
   "cell_type": "code",
   "execution_count": 9,
   "metadata": {},
   "outputs": [
    {
     "name": "stdout",
     "output_type": "stream",
     "text": [
      "\r",
      "Sparsifying spectrum 0/9\r",
      "Sparsifying spectrum 1/9\r",
      "Sparsifying spectrum 2/9\r",
      "Sparsifying spectrum 3/9\r",
      "Sparsifying spectrum 4/9\r",
      "Sparsifying spectrum 5/9\r",
      "Sparsifying spectrum 6/9\r",
      "Sparsifying spectrum 7/9\r",
      "Sparsifying spectrum 8/9"
     ]
    }
   ],
   "source": [
    "for i, spec in enumerate(spectra):\n",
    "    print(f'\\rSparsifying spectrum {i}/{len(spectra)}', end='')\n",
    "\n",
    "    sparsified_spectra[i] = sparse_it(spec.spectrum, window_size, max_length)"
   ]
  },
  {
   "cell_type": "markdown",
   "metadata": {},
   "source": [
    "## 3. Load database into RAM"
   ]
  },
  {
   "cell_type": "code",
   "execution_count": 10,
   "metadata": {},
   "outputs": [],
   "source": [
    "prots = {}\n",
    "for i, prot in enumerate(fasta.read(fasta_file)):\n",
    "    prot_name = prot.description.split('|')[-1].split(' ')[0]\n",
    "    prots[prot_name] = prot.sequence\n",
    "    "
   ]
  },
  {
   "cell_type": "markdown",
   "metadata": {},
   "source": [
    "## 4. Go through each protein and each MAX_LENGTH-mer and calculate the scores"
   ]
  },
  {
   "cell_type": "code",
   "execution_count": 11,
   "metadata": {},
   "outputs": [],
   "source": [
    "top_x = 10\n",
    "top_b = defaultdict(list)\n",
    "top_y = defaultdict(list)\n",
    "top_by = defaultdict(list)\n",
    "\n",
    "def add_score(ion, spec_idx, score, prot, start_idx):\n",
    "    d = top_b if ion == 'b' else (top_y if ion == 'y' else top_by)\n",
    "    \n",
    "    new_entry = (score, prot, start_idx)\n",
    "    \n",
    "    if len(d[spec_idx]) > top_x and score > 0:\n",
    "        d[spec_idx].append(new_entry)\n",
    "        d[spec_idx].sort(key=lambda x: x[0], reverse=True)\n",
    "        \n",
    "    else:\n",
    "        d[spec_idx] = sorted(d[spec_idx] + [new_entry], key=lambda x: x[0], reverse=True)\n",
    "        \n",
    "def score_kmer(kmer, prot_name, start_idx):\n",
    "    b_spec = gen_spectrum(kmer, ion='b')['spectrum']\n",
    "    y_spec = gen_spectrum(kmer, ion='y')['spectrum']\n",
    "    spec = gen_spectrum(kmer)['spectrum']\n",
    "    \n",
    "    sparse_b = sparse_it(b_spec, window_size, max_length)\n",
    "    sparse_y = sparse_it(y_spec, window_size, max_length)\n",
    "    sparse = sparse_it(spec, window_size, max_length)\n",
    "    \n",
    "    b_scores = np.dot(sparsified_spectra, sparse_b)\n",
    "    y_scores = np.dot(sparsified_spectra, sparse_y)\n",
    "    scores = np.dot(sparsified_spectra, sparse)\n",
    "    \n",
    "    [add_score('b', i, score, prot_name, start_idx) for i, score in enumerate(b_scores)]\n",
    "    [add_score('y', i, score, prot_name, start_idx + len(kmer) - 1) for i, score in enumerate(b_scores)]\n",
    "    [add_score('by', i, score, prot_name, start_idx) for i, score in enumerate(scores)]\n",
    "    "
   ]
  },
  {
   "cell_type": "code",
   "execution_count": 12,
   "metadata": {},
   "outputs": [
    {
     "name": "stdout",
     "output_type": "stream",
     "text": [
      "On protein 55/279 [20%]     (4% Done with protein)n)"
     ]
    },
    {
     "ename": "KeyboardInterrupt",
     "evalue": "",
     "output_type": "error",
     "traceback": [
      "\u001b[0;31m---------------------------------------------------------------------------\u001b[0m",
      "\u001b[0;31mKeyboardInterrupt\u001b[0m                         Traceback (most recent call last)",
      "\u001b[0;32m<ipython-input-12-f38294f75fd2>\u001b[0m in \u001b[0;36m<module>\u001b[0;34m\u001b[0m\n\u001b[1;32m     11\u001b[0m         \u001b[0mprint\u001b[0m\u001b[0;34m(\u001b[0m\u001b[0;34mf'\\rOn protein {i}/{plen} [{int(100 * (i+1) / plen)}%]     ({int(100 * (j+1)/(len(prot_seq)-max_length))}% Done with protein)'\u001b[0m\u001b[0;34m,\u001b[0m \u001b[0mend\u001b[0m\u001b[0;34m=\u001b[0m\u001b[0;34m''\u001b[0m\u001b[0;34m)\u001b[0m\u001b[0;34m\u001b[0m\u001b[0;34m\u001b[0m\u001b[0m\n\u001b[1;32m     12\u001b[0m \u001b[0;34m\u001b[0m\u001b[0m\n\u001b[0;32m---> 13\u001b[0;31m         \u001b[0mscore_kmer\u001b[0m\u001b[0;34m(\u001b[0m\u001b[0mprot_seq\u001b[0m\u001b[0;34m[\u001b[0m\u001b[0mj\u001b[0m\u001b[0;34m:\u001b[0m\u001b[0mj\u001b[0m\u001b[0;34m+\u001b[0m\u001b[0mmax_length\u001b[0m\u001b[0;34m]\u001b[0m\u001b[0;34m,\u001b[0m \u001b[0mprot_name\u001b[0m\u001b[0;34m,\u001b[0m \u001b[0mj\u001b[0m\u001b[0;34m)\u001b[0m\u001b[0;34m\u001b[0m\u001b[0;34m\u001b[0m\u001b[0m\n\u001b[0m\u001b[1;32m     14\u001b[0m \u001b[0;34m\u001b[0m\u001b[0m\n\u001b[1;32m     15\u001b[0m     \u001b[0;32mfor\u001b[0m \u001b[0mj\u001b[0m \u001b[0;32min\u001b[0m \u001b[0mrange\u001b[0m\u001b[0;34m(\u001b[0m\u001b[0mlen\u001b[0m\u001b[0;34m(\u001b[0m\u001b[0mprot_seq\u001b[0m\u001b[0;34m)\u001b[0m \u001b[0;34m-\u001b[0m \u001b[0mmax_length\u001b[0m\u001b[0;34m,\u001b[0m \u001b[0mlen\u001b[0m\u001b[0;34m(\u001b[0m\u001b[0mprot\u001b[0m\u001b[0;34m)\u001b[0m\u001b[0;34m)\u001b[0m\u001b[0;34m:\u001b[0m\u001b[0;34m\u001b[0m\u001b[0;34m\u001b[0m\u001b[0m\n",
      "\u001b[0;32m<ipython-input-11-4550f84af487>\u001b[0m in \u001b[0;36mscore_kmer\u001b[0;34m(kmer, prot_name, start_idx)\u001b[0m\n\u001b[1;32m     29\u001b[0m     \u001b[0mscores\u001b[0m \u001b[0;34m=\u001b[0m \u001b[0mnp\u001b[0m\u001b[0;34m.\u001b[0m\u001b[0mdot\u001b[0m\u001b[0;34m(\u001b[0m\u001b[0msparsified_spectra\u001b[0m\u001b[0;34m,\u001b[0m \u001b[0msparse\u001b[0m\u001b[0;34m)\u001b[0m\u001b[0;34m\u001b[0m\u001b[0;34m\u001b[0m\u001b[0m\n\u001b[1;32m     30\u001b[0m \u001b[0;34m\u001b[0m\u001b[0m\n\u001b[0;32m---> 31\u001b[0;31m     \u001b[0;34m[\u001b[0m\u001b[0madd_score\u001b[0m\u001b[0;34m(\u001b[0m\u001b[0;34m'b'\u001b[0m\u001b[0;34m,\u001b[0m \u001b[0mi\u001b[0m\u001b[0;34m,\u001b[0m \u001b[0mscore\u001b[0m\u001b[0;34m,\u001b[0m \u001b[0mprot_name\u001b[0m\u001b[0;34m,\u001b[0m \u001b[0mstart_idx\u001b[0m\u001b[0;34m)\u001b[0m \u001b[0;32mfor\u001b[0m \u001b[0mi\u001b[0m\u001b[0;34m,\u001b[0m \u001b[0mscore\u001b[0m \u001b[0;32min\u001b[0m \u001b[0menumerate\u001b[0m\u001b[0;34m(\u001b[0m\u001b[0mb_scores\u001b[0m\u001b[0;34m)\u001b[0m\u001b[0;34m]\u001b[0m\u001b[0;34m\u001b[0m\u001b[0;34m\u001b[0m\u001b[0m\n\u001b[0m\u001b[1;32m     32\u001b[0m     \u001b[0;34m[\u001b[0m\u001b[0madd_score\u001b[0m\u001b[0;34m(\u001b[0m\u001b[0;34m'y'\u001b[0m\u001b[0;34m,\u001b[0m \u001b[0mi\u001b[0m\u001b[0;34m,\u001b[0m \u001b[0mscore\u001b[0m\u001b[0;34m,\u001b[0m \u001b[0mprot_name\u001b[0m\u001b[0;34m,\u001b[0m \u001b[0mstart_idx\u001b[0m \u001b[0;34m+\u001b[0m \u001b[0mlen\u001b[0m\u001b[0;34m(\u001b[0m\u001b[0mkmer\u001b[0m\u001b[0;34m)\u001b[0m \u001b[0;34m-\u001b[0m \u001b[0;36m1\u001b[0m\u001b[0;34m)\u001b[0m \u001b[0;32mfor\u001b[0m \u001b[0mi\u001b[0m\u001b[0;34m,\u001b[0m \u001b[0mscore\u001b[0m \u001b[0;32min\u001b[0m \u001b[0menumerate\u001b[0m\u001b[0;34m(\u001b[0m\u001b[0mb_scores\u001b[0m\u001b[0;34m)\u001b[0m\u001b[0;34m]\u001b[0m\u001b[0;34m\u001b[0m\u001b[0;34m\u001b[0m\u001b[0m\n\u001b[1;32m     33\u001b[0m     \u001b[0;34m[\u001b[0m\u001b[0madd_score\u001b[0m\u001b[0;34m(\u001b[0m\u001b[0;34m'by'\u001b[0m\u001b[0;34m,\u001b[0m \u001b[0mi\u001b[0m\u001b[0;34m,\u001b[0m \u001b[0mscore\u001b[0m\u001b[0;34m,\u001b[0m \u001b[0mprot_name\u001b[0m\u001b[0;34m,\u001b[0m \u001b[0mstart_idx\u001b[0m\u001b[0;34m)\u001b[0m \u001b[0;32mfor\u001b[0m \u001b[0mi\u001b[0m\u001b[0;34m,\u001b[0m \u001b[0mscore\u001b[0m \u001b[0;32min\u001b[0m \u001b[0menumerate\u001b[0m\u001b[0;34m(\u001b[0m\u001b[0mscores\u001b[0m\u001b[0;34m)\u001b[0m\u001b[0;34m]\u001b[0m\u001b[0;34m\u001b[0m\u001b[0;34m\u001b[0m\u001b[0m\n",
      "\u001b[0;32m<ipython-input-11-4550f84af487>\u001b[0m in \u001b[0;36m<listcomp>\u001b[0;34m(.0)\u001b[0m\n\u001b[1;32m     29\u001b[0m     \u001b[0mscores\u001b[0m \u001b[0;34m=\u001b[0m \u001b[0mnp\u001b[0m\u001b[0;34m.\u001b[0m\u001b[0mdot\u001b[0m\u001b[0;34m(\u001b[0m\u001b[0msparsified_spectra\u001b[0m\u001b[0;34m,\u001b[0m \u001b[0msparse\u001b[0m\u001b[0;34m)\u001b[0m\u001b[0;34m\u001b[0m\u001b[0;34m\u001b[0m\u001b[0m\n\u001b[1;32m     30\u001b[0m \u001b[0;34m\u001b[0m\u001b[0m\n\u001b[0;32m---> 31\u001b[0;31m     \u001b[0;34m[\u001b[0m\u001b[0madd_score\u001b[0m\u001b[0;34m(\u001b[0m\u001b[0;34m'b'\u001b[0m\u001b[0;34m,\u001b[0m \u001b[0mi\u001b[0m\u001b[0;34m,\u001b[0m \u001b[0mscore\u001b[0m\u001b[0;34m,\u001b[0m \u001b[0mprot_name\u001b[0m\u001b[0;34m,\u001b[0m \u001b[0mstart_idx\u001b[0m\u001b[0;34m)\u001b[0m \u001b[0;32mfor\u001b[0m \u001b[0mi\u001b[0m\u001b[0;34m,\u001b[0m \u001b[0mscore\u001b[0m \u001b[0;32min\u001b[0m \u001b[0menumerate\u001b[0m\u001b[0;34m(\u001b[0m\u001b[0mb_scores\u001b[0m\u001b[0;34m)\u001b[0m\u001b[0;34m]\u001b[0m\u001b[0;34m\u001b[0m\u001b[0;34m\u001b[0m\u001b[0m\n\u001b[0m\u001b[1;32m     32\u001b[0m     \u001b[0;34m[\u001b[0m\u001b[0madd_score\u001b[0m\u001b[0;34m(\u001b[0m\u001b[0;34m'y'\u001b[0m\u001b[0;34m,\u001b[0m \u001b[0mi\u001b[0m\u001b[0;34m,\u001b[0m \u001b[0mscore\u001b[0m\u001b[0;34m,\u001b[0m \u001b[0mprot_name\u001b[0m\u001b[0;34m,\u001b[0m \u001b[0mstart_idx\u001b[0m \u001b[0;34m+\u001b[0m \u001b[0mlen\u001b[0m\u001b[0;34m(\u001b[0m\u001b[0mkmer\u001b[0m\u001b[0;34m)\u001b[0m \u001b[0;34m-\u001b[0m \u001b[0;36m1\u001b[0m\u001b[0;34m)\u001b[0m \u001b[0;32mfor\u001b[0m \u001b[0mi\u001b[0m\u001b[0;34m,\u001b[0m \u001b[0mscore\u001b[0m \u001b[0;32min\u001b[0m \u001b[0menumerate\u001b[0m\u001b[0;34m(\u001b[0m\u001b[0mb_scores\u001b[0m\u001b[0;34m)\u001b[0m\u001b[0;34m]\u001b[0m\u001b[0;34m\u001b[0m\u001b[0;34m\u001b[0m\u001b[0m\n\u001b[1;32m     33\u001b[0m     \u001b[0;34m[\u001b[0m\u001b[0madd_score\u001b[0m\u001b[0;34m(\u001b[0m\u001b[0;34m'by'\u001b[0m\u001b[0;34m,\u001b[0m \u001b[0mi\u001b[0m\u001b[0;34m,\u001b[0m \u001b[0mscore\u001b[0m\u001b[0;34m,\u001b[0m \u001b[0mprot_name\u001b[0m\u001b[0;34m,\u001b[0m \u001b[0mstart_idx\u001b[0m\u001b[0;34m)\u001b[0m \u001b[0;32mfor\u001b[0m \u001b[0mi\u001b[0m\u001b[0;34m,\u001b[0m \u001b[0mscore\u001b[0m \u001b[0;32min\u001b[0m \u001b[0menumerate\u001b[0m\u001b[0;34m(\u001b[0m\u001b[0mscores\u001b[0m\u001b[0;34m)\u001b[0m\u001b[0;34m]\u001b[0m\u001b[0;34m\u001b[0m\u001b[0;34m\u001b[0m\u001b[0m\n",
      "\u001b[0;32m<ipython-input-11-4550f84af487>\u001b[0m in \u001b[0;36madd_score\u001b[0;34m(ion, spec_idx, score, prot, start_idx)\u001b[0m\n\u001b[1;32m     14\u001b[0m \u001b[0;34m\u001b[0m\u001b[0m\n\u001b[1;32m     15\u001b[0m     \u001b[0;32melse\u001b[0m\u001b[0;34m:\u001b[0m\u001b[0;34m\u001b[0m\u001b[0;34m\u001b[0m\u001b[0m\n\u001b[0;32m---> 16\u001b[0;31m         \u001b[0md\u001b[0m\u001b[0;34m[\u001b[0m\u001b[0mspec_idx\u001b[0m\u001b[0;34m]\u001b[0m \u001b[0;34m=\u001b[0m \u001b[0msorted\u001b[0m\u001b[0;34m(\u001b[0m\u001b[0md\u001b[0m\u001b[0;34m[\u001b[0m\u001b[0mspec_idx\u001b[0m\u001b[0;34m]\u001b[0m \u001b[0;34m+\u001b[0m \u001b[0;34m[\u001b[0m\u001b[0mnew_entry\u001b[0m\u001b[0;34m]\u001b[0m\u001b[0;34m,\u001b[0m \u001b[0mkey\u001b[0m\u001b[0;34m=\u001b[0m\u001b[0;32mlambda\u001b[0m \u001b[0mx\u001b[0m\u001b[0;34m:\u001b[0m \u001b[0mx\u001b[0m\u001b[0;34m[\u001b[0m\u001b[0;36m0\u001b[0m\u001b[0;34m]\u001b[0m\u001b[0;34m,\u001b[0m \u001b[0mreverse\u001b[0m\u001b[0;34m=\u001b[0m\u001b[0;32mTrue\u001b[0m\u001b[0;34m)\u001b[0m\u001b[0;34m\u001b[0m\u001b[0;34m\u001b[0m\u001b[0m\n\u001b[0m\u001b[1;32m     17\u001b[0m \u001b[0;34m\u001b[0m\u001b[0m\n\u001b[1;32m     18\u001b[0m \u001b[0;32mdef\u001b[0m \u001b[0mscore_kmer\u001b[0m\u001b[0;34m(\u001b[0m\u001b[0mkmer\u001b[0m\u001b[0;34m,\u001b[0m \u001b[0mprot_name\u001b[0m\u001b[0;34m,\u001b[0m \u001b[0mstart_idx\u001b[0m\u001b[0;34m)\u001b[0m\u001b[0;34m:\u001b[0m\u001b[0;34m\u001b[0m\u001b[0;34m\u001b[0m\u001b[0m\n",
      "\u001b[0;31mKeyboardInterrupt\u001b[0m: "
     ]
    }
   ],
   "source": [
    "plen = len(prots)\n",
    "\n",
    "for i, (prot_name, prot_seq) in enumerate(prots.items()):\n",
    "    \n",
    "    # if the protein is less than our max_len, just do 1 calculation\n",
    "    for j in range(1, max_length):\n",
    "        score_kmer(prot_seq[:j], prot_name, j)\n",
    "        \n",
    "    # otherwise go through the entire thing\n",
    "    for j in range(len(prot_seq) - max_length):\n",
    "        print(f'\\rOn protein {i}/{plen} [{int(100 * (i+1) / plen)}%]     ({int(100 * (j+1)/(len(prot_seq)-max_length))}% Done with protein)', end='')\n",
    "\n",
    "        score_kmer(prot_seq[j:j+max_length], prot_name, j)\n",
    "        \n",
    "    for j in range(len(prot_seq) - max_length, len(prot)):\n",
    "        score_kmer(prot_seq[j:], prot_name, j)\n",
    "        "
   ]
  },
  {
   "cell_type": "code",
   "execution_count": null,
   "metadata": {},
   "outputs": [],
   "source": [
    "for spec_count in top_b:\n",
    "    print(f'Spectrum {spec_count}')\n",
    "    for i in range(top_x):\n",
    "        b_prot = prots[top_b[spec_count][i][1]]\n",
    "        b_start_idx = top_b[spec_count][i][2]\n",
    "        b_score = top_b[spec_count][i][0]\n",
    "        \n",
    "        y_prot = prots[top_y[spec_count][i][1]]\n",
    "        y_start_idx = top_y[spec_count][i][2]\n",
    "        y_score = top_y[spec_count][i][0]\n",
    "        \n",
    "        by_prot = prots[top_by\n",
    "                        [spec_count]\n",
    "                        [i]\n",
    "                        [1]]\n",
    "        by_start_idx = top_by[spec_count][i][2]\n",
    "        by_score = top_by[spec_count][i][0]\n",
    "        \n",
    "        print(f'''\\t{i}. b: {b_prot[b_start_idx:b_start_idx+avg_len]}: {b_score} \\t y: {y_prot[y_start_idx-avg_len:y_start_idx+1]}: {y_score} \\t both: {by_prot[by_start_idx:by_start_idx+avg_len]}: {by_score}''')\n",
    "        "
   ]
  },
  {
   "cell_type": "markdown",
   "metadata": {},
   "source": [
    "Hybrid: 0\n",
    "```\n",
    "DLPVNSPMTKG\n",
    "```\n",
    "\n",
    "Non hybrid: 1\n",
    "``` \n",
    "DAAIVGYK\n",
    "```\n",
    "\n",
    "Non hybrid: 2\n",
    "```\n",
    "DEAPNFEANTTIGRIRFH\n",
    "```\n",
    "\n",
    "Non hybrid: 3\n",
    "``` \n",
    "DPQVEQLEL\n",
    "```\n",
    "\n",
    "Hybrid 1: 4\n",
    "```\n",
    "DLQTLALWSRM\n",
    "```\n",
    "\n",
    "Non hybrid: 5\n",
    "```\n",
    "DLTEYLSRFGEVV\n",
    "```\n",
    "\n",
    "Hybrid 2: 6\n",
    "```\n",
    "DLQTLEVE\n",
    "```\n",
    "\n",
    "Non Hybrid: 7\n",
    "```\n",
    "DLSSASAIMGNAKVKAHGKKVITAFN\n",
    "```\n",
    "\n",
    "Non hybrid: 8\n",
    "```\n",
    "EEILKAFKLF\n",
    "```"
   ]
  },
  {
   "cell_type": "code",
   "execution_count": null,
   "metadata": {},
   "outputs": [],
   "source": []
  }
 ],
 "metadata": {
  "kernelspec": {
   "display_name": "Python 3",
   "language": "python",
   "name": "python3"
  },
  "language_info": {
   "codemirror_mode": {
    "name": "ipython",
    "version": 3
   },
   "file_extension": ".py",
   "mimetype": "text/x-python",
   "name": "python",
   "nbconvert_exporter": "python",
   "pygments_lexer": "ipython3",
   "version": "3.7.4"
  }
 },
 "nbformat": 4,
 "nbformat_minor": 4
}

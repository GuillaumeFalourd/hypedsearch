{
 "cells": [
  {
   "cell_type": "markdown",
   "metadata": {},
   "source": [
    "# Test new scoring alg with updated kmer extension\n",
    "So the old algorithm worked something like this:\n",
    "```\n",
    "MER: 4\n",
    "MERS: 4\n",
    "MERSV: 4\n",
    "MERSVT: 3.2\n",
    "MERSVTP: 3.3\n",
    "...\n",
    "```\n",
    "So the score didn't increase with the length of the kmer. We would like the score to increase with it so that we can get information from that. "
   ]
  },
  {
   "cell_type": "markdown",
   "metadata": {},
   "source": [
    "## New scoring algorithm\n",
    "Surprise: its the same one as the April 6 one but the normalizing factor is the length of the spectrum since that remains constant across all kmer extensions"
   ]
  },
  {
   "cell_type": "code",
   "execution_count": 22,
   "metadata": {},
   "outputs": [],
   "source": [
    "def compare_masses(spectrum: list, reference: list) -> float:\n",
    "    '''\n",
    "    CREATED APRIL 27 2020\n",
    "    Score two spectra against eachother. Simple additive scoring with bonuses for streaks\n",
    "    Divides by the length of the reference to make it length biased for the reference\n",
    "\n",
    "    Note:   the difference between this one and the other April one is this one divides \n",
    "            by the length of the spectrum. This is because all extended kmers will \n",
    "            be getting longer, so we want the score to increase with the length, not stay the same\n",
    "\n",
    "    Inputs:\n",
    "        spectrum:   list of floats (from mass spectra)\n",
    "        reference:  list of floats (calculated from protein sequence)\n",
    "    Outputs:\n",
    "        score:      float score \n",
    "    '''\n",
    "    if len(spectrum) == 0 or len(reference) == 0:\n",
    "        return 0.0\n",
    "    streak = 0\n",
    "    last = True\n",
    "    score = 0\n",
    "    max_streak = 0\n",
    "    for refmass in reference:\n",
    "    \n",
    "        if refmass in spectrum:\n",
    "            if last == True:\n",
    "                streak += 1\n",
    "                max_streak = max([streak, max_streak])\n",
    "            score += 1\n",
    "            last = True \n",
    "\n",
    "        else:\n",
    "            streak = 0\n",
    "            last = False\n",
    "    \n",
    "    score += max_streak\n",
    "    score /= float(len(spectrum))\n",
    "    return score \n"
   ]
  },
  {
   "cell_type": "markdown",
   "metadata": {},
   "source": [
    "### Test it and see if it increases with the kmer increase"
   ]
  },
  {
   "cell_type": "code",
   "execution_count": 23,
   "metadata": {},
   "outputs": [
    {
     "name": "stdout",
     "output_type": "stream",
     "text": [
      "3mer score: 0.25\n",
      "5mer score: 0.39285714285714285\n",
      "full score: 2.0\n"
     ]
    }
   ],
   "source": [
    "import os\n",
    "import sys\n",
    "module_path = os.path.abspath(os.path.join('..'))\n",
    "if module_path not in sys.path:\n",
    "    sys.path.append(module_path)\n",
    "module_path = os.path.abspath(os.path.join('../..'))\n",
    "if module_path not in sys.path:\n",
    "    sys.path.append(module_path)\n",
    "\n",
    "from src.spectra import gen_spectra\n",
    "\n",
    "protseq = 'WQTSMALWARMVPYA'\n",
    "fullseq = 'MALWARM'\n",
    "mer3 = 'MAL'\n",
    "mer5 = 'MALWA'\n",
    "\n",
    "fullspec = gen_spectra.gen_spectrum(fullseq)['spectrum']\n",
    "spec3 = gen_spectra.gen_spectrum(mer3)['spectrum']\n",
    "spec5 = gen_spectra.gen_spectrum(mer5)['spectrum']\n",
    "\n",
    "# compare them \n",
    "score3 = compare_masses(fullspec, spec3)\n",
    "score5 = compare_masses(fullspec, spec5)\n",
    "fullscore = compare_masses(fullspec, fullspec)\n",
    "\n",
    "print('3mer score: {}'.format(score3))\n",
    "print('5mer score: {}'.format(score5))\n",
    "print('full score: {}'.format(fullscore))\n"
   ]
  },
  {
   "cell_type": "markdown",
   "metadata": {},
   "source": [
    "## New kmer extension logic\n",
    "So now that we know that the score DOES increase as a function of length, lets work on the kmer extension part of it"
   ]
  },
  {
   "cell_type": "code",
   "execution_count": 24,
   "metadata": {},
   "outputs": [],
   "source": [
    "def new_entry(old_entry: dict, prot: str, spectrum: list, ion='b') -> dict:\n",
    "    '''\n",
    "    Generate a new entry from the old entry\n",
    "    \n",
    "    Input:\n",
    "        old_entry:   dict entry with k, sequence, b and y scores, start and end positions\n",
    "        prot:        str sequence of the protein\n",
    "        spectrum:    list spectrum to score against\n",
    "    kwargs:\n",
    "        ion:         str ion type to determine which. Options are 'b', 'y'. Default='b' \n",
    "    Ouptut:\n",
    "        new_entry:   dict entry with the new k, new sequence, new b and y scores, new start and end positions\n",
    "    '''\n",
    "    # check that we are operating on a valid entry\n",
    "    keys = ['k', 'starting_position', 'ending_position', 'b_score', 'y_score']\n",
    "    if any([old_entry[k] is None for k in keys]) or prot is None or spectrum is None:\n",
    "        return old_entry\n",
    "\n",
    "    starting_pos = old_entry['starting_position'] if ion == 'b' else old_entry['starting_position'] - 1\n",
    "    ending_pos = old_entry['ending_position'] + 1 if ion == 'b' else old_entry['ending_position']\n",
    "    if starting_pos < 0 or ending_pos > len(prot) - 1:\n",
    "        return old_entry\n",
    "\n",
    "    # check for negative lengths\n",
    "    if starting_pos > ending_pos or ending_pos < starting_pos:\n",
    "        return old_entry\n",
    "\n",
    "    mer_seq = prot[starting_pos:ending_pos+1]\n",
    "    mer_spec_b = gen_spectra.gen_spectrum(mer_seq, ion='b')['spectrum']\n",
    "    mer_spec_y = gen_spectra.gen_spectrum(mer_seq, ion='y')['spectrum']\n",
    "    return {\n",
    "        'k': old_entry['k'] + 1,\n",
    "        'sequence': mer_seq,\n",
    "        'starting_position': starting_pos,\n",
    "        'ending_position': ending_pos,\n",
    "        'b_score': compare_masses(spectrum, mer_spec_b),\n",
    "        'y_score': compare_masses(spectrum, mer_spec_y)\n",
    "    }\n",
    "\n",
    "def extend_kmer(spectrum: list, sequence: str, kmer: dict, ion: str, stall_length=3) -> dict:\n",
    "    '''\n",
    "    Extend a kmer until the score tells us that the adding amino acids doens't make it a better alignment\n",
    "    \n",
    "    Inputs:\n",
    "        spectrum:       list of floats. The mass spectrum in question\n",
    "        sequence:       str The full protein sequence we are pulling amino acids from \n",
    "        kmer:           dict of the form\n",
    "                        {\n",
    "                            b_score: float, \n",
    "                            y_score: float,\n",
    "                            k: int, \n",
    "                            starting_position: int,\n",
    "                            ending_position: int,\n",
    "                        }\n",
    "        ion:            str the ion type we are looking at. Should be 'b' or 'y'\n",
    "    kwargs:\n",
    "        stall_length:   int the number of iterations a subsequence is allowed to go witth \n",
    "                        no increase in score before finishing kmer growth on a certain kmer. Default=3\n",
    "    Outputs\n",
    "        dict with updated values of the form\n",
    "            {\n",
    "                b_score: float,\n",
    "                y_score: float, \n",
    "                k: int, \n",
    "                starting_position: int,\n",
    "                ending_positoin: int,\n",
    "            }\n",
    "    '''\n",
    "    if ion.lower() not in ['b', 'y']:\n",
    "        return kmer\n",
    "    score_key = 'b_score' if ion.lower() == 'b' else 'y_score'\n",
    "    # keep track of the last time a score increased\n",
    "    last_maintenance = kmer\n",
    "    # keep going until we run out of extension\n",
    "    while stall_length > 0:\n",
    "        updated = new_entry(kmer, sequence, spectrum, ion=ion)\n",
    "        if updated[score_key] > kmer[score_key] and updated[score_key] > 0 and updated['k'] != kmer['k']:\n",
    "            last_maintenance = updated\n",
    "        else: \n",
    "            stall_length -= 1\n",
    "        kmer = updated\n",
    "    return last_maintenance"
   ]
  },
  {
   "cell_type": "code",
   "execution_count": 25,
   "metadata": {},
   "outputs": [
    {
     "name": "stdout",
     "output_type": "stream",
     "text": [
      "{'k': 7, 'sequence': 'MALWARM', 'starting_position': 4, 'ending_position': 10, 'b_score': 1.0, 'y_score': 1.0}\n"
     ]
    }
   ],
   "source": [
    "spectrum = fullspec\n",
    "sequence = protseq\n",
    "kmer = {\n",
    "    'b_score': 0,\n",
    "    'y_score': 0,\n",
    "    'k': 3,\n",
    "    'starting_position': 4,\n",
    "    'ending_position': 6,\n",
    "}\n",
    "ion = 'b'\n",
    "extended = extend_kmer(spectrum, sequence, kmer, ion=ion)\n",
    "print(extended)"
   ]
  },
  {
   "cell_type": "code",
   "execution_count": null,
   "metadata": {},
   "outputs": [],
   "source": []
  }
 ],
 "metadata": {
  "kernelspec": {
   "display_name": "Python 3",
   "language": "python",
   "name": "python3"
  },
  "language_info": {
   "codemirror_mode": {
    "name": "ipython",
    "version": 3
   },
   "file_extension": ".py",
   "mimetype": "text/x-python",
   "name": "python",
   "nbconvert_exporter": "python",
   "pygments_lexer": "ipython3",
   "version": "3.7.4"
  }
 },
 "nbformat": 4,
 "nbformat_minor": 4
}

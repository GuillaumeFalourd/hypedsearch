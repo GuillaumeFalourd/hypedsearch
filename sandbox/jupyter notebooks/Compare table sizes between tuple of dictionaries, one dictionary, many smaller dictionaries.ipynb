{
 "cells": [
  {
   "cell_type": "markdown",
   "metadata": {},
   "source": [
    "# Compare the sizes of the different table implementation\n",
    "1. KmerMasses approach of old\n",
    "2. massive table\n",
    "3. list of tables"
   ]
  },
  {
   "cell_type": "code",
   "execution_count": 1,
   "metadata": {},
   "outputs": [],
   "source": [
    "import os\n",
    "import sys\n",
    "module_path = os.path.abspath(os.path.join('..'))\n",
    "if module_path not in sys.path:\n",
    "    sys.path.append(module_path)\n",
    "module_path = os.path.abspath(os.path.join('../..'))\n",
    "if module_path not in sys.path:\n",
    "    sys.path.append(module_path)\n",
    "    \n",
    "from src.types.objects import Spectrum\n",
    "from src.spectra.gen_spectra import gen_spectrum\n",
    "from src.utils import ppm_to_da\n",
    "from pyteomics import fasta\n",
    "\n",
    "import math\n",
    "import sys\n",
    "import time\n",
    "\n",
    "from collections import defaultdict"
   ]
  },
  {
   "cell_type": "code",
   "execution_count": 2,
   "metadata": {},
   "outputs": [],
   "source": [
    "fastafile = '/Users/zacharymcgrath/Documents/Layer_Research/hypedsearch/testing framework/data/databases/6000prots.fasta'\n"
   ]
  },
  {
   "cell_type": "code",
   "execution_count": 3,
   "metadata": {},
   "outputs": [
    {
     "name": "stdout",
     "output_type": "stream",
     "text": [
      "Size of big table is: 147.576KB\n",
      "Time to build: 17.727277994155884\n"
     ]
    }
   ],
   "source": [
    "st = time.time()\n",
    "\n",
    "bigtable = defaultdict(list)\n",
    "# big table version\n",
    "for i, entry in enumerate(fasta.read(fastafile)):\n",
    "    seq = entry.sequence\n",
    "    p_name = entry.description.split('|')[-1].split(' ')[0]\n",
    "    \n",
    "    print(f'On protein {i}/{6000}\\r', end='')\n",
    "    \n",
    "    for i in range(3, 26):\n",
    "        kmer_len = 25 if i + 25 < len(seq) else len(seq) - i\n",
    "        kmer = seq[i:i+kmer_len]\n",
    "        \n",
    "        kmer_spec_b_s = gen_spectrum(kmer, ion='b', charge=1)['spectrum']\n",
    "        kmer_spec_b_d = gen_spectrum(kmer, ion='b', charge=2)['spectrum']\n",
    "        kmer_spec_y_s = gen_spectrum(kmer, ion='y', charge=1)['spectrum']\n",
    "        kmer_spec_y_d = gen_spectrum(kmer, ion='y', charge=2)['spectrum']\n",
    "        \n",
    "        # add each m/z peak in the spectrum to the table\n",
    "        for j in range(3, kmer_len + 1):\n",
    "\n",
    "            # take the sequence left to right for b, and right to left for y\n",
    "            subseq_b = kmer[:j]\n",
    "            subseq_y = kmer[kmer_len-j:]\n",
    "\n",
    "            # add singly and doubly entry for this sequence to the table respectively\n",
    "            bigtable[math.floor(kmer_spec_b_s[j-1])] \\\n",
    "                .append((kmer_spec_b_s[j-1], 'bs', subseq_b, p_name))\n",
    "\n",
    "            bigtable[math.floor(kmer_spec_b_d[j-1])] \\\n",
    "                .append((kmer_spec_b_d[j-1], 'bd', subseq_b, p_name))\n",
    "\n",
    "            # add singly and doubly entry for this sequence to the table respectively\n",
    "            bigtable[math.floor(kmer_spec_b_s[j-1])] \\\n",
    "                .append((kmer_spec_y_s[j-1], 'ys', subseq_y, p_name))\n",
    "\n",
    "            bigtable[math.floor(kmer_spec_y_d[j-1])] \\\n",
    "                .append((kmer_spec_y_d[j-1], 'yd', subseq_y, p_name))\n",
    "     \n",
    "    \n",
    "print(f'Size of big table is: {sys.getsizeof(bigtable)/1000}KB')\n",
    "print(f'Time to build: {time.time() - st}')"
   ]
  },
  {
   "cell_type": "code",
   "execution_count": 4,
   "metadata": {},
   "outputs": [
    {
     "name": "stdout",
     "output_type": "stream",
     "text": [
      "Size of big table is: 0.088KB\n",
      "Time to build: 26.988785982131958\n"
     ]
    }
   ],
   "source": [
    "st = time.time()\n",
    "\n",
    "kmermasses = (defaultdict(list), defaultdict(list), defaultdict(list), defaultdict(list))\n",
    "# big table version\n",
    "for i, entry in enumerate(fasta.read(fastafile)):\n",
    "    seq = entry.sequence\n",
    "    p_name = entry.description.split('|')[-1].split(' ')[0]\n",
    "    \n",
    "    print(f'On protein {i}/{6000}\\r', end='')\n",
    "    \n",
    "    for i in range(3, 26):\n",
    "        kmer_len = 25 if i + 25 < len(seq) else len(seq) - i\n",
    "        kmer = seq[i:i+kmer_len]\n",
    "        \n",
    "        kmer_spec_b_s = gen_spectrum(kmer, ion='b', charge=1)['spectrum']\n",
    "        kmer_spec_b_d = gen_spectrum(kmer, ion='b', charge=2)['spectrum']\n",
    "        kmer_spec_y_s = gen_spectrum(kmer, ion='y', charge=1)['spectrum']\n",
    "        kmer_spec_y_d = gen_spectrum(kmer, ion='y', charge=2)['spectrum']\n",
    "        \n",
    "        # add each m/z peak in the spectrum to the table\n",
    "        for j in range(3, kmer_len + 1):\n",
    "\n",
    "            # take the sequence left to right for b, and right to left for y\n",
    "            subseq_b = kmer[:j]\n",
    "            subseq_y = kmer[kmer_len-j:]\n",
    "\n",
    "            # add singly and doubly entry for this sequence to the table respectively\n",
    "            kmermasses[0][math.floor(kmer_spec_b_s[j-1])] \\\n",
    "                .append((kmer_spec_b_s[j-1], 'bs', subseq_b, p_name))\n",
    "\n",
    "            kmermasses[1][math.floor(kmer_spec_b_d[j-1])] \\\n",
    "                .append((kmer_spec_b_d[j-1], 'bd', subseq_b, p_name))\n",
    "\n",
    "            # add singly and doubly entry for this sequence to the table respectively\n",
    "            kmermasses[2][math.floor(kmer_spec_b_s[j-1])] \\\n",
    "                .append((kmer_spec_y_s[j-1], 'ys', subseq_y, p_name))\n",
    "\n",
    "            kmermasses[3][math.floor(kmer_spec_y_d[j-1])] \\\n",
    "                .append((kmer_spec_y_d[j-1], 'yd', subseq_y, p_name))\n",
    "     \n",
    "    \n",
    "print(f'Size of big table is: {sys.getsizeof(kmermasses)/1000}KB')\n",
    "print(f'Time to build: {time.time() - st}')"
   ]
  },
  {
   "cell_type": "code",
   "execution_count": null,
   "metadata": {},
   "outputs": [],
   "source": []
  },
  {
   "cell_type": "code",
   "execution_count": null,
   "metadata": {},
   "outputs": [],
   "source": []
  }
 ],
 "metadata": {
  "kernelspec": {
   "display_name": "Python 3",
   "language": "python",
   "name": "python3"
  },
  "language_info": {
   "codemirror_mode": {
    "name": "ipython",
    "version": 3
   },
   "file_extension": ".py",
   "mimetype": "text/x-python",
   "name": "python",
   "nbconvert_exporter": "python",
   "pygments_lexer": "ipython3",
   "version": "3.7.4"
  }
 },
 "nbformat": 4,
 "nbformat_minor": 4
}

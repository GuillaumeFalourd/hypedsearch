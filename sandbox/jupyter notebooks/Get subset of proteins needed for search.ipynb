{
 "cells": [
  {
   "cell_type": "markdown",
   "metadata": {},
   "source": [
    "# Get the minimum number of proteins needed to do a search for hybrids\n",
    "Take the known results (like from an `ssv` from SpectrumMill) and the `fasta` file used in that search, and only take the proteins FROM that database that appear as the output in the search. Then run hypedsearch on the sample with that subset of proteins"
   ]
  },
  {
   "cell_type": "code",
   "execution_count": 10,
   "metadata": {},
   "outputs": [],
   "source": [
    "import os\n",
    "import sys\n",
    "module_path = os.path.abspath(os.path.join('..'))\n",
    "if module_path not in sys.path:\n",
    "    sys.path.append(module_path)\n",
    "module_path = os.path.abspath(os.path.join('../..'))\n",
    "if module_path not in sys.path:\n",
    "    sys.path.append(module_path)\n",
    "    \n",
    "from pyteomics import fasta\n",
    "import pandas as pd"
   ]
  },
  {
   "cell_type": "code",
   "execution_count": 14,
   "metadata": {},
   "outputs": [],
   "source": [
    "fastafile = '/Users/zacharymcgrath/Desktop/nod2 data/NOD2_mouse_database.fasta'\n",
    "db = {}\n",
    "for entry in fasta.read(fastafile):\n",
    "    name = entry.description.split('|')[2]\n",
    "    name = name[:name.index('OS=')-1]\n",
    "    name = ' '.join(name.split(' ')[1:])\n",
    "    db[name.lower()] = entry\n"
   ]
  },
  {
   "cell_type": "code",
   "execution_count": 5,
   "metadata": {},
   "outputs": [
    {
     "data": {
      "text/html": [
       "<div>\n",
       "<style scoped>\n",
       "    .dataframe tbody tr th:only-of-type {\n",
       "        vertical-align: middle;\n",
       "    }\n",
       "\n",
       "    .dataframe tbody tr th {\n",
       "        vertical-align: top;\n",
       "    }\n",
       "\n",
       "    .dataframe thead th {\n",
       "        text-align: right;\n",
       "    }\n",
       "</style>\n",
       "<table border=\"1\" class=\"dataframe\">\n",
       "  <thead>\n",
       "    <tr style=\"text-align: right;\">\n",
       "      <th></th>\n",
       "      <th>number</th>\n",
       "      <th>filename</th>\n",
       "      <th>parent_charge</th>\n",
       "      <th>score</th>\n",
       "      <th>deltaForwardReverseScore</th>\n",
       "      <th>deltaRank1Rank2Score</th>\n",
       "      <th>percent_scored_peak_intensity</th>\n",
       "      <th>totalIntensity</th>\n",
       "      <th>previous_aa</th>\n",
       "      <th>sequence</th>\n",
       "      <th>next_aa</th>\n",
       "      <th>retentionTimeMin</th>\n",
       "      <th>chromatographicPeakWidthSec</th>\n",
       "      <th>parent_m_over_z</th>\n",
       "      <th>species</th>\n",
       "      <th>entry_name</th>\n",
       "    </tr>\n",
       "  </thead>\n",
       "  <tbody>\n",
       "    <tr>\n",
       "      <td>0</td>\n",
       "      <td>1</td>\n",
       "      <td>NOD2_E3.13446.13477.2</td>\n",
       "      <td>2</td>\n",
       "      <td>10.10</td>\n",
       "      <td>10.10</td>\n",
       "      <td>9.91</td>\n",
       "      <td>84.5</td>\n",
       "      <td>183000.0</td>\n",
       "      <td>(E)</td>\n",
       "      <td>DPQVEQLEL</td>\n",
       "      <td>(-)</td>\n",
       "      <td>48.35</td>\n",
       "      <td>26.0</td>\n",
       "      <td>535.7725</td>\n",
       "      <td>MOUSE</td>\n",
       "      <td>ins1C18</td>\n",
       "    </tr>\n",
       "    <tr>\n",
       "      <td>1</td>\n",
       "      <td>2</td>\n",
       "      <td>NOD2_E3.18005.18246.2</td>\n",
       "      <td>2</td>\n",
       "      <td>12.84</td>\n",
       "      <td>11.07</td>\n",
       "      <td>12.84</td>\n",
       "      <td>97.8</td>\n",
       "      <td>40000000.0</td>\n",
       "      <td>(G)</td>\n",
       "      <td>DLQTLALEVA</td>\n",
       "      <td>(-)</td>\n",
       "      <td>65.78</td>\n",
       "      <td>29.0</td>\n",
       "      <td>536.8007</td>\n",
       "      <td>MOUSE</td>\n",
       "      <td>ins1C3</td>\n",
       "    </tr>\n",
       "  </tbody>\n",
       "</table>\n",
       "</div>"
      ],
      "text/plain": [
       "   number               filename  parent_charge  score  \\\n",
       "0       1  NOD2_E3.13446.13477.2              2  10.10   \n",
       "1       2  NOD2_E3.18005.18246.2              2  12.84   \n",
       "\n",
       "   deltaForwardReverseScore  deltaRank1Rank2Score  \\\n",
       "0                     10.10                  9.91   \n",
       "1                     11.07                 12.84   \n",
       "\n",
       "   percent_scored_peak_intensity  totalIntensity previous_aa    sequence  \\\n",
       "0                           84.5        183000.0         (E)   DPQVEQLEL   \n",
       "1                           97.8      40000000.0         (G)  DLQTLALEVA   \n",
       "\n",
       "  next_aa  retentionTimeMin  chromatographicPeakWidthSec  parent_m_over_z  \\\n",
       "0     (-)             48.35                         26.0         535.7725   \n",
       "1     (-)             65.78                         29.0         536.8007   \n",
       "\n",
       "  species entry_name  \n",
       "0   MOUSE    ins1C18  \n",
       "1   MOUSE     ins1C3  "
      ]
     },
     "execution_count": 5,
     "metadata": {},
     "output_type": "execute_result"
    }
   ],
   "source": [
    "resfile = '/Users/zacharymcgrath/Downloads/NOD2_E3_results.ssv'\n",
    "resdf = pd.read_csv(resfile, sep=';')\n",
    "resdf.head(2)\n"
   ]
  },
  {
   "cell_type": "code",
   "execution_count": 15,
   "metadata": {},
   "outputs": [
    {
     "name": "stdout",
     "output_type": "stream",
     "text": [
      "key ins1c18 not in db\n",
      "key ins1c3 not in db\n",
      "key ins1c5 not in db\n",
      "key ins1c6 not in db\n",
      "key hybrid: mouse ins1c pqveqlelggspgdlqtlal-lldeghypvrespidtakry mouse scg1 not in db\n",
      "key hybrid: mouse ins2c evedpqvaqlelgg-evedpqvaqlelgggpgagd mouse ins2 not in db\n",
      "key hybrid: mouse ins2c evedpqvaqlelgggpgagd-lpvnspmtkgdtkvmkcvle mouse chga not in db\n",
      "key hybrid: mouse ins1c pqveqlelggspgdlqtlal-wsrmdqlakeltaekrlege mouse chga not in db\n",
      "key hybrid: mouse ins1c pqveqlelggspgdlqtlal-naardpnresldfllv mouse iapp (nod) not in db\n",
      "key hybrid: mouse ins1c pqveqlelggspgdlqtlal-naardpnresldfllv mouse iapp (nod) not in db\n",
      "key hybrid: mouse ins1c edpqveqlelggspgdlqtl-evedpqveqlelggspgdlq mouse ins1 not in db\n",
      "key hybrid: mouse ins1c pqveqlelggspgdlqtlal-evedpqveqlelggspgdlq mouse ins1 not in db\n",
      "key protein/nucleic acid deglycase dj-1 not in db\n",
      "key protein/nucleic acid deglycase dj-1 not in db\n",
      "Number of entries went from 17028 to 279\n"
     ]
    }
   ],
   "source": [
    "filtered = []\n",
    "for idx, row in resdf.iterrows():\n",
    "    key = row['entry_name'].lower()\n",
    "    if key not in db:\n",
    "        print(f'key {key} not in db')\n",
    "        continue\n",
    "    filtered.append(db[key])\n",
    "    \n",
    "filtered = list(set(filtered))\n",
    "\n",
    "print(f'Number of entries went from {len(db)} to {len(filtered)}')"
   ]
  },
  {
   "cell_type": "code",
   "execution_count": 17,
   "metadata": {},
   "outputs": [
    {
     "data": {
      "text/plain": [
       "<_io.TextIOWrapper name='/Users/zacharymcgrath/Desktop/nod2 data/filteredNOD2.fasta' mode='a' encoding='UTF-8'>"
      ]
     },
     "execution_count": 17,
     "metadata": {},
     "output_type": "execute_result"
    }
   ],
   "source": [
    "outputfasta = '/Users/zacharymcgrath/Desktop/nod2 data/filteredNOD2.fasta'\n",
    "fasta.write(filtered, outputfasta)"
   ]
  },
  {
   "cell_type": "code",
   "execution_count": null,
   "metadata": {},
   "outputs": [],
   "source": []
  }
 ],
 "metadata": {
  "kernelspec": {
   "display_name": "Python 3",
   "language": "python",
   "name": "python3"
  },
  "language_info": {
   "codemirror_mode": {
    "name": "ipython",
    "version": 3
   },
   "file_extension": ".py",
   "mimetype": "text/x-python",
   "name": "python",
   "nbconvert_exporter": "python",
   "pygments_lexer": "ipython3",
   "version": "3.7.4"
  }
 },
 "nbformat": 4,
 "nbformat_minor": 4
}

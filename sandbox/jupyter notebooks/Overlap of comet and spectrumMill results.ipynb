{
 "cells": [
  {
   "cell_type": "markdown",
   "metadata": {},
   "source": [
    "# Find the overlap of Comet and SpectrumMill results"
   ]
  },
  {
   "cell_type": "code",
   "execution_count": 1,
   "metadata": {},
   "outputs": [],
   "source": [
    "import pandas as pd\n"
   ]
  },
  {
   "cell_type": "code",
   "execution_count": 21,
   "metadata": {},
   "outputs": [],
   "source": [
    "comet_results_file = '/Users/zacharymcgrath/Downloads/nod2_e3.txt'\n",
    "comet_sep = '\\t'\n",
    "\n",
    "specmil_results_file = '/Users/zacharymcgrath/Downloads/NOD2_E3_results.ssv'\n",
    "specmil_sep = ';'\n",
    "\n",
    "comet_results = pd.read_csv(comet_results_file, sep=comet_sep)\n",
    "comet_results = comet_results[comet_results['scan'] == 1]\n",
    "specmil_results = pd.read_csv(specmil_results_file, sep=specmil_sep)\n"
   ]
  },
  {
   "cell_type": "code",
   "execution_count": 22,
   "metadata": {},
   "outputs": [
    {
     "data": {
      "text/html": [
       "<div>\n",
       "<style scoped>\n",
       "    .dataframe tbody tr th:only-of-type {\n",
       "        vertical-align: middle;\n",
       "    }\n",
       "\n",
       "    .dataframe tbody tr th {\n",
       "        vertical-align: top;\n",
       "    }\n",
       "\n",
       "    .dataframe thead th {\n",
       "        text-align: right;\n",
       "    }\n",
       "</style>\n",
       "<table border=\"1\" class=\"dataframe\">\n",
       "  <thead>\n",
       "    <tr style=\"text-align: right;\">\n",
       "      <th></th>\n",
       "      <th>scan</th>\n",
       "      <th>num</th>\n",
       "      <th>charge</th>\n",
       "      <th>exp_neutral_mass</th>\n",
       "      <th>calc_neutral_mass</th>\n",
       "      <th>e-value</th>\n",
       "      <th>xcorr</th>\n",
       "      <th>delta_cn</th>\n",
       "      <th>sp_score</th>\n",
       "      <th>ions_matched</th>\n",
       "      <th>ions_total</th>\n",
       "      <th>plain_peptide</th>\n",
       "      <th>modified_peptide</th>\n",
       "      <th>prev_aa</th>\n",
       "      <th>next_aa</th>\n",
       "      <th>protein</th>\n",
       "      <th>protein_count</th>\n",
       "      <th>modifications</th>\n",
       "    </tr>\n",
       "  </thead>\n",
       "  <tbody>\n",
       "    <tr>\n",
       "      <td>1</td>\n",
       "      <td>1</td>\n",
       "      <td>2</td>\n",
       "      <td>614.314053</td>\n",
       "      <td>614.313623</td>\n",
       "      <td>2.180</td>\n",
       "      <td>0.8666</td>\n",
       "      <td>0.0456</td>\n",
       "      <td>46.9</td>\n",
       "      <td>3</td>\n",
       "      <td>12</td>\n",
       "      <td>PSRGGAA</td>\n",
       "      <td>L.PSRGGAA.K</td>\n",
       "      <td>L</td>\n",
       "      <td>K</td>\n",
       "      <td>sp|Q3MI99|CCBE1_MOUSE</td>\n",
       "      <td>1</td>\n",
       "      <td>-</td>\n",
       "      <td>NaN</td>\n",
       "    </tr>\n",
       "    <tr>\n",
       "      <td>2</td>\n",
       "      <td>1</td>\n",
       "      <td>2</td>\n",
       "      <td>676.226411</td>\n",
       "      <td>676.230013</td>\n",
       "      <td>54.900</td>\n",
       "      <td>0.3354</td>\n",
       "      <td>0.0107</td>\n",
       "      <td>10.0</td>\n",
       "      <td>2</td>\n",
       "      <td>12</td>\n",
       "      <td>GDEGDGQ</td>\n",
       "      <td>T.GDEGDGQ.A</td>\n",
       "      <td>T</td>\n",
       "      <td>A</td>\n",
       "      <td>sp|Q9CT10|RANB3_MOUSE</td>\n",
       "      <td>1</td>\n",
       "      <td>-</td>\n",
       "      <td>NaN</td>\n",
       "    </tr>\n",
       "    <tr>\n",
       "      <td>2</td>\n",
       "      <td>1</td>\n",
       "      <td>2</td>\n",
       "      <td>676.226411</td>\n",
       "      <td>676.230013</td>\n",
       "      <td>54.900</td>\n",
       "      <td>0.3354</td>\n",
       "      <td>0.0107</td>\n",
       "      <td>10.0</td>\n",
       "      <td>2</td>\n",
       "      <td>12</td>\n",
       "      <td>GDEGNAD</td>\n",
       "      <td>T.GDEGNAD.N</td>\n",
       "      <td>T</td>\n",
       "      <td>N</td>\n",
       "      <td>sp|Q61329|ZFHX3_MOUSE</td>\n",
       "      <td>1</td>\n",
       "      <td>-</td>\n",
       "      <td>NaN</td>\n",
       "    </tr>\n",
       "    <tr>\n",
       "      <td>3</td>\n",
       "      <td>1</td>\n",
       "      <td>2</td>\n",
       "      <td>678.223787</td>\n",
       "      <td>678.227904</td>\n",
       "      <td>0.651</td>\n",
       "      <td>0.5261</td>\n",
       "      <td>0.2239</td>\n",
       "      <td>25.5</td>\n",
       "      <td>2</td>\n",
       "      <td>10</td>\n",
       "      <td>DQDCAA</td>\n",
       "      <td>D.DQDCAA.E</td>\n",
       "      <td>D</td>\n",
       "      <td>E</td>\n",
       "      <td>sp|P97864|CASP7_MOUSE,sp|Q8R0S6|WFKN1_MOUSE</td>\n",
       "      <td>2</td>\n",
       "      <td>4_S_57.021464</td>\n",
       "      <td>NaN</td>\n",
       "    </tr>\n",
       "    <tr>\n",
       "      <td>4</td>\n",
       "      <td>1</td>\n",
       "      <td>2</td>\n",
       "      <td>680.223785</td>\n",
       "      <td>680.225796</td>\n",
       "      <td>11.000</td>\n",
       "      <td>0.3108</td>\n",
       "      <td>0.2601</td>\n",
       "      <td>10.0</td>\n",
       "      <td>1</td>\n",
       "      <td>10</td>\n",
       "      <td>CECAAA</td>\n",
       "      <td>G.CECAAA.L</td>\n",
       "      <td>G</td>\n",
       "      <td>L</td>\n",
       "      <td>sp|B9EJR8|DAAF5_MOUSE</td>\n",
       "      <td>1</td>\n",
       "      <td>1_S_57.021464,3_S_57.021464</td>\n",
       "      <td>NaN</td>\n",
       "    </tr>\n",
       "    <tr>\n",
       "      <td>5</td>\n",
       "      <td>1</td>\n",
       "      <td>2</td>\n",
       "      <td>614.314053</td>\n",
       "      <td>614.313623</td>\n",
       "      <td>2.420</td>\n",
       "      <td>0.7935</td>\n",
       "      <td>0.0486</td>\n",
       "      <td>69.0</td>\n",
       "      <td>4</td>\n",
       "      <td>12</td>\n",
       "      <td>PSRGGAA</td>\n",
       "      <td>L.PSRGGAA.K</td>\n",
       "      <td>L</td>\n",
       "      <td>K</td>\n",
       "      <td>sp|Q3MI99|CCBE1_MOUSE</td>\n",
       "      <td>1</td>\n",
       "      <td>-</td>\n",
       "      <td>NaN</td>\n",
       "    </tr>\n",
       "    <tr>\n",
       "      <td>6</td>\n",
       "      <td>1</td>\n",
       "      <td>3</td>\n",
       "      <td>1163.316641</td>\n",
       "      <td>1163.323903</td>\n",
       "      <td>50.500</td>\n",
       "      <td>0.2278</td>\n",
       "      <td>1.0000</td>\n",
       "      <td>3.1</td>\n",
       "      <td>1</td>\n",
       "      <td>32</td>\n",
       "      <td>MMECSEACD</td>\n",
       "      <td>S.M[15.9949]M[15.9949]ECSEACD.T</td>\n",
       "      <td>S</td>\n",
       "      <td>T</td>\n",
       "      <td>sp|Q6PCN7|HLTF_MOUSE</td>\n",
       "      <td>1</td>\n",
       "      <td>1_V_15.994900,2_V_15.994900,4_S_57.021464,8_S_...</td>\n",
       "      <td>NaN</td>\n",
       "    </tr>\n",
       "    <tr>\n",
       "      <td>7</td>\n",
       "      <td>1</td>\n",
       "      <td>3</td>\n",
       "      <td>1616.136434</td>\n",
       "      <td>1616.125589</td>\n",
       "      <td>623.000</td>\n",
       "      <td>0.0832</td>\n",
       "      <td>0.0277</td>\n",
       "      <td>0.0</td>\n",
       "      <td>0</td>\n",
       "      <td>56</td>\n",
       "      <td>LIILVSLLIILPLAL</td>\n",
       "      <td>L.LIILVSLLIILPLAL.M</td>\n",
       "      <td>L</td>\n",
       "      <td>M</td>\n",
       "      <td>sp|Q3U1J0|S38A5_MOUSE</td>\n",
       "      <td>1</td>\n",
       "      <td>-</td>\n",
       "      <td>NaN</td>\n",
       "    </tr>\n",
       "    <tr>\n",
       "      <td>9</td>\n",
       "      <td>1</td>\n",
       "      <td>2</td>\n",
       "      <td>614.314053</td>\n",
       "      <td>614.313623</td>\n",
       "      <td>2.190</td>\n",
       "      <td>0.7383</td>\n",
       "      <td>0.1179</td>\n",
       "      <td>70.3</td>\n",
       "      <td>4</td>\n",
       "      <td>12</td>\n",
       "      <td>GRPSGAA</td>\n",
       "      <td>T.GRPSGAA.E</td>\n",
       "      <td>T</td>\n",
       "      <td>E</td>\n",
       "      <td>sp|P04235|CD3D_MOUSE</td>\n",
       "      <td>1</td>\n",
       "      <td>-</td>\n",
       "      <td>NaN</td>\n",
       "    </tr>\n",
       "    <tr>\n",
       "      <td>10</td>\n",
       "      <td>1</td>\n",
       "      <td>2</td>\n",
       "      <td>680.223785</td>\n",
       "      <td>680.225796</td>\n",
       "      <td>0.605</td>\n",
       "      <td>0.3839</td>\n",
       "      <td>0.2893</td>\n",
       "      <td>10.0</td>\n",
       "      <td>1</td>\n",
       "      <td>10</td>\n",
       "      <td>CECAAA</td>\n",
       "      <td>G.CECAAA.L</td>\n",
       "      <td>G</td>\n",
       "      <td>L</td>\n",
       "      <td>sp|B9EJR8|DAAF5_MOUSE</td>\n",
       "      <td>1</td>\n",
       "      <td>1_S_57.021464,3_S_57.021464</td>\n",
       "      <td>NaN</td>\n",
       "    </tr>\n",
       "  </tbody>\n",
       "</table>\n",
       "</div>"
      ],
      "text/plain": [
       "    scan  num       charge  exp_neutral_mass  calc_neutral_mass  e-value  \\\n",
       "1      1    2   614.314053        614.313623              2.180   0.8666   \n",
       "2      1    2   676.226411        676.230013             54.900   0.3354   \n",
       "2      1    2   676.226411        676.230013             54.900   0.3354   \n",
       "3      1    2   678.223787        678.227904              0.651   0.5261   \n",
       "4      1    2   680.223785        680.225796             11.000   0.3108   \n",
       "5      1    2   614.314053        614.313623              2.420   0.7935   \n",
       "6      1    3  1163.316641       1163.323903             50.500   0.2278   \n",
       "7      1    3  1616.136434       1616.125589            623.000   0.0832   \n",
       "9      1    2   614.314053        614.313623              2.190   0.7383   \n",
       "10     1    2   680.223785        680.225796              0.605   0.3839   \n",
       "\n",
       "     xcorr  delta_cn  sp_score  ions_matched       ions_total  \\\n",
       "1   0.0456      46.9         3            12          PSRGGAA   \n",
       "2   0.0107      10.0         2            12          GDEGDGQ   \n",
       "2   0.0107      10.0         2            12          GDEGNAD   \n",
       "3   0.2239      25.5         2            10           DQDCAA   \n",
       "4   0.2601      10.0         1            10           CECAAA   \n",
       "5   0.0486      69.0         4            12          PSRGGAA   \n",
       "6   1.0000       3.1         1            32        MMECSEACD   \n",
       "7   0.0277       0.0         0            56  LIILVSLLIILPLAL   \n",
       "9   0.1179      70.3         4            12          GRPSGAA   \n",
       "10  0.2893      10.0         1            10           CECAAA   \n",
       "\n",
       "                      plain_peptide modified_peptide prev_aa  \\\n",
       "1                       L.PSRGGAA.K                L       K   \n",
       "2                       T.GDEGDGQ.A                T       A   \n",
       "2                       T.GDEGNAD.N                T       N   \n",
       "3                        D.DQDCAA.E                D       E   \n",
       "4                        G.CECAAA.L                G       L   \n",
       "5                       L.PSRGGAA.K                L       K   \n",
       "6   S.M[15.9949]M[15.9949]ECSEACD.T                S       T   \n",
       "7               L.LIILVSLLIILPLAL.M                L       M   \n",
       "9                       T.GRPSGAA.E                T       E   \n",
       "10                       G.CECAAA.L                G       L   \n",
       "\n",
       "                                        next_aa  protein  \\\n",
       "1                         sp|Q3MI99|CCBE1_MOUSE        1   \n",
       "2                         sp|Q9CT10|RANB3_MOUSE        1   \n",
       "2                         sp|Q61329|ZFHX3_MOUSE        1   \n",
       "3   sp|P97864|CASP7_MOUSE,sp|Q8R0S6|WFKN1_MOUSE        2   \n",
       "4                         sp|B9EJR8|DAAF5_MOUSE        1   \n",
       "5                         sp|Q3MI99|CCBE1_MOUSE        1   \n",
       "6                          sp|Q6PCN7|HLTF_MOUSE        1   \n",
       "7                         sp|Q3U1J0|S38A5_MOUSE        1   \n",
       "9                          sp|P04235|CD3D_MOUSE        1   \n",
       "10                        sp|B9EJR8|DAAF5_MOUSE        1   \n",
       "\n",
       "                                        protein_count  modifications  \n",
       "1                                                   -            NaN  \n",
       "2                                                   -            NaN  \n",
       "2                                                   -            NaN  \n",
       "3                                       4_S_57.021464            NaN  \n",
       "4                         1_S_57.021464,3_S_57.021464            NaN  \n",
       "5                                                   -            NaN  \n",
       "6   1_V_15.994900,2_V_15.994900,4_S_57.021464,8_S_...            NaN  \n",
       "7                                                   -            NaN  \n",
       "9                                                   -            NaN  \n",
       "10                        1_S_57.021464,3_S_57.021464            NaN  "
      ]
     },
     "execution_count": 22,
     "metadata": {},
     "output_type": "execute_result"
    }
   ],
   "source": [
    "comet_results.head(10)"
   ]
  },
  {
   "cell_type": "code",
   "execution_count": 20,
   "metadata": {},
   "outputs": [
    {
     "name": "stdout",
     "output_type": "stream",
     "text": [
      "       scan  num\n",
      "1         1    2\n",
      "1         2    2\n",
      "1         3    2\n",
      "1         4    2\n",
      "1         5    2\n",
      "...     ...  ...\n",
      "12752     1    3\n",
      "12752     2    3\n",
      "12752     3    3\n",
      "12752     4    3\n",
      "12752     5    3\n",
      "\n",
      "[53738 rows x 2 columns]\n"
     ]
    }
   ],
   "source": [
    "print(comet_results[['scan', 'num']])"
   ]
  },
  {
   "cell_type": "code",
   "execution_count": 7,
   "metadata": {},
   "outputs": [
    {
     "data": {
      "text/html": [
       "<div>\n",
       "<style scoped>\n",
       "    .dataframe tbody tr th:only-of-type {\n",
       "        vertical-align: middle;\n",
       "    }\n",
       "\n",
       "    .dataframe tbody tr th {\n",
       "        vertical-align: top;\n",
       "    }\n",
       "\n",
       "    .dataframe thead th {\n",
       "        text-align: right;\n",
       "    }\n",
       "</style>\n",
       "<table border=\"1\" class=\"dataframe\">\n",
       "  <thead>\n",
       "    <tr style=\"text-align: right;\">\n",
       "      <th></th>\n",
       "      <th>number</th>\n",
       "      <th>filename</th>\n",
       "      <th>parent_charge</th>\n",
       "      <th>score</th>\n",
       "      <th>deltaForwardReverseScore</th>\n",
       "      <th>deltaRank1Rank2Score</th>\n",
       "      <th>percent_scored_peak_intensity</th>\n",
       "      <th>totalIntensity</th>\n",
       "      <th>previous_aa</th>\n",
       "      <th>sequence</th>\n",
       "      <th>next_aa</th>\n",
       "      <th>retentionTimeMin</th>\n",
       "      <th>chromatographicPeakWidthSec</th>\n",
       "      <th>parent_m_over_z</th>\n",
       "      <th>species</th>\n",
       "      <th>entry_name</th>\n",
       "    </tr>\n",
       "  </thead>\n",
       "  <tbody>\n",
       "    <tr>\n",
       "      <td>0</td>\n",
       "      <td>1</td>\n",
       "      <td>NOD2_E3.13446.13477.2</td>\n",
       "      <td>2</td>\n",
       "      <td>10.10</td>\n",
       "      <td>10.10</td>\n",
       "      <td>9.91</td>\n",
       "      <td>84.5</td>\n",
       "      <td>183000.0</td>\n",
       "      <td>(E)</td>\n",
       "      <td>DPQVEQLEL</td>\n",
       "      <td>(-)</td>\n",
       "      <td>48.35</td>\n",
       "      <td>26.0</td>\n",
       "      <td>535.7725</td>\n",
       "      <td>MOUSE</td>\n",
       "      <td>ins1C18</td>\n",
       "    </tr>\n",
       "    <tr>\n",
       "      <td>1</td>\n",
       "      <td>2</td>\n",
       "      <td>NOD2_E3.18005.18246.2</td>\n",
       "      <td>2</td>\n",
       "      <td>12.84</td>\n",
       "      <td>11.07</td>\n",
       "      <td>12.84</td>\n",
       "      <td>97.8</td>\n",
       "      <td>40000000.0</td>\n",
       "      <td>(G)</td>\n",
       "      <td>DLQTLALEVA</td>\n",
       "      <td>(-)</td>\n",
       "      <td>65.78</td>\n",
       "      <td>29.0</td>\n",
       "      <td>536.8007</td>\n",
       "      <td>MOUSE</td>\n",
       "      <td>ins1C3</td>\n",
       "    </tr>\n",
       "  </tbody>\n",
       "</table>\n",
       "</div>"
      ],
      "text/plain": [
       "   number               filename  parent_charge  score  \\\n",
       "0       1  NOD2_E3.13446.13477.2              2  10.10   \n",
       "1       2  NOD2_E3.18005.18246.2              2  12.84   \n",
       "\n",
       "   deltaForwardReverseScore  deltaRank1Rank2Score  \\\n",
       "0                     10.10                  9.91   \n",
       "1                     11.07                 12.84   \n",
       "\n",
       "   percent_scored_peak_intensity  totalIntensity previous_aa    sequence  \\\n",
       "0                           84.5        183000.0         (E)   DPQVEQLEL   \n",
       "1                           97.8      40000000.0         (G)  DLQTLALEVA   \n",
       "\n",
       "  next_aa  retentionTimeMin  chromatographicPeakWidthSec  parent_m_over_z  \\\n",
       "0     (-)             48.35                         26.0         535.7725   \n",
       "1     (-)             65.78                         29.0         536.8007   \n",
       "\n",
       "  species entry_name  \n",
       "0   MOUSE    ins1C18  \n",
       "1   MOUSE     ins1C3  "
      ]
     },
     "execution_count": 7,
     "metadata": {},
     "output_type": "execute_result"
    }
   ],
   "source": [
    "specmil_results.head(2)"
   ]
  },
  {
   "cell_type": "code",
   "execution_count": 23,
   "metadata": {},
   "outputs": [],
   "source": [
    "cometonly = []\n",
    "both = []\n",
    "\n",
    "cpeps = list(set(comet_results['ions_total']))\n",
    "speps = list(set(specmil_results['sequence']))\n",
    "\n",
    "while len(cpeps):\n",
    "    if cpeps[0] in speps:\n",
    "        speps.remove(cpeps[0])\n",
    "        both.append(cpeps.pop(0))        \n",
    "        \n",
    "    else:\n",
    "        cometonly.append(cpeps.pop(0))\n",
    "    "
   ]
  },
  {
   "cell_type": "code",
   "execution_count": 24,
   "metadata": {},
   "outputs": [
    {
     "name": "stdout",
     "output_type": "stream",
     "text": [
      "864\n"
     ]
    }
   ],
   "source": [
    "print(len(both))\n"
   ]
  },
  {
   "cell_type": "code",
   "execution_count": 25,
   "metadata": {},
   "outputs": [
    {
     "name": "stdout",
     "output_type": "stream",
     "text": [
      "81\n"
     ]
    }
   ],
   "source": [
    "print(len(speps))"
   ]
  },
  {
   "cell_type": "code",
   "execution_count": 26,
   "metadata": {},
   "outputs": [
    {
     "name": "stdout",
     "output_type": "stream",
     "text": [
      "7404\n",
      "10854\n"
     ]
    }
   ],
   "source": [
    "print(len(cometonly))\n",
    "print(len(comet_results))"
   ]
  },
  {
   "cell_type": "code",
   "execution_count": 27,
   "metadata": {},
   "outputs": [],
   "source": [
    "from matplotlib_venn import venn2, venn2_circles, venn2_unweighted\n",
    "from matplotlib_venn import venn3, venn3_circles\n",
    "from matplotlib import pyplot as plt"
   ]
  },
  {
   "cell_type": "code",
   "execution_count": 28,
   "metadata": {},
   "outputs": [
    {
     "data": {
      "text/plain": [
       "<matplotlib_venn._common.VennDiagram at 0x7fe6b5ea9150>"
      ]
     },
     "execution_count": 28,
     "metadata": {},
     "output_type": "execute_result"
    },
    {
     "data": {
      "image/png": "[encoded data removed]",
      "text/plain": [
       "<Figure size 432x288 with 1 Axes>"
      ]
     },
     "metadata": {},
     "output_type": "display_data"
    }
   ],
   "source": [
    "venn2(subsets = (len(cometonly), len(speps), len(both)), set_labels=('Comet', 'SpectrumMill'))\n"
   ]
  },
  {
   "cell_type": "code",
   "execution_count": 29,
   "metadata": {},
   "outputs": [
    {
     "data": {
      "text/plain": [
       "Text(0.5, 1.0, 'delta_cn dist of all scores')"
      ]
     },
     "execution_count": 29,
     "metadata": {},
     "output_type": "execute_result"
    },
    {
     "data": {
      "image/png": "[encoded data removed]",
      "text/plain": [
       "<Figure size 432x288 with 1 Axes>"
      ]
     },
     "metadata": {
      "needs_background": "light"
     },
     "output_type": "display_data"
    }
   ],
   "source": [
    "plt.hist(comet_results['delta_cn'], bins=100)\n",
    "plt.title('delta_cn dist of all scores')"
   ]
  },
  {
   "cell_type": "code",
   "execution_count": 30,
   "metadata": {},
   "outputs": [
    {
     "data": {
      "text/plain": [
       "Text(0.5, 1.0, 'sp_score dist of all scores')"
      ]
     },
     "execution_count": 30,
     "metadata": {},
     "output_type": "execute_result"
    },
    {
     "data": {
      "image/png": "[encoded data removed]",
      "text/plain": [
       "<Figure size 432x288 with 1 Axes>"
      ]
     },
     "metadata": {
      "needs_background": "light"
     },
     "output_type": "display_data"
    }
   ],
   "source": [
    "plt.hist(comet_results['sp_score'], bins=30)\n",
    "plt.title('sp_score dist of all scores')"
   ]
  },
  {
   "cell_type": "code",
   "execution_count": 31,
   "metadata": {},
   "outputs": [
    {
     "data": {
      "text/plain": [
       "Text(0.5, 1.0, 'xcorr dist for all scores')"
      ]
     },
     "execution_count": 31,
     "metadata": {},
     "output_type": "execute_result"
    },
    {
     "data": {
      "image/png": "[encoded data removed]",
      "text/plain": [
       "<Figure size 432x288 with 1 Axes>"
      ]
     },
     "metadata": {
      "needs_background": "light"
     },
     "output_type": "display_data"
    }
   ],
   "source": [
    "plt.hist(comet_results['xcorr'], bins=100)\n",
    "plt.title('xcorr dist for all scores')"
   ]
  },
  {
   "cell_type": "code",
   "execution_count": 32,
   "metadata": {},
   "outputs": [],
   "source": [
    "# get the subset of scores that overlapped with spectrum mill\n",
    "overlapped = comet_results.loc[comet_results['ions_total'].isin(both)]"
   ]
  },
  {
   "cell_type": "code",
   "execution_count": 33,
   "metadata": {},
   "outputs": [
    {
     "data": {
      "text/plain": [
       "Text(0.5, 1.0, 'delta_cn score of results found in both')"
      ]
     },
     "execution_count": 33,
     "metadata": {},
     "output_type": "execute_result"
    },
    {
     "data": {
      "image/png": "[encoded data removed]",
      "text/plain": [
       "<Figure size 432x288 with 1 Axes>"
      ]
     },
     "metadata": {
      "needs_background": "light"
     },
     "output_type": "display_data"
    }
   ],
   "source": [
    "plt.hist(overlapped['delta_cn'], bins = 100, color='r')\n",
    "plt.title('delta_cn score of results found in both')"
   ]
  },
  {
   "cell_type": "code",
   "execution_count": 34,
   "metadata": {},
   "outputs": [
    {
     "data": {
      "text/plain": [
       "Text(0.5, 1.0, 'sp_score score of results found in both')"
      ]
     },
     "execution_count": 34,
     "metadata": {},
     "output_type": "execute_result"
    },
    {
     "data": {
      "image/png": "[encoded data removed]",
      "text/plain": [
       "<Figure size 432x288 with 1 Axes>"
      ]
     },
     "metadata": {
      "needs_background": "light"
     },
     "output_type": "display_data"
    }
   ],
   "source": [
    "plt.hist(overlapped['sp_score'], bins = 30, color='r')\n",
    "plt.title('sp_score score of results found in both')"
   ]
  },
  {
   "cell_type": "code",
   "execution_count": 36,
   "metadata": {},
   "outputs": [
    {
     "data": {
      "text/plain": [
       "Text(0.5, 1.0, 'xcorr score of results found in both')"
      ]
     },
     "execution_count": 36,
     "metadata": {},
     "output_type": "execute_result"
    },
    {
     "data": {
      "image/png": "[encoded data removed]",
      "text/plain": [
       "<Figure size 432x288 with 1 Axes>"
      ]
     },
     "metadata": {
      "needs_background": "light"
     },
     "output_type": "display_data"
    }
   ],
   "source": [
    "plt.hist(overlapped['xcorr'], bins=100, color='r')\n",
    "plt.title('xcorr score of results found in both')"
   ]
  },
  {
   "cell_type": "code",
   "execution_count": null,
   "metadata": {},
   "outputs": [],
   "source": []
  }
 ],
 "metadata": {
  "kernelspec": {
   "display_name": "Python 3",
   "language": "python",
   "name": "python3"
  },
  "language_info": {
   "codemirror_mode": {
    "name": "ipython",
    "version": 3
   },
   "file_extension": ".py",
   "mimetype": "text/x-python",
   "name": "python",
   "nbconvert_exporter": "python",
   "pygments_lexer": "ipython3",
   "version": "3.7.4"
  }
 },
 "nbformat": 4,
 "nbformat_minor": 4
}

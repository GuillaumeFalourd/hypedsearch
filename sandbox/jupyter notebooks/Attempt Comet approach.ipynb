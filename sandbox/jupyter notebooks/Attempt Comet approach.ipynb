{
 "cells": [
  {
   "cell_type": "markdown",
   "metadata": {},
   "source": [
    "# Try the comet approach\n",
    "Comet is fast and goes through each protein every single time and computes a fast xcorr score. We should try and do the same. "
   ]
  },
  {
   "cell_type": "code",
   "execution_count": 1,
   "metadata": {},
   "outputs": [],
   "source": [
    "import os\n",
    "import sys\n",
    "module_path = os.path.abspath(os.path.join('..'))\n",
    "if module_path not in sys.path:\n",
    "    sys.path.append(module_path)\n",
    "module_path = os.path.abspath(os.path.join('../..'))\n",
    "if module_path not in sys.path:\n",
    "    sys.path.append(module_path)\n",
    "    \n",
    "import numpy as np\n",
    "\n",
    "from src.spectra.gen_spectra import gen_spectrum\n",
    "from src.file_io import mzML\n",
    "from src.utils import insort_by_index\n",
    "from pyteomics import fasta"
   ]
  },
  {
   "cell_type": "code",
   "execution_count": 2,
   "metadata": {},
   "outputs": [],
   "source": [
    "def xcorr(observed: np.ndarray, reference: np.ndarray, value=50) -> float:\n",
    "    '''\n",
    "    An xcorr scoring algorithm \n",
    "    \n",
    "    Formula: dot(reference, y'), y' = observed - (sum(-75, 75)observed[i]/150)\n",
    "    \n",
    "    Inputs should be sparsely populated np arrays. Indexing should observe the formula\n",
    "    \n",
    "    idx = int(m/w), m is mass, w is bin width (aka tolerance)\n",
    "    \n",
    "    Inputs:\n",
    "        observed:    (np.ndarray) list of peaks normalized to value\n",
    "        reference:   (np.ndarray) list of peaks normalized to value\n",
    "    kwargs: \n",
    "        value:       (number) value given to the normalized peaks. Default=50\n",
    "    Outputs:\n",
    "        (float) the score of the formula shown above\n",
    "    '''\n",
    "    def sum_term(i):\n",
    "        min_idx = max(0, i-75)\n",
    "        max_idx = min(len(observed) - 1, i + 75)\n",
    "        return np.sum(observed[min_idx:max_idx])/(max_idx - min_idx)\n",
    "\n",
    "    # calculate the y prime term \n",
    "    y_prime = np.asarray([observed[i] - sum_term(i) for i in range(len(observed))])\n",
    "        \n",
    "    # fill y prime or reference to be the same size. fill with zeros\n",
    "    if len(y_prime) < len(reference):\n",
    "        y_prime = np.concatenate((y_prime, [0 for _ in range(len(reference) - len(y_prime))]))\n",
    "    else:\n",
    "        reference = np.concatenate((reference, [0 for _ in range(len(y_prime) - len(reference))]))\n",
    "        \n",
    "    return np.dot(reference, y_prime)/(sum(reference)*value)"
   ]
  },
  {
   "cell_type": "code",
   "execution_count": 3,
   "metadata": {},
   "outputs": [],
   "source": [
    "def make_sparse_array(spectrum: list, width: float, value=50) -> np.ndarray:\n",
    "    '''\n",
    "    Make a spectrum (a list of floats) into a sparsely populated array for xcorr \n",
    "    calculation. Indices are calculated by\n",
    "    \n",
    "    idx = int(m/w), m is mass, w is bin width\n",
    "    \n",
    "    width is the tolerance in Da to allow when calculating scores. All peaks with some value\n",
    "    are given a new value of 50.\n",
    "    \n",
    "    Inputs:\n",
    "        spectrum:   (list) float mass values of peaks\n",
    "        width:      (float) mass tolerance to accept to make bin width\n",
    "    kwargs:\n",
    "        value:      (number) value to give peaks at the new index. Default=50\n",
    "    Outputs:\n",
    "        (np.ndarray) sparesly populated list\n",
    "    '''\n",
    "    # find the largest mass and make that the length of the array\n",
    "    list_size = int(max(spectrum)//width) + 1\n",
    "    \n",
    "    sparse = np.zeros(list_size)\n",
    "    \n",
    "    \n",
    "    # populate sparse at the index for each mass\n",
    "    for m in spectrum:\n",
    "        sparse[int(m // width)] = 50\n",
    "\n",
    "    return sparse"
   ]
  },
  {
   "cell_type": "markdown",
   "metadata": {},
   "source": [
    "# Use these tools to search"
   ]
  },
  {
   "cell_type": "code",
   "execution_count": 6,
   "metadata": {},
   "outputs": [],
   "source": [
    "spectra_file = '../data/testing_output/cis_spliced/realisticCisSplicedSpectra.mzML'\n",
    "fasta_file = '../../testing framework/data/databases/100prots.fasta'\n",
    "\n",
    "prot_iterator = fasta.read(fasta_file)\n",
    "spectra_iterator = mzML.read(spectra_file)\n",
    "\n",
    "proteins = [x for x in prot_iterator]\n"
   ]
  },
  {
   "cell_type": "code",
   "execution_count": 7,
   "metadata": {},
   "outputs": [
    {
     "name": "stdout",
     "output_type": "stream",
     "text": [
      "On spectrum 1/125\n",
      "on kmer 0/100\r"
     ]
    },
    {
     "ename": "KeyboardInterrupt",
     "evalue": "",
     "output_type": "error",
     "traceback": [
      "\u001b[0;31m---------------------------------------------------------------------------\u001b[0m",
      "\u001b[0;31mKeyboardInterrupt\u001b[0m                         Traceback (most recent call last)",
      "\u001b[0;32m<ipython-input-7-7815615c29f7>\u001b[0m in \u001b[0;36m<module>\u001b[0;34m\u001b[0m\n\u001b[1;32m     24\u001b[0m \u001b[0;34m\u001b[0m\u001b[0m\n\u001b[1;32m     25\u001b[0m             \u001b[0;31m# score and insert\u001b[0m\u001b[0;34m\u001b[0m\u001b[0;34m\u001b[0m\u001b[0;34m\u001b[0m\u001b[0m\n\u001b[0;32m---> 26\u001b[0;31m             \u001b[0mb_xcorr\u001b[0m \u001b[0;34m=\u001b[0m \u001b[0mxcorr\u001b[0m\u001b[0;34m(\u001b[0m\u001b[0msparse_spectrum\u001b[0m\u001b[0;34m,\u001b[0m \u001b[0mb_sparse_ref\u001b[0m\u001b[0;34m)\u001b[0m\u001b[0;34m\u001b[0m\u001b[0;34m\u001b[0m\u001b[0m\n\u001b[0m\u001b[1;32m     27\u001b[0m             \u001b[0my_xcorr\u001b[0m \u001b[0;34m=\u001b[0m \u001b[0mxcorr\u001b[0m\u001b[0;34m(\u001b[0m\u001b[0msparse_spectrum\u001b[0m\u001b[0;34m,\u001b[0m \u001b[0my_sparse_ref\u001b[0m\u001b[0;34m)\u001b[0m\u001b[0;34m\u001b[0m\u001b[0;34m\u001b[0m\u001b[0m\n\u001b[1;32m     28\u001b[0m \u001b[0;34m\u001b[0m\u001b[0m\n",
      "\u001b[0;32m<ipython-input-2-639cd3b56fff>\u001b[0m in \u001b[0;36mxcorr\u001b[0;34m(observed, reference, value)\u001b[0m\n\u001b[1;32m     23\u001b[0m \u001b[0;34m\u001b[0m\u001b[0m\n\u001b[1;32m     24\u001b[0m     \u001b[0;31m# calculate the y prime term\u001b[0m\u001b[0;34m\u001b[0m\u001b[0;34m\u001b[0m\u001b[0;34m\u001b[0m\u001b[0m\n\u001b[0;32m---> 25\u001b[0;31m     \u001b[0my_prime\u001b[0m \u001b[0;34m=\u001b[0m \u001b[0mnp\u001b[0m\u001b[0;34m.\u001b[0m\u001b[0masarray\u001b[0m\u001b[0;34m(\u001b[0m\u001b[0;34m[\u001b[0m\u001b[0mobserved\u001b[0m\u001b[0;34m[\u001b[0m\u001b[0mi\u001b[0m\u001b[0;34m]\u001b[0m \u001b[0;34m-\u001b[0m \u001b[0msum_term\u001b[0m\u001b[0;34m(\u001b[0m\u001b[0mi\u001b[0m\u001b[0;34m)\u001b[0m \u001b[0;32mfor\u001b[0m \u001b[0mi\u001b[0m \u001b[0;32min\u001b[0m \u001b[0mrange\u001b[0m\u001b[0;34m(\u001b[0m\u001b[0mlen\u001b[0m\u001b[0;34m(\u001b[0m\u001b[0mobserved\u001b[0m\u001b[0;34m)\u001b[0m\u001b[0;34m)\u001b[0m\u001b[0;34m]\u001b[0m\u001b[0;34m)\u001b[0m\u001b[0;34m\u001b[0m\u001b[0;34m\u001b[0m\u001b[0m\n\u001b[0m\u001b[1;32m     26\u001b[0m \u001b[0;34m\u001b[0m\u001b[0m\n\u001b[1;32m     27\u001b[0m     \u001b[0;31m# fill y prime or reference to be the same size. fill with zeros\u001b[0m\u001b[0;34m\u001b[0m\u001b[0;34m\u001b[0m\u001b[0;34m\u001b[0m\u001b[0m\n",
      "\u001b[0;32m<ipython-input-2-639cd3b56fff>\u001b[0m in \u001b[0;36m<listcomp>\u001b[0;34m(.0)\u001b[0m\n\u001b[1;32m     23\u001b[0m \u001b[0;34m\u001b[0m\u001b[0m\n\u001b[1;32m     24\u001b[0m     \u001b[0;31m# calculate the y prime term\u001b[0m\u001b[0;34m\u001b[0m\u001b[0;34m\u001b[0m\u001b[0;34m\u001b[0m\u001b[0m\n\u001b[0;32m---> 25\u001b[0;31m     \u001b[0my_prime\u001b[0m \u001b[0;34m=\u001b[0m \u001b[0mnp\u001b[0m\u001b[0;34m.\u001b[0m\u001b[0masarray\u001b[0m\u001b[0;34m(\u001b[0m\u001b[0;34m[\u001b[0m\u001b[0mobserved\u001b[0m\u001b[0;34m[\u001b[0m\u001b[0mi\u001b[0m\u001b[0;34m]\u001b[0m \u001b[0;34m-\u001b[0m \u001b[0msum_term\u001b[0m\u001b[0;34m(\u001b[0m\u001b[0mi\u001b[0m\u001b[0;34m)\u001b[0m \u001b[0;32mfor\u001b[0m \u001b[0mi\u001b[0m \u001b[0;32min\u001b[0m \u001b[0mrange\u001b[0m\u001b[0;34m(\u001b[0m\u001b[0mlen\u001b[0m\u001b[0;34m(\u001b[0m\u001b[0mobserved\u001b[0m\u001b[0;34m)\u001b[0m\u001b[0;34m)\u001b[0m\u001b[0;34m]\u001b[0m\u001b[0;34m)\u001b[0m\u001b[0;34m\u001b[0m\u001b[0;34m\u001b[0m\u001b[0m\n\u001b[0m\u001b[1;32m     26\u001b[0m \u001b[0;34m\u001b[0m\u001b[0m\n\u001b[1;32m     27\u001b[0m     \u001b[0;31m# fill y prime or reference to be the same size. fill with zeros\u001b[0m\u001b[0;34m\u001b[0m\u001b[0;34m\u001b[0m\u001b[0;34m\u001b[0m\u001b[0m\n",
      "\u001b[0;32m<ipython-input-2-639cd3b56fff>\u001b[0m in \u001b[0;36msum_term\u001b[0;34m(i)\u001b[0m\n\u001b[1;32m     20\u001b[0m         \u001b[0mmin_idx\u001b[0m \u001b[0;34m=\u001b[0m \u001b[0mmax\u001b[0m\u001b[0;34m(\u001b[0m\u001b[0;36m0\u001b[0m\u001b[0;34m,\u001b[0m \u001b[0mi\u001b[0m\u001b[0;34m-\u001b[0m\u001b[0;36m75\u001b[0m\u001b[0;34m)\u001b[0m\u001b[0;34m\u001b[0m\u001b[0;34m\u001b[0m\u001b[0m\n\u001b[1;32m     21\u001b[0m         \u001b[0mmax_idx\u001b[0m \u001b[0;34m=\u001b[0m \u001b[0mmin\u001b[0m\u001b[0;34m(\u001b[0m\u001b[0mlen\u001b[0m\u001b[0;34m(\u001b[0m\u001b[0mobserved\u001b[0m\u001b[0;34m)\u001b[0m \u001b[0;34m-\u001b[0m \u001b[0;36m1\u001b[0m\u001b[0;34m,\u001b[0m \u001b[0mi\u001b[0m \u001b[0;34m+\u001b[0m \u001b[0;36m75\u001b[0m\u001b[0;34m)\u001b[0m\u001b[0;34m\u001b[0m\u001b[0;34m\u001b[0m\u001b[0m\n\u001b[0;32m---> 22\u001b[0;31m         \u001b[0;32mreturn\u001b[0m \u001b[0mnp\u001b[0m\u001b[0;34m.\u001b[0m\u001b[0msum\u001b[0m\u001b[0;34m(\u001b[0m\u001b[0mobserved\u001b[0m\u001b[0;34m[\u001b[0m\u001b[0mmin_idx\u001b[0m\u001b[0;34m:\u001b[0m\u001b[0mmax_idx\u001b[0m\u001b[0;34m]\u001b[0m\u001b[0;34m)\u001b[0m\u001b[0;34m/\u001b[0m\u001b[0;34m(\u001b[0m\u001b[0mmax_idx\u001b[0m \u001b[0;34m-\u001b[0m \u001b[0mmin_idx\u001b[0m\u001b[0;34m)\u001b[0m\u001b[0;34m\u001b[0m\u001b[0;34m\u001b[0m\u001b[0m\n\u001b[0m\u001b[1;32m     23\u001b[0m \u001b[0;34m\u001b[0m\u001b[0m\n\u001b[1;32m     24\u001b[0m     \u001b[0;31m# calculate the y prime term\u001b[0m\u001b[0;34m\u001b[0m\u001b[0;34m\u001b[0m\u001b[0;34m\u001b[0m\u001b[0m\n",
      "\u001b[0;32m<__array_function__ internals>\u001b[0m in \u001b[0;36msum\u001b[0;34m(*args, **kwargs)\u001b[0m\n",
      "\u001b[0;32m/Library/Frameworks/Python.framework/Versions/3.7/lib/python3.7/site-packages/numpy/core/fromnumeric.py\u001b[0m in \u001b[0;36msum\u001b[0;34m(a, axis, dtype, out, keepdims, initial, where)\u001b[0m\n\u001b[1;32m   2180\u001b[0m \u001b[0;34m\u001b[0m\u001b[0m\n\u001b[1;32m   2181\u001b[0m     return _wrapreduction(a, np.add, 'sum', axis, dtype, out, keepdims=keepdims,\n\u001b[0;32m-> 2182\u001b[0;31m                           initial=initial, where=where)\n\u001b[0m\u001b[1;32m   2183\u001b[0m \u001b[0;34m\u001b[0m\u001b[0m\n\u001b[1;32m   2184\u001b[0m \u001b[0;34m\u001b[0m\u001b[0m\n",
      "\u001b[0;32m/Library/Frameworks/Python.framework/Versions/3.7/lib/python3.7/site-packages/numpy/core/fromnumeric.py\u001b[0m in \u001b[0;36m_wrapreduction\u001b[0;34m(obj, ufunc, method, axis, dtype, out, **kwargs)\u001b[0m\n\u001b[1;32m     75\u001b[0m                   if v is not np._NoValue}\n\u001b[1;32m     76\u001b[0m \u001b[0;34m\u001b[0m\u001b[0m\n\u001b[0;32m---> 77\u001b[0;31m     \u001b[0;32mif\u001b[0m \u001b[0mtype\u001b[0m\u001b[0;34m(\u001b[0m\u001b[0mobj\u001b[0m\u001b[0;34m)\u001b[0m \u001b[0;32mis\u001b[0m \u001b[0;32mnot\u001b[0m \u001b[0mmu\u001b[0m\u001b[0;34m.\u001b[0m\u001b[0mndarray\u001b[0m\u001b[0;34m:\u001b[0m\u001b[0;34m\u001b[0m\u001b[0;34m\u001b[0m\u001b[0m\n\u001b[0m\u001b[1;32m     78\u001b[0m         \u001b[0;32mtry\u001b[0m\u001b[0;34m:\u001b[0m\u001b[0;34m\u001b[0m\u001b[0;34m\u001b[0m\u001b[0m\n\u001b[1;32m     79\u001b[0m             \u001b[0mreduction\u001b[0m \u001b[0;34m=\u001b[0m \u001b[0mgetattr\u001b[0m\u001b[0;34m(\u001b[0m\u001b[0mobj\u001b[0m\u001b[0;34m,\u001b[0m \u001b[0mmethod\u001b[0m\u001b[0;34m)\u001b[0m\u001b[0;34m\u001b[0m\u001b[0;34m\u001b[0m\u001b[0m\n",
      "\u001b[0;31mKeyboardInterrupt\u001b[0m: "
     ]
    }
   ],
   "source": [
    "num_spec = len(spectra_iterator)\n",
    "tol = 0.02\n",
    "\n",
    "for i, spectrum in enumerate(spectra_iterator):\n",
    "    print(f'On spectrum {i+1}/{num_spec}')\n",
    "    \n",
    "    sparse_spectrum = make_sparse_array(spectrum.spectrum, tol)\n",
    "    \n",
    "    best_b_matches = []\n",
    "    best_y_matches = []\n",
    "    \n",
    "    \n",
    "    for j, prot in enumerate(proteins):\n",
    "        print(f'on kmer {j}/{100}\\r', end='')\n",
    "        \n",
    "        # go through the seqeunce and extend\n",
    "        for i in range(len(prot.sequence) - 2):\n",
    "            kmer_len = 20 if len(prot.sequence) < i + 20 else len(prot.sequence) - i\n",
    "            kmer = prot.sequence[i:i+kmer_len]\n",
    "            \n",
    "            # make the b and y sparse spectra\n",
    "            b_sparse_ref = make_sparse_array(gen_spectrum(kmer, ion='b')['spectrum'], tol)\n",
    "            y_sparse_ref = make_sparse_array(gen_spectrum(kmer, ion='y')['spectrum'], tol)\n",
    "            \n",
    "            # score and insert\n",
    "            b_xcorr = xcorr(sparse_spectrum, b_sparse_ref)\n",
    "            y_xcorr = xcorr(sparse_spectrum, y_sparse_ref)\n",
    "            \n",
    "            best_b_matches = insort_by_index((b_xcorr, kmer), best_b_matches, 0)\n",
    "            best_y_matches = insort_by_index((y_xcorr, kmer), best_y_matches, 0)\n",
    "    "
   ]
  },
  {
   "cell_type": "code",
   "execution_count": null,
   "metadata": {},
   "outputs": [],
   "source": []
  }
 ],
 "metadata": {
  "kernelspec": {
   "display_name": "Python 3",
   "language": "python",
   "name": "python3"
  },
  "language_info": {
   "codemirror_mode": {
    "name": "ipython",
    "version": 3
   },
   "file_extension": ".py",
   "mimetype": "text/x-python",
   "name": "python",
   "nbconvert_exporter": "python",
   "pygments_lexer": "ipython3",
   "version": "3.7.4"
  }
 },
 "nbformat": 4,
 "nbformat_minor": 4
}

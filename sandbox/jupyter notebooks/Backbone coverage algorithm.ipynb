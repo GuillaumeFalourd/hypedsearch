{
 "cells": [
  {
   "cell_type": "markdown",
   "metadata": {},
   "source": [
    "# Backbone coverage algorithm\n",
    "\n",
    "The current scoring algorithm just tries to find as many matching ions as possible in one spectrum as in another instead of trying to identify amino acids by their backbone. Instead, lets make an algorithm that scores a spectrum by its backbone coverage of a theoretical spectrum."
   ]
  },
  {
   "cell_type": "code",
   "execution_count": 2,
   "metadata": {},
   "outputs": [],
   "source": [
    "import os\n",
    "import sys\n",
    "module_path = os.path.abspath(os.path.join('..'))\n",
    "if module_path not in sys.path:\n",
    "    sys.path.append(module_path)\n",
    "module_path = os.path.abspath(os.path.join('../..'))\n",
    "if module_path not in sys.path:\n",
    "    sys.path.append(module_path)\n",
    "    \n",
    "from src.objects import Spectrum\n",
    "from src.spectra.gen_spectra import gen_spectrum\n",
    "from src.utils import ppm_to_da"
   ]
  },
  {
   "cell_type": "code",
   "execution_count": 15,
   "metadata": {},
   "outputs": [],
   "source": [
    "def backbone_scoring_alg(observed: Spectrum, reference: str, ppm_tolerance: int) -> float:\n",
    "    '''\n",
    "    Scoring algorithm based on backbone coverage of the reference. The scoring algorithm \n",
    "    returns a number between 0 and 100 + 3*(len(reference)-1). The calculation of the score is as follows:\n",
    "    \n",
    "        1. A percentage is given for the number of bond sites successfully identified\n",
    "        2. For each bond site that has > 1 ion that describes it, an extra point is awarded. \n",
    "        \n",
    "    Example:\n",
    "        reference:   ABCDE, 4 junctions to describe\n",
    "        observed:    ions: b1+, y1++, y2+, b4+\n",
    "        \n",
    "        ions for A, E, DE, ABCD found. Coverage = A**DE with DE described by both E and ABCD\n",
    "        \n",
    "        Score = %(3/4) + 1 = 75 + 1 = 76 \n",
    "        \n",
    "    Inputs:\n",
    "        observed:       (Spectrum) spectrum being scored against\n",
    "        reference:      (str) reference amino acid sequence being scored against the spectrum\n",
    "        ppm_tolerance:  (int) tolerance to allow in ppm for each peak\n",
    "    '''\n",
    "    jcount = [0 for _ in range(len(reference)-1)]\n",
    "    \n",
    "    for ion in ['b', 'y']:\n",
    "        for charge in [1, 2]:\n",
    "            singled_seq = reference[:-1] if ion == 'b' else reference[1:]\n",
    "            peaks = gen_spectrum(singled_seq, charge=charge, ion=ion)['spectrum']\n",
    "            peaks = peaks if ion == 'b' else peaks[::-1]\n",
    "            for i in range(len(peaks)):\n",
    "                da_tol = ppm_to_da(peaks[i], ppm_tolerance)\n",
    "                if any([peaks[i] - da_tol <= obs_peak <= peaks[i] + da_tol for obs_peak in observed.spectrum]):\n",
    "                    jcount[i] += 1\n",
    "    \n",
    "    jcoverage = int(100 * sum([1 if jc > 0 else 0 for jc in jcount]) / len(jcount))\n",
    "    extrapoints = sum([jc - 1 if jc > 1 else 0 for jc in jcount])\n",
    "    \n",
    "    return jcoverage + extrapoints\n",
    "    "
   ]
  },
  {
   "cell_type": "markdown",
   "metadata": {},
   "source": [
    "## Test it"
   ]
  },
  {
   "cell_type": "markdown",
   "metadata": {},
   "source": [
    "### Situation 1: full coverage of 1 ion type"
   ]
  },
  {
   "cell_type": "code",
   "execution_count": 16,
   "metadata": {},
   "outputs": [
    {
     "name": "stdout",
     "output_type": "stream",
     "text": [
      "100\n"
     ]
    }
   ],
   "source": [
    "seq = 'MALWARM'\n",
    "bs = gen_spectrum(seq, ion='b', charge=1)['spectrum']\n",
    "print(backbone_scoring_alg(Spectrum(bs), seq, 10))\n"
   ]
  },
  {
   "cell_type": "markdown",
   "metadata": {},
   "source": [
    "### Situation 2: full coverage by 2 ion types"
   ]
  },
  {
   "cell_type": "code",
   "execution_count": 18,
   "metadata": {},
   "outputs": [
    {
     "name": "stdout",
     "output_type": "stream",
     "text": [
      "100\n"
     ]
    }
   ],
   "source": [
    "seq = 'MALWARM'\n",
    "bs = gen_spectrum(seq[:4], ion='b', charge=1)['spectrum']\n",
    "ys = gen_spectrum(seq[5:], ion='y', charge=1)['spectrum']\n",
    "print(backbone_scoring_alg(Spectrum(bs + ys), seq, 10))\n"
   ]
  },
  {
   "cell_type": "markdown",
   "metadata": {},
   "source": [
    "### Situation 3: Partial coverage by 1 ion type"
   ]
  },
  {
   "cell_type": "code",
   "execution_count": 19,
   "metadata": {},
   "outputs": [
    {
     "name": "stdout",
     "output_type": "stream",
     "text": [
      "66\n"
     ]
    }
   ],
   "source": [
    "seq = 'MALWARM'\n",
    "bs = gen_spectrum(seq[:4], ion='b', charge=1)['spectrum']\n",
    "print(backbone_scoring_alg(Spectrum(bs), seq, 10))\n"
   ]
  },
  {
   "cell_type": "markdown",
   "metadata": {},
   "source": [
    "### Situation 4: Partial coverage by 2 ion types"
   ]
  },
  {
   "cell_type": "code",
   "execution_count": 20,
   "metadata": {},
   "outputs": [
    {
     "name": "stdout",
     "output_type": "stream",
     "text": [
      "66\n"
     ]
    }
   ],
   "source": [
    "seq = 'MALWARM'\n",
    "bs = gen_spectrum(seq[:2], ion='b', charge=1)['spectrum']\n",
    "ys = gen_spectrum(seq[5:], ion='y', charge=1)['spectrum']\n",
    "print(backbone_scoring_alg(Spectrum(bs + ys), seq, 10))\n"
   ]
  },
  {
   "cell_type": "markdown",
   "metadata": {},
   "source": [
    "### Situation 5: Overlapping coverage of 2 ion types"
   ]
  },
  {
   "cell_type": "code",
   "execution_count": 21,
   "metadata": {},
   "outputs": [
    {
     "name": "stdout",
     "output_type": "stream",
     "text": [
      "106\n"
     ]
    }
   ],
   "source": [
    "seq = 'MALWARM'\n",
    "bs = gen_spectrum(seq, ion='b', charge=1)['spectrum']\n",
    "ys = gen_spectrum(seq, ion='y', charge=1)['spectrum']\n",
    "print(backbone_scoring_alg(Spectrum(bs + ys), seq, 10))\n"
   ]
  },
  {
   "cell_type": "markdown",
   "metadata": {},
   "source": [
    "### Situation 6: Full coverage by all ions"
   ]
  },
  {
   "cell_type": "code",
   "execution_count": 22,
   "metadata": {},
   "outputs": [
    {
     "name": "stdout",
     "output_type": "stream",
     "text": [
      "118\n"
     ]
    }
   ],
   "source": [
    "seq = 'MALWARM'\n",
    "allspec = gen_spectrum(seq)['spectrum']\n",
    "print(backbone_scoring_alg(Spectrum(allspec), seq, 10))\n"
   ]
  },
  {
   "cell_type": "markdown",
   "metadata": {},
   "source": [
    "### Situation 7: No coverage"
   ]
  },
  {
   "cell_type": "code",
   "execution_count": 23,
   "metadata": {},
   "outputs": [
    {
     "name": "stdout",
     "output_type": "stream",
     "text": [
      "0\n"
     ]
    }
   ],
   "source": [
    "print(backbone_scoring_alg(Spectrum(), seq, 10))"
   ]
  },
  {
   "cell_type": "markdown",
   "metadata": {},
   "source": [
    "# Ion specific backbone coverage scoring algorithm\n",
    "Instead of either JUST blindly looking for ions or JUST looking for backbone coverage, try and find a middleground"
   ]
  },
  {
   "cell_type": "code",
   "execution_count": null,
   "metadata": {},
   "outputs": [],
   "source": [
    "def ion_backbone_score(observed: Spectrum, reference: str, ion: str, ppm_tolerance: int) -> float:\n",
    "    '''\n",
    "    Scoring algorithm based on backbone coverage of the reference. The scoring algorithm \n",
    "    returns a number between 0 and 100 + 3*(len(reference)-1). The calculation of the score is as follows:\n",
    "    \n",
    "        1. A percentage is given for the number of bond sites successfully identified\n",
    "        2. For each bond site that has > 1 ion that describes it, an extra point is awarded. \n",
    "        \n",
    "    Example:\n",
    "        reference:   ABCDE, 4 junctions to describe\n",
    "        observed:    ions: b1+, y1++, y2+, b4+\n",
    "        \n",
    "        ions for A, E, DE, ABCD found. Coverage = A**DE with DE described by both E and ABCD\n",
    "        \n",
    "        Score = %(3/4) + 1 = 75 + 1 = 76 \n",
    "        \n",
    "    Inputs:\n",
    "        observed:       (Spectrum) spectrum being scored against\n",
    "        reference:      (str) reference amino acid sequence being scored against the spectrum\n",
    "        ion:            (str) the ion type to focus on. Options are 'b' or 'y'\n",
    "        ppm_tolerance:  (int) tolerance to allow in ppm for each peak\n",
    "    '''\n",
    "    jcount = [0 for _ in range(len(reference)-1)]\n",
    "    \n",
    "    for charge in [1, 2]:\n",
    "        singled_seq = reference[:-1] if ion == 'b' else reference[1:]\n",
    "        peaks = gen_spectrum(singled_seq, charge=charge, ion=ion)['spectrum']\n",
    "        peaks = peaks if ion == 'b' else peaks[::-1]\n",
    "        for i in range(len(peaks)):\n",
    "            da_tol = ppm_to_da(peaks[i], ppm_tolerance)\n",
    "            if any([peaks[i] - da_tol <= obs_peak <= peaks[i] + da_tol for obs_peak in observed.spectrum]):\n",
    "                jcount[i] += 1\n",
    "\n",
    "    jcoverage = int(100 * sum([1 if jc > 0 else 0 for jc in jcount]) / len(jcount))\n",
    "    extrapoints = sum([jc - 1 if jc > 1 else 0 for jc in jcount])\n",
    "    \n",
    "    return jcoverage + extrapoints"
   ]
  },
  {
   "cell_type": "code",
   "execution_count": null,
   "metadata": {},
   "outputs": [],
   "source": []
  }
 ],
 "metadata": {
  "kernelspec": {
   "display_name": "Python 3",
   "language": "python",
   "name": "python3"
  },
  "language_info": {
   "codemirror_mode": {
    "name": "ipython",
    "version": 3
   },
   "file_extension": ".py",
   "mimetype": "text/x-python",
   "name": "python",
   "nbconvert_exporter": "python",
   "pygments_lexer": "ipython3",
   "version": "3.7.4"
  }
 },
 "nbformat": 4,
 "nbformat_minor": 4
}

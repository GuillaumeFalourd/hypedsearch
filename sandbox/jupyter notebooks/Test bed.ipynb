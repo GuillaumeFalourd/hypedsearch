{
 "cells": [
  {
   "cell_type": "markdown",
   "metadata": {},
   "source": [
    "# Test Bed\n"
   ]
  },
  {
   "cell_type": "code",
   "execution_count": 1,
   "metadata": {},
   "outputs": [],
   "source": [
    "import os\n",
    "import sys\n",
    "module_path = os.path.abspath(os.path.join('..'))\n",
    "if module_path not in sys.path:\n",
    "    sys.path.append(module_path)\n",
    "module_path = os.path.abspath(os.path.join('../..'))\n",
    "if module_path not in sys.path:\n",
    "    sys.path.append(module_path)\n",
    "    \n",
    "import numpy as np\n",
    "\n",
    "from src.sequence.gen_spectra import gen_spectrum, get_precursor\n",
    "from src.objects import Spectrum\n",
    "from src.utils import insort_by_index, make_sparse_array, ppm_to_da\n",
    "from src.scoring import scoring\n",
    "\n",
    "from src import main\n",
    "\n",
    "from src.params import OUTPUT_DIRECTORY\n",
    "\n",
    "from collections import namedtuple"
   ]
  },
  {
   "cell_type": "code",
   "execution_count": 2,
   "metadata": {},
   "outputs": [
    {
     "name": "stdout",
     "output_type": "stream",
     "text": [
      "Loading database...\n",
      "Done\n",
      "Loading spectra...\n",
      "Done\n",
      "Indexing potential hits...\n",
      "On protein 170/279 [60%]potato\n",
      "potato\n",
      "On protein 279/279 [100%]\n",
      "Done.\n",
      "Creating an alignment for 9/9 [100%]\n",
      "Finished search. Writting results to /Users/zacharymcgrath/Desktop/Experiment output/filtered_NOD2_E3_AUG_26/...\n",
      "Could not make an alignment for 0/9 spectra (0%)\n"
     ]
    }
   ],
   "source": [
    "# run hyped search with the params \n",
    "parameters = namedtuple('parameteres', 'params')\n",
    "main.main(parameters('True'))"
   ]
  },
  {
   "cell_type": "code",
   "execution_count": 3,
   "metadata": {},
   "outputs": [],
   "source": [
    "# load the values\n",
    "import json\n",
    "all_results = json.load(open(OUTPUT_DIRECTORY + 'summary.json', 'r'))"
   ]
  },
  {
   "cell_type": "code",
   "execution_count": 4,
   "metadata": {},
   "outputs": [
    {
     "name": "stdout",
     "output_type": "stream",
     "text": [
      "---------- Alignments for spectrum 0 ----------\n",
      "LLEKNVNQSL \t b score: 1 \t y score: 3\n",
      "DDQESLRPSN \t b score: 0 \t y score: 3\n",
      "DCATTFIKFL \t b score: 0 \t y score: 1\n",
      "---------- Alignments for spectrum 1 ----------\n",
      "DAAIVGYK \t b score: 3 \t y score: 6\n",
      "ADALVGYK \t b score: 3 \t y score: 6\n",
      "ADALVGKY \t b score: 3 \t y score: 5\n",
      "---------- Alignments for spectrum 2 ----------\n",
      "SSLLLELNEIFPETKLDK \t b score: 4 \t y score: 1\n",
      "---------- Alignments for spectrum 3 ----------\n",
      "DPQVEQLEL \t b score: 7 \t y score: 2\n",
      "FVDLTMPYS \t b score: 0 \t y score: 0\n",
      "---------- Alignments for spectrum 4 ----------\n",
      "DLQTLAGDFKAGV \t b score: 4 \t y score: 4\n",
      "DLQTLDEPPPLP \t b score: 3 \t y score: 3\n",
      "KQAEILQESRM \t b score: 0 \t y score: 4\n",
      "---------- Alignments for spectrum 5 ----------\n",
      "DLTEYLSRFGEVV \t b score: 5 \t y score: 5\n",
      "EVTEYLSRFGEVV \t b score: 5 \t y score: 5\n",
      "TDQTERIVEPPEN \t b score: 0 \t y score: 1\n",
      "---------- Alignments for spectrum 6 ----------\n",
      "ELTNLEVE \t b score: 6 \t y score: 2\n",
      "ELTNLEDL \t b score: 6 \t y score: 2\n",
      "ELTNIELL \t b score: 6 \t y score: 1\n",
      "---------- Alignments for spectrum 7 ----------\n",
      "TGSADRTIKIWDLASGKLDAGTSGGPS \t b score: 5 \t y score: 4\n",
      "SSQVVLPAPTGIIHQGVQTDAGTSGGPS \t b score: 4 \t y score: 4\n",
      "---------- Alignments for spectrum 8 ----------\n",
      "EEILKAFKLF \t b score: 6 \t y score: 4\n",
      "LEELFFKLIS \t b score: 5 \t y score: 0\n",
      "YFVAGLLIMLV \t b score: 1 \t y score: 3\n"
     ]
    }
   ],
   "source": [
    "for i, entry in all_results.items():\n",
    "    print(f'---------- Alignments for spectrum {i} ----------')\n",
    "    for a in entry['alignments']:\n",
    "        print(f'{a[\"sequence\"]} \\t b score: {a[\"b_score\"]} \\t y score: {a[\"y_score\"]}')"
   ]
  },
  {
   "cell_type": "code",
   "execution_count": null,
   "metadata": {},
   "outputs": [],
   "source": []
  },
  {
   "cell_type": "code",
   "execution_count": null,
   "metadata": {},
   "outputs": [],
   "source": []
  }
 ],
 "metadata": {
  "kernelspec": {
   "display_name": "Python 3",
   "language": "python",
   "name": "python3"
  },
  "language_info": {
   "codemirror_mode": {
    "name": "ipython",
    "version": 3
   },
   "file_extension": ".py",
   "mimetype": "text/x-python",
   "name": "python",
   "nbconvert_exporter": "python",
   "pygments_lexer": "ipython3",
   "version": "3.7.4"
  }
 },
 "nbformat": 4,
 "nbformat_minor": 4
}

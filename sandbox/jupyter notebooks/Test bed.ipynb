{
 "cells": [
  {
   "cell_type": "markdown",
   "metadata": {},
   "source": [
    "# Test Bed\n"
   ]
  },
  {
   "cell_type": "code",
   "execution_count": 1,
   "metadata": {},
   "outputs": [],
   "source": [
    "import os\n",
    "import sys\n",
    "module_path = os.path.abspath(os.path.join('..'))\n",
    "if module_path not in sys.path:\n",
    "    sys.path.append(module_path)\n",
    "module_path = os.path.abspath(os.path.join('../..'))\n",
    "if module_path not in sys.path:\n",
    "    sys.path.append(module_path)\n",
    "    \n",
    "import numpy as np\n",
    "\n",
    "from src.sequence.gen_spectra import gen_spectrum, get_precursor\n",
    "from src.objects import Spectrum\n",
    "from src.utils import insort_by_index, make_sparse_array, ppm_to_da\n",
    "from src.scoring import scoring\n",
    "\n",
    "from src import main\n",
    "\n",
    "from src.params import OUTPUT_DIRECTORY\n",
    "\n",
    "from collections import namedtuple"
   ]
  },
  {
   "cell_type": "code",
   "execution_count": 2,
   "metadata": {},
   "outputs": [
    {
     "name": "stdout",
     "output_type": "stream",
     "text": [
      "Loading database...\n",
      "Done\n",
      "Loading spectra...\n",
      "Done\n",
      "Indexing potential hits...\n",
      "On protein 279/279 [100%]\n",
      "Done.\n",
      "Creating an alignment for 1/9 [11%]\n",
      "DCATTFIKFL \t total: 1 \t b: 0 \t y: 1 \t hybrid: False\n",
      "CATTFIKFLL \t total: 0 \t b: 0 \t y: 0 \t hybrid: False\n",
      "LPVNSPMTKGD \t total: 0 \t b: 0 \t y: 0 \t hybrid: False\n",
      "Creating an alignment for 2/9 [22%]\n",
      "DAAIVGYK \t total: 10 \t b: 3 \t y: 6 \t hybrid: False\n",
      "SSVPVGYK \t total: 10 \t b: 3 \t y: 4 \t hybrid: True\n",
      "EGALVGYK \t total: 10 \t b: 3 \t y: 6 \t hybrid: True\n",
      "ADALVGYK \t total: 10 \t b: 3 \t y: 6 \t hybrid: True\n",
      "DAALVGYK \t total: 10 \t b: 3 \t y: 6 \t hybrid: True\n",
      "GEALVGYK \t total: 10 \t b: 3 \t y: 6 \t hybrid: True\n",
      "SSPVVGYK \t total: 10 \t b: 3 \t y: 4 \t hybrid: True\n",
      "SSVPTGYK \t total: 10 \t b: 3 \t y: 3 \t hybrid: True\n",
      "SVPSVGYK \t total: 10 \t b: 3 \t y: 4 \t hybrid: True\n",
      "SVSPVGYK \t total: 10 \t b: 3 \t y: 4 \t hybrid: True\n",
      "Creating an alignment for 3/9 [33%]\n",
      "Creating an alignment for 4/9 [44%]\n",
      "DPQVEQLEL \t total: 9 \t b: 6 \t y: 2 \t hybrid: False\n",
      "Creating an alignment for 5/9 [55%]\n",
      "DLQTLALWSRM \t total: 10 \t b: 4 \t y: 8 \t hybrid: True\n",
      "DLQTLWWSRM \t total: 8 \t b: 3 \t y: 3 \t hybrid: True\n",
      "DLQTLALEFGLGG \t total: 7 \t b: 4 \t y: 7 \t hybrid: True\n",
      "DLQTLALGNYVGA \t total: 7 \t b: 4 \t y: 5 \t hybrid: True\n",
      "DLQTLAAVESSSL \t total: 7 \t b: 4 \t y: 7 \t hybrid: True\n",
      "DLGATWAVESSSL \t total: 6 \t b: 3 \t y: 3 \t hybrid: True\n",
      "DLGATLALGIPMY \t total: 6 \t b: 4 \t y: 4 \t hybrid: True\n",
      "DLQTLAWSRMD \t total: 6 \t b: 5 \t y: 0 \t hybrid: True\n",
      "DLQTLALGQIFD \t total: 6 \t b: 4 \t y: 6 \t hybrid: True\n",
      "DLQTLALGIPMY \t total: 6 \t b: 4 \t y: 4 \t hybrid: True\n",
      "Creating an alignment for 6/9 [66%]\n",
      "DLTEYLSRFGEVV \t total: 8 \t b: 5 \t y: 5 \t hybrid: False\n",
      "SLEEYLSRFGEVV \t total: 8 \t b: 5 \t y: 5 \t hybrid: True\n",
      "VTEEYLSRFGEVV \t total: 8 \t b: 5 \t y: 5 \t hybrid: True\n",
      "LDTEYLSRFGEVV \t total: 8 \t b: 5 \t y: 5 \t hybrid: True\n",
      "TVEEYLSRFGEVV \t total: 8 \t b: 5 \t y: 5 \t hybrid: True\n",
      "LSEEYLSRFGEVV \t total: 8 \t b: 5 \t y: 5 \t hybrid: True\n",
      "VETEYLSRFGEVV \t total: 8 \t b: 5 \t y: 5 \t hybrid: True\n",
      "EVTEYLSRFGEVV \t total: 8 \t b: 5 \t y: 5 \t hybrid: True\n",
      "DLTEYLTICKDTL \t total: 6 \t b: 3 \t y: 4 \t hybrid: True\n",
      "VETEYRQYELVV \t total: 6 \t b: 4 \t y: 4 \t hybrid: True\n",
      "Creating an alignment for 7/9 [77%]\n",
      "ELTNIELL \t total: 12 \t b: 6 \t y: 1 \t hybrid: False\n",
      "ELTNPVEF \t total: 7 \t b: 4 \t y: 0 \t hybrid: True\n",
      "EITNPVEF \t total: 7 \t b: 4 \t y: 0 \t hybrid: True\n",
      "KTELTNIE \t total: 1 \t b: 0 \t y: 1 \t hybrid: False\n",
      "Creating an alignment for 8/9 [88%]\n",
      "Creating an alignment for 9/9 [100%]\n",
      "KLNERLLQGAP \t total: 6 \t b: 3 \t y: 2 \t hybrid: True\n",
      "KLNERLNIAPA \t total: 6 \t b: 3 \t y: 2 \t hybrid: True\n",
      "KLNERLAQVPA \t total: 6 \t b: 3 \t y: 2 \t hybrid: True\n",
      "EIELLRAQVPA \t total: 6 \t b: 3 \t y: 2 \t hybrid: True\n",
      "KLQDLRNIAPA \t total: 6 \t b: 3 \t y: 2 \t hybrid: True\n",
      "KLQDLRAQVPA \t total: 6 \t b: 3 \t y: 2 \t hybrid: True\n",
      "KLQDLRLQGAP \t total: 6 \t b: 3 \t y: 2 \t hybrid: True\n",
      "EIELLRQGIAP \t total: 6 \t b: 3 \t y: 2 \t hybrid: True\n",
      "KLQDLRQGIAP \t total: 6 \t b: 3 \t y: 2 \t hybrid: True\n",
      "KLNERLQGIAP \t total: 6 \t b: 3 \t y: 2 \t hybrid: True\n",
      "\n",
      "Finished search. Writting results to /Users/zacharymcgrath/Desktop/Experiment output/filtered_NOD2_E3_AUG_26/...\n",
      "Could not make an alignment for 2/9 spectra (22%)\n"
     ]
    }
   ],
   "source": [
    "# run hyped search with the params \n",
    "parameters = namedtuple('parameteres', 'params')\n",
    "main.main(parameters('True'))"
   ]
  },
  {
   "cell_type": "code",
   "execution_count": 3,
   "metadata": {},
   "outputs": [],
   "source": [
    "# load the values\n",
    "import json\n",
    "all_results = json.load(open(OUTPUT_DIRECTORY + 'summary.json', 'r'))"
   ]
  },
  {
   "cell_type": "code",
   "execution_count": 4,
   "metadata": {},
   "outputs": [
    {
     "name": "stdout",
     "output_type": "stream",
     "text": [
      "---------- Alignments for spectrum 0 ----------\n",
      "DCATTFIKFL \t b score: 0 \t y score: 1\n",
      "CATTFIKFLL \t b score: 0 \t y score: 0\n",
      "LPVNSPMTKGD \t b score: 0 \t y score: 0\n",
      "---------- Alignments for spectrum 1 ----------\n",
      "DAAIVGYK \t b score: 3 \t y score: 6\n",
      "EGALVGYK \t b score: 3 \t y score: 6\n",
      "ADALVGYK \t b score: 3 \t y score: 6\n",
      "---------- Alignments for spectrum 2 ----------\n",
      "---------- Alignments for spectrum 3 ----------\n",
      "DPQVEQLEL \t b score: 6 \t y score: 2\n",
      "---------- Alignments for spectrum 4 ----------\n",
      "DLQTLALWSRM \t b score: 4 \t y score: 8\n",
      "DLQTLWWSRM \t b score: 3 \t y score: 3\n",
      "DLQTLALEFGLGG \t b score: 4 \t y score: 7\n",
      "---------- Alignments for spectrum 5 ----------\n",
      "DLTEYLSRFGEVV \t b score: 5 \t y score: 5\n",
      "SLEEYLSRFGEVV \t b score: 5 \t y score: 5\n",
      "VTEEYLSRFGEVV \t b score: 5 \t y score: 5\n",
      "---------- Alignments for spectrum 6 ----------\n",
      "ELTNIELL \t b score: 6 \t y score: 1\n",
      "ELTNPVEF \t b score: 4 \t y score: 0\n",
      "EITNPVEF \t b score: 4 \t y score: 0\n",
      "---------- Alignments for spectrum 7 ----------\n",
      "---------- Alignments for spectrum 8 ----------\n",
      "KLNERLLQGAP \t b score: 3 \t y score: 2\n",
      "KLNERLNIAPA \t b score: 3 \t y score: 2\n",
      "KLNERLAQVPA \t b score: 3 \t y score: 2\n"
     ]
    }
   ],
   "source": [
    "for i, entry in all_results.items():\n",
    "    print(f'---------- Alignments for spectrum {i} ----------')\n",
    "    for a in entry['alignments']:\n",
    "        print(f'{a[\"sequence\"]} \\t b score: {a[\"b_score\"]} \\t y score: {a[\"y_score\"]}')"
   ]
  },
  {
   "cell_type": "code",
   "execution_count": null,
   "metadata": {},
   "outputs": [],
   "source": []
  },
  {
   "cell_type": "code",
   "execution_count": null,
   "metadata": {},
   "outputs": [],
   "source": []
  }
 ],
 "metadata": {
  "kernelspec": {
   "display_name": "Python 3",
   "language": "python",
   "name": "python3"
  },
  "language_info": {
   "codemirror_mode": {
    "name": "ipython",
    "version": 3
   },
   "file_extension": ".py",
   "mimetype": "text/x-python",
   "name": "python",
   "nbconvert_exporter": "python",
   "pygments_lexer": "ipython3",
   "version": "3.7.4"
  }
 },
 "nbformat": 4,
 "nbformat_minor": 4
}

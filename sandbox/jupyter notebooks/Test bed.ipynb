{
 "cells": [
  {
   "cell_type": "markdown",
   "metadata": {},
   "source": [
    "# Test Bed\n"
   ]
  },
  {
   "cell_type": "code",
   "execution_count": 1,
   "metadata": {},
   "outputs": [],
   "source": [
    "import os\n",
    "import sys\n",
    "module_path = os.path.abspath(os.path.join('..'))\n",
    "if module_path not in sys.path:\n",
    "    sys.path.append(module_path)\n",
    "module_path = os.path.abspath(os.path.join('../..'))\n",
    "if module_path not in sys.path:\n",
    "    sys.path.append(module_path)\n",
    "    \n",
    "import numpy as np\n",
    "\n",
    "from src.sequence.gen_spectra import gen_spectrum, get_precursor\n",
    "from src.objects import Spectrum\n",
    "from src.utils import insort_by_index, make_sparse_array, ppm_to_da\n",
    "from src.scoring import scoring\n",
    "\n",
    "from src import main\n",
    "\n",
    "from src.params import OUTPUT_DIRECTORY\n",
    "\n",
    "from collections import namedtuple"
   ]
  },
  {
   "cell_type": "code",
   "execution_count": 2,
   "metadata": {},
   "outputs": [
    {
     "name": "stdout",
     "output_type": "stream",
     "text": [
      "Loading database...\n",
      "Done\n",
      "Loading spectra...\n",
      "Done\n",
      "Indexing potential hits...\n",
      "On protein 279/279 [100%]\n",
      "Done.\n",
      "Creating an alignment for 9/9 [100%]\n",
      "Finished search. Writting results to /Users/zacharymcgrath/Desktop/Experiment output/filtered_NOD2_E3_AUG_26/...\n",
      "Could not make an alignment for 1/9 spectra (11%)\n"
     ]
    }
   ],
   "source": [
    "# run hyped search with the params \n",
    "parameters = namedtuple('parameteres', 'params')\n",
    "main.main(parameters('True'))"
   ]
  },
  {
   "cell_type": "code",
   "execution_count": 3,
   "metadata": {},
   "outputs": [],
   "source": [
    "# load the values\n",
    "import json\n",
    "all_results = json.load(open(OUTPUT_DIRECTORY + 'summary.json', 'r'))"
   ]
  },
  {
   "cell_type": "code",
   "execution_count": 4,
   "metadata": {},
   "outputs": [
    {
     "name": "stdout",
     "output_type": "stream",
     "text": [
      "---------- Alignments for spectrum 0 ----------\n",
      "LDPVNSPMTKG \t b score: 2 \t y score: 4\n",
      "DLPVNSPMTKG \t b score: 2 \t y score: 4\n",
      "EVPVNSPMTKG \t b score: 2 \t y score: 4\n",
      "---------- Alignments for spectrum 1 ----------\n",
      "SVAIVGYK \t b score: 2 \t y score: 6\n",
      "GEAIVGYK \t b score: 3 \t y score: 6\n",
      "EGAIVGYK \t b score: 3 \t y score: 6\n",
      "---------- Alignments for spectrum 2 ----------\n",
      "TDSEAYKEWKIISSFTPS \t b score: 3 \t y score: 1\n",
      "TVAIHTLDPEKLGQGGVQKV \t b score: 2 \t y score: 0\n",
      "SSSPDLRGFAAQFIKQKLP \t b score: 2 \t y score: 0\n",
      "---------- Alignments for spectrum 3 ----------\n",
      "DPQVEQLEL \t b score: 6 \t y score: 2\n",
      "DPQVEQLEI \t b score: 6 \t y score: 2\n",
      "DPQVEQDEL \t b score: 4 \t y score: 2\n",
      "---------- Alignments for spectrum 4 ----------\n",
      "DLQTLALWSRM \t b score: 4 \t y score: 8\n",
      "DLQTLALSWRM \t b score: 4 \t y score: 7\n",
      "DLQTLWWSRM \t b score: 3 \t y score: 3\n",
      "---------- Alignments for spectrum 5 ----------\n",
      "VETEYLSRFGEVV \t b score: 5 \t y score: 5\n",
      "DLTEYLSRFGEVV \t b score: 5 \t y score: 5\n",
      "EVTEYLSRFGEVV \t b score: 5 \t y score: 5\n",
      "---------- Alignments for spectrum 6 ----------\n",
      "ELTQMPDL \t b score: 5 \t y score: 3\n",
      "ELTNLEDL \t b score: 6 \t y score: 2\n",
      "ELTNLEVE \t b score: 6 \t y score: 2\n",
      "---------- Alignments for spectrum 7 ----------\n",
      "---------- Alignments for spectrum 8 ----------\n",
      "KIENREIATY \t b score: 3 \t y score: 2\n",
      "LEELREIATY \t b score: 3 \t y score: 2\n",
      "KLNEREIATY \t b score: 3 \t y score: 2\n"
     ]
    }
   ],
   "source": [
    "for i, entry in all_results.items():\n",
    "    print(f'---------- Alignments for spectrum {i} ----------')\n",
    "    for a in entry['alignments']:\n",
    "        print(f'{a[\"sequence\"]} \\t b score: {a[\"b_score\"]} \\t y score: {a[\"y_score\"]}')"
   ]
  },
  {
   "cell_type": "code",
   "execution_count": null,
   "metadata": {},
   "outputs": [],
   "source": []
  },
  {
   "cell_type": "code",
   "execution_count": null,
   "metadata": {},
   "outputs": [],
   "source": []
  }
 ],
 "metadata": {
  "kernelspec": {
   "display_name": "Python 3",
   "language": "python",
   "name": "python3"
  },
  "language_info": {
   "codemirror_mode": {
    "name": "ipython",
    "version": 3
   },
   "file_extension": ".py",
   "mimetype": "text/x-python",
   "name": "python",
   "nbconvert_exporter": "python",
   "pygments_lexer": "ipython3",
   "version": "3.7.4"
  }
 },
 "nbformat": 4,
 "nbformat_minor": 4
}

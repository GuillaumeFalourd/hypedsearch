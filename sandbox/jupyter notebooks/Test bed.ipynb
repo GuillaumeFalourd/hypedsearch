{
 "cells": [
  {
   "cell_type": "markdown",
   "metadata": {},
   "source": [
    "# Test Bed\n"
   ]
  },
  {
   "cell_type": "code",
   "execution_count": 11,
   "metadata": {},
   "outputs": [],
   "source": [
    "import os\n",
    "import sys\n",
    "module_path = os.path.abspath(os.path.join('..'))\n",
    "if module_path not in sys.path:\n",
    "    sys.path.append(module_path)\n",
    "module_path = os.path.abspath(os.path.join('../..'))\n",
    "if module_path not in sys.path:\n",
    "    sys.path.append(module_path)\n",
    "    \n",
    "import numpy as np\n",
    "\n",
    "from src.spectra.gen_spectra import gen_spectrum\n",
    "from src.objects import Spectrum\n",
    "from src.utils import insort_by_index, make_sparse_array, ppm_to_da\n",
    "from src.scoring import scoring"
   ]
  },
  {
   "cell_type": "code",
   "execution_count": 9,
   "metadata": {},
   "outputs": [],
   "source": [
    "DEAPNFEANTTIGRIRFH = Spectrum(spectrum=[70.06517028808594, 74.06005859375, 84.04444122314453, 87.05548095703125, 88.03839111328125, 102.05506896972656, 120.08072662353516, 201.12315368652344, 212.1022186279297, 217.08192443847656, 245.07611083984375, 316.1118469238281, 585.966796875, 591.6425170898438, 591.9791870117188, 592.3104248046875, 607.8389282226562, 615.3208618164062, 615.6561279296875, 643.3582763671875, 643.8550415039062, 707.87841796875, 708.3804931640625, 781.4142456054688, 838.4376220703125], abundance=[2547.683349609375, 730.1649169921875, 1565.4937744140625, 958.437744140625, 917.452392578125, 3846.709716796875, 2452.79736328125, 987.6354370117188, 1954.6824951171875, 3886.33349609375, 6083.39990234375, 712.1141357421875, 843.4388427734375, 3621.18359375, 3374.97021484375, 1484.1064453125, 1291.126953125, 968.104248046875, 1789.317138671875, 2742.34521484375, 1139.092041015625, 950.854736328125, 762.1254272460938, 748.9049072265625, 758.2952880859375], total_intensity=47116.769775390625, ms_level=2, scan_number=17, precursor_mass=1045.526854, file_name='/Users/zacharymcgrath/Desktop/nod2 data/single/singleRealSpectrum.mzml', id='NOD2_E3.9670.9702.4.pkl')\n",
    "DEAPNFEANTTIGRIRFHs = 'DEAPNFEANTTIGRIRFH'\n",
    "\n",
    "DLQTLEVE = Spectrum(spectrum=[72.08074951171875, 84.04391479492188, 86.0966796875, 101.07064056396484, 102.05500793457031, 130.04966735839844, 132.10191345214844, 148.06016540527344, 183.11273193359375, 197.12803649902344, 201.1233673095703, 212.10264587402344, 215.13906860351562, 229.11734008789062, 243.1343536376953, 247.12913513183594, 357.1775207519531, 358.16217041015625, 440.2137756347656, 458.22381591796875, 472.23712158203125, 553.2945556640625, 571.3069458007812, 682.3330688476562, 700.3469848632812], abundance=[11277.177734375, 2677.902099609375, 3753.010498046875, 1874.318359375, 3304.14306640625, 4072.84765625, 1058.6568603515625, 18233.23046875, 1099.9212646484375, 891.7163696289062, 4566.39990234375, 767.3123779296875, 1045.271728515625, 1623.881103515625, 856.7132568359375, 3777.787109375, 1373.5948486328125, 1266.3497314453125, 1810.636962890625, 2190.313232421875, 787.8353881835938, 2011.8814697265625, 1665.766357421875, 1007.9365234375, 2019.712646484375], total_intensity=75014.31701660156, ms_level=2, scan_number=10, precursor_mass=473.740315, file_name='/Users/zacharymcgrath/Desktop/nod2 data/single/singleRealSpectrum.mzml', id='NOD2_E3.11427.11516.2.pkl')\n",
    "DLQTLEVEs = 'DLQTLEVE'\n",
    "\n",
    "DLQTLALWSRM = Spectrum(spectrum=[84.04356384277344, 86.095703125, 101.07088470458984, 201.12228393554688, 202.1270751953125, 212.10423278808594, 229.1165008544922, 246.14280700683594, 306.16021728515625, 357.17578125, 393.1902770996094, 430.2205505371094, 440.2127685546875, 458.2236022949219, 553.2975463867188, 579.2705078125, 624.333251953125, 642.3447875976562, 658.3429565429688, 692.3502197265625, 763.3924560546875, 764.3958129882812, 876.477783203125, 977.5200805664062, 978.5184326171875], abundance=[907.1680908203125, 2089.55615234375, 1746.5712890625, 1797.59326171875, 517.5567626953125, 576.9080200195312, 1723.9498291015625, 829.689208984375, 973.6568603515625, 1102.828857421875, 1670.658203125, 730.5213623046875, 950.6202392578125, 1065.868896484375, 1333.5362548828125, 1928.1298828125, 525.9630126953125, 818.0933227539062, 606.9487915039062, 1494.930908203125, 3529.6337890625, 817.701171875, 911.8171997070312, 1712.318603515625, 685.1273193359375], total_intensity=31047.347290039062, ms_level=2, scan_number=10129, precursor_mass=667.350088, file_name='/Users/zacharymcgrath/Desktop/nod2 data/single/singleRealSpectrum.mzml', id='scan=10130')\n",
    "DLQTLALWSRMs = 'DLQTLALWSRM'\n",
    "\n",
    "DLTEYLSRFGEVV = Spectrum(spectrum=[70.06398010253906, 72.08049774169922, 86.09703063964844, 118.08600616455078, 136.07492065429688, 187.0723419189453, 201.12191772460938, 217.15528869628906, 229.1175994873047, 230.12203979492188, 312.15435791015625, 330.1663818359375, 334.13720703125, 441.199951171875, 459.2086486816406, 647.3054809570312, 647.8048095703125, 656.810791015625, 746.8765869140625, 793.4156494140625, 906.4981079101562, 978.4926147460938, 1069.56689453125, 1070.5753173828125, 1311.6202392578125], abundance=[855.636474609375, 3774.81884765625, 812.15185546875, 533.6064453125, 490.1760559082031, 414.03570556640625, 1025.067138671875, 792.000244140625, 1133.7769775390625, 346.464599609375, 612.9151000976562, 488.3008117675781, 484.1494140625, 353.00909423828125, 504.1302185058594, 382.40264892578125, 361.7584228515625, 359.9140319824219, 428.7555847167969, 540.8904418945312, 452.9610290527344, 643.1677856445312, 458.5113525390625, 399.8130187988281, 694.0618896484375], total_intensity=17342.475189208984, ms_level=2, scan_number=11409, precursor_mass=764.388677, file_name='/Users/zacharymcgrath/Desktop/nod2 data/single/singleRealSpectrum.mzml', id='scan=11410')\n",
    "DLTEYLSRFGEVVs = 'DLTEYLSRFGEVV'\n",
    "\n",
    "DLQTLEVE = Spectrum(spectrum=[72.08074951171875, 84.04391479492188, 86.0966796875, 101.07064056396484, 102.05500793457031, 130.04966735839844, 132.10191345214844, 148.06016540527344, 183.11273193359375, 197.12803649902344, 201.1233673095703, 212.10264587402344, 215.13906860351562, 229.11734008789062, 243.1343536376953, 247.12913513183594, 357.1775207519531, 358.16217041015625, 440.2137756347656, 458.22381591796875, 472.23712158203125, 553.2945556640625, 571.3069458007812, 682.3330688476562, 700.3469848632812], abundance=[11277.177734375, 2677.902099609375, 3753.010498046875, 1874.318359375, 3304.14306640625, 4072.84765625, 1058.6568603515625, 18233.23046875, 1099.9212646484375, 891.7163696289062, 4566.39990234375, 767.3123779296875, 1045.271728515625, 1623.881103515625, 856.7132568359375, 3777.787109375, 1373.5948486328125, 1266.3497314453125, 1810.636962890625, 2190.313232421875, 787.8353881835938, 2011.8814697265625, 1665.766357421875, 1007.9365234375, 2019.712646484375], total_intensity=75014.31701660156, ms_level=2, scan_number=10, precursor_mass=473.740315, file_name='/Users/zacharymcgrath/Desktop/nod2 data/single/singleRealSpectrum.mzml', id='NOD2_E3.11427.11516.2.pkl')\n",
    "DLQTLEVEs = 'DLQTLEVE'\n",
    "\n",
    "bigboi = Spectrum(spectrum=[60.04412841796875, 72.08085632324219, 86.09625244140625, 87.05484771728516, 87.10027313232422, 88.03878784179688, 102.0547103881836, 104.05284881591797, 120.08000946044922, 133.06097412109375, 147.0771942138672, 156.1029510498047, 157.06239318847656, 157.1354522705078, 159.0472412109375, 159.0762481689453, 175.0726776123047, 183.1116943359375, 201.12351989746094, 202.12612915039062, 228.09860229492188, 229.1192169189453, 317.1471252441406, 505.0594177246094, 525.93994140625, 526.434814453125, 595.0115356445312, 595.3402099609375, 638.69482421875, 639.0325927734375, 676.3802490234375, 700.4046630859375, 729.0729370117188, 729.4135131835938, 729.7415161132812, 752.7596435546875, 753.100341796875, 753.4302368164062, 767.0960083007812, 878.6868896484375, 957.5401611328125], abundance=[873.4708251953125, 303.00042724609375, 3144.203125, 800.2400512695312, 396.7620849609375, 453.8421630859375, 344.6172180175781, 429.3058166503906, 320.4771728515625, 1560.115966796875, 471.9178466796875, 413.0157470703125, 404.1276550292969, 335.3738098144531, 445.3636474609375, 309.615234375, 553.0883178710938, 328.8626708984375, 4163.8330078125, 549.1915283203125, 384.2148742675781, 1420.31298828125, 328.160400390625, 406.8067321777344, 382.0265197753906, 351.4310607910156, 606.8508911132812, 327.9308166503906, 444.44659423828125, 696.0427856445312, 367.32196044921875, 340.5555419921875, 482.5303649902344, 534.2802734375, 304.5690002441406, 593.4415893554688, 743.320068359375, 319.4105224609375, 442.2250061035156, 393.402587890625, 421.89605712890625], total_intensity=26891.600952148438, ms_level=2, scan_number=81, precursor_mass=1331.2377625, file_name='/Users/zacharymcgrath/Desktop/nod2 data/single/singleRealSpectrum.mzml', id='NOD2_E3.7258.7258.5.pkl')\n",
    "bigbois = 'DLSSASAIMGNAKVKAHGKKVITAFN'\n",
    "\n",
    "ppm_tol = 20"
   ]
  },
  {
   "cell_type": "markdown",
   "metadata": {},
   "source": [
    "# See how well each of these score on each scoring algorithm\n",
    "* `score_subsequence(pepspec: list, subseq: str, ppm_tolerance=20)`\n",
    "* `backbone_score(observed: Spectrum, reference: str, ppm_tolerance: int)` \n",
    "* `intensity_backbone_score(observed: Spectrum, reference: str, ppm_tolerance: int)`\n",
    "* `ion_backbone_score(observed: Spectrum, reference: str, ion: str, ppm_tolerance: int)`\n",
    "* `intensity_ion_backbone_score(observed: Spectrum, reference: str, ion: str, ppm_tolerance: int)`\n",
    "* `xcorr(observed: np.ndarray, reference: np.ndarray, value=50)`"
   ]
  },
  {
   "cell_type": "markdown",
   "metadata": {},
   "source": [
    "## score_subsequence"
   ]
  },
  {
   "cell_type": "code",
   "execution_count": 3,
   "metadata": {},
   "outputs": [
    {
     "name": "stdout",
     "output_type": "stream",
     "text": [
      "DEAPNFEANTTIGRIRFH: (2, 5)\n",
      "DLQTLEVE: (5, 2)\n",
      "DLQTLALWSRM: (5, 8)\n",
      "DLTEYLSRFGEVV: (5, 5)\n",
      "DLQTLEVE: (5, 2)\n"
     ]
    }
   ],
   "source": [
    "print(f'DEAPNFEANTTIGRIRFH: {scoring.score_subsequence(DEAPNFEANTTIGRIRFH.spectrum, DEAPNFEANTTIGRIRFHs, ppm_tol)}')\n",
    "print(f'DLQTLEVE: {scoring.score_subsequence(DLQTLEVE.spectrum, DLQTLEVEs, ppm_tol)}')\n",
    "print(f'DLQTLALWSRM: {scoring.score_subsequence(DLQTLALWSRM.spectrum, DLQTLALWSRMs, ppm_tol)}')\n",
    "print(f'DLTEYLSRFGEVV: {scoring.score_subsequence(DLTEYLSRFGEVV.spectrum, DLTEYLSRFGEVVs, ppm_tol)}')\n",
    "print(f'DLQTLEVE: {scoring.score_subsequence(DLQTLEVE.spectrum, DLQTLEVEs, ppm_tol)}')"
   ]
  },
  {
   "cell_type": "code",
   "execution_count": 7,
   "metadata": {},
   "outputs": [
    {
     "data": {
      "text/plain": [
       "12"
      ]
     },
     "execution_count": 7,
     "metadata": {},
     "output_type": "execute_result"
    }
   ],
   "source": [
    "s = sorted(gen_spectrum(bigbois)['spectrum'])\n",
    "sum([1 for m in s for x in bigboi.spectrum if m - .05 <= x <= m +.05])"
   ]
  },
  {
   "cell_type": "code",
   "execution_count": 20,
   "metadata": {},
   "outputs": [
    {
     "name": "stdout",
     "output_type": "stream",
     "text": [
      "403.182339435\n",
      "202.094807935\n",
      "280.129182135\n",
      "140.568229285\n"
     ]
    }
   ],
   "source": [
    "print(gen_spectrum('DLSS', charge=1, ion='b')['spectrum'][-1])\n",
    "print(gen_spectrum('DLSS', charge=2, ion='b')['spectrum'][-1])\n",
    "print(gen_spectrum('FN', charge=1, ion='y')['spectrum'][-1])\n",
    "print(gen_spectrum('FN', charge=2, ion='y')['spectrum'][-1])"
   ]
  },
  {
   "cell_type": "code",
   "execution_count": 15,
   "metadata": {},
   "outputs": [
    {
     "data": {
      "text/plain": [
       "0.040425225830078126"
      ]
     },
     "execution_count": 15,
     "metadata": {},
     "output_type": "execute_result"
    }
   ],
   "source": [
    "ppm_to_da(202.12612915039062, 200)"
   ]
  },
  {
   "cell_type": "code",
   "execution_count": 16,
   "metadata": {},
   "outputs": [
    {
     "data": {
      "text/plain": [
       "202.08612915039063"
      ]
     },
     "execution_count": 16,
     "metadata": {},
     "output_type": "execute_result"
    }
   ],
   "source": [
    "202.12612915039062 - 0.04"
   ]
  },
  {
   "cell_type": "code",
   "execution_count": null,
   "metadata": {},
   "outputs": [],
   "source": []
  }
 ],
 "metadata": {
  "kernelspec": {
   "display_name": "Python 3",
   "language": "python",
   "name": "python3"
  },
  "language_info": {
   "codemirror_mode": {
    "name": "ipython",
    "version": 3
   },
   "file_extension": ".py",
   "mimetype": "text/x-python",
   "name": "python",
   "nbconvert_exporter": "python",
   "pygments_lexer": "ipython3",
   "version": "3.7.4"
  }
 },
 "nbformat": 4,
 "nbformat_minor": 4
}

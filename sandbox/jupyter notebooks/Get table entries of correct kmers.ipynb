{
 "cells": [
  {
   "cell_type": "markdown",
   "metadata": {},
   "source": [
    "# Get the table entries of correct kmers\n",
    "Run the first part of hyped search where we get the tables of the binned kmers and see if the kmers are iterative\n",
    "1. Load the spectrumMill results\n",
    "2. For each spectrum entry, correlate the scan number to the correct sequence\n",
    "3. Run hyped search (modified to return the table)\n",
    "4. Look at the entry for the correct b and y entries\n",
    "5. Save them"
   ]
  },
  {
   "cell_type": "markdown",
   "metadata": {},
   "source": [
    "## 1. load spectrum mill results"
   ]
  },
  {
   "cell_type": "code",
   "execution_count": 7,
   "metadata": {},
   "outputs": [
    {
     "data": {
      "text/html": [
       "<div>\n",
       "<style scoped>\n",
       "    .dataframe tbody tr th:only-of-type {\n",
       "        vertical-align: middle;\n",
       "    }\n",
       "\n",
       "    .dataframe tbody tr th {\n",
       "        vertical-align: top;\n",
       "    }\n",
       "\n",
       "    .dataframe thead th {\n",
       "        text-align: right;\n",
       "    }\n",
       "</style>\n",
       "<table border=\"1\" class=\"dataframe\">\n",
       "  <thead>\n",
       "    <tr style=\"text-align: right;\">\n",
       "      <th></th>\n",
       "      <th>number</th>\n",
       "      <th>filename</th>\n",
       "      <th>parent_charge</th>\n",
       "      <th>score</th>\n",
       "      <th>deltaForwardReverseScore</th>\n",
       "      <th>deltaRank1Rank2Score</th>\n",
       "      <th>percent_scored_peak_intensity</th>\n",
       "      <th>totalIntensity</th>\n",
       "      <th>previous_aa</th>\n",
       "      <th>sequence</th>\n",
       "      <th>next_aa</th>\n",
       "      <th>retentionTimeMin</th>\n",
       "      <th>chromatographicPeakWidthSec</th>\n",
       "      <th>parent_m_over_z</th>\n",
       "      <th>species</th>\n",
       "      <th>entry_name</th>\n",
       "    </tr>\n",
       "  </thead>\n",
       "  <tbody>\n",
       "    <tr>\n",
       "      <td>0</td>\n",
       "      <td>1</td>\n",
       "      <td>NOD2_E3.13446.13477.2</td>\n",
       "      <td>2</td>\n",
       "      <td>10.10</td>\n",
       "      <td>10.10</td>\n",
       "      <td>9.91</td>\n",
       "      <td>84.5</td>\n",
       "      <td>183000.0</td>\n",
       "      <td>(E)</td>\n",
       "      <td>DPQVEQLEL</td>\n",
       "      <td>(-)</td>\n",
       "      <td>48.35</td>\n",
       "      <td>26.0</td>\n",
       "      <td>535.7725</td>\n",
       "      <td>MOUSE</td>\n",
       "      <td>ins1C18</td>\n",
       "    </tr>\n",
       "    <tr>\n",
       "      <td>1</td>\n",
       "      <td>2</td>\n",
       "      <td>NOD2_E3.18005.18246.2</td>\n",
       "      <td>2</td>\n",
       "      <td>12.84</td>\n",
       "      <td>11.07</td>\n",
       "      <td>12.84</td>\n",
       "      <td>97.8</td>\n",
       "      <td>40000000.0</td>\n",
       "      <td>(G)</td>\n",
       "      <td>DLQTLALEVA</td>\n",
       "      <td>(-)</td>\n",
       "      <td>65.78</td>\n",
       "      <td>29.0</td>\n",
       "      <td>536.8007</td>\n",
       "      <td>MOUSE</td>\n",
       "      <td>ins1C3</td>\n",
       "    </tr>\n",
       "  </tbody>\n",
       "</table>\n",
       "</div>"
      ],
      "text/plain": [
       "   number               filename  parent_charge  score  \\\n",
       "0       1  NOD2_E3.13446.13477.2              2  10.10   \n",
       "1       2  NOD2_E3.18005.18246.2              2  12.84   \n",
       "\n",
       "   deltaForwardReverseScore  deltaRank1Rank2Score  \\\n",
       "0                     10.10                  9.91   \n",
       "1                     11.07                 12.84   \n",
       "\n",
       "   percent_scored_peak_intensity  totalIntensity previous_aa    sequence  \\\n",
       "0                           84.5        183000.0         (E)   DPQVEQLEL   \n",
       "1                           97.8      40000000.0         (G)  DLQTLALEVA   \n",
       "\n",
       "  next_aa  retentionTimeMin  chromatographicPeakWidthSec  parent_m_over_z  \\\n",
       "0     (-)             48.35                         26.0         535.7725   \n",
       "1     (-)             65.78                         29.0         536.8007   \n",
       "\n",
       "  species entry_name  \n",
       "0   MOUSE    ins1C18  \n",
       "1   MOUSE     ins1C3  "
      ]
     },
     "execution_count": 7,
     "metadata": {},
     "output_type": "execute_result"
    }
   ],
   "source": [
    "import pandas as pd\n",
    "results_file = '/Users/zacharymcgrath/Downloads/NOD2_E3_results.ssv'\n",
    "df = pd.read_csv(results_file, sep=';')\n",
    "df.head(2)"
   ]
  },
  {
   "cell_type": "markdown",
   "metadata": {},
   "source": [
    "## 2. Associate each spectrum entry with the correct value"
   ]
  },
  {
   "cell_type": "code",
   "execution_count": 9,
   "metadata": {},
   "outputs": [],
   "source": [
    "from pyteomics import mzml\n",
    "mzml_file  = '/Users/zacharymcgrath/Desktop/nod2 data/filteredNOD2.mzML'\n",
    "id_keyed_results = {}\n",
    "for e in mzml.read(mzml_file):\n",
    "    id_ = e['id']\n",
    "    res_value = df.loc[df['filename'] == id_]\n",
    "    if res_value is None:\n",
    "        print(id)\n",
    "        break\n",
    "    id_keyed_results[id_.replace('.pkl', '')] = res_value\n",
    "    "
   ]
  },
  {
   "cell_type": "markdown",
   "metadata": {},
   "source": [
    "## 3, 4. Run hyped search and save the correct kmer entry"
   ]
  },
  {
   "cell_type": "code",
   "execution_count": null,
   "metadata": {},
   "outputs": [],
   "source": []
  }
 ],
 "metadata": {
  "kernelspec": {
   "display_name": "Python 3",
   "language": "python",
   "name": "python3"
  },
  "language_info": {
   "codemirror_mode": {
    "name": "ipython",
    "version": 3
   },
   "file_extension": ".py",
   "mimetype": "text/x-python",
   "name": "python",
   "nbconvert_exporter": "python",
   "pygments_lexer": "ipython3",
   "version": "3.7.4"
  }
 },
 "nbformat": 4,
 "nbformat_minor": 4
}

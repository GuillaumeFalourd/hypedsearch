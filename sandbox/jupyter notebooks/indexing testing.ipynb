{
 "cells": [
  {
   "cell_type": "markdown",
   "metadata": {},
   "source": [
    "# Testing indexing a database\n",
    "Due to the amount of time it takes to run the current iteration, we need to do some indexing of the database\n",
    "\n",
    "#### Proposed idea\n",
    "Create a new proprietary database from a .fasta one\n",
    "1. Identify all the 3-mers in the database\n",
    "2. Using the 3-mers as keys to a hash map, list all the (protein, starting_pos, ending_pos) pairings in the value\n",
    "3. Only look through the 3-mers that are interesting\n"
   ]
  },
  {
   "cell_type": "markdown",
   "metadata": {},
   "source": [
    "## import the fasta file "
   ]
  },
  {
   "cell_type": "code",
   "execution_count": 22,
   "metadata": {},
   "outputs": [],
   "source": [
    "import os\n",
    "import sys\n",
    "module_path = os.path.abspath(os.path.join('..'))\n",
    "if module_path not in sys.path:\n",
    "    sys.path.append(module_path)\n",
    "module_path = os.path.abspath(os.path.join('../..'))\n",
    "if module_path not in sys.path:\n",
    "    sys.path.append(module_path)\n",
    "\n",
    "from src.file_io import fasta\n",
    "fasta_file_name = '../../testing framework/data/databases/17029prots.fasta'\n",
    "database = fasta.read(fasta_file_name)\n"
   ]
  },
  {
   "cell_type": "markdown",
   "metadata": {},
   "source": [
    "## find all the k-mers in the database and keep track of them"
   ]
  },
  {
   "cell_type": "code",
   "execution_count": 23,
   "metadata": {},
   "outputs": [
    {
     "name": "stdout",
     "output_type": "stream",
     "text": [
      "[('AGAL_MOUSE', 221, 223), ('CRNS1_MOUSE', 785, 787), ('ABCA1_MOUSE', 353, 355), ('CALCR_MOUSE', 87, 89), ('ADAM5_MOUSE', 459, 461), ('CALRL_MOUSE', 62, 64), ('ADCY9_MOUSE', 908, 910), ('COBA1_MOUSE', 1635, 1637), ('BDH_MOUSE', 286, 288), ('BIR1A_MOUSE', 268, 270), ('CNTP1_MOUSE', 994, 996), ('EIF3L_MOUSE', 159, 161), ('ADA2B_MOUSE', 415, 417), ('ADAM2_MOUSE', 460, 462), ('ACHG_MOUSE', 126, 128), ('CO5A2_MOUSE', 1324, 1326), ('COPD_MOUSE', 477, 479), ('CP086_MOUSE', 185, 187), ('ATS7_MOUSE', 842, 844), ('CPNE3_MOUSE', 370, 372), ('CNTP4_MOUSE', 624, 626), ('ADA2A_MOUSE', 430, 432), ('ARHG4_MOUSE', 171, 173), ('ARHG9_MOUSE', 196, 198), ('ALD2_MOUSE', 48, 50), ('FBX32_MOUSE', 39, 41), ('BIR1E_MOUSE', 268, 270), ('CRBG3_MOUSE', 344, 346), ('CNTP2_MOUSE', 627, 629), ('CNTP2_MOUSE', 741, 743), ('5HT6R_MOUSE', 311, 313), ('SC6A8_MOUSE', 142, 144), ('S15A5_MOUSE', 518, 520), ('SBP2L_MOUSE', 671, 673), ('TTC28_MOUSE', 670, 672), ('FLRT1_MOUSE', 37, 39), ('AMPN_MOUSE', 795, 797), ('FA76A_MOUSE', 72, 74), ('UBR4_MOUSE', 4044, 4046), ('SCNNB_MOUSE', 28, 30), ('SCNNB_MOUSE', 411, 413), ('UBP42_MOUSE', 998, 1000), ('ZN654_MOUSE', 542, 544), ('ULK1_MOUSE', 93, 95), ('ZFAT_MOUSE', 274, 276), ('ZEP1_MOUSE', 410, 412), ('ZEP1_MOUSE', 2105, 2107), ('CPSF1_MOUSE', 18, 20), ('CO4A4_MOUSE', 1515, 1517), ('ARI1_MOUSE', 414, 416), ('CA2D1_MOUSE', 665, 667), ('ALK_MOUSE', 482, 484), ('CRIP1_MOUSE', 50, 52), ('CEA20_MOUSE', 70, 72), ('CAC1H_MOUSE', 1661, 1663), ('DYH1_MOUSE', 2180, 2182), ('FLRT3_MOUSE', 42, 44), ('BIR1B_MOUSE', 268, 270), ('CO5A1_MOUSE', 1669, 1671), ('FLRT2_MOUSE', 47, 49), ('FLRT2_MOUSE', 646, 648), ('A16L2_MOUSE', 468, 470), ('AMD_MOUSE', 653, 655), ('CO1A1_MOUSE', 1278, 1280), ('CRFR2_MOUSE', 38, 40), ('CCAR1_MOUSE', 412, 414), ('BIR1G_MOUSE', 268, 270), ('DSCL1_MOUSE', 1897, 1899), ('LGR4_MOUSE', 728, 730), ('CTP5B_MOUSE', 568, 570), ('CTP5B_MOUSE', 619, 621), ('CTP5A_MOUSE', 568, 570), ('CTP5A_MOUSE', 619, 621), ('CXL15_MOUSE', 55, 57), ('ARRD4_MOUSE', 202, 204), ('EPHB1_MOUSE', 238, 240), ('MALD1_MOUSE', 124, 126), ('ANR11_MOUSE', 820, 822), ('CASD1_MOUSE', 289, 291), ('DGKA_MOUSE', 218, 220), ('DFB42_MOUSE', 52, 54), ('ARP21_MOUSE', 759, 761), ('ESCO2_MOUSE', 578, 580), ('BSDC1_MOUSE', 131, 133), ('CTP5C_MOUSE', 568, 570), ('KI21A_MOUSE', 1392, 1394), ('LIMA1_MOUSE', 416, 418), ('LASP1_MOUSE', 51, 53), ('ATRN_MOUSE', 753, 755), ('DNM1L_MOUSE', 349, 351), ('ADNP_MOUSE', 491, 493), ('CT194_MOUSE', 107, 109), ('EPHB2_MOUSE', 239, 241), ('FGF4_MOUSE', 82, 84), ('DYH12_MOUSE', 2325, 2327), ('FBX21_MOUSE', 204, 206), ('EPHB3_MOUSE', 246, 248), ('BIR1F_MOUSE', 268, 270), ('EDD13_MOUSE', 147, 149), ('DHSO_MOUSE', 299, 301), ('CO4A2_MOUSE', 1542, 1544), ('DI3L2_MOUSE', 793, 795), ('FRMD6_MOUSE', 582, 584), ('FA76B_MOUSE', 74, 76), ('BRNP1_MOUSE', 395, 397), ('DMXL1_MOUSE', 751, 753), ('GHSR_MOUSE', 300, 302), ('KCNH2_MOUSE', 42, 44), ('LRC25_MOUSE', 288, 290), ('LYPD5_MOUSE', 104, 106), ('KDM2B_MOUSE', 1219, 1221), ('KLDC3_MOUSE', 211, 213), ('DMXL2_MOUSE', 772, 774), ('LY65B_MOUSE', 102, 104), ('FGF6_MOUSE', 88, 90), ('FHL5_MOUSE', 161, 163), ('KDM6B_MOUSE', 1571, 1573), ('CTSRD_MOUSE', 699, 701), ('CD6_MOUSE', 567, 569), ('FACR1_MOUSE', 156, 158), ('GBA2_MOUSE', 49, 51), ('MEG10_MOUSE', 394, 396), ('PAXI_MOUSE', 418, 420), ('IKZF5_MOUSE', 85, 87), ('HEAT6_MOUSE', 147, 149), ('PCX2_MOUSE', 1576, 1578), ('NKX24_MOUSE', 109, 111), ('IFIT3_MOUSE', 364, 366), ('L2HDH_MOUSE', 123, 125), ('PA24D_MOUSE', 621, 623), ('PAQR3_MOUSE', 164, 166), ('PARPT_MOUSE', 293, 295), ('PACS1_MOUSE', 610, 612), ('LRP1_MOUSE', 134, 136), ('LRP1_MOUSE', 2560, 2562), ('IN80D_MOUSE', 73, 75), ('ASB3_MOUSE', 240, 242), ('PHLD_MOUSE', 504, 506), ('IRPL2_MOUSE', 640, 642), ('ALG11_MOUSE', 70, 72), ('BTBD8_MOUSE', 302, 304), ('ADIPO_MOUSE', 153, 155), ('MED12_MOUSE', 1005, 1007), ('KAT2B_MOUSE', 269, 271), ('IGFR1_MOUSE', 82, 84), ('LPPRC_MOUSE', 205, 207), ('K1C26_MOUSE', 383, 385), ('KNTC1_MOUSE', 1093, 1095), ('NEUR4_MOUSE', 233, 235), ('BRNP3_MOUSE', 408, 410), ('LAMA2_MOUSE', 779, 781), ('MYCT_MOUSE', 429, 431), ('MYO1A_MOUSE', 398, 400), ('MYO1B_MOUSE', 405, 407), ('MYO1H_MOUSE', 399, 401), ('MYO1C_MOUSE', 439, 441), ('MYO1D_MOUSE', 401, 403), ('PLD1_MOUSE', 648, 650), ('OGT1_MOUSE', 295, 297), ('OGT1_MOUSE', 465, 467), ('OGT1_MOUSE', 843, 845), ('MYCB2_MOUSE', 150, 152), ('PKHG3_MOUSE', 182, 184), ('MYO6_MOUSE', 475, 477), ('CDKL2_MOUSE', 446, 448), ('JHD2C_MOUSE', 2099, 2101), ('HEXB_MOUSE', 528, 530), ('NKX21_MOUSE', 85, 87), ('CA2D3_MOUSE', 654, 656), ('KCNH7_MOUSE', 42, 44), ('MYO1G_MOUSE', 419, 421), ('RINI_MOUSE', 145, 147), ('RFX8_MOUSE', 178, 180), ('CCM2L_MOUSE', 295, 297), ('DTX2_MOUSE', 454, 456), ('PAF1_MOUSE', 34, 36), ('PACS2_MOUSE', 508, 510), ('LAMA3_MOUSE', 100, 102), ('RPGP1_MOUSE', 255, 257), ('RENT2_MOUSE', 751, 753), ('ITB6_MOUSE', 572, 574), ('K0754_MOUSE', 397, 399), ('HPPD_MOUSE', 35, 37), ('NEK9_MOUSE', 129, 131), ('NET5_MOUSE', 300, 302), ('GAMT_MOUSE', 167, 169), ('NBN_MOUSE', 321, 323), ('INS2_MOUSE', 107, 109), ('ADM1B_MOUSE', 473, 475), ('PAQR2_MOUSE', 239, 241), ('NCOA1_MOUSE', 1372, 1374), ('LRP1B_MOUSE', 3816, 3818), ('NSD1_MOUSE', 1641, 1643), ('PDE9A_MOUSE', 28, 30), ('NOC3L_MOUSE', 680, 682), ('NOC3L_MOUSE', 777, 779), ('MEG11_MOUSE', 387, 389), ('NKRF_MOUSE', 113, 115), ('CECR2_MOUSE', 472, 474), ('DGKG_MOUSE', 280, 282), ('P3C2G_MOUSE', 743, 745), ('PK2L2_MOUSE', 335, 337), ('GPC3_MOUSE', 275, 277), ('RENT1_MOUSE', 130, 132), ('MRC1_MOUSE', 1201, 1203), ('INS1_MOUSE', 105, 107), ('RSAD1_MOUSE', 54, 56), ('REG3G_MOUSE', 160, 162), ('PXDN_MOUSE', 1172, 1174), ('NAC2_MOUSE', 744, 746), ('TRPM8_MOUSE', 1004, 1006), ('THRB_MOUSE', 286, 288), ('TEN4_MOUSE', 335, 337), ('SO1B2_MOUSE', 452, 454), ('RTL4_MOUSE', 279, 281), ('STS_MOUSE', 452, 454), ('PLMN_MOUSE', 174, 176), ('PLMN_MOUSE', 447, 449), ('RNS12_MOUSE', 42, 44), ('SLFN8_MOUSE', 485, 487), ('PTAFR_MOUSE', 203, 205), ('SCNNG_MOUSE', 427, 429), ('SEC62_MOUSE', 80, 82), ('TIF1B_MOUSE', 208, 210), ('RNAS9_MOUSE', 76, 78), ('RNAS1_MOUSE', 49, 51), ('PXYP1_MOUSE', 66, 68), ('PTH2R_MOUSE', 411, 413), ('RBM46_MOUSE', 400, 402), ('CD20_MOUSE', 175, 177), ('LX12B_MOUSE', 82, 84), ('PLPP3_MOUSE', 66, 68), ('ISK10_MOUSE', 59, 61), ('PATE2_MOUSE', 103, 105), ('TRI36_MOUSE', 177, 179), ('SEM5A_MOUSE', 642, 644), ('SYNE2_MOUSE', 326, 328), ('RNS13_MOUSE', 50, 52), ('ZMY10_MOUSE', 395, 397), ('ZMY15_MOUSE', 680, 682), ('TS1R3_MOUSE', 127, 129), ('WDFY3_MOUSE', 1943, 1945), ('TSLP_MOUSE', 33, 35), ('UBP46_MOUSE', 44, 46), ('VPS41_MOUSE', 832, 834), ('ZBT41_MOUSE', 424, 426), ('VOPP1_MOUSE', 156, 158), ('SGTB_MOUSE', 121, 123), ('S20A2_MOUSE', 436, 438), ('ITB2L_MOUSE', 568, 570), ('GNPTA_MOUSE', 503, 505), ('IRPL1_MOUSE', 647, 649), ('ITB3_MOUSE', 581, 583), ('PRIC2_MOUSE', 88, 90), ('PAN2_MOUSE', 525, 527), ('NTNG1_MOUSE', 420, 422), ('TBD2B_MOUSE', 140, 142), ('SC6A9_MOUSE', 204, 206), ('TPC3L_MOUSE', 127, 129), ('SALL1_MOUSE', 1133, 1135), ('PLXD1_MOUSE', 661, 663), ('SACA9_MOUSE', 55, 57), ('ROS1_MOUSE', 1296, 1298), ('MYOTI_MOUSE', 105, 107), ('TNAP3_MOUSE', 762, 764), ('TCLB2_MOUSE', 44, 46), ('DGKB_MOUSE', 255, 257), ('HPRT_MOUSE', 104, 106), ('UBP19_MOUSE', 857, 859), ('PXK_MOUSE', 250, 252), ('TM2D3_MOUSE', 190, 192), ('TRI66_MOUSE', 19, 21), ('S2539_MOUSE', 76, 78), ('INO80_MOUSE', 1027, 1029), ('SOX17_MOUSE', 412, 414), ('SKOR2_MOUSE', 175, 177), ('T2R40_MOUSE', 104, 106), ('ZN521_MOUSE', 408, 410), ('DNJC7_MOUSE', 296, 298), ('RNAS4_MOUSE', 52, 54), ('STAB1_MOUSE', 710, 712), ('RAG2_MOUSE', 476, 478), ('TOX_MOUSE', 30, 32), ('WEE1_MOUSE', 376, 378), ('TX101_MOUSE', 107, 109), ('UBA1_MOUSE', 717, 719), ('SPT13_MOUSE', 337, 339), ('ZAN_MOUSE', 3878, 3880), ('UPK3B_MOUSE', 140, 142), ('LNEBL_MOUSE', 51, 53), ('SNAI1_MOUSE', 157, 159), ('ZRAB3_MOUSE', 219, 221), ('WEE2_MOUSE', 285, 287), ('TMC7_MOUSE', 302, 304), ('SCRG1_MOUSE', 69, 71), ('WNT8A_MOUSE', 257, 259), ('VASH2_MOUSE', 198, 200), ('ZN207_MOUSE', 14, 16), ('UBP12_MOUSE', 48, 50), ('PSD4_MOUSE', 617, 619), ('TECTA_MOUSE', 1061, 1063), ('S20A1_MOUSE', 469, 471), ('TSN1_MOUSE', 235, 237), ('ZMAT2_MOUSE', 80, 82), ('UIMC1_MOUSE', 530, 532), ('ULK2_MOUSE', 86, 88), ('CD24_MOUSE', 24, 26), ('COJA1_MOUSE', 227, 229), ('ADA2C_MOUSE', 422, 424), ('ADAM9_MOUSE', 484, 486), ('CSKI1_MOUSE', 291, 293), ('AOXA_MOUSE', 867, 869), ('E9Q046_MOUSE', 453, 455), ('E9PWM9_MOUSE', 415, 417), ('D3YTQ4_MOUSE', 28, 30), ('A0A0G2JEH1_MOUSE', 143, 145), ('F7APE3_MOUSE', 26, 28), ('A0A1L1SQ70_MOUSE', 46, 48), ('A2A6G5_MOUSE', 15, 17), ('A2AGH9_MOUSE', 1005, 1007), ('F6UKB4_MOUSE', 86, 88), ('E9Q1F7_MOUSE', 191, 193), ('A0A286YE36_MOUSE', 1641, 1643), ('E9PYF4_MOUSE', 1631, 1633), ('E9PYF4_MOUSE', 1682, 1684), ('E9QA02_MOUSE', 150, 152), ('E9Q580_MOUSE', 411, 413), ('H9KV21_MOUSE', 335, 337), ('E9PZ68_MOUSE', 277, 279), ('A0A087WNW9_MOUSE', 85, 87), ('E0CX30_MOUSE', 274, 276), ('B1AVK5_MOUSE', 1525, 1527), ('D3Z181_MOUSE', 164, 166), ('E9Q3L1_MOUSE', 474, 476), ('E9QNH6_MOUSE', 405, 407), ('B1AQG7_MOUSE', 3, 5), ('D3YVU0_MOUSE', 17, 19), ('B0QZI6_MOUSE', 76, 78), ('E9QQ35_MOUSE', 258, 260), ('D3YWB9_MOUSE', 624, 626), ('Q8C7E4_MOUSE', 52, 54), ('A0A494BAR7_MOUSE', 28, 30), ('E9Q577_MOUSE', 530, 532), ('A8Y5I6_MOUSE', 240, 242), ('H3BLK8_MOUSE', 1216, 1218), ('A0A3B2WCF8_MOUSE', 211, 213), ('E9PUD2_MOUSE', 356, 358), ('A0A2R8VK03_MOUSE', 18, 20), ('A0A3B2WCQ3_MOUSE', 362, 364), ('A0A5F8MPW2_MOUSE', 104, 106), ('A0A5F8MPW2_MOUSE', 155, 157), ('E9Q3A0_MOUSE', 165, 167), ('S4R2K7_MOUSE', 165, 167), ('D3Z5M3_MOUSE', 134, 136), ('A2A6G7_MOUSE', 15, 17), ('A0A452J8F8_MOUSE', 65, 67), ('D6RDT5_MOUSE', 76, 78), ('V9GXM4_MOUSE', 474, 476), ('A0A087WRL5_MOUSE', 140, 142), ('A2AW65_MOUSE', 103, 105), ('A0A1L1SRX8_MOUSE', 65, 67), ('F6Z595_MOUSE', 372, 374), ('F6Z595_MOUSE', 489, 491), ('B1AYG7_MOUSE', 572, 574), ('E0CXN2_MOUSE', 59, 61), ('A0A1W2P6I9_MOUSE', 140, 142), ('E0CYU0_MOUSE', 255, 257), ('A0A5H1ZRM2_MOUSE', 262, 264), ('A0A1Y7VLC9_MOUSE', 268, 270), ('A9C471_MOUSE', 268, 270), ('D3YVU7_MOUSE', 1164, 1166), ('A0A0A0MQ98_MOUSE', 2279, 2281), ('A0A0N4SUN2_MOUSE', 417, 419), ('A2ALS4_MOUSE', 319, 321), ('E9Q036_MOUSE', 80, 82), ('F6UD05_MOUSE', 842, 844), ('F6SMY7_MOUSE', 117, 119), ('D3Z5S8_MOUSE', 300, 302), ('E9PZ87_MOUSE', 1747, 1749), ('A0A0R4J073_MOUSE', 530, 532), ('A0A0J9YUC4_MOUSE', 399, 401), ('F8VQA4_MOUSE', 653, 655), ('F7BTP8_MOUSE', 249, 251), ('Q8BGZ6_MOUSE', 223, 225), ('Q80W76_MOUSE', 409, 411), ('B0QZI7_MOUSE', 76, 78), ('A0A0U1RPI5_MOUSE', 134, 136), ('A7M7R7_MOUSE', 141, 143), ('Q5SW46_MOUSE', 141, 143), ('E9Q706_MOUSE', 671, 673), ('A2A6H0_MOUSE', 15, 17), ('D3YVU4_MOUSE', 1181, 1183), ('A0A0A6YXS3_MOUSE', 347, 349), ('E9QAE4_MOUSE', 1744, 1746), ('B2KF50_MOUSE', 61, 63), ('A0A140LHU0_MOUSE', 484, 486), ('A0A3B2WD76_MOUSE', 399, 401), ('F6WKY8_MOUSE', 422, 424), ('A0A0G2JEK2_MOUSE', 101, 103), ('E0CY60_MOUSE', 254, 256), ('E9QNK5_MOUSE', 38, 40), ('A0A1W2P7D7_MOUSE', 121, 123), ('E9PUQ8_MOUSE', 175, 177), ('M0QW64_MOUSE', 42, 44), ('A0A286YD76_MOUSE', 533, 535), ('A0A0G2JEU0_MOUSE', 175, 177), ('H7BX99_MOUSE', 285, 287), ('A0A140T8S0_MOUSE', 394, 396), ('A0A1W2P6J5_MOUSE', 110, 112), ('A0A140LI67_MOUSE', 457, 459), ('A0A140LHX6_MOUSE', 85, 87), ('S4R1Y9_MOUSE', 400, 402), ('A0A0G2JEJ7_MOUSE', 424, 426), ('A0A0N4SV07_MOUSE', 279, 281), ('A2AMG5_MOUSE', 321, 323), ('F8VQ28_MOUSE', 418, 420), ('F8WHV4_MOUSE', 227, 229), ('E9QK48_MOUSE', 46, 48), ('A2API5_MOUSE', 3816, 3818), ('E9QL25_MOUSE', 1213, 1215), ('E9Q7E9_MOUSE', 538, 540), ('J3QNR4_MOUSE', 73, 75), ('A0A0U1RNE7_MOUSE', 181, 183), ('E9PY62_MOUSE', 623, 625), ('E9Q7P2_MOUSE', 1479, 1481), ('D3Z2N0_MOUSE', 19, 21), ('E9Q980_MOUSE', 297, 299), ('A0A087WRP2_MOUSE', 779, 781), ('A0A0J9YV30_MOUSE', 251, 253), ('E9PX36_MOUSE', 842, 844), ('E9PYG6_MOUSE', 605, 607), ('A0A140LI34_MOUSE', 1083, 1085), ('A0A0R4J0S8_MOUSE', 141, 143), ('A0A087WP27_MOUSE', 183, 185), ('B1AXI6_MOUSE', 203, 205), ('B1AXI2_MOUSE', 94, 96), ('A0A1D5RLV7_MOUSE', 1928, 1930), ('A0A0R4IZY1_MOUSE', 453, 455), ('A2A6G3_MOUSE', 15, 17), ('V9GWX8_MOUSE', 495, 497), ('A2A697_MOUSE', 68, 70), ('E9PZP2_MOUSE', 19, 21), ('F7BJ98_MOUSE', 401, 403), ('D6RH77_MOUSE', 648, 650), ('E9QLR8_MOUSE', 121, 123), ('A0A0A6YWN9_MOUSE', 488, 490), ('B1AXI4_MOUSE', 196, 198), ('D3YVJ5_MOUSE', 37, 39), ('A0A571BEJ4_MOUSE', 1195, 1197), ('E9PX09_MOUSE', 905, 907), ('A0A3B2WB53_MOUSE', 211, 213), ('A0A2R8VK76_MOUSE', 18, 20), ('A0A0A0MQN9_MOUSE', 701, 703), ('E9Q4F8_MOUSE', 841, 843), ('S4R1A5_MOUSE', 300, 302), ('E9Q918_MOUSE', 387, 389), ('A2A6G9_MOUSE', 15, 17), ('S4R299_MOUSE', 973, 975), ('E9Q6T2_MOUSE', 27, 29), ('A0A571BDK9_MOUSE', 295, 297), ('E9PXI8_MOUSE', 58, 60), ('G3UYW1_MOUSE', 1943, 1945), ('E9QP46_MOUSE', 326, 328), ('B1AR82_MOUSE', 42, 44), ('B1AYG6_MOUSE', 572, 574), ('F8WGN6_MOUSE', 1348, 1350), ('E9Q6B9_MOUSE', 103, 105), ('E0CZ99_MOUSE', 121, 123), ('D3Z5W6_MOUSE', 156, 158), ('A0A140LHJ6_MOUSE', 741, 743), ('A0A0G2JER4_MOUSE', 164, 166), ('E9PV48_MOUSE', 364, 366), ('A2AKU3_MOUSE', 107, 109), ('B0QZI3_MOUSE', 76, 78), ('F6TFN2_MOUSE', 1121, 1123), ('F6TFN2_MOUSE', 1172, 1174), ('E9Q704_MOUSE', 547, 549), ('A3KGE7_MOUSE', 180, 182), ('A2AGH8_MOUSE', 1005, 1007), ('G3X973_MOUSE', 710, 712), ('E9Q6P9_MOUSE', 1655, 1657), ('A0A286YDR5_MOUSE', 43, 45), ('A0A1L1SRF3_MOUSE', 100, 102), ('A0A1Y7VLZ7_MOUSE', 540, 542), ('A0A0U1RNS3_MOUSE', 49, 51), ('Q8C413_MOUSE', 280, 282), ('F8WJ48_MOUSE', 420, 422), ('F8WGX5_MOUSE', 751, 753), ('E9Q9M5_MOUSE', 833, 835), ('G3X8P9_MOUSE', 867, 869), ('V9GX76_MOUSE', 474, 476), ('E0CYZ3_MOUSE', 1549, 1551), ('A0A1W2P7C6_MOUSE', 1275, 1277), ('E9Q3Z2_MOUSE', 202, 204), ('F8VPM9_MOUSE', 410, 412), ('F8VPM9_MOUSE', 2105, 2107), ('F6S1B5_MOUSE', 377, 379), ('D3YUT4_MOUSE', 66, 68), ('D3Z653_MOUSE', 447, 449), ('D6RE23_MOUSE', 68, 70), ('F7CWA7_MOUSE', 102, 104), ('A0A384DV78_MOUSE', 577, 579), ('A0A5F8MQ70_MOUSE', 120, 122), ('E9Q0J5_MOUSE', 1392, 1394), ('O89012_MOUSE', 8, 10), ('Q6NVF2_MOUSE', 610, 612), ('Q5SZ99_MOUSE', 43, 45), ('Q8VF74_MOUSE', 167, 169), ('A0A087WPQ7_MOUSE', 254, 256), ('A0A087WPQ7_MOUSE', 305, 307), ('A0A3B2WCQ2_MOUSE', 62, 64), ('A0A494BAA2_MOUSE', 78, 80), ('E9Q0U5_MOUSE', 103, 105), ('E9Q174_MOUSE', 474, 476), ('E9Q3V0_MOUSE', 149, 151), ('A0A0A6YX42_MOUSE', 107, 109), ('A0A1Y7VJI7_MOUSE', 15, 17), ('A0A2R8VJN0_MOUSE', 95, 97), ('D3Z7U2_MOUSE', 111, 113), ('Q497L9_MOUSE', 95, 97), ('S4R2P5_MOUSE', 400, 402), ('B1AWI3_MOUSE', 49, 51), ('I0B502_MOUSE', 148, 150), ('B0QZI4_MOUSE', 76, 78), ('E9PVU0_MOUSE', 474, 476), ('D3YWX3_MOUSE', 109, 111), ('A0A087WS27_MOUSE', 281, 283), ('E9Q517_MOUSE', 33, 35), ('A0A1B0GRG4_MOUSE', 145, 147), ('A0A1W2P7L6_MOUSE', 1275, 1277), ('E0CX56_MOUSE', 315, 317), ('A0A0G2JFJ9_MOUSE', 51, 53), ('E0CX61_MOUSE', 78, 80), ('Q8VGM6_MOUSE', 70, 72), ('B3GLJ5_MOUSE', 101, 103), ('Q6ZWN0_MOUSE', 326, 328), ('Q9CRL6_MOUSE', 245, 247), ('F6YDG9_MOUSE', 48, 50), ('E9PV03_MOUSE', 404, 406), ('E9Q175_MOUSE', 474, 476), ('V9GXP6_MOUSE', 105, 107), ('A0A0R4J183_MOUSE', 249, 251), ('A0A1W2P6L9_MOUSE', 992, 994), ('Z4YL66_MOUSE', 1027, 1029), ('A0A1Y7VJ19_MOUSE', 268, 270), ('Q3U5J2_MOUSE', 134, 136), ('D3Z7C3_MOUSE', 66, 68), ('A2ARX0_MOUSE', 103, 105), ('E0CXX7_MOUSE', 95, 97), ('S4R1K5_MOUSE', 143, 145), ('A0A1D5RL96_MOUSE', 302, 304), ('A0A0G2JEU6_MOUSE', 136, 138), ('A0A1D5RMM8_MOUSE', 889, 891), ('E9QNF7_MOUSE', 627, 629), ('E9QNF7_MOUSE', 741, 743), ('A0A0R4J0I9_MOUSE', 134, 136), ('A0A0R4J0I9_MOUSE', 2560, 2562), ('A0A1D5RLK7_MOUSE', 58, 60), ('A2A6G6_MOUSE', 15, 17), ('A0A2U3TZ67_MOUSE', 194, 196), ('F8VQ23_MOUSE', 418, 420), ('Q7TQD7_MOUSE', 405, 407), ('E9PWQ7_MOUSE', 3922, 3924), ('Q5ERJ2_MOUSE', 38, 40), ('E9PYK8_MOUSE', 1542, 1544), ('A0A0J9YU92_MOUSE', 148, 150), ('A2A6G4_MOUSE', 15, 17), ('A0A2C9F2B5_MOUSE', 250, 252), ('A0A286YDU0_MOUSE', 64, 66), ('E9PYP2_MOUSE', 1670, 1672), ('D6RH57_MOUSE', 28, 30), ('G3UZM1_MOUSE', 2280, 2282), ('E9QPR7_MOUSE', 1955, 1957), ('E0CXK2_MOUSE', 1479, 1481), ('A0A338P6N4_MOUSE', 2291, 2293), ('F6TGI4_MOUSE', 17, 19), ('D6RG49_MOUSE', 74, 76), ('E9Q151_MOUSE', 142, 144), ('F6VG99_MOUSE', 1536, 1538), ('F6VG99_MOUSE', 1587, 1589), ('F8VQK4_MOUSE', 126, 128), ('A0A494BAI4_MOUSE', 28, 30), ('A0A0R4J0B3_MOUSE', 93, 95), ('E9Q0N6_MOUSE', 15, 17), ('B1AWM0_MOUSE', 361, 363), ('F6Q3G7_MOUSE', 7, 9), ('B0V2P6_MOUSE', 598, 600), ('O89009_MOUSE', 8, 10), ('E9Q1X8_MOUSE', 653, 655), ('D3YXH8_MOUSE', 568, 570), ('D3Z4N9_MOUSE', 156, 158), ('B0V2P5_MOUSE', 772, 774), ('A0A0U1RNR9_MOUSE', 28, 30), ('Q6T340_MOUSE', 8, 10), ('Z4YMA7_MOUSE', 885, 887), ('B1ATR5_MOUSE', 275, 277), ('Q3TSN3_MOUSE', 255, 257), ('K7N6B2_MOUSE', 310, 312), ('R4I5B2_MOUSE', 218, 220), ('Q3V061_MOUSE', 440, 442), ('Q8VCU2_MOUSE', 509, 511), ('A7YQ68_MOUSE', 144, 146), ('Q3UWS5_MOUSE', 51, 53), ('Q6NZH9_MOUSE', 283, 285), ('B7ZWD6_MOUSE', 103, 105), ('A0A0R4J0W0_MOUSE', 211, 213), ('A2A6G8_MOUSE', 15, 17), ('Q3TP51_MOUSE', 28, 30), ('Q3TP51_MOUSE', 411, 413), ('D3YZN1_MOUSE', 12, 14), ('A2ADS1_MOUSE', 55, 57), ('A2AQE2_MOUSE', 674, 676), ('Q8CCB2_MOUSE', 14, 16), ('A0A494BBD9_MOUSE', 59, 61), ('Q3UPZ0_MOUSE', 642, 644), ('Q6P5E3_MOUSE', 1133, 1135), ('Q32ME0_MOUSE', 42, 44), ('Q8BI38_MOUSE', 51, 53), ('E9Q2X0_MOUSE', 391, 393), ('F2Z409_MOUSE', 280, 282), ('A0A5F8MPE2_MOUSE', 1, 3), ('O89010_MOUSE', 8, 10), ('Q8VH12_MOUSE', 168, 170), ('F6QS57_MOUSE', 89, 91), ('Q99K45_MOUSE', 275, 277), ('Q99K45_MOUSE', 387, 389), ('Q497L3_MOUSE', 51, 53), ('Q8CC38_MOUSE', 42, 44), ('E9Q5A7_MOUSE', 1191, 1193), ('Q6PB82_MOUSE', 93, 95), ('B2RQY6_MOUSE', 302, 304), ('Q5F2D4_MOUSE', 640, 642), ('Q8C782_MOUSE', 42, 44), ('Q076U5_MOUSE', 107, 109), ('Q8C6G3_MOUSE', 49, 51), ('E9Q3I3_MOUSE', 925, 927), ('Q8VGM7_MOUSE', 70, 72), ('Q8CA63_MOUSE', 238, 240), ('F2Z3X0_MOUSE', 487, 489), ('Q3UQP0_MOUSE', 58, 60), ('E9PYJ0_MOUSE', 409, 411), ('Q925K6_MOUSE', 413, 415), ('Q8BW24_MOUSE', 372, 374), ('Q8BW24_MOUSE', 489, 491), ('Q53Z09_MOUSE', 42, 44), ('Q3LR78_MOUSE', 372, 374), ('Q3LR78_MOUSE', 489, 491), ('Q3LR78_MOUSE', 1072, 1074), ('B0QZI5_MOUSE', 76, 78), ('D3YYG0_MOUSE', 85, 87), ('A0A0A6YWX1_MOUSE', 856, 858), ('F6QQ13_MOUSE', 300, 302), ('A0A1B0GSG5_MOUSE', 181, 183), ('A0A1W2P7S6_MOUSE', 384, 386), ('J3KMM1_MOUSE', 858, 860), ('S4R1X6_MOUSE', 231, 233), ('E9Q638_MOUSE', 484, 486), ('A0A0G2JE35_MOUSE', 203, 205), ('A0A5H1ZRL2_MOUSE', 485, 487), ('B1ARV6_MOUSE', 178, 180), ('A2AH75_MOUSE', 1096, 1098), ('Q8BUQ3_MOUSE', 245, 247), ('E9PV96_MOUSE', 310, 312), ('B1ASU0_MOUSE', 648, 650), ('B2RR24_MOUSE', 925, 927), ('Q6IMH7_MOUSE', 487, 489)]\n"
     ]
    }
   ],
   "source": [
    "kmers = {}\n",
    "kmer_len = 3\n",
    "for entry in database:\n",
    "    for i in range(len(entry['sequence']) - kmer_len + 1):\n",
    "        mer = entry['sequence'][i: i+kmer_len]\n",
    "        if mer not in kmers:\n",
    "            kmers[mer] = []\n",
    "        pairing = (entry['name'], i, i+kmer_len-1)\n",
    "        kmers[mer].append(pairing)\n",
    "        \n",
    "print(kmers['YCN'])\n"
   ]
  },
  {
   "cell_type": "markdown",
   "metadata": {},
   "source": [
    "## Write this all to a file\n",
    "We should store all of the info (the fasta databse and meta data) in one file. Format may be something like\n",
    "```python3\n",
    "{\n",
    "    'metadata': <kmer dict>,\n",
    "    'database': {\n",
    "        <protein_name>: {\n",
    "            id: <id>\n",
    "            sequence: <sequence>\n",
    "        }\n",
    "    }\n",
    "}\n",
    "```\n",
    "pickle dump it to a file with the extension '.fastax'\n"
   ]
  },
  {
   "cell_type": "code",
   "execution_count": 24,
   "metadata": {},
   "outputs": [
    {
     "name": "stderr",
     "output_type": "stream",
     "text": [
      "IOPub data rate exceeded.\n",
      "The notebook server will temporarily stop sending output\n",
      "to the client in order to avoid crashing it.\n",
      "To change this limit, set the config variable\n",
      "`--NotebookApp.iopub_data_rate_limit`.\n",
      "\n",
      "Current values:\n",
      "NotebookApp.iopub_data_rate_limit=1000000.0 (bytes/sec)\n",
      "NotebookApp.rate_limit_window=3.0 (secs)\n",
      "\n"
     ]
    }
   ],
   "source": [
    "import pickle\n",
    "filename = fasta_file_name + 'x'\n",
    "\n",
    "filecontents = {'metadata': kmers, 'database': {}}\n",
    "\n",
    "for entry in database: \n",
    "    indexed_entry = {\n",
    "        'sequence': entry['sequence']\n",
    "    }\n",
    "    # add extra info if available\n",
    "    if 'id' in entry:\n",
    "        indexed_entry['id'] = entry['id']\n",
    "    if 'human_readable_name' in entry: \n",
    "        indexed_entry['human_readable_name'] = entry['human_readable_name']\n",
    "        \n",
    "    filecontents['database'][entry['sequence']] = indexed_entry\n",
    "    \n",
    "\n",
    "print(filecontents)\n"
   ]
  },
  {
   "cell_type": "code",
   "execution_count": 25,
   "metadata": {},
   "outputs": [],
   "source": [
    "# dump it to a file\n",
    "import pickle\n",
    "\n",
    "with open(filename, 'wb') as o:\n",
    "    pickle.dump(filecontents, o)"
   ]
  },
  {
   "cell_type": "code",
   "execution_count": null,
   "metadata": {},
   "outputs": [],
   "source": []
  }
 ],
 "metadata": {
  "kernelspec": {
   "display_name": "Python 3",
   "language": "python",
   "name": "python3"
  },
  "language_info": {
   "codemirror_mode": {
    "name": "ipython",
    "version": 3
   },
   "file_extension": ".py",
   "mimetype": "text/x-python",
   "name": "python",
   "nbconvert_exporter": "python",
   "pygments_lexer": "ipython3",
   "version": "3.7.4"
  }
 },
 "nbformat": 4,
 "nbformat_minor": 4
}

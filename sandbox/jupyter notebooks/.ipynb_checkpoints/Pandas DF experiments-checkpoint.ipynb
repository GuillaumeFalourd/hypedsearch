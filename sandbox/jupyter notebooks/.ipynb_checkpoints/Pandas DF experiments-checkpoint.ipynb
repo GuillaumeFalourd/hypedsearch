{
 "cells": [
  {
   "cell_type": "markdown",
   "metadata": {},
   "source": [
    "# Experiment with pandas dataframe usage\n",
    "1. Put the fasta file into a df and see if building kmers is faster this way than my for loop\n",
    "2. Use the dataframe the way we used the sqlite database and see how fast queries are"
   ]
  },
  {
   "cell_type": "code",
   "execution_count": 1,
   "metadata": {},
   "outputs": [],
   "source": [
    "import os\n",
    "import sys\n",
    "module_path = os.path.abspath(os.path.join('..'))\n",
    "if module_path not in sys.path:\n",
    "    sys.path.append(module_path)\n",
    "module_path = os.path.abspath(os.path.join('../..'))\n",
    "if module_path not in sys.path:\n",
    "    sys.path.append(module_path)\n",
    "    \n",
    "from src.sequence.gen_spectra import gen_spectrum, max_mass\n",
    "from pyteomics import fasta\n",
    "import pandas as pd\n",
    "from collections import defaultdict\n",
    "import swifter\n",
    "import dask.dataframe as dd"
   ]
  },
  {
   "cell_type": "markdown",
   "metadata": {},
   "source": [
    "## 1. Make all kmers via loading a fasta into a df"
   ]
  },
  {
   "cell_type": "code",
   "execution_count": 2,
   "metadata": {},
   "outputs": [],
   "source": [
    "fasta_file = '/Users/zacharymcgrath/Desktop/nod2 data/NOD2_mouse_database.fasta'\n",
    "fasta_file = '/Users/zacharymcgrath/Desktop/nod2 data/filteredNOD2.fasta'\n",
    "entries = []\n",
    "for entry in fasta.read(fasta_file):\n",
    "    get_name = lambda name: name[:name.index('OS=')-1] if 'OS=' in name else name\n",
    "\n",
    "    # take the description without the 'sp' value\n",
    "    desc = entry.description.split('|')[1:] if '|' in entry.description else entry.description\n",
    "\n",
    "    # if the id is in the description, take it\n",
    "    if len(desc) > 1:\n",
    "        id_ = desc[0]\n",
    "        name = get_name(desc[1])\n",
    "\n",
    "    # make the id just the number\n",
    "    else:\n",
    "        id_ = i\n",
    "        name = get_name(desc[0])\n",
    "\n",
    "    # get the sequence\n",
    "    seq = entry.sequence\n",
    "\n",
    "    # make the entry and add it to prots\n",
    "    entries.append({'name': name, 'id': id_, 'sequence': seq})"
   ]
  },
  {
   "cell_type": "code",
   "execution_count": 5,
   "metadata": {},
   "outputs": [
    {
     "ename": "TypeError",
     "evalue": "__init__() got an unexpected keyword argument 'npartitions'",
     "output_type": "error",
     "traceback": [
      "\u001b[0;31m---------------------------------------------------------------------------\u001b[0m",
      "\u001b[0;31mTypeError\u001b[0m                                 Traceback (most recent call last)",
      "\u001b[0;32m<ipython-input-5-58040811537a>\u001b[0m in \u001b[0;36m<module>\u001b[0;34m\u001b[0m\n\u001b[0;32m----> 1\u001b[0;31m \u001b[0mproteins\u001b[0m \u001b[0;34m=\u001b[0m \u001b[0mpd\u001b[0m\u001b[0;34m.\u001b[0m\u001b[0mDataFrame\u001b[0m\u001b[0;34m(\u001b[0m\u001b[0mentries\u001b[0m\u001b[0;34m,\u001b[0m \u001b[0mnpartitions\u001b[0m\u001b[0;34m=\u001b[0m\u001b[0;36m2\u001b[0m\u001b[0;34m)\u001b[0m\u001b[0;34m\u001b[0m\u001b[0;34m\u001b[0m\u001b[0m\n\u001b[0m",
      "\u001b[0;31mTypeError\u001b[0m: __init__() got an unexpected keyword argument 'npartitions'"
     ]
    }
   ],
   "source": [
    "proteins = pd.DataFrame(entries, npartitions=2)"
   ]
  },
  {
   "cell_type": "code",
   "execution_count": 4,
   "metadata": {},
   "outputs": [
    {
     "ename": "ValueError",
     "evalue": "Exactly one of npartitions and chunksize must be specified.",
     "output_type": "error",
     "traceback": [
      "\u001b[0;31m---------------------------------------------------------------------------\u001b[0m",
      "\u001b[0;31mValueError\u001b[0m                                Traceback (most recent call last)",
      "\u001b[0;32m<ipython-input-4-f7af342cab71>\u001b[0m in \u001b[0;36m<module>\u001b[0;34m\u001b[0m\n\u001b[0;32m----> 1\u001b[0;31m \u001b[0mps\u001b[0m \u001b[0;34m=\u001b[0m \u001b[0mdd\u001b[0m\u001b[0;34m.\u001b[0m\u001b[0mfrom_pandas\u001b[0m\u001b[0;34m(\u001b[0m\u001b[0mproteins\u001b[0m\u001b[0;34m)\u001b[0m\u001b[0;34m\u001b[0m\u001b[0;34m\u001b[0m\u001b[0m\n\u001b[0m\u001b[1;32m      2\u001b[0m \u001b[0;34m\u001b[0m\u001b[0m\n\u001b[1;32m      3\u001b[0m \u001b[0mps\u001b[0m\u001b[0;34m.\u001b[0m\u001b[0mhead\u001b[0m\u001b[0;34m(\u001b[0m\u001b[0;34m)\u001b[0m\u001b[0;34m\u001b[0m\u001b[0;34m\u001b[0m\u001b[0m\n",
      "\u001b[0;32m/Library/Frameworks/Python.framework/Versions/3.7/lib/python3.7/site-packages/dask/dataframe/io/io.py\u001b[0m in \u001b[0;36mfrom_pandas\u001b[0;34m(data, npartitions, chunksize, sort, name)\u001b[0m\n\u001b[1;32m    199\u001b[0m \u001b[0;34m\u001b[0m\u001b[0m\n\u001b[1;32m    200\u001b[0m     \u001b[0;32mif\u001b[0m \u001b[0;34m(\u001b[0m\u001b[0mnpartitions\u001b[0m \u001b[0;32mis\u001b[0m \u001b[0;32mNone\u001b[0m\u001b[0;34m)\u001b[0m \u001b[0;34m==\u001b[0m \u001b[0;34m(\u001b[0m\u001b[0mchunksize\u001b[0m \u001b[0;32mis\u001b[0m \u001b[0;32mNone\u001b[0m\u001b[0;34m)\u001b[0m\u001b[0;34m:\u001b[0m\u001b[0;34m\u001b[0m\u001b[0;34m\u001b[0m\u001b[0m\n\u001b[0;32m--> 201\u001b[0;31m         \u001b[0;32mraise\u001b[0m \u001b[0mValueError\u001b[0m\u001b[0;34m(\u001b[0m\u001b[0;34m\"Exactly one of npartitions and chunksize must be specified.\"\u001b[0m\u001b[0;34m)\u001b[0m\u001b[0;34m\u001b[0m\u001b[0;34m\u001b[0m\u001b[0m\n\u001b[0m\u001b[1;32m    202\u001b[0m \u001b[0;34m\u001b[0m\u001b[0m\n\u001b[1;32m    203\u001b[0m     \u001b[0mnrows\u001b[0m \u001b[0;34m=\u001b[0m \u001b[0mlen\u001b[0m\u001b[0;34m(\u001b[0m\u001b[0mdata\u001b[0m\u001b[0;34m)\u001b[0m\u001b[0;34m\u001b[0m\u001b[0;34m\u001b[0m\u001b[0m\n",
      "\u001b[0;31mValueError\u001b[0m: Exactly one of npartitions and chunksize must be specified."
     ]
    }
   ],
   "source": [
    "ps = dd.from_pandas(proteins)\n",
    "\n",
    "ps.head()"
   ]
  },
  {
   "cell_type": "code",
   "execution_count": 4,
   "metadata": {},
   "outputs": [
    {
     "data": {
      "text/html": [
       "<div>\n",
       "<style scoped>\n",
       "    .dataframe tbody tr th:only-of-type {\n",
       "        vertical-align: middle;\n",
       "    }\n",
       "\n",
       "    .dataframe tbody tr th {\n",
       "        vertical-align: top;\n",
       "    }\n",
       "\n",
       "    .dataframe thead th {\n",
       "        text-align: right;\n",
       "    }\n",
       "</style>\n",
       "<table border=\"1\" class=\"dataframe\">\n",
       "  <thead>\n",
       "    <tr style=\"text-align: right;\">\n",
       "      <th></th>\n",
       "      <th>name</th>\n",
       "      <th>id</th>\n",
       "      <th>sequence</th>\n",
       "    </tr>\n",
       "  </thead>\n",
       "  <tbody>\n",
       "    <tr>\n",
       "      <td>0</td>\n",
       "      <td>LEG1_MOUSE Galectin-1</td>\n",
       "      <td>P16045</td>\n",
       "      <td>MACGLVASNLNLKPGECLKVRGEVASDAKSFVLNLGKDSNNLCLHF...</td>\n",
       "    </tr>\n",
       "    <tr>\n",
       "      <td>1</td>\n",
       "      <td>ERP44_MOUSE Endoplasmic reticulum resident pro...</td>\n",
       "      <td>Q9D1Q6</td>\n",
       "      <td>MNPAVFLSLADLRCSLLLLVTSIFTPITAEIASLDSENIDEILNNA...</td>\n",
       "    </tr>\n",
       "    <tr>\n",
       "      <td>2</td>\n",
       "      <td>ACPM_MOUSE Acyl carrier protein, mitochondrial</td>\n",
       "      <td>Q9CR21</td>\n",
       "      <td>MASRVLCACVRRLPAAFAPLPRLPTLALARPLSTTLCPEGIRRRPG...</td>\n",
       "    </tr>\n",
       "    <tr>\n",
       "      <td>3</td>\n",
       "      <td>HPS3_MOUSE Hermansky-Pudlak syndrome 3 protein...</td>\n",
       "      <td>Q91VB4</td>\n",
       "      <td>MVRLYNLHPFGSQQVVPCQWEPEQVCCGGSDALFVAAGCKVEAFAV...</td>\n",
       "    </tr>\n",
       "    <tr>\n",
       "      <td>4</td>\n",
       "      <td>PPIA_MOUSE Peptidyl-prolyl cis-trans isomerase A</td>\n",
       "      <td>P17742</td>\n",
       "      <td>MVNPTVFFDITADDEPLGRVSFELFADKVPKTAENFRALSTGEKGF...</td>\n",
       "    </tr>\n",
       "  </tbody>\n",
       "</table>\n",
       "</div>"
      ],
      "text/plain": [
       "                                                name      id  \\\n",
       "0                              LEG1_MOUSE Galectin-1  P16045   \n",
       "1  ERP44_MOUSE Endoplasmic reticulum resident pro...  Q9D1Q6   \n",
       "2     ACPM_MOUSE Acyl carrier protein, mitochondrial  Q9CR21   \n",
       "3  HPS3_MOUSE Hermansky-Pudlak syndrome 3 protein...  Q91VB4   \n",
       "4   PPIA_MOUSE Peptidyl-prolyl cis-trans isomerase A  P17742   \n",
       "\n",
       "                                            sequence  \n",
       "0  MACGLVASNLNLKPGECLKVRGEVASDAKSFVLNLGKDSNNLCLHF...  \n",
       "1  MNPAVFLSLADLRCSLLLLVTSIFTPITAEIASLDSENIDEILNNA...  \n",
       "2  MASRVLCACVRRLPAAFAPLPRLPTLALARPLSTTLCPEGIRRRPG...  \n",
       "3  MVRLYNLHPFGSQQVVPCQWEPEQVCCGGSDALFVAAGCKVEAFAV...  \n",
       "4  MVNPTVFFDITADDEPLGRVSFELFADKVPKTAENFRALSTGEKGF...  "
      ]
     },
     "execution_count": 4,
     "metadata": {},
     "output_type": "execute_result"
    }
   ],
   "source": [
    "proteins.head()"
   ]
  },
  {
   "cell_type": "code",
   "execution_count": 5,
   "metadata": {},
   "outputs": [
    {
     "data": {
      "application/vnd.jupyter.widget-view+json": {
       "model_id": "8320a208a5684c128e469f5a62db6078",
       "version_major": 2,
       "version_minor": 0
      },
      "text/plain": [
       "HBox(children=(FloatProgress(value=0.0, description='Pandas Apply', max=279.0, style=ProgressStyle(description…"
      ]
     },
     "metadata": {},
     "output_type": "display_data"
    },
    {
     "name": "stdout",
     "output_type": "stream",
     "text": [
      "\n",
      "Time to complete: 0.9276762008666992\n"
     ]
    },
    {
     "data": {
      "text/html": [
       "<div>\n",
       "<style scoped>\n",
       "    .dataframe tbody tr th:only-of-type {\n",
       "        vertical-align: middle;\n",
       "    }\n",
       "\n",
       "    .dataframe tbody tr th {\n",
       "        vertical-align: top;\n",
       "    }\n",
       "\n",
       "    .dataframe thead th {\n",
       "        text-align: right;\n",
       "    }\n",
       "</style>\n",
       "<table border=\"1\" class=\"dataframe\">\n",
       "  <thead>\n",
       "    <tr style=\"text-align: right;\">\n",
       "      <th></th>\n",
       "      <th>name</th>\n",
       "      <th>id</th>\n",
       "      <th>sequence</th>\n",
       "      <th>kmers</th>\n",
       "    </tr>\n",
       "  </thead>\n",
       "  <tbody>\n",
       "    <tr>\n",
       "      <td>0</td>\n",
       "      <td>LEG1_MOUSE Galectin-1</td>\n",
       "      <td>P16045</td>\n",
       "      <td>MACGLVASNLNLKPGECLKVRGEVASDAKSFVLNLGKDSNNLCLHF...</td>\n",
       "      <td>[MAC, MACG, MACGL, MACGLV, MACGLVA, MACGLVAS, ...</td>\n",
       "    </tr>\n",
       "    <tr>\n",
       "      <td>1</td>\n",
       "      <td>ERP44_MOUSE Endoplasmic reticulum resident pro...</td>\n",
       "      <td>Q9D1Q6</td>\n",
       "      <td>MNPAVFLSLADLRCSLLLLVTSIFTPITAEIASLDSENIDEILNNA...</td>\n",
       "      <td>[MNP, MNPA, MNPAV, MNPAVF, MNPAVFL, MNPAVFLS, ...</td>\n",
       "    </tr>\n",
       "    <tr>\n",
       "      <td>2</td>\n",
       "      <td>ACPM_MOUSE Acyl carrier protein, mitochondrial</td>\n",
       "      <td>Q9CR21</td>\n",
       "      <td>MASRVLCACVRRLPAAFAPLPRLPTLALARPLSTTLCPEGIRRRPG...</td>\n",
       "      <td>[MAS, MASR, MASRV, MASRVL, MASRVLC, MASRVLCA, ...</td>\n",
       "    </tr>\n",
       "    <tr>\n",
       "      <td>3</td>\n",
       "      <td>HPS3_MOUSE Hermansky-Pudlak syndrome 3 protein...</td>\n",
       "      <td>Q91VB4</td>\n",
       "      <td>MVRLYNLHPFGSQQVVPCQWEPEQVCCGGSDALFVAAGCKVEAFAV...</td>\n",
       "      <td>[MVR, MVRL, MVRLY, MVRLYN, MVRLYNL, MVRLYNLH, ...</td>\n",
       "    </tr>\n",
       "    <tr>\n",
       "      <td>4</td>\n",
       "      <td>PPIA_MOUSE Peptidyl-prolyl cis-trans isomerase A</td>\n",
       "      <td>P17742</td>\n",
       "      <td>MVNPTVFFDITADDEPLGRVSFELFADKVPKTAENFRALSTGEKGF...</td>\n",
       "      <td>[MVN, MVNP, MVNPT, MVNPTV, MVNPTVF, MVNPTVFF, ...</td>\n",
       "    </tr>\n",
       "  </tbody>\n",
       "</table>\n",
       "</div>"
      ],
      "text/plain": [
       "                                                name      id  \\\n",
       "0                              LEG1_MOUSE Galectin-1  P16045   \n",
       "1  ERP44_MOUSE Endoplasmic reticulum resident pro...  Q9D1Q6   \n",
       "2     ACPM_MOUSE Acyl carrier protein, mitochondrial  Q9CR21   \n",
       "3  HPS3_MOUSE Hermansky-Pudlak syndrome 3 protein...  Q91VB4   \n",
       "4   PPIA_MOUSE Peptidyl-prolyl cis-trans isomerase A  P17742   \n",
       "\n",
       "                                            sequence  \\\n",
       "0  MACGLVASNLNLKPGECLKVRGEVASDAKSFVLNLGKDSNNLCLHF...   \n",
       "1  MNPAVFLSLADLRCSLLLLVTSIFTPITAEIASLDSENIDEILNNA...   \n",
       "2  MASRVLCACVRRLPAAFAPLPRLPTLALARPLSTTLCPEGIRRRPG...   \n",
       "3  MVRLYNLHPFGSQQVVPCQWEPEQVCCGGSDALFVAAGCKVEAFAV...   \n",
       "4  MVNPTVFFDITADDEPLGRVSFELFADKVPKTAENFRALSTGEKGF...   \n",
       "\n",
       "                                               kmers  \n",
       "0  [MAC, MACG, MACGL, MACGLV, MACGLVA, MACGLVAS, ...  \n",
       "1  [MNP, MNPA, MNPAV, MNPAVF, MNPAVFL, MNPAVFLS, ...  \n",
       "2  [MAS, MASR, MASRV, MASRVL, MASRVLC, MASRVLCA, ...  \n",
       "3  [MVR, MVRL, MVRLY, MVRLYN, MVRLYNL, MVRLYNLH, ...  \n",
       "4  [MVN, MVNP, MVNPT, MVNPTV, MVNPTVF, MVNPTVFF, ...  "
      ]
     },
     "execution_count": 5,
     "metadata": {},
     "output_type": "execute_result"
    }
   ],
   "source": [
    "import time\n",
    "st = time.time()\n",
    "def breakdown(s):\n",
    "    seq = s['sequence']\n",
    "    kmers = []\n",
    "    for j in range(len(seq) - 2):\n",
    "\n",
    "        # make a kmer sequence. Do the max (to generate the kmer spec once) then \n",
    "        # just iterate through it\n",
    "        kmer_len = 30 if j + 30 <= len(seq) \\\n",
    "            else len(seq) - j\n",
    "\n",
    "        kmers += [seq[j:j+k] for k in range(3, kmer_len)]\n",
    "        \n",
    "    return kmers\n",
    "        \n",
    "    \n",
    "proteins['kmers'] = ps.apply(breakdown, axis=1)\n",
    "print(f'Time to complete: {time.time() - st}')\n",
    "ps.head()"
   ]
  },
  {
   "cell_type": "code",
   "execution_count": null,
   "metadata": {},
   "outputs": [],
   "source": []
  },
  {
   "cell_type": "code",
   "execution_count": 6,
   "metadata": {},
   "outputs": [
    {
     "ename": "NameError",
     "evalue": "name 'a' is not defined",
     "output_type": "error",
     "traceback": [
      "\u001b[0;31m---------------------------------------------------------------------------\u001b[0m",
      "\u001b[0;31mNameError\u001b[0m                                 Traceback (most recent call last)",
      "\u001b[0;32m<ipython-input-6-8f62125d4850>\u001b[0m in \u001b[0;36m<module>\u001b[0;34m\u001b[0m\n\u001b[1;32m      2\u001b[0m \u001b[0;34m\u001b[0m\u001b[0m\n\u001b[1;32m      3\u001b[0m \u001b[0my\u001b[0m \u001b[0;34m=\u001b[0m \u001b[0mdefaultdict\u001b[0m\u001b[0;34m(\u001b[0m\u001b[0mlist\u001b[0m\u001b[0;34m)\u001b[0m\u001b[0;34m\u001b[0m\u001b[0;34m\u001b[0m\u001b[0m\n\u001b[0;32m----> 4\u001b[0;31m \u001b[0;34m[\u001b[0m\u001b[0my\u001b[0m\u001b[0;34m[\u001b[0m\u001b[0mx\u001b[0m\u001b[0;34m]\u001b[0m\u001b[0;34m.\u001b[0m\u001b[0mappend\u001b[0m\u001b[0;34m(\u001b[0m\u001b[0mrow\u001b[0m\u001b[0;34m.\u001b[0m\u001b[0mid\u001b[0m\u001b[0;34m)\u001b[0m \u001b[0;32mfor\u001b[0m \u001b[0mrow\u001b[0m \u001b[0;32min\u001b[0m \u001b[0ma\u001b[0m\u001b[0;34m.\u001b[0m\u001b[0mitertuples\u001b[0m\u001b[0;34m(\u001b[0m\u001b[0;34m)\u001b[0m \u001b[0;32mfor\u001b[0m \u001b[0mx\u001b[0m \u001b[0;32min\u001b[0m \u001b[0mrow\u001b[0m\u001b[0;34m.\u001b[0m\u001b[0msequences\u001b[0m\u001b[0;34m]\u001b[0m\u001b[0;34m\u001b[0m\u001b[0;34m\u001b[0m\u001b[0m\n\u001b[0m\u001b[1;32m      5\u001b[0m \u001b[0;34m\u001b[0m\u001b[0m\n\u001b[1;32m      6\u001b[0m \u001b[0mz\u001b[0m \u001b[0;34m=\u001b[0m \u001b[0mpd\u001b[0m\u001b[0;34m.\u001b[0m\u001b[0mDataFrame\u001b[0m\u001b[0;34m(\u001b[0m\u001b[0;34m[\u001b[0m\u001b[0;34m(\u001b[0m\u001b[0mkey\u001b[0m\u001b[0;34m,\u001b[0m \u001b[0mvalue\u001b[0m\u001b[0;34m)\u001b[0m \u001b[0;32mfor\u001b[0m \u001b[0mkey\u001b[0m\u001b[0;34m,\u001b[0m \u001b[0mvalue\u001b[0m \u001b[0;32min\u001b[0m \u001b[0my\u001b[0m\u001b[0;34m.\u001b[0m\u001b[0mitems\u001b[0m\u001b[0;34m(\u001b[0m\u001b[0;34m)\u001b[0m\u001b[0;34m]\u001b[0m\u001b[0;34m)\u001b[0m\u001b[0;34m\u001b[0m\u001b[0;34m\u001b[0m\u001b[0m\n",
      "\u001b[0;31mNameError\u001b[0m: name 'a' is not defined"
     ]
    }
   ],
   "source": [
    "\n",
    "st = time.time()\n",
    "\n",
    "y = defaultdict(list)\n",
    "[y[x].append(row.id) for row in a.itertuples() for x in row.sequences]\n",
    "    \n",
    "z = pd.DataFrame([(key, value) for key, value in y.items()])\n",
    "print(f'Time taken: {time.time() - st}')\n",
    "z.head()"
   ]
  },
  {
   "cell_type": "code",
   "execution_count": null,
   "metadata": {},
   "outputs": [],
   "source": [
    "def spectrify(a):\n",
    "    f = {}\n",
    "    f['bs'] = max_mass(a, 'b', 1)\n",
    "    f['bd'] = max_mass(a, 'b', 2)\n",
    "    f['ys'] = max_mass(a, 'y', 1)\n",
    "    f['yd'] = max_mass(a, 'y', 2)\n",
    "    f['sequence'] = a\n",
    "    return f\n",
    "\n",
    "c = pd.DataFrame(list(b['sequence'].apply(spectrify)))"
   ]
  },
  {
   "cell_type": "code",
   "execution_count": null,
   "metadata": {},
   "outputs": [],
   "source": [
    "c.head()"
   ]
  },
  {
   "cell_type": "code",
   "execution_count": null,
   "metadata": {},
   "outputs": [],
   "source": [
    "c.tail()"
   ]
  },
  {
   "cell_type": "markdown",
   "metadata": {},
   "source": [
    "## 2. Try fast queries"
   ]
  },
  {
   "cell_type": "code",
   "execution_count": 7,
   "metadata": {},
   "outputs": [
    {
     "data": {
      "text/plain": [
       "86.53947243500001"
      ]
     },
     "execution_count": 7,
     "metadata": {},
     "output_type": "execute_result"
    }
   ],
   "source": [
    "gen_spectrum('GGG', ion='b', charge=2)['spectrum'][-1]"
   ]
  },
  {
   "cell_type": "code",
   "execution_count": null,
   "metadata": {},
   "outputs": [],
   "source": [
    "c[c['bd'].between(86.539, 86.54)]"
   ]
  },
  {
   "cell_type": "markdown",
   "metadata": {},
   "source": [
    "## 3. Search for substrings"
   ]
  },
  {
   "cell_type": "code",
   "execution_count": 8,
   "metadata": {},
   "outputs": [
    {
     "name": "stdout",
     "output_type": "stream",
     "text": [
      "CPU times: user 3.2 ms, sys: 1.51 ms, total: 4.71 ms\n",
      "Wall time: 4.16 ms\n"
     ]
    },
    {
     "data": {
      "text/plain": [
       "['UBFD1_MOUSE Ubiquitin domain-containing protein UBFD1',\n",
       " 'CIRBP_MOUSE Cold-inducible RNA-binding protein',\n",
       " 'MAP4_MOUSE Microtubule-associated protein 4',\n",
       " 'PA1B2_MOUSE Platelet-activating factor acetylhydrolase IB subunit beta',\n",
       " 'HNRPD_MOUSE Heterogeneous nuclear ribonucleoprotein D0',\n",
       " 'JUPI1_MOUSE Jupiter microtubule associated homolog 1',\n",
       " 'HNRH1_MOUSE Heterogeneous nuclear ribonucleoprotein H',\n",
       " 'TBB3_MOUSE Tubulin beta-3 chain',\n",
       " 'CDHR1_MOUSE Cadherin-related family member 1',\n",
       " 'PGRC1_MOUSE Membrane-associated progesterone receptor component 1',\n",
       " 'GORS2_MOUSE Golgi reassembly-stacking protein 2',\n",
       " 'HNRDL_MOUSE Heterogeneous nuclear ribonucleoprotein D-like',\n",
       " 'CHM4B_MOUSE Charged multivesicular body protein 4b',\n",
       " 'MESD_MOUSE LRP chaperone MESD',\n",
       " 'KV5A7_MOUSE Ig kappa chain V-V region MOPC 41',\n",
       " 'CO3_MOUSE Complement C3',\n",
       " 'NFH_MOUSE Neurofilament heavy polypeptide',\n",
       " 'NSF1C_MOUSE NSFL1 cofactor p47',\n",
       " 'BIP_MOUSE Endoplasmic reticulum chaperone BiP',\n",
       " 'KV5A2_MOUSE Ig kappa chain V-V region MOPC 21',\n",
       " 'CALR_MOUSE Calreticulin',\n",
       " 'CDK16_MOUSE Cyclin-dependent kinase 16',\n",
       " 'PDIA6_MOUSE Protein disulfide-isomerase A6',\n",
       " 'CLAT_MOUSE Choline O-acetyltransferase',\n",
       " 'CNBP_MOUSE Cellular nucleic acid-binding protein',\n",
       " 'LASP1_MOUSE LIM and SH3 domain protein 1',\n",
       " 'GLRX5_MOUSE Glutaredoxin-related protein 5, mitochondrial',\n",
       " 'PAIRB_MOUSE Plasminogen activator inhibitor 1 RNA-binding protein',\n",
       " 'INS2_MOUSE Insulin-2',\n",
       " 'COX5B_MOUSE Cytochrome c oxidase subunit 5B, mitochondrial',\n",
       " 'LYST_MOUSE Lysosomal-trafficking regulator',\n",
       " 'T22D1_MOUSE TSC22 domain family protein 1',\n",
       " 'CH60_MOUSE 60 kDa heat shock protein, mitochondrial',\n",
       " 'RBM3_MOUSE RNA-binding protein 3',\n",
       " 'ROA2_MOUSE Heterogeneous nuclear ribonucleoproteins A2/B1',\n",
       " 'SCG1_MOUSE Secretogranin-1',\n",
       " 'KCNQ5_MOUSE Potassium voltage-gated channel subfamily KQT member 5',\n",
       " 'CELR3_MOUSE Cadherin EGF LAG seven-pass G-type receptor 3',\n",
       " 'ISCA2_MOUSE Iron-sulfur cluster assembly 2 homolog, mitochondrial',\n",
       " 'BMP1_MOUSE Bone morphogenetic protein 1']"
      ]
     },
     "execution_count": 8,
     "metadata": {},
     "output_type": "execute_result"
    }
   ],
   "source": [
    "%%time\n",
    "list(proteins[proteins['sequence'].str.contains('GGG')]['name'])"
   ]
  },
  {
   "cell_type": "code",
   "execution_count": 9,
   "metadata": {},
   "outputs": [
    {
     "name": "stdout",
     "output_type": "stream",
     "text": [
      "CPU times: user 1.27 ms, sys: 75 µs, total: 1.34 ms\n",
      "Wall time: 1.3 ms\n"
     ]
    },
    {
     "data": {
      "text/plain": [
       "['UBFD1_MOUSE Ubiquitin domain-containing protein UBFD1',\n",
       " 'CIRBP_MOUSE Cold-inducible RNA-binding protein',\n",
       " 'MAP4_MOUSE Microtubule-associated protein 4',\n",
       " 'PA1B2_MOUSE Platelet-activating factor acetylhydrolase IB subunit beta',\n",
       " 'HNRPD_MOUSE Heterogeneous nuclear ribonucleoprotein D0',\n",
       " 'JUPI1_MOUSE Jupiter microtubule associated homolog 1',\n",
       " 'HNRH1_MOUSE Heterogeneous nuclear ribonucleoprotein H',\n",
       " 'TBB3_MOUSE Tubulin beta-3 chain',\n",
       " 'CDHR1_MOUSE Cadherin-related family member 1',\n",
       " 'PGRC1_MOUSE Membrane-associated progesterone receptor component 1',\n",
       " 'GORS2_MOUSE Golgi reassembly-stacking protein 2',\n",
       " 'HNRDL_MOUSE Heterogeneous nuclear ribonucleoprotein D-like',\n",
       " 'CHM4B_MOUSE Charged multivesicular body protein 4b',\n",
       " 'MESD_MOUSE LRP chaperone MESD',\n",
       " 'KV5A7_MOUSE Ig kappa chain V-V region MOPC 41',\n",
       " 'CO3_MOUSE Complement C3',\n",
       " 'NFH_MOUSE Neurofilament heavy polypeptide',\n",
       " 'NSF1C_MOUSE NSFL1 cofactor p47',\n",
       " 'BIP_MOUSE Endoplasmic reticulum chaperone BiP',\n",
       " 'KV5A2_MOUSE Ig kappa chain V-V region MOPC 21',\n",
       " 'CALR_MOUSE Calreticulin',\n",
       " 'CDK16_MOUSE Cyclin-dependent kinase 16',\n",
       " 'PDIA6_MOUSE Protein disulfide-isomerase A6',\n",
       " 'CLAT_MOUSE Choline O-acetyltransferase',\n",
       " 'CNBP_MOUSE Cellular nucleic acid-binding protein',\n",
       " 'LASP1_MOUSE LIM and SH3 domain protein 1',\n",
       " 'GLRX5_MOUSE Glutaredoxin-related protein 5, mitochondrial',\n",
       " 'PAIRB_MOUSE Plasminogen activator inhibitor 1 RNA-binding protein',\n",
       " 'INS2_MOUSE Insulin-2',\n",
       " 'COX5B_MOUSE Cytochrome c oxidase subunit 5B, mitochondrial',\n",
       " 'LYST_MOUSE Lysosomal-trafficking regulator',\n",
       " 'T22D1_MOUSE TSC22 domain family protein 1',\n",
       " 'CH60_MOUSE 60 kDa heat shock protein, mitochondrial',\n",
       " 'RBM3_MOUSE RNA-binding protein 3',\n",
       " 'ROA2_MOUSE Heterogeneous nuclear ribonucleoproteins A2/B1',\n",
       " 'SCG1_MOUSE Secretogranin-1',\n",
       " 'KCNQ5_MOUSE Potassium voltage-gated channel subfamily KQT member 5',\n",
       " 'CELR3_MOUSE Cadherin EGF LAG seven-pass G-type receptor 3',\n",
       " 'ISCA2_MOUSE Iron-sulfur cluster assembly 2 homolog, mitochondrial',\n",
       " 'BMP1_MOUSE Bone morphogenetic protein 1']"
      ]
     },
     "execution_count": 9,
     "metadata": {},
     "output_type": "execute_result"
    }
   ],
   "source": [
    "%%time\n",
    "list(proteins[proteins['sequence'].map(lambda x: 'GGG' in x)]['name'])"
   ]
  },
  {
   "cell_type": "code",
   "execution_count": 10,
   "metadata": {},
   "outputs": [
    {
     "name": "stdout",
     "output_type": "stream",
     "text": [
      "CPU times: user 2.08 ms, sys: 617 µs, total: 2.7 ms\n",
      "Wall time: 2.26 ms\n"
     ]
    },
    {
     "data": {
      "text/plain": [
       "['UBFD1_MOUSE Ubiquitin domain-containing protein UBFD1',\n",
       " 'CIRBP_MOUSE Cold-inducible RNA-binding protein',\n",
       " 'MAP4_MOUSE Microtubule-associated protein 4',\n",
       " 'PA1B2_MOUSE Platelet-activating factor acetylhydrolase IB subunit beta',\n",
       " 'HNRPD_MOUSE Heterogeneous nuclear ribonucleoprotein D0',\n",
       " 'JUPI1_MOUSE Jupiter microtubule associated homolog 1',\n",
       " 'HNRH1_MOUSE Heterogeneous nuclear ribonucleoprotein H',\n",
       " 'TBB3_MOUSE Tubulin beta-3 chain',\n",
       " 'CDHR1_MOUSE Cadherin-related family member 1',\n",
       " 'PGRC1_MOUSE Membrane-associated progesterone receptor component 1',\n",
       " 'GORS2_MOUSE Golgi reassembly-stacking protein 2',\n",
       " 'HNRDL_MOUSE Heterogeneous nuclear ribonucleoprotein D-like',\n",
       " 'CHM4B_MOUSE Charged multivesicular body protein 4b',\n",
       " 'MESD_MOUSE LRP chaperone MESD',\n",
       " 'KV5A7_MOUSE Ig kappa chain V-V region MOPC 41',\n",
       " 'CO3_MOUSE Complement C3',\n",
       " 'NFH_MOUSE Neurofilament heavy polypeptide',\n",
       " 'NSF1C_MOUSE NSFL1 cofactor p47',\n",
       " 'BIP_MOUSE Endoplasmic reticulum chaperone BiP',\n",
       " 'KV5A2_MOUSE Ig kappa chain V-V region MOPC 21',\n",
       " 'CALR_MOUSE Calreticulin',\n",
       " 'CDK16_MOUSE Cyclin-dependent kinase 16',\n",
       " 'PDIA6_MOUSE Protein disulfide-isomerase A6',\n",
       " 'CLAT_MOUSE Choline O-acetyltransferase',\n",
       " 'CNBP_MOUSE Cellular nucleic acid-binding protein',\n",
       " 'LASP1_MOUSE LIM and SH3 domain protein 1',\n",
       " 'GLRX5_MOUSE Glutaredoxin-related protein 5, mitochondrial',\n",
       " 'PAIRB_MOUSE Plasminogen activator inhibitor 1 RNA-binding protein',\n",
       " 'INS2_MOUSE Insulin-2',\n",
       " 'COX5B_MOUSE Cytochrome c oxidase subunit 5B, mitochondrial',\n",
       " 'LYST_MOUSE Lysosomal-trafficking regulator',\n",
       " 'T22D1_MOUSE TSC22 domain family protein 1',\n",
       " 'CH60_MOUSE 60 kDa heat shock protein, mitochondrial',\n",
       " 'RBM3_MOUSE RNA-binding protein 3',\n",
       " 'ROA2_MOUSE Heterogeneous nuclear ribonucleoproteins A2/B1',\n",
       " 'SCG1_MOUSE Secretogranin-1',\n",
       " 'KCNQ5_MOUSE Potassium voltage-gated channel subfamily KQT member 5',\n",
       " 'CELR3_MOUSE Cadherin EGF LAG seven-pass G-type receptor 3',\n",
       " 'ISCA2_MOUSE Iron-sulfur cluster assembly 2 homolog, mitochondrial',\n",
       " 'BMP1_MOUSE Bone morphogenetic protein 1']"
      ]
     },
     "execution_count": 10,
     "metadata": {},
     "output_type": "execute_result"
    }
   ],
   "source": [
    "%%time\n",
    "list(proteins[proteins['sequence'].apply(lambda x: 'GGG' in x)]['name'])"
   ]
  },
  {
   "cell_type": "code",
   "execution_count": null,
   "metadata": {},
   "outputs": [],
   "source": []
  }
 ],
 "metadata": {
  "kernelspec": {
   "display_name": "Python 3",
   "language": "python",
   "name": "python3"
  }
 },
 "nbformat": 4,
 "nbformat_minor": 4
}

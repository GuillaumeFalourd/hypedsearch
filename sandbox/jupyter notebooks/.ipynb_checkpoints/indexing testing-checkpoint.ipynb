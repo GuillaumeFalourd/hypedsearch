{
 "cells": [
  {
   "cell_type": "markdown",
   "metadata": {},
   "source": [
    "# Testing indexing a database\n",
    "Due to the amount of time it takes to run the current iteration, we need to do some indexing of the database\n",
    "\n",
    "#### Proposed idea\n",
    "Create a new proprietary database from a .fasta one\n",
    "1. Identify all the 3-mers in the database\n",
    "2. Using the 3-mers as keys to a hash map, list all the (protein, position) pairings in the value\n",
    "3. Only look through the 3-mers that are interesting\n"
   ]
  },
  {
   "cell_type": "markdown",
   "metadata": {},
   "source": [
    "## import the fasta file "
   ]
  },
  {
   "cell_type": "code",
   "execution_count": 2,
   "metadata": {},
   "outputs": [],
   "source": [
    "import os\n",
    "import sys\n",
    "module_path = os.path.abspath(os.path.join('..'))\n",
    "if module_path not in sys.path:\n",
    "    sys.path.append(module_path)\n",
    "module_path = os.path.abspath(os.path.join('../..'))\n",
    "if module_path not in sys.path:\n",
    "    sys.path.append(module_path)\n",
    "\n",
    "from src.file_io import fasta\n",
    "fasta_file_name = '../../testing framework/data/databases/4prots.fasta'\n",
    "database = fasta.read(fasta_file_name)\n"
   ]
  },
  {
   "cell_type": "markdown",
   "metadata": {},
   "source": [
    "## find all the k-mers in the database and keep track of them"
   ]
  },
  {
   "cell_type": "code",
   "execution_count": null,
   "metadata": {},
   "outputs": [],
   "source": [
    "kmers = {}\n",
    "kmer_len = 3\n",
    "for entry in database:\n",
    "    for i in range(len(entry['sequence']) - kmer_len + 1):\n",
    "        mer = entry['sequence'][i: i+kmer_len]\n",
    "        if mer not in kmers:\n",
    "            kmers[mer] = []\n",
    "        pairing = (entry['name'])"
   ]
  }
 ],
 "metadata": {
  "kernelspec": {
   "display_name": "Python 3",
   "language": "python",
   "name": "python3"
  },
  "language_info": {
   "codemirror_mode": {
    "name": "ipython",
    "version": 3
   },
   "file_extension": ".py",
   "mimetype": "text/x-python",
   "name": "python",
   "nbconvert_exporter": "python",
   "pygments_lexer": "ipython3",
   "version": "3.7.4"
  }
 },
 "nbformat": 4,
 "nbformat_minor": 4
}

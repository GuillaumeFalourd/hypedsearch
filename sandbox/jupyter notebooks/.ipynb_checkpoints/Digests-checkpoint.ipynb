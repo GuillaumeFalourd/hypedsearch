{
 "cells": [
  {
   "cell_type": "code",
   "execution_count": 18,
   "metadata": {},
   "outputs": [],
   "source": [
    "digests = {\n",
    "    \"trypsin\": {\n",
    "        \"start\" : [\n",
    "            {\n",
    "                \"amino_acid\": \"D\", \n",
    "                \"cut_position\": \"left\"\n",
    "            }\n",
    "        ], \n",
    "        \"end\" : [\n",
    "            {\n",
    "                \"amino_acid\": \"R\", \n",
    "                \"cut_position\": \"right\"\n",
    "            }, {\n",
    "                \"amino_acid\": \"K\", \n",
    "                \"cut_position\": \"right\"\n",
    "            }\n",
    "        ]\n",
    "    }\n",
    "}"
   ]
  },
  {
   "cell_type": "code",
   "execution_count": null,
   "metadata": {},
   "outputs": [],
   "source": [
    "def digest(db: Database, digest_type: str, missed_cleavages: int) -> Database:\n",
    "    '''\n",
    "    Digest each protein in the database. If no digest is done, then \n",
    "    the original database is returned. \n",
    "    NOTE: \n",
    "    The entires in the database after digestion are the names of the form\n",
    "    <protein_name>_<start_position>_<end_position>\n",
    "\n",
    "    Inputs:\n",
    "        db:                 (Database) the input source\n",
    "        digest_type:        (str) the digestion to perform\n",
    "        missed_cleavages:   (int) the number of missed cleavages allowed\n",
    "    Outputs:\n",
    "        (Database) updated protein entries\n",
    "    '''\n",
    "    if digest_type not in digests:\n",
    "        return db\n",
    "    \n",
    "    digest_rules = digests[digest_type]\n",
    "    starts = {s['amino_acid']: s['cut_position'] for s in digest_rules['start']}\n",
    "    ends = {s['amino_acid']: s['cut_position'] for s in digest_rules['end']}\n",
    "    \n",
    "    new_prots = {}\n",
    "    \n",
    "    for p_name, entry in db.proteins.items():\n",
    "        \n",
    "        for pos, aa in enumerate(entry.sequence):\n",
    "            \n",
    "            digested = []\n",
    "            \n",
    "            if aa in starts:\n",
    "                \n",
    "                # get the starting position for this cut based on rule\n",
    "                s = pos if starts[aa] == 'left' else pos + 1\n",
    "                \n",
    "                allowed_misses = missed_cleavages\n",
    "                \n",
    "                # find all of the next ends. we will keep track of them for up to missed_cleavages\n",
    "                for j in range(pos, len(entry.sequence)):\n",
    "                    \n",
    "                    # if we're out of missed cleavages, break\n",
    "                    if allowed_misses < 0:\n",
    "                        break\n",
    "                    \n",
    "                    \n",
    "                    # check if we're at the end\n",
    "                    if j == len(entry.sequence) - 1:\n",
    "                        \n",
    "                        # get the cut sequence\n",
    "                        digested.append(entry.sequence[s:], s, len(entry.sequence))\n",
    "                        break\n",
    "                    \n",
    "                    # check of this aa is an end\n",
    "                    if entry.sequence[j] in ends:\n",
    "                        \n",
    "                        # first reduce allowed\n",
    "                        allowed_misses -= 1\n",
    "                        \n",
    "                        # determine if we do j or j+1 based on the rule\n",
    "                        e = j if ends[entry.sequence[j]] == 'left' else j + 1\n",
    "                        \n",
    "                        digested.append(entry.sequence[s:e], s, e)\n",
    "                        \n",
    "        for d in digested:\n",
    "            new_prots[f'{prot_name}_{d[1]}_{d[2]}'] = d[0]\n",
    "            \n",
    "    db._replace(proteins=new_prots)\n",
    "    return db"
   ]
  },
  {
   "cell_type": "code",
   "execution_count": 19,
   "metadata": {},
   "outputs": [],
   "source": [
    "p = 'MATPEASGSGEKVEGSEPSVTYYRLEEVAKRNSAEETWMVIHGRVYDITRFLSEHPGGEEVLLEQAGADATESFEDVGHSPDAREMLKQYYIGDVHPSDLKPKGDDKDPSKNNSCQSSWAYWFVPIVGAILIGFLYRHFWADSKSS'\n"
   ]
  },
  {
   "cell_type": "code",
   "execution_count": 20,
   "metadata": {},
   "outputs": [
    {
     "name": "stdout",
     "output_type": "stream",
     "text": [
      "[11, 23, 29, 30, 43, 49, 83, 87, 100, 102, 106, 110, 136, 143]\n"
     ]
    }
   ],
   "source": [
    "print([i for i, aa in enumerate(p) if aa == 'K' or aa == 'R'])"
   ]
  },
  {
   "cell_type": "code",
   "execution_count": 28,
   "metadata": {},
   "outputs": [
    {
     "data": {
      "text/plain": [
       "['MATPEASGSGEKVEGSEPSVTYYRLEEVAKRNSAEETWMVIHGRVYDITRFLSEHPGGEEVLLEQAGADATESFEDVGHSPDAREMLKQYYIGDVHPSDLKPKGDDKDPSKNNSCQSSWAYWFVPIVGAILIGFLYRHFWADSKSS']"
      ]
     },
     "execution_count": 28,
     "metadata": {},
     "output_type": "execute_result"
    }
   ],
   "source": [
    "tryptic(p, 15)"
   ]
  },
  {
   "cell_type": "code",
   "execution_count": null,
   "metadata": {},
   "outputs": [],
   "source": []
  }
 ],
 "metadata": {
  "kernelspec": {
   "display_name": "Python 3",
   "language": "python",
   "name": "python3"
  },
  "language_info": {
   "codemirror_mode": {
    "name": "ipython",
    "version": 3
   },
   "file_extension": ".py",
   "mimetype": "text/x-python",
   "name": "python",
   "nbconvert_exporter": "python",
   "pygments_lexer": "ipython3",
   "version": "3.7.4"
  }
 },
 "nbformat": 4,
 "nbformat_minor": 4
}

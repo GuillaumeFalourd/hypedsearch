{
 "cells": [
  {
   "cell_type": "markdown",
   "metadata": {},
   "source": [
    "# Pre-processing spectra to make easier to search\n",
    "\n",
    "Idea: make one big spectrum that we will then tag masses with amino acid sequences\n",
    "\n",
    "Flow: \n",
    "1. Load all spectra\n",
    "2. Make a single large spectrum called `S`\n",
    "3. Find the `max_length` peptide from the maximum mass\n",
    "4. Load the database\n",
    "5. For each protein `P` of the database\n",
    "    1. For each kmer `k` of length `max_length`\n",
    "        1. Calculate each individual spectrum for `(b+, b++, y+, y++)` (we call `ts`)\n",
    "        2. For each `ts`:\n",
    "            1. For each mass `m` of this `ts`:\n",
    "                1. Binary search `S` for `m` plus/minus tolerance\n",
    "                2. If the mass is found, add the `k(m)` to some list for `m`\n",
    "6. For each observed spectrum `o`:\n",
    "    1. For each mass `m` of `o`:\n",
    "        1. Find the `k`s associated with that mass\n",
    "7. Aggregate the `k`s for `o`\n",
    "8. Put together a sequence for this\n",
    "                "
   ]
  },
  {
   "cell_type": "code",
   "execution_count": 1,
   "metadata": {},
   "outputs": [],
   "source": [
    "import os\n",
    "import sys\n",
    "module_path = os.path.abspath(os.path.join('..'))\n",
    "if module_path not in sys.path:\n",
    "    sys.path.append(module_path)\n",
    "module_path = os.path.abspath(os.path.join('../..'))\n",
    "if module_path not in sys.path:\n",
    "    sys.path.append(module_path)\n",
    "    \n",
    "from pyteomics import fasta\n",
    "from collections import defaultdict\n",
    "from src.sequence.gen_spectra import gen_spectrum, gen_min_ordering\n",
    "from src.file_io import mzML\n",
    "from src.objects import Spectrum\n",
    "from src.utils import ppm_to_da\n",
    "from src.scoring import scoring\n",
    "\n",
    "import bisect\n",
    "\n",
    "from mass_dawg import PyMassDawg\n",
    "\n",
    "import numpy as np\n",
    "\n",
    "ppm_tol = 20"
   ]
  },
  {
   "cell_type": "code",
   "execution_count": 2,
   "metadata": {},
   "outputs": [],
   "source": [
    "def longest_array(window, length):\n",
    "    return int(np.ceil(1/window * length * 186.079313))\n",
    "\n",
    "def sparse_it(spectrum, window, length):\n",
    "    sparse = np.zeros(longest_array(window, length))\n",
    "    for mz in spectrum:\n",
    "        mz_direct = int(mz/window)\n",
    "        sparse[mz_direct] = 1\n",
    "    \n",
    "    return sparse"
   ]
  },
  {
   "cell_type": "markdown",
   "metadata": {},
   "source": [
    "## 1. Load all spectra"
   ]
  },
  {
   "cell_type": "code",
   "execution_count": 3,
   "metadata": {},
   "outputs": [],
   "source": [
    "spectra_file = '/Users/zacharymcgrath/Desktop/nod2 data/single/singleRealSpectrum.mzml'\n",
    "fasta_file = '/Users/zacharymcgrath/Desktop/nod2 data/filteredNOD2.fasta'"
   ]
  },
  {
   "cell_type": "code",
   "execution_count": 4,
   "metadata": {},
   "outputs": [],
   "source": [
    "spectra = mzML.read(spectra_file, peak_filter=25)"
   ]
  },
  {
   "cell_type": "markdown",
   "metadata": {},
   "source": [
    "## 2. Make the single large spectrum"
   ]
  },
  {
   "cell_type": "code",
   "execution_count": 5,
   "metadata": {},
   "outputs": [],
   "source": [
    "all_spectra = sorted([x for spectrum in spectra for x in spectrum.spectrum])"
   ]
  },
  {
   "cell_type": "markdown",
   "metadata": {},
   "source": [
    "## 3. Find the max length possible peptide"
   ]
  },
  {
   "cell_type": "code",
   "execution_count": 6,
   "metadata": {},
   "outputs": [],
   "source": [
    "max_len = int(np.ceil(all_spectra[-1]/ 57.021464))"
   ]
  },
  {
   "cell_type": "markdown",
   "metadata": {},
   "source": [
    "## 4. Load the database into RAM"
   ]
  },
  {
   "cell_type": "code",
   "execution_count": 7,
   "metadata": {},
   "outputs": [],
   "source": [
    "prots = {}\n",
    "for i, entry in enumerate(fasta.read(fasta_file)):\n",
    "    prots[i] = entry"
   ]
  },
  {
   "cell_type": "markdown",
   "metadata": {},
   "source": [
    "## 5. The search"
   ]
  },
  {
   "cell_type": "code",
   "execution_count": 8,
   "metadata": {},
   "outputs": [
    {
     "name": "stdout",
     "output_type": "stream",
     "text": [
      "On protein 279/279 [100%]"
     ]
    }
   ],
   "source": [
    "b_hits = {}\n",
    "y_hits = {}\n",
    "plen = len(prots)\n",
    "\n",
    "for i, prot_entry in prots.items():\n",
    "    \n",
    "    print(f'\\rOn protein {i+1}/{plen} [{int((i+1) * 100 / plen)}%]', end='')\n",
    "    \n",
    "    for j in range(len(prot_entry.sequence) - max_len):\n",
    "        kmer = prot_entry.sequence[j:j+max_len]\n",
    "        \n",
    "        for ion in 'by':\n",
    "            for charge in [1, 2]:\n",
    "                spec = gen_spectrum(kmer, ion=ion, charge=charge)['spectrum']\n",
    "            \n",
    "                for c, mass in enumerate(spec):\n",
    "\n",
    "                    da_tol = ppm_to_da(mass, ppm_tol)\n",
    "                    lb = mass - da_tol\n",
    "                    ub = mass + da_tol\n",
    "                    \n",
    "                    beginning_entry = bisect.bisect_left(all_spectra, lb)\n",
    "                    \n",
    "                    # see if the NEXT value is in the range. If so, keep the kmer\n",
    "                    if beginning_entry + 1 < len(all_spectra) and all_spectra[beginning_entry] <= ub:\n",
    "                        if ion == 'b':\n",
    "                            b_hits[kmer[:c+1]] = None\n",
    "                        else:\n",
    "                            y_hits[kmer[-c-1:]] = None                     \n",
    "                    "
   ]
  },
  {
   "cell_type": "code",
   "execution_count": 9,
   "metadata": {},
   "outputs": [],
   "source": [
    "b_dog = PyMassDawg()\n",
    "y_dog = PyMassDawg()"
   ]
  },
  {
   "cell_type": "code",
   "execution_count": 10,
   "metadata": {},
   "outputs": [],
   "source": [
    "for kmer in sorted(b_hits.keys(), key=gen_min_ordering):\n",
    "    bs = gen_spectrum(kmer, ion='b', charge=1)['spectrum']\n",
    "    bd = gen_spectrum(kmer, ion='b', charge=2)['spectrum']\n",
    "    b_dog.insert(bs, bd, kmer)\n",
    "b_dog.finish()"
   ]
  },
  {
   "cell_type": "code",
   "execution_count": 11,
   "metadata": {},
   "outputs": [],
   "source": [
    "for kmer in sorted(y_hits.keys(), key=lambda x: gen_min_ordering(x[::-1])):\n",
    "    ys = gen_spectrum(kmer, ion='y', charge=1)['spectrum']\n",
    "    yd = gen_spectrum(kmer, ion='y', charge=2)['spectrum']\n",
    "    y_dog.insert(ys, yd, kmer[::-1])\n",
    "\n",
    "y_dog.finish()"
   ]
  },
  {
   "cell_type": "code",
   "execution_count": 12,
   "metadata": {},
   "outputs": [
    {
     "data": {
      "text/plain": [
       "[('SAGT', 0.42354090096684777),\n",
       " ('SASA', 0.42354090096684777),\n",
       " ('SATG', 0.42354090096684777),\n",
       " ('SAAS', 0.42354090096684777),\n",
       " ('ADAD', 0.39052844801848446),\n",
       " ('GEAL', 0.39052844801848446),\n",
       " ('EGAL', 0.39052844801848446),\n",
       " ('GEAD', 0.39052844801848446),\n",
       " ('DAAL', 0.39052844801848446),\n",
       " ('ADAL', 0.39052844801848446),\n",
       " ('GEAI', 0.39052844801848446),\n",
       " ('EGAI', 0.39052844801848446),\n",
       " ('EGAD', 0.39052844801848446),\n",
       " ('DAAI', 0.39052844801848446),\n",
       " ('DAAD', 0.39052844801848446),\n",
       " ('ADAI', 0.39052844801848446),\n",
       " ('GTTG', 0.19349326699225233),\n",
       " ('GTAS', 0.19349326699225233),\n",
       " ('GTSA', 0.19349326699225233),\n",
       " ('TGSA', 0.19349326699225233),\n",
       " ('ASGT', 0.19349326699225233),\n",
       " ('GTGT', 0.19349326699225233),\n",
       " ('ASSA', 0.19349326699225233),\n",
       " ('ASAS', 0.19349326699225233),\n",
       " ('TGAS', 0.19349326699225233),\n",
       " ('TGTG', 0.19349326699225233),\n",
       " ('EGEG', 0.13060186168812773),\n",
       " ('ADIA', 0.13060186168812773),\n",
       " ('DAIA', 0.13060186168812773),\n",
       " ('DALA', 0.13060186168812773),\n",
       " ('ADLA', 0.13060186168812773),\n",
       " ('GEDA', 0.13060186168812773),\n",
       " ('DAGE', 0.13060186168812773),\n",
       " ('DADA', 0.13060186168812773),\n",
       " ('ADEG', 0.13060186168812773),\n",
       " ('EGIA', 0.13060186168812773),\n",
       " ('EGGE', 0.13060186168812773),\n",
       " ('EGLA', 0.13060186168812773),\n",
       " ('GEIA', 0.13060186168812773),\n",
       " ('GELA', 0.13060186168812773),\n",
       " ('DAEG', 0.13060186168812773),\n",
       " ('GEEG', 0.13060186168812773),\n",
       " ('SSPV', 0.07310873396468617),\n",
       " ('SSVP', 0.07310873396468617),\n",
       " ('SSAA', 0.07310873396468617),\n",
       " ('QEI', 0.0646623623211145),\n",
       " ('EAGI', 0.0646623623211145),\n",
       " ('AGEI', 0.0646623623211145),\n",
       " ('EAGL', 0.0646623623211145),\n",
       " ('AGEL', 0.0646623623211145),\n",
       " ('QEL', 0.0646623623211145),\n",
       " ('EQI', 0.0646623623211145),\n",
       " ('EAGD', 0.0646623623211145),\n",
       " ('AADI', 0.0646623623211145),\n",
       " ('GAEL', 0.0646623623211145),\n",
       " ('AEGD', 0.0646623623211145),\n",
       " ('AADL', 0.0646623623211145),\n",
       " ('GAEI', 0.0646623623211145),\n",
       " ('AEGL', 0.0646623623211145),\n",
       " ('QED', 0.0646623623211145),\n",
       " ('EQD', 0.0646623623211145),\n",
       " ('EQL', 0.0646623623211145),\n",
       " ('SVPS', 0.018277183491171543),\n",
       " ('SPSV', 0.018277183491171543),\n",
       " ('SGTA', 0.018277183491171543),\n",
       " ('SQT', 0.018277183491171543),\n",
       " ('STAG', 0.018277183491171543),\n",
       " ('STQ', 0.018277183491171543),\n",
       " ('SVSP', 0.018277183491171543),\n",
       " ('SPVS', 0.018277183491171543),\n",
       " ('SA', 0.018277183491171543),\n",
       " ('STGA', 0.018277183491171543),\n",
       " ('SGAT', 0.018277183491171543),\n",
       " ('AVEA', 0.0),\n",
       " ('GSAT', 0.0),\n",
       " ('TSGA', 0.0),\n",
       " ('GADE', 0.0),\n",
       " ('VEAA', 0.0),\n",
       " ('LADA', 0.0),\n",
       " ('LEAG', 0.0),\n",
       " ('EIAG', 0.0),\n",
       " ('TSQ', 0.0),\n",
       " ('TG', 0.0),\n",
       " ('DEAG', 0.0),\n",
       " ('VPSS', 0.0),\n",
       " ('TTPA', 0.0),\n",
       " ('VGVD', 0.0),\n",
       " ('GGTT', 0.0),\n",
       " ('AASS', 0.0),\n",
       " ('QDE', 0.0),\n",
       " ('TAPT', 0.0),\n",
       " ('EDQ', 0.0),\n",
       " ('AAEV', 0.0),\n",
       " ('VSPS', 0.0),\n",
       " ('TSAG', 0.0),\n",
       " ('AEVA', 0.0),\n",
       " ('DGVV', 0.0),\n",
       " ('PTTA', 0.0),\n",
       " ('AAID', 0.0),\n",
       " ('AEDG', 0.0),\n",
       " ('GDEA', 0.0),\n",
       " ('DGEA', 0.0),\n",
       " ('LQE', 0.0),\n",
       " ('TATP', 0.0),\n",
       " ('AIAD', 0.0),\n",
       " ('LAEG', 0.0),\n",
       " ('AEAV', 0.0),\n",
       " ('GLAE', 0.0),\n",
       " ('PTAT', 0.0),\n",
       " ('IEQ', 0.0),\n",
       " ('QLE', 0.0),\n",
       " ('ALEG', 0.0),\n",
       " ('DIAA', 0.0),\n",
       " ('IQE', 0.0),\n",
       " ('ENE', 0.0),\n",
       " ('EALG', 0.0),\n",
       " ('LEQ', 0.0),\n",
       " ('GIAE', 0.0),\n",
       " ('AGIE', 0.0),\n",
       " ('APTT', 0.0),\n",
       " ('TNT', 0.0),\n",
       " ('PSSV', 0.0),\n",
       " ('AELG', 0.0),\n",
       " ('VGDV', 0.0),\n",
       " ('IAAD', 0.0),\n",
       " ('DVVG', 0.0),\n",
       " ('LGEA', 0.0),\n",
       " ('QST', 0.0),\n",
       " ('DQE', 0.0),\n",
       " ('GT', 0.0),\n",
       " ('GAST', 0.0),\n",
       " ('ELQ', 0.0),\n",
       " ('VSSP', 0.0),\n",
       " ('TAGS', 0.0),\n",
       " ('VAEA', 0.0),\n",
       " ('K', 0.0),\n",
       " ('TASG', 0.0),\n",
       " ('EAVA', 0.0),\n",
       " ('PVSS', 0.0),\n",
       " ('EEN', 0.0),\n",
       " ('GVVD', 0.0),\n",
       " ('DP', 0.0),\n",
       " ('LGAE', 0.0),\n",
       " ('NTT', 0.0),\n",
       " ('EDAG', 0.0),\n",
       " ('AGDE', 0.0),\n",
       " ('IDAA', 0.0),\n",
       " ('PSVS', 0.0),\n",
       " ('GIEA', 0.0),\n",
       " ('VDVG', 0.0),\n",
       " ('TTAP', 0.0),\n",
       " ('DEQ', 0.0),\n",
       " ('GATS', 0.0),\n",
       " ('PD', 0.0),\n",
       " ('EDGA', 0.0),\n",
       " ('GALE', 0.0),\n",
       " ('AALD', 0.0),\n",
       " ('EVAA', 0.0),\n",
       " ('GDAE', 0.0),\n",
       " ('AS', 0.0),\n",
       " ('VVGD', 0.0),\n",
       " ('TPTA', 0.0),\n",
       " ('EEGG', 0.0),\n",
       " ('IADA', 0.0),\n",
       " ('GDVV', 0.0),\n",
       " ('TTN', 0.0),\n",
       " ('GSTA', 0.0),\n",
       " ('ALAD', 0.0),\n",
       " ('VAAE', 0.0),\n",
       " ('LDAA', 0.0),\n",
       " ('AEIG', 0.0),\n",
       " ('AGST', 0.0),\n",
       " ('NEE', 0.0),\n",
       " ('ALGE', 0.0),\n",
       " ('AGTS', 0.0),\n",
       " ('EAAV', 0.0),\n",
       " ('DLAA', 0.0),\n",
       " ('LEGA', 0.0),\n",
       " ('EIQ', 0.0),\n",
       " ('TQS', 0.0),\n",
       " ('LAGE', 0.0),\n",
       " ('AVAE', 0.0),\n",
       " ('ATPT', 0.0),\n",
       " ('ATSG', 0.0),\n",
       " ('QTS', 0.0),\n",
       " ('GGEE', 0.0),\n",
       " ('EADG', 0.0),\n",
       " ('AAVE', 0.0),\n",
       " ('VDGV', 0.0),\n",
       " ('AGLE', 0.0),\n",
       " ('QIE', 0.0),\n",
       " ('PATT', 0.0),\n",
       " ('VVDG', 0.0),\n",
       " ('TPAT', 0.0),\n",
       " ('ALDA', 0.0)]"
      ]
     },
     "execution_count": 12,
     "metadata": {},
     "output_type": "execute_result"
    }
   ],
   "source": [
    "b_search_results = b_dog.fuzzy_search(spectra[1].spectrum, 1, ppm_tol)\n",
    "sorted([(kmer, scoring.ion_intensity_percentage(spectra[1], kmer, ppm_tol, 'b')) for kmer in b_search_results], key=lambda x: x[1], reverse=True)\n"
   ]
  },
  {
   "cell_type": "code",
   "execution_count": 13,
   "metadata": {},
   "outputs": [],
   "source": [
    "y_search_results = [x[::-1] for x in y_dog.fuzzy_search(spectra[1].spectrum, 1, 20)]"
   ]
  },
  {
   "cell_type": "code",
   "execution_count": null,
   "metadata": {},
   "outputs": [],
   "source": []
  }
 ],
 "metadata": {
  "kernelspec": {
   "display_name": "Python 3",
   "language": "python",
   "name": "python3"
  },
  "language_info": {
   "codemirror_mode": {
    "name": "ipython",
    "version": 3
   },
   "file_extension": ".py",
   "mimetype": "text/x-python",
   "name": "python",
   "nbconvert_exporter": "python",
   "pygments_lexer": "ipython3",
   "version": "3.7.4"
  }
 },
 "nbformat": 4,
 "nbformat_minor": 4
}

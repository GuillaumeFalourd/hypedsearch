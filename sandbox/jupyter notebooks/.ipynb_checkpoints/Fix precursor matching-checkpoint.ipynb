{
 "cells": [
  {
   "cell_type": "code",
   "execution_count": 1,
   "metadata": {},
   "outputs": [],
   "source": [
    "from pyteomics import fasta\n",
    "import pandas as pd\n"
   ]
  },
  {
   "cell_type": "code",
   "execution_count": 2,
   "metadata": {},
   "outputs": [],
   "source": [
    "prots_str = ''\n",
    "fasta_file = '/Users/zacharymcgrath/Desktop/nod2 data/filteredNOD2.fasta'"
   ]
  },
  {
   "cell_type": "code",
   "execution_count": 3,
   "metadata": {},
   "outputs": [
    {
     "data": {
      "text/html": [
       "<div>\n",
       "<style scoped>\n",
       "    .dataframe tbody tr th:only-of-type {\n",
       "        vertical-align: middle;\n",
       "    }\n",
       "\n",
       "    .dataframe tbody tr th {\n",
       "        vertical-align: top;\n",
       "    }\n",
       "\n",
       "    .dataframe thead th {\n",
       "        text-align: right;\n",
       "    }\n",
       "</style>\n",
       "<table border=\"1\" class=\"dataframe\">\n",
       "  <thead>\n",
       "    <tr style=\"text-align: right;\">\n",
       "      <th></th>\n",
       "      <th>name</th>\n",
       "      <th>id</th>\n",
       "      <th>sequence</th>\n",
       "    </tr>\n",
       "  </thead>\n",
       "  <tbody>\n",
       "    <tr>\n",
       "      <td>0</td>\n",
       "      <td>LEG1_MOUSE Galectin-1</td>\n",
       "      <td>P16045</td>\n",
       "      <td>MACGLVASNLNLKPGECLKVRGEVASDAKSFVLNLGKDSNNLCLHF...</td>\n",
       "    </tr>\n",
       "    <tr>\n",
       "      <td>1</td>\n",
       "      <td>ERP44_MOUSE Endoplasmic reticulum resident pro...</td>\n",
       "      <td>Q9D1Q6</td>\n",
       "      <td>MNPAVFLSLADLRCSLLLLVTSIFTPITAEIASLDSENIDEILNNA...</td>\n",
       "    </tr>\n",
       "    <tr>\n",
       "      <td>2</td>\n",
       "      <td>ACPM_MOUSE Acyl carrier protein, mitochondrial</td>\n",
       "      <td>Q9CR21</td>\n",
       "      <td>MASRVLCACVRRLPAAFAPLPRLPTLALARPLSTTLCPEGIRRRPG...</td>\n",
       "    </tr>\n",
       "    <tr>\n",
       "      <td>3</td>\n",
       "      <td>HPS3_MOUSE Hermansky-Pudlak syndrome 3 protein...</td>\n",
       "      <td>Q91VB4</td>\n",
       "      <td>MVRLYNLHPFGSQQVVPCQWEPEQVCCGGSDALFVAAGCKVEAFAV...</td>\n",
       "    </tr>\n",
       "    <tr>\n",
       "      <td>4</td>\n",
       "      <td>PPIA_MOUSE Peptidyl-prolyl cis-trans isomerase A</td>\n",
       "      <td>P17742</td>\n",
       "      <td>MVNPTVFFDITADDEPLGRVSFELFADKVPKTAENFRALSTGEKGF...</td>\n",
       "    </tr>\n",
       "  </tbody>\n",
       "</table>\n",
       "</div>"
      ],
      "text/plain": [
       "                                                name      id  \\\n",
       "0                              LEG1_MOUSE Galectin-1  P16045   \n",
       "1  ERP44_MOUSE Endoplasmic reticulum resident pro...  Q9D1Q6   \n",
       "2     ACPM_MOUSE Acyl carrier protein, mitochondrial  Q9CR21   \n",
       "3  HPS3_MOUSE Hermansky-Pudlak syndrome 3 protein...  Q91VB4   \n",
       "4   PPIA_MOUSE Peptidyl-prolyl cis-trans isomerase A  P17742   \n",
       "\n",
       "                                            sequence  \n",
       "0  MACGLVASNLNLKPGECLKVRGEVASDAKSFVLNLGKDSNNLCLHF...  \n",
       "1  MNPAVFLSLADLRCSLLLLVTSIFTPITAEIASLDSENIDEILNNA...  \n",
       "2  MASRVLCACVRRLPAAFAPLPRLPTLALARPLSTTLCPEGIRRRPG...  \n",
       "3  MVRLYNLHPFGSQQVVPCQWEPEQVCCGGSDALFVAAGCKVEAFAV...  \n",
       "4  MVNPTVFFDITADDEPLGRVSFELFADKVPKTAENFRALSTGEKGF...  "
      ]
     },
     "execution_count": 3,
     "metadata": {},
     "output_type": "execute_result"
    }
   ],
   "source": [
    "# split the name on the OS value if it exists\n",
    "get_name = lambda name: name[:name.index('OS=')-1] if 'OS=' in name else name\n",
    "\n",
    "prots = []\n",
    "\n",
    "# go through each entry in the fasta and put it in memory\n",
    "for i, entry in enumerate(fasta.read(fasta_file)):\n",
    "\n",
    "    # take the description without the 'sp' value\n",
    "    desc = entry.description.split('|')[1:] if '|' in entry.description else entry.description\n",
    "\n",
    "    # if the id is in the description, take it\n",
    "    if len(desc) > 1:\n",
    "        id_ = desc[0]\n",
    "        name = get_name(desc[1])\n",
    "\n",
    "    # make the id just the number\n",
    "    else:\n",
    "        id_ = i\n",
    "        name = get_name(desc[0])\n",
    "\n",
    "    # get the sequence\n",
    "    seq = entry.sequence\n",
    "\n",
    "    # make the entry and add it to prots\n",
    "    prots.append((name, id_, seq))\n",
    "    \n",
    "    prots_str += f'|name=${name}$?seq=${seq}$?id=${id_}$|'\n",
    "                 \n",
    "prots_df = pd.DataFrame(prots, columns=['name', 'id', 'sequence'])\n",
    "prots_df.head()"
   ]
  },
  {
   "cell_type": "code",
   "execution_count": 4,
   "metadata": {},
   "outputs": [
    {
     "name": "stdout",
     "output_type": "stream",
     "text": [
      "size of df: 164228\n",
      "size of str: 122546\n"
     ]
    }
   ],
   "source": [
    "import sys\n",
    "print(f'size of df: {sys.getsizeof(prots_df)}')\n",
    "print(f'size of str: {sys.getsizeof(prots_str)}')"
   ]
  },
  {
   "cell_type": "code",
   "execution_count": 5,
   "metadata": {},
   "outputs": [
    {
     "name": "stdout",
     "output_type": "stream",
     "text": [
      "CPU times: user 3.09 ms, sys: 158 µs, total: 3.25 ms\n",
      "Wall time: 3.24 ms\n"
     ]
    },
    {
     "data": {
      "text/plain": [
       "'8      UBFD1_MOUSE Ubiquitin domain-containing protei...\\n41        CIRBP_MOUSE Cold-inducible RNA-binding protein\\n45           MAP4_MOUSE Microtubule-associated protein 4\\n60     PA1B2_MOUSE Platelet-activating factor acetylh...\\n67     HNRPD_MOUSE Heterogeneous nuclear ribonucleopr...\\n69     JUPI1_MOUSE Jupiter microtubule associated hom...\\n85     HNRH1_MOUSE Heterogeneous nuclear ribonucleopr...\\n90                       TBB3_MOUSE Tubulin beta-3 chain\\n102         CDHR1_MOUSE Cadherin-related family member 1\\n106    PGRC1_MOUSE Membrane-associated progesterone r...\\n114      GORS2_MOUSE Golgi reassembly-stacking protein 2\\n117    HNRDL_MOUSE Heterogeneous nuclear ribonucleopr...\\n121    CHM4B_MOUSE Charged multivesicular body protei...\\n147                        MESD_MOUSE LRP chaperone MESD\\n159        KV5A7_MOUSE Ig kappa chain V-V region MOPC 41\\n162                              CO3_MOUSE Complement C3\\n164            NFH_MOUSE Neurofilament heavy polypeptide\\n170                       NSF1C_MOUSE NSFL1 cofactor p47\\n171        BIP_MOUSE Endoplasmic reticulum chaperone BiP\\n173        KV5A2_MOUSE Ig kappa chain V-V region MOPC 21\\n186                              CALR_MOUSE Calreticulin\\n189               CDK16_MOUSE Cyclin-dependent kinase 16\\n192           PDIA6_MOUSE Protein disulfide-isomerase A6\\n193               CLAT_MOUSE Choline O-acetyltransferase\\n200     CNBP_MOUSE Cellular nucleic acid-binding protein\\n204             LASP1_MOUSE LIM and SH3 domain protein 1\\n209    GLRX5_MOUSE Glutaredoxin-related protein 5, mi...\\n218    PAIRB_MOUSE Plasminogen activator inhibitor 1 ...\\n225                                 INS2_MOUSE Insulin-2\\n228    COX5B_MOUSE Cytochrome c oxidase subunit 5B, m...\\n236           LYST_MOUSE Lysosomal-trafficking regulator\\n240            T22D1_MOUSE TSC22 domain family protein 1\\n245    CH60_MOUSE 60 kDa heat shock protein, mitochon...\\n251                     RBM3_MOUSE RNA-binding protein 3\\n252    ROA2_MOUSE Heterogeneous nuclear ribonucleopro...\\n257                           SCG1_MOUSE Secretogranin-1\\n268    KCNQ5_MOUSE Potassium voltage-gated channel su...\\n270    CELR3_MOUSE Cadherin EGF LAG seven-pass G-type...\\n272    ISCA2_MOUSE Iron-sulfur cluster assembly 2 hom...\\n275              BMP1_MOUSE Bone morphogenetic protein 1\\nName: name, dtype: object'"
      ]
     },
     "execution_count": 5,
     "metadata": {},
     "output_type": "execute_result"
    }
   ],
   "source": [
    "%%time \n",
    "str(prots_df[prots_df['sequence'].apply(lambda x: 'GGG' in x)]['name'])"
   ]
  },
  {
   "cell_type": "code",
   "execution_count": 6,
   "metadata": {},
   "outputs": [
    {
     "name": "stdout",
     "output_type": "stream",
     "text": [
      "['$UBFD1_MOUSE Ubiquitin domain-containing protein UBFD1$', '$CIRBP_MOUSE Cold-inducible RNA-binding protein$', '$CIRBP_MOUSE Cold-inducible RNA-binding protein$', '$MAP4_MOUSE Microtubule-associated protein 4$', '$MAP4_MOUSE Microtubule-associated protein 4$', '$MAP4_MOUSE Microtubule-associated protein 4$', '$MAP4_MOUSE Microtubule-associated protein 4$', '$MAP4_MOUSE Microtubule-associated protein 4$', '$PA1B2_MOUSE Platelet-activating factor acetylhydrolase IB subunit beta$', '$HNRPD_MOUSE Heterogeneous nuclear ribonucleoprotein D0$', '$HNRPD_MOUSE Heterogeneous nuclear ribonucleoprotein D0$', '$JUPI1_MOUSE Jupiter microtubule associated homolog 1$', '$HNRH1_MOUSE Heterogeneous nuclear ribonucleoprotein H$', '$HNRH1_MOUSE Heterogeneous nuclear ribonucleoprotein H$', '$TBB3_MOUSE Tubulin beta-3 chain$', '$CDHR1_MOUSE Cadherin-related family member 1$', '$PGRC1_MOUSE Membrane-associated progesterone receptor component 1$', '$GORS2_MOUSE Golgi reassembly-stacking protein 2$', '$HNRDL_MOUSE Heterogeneous nuclear ribonucleoprotein D-like$', '$CHM4B_MOUSE Charged multivesicular body protein 4b$', '$MESD_MOUSE LRP chaperone MESD$', '$KV5A7_MOUSE Ig kappa chain V-V region MOPC 41$', '$CO3_MOUSE Complement C3$', '$NFH_MOUSE Neurofilament heavy polypeptide$', '$NSF1C_MOUSE NSFL1 cofactor p47$', '$BIP_MOUSE Endoplasmic reticulum chaperone BiP$', '$BIP_MOUSE Endoplasmic reticulum chaperone BiP$', '$KV5A2_MOUSE Ig kappa chain V-V region MOPC 21$', '$CALR_MOUSE Calreticulin$', '$CDK16_MOUSE Cyclin-dependent kinase 16$', '$PDIA6_MOUSE Protein disulfide-isomerase A6$', '$CLAT_MOUSE Choline O-acetyltransferase$', '$CNBP_MOUSE Cellular nucleic acid-binding protein$', '$LASP1_MOUSE LIM and SH3 domain protein 1$', '$GLRX5_MOUSE Glutaredoxin-related protein 5, mitochondrial$', '$PAIRB_MOUSE Plasminogen activator inhibitor 1 RNA-binding protein$', '$INS2_MOUSE Insulin-2$', '$COX5B_MOUSE Cytochrome c oxidase subunit 5B, mitochondrial$', '$LYST_MOUSE Lysosomal-trafficking regulator$', '$T22D1_MOUSE TSC22 domain family protein 1$', '$CH60_MOUSE 60 kDa heat shock protein, mitochondrial$', '$CH60_MOUSE 60 kDa heat shock protein, mitochondrial$', '$CH60_MOUSE 60 kDa heat shock protein, mitochondrial$', '$RBM3_MOUSE RNA-binding protein 3$', '$ROA2_MOUSE Heterogeneous nuclear ribonucleoproteins A2/B1$', '$ROA2_MOUSE Heterogeneous nuclear ribonucleoproteins A2/B1$', '$ROA2_MOUSE Heterogeneous nuclear ribonucleoproteins A2/B1$', '$ROA2_MOUSE Heterogeneous nuclear ribonucleoproteins A2/B1$', '$ROA2_MOUSE Heterogeneous nuclear ribonucleoproteins A2/B1$', '$ROA2_MOUSE Heterogeneous nuclear ribonucleoproteins A2/B1$', '$ROA2_MOUSE Heterogeneous nuclear ribonucleoproteins A2/B1$', '$ROA2_MOUSE Heterogeneous nuclear ribonucleoproteins A2/B1$', '$ROA2_MOUSE Heterogeneous nuclear ribonucleoproteins A2/B1$', '$SCG1_MOUSE Secretogranin-1$', '$KCNQ5_MOUSE Potassium voltage-gated channel subfamily KQT member 5$', '$KCNQ5_MOUSE Potassium voltage-gated channel subfamily KQT member 5$', '$KCNQ5_MOUSE Potassium voltage-gated channel subfamily KQT member 5$', '$CELR3_MOUSE Cadherin EGF LAG seven-pass G-type receptor 3$', '$CELR3_MOUSE Cadherin EGF LAG seven-pass G-type receptor 3$', '$ISCA2_MOUSE Iron-sulfur cluster assembly 2 homolog, mitochondrial$', '$BMP1_MOUSE Bone morphogenetic protein 1$']\n",
      "CPU times: user 2.17 ms, sys: 695 µs, total: 2.87 ms\n",
      "Wall time: 2.43 ms\n"
     ]
    }
   ],
   "source": [
    "%%time\n",
    "import re\n",
    "\n",
    "def get_prots(substr):\n",
    "\n",
    "    def get_prot(pos):\n",
    "        name_end_pos = prots_str[:pos].rindex('?')\n",
    "        name_start_pos = prots_str[:name_end_pos-1].rfind('$')\n",
    "        return prots_str[name_start_pos+1:name_end_pos-1]\n",
    "    \n",
    "    return [get_prot(s.start()) for s in re.finditer(substr, prots_str)]\n",
    "\n",
    "\n",
    "\n",
    "print(get_prots('GGG'))\n"
   ]
  },
  {
   "cell_type": "code",
   "execution_count": null,
   "metadata": {},
   "outputs": [],
   "source": []
  },
  {
   "cell_type": "code",
   "execution_count": null,
   "metadata": {},
   "outputs": [],
   "source": []
  }
 ],
 "metadata": {
  "kernelspec": {
   "display_name": "Python 3",
   "language": "python",
   "name": "python3"
  },
  "language_info": {
   "codemirror_mode": {
    "name": "ipython",
    "version": 3
   },
   "file_extension": ".py",
   "mimetype": "text/x-python",
   "name": "python",
   "nbconvert_exporter": "python",
   "pygments_lexer": "ipython3",
   "version": "3.7.4"
  }
 },
 "nbformat": 4,
 "nbformat_minor": 4
}

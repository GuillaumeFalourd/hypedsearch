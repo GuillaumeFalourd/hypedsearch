{
 "cells": [
  {
   "cell_type": "markdown",
   "metadata": {},
   "source": [
    "# Optimize the k-mer extension algorithm\n",
    "So right now we are extending each amino acid by each protein seperately instead of doing something smarter. The problem with this is that we are possibly checking the same k-mer more than once. We should optimize"
   ]
  },
  {
   "cell_type": "code",
   "execution_count": 8,
   "metadata": {},
   "outputs": [],
   "source": [
    "import os\n",
    "import sys\n",
    "module_path = os.path.abspath(os.path.join('..'))\n",
    "if module_path not in sys.path:\n",
    "    sys.path.append(module_path)\n",
    "module_path = os.path.abspath(os.path.join('../..'))\n",
    "if module_path not in sys.path:\n",
    "    sys.path.append(module_path)\n",
    "    \n",
    "from collections import namedtuple\n",
    "import time"
   ]
  },
  {
   "cell_type": "markdown",
   "metadata": {},
   "source": [
    "## The current way"
   ]
  },
  {
   "cell_type": "code",
   "execution_count": 9,
   "metadata": {},
   "outputs": [],
   "source": [
    "from src.scoring import mass_comparisons\n",
    "from src.spectra import gen_spectra\n",
    "from src.types.objects import ScoredKmer, Spectrum, Kmer\n",
    "from src.types.database import Entry\n",
    "\n",
    "def new_entry(old_entry: ScoredKmer, protein: Entry, spectrum: Spectrum, ion='b') -> ScoredKmer:\n",
    "    '''\n",
    "    Generate a new entry from the old entry\n",
    "    \n",
    "    Input:\n",
    "        old_entry:   dict entry with k, sequence, b and y scores, start and end positions\n",
    "        prot:        Entry class instance \n",
    "        spectrum:    list spectrum to score against\n",
    "    kwargs:\n",
    "        ion:         str ion type to determine which. Options are 'b', 'y'. Default='b' \n",
    "    Ouptut:\n",
    "        Score object\n",
    "    '''\n",
    "    starting_pos = old_entry.kmer.start_position if ion == 'b' else old_entry.kmer.start_position - 1\n",
    "    ending_pos = old_entry.kmer.end_position + 1 if ion == 'b' else old_entry.kmer.end_position\n",
    "    if starting_pos < 0 or ending_pos > len(protein.sequence) - 1:\n",
    "        return old_entry\n",
    "\n",
    "    # check for negative lengths\n",
    "    if starting_pos > ending_pos or ending_pos < starting_pos:\n",
    "        return old_entry\n",
    "\n",
    "    mer_seq = protein.sequence[starting_pos:ending_pos+1]\n",
    "    mer_spec_b = gen_spectra.gen_spectrum(mer_seq, ion='b')['spectrum']\n",
    "    mer_spec_y = gen_spectra.gen_spectrum(mer_seq, ion='y')['spectrum']\n",
    "    longer_kmer = Kmer(old_entry.kmer.k + 1, mer_seq, protein.name, starting_pos, ending_pos)\n",
    "    new_sk = ScoredKmer( mass_comparisons.optimized_compare_masses(spectrum.spectrum, mer_spec_b), mass_comparisons.optimized_compare_masses(spectrum.spectrum, mer_spec_y), longer_kmer)\n",
    "    return new_sk\n",
    "\n",
    "def extend_kmer(spectrum: Spectrum, protein: Entry, kmer: ScoredKmer, ion: str, stall_length=3) -> dict:\n",
    "    '''\n",
    "    Extend a kmer until the score tells us that the adding amino acids doens't make it a better alignment\n",
    "    \n",
    "    Inputs:\n",
    "        spectrum:           Spectrum namedtuple instance\n",
    "        protein_sequence:   Entry class instance\n",
    "        kmer:               ScoredKmer namedtuple instance\n",
    "        ion:                str the ion type we are looking at. Should be 'b' or 'y'\n",
    "    kwargs:\n",
    "        stall_length:   int the number of iterations a subsequence is allowed to go witth \n",
    "                        no increase in score before finishing kmer growth on a certain kmer. Default=3\n",
    "    Outputs\n",
    "        Score object\n",
    "    '''\n",
    "    if ion.lower() not in ['b', 'y']:\n",
    "        return kmer\n",
    "    score_key = 'b_score' if ion.lower() == 'b' else 'y_score'\n",
    "    # keep track of the last time a score increased\n",
    "    last_maintenance = kmer\n",
    "    # keep going until we run out of extension\n",
    "    while stall_length > 0:\n",
    "        updated = new_entry(kmer, protein, spectrum, ion=ion)\n",
    "        if getattr(updated, score_key) > getattr(kmer, score_key) and getattr(updated, score_key) > 0 and updated.kmer.k != kmer.kmer.k:\n",
    "            last_maintenance = updated\n",
    "        else: \n",
    "            stall_length -= 1\n",
    "        kmer = updated\n",
    "    return last_maintenance"
   ]
  },
  {
   "cell_type": "markdown",
   "metadata": {},
   "source": [
    "## A new less repetitive way\n",
    "Instead, lets take a more de novo approach and just brute force new amino acids and beam search it"
   ]
  },
  {
   "cell_type": "code",
   "execution_count": 10,
   "metadata": {},
   "outputs": [],
   "source": [
    "aas = ['A', 'R', 'N', 'D', 'C', 'E', 'Q', 'G', 'H', 'I', 'L', 'K', 'M', 'F', 'P', 'S', 'T', 'U', 'W', 'Y', 'V']\n",
    "ScoredSequence = namedtuple('ScoredSequence', ['b_score', 'y_score', 'sequence'])\n",
    "\n",
    "def de_novo_search(spectrum: Spectrum, kmer: ScoredSequence, stall_length=3, top_scores=10) -> list:\n",
    "    '''\n",
    "    CREATED 25 MAY 2020\n",
    "    Try and identify a spectrum via a more de novo search\n",
    "    \n",
    "    Inputs:\n",
    "        spectrum:     (Spectrum) the spectrum being scored \n",
    "        kmer:         (ScoredSequence) the result of the last extension \n",
    "    kwargs:\n",
    "        stall_length: (int) number of iterations to go before giving up on an extension. Default=3\n",
    "        top_scores:   (int) top number of results to return. Default=10\n",
    "    Outputs:\n",
    "        list of ScoredKmer objects of the best results\n",
    "    '''\n",
    "    if stall_length == 0:\n",
    "        return [kmer]\n",
    "    extended = []\n",
    "    for aa in aas:\n",
    "        new_seq = kmer.sequence + aa\n",
    "        new_seq_spec_b = gen_spectra.gen_spectrum(new_seq, ion='b')['spectrum']\n",
    "        new_seq_spec_y = gen_spectra.gen_spectrum(new_seq, ion='y')['spectrum']\n",
    "        nsk = ScoredSequence(mass_comparisons.optimized_compare_masses(spectrum.spectrum, new_seq_spec_b), mass_comparisons.optimized_compare_masses(spectrum.spectrum, new_seq_spec_y), new_seq)\n",
    "        next_stall_len = stall_length - 1 if nsk.b_score + nsk.y_score <= kmer.b_score + kmer.y_score else stall_length\n",
    "        extended += de_novo_search(spectrum, nsk, next_stall_len, top_scores)\n",
    "    extended.sort(key=lambda x: x.b_score + x.y_score)\n",
    "    return extended[:top_scores]"
   ]
  },
  {
   "cell_type": "markdown",
   "metadata": {},
   "source": [
    "# Run and time these"
   ]
  },
  {
   "cell_type": "markdown",
   "metadata": {},
   "source": [
    "## 1. Load fasta database"
   ]
  },
  {
   "cell_type": "code",
   "execution_count": 11,
   "metadata": {},
   "outputs": [],
   "source": [
    "import os\n",
    "import sys\n",
    "module_path = os.path.abspath(os.path.join('..'))\n",
    "if module_path not in sys.path:\n",
    "    sys.path.append(module_path)\n",
    "module_path = os.path.abspath(os.path.join('../..'))\n",
    "if module_path not in sys.path:\n",
    "    sys.path.append(module_path)\n",
    "    \n",
    "from src.file_io import fasta\n",
    "\n",
    "fasta_file = '../../testing framework/data/databases/100prots.fasta'\n",
    "database = fasta.read(fasta_file, True)\n",
    "\n",
    "database = {x['name']: x for x in database}"
   ]
  },
  {
   "cell_type": "markdown",
   "metadata": {},
   "source": [
    "## 2.  Generate the peptides, hybrid proteins and peptides"
   ]
  },
  {
   "cell_type": "code",
   "execution_count": 12,
   "metadata": {},
   "outputs": [
    {
     "name": "stdout",
     "output_type": "stream",
     "text": [
      "Generating hybrid protein 0/5[0%]\r",
      "Generating hybrid protein 1/5[20%]\r",
      "Generating hybrid protein 2/5[40%]\r",
      "Generating hybrid protein 3/5[60%]\r",
      "Generating hybrid protein 4/5[80%]\r\n",
      "Finished generating hybrid proteins\n"
     ]
    }
   ],
   "source": [
    "from modules.sequence_generation import proteins, peptides\n",
    "test_directory = '../../testing framework/data/testing_output/'\n",
    "\n",
    "num_hybs = 5\n",
    "min_length= 5\n",
    "max_length = 35\n",
    "num_peptides = 100\n",
    "min_cont = 3 #min contribution for each side of a hybrid\n",
    "\n",
    "# make hybrid proteins\n",
    "hyb_prots = proteins.generate_hybrids([x for _, x in database.items()], num_hybs, min_contribution=max_length)\n",
    "# create peptides\n",
    "non_hybrid_peps = peptides.gen_peptides([x for _, x in database.items()], num_peptides, min_length=min_length, max_length=max_length, digest='random', dist='beta')\n",
    "# create hybrid peptides\n",
    "hyb_peps = peptides.gen_peptides(hyb_prots, num_hybs, min_length=min_length, max_length=max_length, digest='random', min_contribution=min_cont, hybrid_list=True)\n",
    "\n",
    "all_proteins_raw = [x for _,x in database.items()] + hyb_prots\n",
    "all_peptides_raw = non_hybrid_peps + hyb_peps\n",
    "\n",
    "peptides = {}\n",
    "for i, pep in enumerate(all_peptides_raw):\n",
    "    peptides[i] = pep\n",
    "    peptides[i]['scan_no'] = i"
   ]
  },
  {
   "cell_type": "markdown",
   "metadata": {},
   "source": [
    "## 3. Generate spectra"
   ]
  },
  {
   "cell_type": "code",
   "execution_count": 13,
   "metadata": {},
   "outputs": [
    {
     "data": {
      "text/plain": [
       "'../../testing framework/data/testing_output/testSpectraFile.mzML'"
      ]
     },
     "execution_count": 13,
     "metadata": {},
     "output_type": "execute_result"
    }
   ],
   "source": [
    "from src.spectra import gen_spectra\n",
    "from src.utils import utils\n",
    "from modules.sequence_generation import write_spectra\n",
    "\n",
    "utils.make_dir(test_directory)\n",
    "\n",
    "spectra = []\n",
    "sorted_keys = [int(c) for c in peptides.keys()]\n",
    "sorted_keys.sort()\n",
    "for k in sorted_keys:\n",
    "    pep = peptides[k]\n",
    "    cont = gen_spectra.gen_spectrum(pep['sequence'])\n",
    "    spec = cont['spectrum']\n",
    "    pm = cont['precursor_mass']\n",
    "    spectra.append({'spectrum': spec, 'precursor_mass': pm})\n",
    "write_spectra.write_mzml('testSpectraFile', spectra, output_dir=test_directory)\n"
   ]
  },
  {
   "cell_type": "markdown",
   "metadata": {},
   "source": [
    "# Run on hyped search because its already all there"
   ]
  },
  {
   "cell_type": "code",
   "execution_count": 16,
   "metadata": {},
   "outputs": [
    {
     "ename": "TypeError",
     "evalue": "'module' object is not callable",
     "output_type": "error",
     "traceback": [
      "\u001b[0;31m---------------------------------------------------------------------------\u001b[0m",
      "\u001b[0;31mTypeError\u001b[0m                                 Traceback (most recent call last)",
      "\u001b[0;32m<ipython-input-16-e6ef6fd7881d>\u001b[0m in \u001b[0;36m<module>\u001b[0;34m\u001b[0m\n\u001b[1;32m     20\u001b[0m     \u001b[0;34m'max_peptide_len'\u001b[0m\u001b[0;34m:\u001b[0m \u001b[0;36m35\u001b[0m\u001b[0;34m,\u001b[0m\u001b[0;34m\u001b[0m\u001b[0;34m\u001b[0m\u001b[0m\n\u001b[1;32m     21\u001b[0m }\n\u001b[0;32m---> 22\u001b[0;31m \u001b[0mst\u001b[0m \u001b[0;34m=\u001b[0m \u001b[0mtime\u001b[0m\u001b[0;34m(\u001b[0m\u001b[0;34m)\u001b[0m\u001b[0;34m\u001b[0m\u001b[0;34m\u001b[0m\u001b[0m\n\u001b[0m\u001b[1;32m     23\u001b[0m \u001b[0mrunner\u001b[0m\u001b[0;34m.\u001b[0m\u001b[0mrun\u001b[0m\u001b[0;34m(\u001b[0m\u001b[0margs\u001b[0m\u001b[0;34m)\u001b[0m\u001b[0;34m\u001b[0m\u001b[0;34m\u001b[0m\u001b[0m\n\u001b[1;32m     24\u001b[0m \u001b[0mprint\u001b[0m\u001b[0;34m(\u001b[0m\u001b[0;34m'\\nTotal runtime: {} seconds'\u001b[0m\u001b[0;34m.\u001b[0m\u001b[0mformat\u001b[0m\u001b[0;34m(\u001b[0m\u001b[0mtime\u001b[0m\u001b[0;34m(\u001b[0m\u001b[0;34m)\u001b[0m \u001b[0;34m-\u001b[0m \u001b[0mst\u001b[0m\u001b[0;34m)\u001b[0m\u001b[0;34m)\u001b[0m\u001b[0;34m\u001b[0m\u001b[0;34m\u001b[0m\u001b[0m\n",
      "\u001b[0;31mTypeError\u001b[0m: 'module' object is not callable"
     ]
    }
   ],
   "source": [
    "import os\n",
    "import sys\n",
    "module_path = os.path.abspath(os.path.join('..'))\n",
    "if module_path not in sys.path:\n",
    "    sys.path.append(module_path)\n",
    "module_path = os.path.abspath(os.path.join('../..'))\n",
    "if module_path not in sys.path:\n",
    "    sys.path.append(module_path)\n",
    "\n",
    "from src import runner\n",
    "\n",
    "test_directory = '../../testing framework/data/testing_output/'\n",
    "fasta_file = '../../testing framework/data/databases/100prots.fasta'\n",
    "\n",
    "args = {\n",
    "    'spectra_folder': test_directory,\n",
    "    'database_file': fasta_file,\n",
    "    'output_dir': test_directory,\n",
    "    'min_peptide_len': 3,\n",
    "    'max_peptide_len': 35,\n",
    "}\n",
    "st = time.time()\n",
    "runner.run(args)\n",
    "print('\\nTotal runtime: {} seconds'.format(time() - st))"
   ]
  },
  {
   "cell_type": "markdown",
   "metadata": {},
   "source": [
    "# Run on the brute force one"
   ]
  },
  {
   "cell_type": "code",
   "execution_count": 14,
   "metadata": {},
   "outputs": [
    {
     "name": "stdout",
     "output_type": "stream",
     "text": [
      "on spec 0/345\r"
     ]
    },
    {
     "ename": "KeyboardInterrupt",
     "evalue": "",
     "output_type": "error",
     "traceback": [
      "\u001b[0;31m---------------------------------------------------------------------------\u001b[0m",
      "\u001b[0;31mKeyboardInterrupt\u001b[0m                         Traceback (most recent call last)",
      "\u001b[0;32m<ipython-input-14-6518b1832930>\u001b[0m in \u001b[0;36m<module>\u001b[0;34m\u001b[0m\n\u001b[1;32m      8\u001b[0m \u001b[0;32mfor\u001b[0m \u001b[0mi\u001b[0m\u001b[0;34m,\u001b[0m \u001b[0mspec\u001b[0m \u001b[0;32min\u001b[0m \u001b[0mkeyed_spec\u001b[0m\u001b[0;34m.\u001b[0m\u001b[0mitems\u001b[0m\u001b[0;34m(\u001b[0m\u001b[0;34m)\u001b[0m\u001b[0;34m:\u001b[0m\u001b[0;34m\u001b[0m\u001b[0;34m\u001b[0m\u001b[0m\n\u001b[1;32m      9\u001b[0m     \u001b[0mprint\u001b[0m\u001b[0;34m(\u001b[0m\u001b[0;34m'on spec {}/{}\\r'\u001b[0m\u001b[0;34m.\u001b[0m\u001b[0mformat\u001b[0m\u001b[0;34m(\u001b[0m\u001b[0mi\u001b[0m\u001b[0;34m,\u001b[0m \u001b[0ml\u001b[0m\u001b[0;34m)\u001b[0m\u001b[0;34m,\u001b[0m \u001b[0mend\u001b[0m\u001b[0;34m=\u001b[0m\u001b[0;34m''\u001b[0m\u001b[0;34m)\u001b[0m\u001b[0;34m\u001b[0m\u001b[0;34m\u001b[0m\u001b[0m\n\u001b[0;32m---> 10\u001b[0;31m     \u001b[0mkeyed_results\u001b[0m\u001b[0;34m[\u001b[0m\u001b[0mi\u001b[0m\u001b[0;34m]\u001b[0m \u001b[0;34m=\u001b[0m \u001b[0mde_novo_search\u001b[0m\u001b[0;34m(\u001b[0m\u001b[0mspec\u001b[0m\u001b[0;34m,\u001b[0m \u001b[0mScoredSequence\u001b[0m\u001b[0;34m(\u001b[0m\u001b[0;36m0\u001b[0m\u001b[0;34m,\u001b[0m \u001b[0;36m0\u001b[0m\u001b[0;34m,\u001b[0m \u001b[0;34m''\u001b[0m\u001b[0;34m)\u001b[0m\u001b[0;34m)\u001b[0m\u001b[0;34m\u001b[0m\u001b[0;34m\u001b[0m\u001b[0m\n\u001b[0m",
      "\u001b[0;32m<ipython-input-10-f9f7abdea535>\u001b[0m in \u001b[0;36mde_novo_search\u001b[0;34m(spectrum, kmer, stall_length, top_scores)\u001b[0m\n\u001b[1;32m     25\u001b[0m         \u001b[0mnsk\u001b[0m \u001b[0;34m=\u001b[0m \u001b[0mScoredSequence\u001b[0m\u001b[0;34m(\u001b[0m\u001b[0mmass_comparisons\u001b[0m\u001b[0;34m.\u001b[0m\u001b[0moptimized_compare_masses\u001b[0m\u001b[0;34m(\u001b[0m\u001b[0mspectrum\u001b[0m\u001b[0;34m.\u001b[0m\u001b[0mspectrum\u001b[0m\u001b[0;34m,\u001b[0m \u001b[0mnew_seq_spec_b\u001b[0m\u001b[0;34m)\u001b[0m\u001b[0;34m,\u001b[0m \u001b[0mmass_comparisons\u001b[0m\u001b[0;34m.\u001b[0m\u001b[0moptimized_compare_masses\u001b[0m\u001b[0;34m(\u001b[0m\u001b[0mspectrum\u001b[0m\u001b[0;34m.\u001b[0m\u001b[0mspectrum\u001b[0m\u001b[0;34m,\u001b[0m \u001b[0mnew_seq_spec_y\u001b[0m\u001b[0;34m)\u001b[0m\u001b[0;34m,\u001b[0m \u001b[0mnew_seq\u001b[0m\u001b[0;34m)\u001b[0m\u001b[0;34m\u001b[0m\u001b[0;34m\u001b[0m\u001b[0m\n\u001b[1;32m     26\u001b[0m         \u001b[0mnext_stall_len\u001b[0m \u001b[0;34m=\u001b[0m \u001b[0mstall_length\u001b[0m \u001b[0;34m-\u001b[0m \u001b[0;36m1\u001b[0m \u001b[0;32mif\u001b[0m \u001b[0mnsk\u001b[0m\u001b[0;34m.\u001b[0m\u001b[0mb_score\u001b[0m \u001b[0;34m+\u001b[0m \u001b[0mnsk\u001b[0m\u001b[0;34m.\u001b[0m\u001b[0my_score\u001b[0m \u001b[0;34m<=\u001b[0m \u001b[0mkmer\u001b[0m\u001b[0;34m.\u001b[0m\u001b[0mb_score\u001b[0m \u001b[0;34m+\u001b[0m \u001b[0mkmer\u001b[0m\u001b[0;34m.\u001b[0m\u001b[0my_score\u001b[0m \u001b[0;32melse\u001b[0m \u001b[0mstall_length\u001b[0m\u001b[0;34m\u001b[0m\u001b[0;34m\u001b[0m\u001b[0m\n\u001b[0;32m---> 27\u001b[0;31m         \u001b[0mextended\u001b[0m \u001b[0;34m+=\u001b[0m \u001b[0mde_novo_search\u001b[0m\u001b[0;34m(\u001b[0m\u001b[0mspectrum\u001b[0m\u001b[0;34m,\u001b[0m \u001b[0mnsk\u001b[0m\u001b[0;34m,\u001b[0m \u001b[0mnext_stall_len\u001b[0m\u001b[0;34m,\u001b[0m \u001b[0mtop_scores\u001b[0m\u001b[0;34m)\u001b[0m\u001b[0;34m\u001b[0m\u001b[0;34m\u001b[0m\u001b[0m\n\u001b[0m\u001b[1;32m     28\u001b[0m     \u001b[0mextended\u001b[0m\u001b[0;34m.\u001b[0m\u001b[0msort\u001b[0m\u001b[0;34m(\u001b[0m\u001b[0mkey\u001b[0m\u001b[0;34m=\u001b[0m\u001b[0;32mlambda\u001b[0m \u001b[0mx\u001b[0m\u001b[0;34m:\u001b[0m \u001b[0mx\u001b[0m\u001b[0;34m.\u001b[0m\u001b[0mb_score\u001b[0m \u001b[0;34m+\u001b[0m \u001b[0mx\u001b[0m\u001b[0;34m.\u001b[0m\u001b[0my_score\u001b[0m\u001b[0;34m)\u001b[0m\u001b[0;34m\u001b[0m\u001b[0;34m\u001b[0m\u001b[0m\n\u001b[1;32m     29\u001b[0m     \u001b[0;32mreturn\u001b[0m \u001b[0mextended\u001b[0m\u001b[0;34m[\u001b[0m\u001b[0;34m:\u001b[0m\u001b[0mtop_scores\u001b[0m\u001b[0;34m]\u001b[0m\u001b[0;34m\u001b[0m\u001b[0;34m\u001b[0m\u001b[0m\n",
      "\u001b[0;32m<ipython-input-10-f9f7abdea535>\u001b[0m in \u001b[0;36mde_novo_search\u001b[0;34m(spectrum, kmer, stall_length, top_scores)\u001b[0m\n\u001b[1;32m     25\u001b[0m         \u001b[0mnsk\u001b[0m \u001b[0;34m=\u001b[0m \u001b[0mScoredSequence\u001b[0m\u001b[0;34m(\u001b[0m\u001b[0mmass_comparisons\u001b[0m\u001b[0;34m.\u001b[0m\u001b[0moptimized_compare_masses\u001b[0m\u001b[0;34m(\u001b[0m\u001b[0mspectrum\u001b[0m\u001b[0;34m.\u001b[0m\u001b[0mspectrum\u001b[0m\u001b[0;34m,\u001b[0m \u001b[0mnew_seq_spec_b\u001b[0m\u001b[0;34m)\u001b[0m\u001b[0;34m,\u001b[0m \u001b[0mmass_comparisons\u001b[0m\u001b[0;34m.\u001b[0m\u001b[0moptimized_compare_masses\u001b[0m\u001b[0;34m(\u001b[0m\u001b[0mspectrum\u001b[0m\u001b[0;34m.\u001b[0m\u001b[0mspectrum\u001b[0m\u001b[0;34m,\u001b[0m \u001b[0mnew_seq_spec_y\u001b[0m\u001b[0;34m)\u001b[0m\u001b[0;34m,\u001b[0m \u001b[0mnew_seq\u001b[0m\u001b[0;34m)\u001b[0m\u001b[0;34m\u001b[0m\u001b[0;34m\u001b[0m\u001b[0m\n\u001b[1;32m     26\u001b[0m         \u001b[0mnext_stall_len\u001b[0m \u001b[0;34m=\u001b[0m \u001b[0mstall_length\u001b[0m \u001b[0;34m-\u001b[0m \u001b[0;36m1\u001b[0m \u001b[0;32mif\u001b[0m \u001b[0mnsk\u001b[0m\u001b[0;34m.\u001b[0m\u001b[0mb_score\u001b[0m \u001b[0;34m+\u001b[0m \u001b[0mnsk\u001b[0m\u001b[0;34m.\u001b[0m\u001b[0my_score\u001b[0m \u001b[0;34m<=\u001b[0m \u001b[0mkmer\u001b[0m\u001b[0;34m.\u001b[0m\u001b[0mb_score\u001b[0m \u001b[0;34m+\u001b[0m \u001b[0mkmer\u001b[0m\u001b[0;34m.\u001b[0m\u001b[0my_score\u001b[0m \u001b[0;32melse\u001b[0m \u001b[0mstall_length\u001b[0m\u001b[0;34m\u001b[0m\u001b[0;34m\u001b[0m\u001b[0m\n\u001b[0;32m---> 27\u001b[0;31m         \u001b[0mextended\u001b[0m \u001b[0;34m+=\u001b[0m \u001b[0mde_novo_search\u001b[0m\u001b[0;34m(\u001b[0m\u001b[0mspectrum\u001b[0m\u001b[0;34m,\u001b[0m \u001b[0mnsk\u001b[0m\u001b[0;34m,\u001b[0m \u001b[0mnext_stall_len\u001b[0m\u001b[0;34m,\u001b[0m \u001b[0mtop_scores\u001b[0m\u001b[0;34m)\u001b[0m\u001b[0;34m\u001b[0m\u001b[0;34m\u001b[0m\u001b[0m\n\u001b[0m\u001b[1;32m     28\u001b[0m     \u001b[0mextended\u001b[0m\u001b[0;34m.\u001b[0m\u001b[0msort\u001b[0m\u001b[0;34m(\u001b[0m\u001b[0mkey\u001b[0m\u001b[0;34m=\u001b[0m\u001b[0;32mlambda\u001b[0m \u001b[0mx\u001b[0m\u001b[0;34m:\u001b[0m \u001b[0mx\u001b[0m\u001b[0;34m.\u001b[0m\u001b[0mb_score\u001b[0m \u001b[0;34m+\u001b[0m \u001b[0mx\u001b[0m\u001b[0;34m.\u001b[0m\u001b[0my_score\u001b[0m\u001b[0;34m)\u001b[0m\u001b[0;34m\u001b[0m\u001b[0;34m\u001b[0m\u001b[0m\n\u001b[1;32m     29\u001b[0m     \u001b[0;32mreturn\u001b[0m \u001b[0mextended\u001b[0m\u001b[0;34m[\u001b[0m\u001b[0;34m:\u001b[0m\u001b[0mtop_scores\u001b[0m\u001b[0;34m]\u001b[0m\u001b[0;34m\u001b[0m\u001b[0;34m\u001b[0m\u001b[0m\n",
      "\u001b[0;32m<ipython-input-10-f9f7abdea535>\u001b[0m in \u001b[0;36mde_novo_search\u001b[0;34m(spectrum, kmer, stall_length, top_scores)\u001b[0m\n\u001b[1;32m     25\u001b[0m         \u001b[0mnsk\u001b[0m \u001b[0;34m=\u001b[0m \u001b[0mScoredSequence\u001b[0m\u001b[0;34m(\u001b[0m\u001b[0mmass_comparisons\u001b[0m\u001b[0;34m.\u001b[0m\u001b[0moptimized_compare_masses\u001b[0m\u001b[0;34m(\u001b[0m\u001b[0mspectrum\u001b[0m\u001b[0;34m.\u001b[0m\u001b[0mspectrum\u001b[0m\u001b[0;34m,\u001b[0m \u001b[0mnew_seq_spec_b\u001b[0m\u001b[0;34m)\u001b[0m\u001b[0;34m,\u001b[0m \u001b[0mmass_comparisons\u001b[0m\u001b[0;34m.\u001b[0m\u001b[0moptimized_compare_masses\u001b[0m\u001b[0;34m(\u001b[0m\u001b[0mspectrum\u001b[0m\u001b[0;34m.\u001b[0m\u001b[0mspectrum\u001b[0m\u001b[0;34m,\u001b[0m \u001b[0mnew_seq_spec_y\u001b[0m\u001b[0;34m)\u001b[0m\u001b[0;34m,\u001b[0m \u001b[0mnew_seq\u001b[0m\u001b[0;34m)\u001b[0m\u001b[0;34m\u001b[0m\u001b[0;34m\u001b[0m\u001b[0m\n\u001b[1;32m     26\u001b[0m         \u001b[0mnext_stall_len\u001b[0m \u001b[0;34m=\u001b[0m \u001b[0mstall_length\u001b[0m \u001b[0;34m-\u001b[0m \u001b[0;36m1\u001b[0m \u001b[0;32mif\u001b[0m \u001b[0mnsk\u001b[0m\u001b[0;34m.\u001b[0m\u001b[0mb_score\u001b[0m \u001b[0;34m+\u001b[0m \u001b[0mnsk\u001b[0m\u001b[0;34m.\u001b[0m\u001b[0my_score\u001b[0m \u001b[0;34m<=\u001b[0m \u001b[0mkmer\u001b[0m\u001b[0;34m.\u001b[0m\u001b[0mb_score\u001b[0m \u001b[0;34m+\u001b[0m \u001b[0mkmer\u001b[0m\u001b[0;34m.\u001b[0m\u001b[0my_score\u001b[0m \u001b[0;32melse\u001b[0m \u001b[0mstall_length\u001b[0m\u001b[0;34m\u001b[0m\u001b[0;34m\u001b[0m\u001b[0m\n\u001b[0;32m---> 27\u001b[0;31m         \u001b[0mextended\u001b[0m \u001b[0;34m+=\u001b[0m \u001b[0mde_novo_search\u001b[0m\u001b[0;34m(\u001b[0m\u001b[0mspectrum\u001b[0m\u001b[0;34m,\u001b[0m \u001b[0mnsk\u001b[0m\u001b[0;34m,\u001b[0m \u001b[0mnext_stall_len\u001b[0m\u001b[0;34m,\u001b[0m \u001b[0mtop_scores\u001b[0m\u001b[0;34m)\u001b[0m\u001b[0;34m\u001b[0m\u001b[0;34m\u001b[0m\u001b[0m\n\u001b[0m\u001b[1;32m     28\u001b[0m     \u001b[0mextended\u001b[0m\u001b[0;34m.\u001b[0m\u001b[0msort\u001b[0m\u001b[0;34m(\u001b[0m\u001b[0mkey\u001b[0m\u001b[0;34m=\u001b[0m\u001b[0;32mlambda\u001b[0m \u001b[0mx\u001b[0m\u001b[0;34m:\u001b[0m \u001b[0mx\u001b[0m\u001b[0;34m.\u001b[0m\u001b[0mb_score\u001b[0m \u001b[0;34m+\u001b[0m \u001b[0mx\u001b[0m\u001b[0;34m.\u001b[0m\u001b[0my_score\u001b[0m\u001b[0;34m)\u001b[0m\u001b[0;34m\u001b[0m\u001b[0;34m\u001b[0m\u001b[0m\n\u001b[1;32m     29\u001b[0m     \u001b[0;32mreturn\u001b[0m \u001b[0mextended\u001b[0m\u001b[0;34m[\u001b[0m\u001b[0;34m:\u001b[0m\u001b[0mtop_scores\u001b[0m\u001b[0;34m]\u001b[0m\u001b[0;34m\u001b[0m\u001b[0;34m\u001b[0m\u001b[0m\n",
      "\u001b[0;32m<ipython-input-10-f9f7abdea535>\u001b[0m in \u001b[0;36mde_novo_search\u001b[0;34m(spectrum, kmer, stall_length, top_scores)\u001b[0m\n\u001b[1;32m     25\u001b[0m         \u001b[0mnsk\u001b[0m \u001b[0;34m=\u001b[0m \u001b[0mScoredSequence\u001b[0m\u001b[0;34m(\u001b[0m\u001b[0mmass_comparisons\u001b[0m\u001b[0;34m.\u001b[0m\u001b[0moptimized_compare_masses\u001b[0m\u001b[0;34m(\u001b[0m\u001b[0mspectrum\u001b[0m\u001b[0;34m.\u001b[0m\u001b[0mspectrum\u001b[0m\u001b[0;34m,\u001b[0m \u001b[0mnew_seq_spec_b\u001b[0m\u001b[0;34m)\u001b[0m\u001b[0;34m,\u001b[0m \u001b[0mmass_comparisons\u001b[0m\u001b[0;34m.\u001b[0m\u001b[0moptimized_compare_masses\u001b[0m\u001b[0;34m(\u001b[0m\u001b[0mspectrum\u001b[0m\u001b[0;34m.\u001b[0m\u001b[0mspectrum\u001b[0m\u001b[0;34m,\u001b[0m \u001b[0mnew_seq_spec_y\u001b[0m\u001b[0;34m)\u001b[0m\u001b[0;34m,\u001b[0m \u001b[0mnew_seq\u001b[0m\u001b[0;34m)\u001b[0m\u001b[0;34m\u001b[0m\u001b[0;34m\u001b[0m\u001b[0m\n\u001b[1;32m     26\u001b[0m         \u001b[0mnext_stall_len\u001b[0m \u001b[0;34m=\u001b[0m \u001b[0mstall_length\u001b[0m \u001b[0;34m-\u001b[0m \u001b[0;36m1\u001b[0m \u001b[0;32mif\u001b[0m \u001b[0mnsk\u001b[0m\u001b[0;34m.\u001b[0m\u001b[0mb_score\u001b[0m \u001b[0;34m+\u001b[0m \u001b[0mnsk\u001b[0m\u001b[0;34m.\u001b[0m\u001b[0my_score\u001b[0m \u001b[0;34m<=\u001b[0m \u001b[0mkmer\u001b[0m\u001b[0;34m.\u001b[0m\u001b[0mb_score\u001b[0m \u001b[0;34m+\u001b[0m \u001b[0mkmer\u001b[0m\u001b[0;34m.\u001b[0m\u001b[0my_score\u001b[0m \u001b[0;32melse\u001b[0m \u001b[0mstall_length\u001b[0m\u001b[0;34m\u001b[0m\u001b[0;34m\u001b[0m\u001b[0m\n\u001b[0;32m---> 27\u001b[0;31m         \u001b[0mextended\u001b[0m \u001b[0;34m+=\u001b[0m \u001b[0mde_novo_search\u001b[0m\u001b[0;34m(\u001b[0m\u001b[0mspectrum\u001b[0m\u001b[0;34m,\u001b[0m \u001b[0mnsk\u001b[0m\u001b[0;34m,\u001b[0m \u001b[0mnext_stall_len\u001b[0m\u001b[0;34m,\u001b[0m \u001b[0mtop_scores\u001b[0m\u001b[0;34m)\u001b[0m\u001b[0;34m\u001b[0m\u001b[0;34m\u001b[0m\u001b[0m\n\u001b[0m\u001b[1;32m     28\u001b[0m     \u001b[0mextended\u001b[0m\u001b[0;34m.\u001b[0m\u001b[0msort\u001b[0m\u001b[0;34m(\u001b[0m\u001b[0mkey\u001b[0m\u001b[0;34m=\u001b[0m\u001b[0;32mlambda\u001b[0m \u001b[0mx\u001b[0m\u001b[0;34m:\u001b[0m \u001b[0mx\u001b[0m\u001b[0;34m.\u001b[0m\u001b[0mb_score\u001b[0m \u001b[0;34m+\u001b[0m \u001b[0mx\u001b[0m\u001b[0;34m.\u001b[0m\u001b[0my_score\u001b[0m\u001b[0;34m)\u001b[0m\u001b[0;34m\u001b[0m\u001b[0;34m\u001b[0m\u001b[0m\n\u001b[1;32m     29\u001b[0m     \u001b[0;32mreturn\u001b[0m \u001b[0mextended\u001b[0m\u001b[0;34m[\u001b[0m\u001b[0;34m:\u001b[0m\u001b[0mtop_scores\u001b[0m\u001b[0;34m]\u001b[0m\u001b[0;34m\u001b[0m\u001b[0;34m\u001b[0m\u001b[0m\n",
      "\u001b[0;32m<ipython-input-10-f9f7abdea535>\u001b[0m in \u001b[0;36mde_novo_search\u001b[0;34m(spectrum, kmer, stall_length, top_scores)\u001b[0m\n\u001b[1;32m     25\u001b[0m         \u001b[0mnsk\u001b[0m \u001b[0;34m=\u001b[0m \u001b[0mScoredSequence\u001b[0m\u001b[0;34m(\u001b[0m\u001b[0mmass_comparisons\u001b[0m\u001b[0;34m.\u001b[0m\u001b[0moptimized_compare_masses\u001b[0m\u001b[0;34m(\u001b[0m\u001b[0mspectrum\u001b[0m\u001b[0;34m.\u001b[0m\u001b[0mspectrum\u001b[0m\u001b[0;34m,\u001b[0m \u001b[0mnew_seq_spec_b\u001b[0m\u001b[0;34m)\u001b[0m\u001b[0;34m,\u001b[0m \u001b[0mmass_comparisons\u001b[0m\u001b[0;34m.\u001b[0m\u001b[0moptimized_compare_masses\u001b[0m\u001b[0;34m(\u001b[0m\u001b[0mspectrum\u001b[0m\u001b[0;34m.\u001b[0m\u001b[0mspectrum\u001b[0m\u001b[0;34m,\u001b[0m \u001b[0mnew_seq_spec_y\u001b[0m\u001b[0;34m)\u001b[0m\u001b[0;34m,\u001b[0m \u001b[0mnew_seq\u001b[0m\u001b[0;34m)\u001b[0m\u001b[0;34m\u001b[0m\u001b[0;34m\u001b[0m\u001b[0m\n\u001b[1;32m     26\u001b[0m         \u001b[0mnext_stall_len\u001b[0m \u001b[0;34m=\u001b[0m \u001b[0mstall_length\u001b[0m \u001b[0;34m-\u001b[0m \u001b[0;36m1\u001b[0m \u001b[0;32mif\u001b[0m \u001b[0mnsk\u001b[0m\u001b[0;34m.\u001b[0m\u001b[0mb_score\u001b[0m \u001b[0;34m+\u001b[0m \u001b[0mnsk\u001b[0m\u001b[0;34m.\u001b[0m\u001b[0my_score\u001b[0m \u001b[0;34m<=\u001b[0m \u001b[0mkmer\u001b[0m\u001b[0;34m.\u001b[0m\u001b[0mb_score\u001b[0m \u001b[0;34m+\u001b[0m \u001b[0mkmer\u001b[0m\u001b[0;34m.\u001b[0m\u001b[0my_score\u001b[0m \u001b[0;32melse\u001b[0m \u001b[0mstall_length\u001b[0m\u001b[0;34m\u001b[0m\u001b[0;34m\u001b[0m\u001b[0m\n\u001b[0;32m---> 27\u001b[0;31m         \u001b[0mextended\u001b[0m \u001b[0;34m+=\u001b[0m \u001b[0mde_novo_search\u001b[0m\u001b[0;34m(\u001b[0m\u001b[0mspectrum\u001b[0m\u001b[0;34m,\u001b[0m \u001b[0mnsk\u001b[0m\u001b[0;34m,\u001b[0m \u001b[0mnext_stall_len\u001b[0m\u001b[0;34m,\u001b[0m \u001b[0mtop_scores\u001b[0m\u001b[0;34m)\u001b[0m\u001b[0;34m\u001b[0m\u001b[0;34m\u001b[0m\u001b[0m\n\u001b[0m\u001b[1;32m     28\u001b[0m     \u001b[0mextended\u001b[0m\u001b[0;34m.\u001b[0m\u001b[0msort\u001b[0m\u001b[0;34m(\u001b[0m\u001b[0mkey\u001b[0m\u001b[0;34m=\u001b[0m\u001b[0;32mlambda\u001b[0m \u001b[0mx\u001b[0m\u001b[0;34m:\u001b[0m \u001b[0mx\u001b[0m\u001b[0;34m.\u001b[0m\u001b[0mb_score\u001b[0m \u001b[0;34m+\u001b[0m \u001b[0mx\u001b[0m\u001b[0;34m.\u001b[0m\u001b[0my_score\u001b[0m\u001b[0;34m)\u001b[0m\u001b[0;34m\u001b[0m\u001b[0;34m\u001b[0m\u001b[0m\n\u001b[1;32m     29\u001b[0m     \u001b[0;32mreturn\u001b[0m \u001b[0mextended\u001b[0m\u001b[0;34m[\u001b[0m\u001b[0;34m:\u001b[0m\u001b[0mtop_scores\u001b[0m\u001b[0;34m]\u001b[0m\u001b[0;34m\u001b[0m\u001b[0;34m\u001b[0m\u001b[0m\n",
      "\u001b[0;32m<ipython-input-10-f9f7abdea535>\u001b[0m in \u001b[0;36mde_novo_search\u001b[0;34m(spectrum, kmer, stall_length, top_scores)\u001b[0m\n\u001b[1;32m     25\u001b[0m         \u001b[0mnsk\u001b[0m \u001b[0;34m=\u001b[0m \u001b[0mScoredSequence\u001b[0m\u001b[0;34m(\u001b[0m\u001b[0mmass_comparisons\u001b[0m\u001b[0;34m.\u001b[0m\u001b[0moptimized_compare_masses\u001b[0m\u001b[0;34m(\u001b[0m\u001b[0mspectrum\u001b[0m\u001b[0;34m.\u001b[0m\u001b[0mspectrum\u001b[0m\u001b[0;34m,\u001b[0m \u001b[0mnew_seq_spec_b\u001b[0m\u001b[0;34m)\u001b[0m\u001b[0;34m,\u001b[0m \u001b[0mmass_comparisons\u001b[0m\u001b[0;34m.\u001b[0m\u001b[0moptimized_compare_masses\u001b[0m\u001b[0;34m(\u001b[0m\u001b[0mspectrum\u001b[0m\u001b[0;34m.\u001b[0m\u001b[0mspectrum\u001b[0m\u001b[0;34m,\u001b[0m \u001b[0mnew_seq_spec_y\u001b[0m\u001b[0;34m)\u001b[0m\u001b[0;34m,\u001b[0m \u001b[0mnew_seq\u001b[0m\u001b[0;34m)\u001b[0m\u001b[0;34m\u001b[0m\u001b[0;34m\u001b[0m\u001b[0m\n\u001b[1;32m     26\u001b[0m         \u001b[0mnext_stall_len\u001b[0m \u001b[0;34m=\u001b[0m \u001b[0mstall_length\u001b[0m \u001b[0;34m-\u001b[0m \u001b[0;36m1\u001b[0m \u001b[0;32mif\u001b[0m \u001b[0mnsk\u001b[0m\u001b[0;34m.\u001b[0m\u001b[0mb_score\u001b[0m \u001b[0;34m+\u001b[0m \u001b[0mnsk\u001b[0m\u001b[0;34m.\u001b[0m\u001b[0my_score\u001b[0m \u001b[0;34m<=\u001b[0m \u001b[0mkmer\u001b[0m\u001b[0;34m.\u001b[0m\u001b[0mb_score\u001b[0m \u001b[0;34m+\u001b[0m \u001b[0mkmer\u001b[0m\u001b[0;34m.\u001b[0m\u001b[0my_score\u001b[0m \u001b[0;32melse\u001b[0m \u001b[0mstall_length\u001b[0m\u001b[0;34m\u001b[0m\u001b[0;34m\u001b[0m\u001b[0m\n\u001b[0;32m---> 27\u001b[0;31m         \u001b[0mextended\u001b[0m \u001b[0;34m+=\u001b[0m \u001b[0mde_novo_search\u001b[0m\u001b[0;34m(\u001b[0m\u001b[0mspectrum\u001b[0m\u001b[0;34m,\u001b[0m \u001b[0mnsk\u001b[0m\u001b[0;34m,\u001b[0m \u001b[0mnext_stall_len\u001b[0m\u001b[0;34m,\u001b[0m \u001b[0mtop_scores\u001b[0m\u001b[0;34m)\u001b[0m\u001b[0;34m\u001b[0m\u001b[0;34m\u001b[0m\u001b[0m\n\u001b[0m\u001b[1;32m     28\u001b[0m     \u001b[0mextended\u001b[0m\u001b[0;34m.\u001b[0m\u001b[0msort\u001b[0m\u001b[0;34m(\u001b[0m\u001b[0mkey\u001b[0m\u001b[0;34m=\u001b[0m\u001b[0;32mlambda\u001b[0m \u001b[0mx\u001b[0m\u001b[0;34m:\u001b[0m \u001b[0mx\u001b[0m\u001b[0;34m.\u001b[0m\u001b[0mb_score\u001b[0m \u001b[0;34m+\u001b[0m \u001b[0mx\u001b[0m\u001b[0;34m.\u001b[0m\u001b[0my_score\u001b[0m\u001b[0;34m)\u001b[0m\u001b[0;34m\u001b[0m\u001b[0;34m\u001b[0m\u001b[0m\n\u001b[1;32m     29\u001b[0m     \u001b[0;32mreturn\u001b[0m \u001b[0mextended\u001b[0m\u001b[0;34m[\u001b[0m\u001b[0;34m:\u001b[0m\u001b[0mtop_scores\u001b[0m\u001b[0;34m]\u001b[0m\u001b[0;34m\u001b[0m\u001b[0;34m\u001b[0m\u001b[0m\n",
      "\u001b[0;32m<ipython-input-10-f9f7abdea535>\u001b[0m in \u001b[0;36mde_novo_search\u001b[0;34m(spectrum, kmer, stall_length, top_scores)\u001b[0m\n\u001b[1;32m     25\u001b[0m         \u001b[0mnsk\u001b[0m \u001b[0;34m=\u001b[0m \u001b[0mScoredSequence\u001b[0m\u001b[0;34m(\u001b[0m\u001b[0mmass_comparisons\u001b[0m\u001b[0;34m.\u001b[0m\u001b[0moptimized_compare_masses\u001b[0m\u001b[0;34m(\u001b[0m\u001b[0mspectrum\u001b[0m\u001b[0;34m.\u001b[0m\u001b[0mspectrum\u001b[0m\u001b[0;34m,\u001b[0m \u001b[0mnew_seq_spec_b\u001b[0m\u001b[0;34m)\u001b[0m\u001b[0;34m,\u001b[0m \u001b[0mmass_comparisons\u001b[0m\u001b[0;34m.\u001b[0m\u001b[0moptimized_compare_masses\u001b[0m\u001b[0;34m(\u001b[0m\u001b[0mspectrum\u001b[0m\u001b[0;34m.\u001b[0m\u001b[0mspectrum\u001b[0m\u001b[0;34m,\u001b[0m \u001b[0mnew_seq_spec_y\u001b[0m\u001b[0;34m)\u001b[0m\u001b[0;34m,\u001b[0m \u001b[0mnew_seq\u001b[0m\u001b[0;34m)\u001b[0m\u001b[0;34m\u001b[0m\u001b[0;34m\u001b[0m\u001b[0m\n\u001b[1;32m     26\u001b[0m         \u001b[0mnext_stall_len\u001b[0m \u001b[0;34m=\u001b[0m \u001b[0mstall_length\u001b[0m \u001b[0;34m-\u001b[0m \u001b[0;36m1\u001b[0m \u001b[0;32mif\u001b[0m \u001b[0mnsk\u001b[0m\u001b[0;34m.\u001b[0m\u001b[0mb_score\u001b[0m \u001b[0;34m+\u001b[0m \u001b[0mnsk\u001b[0m\u001b[0;34m.\u001b[0m\u001b[0my_score\u001b[0m \u001b[0;34m<=\u001b[0m \u001b[0mkmer\u001b[0m\u001b[0;34m.\u001b[0m\u001b[0mb_score\u001b[0m \u001b[0;34m+\u001b[0m \u001b[0mkmer\u001b[0m\u001b[0;34m.\u001b[0m\u001b[0my_score\u001b[0m \u001b[0;32melse\u001b[0m \u001b[0mstall_length\u001b[0m\u001b[0;34m\u001b[0m\u001b[0;34m\u001b[0m\u001b[0m\n\u001b[0;32m---> 27\u001b[0;31m         \u001b[0mextended\u001b[0m \u001b[0;34m+=\u001b[0m \u001b[0mde_novo_search\u001b[0m\u001b[0;34m(\u001b[0m\u001b[0mspectrum\u001b[0m\u001b[0;34m,\u001b[0m \u001b[0mnsk\u001b[0m\u001b[0;34m,\u001b[0m \u001b[0mnext_stall_len\u001b[0m\u001b[0;34m,\u001b[0m \u001b[0mtop_scores\u001b[0m\u001b[0;34m)\u001b[0m\u001b[0;34m\u001b[0m\u001b[0;34m\u001b[0m\u001b[0m\n\u001b[0m\u001b[1;32m     28\u001b[0m     \u001b[0mextended\u001b[0m\u001b[0;34m.\u001b[0m\u001b[0msort\u001b[0m\u001b[0;34m(\u001b[0m\u001b[0mkey\u001b[0m\u001b[0;34m=\u001b[0m\u001b[0;32mlambda\u001b[0m \u001b[0mx\u001b[0m\u001b[0;34m:\u001b[0m \u001b[0mx\u001b[0m\u001b[0;34m.\u001b[0m\u001b[0mb_score\u001b[0m \u001b[0;34m+\u001b[0m \u001b[0mx\u001b[0m\u001b[0;34m.\u001b[0m\u001b[0my_score\u001b[0m\u001b[0;34m)\u001b[0m\u001b[0;34m\u001b[0m\u001b[0;34m\u001b[0m\u001b[0m\n\u001b[1;32m     29\u001b[0m     \u001b[0;32mreturn\u001b[0m \u001b[0mextended\u001b[0m\u001b[0;34m[\u001b[0m\u001b[0;34m:\u001b[0m\u001b[0mtop_scores\u001b[0m\u001b[0;34m]\u001b[0m\u001b[0;34m\u001b[0m\u001b[0;34m\u001b[0m\u001b[0m\n",
      "\u001b[0;32m<ipython-input-10-f9f7abdea535>\u001b[0m in \u001b[0;36mde_novo_search\u001b[0;34m(spectrum, kmer, stall_length, top_scores)\u001b[0m\n\u001b[1;32m     25\u001b[0m         \u001b[0mnsk\u001b[0m \u001b[0;34m=\u001b[0m \u001b[0mScoredSequence\u001b[0m\u001b[0;34m(\u001b[0m\u001b[0mmass_comparisons\u001b[0m\u001b[0;34m.\u001b[0m\u001b[0moptimized_compare_masses\u001b[0m\u001b[0;34m(\u001b[0m\u001b[0mspectrum\u001b[0m\u001b[0;34m.\u001b[0m\u001b[0mspectrum\u001b[0m\u001b[0;34m,\u001b[0m \u001b[0mnew_seq_spec_b\u001b[0m\u001b[0;34m)\u001b[0m\u001b[0;34m,\u001b[0m \u001b[0mmass_comparisons\u001b[0m\u001b[0;34m.\u001b[0m\u001b[0moptimized_compare_masses\u001b[0m\u001b[0;34m(\u001b[0m\u001b[0mspectrum\u001b[0m\u001b[0;34m.\u001b[0m\u001b[0mspectrum\u001b[0m\u001b[0;34m,\u001b[0m \u001b[0mnew_seq_spec_y\u001b[0m\u001b[0;34m)\u001b[0m\u001b[0;34m,\u001b[0m \u001b[0mnew_seq\u001b[0m\u001b[0;34m)\u001b[0m\u001b[0;34m\u001b[0m\u001b[0;34m\u001b[0m\u001b[0m\n\u001b[1;32m     26\u001b[0m         \u001b[0mnext_stall_len\u001b[0m \u001b[0;34m=\u001b[0m \u001b[0mstall_length\u001b[0m \u001b[0;34m-\u001b[0m \u001b[0;36m1\u001b[0m \u001b[0;32mif\u001b[0m \u001b[0mnsk\u001b[0m\u001b[0;34m.\u001b[0m\u001b[0mb_score\u001b[0m \u001b[0;34m+\u001b[0m \u001b[0mnsk\u001b[0m\u001b[0;34m.\u001b[0m\u001b[0my_score\u001b[0m \u001b[0;34m<=\u001b[0m \u001b[0mkmer\u001b[0m\u001b[0;34m.\u001b[0m\u001b[0mb_score\u001b[0m \u001b[0;34m+\u001b[0m \u001b[0mkmer\u001b[0m\u001b[0;34m.\u001b[0m\u001b[0my_score\u001b[0m \u001b[0;32melse\u001b[0m \u001b[0mstall_length\u001b[0m\u001b[0;34m\u001b[0m\u001b[0;34m\u001b[0m\u001b[0m\n\u001b[0;32m---> 27\u001b[0;31m         \u001b[0mextended\u001b[0m \u001b[0;34m+=\u001b[0m \u001b[0mde_novo_search\u001b[0m\u001b[0;34m(\u001b[0m\u001b[0mspectrum\u001b[0m\u001b[0;34m,\u001b[0m \u001b[0mnsk\u001b[0m\u001b[0;34m,\u001b[0m \u001b[0mnext_stall_len\u001b[0m\u001b[0;34m,\u001b[0m \u001b[0mtop_scores\u001b[0m\u001b[0;34m)\u001b[0m\u001b[0;34m\u001b[0m\u001b[0;34m\u001b[0m\u001b[0m\n\u001b[0m\u001b[1;32m     28\u001b[0m     \u001b[0mextended\u001b[0m\u001b[0;34m.\u001b[0m\u001b[0msort\u001b[0m\u001b[0;34m(\u001b[0m\u001b[0mkey\u001b[0m\u001b[0;34m=\u001b[0m\u001b[0;32mlambda\u001b[0m \u001b[0mx\u001b[0m\u001b[0;34m:\u001b[0m \u001b[0mx\u001b[0m\u001b[0;34m.\u001b[0m\u001b[0mb_score\u001b[0m \u001b[0;34m+\u001b[0m \u001b[0mx\u001b[0m\u001b[0;34m.\u001b[0m\u001b[0my_score\u001b[0m\u001b[0;34m)\u001b[0m\u001b[0;34m\u001b[0m\u001b[0;34m\u001b[0m\u001b[0m\n\u001b[1;32m     29\u001b[0m     \u001b[0;32mreturn\u001b[0m \u001b[0mextended\u001b[0m\u001b[0;34m[\u001b[0m\u001b[0;34m:\u001b[0m\u001b[0mtop_scores\u001b[0m\u001b[0;34m]\u001b[0m\u001b[0;34m\u001b[0m\u001b[0;34m\u001b[0m\u001b[0m\n",
      "\u001b[0;32m<ipython-input-10-f9f7abdea535>\u001b[0m in \u001b[0;36mde_novo_search\u001b[0;34m(spectrum, kmer, stall_length, top_scores)\u001b[0m\n\u001b[1;32m     25\u001b[0m         \u001b[0mnsk\u001b[0m \u001b[0;34m=\u001b[0m \u001b[0mScoredSequence\u001b[0m\u001b[0;34m(\u001b[0m\u001b[0mmass_comparisons\u001b[0m\u001b[0;34m.\u001b[0m\u001b[0moptimized_compare_masses\u001b[0m\u001b[0;34m(\u001b[0m\u001b[0mspectrum\u001b[0m\u001b[0;34m.\u001b[0m\u001b[0mspectrum\u001b[0m\u001b[0;34m,\u001b[0m \u001b[0mnew_seq_spec_b\u001b[0m\u001b[0;34m)\u001b[0m\u001b[0;34m,\u001b[0m \u001b[0mmass_comparisons\u001b[0m\u001b[0;34m.\u001b[0m\u001b[0moptimized_compare_masses\u001b[0m\u001b[0;34m(\u001b[0m\u001b[0mspectrum\u001b[0m\u001b[0;34m.\u001b[0m\u001b[0mspectrum\u001b[0m\u001b[0;34m,\u001b[0m \u001b[0mnew_seq_spec_y\u001b[0m\u001b[0;34m)\u001b[0m\u001b[0;34m,\u001b[0m \u001b[0mnew_seq\u001b[0m\u001b[0;34m)\u001b[0m\u001b[0;34m\u001b[0m\u001b[0;34m\u001b[0m\u001b[0m\n\u001b[1;32m     26\u001b[0m         \u001b[0mnext_stall_len\u001b[0m \u001b[0;34m=\u001b[0m \u001b[0mstall_length\u001b[0m \u001b[0;34m-\u001b[0m \u001b[0;36m1\u001b[0m \u001b[0;32mif\u001b[0m \u001b[0mnsk\u001b[0m\u001b[0;34m.\u001b[0m\u001b[0mb_score\u001b[0m \u001b[0;34m+\u001b[0m \u001b[0mnsk\u001b[0m\u001b[0;34m.\u001b[0m\u001b[0my_score\u001b[0m \u001b[0;34m<=\u001b[0m \u001b[0mkmer\u001b[0m\u001b[0;34m.\u001b[0m\u001b[0mb_score\u001b[0m \u001b[0;34m+\u001b[0m \u001b[0mkmer\u001b[0m\u001b[0;34m.\u001b[0m\u001b[0my_score\u001b[0m \u001b[0;32melse\u001b[0m \u001b[0mstall_length\u001b[0m\u001b[0;34m\u001b[0m\u001b[0;34m\u001b[0m\u001b[0m\n\u001b[0;32m---> 27\u001b[0;31m         \u001b[0mextended\u001b[0m \u001b[0;34m+=\u001b[0m \u001b[0mde_novo_search\u001b[0m\u001b[0;34m(\u001b[0m\u001b[0mspectrum\u001b[0m\u001b[0;34m,\u001b[0m \u001b[0mnsk\u001b[0m\u001b[0;34m,\u001b[0m \u001b[0mnext_stall_len\u001b[0m\u001b[0;34m,\u001b[0m \u001b[0mtop_scores\u001b[0m\u001b[0;34m)\u001b[0m\u001b[0;34m\u001b[0m\u001b[0;34m\u001b[0m\u001b[0m\n\u001b[0m\u001b[1;32m     28\u001b[0m     \u001b[0mextended\u001b[0m\u001b[0;34m.\u001b[0m\u001b[0msort\u001b[0m\u001b[0;34m(\u001b[0m\u001b[0mkey\u001b[0m\u001b[0;34m=\u001b[0m\u001b[0;32mlambda\u001b[0m \u001b[0mx\u001b[0m\u001b[0;34m:\u001b[0m \u001b[0mx\u001b[0m\u001b[0;34m.\u001b[0m\u001b[0mb_score\u001b[0m \u001b[0;34m+\u001b[0m \u001b[0mx\u001b[0m\u001b[0;34m.\u001b[0m\u001b[0my_score\u001b[0m\u001b[0;34m)\u001b[0m\u001b[0;34m\u001b[0m\u001b[0;34m\u001b[0m\u001b[0m\n\u001b[1;32m     29\u001b[0m     \u001b[0;32mreturn\u001b[0m \u001b[0mextended\u001b[0m\u001b[0;34m[\u001b[0m\u001b[0;34m:\u001b[0m\u001b[0mtop_scores\u001b[0m\u001b[0;34m]\u001b[0m\u001b[0;34m\u001b[0m\u001b[0;34m\u001b[0m\u001b[0m\n",
      "\u001b[0;32m<ipython-input-10-f9f7abdea535>\u001b[0m in \u001b[0;36mde_novo_search\u001b[0;34m(spectrum, kmer, stall_length, top_scores)\u001b[0m\n\u001b[1;32m     23\u001b[0m         \u001b[0mnew_seq_spec_b\u001b[0m \u001b[0;34m=\u001b[0m \u001b[0mgen_spectra\u001b[0m\u001b[0;34m.\u001b[0m\u001b[0mgen_spectrum\u001b[0m\u001b[0;34m(\u001b[0m\u001b[0mnew_seq\u001b[0m\u001b[0;34m,\u001b[0m \u001b[0mion\u001b[0m\u001b[0;34m=\u001b[0m\u001b[0;34m'b'\u001b[0m\u001b[0;34m)\u001b[0m\u001b[0;34m[\u001b[0m\u001b[0;34m'spectrum'\u001b[0m\u001b[0;34m]\u001b[0m\u001b[0;34m\u001b[0m\u001b[0;34m\u001b[0m\u001b[0m\n\u001b[1;32m     24\u001b[0m         \u001b[0mnew_seq_spec_y\u001b[0m \u001b[0;34m=\u001b[0m \u001b[0mgen_spectra\u001b[0m\u001b[0;34m.\u001b[0m\u001b[0mgen_spectrum\u001b[0m\u001b[0;34m(\u001b[0m\u001b[0mnew_seq\u001b[0m\u001b[0;34m,\u001b[0m \u001b[0mion\u001b[0m\u001b[0;34m=\u001b[0m\u001b[0;34m'y'\u001b[0m\u001b[0;34m)\u001b[0m\u001b[0;34m[\u001b[0m\u001b[0;34m'spectrum'\u001b[0m\u001b[0;34m]\u001b[0m\u001b[0;34m\u001b[0m\u001b[0;34m\u001b[0m\u001b[0m\n\u001b[0;32m---> 25\u001b[0;31m         \u001b[0mnsk\u001b[0m \u001b[0;34m=\u001b[0m \u001b[0mScoredSequence\u001b[0m\u001b[0;34m(\u001b[0m\u001b[0mmass_comparisons\u001b[0m\u001b[0;34m.\u001b[0m\u001b[0moptimized_compare_masses\u001b[0m\u001b[0;34m(\u001b[0m\u001b[0mspectrum\u001b[0m\u001b[0;34m.\u001b[0m\u001b[0mspectrum\u001b[0m\u001b[0;34m,\u001b[0m \u001b[0mnew_seq_spec_b\u001b[0m\u001b[0;34m)\u001b[0m\u001b[0;34m,\u001b[0m \u001b[0mmass_comparisons\u001b[0m\u001b[0;34m.\u001b[0m\u001b[0moptimized_compare_masses\u001b[0m\u001b[0;34m(\u001b[0m\u001b[0mspectrum\u001b[0m\u001b[0;34m.\u001b[0m\u001b[0mspectrum\u001b[0m\u001b[0;34m,\u001b[0m \u001b[0mnew_seq_spec_y\u001b[0m\u001b[0;34m)\u001b[0m\u001b[0;34m,\u001b[0m \u001b[0mnew_seq\u001b[0m\u001b[0;34m)\u001b[0m\u001b[0;34m\u001b[0m\u001b[0;34m\u001b[0m\u001b[0m\n\u001b[0m\u001b[1;32m     26\u001b[0m         \u001b[0mnext_stall_len\u001b[0m \u001b[0;34m=\u001b[0m \u001b[0mstall_length\u001b[0m \u001b[0;34m-\u001b[0m \u001b[0;36m1\u001b[0m \u001b[0;32mif\u001b[0m \u001b[0mnsk\u001b[0m\u001b[0;34m.\u001b[0m\u001b[0mb_score\u001b[0m \u001b[0;34m+\u001b[0m \u001b[0mnsk\u001b[0m\u001b[0;34m.\u001b[0m\u001b[0my_score\u001b[0m \u001b[0;34m<=\u001b[0m \u001b[0mkmer\u001b[0m\u001b[0;34m.\u001b[0m\u001b[0mb_score\u001b[0m \u001b[0;34m+\u001b[0m \u001b[0mkmer\u001b[0m\u001b[0;34m.\u001b[0m\u001b[0my_score\u001b[0m \u001b[0;32melse\u001b[0m \u001b[0mstall_length\u001b[0m\u001b[0;34m\u001b[0m\u001b[0;34m\u001b[0m\u001b[0m\n\u001b[1;32m     27\u001b[0m         \u001b[0mextended\u001b[0m \u001b[0;34m+=\u001b[0m \u001b[0mde_novo_search\u001b[0m\u001b[0;34m(\u001b[0m\u001b[0mspectrum\u001b[0m\u001b[0;34m,\u001b[0m \u001b[0mnsk\u001b[0m\u001b[0;34m,\u001b[0m \u001b[0mnext_stall_len\u001b[0m\u001b[0;34m,\u001b[0m \u001b[0mtop_scores\u001b[0m\u001b[0;34m)\u001b[0m\u001b[0;34m\u001b[0m\u001b[0;34m\u001b[0m\u001b[0m\n",
      "\u001b[0;32m~/Documents/Layer_Research/hypedsearch/src/scoring/mass_comparisons.py\u001b[0m in \u001b[0;36moptimized_compare_masses\u001b[0;34m(observed, reference, ppm_tolerance)\u001b[0m\n\u001b[1;32m    225\u001b[0m     \u001b[0;32mfor\u001b[0m \u001b[0mref\u001b[0m \u001b[0;32min\u001b[0m \u001b[0mreference\u001b[0m\u001b[0;34m:\u001b[0m\u001b[0;34m\u001b[0m\u001b[0;34m\u001b[0m\u001b[0m\n\u001b[1;32m    226\u001b[0m         \u001b[0;31m# see if an observed is in the spectrum +/- the ppm by binary searchy\u001b[0m\u001b[0;34m\u001b[0m\u001b[0;34m\u001b[0m\u001b[0;34m\u001b[0m\u001b[0m\n\u001b[0;32m--> 227\u001b[0;31m         \u001b[0mfound\u001b[0m \u001b[0;34m=\u001b[0m \u001b[0mbisect\u001b[0m\u001b[0;34m(\u001b[0m\u001b[0mobserved_boundaries\u001b[0m\u001b[0;34m,\u001b[0m \u001b[0mref\u001b[0m\u001b[0;34m)\u001b[0m \u001b[0;34m%\u001b[0m \u001b[0;36m2\u001b[0m\u001b[0;34m\u001b[0m\u001b[0;34m\u001b[0m\u001b[0m\n\u001b[0m\u001b[1;32m    228\u001b[0m \u001b[0;34m\u001b[0m\u001b[0m\n\u001b[1;32m    229\u001b[0m         \u001b[0;31m# increment score if found\u001b[0m\u001b[0;34m\u001b[0m\u001b[0;34m\u001b[0m\u001b[0;34m\u001b[0m\u001b[0m\n",
      "\u001b[0;31mKeyboardInterrupt\u001b[0m: "
     ]
    }
   ],
   "source": [
    "keyed_spec = {}\n",
    "for i, spec in enumerate(spectra):\n",
    "    keyed_spec[i] = Spectrum(spec['spectrum'], [500 for _ in range(len(spec['spectrum']))], 2, i, spec['precursor_mass'], '') \n",
    "\n",
    "keyed_results = {}\n",
    "st_dn = time.time()\n",
    "l = len(keyed_spec.keys())\n",
    "for i, spec in keyed_spec.items():\n",
    "    print('on spec {}/{}\\r'.format(i, l), end='')\n",
    "    keyed_results[i] = de_novo_search(spec, ScoredSequence(0, 0, ''))"
   ]
  },
  {
   "cell_type": "code",
   "execution_count": null,
   "metadata": {},
   "outputs": [],
   "source": []
  }
 ],
 "metadata": {
  "kernelspec": {
   "display_name": "Python 3",
   "language": "python",
   "name": "python3"
  },
  "language_info": {
   "codemirror_mode": {
    "name": "ipython",
    "version": 3
   },
   "file_extension": ".py",
   "mimetype": "text/x-python",
   "name": "python",
   "nbconvert_exporter": "python",
   "pygments_lexer": "ipython3",
   "version": "3.7.4"
  }
 },
 "nbformat": 4,
 "nbformat_minor": 4
}

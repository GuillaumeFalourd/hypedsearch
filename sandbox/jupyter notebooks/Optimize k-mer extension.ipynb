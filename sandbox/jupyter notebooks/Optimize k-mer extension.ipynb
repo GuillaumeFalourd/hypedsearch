{
 "cells": [
  {
   "cell_type": "markdown",
   "metadata": {},
   "source": [
    "# Optimize the k-mer extension algorithm\n",
    "So right now we are extending each amino acid by each protein seperately instead of doing something smarter. The problem with this is that we are possibly checking the same k-mer more than once. We should optimize"
   ]
  },
  {
   "cell_type": "code",
   "execution_count": 2,
   "metadata": {},
   "outputs": [],
   "source": [
    "import os\n",
    "import sys\n",
    "module_path = os.path.abspath(os.path.join('..'))\n",
    "if module_path not in sys.path:\n",
    "    sys.path.append(module_path)\n",
    "module_path = os.path.abspath(os.path.join('../..'))\n",
    "if module_path not in sys.path:\n",
    "    sys.path.append(module_path)\n",
    "    \n",
    "from collections import namedtuple\n",
    "import time"
   ]
  },
  {
   "cell_type": "markdown",
   "metadata": {},
   "source": [
    "## The current way"
   ]
  },
  {
   "cell_type": "code",
   "execution_count": 3,
   "metadata": {},
   "outputs": [],
   "source": [
    "from src.scoring import mass_comparisons\n",
    "from src.spectra import gen_spectra\n",
    "from src.types.objects import ScoredKmer, Spectrum, Kmer\n",
    "from src.types.database import Entry\n",
    "\n",
    "def new_entry(old_entry: ScoredKmer, protein: Entry, spectrum: Spectrum, ion='b') -> ScoredKmer:\n",
    "    '''\n",
    "    Generate a new entry from the old entry\n",
    "    \n",
    "    Input:\n",
    "        old_entry:   dict entry with k, sequence, b and y scores, start and end positions\n",
    "        prot:        Entry class instance \n",
    "        spectrum:    list spectrum to score against\n",
    "    kwargs:\n",
    "        ion:         str ion type to determine which. Options are 'b', 'y'. Default='b' \n",
    "    Ouptut:\n",
    "        Score object\n",
    "    '''\n",
    "    starting_pos = old_entry.kmer.start_position if ion == 'b' else old_entry.kmer.start_position - 1\n",
    "    ending_pos = old_entry.kmer.end_position + 1 if ion == 'b' else old_entry.kmer.end_position\n",
    "    if starting_pos < 0 or ending_pos > len(protein.sequence) - 1:\n",
    "        return old_entry\n",
    "\n",
    "    # check for negative lengths\n",
    "    if starting_pos > ending_pos or ending_pos < starting_pos:\n",
    "        return old_entry\n",
    "\n",
    "    mer_seq = protein.sequence[starting_pos:ending_pos+1]\n",
    "    mer_spec_b = gen_spectra.gen_spectrum(mer_seq, ion='b')['spectrum']\n",
    "    mer_spec_y = gen_spectra.gen_spectrum(mer_seq, ion='y')['spectrum']\n",
    "    longer_kmer = Kmer(old_entry.kmer.k + 1, mer_seq, protein.name, starting_pos, ending_pos)\n",
    "    new_sk = ScoredKmer( mass_comparisons.optimized_compare_masses(spectrum.spectrum, mer_spec_b), mass_comparisons.optimized_compare_masses(spectrum.spectrum, mer_spec_y), longer_kmer)\n",
    "    return new_sk\n",
    "\n",
    "def extend_kmer(spectrum: Spectrum, protein: Entry, kmer: ScoredKmer, ion: str, stall_length=3) -> dict:\n",
    "    '''\n",
    "    Extend a kmer until the score tells us that the adding amino acids doens't make it a better alignment\n",
    "    \n",
    "    Inputs:\n",
    "        spectrum:           Spectrum namedtuple instance\n",
    "        protein_sequence:   Entry class instance\n",
    "        kmer:               ScoredKmer namedtuple instance\n",
    "        ion:                str the ion type we are looking at. Should be 'b' or 'y'\n",
    "    kwargs:\n",
    "        stall_length:   int the number of iterations a subsequence is allowed to go witth \n",
    "                        no increase in score before finishing kmer growth on a certain kmer. Default=3\n",
    "    Outputs\n",
    "        Score object\n",
    "    '''\n",
    "    if ion.lower() not in ['b', 'y']:\n",
    "        return kmer\n",
    "    score_key = 'b_score' if ion.lower() == 'b' else 'y_score'\n",
    "    # keep track of the last time a score increased\n",
    "    last_maintenance = kmer\n",
    "    # keep going until we run out of extension\n",
    "    while stall_length > 0:\n",
    "        updated = new_entry(kmer, protein, spectrum, ion=ion)\n",
    "        if getattr(updated, score_key) > getattr(kmer, score_key) and getattr(updated, score_key) > 0 and updated.kmer.k != kmer.kmer.k:\n",
    "            last_maintenance = updated\n",
    "        else: \n",
    "            stall_length -= 1\n",
    "        kmer = updated\n",
    "    return last_maintenance"
   ]
  },
  {
   "cell_type": "markdown",
   "metadata": {},
   "source": [
    "## Skip seach it\n",
    "add a certain a number of amino acids to see if it increases"
   ]
  },
  {
   "cell_type": "code",
   "execution_count": 4,
   "metadata": {},
   "outputs": [],
   "source": [
    "from operator import itemgetter\n",
    "\n",
    "def new_entry_skipped(old_entry: ScoredKmer, protein: Entry, spectrum: Spectrum, skip_len: int, ion='b') -> ScoredKmer:\n",
    "    '''\n",
    "    Generate a new entry from the old entry\n",
    "    \n",
    "    Input:\n",
    "        old_entry:   dict entry with k, sequence, b and y scores, start and end positions\n",
    "        prot:        Entry class instance \n",
    "        spectrum:    list spectrum to score against\n",
    "        skip_len:    (int) number of amino acids to try and skip \n",
    "    kwargs:\n",
    "        ion:         str ion type to determine which. Options are 'b', 'y'. Default='b' \n",
    "    Ouptut:\n",
    "        Score object\n",
    "    '''\n",
    "    append_len = skip_len if old_entry.kmer.end_position + skip_len < len(protein.sequence) - 1 else 1\n",
    "    prepend_len = skip_len if old_entry.kmer.start_position - skip_len > 0 else 1\n",
    "    starting_pos = old_entry.kmer.start_position if ion == 'b' else old_entry.kmer.start_position - prepend_len\n",
    "    ending_pos = old_entry.kmer.end_position + append_len if ion == 'b' else old_entry.kmer.end_position\n",
    "    if starting_pos < 0 or ending_pos > len(protein.sequence) - 1:\n",
    "        return old_entry\n",
    "\n",
    "    # check for negative lengths\n",
    "    if starting_pos > ending_pos or ending_pos < starting_pos:\n",
    "        return old_entry\n",
    "\n",
    "    mer_seq = protein.sequence[starting_pos:ending_pos+1]\n",
    "    mer_spec_b = gen_spectra.gen_spectrum(mer_seq, ion='b')['spectrum']\n",
    "    mer_spec_y = gen_spectra.gen_spectrum(mer_seq, ion='y')['spectrum']\n",
    "    longer_kmer = Kmer(old_entry.kmer.k + 1, mer_seq, protein.name, starting_pos, ending_pos)\n",
    "    new_sk = ScoredKmer( mass_comparisons.optimized_compare_masses(spectrum.spectrum, mer_spec_b), mass_comparisons.optimized_compare_masses(spectrum.spectrum, mer_spec_y), longer_kmer)\n",
    "    return new_sk\n",
    "\n",
    "def skip_search(spectrum: Spectrum, protein: Entry, kmer: ScoredKmer, ion: str, stall_length=3) -> dict:\n",
    "    '''\n",
    "    Extend a kmer until the score tells us that the adding amino acids doens't make it a better alignment\n",
    "    \n",
    "    Inputs:\n",
    "        spectrum:           Spectrum namedtuple instance\n",
    "        protein_sequence:   Entry class instance\n",
    "        kmer:               ScoredKmer namedtuple instance\n",
    "        ion:                str the ion type we are looking at. Should be 'b' or 'y'\n",
    "    kwargs:\n",
    "        stall_length:   int the number of iterations a subsequence is allowed to go witth \n",
    "                        no increase in score before finishing kmer growth on a certain kmer. Default=3\n",
    "    Outputs\n",
    "        Score object\n",
    "    '''\n",
    "    if ion.lower() not in ['b', 'y']:\n",
    "        return kmer\n",
    "    score_key = 'b_score' if ion.lower() == 'b' else 'y_score'\n",
    "    # keep going until we run out of extension\n",
    "    while True:\n",
    "        updated = new_entry(kmer, protein, spectrum, stall_len, ion=ion,)\n",
    "        if getattr(updated, score_key) > getattr(kmer, score_key) and getattr(updated, score_key) > 0 and updated.kmer.k != kmer.kmer.k:\n",
    "            kmer = updated\n",
    "        else: \n",
    "            break\n",
    "    # so we've skipped enough, now start at length n-skip_len and extend\n",
    "    best = max([new_entry(kmer, protein, spectrum, i-skip_len, ion) for i in range()], key=itemgetter(score_key))\n",
    "    return best"
   ]
  },
  {
   "cell_type": "markdown",
   "metadata": {},
   "source": [
    "## Basic max search"
   ]
  },
  {
   "cell_type": "code",
   "execution_count": null,
   "metadata": {},
   "outputs": [],
   "source": [
    "def new_entry_skipped(old_entry: ScoredKmer, protein: Entry, spectrum: Spectrum, skip_len: int, ion='b') -> ScoredKmer:\n",
    "    '''\n",
    "    Generate a new entry from the old entry\n",
    "    \n",
    "    Input:\n",
    "        old_entry:   dict entry with k, sequence, b and y scores, start and end positions\n",
    "        prot:        Entry class instance \n",
    "        spectrum:    list spectrum to score against\n",
    "        skip_len:    (int) number of amino acids to try and skip \n",
    "    kwargs:\n",
    "        ion:         str ion type to determine which. Options are 'b', 'y'. Default='b' \n",
    "    Ouptut:\n",
    "        Score object\n",
    "    '''\n",
    "    append_len = skip_len if old_entry.kmer.end_position + skip_len < len(protein.sequence) - 1 else 1\n",
    "    prepend_len = skip_len if old_entry.kmer.start_position - skip_len > 0 else 1\n",
    "    starting_pos = old_entry.kmer.start_position if ion == 'b' else old_entry.kmer.start_position - prepend_len\n",
    "    ending_pos = old_entry.kmer.end_position + append_len if ion == 'b' else old_entry.kmer.end_position\n",
    "    if starting_pos < 0 or ending_pos > len(protein.sequence) - 1:\n",
    "        return old_entry\n",
    "\n",
    "    # check for negative lengths\n",
    "    if starting_pos > ending_pos or ending_pos < starting_pos:\n",
    "        return old_entry\n",
    "\n",
    "    mer_seq = protein.sequence[starting_pos:ending_pos+1]\n",
    "    mer_spec_b = gen_spectra.gen_spectrum(mer_seq, ion='b')['spectrum']\n",
    "    mer_spec_y = gen_spectra.gen_spectrum(mer_seq, ion='y')['spectrum']\n",
    "    longer_kmer = Kmer(old_entry.kmer.k + 1, mer_seq, protein.name, starting_pos, ending_pos)\n",
    "    new_sk = ScoredKmer( mass_comparisons.optimized_compare_masses(spectrum.spectrum, mer_spec_b), mass_comparisons.optimized_compare_masses(spectrum.spectrum, mer_spec_y), longer_kmer)\n",
    "    return new_sk\n",
    "\n",
    "def max_search(spectrum: Spectrum, protein: Entry, kmer: ScoredKmer, ion: str, stall_length=3) -> dict:\n",
    "    '''\n",
    "    Extend a kmer until the score tells us that the adding amino acids doens't make it a better alignment\n",
    "    \n",
    "    Inputs:\n",
    "        spectrum:           Spectrum namedtuple instance\n",
    "        protein_sequence:   Entry class instance\n",
    "        kmer:               ScoredKmer namedtuple instance\n",
    "        ion:                str the ion type we are looking at. Should be 'b' or 'y'\n",
    "    kwargs:\n",
    "        stall_length:   int the number of iterations a subsequence is allowed to go witth \n",
    "                        no increase in score before finishing kmer growth on a certain kmer. Default=3\n",
    "    Outputs\n",
    "        Score object\n",
    "    '''\n",
    "    if ion.lower() not in ['b', 'y']:\n",
    "        return kmer\n",
    "    score_key = 'b_score' if ion.lower() == 'b' else 'y_score'\n",
    "    # keep going until we run out of extension\n",
    "    base_index = kmer.kmer.k + 1\n",
    "        \n",
    "    while True:\n",
    "        updated = [new_entry_skipped(spectrum, protein, kmer, ion, i) for i in range(base, base+2*stall_len)]\n",
    "        if max(updated, key=itemgetter(score_key)).kmer.k < base+stall_len:\n",
    "            return max(updated, key=itemgetter(score_key))\n",
    "        else:\n",
    "            base += 2*stall_len"
   ]
  },
  {
   "cell_type": "markdown",
   "metadata": {},
   "source": [
    "# Run and time these"
   ]
  },
  {
   "cell_type": "markdown",
   "metadata": {},
   "source": [
    "## 1. Load fasta database"
   ]
  },
  {
   "cell_type": "code",
   "execution_count": 1,
   "metadata": {},
   "outputs": [],
   "source": [
    "import os\n",
    "import sys\n",
    "module_path = os.path.abspath(os.path.join('..'))\n",
    "if module_path not in sys.path:\n",
    "    sys.path.append(module_path)\n",
    "module_path = os.path.abspath(os.path.join('../..'))\n",
    "if module_path not in sys.path:\n",
    "    sys.path.append(module_path)\n",
    "    \n",
    "from src.file_io import fasta\n",
    "\n",
    "fasta_file = '../../testing framework/data/databases/100prots.fasta'\n",
    "database = fasta.read(fasta_file, True)\n",
    "\n",
    "database = {x['name']: x for x in database}"
   ]
  },
  {
   "cell_type": "markdown",
   "metadata": {},
   "source": [
    "## 2.  Generate the peptides, hybrid proteins and peptides"
   ]
  },
  {
   "cell_type": "code",
   "execution_count": 2,
   "metadata": {},
   "outputs": [
    {
     "name": "stdout",
     "output_type": "stream",
     "text": [
      "Generating hybrid protein 0/5[0%]\r",
      "Generating hybrid protein 1/5[20%]\r",
      "Generating hybrid protein 2/5[40%]\r",
      "Generating hybrid protein 3/5[60%]\r",
      "Generating hybrid protein 4/5[80%]\r\n",
      "Finished generating hybrid proteins\n"
     ]
    }
   ],
   "source": [
    "from modules.sequence_generation import proteins, peptides\n",
    "test_directory = '../../testing framework/data/testing_output/'\n",
    "\n",
    "num_hybs = 5\n",
    "min_length= 5\n",
    "max_length = 35\n",
    "num_peptides = 100\n",
    "min_cont = 3 #min contribution for each side of a hybrid\n",
    "\n",
    "# make hybrid proteins\n",
    "hyb_prots = proteins.generate_hybrids([x for _, x in database.items()], num_hybs, min_contribution=max_length)\n",
    "# create peptides\n",
    "non_hybrid_peps = peptides.gen_peptides([x for _, x in database.items()], num_peptides, min_length=min_length, max_length=max_length, digest='random', dist='beta')\n",
    "# create hybrid peptides\n",
    "hyb_peps = peptides.gen_peptides(hyb_prots, num_hybs, min_length=min_length, max_length=max_length, digest='random', min_contribution=min_cont, hybrid_list=True)\n",
    "\n",
    "all_proteins_raw = [x for _,x in database.items()] + hyb_prots\n",
    "all_peptides_raw = non_hybrid_peps + hyb_peps\n",
    "\n",
    "peptides = {}\n",
    "for i, pep in enumerate(all_peptides_raw):\n",
    "    peptides[i] = pep\n",
    "    peptides[i]['scan_no'] = i"
   ]
  },
  {
   "cell_type": "markdown",
   "metadata": {},
   "source": [
    "## 3. Generate spectra"
   ]
  },
  {
   "cell_type": "code",
   "execution_count": 3,
   "metadata": {},
   "outputs": [
    {
     "name": "stderr",
     "output_type": "stream",
     "text": [
      "Determination of memory status is not supported on this \n",
      " platform, measuring for memoryleaks will never fail\n"
     ]
    },
    {
     "data": {
      "text/plain": [
       "'../../testing framework/data/testing_output/testSpectraFile.mzML'"
      ]
     },
     "execution_count": 3,
     "metadata": {},
     "output_type": "execute_result"
    }
   ],
   "source": [
    "from src.spectra import gen_spectra\n",
    "from src.utils import utils\n",
    "from modules.sequence_generation import write_spectra\n",
    "\n",
    "utils.make_dir(test_directory)\n",
    "\n",
    "spectra = []\n",
    "sorted_keys = [int(c) for c in peptides.keys()]\n",
    "sorted_keys.sort()\n",
    "for k in sorted_keys:\n",
    "    pep = peptides[k]\n",
    "    cont = gen_spectra.gen_spectrum(pep['sequence'])\n",
    "    spec = cont['spectrum']\n",
    "    pm = cont['precursor_mass']\n",
    "    spectra.append({'spectrum': spec, 'precursor_mass': pm})\n",
    "write_spectra.write_mzml('testSpectraFile', spectra, output_dir=test_directory)\n"
   ]
  },
  {
   "cell_type": "markdown",
   "metadata": {},
   "source": [
    "# Run on hyped search because its already all there"
   ]
  },
  {
   "cell_type": "code",
   "execution_count": 4,
   "metadata": {},
   "outputs": [
    {
     "name": "stdout",
     "output_type": "stream",
     "text": [
      "Loading database...\n",
      "Done. Indexing database...\n",
      "Done.\n",
      "Number of 3-mers found in the database: 7487\n",
      "Analyzing spectra file 1/1[0%]\n",
      "\n",
      "Analyzing spectrum 345/345[99%]\n",
      "Finished search. Writting results to ../../testing framework/data/testing_output/...\n",
      "\n",
      "Total runtime: 2799.412964105606 seconds\n"
     ]
    }
   ],
   "source": [
    "import os\n",
    "import sys\n",
    "module_path = os.path.abspath(os.path.join('..'))\n",
    "if module_path not in sys.path:\n",
    "    sys.path.append(module_path)\n",
    "module_path = os.path.abspath(os.path.join('../..'))\n",
    "if module_path not in sys.path:\n",
    "    sys.path.append(module_path)\n",
    "\n",
    "import time\n",
    "from src import runner\n",
    "\n",
    "test_directory = '../../testing framework/data/testing_output/'\n",
    "fasta_file = '../../testing framework/data/databases/100prots.fasta'\n",
    "\n",
    "args = {\n",
    "    'spectra_folder': test_directory,\n",
    "    'database_file': fasta_file,\n",
    "    'output_dir': test_directory,\n",
    "    'min_peptide_len': 3,\n",
    "    'max_peptide_len': 35,\n",
    "}\n",
    "st = time.time()\n",
    "runner.run(args)\n",
    "print('\\nTotal runtime: {} seconds'.format(time.time() - st))"
   ]
  },
  {
   "cell_type": "markdown",
   "metadata": {},
   "source": [
    "# Run on the brute force one"
   ]
  },
  {
   "cell_type": "code",
   "execution_count": null,
   "metadata": {},
   "outputs": [],
   "source": [
    "keyed_spec = {}\n",
    "for i, spec in enumerate(spectra):\n",
    "    keyed_spec[i] = Spectrum(spec['spectrum'], [500 for _ in range(len(spec['spectrum']))], 2, i, spec['precursor_mass'], '') \n",
    "\n",
    "keyed_results = {}\n",
    "st_dn = time.time()\n",
    "l = len(keyed_spec.keys())\n",
    "for i, spec in keyed_spec.items():\n",
    "    print('on spec {}/{}\\r'.format(i, l), end='')\n",
    "    keyed_results[i] = skipped_search(spec, ScoredSequence(0, 0, ''))"
   ]
  },
  {
   "cell_type": "code",
   "execution_count": null,
   "metadata": {},
   "outputs": [],
   "source": []
  }
 ],
 "metadata": {
  "kernelspec": {
   "display_name": "Python 3",
   "language": "python",
   "name": "python3"
  },
  "language_info": {
   "codemirror_mode": {
    "name": "ipython",
    "version": 3
   },
   "file_extension": ".py",
   "mimetype": "text/x-python",
   "name": "python",
   "nbconvert_exporter": "python",
   "pygments_lexer": "ipython3",
   "version": "3.7.4"
  }
 },
 "nbformat": 4,
 "nbformat_minor": 4
}

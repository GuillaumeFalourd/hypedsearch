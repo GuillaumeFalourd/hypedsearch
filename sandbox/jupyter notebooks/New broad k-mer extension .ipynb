{
 "cells": [
  {
   "cell_type": "markdown",
   "metadata": {},
   "source": [
    "# New k-mer extension that happens more globally\n",
    "Make it run faster.\n",
    "\n",
    "Steps:\n",
    "1. Index the database \n",
    "2. Build a hash table of the masses of all b+, b++, y+, and y++ ions and masses\n",
    "3. Search for all sequences that get mass hits\n",
    "4. Filter the results\n",
    "5. Attempt aligments\n"
   ]
  },
  {
   "cell_type": "code",
   "execution_count": 1,
   "metadata": {},
   "outputs": [],
   "source": [
    "# -*- coding: latin-1 -*-\n",
    "import os\n",
    "import sys\n",
    "\n",
    "module_path = os.path.abspath(os.path.join('..'))\n",
    "if module_path not in sys.path:\n",
    "    sys.path.append(module_path)\n",
    "module_path = os.path.abspath(os.path.join('../..'))\n",
    "if module_path not in sys.path:\n",
    "    sys.path.append(module_path)\n",
    "    \n",
    "from src.types.database import Database\n",
    "from src.types.objects import Spectrum\n",
    "from src.file_io import fasta\n",
    "from modules.sequence_generation import proteins, peptides\n",
    "from src.spectra.gen_spectra import gen_spectrum\n",
    "from src.scoring.scoring import score_subsequence\n",
    "\n",
    "import math\n",
    "from collections import namedtuple, defaultdict, deque\n",
    "import time\n",
    "import bisect\n",
    "from operator import itemgetter\n",
    "from typing import Iterable, Any\n"
   ]
  },
  {
   "cell_type": "markdown",
   "metadata": {},
   "source": [
    "## Utils"
   ]
  },
  {
   "cell_type": "code",
   "execution_count": 2,
   "metadata": {},
   "outputs": [],
   "source": [
    "def binary_search_by_key(value: Any, a: Iterable, key: str) -> int:\n",
    "    '''\n",
    "    index of insertion\n",
    "    '''\n",
    "    if len(a) == 0:\n",
    "        return 0\n",
    "    elif len(a) == 1:\n",
    "        return 1 if getattr(a[0], key) <= getattr(value, key) else 0\n",
    "    \n",
    "    mid = floor(len(a)/2)\n",
    "    if getattr(a[mid-1], key) <= getattr(value, key) <= getattr(a[mid], key):\n",
    "        return mid\n",
    "    elif getattr(a[mid], key) > getattr(value, key):\n",
    "        return mid - insort_by_key(value, a[:mid], key)\n",
    "    else:\n",
    "        return mid + insort_by_key(value, a[mid:], key)"
   ]
  },
  {
   "cell_type": "code",
   "execution_count": 3,
   "metadata": {},
   "outputs": [],
   "source": [
    "def insort_by_key(value: Any, a: Iterable, key: str) -> Iterable:\n",
    "    '''\n",
    "    '''\n",
    "    if len(a) == 0:\n",
    "        return [value]\n",
    "    elif len(a) == 1:\n",
    "        return a + [value] if getattr(a[0], key) <= getattr(value, key) else [value] + a\n",
    "    \n",
    "    mid = math.floor(len(a)/2)\n",
    "    if getattr(a[mid-1], key) <= getattr(value, key) <= getattr(a[mid], key):\n",
    "        return a[:mid] + [value] + a[mid:]\n",
    "    elif getattr(a[mid], key) > getattr(value, key):\n",
    "        return insort_by_key(value, a[:mid], key) + a[mid:]\n",
    "    else:\n",
    "        return a[:mid] + insort_by_key(value, a[mid:], key)"
   ]
  },
  {
   "cell_type": "code",
   "execution_count": 4,
   "metadata": {},
   "outputs": [],
   "source": [
    "def insort_by_index(value: Any, a: Iterable, index: int) -> Iterable:\n",
    "    '''\n",
    "    '''\n",
    "    if len(a) == 0:\n",
    "        return [value]\n",
    "    elif len(a) == 1:\n",
    "        return a + [value] if a[0][index] <= value[index] else [value] + a\n",
    "    \n",
    "    mid = math.floor(len(a)/2)\n",
    "    if a[mid-1][index] <= value[index] <= a[mid][index]:\n",
    "        return a[:mid] + [value] + a[mid:]\n",
    "    elif a[mid][index] > value[index]:\n",
    "        return insort_by_index(value, a[:mid], index) + a[mid:]\n",
    "    else:\n",
    "        return a[:mid] + insort_by_index(value, a[mid:], index)"
   ]
  },
  {
   "cell_type": "code",
   "execution_count": 5,
   "metadata": {},
   "outputs": [],
   "source": [
    "def binary_search_exact_by_key(value: Any, a: Iterable, key: str) -> int:\n",
    "    '''\n",
    "    '''\n",
    "    if len(a) == 0:\n",
    "        return -1\n",
    "    i = bisect.bisect_left([getattr(x, key) for x in a], value)\n",
    "    if i < len(a) and getattr(a[i], key) == value:\n",
    "        return i\n",
    "    elif i+1 < len(a) and getattr(a[i+1], key) == value:\n",
    "        return i+1\n",
    "    return -1"
   ]
  },
  {
   "cell_type": "markdown",
   "metadata": {},
   "source": [
    "## Global extension and addition"
   ]
  },
  {
   "cell_type": "code",
   "execution_count": 6,
   "metadata": {},
   "outputs": [],
   "source": [
    "\n",
    "MassSequence = namedtuple('MassSequence', ['mass', 'sequence'])\n",
    "\n",
    "def ppm_to_da(reference: float, ppm_tolerance: float) -> float:\n",
    "    '''\n",
    "    Calculate the ppm difference between the observed and actual\n",
    "    '''\n",
    "    return abs((ppm_tolerance / 1000000)*reference)\n",
    "\n",
    "\n",
    "def search_kmers_hash(observed: Spectrum, kmers: dict, tolerance: float) -> list:\n",
    "    '''\n",
    "    Search through all of the base kmers and find those that gave us good hits\n",
    "    \n",
    "    Inputs:\n",
    "        spectrum:    (Spectrum) what to sequence\n",
    "        allbasemers: (dict of list of MassSequence) all of the basemers made from the function 'make_all_base_mers_hash'\n",
    "        tolerance:   (float) the ppm tolerance to accept for each mass\n",
    "    Outputs:\n",
    "        list of MassSequence for all masses that were in the acceptable range of an observed mass\n",
    "    '''\n",
    "    hits = []\n",
    "    for mass in observed.spectrum:\n",
    "        tol = ppm_to_da(mass, tolerance)\n",
    "        lb_mass = mass - tol\n",
    "        ub_mass = mass + tol\n",
    "        lb_mass_key = math.floor(lb_mass)\n",
    "        ub_mass_key = math.floor(ub_mass)\n",
    "        hits += [x.sequence for x in kmers[ub_mass_key] if lb_mass <= x.mass <= ub_mass]\n",
    "        if lb_mass_key != ub_mass_key:\n",
    "            hits += [x.sequence for x in kmers[ub_mass_key] if lb_mass <= x.mass <= ub_mass]\n",
    "            \n",
    "    return hits"
   ]
  },
  {
   "cell_type": "markdown",
   "metadata": {},
   "source": [
    "## Build a dictionary for sizes min length to max length"
   ]
  },
  {
   "cell_type": "code",
   "execution_count": 7,
   "metadata": {},
   "outputs": [],
   "source": [
    "KmerMasses = namedtuple('KmerMasses', ['bs', 'bd', 'ys', 'yd'])\n",
    "\n",
    "def add_sequence_to_masssequences(l: list, sequence: str, mass: float) -> list:\n",
    "    '''\n",
    "    '''\n",
    "    for ms in l: \n",
    "        if ms.mass == float:\n",
    "            ms.sequences.append(sequence)\n",
    "            return l\n",
    "    l.append(MassSequences(mass, [sequence]))\n",
    "\n",
    "def build_kmer_mass_dicts(database: Database, min_peptide_len: int, max_peptide_len: int) -> KmerMasses:\n",
    "    '''\n",
    "    '''\n",
    "    bs = defaultdict(list)\n",
    "    bd = defaultdict(list)\n",
    "    ys = defaultdict(list)\n",
    "    yd = defaultdict(list)\n",
    "    \n",
    "    kmer_tracker = defaultdict(str)\n",
    "    \n",
    "    print(f'Indexing database for k={max_peptide_len}...')\n",
    "    database.set_kmer_size(max_peptide_len)\n",
    "    database.index()\n",
    "    print('Done')\n",
    "    mdl = len(database.metadata.keys())\n",
    "    \n",
    "    printskiplen = mdl // 1000\n",
    "    printskipc = 0\n",
    "    \n",
    "    for i, kmer in enumerate(list(database.metadata.keys())):\n",
    "        if len(kmer) < min_peptide_len: \n",
    "            continue\n",
    "            \n",
    "        if printskipc == printskiplen:\n",
    "            print(f'Looking at kmer {i + 1}/{mdl}\\r', end='')\n",
    "            printskipc = 0\n",
    "            \n",
    "        printskipc += 1\n",
    "        \n",
    "        kmerspecbs = gen_spectrum(kmer, ion='b', charge=1)['spectrum']\n",
    "        kmerspecbd = gen_spectrum(kmer, ion='b', charge=2)['spectrum']\n",
    "        kmerspecys = gen_spectrum(kmer, ion='y', charge=1)['spectrum']\n",
    "        kmerspecyd = gen_spectrum(kmer, ion='y', charge=2)['spectrum']\n",
    "        \n",
    "        for i in range(min_peptide_len, len(kmer)):\n",
    "            subseq_b = kmer[:i]\n",
    "            subseq_y = kmer[len(kmer)-i-1:]\n",
    "            \n",
    "            if 'b' not in kmer_tracker[subseq_b]:\n",
    "                kmer_tracker[subseq_b] += 'b'\n",
    "        \n",
    "                bs[math.floor(kmerspecbs[i-1])].append(MassSequence(kmerspecbs[i-1], subseq_b))\n",
    "                bd[math.floor(kmerspecbd[i-1])].append(MassSequence(kmerspecbd[i-1], subseq_b))\n",
    "            \n",
    "            if 'y' not in kmer_tracker[subseq_y]:\n",
    "                kmer_tracker[subseq_y] += 'y'\n",
    "            \n",
    "                ys[math.floor(kmerspecys[i-1])].append(MassSequence(kmerspecys[i-1], subseq_y))\n",
    "                yd[math.floor(kmerspecyd[i-1])].append(MassSequence(kmerspecyd[i-1], subseq_y))\n",
    "                    \n",
    "    del kmer_tracker\n",
    "        \n",
    "    return KmerMasses(bs, bd, ys, yd)"
   ]
  },
  {
   "cell_type": "markdown",
   "metadata": {},
   "source": [
    "## Create an alignment from the sequences"
   ]
  },
  {
   "cell_type": "code",
   "execution_count": 8,
   "metadata": {},
   "outputs": [],
   "source": [
    "def align_overlaps(seq1: str, seq2: str, p=False) -> str:\n",
    "    '''\n",
    "    '''\n",
    "    alignment = None\n",
    "    # if we have a perfect overlap, return it\n",
    "    if seq1 == seq2:\n",
    "        alignment = seq1\n",
    "    \n",
    "    # if one is a full subsequence of another, return the larger one\n",
    "    elif seq1 in seq2:\n",
    "        p and print('seq1 in seq2')\n",
    "        alignment = seq2\n",
    "    elif seq2 in seq1:\n",
    "        p and print('seq2 in seq1')\n",
    "        alignment = seq1\n",
    "    \n",
    "    else:\n",
    "        # try and find an alignment. seq2 should overlap as much of the right of seq1 as possible\n",
    "        start_points = [i for i in range(len(seq1)) if seq2[0] == seq1[i]]\n",
    "        for sp in start_points:\n",
    "            # try and see if extending it makes it match\n",
    "            for i in range(sp, len(seq1)):\n",
    "                if seq1[i] != seq2[i-sp]:\n",
    "                    i -= 1\n",
    "                    break\n",
    "            if i == len(seq1) - 1:\n",
    "                s2_start = len(seq1) - sp\n",
    "                right_seq = seq2[s2_start] if s2_start < len(seq2) else ''\n",
    "                alignment = seq1 + seq2[s2_start:]\n",
    "                p and print(f'overlap seq1 {seq1} and overlap seq2 {seq2[s2_start:]}')\n",
    "                break\n",
    "            else:\n",
    "                alignment = seq1 + seq2\n",
    "    return alignment\n",
    "            "
   ]
  },
  {
   "cell_type": "code",
   "execution_count": 9,
   "metadata": {},
   "outputs": [],
   "source": [
    "def hybrid_alignment(seq1: str, seq2: str) -> (str, str):\n",
    "    '''\n",
    "    '''\n",
    "    alignment = ''\n",
    "    hybalignment = ''\n",
    "    attempted_overlap = align_overlaps(seq1, seq2)\n",
    "    if attempted_overlap is not None and 0 < len(attempted_overlap) < len(seq1) + len(seq2):\n",
    "        # there is an overlap and some ambiguity\n",
    "        # get the starting point of seq2\n",
    "        rightstart = attempted_overlap.index(seq2)\n",
    "        leftend = len(seq1) - 1\n",
    "        # range between leftend and rigth start is ambiguous\n",
    "        middle_sec = attempted_overlap[rightstart:leftend + 1]\n",
    "        \n",
    "        alignment = attempted_overlap\n",
    "        hybalignment = attempted_overlap[:rightstart] + '(' + middle_sec + ')' + attempted_overlap[leftend+1:]\n",
    "    else:\n",
    "        alignment = seq1 + seq2\n",
    "        hybalignment = seq1 + '-' + seq2\n",
    "        \n",
    "    return (alignment, hybalignment)"
   ]
  },
  {
   "cell_type": "markdown",
   "metadata": {},
   "source": [
    "# TESTING"
   ]
  },
  {
   "cell_type": "markdown",
   "metadata": {},
   "source": [
    "## Generate data"
   ]
  },
  {
   "cell_type": "markdown",
   "metadata": {},
   "source": [
    "### 1. Load fasta database"
   ]
  },
  {
   "cell_type": "code",
   "execution_count": 10,
   "metadata": {},
   "outputs": [],
   "source": [
    "fasta_file = '../../testing framework/data/databases/500prots.fasta'\n",
    "database = fasta.read(fasta_file, True)\n",
    "\n",
    "database = {x['name']: x for x in database}"
   ]
  },
  {
   "cell_type": "markdown",
   "metadata": {},
   "source": [
    "### 2.  Generate the peptides, hybrid proteins and peptides"
   ]
  },
  {
   "cell_type": "code",
   "execution_count": 11,
   "metadata": {},
   "outputs": [
    {
     "name": "stdout",
     "output_type": "stream",
     "text": [
      "Generating hybrid protein 0/5[0%]\r",
      "Generating hybrid protein 1/5[20%]\r",
      "Generating hybrid protein 2/5[40%]\r",
      "Generating hybrid protein 3/5[60%]\r",
      "Generating hybrid protein 4/5[80%]\r\n",
      "Finished generating hybrid proteins\n",
      "FPE-HDA\n"
     ]
    }
   ],
   "source": [
    "test_directory = '../../testing framework/data/testing_output/'\n",
    "\n",
    "num_hybs = 5\n",
    "min_length= 5\n",
    "max_length = 20\n",
    "num_peptides = 1000\n",
    "min_cont = 3 #min contribution for each side of a hybrid\n",
    "\n",
    "# make hybrid proteins\n",
    "hyb_prots = proteins.generate_hybrids([x for _, x in database.items()], num_hybs, min_contribution=max_length)\n",
    "# create peptides\n",
    "non_hybrid_peps = peptides.gen_peptides([x for _, x in database.items()], num_peptides, min_length=min_length, max_length=max_length, digest='random', dist='beta')\n",
    "# create hybrid peptides\n",
    "hyb_peps = peptides.gen_peptides(hyb_prots, num_hybs, min_length=min_length, max_length=max_length, digest='random', min_contribution=min_cont, hybrid_list=True)\n",
    "print(hyb_peps[0]['hybrid_sequence'])\n",
    "all_proteins_raw = [x for _,x in database.items()] + hyb_prots\n",
    "all_peptides_raw = non_hybrid_peps + hyb_peps\n",
    "\n",
    "peps = {}\n",
    "for i, pep in enumerate(all_peptides_raw):\n",
    "    peps[i] = pep\n",
    "    peps[i]['scan_no'] = i\n",
    "    "
   ]
  },
  {
   "cell_type": "markdown",
   "metadata": {},
   "source": [
    "### 3. Generate spectra"
   ]
  },
  {
   "cell_type": "code",
   "execution_count": 12,
   "metadata": {},
   "outputs": [],
   "source": [
    "spectra = []\n",
    "sorted_keys = [int(c) for c in peps.keys()]\n",
    "sorted_keys.sort()\n",
    "for k in sorted_keys:\n",
    "    pep = peps[k]\n",
    "    cont = gen_spectrum(pep['sequence'])\n",
    "    spec = cont['spectrum']\n",
    "    pm = cont['precursor_mass']\n",
    "    spectra.append({'spectrum': spec, 'precursor_mass': pm})\n"
   ]
  },
  {
   "cell_type": "markdown",
   "metadata": {},
   "source": [
    "## Run the new kmer extension"
   ]
  },
  {
   "cell_type": "markdown",
   "metadata": {},
   "source": [
    "### Make the kmer hash table"
   ]
  },
  {
   "cell_type": "code",
   "execution_count": 13,
   "metadata": {},
   "outputs": [
    {
     "name": "stdout",
     "output_type": "stream",
     "text": [
      "Loading database...\n",
      "Adding protein 496/500 to tree\n",
      "Done.\n",
      "Building hashes for kmers...\n",
      "Indexing database for k=20...\n",
      "Done\n",
      "Looking at kmer 294971/295225\n",
      "Done. Time to complete: 205.02674102783203\n"
     ]
    }
   ],
   "source": [
    "indexing_st = time.time()\n",
    "\n",
    "print('Loading database...')\n",
    "db = Database(fasta_file)\n",
    "print('\\nDone.')\n",
    "\n",
    "print('Building hashes for kmers...')\n",
    "kmermasses = build_kmer_mass_dicts(db, min_cont, max_length)\n",
    "print(f'\\nDone. Time to complete: {time.time() - indexing_st}')\n"
   ]
  },
  {
   "cell_type": "markdown",
   "metadata": {},
   "source": [
    "## Search"
   ]
  },
  {
   "cell_type": "code",
   "execution_count": 14,
   "metadata": {},
   "outputs": [
    {
     "name": "stdout",
     "output_type": "stream",
     "text": [
      "On spectrum 1245/1245\n",
      "Done. Time to complete: 1093.0s\n",
      "Time breakdown:         \n",
      "hash search time: 226.97s,\t 20%         \n",
      "results filtering time: 862.18s, \t 78%         \n",
      "alignment time: 3.55s, \t0%\n"
     ]
    }
   ],
   "source": [
    "st = time.time()\n",
    "\n",
    "hashsearchtime = 0\n",
    "alignmenttime = 0\n",
    "resultfilteringtime = 0\n",
    "\n",
    "scoredistb = []\n",
    "scoredisty = []\n",
    "\n",
    "speclen = len(spectra)\n",
    "alignments = {}\n",
    "for i, spec in enumerate(spectra):\n",
    "    print('On spectrum {}/{}\\r'.format(i + 1, speclen), end='')\n",
    "    hstst = time.time()\n",
    "    # find all of the basic hits first\n",
    "    s = Spectrum(spec['spectrum'])\n",
    "    bs, bd, ys, yd = search_kmers_hash(s, kmermasses.bs, 20), search_kmers_hash(s, kmermasses.bd, 20), search_kmers_hash(s, kmermasses.ys, 20), search_kmers_hash(s, kmermasses.yd, 20)\n",
    "    results = {\n",
    "        'bs': bs,\n",
    "        'bd': bd,\n",
    "        'ys': ys,\n",
    "        'yd': yd,\n",
    "    }\n",
    "    hashsearchtime += (time.time() - hstst)\n",
    "    #########################################################################\n",
    "    #                      BIGGEST TIME TAKER BLOCK\n",
    "    #########################################################################\n",
    "    rftst = time.time()\n",
    "    # narrow down the results to a few promising kmers\n",
    "    basemerhashedb = defaultdict(list)\n",
    "    basemerhashedy = defaultdict(list)\n",
    "    b_scores = []\n",
    "    y_scores = []\n",
    "    # hash by the base mer (in this case its 3)\n",
    "    for key, value in results.items():\n",
    "        if 'b' in key:\n",
    "            for val in value:\n",
    "                basemerb = val[:3]\n",
    "                if basemerb not in basemerhashedb:\n",
    "                    b_scores = insort_by_index((basemerb, score_subsequence(s.spectrum, basemerb)[0]), b_scores, 1)\n",
    "                basemerhashedb[basemerb].append(val)\n",
    "        else:\n",
    "            for val in value:\n",
    "                basemery = val[len(val)-3:]\n",
    "                if basemery not in basemerhashedy:\n",
    "                    y_scores = insort_by_index((basemery, score_subsequence(s.spectrum, basemery)[1]), y_scores, 1)\n",
    "                basemerhashedy[basemery].append(val)\n",
    "\n",
    "    scoredistb.append([x[1] for x in b_scores[::-1]])\n",
    "    scoredisty.append([x[1] for x in y_scores[::-1]])\n",
    "\n",
    "    toscoreb = []\n",
    "    toscorey = []\n",
    "    for basemerb in b_scores[::-1][:5]:\n",
    "        toscoreb += [basemerb[0]] + basemerhashedb[basemerb[0]]\n",
    "        \n",
    "    for basemery in y_scores[::-1][:5]:\n",
    "        toscorey += [basemery[0]] + basemerhashedy[basemery[0]]\n",
    "    \n",
    "    best_b_results = sorted(toscoreb, key=lambda mer: score_subsequence(s.spectrum, mer)[0], reverse=True)[:5]\n",
    "    best_y_results = sorted(toscorey, key=lambda mer: score_subsequence(s.spectrum, mer)[1], reverse=True)[:5]\n",
    "    resultfilteringtime += time.time() - rftst\n",
    "    #########################################################################\n",
    "    #                      /BIGGEST TIME TAKER BLOCK\n",
    "    #########################################################################\n",
    "    atst = time.time()\n",
    "    # try and create an alignment\n",
    "    spec_alignments = []\n",
    "    for bs in best_b_results:\n",
    "        bproteins = [id_ for id_, _ in db.tree.find_all(bs)]\n",
    "        for ys in best_y_results:\n",
    "            yproteins = [id_ for id_, _ in db.tree.find_all(ys)]\n",
    "            \n",
    "            # the sequence is from the same protein, try and overlap it\n",
    "            if any([x in yproteins for x in bproteins]):\n",
    "                spec_alignments.append(align_overlaps(bs, ys))\n",
    "            # otherwise just concatenate them \n",
    "            else: \n",
    "#                 spec_alignments.append(bs + '-' + ys)\n",
    "                spec_alignments.append(hybrid_alignment(bs, ys)[1])\n",
    "        \n",
    "    # remove repeats\n",
    "    a = list(set([x for x in spec_alignments if x is not None]))\n",
    "    # sort them by their score agains the spectrum and save them\n",
    "    alignments[i] = sorted(a, key=lambda x: score_subsequence(spectra[i]['spectrum'], x.replace('-', '').replace('(', '').replace(')', '')), reverse=True)[:5]\n",
    "    alignmenttime += time.time() - atst\n",
    "ttime = time.time() - st\n",
    "print(f'\\nDone. Time to complete: {round(ttime, 2)}s')\n",
    "print(f'Time breakdown: \\\n",
    "        \\nhash search time: {round(hashsearchtime, 2)}s,\\t {int(100 * hashsearchtime/ttime)}% \\\n",
    "        \\nresults filtering time: {round(resultfilteringtime, 2)}s, \\t {int(100 * resultfilteringtime / ttime)}% \\\n",
    "        \\nalignment time: {round(alignmenttime, 2)}s, \\t{int(100 * alignmenttime/ttime)}%')\n",
    "\n"
   ]
  },
  {
   "cell_type": "markdown",
   "metadata": {},
   "source": [
    "# Check how well it did"
   ]
  },
  {
   "cell_type": "code",
   "execution_count": 20,
   "metadata": {},
   "outputs": [
    {
     "name": "stdout",
     "output_type": "stream",
     "text": [
      "Non-hybrid accuracy: 94/100 [94%]\n",
      "Hybrid accuracy: 220/245 [89]%\n"
     ]
    }
   ],
   "source": [
    "hits = 0\n",
    "misses = 0\n",
    "hbhits = 0\n",
    "hbmisses = 0\n",
    "\n",
    "badones = []\n",
    "hybridmisses = []\n",
    "hybridhits = []\n",
    "for i in range(len(alignments)):\n",
    "    if not len(alignments[i]):\n",
    "        print(f'missing alignment at {i}')\n",
    "        continue\n",
    "    hits\n",
    "    if 'hybrid' not in peps[i]['peptide_name'].lower() and alignments[i][0] == peps[i]['sequence']:\n",
    "        hits += 1\n",
    "    elif 'hybrid' in peps[i]['peptide_name'].lower() and alignments[i][0].replace('-', '').replace('(', '').replace(')', '') == peps[i]['sequence']:\n",
    "        hbhits += 1\n",
    "        hybridhits.append((alignments[i][0], peps[i]['hybrid_sequence']))\n",
    "    \n",
    "    # misses\n",
    "    else: \n",
    "        if 'hybrid' in peps[i]['peptide_name'].lower():\n",
    "            hbmisses += 1\n",
    "            hybridmisses.append((peps[i]['hybrid_sequence'], alignments[i]))\n",
    "        else:\n",
    "            misses += 1\n",
    "            badones.append((alignments[i][0], peps[i]['sequence']))\n",
    "#     print('attempted alignment: {} \\t actual sequence: {}'.format(alignments[i][0], peps[i]['sequence']))\n",
    "\n",
    "print(f'Non-hybrid accuracy: {hits}/{hits + misses} [{int(100 * hits / (hits + misses))}%]')\n",
    "print(f'Hybrid accuracy: {hbhits}/{hbhits + hbmisses} [{int(100 * hbhits / (hbhits + hbmisses))}]%')"
   ]
  },
  {
   "cell_type": "code",
   "execution_count": 21,
   "metadata": {},
   "outputs": [
    {
     "name": "stdout",
     "output_type": "stream",
     "text": [
      "('I(LLV)FIVQFSV', 'LLLVFIVQFSV')\n",
      "('SLFLCKGLLLT-IIIT', 'SLFLCKGLLLT')\n",
      "('DADEL', 'DADEI')\n",
      "('YAACFLAIFST-GALFST', 'YAACFLAIFST')\n",
      "('LEKLGE', 'IEKIGE')\n",
      "('QEWDWFQRE(EL)LG', 'QEWDWFQREELIG')\n"
     ]
    }
   ],
   "source": [
    "for b in badones:\n",
    "    print(b)"
   ]
  },
  {
   "cell_type": "code",
   "execution_count": 22,
   "metadata": {},
   "outputs": [
    {
     "name": "stdout",
     "output_type": "stream",
     "text": [
      "('PRA-SMS', ['PRSA-SMS', 'PRARGER-NSMS', 'PRARGER-VSMS', 'PRARGER-DSMS', 'PRARGER-KSMS'])\n",
      "('DPRA-SMS', ['DPRARTSMS', 'DPRTSMS'])\n",
      "('LQK-FLE', ['IQ(KF)LE', 'LQ(K)FLE', 'IQK(F)LE', 'IQKF-AKFLE', 'IQKF-KKFLE'])\n",
      "('LQK-FLEES', ['IQ(KF)LEES', 'LQ(K)FLEES', 'LQK-FLEES', 'IQK(F)LEES', 'IQKF-KKFLEES'])\n",
      "('LQK-FLEESVS', ['IQK(F)LEESVS', 'LQK-FLEESVS', 'LQ(K)FLEESVS', 'IQ(KF)LEESVS', 'IQKF-LEESVS'])\n",
      "('LQK-FLEESVSM', ['IQ(KF)LEESVSM', 'LQK-FLEESVSM', 'IQK(F)LEESVSM', 'LQ(K)FLEESVSM', 'IQKF-LEESVSM'])\n",
      "('LQK-FLEESVSMS', ['IQ(KF)LEESVSMS', 'IQKF-LEESVSMS', 'IQK(F)LEESVSMS', 'LQK-FLEESVSMS', 'LQ(K)FLEESVSMS'])\n",
      "('LEVA-FIG', ['IEV(A)FIG', 'IEV-AFLG', 'IEVA-FLG', 'LEV(A)FLG', 'IEV-AFIG'])\n",
      "('LEVA-FIGA', ['LEV(A)FLGA', 'IEV-AFLGA', 'LEVA-FLGA', 'LEVA-FIGA', 'IEVA-FLGA'])\n",
      "('LEVA-FIGAGA', ['IEVA-FIGAGA', 'LEVA-FIGAGA', 'IEV(A)FLQQ', 'LEV(A)FLQQ', 'IEV-AFLQQ'])\n",
      "('LEVA-FIGAGAATV', ['IEVA-FIGAGAATV', 'LEVA-FIGAGAATV', 'IEV-FIGAGAATV', 'LEVA-IGAGAATV', 'IEVA-IGAGAATV'])\n",
      "('VLEVA-FIGA', ['VLEV(A)FLGA', 'VLEV-AFLGA', 'VLEVA-FLGA', 'VLEVA-FIGA', 'VLEV-FIGA'])\n",
      "('TVLEVA-FIGA', ['TVLEVA-FLGA', 'TVLEVA-FIGA', 'TVLEV(A)FLGA', 'TVLEV-AFLGA', 'TVLEV-FLGA'])\n",
      "('QTVLEVA-FIG', ['QTVLEVA-FLG', 'QTVLEV-AFLG', 'QTVLEV(A)FLG', 'QTVLEV(A)FIG', 'QTVLEV-AFIG'])\n",
      "('QTVLEVA-FIGA', ['QTVLEV-AFLGA', 'QTVLEVA-FIGA', 'QTVLEVA-FLGA', 'QTVLEV(A)FLGA', 'QTVLEV-FLGA'])\n",
      "('LQTVLEVA-FIGA', ['LQTVLEV(A)FLGA', 'LQTVLEV-AFLGA', 'LQTVLEVA-FLGA', 'LQTVLEVA-FIGA', 'LQTVLEV-FIGA'])\n",
      "('DLQTVLEVA-FIGA', ['DLQTVLEV-AFLGA', 'DLQTVLEVA-FIGA', 'DLQTVLEVA-FLGA', 'DLQTVLEV(A)FLGA', 'DLQTVLEV-FLGA'])\n",
      "('SSL-LMSNDL', ['SSI(L)MSNDL', 'SS(LL)MSNDL', 'SSL(L)MSNDL', 'SSI(L)LMSNDL', 'SSLI-LMSNDL'])\n",
      "('SSL-LMSNDLR', ['SSI(L)MSNDLR', 'SS(LL)MSNDLR', 'SSL(L)MSNDLR', 'SSIL-MSNDLR', 'SSLL-MSNDLR'])\n",
      "('ESSL-LMSND', ['ESSI(L)MSND', 'ESSL(L)MSND', 'ESS(LL)MSND', 'ESS(L)LMSND', 'ESSIL-PLLMSND'])\n",
      "('ESSL-LMSNDLR', ['ESSI(L)MSNDLR', 'ESSL(L)MSNDLR', 'ESS(LL)MSNDLR', 'ESS(L)LMSNDLR', 'ESSLL-MSNDLR'])\n",
      "('ESSL-LMSNDLRQI', ['ESSI(L)MSNDLRQI', 'ESS(L)LMSNDLRQI', 'ESSIL-MSNDLRQI', 'ESS(LL)MSNDLRQI', 'ESSL(L)MSNDLRQI'])\n",
      "('RESSL-LMS', ['RESSL-IMS', 'RESS-LLMS', 'RESS(L)LMS', 'RESSL-PLLMS', 'RESS-IMS'])\n",
      "('VRESSL-LMS', ['VRESSL-IMS', 'VRESS(L)LMS', 'VRESS-LLMS', 'VRESSL-PLLMS', 'VRESS-LMS'])\n",
      "('STVRESSL-LMS', ['STVRESSL-IMS', 'STVRESS(L)LMS', 'STVRESS-LLMS', 'STVRESSL-PLLMS', 'STVRESS(L)MS'])\n"
     ]
    }
   ],
   "source": [
    "for hm in hybridmisses:\n",
    "    print(hm)"
   ]
  },
  {
   "cell_type": "code",
   "execution_count": 22,
   "metadata": {},
   "outputs": [],
   "source": [
    "import matplotlib.pyplot as plt\n",
    "import numpy as np"
   ]
  },
  {
   "cell_type": "code",
   "execution_count": 33,
   "metadata": {},
   "outputs": [
    {
     "data": {
      "text/plain": [
       "<matplotlib.legend.Legend at 0x7fb420878ad0>"
      ]
     },
     "execution_count": 33,
     "metadata": {},
     "output_type": "execute_result"
    },
    {
     "data": {
      "image/png": "[encoded data removed]",
      "text/plain": [
       "<Figure size 432x288 with 1 Axes>"
      ]
     },
     "metadata": {
      "needs_background": "light"
     },
     "output_type": "display_data"
    }
   ],
   "source": [
    "ml = max([len(l) for l in scoredistb])\n",
    "for i in range(len(scoredistb)):\n",
    "    scoredistb[i] = scoredistb[i] + [0 for _ in range(ml - len(scoredistb[i]))]\n",
    "    \n",
    "avgb = np.mean(scoredistb, axis=0)\n",
    "stdb = np.std(scoredistb)\n",
    "plt.plot(avgb)\n",
    "plt.plot([stdb for _ in range(len(avgb))], 'r', label='1 standard dev')\n",
    "plt.title('average 3-mer b-score after initial hits')\n",
    "plt.xlabel('average score by sorted rank')\n",
    "plt.ylabel('score')\n",
    "plt.legend()"
   ]
  },
  {
   "cell_type": "code",
   "execution_count": 34,
   "metadata": {},
   "outputs": [
    {
     "data": {
      "text/plain": [
       "<matplotlib.legend.Legend at 0x7fb4207c3590>"
      ]
     },
     "execution_count": 34,
     "metadata": {},
     "output_type": "execute_result"
    },
    {
     "data": {
      "image/png": "[encoded data removed]",
      "text/plain": [
       "<Figure size 432x288 with 1 Axes>"
      ]
     },
     "metadata": {
      "needs_background": "light"
     },
     "output_type": "display_data"
    }
   ],
   "source": [
    "plt.plot(avgb[:1000])\n",
    "plt.plot([stdb for _ in range(1000)], 'r', label='1 standard dev')\n",
    "plt.title('average 3-mer b-score after initial hits')\n",
    "plt.xlabel('average score by sorted rank')\n",
    "plt.ylabel('score')\n",
    "plt.legend()"
   ]
  },
  {
   "cell_type": "code",
   "execution_count": 35,
   "metadata": {},
   "outputs": [
    {
     "data": {
      "text/plain": [
       "<matplotlib.legend.Legend at 0x7fb420705c90>"
      ]
     },
     "execution_count": 35,
     "metadata": {},
     "output_type": "execute_result"
    },
    {
     "data": {
      "image/png": "[encoded data removed]",
      "text/plain": [
       "<Figure size 432x288 with 1 Axes>"
      ]
     },
     "metadata": {
      "needs_background": "light"
     },
     "output_type": "display_data"
    }
   ],
   "source": [
    "ml = max([len(l) for l in scoredisty])\n",
    "for i in range(len(scoredisty)):\n",
    "    scoredisty[i] = scoredisty[i] + [0 for _ in range(ml - len(scoredisty[i]))]\n",
    "    \n",
    "avgy = np.mean(scoredisty, axis=0)\n",
    "stdy = np.std(scoredisty)\n",
    "plt.plot(avgy)\n",
    "plt.plot([stdy for _ in range(len(avgy))], 'r', label='1 standard dev')\n",
    "plt.title('average 3-mer y-score after initial hits')\n",
    "plt.xlabel('average score by sorted rank')\n",
    "plt.ylabel('score')\n",
    "plt.legend()"
   ]
  },
  {
   "cell_type": "code",
   "execution_count": 36,
   "metadata": {},
   "outputs": [
    {
     "data": {
      "text/plain": [
       "<matplotlib.legend.Legend at 0x7fb4206a4550>"
      ]
     },
     "execution_count": 36,
     "metadata": {},
     "output_type": "execute_result"
    },
    {
     "data": {
      "image/png": "[encoded data removed]",
      "text/plain": [
       "<Figure size 432x288 with 1 Axes>"
      ]
     },
     "metadata": {
      "needs_background": "light"
     },
     "output_type": "display_data"
    }
   ],
   "source": [
    "plt.plot(avgy[:1000])\n",
    "plt.plot([stdy for _ in range(1000)], 'r', label='1 standard dev')\n",
    "plt.title('average 3-mer y-score after initial hits')\n",
    "plt.xlabel('average score by sorted rank')\n",
    "plt.ylabel('score')\n",
    "plt.legend()"
   ]
  },
  {
   "cell_type": "code",
   "execution_count": null,
   "metadata": {},
   "outputs": [],
   "source": []
  }
 ],
 "metadata": {
  "kernelspec": {
   "display_name": "Python 3",
   "language": "python",
   "name": "python3"
  },
  "language_info": {
   "codemirror_mode": {
    "name": "ipython",
    "version": 3
   },
   "file_extension": ".py",
   "mimetype": "text/x-python",
   "name": "python",
   "nbconvert_exporter": "python",
   "pygments_lexer": "ipython3",
   "version": "3.7.4"
  }
 },
 "nbformat": 4,
 "nbformat_minor": 4
}

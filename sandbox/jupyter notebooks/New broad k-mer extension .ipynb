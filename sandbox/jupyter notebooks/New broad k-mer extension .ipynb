{
 "cells": [
  {
   "cell_type": "markdown",
   "metadata": {},
   "source": [
    "# New k-mer extension that happens more globally\n",
    "Make it run faster.\n",
    "\n",
    "Steps:\n",
    "1. Index the database \n",
    "2. Build a hash table of the masses of all b+, b++, y+, and y++ ions and masses\n",
    "3. Search for all sequences that get mass hits\n",
    "4. Filter the results\n",
    "5. Attempt aligments\n"
   ]
  },
  {
   "cell_type": "code",
   "execution_count": 102,
   "metadata": {},
   "outputs": [],
   "source": [
    "# -*- coding: latin-1 -*-\n",
    "import os\n",
    "import sys\n",
    "\n",
    "module_path = os.path.abspath(os.path.join('..'))\n",
    "if module_path not in sys.path:\n",
    "    sys.path.append(module_path)\n",
    "module_path = os.path.abspath(os.path.join('../..'))\n",
    "if module_path not in sys.path:\n",
    "    sys.path.append(module_path)\n",
    "    \n",
    "from src.types.database import Database\n",
    "from src.types.objects import Spectrum\n",
    "from src.file_io import fasta\n",
    "from modules.sequence_generation import proteins, peptides\n",
    "from src.spectra.gen_spectra import gen_spectrum\n",
    "from src.scoring.scoring import score_subsequence\n",
    "\n",
    "import math\n",
    "from collections import namedtuple, defaultdict, deque\n",
    "import time\n",
    "import bisect\n",
    "from operator import itemgetter\n",
    "from typing import Iterable, Any\n",
    "import regex as re\n"
   ]
  },
  {
   "cell_type": "markdown",
   "metadata": {},
   "source": [
    "## Utils"
   ]
  },
  {
   "cell_type": "code",
   "execution_count": 3,
   "metadata": {},
   "outputs": [],
   "source": [
    "def insort_by_key(value: Any, a: Iterable, key: str) -> Iterable:\n",
    "    '''\n",
    "    Insert value into list in order. List a given should be sorted prior to insort\n",
    "    \n",
    "    Inputs:\n",
    "        value:    (Any) thing to be inserted\n",
    "        a:        (Iterable) the list or list-like value to insert into\n",
    "        key:      (str) the key to use for comparison of two values\n",
    "    Ouputs:\n",
    "        Iterable a with value inserted in order by key\n",
    "    '''\n",
    "    if len(a) == 0:\n",
    "        return [value]\n",
    "    elif len(a) == 1:\n",
    "        return a + [value] if getattr(a[0], key) <= getattr(value, key) else [value] + a\n",
    "    \n",
    "    mid = math.floor(len(a)/2)\n",
    "    if getattr(a[mid-1], key) <= getattr(value, key) <= getattr(a[mid], key):\n",
    "        return a[:mid] + [value] + a[mid:]\n",
    "    elif getattr(a[mid], key) > getattr(value, key):\n",
    "        return insort_by_key(value, a[:mid], key) + a[mid:]\n",
    "    else:\n",
    "        return a[:mid] + insort_by_key(value, a[mid:], key)"
   ]
  },
  {
   "cell_type": "code",
   "execution_count": 4,
   "metadata": {},
   "outputs": [],
   "source": [
    "def insort_by_index(value: Any, a: Iterable, index: int) -> Iterable:\n",
    "    '''\n",
    "    Insert value into list in order. List a given should be sorted prior to insort\n",
    "    \n",
    "    Inputs:\n",
    "        value:    (Any) thing to be inserted\n",
    "        a:        (Iterable) the list or list-like value to insert into\n",
    "        index:    (int) the index to use for comparison of two values\n",
    "    Ouputs:\n",
    "        Iterable a with value inserted in order by index\n",
    "    '''\n",
    "    if len(a) == 0:\n",
    "        return [value]\n",
    "    elif len(a) == 1:\n",
    "        return a + [value] if a[0][index] <= value[index] else [value] + a\n",
    "    \n",
    "    mid = math.floor(len(a)/2)\n",
    "    if a[mid-1][index] <= value[index] <= a[mid][index]:\n",
    "        return a[:mid] + [value] + a[mid:]\n",
    "    elif a[mid][index] > value[index]:\n",
    "        return insort_by_index(value, a[:mid], index) + a[mid:]\n",
    "    else:\n",
    "        return a[:mid] + insort_by_index(value, a[mid:], index)"
   ]
  },
  {
   "cell_type": "code",
   "execution_count": 93,
   "metadata": {},
   "outputs": [],
   "source": [
    "from statistics import mean\n",
    "\n",
    "def slope_filtering(a: Iterable, min_window_size=5, mean_filter=1) -> list:\n",
    "    '''\n",
    "    Filter out values by slope. Use a window size of at least min_window_size and at max 1% the size of \n",
    "    iterable a. Result is the subset of results whose window mean > mean_filter*mean_slope\n",
    "    \n",
    "    Inputs:\n",
    "        a:     (Iterable) the list or list like object to filter\n",
    "    kwargs:\n",
    "        min_window_size:    (int) the minimum window size to use for sliding means. Default=5\n",
    "        mean_filter:        (int) a scaling factor to determine what values pass. This value\n",
    "                                  is mutliplied by the mean slope and values > than this are accepted. Default=1\n",
    "    Outputs:\n",
    "        list with the filtered results\n",
    "    '''\n",
    "    adjusted_window_size = len(a) // 100\n",
    "    window_size = min_window_size if adjusted_window_size < min_window_size else adjusted_window_size\n",
    "    slopes = [(a[i+window_size] - a[i])/window_size for i in range(len(a) - window_size)]\n",
    "    avgslope = mean(slopes)\n",
    "    filtered = []\n",
    "    for i in range(len(slopes)):\n",
    "        if abs(slopes[i]) > abs(avgslope):\n",
    "            filtered.append(a[i])\n",
    "        else:\n",
    "            break\n",
    "    return filtered"
   ]
  },
  {
   "cell_type": "code",
   "execution_count": 109,
   "metadata": {},
   "outputs": [],
   "source": [
    "from itertools import product\n",
    "\n",
    "def all_LI(s: str) -> list:\n",
    "    '''\n",
    "    Find all permutations of a string that has values 'L' or 'I' in them\n",
    "    \n",
    "    Inputs:\n",
    "        s:    (str) the string to evaluate\n",
    "    Outputs:\n",
    "        list of all the permutations of 'L' and 'I'\n",
    "    '''\n",
    "    keyletters = 'LI'\n",
    "\n",
    "    # Convert input string into a list so we can easily substitute letters\n",
    "    seq = list(s)\n",
    "    \n",
    "    perms = []\n",
    "\n",
    "    # Find indices of key letters in seq\n",
    "    indices = [ i for i, c in enumerate(seq) if c in keyletters ]\n",
    "\n",
    "    # Generate key letter combinations & place them into the list\n",
    "    for t in product(keyletters, repeat=len(indices)):\n",
    "        for i, c in zip(indices, t):\n",
    "            seq[i] = c\n",
    "        perms.append(''.join(seq))\n",
    "    return perms\n"
   ]
  },
  {
   "cell_type": "markdown",
   "metadata": {},
   "source": [
    "## Global extension and addition"
   ]
  },
  {
   "cell_type": "code",
   "execution_count": 6,
   "metadata": {},
   "outputs": [],
   "source": [
    "\n",
    "MassSequence = namedtuple('MassSequence', ['mass', 'sequence'])\n",
    "\n",
    "def ppm_to_da(observed: float, ppm_tolerance: float) -> float:\n",
    "    '''\n",
    "    Calculate the absolute boundary value from an observed mass. Value returned is in Da\n",
    "    \n",
    "    Inputs:\n",
    "        observed:      (float) the observed mass used to calculate the tolerances\n",
    "        ppm_tolerance: (float or int) the tolerance in ppm to use to convert to Da\n",
    "    Outputs:\n",
    "        float value in Da \n",
    "    '''\n",
    "    return abs((ppm_tolerance / 1000000)*observed)\n",
    "\n",
    "\n",
    "def search_kmers_hash(observed: Spectrum, kmers: dict, tolerance: float) -> list:\n",
    "    '''\n",
    "    Search through all of the base kmers and find those that gave us good hits\n",
    "    \n",
    "    Inputs:\n",
    "        spectrum:    (Spectrum) what to sequence\n",
    "        allbasemers: (dict of list of MassSequence) all of the basemers made from the function 'make_all_base_mers_hash'\n",
    "        tolerance:   (float) the ppm tolerance to accept for each mass\n",
    "    Outputs:\n",
    "        list of MassSequence for all masses that were in the acceptable range of an observed mass\n",
    "    '''\n",
    "    hits = []\n",
    "    for mass in observed.spectrum:\n",
    "        tol = ppm_to_da(mass, tolerance)\n",
    "        lb_mass = mass - tol\n",
    "        ub_mass = mass + tol\n",
    "        lb_mass_key = math.floor(lb_mass)\n",
    "        ub_mass_key = math.floor(ub_mass)\n",
    "        hits += [x.sequence for x in kmers[ub_mass_key] if lb_mass <= x.mass <= ub_mass]\n",
    "        if lb_mass_key != ub_mass_key:\n",
    "            hits += [x.sequence for x in kmers[ub_mass_key] if lb_mass <= x.mass <= ub_mass]\n",
    "            \n",
    "    return hits"
   ]
  },
  {
   "cell_type": "markdown",
   "metadata": {},
   "source": [
    "## Build a dictionary for sizes min length to max length"
   ]
  },
  {
   "cell_type": "code",
   "execution_count": 7,
   "metadata": {},
   "outputs": [],
   "source": [
    "KmerMasses = namedtuple('KmerMasses', ['bs', 'bd', 'ys', 'yd'])\n",
    "\n",
    "def build_kmermasses(database: Database, min_peptide_len: int, max_peptide_len: int) -> KmerMasses:\n",
    "    '''\n",
    "    Build a KmerMasses object from a database. The entries to the KmerMasses object \n",
    "    are dictionaries where keys are integer values of masses and the entries are lists of MassSequence objects\n",
    "    \n",
    "    Inputs: \n",
    "        database:          (Database) object used for reading in proteins, creating the tree, and indexing\n",
    "        min_peptide_len:   (int) the minimum length peptide to consider. NOTE: this is also the minimum length \n",
    "                                 any protein can contribute to a hybrid peptide. \n",
    "                                 Example:\n",
    "                                     protein 1: ABCDEFGHIJK, protein 2: LMNOPQRSTUV\n",
    "                                     true hybrid sequence: IJK-LMNOPQ\n",
    "                                     min_peptide_len should be set to 3\n",
    "        max_peptide_len:   (int) the maximum peptide length to consider\n",
    "    Outputs:\n",
    "        KmerMasses object\n",
    "    '''\n",
    "    bs = defaultdict(list)\n",
    "    bd = defaultdict(list)\n",
    "    ys = defaultdict(list)\n",
    "    yd = defaultdict(list)\n",
    "    \n",
    "    kmer_tracker = defaultdict(str)\n",
    "    \n",
    "    print(f'Indexing database for k={max_peptide_len}...')\n",
    "    database.set_kmer_size(max_peptide_len)\n",
    "    database.index()\n",
    "    print('Done')\n",
    "    mdl = len(database.metadata.keys())\n",
    "    \n",
    "    printskiplen = mdl // 1000\n",
    "    printskipc = 0\n",
    "    \n",
    "    for i, kmer in enumerate(list(database.metadata.keys())):\n",
    "        if len(kmer) < min_peptide_len: \n",
    "            continue\n",
    "            \n",
    "        if printskipc == printskiplen:\n",
    "            print(f'Looking at kmer {i + 1}/{mdl}\\r', end='')\n",
    "            printskipc = 0\n",
    "            \n",
    "        printskipc += 1\n",
    "        \n",
    "        kmerspecbs = gen_spectrum(kmer, ion='b', charge=1)['spectrum']\n",
    "        kmerspecbd = gen_spectrum(kmer, ion='b', charge=2)['spectrum']\n",
    "        kmerspecys = gen_spectrum(kmer, ion='y', charge=1)['spectrum']\n",
    "        kmerspecyd = gen_spectrum(kmer, ion='y', charge=2)['spectrum']\n",
    "        \n",
    "        for i in range(min_peptide_len, len(kmer)):\n",
    "            subseq_b = kmer[:i]\n",
    "            subseq_y = kmer[len(kmer)-i-1:]\n",
    "            \n",
    "            if 'b' not in kmer_tracker[subseq_b]:\n",
    "                kmer_tracker[subseq_b] += 'b'\n",
    "        \n",
    "                bs[math.floor(kmerspecbs[i-1])].append(MassSequence(kmerspecbs[i-1], subseq_b))\n",
    "                bd[math.floor(kmerspecbd[i-1])].append(MassSequence(kmerspecbd[i-1], subseq_b))\n",
    "            \n",
    "            if 'y' not in kmer_tracker[subseq_y]:\n",
    "                kmer_tracker[subseq_y] += 'y'\n",
    "            \n",
    "                ys[math.floor(kmerspecys[i-1])].append(MassSequence(kmerspecys[i-1], subseq_y))\n",
    "                yd[math.floor(kmerspecyd[i-1])].append(MassSequence(kmerspecyd[i-1], subseq_y))\n",
    "                    \n",
    "    del kmer_tracker\n",
    "        \n",
    "    return KmerMasses(bs, bd, ys, yd)"
   ]
  },
  {
   "cell_type": "markdown",
   "metadata": {},
   "source": [
    "## Create an alignment from the sequences"
   ]
  },
  {
   "cell_type": "code",
   "execution_count": 8,
   "metadata": {},
   "outputs": [],
   "source": [
    "def align_overlaps(seq1: str, seq2: str) -> str:\n",
    "    '''\n",
    "    Attempt to align two string sequences. It will look at the right side of seq1 and left side of seq2\n",
    "    to overlap the two strings. If no overlap is found, seq2 is appended to seq1\n",
    "    \n",
    "    Inputs:\n",
    "        seq1:    (str) the left side sequence \n",
    "        seq2:    (str) the right side sequence\n",
    "    Outputs:\n",
    "        str the attempted alignments\n",
    "    '''\n",
    "    alignment = None\n",
    "    # if we have a perfect overlap, return it\n",
    "    if seq1 == seq2:\n",
    "        alignment = seq1\n",
    "    \n",
    "    # if one is a full subsequence of another, return the larger one\n",
    "    elif seq1 in seq2:\n",
    "        p and print('seq1 in seq2')\n",
    "        alignment = seq2\n",
    "    elif seq2 in seq1:\n",
    "        p and print('seq2 in seq1')\n",
    "        alignment = seq1\n",
    "    \n",
    "    else:\n",
    "        # try and find an alignment. seq2 should overlap as much of the right of seq1 as possible\n",
    "        start_points = [i for i in range(len(seq1)) if seq2[0] == seq1[i]]\n",
    "        for sp in start_points:\n",
    "            # try and see if extending it makes it match\n",
    "            for i in range(sp, len(seq1)):\n",
    "                if seq1[i] != seq2[i-sp]:\n",
    "                    i -= 1\n",
    "                    break\n",
    "            if i == len(seq1) - 1:\n",
    "                s2_start = len(seq1) - sp\n",
    "                right_seq = seq2[s2_start] if s2_start < len(seq2) else ''\n",
    "                alignment = seq1 + seq2[s2_start:]\n",
    "                break\n",
    "            else:\n",
    "                alignment = seq1 + seq2\n",
    "    return alignment\n",
    "            "
   ]
  },
  {
   "cell_type": "code",
   "execution_count": 9,
   "metadata": {},
   "outputs": [],
   "source": [
    "def hybrid_alignment(seq1: str, seq2: str) -> (str, str):\n",
    "    '''\n",
    "    Create a hybrid alignment from 2 sequences. If an overlap between these two sequences\n",
    "    is found, () are placed around the ambiguous section. \n",
    "    Example:\n",
    "        seq1: ABCDE, seq2: DEFGH\n",
    "        attempted alignment: ABC(DE)FGH\n",
    "    If there is no overlap, then seq2 is appended to seq1 with a - at the junction\n",
    "    Example:\n",
    "        seq1: ABCD, seq2: EFGH\n",
    "        attempted alignment: ABCD-EFGH\n",
    "        \n",
    "    Inputs:\n",
    "        seq1:    (str) the left sequence\n",
    "        seq2:    (str) the right sequence\n",
    "    '''\n",
    "    alignment = ''\n",
    "    hybalignment = ''\n",
    "    attempted_overlap = align_overlaps(seq1, seq2)\n",
    "    if attempted_overlap is not None and 0 < len(attempted_overlap) < len(seq1) + len(seq2):\n",
    "        # there is an overlap and some ambiguity\n",
    "        # get the starting point of seq2\n",
    "        rightstart = attempted_overlap.index(seq2)\n",
    "        leftend = len(seq1) - 1\n",
    "        # range between leftend and rigth start is ambiguous\n",
    "        middle_sec = attempted_overlap[rightstart:leftend + 1]\n",
    "        \n",
    "        alignment = attempted_overlap\n",
    "        hybalignment = attempted_overlap[:rightstart] + '(' + middle_sec + ')' + attempted_overlap[leftend+1:]\n",
    "    else:\n",
    "        alignment = seq1 + seq2\n",
    "        hybalignment = seq1 + '-' + seq2\n",
    "        \n",
    "    return (alignment, hybalignment)"
   ]
  },
  {
   "cell_type": "markdown",
   "metadata": {},
   "source": [
    "# TESTING"
   ]
  },
  {
   "cell_type": "markdown",
   "metadata": {},
   "source": [
    "## Generate data"
   ]
  },
  {
   "cell_type": "markdown",
   "metadata": {},
   "source": [
    "### 1. Load fasta database"
   ]
  },
  {
   "cell_type": "code",
   "execution_count": 10,
   "metadata": {},
   "outputs": [],
   "source": [
    "fasta_file = '../../testing framework/data/databases/100prots.fasta'\n",
    "database = fasta.read(fasta_file, True)\n",
    "\n",
    "database = {x['name']: x for x in database}"
   ]
  },
  {
   "cell_type": "markdown",
   "metadata": {},
   "source": [
    "### 2.  Generate the peptides, hybrid proteins and peptides"
   ]
  },
  {
   "cell_type": "code",
   "execution_count": 11,
   "metadata": {},
   "outputs": [
    {
     "name": "stdout",
     "output_type": "stream",
     "text": [
      "Generating hybrid protein 0/5[0%]\r",
      "Generating hybrid protein 1/5[20%]\r",
      "Generating hybrid protein 2/5[40%]\r",
      "Generating hybrid protein 3/5[60%]\r",
      "Generating hybrid protein 4/5[80%]\r\n",
      "Finished generating hybrid proteins\n",
      "RRE-LQV\n"
     ]
    }
   ],
   "source": [
    "test_directory = '../../testing framework/data/testing_output/'\n",
    "\n",
    "num_hybs = 5\n",
    "min_length= 5\n",
    "max_length = 20\n",
    "num_peptides = 1000\n",
    "min_cont = 3 #min contribution for each side of a hybrid\n",
    "\n",
    "# make hybrid proteins\n",
    "hyb_prots = proteins.generate_hybrids([x for _, x in database.items()], num_hybs, min_contribution=max_length)\n",
    "# create peptides\n",
    "non_hybrid_peps = peptides.gen_peptides([x for _, x in database.items()], num_peptides, min_length=min_length, max_length=max_length, digest='random', dist='beta')\n",
    "# create hybrid peptides\n",
    "hyb_peps = peptides.gen_peptides(hyb_prots, num_hybs, min_length=min_length, max_length=max_length, digest='random', min_contribution=min_cont, hybrid_list=True)\n",
    "print(hyb_peps[0]['hybrid_sequence'])\n",
    "all_proteins_raw = [x for _,x in database.items()] + hyb_prots\n",
    "all_peptides_raw = non_hybrid_peps + hyb_peps\n",
    "\n",
    "peps = {}\n",
    "for i, pep in enumerate(all_peptides_raw):\n",
    "    peps[i] = pep\n",
    "    peps[i]['scan_no'] = i\n",
    "    "
   ]
  },
  {
   "cell_type": "markdown",
   "metadata": {},
   "source": [
    "### 3. Generate spectra"
   ]
  },
  {
   "cell_type": "code",
   "execution_count": 12,
   "metadata": {},
   "outputs": [],
   "source": [
    "spectra = []\n",
    "sorted_keys = [int(c) for c in peps.keys()]\n",
    "sorted_keys.sort()\n",
    "for k in sorted_keys:\n",
    "    pep = peps[k]\n",
    "    cont = gen_spectrum(pep['sequence'])\n",
    "    spec = cont['spectrum']\n",
    "    pm = cont['precursor_mass']\n",
    "    spectra.append({'spectrum': spec, 'precursor_mass': pm})\n"
   ]
  },
  {
   "cell_type": "markdown",
   "metadata": {},
   "source": [
    "## Run the new kmer extension"
   ]
  },
  {
   "cell_type": "markdown",
   "metadata": {},
   "source": [
    "### Make the kmer hash table"
   ]
  },
  {
   "cell_type": "code",
   "execution_count": 13,
   "metadata": {},
   "outputs": [
    {
     "name": "stdout",
     "output_type": "stream",
     "text": [
      "Loading database...\n",
      "Adding protein 100/100 to tree\n",
      "Done.\n",
      "Building hashes for kmers...\n",
      "Indexing database for k=20...\n",
      "Done\n",
      "Looking at kmer 54970/54996\n",
      "Done. Time to complete: 20.924911975860596\n"
     ]
    }
   ],
   "source": [
    "indexing_st = time.time()\n",
    "\n",
    "print('Loading database...')\n",
    "db = Database(fasta_file)\n",
    "print('\\nDone.')\n",
    "\n",
    "print('Building hashes for kmers...')\n",
    "kmermasses = build_kmermasses(db, min_cont, max_length)\n",
    "print(f'\\nDone. Time to complete: {time.time() - indexing_st}')\n"
   ]
  },
  {
   "cell_type": "markdown",
   "metadata": {},
   "source": [
    "## Search"
   ]
  },
  {
   "cell_type": "code",
   "execution_count": 111,
   "metadata": {},
   "outputs": [
    {
     "name": "stdout",
     "output_type": "stream",
     "text": [
      "On spectrum 1245/1245\n",
      "Done. Time to complete: 258.66s\n",
      "Time breakdown:         \n",
      "hash search time: 36.31s,\t 14%         \n",
      "results filtering time: 218.37s, \t 84%         \n",
      "alignment time: 3.75s, \t1%\n"
     ]
    }
   ],
   "source": [
    "st = time.time()\n",
    "\n",
    "hashsearchtime = 0\n",
    "alignmenttime = 0\n",
    "resultfilteringtime = 0\n",
    "\n",
    "hyb_alignment_pattern = re.compile(r'[-\\(\\)]')\n",
    "\n",
    "# scoredistb = []\n",
    "# scoredisty = []\n",
    "\n",
    "# scoredistbfullseqs = []\n",
    "# scoredistyfullseqs = []\n",
    "\n",
    "speclen = len(spectra)\n",
    "alignments = {}\n",
    "for i, spec in enumerate(spectra):\n",
    "    print('On spectrum {}/{}\\r'.format(i + 1, speclen), end='')\n",
    "    hstst = time.time()\n",
    "    # find all of the basic hits first\n",
    "    s = Spectrum(spec['spectrum'])\n",
    "    bs, bd, ys, yd = search_kmers_hash(s, kmermasses.bs, 20), search_kmers_hash(s, kmermasses.bd, 20), search_kmers_hash(s, kmermasses.ys, 20), search_kmers_hash(s, kmermasses.yd, 20)\n",
    "    results = {\n",
    "        'bs': bs,\n",
    "        'bd': bd,\n",
    "        'ys': ys,\n",
    "        'yd': yd,\n",
    "    }\n",
    "    hashsearchtime += (time.time() - hstst)\n",
    "    #########################################################################\n",
    "    #                      BIGGEST TIME TAKER BLOCK\n",
    "    #########################################################################\n",
    "    rftst = time.time()\n",
    "    # narrow down the results to a few promising kmers\n",
    "    basemerhashedb = defaultdict(list)\n",
    "    basemerhashedy = defaultdict(list)\n",
    "    basemerbblacklist = {}\n",
    "    basemeryblacklist = {}\n",
    "    b_scores = []\n",
    "    y_scores = []\n",
    "    # hash by the base mer (in this case its 3)\n",
    "    for key, value in results.items():\n",
    "        if 'b' in key:\n",
    "            for val in value:\n",
    "                basemerb = val[:3]\n",
    "                # check to see if we've seen it\n",
    "                # skip if its blacklisted\n",
    "                if basemerb in basemerbblacklist:\n",
    "                    continue\n",
    "                # if we've not seen it, try and add it\n",
    "                if basemerb not in basemerhashedb:\n",
    "                    basemerbscore = score_subsequence(s.spectrum, basemerb)[0]\n",
    "                    # blacklist for bad scores\n",
    "                    if not basemerbscore > 0:\n",
    "                        basemerbblacklist[basemerb] = None\n",
    "                        continue\n",
    "                    # insert in order\n",
    "                    b_scores = insort_by_index((basemerb, score_subsequence(s.spectrum, basemerb)[0]), b_scores, 1)\n",
    "                basemerhashedb[basemerb].append(val)\n",
    "        else:\n",
    "            for val in value:\n",
    "                basemery = val[len(val)-3:]\n",
    "                # check to see if we've seen it\n",
    "                # skip if its blacklisted\n",
    "                if basemery in basemeryblacklist:\n",
    "                    continue\n",
    "                # if we've not seen it, try and add it\n",
    "                if basemery not in basemerhashedy:\n",
    "                    basemeryscore = score_subsequence(s.spectrum, basemery)[1]\n",
    "                    # blacklist for bad score\n",
    "                    if not basemeryscore > 0:\n",
    "                        basemeryblacklist[basemery] = None\n",
    "                        continue\n",
    "                    # insert in order\n",
    "                    y_scores = insort_by_index((basemery, score_subsequence(s.spectrum, basemery)[1]), y_scores, 1)\n",
    "                basemerhashedy[basemery].append(val)\n",
    "\n",
    "    # bookkeeping to see what the scores look like\n",
    "#     scoredistb.append([x[1] for x in b_scores[::-1]])\n",
    "#     scoredisty.append([x[1] for x in y_scores[::-1]])\n",
    "\n",
    "    toscoreb = []\n",
    "    toscorey = []\n",
    "    \n",
    "    b_filtered = [b_scores[-1*i - 1] for i in range(len(slope_filtering([x[1] for x in b_scores[::-1]])))]\n",
    "    y_filtered = [y_scores[-1*i - 1] for i in range(len(slope_filtering([x[1] for x in y_scores[::-1]])))]\n",
    "    \n",
    "    if len(b_filtered) < 5:\n",
    "        b_filtered = b_scores[::-1][:5]\n",
    "    if len(y_filtered) < 5:\n",
    "        y_filtered = y_scores[::-1][:5]\n",
    "    \n",
    "    # revese to go from highest to lowest\n",
    "    for basemerb in b_filtered:\n",
    "        toscoreb += [basemerb[0]] + basemerhashedb[basemerb[0]]\n",
    "        \n",
    "    for basemery in y_filtered:\n",
    "        toscorey += [basemery[0]] + basemerhashedy[basemery[0]]\n",
    "    \n",
    "    best_b_results = sorted(toscoreb, key=lambda mer: score_subsequence(s.spectrum, mer)[0], reverse=True)\n",
    "    best_y_results = sorted(toscorey, key=lambda mer: score_subsequence(s.spectrum, mer)[1], reverse=True)\n",
    "    resultfilteringtime += time.time() - rftst\n",
    "    \n",
    "#     scoredistbfullseqs.append([score_subsequence(s.spectrum, mer)[0] for mer in best_b_results])\n",
    "#     scoredistyfullseqs.append([score_subsequence(s.spectrum, mer)[1] for mer in best_y_results])\n",
    "    #########################################################################\n",
    "    #                      /BIGGEST TIME TAKER BLOCK\n",
    "    #########################################################################\n",
    "    atst = time.time()\n",
    "    # try and create an alignment\n",
    "    spec_alignments = []\n",
    "    for bs in best_b_results[:5]:\n",
    "        bproteins = [id_ for id_, _ in db.tree.find_all(bs)]\n",
    "        for ys in best_y_results[:5]:\n",
    "            yproteins = [id_ for id_, _ in db.tree.find_all(ys)]\n",
    "            \n",
    "            # the sequence is from the same protein, try and overlap it\n",
    "            if any([x in yproteins for x in bproteins]):\n",
    "                spec_alignments.append(align_overlaps(bs, ys))\n",
    "            # otherwise just concatenate them \n",
    "            else: \n",
    "#                 spec_alignments.append(bs + '-' + ys)\n",
    "                spec_alignments.append(hybrid_alignment(bs, ys)[1])\n",
    "        \n",
    "    # remove repeats\n",
    "    a = list(set([x for x in spec_alignments if x is not None]))\n",
    "    # sort them by their score agains the spectrum and save them\n",
    "    alignments[i] = sorted(a, key=lambda x: score_subsequence(spectra[i]['spectrum'], x.replace('-', '').replace('(', '').replace(')', '')), reverse=True)[:5]\n",
    "    \n",
    "    # replace any hybrid sequences that are found in the database as non hybrids \n",
    "    for j in range(len(alignments[i])):\n",
    "        # look for the hybrid indicator strings\n",
    "        if hyb_alignment_pattern.findall(alignments[i][j]):\n",
    "            nonhyb = re.sub(hyb_alignment_pattern, '', alignments[i][j])\n",
    "            # also try to replace L and I with eachother \n",
    "            possible = all_LI(nonhyb)\n",
    "            if len(possible) == 0 and db.tree.find(nonhyb):\n",
    "                alignments[i][j] = nonhyb\n",
    "            else:\n",
    "                for p in possible:\n",
    "                    if db.tree.find(p):\n",
    "                        alignments[i][j] = p\n",
    "                        break\n",
    "            \n",
    "    alignmenttime += time.time() - atst\n",
    "ttime = time.time() - st\n",
    "print(f'\\nDone. Time to complete: {round(ttime, 2)}s')\n",
    "print(f'Time breakdown: \\\n",
    "        \\nhash search time: {round(hashsearchtime, 2)}s,\\t {int(100 * hashsearchtime/ttime)}% \\\n",
    "        \\nresults filtering time: {round(resultfilteringtime, 2)}s, \\t {int(100 * resultfilteringtime / ttime)}% \\\n",
    "        \\nalignment time: {round(alignmenttime, 2)}s, \\t{int(100 * alignmenttime/ttime)}%')\n",
    "\n"
   ]
  },
  {
   "cell_type": "markdown",
   "metadata": {},
   "source": [
    "# Check how well it did"
   ]
  },
  {
   "cell_type": "code",
   "execution_count": 112,
   "metadata": {},
   "outputs": [
    {
     "name": "stdout",
     "output_type": "stream",
     "text": [
      "Non-hybrid accuracy: 993/1000 [99%]\n",
      "Hybrid accuracy: 224/245 [91]%\n"
     ]
    }
   ],
   "source": [
    "hits = 0\n",
    "misses = 0\n",
    "hbhits = 0\n",
    "hbmisses = 0\n",
    "\n",
    "badones = []\n",
    "hybridmisses = []\n",
    "hybridhits = []\n",
    "for i in range(len(alignments)):\n",
    "    if not len(alignments[i]):\n",
    "        print(f'missing alignment at {i}')\n",
    "        continue\n",
    "    hits\n",
    "    if 'hybrid' not in peps[i]['peptide_name'].lower() and alignments[i][0] == peps[i]['sequence']:\n",
    "        hits += 1\n",
    "    elif 'hybrid' in peps[i]['peptide_name'].lower() and alignments[i][0].replace('-', '').replace('(', '').replace(')', '') == peps[i]['sequence']:\n",
    "        hbhits += 1\n",
    "        hybridhits.append((alignments[i][0], peps[i]['hybrid_sequence']))\n",
    "    \n",
    "    # misses\n",
    "    else: \n",
    "        if 'hybrid' in peps[i]['peptide_name'].lower():\n",
    "            hbmisses += 1\n",
    "            hybridmisses.append((peps[i]['hybrid_sequence'], alignments[i]))\n",
    "        else:\n",
    "            misses += 1\n",
    "            badones.append((alignments[i][0], peps[i]['sequence']))\n",
    "#     print('attempted alignment: {} \\t actual sequence: {}'.format(alignments[i][0], peps[i]['sequence']))\n",
    "\n",
    "print(f'Non-hybrid accuracy: {hits}/{hits + misses} [{int(100 * hits / (hits + misses))}%]')\n",
    "print(f'Hybrid accuracy: {hbhits}/{hbhits + hbmisses} [{int(100 * hbhits / (hbhits + hbmisses))}]%')"
   ]
  },
  {
   "cell_type": "code",
   "execution_count": 113,
   "metadata": {},
   "outputs": [
    {
     "name": "stdout",
     "output_type": "stream",
     "text": [
      "('TTLLL', 'TTLLI')\n",
      "('ISL(I)IDLCL', 'ISIIDLCL')\n",
      "('LSLRR', 'LSIRR')\n",
      "('GLRLRLLL-RIIL', 'GLRLRLLL')\n",
      "('IFGLF', 'IFGIF')\n",
      "('GILFII', 'GIIFLI')\n",
      "('FGWGAGPIWL-PLIW', 'FGWGAGPIWL')\n"
     ]
    }
   ],
   "source": [
    "for b in badones:\n",
    "    print(b)"
   ]
  },
  {
   "cell_type": "code",
   "execution_count": 114,
   "metadata": {},
   "outputs": [
    {
     "name": "stdout",
     "output_type": "stream",
     "text": [
      "('RRE-LQVN', ['RREI-QVN', 'RRE(L)QVN', 'RREL-QVN', 'RRELPVPYLTGMILMG-LQVN', 'RRELPVPYLTGMILMG-VLQVN'])\n",
      "('RRE-LQVNRDVLD', ['RREI-QVNRDVLD', 'RRE-LQVNRDVLD', 'RREL-QVNRDVLD', 'RRE(L)QVNRDVLD', 'RREI-LQVNRDVLD'])\n",
      "('IDRRE-LQV', ['IDRRE-IQV', 'IDRR-ELQV', 'IDRR(E)LQV', 'IDRRE-SELQV', 'IDRR-SELQV'])\n",
      "('AIDRRE-LQV', ['AIDRRE-IQV', 'AIDRR(E)LQV', 'AIDRR-ELQV', 'AIDRRE-SELQV', 'AIDRR-SELQV'])\n",
      "('VFT-IEC', ['VFT(L)EC', 'VFTL-EIEC', 'VFTL-IEC', 'VFTL-GIEC', 'VFTL-SIEC'])\n",
      "('VFT-IECY', ['VFTL-ECY', 'VFT-IECY', 'VFTL-DIECY', 'VFTL-IECY', 'VFT-DIECY'])\n",
      "('VFT-IECYIN', ['VFTL-ECYIN', 'VFT-IECYIN', 'VFTL-IECYIN', 'VFTL-DIECYIN', 'VFT-ECYIN'])\n",
      "('VFT-IECYINGG', ['VFTL-ECYINGG', 'VFT-IECYINGG', 'VFTL-IECYINGG', 'VFTL-CYINGG', 'VFT-ECYINGG'])\n",
      "('AVFT-IEC', ['AVFT-LEC', 'AVFT-GIEC', 'AVFT-SIEC', 'AVF-GIEC', 'AVF-LEC'])\n",
      "('SAVFT-IEC', ['SAVFT-LEC', 'SAVFT-SIEC', 'SAVFT-GIEC', 'SAVF-GIEC', 'SAVF-SIEC'])\n",
      "('TSAVFT-IEC', ['TSAVFT-LEC', 'TSAVFTVGDNVVSGS-NGKTPLHVACEIANLEC', 'TSAVFTVGDNVVSG(S)IEC', 'TSAVFTVGDNVVSGS-LEC', 'TSAVFT-SIEC'])\n",
      "('VTSAVFT-IEC', ['VTSAVFT-LEC', 'VTSAVF-TKLEIC', 'VTSAVF(T)KLEIC', 'VTSAVF-LEC', 'VTSAV-LEC'])\n",
      "('TVTSAVFT-IEC', ['TVTSAVFT-LEC', 'TVTSAVFT-SIEC', 'TVTSAVFT-SGRIKALDIEC', 'TVTSAVF-LEC', 'TVTSAVF-SGRIKALDIEC'])\n",
      "('DTVTSAVFT-IEC', ['DTVTSAVFT-LEC', 'DTVTSAVFT-SIEC', 'DTVTSAVFT-GIEC', 'DTVTSAVF-LEC', 'DTVTSAVF-SIEC'])\n",
      "('IILYWDA-ENP', ['LLLY-MAENP', 'LLLY-AENP', 'LLLY-ENP'])\n",
      "('IILYWDA-ENPLE', ['LLLY-ENPLE', 'LLLY-NENPLE', 'LILY-NENPLE', 'LILY-ENPLE', 'LILY-NPLE'])\n",
      "('IILYWDA-ENPLETR', ['LILY-ENPLETR', 'LLLY-NENPLETR', 'LLLY-ENPLETR', 'LILY-NENPLETR', 'LLLY-NPLETR'])\n",
      "('SME-LDD', ['SM(E)IDD', 'SM(E)LDD', 'SMED(L)DD', 'SMEDL-EIDD', 'SMEDL-ELDD'])\n",
      "('SME-LDDS', ['SME(DL)DDS', 'SMEDL-DDS', 'SMED(L)DDS', 'SMEDL-PLDDS', 'SME-PLDDS'])\n",
      "('SQSSME-LDD', ['SQSSM(E)IDD', 'SQSSM-ELDD', 'SQSSME-LDD', 'SQSSM-EIDD', 'SQSSM(E)LDD'])\n",
      "('QNSQSSME-LDD', ['QNSQSSM(E)IDD', 'QNSQSSME-LDD', 'QNSQSSM-ELDD', 'QNSQSSM-EIDD', 'QNSQSSM(E)LDD'])\n"
     ]
    }
   ],
   "source": [
    "for hm in hybridmisses:\n",
    "    print(hm)"
   ]
  },
  {
   "cell_type": "markdown",
   "metadata": {},
   "source": [
    "## Plot the base 3-mer stuff"
   ]
  },
  {
   "cell_type": "code",
   "execution_count": 76,
   "metadata": {},
   "outputs": [],
   "source": [
    "import matplotlib.pyplot as plt\n",
    "import numpy as np"
   ]
  },
  {
   "cell_type": "code",
   "execution_count": 77,
   "metadata": {},
   "outputs": [
    {
     "data": {
      "text/plain": [
       "<matplotlib.legend.Legend at 0x7f87c3dce110>"
      ]
     },
     "execution_count": 77,
     "metadata": {},
     "output_type": "execute_result"
    },
    {
     "data": {
      "image/png": "[encoded data removed]",
      "text/plain": [
       "<Figure size 432x288 with 1 Axes>"
      ]
     },
     "metadata": {
      "needs_background": "light"
     },
     "output_type": "display_data"
    }
   ],
   "source": [
    "ml = max([len(l) for l in scoredistb])\n",
    "for i in range(len(scoredistb)):\n",
    "    scoredistb[i] = scoredistb[i] + [0 for _ in range(ml - len(scoredistb[i]))]\n",
    "    \n",
    "avgb = np.mean(scoredistb, axis=0)\n",
    "stdb = np.std(scoredistb)\n",
    "plt.plot(avgb)\n",
    "plt.plot([stdb for _ in range(len(avgb))], 'r', label='1 standard dev')\n",
    "plt.title('average b-score score of 3-mers by rank')\n",
    "plt.xlabel('average score by sorted rank')\n",
    "plt.ylabel('score')\n",
    "plt.legend()"
   ]
  },
  {
   "cell_type": "code",
   "execution_count": 78,
   "metadata": {},
   "outputs": [
    {
     "data": {
      "text/plain": [
       "<matplotlib.legend.Legend at 0x7f87a6a730d0>"
      ]
     },
     "execution_count": 78,
     "metadata": {},
     "output_type": "execute_result"
    },
    {
     "data": {
      "image/png": "[encoded data removed]",
      "text/plain": [
       "<Figure size 432x288 with 1 Axes>"
      ]
     },
     "metadata": {
      "needs_background": "light"
     },
     "output_type": "display_data"
    }
   ],
   "source": [
    "plt.plot(avgb[:1000])\n",
    "plt.plot([stdb for _ in range(1000)], 'r', label='1 standard dev')\n",
    "plt.title('average b-score of 3-mers by rank')\n",
    "plt.xlabel('average score by sorted rank')\n",
    "plt.ylabel('score')\n",
    "plt.legend()"
   ]
  },
  {
   "cell_type": "code",
   "execution_count": 79,
   "metadata": {},
   "outputs": [
    {
     "data": {
      "text/plain": [
       "<matplotlib.legend.Legend at 0x7f87a691c8d0>"
      ]
     },
     "execution_count": 79,
     "metadata": {},
     "output_type": "execute_result"
    },
    {
     "data": {
      "image/png": "[encoded data removed]",
      "text/plain": [
       "<Figure size 432x288 with 1 Axes>"
      ]
     },
     "metadata": {
      "needs_background": "light"
     },
     "output_type": "display_data"
    }
   ],
   "source": [
    "plt.plot(avgb[:10])\n",
    "plt.plot([stdb for _ in range(10)], 'r', label='1 standard dev')\n",
    "plt.title('average b-score of full 3-mers by rank')\n",
    "plt.xlabel('average score by sorted rank')\n",
    "plt.ylabel('score')\n",
    "plt.legend()"
   ]
  },
  {
   "cell_type": "code",
   "execution_count": 80,
   "metadata": {},
   "outputs": [
    {
     "data": {
      "text/plain": [
       "<matplotlib.legend.Legend at 0x7f87c3c18990>"
      ]
     },
     "execution_count": 80,
     "metadata": {},
     "output_type": "execute_result"
    },
    {
     "data": {
      "image/png": "[encoded data removed]",
      "text/plain": [
       "<Figure size 432x288 with 1 Axes>"
      ]
     },
     "metadata": {
      "needs_background": "light"
     },
     "output_type": "display_data"
    }
   ],
   "source": [
    "ml = max([len(l) for l in scoredisty])\n",
    "for i in range(len(scoredisty)):\n",
    "    scoredisty[i] = scoredisty[i] + [0 for _ in range(ml - len(scoredisty[i]))]\n",
    "    \n",
    "avgy = np.mean(scoredisty, axis=0)\n",
    "stdy = np.std(scoredisty)\n",
    "plt.plot(avgy)\n",
    "plt.plot([stdy for _ in range(len(avgy))], 'r', label='1 standard dev')\n",
    "plt.title('average y-score of 3-mer by rank')\n",
    "plt.xlabel('average score by sorted rank')\n",
    "plt.ylabel('score')\n",
    "plt.legend()"
   ]
  },
  {
   "cell_type": "code",
   "execution_count": 81,
   "metadata": {},
   "outputs": [
    {
     "data": {
      "text/plain": [
       "<matplotlib.legend.Legend at 0x7f87c3b643d0>"
      ]
     },
     "execution_count": 81,
     "metadata": {},
     "output_type": "execute_result"
    },
    {
     "data": {
      "image/png": "[encoded data removed]",
      "text/plain": [
       "<Figure size 432x288 with 1 Axes>"
      ]
     },
     "metadata": {
      "needs_background": "light"
     },
     "output_type": "display_data"
    }
   ],
   "source": [
    "plt.plot(avgy[:1000])\n",
    "plt.plot([stdy for _ in range(1000)], 'r', label='1 standard dev')\n",
    "plt.title('average y-score of 3-mers by rank')\n",
    "plt.xlabel('average score by sorted rank')\n",
    "plt.ylabel('score')\n",
    "plt.legend()"
   ]
  },
  {
   "cell_type": "code",
   "execution_count": 88,
   "metadata": {},
   "outputs": [
    {
     "name": "stdout",
     "output_type": "stream",
     "text": [
      "average b slope: -0.0004348660809943197\n"
     ]
    },
    {
     "data": {
      "text/plain": [
       "<matplotlib.legend.Legend at 0x7f87c3736210>"
      ]
     },
     "execution_count": 88,
     "metadata": {},
     "output_type": "execute_result"
    },
    {
     "data": {
      "image/png": "[encoded data removed]",
      "text/plain": [
       "<Figure size 432x288 with 1 Axes>"
      ]
     },
     "metadata": {
      "needs_background": "light"
     },
     "output_type": "display_data"
    }
   ],
   "source": [
    "bslopes = [(avgb[i+5] - avgb[i])/5 for i in range(len(avgb) - 5)] \n",
    "avgbslope = np.mean(bslopes)\n",
    "print(f'average b slope: {avgbslope}')\n",
    "interested = []\n",
    "for i, bs in enumerate(bslopes):\n",
    "    if abs(bs) > abs(avgbslope) *2:\n",
    "        interested.append(avgb[i])\n",
    "    else:\n",
    "        break\n",
    "\n",
    "below_avg = avgb[len(interested):]\n",
    "plt.plot([i for i in range(len(interested), len(interested) + len(below_avg))], below_avg, 'r', lw=5,label='slopes at or below average x2')\n",
    "plt.vlines(len(interested)-1, 0, 0.4, colors='k', lw=5, label=f'cutoff at {len(interested)-1}')\n",
    "plt.plot(interested, 'g', lw=5, label='slopes above average x2')\n",
    "plt.title('average b-score of 3-mers by rank')\n",
    "plt.xlabel('ranked average b-score')\n",
    "plt.ylabel('score')\n",
    "plt.legend()\n"
   ]
  },
  {
   "cell_type": "markdown",
   "metadata": {},
   "source": [
    "## Plot filtered full sequences stuff"
   ]
  },
  {
   "cell_type": "code",
   "execution_count": 85,
   "metadata": {},
   "outputs": [
    {
     "data": {
      "text/plain": [
       "<matplotlib.legend.Legend at 0x7f87c39464d0>"
      ]
     },
     "execution_count": 85,
     "metadata": {},
     "output_type": "execute_result"
    },
    {
     "data": {
      "image/png": "[encoded data removed]",
      "text/plain": [
       "<Figure size 432x288 with 1 Axes>"
      ]
     },
     "metadata": {
      "needs_background": "light"
     },
     "output_type": "display_data"
    }
   ],
   "source": [
    "mlfs = max([len(l) for l in scoredistbfullseqs])\n",
    "for i in range(len(scoredistbfullseqs)):\n",
    "    scoredistbfullseqs[i] = scoredistbfullseqs[i] + [0 for _ in range(mlfs - len(scoredistbfullseqs[i]))]\n",
    "    \n",
    "avgbfs = np.mean(scoredistbfullseqs, axis=0)\n",
    "stdbfs = np.std(scoredistbfullseqs)\n",
    "plt.plot(avgbfs)\n",
    "plt.plot([stdbfs for _ in range(len(avgbfs))], 'r', label='1 standard dev')\n",
    "plt.title('average b-score score of filtered sequences by rank')\n",
    "plt.xlabel('average score by sorted rank')\n",
    "plt.ylabel('score')\n",
    "plt.legend()"
   ]
  },
  {
   "cell_type": "code",
   "execution_count": 86,
   "metadata": {},
   "outputs": [
    {
     "name": "stdout",
     "output_type": "stream",
     "text": [
      "average b slope: -0.00030054246619012204\n"
     ]
    },
    {
     "data": {
      "text/plain": [
       "<matplotlib.legend.Legend at 0x7f87c3874090>"
      ]
     },
     "execution_count": 86,
     "metadata": {},
     "output_type": "execute_result"
    },
    {
     "data": {
      "image/png": "[encoded data removed]",
      "text/plain": [
       "<Figure size 432x288 with 1 Axes>"
      ]
     },
     "metadata": {
      "needs_background": "light"
     },
     "output_type": "display_data"
    }
   ],
   "source": [
    "bslopesfs = [(avgbfs[i+5] - avgbfs[i])/5 for i in range(len(avgbfs) - 5)] \n",
    "avgbslopefs = np.mean(bslopesfs)\n",
    "print(f'average b slope: {avgbslopefs}')\n",
    "interestedfs = []\n",
    "for i, bs in enumerate(bslopesfs):\n",
    "    if abs(bs) > abs(avgbslopefs):\n",
    "        interested.append(avgbfs[i])\n",
    "    else:\n",
    "        break\n",
    "\n",
    "below_avgfs = avgbfs[len(interestedfs):]\n",
    "plt.plot([i for i in range(len(interestedfs), len(interestedfs) + len(below_avgfs))], below_avgfs, 'r', lw=5,label='slopes at or below average')\n",
    "plt.vlines(len(interestedfs)-1, 0, 1, colors='k', lw=5, label=f'cutoff at {len(interestedfs)-1}')\n",
    "plt.plot(interestedfs, 'g', lw=5, label='slopes above average')\n",
    "plt.title('average b-score of 3-mers by rank')\n",
    "plt.xlabel('ranked average b-score')\n",
    "plt.ylabel('score')\n",
    "plt.legend()\n"
   ]
  },
  {
   "cell_type": "code",
   "execution_count": 116,
   "metadata": {},
   "outputs": [
    {
     "data": {
      "text/plain": [
       "[('TECR_MOUSE', <suffix_tree.util.Path at 0x7f87da663a10>),\n",
       " ('SDHL_MOUSE', <suffix_tree.util.Path at 0x7f87da679790>),\n",
       " ('AT2A3_MOUSE', <suffix_tree.util.Path at 0x7f87dbb33650>),\n",
       " ('AT2A2_MOUSE', <suffix_tree.util.Path at 0x7f87dbc0ed50>),\n",
       " ('TTC8_MOUSE', <suffix_tree.util.Path at 0x7f87dac97b90>),\n",
       " ('CEA15_MOUSE', <suffix_tree.util.Path at 0x7f87dadabc50>),\n",
       " ('AGAL_MOUSE', <suffix_tree.util.Path at 0x7f87db5d1d50>),\n",
       " ('AGAL_MOUSE', <suffix_tree.util.Path at 0x7f87db631c90>),\n",
       " ('CLCN2_MOUSE', <suffix_tree.util.Path at 0x7f87db970610>),\n",
       " ('AIG1_MOUSE', <suffix_tree.util.Path at 0x7f87dc425050>),\n",
       " ('AOXB_MOUSE', <suffix_tree.util.Path at 0x7f87dc7e2590>),\n",
       " ('AT2A3_MOUSE', <suffix_tree.util.Path at 0x7f87dbb3b290>),\n",
       " ('CDK1_MOUSE', <suffix_tree.util.Path at 0x7f87dc02a7d0>),\n",
       " ('CDK6_MOUSE', <suffix_tree.util.Path at 0x7f87dc2d7cd0>),\n",
       " ('CSKP_MOUSE', <suffix_tree.util.Path at 0x7f87dc33d350>),\n",
       " ('CLMN_MOUSE', <suffix_tree.util.Path at 0x7f87dc9b2b10>)]"
      ]
     },
     "execution_count": 116,
     "metadata": {},
     "output_type": "execute_result"
    }
   ],
   "source": [
    "db.tree.find_all('MAL')"
   ]
  },
  {
   "cell_type": "code",
   "execution_count": null,
   "metadata": {},
   "outputs": [],
   "source": []
  }
 ],
 "metadata": {
  "kernelspec": {
   "display_name": "Python 3",
   "language": "python",
   "name": "python3"
  },
  "language_info": {
   "codemirror_mode": {
    "name": "ipython",
    "version": 3
   },
   "file_extension": ".py",
   "mimetype": "text/x-python",
   "name": "python",
   "nbconvert_exporter": "python",
   "pygments_lexer": "ipython3",
   "version": "3.7.4"
  }
 },
 "nbformat": 4,
 "nbformat_minor": 4
}

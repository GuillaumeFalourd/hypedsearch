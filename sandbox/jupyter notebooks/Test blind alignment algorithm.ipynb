{
 "cells": [
  {
   "cell_type": "markdown",
   "metadata": {},
   "source": [
    "# Test alignment algorithm\n",
    "Take the top results and make an alignment from it\n",
    "\n",
    "1. Make some fake data\n",
    "2. Run it through the scoring and search part and get the results\n",
    "3. align them\n",
    "\n",
    "## 1. Make fake data"
   ]
  },
  {
   "cell_type": "code",
   "execution_count": 1,
   "metadata": {},
   "outputs": [],
   "source": [
    "import os\n",
    "import sys\n",
    "module_path = os.path.abspath(os.path.join('..'))\n",
    "if module_path not in sys.path:\n",
    "    sys.path.append(module_path)\n",
    "module_path = os.path.abspath(os.path.join('../..'))\n",
    "if module_path not in sys.path:\n",
    "    sys.path.append(module_path)\n",
    "    \n",
    "prot1seq = 'MALWARSMVTQYP'\n",
    "prot1name = 'prot1'\n",
    "prot2seq = 'LLQVYAMEMS'\n",
    "prot2name = 'prot2'\n",
    "\n",
    "hybpep = 'LLQVYSMVTQ'\n",
    "nonhybpep1 = 'MALWAR'\n",
    "nonhybpep2 = 'AMEMS'"
   ]
  },
  {
   "cell_type": "markdown",
   "metadata": {},
   "source": [
    "### 1.1 make spectra from these"
   ]
  },
  {
   "cell_type": "code",
   "execution_count": 2,
   "metadata": {},
   "outputs": [],
   "source": [
    "from src.spectra.gen_spectra import gen_spectrum\n",
    "\n",
    "hybpepspec = gen_spectrum(hybpep)\n",
    "nonhybpep1spec = gen_spectrum(nonhybpep1)\n",
    "nonhybpep2spec = gen_spectrum(nonhybpep2)"
   ]
  },
  {
   "cell_type": "markdown",
   "metadata": {},
   "source": [
    "## 2. Run the data through the search"
   ]
  },
  {
   "cell_type": "code",
   "execution_count": 3,
   "metadata": {},
   "outputs": [
    {
     "name": "stdout",
     "output_type": "stream",
     "text": [
      "24 unique kmers\n"
     ]
    }
   ],
   "source": [
    "from src.database.database import Database\n",
    "\n",
    "db = Database()\n",
    "db.add_entry(prot1name, prot1seq)\n",
    "db.add_entry(prot2name, prot2seq)\n",
    "db.index()"
   ]
  },
  {
   "cell_type": "code",
   "execution_count": 4,
   "metadata": {},
   "outputs": [],
   "source": [
    "from src.alignment.search import search_database\n",
    "\n",
    "hybresb, hybresy = search_database(hybpepspec, db)\n",
    "nonhyb1resb, nonhyb1resy = search_database(nonhybpep1spec, db)\n",
    "nonhyb2resb, nonhyb2resy = search_database(nonhybpep2spec, db)"
   ]
  },
  {
   "cell_type": "markdown",
   "metadata": {},
   "source": [
    "## 3. Make alignment"
   ]
  },
  {
   "cell_type": "code",
   "execution_count": 32,
   "metadata": {},
   "outputs": [],
   "source": [
    "from src.scoring.scoring import score_subsequence\n",
    "import copy\n",
    "\n",
    "def align_overlap(b_entry: dict, y_entry: dict) -> list:\n",
    "    # if there's a gap, fill it with X's for now\n",
    "    gap_len = y_entry['starting_position'] - b_entry['ending_position']\n",
    "    if gap_len > 0:\n",
    "        return b_entry['sequence'] + ['X' for _ in range(gap_len)] + y_entry['sequence']\n",
    "    # check to see if either fully encompasses the other\n",
    "    if b_entry['starting_position'] <= y_entry['starting_position'] and b_entry['ending_position'] >= y_entry['ending_position']:\n",
    "        return b_entry['sequence']\n",
    "    elif y_entry['starting_position'] <= b_entry['starting_position'] and y_entry['ending_position'] >= b_entry['ending_position']:\n",
    "        return y_entry['sequence']\n",
    "    # align the overlap\n",
    "    else:\n",
    "        for i in range(len(b_entry['sequence'])):\n",
    "            if b_entry['sequence'][i:] in y_entry['sequence']:\n",
    "                overlapped_seq = b_entry['sequence'][i:]\n",
    "                b_cont = b_entry['sequence'][:i]\n",
    "                y_cont = y_entry['sequence'][len(overlapped_seq):]\n",
    "                return b_cont + overlapped_seq + y_cont\n",
    "\n",
    "def make_alignment(spectrum: list, b_entry: dict, y_entry: dict, actual_sequence='', missing_overlap=5) -> dict:\n",
    "    if b_entry['protein_name'] == y_entry['protein_name'] and y_entry['starting_position'] - b_entry['ending_position'] < missing_overlap:\n",
    "        spliced_name = b_entry['protein_name']\n",
    "    else:\n",
    "        spliced_name = '{}-{}-hybrid'.format(b_entry['protein_name'], y_entry['protein_name'])\n",
    "    if 'hybrid' not in spliced_name:\n",
    "        # find the overlap\n",
    "        spliced_seq = align_overlap(b_entry, y_entry)\n",
    "    else:\n",
    "        spliced_seq = b_entry['sequence'] + y_entry['sequence']\n",
    "    bscore, yscore = score_subsequence(spectrum, spliced_seq)\n",
    "    hybrid = 'hybrid' in spliced_name\n",
    "    print('predicted sequence: {} \\t b score: {} \\t y score: {} \\t actual sequence: {}'.format(spliced_seq, bscore, yscore, actual_sequence))\n",
    "    return {\n",
    "        'sequence': spliced_seq,\n",
    "        'name': spliced_name,\n",
    "        'score': bscore+yscore,\n",
    "        'hybrid': hybrid,\n",
    "        'junction_sequence': spliced_seq if not hybrid else b_entry['sequence'] + '-' + y_entry['sequence']\n",
    "    }\n",
    "        "
   ]
  },
  {
   "cell_type": "code",
   "execution_count": 33,
   "metadata": {},
   "outputs": [
    {
     "name": "stdout",
     "output_type": "stream",
     "text": [
      "predicted sequence: LLQVYSMVTQ \t b score: 1.0 \t y score: 1.0 \t actual sequence: LLQVYSMVTQ\n",
      "predicted sequence: LWALLQ \t b score: 0.1 \t y score: 0.075 \t actual sequence: LLQVYSMVTQ\n",
      "predicted sequence: MALWAR \t b score: 1.0 \t y score: 1.0 \t actual sequence: MALWAR\n",
      "predicted sequence: AMEMS \t b score: 1.0 \t y score: 1.0 \t actual sequence: AMEMS\n",
      "predicted sequence: ALWMS \t b score: 0.2 \t y score: 0.35 \t actual sequence: AMEMS\n",
      "predicted sequence: ARS \t b score: 0.2 \t y score: 0.2 \t actual sequence: AMEMS\n"
     ]
    }
   ],
   "source": [
    "hybalignments = [make_alignment(hybpepspec['spectrum'], hybresb[i], hybresy[i], hybpep) for i in range(min(len(hybresb), len(hybresy)))]\n",
    "nonhyb1alignments = [make_alignment(nonhybpep1spec['spectrum'], nonhyb1resb[i], nonhyb1resy[i], nonhybpep1) for i in range(min(len(nonhyb1resb), len(nonhyb1resy)))]\n",
    "nonhyb2alignments = [make_alignment(nonhybpep2spec['spectrum'], nonhyb2resb[i], nonhyb2resy[i], nonhybpep2) for i in range(min(len(nonhyb2resb), len(nonhyb2resy)))]\n"
   ]
  },
  {
   "cell_type": "code",
   "execution_count": 34,
   "metadata": {},
   "outputs": [
    {
     "name": "stdout",
     "output_type": "stream",
     "text": [
      "[{'sequence': 'LLQVYSMVTQ', 'name': 'prot2-prot1-hybrid', 'score': 2.0, 'hybrid': True, 'junction_sequence': 'LLQVY-SMVTQ'}, {'sequence': 'LWALLQ', 'name': 'prot1-prot2-hybrid', 'score': 0.175, 'hybrid': True, 'junction_sequence': 'LWA-LLQ'}]\n"
     ]
    }
   ],
   "source": [
    "print(hybalignments)"
   ]
  },
  {
   "cell_type": "code",
   "execution_count": 11,
   "metadata": {},
   "outputs": [
    {
     "name": "stdout",
     "output_type": "stream",
     "text": [
      "{0: {'k': 5, 'sequence': 'LLQVY', 'starting_position': 0, 'ending_position': 4, 'b_score': 0.5, 'y_score': 0.0, 'protein_name': 'prot2'}, 1: {'b_score': 0.1, 'y_score': 0.0, 'k': 3, 'sequence': 'LWA', 'starting_position': 2, 'ending_position': 4, 'protein_name': 'prot1'}}\n"
     ]
    }
   ],
   "source": [
    "print(hybresb)"
   ]
  },
  {
   "cell_type": "code",
   "execution_count": 12,
   "metadata": {},
   "outputs": [
    {
     "name": "stdout",
     "output_type": "stream",
     "text": [
      "{0: {'k': 5, 'sequence': 'SMVTQ', 'starting_position': 6, 'ending_position': 10, 'b_score': 0.0, 'y_score': 0.5, 'protein_name': 'prot1'}, 1: {'b_score': 0.3, 'y_score': 0.075, 'k': 3, 'sequence': 'LLQ', 'starting_position': 0, 'ending_position': 2, 'protein_name': 'prot2'}}\n"
     ]
    }
   ],
   "source": [
    "print(hybresy)"
   ]
  },
  {
   "cell_type": "code",
   "execution_count": 26,
   "metadata": {},
   "outputs": [
    {
     "name": "stdout",
     "output_type": "stream",
     "text": [
      "(0.0, 0.0)\n"
     ]
    }
   ],
   "source": [
    "print(score_subsequence(hybpepspec, 'LLQVY'))"
   ]
  },
  {
   "cell_type": "code",
   "execution_count": null,
   "metadata": {},
   "outputs": [],
   "source": []
  }
 ],
 "metadata": {
  "kernelspec": {
   "display_name": "Python 3",
   "language": "python",
   "name": "python3"
  },
  "language_info": {
   "codemirror_mode": {
    "name": "ipython",
    "version": 3
   },
   "file_extension": ".py",
   "mimetype": "text/x-python",
   "name": "python",
   "nbconvert_exporter": "python",
   "pygments_lexer": "ipython3",
   "version": "3.7.4"
  }
 },
 "nbformat": 4,
 "nbformat_minor": 4
}

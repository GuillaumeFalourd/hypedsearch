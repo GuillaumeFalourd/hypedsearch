{
 "cells": [
  {
   "cell_type": "markdown",
   "metadata": {},
   "source": [
    "# Issue with missing ion peaks\n",
    "For spectra with missing ions, we still want to be able to sequence them. With non-hybrid sequences, this really isn't that much of a problem, as hopefully the b ions make up for some of the missing y ions and vice versa. However, especially in the case of unbalanced ions. The picture kind of shows the issue\n",
    "\n",
    "![](../unbalancedIons.png)\n",
    "\n",
    "In this case, there are enough b-ions to describe the left k-mer but not enough y-ions to describe the right k-mer. What we need to do is try new extensions after getting top scoring k-mers to try and describe the b-ions found all the way on the right"
   ]
  },
  {
   "cell_type": "code",
   "execution_count": null,
   "metadata": {},
   "outputs": [],
   "source": []
  }
 ],
 "metadata": {
  "kernelspec": {
   "display_name": "Python 3",
   "language": "python",
   "name": "python3"
  },
  "language_info": {
   "codemirror_mode": {
    "name": "ipython",
    "version": 3
   },
   "file_extension": ".py",
   "mimetype": "text/x-python",
   "name": "python",
   "nbconvert_exporter": "python",
   "pygments_lexer": "ipython3",
   "version": "3.7.4"
  }
 },
 "nbformat": 4,
 "nbformat_minor": 4
}

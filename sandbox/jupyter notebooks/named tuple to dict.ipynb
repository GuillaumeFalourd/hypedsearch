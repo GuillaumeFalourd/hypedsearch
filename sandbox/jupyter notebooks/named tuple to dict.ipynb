{
 "cells": [
  {
   "cell_type": "markdown",
   "metadata": {},
   "source": [
    "# turn nested namedtuples to dict for json storage"
   ]
  },
  {
   "cell_type": "code",
   "execution_count": 1,
   "metadata": {},
   "outputs": [],
   "source": [
    "from collections import namedtuple\n",
    "\n",
    "\n",
    "Spectrum = namedtuple(\n",
    "    'Spectrum', \n",
    "    ['spectrum', 'abundance', 'ms_level', 'scan_number', 'precursor_mass', 'file_name'],\n",
    "    defaults=[[], [], 0, -1, 0, '']\n",
    ")\n",
    "\n",
    "\n",
    "Kmer = namedtuple(\n",
    "    'Kmer', \n",
    "    ['k', 'sequence', 'protein', 'start_position', 'end_position'], \n",
    "    defaults=[[0, '', '', -1, -1]]\n",
    ")\n",
    "\n",
    "\n",
    "BasicScoredKmer = namedtuple(\n",
    "    'BasicScoredKmer', \n",
    "    ['b_score', 'y_score', 'kmer'],\n",
    "    defaults=[0, 0, '']\n",
    ")\n",
    "\n",
    "\n",
    "ScoredKmer = namedtuple(\n",
    "    'ScoredKmer', \n",
    "    ['b_score', 'y_score', 'kmer'],\n",
    "    defaults=[0, 0, Kmer(0, '', '', -1, -1)]\n",
    ")\n",
    "\n",
    "\n",
    "AlignedScoredKmers = namedtuple(\n",
    "    'AlignedScoreKmers',\n",
    "    ['b_alignment', 'y_alignment', 'spectrum', 'protein', 'alignment_score', 'sequence', 'hybrid', 'hybrid_sequence'],\n",
    "    defaults=[ScoredKmer(0, 0,  Kmer(0, '', '', -1, -1)), ScoredKmer(0, 0,  Kmer(0, '', '', -1, -1)), Spectrum([], [], 0, -1, 0, ''), '', 0, '', False, '']\n",
    ")"
   ]
  },
  {
   "cell_type": "code",
   "execution_count": 4,
   "metadata": {},
   "outputs": [
    {
     "name": "stdout",
     "output_type": "stream",
     "text": [
      "<class 'type'>\n",
      "<class 'function'>\n",
      "<class '__main__.BasicScoredKmer'>\n"
     ]
    }
   ],
   "source": [
    "print(type(AlignedScoredKmers))\n",
    "print(type(namedtuple))\n",
    "bsk = BasicScoredKmer(1, 2, 'abc')\n",
    "print(type(bsk))"
   ]
  },
  {
   "cell_type": "code",
   "execution_count": 15,
   "metadata": {},
   "outputs": [],
   "source": [
    "def __jsonify_namedtuple(tup: namedtuple) -> dict:\n",
    "        '''\n",
    "        Recursive method to make any nested namedtuple json friendly\n",
    "\n",
    "        Inputs:\n",
    "            tup:    (namedtuple) thing to be flattened\n",
    "        Outputs:\n",
    "            (dict) json friendly namedtuple\n",
    "        '''\n",
    "        td = dict(tup._asdict())\n",
    "        for key, value in td.items():\n",
    "            if any([x in str(type(value)) for x in ['ScoredKmer', 'Kmer', 'AlignedScoredKmers', 'Specturm']]):\n",
    "                td[key] = __jsonify_namedtuple(value)\n",
    "        return td"
   ]
  },
  {
   "cell_type": "code",
   "execution_count": 20,
   "metadata": {},
   "outputs": [
    {
     "ename": "NameError",
     "evalue": "name 'AlignedScoreKmers' is not defined",
     "output_type": "error",
     "traceback": [
      "\u001b[0;31m---------------------------------------------------------------------------\u001b[0m",
      "\u001b[0;31mNameError\u001b[0m                                 Traceback (most recent call last)",
      "\u001b[0;32m<ipython-input-20-ac78a5b0e2e7>\u001b[0m in \u001b[0;36m<module>\u001b[0;34m\u001b[0m\n\u001b[1;32m      4\u001b[0m \u001b[0msk1\u001b[0m \u001b[0;34m=\u001b[0m \u001b[0mScoredKmer\u001b[0m\u001b[0;34m(\u001b[0m\u001b[0;36m1\u001b[0m\u001b[0;34m,\u001b[0m \u001b[0;36m1\u001b[0m\u001b[0;34m,\u001b[0m \u001b[0mkmer1\u001b[0m\u001b[0;34m)\u001b[0m\u001b[0;34m\u001b[0m\u001b[0;34m\u001b[0m\u001b[0m\n\u001b[1;32m      5\u001b[0m \u001b[0msk2\u001b[0m \u001b[0;34m=\u001b[0m \u001b[0mScoredKmer\u001b[0m\u001b[0;34m(\u001b[0m\u001b[0;36m2\u001b[0m\u001b[0;34m,\u001b[0m \u001b[0;36m1.3\u001b[0m\u001b[0;34m,\u001b[0m \u001b[0mkmer2\u001b[0m\u001b[0;34m)\u001b[0m\u001b[0;34m\u001b[0m\u001b[0;34m\u001b[0m\u001b[0m\n\u001b[0;32m----> 6\u001b[0;31m \u001b[0mask\u001b[0m \u001b[0;34m=\u001b[0m \u001b[0mAlignedScoreKmers\u001b[0m\u001b[0;34m(\u001b[0m\u001b[0msk1\u001b[0m\u001b[0;34m,\u001b[0m \u001b[0msk2\u001b[0m\u001b[0;34m,\u001b[0m \u001b[0mspec\u001b[0m\u001b[0;34m,\u001b[0m \u001b[0;34m'prot1-prot2-hybrid'\u001b[0m\u001b[0;34m,\u001b[0m \u001b[0;36m4\u001b[0m\u001b[0;34m,\u001b[0m \u001b[0;34m'abcdefgh'\u001b[0m\u001b[0;34m,\u001b[0m \u001b[0;32mTrue\u001b[0m\u001b[0;34m,\u001b[0m \u001b[0;34m'abc-defgh'\u001b[0m\u001b[0;34m)\u001b[0m\u001b[0;34m\u001b[0m\u001b[0;34m\u001b[0m\u001b[0m\n\u001b[0m",
      "\u001b[0;31mNameError\u001b[0m: name 'AlignedScoreKmers' is not defined"
     ]
    }
   ],
   "source": [
    "spec = Spectrum([1, 2, 3], [0.1, 0.2, 0.3], 2, 1, 3, 'file.mzML')\n",
    "kmer1 = Kmer(3, 'abc', 'prot1', 2, 4)\n",
    "kmer2 = Kmer(5, 'defgh', 'prot2', 5, 9)\n",
    "sk1 = ScoredKmer(1, 1, kmer1)\n",
    "sk2 = ScoredKmer(2, 1.3, kmer2)\n",
    "ask = AlignedScoredKmers(sk1, sk2, spec, 'prot1-prot2-hybrid', 4, 'abcdefgh', True, 'abc-defgh')"
   ]
  },
  {
   "cell_type": "code",
   "execution_count": 12,
   "metadata": {},
   "outputs": [
    {
     "name": "stdout",
     "output_type": "stream",
     "text": [
      "{'spectrum': [1, 2, 3], 'abundance': [0.1, 0.2, 0.3], 'ms_level': 2, 'scan_number': 1, 'precursor_mass': 3, 'file_name': 'file.mzML'}\n"
     ]
    }
   ],
   "source": [
    "print(__jsonify_namedtuple(spec))"
   ]
  },
  {
   "cell_type": "code",
   "execution_count": 13,
   "metadata": {},
   "outputs": [
    {
     "name": "stdout",
     "output_type": "stream",
     "text": [
      "{'k': 3, 'sequence': 'abc', 'protein': 'prot1', 'start_position': 2, 'end_position': 4}\n"
     ]
    }
   ],
   "source": [
    "print(__jsonify_namedtuple(kmer1))"
   ]
  },
  {
   "cell_type": "code",
   "execution_count": 16,
   "metadata": {},
   "outputs": [
    {
     "name": "stdout",
     "output_type": "stream",
     "text": [
      "{'b_score': 1, 'y_score': 1, 'kmer': {'k': 3, 'sequence': 'abc', 'protein': 'prot1', 'start_position': 2, 'end_position': 4}}\n"
     ]
    }
   ],
   "source": [
    "print(__jsonify_namedtuple(sk1))"
   ]
  },
  {
   "cell_type": "code",
   "execution_count": 19,
   "metadata": {},
   "outputs": [
    {
     "ename": "AttributeError",
     "evalue": "'tuple' object has no attribute '_asdict'",
     "output_type": "error",
     "traceback": [
      "\u001b[0;31m---------------------------------------------------------------------------\u001b[0m",
      "\u001b[0;31mAttributeError\u001b[0m                            Traceback (most recent call last)",
      "\u001b[0;32m<ipython-input-19-18e253a8c5c6>\u001b[0m in \u001b[0;36m<module>\u001b[0;34m\u001b[0m\n\u001b[0;32m----> 1\u001b[0;31m \u001b[0mprint\u001b[0m\u001b[0;34m(\u001b[0m\u001b[0m__jsonify_namedtuple\u001b[0m\u001b[0;34m(\u001b[0m\u001b[0mask\u001b[0m\u001b[0;34m)\u001b[0m\u001b[0;34m)\u001b[0m\u001b[0;34m\u001b[0m\u001b[0;34m\u001b[0m\u001b[0m\n\u001b[0m",
      "\u001b[0;32m<ipython-input-15-7792c7c77ae5>\u001b[0m in \u001b[0;36m__jsonify_namedtuple\u001b[0;34m(tup)\u001b[0m\n\u001b[1;32m      8\u001b[0m             \u001b[0;34m(\u001b[0m\u001b[0mdict\u001b[0m\u001b[0;34m)\u001b[0m \u001b[0mjson\u001b[0m \u001b[0mfriendly\u001b[0m \u001b[0mnamedtuple\u001b[0m\u001b[0;34m\u001b[0m\u001b[0;34m\u001b[0m\u001b[0m\n\u001b[1;32m      9\u001b[0m         '''\n\u001b[0;32m---> 10\u001b[0;31m         \u001b[0mtd\u001b[0m \u001b[0;34m=\u001b[0m \u001b[0mdict\u001b[0m\u001b[0;34m(\u001b[0m\u001b[0mtup\u001b[0m\u001b[0;34m.\u001b[0m\u001b[0m_asdict\u001b[0m\u001b[0;34m(\u001b[0m\u001b[0;34m)\u001b[0m\u001b[0;34m)\u001b[0m\u001b[0;34m\u001b[0m\u001b[0;34m\u001b[0m\u001b[0m\n\u001b[0m\u001b[1;32m     11\u001b[0m         \u001b[0;32mfor\u001b[0m \u001b[0mkey\u001b[0m\u001b[0;34m,\u001b[0m \u001b[0mvalue\u001b[0m \u001b[0;32min\u001b[0m \u001b[0mtd\u001b[0m\u001b[0;34m.\u001b[0m\u001b[0mitems\u001b[0m\u001b[0;34m(\u001b[0m\u001b[0;34m)\u001b[0m\u001b[0;34m:\u001b[0m\u001b[0;34m\u001b[0m\u001b[0;34m\u001b[0m\u001b[0m\n\u001b[1;32m     12\u001b[0m             \u001b[0;32mif\u001b[0m \u001b[0many\u001b[0m\u001b[0;34m(\u001b[0m\u001b[0;34m[\u001b[0m\u001b[0mx\u001b[0m \u001b[0;32min\u001b[0m \u001b[0mstr\u001b[0m\u001b[0;34m(\u001b[0m\u001b[0mtype\u001b[0m\u001b[0;34m(\u001b[0m\u001b[0mvalue\u001b[0m\u001b[0;34m)\u001b[0m\u001b[0;34m)\u001b[0m \u001b[0;32mfor\u001b[0m \u001b[0mx\u001b[0m \u001b[0;32min\u001b[0m \u001b[0;34m[\u001b[0m\u001b[0;34m'ScoredKmer'\u001b[0m\u001b[0;34m,\u001b[0m \u001b[0;34m'Kmer'\u001b[0m\u001b[0;34m,\u001b[0m \u001b[0;34m'AlignedScoredKmers'\u001b[0m\u001b[0;34m,\u001b[0m \u001b[0;34m'Specturm'\u001b[0m\u001b[0;34m]\u001b[0m\u001b[0;34m]\u001b[0m\u001b[0;34m)\u001b[0m\u001b[0;34m:\u001b[0m\u001b[0;34m\u001b[0m\u001b[0;34m\u001b[0m\u001b[0m\n",
      "\u001b[0;31mAttributeError\u001b[0m: 'tuple' object has no attribute '_asdict'"
     ]
    }
   ],
   "source": [
    "print(__jsonify_namedtuple(ask))"
   ]
  },
  {
   "cell_type": "code",
   "execution_count": null,
   "metadata": {},
   "outputs": [],
   "source": []
  }
 ],
 "metadata": {
  "kernelspec": {
   "display_name": "Python 3",
   "language": "python",
   "name": "python3"
  },
  "language_info": {
   "codemirror_mode": {
    "name": "ipython",
    "version": 3
   },
   "file_extension": ".py",
   "mimetype": "text/x-python",
   "name": "python",
   "nbconvert_exporter": "python",
   "pygments_lexer": "ipython3",
   "version": "3.7.4"
  }
 },
 "nbformat": 4,
 "nbformat_minor": 4
}
